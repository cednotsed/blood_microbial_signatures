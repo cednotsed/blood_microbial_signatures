{
 "cells": [
  {
   "cell_type": "markdown",
   "id": "fe3f3f5c",
   "metadata": {},
   "source": [
    "# Identication of putative contaminant taxa"
   ]
  },
  {
   "cell_type": "code",
   "execution_count": 1,
   "id": "440f3650",
   "metadata": {
    "scrolled": true
   },
   "outputs": [
    {
     "name": "stderr",
     "output_type": "stream",
     "text": [
      "Loading required package: foreach\n",
      "\n",
      "Loading required package: tidyverse\n",
      "\n",
      "Warning message in system(\"timedatectl\", intern = TRUE):\n",
      "“running command 'timedatectl' had status 1”\n",
      "── \u001b[1mAttaching packages\u001b[22m ─────────────────────────────────────────────────────────────────────────────────────────────────────────────────────────────────── tidyverse 1.3.1 ──\n",
      "\n",
      "\u001b[32m✔\u001b[39m \u001b[34mggplot2\u001b[39m 3.3.5     \u001b[32m✔\u001b[39m \u001b[34mpurrr  \u001b[39m 0.3.4\n",
      "\u001b[32m✔\u001b[39m \u001b[34mtibble \u001b[39m 3.1.6     \u001b[32m✔\u001b[39m \u001b[34mdplyr  \u001b[39m 1.0.7\n",
      "\u001b[32m✔\u001b[39m \u001b[34mtidyr  \u001b[39m 1.1.4     \u001b[32m✔\u001b[39m \u001b[34mstringr\u001b[39m 1.4.0\n",
      "\u001b[32m✔\u001b[39m \u001b[34mreadr  \u001b[39m 2.1.0     \u001b[32m✔\u001b[39m \u001b[34mforcats\u001b[39m 0.5.1\n",
      "\n",
      "── \u001b[1mConflicts\u001b[22m ────────────────────────────────────────────────────────────────────────────────────────────────────────────────────────────────────── tidyverse_conflicts() ──\n",
      "\u001b[31m✖\u001b[39m \u001b[34mpurrr\u001b[39m::\u001b[32maccumulate()\u001b[39m masks \u001b[34mforeach\u001b[39m::accumulate()\n",
      "\u001b[31m✖\u001b[39m \u001b[34mdplyr\u001b[39m::\u001b[32mfilter()\u001b[39m     masks \u001b[34mstats\u001b[39m::filter()\n",
      "\u001b[31m✖\u001b[39m \u001b[34mdplyr\u001b[39m::\u001b[32mlag()\u001b[39m        masks \u001b[34mstats\u001b[39m::lag()\n",
      "\u001b[31m✖\u001b[39m \u001b[34mpurrr\u001b[39m::\u001b[32mwhen()\u001b[39m       masks \u001b[34mforeach\u001b[39m::when()\n",
      "\n",
      "Loading required package: data.table\n",
      "\n",
      "\n",
      "Attaching package: ‘data.table’\n",
      "\n",
      "\n",
      "The following objects are masked from ‘package:dplyr’:\n",
      "\n",
      "    between, first, last\n",
      "\n",
      "\n",
      "The following object is masked from ‘package:purrr’:\n",
      "\n",
      "    transpose\n",
      "\n",
      "\n",
      "Loading required package: compositions\n",
      "\n",
      "Welcome to compositions, a package for compositional data analysis.\n",
      "Find an intro with \"? compositions\"\n",
      "\n",
      "\n",
      "\n",
      "Attaching package: ‘compositions’\n",
      "\n",
      "\n",
      "The following objects are masked from ‘package:stats’:\n",
      "\n",
      "    anova, cor, cov, dist, var\n",
      "\n",
      "\n",
      "The following objects are masked from ‘package:base’:\n",
      "\n",
      "    %*%, norm, scale, scale.default\n",
      "\n",
      "\n",
      "Loading required package: doParallel\n",
      "\n",
      "Loading required package: iterators\n",
      "\n",
      "Loading required package: parallel\n",
      "\n",
      "Loading required package: VennDiagram\n",
      "\n",
      "Loading required package: grid\n",
      "\n",
      "Loading required package: futile.logger\n",
      "\n"
     ]
    }
   ],
   "source": [
    "setwd(\"/mnt/c/Users/Cedric/Desktop/git_repos/blood_microbiome\")\n",
    "require(foreach)\n",
    "require(tidyverse)\n",
    "require(ggplot2)\n",
    "require(data.table)\n",
    "require(compositions)\n",
    "require(doParallel)\n",
    "require(VennDiagram)\n",
    "# registerDoParallel(cores=8)"
   ]
  },
  {
   "cell_type": "markdown",
   "id": "215972d1",
   "metadata": {},
   "source": [
    "### Data pre-processing functions"
   ]
  },
  {
   "cell_type": "code",
   "execution_count": 2,
   "id": "4b5109a4",
   "metadata": {
    "scrolled": true
   },
   "outputs": [],
   "source": [
    "load_data <- function(file_path) {\n",
    "    dat <- as.data.frame(fread(file_path)) %>%\n",
    "        separate(sample, into = c(NA, \"npm_research_id\"), sep = \"\\\\.\")\n",
    "    return(dat)\n",
    "}\n",
    "\n",
    "\n",
    "load_metadata <- function(file_path, dat) {\n",
    "    meta <- fread(file_path, na.strings=c(\"\", NA))\n",
    "    meta <- meta %>% \n",
    "        filter(npm_research_id %in% dat$npm_research_id) %>%\n",
    "        select(-removal_requested_by_supplier) %>%\n",
    "        replace(is.na(.), \"unknown\")\n",
    "    return(meta)\n",
    "}\n",
    "\n",
    "\n",
    "subset_metadata <- function(meta, n_subset) {\n",
    "    meta <- as.data.frame(meta)\n",
    "    cohorts <- unique(meta$site_supplying_sample)\n",
    "    subset_vec <- c()\n",
    "\n",
    "    for (i in cohorts) {\n",
    "        ids <- meta$npm_research_id[meta$site_supplying_sample == i]\n",
    "        \n",
    "        if (length(ids) > n_subset) {\n",
    "            subset_ids <- sample(ids, n_subset)\n",
    "            subset_vec <- c(subset_vec, subset_ids)\n",
    "        } else {\n",
    "            subset_vec <- c(subset_vec, ids)\n",
    "        }\n",
    "    }\n",
    "\n",
    "    meta_sub <- meta %>%\n",
    "      filter(npm_research_id %in% subset_vec) \n",
    "    return(meta_sub)\n",
    "}\n",
    "\n",
    "\n",
    "retrieve_rows_from_meta <- function(dat, meta) {\n",
    "    return(dat %>% filter(npm_research_id %in% meta$npm_research_id)) \n",
    "}\n",
    "\n",
    "\n",
    "remove_cols <- function(dat, col_to_exclude) {\n",
    "    return(dat %>% select(-all_of(col_to_exclude)))\n",
    "}\n",
    "\n",
    "\n",
    "remove_low_prev_taxa <- function(dat, frac_presence, read_threshold) {\n",
    "    n_original <- ncol(dat[, colnames(dat) != \"npm_research_id\"])\n",
    "    PA_df <- apply(dat[, 2:ncol(dat)], 2, function(x) {ifelse(x > read_threshold, T, F)})\n",
    "    frac_df <- apply(PA_df, 2, function(x) {sum(x) / nrow(PA_df)})\n",
    "    to_keep <- names(frac_df[frac_df > frac_presence])\n",
    "    to_keep <- c(\"npm_research_id\", to_keep)\n",
    "    n_new <- length(to_keep) - 1\n",
    "    print(str_glue(\"{n_new} / {n_original} taxa are present in {frac_presence} of samples\"))\n",
    "    return(dat %>% select(all_of(to_keep)))\n",
    "}\n",
    "\n",
    "\n",
    "otu_to_RA <- function(dat) {\n",
    "    mat <- as.matrix(dat[, colnames(dat) != \"npm_research_id\"])\n",
    "    RA_df <- as.data.frame(mat / rowSums(mat))\n",
    "    RA_df <- add_column(RA_df, dat$npm_research_id, .before = 1)\n",
    "    colnames(RA_df)[1] <- \"npm_research_id\"\n",
    "    \n",
    "    return(RA_df)\n",
    "}\n",
    "\n",
    "\n",
    "RA_to_clr <- function(dat) {\n",
    "    mat <- dat[, colnames(dat) != \"npm_research_id\"]\n",
    "    clr_df <- clr(mat)\n",
    "    return(cbind(data.frame(npm_research_id = dat$npm_research_id), as.data.frame(clr_df, check.names = F)))\n",
    "}\n",
    "\n",
    "\n",
    "get_metadata_plots <- function(meta, meta_cols) {\n",
    "    meta <- as.matrix(meta)\n",
    "    meta <- as_tibble(meta, rownames = \"sample\")\n",
    "\n",
    "    plots <- list()\n",
    "    \n",
    "    for (column in meta_cols) {\n",
    "        plt <- meta %>%\n",
    "            mutate(across(everything(), as.character)) %>%\n",
    "            select(all_of(column)) %>%\n",
    "            group_by_at(column) %>%\n",
    "            summarise(n = n()) %>%\n",
    "            ggplot(aes_string(x = column, y = \"n\", fill = column)) +\n",
    "                geom_bar(stat = \"identity\") +\n",
    "                theme(axis.text.x = element_text(angle = 45, hjust = 1)) +\n",
    "                geom_text(aes_string(label = \"n\"))\n",
    "        plots[[column]] <- plt\n",
    "    }\n",
    "    \n",
    "    return(plots)\n",
    "}\n",
    "\n",
    "\n",
    "get_meta_cols <- function(meta) {\n",
    "    meta_cols <- colnames(meta)[grep(\"kit|flow_cell|instrument_id|site_supplying\", colnames(meta))]\n",
    "    to_exclude <- c(\"library_prep_kit\", \"hiseq_xtm_flow_cell_v2_5_id\")\n",
    "    meta_cols <- meta_cols[!(meta_cols %in% to_exclude)]\n",
    "    return(meta_cols)\n",
    "}\n",
    "\n",
    "\n",
    "print_group_freqs <- function(meta, meta_cols) {\n",
    "    for (col in meta_cols) {\n",
    "        tmp <- tibble(data.frame(meta)) %>%\n",
    "            group_by(get(col)) %>%\n",
    "            summarise(n = n())\n",
    "        print(col)\n",
    "        print(tmp)\n",
    "    }\n",
    "}\n",
    "\n",
    "\n",
    "get_batch_prevalence <- function(x) {sum(x) / length(x)}\n",
    "\n",
    "\n",
    "remove_low_sample_levels <- function(dat, metadat, column, min_samples) {\n",
    "    # Remove levels with < x samples\n",
    "    tmp <- tibble(data.frame(metadat)) %>%\n",
    "            group_by(get(column)) %>%\n",
    "            summarise(n = n())\n",
    "\n",
    "    # Vector of group levels to keep\n",
    "    to_keep <- tmp[tmp$n >= min_samples, \"get(column)\"]$`get(column)`\n",
    "    to_keep <- to_keep[to_keep != \"Unknown\"]\n",
    "    n_levels <- length(to_keep)\n",
    "\n",
    "    if (n_levels < 2) {\n",
    "        print(str_glue(\"After pruning, {column} has < 2 levels\"))\n",
    "    } else {\n",
    "        print(str_glue(\"After pruning, {column} has {n_levels} levels\"))\n",
    "    }\n",
    "\n",
    "    # Remove rows in metadata\n",
    "    metadat_filt <- metadat %>% filter(get(column) %in% to_keep)\n",
    "\n",
    "    # Retrieve rows\n",
    "    dat_filt <- retrieve_rows_from_meta(dat, metadat_filt)\n",
    "    metadat_filt <- metadat_filt %>% filter(npm_research_id %in% dat_filt$npm_research_id)\n",
    "\n",
    "    return(list(dat_filt = dat_filt, metadat_filt = metadat_filt))\n",
    "}\n",
    "\n",
    "\n",
    "remove_empty_rows <- function(dat) {\n",
    "    mat <- as.matrix(dat[, colnames(dat) != \"npm_research_id\"])\n",
    "    row_sums <- rowSums(mat)\n",
    "    df_filt <- dat[row_sums != 0, ]\n",
    "    nrow(df_filt)\n",
    "\n",
    "    n_original <- nrow(dat)\n",
    "    n_removed <- n_original - nrow(df_filt)\n",
    "    \n",
    "    print(str_glue(\"{n_removed}/{n_original} samples removed due to having no reads of interest\"))\n",
    "    \n",
    "    return(df_filt)\n",
    "}\n",
    "\n",
    "\n",
    "load_metadata <- function(file_path, dat) {\n",
    "    meta <- fread(file_path, na.strings=c(\"\", NA))\n",
    "    meta <- meta %>% \n",
    "        filter(npm_research_id %in% dat$npm_research_id) %>%\n",
    "        select(-removal_requested_by_supplier) %>%\n",
    "        replace(is.na(.), \"unknown\")\n",
    "    return(meta)\n",
    "}"
   ]
  },
  {
   "cell_type": "markdown",
   "id": "5a2662ae",
   "metadata": {},
   "source": [
    "#### Params"
   ]
  },
  {
   "cell_type": "code",
   "execution_count": 3,
   "id": "1cc062e6",
   "metadata": {},
   "outputs": [],
   "source": [
    "human <- \"Homo sapiens\"\n",
    "rank <- \"S\"\n",
    "max_prev_t <- 0.25\n",
    "fold_diff_t <- 2"
   ]
  },
  {
   "cell_type": "markdown",
   "id": "33dff39c",
   "metadata": {},
   "source": [
    "#### Load and parse data"
   ]
  },
  {
   "cell_type": "code",
   "execution_count": 4,
   "id": "6fd9cdfa",
   "metadata": {
    "scrolled": true
   },
   "outputs": [
    {
     "data": {
      "text/html": [
       "TRUE"
      ],
      "text/latex": [
       "TRUE"
      ],
      "text/markdown": [
       "TRUE"
      ],
      "text/plain": [
       "[1] TRUE"
      ]
     },
     "metadata": {},
     "output_type": "display_data"
    },
    {
     "data": {
      "text/html": [
       "<style>\n",
       ".list-inline {list-style: none; margin:0; padding: 0}\n",
       ".list-inline>li {display: inline-block}\n",
       ".list-inline>li:not(:last-child)::after {content: \"\\00b7\"; padding: 0 .5ex}\n",
       "</style>\n",
       "<ol class=list-inline><li>8828</li><li>7115</li></ol>\n"
      ],
      "text/latex": [
       "\\begin{enumerate*}\n",
       "\\item 8828\n",
       "\\item 7115\n",
       "\\end{enumerate*}\n"
      ],
      "text/markdown": [
       "1. 8828\n",
       "2. 7115\n",
       "\n",
       "\n"
      ],
      "text/plain": [
       "[1] 8828 7115"
      ]
     },
     "metadata": {},
     "output_type": "display_data"
    }
   ],
   "source": [
    "to_retain <- fread(\"data/samples_above_100_microbial_reads.txt\")$npm_research_id\n",
    "\n",
    "prev_df <- fread(\"results/decontamination/prevalence_RA0.001_read0.csv\")\n",
    "\n",
    "species_df <- load_data(str_glue(\"data/taxonomic_profiles/07_abundance_matrix/abundance_matrix.S.pipeline2_210322.tsv\")) %>% \n",
    "    filter(npm_research_id %in% to_retain) %>%\n",
    "    select(all_of(colnames(prev_df)))\n",
    "\n",
    "all(colnames(species_df) == colnames(prev_df))\n",
    "\n",
    "meta_filt <- load_metadata(\"data/SG10K_Health_metadata.n10714.16March2021.parsed.csv\", species_df)\n",
    "\n",
    "# Convert to CLR abundances\n",
    "df_filt <- RA_to_clr(otu_to_RA(species_df))\n",
    "dim(species_df)"
   ]
  },
  {
   "cell_type": "markdown",
   "id": "be3d58a4",
   "metadata": {},
   "source": [
    "### Correlation filter within batches"
   ]
  },
  {
   "cell_type": "code",
   "execution_count": 5,
   "id": "0a968228",
   "metadata": {},
   "outputs": [],
   "source": [
    "corr_decontam <- function(dat, non_contaminants, contaminants, meta_col, level) {\n",
    "    nc_list <- foreach (non_contaminant_taxon = non_contaminants) %do% {\n",
    "        morsel <- tibble()\n",
    "        \n",
    "        for (contaminant_taxon in contaminants) {\n",
    "            spearman_test <- cor.test(dat[ , contaminant_taxon], dat[, non_contaminant_taxon])\n",
    "            rho <- spearman_test$estimate\n",
    "            print(str_glue(\"Computing correlations for {meta_col}: {level}\"))\n",
    "            morsel <- morsel %>% bind_rows(tibble(meta_col = meta_col, \n",
    "                                                  level = level,\n",
    "                                                  non_contaminant_taxon = non_contaminant_taxon, \n",
    "                                                  contaminant_taxon = contaminant_taxon,\n",
    "                                                  rho = rho))\n",
    "        }\n",
    "\n",
    "        return(morsel)\n",
    "    }\n",
    "\n",
    "    corr_df <- bind_rows(nc_list)  \n",
    "    return(corr_df)\n",
    "}\n"
   ]
  },
  {
   "cell_type": "code",
   "execution_count": 6,
   "id": "b8aa3bc4",
   "metadata": {},
   "outputs": [],
   "source": [
    "# Get non-contaminants/contaminants from diff prev. filter\n",
    "diff_prev_contams_nc <- read.csv(str_glue(\"results/decontamination/diff_prev_V3_relaxed_threshold/noncontaminants.RA0.001.read_threshold0.max_prev{max_prev_t}.fold_diff{fold_diff_t}.txt\"))$taxa\n",
    "diff_prev_contams <- read.csv(str_glue(\"results/decontamination/diff_prev_V3_relaxed_threshold/contaminants.RA0.001.read_threshold0.max_prev{max_prev_t}.fold_diff{fold_diff_t}.txt\"))$taxa\n",
    "\n",
    "diff_prev <- fread(\"results/decontamination/diff_prev_V3_relaxed_threshold/decon_V3_raw.RA0.001.read_threshold0.csv\") %>%\n",
    "    as_tibble()\n",
    "\n",
    "diff_filt <- diff_prev %>%\n",
    "    filter(fold_diff > 2, max_prev > 0.25)\n",
    "\n",
    "iter_list <- diff_filt %>% \n",
    "    distinct(meta_col, max_level)"
   ]
  },
  {
   "cell_type": "code",
   "execution_count": null,
   "id": "b614c935",
   "metadata": {},
   "outputs": [
    {
     "name": "stderr",
     "output_type": "stream",
     "text": [
      "Joining, by = \"npm_research_id\"\n",
      "IOPub data rate exceeded.\n",
      "The notebook server will temporarily stop sending output\n",
      "to the client in order to avoid crashing it.\n",
      "To change this limit, set the config variable\n",
      "`--NotebookApp.iopub_data_rate_limit`.\n",
      "\n",
      "Current values:\n",
      "NotebookApp.iopub_data_rate_limit=1000000.0 (bytes/sec)\n",
      "NotebookApp.rate_limit_window=3.0 (secs)\n",
      "\n",
      "Warning message in cor(x, y):\n",
      "“the standard deviation is zero”\n"
     ]
    },
    {
     "name": "stdout",
     "output_type": "stream",
     "text": [
      "Computing correlations for site_supplying_sample: MEC\n"
     ]
    },
    {
     "name": "stderr",
     "output_type": "stream",
     "text": [
      "Warning message in cor(x, y):\n",
      "“the standard deviation is zero”\n"
     ]
    },
    {
     "name": "stdout",
     "output_type": "stream",
     "text": [
      "Computing correlations for site_supplying_sample: MEC\n"
     ]
    },
    {
     "name": "stderr",
     "output_type": "stream",
     "text": [
      "Warning message in cor(x, y):\n",
      "“the standard deviation is zero”\n"
     ]
    },
    {
     "name": "stdout",
     "output_type": "stream",
     "text": [
      "Computing correlations for site_supplying_sample: MEC\n"
     ]
    },
    {
     "name": "stderr",
     "output_type": "stream",
     "text": [
      "Warning message in cor(x, y):\n",
      "“the standard deviation is zero”\n"
     ]
    },
    {
     "name": "stdout",
     "output_type": "stream",
     "text": [
      "Computing correlations for site_supplying_sample: MEC\n"
     ]
    },
    {
     "name": "stderr",
     "output_type": "stream",
     "text": [
      "Warning message in cor(x, y):\n",
      "“the standard deviation is zero”\n"
     ]
    },
    {
     "name": "stdout",
     "output_type": "stream",
     "text": [
      "Computing correlations for site_supplying_sample: MEC\n"
     ]
    },
    {
     "name": "stderr",
     "output_type": "stream",
     "text": [
      "Warning message in cor(x, y):\n",
      "“the standard deviation is zero”\n"
     ]
    },
    {
     "name": "stdout",
     "output_type": "stream",
     "text": [
      "Computing correlations for site_supplying_sample: MEC\n"
     ]
    },
    {
     "name": "stderr",
     "output_type": "stream",
     "text": [
      "Warning message in cor(x, y):\n",
      "“the standard deviation is zero”\n"
     ]
    },
    {
     "name": "stdout",
     "output_type": "stream",
     "text": [
      "Computing correlations for site_supplying_sample: MEC\n"
     ]
    },
    {
     "name": "stderr",
     "output_type": "stream",
     "text": [
      "Warning message in cor(x, y):\n",
      "“the standard deviation is zero”\n"
     ]
    },
    {
     "name": "stdout",
     "output_type": "stream",
     "text": [
      "Computing correlations for site_supplying_sample: MEC\n"
     ]
    },
    {
     "name": "stderr",
     "output_type": "stream",
     "text": [
      "Warning message in cor(x, y):\n",
      "“the standard deviation is zero”\n"
     ]
    },
    {
     "name": "stdout",
     "output_type": "stream",
     "text": [
      "Computing correlations for site_supplying_sample: MEC\n"
     ]
    },
    {
     "name": "stderr",
     "output_type": "stream",
     "text": [
      "Warning message in cor(x, y):\n",
      "“the standard deviation is zero”\n"
     ]
    },
    {
     "name": "stdout",
     "output_type": "stream",
     "text": [
      "Computing correlations for site_supplying_sample: MEC\n"
     ]
    },
    {
     "name": "stderr",
     "output_type": "stream",
     "text": [
      "Warning message in cor(x, y):\n",
      "“the standard deviation is zero”\n"
     ]
    },
    {
     "name": "stdout",
     "output_type": "stream",
     "text": [
      "Computing correlations for site_supplying_sample: MEC\n"
     ]
    },
    {
     "name": "stderr",
     "output_type": "stream",
     "text": [
      "Warning message in cor(x, y):\n",
      "“the standard deviation is zero”\n"
     ]
    },
    {
     "name": "stdout",
     "output_type": "stream",
     "text": [
      "Computing correlations for site_supplying_sample: MEC\n"
     ]
    },
    {
     "name": "stderr",
     "output_type": "stream",
     "text": [
      "Warning message in cor(x, y):\n",
      "“the standard deviation is zero”\n"
     ]
    },
    {
     "name": "stdout",
     "output_type": "stream",
     "text": [
      "Computing correlations for site_supplying_sample: MEC\n"
     ]
    },
    {
     "name": "stderr",
     "output_type": "stream",
     "text": [
      "Warning message in cor(x, y):\n",
      "“the standard deviation is zero”\n"
     ]
    },
    {
     "name": "stdout",
     "output_type": "stream",
     "text": [
      "Computing correlations for site_supplying_sample: MEC\n"
     ]
    },
    {
     "name": "stderr",
     "output_type": "stream",
     "text": [
      "Warning message in cor(x, y):\n",
      "“the standard deviation is zero”\n"
     ]
    },
    {
     "name": "stdout",
     "output_type": "stream",
     "text": [
      "Computing correlations for site_supplying_sample: MEC\n"
     ]
    },
    {
     "name": "stderr",
     "output_type": "stream",
     "text": [
      "Warning message in cor(x, y):\n",
      "“the standard deviation is zero”\n"
     ]
    },
    {
     "name": "stdout",
     "output_type": "stream",
     "text": [
      "Computing correlations for site_supplying_sample: MEC\n"
     ]
    },
    {
     "name": "stderr",
     "output_type": "stream",
     "text": [
      "Warning message in cor(x, y):\n",
      "“the standard deviation is zero”\n"
     ]
    },
    {
     "name": "stdout",
     "output_type": "stream",
     "text": [
      "Computing correlations for site_supplying_sample: MEC\n"
     ]
    },
    {
     "name": "stderr",
     "output_type": "stream",
     "text": [
      "Warning message in cor(x, y):\n",
      "“the standard deviation is zero”\n"
     ]
    },
    {
     "name": "stdout",
     "output_type": "stream",
     "text": [
      "Computing correlations for site_supplying_sample: MEC\n"
     ]
    },
    {
     "name": "stderr",
     "output_type": "stream",
     "text": [
      "Warning message in cor(x, y):\n",
      "“the standard deviation is zero”\n"
     ]
    },
    {
     "name": "stdout",
     "output_type": "stream",
     "text": [
      "Computing correlations for site_supplying_sample: MEC\n"
     ]
    },
    {
     "name": "stderr",
     "output_type": "stream",
     "text": [
      "Warning message in cor(x, y):\n",
      "“the standard deviation is zero”\n"
     ]
    },
    {
     "name": "stdout",
     "output_type": "stream",
     "text": [
      "Computing correlations for site_supplying_sample: MEC\n"
     ]
    },
    {
     "name": "stderr",
     "output_type": "stream",
     "text": [
      "Warning message in cor(x, y):\n",
      "“the standard deviation is zero”\n"
     ]
    },
    {
     "name": "stdout",
     "output_type": "stream",
     "text": [
      "Computing correlations for site_supplying_sample: MEC\n"
     ]
    },
    {
     "name": "stderr",
     "output_type": "stream",
     "text": [
      "Warning message in cor(x, y):\n",
      "“the standard deviation is zero”\n"
     ]
    },
    {
     "name": "stdout",
     "output_type": "stream",
     "text": [
      "Computing correlations for site_supplying_sample: MEC\n"
     ]
    },
    {
     "name": "stderr",
     "output_type": "stream",
     "text": [
      "Warning message in cor(x, y):\n",
      "“the standard deviation is zero”\n"
     ]
    },
    {
     "name": "stdout",
     "output_type": "stream",
     "text": [
      "Computing correlations for site_supplying_sample: MEC\n"
     ]
    },
    {
     "name": "stderr",
     "output_type": "stream",
     "text": [
      "Warning message in cor(x, y):\n",
      "“the standard deviation is zero”\n"
     ]
    },
    {
     "name": "stdout",
     "output_type": "stream",
     "text": [
      "Computing correlations for site_supplying_sample: MEC\n"
     ]
    },
    {
     "name": "stderr",
     "output_type": "stream",
     "text": [
      "Warning message in cor(x, y):\n",
      "“the standard deviation is zero”\n"
     ]
    },
    {
     "name": "stdout",
     "output_type": "stream",
     "text": [
      "Computing correlations for site_supplying_sample: MEC\n"
     ]
    },
    {
     "name": "stderr",
     "output_type": "stream",
     "text": [
      "Warning message in cor(x, y):\n",
      "“the standard deviation is zero”\n"
     ]
    },
    {
     "name": "stdout",
     "output_type": "stream",
     "text": [
      "Computing correlations for site_supplying_sample: MEC\n"
     ]
    },
    {
     "name": "stderr",
     "output_type": "stream",
     "text": [
      "Warning message in cor(x, y):\n",
      "“the standard deviation is zero”\n"
     ]
    },
    {
     "name": "stdout",
     "output_type": "stream",
     "text": [
      "Computing correlations for site_supplying_sample: MEC\n"
     ]
    },
    {
     "name": "stderr",
     "output_type": "stream",
     "text": [
      "Warning message in cor(x, y):\n",
      "“the standard deviation is zero”\n"
     ]
    },
    {
     "name": "stdout",
     "output_type": "stream",
     "text": [
      "Computing correlations for site_supplying_sample: MEC\n"
     ]
    },
    {
     "name": "stderr",
     "output_type": "stream",
     "text": [
      "Warning message in cor(x, y):\n",
      "“the standard deviation is zero”\n"
     ]
    },
    {
     "name": "stdout",
     "output_type": "stream",
     "text": [
      "Computing correlations for site_supplying_sample: MEC\n"
     ]
    },
    {
     "name": "stderr",
     "output_type": "stream",
     "text": [
      "Warning message in cor(x, y):\n",
      "“the standard deviation is zero”\n"
     ]
    },
    {
     "name": "stdout",
     "output_type": "stream",
     "text": [
      "Computing correlations for site_supplying_sample: MEC\n"
     ]
    },
    {
     "name": "stderr",
     "output_type": "stream",
     "text": [
      "Warning message in cor(x, y):\n",
      "“the standard deviation is zero”\n"
     ]
    },
    {
     "name": "stdout",
     "output_type": "stream",
     "text": [
      "Computing correlations for site_supplying_sample: MEC\n"
     ]
    },
    {
     "name": "stderr",
     "output_type": "stream",
     "text": [
      "Warning message in cor(x, y):\n",
      "“the standard deviation is zero”\n"
     ]
    },
    {
     "name": "stdout",
     "output_type": "stream",
     "text": [
      "Computing correlations for site_supplying_sample: MEC\n"
     ]
    },
    {
     "name": "stderr",
     "output_type": "stream",
     "text": [
      "Warning message in cor(x, y):\n",
      "“the standard deviation is zero”\n"
     ]
    },
    {
     "name": "stdout",
     "output_type": "stream",
     "text": [
      "Computing correlations for site_supplying_sample: MEC\n"
     ]
    },
    {
     "name": "stderr",
     "output_type": "stream",
     "text": [
      "Warning message in cor(x, y):\n",
      "“the standard deviation is zero”\n"
     ]
    },
    {
     "name": "stdout",
     "output_type": "stream",
     "text": [
      "Computing correlations for site_supplying_sample: MEC\n"
     ]
    },
    {
     "name": "stderr",
     "output_type": "stream",
     "text": [
      "Warning message in cor(x, y):\n",
      "“the standard deviation is zero”\n"
     ]
    },
    {
     "name": "stdout",
     "output_type": "stream",
     "text": [
      "Computing correlations for site_supplying_sample: MEC\n"
     ]
    },
    {
     "name": "stderr",
     "output_type": "stream",
     "text": [
      "Warning message in cor(x, y):\n",
      "“the standard deviation is zero”\n"
     ]
    },
    {
     "name": "stdout",
     "output_type": "stream",
     "text": [
      "Computing correlations for site_supplying_sample: MEC\n"
     ]
    },
    {
     "name": "stderr",
     "output_type": "stream",
     "text": [
      "Warning message in cor(x, y):\n",
      "“the standard deviation is zero”\n"
     ]
    },
    {
     "name": "stdout",
     "output_type": "stream",
     "text": [
      "Computing correlations for site_supplying_sample: MEC\n"
     ]
    },
    {
     "name": "stderr",
     "output_type": "stream",
     "text": [
      "Warning message in cor(x, y):\n",
      "“the standard deviation is zero”\n"
     ]
    },
    {
     "name": "stdout",
     "output_type": "stream",
     "text": [
      "Computing correlations for site_supplying_sample: MEC\n"
     ]
    },
    {
     "name": "stderr",
     "output_type": "stream",
     "text": [
      "Warning message in cor(x, y):\n",
      "“the standard deviation is zero”\n"
     ]
    },
    {
     "name": "stdout",
     "output_type": "stream",
     "text": [
      "Computing correlations for site_supplying_sample: MEC\n"
     ]
    },
    {
     "name": "stderr",
     "output_type": "stream",
     "text": [
      "Warning message in cor(x, y):\n",
      "“the standard deviation is zero”\n"
     ]
    },
    {
     "name": "stdout",
     "output_type": "stream",
     "text": [
      "Computing correlations for site_supplying_sample: MEC\n"
     ]
    },
    {
     "name": "stderr",
     "output_type": "stream",
     "text": [
      "Warning message in cor(x, y):\n",
      "“the standard deviation is zero”\n"
     ]
    },
    {
     "name": "stdout",
     "output_type": "stream",
     "text": [
      "Computing correlations for site_supplying_sample: MEC\n"
     ]
    },
    {
     "name": "stderr",
     "output_type": "stream",
     "text": [
      "Warning message in cor(x, y):\n",
      "“the standard deviation is zero”\n"
     ]
    },
    {
     "name": "stdout",
     "output_type": "stream",
     "text": [
      "Computing correlations for site_supplying_sample: MEC\n"
     ]
    },
    {
     "name": "stderr",
     "output_type": "stream",
     "text": [
      "Warning message in cor(x, y):\n",
      "“the standard deviation is zero”\n"
     ]
    },
    {
     "name": "stdout",
     "output_type": "stream",
     "text": [
      "Computing correlations for site_supplying_sample: MEC\n"
     ]
    },
    {
     "name": "stderr",
     "output_type": "stream",
     "text": [
      "Warning message in cor(x, y):\n",
      "“the standard deviation is zero”\n"
     ]
    },
    {
     "name": "stdout",
     "output_type": "stream",
     "text": [
      "Computing correlations for site_supplying_sample: MEC\n"
     ]
    },
    {
     "name": "stderr",
     "output_type": "stream",
     "text": [
      "Warning message in cor(x, y):\n",
      "“the standard deviation is zero”\n"
     ]
    },
    {
     "name": "stdout",
     "output_type": "stream",
     "text": [
      "Computing correlations for site_supplying_sample: MEC\n"
     ]
    },
    {
     "name": "stderr",
     "output_type": "stream",
     "text": [
      "Warning message in cor(x, y):\n",
      "“the standard deviation is zero”\n"
     ]
    },
    {
     "name": "stdout",
     "output_type": "stream",
     "text": [
      "Computing correlations for site_supplying_sample: MEC\n"
     ]
    },
    {
     "name": "stderr",
     "output_type": "stream",
     "text": [
      "Warning message in cor(x, y):\n",
      "“the standard deviation is zero”\n"
     ]
    },
    {
     "name": "stdout",
     "output_type": "stream",
     "text": [
      "Computing correlations for site_supplying_sample: MEC\n"
     ]
    },
    {
     "name": "stderr",
     "output_type": "stream",
     "text": [
      "Warning message in cor(x, y):\n",
      "“the standard deviation is zero”\n"
     ]
    },
    {
     "name": "stdout",
     "output_type": "stream",
     "text": [
      "Computing correlations for site_supplying_sample: MEC\n"
     ]
    },
    {
     "name": "stderr",
     "output_type": "stream",
     "text": [
      "Warning message in cor(x, y):\n",
      "“the standard deviation is zero”\n"
     ]
    },
    {
     "name": "stdout",
     "output_type": "stream",
     "text": [
      "Computing correlations for site_supplying_sample: MEC\n"
     ]
    },
    {
     "name": "stderr",
     "output_type": "stream",
     "text": [
      "Warning message in cor(x, y):\n",
      "“the standard deviation is zero”\n"
     ]
    },
    {
     "name": "stdout",
     "output_type": "stream",
     "text": [
      "Computing correlations for site_supplying_sample: MEC\n"
     ]
    },
    {
     "name": "stderr",
     "output_type": "stream",
     "text": [
      "Warning message in cor(x, y):\n",
      "“the standard deviation is zero”\n"
     ]
    },
    {
     "name": "stdout",
     "output_type": "stream",
     "text": [
      "Computing correlations for site_supplying_sample: MEC\n"
     ]
    },
    {
     "name": "stderr",
     "output_type": "stream",
     "text": [
      "Warning message in cor(x, y):\n",
      "“the standard deviation is zero”\n"
     ]
    },
    {
     "name": "stdout",
     "output_type": "stream",
     "text": [
      "Computing correlations for site_supplying_sample: MEC\n"
     ]
    },
    {
     "name": "stderr",
     "output_type": "stream",
     "text": [
      "Warning message in cor(x, y):\n",
      "“the standard deviation is zero”\n"
     ]
    },
    {
     "name": "stdout",
     "output_type": "stream",
     "text": [
      "Computing correlations for site_supplying_sample: MEC\n"
     ]
    },
    {
     "name": "stderr",
     "output_type": "stream",
     "text": [
      "Warning message in cor(x, y):\n",
      "“the standard deviation is zero”\n"
     ]
    },
    {
     "name": "stdout",
     "output_type": "stream",
     "text": [
      "Computing correlations for site_supplying_sample: MEC\n"
     ]
    },
    {
     "name": "stderr",
     "output_type": "stream",
     "text": [
      "Warning message in cor(x, y):\n",
      "“the standard deviation is zero”\n"
     ]
    },
    {
     "name": "stdout",
     "output_type": "stream",
     "text": [
      "Computing correlations for site_supplying_sample: MEC\n"
     ]
    },
    {
     "name": "stderr",
     "output_type": "stream",
     "text": [
      "Warning message in cor(x, y):\n",
      "“the standard deviation is zero”\n"
     ]
    },
    {
     "name": "stdout",
     "output_type": "stream",
     "text": [
      "Computing correlations for site_supplying_sample: MEC\n"
     ]
    },
    {
     "name": "stderr",
     "output_type": "stream",
     "text": [
      "Warning message in cor(x, y):\n",
      "“the standard deviation is zero”\n"
     ]
    },
    {
     "name": "stdout",
     "output_type": "stream",
     "text": [
      "Computing correlations for site_supplying_sample: MEC\n"
     ]
    },
    {
     "name": "stderr",
     "output_type": "stream",
     "text": [
      "Warning message in cor(x, y):\n",
      "“the standard deviation is zero”\n"
     ]
    },
    {
     "name": "stdout",
     "output_type": "stream",
     "text": [
      "Computing correlations for site_supplying_sample: MEC\n"
     ]
    },
    {
     "name": "stderr",
     "output_type": "stream",
     "text": [
      "Warning message in cor(x, y):\n",
      "“the standard deviation is zero”\n"
     ]
    },
    {
     "name": "stdout",
     "output_type": "stream",
     "text": [
      "Computing correlations for site_supplying_sample: MEC\n"
     ]
    },
    {
     "name": "stderr",
     "output_type": "stream",
     "text": [
      "Warning message in cor(x, y):\n",
      "“the standard deviation is zero”\n"
     ]
    },
    {
     "name": "stdout",
     "output_type": "stream",
     "text": [
      "Computing correlations for site_supplying_sample: MEC\n"
     ]
    },
    {
     "name": "stderr",
     "output_type": "stream",
     "text": [
      "Warning message in cor(x, y):\n",
      "“the standard deviation is zero”\n"
     ]
    },
    {
     "name": "stdout",
     "output_type": "stream",
     "text": [
      "Computing correlations for site_supplying_sample: MEC\n"
     ]
    },
    {
     "name": "stderr",
     "output_type": "stream",
     "text": [
      "Warning message in cor(x, y):\n",
      "“the standard deviation is zero”\n"
     ]
    },
    {
     "name": "stdout",
     "output_type": "stream",
     "text": [
      "Computing correlations for site_supplying_sample: MEC\n"
     ]
    },
    {
     "name": "stderr",
     "output_type": "stream",
     "text": [
      "Warning message in cor(x, y):\n",
      "“the standard deviation is zero”\n"
     ]
    },
    {
     "name": "stdout",
     "output_type": "stream",
     "text": [
      "Computing correlations for site_supplying_sample: MEC\n"
     ]
    },
    {
     "name": "stderr",
     "output_type": "stream",
     "text": [
      "Warning message in cor(x, y):\n",
      "“the standard deviation is zero”\n"
     ]
    },
    {
     "name": "stdout",
     "output_type": "stream",
     "text": [
      "Computing correlations for site_supplying_sample: MEC\n"
     ]
    },
    {
     "name": "stderr",
     "output_type": "stream",
     "text": [
      "Warning message in cor(x, y):\n",
      "“the standard deviation is zero”\n"
     ]
    },
    {
     "name": "stdout",
     "output_type": "stream",
     "text": [
      "Computing correlations for site_supplying_sample: MEC\n"
     ]
    },
    {
     "name": "stderr",
     "output_type": "stream",
     "text": [
      "Warning message in cor(x, y):\n",
      "“the standard deviation is zero”\n"
     ]
    },
    {
     "name": "stdout",
     "output_type": "stream",
     "text": [
      "Computing correlations for site_supplying_sample: MEC\n"
     ]
    },
    {
     "name": "stderr",
     "output_type": "stream",
     "text": [
      "Warning message in cor(x, y):\n",
      "“the standard deviation is zero”\n"
     ]
    },
    {
     "name": "stdout",
     "output_type": "stream",
     "text": [
      "Computing correlations for site_supplying_sample: MEC\n"
     ]
    },
    {
     "name": "stderr",
     "output_type": "stream",
     "text": [
      "Warning message in cor(x, y):\n",
      "“the standard deviation is zero”\n"
     ]
    },
    {
     "name": "stdout",
     "output_type": "stream",
     "text": [
      "Computing correlations for site_supplying_sample: MEC\n"
     ]
    },
    {
     "name": "stderr",
     "output_type": "stream",
     "text": [
      "Warning message in cor(x, y):\n",
      "“the standard deviation is zero”\n"
     ]
    },
    {
     "name": "stdout",
     "output_type": "stream",
     "text": [
      "Computing correlations for site_supplying_sample: MEC\n"
     ]
    },
    {
     "name": "stderr",
     "output_type": "stream",
     "text": [
      "Warning message in cor(x, y):\n",
      "“the standard deviation is zero”\n"
     ]
    },
    {
     "name": "stdout",
     "output_type": "stream",
     "text": [
      "Computing correlations for site_supplying_sample: MEC\n"
     ]
    },
    {
     "name": "stderr",
     "output_type": "stream",
     "text": [
      "Warning message in cor(x, y):\n",
      "“the standard deviation is zero”\n"
     ]
    },
    {
     "name": "stdout",
     "output_type": "stream",
     "text": [
      "Computing correlations for site_supplying_sample: MEC\n"
     ]
    },
    {
     "name": "stderr",
     "output_type": "stream",
     "text": [
      "Warning message in cor(x, y):\n",
      "“the standard deviation is zero”\n"
     ]
    },
    {
     "name": "stdout",
     "output_type": "stream",
     "text": [
      "Computing correlations for site_supplying_sample: MEC\n"
     ]
    },
    {
     "name": "stderr",
     "output_type": "stream",
     "text": [
      "Warning message in cor(x, y):\n",
      "“the standard deviation is zero”\n"
     ]
    },
    {
     "name": "stdout",
     "output_type": "stream",
     "text": [
      "Computing correlations for site_supplying_sample: MEC\n"
     ]
    },
    {
     "name": "stderr",
     "output_type": "stream",
     "text": [
      "Warning message in cor(x, y):\n",
      "“the standard deviation is zero”\n"
     ]
    },
    {
     "name": "stdout",
     "output_type": "stream",
     "text": [
      "Computing correlations for site_supplying_sample: MEC\n"
     ]
    },
    {
     "name": "stderr",
     "output_type": "stream",
     "text": [
      "Warning message in cor(x, y):\n",
      "“the standard deviation is zero”\n"
     ]
    },
    {
     "name": "stdout",
     "output_type": "stream",
     "text": [
      "Computing correlations for site_supplying_sample: MEC\n"
     ]
    },
    {
     "name": "stderr",
     "output_type": "stream",
     "text": [
      "Warning message in cor(x, y):\n",
      "“the standard deviation is zero”\n"
     ]
    },
    {
     "name": "stdout",
     "output_type": "stream",
     "text": [
      "Computing correlations for site_supplying_sample: MEC\n"
     ]
    },
    {
     "name": "stderr",
     "output_type": "stream",
     "text": [
      "Warning message in cor(x, y):\n",
      "“the standard deviation is zero”\n"
     ]
    },
    {
     "name": "stdout",
     "output_type": "stream",
     "text": [
      "Computing correlations for site_supplying_sample: MEC\n"
     ]
    },
    {
     "name": "stderr",
     "output_type": "stream",
     "text": [
      "Warning message in cor(x, y):\n",
      "“the standard deviation is zero”\n"
     ]
    },
    {
     "name": "stdout",
     "output_type": "stream",
     "text": [
      "Computing correlations for site_supplying_sample: MEC\n"
     ]
    },
    {
     "name": "stderr",
     "output_type": "stream",
     "text": [
      "Warning message in cor(x, y):\n",
      "“the standard deviation is zero”\n"
     ]
    },
    {
     "name": "stdout",
     "output_type": "stream",
     "text": [
      "Computing correlations for site_supplying_sample: MEC\n"
     ]
    },
    {
     "name": "stderr",
     "output_type": "stream",
     "text": [
      "Warning message in cor(x, y):\n",
      "“the standard deviation is zero”\n"
     ]
    },
    {
     "name": "stdout",
     "output_type": "stream",
     "text": [
      "Computing correlations for site_supplying_sample: MEC\n"
     ]
    },
    {
     "name": "stderr",
     "output_type": "stream",
     "text": [
      "Warning message in cor(x, y):\n",
      "“the standard deviation is zero”\n"
     ]
    },
    {
     "name": "stdout",
     "output_type": "stream",
     "text": [
      "Computing correlations for site_supplying_sample: MEC\n"
     ]
    },
    {
     "name": "stderr",
     "output_type": "stream",
     "text": [
      "Warning message in cor(x, y):\n",
      "“the standard deviation is zero”\n"
     ]
    },
    {
     "name": "stdout",
     "output_type": "stream",
     "text": [
      "Computing correlations for site_supplying_sample: MEC\n"
     ]
    },
    {
     "name": "stderr",
     "output_type": "stream",
     "text": [
      "Warning message in cor(x, y):\n",
      "“the standard deviation is zero”\n"
     ]
    },
    {
     "name": "stdout",
     "output_type": "stream",
     "text": [
      "Computing correlations for site_supplying_sample: MEC\n"
     ]
    },
    {
     "name": "stderr",
     "output_type": "stream",
     "text": [
      "Warning message in cor(x, y):\n",
      "“the standard deviation is zero”\n"
     ]
    },
    {
     "name": "stdout",
     "output_type": "stream",
     "text": [
      "Computing correlations for site_supplying_sample: MEC\n"
     ]
    },
    {
     "name": "stderr",
     "output_type": "stream",
     "text": [
      "Warning message in cor(x, y):\n",
      "“the standard deviation is zero”\n"
     ]
    },
    {
     "name": "stdout",
     "output_type": "stream",
     "text": [
      "Computing correlations for site_supplying_sample: MEC\n"
     ]
    },
    {
     "name": "stderr",
     "output_type": "stream",
     "text": [
      "Warning message in cor(x, y):\n",
      "“the standard deviation is zero”\n"
     ]
    },
    {
     "name": "stdout",
     "output_type": "stream",
     "text": [
      "Computing correlations for site_supplying_sample: MEC\n"
     ]
    },
    {
     "name": "stderr",
     "output_type": "stream",
     "text": [
      "Warning message in cor(x, y):\n",
      "“the standard deviation is zero”\n"
     ]
    },
    {
     "name": "stdout",
     "output_type": "stream",
     "text": [
      "Computing correlations for site_supplying_sample: MEC\n"
     ]
    },
    {
     "name": "stderr",
     "output_type": "stream",
     "text": [
      "Warning message in cor(x, y):\n",
      "“the standard deviation is zero”\n"
     ]
    },
    {
     "name": "stdout",
     "output_type": "stream",
     "text": [
      "Computing correlations for site_supplying_sample: MEC\n"
     ]
    },
    {
     "name": "stderr",
     "output_type": "stream",
     "text": [
      "Warning message in cor(x, y):\n",
      "“the standard deviation is zero”\n"
     ]
    },
    {
     "name": "stdout",
     "output_type": "stream",
     "text": [
      "Computing correlations for site_supplying_sample: MEC\n"
     ]
    },
    {
     "name": "stderr",
     "output_type": "stream",
     "text": [
      "Warning message in cor(x, y):\n",
      "“the standard deviation is zero”\n"
     ]
    },
    {
     "name": "stdout",
     "output_type": "stream",
     "text": [
      "Computing correlations for site_supplying_sample: MEC\n"
     ]
    },
    {
     "name": "stderr",
     "output_type": "stream",
     "text": [
      "Warning message in cor(x, y):\n",
      "“the standard deviation is zero”\n"
     ]
    },
    {
     "name": "stdout",
     "output_type": "stream",
     "text": [
      "Computing correlations for site_supplying_sample: MEC\n"
     ]
    },
    {
     "name": "stderr",
     "output_type": "stream",
     "text": [
      "Warning message in cor(x, y):\n",
      "“the standard deviation is zero”\n"
     ]
    },
    {
     "name": "stdout",
     "output_type": "stream",
     "text": [
      "Computing correlations for site_supplying_sample: MEC\n"
     ]
    },
    {
     "name": "stderr",
     "output_type": "stream",
     "text": [
      "Warning message in cor(x, y):\n",
      "“the standard deviation is zero”\n"
     ]
    },
    {
     "name": "stdout",
     "output_type": "stream",
     "text": [
      "Computing correlations for site_supplying_sample: MEC\n"
     ]
    },
    {
     "name": "stderr",
     "output_type": "stream",
     "text": [
      "Warning message in cor(x, y):\n",
      "“the standard deviation is zero”\n"
     ]
    },
    {
     "name": "stdout",
     "output_type": "stream",
     "text": [
      "Computing correlations for site_supplying_sample: MEC\n"
     ]
    },
    {
     "name": "stderr",
     "output_type": "stream",
     "text": [
      "Warning message in cor(x, y):\n",
      "“the standard deviation is zero”\n"
     ]
    },
    {
     "name": "stdout",
     "output_type": "stream",
     "text": [
      "Computing correlations for site_supplying_sample: MEC\n"
     ]
    },
    {
     "name": "stderr",
     "output_type": "stream",
     "text": [
      "Warning message in cor(x, y):\n",
      "“the standard deviation is zero”\n"
     ]
    },
    {
     "name": "stdout",
     "output_type": "stream",
     "text": [
      "Computing correlations for site_supplying_sample: MEC\n"
     ]
    },
    {
     "name": "stderr",
     "output_type": "stream",
     "text": [
      "Warning message in cor(x, y):\n",
      "“the standard deviation is zero”\n"
     ]
    },
    {
     "name": "stdout",
     "output_type": "stream",
     "text": [
      "Computing correlations for site_supplying_sample: MEC\n"
     ]
    },
    {
     "name": "stderr",
     "output_type": "stream",
     "text": [
      "Warning message in cor(x, y):\n",
      "“the standard deviation is zero”\n"
     ]
    },
    {
     "name": "stdout",
     "output_type": "stream",
     "text": [
      "Computing correlations for site_supplying_sample: MEC\n"
     ]
    },
    {
     "name": "stderr",
     "output_type": "stream",
     "text": [
      "Warning message in cor(x, y):\n",
      "“the standard deviation is zero”\n"
     ]
    },
    {
     "name": "stdout",
     "output_type": "stream",
     "text": [
      "Computing correlations for site_supplying_sample: MEC\n"
     ]
    },
    {
     "name": "stderr",
     "output_type": "stream",
     "text": [
      "Warning message in cor(x, y):\n",
      "“the standard deviation is zero”\n"
     ]
    },
    {
     "name": "stdout",
     "output_type": "stream",
     "text": [
      "Computing correlations for site_supplying_sample: MEC\n"
     ]
    },
    {
     "name": "stderr",
     "output_type": "stream",
     "text": [
      "Warning message in cor(x, y):\n",
      "“the standard deviation is zero”\n"
     ]
    },
    {
     "name": "stdout",
     "output_type": "stream",
     "text": [
      "Computing correlations for site_supplying_sample: MEC\n"
     ]
    },
    {
     "name": "stderr",
     "output_type": "stream",
     "text": [
      "Warning message in cor(x, y):\n",
      "“the standard deviation is zero”\n"
     ]
    },
    {
     "name": "stdout",
     "output_type": "stream",
     "text": [
      "Computing correlations for site_supplying_sample: MEC\n"
     ]
    },
    {
     "name": "stderr",
     "output_type": "stream",
     "text": [
      "Warning message in cor(x, y):\n",
      "“the standard deviation is zero”\n"
     ]
    },
    {
     "name": "stdout",
     "output_type": "stream",
     "text": [
      "Computing correlations for site_supplying_sample: MEC\n"
     ]
    },
    {
     "name": "stderr",
     "output_type": "stream",
     "text": [
      "Warning message in cor(x, y):\n",
      "“the standard deviation is zero”\n"
     ]
    },
    {
     "name": "stdout",
     "output_type": "stream",
     "text": [
      "Computing correlations for site_supplying_sample: MEC\n"
     ]
    },
    {
     "name": "stderr",
     "output_type": "stream",
     "text": [
      "Warning message in cor(x, y):\n",
      "“the standard deviation is zero”\n"
     ]
    },
    {
     "name": "stdout",
     "output_type": "stream",
     "text": [
      "Computing correlations for site_supplying_sample: MEC\n"
     ]
    },
    {
     "name": "stderr",
     "output_type": "stream",
     "text": [
      "Warning message in cor(x, y):\n",
      "“the standard deviation is zero”\n"
     ]
    },
    {
     "name": "stdout",
     "output_type": "stream",
     "text": [
      "Computing correlations for site_supplying_sample: MEC\n"
     ]
    },
    {
     "name": "stderr",
     "output_type": "stream",
     "text": [
      "Warning message in cor(x, y):\n",
      "“the standard deviation is zero”\n"
     ]
    },
    {
     "name": "stdout",
     "output_type": "stream",
     "text": [
      "Computing correlations for site_supplying_sample: MEC\n"
     ]
    },
    {
     "name": "stderr",
     "output_type": "stream",
     "text": [
      "Warning message in cor(x, y):\n",
      "“the standard deviation is zero”\n"
     ]
    },
    {
     "name": "stdout",
     "output_type": "stream",
     "text": [
      "Computing correlations for site_supplying_sample: MEC\n"
     ]
    },
    {
     "name": "stderr",
     "output_type": "stream",
     "text": [
      "Warning message in cor(x, y):\n",
      "“the standard deviation is zero”\n"
     ]
    },
    {
     "name": "stdout",
     "output_type": "stream",
     "text": [
      "Computing correlations for site_supplying_sample: MEC\n"
     ]
    },
    {
     "name": "stderr",
     "output_type": "stream",
     "text": [
      "Warning message in cor(x, y):\n",
      "“the standard deviation is zero”\n"
     ]
    },
    {
     "name": "stdout",
     "output_type": "stream",
     "text": [
      "Computing correlations for site_supplying_sample: MEC\n"
     ]
    },
    {
     "name": "stderr",
     "output_type": "stream",
     "text": [
      "Warning message in cor(x, y):\n",
      "“the standard deviation is zero”\n"
     ]
    },
    {
     "name": "stdout",
     "output_type": "stream",
     "text": [
      "Computing correlations for site_supplying_sample: MEC\n"
     ]
    },
    {
     "name": "stderr",
     "output_type": "stream",
     "text": [
      "Warning message in cor(x, y):\n",
      "“the standard deviation is zero”\n"
     ]
    },
    {
     "name": "stdout",
     "output_type": "stream",
     "text": [
      "Computing correlations for site_supplying_sample: MEC\n"
     ]
    },
    {
     "name": "stderr",
     "output_type": "stream",
     "text": [
      "Warning message in cor(x, y):\n",
      "“the standard deviation is zero”\n"
     ]
    },
    {
     "name": "stdout",
     "output_type": "stream",
     "text": [
      "Computing correlations for site_supplying_sample: MEC\n"
     ]
    },
    {
     "name": "stderr",
     "output_type": "stream",
     "text": [
      "Warning message in cor(x, y):\n",
      "“the standard deviation is zero”\n"
     ]
    },
    {
     "name": "stdout",
     "output_type": "stream",
     "text": [
      "Computing correlations for site_supplying_sample: MEC\n"
     ]
    },
    {
     "name": "stderr",
     "output_type": "stream",
     "text": [
      "Warning message in cor(x, y):\n",
      "“the standard deviation is zero”\n"
     ]
    },
    {
     "name": "stdout",
     "output_type": "stream",
     "text": [
      "Computing correlations for site_supplying_sample: MEC\n"
     ]
    },
    {
     "name": "stderr",
     "output_type": "stream",
     "text": [
      "Warning message in cor(x, y):\n",
      "“the standard deviation is zero”\n"
     ]
    },
    {
     "name": "stdout",
     "output_type": "stream",
     "text": [
      "Computing correlations for site_supplying_sample: MEC\n"
     ]
    },
    {
     "name": "stderr",
     "output_type": "stream",
     "text": [
      "Warning message in cor(x, y):\n",
      "“the standard deviation is zero”\n"
     ]
    },
    {
     "name": "stdout",
     "output_type": "stream",
     "text": [
      "Computing correlations for site_supplying_sample: MEC\n"
     ]
    },
    {
     "name": "stderr",
     "output_type": "stream",
     "text": [
      "Warning message in cor(x, y):\n",
      "“the standard deviation is zero”\n"
     ]
    },
    {
     "name": "stdout",
     "output_type": "stream",
     "text": [
      "Computing correlations for site_supplying_sample: MEC\n"
     ]
    },
    {
     "name": "stderr",
     "output_type": "stream",
     "text": [
      "Warning message in cor(x, y):\n",
      "“the standard deviation is zero”\n"
     ]
    },
    {
     "name": "stdout",
     "output_type": "stream",
     "text": [
      "Computing correlations for site_supplying_sample: MEC\n"
     ]
    },
    {
     "name": "stderr",
     "output_type": "stream",
     "text": [
      "Warning message in cor(x, y):\n",
      "“the standard deviation is zero”\n"
     ]
    },
    {
     "name": "stdout",
     "output_type": "stream",
     "text": [
      "Computing correlations for site_supplying_sample: MEC\n"
     ]
    },
    {
     "name": "stderr",
     "output_type": "stream",
     "text": [
      "Warning message in cor(x, y):\n",
      "“the standard deviation is zero”\n"
     ]
    },
    {
     "name": "stdout",
     "output_type": "stream",
     "text": [
      "Computing correlations for site_supplying_sample: MEC\n"
     ]
    },
    {
     "name": "stderr",
     "output_type": "stream",
     "text": [
      "Warning message in cor(x, y):\n",
      "“the standard deviation is zero”\n"
     ]
    },
    {
     "name": "stdout",
     "output_type": "stream",
     "text": [
      "Computing correlations for site_supplying_sample: MEC\n"
     ]
    },
    {
     "name": "stderr",
     "output_type": "stream",
     "text": [
      "Warning message in cor(x, y):\n",
      "“the standard deviation is zero”\n"
     ]
    },
    {
     "name": "stdout",
     "output_type": "stream",
     "text": [
      "Computing correlations for site_supplying_sample: MEC\n"
     ]
    },
    {
     "name": "stderr",
     "output_type": "stream",
     "text": [
      "Warning message in cor(x, y):\n",
      "“the standard deviation is zero”\n"
     ]
    },
    {
     "name": "stdout",
     "output_type": "stream",
     "text": [
      "Computing correlations for site_supplying_sample: MEC\n"
     ]
    },
    {
     "name": "stderr",
     "output_type": "stream",
     "text": [
      "Warning message in cor(x, y):\n",
      "“the standard deviation is zero”\n"
     ]
    },
    {
     "name": "stdout",
     "output_type": "stream",
     "text": [
      "Computing correlations for site_supplying_sample: MEC\n"
     ]
    },
    {
     "name": "stderr",
     "output_type": "stream",
     "text": [
      "Warning message in cor(x, y):\n",
      "“the standard deviation is zero”\n"
     ]
    },
    {
     "name": "stdout",
     "output_type": "stream",
     "text": [
      "Computing correlations for site_supplying_sample: MEC\n"
     ]
    },
    {
     "name": "stderr",
     "output_type": "stream",
     "text": [
      "Warning message in cor(x, y):\n",
      "“the standard deviation is zero”\n"
     ]
    },
    {
     "name": "stdout",
     "output_type": "stream",
     "text": [
      "Computing correlations for site_supplying_sample: MEC\n"
     ]
    },
    {
     "name": "stderr",
     "output_type": "stream",
     "text": [
      "Warning message in cor(x, y):\n",
      "“the standard deviation is zero”\n"
     ]
    },
    {
     "name": "stdout",
     "output_type": "stream",
     "text": [
      "Computing correlations for site_supplying_sample: MEC\n"
     ]
    },
    {
     "name": "stderr",
     "output_type": "stream",
     "text": [
      "Warning message in cor(x, y):\n",
      "“the standard deviation is zero”\n"
     ]
    },
    {
     "name": "stdout",
     "output_type": "stream",
     "text": [
      "Computing correlations for site_supplying_sample: MEC\n"
     ]
    },
    {
     "name": "stderr",
     "output_type": "stream",
     "text": [
      "Warning message in cor(x, y):\n",
      "“the standard deviation is zero”\n"
     ]
    },
    {
     "name": "stdout",
     "output_type": "stream",
     "text": [
      "Computing correlations for site_supplying_sample: MEC\n"
     ]
    },
    {
     "name": "stderr",
     "output_type": "stream",
     "text": [
      "Warning message in cor(x, y):\n",
      "“the standard deviation is zero”\n"
     ]
    }
   ],
   "source": [
    "morsels <- foreach(i = seq(nrow(iter_list))) %do% {\n",
    "    var_name <- iter_list[i, ]$meta_col\n",
    "    level_name <- iter_list[i, ]$max_level\n",
    "\n",
    "    contams <- (diff_filt %>% filter(meta_col == var_name, max_level == level_name))$taxa\n",
    "\n",
    "    noncontams <- colnames(df_filt)\n",
    "    noncontams <- noncontams[!(noncontams %in% c(\"npm_research_id\", contams))]\n",
    "\n",
    "    batch_dat <- df_filt %>%\n",
    "        left_join(meta_filt %>% select(all_of(c(\"npm_research_id\", var_name)))) %>%\n",
    "        filter(get(var_name) == level_name)\n",
    "\n",
    "    corr_decontam(batch_dat, noncontams, contams, var_name, level_name)\n",
    "}\n",
    "\n",
    "corr_res <- bind_rows(morsels)\n",
    "# corr_res <- fread(\"results/decontamination/correlation_decontamination_relaxed_threshold/corr_raw.diff_prev_V3.RA0.005.read_threshold10.max_prev0.25.fold_diff2.corr_t0.7.within_batch.S.n9999.txt\")"
   ]
  },
  {
   "cell_type": "code",
   "execution_count": null,
   "id": "665b1e0e",
   "metadata": {
    "scrolled": true
   },
   "outputs": [],
   "source": [
    "corr_res"
   ]
  },
  {
   "cell_type": "code",
   "execution_count": null,
   "id": "ad84e36b",
   "metadata": {
    "scrolled": true
   },
   "outputs": [],
   "source": [
    "corr_c <- corr_res %>% \n",
    "    filter(rho > 0.7) %>%\n",
    "    distinct(non_contaminant_taxon) %>%\n",
    "    rename(contaminants = non_contaminant_taxon)\n",
    "\n",
    "corr_nc <- tibble(non_contaminant_taxon = colnames(df_filt)[!(colnames(df_filt) %in% c(\"npm_research_id\", \n",
    "                                                                                       corr_c$contaminants, \n",
    "                                                                                       diff_prev_contams))])"
   ]
  },
  {
   "cell_type": "markdown",
   "id": "b34eb0e5",
   "metadata": {},
   "source": [
    "### Parse and save results"
   ]
  },
  {
   "cell_type": "code",
   "execution_count": null,
   "id": "c5ee1861",
   "metadata": {},
   "outputs": [],
   "source": [
    "corr_t <- 0.7\n",
    "\n",
    "fwrite(corr_res,  \n",
    "       str_glue(\"results/decontamination/correlation_decontamination_relaxed_threshold/corr_raw.diff_prev_V3.RA0.001.read_threshold0.max_prev{max_prev_t}.fold_diff{fold_diff_t}.corr_t{corr_t}.within_batch.S.n9999.txt\"))\n",
    "fwrite(corr_c, \n",
    "       str_glue(\"results/decontamination/correlation_decontamination_relaxed_threshold/contam.diff_prev_V3.RA0.001.read_threshold0.max_prev{max_prev_t}.fold_diff{fold_diff_t}.corr_t{corr_t}.within_batch.S.n9999.txt\"))\n",
    "fwrite(corr_nc, \n",
    "       str_glue(\"results/decontamination/correlation_decontamination_relaxed_threshold/nc.diff_prev_V3.RA0.001.read_threshold0.max_prev{max_prev_t}.fold_diff{fold_diff_t}.corr_t{corr_t}.within_batch.S.n9999.txt\"))\n",
    "\n",
    "# print(length(corr_nc$non_contaminant_taxon))\n",
    "print(length(corr_c$contaminants))\n",
    "print(length(corr_nc$non_contaminant_taxon))"
   ]
  },
  {
   "cell_type": "markdown",
   "id": "763028c0",
   "metadata": {},
   "source": [
    "## Plot correlation heatmaps"
   ]
  },
  {
   "cell_type": "code",
   "execution_count": null,
   "id": "93bc8abf",
   "metadata": {},
   "outputs": [],
   "source": [
    "# plot_heatmap <- function(dat) {\n",
    "#     as.data.frame(cor(dat)) %>%\n",
    "#         rownames_to_column(\"taxa1\") %>%\n",
    "#         pivot_longer(!taxa1, names_to = \"taxa2\", values_to = \"rho\") %>%\n",
    "#                 mutate(fill_color = case_when(rho <= 0 ~ \"<0\",\n",
    "#                          rho > 0 & rho <= 0.1 ~ \"0-0.1\",\n",
    "#                          rho > 0.1 & rho <= 0.2 ~ \"0.1-0.2\",\n",
    "#                          rho > 0.2 & rho <= 0.3 ~ \"0.2-0.3\",\n",
    "#                          rho > 0.3 & rho <= 0.5 ~  \"0.3-0.5\",\n",
    "#                          rho > 0.5 & rho <= 0.7 ~ \"0.5-0.7\",\n",
    "#                          rho > 0.7 ~ \">0.7\")) %>%\n",
    "#         mutate(fill_color = factor(fill_color, levels = c(\"<0\", \"0-0.1\", \"0.1-0.2\", \"0.2-0.3\", \"0.3-0.5\", \"0.5-0.7\", \">0.7\"))) %>%\n",
    "#         ggplot(aes(x = taxa1, y = taxa2, fill = fill_color)) + \n",
    "#         geom_tile() +\n",
    "#         scale_fill_manual(values = c(\"#6699cc\", \"#ffffcc\", \"#f39b7fb2\", \"#e64b35b2\", \"#d11141\", \"darkred\", \"black\"), drop = F) +\n",
    "#         theme(axis.text.x = element_text(angle = 45, hjust = 1),\n",
    "#               axis.title = element_blank()) +\n",
    "#     labs(fill = \"Rho\", title = str_glue(\"n = {nrow(dat)}\"))\n",
    "# }"
   ]
  },
  {
   "cell_type": "code",
   "execution_count": null,
   "id": "d20f2e0b",
   "metadata": {
    "scrolled": true
   },
   "outputs": [],
   "source": [
    "# plot_iter <- list(c(\"site_supplying_sample\", \"MEC\"), \n",
    "#                   c(\"extraction_kit\", \"Chemagic DNA Blood Kit (Perkin Elmer, MA)\"),\n",
    "#                   c(\"hiseq_xtm_sbs_kit_300_cycles_v2__box_1of_2__lot\", \"20392972\"),\n",
    "#                   c(\"hiseq_xtm_flow_cell_v2_5_lot\", \"20367079\"))\n",
    "\n",
    "# for (item in plot_iter) {\n",
    "#     var_name <- item[1]\n",
    "#     level_name <- item[2]\n",
    "#     mec_contam <- corr_res %>% \n",
    "#         filter(level == level_name) %>%\n",
    "#         filter(rho > 0.7)\n",
    "#     mec_contam <- c(mec_contam$contaminant_taxon, mec_contam$non_contaminant_taxon)\n",
    "\n",
    "#     mec_nc <- corr_res %>% \n",
    "#         filter(level == level_name) %>%\n",
    "#         filter(rho <= 0.7)\n",
    "#     mec_nc <- mec_nc$non_contaminant_taxon\n",
    "\n",
    "#     contam_df <- df_filt %>% \n",
    "#         left_join(meta_filt) %>%\n",
    "#         filter(get(var_name) == level_name) %>%\n",
    "#         select(all_of(mec_contam))\n",
    "#     nc_df <- df_filt %>% \n",
    "#         left_join(meta_filt) %>%\n",
    "#         filter(get(var_name) == level_name) %>%\n",
    "#         select(all_of(mec_nc))\n",
    "\n",
    "#     plot_heatmap(contam_df)\n",
    "#     ggsave(str_glue(\"results/decontamination/correlation_decontamination_relaxed_threshold/correlation_contaminants.{var_name}.{level_name}.png\"), \n",
    "#            dpi = 300, \n",
    "#            height = 6.67, width = 7.5)\n",
    "#     plot_heatmap(nc_df)\n",
    "#         ggsave(str_glue(\"results/decontamination/correlation_decontamination_relaxed_threshold/correlation_non_contaminants.{var_name}.{level_name}.png\"), \n",
    "#            dpi = 300, \n",
    "#            height = 6.67, width = 7.5)\n",
    "# }\n"
   ]
  }
 ],
 "metadata": {
  "kernelspec": {
   "display_name": "R",
   "language": "R",
   "name": "ir"
  },
  "language_info": {
   "codemirror_mode": "r",
   "file_extension": ".r",
   "mimetype": "text/x-r-source",
   "name": "R",
   "pygments_lexer": "r",
   "version": "4.1.0"
  }
 },
 "nbformat": 4,
 "nbformat_minor": 5
}
