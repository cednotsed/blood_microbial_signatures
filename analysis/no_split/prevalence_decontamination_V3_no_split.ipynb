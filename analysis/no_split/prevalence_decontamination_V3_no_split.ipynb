{
 "cells": [
  {
   "cell_type": "markdown",
   "id": "fe3f3f5c",
   "metadata": {},
   "source": [
    "# Identication of putative contaminant taxa"
   ]
  },
  {
   "cell_type": "code",
   "execution_count": 1,
   "id": "440f3650",
   "metadata": {
    "scrolled": true
   },
   "outputs": [
    {
     "name": "stderr",
     "output_type": "stream",
     "text": [
      "Loading required package: foreach\n",
      "\n",
      "Loading required package: tidyverse\n",
      "\n",
      "Warning message in system(\"timedatectl\", intern = TRUE):\n",
      "“running command 'timedatectl' had status 1”\n",
      "── \u001b[1mAttaching packages\u001b[22m ─────────────────────────────────────────────────────────────────────────────── tidyverse 1.3.1 ──\n",
      "\n",
      "\u001b[32m✔\u001b[39m \u001b[34mggplot2\u001b[39m 3.3.5     \u001b[32m✔\u001b[39m \u001b[34mpurrr  \u001b[39m 0.3.4\n",
      "\u001b[32m✔\u001b[39m \u001b[34mtibble \u001b[39m 3.1.6     \u001b[32m✔\u001b[39m \u001b[34mdplyr  \u001b[39m 1.0.7\n",
      "\u001b[32m✔\u001b[39m \u001b[34mtidyr  \u001b[39m 1.1.4     \u001b[32m✔\u001b[39m \u001b[34mstringr\u001b[39m 1.4.0\n",
      "\u001b[32m✔\u001b[39m \u001b[34mreadr  \u001b[39m 2.1.0     \u001b[32m✔\u001b[39m \u001b[34mforcats\u001b[39m 0.5.1\n",
      "\n",
      "── \u001b[1mConflicts\u001b[22m ────────────────────────────────────────────────────────────────────────────────── tidyverse_conflicts() ──\n",
      "\u001b[31m✖\u001b[39m \u001b[34mpurrr\u001b[39m::\u001b[32maccumulate()\u001b[39m masks \u001b[34mforeach\u001b[39m::accumulate()\n",
      "\u001b[31m✖\u001b[39m \u001b[34mdplyr\u001b[39m::\u001b[32mfilter()\u001b[39m     masks \u001b[34mstats\u001b[39m::filter()\n",
      "\u001b[31m✖\u001b[39m \u001b[34mdplyr\u001b[39m::\u001b[32mlag()\u001b[39m        masks \u001b[34mstats\u001b[39m::lag()\n",
      "\u001b[31m✖\u001b[39m \u001b[34mpurrr\u001b[39m::\u001b[32mwhen()\u001b[39m       masks \u001b[34mforeach\u001b[39m::when()\n",
      "\n",
      "Loading required package: data.table\n",
      "\n",
      "\n",
      "Attaching package: ‘data.table’\n",
      "\n",
      "\n",
      "The following objects are masked from ‘package:dplyr’:\n",
      "\n",
      "    between, first, last\n",
      "\n",
      "\n",
      "The following object is masked from ‘package:purrr’:\n",
      "\n",
      "    transpose\n",
      "\n",
      "\n",
      "Loading required package: doParallel\n",
      "\n",
      "Loading required package: iterators\n",
      "\n",
      "Loading required package: parallel\n",
      "\n",
      "Loading required package: compositions\n",
      "\n",
      "Welcome to compositions, a package for compositional data analysis.\n",
      "Find an intro with \"? compositions\"\n",
      "\n",
      "\n",
      "\n",
      "Attaching package: ‘compositions’\n",
      "\n",
      "\n",
      "The following objects are masked from ‘package:stats’:\n",
      "\n",
      "    anova, cor, cov, dist, var\n",
      "\n",
      "\n",
      "The following objects are masked from ‘package:base’:\n",
      "\n",
      "    %*%, norm, scale, scale.default\n",
      "\n",
      "\n",
      "Loading required package: VennDiagram\n",
      "\n",
      "Loading required package: grid\n",
      "\n",
      "Loading required package: futile.logger\n",
      "\n"
     ]
    }
   ],
   "source": [
    "setwd(\"/mnt/c/Users/Cedric/Desktop/git_repos/blood_microbiome\")\n",
    "require(foreach)\n",
    "require(tidyverse)\n",
    "require(ggplot2)\n",
    "require(data.table)\n",
    "require(doParallel)\n",
    "require(compositions)\n",
    "require(VennDiagram)\n",
    "registerDoParallel(cores=9)"
   ]
  },
  {
   "cell_type": "markdown",
   "id": "baac75b5",
   "metadata": {},
   "source": [
    "### Data processing functions"
   ]
  },
  {
   "cell_type": "code",
   "execution_count": 2,
   "id": "4b5109a4",
   "metadata": {
    "scrolled": true
   },
   "outputs": [],
   "source": [
    "load_data <- function(file_path) {\n",
    "    dat <- as.data.frame(fread(file_path)) %>%\n",
    "        separate(sample, into = c(NA, \"npm_research_id\"), sep = \"\\\\.\")\n",
    "    return(dat)\n",
    "}\n",
    "\n",
    "\n",
    "load_metadata <- function(file_path, dat) {\n",
    "    meta <- fread(file_path, na.strings=c(\"\", NA))\n",
    "    meta <- meta %>% \n",
    "        filter(npm_research_id %in% dat$npm_research_id) %>%\n",
    "        select(-removal_requested_by_supplier) %>%\n",
    "        replace(is.na(.), \"unknown\")\n",
    "    return(meta)\n",
    "}\n",
    "\n",
    "\n",
    "subset_metadata <- function(meta, n_subset) {\n",
    "    meta <- as.data.frame(meta)\n",
    "    cohorts <- unique(meta$site_supplying_sample)\n",
    "    subset_vec <- c()\n",
    "\n",
    "    for (i in cohorts) {\n",
    "        ids <- meta$npm_research_id[meta$site_supplying_sample == i]\n",
    "        \n",
    "        if (length(ids) > n_subset) {\n",
    "            subset_ids <- sample(ids, n_subset)\n",
    "            subset_vec <- c(subset_vec, subset_ids)\n",
    "        } else {\n",
    "            subset_vec <- c(subset_vec, ids)\n",
    "        }\n",
    "    }\n",
    "\n",
    "    meta_sub <- meta %>%\n",
    "      filter(npm_research_id %in% subset_vec) \n",
    "    return(meta_sub)\n",
    "}\n",
    "\n",
    "\n",
    "retrieve_rows_from_meta <- function(dat, meta) {\n",
    "    return(dat %>% filter(npm_research_id %in% meta$npm_research_id)) \n",
    "}\n",
    "\n",
    "\n",
    "remove_cols <- function(dat, col_to_exclude) {\n",
    "    return(dat %>% select(-all_of(col_to_exclude)))\n",
    "}\n",
    "\n",
    "\n",
    "remove_low_freq_taxa <- function(dat, frac_presence) {\n",
    "    n_original <- ncol(dat[, colnames(dat) != \"npm_research_id\"])\n",
    "    PA_df <- apply(dat[, 2:ncol(dat)], 2, function(x) {ifelse(x > 0, T, F)})\n",
    "    frac_df <- apply(PA_df, 2, function(x) {sum(x) / nrow(PA_df)})\n",
    "    to_keep <- names(frac_df[frac_df > frac_presence])\n",
    "    to_keep <- c(\"npm_research_id\", to_keep)\n",
    "    n_new <- length(to_keep) - 1\n",
    "    print(str_glue(\"{n_new} / {n_original} taxa are present in {frac_presence} of samples\"))\n",
    "    return(dat %>% select(all_of(to_keep)))\n",
    "}\n",
    "\n",
    "\n",
    "otu_to_RA <- function(dat) {\n",
    "    mat <- as.matrix(dat[, colnames(dat) != \"npm_research_id\"])\n",
    "    RA_df <- as.data.frame(mat / rowSums(mat))\n",
    "    RA_df <- add_column(RA_df, dat$npm_research_id, .before = 1)\n",
    "    colnames(RA_df)[1] <- \"npm_research_id\"\n",
    "    \n",
    "    return(RA_df)\n",
    "}\n",
    "\n",
    "\n",
    "get_meta_cols <- function(meta, meta_regex, to_exclude) {\n",
    "    meta_cols <- colnames(meta)[grep(meta_regex, colnames(meta))]\n",
    "    meta_cols <- meta_cols[!(meta_cols %in% to_exclude)]\n",
    "    return(meta_cols)\n",
    "}\n",
    "\n",
    "\n",
    "otu_to_PA <- function(dat, read_threshold) {\n",
    "    prev_read <- dat %>%\n",
    "        column_to_rownames(\"npm_research_id\")\n",
    "    \n",
    "    prev_read[prev_read <= read_threshold] <- F\n",
    "    prev_read[prev_read > read_threshold] <- T\n",
    "\n",
    "    return(prev_read)\n",
    "}\n",
    "\n",
    "\n",
    "RA_to_PA <- function(RA_df, PA_threshold) {\n",
    "    prev_RA <- RA_df %>% column_to_rownames(\"npm_research_id\")\n",
    "    prev_RA[prev_RA <= PA_threshold] <- F\n",
    "    prev_RA[prev_RA > PA_threshold] <- T\n",
    "    \n",
    "    return(prev_RA)\n",
    "}\n",
    "\n",
    "\n",
    "RA_to_clr <- function(dat) {\n",
    "    mat <- dat[, colnames(dat) != \"npm_research_id\"]\n",
    "    clr_df <- clr(mat)\n",
    "    return(cbind(data.frame(npm_research_id = dat$npm_research_id), as.data.frame(clr_df, check.names = F)))\n",
    "}\n",
    "\n",
    "\n",
    "filter_taxa_by_presence <- function(prev_df, presence_t) {\n",
    "    taxa_counts <- apply(prev_df, 2, sum)\n",
    "    to_keep <- names(taxa_counts)[taxa_counts > presence_t]\n",
    "    return(prev_df %>% select(all_of(to_keep)))\n",
    "}"
   ]
  },
  {
   "cell_type": "markdown",
   "id": "363b9d21",
   "metadata": {},
   "source": [
    "### Decontamination functions"
   ]
  },
  {
   "cell_type": "code",
   "execution_count": 3,
   "id": "74236fa1",
   "metadata": {},
   "outputs": [],
   "source": [
    "filter_batch_levels <- function(dat, metadat, column) {\n",
    "    # Remove levels with < x samples\n",
    "    tmp <- tibble(data.frame(metadat)) %>%\n",
    "            group_by(get(column)) %>%\n",
    "            summarise(n = n())\n",
    "\n",
    "    # Vector of group levels to keep\n",
    "    to_keep <- tmp[tmp$n >= min_samples, \"get(column)\"]$`get(column)`\n",
    "    to_keep <- to_keep[to_keep != \"Unknown\"]\n",
    "    n_levels <- length(to_keep)\n",
    "\n",
    "    if (n_levels < 2) {\n",
    "        print(str_glue(\"After pruning, {column} has < 2 levels\"))\n",
    "    } else {\n",
    "        print(str_glue(\"After pruning, {column} has {n_levels} levels\"))\n",
    "    }\n",
    "\n",
    "    # Remove rows in metadata\n",
    "    dat_meta <- dat %>%\n",
    "        left_join(metadat, by = \"npm_research_id\") %>%\n",
    "        filter(get(column) %in% to_keep)\n",
    "\n",
    "    return(dat_meta)\n",
    "}\n",
    "\n",
    "\n",
    "get_taxon_diff_prev <- function(dat_meta, column, taxon) {\n",
    "    prev_stats <- dat_meta %>%\n",
    "        group_by_at(c(column)) %>%\n",
    "        summarise(prevalence = sum(get(taxon)) / n())\n",
    "\n",
    "    max_prev <- max(prev_stats$prevalence)\n",
    "    min_prev <- min(prev_stats$prevalence)\n",
    "    fold_diff <- max_prev / min_prev\n",
    "    max_level <- pull(prev_stats, column)[which(prev_stats$prevalence == max(prev_stats$prevalence))][1]\n",
    "    min_level <- pull(prev_stats, column)[which(prev_stats$prevalence == min(prev_stats$prevalence))][1]\n",
    "\n",
    "    crumb <- tibble(taxa = taxon, meta_col = column,\n",
    "           max_level = max_level, min_level = min_level, \n",
    "           max_prev = max_prev, min_prev = min_prev,\n",
    "           fold_diff = fold_diff)\n",
    "\n",
    "    crumb <- distinct(crumb, taxa, .keep_all = T)\n",
    "\n",
    "    return(crumb)\n",
    "}\n",
    "\n",
    "get_diff_prev <- function(dat, metadat, meta_cols, taxa_vec, prev_threshold, min_samples) {\n",
    "    morsels <- foreach (column = meta_cols) %do% {\n",
    "        dat_meta <- filter_batch_levels(dat, metadat, column)\n",
    "        \n",
    "        crumbs <- foreach (taxon = taxa_vec) %dopar% {\n",
    "            get_taxon_diff_prev(dat_meta, column, taxon)\n",
    "        }\n",
    "        \n",
    "        stopImplicitCluster()\n",
    "        \n",
    "        morsel <- bind_rows(crumbs)\n",
    "        return(morsel)\n",
    "    }\n",
    "\n",
    "    result_df <- bind_rows(morsels)\n",
    "    return(result_df)\n",
    "}\n",
    "\n",
    "\n",
    "preprocess_data <- function(dat, meta_filt, RA_threshold, read_threshold, presence_t) {\n",
    "    # Filter data\n",
    "    df_filt <- retrieve_rows_from_meta(dat, meta_filt)\n",
    "    df_filt2 <- remove_cols(df_filt, c(human, \"unclassified\"))\n",
    "    RA_df <- otu_to_RA(df_filt2)\n",
    "    prev_RA <- RA_to_PA(RA_df, RA_threshold)\n",
    "    prev_read <- otu_to_PA(df_filt2, read_threshold)\n",
    "    prev_df <- as.data.frame(prev_read & prev_RA)\n",
    "    prev_df <- filter_taxa_by_presence(prev_df, presence_t = presence_t) # Remove taxa that are not present in any samples\n",
    "    prev_df <- prev_df %>% rownames_to_column(\"npm_research_id\")\n",
    "    return(prev_df)\n",
    "}\n",
    "\n",
    "decontaminate <- function(dat, meta_filt, meta_cols, human, RA_threshold, read_threshold, presence_t, min_samples, taxa_vec = NA) {\n",
    "    # Preprocess df\n",
    "    prev_df <- preprocess_data(dat, meta_filt, RA_threshold, read_threshold, presence_t)\n",
    "    \n",
    "    # Get list of taxa\n",
    "    if (is.na(taxa_vec)) {\n",
    "        taxa_vec <- colnames(prev_df)\n",
    "        taxa_vec <- taxa_vec[taxa_vec != \"npm_research_id\"]\n",
    "    }\n",
    "\n",
    "    # Differential prevalence\n",
    "    res <- get_diff_prev(prev_df, meta_filt, meta_cols, taxa_vec, min_samples = min_samples)\n",
    "\n",
    "    return(res)\n",
    "}"
   ]
  },
  {
   "cell_type": "markdown",
   "id": "94d384b2",
   "metadata": {},
   "source": [
    "### Run decontamination"
   ]
  },
  {
   "cell_type": "code",
   "execution_count": 4,
   "id": "fe052d51",
   "metadata": {},
   "outputs": [
    {
     "name": "stdout",
     "output_type": "stream",
     "text": [
      "After pruning, site_supplying_sample has 6 levels\n",
      "After pruning, extraction_kit has 6 levels\n",
      "After pruning, library_prep_kit has 3 levels\n",
      "After pruning, hiseq_xtm_sbs_kit_300_cycles_v2__box_1of_2__lot has 20 levels\n",
      "After pruning, hiseq_xtm_sbs_kit_300_cycles_v2__box_2_of_2__lot has 19 levels\n",
      "After pruning, hiseq_xtm_pe_cluster_kit_cbottm_v2__box_1_of_2__lot has 19 levels\n",
      "After pruning, hiseq_xtm_pe_cluster_kit_cbottm_v2__box_2_of_2__lot has 23 levels\n",
      "After pruning, hiseq_xtm_flow_cell_v2_5_lot has 19 levels\n"
     ]
    }
   ],
   "source": [
    "human <- \"Homo sapiens\"\n",
    "RA_threshold <- 0.005\n",
    "read_threshold <- 10\n",
    "presence_t <- 0\n",
    "min_samples <- 100\n",
    "\n",
    "# Load data and remove low microbial read samples\n",
    "to_retain <- fread(\"data/samples_above_100_microbial_reads.txt\")$npm_research_id\n",
    "\n",
    "df <- load_data(str_glue(\"data/taxonomic_profiles/07_abundance_matrix/abundance_matrix.S.pipeline2_210322.tsv\")) %>% \n",
    "    filter(npm_research_id %in% to_retain)\n",
    "\n",
    "meta <- load_metadata(\"data/SG10K_Health_metadata.n10714.16March2021.parsed.csv\", df) %>% \n",
    "    filter(npm_research_id %in% to_retain)\n",
    "\n",
    "# Get metadata columns of interest\n",
    "meta_cols <- get_meta_cols(meta, \n",
    "                           meta_regex = \"kit|flow_cell|site_supplying\", \n",
    "                           to_exclude = c(\"hiseq_xtm_flow_cell_v2_5_id\"))\n",
    "\n",
    "# Get abundance matrix of non-zero taxa\n",
    "df_zeroed <- preprocess_data(df, meta, RA_threshold, read_threshold, presence_t)\n",
    "# fwrite(df_zeroed, str_glue(\"results/decontamination/prevalence_RA{RA_threshold}_read{read_threshold}.csv\"))\n",
    "\n",
    "# Run decontamination\n",
    "decon_raw <- decontaminate(df, meta_filt = meta, meta_cols = meta_cols, \n",
    "                           human = human, RA_threshold = RA_threshold, read_threshold = read_threshold, \n",
    "                           presence_t = presence_t, min_samples = min_samples)"
   ]
  },
  {
   "cell_type": "code",
   "execution_count": 5,
   "id": "5d49d768",
   "metadata": {},
   "outputs": [
    {
     "data": {
      "text/html": [
       "<table class=\"dataframe\">\n",
       "<caption>A tibble: 9 × 3</caption>\n",
       "<thead>\n",
       "\t<tr><th scope=col>max_prev</th><th scope=col>fold_diff</th><th scope=col>n_contam</th></tr>\n",
       "\t<tr><th scope=col>&lt;dbl&gt;</th><th scope=col>&lt;dbl&gt;</th><th scope=col>&lt;int&gt;</th></tr>\n",
       "</thead>\n",
       "<tbody>\n",
       "\t<tr><td>0.25</td><td> 2</td><td>160</td></tr>\n",
       "\t<tr><td>0.25</td><td> 5</td><td>160</td></tr>\n",
       "\t<tr><td>0.25</td><td>10</td><td>160</td></tr>\n",
       "\t<tr><td>0.50</td><td> 2</td><td>118</td></tr>\n",
       "\t<tr><td>0.50</td><td> 5</td><td>118</td></tr>\n",
       "\t<tr><td>0.50</td><td>10</td><td>118</td></tr>\n",
       "\t<tr><td>0.75</td><td> 2</td><td> 83</td></tr>\n",
       "\t<tr><td>0.75</td><td> 5</td><td> 83</td></tr>\n",
       "\t<tr><td>0.75</td><td>10</td><td> 83</td></tr>\n",
       "</tbody>\n",
       "</table>\n"
      ],
      "text/latex": [
       "A tibble: 9 × 3\n",
       "\\begin{tabular}{lll}\n",
       " max\\_prev & fold\\_diff & n\\_contam\\\\\n",
       " <dbl> & <dbl> & <int>\\\\\n",
       "\\hline\n",
       "\t 0.25 &  2 & 160\\\\\n",
       "\t 0.25 &  5 & 160\\\\\n",
       "\t 0.25 & 10 & 160\\\\\n",
       "\t 0.50 &  2 & 118\\\\\n",
       "\t 0.50 &  5 & 118\\\\\n",
       "\t 0.50 & 10 & 118\\\\\n",
       "\t 0.75 &  2 &  83\\\\\n",
       "\t 0.75 &  5 &  83\\\\\n",
       "\t 0.75 & 10 &  83\\\\\n",
       "\\end{tabular}\n"
      ],
      "text/markdown": [
       "\n",
       "A tibble: 9 × 3\n",
       "\n",
       "| max_prev &lt;dbl&gt; | fold_diff &lt;dbl&gt; | n_contam &lt;int&gt; |\n",
       "|---|---|---|\n",
       "| 0.25 |  2 | 160 |\n",
       "| 0.25 |  5 | 160 |\n",
       "| 0.25 | 10 | 160 |\n",
       "| 0.50 |  2 | 118 |\n",
       "| 0.50 |  5 | 118 |\n",
       "| 0.50 | 10 | 118 |\n",
       "| 0.75 |  2 |  83 |\n",
       "| 0.75 |  5 |  83 |\n",
       "| 0.75 | 10 |  83 |\n",
       "\n"
      ],
      "text/plain": [
       "  max_prev fold_diff n_contam\n",
       "1 0.25      2        160     \n",
       "2 0.25      5        160     \n",
       "3 0.25     10        160     \n",
       "4 0.50      2        118     \n",
       "5 0.50      5        118     \n",
       "6 0.50     10        118     \n",
       "7 0.75      2         83     \n",
       "8 0.75      5         83     \n",
       "9 0.75     10         83     "
      ]
     },
     "metadata": {},
     "output_type": "display_data"
    }
   ],
   "source": [
    "morsels <- foreach(max_prev_t = c(0.25, 0.5, 0.75)) %do% {\n",
    "    crumbs <- foreach(fold_diff_t = c(2, 5, 10)) %do% {\n",
    "        temp_contam <- decon_raw %>%\n",
    "            mutate(diff_abn = ifelse(fold_diff > fold_diff_t, T, F)) %>%\n",
    "            filter(max_prev > max_prev_t, diff_abn) %>%\n",
    "            distinct(taxa)\n",
    "\n",
    "        \n",
    "        tibble(max_prev = max_prev_t, fold_diff = fold_diff_t, n_contam = length(temp_contam$taxa))\n",
    "    }\n",
    "    \n",
    "    return(bind_rows(crumbs))\n",
    "}\n",
    "\n",
    "bind_rows(morsels)"
   ]
  },
  {
   "cell_type": "code",
   "execution_count": 6,
   "id": "8b36f0c8",
   "metadata": {
    "scrolled": true
   },
   "outputs": [],
   "source": [
    "max_prev_t <- 0.25\n",
    "fold_diff_t <- 2\n",
    "\n",
    "contam <- decon_raw %>%\n",
    "    mutate(diff_abn = ifelse(fold_diff > fold_diff_t, T, F)) %>%\n",
    "    filter(max_prev > max_prev_t, diff_abn) %>%\n",
    "    distinct(taxa)\n",
    "\n",
    "\n",
    "nc <- colnames(df_zeroed)\n",
    "nc <- nc[!(nc %in% contam$taxa)]\n",
    "nc <- tibble(taxa = nc[nc != \"npm_research_id\"])"
   ]
  },
  {
   "cell_type": "code",
   "execution_count": 7,
   "id": "a017fbce",
   "metadata": {},
   "outputs": [
    {
     "data": {
      "text/html": [
       "160"
      ],
      "text/latex": [
       "160"
      ],
      "text/markdown": [
       "160"
      ],
      "text/plain": [
       "[1] 160"
      ]
     },
     "metadata": {},
     "output_type": "display_data"
    },
    {
     "data": {
      "text/html": [
       "710"
      ],
      "text/latex": [
       "710"
      ],
      "text/markdown": [
       "710"
      ],
      "text/plain": [
       "[1] 710"
      ]
     },
     "metadata": {},
     "output_type": "display_data"
    }
   ],
   "source": [
    "length(contam$taxa)\n",
    "length(nc$taxa)"
   ]
  },
  {
   "cell_type": "markdown",
   "id": "24b85719",
   "metadata": {},
   "source": [
    "#### Determine how many taxa were not analysable"
   ]
  },
  {
   "cell_type": "code",
   "execution_count": 8,
   "id": "f70be4ff",
   "metadata": {},
   "outputs": [
    {
     "data": {
      "text/html": [
       "710"
      ],
      "text/latex": [
       "710"
      ],
      "text/markdown": [
       "710"
      ],
      "text/plain": [
       "[1] 710"
      ]
     },
     "metadata": {},
     "output_type": "display_data"
    }
   ],
   "source": [
    "not_analysable <- decon_raw %>%\n",
    "    group_by(taxa) %>%\n",
    "    summarise(max_max_prev = max(max_prev)) %>%\n",
    "    filter(max_max_prev <= 0.25)\n",
    "\n",
    "sum(not_analysable$taxa %in% nc$taxa)"
   ]
  },
  {
   "cell_type": "code",
   "execution_count": 9,
   "id": "919e386a",
   "metadata": {},
   "outputs": [],
   "source": [
    "fwrite(decon_raw, str_glue(\"results/decontamination/diff_prev_V3_no_split/decon_V3_raw.RA{RA_threshold}.read_threshold{read_threshold}.csv\"))\n",
    "fwrite(contam, str_glue(\"results/decontamination/diff_prev_V3_no_split/contaminants.RA{RA_threshold}.read_threshold{read_threshold}.max_prev{max_prev_t}.fold_diff{fold_diff_t}.txt\"))\n",
    "fwrite(nc, str_glue(\"results/decontamination/diff_prev_V3_no_split/noncontaminants.RA{RA_threshold}.read_threshold{read_threshold}.max_prev{max_prev_t}.fold_diff{fold_diff_t}.txt\"))\n"
   ]
  },
  {
   "cell_type": "markdown",
   "id": "16852755",
   "metadata": {},
   "source": [
    "### Sanity check"
   ]
  },
  {
   "cell_type": "code",
   "execution_count": 10,
   "id": "aa0348f1",
   "metadata": {},
   "outputs": [
    {
     "name": "stderr",
     "output_type": "stream",
     "text": [
      "Joining, by = \"npm_research_id\"\n",
      "Saving 6.67 x 6.67 in image\n",
      "\n",
      "Joining, by = \"npm_research_id\"\n",
      "Saving 6.67 x 6.67 in image\n",
      "\n"
     ]
    }
   ],
   "source": [
    "column <- \"extraction_kit\"\n",
    "# column <- \"hiseq_xtm_sbs_kit_300_cycles_v2__box_2_of_2__lot\"\n",
    "\n",
    "for (taxon in c(\"Stenotrophomonas maltophilia\", \"Alcaligenes faecalis\")) {\n",
    "    df_zeroed %>% \n",
    "        left_join(meta) %>%\n",
    "        group_by_at(c(column)) %>%\n",
    "        summarise(prevalence = sum(get(taxon)) / n()) %>%\n",
    "        filter(get(column) != \"Unknown\") %>%\n",
    "        ggplot(aes(x = get(column), y = prevalence)) +\n",
    "            geom_bar(stat = \"identity\") +\n",
    "            theme(axis.text.x = element_text(angle = 45, hjust = 1)) +\n",
    "        ylim(0, 1) +\n",
    "        labs(x = column, y = \"Prevalence\", title = taxon)\n",
    "    ggsave(str_glue(\"results/decontamination/diff_prev_V3/{taxon}.{column}.batch_prevalence.png\"), dpi = 300)\n",
    "}"
   ]
  }
 ],
 "metadata": {
  "kernelspec": {
   "display_name": "R",
   "language": "R",
   "name": "ir"
  },
  "language_info": {
   "codemirror_mode": "r",
   "file_extension": ".r",
   "mimetype": "text/x-r-source",
   "name": "R",
   "pygments_lexer": "r",
   "version": "4.1.0"
  }
 },
 "nbformat": 4,
 "nbformat_minor": 5
}
