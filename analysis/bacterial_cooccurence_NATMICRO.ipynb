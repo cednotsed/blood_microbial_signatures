{
 "cells": [
  {
   "cell_type": "markdown",
   "id": "f799b42b",
   "metadata": {},
   "source": [
    "# Cooccurence network using sparCC"
   ]
  },
  {
   "cell_type": "code",
   "execution_count": 1,
   "id": "bc15bd3e",
   "metadata": {
    "scrolled": true
   },
   "outputs": [
    {
     "name": "stderr",
     "output_type": "stream",
     "text": [
      "Loading required package: tidyverse\n",
      "\n",
      "Warning message:\n",
      "“package ‘tidyverse’ was built under R version 4.1.3”\n",
      "Warning message in system(\"timedatectl\", intern = TRUE):\n",
      "“running command 'timedatectl' had status 1”\n",
      "── \u001b[1mAttaching packages\u001b[22m ───────────────────────────────────────────────────────────────────────────────────────────────────────────────────── tidyverse 1.3.2 ──\n",
      "\u001b[32m✔\u001b[39m \u001b[34mggplot2\u001b[39m 3.4.0     \u001b[32m✔\u001b[39m \u001b[34mpurrr  \u001b[39m 1.0.1\n",
      "\u001b[32m✔\u001b[39m \u001b[34mtibble \u001b[39m 3.1.8     \u001b[32m✔\u001b[39m \u001b[34mdplyr  \u001b[39m 1.1.0\n",
      "\u001b[32m✔\u001b[39m \u001b[34mtidyr  \u001b[39m 1.3.0     \u001b[32m✔\u001b[39m \u001b[34mstringr\u001b[39m 1.5.0\n",
      "\u001b[32m✔\u001b[39m \u001b[34mreadr  \u001b[39m 2.1.3     \u001b[32m✔\u001b[39m \u001b[34mforcats\u001b[39m 1.0.0\n",
      "Warning message:\n",
      "“package ‘ggplot2’ was built under R version 4.1.3”\n",
      "Warning message:\n",
      "“package ‘tibble’ was built under R version 4.1.3”\n",
      "Warning message:\n",
      "“package ‘tidyr’ was built under R version 4.1.3”\n",
      "Warning message:\n",
      "“package ‘readr’ was built under R version 4.1.3”\n",
      "Warning message:\n",
      "“package ‘purrr’ was built under R version 4.1.3”\n",
      "Warning message:\n",
      "“package ‘dplyr’ was built under R version 4.1.3”\n",
      "Warning message:\n",
      "“package ‘stringr’ was built under R version 4.1.3”\n",
      "Warning message:\n",
      "“package ‘forcats’ was built under R version 4.1.3”\n",
      "── \u001b[1mConflicts\u001b[22m ──────────────────────────────────────────────────────────────────────────────────────────────────────────────────────── tidyverse_conflicts() ──\n",
      "\u001b[31m✖\u001b[39m \u001b[34mdplyr\u001b[39m::\u001b[32mfilter()\u001b[39m masks \u001b[34mstats\u001b[39m::filter()\n",
      "\u001b[31m✖\u001b[39m \u001b[34mdplyr\u001b[39m::\u001b[32mlag()\u001b[39m    masks \u001b[34mstats\u001b[39m::lag()\n",
      "Loading required package: data.table\n",
      "\n",
      "Warning message:\n",
      "“package ‘data.table’ was built under R version 4.1.3”\n",
      "\n",
      "Attaching package: ‘data.table’\n",
      "\n",
      "\n",
      "The following objects are masked from ‘package:dplyr’:\n",
      "\n",
      "    between, first, last\n",
      "\n",
      "\n",
      "The following object is masked from ‘package:purrr’:\n",
      "\n",
      "    transpose\n",
      "\n",
      "\n",
      "Loading required package: igraph\n",
      "\n",
      "\n",
      "Attaching package: ‘igraph’\n",
      "\n",
      "\n",
      "The following objects are masked from ‘package:dplyr’:\n",
      "\n",
      "    as_data_frame, groups, union\n",
      "\n",
      "\n",
      "The following objects are masked from ‘package:purrr’:\n",
      "\n",
      "    compose, simplify\n",
      "\n",
      "\n",
      "The following object is masked from ‘package:tidyr’:\n",
      "\n",
      "    crossing\n",
      "\n",
      "\n",
      "The following object is masked from ‘package:tibble’:\n",
      "\n",
      "    as_data_frame\n",
      "\n",
      "\n",
      "The following objects are masked from ‘package:stats’:\n",
      "\n",
      "    decompose, spectrum\n",
      "\n",
      "\n",
      "The following object is masked from ‘package:base’:\n",
      "\n",
      "    union\n",
      "\n",
      "\n",
      "Loading required package: Matrix\n",
      "\n",
      "Warning message:\n",
      "“package ‘Matrix’ was built under R version 4.1.3”\n",
      "\n",
      "Attaching package: ‘Matrix’\n",
      "\n",
      "\n",
      "The following objects are masked from ‘package:tidyr’:\n",
      "\n",
      "    expand, pack, unpack\n",
      "\n",
      "\n",
      "Loading required package: SpiecEasi\n",
      "\n",
      "\n",
      "Attaching package: ‘SpiecEasi’\n",
      "\n",
      "\n",
      "The following objects are masked from ‘package:Matrix’:\n",
      "\n",
      "    tril, triu\n",
      "\n",
      "\n",
      "The following object is masked from ‘package:igraph’:\n",
      "\n",
      "    make_graph\n",
      "\n",
      "\n",
      "Loading required package: foreach\n",
      "\n",
      "Warning message:\n",
      "“package ‘foreach’ was built under R version 4.1.3”\n",
      "\n",
      "Attaching package: ‘foreach’\n",
      "\n",
      "\n",
      "The following objects are masked from ‘package:purrr’:\n",
      "\n",
      "    accumulate, when\n",
      "\n",
      "\n"
     ]
    }
   ],
   "source": [
    "setwd(\"/mnt/c/git_repos/blood_microbial_signatures/\")\n",
    "require(tidyverse)\n",
    "require(ggplot2)\n",
    "require(data.table)\n",
    "require(igraph)\n",
    "require(Matrix)\n",
    "require(SpiecEasi)\n",
    "require(foreach)"
   ]
  },
  {
   "cell_type": "code",
   "execution_count": 2,
   "id": "80c61b2b",
   "metadata": {},
   "outputs": [
    {
     "data": {
      "text/plain": [
       "R version 4.1.2 (2021-11-01)\n",
       "Platform: x86_64-conda-linux-gnu (64-bit)\n",
       "Running under: Ubuntu 18.04.6 LTS\n",
       "\n",
       "Matrix products: default\n",
       "BLAS/LAPACK: /home/cscstan/miniconda3/envs/r_env/lib/libopenblasp-r0.3.21.so\n",
       "\n",
       "locale:\n",
       " [1] LC_CTYPE=C.UTF-8       LC_NUMERIC=C           LC_TIME=C.UTF-8       \n",
       " [4] LC_COLLATE=C.UTF-8     LC_MONETARY=C.UTF-8    LC_MESSAGES=C.UTF-8   \n",
       " [7] LC_PAPER=C.UTF-8       LC_NAME=C              LC_ADDRESS=C          \n",
       "[10] LC_TELEPHONE=C         LC_MEASUREMENT=C.UTF-8 LC_IDENTIFICATION=C   \n",
       "\n",
       "attached base packages:\n",
       "[1] stats     graphics  grDevices utils     datasets  methods   base     \n",
       "\n",
       "other attached packages:\n",
       " [1] foreach_1.5.2     SpiecEasi_1.1.2   Matrix_1.5-3      igraph_1.3.5     \n",
       " [5] data.table_1.14.6 forcats_1.0.0     stringr_1.5.0     dplyr_1.1.0      \n",
       " [9] purrr_1.0.1       readr_2.1.3       tidyr_1.3.0       tibble_3.1.8     \n",
       "[13] ggplot2_3.4.0     tidyverse_1.3.2  \n",
       "\n",
       "loaded via a namespace (and not attached):\n",
       " [1] httr_1.4.4          VGAM_1.1-7          jsonlite_1.8.4     \n",
       " [4] splines_4.1.2       modelr_0.1.10       assertthat_0.2.1   \n",
       " [7] stats4_4.1.2        googlesheets4_1.0.1 cellranger_1.1.0   \n",
       "[10] pillar_1.8.1        backports_1.4.1     lattice_0.20-45    \n",
       "[13] glue_1.6.2          uuid_1.1-0          digest_0.6.31      \n",
       "[16] rvest_1.0.3         colorspace_2.1-0    htmltools_0.5.4    \n",
       "[19] pkgconfig_2.0.3     broom_1.0.3         haven_2.5.1        \n",
       "[22] pulsar_0.3.10       scales_1.2.1        tzdb_0.3.0         \n",
       "[25] huge_1.3.5          timechange_0.2.0    googledrive_2.0.0  \n",
       "[28] generics_0.1.3      ellipsis_0.3.2      withr_2.5.0        \n",
       "[31] repr_1.1.6          cli_3.6.0           survival_3.5-0     \n",
       "[34] magrittr_2.0.3      crayon_1.5.2        readxl_1.4.1       \n",
       "[37] evaluate_0.20       fs_1.6.0            fansi_1.0.4        \n",
       "[40] MASS_7.3-58.2       xml2_1.3.3          tools_4.1.2        \n",
       "[43] hms_1.1.2           gargle_1.2.1        lifecycle_1.0.3    \n",
       "[46] munsell_0.5.0       reprex_2.0.2        glmnet_4.1-6       \n",
       "[49] compiler_4.1.2      rlang_1.0.6         grid_4.1.2         \n",
       "[52] pbdZMQ_0.3-9        iterators_1.0.14    IRkernel_1.3.2     \n",
       "[55] base64enc_0.1-3     gtable_0.3.1        codetools_0.2-18   \n",
       "[58] DBI_1.1.3           R6_2.5.1            lubridate_1.9.1    \n",
       "[61] fastmap_1.1.0       utf8_1.2.2          shape_1.4.6        \n",
       "[64] stringi_1.7.6       parallel_4.1.2      IRdisplay_1.1      \n",
       "[67] Rcpp_1.0.10         vctrs_0.5.2         dbplyr_2.3.0       \n",
       "[70] tidyselect_1.2.0   "
      ]
     },
     "metadata": {},
     "output_type": "display_data"
    }
   ],
   "source": [
    "sessionInfo()"
   ]
  },
  {
   "cell_type": "markdown",
   "id": "8876a48d",
   "metadata": {},
   "source": [
    "### Load  data"
   ]
  },
  {
   "cell_type": "code",
   "execution_count": 3,
   "id": "9d77d78f",
   "metadata": {
    "scrolled": false
   },
   "outputs": [
    {
     "data": {
      "text/html": [
       "<style>\n",
       ".list-inline {list-style: none; margin:0; padding: 0}\n",
       ".list-inline>li {display: inline-block}\n",
       ".list-inline>li:not(:last-child)::after {content: \"\\00b7\"; padding: 0 .5ex}\n",
       "</style>\n",
       "<ol class=list-inline><li>476</li><li>118</li></ol>\n"
      ],
      "text/latex": [
       "\\begin{enumerate*}\n",
       "\\item 476\n",
       "\\item 118\n",
       "\\end{enumerate*}\n"
      ],
      "text/markdown": [
       "1. 476\n",
       "2. 118\n",
       "\n",
       "\n"
      ],
      "text/plain": [
       "[1] 476 118"
      ]
     },
     "metadata": {},
     "output_type": "display_data"
    },
    {
     "data": {
      "text/html": [
       "<style>\n",
       ".list-inline {list-style: none; margin:0; padding: 0}\n",
       ".list-inline>li {display: inline-block}\n",
       ".list-inline>li:not(:last-child)::after {content: \"\\00b7\"; padding: 0 .5ex}\n",
       "</style>\n",
       "<ol class=list-inline><li>8441</li><li>871</li></ol>\n"
      ],
      "text/latex": [
       "\\begin{enumerate*}\n",
       "\\item 8441\n",
       "\\item 871\n",
       "\\end{enumerate*}\n"
      ],
      "text/markdown": [
       "1. 8441\n",
       "2. 871\n",
       "\n",
       "\n"
      ],
      "text/plain": [
       "[1] 8441  871"
      ]
     },
     "metadata": {},
     "output_type": "display_data"
    },
    {
     "data": {
      "text/html": [
       "5"
      ],
      "text/latex": [
       "5"
      ],
      "text/markdown": [
       "5"
      ],
      "text/plain": [
       "[1] 5"
      ]
     },
     "metadata": {},
     "output_type": "display_data"
    }
   ],
   "source": [
    "raw_df <- fread(\"results/decontamination/read_matrix.raw.zeroed.csv\")\n",
    "raw_prev <- fread(\"results/decontamination/prevalence_RA0.005_read10.csv\") %>%\n",
    "    column_to_rownames(\"npm_research_id\")\n",
    "\n",
    "species_df <- fread(\"results/decontamination/read_matrix_n117.global_decontaminated.zeroed.csv\")\n",
    "nc <- colnames(species_df)[colnames(species_df) != \"npm_research_id\"]\n",
    "species_prev <- fread(\"results/decontamination/prevalence_RA0.005_read10.csv\") %>%\n",
    "    column_to_rownames(\"npm_research_id\") %>%\n",
    "    select(all_of(nc))\n",
    "meta <- fread(\"data/SG10K_Health_metadata.n10714.16March2021.parsed.csv\")\n",
    "meta_filt <- meta %>% filter(npm_research_id %in% raw_df$npm_research_id)\n",
    "\n",
    "cohorts <- unique(meta_filt$site_supplying_sample)\n",
    "cohorts <- cohorts[cohorts != \"GUSTO\"]\n",
    "# cohorts <- cohorts[cohorts != \"SSMP\"]\n",
    "\n",
    "# Remove samples with less than 2 taxa\n",
    "raw_retain <- raw_prev %>% rowSums() >= 2\n",
    "raw_df <- raw_df %>% filter(raw_retain)\n",
    "\n",
    "decon_retain <- species_prev %>% rowSums() >= 2\n",
    "species_df <- species_df %>% filter(decon_retain)\n",
    "\n",
    "morsels <- foreach (cohort = cohorts, .combine = \"c\") %do% {\n",
    "    id_filt <- (meta_filt %>% filter(site_supplying_sample == cohort))$npm_research_id\n",
    "    X_filt <- raw_df %>% filter(npm_research_id %in% id_filt)\n",
    "    temp_list <- list(X_filt)\n",
    "    names(temp_list) <- cohort\n",
    "    temp_list\n",
    "}\n",
    "\n",
    "cohort_data <- c(morsels)\n",
    "dim(species_df)\n",
    "dim(raw_df)\n",
    "length(cohorts)"
   ]
  },
  {
   "cell_type": "code",
   "execution_count": 4,
   "id": "8ffd3550",
   "metadata": {
    "scrolled": true
   },
   "outputs": [],
   "source": [
    "get_graph <- function(X, corr_t) {\n",
    "    set.seed(666)\n",
    "    \n",
    "    X_filt <- X %>%\n",
    "        select(-npm_research_id)\n",
    "    \n",
    "    # Run SparCC\n",
    "    sparcc.amgut <- sparcc(X_filt)\n",
    "\n",
    "    ## Define arbitrary threshold for SparCC correlation matrix for the graph\n",
    "    sparcc.graph <- sparcc.amgut$Cor\n",
    "    sparcc.graph[abs(sparcc.graph) < corr_t] <- 0\n",
    "    diag(sparcc.graph) <- 0\n",
    "    sparcc.graph <- Matrix(sparcc.graph, sparse=TRUE)\n",
    "\n",
    "    ## Create igraph object\n",
    "    vertex.names <- setNames(seq(ncol(X_filt)), colnames(X_filt))\n",
    "    ig.sparcc <- adj2igraph(sparcc.graph, vertex.attr = vertex.names)\n",
    "    V(ig.sparcc)$name <- colnames(X_filt)\n",
    "\n",
    "    # Remove edgeless vertices\n",
    "    bad.vs <- V(ig.sparcc)[degree(ig.sparcc) == 0]\n",
    "    sparcc.filt <- delete.vertices(ig.sparcc, bad.vs)\n",
    "\n",
    "    return(sparcc.filt)\n",
    "}\n"
   ]
  },
  {
   "cell_type": "markdown",
   "id": "a87f9557",
   "metadata": {},
   "source": [
    "### Intersection of cohort-level graphs made from raw taxonomic profiles"
   ]
  },
  {
   "cell_type": "code",
   "execution_count": 5,
   "id": "24d4b41c",
   "metadata": {},
   "outputs": [
    {
     "name": "stdout",
     "output_type": "stream",
     "text": [
      "HELIOS has 2282 samples\n",
      "MEC has 2746 samples\n",
      "PRISM has 1257 samples\n",
      "TTSH has 629 samples\n",
      "SEED has 590 samples\n"
     ]
    }
   ],
   "source": [
    "for (cohort in cohorts) {       \n",
    "    X_temp <- cohort_data[[cohort]]\n",
    "    n_samples <- nrow(X_temp)\n",
    "    print(str_glue(\"{cohort} has {n_samples} samples\"))\n",
    "}"
   ]
  },
  {
   "cell_type": "code",
   "execution_count": 6,
   "id": "19aea08e",
   "metadata": {},
   "outputs": [],
   "source": [
    "get_ix_graph <- function(corr_t) {\n",
    "    raw_graphs <- list()\n",
    "\n",
    "    for (cohort in cohorts) {\n",
    "        X_temp <- cohort_data[[cohort]]\n",
    "#         sample_n(30)\n",
    "        raw_graphs[[cohort]] <- get_graph(X_temp, corr_t)\n",
    "    }\n",
    "    \n",
    "    ix_graph <- intersection(raw_graphs[[1]], raw_graphs[[2]], raw_graphs[[3]],\n",
    "                             raw_graphs[[4]], raw_graphs[[5]], \n",
    "                             keep.all.vertices = F)\n",
    "    return(list(ix_graph, raw_graphs))\n",
    "}"
   ]
  },
  {
   "cell_type": "code",
   "execution_count": 7,
   "id": "0292eecb",
   "metadata": {},
   "outputs": [],
   "source": [
    "gx1_list <- get_ix_graph(0.05)\n",
    "gx2_list <- get_ix_graph(0.1)\n",
    "gx3_list <- get_ix_graph(0.2)\n",
    "\n",
    "gx1 <- gx1_list[[1]]\n",
    "gx2 <- gx2_list[[1]]\n",
    "gx3 <- gx3_list[[1]]\n",
    "\n",
    "gx3_raw_graphs <- gx3_list[[2]]"
   ]
  },
  {
   "cell_type": "code",
   "execution_count": 8,
   "id": "e75f6158",
   "metadata": {},
   "outputs": [
    {
     "name": "stdout",
     "output_type": "stream",
     "text": [
      "[1] \"HELIOS\" \"MEC\"    \"PRISM\"  \"TTSH\"   \"SEED\"  \n"
     ]
    }
   ],
   "source": [
    "print(names(gx3_raw_graphs))"
   ]
  },
  {
   "cell_type": "markdown",
   "id": "88442c93",
   "metadata": {},
   "source": [
    "### Graphs made from decontaminated taxonomic profiles"
   ]
  },
  {
   "cell_type": "code",
   "execution_count": 9,
   "id": "5a693f92",
   "metadata": {},
   "outputs": [],
   "source": [
    "g1 <- get_graph(species_df, 0.05)\n",
    "g2 <- get_graph(species_df, 0.1)\n",
    "g3 <- get_graph(species_df, 0.2)\n",
    "g4 <- get_graph(species_df, 0.3)"
   ]
  },
  {
   "cell_type": "code",
   "execution_count": 10,
   "id": "c140e925",
   "metadata": {},
   "outputs": [],
   "source": [
    "g3 <- get_graph(species_df, 0.2)\n",
    "g4 <- get_graph(species_df, 0.3)"
   ]
  },
  {
   "cell_type": "code",
   "execution_count": 11,
   "id": "2eac6f2b",
   "metadata": {},
   "outputs": [
    {
     "data": {
      "text/plain": [
       "+ 19/19 edges from 75e2ec2 (vertex names):\n",
       " [1] Moraxella osloensis         --Acinetobacter schindleri          \n",
       " [2] Staphylococcus epidermidis  --Corynebacterium tuberculostearicum\n",
       " [3] Gardnerella vaginalis       --Fannyhessea vaginae               \n",
       " [4] Bifidobacterium adolescentis--Bifidobacterium longum            \n",
       " [5] Bifidobacterium adolescentis--Bifidobacterium bifidum           \n",
       " [6] Bifidobacterium adolescentis--Faecalibacterium prausnitzii      \n",
       " [7] Bifidobacterium adolescentis--Phocaeicola vulgatus              \n",
       " [8] Bifidobacterium adolescentis--Collinsella aerofaciens           \n",
       " [9] Bifidobacterium longum      --Bifidobacterium bifidum           \n",
       "[10] Bifidobacterium longum      --Bifidobacterium breve             \n",
       "+ ... omitted several edges"
      ]
     },
     "metadata": {},
     "output_type": "display_data"
    },
    {
     "data": {
      "text/plain": [
       "+ 4/4 edges from 1153160 (vertex names):\n",
       "[1] Bifidobacterium longum  --Bifidobacterium bifidum \n",
       "[2] Bifidobacterium longum  --Bifidobacterium breve   \n",
       "[3] Bifidobacterium bifidum --Bifidobacterium breve   \n",
       "[4] Human betaherpesvirus 6B--Human betaherpesvirus 6A"
      ]
     },
     "metadata": {},
     "output_type": "display_data"
    }
   ],
   "source": [
    "E(g3)\n",
    "E(g4)"
   ]
  },
  {
   "cell_type": "markdown",
   "id": "d23295b0",
   "metadata": {},
   "source": [
    "### Save plots"
   ]
  },
  {
   "cell_type": "code",
   "execution_count": 54,
   "id": "e6906848",
   "metadata": {},
   "outputs": [
    {
     "data": {
      "text/html": [
       "<strong>png:</strong> 2"
      ],
      "text/latex": [
       "\\textbf{png:} 2"
      ],
      "text/markdown": [
       "**png:** 2"
      ],
      "text/plain": [
       "png \n",
       "  2 "
      ]
     },
     "metadata": {},
     "output_type": "display_data"
    },
    {
     "data": {
      "text/html": [
       "<strong>png:</strong> 2"
      ],
      "text/latex": [
       "\\textbf{png:} 2"
      ],
      "text/markdown": [
       "**png:** 2"
      ],
      "text/plain": [
       "png \n",
       "  2 "
      ]
     },
     "metadata": {},
     "output_type": "display_data"
    },
    {
     "data": {
      "text/html": [
       "<strong>png:</strong> 2"
      ],
      "text/latex": [
       "\\textbf{png:} 2"
      ],
      "text/markdown": [
       "**png:** 2"
      ],
      "text/plain": [
       "png \n",
       "  2 "
      ]
     },
     "metadata": {},
     "output_type": "display_data"
    },
    {
     "data": {
      "text/html": [
       "<strong>png:</strong> 2"
      ],
      "text/latex": [
       "\\textbf{png:} 2"
      ],
      "text/markdown": [
       "**png:** 2"
      ],
      "text/plain": [
       "png \n",
       "  2 "
      ]
     },
     "metadata": {},
     "output_type": "display_data"
    }
   ],
   "source": [
    "plot_and_save <- function(g, save_path) {\n",
    "    # Color edges based on value\n",
    "    E(g)$color[E(g)$weight < 0 ] <- \"steelblue4\"\n",
    "    E(g)$color[E(g)$weight > 0 ] <- \"darkolivegreen3\"\n",
    "    \n",
    "    set.seed(666)\n",
    "    pdf(file = save_path,\n",
    "        width = 6.67,\n",
    "        height = 6.67,\n",
    "#         units = 'in',\n",
    "#         res = 300\n",
    "       )\n",
    "\n",
    "        plot(g,\n",
    "             margin = 0,\n",
    "#              layout = layout.fruchterman.reingold(g),\n",
    "             layout = layout_in_circle(g, order = V(g)),\n",
    "             vertex.color = \"grey68\",\n",
    "             vertex.size = 8,\n",
    "             vertex.label = NA,\n",
    "             vertex.label.cex = 1,\n",
    "             vertex.label.color = \"black\",\n",
    "             vertex.frame.color = NA,\n",
    "             vertex.label.dist = 1)\n",
    "    \n",
    "    dev.off()\n",
    "}\n",
    "\n",
    "plot_and_save(g1, \"results/coocurrence/SparCC_0.05.pdf\")\n",
    "g_test <- g1\n",
    "V(g_test)$name <- gsub(\" \", \"_\", names(V(g_test)))\n",
    "write_graph(g_test, \"results/figure_source_data_nat_micro/SparCC_0.05.txt\", \"ncol\")\n",
    "\n",
    "plot_and_save(g2, \"results/coocurrence/SparCC_0.1.pdf\")\n",
    "g_test <- g2\n",
    "V(g_test)$name <- gsub(\" \", \"_\", names(V(g_test)))\n",
    "write_graph(g_test, \"results/figure_source_data_nat_micro/SparCC_0.1.txt\", \"ncol\")\n",
    "\n",
    "plot_and_save(g3, \"results/coocurrence/SparCC_0.2.pdf\")\n",
    "g_test <- g3\n",
    "V(g_test)$name <- gsub(\" \", \"_\", names(V(g_test)))\n",
    "write_graph(g_test, \"results/figure_source_data_nat_micro/SparCC_0.2.txt\", \"ncol\")\n",
    "\n",
    "plot_and_save(g4, \"results/coocurrence/SparCC_0.3.pdf\")\n",
    "g_test <- g4\n",
    "V(g_test)$name <- gsub(\" \", \"_\", names(V(g_test)))\n",
    "write_graph(g_test, \"results/figure_source_data_nat_micro/SparCC_0.3.txt\", \"ncol\")\n",
    "\n",
    "# plot_and_save(gx1, \"results/coocurrence/SparCC_intersection_0.05.pdf\")\n",
    "# write_graph(gx1, \"results/figure_source_data_nat_micro/SparCC_intersection_0.05.txt\", \"edgelist\")\n",
    "\n",
    "# plot_and_save(gx2, \"results/coocurrence/SparCC_intersection_0.1.pdf\")\n",
    "# write_graph(gx2, \"results/figure_source_data_nat_micro/SparCC_intersection_0.1.txt\", \"edgelist\")\n",
    "\n",
    "# plot_and_save(gx3, \"results/coocurrence/SparCC_intersection_0.2.pdf\")\n",
    "# write_graph(gx3, \"results/figure_source_data_nat_micro/SparCC_intersection_0.2.txt\", \"edgelist\")"
   ]
  },
  {
   "cell_type": "markdown",
   "id": "8e44558f",
   "metadata": {},
   "source": [
    "#### Plot graphs for each cohort"
   ]
  },
  {
   "cell_type": "code",
   "execution_count": 66,
   "id": "1dba1d22",
   "metadata": {},
   "outputs": [],
   "source": [
    "cohort_names <- names(gx3_raw_graphs)\n",
    "\n",
    "for (i in seq(length(gx3_raw_graphs))) {\n",
    "    cohort_name <- cohort_names[i]\n",
    "    g_temp <- gx3_raw_graphs[[cohort_name]]\n",
    "    plot_and_save(g_temp, str_glue(\"results/coocurrence/SparCC_{cohort_name}_0.2.pdf\"))\n",
    "    g_test <- g_temp\n",
    "    V(g_test)$name <- gsub(\" \", \"_\", names(V(g_test)))\n",
    "    write_graph(g_test, str_glue(\"results/figure_source_data_nat_micro/SparCC_{cohort_name}_0.2.txt\"), \"ncol\")\n",
    "}\n"
   ]
  },
  {
   "cell_type": "code",
   "execution_count": 67,
   "id": "6108a3e9",
   "metadata": {},
   "outputs": [],
   "source": [
    "# Parse txt to csv\n",
    "all_graphs <- list.files(\"results/figure_source_data_nat_micro\", \"SparCC\", full.names = T)\n",
    "all_graphs <- all_graphs[!grepl(\"\\\\.csv\", all_graphs)]\n",
    "for (g_path in all_graphs) {\n",
    "    g_save <- gsub(\"\\\\.txt\", \"\\\\.csv\", g_path)\n",
    "    read.table(g_path) %>%\n",
    "        rename(SpiecEasi_correlation = V3) %>%\n",
    "    fwrite(g_save)\n",
    "}"
   ]
  },
  {
   "cell_type": "markdown",
   "id": "73b503c9",
   "metadata": {},
   "source": [
    "### GUSTO only"
   ]
  },
  {
   "cell_type": "code",
   "execution_count": null,
   "id": "2d1cbc67",
   "metadata": {},
   "outputs": [],
   "source": [
    "# gusto_meta <- meta_filt %>% \n",
    "#     filter(site_supplying_sample == \"GUSTO\")\n",
    "# gusto <- get_graph(species_df %>% filter(npm_research_id %in% gusto_meta$npm_research_id) , 0.3)\n",
    "# plot_and_save(gusto, str_glue(\"results/coocurrence/SparCC_GUSTO_decontaminated_0.3.pdf\"))"
   ]
  }
 ],
 "metadata": {
  "kernelspec": {
   "display_name": "R",
   "language": "R",
   "name": "ir"
  },
  "language_info": {
   "codemirror_mode": "r",
   "file_extension": ".r",
   "mimetype": "text/x-r-source",
   "name": "R",
   "pygments_lexer": "r",
   "version": "4.1.2"
  }
 },
 "nbformat": 4,
 "nbformat_minor": 5
}
