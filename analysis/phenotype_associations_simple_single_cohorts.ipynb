{
 "cells": [
  {
   "cell_type": "markdown",
   "id": "f799b42b",
   "metadata": {},
   "source": [
    "# Associations between microbial presence/absence and patient info"
   ]
  },
  {
   "cell_type": "code",
   "execution_count": 1,
   "id": "bc15bd3e",
   "metadata": {
    "scrolled": true
   },
   "outputs": [
    {
     "name": "stderr",
     "output_type": "stream",
     "text": [
      "Loading required package: tidyverse\n",
      "\n",
      "Warning message in system(\"timedatectl\", intern = TRUE):\n",
      "“running command 'timedatectl' had status 1”\n",
      "── \u001b[1mAttaching packages\u001b[22m ─────────────────────────────────────────────────────────────────────────────────────────────────────────────────────────────────── tidyverse 1.3.1 ──\n",
      "\n",
      "\u001b[32m✔\u001b[39m \u001b[34mggplot2\u001b[39m 3.3.5     \u001b[32m✔\u001b[39m \u001b[34mpurrr  \u001b[39m 0.3.4\n",
      "\u001b[32m✔\u001b[39m \u001b[34mtibble \u001b[39m 3.1.6     \u001b[32m✔\u001b[39m \u001b[34mdplyr  \u001b[39m 1.0.7\n",
      "\u001b[32m✔\u001b[39m \u001b[34mtidyr  \u001b[39m 1.1.4     \u001b[32m✔\u001b[39m \u001b[34mstringr\u001b[39m 1.4.0\n",
      "\u001b[32m✔\u001b[39m \u001b[34mreadr  \u001b[39m 2.1.0     \u001b[32m✔\u001b[39m \u001b[34mforcats\u001b[39m 0.5.1\n",
      "\n",
      "── \u001b[1mConflicts\u001b[22m ────────────────────────────────────────────────────────────────────────────────────────────────────────────────────────────────────── tidyverse_conflicts() ──\n",
      "\u001b[31m✖\u001b[39m \u001b[34mdplyr\u001b[39m::\u001b[32mfilter()\u001b[39m masks \u001b[34mstats\u001b[39m::filter()\n",
      "\u001b[31m✖\u001b[39m \u001b[34mdplyr\u001b[39m::\u001b[32mlag()\u001b[39m    masks \u001b[34mstats\u001b[39m::lag()\n",
      "\n",
      "Loading required package: data.table\n",
      "\n",
      "\n",
      "Attaching package: ‘data.table’\n",
      "\n",
      "\n",
      "The following objects are masked from ‘package:dplyr’:\n",
      "\n",
      "    between, first, last\n",
      "\n",
      "\n",
      "The following object is masked from ‘package:purrr’:\n",
      "\n",
      "    transpose\n",
      "\n",
      "\n",
      "Loading required package: foreach\n",
      "\n",
      "\n",
      "Attaching package: ‘foreach’\n",
      "\n",
      "\n",
      "The following objects are masked from ‘package:purrr’:\n",
      "\n",
      "    accumulate, when\n",
      "\n",
      "\n",
      "Loading required package: doParallel\n",
      "\n",
      "Loading required package: iterators\n",
      "\n",
      "Loading required package: parallel\n",
      "\n",
      "Loading required package: ggrepel\n",
      "\n"
     ]
    }
   ],
   "source": [
    "setwd(\"/mnt/c/Users/Cedric/Desktop/git_repos/blood_microbiome\")\n",
    "require(tidyverse)\n",
    "require(ggplot2)\n",
    "require(data.table)\n",
    "require(foreach)\n",
    "require(doParallel)\n",
    "require(ggrepel)\n",
    "registerDoParallel(cores = 8)\n"
   ]
  },
  {
   "cell_type": "markdown",
   "id": "8876a48d",
   "metadata": {},
   "source": [
    "### Load  data"
   ]
  },
  {
   "cell_type": "code",
   "execution_count": 2,
   "id": "9d77d78f",
   "metadata": {},
   "outputs": [
    {
     "data": {
      "text/html": [
       "<table class=\"dataframe\">\n",
       "<caption>A tibble: 6 × 240</caption>\n",
       "<thead>\n",
       "\t<tr><th scope=col>npm_research_id</th><th scope=col>Fusobacterium nucleatum</th><th scope=col>Cutibacterium acnes</th><th scope=col>Human mastadenovirus C</th><th scope=col>Neisseria subflava</th><th scope=col>Corynebacterium segmentosum</th><th scope=col>Haemophilus parainfluenzae</th><th scope=col>Fannyhessea vaginae</th><th scope=col>Staphylococcus epidermidis</th><th scope=col>Human betaherpesvirus 6A</th><th scope=col>⋯</th><th scope=col>supplied_and_computed_gender_match</th><th scope=col>sop_agreement_for_coverage__14/_28_for_15x/30x</th><th scope=col>sample_life_cycle</th><th scope=col>current</th><th scope=col>source_cohort</th><th scope=col>original_supplier_id</th><th scope=col>duplicate_info.y</th><th scope=col>duplicate.y</th><th scope=col>duplicate_pair.y</th><th scope=col>removal_requested_by_supplier</th></tr>\n",
       "\t<tr><th scope=col>&lt;chr&gt;</th><th scope=col>&lt;lgl&gt;</th><th scope=col>&lt;lgl&gt;</th><th scope=col>&lt;lgl&gt;</th><th scope=col>&lt;lgl&gt;</th><th scope=col>&lt;lgl&gt;</th><th scope=col>&lt;lgl&gt;</th><th scope=col>&lt;lgl&gt;</th><th scope=col>&lt;lgl&gt;</th><th scope=col>&lt;lgl&gt;</th><th scope=col>⋯</th><th scope=col>&lt;chr&gt;</th><th scope=col>&lt;chr&gt;</th><th scope=col>&lt;chr&gt;</th><th scope=col>&lt;chr&gt;</th><th scope=col>&lt;chr&gt;</th><th scope=col>&lt;chr&gt;</th><th scope=col>&lt;chr&gt;</th><th scope=col>&lt;chr&gt;</th><th scope=col>&lt;chr&gt;</th><th scope=col>&lt;chr&gt;</th></tr>\n",
       "</thead>\n",
       "<tbody>\n",
       "\t<tr><td>WHB8690 </td><td>FALSE</td><td>FALSE</td><td>FALSE</td><td>FALSE</td><td>FALSE</td><td>FALSE</td><td>FALSE</td><td>FALSE</td><td>FALSE</td><td>⋯</td><td>Y</td><td>Y</td><td>MEC VCF       </td><td>Y</td><td>MEC       </td><td>17003-2486       </td><td>Unknown</td><td>PASS</td><td>Unknown</td><td>Unknown</td></tr>\n",
       "\t<tr><td>WHB10005</td><td>FALSE</td><td>FALSE</td><td>FALSE</td><td>FALSE</td><td>FALSE</td><td>FALSE</td><td>FALSE</td><td>FALSE</td><td>FALSE</td><td>⋯</td><td>Y</td><td>N</td><td>HELIOS VCF    </td><td>Y</td><td>HELIOS    </td><td>00363            </td><td>Unknown</td><td>PASS</td><td>Unknown</td><td>Unknown</td></tr>\n",
       "\t<tr><td>WHB4505 </td><td>FALSE</td><td>FALSE</td><td>FALSE</td><td>FALSE</td><td>FALSE</td><td>FALSE</td><td>FALSE</td><td>FALSE</td><td>FALSE</td><td>⋯</td><td>Y</td><td>Y</td><td>GUSTO_Kids VCF</td><td>Y</td><td>GUSTO_Kids</td><td>010-21829        </td><td>Unknown</td><td>PASS</td><td>Unknown</td><td>Unknown</td></tr>\n",
       "\t<tr><td>WHB7030 </td><td>FALSE</td><td>FALSE</td><td>FALSE</td><td>FALSE</td><td>FALSE</td><td>FALSE</td><td>FALSE</td><td>FALSE</td><td>FALSE</td><td>⋯</td><td>Y</td><td>Y</td><td>MEC VCF       </td><td>Y</td><td>MEC       </td><td>17003-0826       </td><td>Unknown</td><td>PASS</td><td>Unknown</td><td>Unknown</td></tr>\n",
       "\t<tr><td>WHB8628 </td><td>FALSE</td><td>FALSE</td><td>FALSE</td><td>FALSE</td><td>FALSE</td><td>FALSE</td><td>FALSE</td><td>FALSE</td><td>FALSE</td><td>⋯</td><td>Y</td><td>Y</td><td>MEC VCF       </td><td>Y</td><td>MEC       </td><td>17003-2424       </td><td>Unknown</td><td>PASS</td><td>Unknown</td><td>Unknown</td></tr>\n",
       "\t<tr><td>WHB4900 </td><td>FALSE</td><td>FALSE</td><td>FALSE</td><td>FALSE</td><td>FALSE</td><td>FALSE</td><td>FALSE</td><td>FALSE</td><td>FALSE</td><td>⋯</td><td>Y</td><td>Y</td><td>PRISM VCF     </td><td>Y</td><td>PRISM     </td><td>0717-0025/NHC/ACP</td><td>Unknown</td><td>PASS</td><td>Unknown</td><td>Unknown</td></tr>\n",
       "</tbody>\n",
       "</table>\n"
      ],
      "text/latex": [
       "A tibble: 6 × 240\n",
       "\\begin{tabular}{lllllllllllllllllllll}\n",
       " npm\\_research\\_id & Fusobacterium nucleatum & Cutibacterium acnes & Human mastadenovirus C & Neisseria subflava & Corynebacterium segmentosum & Haemophilus parainfluenzae & Fannyhessea vaginae & Staphylococcus epidermidis & Human betaherpesvirus 6A & ⋯ & supplied\\_and\\_computed\\_gender\\_match & sop\\_agreement\\_for\\_coverage\\_\\_14/\\_28\\_for\\_15x/30x & sample\\_life\\_cycle & current & source\\_cohort & original\\_supplier\\_id & duplicate\\_info.y & duplicate.y & duplicate\\_pair.y & removal\\_requested\\_by\\_supplier\\\\\n",
       " <chr> & <lgl> & <lgl> & <lgl> & <lgl> & <lgl> & <lgl> & <lgl> & <lgl> & <lgl> & ⋯ & <chr> & <chr> & <chr> & <chr> & <chr> & <chr> & <chr> & <chr> & <chr> & <chr>\\\\\n",
       "\\hline\n",
       "\t WHB8690  & FALSE & FALSE & FALSE & FALSE & FALSE & FALSE & FALSE & FALSE & FALSE & ⋯ & Y & Y & MEC VCF        & Y & MEC        & 17003-2486        & Unknown & PASS & Unknown & Unknown\\\\\n",
       "\t WHB10005 & FALSE & FALSE & FALSE & FALSE & FALSE & FALSE & FALSE & FALSE & FALSE & ⋯ & Y & N & HELIOS VCF     & Y & HELIOS     & 00363             & Unknown & PASS & Unknown & Unknown\\\\\n",
       "\t WHB4505  & FALSE & FALSE & FALSE & FALSE & FALSE & FALSE & FALSE & FALSE & FALSE & ⋯ & Y & Y & GUSTO\\_Kids VCF & Y & GUSTO\\_Kids & 010-21829         & Unknown & PASS & Unknown & Unknown\\\\\n",
       "\t WHB7030  & FALSE & FALSE & FALSE & FALSE & FALSE & FALSE & FALSE & FALSE & FALSE & ⋯ & Y & Y & MEC VCF        & Y & MEC        & 17003-0826        & Unknown & PASS & Unknown & Unknown\\\\\n",
       "\t WHB8628  & FALSE & FALSE & FALSE & FALSE & FALSE & FALSE & FALSE & FALSE & FALSE & ⋯ & Y & Y & MEC VCF        & Y & MEC        & 17003-2424        & Unknown & PASS & Unknown & Unknown\\\\\n",
       "\t WHB4900  & FALSE & FALSE & FALSE & FALSE & FALSE & FALSE & FALSE & FALSE & FALSE & ⋯ & Y & Y & PRISM VCF      & Y & PRISM      & 0717-0025/NHC/ACP & Unknown & PASS & Unknown & Unknown\\\\\n",
       "\\end{tabular}\n"
      ],
      "text/markdown": [
       "\n",
       "A tibble: 6 × 240\n",
       "\n",
       "| npm_research_id &lt;chr&gt; | Fusobacterium nucleatum &lt;lgl&gt; | Cutibacterium acnes &lt;lgl&gt; | Human mastadenovirus C &lt;lgl&gt; | Neisseria subflava &lt;lgl&gt; | Corynebacterium segmentosum &lt;lgl&gt; | Haemophilus parainfluenzae &lt;lgl&gt; | Fannyhessea vaginae &lt;lgl&gt; | Staphylococcus epidermidis &lt;lgl&gt; | Human betaherpesvirus 6A &lt;lgl&gt; | ⋯ ⋯ | supplied_and_computed_gender_match &lt;chr&gt; | sop_agreement_for_coverage__14/_28_for_15x/30x &lt;chr&gt; | sample_life_cycle &lt;chr&gt; | current &lt;chr&gt; | source_cohort &lt;chr&gt; | original_supplier_id &lt;chr&gt; | duplicate_info.y &lt;chr&gt; | duplicate.y &lt;chr&gt; | duplicate_pair.y &lt;chr&gt; | removal_requested_by_supplier &lt;chr&gt; |\n",
       "|---|---|---|---|---|---|---|---|---|---|---|---|---|---|---|---|---|---|---|---|---|\n",
       "| WHB8690  | FALSE | FALSE | FALSE | FALSE | FALSE | FALSE | FALSE | FALSE | FALSE | ⋯ | Y | Y | MEC VCF        | Y | MEC        | 17003-2486        | Unknown | PASS | Unknown | Unknown |\n",
       "| WHB10005 | FALSE | FALSE | FALSE | FALSE | FALSE | FALSE | FALSE | FALSE | FALSE | ⋯ | Y | N | HELIOS VCF     | Y | HELIOS     | 00363             | Unknown | PASS | Unknown | Unknown |\n",
       "| WHB4505  | FALSE | FALSE | FALSE | FALSE | FALSE | FALSE | FALSE | FALSE | FALSE | ⋯ | Y | Y | GUSTO_Kids VCF | Y | GUSTO_Kids | 010-21829         | Unknown | PASS | Unknown | Unknown |\n",
       "| WHB7030  | FALSE | FALSE | FALSE | FALSE | FALSE | FALSE | FALSE | FALSE | FALSE | ⋯ | Y | Y | MEC VCF        | Y | MEC        | 17003-0826        | Unknown | PASS | Unknown | Unknown |\n",
       "| WHB8628  | FALSE | FALSE | FALSE | FALSE | FALSE | FALSE | FALSE | FALSE | FALSE | ⋯ | Y | Y | MEC VCF        | Y | MEC        | 17003-2424        | Unknown | PASS | Unknown | Unknown |\n",
       "| WHB4900  | FALSE | FALSE | FALSE | FALSE | FALSE | FALSE | FALSE | FALSE | FALSE | ⋯ | Y | Y | PRISM VCF      | Y | PRISM      | 0717-0025/NHC/ACP | Unknown | PASS | Unknown | Unknown |\n",
       "\n"
      ],
      "text/plain": [
       "  npm_research_id Fusobacterium nucleatum Cutibacterium acnes\n",
       "1 WHB8690         FALSE                   FALSE              \n",
       "2 WHB10005        FALSE                   FALSE              \n",
       "3 WHB4505         FALSE                   FALSE              \n",
       "4 WHB7030         FALSE                   FALSE              \n",
       "5 WHB8628         FALSE                   FALSE              \n",
       "6 WHB4900         FALSE                   FALSE              \n",
       "  Human mastadenovirus C Neisseria subflava Corynebacterium segmentosum\n",
       "1 FALSE                  FALSE              FALSE                      \n",
       "2 FALSE                  FALSE              FALSE                      \n",
       "3 FALSE                  FALSE              FALSE                      \n",
       "4 FALSE                  FALSE              FALSE                      \n",
       "5 FALSE                  FALSE              FALSE                      \n",
       "6 FALSE                  FALSE              FALSE                      \n",
       "  Haemophilus parainfluenzae Fannyhessea vaginae Staphylococcus epidermidis\n",
       "1 FALSE                      FALSE               FALSE                     \n",
       "2 FALSE                      FALSE               FALSE                     \n",
       "3 FALSE                      FALSE               FALSE                     \n",
       "4 FALSE                      FALSE               FALSE                     \n",
       "5 FALSE                      FALSE               FALSE                     \n",
       "6 FALSE                      FALSE               FALSE                     \n",
       "  Human betaherpesvirus 6A ⋯ supplied_and_computed_gender_match\n",
       "1 FALSE                    ⋯ Y                                 \n",
       "2 FALSE                    ⋯ Y                                 \n",
       "3 FALSE                    ⋯ Y                                 \n",
       "4 FALSE                    ⋯ Y                                 \n",
       "5 FALSE                    ⋯ Y                                 \n",
       "6 FALSE                    ⋯ Y                                 \n",
       "  sop_agreement_for_coverage__14/_28_for_15x/30x sample_life_cycle current\n",
       "1 Y                                              MEC VCF           Y      \n",
       "2 N                                              HELIOS VCF        Y      \n",
       "3 Y                                              GUSTO_Kids VCF    Y      \n",
       "4 Y                                              MEC VCF           Y      \n",
       "5 Y                                              MEC VCF           Y      \n",
       "6 Y                                              PRISM VCF         Y      \n",
       "  source_cohort original_supplier_id duplicate_info.y duplicate.y\n",
       "1 MEC           17003-2486           Unknown          PASS       \n",
       "2 HELIOS        00363                Unknown          PASS       \n",
       "3 GUSTO_Kids    010-21829            Unknown          PASS       \n",
       "4 MEC           17003-0826           Unknown          PASS       \n",
       "5 MEC           17003-2424           Unknown          PASS       \n",
       "6 PRISM         0717-0025/NHC/ACP    Unknown          PASS       \n",
       "  duplicate_pair.y removal_requested_by_supplier\n",
       "1 Unknown          Unknown                      \n",
       "2 Unknown          Unknown                      \n",
       "3 Unknown          Unknown                      \n",
       "4 Unknown          Unknown                      \n",
       "5 Unknown          Unknown                      \n",
       "6 Unknown          Unknown                      "
      ]
     },
     "metadata": {},
     "output_type": "display_data"
    }
   ],
   "source": [
    "X <- fread(\"results/decontamination/prevalence_RA0.005_read10.csv\")\n",
    "nc <- fread(\"results/decontamination/curated_n122_global_decontamination_stats.csv\")\n",
    "X <- X %>% select(all_of(c(\"npm_research_id\", nc$taxa)))\n",
    "\n",
    "meta <- fread(\"data/20210125_v3_release/20210203_all_traits_v3.txt\")\n",
    "meta2 <- fread(\"data/SG10K_Health_metadata.n10714.16March2021.parsed.csv\")\n",
    "\n",
    "n <- gsub(\"[^0-9A-Za-z///' ]\", \" \", colnames(meta))\n",
    "n <- tolower(n)\n",
    "n <- gsub(\" \", \"_\", n)\n",
    "colnames(meta) <- n\n",
    "\n",
    "fwrite(meta, \"data/20210125_v3_release/20210203_all_traits_v3.parsed.csv\")\n",
    "X_meta <- X %>%\n",
    "    left_join(meta, \"npm_research_id\") %>%\n",
    "    left_join(meta2, \"npm_research_id\") %>%\n",
    "    as_tibble()\n",
    "\n",
    "head(X_meta)"
   ]
  },
  {
   "cell_type": "code",
   "execution_count": 3,
   "id": "7cddc932",
   "metadata": {},
   "outputs": [
    {
     "data": {
      "text/html": [
       "15"
      ],
      "text/latex": [
       "15"
      ],
      "text/markdown": [
       "15"
      ],
      "text/plain": [
       "[1] 15"
      ]
     },
     "metadata": {},
     "output_type": "display_data"
    },
    {
     "data": {
      "text/html": [
       "<style>\n",
       ".list-inline {list-style: none; margin:0; padding: 0}\n",
       ".list-inline>li {display: inline-block}\n",
       ".list-inline>li:not(:last-child)::after {content: \"\\00b7\"; padding: 0 .5ex}\n",
       "</style>\n",
       "<ol class=list-inline><li>'Cutibacterium acnes'</li><li>'Human mastadenovirus C'</li><li>'Staphylococcus epidermidis'</li><li>'Lactobacillus crispatus'</li><li>'Moraxella osloensis'</li><li>'Gardnerella vaginalis'</li><li>'Mycolicibacterium aubagnense'</li><li>'Lactobacillus iners'</li><li>'Phyllobacterium zundukense'</li><li>'Acidovorax sp. KKS102'</li><li>'Bifidobacterium adolescentis'</li><li>'Paraburkholderia acidiphila'</li><li>'Paraburkholderia sp. 7MH5'</li><li>'Paraburkholderia tropica'</li><li>'Paraburkholderia acidisoli'</li></ol>\n"
      ],
      "text/latex": [
       "\\begin{enumerate*}\n",
       "\\item 'Cutibacterium acnes'\n",
       "\\item 'Human mastadenovirus C'\n",
       "\\item 'Staphylococcus epidermidis'\n",
       "\\item 'Lactobacillus crispatus'\n",
       "\\item 'Moraxella osloensis'\n",
       "\\item 'Gardnerella vaginalis'\n",
       "\\item 'Mycolicibacterium aubagnense'\n",
       "\\item 'Lactobacillus iners'\n",
       "\\item 'Phyllobacterium zundukense'\n",
       "\\item 'Acidovorax sp. KKS102'\n",
       "\\item 'Bifidobacterium adolescentis'\n",
       "\\item 'Paraburkholderia acidiphila'\n",
       "\\item 'Paraburkholderia sp. 7MH5'\n",
       "\\item 'Paraburkholderia tropica'\n",
       "\\item 'Paraburkholderia acidisoli'\n",
       "\\end{enumerate*}\n"
      ],
      "text/markdown": [
       "1. 'Cutibacterium acnes'\n",
       "2. 'Human mastadenovirus C'\n",
       "3. 'Staphylococcus epidermidis'\n",
       "4. 'Lactobacillus crispatus'\n",
       "5. 'Moraxella osloensis'\n",
       "6. 'Gardnerella vaginalis'\n",
       "7. 'Mycolicibacterium aubagnense'\n",
       "8. 'Lactobacillus iners'\n",
       "9. 'Phyllobacterium zundukense'\n",
       "10. 'Acidovorax sp. KKS102'\n",
       "11. 'Bifidobacterium adolescentis'\n",
       "12. 'Paraburkholderia acidiphila'\n",
       "13. 'Paraburkholderia sp. 7MH5'\n",
       "14. 'Paraburkholderia tropica'\n",
       "15. 'Paraburkholderia acidisoli'\n",
       "\n",
       "\n"
      ],
      "text/plain": [
       " [1] \"Cutibacterium acnes\"          \"Human mastadenovirus C\"      \n",
       " [3] \"Staphylococcus epidermidis\"   \"Lactobacillus crispatus\"     \n",
       " [5] \"Moraxella osloensis\"          \"Gardnerella vaginalis\"       \n",
       " [7] \"Mycolicibacterium aubagnense\" \"Lactobacillus iners\"         \n",
       " [9] \"Phyllobacterium zundukense\"   \"Acidovorax sp. KKS102\"       \n",
       "[11] \"Bifidobacterium adolescentis\" \"Paraburkholderia acidiphila\" \n",
       "[13] \"Paraburkholderia sp. 7MH5\"    \"Paraburkholderia tropica\"    \n",
       "[15] \"Paraburkholderia acidisoli\"  "
      ]
     },
     "metadata": {},
     "output_type": "display_data"
    }
   ],
   "source": [
    "taxon_list <- colSums(X[, 2:ncol(X)]) >= 50\n",
    "taxon_list <- names(taxon_list[taxon_list])\n",
    "length(taxon_list)\n",
    "taxon_list"
   ]
  },
  {
   "cell_type": "code",
   "execution_count": 4,
   "id": "1a3dab6f",
   "metadata": {
    "scrolled": true
   },
   "outputs": [
    {
     "data": {
      "text/html": [
       "15"
      ],
      "text/latex": [
       "15"
      ],
      "text/markdown": [
       "15"
      ],
      "text/plain": [
       "[1] 15"
      ]
     },
     "metadata": {},
     "output_type": "display_data"
    }
   ],
   "source": [
    "# Get variable lists\n",
    "taxon_list <- colSums(X[, 2:ncol(X)]) >= 50\n",
    "taxon_list <- names(taxon_list[taxon_list])\n",
    "length(taxon_list)\n",
    "\n",
    "categorical_list_full <- c(\"fasting\", \"genetic_sex\", \"genetic_ancestry\", \n",
    "                      \"diab_med\", \"htn_med\", \"lipid_med\", \"t2d\")\n",
    "cont_list_full <- c(\"age\", \"bmi\", \n",
    "               \"height_cm\", \"weight_kg\", \"waistc_cm\", \"hipc_cm\", \n",
    "               \"tc_mmol_l\", \"ldl_direct_mmol_l\", \"hdl_mmol_l\", \"tg_mmol_l\",\n",
    "               \"glu_fast_mmol_l\", \"ins_fast_uiu_ml\", \"glu_rand_mmol_l\",\n",
    "               \"ldl_cal_mmol_l\",              \n",
    "               \"sbp\", \"dbp\")\n",
    "\n",
    "categorical_list <- c(\"genetic_sex\", \"genetic_ancestry\")\n",
    "cont_list <- c(\"age\", \"bmi\", \"tc_mmol_l\", \"tg_mmol_l\", \n",
    "               \"sbp\", \"dbp\")"
   ]
  },
  {
   "cell_type": "code",
   "execution_count": 5,
   "id": "1ef6947f",
   "metadata": {},
   "outputs": [
    {
     "data": {
      "text/html": [
       "<style>\n",
       ".list-inline {list-style: none; margin:0; padding: 0}\n",
       ".list-inline>li {display: inline-block}\n",
       ".list-inline>li:not(:last-child)::after {content: \"\\00b7\"; padding: 0 .5ex}\n",
       "</style>\n",
       "<ol class=list-inline><li>'MEC'</li><li>'HELIOS'</li><li>'GUSTO'</li><li>'PRISM'</li><li>'SERI'</li><li>'TTSH'</li></ol>\n"
      ],
      "text/latex": [
       "\\begin{enumerate*}\n",
       "\\item 'MEC'\n",
       "\\item 'HELIOS'\n",
       "\\item 'GUSTO'\n",
       "\\item 'PRISM'\n",
       "\\item 'SERI'\n",
       "\\item 'TTSH'\n",
       "\\end{enumerate*}\n"
      ],
      "text/markdown": [
       "1. 'MEC'\n",
       "2. 'HELIOS'\n",
       "3. 'GUSTO'\n",
       "4. 'PRISM'\n",
       "5. 'SERI'\n",
       "6. 'TTSH'\n",
       "\n",
       "\n"
      ],
      "text/plain": [
       "[1] \"MEC\"    \"HELIOS\" \"GUSTO\"  \"PRISM\"  \"SERI\"   \"TTSH\"  "
      ]
     },
     "metadata": {},
     "output_type": "display_data"
    },
    {
     "data": {
      "text/html": [
       "720"
      ],
      "text/latex": [
       "720"
      ],
      "text/markdown": [
       "720"
      ],
      "text/plain": [
       "[1] 720"
      ]
     },
     "metadata": {},
     "output_type": "display_data"
    }
   ],
   "source": [
    "cohort_list <- unique(X_meta$site_supplying_sample)\n",
    "cohort_list <- cohort_list[cohort_list != \"SSMP\"]\n",
    "cohort_list\n",
    "\n",
    "n_comparisons <- length(cohort_list) * length(taxon_list) * (length(categorical_list) + length(cont_list))\n",
    "n_comparisons"
   ]
  },
  {
   "cell_type": "markdown",
   "id": "2f44c22d",
   "metadata": {},
   "source": [
    "### Basic stats on phenotypes"
   ]
  },
  {
   "cell_type": "code",
   "execution_count": 6,
   "id": "6c3b7cca",
   "metadata": {
    "scrolled": true
   },
   "outputs": [
    {
     "name": "stderr",
     "output_type": "stream",
     "text": [
      "`summarise()` has grouped output by 'fasting'. You can override using the `.groups` argument.\n",
      "Joining, by = \"site_supplying_sample\"\n",
      "`summarise()` has grouped output by 'genetic_sex'. You can override using the `.groups` argument.\n",
      "Joining, by = \"site_supplying_sample\"\n",
      "`summarise()` has grouped output by 'genetic_ancestry'. You can override using the `.groups` argument.\n",
      "Joining, by = \"site_supplying_sample\"\n",
      "`summarise()` has grouped output by 'diab_med'. You can override using the `.groups` argument.\n",
      "Joining, by = \"site_supplying_sample\"\n",
      "`summarise()` has grouped output by 'htn_med'. You can override using the `.groups` argument.\n",
      "Joining, by = \"site_supplying_sample\"\n",
      "`summarise()` has grouped output by 'lipid_med'. You can override using the `.groups` argument.\n",
      "Joining, by = \"site_supplying_sample\"\n",
      "`summarise()` has grouped output by 't2d'. You can override using the `.groups` argument.\n",
      "Joining, by = \"site_supplying_sample\"\n",
      "Joining, by = \"site_supplying_sample\"\n",
      "Joining, by = \"site_supplying_sample\"\n",
      "Joining, by = \"site_supplying_sample\"\n",
      "Joining, by = \"site_supplying_sample\"\n",
      "Joining, by = \"site_supplying_sample\"\n",
      "Joining, by = \"site_supplying_sample\"\n",
      "Joining, by = \"site_supplying_sample\"\n",
      "Joining, by = \"site_supplying_sample\"\n",
      "Joining, by = \"site_supplying_sample\"\n",
      "Joining, by = \"site_supplying_sample\"\n",
      "Joining, by = \"site_supplying_sample\"\n",
      "Joining, by = \"site_supplying_sample\"\n",
      "Joining, by = \"site_supplying_sample\"\n",
      "Joining, by = \"site_supplying_sample\"\n",
      "Joining, by = \"site_supplying_sample\"\n",
      "Joining, by = \"site_supplying_sample\"\n",
      "Warning message:\n",
      "“Removed 294 rows containing non-finite values (stat_boxplot).”\n",
      "Warning message:\n",
      "“Removed 370 rows containing non-finite values (stat_boxplot).”\n",
      "Warning message:\n",
      "“Removed 369 rows containing non-finite values (stat_boxplot).”\n",
      "Warning message:\n",
      "“Removed 367 rows containing non-finite values (stat_boxplot).”\n",
      "Warning message:\n",
      "“Removed 1963 rows containing non-finite values (stat_boxplot).”\n",
      "Warning message:\n",
      "“Removed 2666 rows containing non-finite values (stat_boxplot).”\n",
      "Warning message:\n",
      "“Removed 1444 rows containing non-finite values (stat_boxplot).”\n",
      "Warning message:\n",
      "“Removed 3719 rows containing non-finite values (stat_boxplot).”\n",
      "Warning message:\n",
      "“Removed 1444 rows containing non-finite values (stat_boxplot).”\n",
      "Warning message:\n",
      "“Removed 1452 rows containing non-finite values (stat_boxplot).”\n",
      "Warning message:\n",
      "“Removed 2493 rows containing non-finite values (stat_boxplot).”\n",
      "Warning message:\n",
      "“Removed 6246 rows containing non-finite values (stat_boxplot).”\n",
      "Warning message:\n",
      "“Removed 7718 rows containing non-finite values (stat_boxplot).”\n",
      "Warning message:\n",
      "“Removed 1852 rows containing non-finite values (stat_boxplot).”\n",
      "Warning message:\n",
      "“Removed 506 rows containing non-finite values (stat_boxplot).”\n",
      "Warning message:\n",
      "“Removed 508 rows containing non-finite values (stat_boxplot).”\n"
     ]
    },
    {
     "data": {
      "text/html": [
       "<strong>png:</strong> 2"
      ],
      "text/latex": [
       "\\textbf{png:} 2"
      ],
      "text/markdown": [
       "**png:** 2"
      ],
      "text/plain": [
       "png \n",
       "  2 "
      ]
     },
     "metadata": {},
     "output_type": "display_data"
    }
   ],
   "source": [
    "n_df <- X_meta %>%\n",
    "    select(npm_research_id, site_supplying_sample) %>%\n",
    "    group_by(site_supplying_sample) %>%\n",
    "    summarise(cohort_total = n())\n",
    "\n",
    "plot_list <- foreach (col = categorical_list_full) %do% {\n",
    "X_meta %>%\n",
    "        group_by_at(c(col, \"site_supplying_sample\")) %>%\n",
    "        summarise(count = n()) %>%\n",
    "        left_join(n_df) %>%\n",
    "        mutate(col = factor(get(col), levels = unique(get(col)))) %>%\n",
    "        ggplot(aes(x = site_supplying_sample, y = count, fill = col)) +\n",
    "            geom_bar(position = \"stack\", stat = \"identity\") +\n",
    "            theme(legend.position = \"top\") +\n",
    "            geom_text(aes(x = site_supplying_sample, y = -3, label = paste0(\"n = \", cohort_total)),\n",
    "                      vjust = 0) +\n",
    "            labs(fill = col)\n",
    "}\n",
    "\n",
    "plot_list2 <- foreach (col = cont_list_full) %do% {\n",
    "    X_meta %>%\n",
    "        left_join(n_df) %>%\n",
    "        ggplot(aes_string(x = \"site_supplying_sample\", y = col, fill = \"genetic_sex\")) +\n",
    "            geom_boxplot() +\n",
    "            theme(legend.position = \"top\") +\n",
    "            geom_text(aes(x = site_supplying_sample, y = -3, label = paste0(\"n = \", cohort_total)),\n",
    "                      vjust = 0) +\n",
    "            labs(y = col)\n",
    "}\n",
    "\n",
    "plot_list <- c(plot_list, plot_list2)\n",
    "pdf(\"results/phenotype_associations/metadata_barcharts2.pdf\")\n",
    "for (plt in plot_list) {\n",
    "    print(plt)\n",
    "}\n",
    "dev.off()"
   ]
  },
  {
   "cell_type": "markdown",
   "id": "bd080abb",
   "metadata": {},
   "source": [
    "## Phenotype association tests"
   ]
  },
  {
   "cell_type": "code",
   "execution_count": 18,
   "id": "a4da51d9",
   "metadata": {
    "scrolled": true
   },
   "outputs": [],
   "source": [
    "morsels <- foreach(cohort = cohort_list) %do% {\n",
    "    cat_morsels <- foreach (category = categorical_list) %dopar% {\n",
    "        X_meta_filt <- X_meta %>% \n",
    "            filter(!is.na(get(category)),\n",
    "                   site_supplying_sample == cohort)\n",
    "        var_vec <- deframe(X_meta_filt[, category])\n",
    "\n",
    "        foreach (taxon = taxon_list) %do% {\n",
    "            species_vec <- deframe(X_meta_filt[, taxon])\n",
    "\n",
    "            if(sum(species_vec) > 0 & length(unique(var_vec)) >= 2) {\n",
    "                test <- fisher.test(var_vec, species_vec)\n",
    "                return(tibble(taxa = taxon, variable = category, OR = test$estimate, p = test$p.value))\n",
    "            } else {\n",
    "                return(tibble(taxa = taxon, variable = category, OR = NA, p = NA))\n",
    "            }\n",
    "        }\n",
    "    }\n",
    "\n",
    "    cat_res <- bind_rows(cat_morsels)\n",
    "\n",
    "    # For continuous variables\n",
    "    cont_morsels <- foreach (cont = cont_list) %dopar% {\n",
    "        X_meta_filt <- X_meta %>% \n",
    "            filter(!is.na(get(cont)),\n",
    "                   site_supplying_sample == cohort)\n",
    "        var_vec <- deframe(X_meta_filt[, cont])\n",
    "\n",
    "        foreach (taxon = taxon_list) %do% {\n",
    "            species_vec <- deframe(X_meta_filt[, taxon])\n",
    "\n",
    "            if(sum(species_vec) > 0) {\n",
    "                test <- wilcox.test(var_vec ~ species_vec, correct = F, alternative = \"two.sided\") \n",
    "                return(tibble(taxa = taxon, variable = cont, \n",
    "                              U = test$statistic, \n",
    "                              p = test$p.value))\n",
    "            } else {\n",
    "                return(tibble(taxa = taxon, variable = cont, \n",
    "                                          U = NA, \n",
    "                                          p = NA))\n",
    "            }\n",
    "        }\n",
    "    }\n",
    "\n",
    "    cont_res <- bind_rows(cont_morsels)\n",
    "\n",
    "    res_temp <- cat_res %>%\n",
    "        bind_rows(cont_res) %>%\n",
    "        add_column(cohort = cohort)\n",
    "    res_temp\n",
    "}\n",
    "\n",
    "res <- bind_rows(morsels)"
   ]
  },
  {
   "cell_type": "code",
   "execution_count": 20,
   "id": "bdee972d",
   "metadata": {},
   "outputs": [
    {
     "name": "stdout",
     "output_type": "stream",
     "text": [
      "[1] 402\n"
     ]
    }
   ],
   "source": [
    "n_not_tested <- res %>%\n",
    "    filter(is.na(p)) %>%\n",
    "    nrow()\n",
    "\n",
    "n_comparisons_final <- n_comparisons - n_not_tested\n",
    "print(n_comparisons_final)\n",
    "a <- 0.05\n",
    "\n",
    "res_filt <- res %>%\n",
    "    filter(!is.na(p)) %>%\n",
    "    mutate(p.adj = p.adjust(p, \"BH\", n = n_comparisons_final)) %>%\n",
    "    mutate(log_p_adj = -log(p.adj, base = 10),\n",
    "           annot = ifelse(log_p_adj > 5, taxa, \"\"),\n",
    "           variable = case_when(variable == \"genetic_ancestry\" ~ \"Ancestry\",\n",
    "                                variable == \"age\" ~  \"Age\",\n",
    "                                variable == \"tg_mmol_l\" ~ \"Triglycerides\",\n",
    "                                variable == \"bmi\" ~ \"BMI\",\n",
    "                                variable == \"tc_mmol_l\" ~ \"Total cholesterol\",\n",
    "                                variable == \"genetic_sex\" ~ \"Sex\",\n",
    "                                variable == \"sbp\" ~ \"SBP\",\n",
    "                                variable == \"dbp\" ~ \"DBP\"),\n",
    "           color_value = ifelse(p.adj > a, NA, log_p_adj))"
   ]
  },
  {
   "cell_type": "code",
   "execution_count": 25,
   "id": "ebfa788f",
   "metadata": {},
   "outputs": [
    {
     "data": {
      "text/html": [
       "<table class=\"dataframe\">\n",
       "<caption>A tibble: 40 × 6</caption>\n",
       "<thead>\n",
       "\t<tr><th scope=col>taxa</th><th scope=col>variable</th><th scope=col>OR</th><th scope=col>p</th><th scope=col>U</th><th scope=col>cohort</th></tr>\n",
       "\t<tr><th scope=col>&lt;chr&gt;</th><th scope=col>&lt;chr&gt;</th><th scope=col>&lt;dbl&gt;</th><th scope=col>&lt;dbl&gt;</th><th scope=col>&lt;dbl&gt;</th><th scope=col>&lt;chr&gt;</th></tr>\n",
       "</thead>\n",
       "<tbody>\n",
       "\t<tr><td>Cutibacterium acnes         </td><td>genetic_ancestry</td><td>      NA</td><td>2.910286e-04</td><td>      NA</td><td>MEC   </td></tr>\n",
       "\t<tr><td>Moraxella osloensis         </td><td>genetic_ancestry</td><td>      NA</td><td>7.982019e-03</td><td>      NA</td><td>MEC   </td></tr>\n",
       "\t<tr><td>Cutibacterium acnes         </td><td>age             </td><td>      NA</td><td>1.266283e-02</td><td>199047.0</td><td>MEC   </td></tr>\n",
       "\t<tr><td>Human mastadenovirus C      </td><td>age             </td><td>      NA</td><td>1.012297e-07</td><td>176131.0</td><td>MEC   </td></tr>\n",
       "\t<tr><td>Staphylococcus epidermidis  </td><td>age             </td><td>      NA</td><td>3.561458e-02</td><td> 83123.5</td><td>MEC   </td></tr>\n",
       "\t<tr><td>Moraxella osloensis         </td><td>bmi             </td><td>      NA</td><td>1.197139e-02</td><td> 65375.0</td><td>MEC   </td></tr>\n",
       "\t<tr><td>Human mastadenovirus C      </td><td>tc_mmol_l       </td><td>      NA</td><td>2.326046e-03</td><td>154418.5</td><td>MEC   </td></tr>\n",
       "\t<tr><td>Human mastadenovirus C      </td><td>tg_mmol_l       </td><td>      NA</td><td>3.454067e-04</td><td>158513.0</td><td>MEC   </td></tr>\n",
       "\t<tr><td>Human mastadenovirus C      </td><td>sbp             </td><td>      NA</td><td>2.916040e-03</td><td>153891.0</td><td>MEC   </td></tr>\n",
       "\t<tr><td>Staphylococcus epidermidis  </td><td>sbp             </td><td>      NA</td><td>2.994825e-02</td><td> 80810.5</td><td>MEC   </td></tr>\n",
       "\t<tr><td>Paraburkholderia acidisoli  </td><td>sbp             </td><td>      NA</td><td>2.421260e-02</td><td>   214.0</td><td>MEC   </td></tr>\n",
       "\t<tr><td>Human mastadenovirus C      </td><td>dbp             </td><td>      NA</td><td>4.033348e-03</td><td>153115.0</td><td>MEC   </td></tr>\n",
       "\t<tr><td>Staphylococcus epidermidis  </td><td>dbp             </td><td>      NA</td><td>7.194034e-03</td><td> 83683.0</td><td>MEC   </td></tr>\n",
       "\t<tr><td>Paraburkholderia acidisoli  </td><td>dbp             </td><td>      NA</td><td>2.324731e-02</td><td>   197.0</td><td>MEC   </td></tr>\n",
       "\t<tr><td>Cutibacterium acnes         </td><td>genetic_ancestry</td><td>      NA</td><td>1.207188e-03</td><td>      NA</td><td>HELIOS</td></tr>\n",
       "\t<tr><td>Cutibacterium acnes         </td><td>age             </td><td>      NA</td><td>8.325637e-03</td><td> 22443.0</td><td>HELIOS</td></tr>\n",
       "\t<tr><td>Lactobacillus crispatus     </td><td>sbp             </td><td>      NA</td><td>4.637990e-02</td><td>  7166.0</td><td>HELIOS</td></tr>\n",
       "\t<tr><td>Lactobacillus crispatus     </td><td>dbp             </td><td>      NA</td><td>4.950525e-02</td><td>  7129.5</td><td>HELIOS</td></tr>\n",
       "\t<tr><td>Human mastadenovirus C      </td><td>genetic_sex     </td><td>     Inf</td><td>3.206699e-02</td><td>      NA</td><td>GUSTO </td></tr>\n",
       "\t<tr><td>Bifidobacterium adolescentis</td><td>genetic_ancestry</td><td>      NA</td><td>1.673020e-07</td><td>      NA</td><td>GUSTO </td></tr>\n",
       "\t<tr><td>Cutibacterium acnes         </td><td>genetic_ancestry</td><td>      NA</td><td>3.090000e-09</td><td>      NA</td><td>SERI  </td></tr>\n",
       "\t<tr><td>Moraxella osloensis         </td><td>genetic_ancestry</td><td>      NA</td><td>4.319373e-06</td><td>      NA</td><td>SERI  </td></tr>\n",
       "\t<tr><td>Acidovorax sp. KKS102       </td><td>genetic_ancestry</td><td>      NA</td><td>6.858424e-04</td><td>      NA</td><td>SERI  </td></tr>\n",
       "\t<tr><td>Bifidobacterium adolescentis</td><td>genetic_ancestry</td><td>      NA</td><td>4.181003e-02</td><td>      NA</td><td>SERI  </td></tr>\n",
       "\t<tr><td>Paraburkholderia acidiphila </td><td>genetic_ancestry</td><td>      NA</td><td>6.234971e-26</td><td>      NA</td><td>SERI  </td></tr>\n",
       "\t<tr><td>Paraburkholderia sp. 7MH5   </td><td>genetic_ancestry</td><td>      NA</td><td>1.784327e-28</td><td>      NA</td><td>SERI  </td></tr>\n",
       "\t<tr><td>Paraburkholderia tropica    </td><td>genetic_ancestry</td><td>      NA</td><td>6.269393e-27</td><td>      NA</td><td>SERI  </td></tr>\n",
       "\t<tr><td>Paraburkholderia acidisoli  </td><td>genetic_ancestry</td><td>      NA</td><td>3.481658e-24</td><td>      NA</td><td>SERI  </td></tr>\n",
       "\t<tr><td>Moraxella osloensis         </td><td>age             </td><td>      NA</td><td>1.446204e-02</td><td> 41748.0</td><td>SERI  </td></tr>\n",
       "\t<tr><td>Paraburkholderia acidiphila </td><td>age             </td><td>      NA</td><td>2.617371e-03</td><td> 38411.0</td><td>SERI  </td></tr>\n",
       "\t<tr><td>Paraburkholderia sp. 7MH5   </td><td>age             </td><td>      NA</td><td>7.519823e-03</td><td> 42468.0</td><td>SERI  </td></tr>\n",
       "\t<tr><td>Paraburkholderia tropica    </td><td>age             </td><td>      NA</td><td>1.470340e-02</td><td> 41217.0</td><td>SERI  </td></tr>\n",
       "\t<tr><td>Paraburkholderia acidisoli  </td><td>age             </td><td>      NA</td><td>3.752428e-03</td><td> 36465.5</td><td>SERI  </td></tr>\n",
       "\t<tr><td>Paraburkholderia acidiphila </td><td>bmi             </td><td>      NA</td><td>4.744412e-03</td><td> 54013.5</td><td>SERI  </td></tr>\n",
       "\t<tr><td>Paraburkholderia sp. 7MH5   </td><td>bmi             </td><td>      NA</td><td>9.078857e-04</td><td> 59069.5</td><td>SERI  </td></tr>\n",
       "\t<tr><td>Paraburkholderia tropica    </td><td>bmi             </td><td>      NA</td><td>1.170312e-02</td><td> 54680.5</td><td>SERI  </td></tr>\n",
       "\t<tr><td>Paraburkholderia acidisoli  </td><td>bmi             </td><td>      NA</td><td>1.439660e-02</td><td> 50381.0</td><td>SERI  </td></tr>\n",
       "\t<tr><td>Cutibacterium acnes         </td><td>tg_mmol_l       </td><td>      NA</td><td>4.356115e-02</td><td> 25733.5</td><td>SERI  </td></tr>\n",
       "\t<tr><td>Moraxella osloensis         </td><td>tg_mmol_l       </td><td>      NA</td><td>2.162294e-02</td><td> 40204.0</td><td>SERI  </td></tr>\n",
       "\t<tr><td>Acidovorax sp. KKS102       </td><td>genetic_sex     </td><td>3.125813</td><td>2.166109e-02</td><td>      NA</td><td>TTSH  </td></tr>\n",
       "</tbody>\n",
       "</table>\n"
      ],
      "text/latex": [
       "A tibble: 40 × 6\n",
       "\\begin{tabular}{llllll}\n",
       " taxa & variable & OR & p & U & cohort\\\\\n",
       " <chr> & <chr> & <dbl> & <dbl> & <dbl> & <chr>\\\\\n",
       "\\hline\n",
       "\t Cutibacterium acnes          & genetic\\_ancestry &       NA & 2.910286e-04 &       NA & MEC   \\\\\n",
       "\t Moraxella osloensis          & genetic\\_ancestry &       NA & 7.982019e-03 &       NA & MEC   \\\\\n",
       "\t Cutibacterium acnes          & age              &       NA & 1.266283e-02 & 199047.0 & MEC   \\\\\n",
       "\t Human mastadenovirus C       & age              &       NA & 1.012297e-07 & 176131.0 & MEC   \\\\\n",
       "\t Staphylococcus epidermidis   & age              &       NA & 3.561458e-02 &  83123.5 & MEC   \\\\\n",
       "\t Moraxella osloensis          & bmi              &       NA & 1.197139e-02 &  65375.0 & MEC   \\\\\n",
       "\t Human mastadenovirus C       & tc\\_mmol\\_l        &       NA & 2.326046e-03 & 154418.5 & MEC   \\\\\n",
       "\t Human mastadenovirus C       & tg\\_mmol\\_l        &       NA & 3.454067e-04 & 158513.0 & MEC   \\\\\n",
       "\t Human mastadenovirus C       & sbp              &       NA & 2.916040e-03 & 153891.0 & MEC   \\\\\n",
       "\t Staphylococcus epidermidis   & sbp              &       NA & 2.994825e-02 &  80810.5 & MEC   \\\\\n",
       "\t Paraburkholderia acidisoli   & sbp              &       NA & 2.421260e-02 &    214.0 & MEC   \\\\\n",
       "\t Human mastadenovirus C       & dbp              &       NA & 4.033348e-03 & 153115.0 & MEC   \\\\\n",
       "\t Staphylococcus epidermidis   & dbp              &       NA & 7.194034e-03 &  83683.0 & MEC   \\\\\n",
       "\t Paraburkholderia acidisoli   & dbp              &       NA & 2.324731e-02 &    197.0 & MEC   \\\\\n",
       "\t Cutibacterium acnes          & genetic\\_ancestry &       NA & 1.207188e-03 &       NA & HELIOS\\\\\n",
       "\t Cutibacterium acnes          & age              &       NA & 8.325637e-03 &  22443.0 & HELIOS\\\\\n",
       "\t Lactobacillus crispatus      & sbp              &       NA & 4.637990e-02 &   7166.0 & HELIOS\\\\\n",
       "\t Lactobacillus crispatus      & dbp              &       NA & 4.950525e-02 &   7129.5 & HELIOS\\\\\n",
       "\t Human mastadenovirus C       & genetic\\_sex      &      Inf & 3.206699e-02 &       NA & GUSTO \\\\\n",
       "\t Bifidobacterium adolescentis & genetic\\_ancestry &       NA & 1.673020e-07 &       NA & GUSTO \\\\\n",
       "\t Cutibacterium acnes          & genetic\\_ancestry &       NA & 3.090000e-09 &       NA & SERI  \\\\\n",
       "\t Moraxella osloensis          & genetic\\_ancestry &       NA & 4.319373e-06 &       NA & SERI  \\\\\n",
       "\t Acidovorax sp. KKS102        & genetic\\_ancestry &       NA & 6.858424e-04 &       NA & SERI  \\\\\n",
       "\t Bifidobacterium adolescentis & genetic\\_ancestry &       NA & 4.181003e-02 &       NA & SERI  \\\\\n",
       "\t Paraburkholderia acidiphila  & genetic\\_ancestry &       NA & 6.234971e-26 &       NA & SERI  \\\\\n",
       "\t Paraburkholderia sp. 7MH5    & genetic\\_ancestry &       NA & 1.784327e-28 &       NA & SERI  \\\\\n",
       "\t Paraburkholderia tropica     & genetic\\_ancestry &       NA & 6.269393e-27 &       NA & SERI  \\\\\n",
       "\t Paraburkholderia acidisoli   & genetic\\_ancestry &       NA & 3.481658e-24 &       NA & SERI  \\\\\n",
       "\t Moraxella osloensis          & age              &       NA & 1.446204e-02 &  41748.0 & SERI  \\\\\n",
       "\t Paraburkholderia acidiphila  & age              &       NA & 2.617371e-03 &  38411.0 & SERI  \\\\\n",
       "\t Paraburkholderia sp. 7MH5    & age              &       NA & 7.519823e-03 &  42468.0 & SERI  \\\\\n",
       "\t Paraburkholderia tropica     & age              &       NA & 1.470340e-02 &  41217.0 & SERI  \\\\\n",
       "\t Paraburkholderia acidisoli   & age              &       NA & 3.752428e-03 &  36465.5 & SERI  \\\\\n",
       "\t Paraburkholderia acidiphila  & bmi              &       NA & 4.744412e-03 &  54013.5 & SERI  \\\\\n",
       "\t Paraburkholderia sp. 7MH5    & bmi              &       NA & 9.078857e-04 &  59069.5 & SERI  \\\\\n",
       "\t Paraburkholderia tropica     & bmi              &       NA & 1.170312e-02 &  54680.5 & SERI  \\\\\n",
       "\t Paraburkholderia acidisoli   & bmi              &       NA & 1.439660e-02 &  50381.0 & SERI  \\\\\n",
       "\t Cutibacterium acnes          & tg\\_mmol\\_l        &       NA & 4.356115e-02 &  25733.5 & SERI  \\\\\n",
       "\t Moraxella osloensis          & tg\\_mmol\\_l        &       NA & 2.162294e-02 &  40204.0 & SERI  \\\\\n",
       "\t Acidovorax sp. KKS102        & genetic\\_sex      & 3.125813 & 2.166109e-02 &       NA & TTSH  \\\\\n",
       "\\end{tabular}\n"
      ],
      "text/markdown": [
       "\n",
       "A tibble: 40 × 6\n",
       "\n",
       "| taxa &lt;chr&gt; | variable &lt;chr&gt; | OR &lt;dbl&gt; | p &lt;dbl&gt; | U &lt;dbl&gt; | cohort &lt;chr&gt; |\n",
       "|---|---|---|---|---|---|\n",
       "| Cutibacterium acnes          | genetic_ancestry |       NA | 2.910286e-04 |       NA | MEC    |\n",
       "| Moraxella osloensis          | genetic_ancestry |       NA | 7.982019e-03 |       NA | MEC    |\n",
       "| Cutibacterium acnes          | age              |       NA | 1.266283e-02 | 199047.0 | MEC    |\n",
       "| Human mastadenovirus C       | age              |       NA | 1.012297e-07 | 176131.0 | MEC    |\n",
       "| Staphylococcus epidermidis   | age              |       NA | 3.561458e-02 |  83123.5 | MEC    |\n",
       "| Moraxella osloensis          | bmi              |       NA | 1.197139e-02 |  65375.0 | MEC    |\n",
       "| Human mastadenovirus C       | tc_mmol_l        |       NA | 2.326046e-03 | 154418.5 | MEC    |\n",
       "| Human mastadenovirus C       | tg_mmol_l        |       NA | 3.454067e-04 | 158513.0 | MEC    |\n",
       "| Human mastadenovirus C       | sbp              |       NA | 2.916040e-03 | 153891.0 | MEC    |\n",
       "| Staphylococcus epidermidis   | sbp              |       NA | 2.994825e-02 |  80810.5 | MEC    |\n",
       "| Paraburkholderia acidisoli   | sbp              |       NA | 2.421260e-02 |    214.0 | MEC    |\n",
       "| Human mastadenovirus C       | dbp              |       NA | 4.033348e-03 | 153115.0 | MEC    |\n",
       "| Staphylococcus epidermidis   | dbp              |       NA | 7.194034e-03 |  83683.0 | MEC    |\n",
       "| Paraburkholderia acidisoli   | dbp              |       NA | 2.324731e-02 |    197.0 | MEC    |\n",
       "| Cutibacterium acnes          | genetic_ancestry |       NA | 1.207188e-03 |       NA | HELIOS |\n",
       "| Cutibacterium acnes          | age              |       NA | 8.325637e-03 |  22443.0 | HELIOS |\n",
       "| Lactobacillus crispatus      | sbp              |       NA | 4.637990e-02 |   7166.0 | HELIOS |\n",
       "| Lactobacillus crispatus      | dbp              |       NA | 4.950525e-02 |   7129.5 | HELIOS |\n",
       "| Human mastadenovirus C       | genetic_sex      |      Inf | 3.206699e-02 |       NA | GUSTO  |\n",
       "| Bifidobacterium adolescentis | genetic_ancestry |       NA | 1.673020e-07 |       NA | GUSTO  |\n",
       "| Cutibacterium acnes          | genetic_ancestry |       NA | 3.090000e-09 |       NA | SERI   |\n",
       "| Moraxella osloensis          | genetic_ancestry |       NA | 4.319373e-06 |       NA | SERI   |\n",
       "| Acidovorax sp. KKS102        | genetic_ancestry |       NA | 6.858424e-04 |       NA | SERI   |\n",
       "| Bifidobacterium adolescentis | genetic_ancestry |       NA | 4.181003e-02 |       NA | SERI   |\n",
       "| Paraburkholderia acidiphila  | genetic_ancestry |       NA | 6.234971e-26 |       NA | SERI   |\n",
       "| Paraburkholderia sp. 7MH5    | genetic_ancestry |       NA | 1.784327e-28 |       NA | SERI   |\n",
       "| Paraburkholderia tropica     | genetic_ancestry |       NA | 6.269393e-27 |       NA | SERI   |\n",
       "| Paraburkholderia acidisoli   | genetic_ancestry |       NA | 3.481658e-24 |       NA | SERI   |\n",
       "| Moraxella osloensis          | age              |       NA | 1.446204e-02 |  41748.0 | SERI   |\n",
       "| Paraburkholderia acidiphila  | age              |       NA | 2.617371e-03 |  38411.0 | SERI   |\n",
       "| Paraburkholderia sp. 7MH5    | age              |       NA | 7.519823e-03 |  42468.0 | SERI   |\n",
       "| Paraburkholderia tropica     | age              |       NA | 1.470340e-02 |  41217.0 | SERI   |\n",
       "| Paraburkholderia acidisoli   | age              |       NA | 3.752428e-03 |  36465.5 | SERI   |\n",
       "| Paraburkholderia acidiphila  | bmi              |       NA | 4.744412e-03 |  54013.5 | SERI   |\n",
       "| Paraburkholderia sp. 7MH5    | bmi              |       NA | 9.078857e-04 |  59069.5 | SERI   |\n",
       "| Paraburkholderia tropica     | bmi              |       NA | 1.170312e-02 |  54680.5 | SERI   |\n",
       "| Paraburkholderia acidisoli   | bmi              |       NA | 1.439660e-02 |  50381.0 | SERI   |\n",
       "| Cutibacterium acnes          | tg_mmol_l        |       NA | 4.356115e-02 |  25733.5 | SERI   |\n",
       "| Moraxella osloensis          | tg_mmol_l        |       NA | 2.162294e-02 |  40204.0 | SERI   |\n",
       "| Acidovorax sp. KKS102        | genetic_sex      | 3.125813 | 2.166109e-02 |       NA | TTSH   |\n",
       "\n"
      ],
      "text/plain": [
       "   taxa                         variable         OR       p            U       \n",
       "1  Cutibacterium acnes          genetic_ancestry       NA 2.910286e-04       NA\n",
       "2  Moraxella osloensis          genetic_ancestry       NA 7.982019e-03       NA\n",
       "3  Cutibacterium acnes          age                    NA 1.266283e-02 199047.0\n",
       "4  Human mastadenovirus C       age                    NA 1.012297e-07 176131.0\n",
       "5  Staphylococcus epidermidis   age                    NA 3.561458e-02  83123.5\n",
       "6  Moraxella osloensis          bmi                    NA 1.197139e-02  65375.0\n",
       "7  Human mastadenovirus C       tc_mmol_l              NA 2.326046e-03 154418.5\n",
       "8  Human mastadenovirus C       tg_mmol_l              NA 3.454067e-04 158513.0\n",
       "9  Human mastadenovirus C       sbp                    NA 2.916040e-03 153891.0\n",
       "10 Staphylococcus epidermidis   sbp                    NA 2.994825e-02  80810.5\n",
       "11 Paraburkholderia acidisoli   sbp                    NA 2.421260e-02    214.0\n",
       "12 Human mastadenovirus C       dbp                    NA 4.033348e-03 153115.0\n",
       "13 Staphylococcus epidermidis   dbp                    NA 7.194034e-03  83683.0\n",
       "14 Paraburkholderia acidisoli   dbp                    NA 2.324731e-02    197.0\n",
       "15 Cutibacterium acnes          genetic_ancestry       NA 1.207188e-03       NA\n",
       "16 Cutibacterium acnes          age                    NA 8.325637e-03  22443.0\n",
       "17 Lactobacillus crispatus      sbp                    NA 4.637990e-02   7166.0\n",
       "18 Lactobacillus crispatus      dbp                    NA 4.950525e-02   7129.5\n",
       "19 Human mastadenovirus C       genetic_sex           Inf 3.206699e-02       NA\n",
       "20 Bifidobacterium adolescentis genetic_ancestry       NA 1.673020e-07       NA\n",
       "21 Cutibacterium acnes          genetic_ancestry       NA 3.090000e-09       NA\n",
       "22 Moraxella osloensis          genetic_ancestry       NA 4.319373e-06       NA\n",
       "23 Acidovorax sp. KKS102        genetic_ancestry       NA 6.858424e-04       NA\n",
       "24 Bifidobacterium adolescentis genetic_ancestry       NA 4.181003e-02       NA\n",
       "25 Paraburkholderia acidiphila  genetic_ancestry       NA 6.234971e-26       NA\n",
       "26 Paraburkholderia sp. 7MH5    genetic_ancestry       NA 1.784327e-28       NA\n",
       "27 Paraburkholderia tropica     genetic_ancestry       NA 6.269393e-27       NA\n",
       "28 Paraburkholderia acidisoli   genetic_ancestry       NA 3.481658e-24       NA\n",
       "29 Moraxella osloensis          age                    NA 1.446204e-02  41748.0\n",
       "30 Paraburkholderia acidiphila  age                    NA 2.617371e-03  38411.0\n",
       "31 Paraburkholderia sp. 7MH5    age                    NA 7.519823e-03  42468.0\n",
       "32 Paraburkholderia tropica     age                    NA 1.470340e-02  41217.0\n",
       "33 Paraburkholderia acidisoli   age                    NA 3.752428e-03  36465.5\n",
       "34 Paraburkholderia acidiphila  bmi                    NA 4.744412e-03  54013.5\n",
       "35 Paraburkholderia sp. 7MH5    bmi                    NA 9.078857e-04  59069.5\n",
       "36 Paraburkholderia tropica     bmi                    NA 1.170312e-02  54680.5\n",
       "37 Paraburkholderia acidisoli   bmi                    NA 1.439660e-02  50381.0\n",
       "38 Cutibacterium acnes          tg_mmol_l              NA 4.356115e-02  25733.5\n",
       "39 Moraxella osloensis          tg_mmol_l              NA 2.162294e-02  40204.0\n",
       "40 Acidovorax sp. KKS102        genetic_sex      3.125813 2.166109e-02       NA\n",
       "   cohort\n",
       "1  MEC   \n",
       "2  MEC   \n",
       "3  MEC   \n",
       "4  MEC   \n",
       "5  MEC   \n",
       "6  MEC   \n",
       "7  MEC   \n",
       "8  MEC   \n",
       "9  MEC   \n",
       "10 MEC   \n",
       "11 MEC   \n",
       "12 MEC   \n",
       "13 MEC   \n",
       "14 MEC   \n",
       "15 HELIOS\n",
       "16 HELIOS\n",
       "17 HELIOS\n",
       "18 HELIOS\n",
       "19 GUSTO \n",
       "20 GUSTO \n",
       "21 SERI  \n",
       "22 SERI  \n",
       "23 SERI  \n",
       "24 SERI  \n",
       "25 SERI  \n",
       "26 SERI  \n",
       "27 SERI  \n",
       "28 SERI  \n",
       "29 SERI  \n",
       "30 SERI  \n",
       "31 SERI  \n",
       "32 SERI  \n",
       "33 SERI  \n",
       "34 SERI  \n",
       "35 SERI  \n",
       "36 SERI  \n",
       "37 SERI  \n",
       "38 SERI  \n",
       "39 SERI  \n",
       "40 TTSH  "
      ]
     },
     "metadata": {},
     "output_type": "display_data"
    }
   ],
   "source": [
    "res %>% filter(p < 0.05)"
   ]
  },
  {
   "cell_type": "code",
   "execution_count": 9,
   "id": "d4433819",
   "metadata": {},
   "outputs": [
    {
     "name": "stderr",
     "output_type": "stream",
     "text": [
      "`summarise()` has grouped output by 'taxa'. You can override using the `.groups` argument.\n"
     ]
    }
   ],
   "source": [
    "n_sig_df <- res_filt %>% \n",
    "    filter(p.adj < 0.05) %>%\n",
    "    group_by(taxa, variable) %>%\n",
    "    summarise(n_sig = n())"
   ]
  },
  {
   "cell_type": "code",
   "execution_count": 10,
   "id": "424ced73",
   "metadata": {},
   "outputs": [
    {
     "name": "stderr",
     "output_type": "stream",
     "text": [
      "Joining, by = c(\"taxa\", \"variable\")\n",
      "`summarise()` has grouped output by 'taxa'. You can override using the `.groups` argument.\n"
     ]
    },
    {
     "data": {
      "text/html": [
       "<table class=\"dataframe\">\n",
       "<caption>A grouped_df: 11 × 4</caption>\n",
       "<thead>\n",
       "\t<tr><th scope=col>taxa</th><th scope=col>variable</th><th scope=col>min_p.adj</th><th scope=col>n_sig</th></tr>\n",
       "\t<tr><th scope=col>&lt;chr&gt;</th><th scope=col>&lt;chr&gt;</th><th scope=col>&lt;dbl&gt;</th><th scope=col>&lt;int&gt;</th></tr>\n",
       "</thead>\n",
       "<tbody>\n",
       "\t<tr><td>Acidovorax sp. KKS102       </td><td>Ancestry     </td><td>2.506442e-02</td><td>1</td></tr>\n",
       "\t<tr><td>Bifidobacterium adolescentis</td><td>Ancestry     </td><td>9.607915e-06</td><td>1</td></tr>\n",
       "\t<tr><td>Cutibacterium acnes         </td><td>Ancestry     </td><td>2.484360e-07</td><td>3</td></tr>\n",
       "\t<tr><td>Human mastadenovirus C      </td><td>Age          </td><td>6.782391e-06</td><td>1</td></tr>\n",
       "\t<tr><td>Human mastadenovirus C      </td><td>Triglycerides</td><td>1.388535e-02</td><td>1</td></tr>\n",
       "\t<tr><td>Moraxella osloensis         </td><td>Ancestry     </td><td>2.170485e-04</td><td>1</td></tr>\n",
       "\t<tr><td>Paraburkholderia acidiphila </td><td>Ancestry     </td><td>8.354860e-24</td><td>1</td></tr>\n",
       "\t<tr><td>Paraburkholderia acidisoli  </td><td>Ancestry     </td><td>3.499067e-22</td><td>1</td></tr>\n",
       "\t<tr><td>Paraburkholderia sp. 7MH5   </td><td>Ancestry     </td><td>7.172993e-26</td><td>1</td></tr>\n",
       "\t<tr><td>Paraburkholderia sp. 7MH5   </td><td>BMI          </td><td>3.041417e-02</td><td>1</td></tr>\n",
       "\t<tr><td>Paraburkholderia tropica    </td><td>Ancestry     </td><td>1.260148e-24</td><td>1</td></tr>\n",
       "</tbody>\n",
       "</table>\n"
      ],
      "text/latex": [
       "A grouped\\_df: 11 × 4\n",
       "\\begin{tabular}{llll}\n",
       " taxa & variable & min\\_p.adj & n\\_sig\\\\\n",
       " <chr> & <chr> & <dbl> & <int>\\\\\n",
       "\\hline\n",
       "\t Acidovorax sp. KKS102        & Ancestry      & 2.506442e-02 & 1\\\\\n",
       "\t Bifidobacterium adolescentis & Ancestry      & 9.607915e-06 & 1\\\\\n",
       "\t Cutibacterium acnes          & Ancestry      & 2.484360e-07 & 3\\\\\n",
       "\t Human mastadenovirus C       & Age           & 6.782391e-06 & 1\\\\\n",
       "\t Human mastadenovirus C       & Triglycerides & 1.388535e-02 & 1\\\\\n",
       "\t Moraxella osloensis          & Ancestry      & 2.170485e-04 & 1\\\\\n",
       "\t Paraburkholderia acidiphila  & Ancestry      & 8.354860e-24 & 1\\\\\n",
       "\t Paraburkholderia acidisoli   & Ancestry      & 3.499067e-22 & 1\\\\\n",
       "\t Paraburkholderia sp. 7MH5    & Ancestry      & 7.172993e-26 & 1\\\\\n",
       "\t Paraburkholderia sp. 7MH5    & BMI           & 3.041417e-02 & 1\\\\\n",
       "\t Paraburkholderia tropica     & Ancestry      & 1.260148e-24 & 1\\\\\n",
       "\\end{tabular}\n"
      ],
      "text/markdown": [
       "\n",
       "A grouped_df: 11 × 4\n",
       "\n",
       "| taxa &lt;chr&gt; | variable &lt;chr&gt; | min_p.adj &lt;dbl&gt; | n_sig &lt;int&gt; |\n",
       "|---|---|---|---|\n",
       "| Acidovorax sp. KKS102        | Ancestry      | 2.506442e-02 | 1 |\n",
       "| Bifidobacterium adolescentis | Ancestry      | 9.607915e-06 | 1 |\n",
       "| Cutibacterium acnes          | Ancestry      | 2.484360e-07 | 3 |\n",
       "| Human mastadenovirus C       | Age           | 6.782391e-06 | 1 |\n",
       "| Human mastadenovirus C       | Triglycerides | 1.388535e-02 | 1 |\n",
       "| Moraxella osloensis          | Ancestry      | 2.170485e-04 | 1 |\n",
       "| Paraburkholderia acidiphila  | Ancestry      | 8.354860e-24 | 1 |\n",
       "| Paraburkholderia acidisoli   | Ancestry      | 3.499067e-22 | 1 |\n",
       "| Paraburkholderia sp. 7MH5    | Ancestry      | 7.172993e-26 | 1 |\n",
       "| Paraburkholderia sp. 7MH5    | BMI           | 3.041417e-02 | 1 |\n",
       "| Paraburkholderia tropica     | Ancestry      | 1.260148e-24 | 1 |\n",
       "\n"
      ],
      "text/plain": [
       "   taxa                         variable      min_p.adj    n_sig\n",
       "1  Acidovorax sp. KKS102        Ancestry      2.506442e-02 1    \n",
       "2  Bifidobacterium adolescentis Ancestry      9.607915e-06 1    \n",
       "3  Cutibacterium acnes          Ancestry      2.484360e-07 3    \n",
       "4  Human mastadenovirus C       Age           6.782391e-06 1    \n",
       "5  Human mastadenovirus C       Triglycerides 1.388535e-02 1    \n",
       "6  Moraxella osloensis          Ancestry      2.170485e-04 1    \n",
       "7  Paraburkholderia acidiphila  Ancestry      8.354860e-24 1    \n",
       "8  Paraburkholderia acidisoli   Ancestry      3.499067e-22 1    \n",
       "9  Paraburkholderia sp. 7MH5    Ancestry      7.172993e-26 1    \n",
       "10 Paraburkholderia sp. 7MH5    BMI           3.041417e-02 1    \n",
       "11 Paraburkholderia tropica     Ancestry      1.260148e-24 1    "
      ]
     },
     "metadata": {},
     "output_type": "display_data"
    }
   ],
   "source": [
    "res_filt %>% \n",
    "    filter(p.adj < 0.05) %>%\n",
    "    left_join(n_sig_df) %>%\n",
    "    group_by(taxa, variable) %>%\n",
    "    summarise(min_p.adj = min(p.adj), n_sig = min(n_sig))"
   ]
  },
  {
   "cell_type": "code",
   "execution_count": 11,
   "id": "415c226d",
   "metadata": {
    "scrolled": true
   },
   "outputs": [
    {
     "name": "stderr",
     "output_type": "stream",
     "text": [
      "Joining, by = c(\"taxa\", \"variable\")\n",
      "`summarise()` has grouped output by 'taxa'. You can override using the `.groups` argument.\n",
      "Warning message:\n",
      "“Using size for a discrete variable is not advised.”\n",
      "Warning message:\n",
      "“Using size for a discrete variable is not advised.”\n"
     ]
    },
    {
     "data": {
      "image/png": "[encoded data removed]",
      "text/plain": [
       "plot without title"
      ]
     },
     "metadata": {
      "image/png": {
       "height": 420,
       "width": 420
      }
     },
     "output_type": "display_data"
    }
   ],
   "source": [
    "res_filt %>% \n",
    "    filter(p.adj < 0.05) %>%\n",
    "    left_join(n_sig_df) %>%\n",
    "    group_by(taxa, variable) %>%\n",
    "    summarise(min_p.adj = min(p.adj), n_sig = min(n_sig)) %>%\n",
    "    mutate(log_p_adj = -log(min_p.adj, base = 10),\n",
    "           n_sig = factor(n_sig),\n",
    "           variable = factor(variable, levels = c(\"Ancestry\", \"Sex\", \"Age\", \n",
    "                                                  \"BMI\", \"Triglycerides\", \"Total cholesterol\", \n",
    "                                                  \"DBP\", \"SBP\"))) %>%\n",
    "    ggplot(aes(x = variable, y = log_p_adj, size = n_sig, color = log_p_adj)) +\n",
    "        geom_point() +\n",
    "        geom_hline(yintercept = -log(a, base = 10), \n",
    "                   lty = \"dashed\",\n",
    "                   color = \"red\") +\n",
    "        scale_color_gradient(low = \"orangered4\", \n",
    "                             high = \"tomato1\", \n",
    "                             na.value = \"darkgray\",\n",
    "                             guide = \"none\") + \n",
    "        scale_x_discrete(drop = F) +\n",
    "        theme_bw() +\n",
    "        theme(text = element_text(size = 15),\n",
    "              legend.position = \"bottom\") +\n",
    "        geom_text(aes(label = taxa), angle = 20, hjust = -0.1, size = 3) +\n",
    "        labs(x = \"Variables\", y = \"log10(adj. p-value)\", size = \"Signif. in how many cohorts?\") +\n",
    "        ylim(0, 30)\n",
    "\n",
    "ggsave(\"results/phenotype_associations/manhattan_plot.separate.simple.png\", dpi = 600, width = 11, height = 4)"
   ]
  },
  {
   "cell_type": "code",
   "execution_count": 12,
   "id": "b4fbe7e5",
   "metadata": {},
   "outputs": [],
   "source": [
    "final <- res_filt %>% \n",
    "    filter(p.adj < 0.05)\n",
    "\n",
    "fwrite(final, \"results/phenotype_associations/phenotype_association_results_simple_single_cohorts.csv\")"
   ]
  },
  {
   "cell_type": "markdown",
   "id": "7db38f32",
   "metadata": {},
   "source": [
    "### Plot prevalence for C. acnes"
   ]
  },
  {
   "cell_type": "code",
   "execution_count": 13,
   "id": "429e10a1",
   "metadata": {},
   "outputs": [
    {
     "name": "stderr",
     "output_type": "stream",
     "text": [
      "`summarise()` has grouped output by 'genetic_ancestry'. You can override using the `.groups` argument.\n",
      "`summarise()` has grouped output by 'genetic_ancestry'. You can override using the `.groups` argument.\n",
      "Joining, by = c(\"genetic_ancestry\", \"site_supplying_sample\")\n",
      "Warning message:\n",
      "“Removed 9 rows containing missing values (geom_bar).”\n",
      "Warning message:\n",
      "“Removed 9 rows containing missing values (geom_bar).”\n"
     ]
    },
    {
     "data": {
      "image/png": "[encoded data removed]",
      "text/plain": [
       "plot without title"
      ]
     },
     "metadata": {
      "image/png": {
       "height": 420,
       "width": 420
      }
     },
     "output_type": "display_data"
    }
   ],
   "source": [
    "taxon <- \"Cutibacterium acnes\"    \n",
    "n_df <- X_meta %>%\n",
    "    group_by(genetic_ancestry, site_supplying_sample) %>%\n",
    "    summarise(n_total = n())\n",
    "\n",
    "cohorts_of_interest <- res_filt %>% \n",
    "    filter(taxa == taxon,\n",
    "           p.adj < 0.05)\n",
    "cohorts_of_interest <- unique(cohorts_of_interest$cohort)\n",
    "\n",
    "X_meta %>%\n",
    "    filter(site_supplying_sample %in% cohorts_of_interest) %>%\n",
    "    filter(!is.na(genetic_ancestry)) %>%\n",
    "    select(all_of(c(taxon, \"genetic_ancestry\", \"site_supplying_sample\"))) %>%\n",
    "    pivot_longer(!c(genetic_ancestry, site_supplying_sample), names_to = \"site\", values_to = \"presence\") %>%\n",
    "    group_by(genetic_ancestry, site_supplying_sample) %>%\n",
    "    summarise(n = sum(presence)) %>%\n",
    "    left_join(n_df) %>%\n",
    "    mutate(prop = n / n_total,\n",
    "           genetic_ancestry = case_when(genetic_ancestry == \"C\" ~ \"Chinese\",\n",
    "                                        genetic_ancestry == \"M\" ~ \"Malay\",\n",
    "                                        genetic_ancestry == \"I\" ~ \"Indian\",\n",
    "                                        genetic_ancestry == \"O\" ~ \"Others\"),\n",
    "           site_supplying_sample = ifelse(site_supplying_sample == \"SERI\", \"SEED\", site_supplying_sample)) %>%\n",
    "    ggplot(aes(x = genetic_ancestry, y = prop * 100, fill = genetic_ancestry)) +\n",
    "        facet_grid(rows = vars(site_supplying_sample)) +\n",
    "        geom_bar(stat = \"identity\", \n",
    "                 position = \"dodge\",\n",
    "                 color = \"black\") +\n",
    "        labs(x = \"Ancestry\", y = \"C. acnes prevalence (%)\") +\n",
    "#         geom_text(aes(y = prop, label = n),\n",
    "#                   vjust = 0,\n",
    "#                   color = \"red\") +\n",
    "        geom_text(aes(y = -0.01, label = paste0(\"n = \", n_total)),\n",
    "                  vjust = 1,\n",
    "                  color = \"black\") +\n",
    "        theme_bw() +\n",
    "        theme(legend.position = \"none\",\n",
    "              text = element_text(size = 15)) +\n",
    "        ylim(-0.05, 0.2)\n",
    "\n",
    "taxon_save_name <- paste0(taxon, collapse = \"_\")\n",
    "ggsave(str_glue(\"results/phenotype_associations/separate_simple_plots/{taxon_save_name}.genetic_ancestry.png\"), \n",
    "       width = 10, height = 6)"
   ]
  },
  {
   "cell_type": "code",
   "execution_count": 14,
   "id": "7883c360",
   "metadata": {},
   "outputs": [
    {
     "ename": "ERROR",
     "evalue": "Error in eval(expr, envir, enclos): object 'dawddw' not found\n",
     "output_type": "error",
     "traceback": [
      "Error in eval(expr, envir, enclos): object 'dawddw' not found\nTraceback:\n"
     ]
    }
   ],
   "source": [
    "dawddw"
   ]
  },
  {
   "cell_type": "markdown",
   "id": "486bc744",
   "metadata": {},
   "source": [
    "### Iterate across all significant hits"
   ]
  },
  {
   "cell_type": "code",
   "execution_count": null,
   "id": "5f5f8724",
   "metadata": {},
   "outputs": [],
   "source": [
    "sig_list <- (res_filt %>%\n",
    "    filter(p.adj < 0.05) %>%\n",
    "    distinct(taxa))$taxa\n",
    "for (taxon in sig_list) {\n",
    "    X_meta %>%\n",
    "            select(all_of(c(taxon, \"genetic_ancestry\", \"site_supplying_sample\"))) %>%\n",
    "            pivot_longer(!c(genetic_ancestry, site_supplying_sample), names_to = \"site\", values_to = \"presence\") %>%\n",
    "            group_by(genetic_ancestry, site_supplying_sample) %>%\n",
    "            summarise(n = sum(presence)) %>%\n",
    "            left_join(n_df2) %>%\n",
    "            mutate(prop = n / n_total) %>%\n",
    "            ggplot(aes(x = genetic_ancestry, y = prop, fill = genetic_ancestry)) +\n",
    "                facet_grid(rows = vars(site_supplying_sample)) +\n",
    "                geom_bar(stat = \"identity\", position = \"dodge\") +\n",
    "                labs(x = \"genetic_ancestry\", y = \"Prop. of positive samples\") +\n",
    "                geom_text(aes(y = prop, label = n),\n",
    "                          vjust = 0,\n",
    "                          color = \"red\") +\n",
    "                geom_text(aes(y = -0.01, label = paste0(\"n_sampled = \", n_total)),\n",
    "                          vjust = 1,\n",
    "                          color = \"black\") +\n",
    "    ylim(-0.1, 0.6)\n",
    "        taxon_save_name <- paste0(taxon, collapse = \"_\")\n",
    "        ggsave(str_glue(\"results/phenotype_associations/separate_simple_plots/{taxon_save_name}.genetic_ancestry.png\"), \n",
    "               width = 15, height = 7)\n",
    "}"
   ]
  }
 ],
 "metadata": {
  "kernelspec": {
   "display_name": "R",
   "language": "R",
   "name": "ir"
  },
  "language_info": {
   "codemirror_mode": "r",
   "file_extension": ".r",
   "mimetype": "text/x-r-source",
   "name": "R",
   "pygments_lexer": "r",
   "version": "4.1.0"
  }
 },
 "nbformat": 4,
 "nbformat_minor": 5
}
