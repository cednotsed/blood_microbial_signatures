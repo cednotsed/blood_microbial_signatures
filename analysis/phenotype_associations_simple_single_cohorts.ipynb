{
 "cells": [
  {
   "cell_type": "markdown",
   "id": "f799b42b",
   "metadata": {},
   "source": [
    "# Associations between microbial presence/absence and patient info"
   ]
  },
  {
   "cell_type": "code",
   "execution_count": 1,
   "id": "bc15bd3e",
   "metadata": {
    "scrolled": true
   },
   "outputs": [
    {
     "name": "stderr",
     "output_type": "stream",
     "text": [
      "Loading required package: tidyverse\n",
      "\n",
      "Warning message in system(\"timedatectl\", intern = TRUE):\n",
      "“running command 'timedatectl' had status 1”\n",
      "── \u001b[1mAttaching packages\u001b[22m ─────────────────────────────────────────────────────────────────────────────── tidyverse 1.3.1 ──\n",
      "\n",
      "\u001b[32m✔\u001b[39m \u001b[34mggplot2\u001b[39m 3.3.5     \u001b[32m✔\u001b[39m \u001b[34mpurrr  \u001b[39m 0.3.4\n",
      "\u001b[32m✔\u001b[39m \u001b[34mtibble \u001b[39m 3.1.6     \u001b[32m✔\u001b[39m \u001b[34mdplyr  \u001b[39m 1.0.7\n",
      "\u001b[32m✔\u001b[39m \u001b[34mtidyr  \u001b[39m 1.1.4     \u001b[32m✔\u001b[39m \u001b[34mstringr\u001b[39m 1.4.0\n",
      "\u001b[32m✔\u001b[39m \u001b[34mreadr  \u001b[39m 2.1.0     \u001b[32m✔\u001b[39m \u001b[34mforcats\u001b[39m 0.5.1\n",
      "\n",
      "── \u001b[1mConflicts\u001b[22m ────────────────────────────────────────────────────────────────────────────────── tidyverse_conflicts() ──\n",
      "\u001b[31m✖\u001b[39m \u001b[34mdplyr\u001b[39m::\u001b[32mfilter()\u001b[39m masks \u001b[34mstats\u001b[39m::filter()\n",
      "\u001b[31m✖\u001b[39m \u001b[34mdplyr\u001b[39m::\u001b[32mlag()\u001b[39m    masks \u001b[34mstats\u001b[39m::lag()\n",
      "\n",
      "Loading required package: data.table\n",
      "\n",
      "\n",
      "Attaching package: ‘data.table’\n",
      "\n",
      "\n",
      "The following objects are masked from ‘package:dplyr’:\n",
      "\n",
      "    between, first, last\n",
      "\n",
      "\n",
      "The following object is masked from ‘package:purrr’:\n",
      "\n",
      "    transpose\n",
      "\n",
      "\n",
      "Loading required package: foreach\n",
      "\n",
      "\n",
      "Attaching package: ‘foreach’\n",
      "\n",
      "\n",
      "The following objects are masked from ‘package:purrr’:\n",
      "\n",
      "    accumulate, when\n",
      "\n",
      "\n",
      "Loading required package: doParallel\n",
      "\n",
      "Loading required package: iterators\n",
      "\n",
      "Loading required package: parallel\n",
      "\n",
      "Loading required package: ggrepel\n",
      "\n"
     ]
    }
   ],
   "source": [
    "setwd(\"/mnt/c/Users/Cedric/Desktop/git_repos/blood_microbial_signatures/\")\n",
    "require(tidyverse)\n",
    "require(ggplot2)\n",
    "require(data.table)\n",
    "require(foreach)\n",
    "require(doParallel)\n",
    "require(ggrepel)\n",
    "registerDoParallel(cores = 8)\n"
   ]
  },
  {
   "cell_type": "markdown",
   "id": "8876a48d",
   "metadata": {},
   "source": [
    "### Load  data"
   ]
  },
  {
   "cell_type": "code",
   "execution_count": 2,
   "id": "9d77d78f",
   "metadata": {},
   "outputs": [],
   "source": [
    "X <- fread(\"results/decontamination/prevalence_RA0.005_read10.csv\")\n",
    "nc <- fread(\"results/decontamination/curated_n117_global_decontamination_stats.csv\")\n",
    "X <- X %>% select(all_of(c(\"npm_research_id\", nc$taxa)))\n",
    "\n",
    "meta <- fread(\"data/20210125_v3_release/20210203_all_traits_v3.txt\")\n",
    "meta2 <- fread(\"data/SG10K_Health_metadata.n10714.16March2021.parsed.csv\")\n",
    "\n",
    "n <- gsub(\"[^0-9A-Za-z///' ]\", \" \", colnames(meta))\n",
    "n <- tolower(n)\n",
    "n <- gsub(\" \", \"_\", n)\n",
    "colnames(meta) <- n\n",
    "\n",
    "fwrite(meta, \"data/20210125_v3_release/20210203_all_traits_v3.parsed.csv\")"
   ]
  },
  {
   "cell_type": "markdown",
   "id": "5b85d32e",
   "metadata": {},
   "source": [
    "### Remove samples where blood collection for sequencing date != biomarker collection date"
   ]
  },
  {
   "cell_type": "code",
   "execution_count": 3,
   "id": "6c95cd5f",
   "metadata": {},
   "outputs": [
    {
     "data": {
      "text/html": [
       "<style>\n",
       ".list-inline {list-style: none; margin:0; padding: 0}\n",
       ".list-inline>li {display: inline-block}\n",
       ".list-inline>li:not(:last-child)::after {content: \"\\00b7\"; padding: 0 .5ex}\n",
       "</style>\n",
       "<ol class=list-inline><li>7834</li><li>235</li></ol>\n"
      ],
      "text/latex": [
       "\\begin{enumerate*}\n",
       "\\item 7834\n",
       "\\item 235\n",
       "\\end{enumerate*}\n"
      ],
      "text/markdown": [
       "1. 7834\n",
       "2. 235\n",
       "\n",
       "\n"
      ],
      "text/plain": [
       "[1] 7834  235"
      ]
     },
     "metadata": {},
     "output_type": "display_data"
    }
   ],
   "source": [
    "X_meta <- X %>%\n",
    "    left_join(meta, \"npm_research_id\") %>%\n",
    "    left_join(meta2, \"npm_research_id\") %>%\n",
    "    filter(date_blood == date_biomarker) %>%\n",
    "    filter(date_blood != \"\",\n",
    "           !is.na(date_blood),\n",
    "           !is.na(date_biomarker),\n",
    "           date_biomarker != \"\") %>%\n",
    "    as_tibble()\n",
    "dim(X_meta)"
   ]
  },
  {
   "cell_type": "code",
   "execution_count": 4,
   "id": "7cddc932",
   "metadata": {},
   "outputs": [
    {
     "data": {
      "text/html": [
       "11"
      ],
      "text/latex": [
       "11"
      ],
      "text/markdown": [
       "11"
      ],
      "text/plain": [
       "[1] 11"
      ]
     },
     "metadata": {},
     "output_type": "display_data"
    },
    {
     "data": {
      "text/html": [
       "<style>\n",
       ".list-inline {list-style: none; margin:0; padding: 0}\n",
       ".list-inline>li {display: inline-block}\n",
       ".list-inline>li:not(:last-child)::after {content: \"\\00b7\"; padding: 0 .5ex}\n",
       "</style>\n",
       "<ol class=list-inline><li>'Cutibacterium acnes'</li><li>'Human mastadenovirus C'</li><li>'Staphylococcus epidermidis'</li><li>'Lactobacillus crispatus'</li><li>'Moraxella osloensis'</li><li>'Gardnerella vaginalis'</li><li>'Mycolicibacterium aubagnense'</li><li>'Lactobacillus iners'</li><li>'Phyllobacterium zundukense'</li><li>'Acidovorax sp. KKS102'</li><li>'Bifidobacterium adolescentis'</li></ol>\n"
      ],
      "text/latex": [
       "\\begin{enumerate*}\n",
       "\\item 'Cutibacterium acnes'\n",
       "\\item 'Human mastadenovirus C'\n",
       "\\item 'Staphylococcus epidermidis'\n",
       "\\item 'Lactobacillus crispatus'\n",
       "\\item 'Moraxella osloensis'\n",
       "\\item 'Gardnerella vaginalis'\n",
       "\\item 'Mycolicibacterium aubagnense'\n",
       "\\item 'Lactobacillus iners'\n",
       "\\item 'Phyllobacterium zundukense'\n",
       "\\item 'Acidovorax sp. KKS102'\n",
       "\\item 'Bifidobacterium adolescentis'\n",
       "\\end{enumerate*}\n"
      ],
      "text/markdown": [
       "1. 'Cutibacterium acnes'\n",
       "2. 'Human mastadenovirus C'\n",
       "3. 'Staphylococcus epidermidis'\n",
       "4. 'Lactobacillus crispatus'\n",
       "5. 'Moraxella osloensis'\n",
       "6. 'Gardnerella vaginalis'\n",
       "7. 'Mycolicibacterium aubagnense'\n",
       "8. 'Lactobacillus iners'\n",
       "9. 'Phyllobacterium zundukense'\n",
       "10. 'Acidovorax sp. KKS102'\n",
       "11. 'Bifidobacterium adolescentis'\n",
       "\n",
       "\n"
      ],
      "text/plain": [
       " [1] \"Cutibacterium acnes\"          \"Human mastadenovirus C\"      \n",
       " [3] \"Staphylococcus epidermidis\"   \"Lactobacillus crispatus\"     \n",
       " [5] \"Moraxella osloensis\"          \"Gardnerella vaginalis\"       \n",
       " [7] \"Mycolicibacterium aubagnense\" \"Lactobacillus iners\"         \n",
       " [9] \"Phyllobacterium zundukense\"   \"Acidovorax sp. KKS102\"       \n",
       "[11] \"Bifidobacterium adolescentis\""
      ]
     },
     "metadata": {},
     "output_type": "display_data"
    }
   ],
   "source": [
    "taxon_list <- colSums(X[, 2:ncol(X)]) >= 50\n",
    "taxon_list <- names(taxon_list[taxon_list])\n",
    "length(taxon_list)\n",
    "taxon_list"
   ]
  },
  {
   "cell_type": "code",
   "execution_count": 5,
   "id": "1a3dab6f",
   "metadata": {
    "scrolled": true
   },
   "outputs": [
    {
     "data": {
      "text/html": [
       "11"
      ],
      "text/latex": [
       "11"
      ],
      "text/markdown": [
       "11"
      ],
      "text/plain": [
       "[1] 11"
      ]
     },
     "metadata": {},
     "output_type": "display_data"
    }
   ],
   "source": [
    "# Get variable lists\n",
    "taxon_list <- colSums(X[, 2:ncol(X)]) >= 50\n",
    "taxon_list <- names(taxon_list[taxon_list])\n",
    "length(taxon_list)\n",
    "\n",
    "categorical_list_full <- c(\"fasting\", \"genetic_sex\", \"genetic_ancestry\", \n",
    "                      \"diab_med\", \"htn_med\", \"lipid_med\", \"t2d\")\n",
    "cont_list_full <- c(\"age\", \"bmi\", \n",
    "               \"height_cm\", \"weight_kg\", \"waistc_cm\", \"hipc_cm\", \n",
    "               \"tc_mmol_l\", \"ldl_direct_mmol_l\", \"hdl_mmol_l\", \"tg_mmol_l\",\n",
    "               \"glu_fast_mmol_l\", \"ins_fast_uiu_ml\", \"glu_rand_mmol_l\",\n",
    "               \"ldl_cal_mmol_l\",              \n",
    "               \"sbp\", \"dbp\")\n",
    "\n",
    "categorical_list <- c(\"genetic_sex\", \"genetic_ancestry\")\n",
    "cont_list <- c(\"age\", \"bmi\", \"tc_mmol_l\", \"tg_mmol_l\", \n",
    "               \"sbp\", \"dbp\")"
   ]
  },
  {
   "cell_type": "code",
   "execution_count": 6,
   "id": "1ef6947f",
   "metadata": {},
   "outputs": [
    {
     "data": {
      "text/html": [
       "<style>\n",
       ".list-inline {list-style: none; margin:0; padding: 0}\n",
       ".list-inline>li {display: inline-block}\n",
       ".list-inline>li:not(:last-child)::after {content: \"\\00b7\"; padding: 0 .5ex}\n",
       "</style>\n",
       "<ol class=list-inline><li>'MEC'</li><li>'HELIOS'</li><li>'SEED'</li><li>'PRISM'</li><li>'TTSH'</li></ol>\n"
      ],
      "text/latex": [
       "\\begin{enumerate*}\n",
       "\\item 'MEC'\n",
       "\\item 'HELIOS'\n",
       "\\item 'SEED'\n",
       "\\item 'PRISM'\n",
       "\\item 'TTSH'\n",
       "\\end{enumerate*}\n"
      ],
      "text/markdown": [
       "1. 'MEC'\n",
       "2. 'HELIOS'\n",
       "3. 'SEED'\n",
       "4. 'PRISM'\n",
       "5. 'TTSH'\n",
       "\n",
       "\n"
      ],
      "text/plain": [
       "[1] \"MEC\"    \"HELIOS\" \"SEED\"   \"PRISM\"  \"TTSH\"  "
      ]
     },
     "metadata": {},
     "output_type": "display_data"
    },
    {
     "data": {
      "text/html": [
       "440"
      ],
      "text/latex": [
       "440"
      ],
      "text/markdown": [
       "440"
      ],
      "text/plain": [
       "[1] 440"
      ]
     },
     "metadata": {},
     "output_type": "display_data"
    }
   ],
   "source": [
    "cohort_list <- unique(X_meta$site_supplying_sample)\n",
    "# cohort_list <- cohort_list[cohort_list != \"SSMP\"]\n",
    "cohort_list\n",
    "\n",
    "n_comparisons <- length(cohort_list) * length(taxon_list) * (length(categorical_list) + length(cont_list))\n",
    "n_comparisons"
   ]
  },
  {
   "cell_type": "markdown",
   "id": "2f44c22d",
   "metadata": {},
   "source": [
    "### Basic stats on phenotypes"
   ]
  },
  {
   "cell_type": "code",
   "execution_count": 7,
   "id": "6c3b7cca",
   "metadata": {
    "scrolled": true
   },
   "outputs": [
    {
     "name": "stderr",
     "output_type": "stream",
     "text": [
      "`summarise()` has grouped output by 'fasting'. You can override using the `.groups` argument.\n",
      "Joining, by = \"site_supplying_sample\"\n",
      "`summarise()` has grouped output by 'genetic_sex'. You can override using the `.groups` argument.\n",
      "Joining, by = \"site_supplying_sample\"\n",
      "`summarise()` has grouped output by 'genetic_ancestry'. You can override using the `.groups` argument.\n",
      "Joining, by = \"site_supplying_sample\"\n",
      "`summarise()` has grouped output by 'diab_med'. You can override using the `.groups` argument.\n",
      "Joining, by = \"site_supplying_sample\"\n",
      "`summarise()` has grouped output by 'htn_med'. You can override using the `.groups` argument.\n",
      "Joining, by = \"site_supplying_sample\"\n",
      "`summarise()` has grouped output by 'lipid_med'. You can override using the `.groups` argument.\n",
      "Joining, by = \"site_supplying_sample\"\n",
      "`summarise()` has grouped output by 't2d'. You can override using the `.groups` argument.\n",
      "Joining, by = \"site_supplying_sample\"\n",
      "Joining, by = \"site_supplying_sample\"\n",
      "Joining, by = \"site_supplying_sample\"\n",
      "Joining, by = \"site_supplying_sample\"\n",
      "Joining, by = \"site_supplying_sample\"\n",
      "Joining, by = \"site_supplying_sample\"\n",
      "Joining, by = \"site_supplying_sample\"\n",
      "Joining, by = \"site_supplying_sample\"\n",
      "Joining, by = \"site_supplying_sample\"\n",
      "Joining, by = \"site_supplying_sample\"\n",
      "Joining, by = \"site_supplying_sample\"\n",
      "Joining, by = \"site_supplying_sample\"\n",
      "Joining, by = \"site_supplying_sample\"\n",
      "Joining, by = \"site_supplying_sample\"\n",
      "Joining, by = \"site_supplying_sample\"\n",
      "Joining, by = \"site_supplying_sample\"\n",
      "Joining, by = \"site_supplying_sample\"\n",
      "Warning message:\n",
      "“Removed 48 rows containing non-finite values (stat_boxplot).”\n",
      "Warning message:\n",
      "“Removed 70 rows containing non-finite values (stat_boxplot).”\n",
      "Warning message:\n",
      "“Removed 69 rows containing non-finite values (stat_boxplot).”\n",
      "Warning message:\n",
      "“Removed 68 rows containing non-finite values (stat_boxplot).”\n",
      "Warning message:\n",
      "“Removed 1616 rows containing non-finite values (stat_boxplot).”\n",
      "Warning message:\n",
      "“Removed 1615 rows containing non-finite values (stat_boxplot).”\n",
      "Warning message:\n",
      "“Removed 775 rows containing non-finite values (stat_boxplot).”\n",
      "Warning message:\n",
      "“Removed 3050 rows containing non-finite values (stat_boxplot).”\n",
      "Warning message:\n",
      "“Removed 775 rows containing non-finite values (stat_boxplot).”\n",
      "Warning message:\n",
      "“Removed 779 rows containing non-finite values (stat_boxplot).”\n",
      "Warning message:\n",
      "“Removed 1904 rows containing non-finite values (stat_boxplot).”\n",
      "Warning message:\n",
      "“Removed 5551 rows containing non-finite values (stat_boxplot).”\n",
      "Warning message:\n",
      "“Removed 6762 rows containing non-finite values (stat_boxplot).”\n",
      "Warning message:\n",
      "“Removed 845 rows containing non-finite values (stat_boxplot).”\n",
      "Warning message:\n",
      "“Removed 82 rows containing non-finite values (stat_boxplot).”\n",
      "Warning message:\n",
      "“Removed 84 rows containing non-finite values (stat_boxplot).”\n"
     ]
    },
    {
     "data": {
      "text/html": [
       "<strong>png:</strong> 2"
      ],
      "text/latex": [
       "\\textbf{png:} 2"
      ],
      "text/markdown": [
       "**png:** 2"
      ],
      "text/plain": [
       "png \n",
       "  2 "
      ]
     },
     "metadata": {},
     "output_type": "display_data"
    }
   ],
   "source": [
    "n_df <- X_meta %>%\n",
    "    select(npm_research_id, site_supplying_sample) %>%\n",
    "    group_by(site_supplying_sample) %>%\n",
    "    summarise(cohort_total = n())\n",
    "\n",
    "plot_list <- foreach (col = categorical_list_full) %do% {\n",
    "X_meta %>%\n",
    "        group_by_at(c(col, \"site_supplying_sample\")) %>%\n",
    "        summarise(count = n()) %>%\n",
    "        left_join(n_df) %>%\n",
    "        mutate(col = factor(get(col), levels = unique(get(col)))) %>%\n",
    "        ggplot(aes(x = site_supplying_sample, y = count, fill = col)) +\n",
    "            geom_bar(position = \"stack\", stat = \"identity\") +\n",
    "            theme(legend.position = \"top\") +\n",
    "            geom_text(aes(x = site_supplying_sample, y = -3, label = paste0(\"n = \", cohort_total)),\n",
    "                      vjust = 0) +\n",
    "            labs(fill = col)\n",
    "}\n",
    "\n",
    "plot_list2 <- foreach (col = cont_list_full) %do% {\n",
    "    X_meta %>%\n",
    "        left_join(n_df) %>%\n",
    "        ggplot(aes_string(x = \"site_supplying_sample\", y = col, fill = \"genetic_sex\")) +\n",
    "            geom_boxplot() +\n",
    "            theme(legend.position = \"top\") +\n",
    "            geom_text(aes(x = site_supplying_sample, y = -3, label = paste0(\"n = \", cohort_total)),\n",
    "                      vjust = 0) +\n",
    "            labs(y = col)\n",
    "}\n",
    "\n",
    "plot_list <- c(plot_list, plot_list2)\n",
    "pdf(\"results/phenotype_associations/metadata_barcharts2.pdf\")\n",
    "for (plt in plot_list) {\n",
    "    print(plt)\n",
    "}\n",
    "dev.off()"
   ]
  },
  {
   "cell_type": "markdown",
   "id": "bd080abb",
   "metadata": {},
   "source": [
    "## Phenotype association tests"
   ]
  },
  {
   "cell_type": "code",
   "execution_count": 8,
   "id": "a4da51d9",
   "metadata": {
    "scrolled": true
   },
   "outputs": [],
   "source": [
    "morsels <- foreach(cohort = cohort_list) %do% {\n",
    "    cat_morsels <- foreach (category = categorical_list) %dopar% {\n",
    "        X_meta_filt <- X_meta %>% \n",
    "            filter(!is.na(get(category)),\n",
    "                   site_supplying_sample == cohort)\n",
    "        var_vec <- deframe(X_meta_filt[, category])\n",
    "\n",
    "        foreach (taxon = taxon_list) %do% {\n",
    "            species_vec <- deframe(X_meta_filt[, taxon])\n",
    "\n",
    "            if(sum(species_vec) > 0 & length(unique(var_vec)) >= 2) {\n",
    "                test <- fisher.test(var_vec, species_vec)\n",
    "                return(tibble(taxa = taxon, variable = category, OR = test$estimate, p = test$p.value))\n",
    "            } else {\n",
    "                return(tibble(taxa = taxon, variable = category, OR = NA, p = NA))\n",
    "            }\n",
    "        }\n",
    "    }\n",
    "\n",
    "    cat_res <- bind_rows(cat_morsels)\n",
    "\n",
    "    # For continuous variables\n",
    "    cont_morsels <- foreach (cont = cont_list) %dopar% {\n",
    "        X_meta_filt <- X_meta %>% \n",
    "            filter(!is.na(get(cont)),\n",
    "                   site_supplying_sample == cohort)\n",
    "        var_vec <- deframe(X_meta_filt[, cont])\n",
    "\n",
    "        foreach (taxon = taxon_list) %do% {\n",
    "            species_vec <- deframe(X_meta_filt[, taxon])\n",
    "\n",
    "            if(sum(species_vec) > 0) {\n",
    "                test <- wilcox.test(var_vec ~ species_vec, correct = F, alternative = \"two.sided\") \n",
    "                return(tibble(taxa = taxon, variable = cont, \n",
    "                              U = test$statistic, \n",
    "                              p = test$p.value))\n",
    "            } else {\n",
    "                return(tibble(taxa = taxon, variable = cont, \n",
    "                                          U = NA, \n",
    "                                          p = NA))\n",
    "            }\n",
    "        }\n",
    "    }\n",
    "\n",
    "    cont_res <- bind_rows(cont_morsels)\n",
    "\n",
    "    res_temp <- cat_res %>%\n",
    "        bind_rows(cont_res) %>%\n",
    "        add_column(cohort = cohort)\n",
    "    res_temp\n",
    "}\n",
    "\n",
    "res <- bind_rows(morsels)"
   ]
  },
  {
   "cell_type": "code",
   "execution_count": 9,
   "id": "bdee972d",
   "metadata": {},
   "outputs": [
    {
     "name": "stdout",
     "output_type": "stream",
     "text": [
      "[1] 258\n"
     ]
    }
   ],
   "source": [
    "n_not_tested <- res %>%\n",
    "    filter(is.na(p)) %>%\n",
    "    nrow()\n",
    "\n",
    "n_comparisons_final <- n_comparisons - n_not_tested\n",
    "print(n_comparisons_final)\n",
    "a <- 0.05\n",
    "\n",
    "res_filt <- res %>%\n",
    "    filter(!is.na(p)) %>%\n",
    "    mutate(p.adj = p.adjust(p, \"BH\", n = n_comparisons_final)) %>%\n",
    "    mutate(log_p_adj = -log(p.adj, base = 10),\n",
    "           annot = ifelse(log_p_adj > 5, taxa, \"\"),\n",
    "           variable = case_when(variable == \"genetic_ancestry\" ~ \"Ancestry\",\n",
    "                                variable == \"age\" ~  \"Age\",\n",
    "                                variable == \"tg_mmol_l\" ~ \"Triglycerides\",\n",
    "                                variable == \"bmi\" ~ \"BMI\",\n",
    "                                variable == \"tc_mmol_l\" ~ \"Total cholesterol\",\n",
    "                                variable == \"genetic_sex\" ~ \"Sex\",\n",
    "                                variable == \"sbp\" ~ \"SBP\",\n",
    "                                variable == \"dbp\" ~ \"DBP\"),\n",
    "           color_value = ifelse(p.adj > a, NA, log_p_adj))"
   ]
  },
  {
   "cell_type": "code",
   "execution_count": 44,
   "id": "ebfa788f",
   "metadata": {},
   "outputs": [
    {
     "name": "stderr",
     "output_type": "stream",
     "text": [
      "`summarise()` has grouped output by 'taxa'. You can override using the `.groups` argument.\n"
     ]
    },
    {
     "data": {
      "text/html": [
       "<table class=\"dataframe\">\n",
       "<caption>A grouped_df: 4 × 3</caption>\n",
       "<thead>\n",
       "\t<tr><th scope=col>taxa</th><th scope=col>variable</th><th scope=col>n</th></tr>\n",
       "\t<tr><th scope=col>&lt;chr&gt;</th><th scope=col>&lt;chr&gt;</th><th scope=col>&lt;int&gt;</th></tr>\n",
       "</thead>\n",
       "<tbody>\n",
       "\t<tr><td>Cutibacterium acnes   </td><td>Ancestry     </td><td>2</td></tr>\n",
       "\t<tr><td>Human mastadenovirus C</td><td>Age          </td><td>1</td></tr>\n",
       "\t<tr><td>Human mastadenovirus C</td><td>Triglycerides</td><td>1</td></tr>\n",
       "\t<tr><td>Moraxella osloensis   </td><td>Ancestry     </td><td>1</td></tr>\n",
       "</tbody>\n",
       "</table>\n"
      ],
      "text/latex": [
       "A grouped\\_df: 4 × 3\n",
       "\\begin{tabular}{lll}\n",
       " taxa & variable & n\\\\\n",
       " <chr> & <chr> & <int>\\\\\n",
       "\\hline\n",
       "\t Cutibacterium acnes    & Ancestry      & 2\\\\\n",
       "\t Human mastadenovirus C & Age           & 1\\\\\n",
       "\t Human mastadenovirus C & Triglycerides & 1\\\\\n",
       "\t Moraxella osloensis    & Ancestry      & 1\\\\\n",
       "\\end{tabular}\n"
      ],
      "text/markdown": [
       "\n",
       "A grouped_df: 4 × 3\n",
       "\n",
       "| taxa &lt;chr&gt; | variable &lt;chr&gt; | n &lt;int&gt; |\n",
       "|---|---|---|\n",
       "| Cutibacterium acnes    | Ancestry      | 2 |\n",
       "| Human mastadenovirus C | Age           | 1 |\n",
       "| Human mastadenovirus C | Triglycerides | 1 |\n",
       "| Moraxella osloensis    | Ancestry      | 1 |\n",
       "\n"
      ],
      "text/plain": [
       "  taxa                   variable      n\n",
       "1 Cutibacterium acnes    Ancestry      2\n",
       "2 Human mastadenovirus C Age           1\n",
       "3 Human mastadenovirus C Triglycerides 1\n",
       "4 Moraxella osloensis    Ancestry      1"
      ]
     },
     "metadata": {},
     "output_type": "display_data"
    }
   ],
   "source": [
    "res_filt %>% \n",
    "    filter(p.adj < 0.05) %>%\n",
    "    group_by(taxa, variable) %>%\n",
    "    summarise(n = n()) %>%\n",
    "    arrange(desc(n))"
   ]
  },
  {
   "cell_type": "code",
   "execution_count": 46,
   "id": "b4fbe7e5",
   "metadata": {},
   "outputs": [
    {
     "data": {
      "text/html": [
       "<table class=\"dataframe\">\n",
       "<caption>A tibble: 5 × 10</caption>\n",
       "<thead>\n",
       "\t<tr><th scope=col>taxa</th><th scope=col>variable</th><th scope=col>OR</th><th scope=col>p</th><th scope=col>U</th><th scope=col>cohort</th><th scope=col>p.adj</th><th scope=col>log_p_adj</th><th scope=col>annot</th><th scope=col>color_value</th></tr>\n",
       "\t<tr><th scope=col>&lt;chr&gt;</th><th scope=col>&lt;chr&gt;</th><th scope=col>&lt;dbl&gt;</th><th scope=col>&lt;dbl&gt;</th><th scope=col>&lt;dbl&gt;</th><th scope=col>&lt;chr&gt;</th><th scope=col>&lt;dbl&gt;</th><th scope=col>&lt;dbl&gt;</th><th scope=col>&lt;chr&gt;</th><th scope=col>&lt;dbl&gt;</th></tr>\n",
       "</thead>\n",
       "<tbody>\n",
       "\t<tr><td>Cutibacterium acnes   </td><td>Ancestry     </td><td>NA</td><td>3.964819e-04</td><td>      NA</td><td>MEC </td><td>2.557308e-02</td><td>1.592217</td><td></td><td>1.592217</td></tr>\n",
       "\t<tr><td>Human mastadenovirus C</td><td>Age          </td><td>NA</td><td>1.397409e-07</td><td>179195.5</td><td>MEC </td><td>3.605314e-05</td><td>4.443057</td><td></td><td>4.443057</td></tr>\n",
       "\t<tr><td>Human mastadenovirus C</td><td>Triglycerides</td><td>NA</td><td>5.712072e-04</td><td>164767.0</td><td>MEC </td><td>2.947429e-02</td><td>1.530557</td><td></td><td>1.530557</td></tr>\n",
       "\t<tr><td>Cutibacterium acnes   </td><td>Ancestry     </td><td>NA</td><td>7.306438e-06</td><td>      NA</td><td>SEED</td><td>9.425305e-04</td><td>3.025705</td><td></td><td>3.025705</td></tr>\n",
       "\t<tr><td>Moraxella osloensis   </td><td>Ancestry     </td><td>NA</td><td>6.982654e-05</td><td>      NA</td><td>SEED</td><td>6.005083e-03</td><td>2.221481</td><td></td><td>2.221481</td></tr>\n",
       "</tbody>\n",
       "</table>\n"
      ],
      "text/latex": [
       "A tibble: 5 × 10\n",
       "\\begin{tabular}{llllllllll}\n",
       " taxa & variable & OR & p & U & cohort & p.adj & log\\_p\\_adj & annot & color\\_value\\\\\n",
       " <chr> & <chr> & <dbl> & <dbl> & <dbl> & <chr> & <dbl> & <dbl> & <chr> & <dbl>\\\\\n",
       "\\hline\n",
       "\t Cutibacterium acnes    & Ancestry      & NA & 3.964819e-04 &       NA & MEC  & 2.557308e-02 & 1.592217 &  & 1.592217\\\\\n",
       "\t Human mastadenovirus C & Age           & NA & 1.397409e-07 & 179195.5 & MEC  & 3.605314e-05 & 4.443057 &  & 4.443057\\\\\n",
       "\t Human mastadenovirus C & Triglycerides & NA & 5.712072e-04 & 164767.0 & MEC  & 2.947429e-02 & 1.530557 &  & 1.530557\\\\\n",
       "\t Cutibacterium acnes    & Ancestry      & NA & 7.306438e-06 &       NA & SEED & 9.425305e-04 & 3.025705 &  & 3.025705\\\\\n",
       "\t Moraxella osloensis    & Ancestry      & NA & 6.982654e-05 &       NA & SEED & 6.005083e-03 & 2.221481 &  & 2.221481\\\\\n",
       "\\end{tabular}\n"
      ],
      "text/markdown": [
       "\n",
       "A tibble: 5 × 10\n",
       "\n",
       "| taxa &lt;chr&gt; | variable &lt;chr&gt; | OR &lt;dbl&gt; | p &lt;dbl&gt; | U &lt;dbl&gt; | cohort &lt;chr&gt; | p.adj &lt;dbl&gt; | log_p_adj &lt;dbl&gt; | annot &lt;chr&gt; | color_value &lt;dbl&gt; |\n",
       "|---|---|---|---|---|---|---|---|---|---|\n",
       "| Cutibacterium acnes    | Ancestry      | NA | 3.964819e-04 |       NA | MEC  | 2.557308e-02 | 1.592217 | <!----> | 1.592217 |\n",
       "| Human mastadenovirus C | Age           | NA | 1.397409e-07 | 179195.5 | MEC  | 3.605314e-05 | 4.443057 | <!----> | 4.443057 |\n",
       "| Human mastadenovirus C | Triglycerides | NA | 5.712072e-04 | 164767.0 | MEC  | 2.947429e-02 | 1.530557 | <!----> | 1.530557 |\n",
       "| Cutibacterium acnes    | Ancestry      | NA | 7.306438e-06 |       NA | SEED | 9.425305e-04 | 3.025705 | <!----> | 3.025705 |\n",
       "| Moraxella osloensis    | Ancestry      | NA | 6.982654e-05 |       NA | SEED | 6.005083e-03 | 2.221481 | <!----> | 2.221481 |\n",
       "\n"
      ],
      "text/plain": [
       "  taxa                   variable      OR p            U        cohort\n",
       "1 Cutibacterium acnes    Ancestry      NA 3.964819e-04       NA MEC   \n",
       "2 Human mastadenovirus C Age           NA 1.397409e-07 179195.5 MEC   \n",
       "3 Human mastadenovirus C Triglycerides NA 5.712072e-04 164767.0 MEC   \n",
       "4 Cutibacterium acnes    Ancestry      NA 7.306438e-06       NA SEED  \n",
       "5 Moraxella osloensis    Ancestry      NA 6.982654e-05       NA SEED  \n",
       "  p.adj        log_p_adj annot color_value\n",
       "1 2.557308e-02 1.592217        1.592217   \n",
       "2 3.605314e-05 4.443057        4.443057   \n",
       "3 2.947429e-02 1.530557        1.530557   \n",
       "4 9.425305e-04 3.025705        3.025705   \n",
       "5 6.005083e-03 2.221481        2.221481   "
      ]
     },
     "metadata": {},
     "output_type": "display_data"
    }
   ],
   "source": [
    "final <- res_filt %>% \n",
    "    filter(p.adj < 0.05)\n",
    "final\n",
    "fwrite(final, \"results/phenotype_associations/phenotype_association_results_simple_single_cohorts.csv\")"
   ]
  },
  {
   "cell_type": "markdown",
   "id": "7db38f32",
   "metadata": {},
   "source": [
    "### Plot prevalence for ancestry"
   ]
  },
  {
   "cell_type": "code",
   "execution_count": 54,
   "id": "429e10a1",
   "metadata": {},
   "outputs": [
    {
     "name": "stderr",
     "output_type": "stream",
     "text": [
      "`summarise()` has grouped output by 'genetic_ancestry'. You can override using the `.groups` argument.\n",
      "`summarise()` has grouped output by 'genetic_ancestry'. You can override using the `.groups` argument.\n",
      "Joining, by = c(\"genetic_ancestry\", \"site_supplying_sample\")\n"
     ]
    },
    {
     "data": {
      "image/png": "[encoded data removed]",
      "text/plain": [
       "plot without title"
      ]
     },
     "metadata": {
      "image/png": {
       "height": 420,
       "width": 420
      }
     },
     "output_type": "display_data"
    }
   ],
   "source": [
    "taxon <- \"Cutibacterium acnes\"\n",
    "n_df <- X_meta %>%\n",
    "    group_by(genetic_ancestry, site_supplying_sample) %>%\n",
    "    summarise(n_total = n())\n",
    "\n",
    "cohorts_of_interest <- final %>% \n",
    "    filter(taxa == taxon)\n",
    "cohorts_of_interest <- unique(cohorts_of_interest$cohort)\n",
    "\n",
    "X_meta %>%\n",
    "    filter(site_supplying_sample %in% cohorts_of_interest) %>%\n",
    "    filter(!is.na(genetic_ancestry)) %>%\n",
    "    select(all_of(c(taxon, \"genetic_ancestry\", \"site_supplying_sample\"))) %>%\n",
    "    pivot_longer(!c(genetic_ancestry, site_supplying_sample), names_to = \"site\", values_to = \"presence\") %>%\n",
    "    group_by(genetic_ancestry, site_supplying_sample) %>%\n",
    "    summarise(n = sum(presence)) %>%\n",
    "    left_join(n_df) %>%\n",
    "    mutate(prop = n / n_total,\n",
    "           genetic_ancestry = case_when(genetic_ancestry == \"C\" ~ \"Chinese\",\n",
    "                                        genetic_ancestry == \"M\" ~ \"Malay\",\n",
    "                                        genetic_ancestry == \"I\" ~ \"Indian\",\n",
    "                                        genetic_ancestry == \"O\" ~ \"Others\"),\n",
    "           site_supplying_sample = ifelse(site_supplying_sample == \"SERI\", \"SEED\", site_supplying_sample)) %>%\n",
    "    ggplot(aes(x = genetic_ancestry, y = prop * 100, fill = genetic_ancestry)) +\n",
    "        facet_grid(rows = vars(site_supplying_sample)) +\n",
    "        geom_bar(stat = \"identity\", \n",
    "                 position = \"dodge\",\n",
    "                 color = \"black\") +\n",
    "        labs(x = \"Ancestry\", y = \"C. acnes prevalence (%)\") +\n",
    "        geom_text(aes(y = -1, label = paste0(\"n = \", n_total)),\n",
    "                  vjust = 1,\n",
    "                  color = \"black\") +\n",
    "        theme_bw() +\n",
    "        theme(legend.position = \"none\",\n",
    "              text = element_text(size = 15)) +\n",
    "        ylim(-2, 15)\n",
    "\n",
    "taxon_save_name <- paste0(taxon, collapse = \"_\")\n",
    "ggsave(str_glue(\"results/phenotype_associations/separate_simple_plots/{taxon_save_name}.genetic_ancestry.png\"), \n",
    "       width = 10, height = 6)"
   ]
  },
  {
   "cell_type": "markdown",
   "id": "486bc744",
   "metadata": {},
   "source": [
    "### Iterate across all significant hits"
   ]
  },
  {
   "cell_type": "code",
   "execution_count": null,
   "id": "5f5f8724",
   "metadata": {},
   "outputs": [],
   "source": [
    "sig_list <- (res_filt %>%\n",
    "    filter(p.adj < 0.05) %>%\n",
    "    distinct(taxa))$taxa\n",
    "for (taxon in sig_list) {\n",
    "    X_meta %>%\n",
    "            select(all_of(c(taxon, \"genetic_ancestry\", \"site_supplying_sample\"))) %>%\n",
    "            pivot_longer(!c(genetic_ancestry, site_supplying_sample), names_to = \"site\", values_to = \"presence\") %>%\n",
    "            group_by(genetic_ancestry, site_supplying_sample) %>%\n",
    "            summarise(n = sum(presence)) %>%\n",
    "            left_join(n_df2) %>%\n",
    "            mutate(prop = n / n_total) %>%\n",
    "            ggplot(aes(x = genetic_ancestry, y = prop, fill = genetic_ancestry)) +\n",
    "                facet_grid(rows = vars(site_supplying_sample)) +\n",
    "                geom_bar(stat = \"identity\", position = \"dodge\") +\n",
    "                labs(x = \"genetic_ancestry\", y = \"Prop. of positive samples\") +\n",
    "                geom_text(aes(y = prop, label = n),\n",
    "                          vjust = 0,\n",
    "                          color = \"red\") +\n",
    "                geom_text(aes(y = -0.01, label = paste0(\"n_sampled = \", n_total)),\n",
    "                          vjust = 1,\n",
    "                          color = \"black\") +\n",
    "    ylim(-0.1, 0.6)\n",
    "        taxon_save_name <- paste0(taxon, collapse = \"_\")\n",
    "        ggsave(str_glue(\"results/phenotype_associations/separate_simple_plots/{taxon_save_name}.genetic_ancestry.png\"), \n",
    "               width = 15, height = 7)\n",
    "}"
   ]
  }
 ],
 "metadata": {
  "kernelspec": {
   "display_name": "R",
   "language": "R",
   "name": "ir"
  },
  "language_info": {
   "codemirror_mode": "r",
   "file_extension": ".r",
   "mimetype": "text/x-r-source",
   "name": "R",
   "pygments_lexer": "r",
   "version": "4.1.0"
  }
 },
 "nbformat": 4,
 "nbformat_minor": 5
}
