{
 "cells": [
  {
   "cell_type": "code",
   "execution_count": 1,
   "id": "bc15bd3e",
   "metadata": {
    "scrolled": true
   },
   "outputs": [
    {
     "name": "stderr",
     "output_type": "stream",
     "text": [
      "Loading required package: tidyverse\n",
      "\n",
      "Warning message in system(\"timedatectl\", intern = TRUE):\n",
      "“running command 'timedatectl' had status 1”\n",
      "── \u001b[1mAttaching packages\u001b[22m ─────────────────────────────────────────────────────────────────────────────── tidyverse 1.3.1 ──\n",
      "\n",
      "\u001b[32m✔\u001b[39m \u001b[34mggplot2\u001b[39m 3.3.5     \u001b[32m✔\u001b[39m \u001b[34mpurrr  \u001b[39m 0.3.4\n",
      "\u001b[32m✔\u001b[39m \u001b[34mtibble \u001b[39m 3.1.6     \u001b[32m✔\u001b[39m \u001b[34mdplyr  \u001b[39m 1.0.7\n",
      "\u001b[32m✔\u001b[39m \u001b[34mtidyr  \u001b[39m 1.1.4     \u001b[32m✔\u001b[39m \u001b[34mstringr\u001b[39m 1.4.0\n",
      "\u001b[32m✔\u001b[39m \u001b[34mreadr  \u001b[39m 2.1.0     \u001b[32m✔\u001b[39m \u001b[34mforcats\u001b[39m 0.5.1\n",
      "\n",
      "── \u001b[1mConflicts\u001b[22m ────────────────────────────────────────────────────────────────────────────────── tidyverse_conflicts() ──\n",
      "\u001b[31m✖\u001b[39m \u001b[34mdplyr\u001b[39m::\u001b[32mfilter()\u001b[39m masks \u001b[34mstats\u001b[39m::filter()\n",
      "\u001b[31m✖\u001b[39m \u001b[34mdplyr\u001b[39m::\u001b[32mlag()\u001b[39m    masks \u001b[34mstats\u001b[39m::lag()\n",
      "\n",
      "Loading required package: data.table\n",
      "\n",
      "\n",
      "Attaching package: ‘data.table’\n",
      "\n",
      "\n",
      "The following objects are masked from ‘package:dplyr’:\n",
      "\n",
      "    between, first, last\n",
      "\n",
      "\n",
      "The following object is masked from ‘package:purrr’:\n",
      "\n",
      "    transpose\n",
      "\n",
      "\n",
      "Loading required package: egg\n",
      "\n",
      "Loading required package: gridExtra\n",
      "\n",
      "\n",
      "Attaching package: ‘gridExtra’\n",
      "\n",
      "\n",
      "The following object is masked from ‘package:dplyr’:\n",
      "\n",
      "    combine\n",
      "\n",
      "\n",
      "Loading required package: foreach\n",
      "\n",
      "\n",
      "Attaching package: ‘foreach’\n",
      "\n",
      "\n",
      "The following objects are masked from ‘package:purrr’:\n",
      "\n",
      "    accumulate, when\n",
      "\n",
      "\n",
      "Loading required package: doParallel\n",
      "\n",
      "Loading required package: iterators\n",
      "\n",
      "Loading required package: parallel\n",
      "\n"
     ]
    }
   ],
   "source": [
    "setwd(\"/mnt/c/Users/Cedric/Desktop/git_repos/blood_microbiome\")\n",
    "require(tidyverse)\n",
    "require(ggplot2)\n",
    "require(data.table)\n",
    "require(egg)\n",
    "require(foreach)\n",
    "require(doParallel)\n",
    "registerDoParallel(cores=8)"
   ]
  },
  {
   "cell_type": "markdown",
   "id": "7061997b",
   "metadata": {},
   "source": [
    "### Parameters for simulations"
   ]
  },
  {
   "cell_type": "code",
   "execution_count": 2,
   "id": "ed55dcbf",
   "metadata": {},
   "outputs": [],
   "source": [
    "meta <- fread(\"data/SG10K_Health_metadata.n10714.16March2021.parsed.csv\") %>%\n",
    "    as_tibble()\n",
    "\n",
    "get_meta_cols <- function(meta) {\n",
    "    meta_cols <- colnames(meta)[grep(\"kit|flow_cell|instrument_id|site_supplying\", colnames(meta))]\n",
    "    to_exclude <- c(\"library_prep_kit\", \"hiseq_xtm_flow_cell_v2_5_id\")\n",
    "    meta_cols <- meta_cols[!(meta_cols %in% to_exclude)]\n",
    "    return(meta_cols)\n",
    "}\n",
    "\n",
    "meta_cols <- get_meta_cols(meta)\n",
    "# meta_cols <- c(\"extraction_kit\", \"site_supplying_sample\", \"instrument_id\")"
   ]
  },
  {
   "cell_type": "code",
   "execution_count": 3,
   "id": "9ab20230",
   "metadata": {},
   "outputs": [
    {
     "data": {
      "text/html": [
       "0.006573206"
      ],
      "text/latex": [
       "0.006573206"
      ],
      "text/markdown": [
       "0.006573206"
      ],
      "text/plain": [
       "[1] 0.006573206"
      ]
     },
     "metadata": {},
     "output_type": "display_data"
    },
    {
     "data": {
      "text/html": [
       "373365373"
      ],
      "text/latex": [
       "373365373"
      ],
      "text/markdown": [
       "373365373"
      ],
      "text/plain": [
       "[1] 373365373"
      ]
     },
     "metadata": {},
     "output_type": "display_data"
    },
    {
     "data": {
      "text/html": [
       "318"
      ],
      "text/latex": [
       "318"
      ],
      "text/markdown": [
       "318"
      ],
      "text/plain": [
       "[1] 318"
      ]
     },
     "metadata": {},
     "output_type": "display_data"
    }
   ],
   "source": [
    "median(meta$error_rate)\n",
    "med_library_depth <- median(meta$raw_total_sequences)\n",
    "# med_microbial_depth <- median(rowSums(species_df %>% select(-npm_research_id, -unclassified, -\"Homo sapiens\")))\n",
    "med_library_depth\n",
    "median(meta$insert_size_average)\n"
   ]
  },
  {
   "cell_type": "code",
   "execution_count": 4,
   "id": "6d3c40ee",
   "metadata": {
    "scrolled": true
   },
   "outputs": [],
   "source": [
    "# micro_df <- species_df %>% select(-npm_research_id, -unclassified, -\"Homo sapiens\")\n",
    "# rowsum_df <- tibble(npm_research_id = species_df$npm_research_id, rowsums = rowSums(micro_df))\n",
    "# rowsum_df <- rowsum_df %>%\n",
    "#     left_join(meta) %>%\n",
    "#     mutate(microbe_frac = (rowsums * 2) / raw_total_sequences, .before = 2)\n",
    "# rowsum_df"
   ]
  },
  {
   "cell_type": "code",
   "execution_count": 5,
   "id": "99b57406",
   "metadata": {},
   "outputs": [],
   "source": [
    "# rowsum_df %>% \n",
    "#     ggplot(aes(x = log(rowsums,base = 10))) +\n",
    "#     geom_histogram(bins = 50) +\n",
    "#     labs(x = \"log(microbial reads, base = 10)\", y = \"No. of samples\")"
   ]
  },
  {
   "cell_type": "code",
   "execution_count": 6,
   "id": "70e6dc0b",
   "metadata": {
    "scrolled": true
   },
   "outputs": [],
   "source": [
    "# rowsum_df %>% \n",
    "# #     filter(rowsums < 5000) %>%\n",
    "#     ggplot(aes(x = log(microbe_frac,base = 10))) +\n",
    "#     geom_histogram(bins = 50) +\n",
    "#     labs(x = \"Log(microbial fraction, base = 10)\", y = \"No. of samples\")"
   ]
  },
  {
   "cell_type": "markdown",
   "id": "de5bbcef",
   "metadata": {},
   "source": [
    "# Simulation analysis"
   ]
  },
  {
   "cell_type": "markdown",
   "id": "b51599c9",
   "metadata": {},
   "source": [
    "### 10 species simulation (no human)"
   ]
  },
  {
   "cell_type": "code",
   "execution_count": 7,
   "id": "87882423",
   "metadata": {},
   "outputs": [],
   "source": [
    "tp <- c(\"Yersinia enterocolitica\", \"Leclercia adecarboxylata\", \"Moraxella osloensis\", \n",
    "        \"Pasteurella multocida\", \"Streptococcus pneumoniae\", \"Candida albicans\", \n",
    "        \"Actinomyces viscosus\", \"Staphylococcus epidermidis\", \"Torque teno virus\", \n",
    "        \"Human betaherpesvirus 6A\")"
   ]
  },
  {
   "cell_type": "code",
   "execution_count": 8,
   "id": "6b18af4e",
   "metadata": {},
   "outputs": [],
   "source": [
    "otu_to_RA <- function(df) {\n",
    "    row_names <- df$sample\n",
    "    RA_df <- t(apply(df %>% select(-sample, -unclassified), 1, function(x) {x / sum(x)}))\n",
    "    \n",
    "    return(cbind(data.frame(sample = row_names), as.data.frame(RA_df, check.names = F)))\n",
    "}\n",
    "\n",
    "parse_df <- function(sim_df) {\n",
    "    parsed_sim <- sim_df %>% \n",
    "        pivot_longer(!sample, names_to = \"taxa\", values_to = \"abundance\") %>%\n",
    "        filter(abundance != 0) %>%\n",
    "        mutate(classification = case_when(taxa == \"unclassified\" ~ \"Unclassified\", \n",
    "                                          taxa %in% tp ~ \"TP\", \n",
    "                                          TRUE ~ \"FP\"),\n",
    "               sample = gsub(\"simulated.human_\", \"\", sample)) %>%\n",
    "        mutate(sample = gsub(\"_microbe\", \"\", sample)) %>%\n",
    "        mutate(sample = gsub(\"0\", \"\", sample)) %>%\n",
    "        mutate(microbial_reads = case_when(sample == \"1e-6\" ~ \"(370 reads)\",\n",
    "                                           sample == \"1e-5\" ~ \"(3,730 reads)\",\n",
    "                                           sample == \"1e-4\" ~ \"(37,332 reads)\",\n",
    "                                           sample == \"1e-3\" ~ \"(373,368 reads)\")) %>%\n",
    "        mutate(sample = paste(sample, microbial_reads)) %>%\n",
    "        arrange(desc(classification))\n",
    "\n",
    "    parsed_sim <- parsed_sim %>% mutate(taxa = factor(taxa, levels = unique(parsed_sim$taxa)))\n",
    "}"
   ]
  },
  {
   "cell_type": "code",
   "execution_count": 9,
   "id": "c8c01ce6",
   "metadata": {
    "scrolled": true
   },
   "outputs": [],
   "source": [
    "sim_df <- fread(\"results/simulation_out/07_abundance_matrix/abundance_matrix.S.tsv\")\n",
    "sim_RA <- otu_to_RA(sim_df)\n",
    "parsed_sim <- parse_df(sim_df)\n",
    "parsed_sim_RA <- parse_df(sim_RA)"
   ]
  },
  {
   "cell_type": "code",
   "execution_count": 10,
   "id": "9851c54b",
   "metadata": {
    "scrolled": true
   },
   "outputs": [
    {
     "data": {
      "text/html": [
       "<table class=\"dataframe\">\n",
       "<caption>A tibble: 239 × 5</caption>\n",
       "<thead>\n",
       "\t<tr><th scope=col>sample</th><th scope=col>taxa</th><th scope=col>abundance</th><th scope=col>classification</th><th scope=col>microbial_reads</th></tr>\n",
       "\t<tr><th scope=col>&lt;chr&gt;</th><th scope=col>&lt;fct&gt;</th><th scope=col>&lt;dbl&gt;</th><th scope=col>&lt;chr&gt;</th><th scope=col>&lt;chr&gt;</th></tr>\n",
       "</thead>\n",
       "<tbody>\n",
       "\t<tr><td>1e-5 (3,730 reads) </td><td>Candida albicans          </td><td>0.048316628</td><td>TP</td><td>(3,730 reads) </td></tr>\n",
       "\t<tr><td>1e-5 (3,730 reads) </td><td>Leclercia adecarboxylata  </td><td>0.039321511</td><td>TP</td><td>(3,730 reads) </td></tr>\n",
       "\t<tr><td>1e-5 (3,730 reads) </td><td>Yersinia enterocolitica   </td><td>0.041891545</td><td>TP</td><td>(3,730 reads) </td></tr>\n",
       "\t<tr><td>1e-5 (3,730 reads) </td><td>Moraxella osloensis       </td><td>0.047031611</td><td>TP</td><td>(3,730 reads) </td></tr>\n",
       "\t<tr><td>1e-5 (3,730 reads) </td><td>Pasteurella multocida     </td><td>0.047802621</td><td>TP</td><td>(3,730 reads) </td></tr>\n",
       "\t<tr><td>1e-5 (3,730 reads) </td><td>Streptococcus pneumoniae  </td><td>0.044975585</td><td>TP</td><td>(3,730 reads) </td></tr>\n",
       "\t<tr><td>1e-5 (3,730 reads) </td><td>Staphylococcus epidermidis</td><td>0.039578515</td><td>TP</td><td>(3,730 reads) </td></tr>\n",
       "\t<tr><td>1e-5 (3,730 reads) </td><td>Actinomyces viscosus      </td><td>0.047802621</td><td>TP</td><td>(3,730 reads) </td></tr>\n",
       "\t<tr><td>1e-5 (3,730 reads) </td><td>Torque teno virus         </td><td>0.047802621</td><td>TP</td><td>(3,730 reads) </td></tr>\n",
       "\t<tr><td>1e-5 (3,730 reads) </td><td>Human betaherpesvirus 6A  </td><td>0.047545618</td><td>TP</td><td>(3,730 reads) </td></tr>\n",
       "\t<tr><td>1e-6 (370 reads)   </td><td>Candida albicans          </td><td>0.008691873</td><td>TP</td><td>(370 reads)   </td></tr>\n",
       "\t<tr><td>1e-6 (370 reads)   </td><td>Leclercia adecarboxylata  </td><td>0.006953498</td><td>TP</td><td>(370 reads)   </td></tr>\n",
       "\t<tr><td>1e-6 (370 reads)   </td><td>Yersinia enterocolitica   </td><td>0.006953498</td><td>TP</td><td>(370 reads)   </td></tr>\n",
       "\t<tr><td>1e-6 (370 reads)   </td><td>Moraxella osloensis       </td><td>0.007822686</td><td>TP</td><td>(370 reads)   </td></tr>\n",
       "\t<tr><td>1e-6 (370 reads)   </td><td>Pasteurella multocida     </td><td>0.007822686</td><td>TP</td><td>(370 reads)   </td></tr>\n",
       "\t<tr><td>1e-6 (370 reads)   </td><td>Streptococcus pneumoniae  </td><td>0.007388092</td><td>TP</td><td>(370 reads)   </td></tr>\n",
       "\t<tr><td>1e-6 (370 reads)   </td><td>Staphylococcus epidermidis</td><td>0.007388092</td><td>TP</td><td>(370 reads)   </td></tr>\n",
       "\t<tr><td>1e-6 (370 reads)   </td><td>Actinomyces viscosus      </td><td>0.007822686</td><td>TP</td><td>(370 reads)   </td></tr>\n",
       "\t<tr><td>1e-6 (370 reads)   </td><td>Torque teno virus         </td><td>0.007822686</td><td>TP</td><td>(370 reads)   </td></tr>\n",
       "\t<tr><td>1e-6 (370 reads)   </td><td>Human betaherpesvirus 6A  </td><td>0.007822686</td><td>TP</td><td>(370 reads)   </td></tr>\n",
       "\t<tr><td>1e-4 (37,332 reads)</td><td>Candida albicans          </td><td>0.094323409</td><td>TP</td><td>(37,332 reads)</td></tr>\n",
       "\t<tr><td>1e-4 (37,332 reads)</td><td>Leclercia adecarboxylata  </td><td>0.077440226</td><td>TP</td><td>(37,332 reads)</td></tr>\n",
       "\t<tr><td>1e-4 (37,332 reads)</td><td>Yersinia enterocolitica   </td><td>0.081736845</td><td>TP</td><td>(37,332 reads)</td></tr>\n",
       "\t<tr><td>1e-4 (37,332 reads)</td><td>Moraxella osloensis       </td><td>0.093565182</td><td>TP</td><td>(37,332 reads)</td></tr>\n",
       "\t<tr><td>1e-4 (37,332 reads)</td><td>Pasteurella multocida     </td><td>0.094121215</td><td>TP</td><td>(37,332 reads)</td></tr>\n",
       "\t<tr><td>1e-4 (37,332 reads)</td><td>Streptococcus pneumoniae  </td><td>0.085881818</td><td>TP</td><td>(37,332 reads)</td></tr>\n",
       "\t<tr><td>1e-4 (37,332 reads)</td><td>Staphylococcus epidermidis</td><td>0.078350099</td><td>TP</td><td>(37,332 reads)</td></tr>\n",
       "\t<tr><td>1e-4 (37,332 reads)</td><td>Actinomyces viscosus      </td><td>0.093919021</td><td>TP</td><td>(37,332 reads)</td></tr>\n",
       "\t<tr><td>1e-4 (37,332 reads)</td><td>Torque teno virus         </td><td>0.094323409</td><td>TP</td><td>(37,332 reads)</td></tr>\n",
       "\t<tr><td>1e-4 (37,332 reads)</td><td>Human betaherpesvirus 6A  </td><td>0.093413537</td><td>TP</td><td>(37,332 reads)</td></tr>\n",
       "\t<tr><td>⋮</td><td>⋮</td><td>⋮</td><td>⋮</td><td>⋮</td></tr>\n",
       "\t<tr><td>1e-3 (373,368 reads)</td><td>Staphylococcus pasteuri         </td><td>1.117487e-05</td><td>FP</td><td>(373,368 reads)</td></tr>\n",
       "\t<tr><td>1e-3 (373,368 reads)</td><td>Staphylococcus caprae           </td><td>1.117487e-05</td><td>FP</td><td>(373,368 reads)</td></tr>\n",
       "\t<tr><td>1e-3 (373,368 reads)</td><td>Staphylococcus carnosus         </td><td>1.117487e-05</td><td>FP</td><td>(373,368 reads)</td></tr>\n",
       "\t<tr><td>1e-3 (373,368 reads)</td><td>Staphylococcus kloosii          </td><td>5.587435e-06</td><td>FP</td><td>(373,368 reads)</td></tr>\n",
       "\t<tr><td>1e-3 (373,368 reads)</td><td>Staphylococcus lloydii          </td><td>5.587435e-06</td><td>FP</td><td>(373,368 reads)</td></tr>\n",
       "\t<tr><td>1e-3 (373,368 reads)</td><td>Staphylococcus sp. 17KM0847     </td><td>5.587435e-06</td><td>FP</td><td>(373,368 reads)</td></tr>\n",
       "\t<tr><td>1e-3 (373,368 reads)</td><td>Staphylococcus xylosus          </td><td>5.587435e-06</td><td>FP</td><td>(373,368 reads)</td></tr>\n",
       "\t<tr><td>1e-3 (373,368 reads)</td><td>Staphylococcus pettenkoferi     </td><td>5.587435e-06</td><td>FP</td><td>(373,368 reads)</td></tr>\n",
       "\t<tr><td>1e-3 (373,368 reads)</td><td>Staphylococcus debuckii         </td><td>5.587435e-06</td><td>FP</td><td>(373,368 reads)</td></tr>\n",
       "\t<tr><td>1e-3 (373,368 reads)</td><td>Staphylococcus simiae           </td><td>5.587435e-06</td><td>FP</td><td>(373,368 reads)</td></tr>\n",
       "\t<tr><td>1e-3 (373,368 reads)</td><td>Mammaliicoccus vitulinus        </td><td>2.234974e-05</td><td>FP</td><td>(373,368 reads)</td></tr>\n",
       "\t<tr><td>1e-3 (373,368 reads)</td><td>Mammaliicoccus lentus           </td><td>5.587435e-06</td><td>FP</td><td>(373,368 reads)</td></tr>\n",
       "\t<tr><td>1e-3 (373,368 reads)</td><td>Bacillus cereus                 </td><td>5.587435e-06</td><td>FP</td><td>(373,368 reads)</td></tr>\n",
       "\t<tr><td>1e-3 (373,368 reads)</td><td>Virgibacillus sp. SK37          </td><td>5.587435e-06</td><td>FP</td><td>(373,368 reads)</td></tr>\n",
       "\t<tr><td>1e-3 (373,368 reads)</td><td>Listeria weihenstephanensis     </td><td>5.587435e-06</td><td>FP</td><td>(373,368 reads)</td></tr>\n",
       "\t<tr><td>1e-3 (373,368 reads)</td><td>Paenibacillus sp. PAMC21692     </td><td>5.587435e-06</td><td>FP</td><td>(373,368 reads)</td></tr>\n",
       "\t<tr><td>1e-3 (373,368 reads)</td><td>Clostridioides difficile        </td><td>2.234974e-05</td><td>FP</td><td>(373,368 reads)</td></tr>\n",
       "\t<tr><td>1e-3 (373,368 reads)</td><td>Clostridium perfringens         </td><td>5.587435e-06</td><td>FP</td><td>(373,368 reads)</td></tr>\n",
       "\t<tr><td>1e-3 (373,368 reads)</td><td>Actinomyces oris                </td><td>2.234974e-05</td><td>FP</td><td>(373,368 reads)</td></tr>\n",
       "\t<tr><td>1e-3 (373,368 reads)</td><td>Actinomyces slackii             </td><td>5.587435e-06</td><td>FP</td><td>(373,368 reads)</td></tr>\n",
       "\t<tr><td>1e-3 (373,368 reads)</td><td>Actinomyces marmotae            </td><td>5.587435e-06</td><td>FP</td><td>(373,368 reads)</td></tr>\n",
       "\t<tr><td>1e-3 (373,368 reads)</td><td>Candidatus Promineofilum breve  </td><td>5.587435e-06</td><td>FP</td><td>(373,368 reads)</td></tr>\n",
       "\t<tr><td>1e-3 (373,368 reads)</td><td>Mycoplasma bovigenitalium       </td><td>5.587435e-06</td><td>FP</td><td>(373,368 reads)</td></tr>\n",
       "\t<tr><td>1e-3 (373,368 reads)</td><td>Fusobacterium nucleatum         </td><td>5.587435e-06</td><td>FP</td><td>(373,368 reads)</td></tr>\n",
       "\t<tr><td>1e-3 (373,368 reads)</td><td>Fusobacterium ulcerans          </td><td>5.587435e-06</td><td>FP</td><td>(373,368 reads)</td></tr>\n",
       "\t<tr><td>1e-3 (373,368 reads)</td><td>Fusobacterium sp. oral taxon 203</td><td>5.587435e-06</td><td>FP</td><td>(373,368 reads)</td></tr>\n",
       "\t<tr><td>1e-3 (373,368 reads)</td><td>Candida dubliniensis            </td><td>1.117487e-05</td><td>FP</td><td>(373,368 reads)</td></tr>\n",
       "\t<tr><td>1e-3 (373,368 reads)</td><td>Torque teno virus 29            </td><td>1.676230e-05</td><td>FP</td><td>(373,368 reads)</td></tr>\n",
       "\t<tr><td>1e-3 (373,368 reads)</td><td>Human betaherpesvirus 6B        </td><td>5.587435e-06</td><td>FP</td><td>(373,368 reads)</td></tr>\n",
       "\t<tr><td>1e-3 (373,368 reads)</td><td>Streptococcus phage SpSL1       </td><td>2.234974e-05</td><td>FP</td><td>(373,368 reads)</td></tr>\n",
       "</tbody>\n",
       "</table>\n"
      ],
      "text/latex": [
       "A tibble: 239 × 5\n",
       "\\begin{tabular}{lllll}\n",
       " sample & taxa & abundance & classification & microbial\\_reads\\\\\n",
       " <chr> & <fct> & <dbl> & <chr> & <chr>\\\\\n",
       "\\hline\n",
       "\t 1e-5 (3,730 reads)  & Candida albicans           & 0.048316628 & TP & (3,730 reads) \\\\\n",
       "\t 1e-5 (3,730 reads)  & Leclercia adecarboxylata   & 0.039321511 & TP & (3,730 reads) \\\\\n",
       "\t 1e-5 (3,730 reads)  & Yersinia enterocolitica    & 0.041891545 & TP & (3,730 reads) \\\\\n",
       "\t 1e-5 (3,730 reads)  & Moraxella osloensis        & 0.047031611 & TP & (3,730 reads) \\\\\n",
       "\t 1e-5 (3,730 reads)  & Pasteurella multocida      & 0.047802621 & TP & (3,730 reads) \\\\\n",
       "\t 1e-5 (3,730 reads)  & Streptococcus pneumoniae   & 0.044975585 & TP & (3,730 reads) \\\\\n",
       "\t 1e-5 (3,730 reads)  & Staphylococcus epidermidis & 0.039578515 & TP & (3,730 reads) \\\\\n",
       "\t 1e-5 (3,730 reads)  & Actinomyces viscosus       & 0.047802621 & TP & (3,730 reads) \\\\\n",
       "\t 1e-5 (3,730 reads)  & Torque teno virus          & 0.047802621 & TP & (3,730 reads) \\\\\n",
       "\t 1e-5 (3,730 reads)  & Human betaherpesvirus 6A   & 0.047545618 & TP & (3,730 reads) \\\\\n",
       "\t 1e-6 (370 reads)    & Candida albicans           & 0.008691873 & TP & (370 reads)   \\\\\n",
       "\t 1e-6 (370 reads)    & Leclercia adecarboxylata   & 0.006953498 & TP & (370 reads)   \\\\\n",
       "\t 1e-6 (370 reads)    & Yersinia enterocolitica    & 0.006953498 & TP & (370 reads)   \\\\\n",
       "\t 1e-6 (370 reads)    & Moraxella osloensis        & 0.007822686 & TP & (370 reads)   \\\\\n",
       "\t 1e-6 (370 reads)    & Pasteurella multocida      & 0.007822686 & TP & (370 reads)   \\\\\n",
       "\t 1e-6 (370 reads)    & Streptococcus pneumoniae   & 0.007388092 & TP & (370 reads)   \\\\\n",
       "\t 1e-6 (370 reads)    & Staphylococcus epidermidis & 0.007388092 & TP & (370 reads)   \\\\\n",
       "\t 1e-6 (370 reads)    & Actinomyces viscosus       & 0.007822686 & TP & (370 reads)   \\\\\n",
       "\t 1e-6 (370 reads)    & Torque teno virus          & 0.007822686 & TP & (370 reads)   \\\\\n",
       "\t 1e-6 (370 reads)    & Human betaherpesvirus 6A   & 0.007822686 & TP & (370 reads)   \\\\\n",
       "\t 1e-4 (37,332 reads) & Candida albicans           & 0.094323409 & TP & (37,332 reads)\\\\\n",
       "\t 1e-4 (37,332 reads) & Leclercia adecarboxylata   & 0.077440226 & TP & (37,332 reads)\\\\\n",
       "\t 1e-4 (37,332 reads) & Yersinia enterocolitica    & 0.081736845 & TP & (37,332 reads)\\\\\n",
       "\t 1e-4 (37,332 reads) & Moraxella osloensis        & 0.093565182 & TP & (37,332 reads)\\\\\n",
       "\t 1e-4 (37,332 reads) & Pasteurella multocida      & 0.094121215 & TP & (37,332 reads)\\\\\n",
       "\t 1e-4 (37,332 reads) & Streptococcus pneumoniae   & 0.085881818 & TP & (37,332 reads)\\\\\n",
       "\t 1e-4 (37,332 reads) & Staphylococcus epidermidis & 0.078350099 & TP & (37,332 reads)\\\\\n",
       "\t 1e-4 (37,332 reads) & Actinomyces viscosus       & 0.093919021 & TP & (37,332 reads)\\\\\n",
       "\t 1e-4 (37,332 reads) & Torque teno virus          & 0.094323409 & TP & (37,332 reads)\\\\\n",
       "\t 1e-4 (37,332 reads) & Human betaherpesvirus 6A   & 0.093413537 & TP & (37,332 reads)\\\\\n",
       "\t ⋮ & ⋮ & ⋮ & ⋮ & ⋮\\\\\n",
       "\t 1e-3 (373,368 reads) & Staphylococcus pasteuri          & 1.117487e-05 & FP & (373,368 reads)\\\\\n",
       "\t 1e-3 (373,368 reads) & Staphylococcus caprae            & 1.117487e-05 & FP & (373,368 reads)\\\\\n",
       "\t 1e-3 (373,368 reads) & Staphylococcus carnosus          & 1.117487e-05 & FP & (373,368 reads)\\\\\n",
       "\t 1e-3 (373,368 reads) & Staphylococcus kloosii           & 5.587435e-06 & FP & (373,368 reads)\\\\\n",
       "\t 1e-3 (373,368 reads) & Staphylococcus lloydii           & 5.587435e-06 & FP & (373,368 reads)\\\\\n",
       "\t 1e-3 (373,368 reads) & Staphylococcus sp. 17KM0847      & 5.587435e-06 & FP & (373,368 reads)\\\\\n",
       "\t 1e-3 (373,368 reads) & Staphylococcus xylosus           & 5.587435e-06 & FP & (373,368 reads)\\\\\n",
       "\t 1e-3 (373,368 reads) & Staphylococcus pettenkoferi      & 5.587435e-06 & FP & (373,368 reads)\\\\\n",
       "\t 1e-3 (373,368 reads) & Staphylococcus debuckii          & 5.587435e-06 & FP & (373,368 reads)\\\\\n",
       "\t 1e-3 (373,368 reads) & Staphylococcus simiae            & 5.587435e-06 & FP & (373,368 reads)\\\\\n",
       "\t 1e-3 (373,368 reads) & Mammaliicoccus vitulinus         & 2.234974e-05 & FP & (373,368 reads)\\\\\n",
       "\t 1e-3 (373,368 reads) & Mammaliicoccus lentus            & 5.587435e-06 & FP & (373,368 reads)\\\\\n",
       "\t 1e-3 (373,368 reads) & Bacillus cereus                  & 5.587435e-06 & FP & (373,368 reads)\\\\\n",
       "\t 1e-3 (373,368 reads) & Virgibacillus sp. SK37           & 5.587435e-06 & FP & (373,368 reads)\\\\\n",
       "\t 1e-3 (373,368 reads) & Listeria weihenstephanensis      & 5.587435e-06 & FP & (373,368 reads)\\\\\n",
       "\t 1e-3 (373,368 reads) & Paenibacillus sp. PAMC21692      & 5.587435e-06 & FP & (373,368 reads)\\\\\n",
       "\t 1e-3 (373,368 reads) & Clostridioides difficile         & 2.234974e-05 & FP & (373,368 reads)\\\\\n",
       "\t 1e-3 (373,368 reads) & Clostridium perfringens          & 5.587435e-06 & FP & (373,368 reads)\\\\\n",
       "\t 1e-3 (373,368 reads) & Actinomyces oris                 & 2.234974e-05 & FP & (373,368 reads)\\\\\n",
       "\t 1e-3 (373,368 reads) & Actinomyces slackii              & 5.587435e-06 & FP & (373,368 reads)\\\\\n",
       "\t 1e-3 (373,368 reads) & Actinomyces marmotae             & 5.587435e-06 & FP & (373,368 reads)\\\\\n",
       "\t 1e-3 (373,368 reads) & Candidatus Promineofilum breve   & 5.587435e-06 & FP & (373,368 reads)\\\\\n",
       "\t 1e-3 (373,368 reads) & Mycoplasma bovigenitalium        & 5.587435e-06 & FP & (373,368 reads)\\\\\n",
       "\t 1e-3 (373,368 reads) & Fusobacterium nucleatum          & 5.587435e-06 & FP & (373,368 reads)\\\\\n",
       "\t 1e-3 (373,368 reads) & Fusobacterium ulcerans           & 5.587435e-06 & FP & (373,368 reads)\\\\\n",
       "\t 1e-3 (373,368 reads) & Fusobacterium sp. oral taxon 203 & 5.587435e-06 & FP & (373,368 reads)\\\\\n",
       "\t 1e-3 (373,368 reads) & Candida dubliniensis             & 1.117487e-05 & FP & (373,368 reads)\\\\\n",
       "\t 1e-3 (373,368 reads) & Torque teno virus 29             & 1.676230e-05 & FP & (373,368 reads)\\\\\n",
       "\t 1e-3 (373,368 reads) & Human betaherpesvirus 6B         & 5.587435e-06 & FP & (373,368 reads)\\\\\n",
       "\t 1e-3 (373,368 reads) & Streptococcus phage SpSL1        & 2.234974e-05 & FP & (373,368 reads)\\\\\n",
       "\\end{tabular}\n"
      ],
      "text/markdown": [
       "\n",
       "A tibble: 239 × 5\n",
       "\n",
       "| sample &lt;chr&gt; | taxa &lt;fct&gt; | abundance &lt;dbl&gt; | classification &lt;chr&gt; | microbial_reads &lt;chr&gt; |\n",
       "|---|---|---|---|---|\n",
       "| 1e-5 (3,730 reads)  | Candida albicans           | 0.048316628 | TP | (3,730 reads)  |\n",
       "| 1e-5 (3,730 reads)  | Leclercia adecarboxylata   | 0.039321511 | TP | (3,730 reads)  |\n",
       "| 1e-5 (3,730 reads)  | Yersinia enterocolitica    | 0.041891545 | TP | (3,730 reads)  |\n",
       "| 1e-5 (3,730 reads)  | Moraxella osloensis        | 0.047031611 | TP | (3,730 reads)  |\n",
       "| 1e-5 (3,730 reads)  | Pasteurella multocida      | 0.047802621 | TP | (3,730 reads)  |\n",
       "| 1e-5 (3,730 reads)  | Streptococcus pneumoniae   | 0.044975585 | TP | (3,730 reads)  |\n",
       "| 1e-5 (3,730 reads)  | Staphylococcus epidermidis | 0.039578515 | TP | (3,730 reads)  |\n",
       "| 1e-5 (3,730 reads)  | Actinomyces viscosus       | 0.047802621 | TP | (3,730 reads)  |\n",
       "| 1e-5 (3,730 reads)  | Torque teno virus          | 0.047802621 | TP | (3,730 reads)  |\n",
       "| 1e-5 (3,730 reads)  | Human betaherpesvirus 6A   | 0.047545618 | TP | (3,730 reads)  |\n",
       "| 1e-6 (370 reads)    | Candida albicans           | 0.008691873 | TP | (370 reads)    |\n",
       "| 1e-6 (370 reads)    | Leclercia adecarboxylata   | 0.006953498 | TP | (370 reads)    |\n",
       "| 1e-6 (370 reads)    | Yersinia enterocolitica    | 0.006953498 | TP | (370 reads)    |\n",
       "| 1e-6 (370 reads)    | Moraxella osloensis        | 0.007822686 | TP | (370 reads)    |\n",
       "| 1e-6 (370 reads)    | Pasteurella multocida      | 0.007822686 | TP | (370 reads)    |\n",
       "| 1e-6 (370 reads)    | Streptococcus pneumoniae   | 0.007388092 | TP | (370 reads)    |\n",
       "| 1e-6 (370 reads)    | Staphylococcus epidermidis | 0.007388092 | TP | (370 reads)    |\n",
       "| 1e-6 (370 reads)    | Actinomyces viscosus       | 0.007822686 | TP | (370 reads)    |\n",
       "| 1e-6 (370 reads)    | Torque teno virus          | 0.007822686 | TP | (370 reads)    |\n",
       "| 1e-6 (370 reads)    | Human betaherpesvirus 6A   | 0.007822686 | TP | (370 reads)    |\n",
       "| 1e-4 (37,332 reads) | Candida albicans           | 0.094323409 | TP | (37,332 reads) |\n",
       "| 1e-4 (37,332 reads) | Leclercia adecarboxylata   | 0.077440226 | TP | (37,332 reads) |\n",
       "| 1e-4 (37,332 reads) | Yersinia enterocolitica    | 0.081736845 | TP | (37,332 reads) |\n",
       "| 1e-4 (37,332 reads) | Moraxella osloensis        | 0.093565182 | TP | (37,332 reads) |\n",
       "| 1e-4 (37,332 reads) | Pasteurella multocida      | 0.094121215 | TP | (37,332 reads) |\n",
       "| 1e-4 (37,332 reads) | Streptococcus pneumoniae   | 0.085881818 | TP | (37,332 reads) |\n",
       "| 1e-4 (37,332 reads) | Staphylococcus epidermidis | 0.078350099 | TP | (37,332 reads) |\n",
       "| 1e-4 (37,332 reads) | Actinomyces viscosus       | 0.093919021 | TP | (37,332 reads) |\n",
       "| 1e-4 (37,332 reads) | Torque teno virus          | 0.094323409 | TP | (37,332 reads) |\n",
       "| 1e-4 (37,332 reads) | Human betaherpesvirus 6A   | 0.093413537 | TP | (37,332 reads) |\n",
       "| ⋮ | ⋮ | ⋮ | ⋮ | ⋮ |\n",
       "| 1e-3 (373,368 reads) | Staphylococcus pasteuri          | 1.117487e-05 | FP | (373,368 reads) |\n",
       "| 1e-3 (373,368 reads) | Staphylococcus caprae            | 1.117487e-05 | FP | (373,368 reads) |\n",
       "| 1e-3 (373,368 reads) | Staphylococcus carnosus          | 1.117487e-05 | FP | (373,368 reads) |\n",
       "| 1e-3 (373,368 reads) | Staphylococcus kloosii           | 5.587435e-06 | FP | (373,368 reads) |\n",
       "| 1e-3 (373,368 reads) | Staphylococcus lloydii           | 5.587435e-06 | FP | (373,368 reads) |\n",
       "| 1e-3 (373,368 reads) | Staphylococcus sp. 17KM0847      | 5.587435e-06 | FP | (373,368 reads) |\n",
       "| 1e-3 (373,368 reads) | Staphylococcus xylosus           | 5.587435e-06 | FP | (373,368 reads) |\n",
       "| 1e-3 (373,368 reads) | Staphylococcus pettenkoferi      | 5.587435e-06 | FP | (373,368 reads) |\n",
       "| 1e-3 (373,368 reads) | Staphylococcus debuckii          | 5.587435e-06 | FP | (373,368 reads) |\n",
       "| 1e-3 (373,368 reads) | Staphylococcus simiae            | 5.587435e-06 | FP | (373,368 reads) |\n",
       "| 1e-3 (373,368 reads) | Mammaliicoccus vitulinus         | 2.234974e-05 | FP | (373,368 reads) |\n",
       "| 1e-3 (373,368 reads) | Mammaliicoccus lentus            | 5.587435e-06 | FP | (373,368 reads) |\n",
       "| 1e-3 (373,368 reads) | Bacillus cereus                  | 5.587435e-06 | FP | (373,368 reads) |\n",
       "| 1e-3 (373,368 reads) | Virgibacillus sp. SK37           | 5.587435e-06 | FP | (373,368 reads) |\n",
       "| 1e-3 (373,368 reads) | Listeria weihenstephanensis      | 5.587435e-06 | FP | (373,368 reads) |\n",
       "| 1e-3 (373,368 reads) | Paenibacillus sp. PAMC21692      | 5.587435e-06 | FP | (373,368 reads) |\n",
       "| 1e-3 (373,368 reads) | Clostridioides difficile         | 2.234974e-05 | FP | (373,368 reads) |\n",
       "| 1e-3 (373,368 reads) | Clostridium perfringens          | 5.587435e-06 | FP | (373,368 reads) |\n",
       "| 1e-3 (373,368 reads) | Actinomyces oris                 | 2.234974e-05 | FP | (373,368 reads) |\n",
       "| 1e-3 (373,368 reads) | Actinomyces slackii              | 5.587435e-06 | FP | (373,368 reads) |\n",
       "| 1e-3 (373,368 reads) | Actinomyces marmotae             | 5.587435e-06 | FP | (373,368 reads) |\n",
       "| 1e-3 (373,368 reads) | Candidatus Promineofilum breve   | 5.587435e-06 | FP | (373,368 reads) |\n",
       "| 1e-3 (373,368 reads) | Mycoplasma bovigenitalium        | 5.587435e-06 | FP | (373,368 reads) |\n",
       "| 1e-3 (373,368 reads) | Fusobacterium nucleatum          | 5.587435e-06 | FP | (373,368 reads) |\n",
       "| 1e-3 (373,368 reads) | Fusobacterium ulcerans           | 5.587435e-06 | FP | (373,368 reads) |\n",
       "| 1e-3 (373,368 reads) | Fusobacterium sp. oral taxon 203 | 5.587435e-06 | FP | (373,368 reads) |\n",
       "| 1e-3 (373,368 reads) | Candida dubliniensis             | 1.117487e-05 | FP | (373,368 reads) |\n",
       "| 1e-3 (373,368 reads) | Torque teno virus 29             | 1.676230e-05 | FP | (373,368 reads) |\n",
       "| 1e-3 (373,368 reads) | Human betaherpesvirus 6B         | 5.587435e-06 | FP | (373,368 reads) |\n",
       "| 1e-3 (373,368 reads) | Streptococcus phage SpSL1        | 2.234974e-05 | FP | (373,368 reads) |\n",
       "\n"
      ],
      "text/plain": [
       "    sample               taxa                             abundance   \n",
       "1   1e-5 (3,730 reads)   Candida albicans                 0.048316628 \n",
       "2   1e-5 (3,730 reads)   Leclercia adecarboxylata         0.039321511 \n",
       "3   1e-5 (3,730 reads)   Yersinia enterocolitica          0.041891545 \n",
       "4   1e-5 (3,730 reads)   Moraxella osloensis              0.047031611 \n",
       "5   1e-5 (3,730 reads)   Pasteurella multocida            0.047802621 \n",
       "6   1e-5 (3,730 reads)   Streptococcus pneumoniae         0.044975585 \n",
       "7   1e-5 (3,730 reads)   Staphylococcus epidermidis       0.039578515 \n",
       "8   1e-5 (3,730 reads)   Actinomyces viscosus             0.047802621 \n",
       "9   1e-5 (3,730 reads)   Torque teno virus                0.047802621 \n",
       "10  1e-5 (3,730 reads)   Human betaherpesvirus 6A         0.047545618 \n",
       "11  1e-6 (370 reads)     Candida albicans                 0.008691873 \n",
       "12  1e-6 (370 reads)     Leclercia adecarboxylata         0.006953498 \n",
       "13  1e-6 (370 reads)     Yersinia enterocolitica          0.006953498 \n",
       "14  1e-6 (370 reads)     Moraxella osloensis              0.007822686 \n",
       "15  1e-6 (370 reads)     Pasteurella multocida            0.007822686 \n",
       "16  1e-6 (370 reads)     Streptococcus pneumoniae         0.007388092 \n",
       "17  1e-6 (370 reads)     Staphylococcus epidermidis       0.007388092 \n",
       "18  1e-6 (370 reads)     Actinomyces viscosus             0.007822686 \n",
       "19  1e-6 (370 reads)     Torque teno virus                0.007822686 \n",
       "20  1e-6 (370 reads)     Human betaherpesvirus 6A         0.007822686 \n",
       "21  1e-4 (37,332 reads)  Candida albicans                 0.094323409 \n",
       "22  1e-4 (37,332 reads)  Leclercia adecarboxylata         0.077440226 \n",
       "23  1e-4 (37,332 reads)  Yersinia enterocolitica          0.081736845 \n",
       "24  1e-4 (37,332 reads)  Moraxella osloensis              0.093565182 \n",
       "25  1e-4 (37,332 reads)  Pasteurella multocida            0.094121215 \n",
       "26  1e-4 (37,332 reads)  Streptococcus pneumoniae         0.085881818 \n",
       "27  1e-4 (37,332 reads)  Staphylococcus epidermidis       0.078350099 \n",
       "28  1e-4 (37,332 reads)  Actinomyces viscosus             0.093919021 \n",
       "29  1e-4 (37,332 reads)  Torque teno virus                0.094323409 \n",
       "30  1e-4 (37,332 reads)  Human betaherpesvirus 6A         0.093413537 \n",
       "⋮   ⋮                    ⋮                                ⋮           \n",
       "210 1e-3 (373,368 reads) Staphylococcus pasteuri          1.117487e-05\n",
       "211 1e-3 (373,368 reads) Staphylococcus caprae            1.117487e-05\n",
       "212 1e-3 (373,368 reads) Staphylococcus carnosus          1.117487e-05\n",
       "213 1e-3 (373,368 reads) Staphylococcus kloosii           5.587435e-06\n",
       "214 1e-3 (373,368 reads) Staphylococcus lloydii           5.587435e-06\n",
       "215 1e-3 (373,368 reads) Staphylococcus sp. 17KM0847      5.587435e-06\n",
       "216 1e-3 (373,368 reads) Staphylococcus xylosus           5.587435e-06\n",
       "217 1e-3 (373,368 reads) Staphylococcus pettenkoferi      5.587435e-06\n",
       "218 1e-3 (373,368 reads) Staphylococcus debuckii          5.587435e-06\n",
       "219 1e-3 (373,368 reads) Staphylococcus simiae            5.587435e-06\n",
       "220 1e-3 (373,368 reads) Mammaliicoccus vitulinus         2.234974e-05\n",
       "221 1e-3 (373,368 reads) Mammaliicoccus lentus            5.587435e-06\n",
       "222 1e-3 (373,368 reads) Bacillus cereus                  5.587435e-06\n",
       "223 1e-3 (373,368 reads) Virgibacillus sp. SK37           5.587435e-06\n",
       "224 1e-3 (373,368 reads) Listeria weihenstephanensis      5.587435e-06\n",
       "225 1e-3 (373,368 reads) Paenibacillus sp. PAMC21692      5.587435e-06\n",
       "226 1e-3 (373,368 reads) Clostridioides difficile         2.234974e-05\n",
       "227 1e-3 (373,368 reads) Clostridium perfringens          5.587435e-06\n",
       "228 1e-3 (373,368 reads) Actinomyces oris                 2.234974e-05\n",
       "229 1e-3 (373,368 reads) Actinomyces slackii              5.587435e-06\n",
       "230 1e-3 (373,368 reads) Actinomyces marmotae             5.587435e-06\n",
       "231 1e-3 (373,368 reads) Candidatus Promineofilum breve   5.587435e-06\n",
       "232 1e-3 (373,368 reads) Mycoplasma bovigenitalium        5.587435e-06\n",
       "233 1e-3 (373,368 reads) Fusobacterium nucleatum          5.587435e-06\n",
       "234 1e-3 (373,368 reads) Fusobacterium ulcerans           5.587435e-06\n",
       "235 1e-3 (373,368 reads) Fusobacterium sp. oral taxon 203 5.587435e-06\n",
       "236 1e-3 (373,368 reads) Candida dubliniensis             1.117487e-05\n",
       "237 1e-3 (373,368 reads) Torque teno virus 29             1.676230e-05\n",
       "238 1e-3 (373,368 reads) Human betaherpesvirus 6B         5.587435e-06\n",
       "239 1e-3 (373,368 reads) Streptococcus phage SpSL1        2.234974e-05\n",
       "    classification microbial_reads\n",
       "1   TP             (3,730 reads)  \n",
       "2   TP             (3,730 reads)  \n",
       "3   TP             (3,730 reads)  \n",
       "4   TP             (3,730 reads)  \n",
       "5   TP             (3,730 reads)  \n",
       "6   TP             (3,730 reads)  \n",
       "7   TP             (3,730 reads)  \n",
       "8   TP             (3,730 reads)  \n",
       "9   TP             (3,730 reads)  \n",
       "10  TP             (3,730 reads)  \n",
       "11  TP             (370 reads)    \n",
       "12  TP             (370 reads)    \n",
       "13  TP             (370 reads)    \n",
       "14  TP             (370 reads)    \n",
       "15  TP             (370 reads)    \n",
       "16  TP             (370 reads)    \n",
       "17  TP             (370 reads)    \n",
       "18  TP             (370 reads)    \n",
       "19  TP             (370 reads)    \n",
       "20  TP             (370 reads)    \n",
       "21  TP             (37,332 reads) \n",
       "22  TP             (37,332 reads) \n",
       "23  TP             (37,332 reads) \n",
       "24  TP             (37,332 reads) \n",
       "25  TP             (37,332 reads) \n",
       "26  TP             (37,332 reads) \n",
       "27  TP             (37,332 reads) \n",
       "28  TP             (37,332 reads) \n",
       "29  TP             (37,332 reads) \n",
       "30  TP             (37,332 reads) \n",
       "⋮   ⋮              ⋮              \n",
       "210 FP             (373,368 reads)\n",
       "211 FP             (373,368 reads)\n",
       "212 FP             (373,368 reads)\n",
       "213 FP             (373,368 reads)\n",
       "214 FP             (373,368 reads)\n",
       "215 FP             (373,368 reads)\n",
       "216 FP             (373,368 reads)\n",
       "217 FP             (373,368 reads)\n",
       "218 FP             (373,368 reads)\n",
       "219 FP             (373,368 reads)\n",
       "220 FP             (373,368 reads)\n",
       "221 FP             (373,368 reads)\n",
       "222 FP             (373,368 reads)\n",
       "223 FP             (373,368 reads)\n",
       "224 FP             (373,368 reads)\n",
       "225 FP             (373,368 reads)\n",
       "226 FP             (373,368 reads)\n",
       "227 FP             (373,368 reads)\n",
       "228 FP             (373,368 reads)\n",
       "229 FP             (373,368 reads)\n",
       "230 FP             (373,368 reads)\n",
       "231 FP             (373,368 reads)\n",
       "232 FP             (373,368 reads)\n",
       "233 FP             (373,368 reads)\n",
       "234 FP             (373,368 reads)\n",
       "235 FP             (373,368 reads)\n",
       "236 FP             (373,368 reads)\n",
       "237 FP             (373,368 reads)\n",
       "238 FP             (373,368 reads)\n",
       "239 FP             (373,368 reads)"
      ]
     },
     "metadata": {},
     "output_type": "display_data"
    }
   ],
   "source": [
    "parsed_sim_RA"
   ]
  },
  {
   "cell_type": "code",
   "execution_count": 11,
   "id": "750f3a20",
   "metadata": {},
   "outputs": [
    {
     "data": {
      "text/html": [
       "<table class=\"dataframe\">\n",
       "<caption>A tibble: 12 × 5</caption>\n",
       "<thead>\n",
       "\t<tr><th scope=col>sample</th><th scope=col>taxa</th><th scope=col>abundance</th><th scope=col>classification</th><th scope=col>microbial_reads</th></tr>\n",
       "\t<tr><th scope=col>&lt;chr&gt;</th><th scope=col>&lt;fct&gt;</th><th scope=col>&lt;dbl&gt;</th><th scope=col>&lt;chr&gt;</th><th scope=col>&lt;chr&gt;</th></tr>\n",
       "</thead>\n",
       "<tbody>\n",
       "\t<tr><td>1e-6 (370 reads)</td><td>Candida albicans           </td><td>0.0086918731</td><td>TP</td><td>(370 reads)</td></tr>\n",
       "\t<tr><td>1e-6 (370 reads)</td><td>Leclercia adecarboxylata   </td><td>0.0069534985</td><td>TP</td><td>(370 reads)</td></tr>\n",
       "\t<tr><td>1e-6 (370 reads)</td><td>Yersinia enterocolitica    </td><td>0.0069534985</td><td>TP</td><td>(370 reads)</td></tr>\n",
       "\t<tr><td>1e-6 (370 reads)</td><td>Moraxella osloensis        </td><td>0.0078226858</td><td>TP</td><td>(370 reads)</td></tr>\n",
       "\t<tr><td>1e-6 (370 reads)</td><td>Pasteurella multocida      </td><td>0.0078226858</td><td>TP</td><td>(370 reads)</td></tr>\n",
       "\t<tr><td>1e-6 (370 reads)</td><td>Streptococcus pneumoniae   </td><td>0.0073880921</td><td>TP</td><td>(370 reads)</td></tr>\n",
       "\t<tr><td>1e-6 (370 reads)</td><td>Staphylococcus epidermidis </td><td>0.0073880921</td><td>TP</td><td>(370 reads)</td></tr>\n",
       "\t<tr><td>1e-6 (370 reads)</td><td>Actinomyces viscosus       </td><td>0.0078226858</td><td>TP</td><td>(370 reads)</td></tr>\n",
       "\t<tr><td>1e-6 (370 reads)</td><td>Torque teno virus          </td><td>0.0078226858</td><td>TP</td><td>(370 reads)</td></tr>\n",
       "\t<tr><td>1e-6 (370 reads)</td><td>Human betaherpesvirus 6A   </td><td>0.0078226858</td><td>TP</td><td>(370 reads)</td></tr>\n",
       "\t<tr><td>1e-6 (370 reads)</td><td>Homo sapiens               </td><td>0.9230769231</td><td>FP</td><td>(370 reads)</td></tr>\n",
       "\t<tr><td>1e-6 (370 reads)</td><td>Staphylococcus haemolyticus</td><td>0.0004345937</td><td>FP</td><td>(370 reads)</td></tr>\n",
       "</tbody>\n",
       "</table>\n"
      ],
      "text/latex": [
       "A tibble: 12 × 5\n",
       "\\begin{tabular}{lllll}\n",
       " sample & taxa & abundance & classification & microbial\\_reads\\\\\n",
       " <chr> & <fct> & <dbl> & <chr> & <chr>\\\\\n",
       "\\hline\n",
       "\t 1e-6 (370 reads) & Candida albicans            & 0.0086918731 & TP & (370 reads)\\\\\n",
       "\t 1e-6 (370 reads) & Leclercia adecarboxylata    & 0.0069534985 & TP & (370 reads)\\\\\n",
       "\t 1e-6 (370 reads) & Yersinia enterocolitica     & 0.0069534985 & TP & (370 reads)\\\\\n",
       "\t 1e-6 (370 reads) & Moraxella osloensis         & 0.0078226858 & TP & (370 reads)\\\\\n",
       "\t 1e-6 (370 reads) & Pasteurella multocida       & 0.0078226858 & TP & (370 reads)\\\\\n",
       "\t 1e-6 (370 reads) & Streptococcus pneumoniae    & 0.0073880921 & TP & (370 reads)\\\\\n",
       "\t 1e-6 (370 reads) & Staphylococcus epidermidis  & 0.0073880921 & TP & (370 reads)\\\\\n",
       "\t 1e-6 (370 reads) & Actinomyces viscosus        & 0.0078226858 & TP & (370 reads)\\\\\n",
       "\t 1e-6 (370 reads) & Torque teno virus           & 0.0078226858 & TP & (370 reads)\\\\\n",
       "\t 1e-6 (370 reads) & Human betaherpesvirus 6A    & 0.0078226858 & TP & (370 reads)\\\\\n",
       "\t 1e-6 (370 reads) & Homo sapiens                & 0.9230769231 & FP & (370 reads)\\\\\n",
       "\t 1e-6 (370 reads) & Staphylococcus haemolyticus & 0.0004345937 & FP & (370 reads)\\\\\n",
       "\\end{tabular}\n"
      ],
      "text/markdown": [
       "\n",
       "A tibble: 12 × 5\n",
       "\n",
       "| sample &lt;chr&gt; | taxa &lt;fct&gt; | abundance &lt;dbl&gt; | classification &lt;chr&gt; | microbial_reads &lt;chr&gt; |\n",
       "|---|---|---|---|---|\n",
       "| 1e-6 (370 reads) | Candida albicans            | 0.0086918731 | TP | (370 reads) |\n",
       "| 1e-6 (370 reads) | Leclercia adecarboxylata    | 0.0069534985 | TP | (370 reads) |\n",
       "| 1e-6 (370 reads) | Yersinia enterocolitica     | 0.0069534985 | TP | (370 reads) |\n",
       "| 1e-6 (370 reads) | Moraxella osloensis         | 0.0078226858 | TP | (370 reads) |\n",
       "| 1e-6 (370 reads) | Pasteurella multocida       | 0.0078226858 | TP | (370 reads) |\n",
       "| 1e-6 (370 reads) | Streptococcus pneumoniae    | 0.0073880921 | TP | (370 reads) |\n",
       "| 1e-6 (370 reads) | Staphylococcus epidermidis  | 0.0073880921 | TP | (370 reads) |\n",
       "| 1e-6 (370 reads) | Actinomyces viscosus        | 0.0078226858 | TP | (370 reads) |\n",
       "| 1e-6 (370 reads) | Torque teno virus           | 0.0078226858 | TP | (370 reads) |\n",
       "| 1e-6 (370 reads) | Human betaherpesvirus 6A    | 0.0078226858 | TP | (370 reads) |\n",
       "| 1e-6 (370 reads) | Homo sapiens                | 0.9230769231 | FP | (370 reads) |\n",
       "| 1e-6 (370 reads) | Staphylococcus haemolyticus | 0.0004345937 | FP | (370 reads) |\n",
       "\n"
      ],
      "text/plain": [
       "   sample           taxa                        abundance    classification\n",
       "1  1e-6 (370 reads) Candida albicans            0.0086918731 TP            \n",
       "2  1e-6 (370 reads) Leclercia adecarboxylata    0.0069534985 TP            \n",
       "3  1e-6 (370 reads) Yersinia enterocolitica     0.0069534985 TP            \n",
       "4  1e-6 (370 reads) Moraxella osloensis         0.0078226858 TP            \n",
       "5  1e-6 (370 reads) Pasteurella multocida       0.0078226858 TP            \n",
       "6  1e-6 (370 reads) Streptococcus pneumoniae    0.0073880921 TP            \n",
       "7  1e-6 (370 reads) Staphylococcus epidermidis  0.0073880921 TP            \n",
       "8  1e-6 (370 reads) Actinomyces viscosus        0.0078226858 TP            \n",
       "9  1e-6 (370 reads) Torque teno virus           0.0078226858 TP            \n",
       "10 1e-6 (370 reads) Human betaherpesvirus 6A    0.0078226858 TP            \n",
       "11 1e-6 (370 reads) Homo sapiens                0.9230769231 FP            \n",
       "12 1e-6 (370 reads) Staphylococcus haemolyticus 0.0004345937 FP            \n",
       "   microbial_reads\n",
       "1  (370 reads)    \n",
       "2  (370 reads)    \n",
       "3  (370 reads)    \n",
       "4  (370 reads)    \n",
       "5  (370 reads)    \n",
       "6  (370 reads)    \n",
       "7  (370 reads)    \n",
       "8  (370 reads)    \n",
       "9  (370 reads)    \n",
       "10 (370 reads)    \n",
       "11 (370 reads)    \n",
       "12 (370 reads)    "
      ]
     },
     "metadata": {},
     "output_type": "display_data"
    }
   ],
   "source": [
    "parsed_sim_RA %>%\n",
    "    filter(sample == \"1e-6 (370 reads)\")"
   ]
  },
  {
   "cell_type": "code",
   "execution_count": 28,
   "id": "4c0fb562",
   "metadata": {},
   "outputs": [
    {
     "name": "stderr",
     "output_type": "stream",
     "text": [
      "Warning message:\n",
      "“Removed 774 rows containing missing values (geom_bar).”\n"
     ]
    }
   ],
   "source": [
    "PA_threshold <- 0.005\n",
    "read_plt <- parsed_sim %>%\n",
    "    filter(classification != \"Unclassified\",\n",
    "           taxa != \"Homo sapiens\") %>%\n",
    "    ggplot(aes(x = abundance, fill = classification)) +\n",
    "    theme_bw() +\n",
    "    theme(text = element_text(size = 15)) +\n",
    "    geom_histogram(bins = 100, \n",
    "                   aes(y = log(..count.., base = 10)),\n",
    "                   color = \"black\") +\n",
    "    facet_grid(rows = vars(sample)) +\n",
    "    labs(x = \"Raw read count\", y = \"log10(n_taxa)\", fill = \"Classification\")\n",
    "RA_plt <- parsed_sim_RA %>% \n",
    "    filter(classification != \"Unclassified\",\n",
    "           taxa != \"Homo sapiens\") %>%\n",
    "    ggplot(aes(x = abundance, fill = classification)) +\n",
    "    theme_bw() +\n",
    "    theme(text = element_text(size = 20)) +\n",
    "    geom_histogram(bins = 100, \n",
    "                   aes(y = log(..count.., base = 10)),\n",
    "                   color = \"black\") +\n",
    "    facet_grid(rows = vars(sample), scales = \"free\") +\n",
    "    labs(x = \"Relative abundance (TSS)\", y = \"log10(n_taxa)\", fill = \"Classification\") +\n",
    "    geom_vline(xintercept = PA_threshold, color = \"black\", linetype = \"dotted\")\n",
    "\n",
    "# combined <- ggpubr::ggarrange(read_plt, RA_plt, ncol = 2, common.legend = T)\n",
    "combined <- RA_plt\n",
    "ggsave(\"results/simulation_out/abundance_distribution_fp_tp.png\", \n",
    "       dpi = 600, \n",
    "       plot = combined, \n",
    "       width = 15, height = 10,\n",
    "       type = \"cairo\")"
   ]
  },
  {
   "cell_type": "markdown",
   "id": "334cf9ff",
   "metadata": {},
   "source": [
    "#### No. of assigned species per sample"
   ]
  },
  {
   "cell_type": "code",
   "execution_count": 13,
   "id": "f108543a",
   "metadata": {},
   "outputs": [
    {
     "data": {
      "text/html": [
       "<table class=\"dataframe\">\n",
       "<caption>A tibble: 4 × 2</caption>\n",
       "<thead>\n",
       "\t<tr><th scope=col>sample</th><th scope=col>rowsums</th></tr>\n",
       "\t<tr><th scope=col>&lt;chr&gt;</th><th scope=col>&lt;dbl&gt;</th></tr>\n",
       "</thead>\n",
       "<tbody>\n",
       "\t<tr><td>simulated.human_10e-5_microbe</td><td>  1767</td></tr>\n",
       "\t<tr><td>simulated.human_10e-6_microbe</td><td>   177</td></tr>\n",
       "\t<tr><td>simulated.human_10e-4_microbe</td><td> 17649</td></tr>\n",
       "\t<tr><td>simulated.human_10e-3_microbe</td><td>176770</td></tr>\n",
       "</tbody>\n",
       "</table>\n"
      ],
      "text/latex": [
       "A tibble: 4 × 2\n",
       "\\begin{tabular}{ll}\n",
       " sample & rowsums\\\\\n",
       " <chr> & <dbl>\\\\\n",
       "\\hline\n",
       "\t simulated.human\\_10e-5\\_microbe &   1767\\\\\n",
       "\t simulated.human\\_10e-6\\_microbe &    177\\\\\n",
       "\t simulated.human\\_10e-4\\_microbe &  17649\\\\\n",
       "\t simulated.human\\_10e-3\\_microbe & 176770\\\\\n",
       "\\end{tabular}\n"
      ],
      "text/markdown": [
       "\n",
       "A tibble: 4 × 2\n",
       "\n",
       "| sample &lt;chr&gt; | rowsums &lt;dbl&gt; |\n",
       "|---|---|\n",
       "| simulated.human_10e-5_microbe |   1767 |\n",
       "| simulated.human_10e-6_microbe |    177 |\n",
       "| simulated.human_10e-4_microbe |  17649 |\n",
       "| simulated.human_10e-3_microbe | 176770 |\n",
       "\n"
      ],
      "text/plain": [
       "  sample                        rowsums\n",
       "1 simulated.human_10e-5_microbe   1767 \n",
       "2 simulated.human_10e-6_microbe    177 \n",
       "3 simulated.human_10e-4_microbe  17649 \n",
       "4 simulated.human_10e-3_microbe 176770 "
      ]
     },
     "metadata": {},
     "output_type": "display_data"
    },
    {
     "name": "stderr",
     "output_type": "stream",
     "text": [
      "Joining, by = \"sample\"\n"
     ]
    },
    {
     "data": {
      "image/png": "[encoded data removed]",
      "text/plain": [
       "plot without title"
      ]
     },
     "metadata": {
      "image/png": {
       "height": 420,
       "width": 420
      }
     },
     "output_type": "display_data"
    }
   ],
   "source": [
    "micro_sim <- sim_df %>% select(-sample, -unclassified, -\"Homo sapiens\")\n",
    "rowsum_sim <- tibble(sample = sim_df$sample, rowsums = rowSums(micro_sim))\n",
    "\n",
    "rowsum_sim\n",
    "\n",
    "\n",
    "sim_prev <- sim_df %>%\n",
    "    select(-sample, -\"Homo sapiens\", -unclassified)\n",
    "\n",
    "sim_prev[sim_prev <= 0] <- 0\n",
    "sim_prev[sim_prev > 0] <- 1\n",
    "\n",
    "sim_prev <- tibble(sample = sim_df$sample, n_assigned = rowSums(sim_prev))\n",
    "    \n",
    "sim_prev %>%\n",
    "    left_join(rowsum_sim) %>%\n",
    "    ggplot(aes(x = rowsums, y = n_assigned)) +\n",
    "    geom_point() "
   ]
  },
  {
   "cell_type": "markdown",
   "id": "3239823b",
   "metadata": {},
   "source": [
    "#### Distribution of read counts for FP/TP"
   ]
  },
  {
   "cell_type": "code",
   "execution_count": 14,
   "id": "e902a08d",
   "metadata": {},
   "outputs": [
    {
     "data": {
      "text/html": [
       "<table class=\"dataframe\">\n",
       "<caption>A tibble: 4 × 2</caption>\n",
       "<thead>\n",
       "\t<tr><th scope=col>sample</th><th scope=col>rowsums</th></tr>\n",
       "\t<tr><th scope=col>&lt;chr&gt;</th><th scope=col>&lt;dbl&gt;</th></tr>\n",
       "</thead>\n",
       "<tbody>\n",
       "\t<tr><td>simulated.human_10e-5_microbe</td><td>  1767</td></tr>\n",
       "\t<tr><td>simulated.human_10e-6_microbe</td><td>   177</td></tr>\n",
       "\t<tr><td>simulated.human_10e-4_microbe</td><td> 17649</td></tr>\n",
       "\t<tr><td>simulated.human_10e-3_microbe</td><td>176770</td></tr>\n",
       "</tbody>\n",
       "</table>\n"
      ],
      "text/latex": [
       "A tibble: 4 × 2\n",
       "\\begin{tabular}{ll}\n",
       " sample & rowsums\\\\\n",
       " <chr> & <dbl>\\\\\n",
       "\\hline\n",
       "\t simulated.human\\_10e-5\\_microbe &   1767\\\\\n",
       "\t simulated.human\\_10e-6\\_microbe &    177\\\\\n",
       "\t simulated.human\\_10e-4\\_microbe &  17649\\\\\n",
       "\t simulated.human\\_10e-3\\_microbe & 176770\\\\\n",
       "\\end{tabular}\n"
      ],
      "text/markdown": [
       "\n",
       "A tibble: 4 × 2\n",
       "\n",
       "| sample &lt;chr&gt; | rowsums &lt;dbl&gt; |\n",
       "|---|---|\n",
       "| simulated.human_10e-5_microbe |   1767 |\n",
       "| simulated.human_10e-6_microbe |    177 |\n",
       "| simulated.human_10e-4_microbe |  17649 |\n",
       "| simulated.human_10e-3_microbe | 176770 |\n",
       "\n"
      ],
      "text/plain": [
       "  sample                        rowsums\n",
       "1 simulated.human_10e-5_microbe   1767 \n",
       "2 simulated.human_10e-6_microbe    177 \n",
       "3 simulated.human_10e-4_microbe  17649 \n",
       "4 simulated.human_10e-3_microbe 176770 "
      ]
     },
     "metadata": {},
     "output_type": "display_data"
    },
    {
     "name": "stderr",
     "output_type": "stream",
     "text": [
      "Joining, by = \"sample\"\n"
     ]
    },
    {
     "data": {
      "image/png": "[encoded data removed]",
      "text/plain": [
       "plot without title"
      ]
     },
     "metadata": {
      "image/png": {
       "height": 420,
       "width": 420
      }
     },
     "output_type": "display_data"
    }
   ],
   "source": [
    "micro_sim <- sim_df %>% select(-sample, -unclassified, -\"Homo sapiens\")\n",
    "rowsum_sim <- tibble(sample = sim_df$sample, rowsums = rowSums(micro_sim))\n",
    "\n",
    "rowsum_sim\n",
    "\n",
    "\n",
    "sim_prev <- sim_df %>%\n",
    "    select(-sample, -\"Homo sapiens\", -unclassified)\n",
    "\n",
    "sim_prev[sim_prev <= 0] <- 0\n",
    "sim_prev[sim_prev > 0] <- 1\n",
    "\n",
    "sim_prev <- tibble(sample = sim_df$sample, n_assigned = rowSums(sim_prev))\n",
    "    \n",
    "sim_prev %>%\n",
    "    left_join(rowsum_sim) %>%\n",
    "    ggplot(aes(x = rowsums, y = n_assigned)) +\n",
    "    geom_point() \n",
    "\n"
   ]
  },
  {
   "cell_type": "code",
   "execution_count": 15,
   "id": "7a07fb77",
   "metadata": {},
   "outputs": [
    {
     "data": {
      "text/html": [
       "373365373"
      ],
      "text/latex": [
       "373365373"
      ],
      "text/markdown": [
       "373365373"
      ],
      "text/plain": [
       "[1] 373365373"
      ]
     },
     "metadata": {},
     "output_type": "display_data"
    }
   ],
   "source": [
    "med_library_depth"
   ]
  },
  {
   "cell_type": "code",
   "execution_count": 16,
   "id": "f1064c5b",
   "metadata": {},
   "outputs": [
    {
     "data": {
      "text/html": [
       "1e-07"
      ],
      "text/latex": [
       "1e-07"
      ],
      "text/markdown": [
       "1e-07"
      ],
      "text/plain": [
       "[1] 1e-07"
      ]
     },
     "metadata": {},
     "output_type": "display_data"
    }
   ],
   "source": [
    "1e-7"
   ]
  },
  {
   "cell_type": "code",
   "execution_count": 17,
   "id": "3ecbddd0",
   "metadata": {},
   "outputs": [
    {
     "data": {
      "text/html": [
       "37.3365373"
      ],
      "text/latex": [
       "37.3365373"
      ],
      "text/markdown": [
       "37.3365373"
      ],
      "text/plain": [
       "[1] 37.33654"
      ]
     },
     "metadata": {},
     "output_type": "display_data"
    }
   ],
   "source": [
    "1e-7*med_library_depth"
   ]
  },
  {
   "cell_type": "code",
   "execution_count": 18,
   "id": "121e6639",
   "metadata": {},
   "outputs": [
    {
     "data": {
      "text/html": [
       "<table class=\"dataframe\">\n",
       "<caption>A tibble: 20 × 5</caption>\n",
       "<thead>\n",
       "\t<tr><th scope=col>sample</th><th scope=col>taxa</th><th scope=col>abundance</th><th scope=col>classification</th><th scope=col>microbial_reads</th></tr>\n",
       "\t<tr><th scope=col>&lt;chr&gt;</th><th scope=col>&lt;fct&gt;</th><th scope=col>&lt;dbl&gt;</th><th scope=col>&lt;chr&gt;</th><th scope=col>&lt;chr&gt;</th></tr>\n",
       "</thead>\n",
       "<tbody>\n",
       "\t<tr><td>1e-5 (3,730 reads)</td><td>Candida albicans          </td><td>0.048316628</td><td>TP</td><td>(3,730 reads)</td></tr>\n",
       "\t<tr><td>1e-5 (3,730 reads)</td><td>Leclercia adecarboxylata  </td><td>0.039321511</td><td>TP</td><td>(3,730 reads)</td></tr>\n",
       "\t<tr><td>1e-5 (3,730 reads)</td><td>Yersinia enterocolitica   </td><td>0.041891545</td><td>TP</td><td>(3,730 reads)</td></tr>\n",
       "\t<tr><td>1e-5 (3,730 reads)</td><td>Moraxella osloensis       </td><td>0.047031611</td><td>TP</td><td>(3,730 reads)</td></tr>\n",
       "\t<tr><td>1e-5 (3,730 reads)</td><td>Pasteurella multocida     </td><td>0.047802621</td><td>TP</td><td>(3,730 reads)</td></tr>\n",
       "\t<tr><td>1e-5 (3,730 reads)</td><td>Streptococcus pneumoniae  </td><td>0.044975585</td><td>TP</td><td>(3,730 reads)</td></tr>\n",
       "\t<tr><td>1e-5 (3,730 reads)</td><td>Staphylococcus epidermidis</td><td>0.039578515</td><td>TP</td><td>(3,730 reads)</td></tr>\n",
       "\t<tr><td>1e-5 (3,730 reads)</td><td>Actinomyces viscosus      </td><td>0.047802621</td><td>TP</td><td>(3,730 reads)</td></tr>\n",
       "\t<tr><td>1e-5 (3,730 reads)</td><td>Torque teno virus         </td><td>0.047802621</td><td>TP</td><td>(3,730 reads)</td></tr>\n",
       "\t<tr><td>1e-5 (3,730 reads)</td><td>Human betaherpesvirus 6A  </td><td>0.047545618</td><td>TP</td><td>(3,730 reads)</td></tr>\n",
       "\t<tr><td>1e-6 (370 reads)  </td><td>Candida albicans          </td><td>0.008691873</td><td>TP</td><td>(370 reads)  </td></tr>\n",
       "\t<tr><td>1e-6 (370 reads)  </td><td>Leclercia adecarboxylata  </td><td>0.006953498</td><td>TP</td><td>(370 reads)  </td></tr>\n",
       "\t<tr><td>1e-6 (370 reads)  </td><td>Yersinia enterocolitica   </td><td>0.006953498</td><td>TP</td><td>(370 reads)  </td></tr>\n",
       "\t<tr><td>1e-6 (370 reads)  </td><td>Moraxella osloensis       </td><td>0.007822686</td><td>TP</td><td>(370 reads)  </td></tr>\n",
       "\t<tr><td>1e-6 (370 reads)  </td><td>Pasteurella multocida     </td><td>0.007822686</td><td>TP</td><td>(370 reads)  </td></tr>\n",
       "\t<tr><td>1e-6 (370 reads)  </td><td>Streptococcus pneumoniae  </td><td>0.007388092</td><td>TP</td><td>(370 reads)  </td></tr>\n",
       "\t<tr><td>1e-6 (370 reads)  </td><td>Staphylococcus epidermidis</td><td>0.007388092</td><td>TP</td><td>(370 reads)  </td></tr>\n",
       "\t<tr><td>1e-6 (370 reads)  </td><td>Actinomyces viscosus      </td><td>0.007822686</td><td>TP</td><td>(370 reads)  </td></tr>\n",
       "\t<tr><td>1e-6 (370 reads)  </td><td>Torque teno virus         </td><td>0.007822686</td><td>TP</td><td>(370 reads)  </td></tr>\n",
       "\t<tr><td>1e-6 (370 reads)  </td><td>Human betaherpesvirus 6A  </td><td>0.007822686</td><td>TP</td><td>(370 reads)  </td></tr>\n",
       "</tbody>\n",
       "</table>\n"
      ],
      "text/latex": [
       "A tibble: 20 × 5\n",
       "\\begin{tabular}{lllll}\n",
       " sample & taxa & abundance & classification & microbial\\_reads\\\\\n",
       " <chr> & <fct> & <dbl> & <chr> & <chr>\\\\\n",
       "\\hline\n",
       "\t 1e-5 (3,730 reads) & Candida albicans           & 0.048316628 & TP & (3,730 reads)\\\\\n",
       "\t 1e-5 (3,730 reads) & Leclercia adecarboxylata   & 0.039321511 & TP & (3,730 reads)\\\\\n",
       "\t 1e-5 (3,730 reads) & Yersinia enterocolitica    & 0.041891545 & TP & (3,730 reads)\\\\\n",
       "\t 1e-5 (3,730 reads) & Moraxella osloensis        & 0.047031611 & TP & (3,730 reads)\\\\\n",
       "\t 1e-5 (3,730 reads) & Pasteurella multocida      & 0.047802621 & TP & (3,730 reads)\\\\\n",
       "\t 1e-5 (3,730 reads) & Streptococcus pneumoniae   & 0.044975585 & TP & (3,730 reads)\\\\\n",
       "\t 1e-5 (3,730 reads) & Staphylococcus epidermidis & 0.039578515 & TP & (3,730 reads)\\\\\n",
       "\t 1e-5 (3,730 reads) & Actinomyces viscosus       & 0.047802621 & TP & (3,730 reads)\\\\\n",
       "\t 1e-5 (3,730 reads) & Torque teno virus          & 0.047802621 & TP & (3,730 reads)\\\\\n",
       "\t 1e-5 (3,730 reads) & Human betaherpesvirus 6A   & 0.047545618 & TP & (3,730 reads)\\\\\n",
       "\t 1e-6 (370 reads)   & Candida albicans           & 0.008691873 & TP & (370 reads)  \\\\\n",
       "\t 1e-6 (370 reads)   & Leclercia adecarboxylata   & 0.006953498 & TP & (370 reads)  \\\\\n",
       "\t 1e-6 (370 reads)   & Yersinia enterocolitica    & 0.006953498 & TP & (370 reads)  \\\\\n",
       "\t 1e-6 (370 reads)   & Moraxella osloensis        & 0.007822686 & TP & (370 reads)  \\\\\n",
       "\t 1e-6 (370 reads)   & Pasteurella multocida      & 0.007822686 & TP & (370 reads)  \\\\\n",
       "\t 1e-6 (370 reads)   & Streptococcus pneumoniae   & 0.007388092 & TP & (370 reads)  \\\\\n",
       "\t 1e-6 (370 reads)   & Staphylococcus epidermidis & 0.007388092 & TP & (370 reads)  \\\\\n",
       "\t 1e-6 (370 reads)   & Actinomyces viscosus       & 0.007822686 & TP & (370 reads)  \\\\\n",
       "\t 1e-6 (370 reads)   & Torque teno virus          & 0.007822686 & TP & (370 reads)  \\\\\n",
       "\t 1e-6 (370 reads)   & Human betaherpesvirus 6A   & 0.007822686 & TP & (370 reads)  \\\\\n",
       "\\end{tabular}\n"
      ],
      "text/markdown": [
       "\n",
       "A tibble: 20 × 5\n",
       "\n",
       "| sample &lt;chr&gt; | taxa &lt;fct&gt; | abundance &lt;dbl&gt; | classification &lt;chr&gt; | microbial_reads &lt;chr&gt; |\n",
       "|---|---|---|---|---|\n",
       "| 1e-5 (3,730 reads) | Candida albicans           | 0.048316628 | TP | (3,730 reads) |\n",
       "| 1e-5 (3,730 reads) | Leclercia adecarboxylata   | 0.039321511 | TP | (3,730 reads) |\n",
       "| 1e-5 (3,730 reads) | Yersinia enterocolitica    | 0.041891545 | TP | (3,730 reads) |\n",
       "| 1e-5 (3,730 reads) | Moraxella osloensis        | 0.047031611 | TP | (3,730 reads) |\n",
       "| 1e-5 (3,730 reads) | Pasteurella multocida      | 0.047802621 | TP | (3,730 reads) |\n",
       "| 1e-5 (3,730 reads) | Streptococcus pneumoniae   | 0.044975585 | TP | (3,730 reads) |\n",
       "| 1e-5 (3,730 reads) | Staphylococcus epidermidis | 0.039578515 | TP | (3,730 reads) |\n",
       "| 1e-5 (3,730 reads) | Actinomyces viscosus       | 0.047802621 | TP | (3,730 reads) |\n",
       "| 1e-5 (3,730 reads) | Torque teno virus          | 0.047802621 | TP | (3,730 reads) |\n",
       "| 1e-5 (3,730 reads) | Human betaherpesvirus 6A   | 0.047545618 | TP | (3,730 reads) |\n",
       "| 1e-6 (370 reads)   | Candida albicans           | 0.008691873 | TP | (370 reads)   |\n",
       "| 1e-6 (370 reads)   | Leclercia adecarboxylata   | 0.006953498 | TP | (370 reads)   |\n",
       "| 1e-6 (370 reads)   | Yersinia enterocolitica    | 0.006953498 | TP | (370 reads)   |\n",
       "| 1e-6 (370 reads)   | Moraxella osloensis        | 0.007822686 | TP | (370 reads)   |\n",
       "| 1e-6 (370 reads)   | Pasteurella multocida      | 0.007822686 | TP | (370 reads)   |\n",
       "| 1e-6 (370 reads)   | Streptococcus pneumoniae   | 0.007388092 | TP | (370 reads)   |\n",
       "| 1e-6 (370 reads)   | Staphylococcus epidermidis | 0.007388092 | TP | (370 reads)   |\n",
       "| 1e-6 (370 reads)   | Actinomyces viscosus       | 0.007822686 | TP | (370 reads)   |\n",
       "| 1e-6 (370 reads)   | Torque teno virus          | 0.007822686 | TP | (370 reads)   |\n",
       "| 1e-6 (370 reads)   | Human betaherpesvirus 6A   | 0.007822686 | TP | (370 reads)   |\n",
       "\n"
      ],
      "text/plain": [
       "   sample             taxa                       abundance   classification\n",
       "1  1e-5 (3,730 reads) Candida albicans           0.048316628 TP            \n",
       "2  1e-5 (3,730 reads) Leclercia adecarboxylata   0.039321511 TP            \n",
       "3  1e-5 (3,730 reads) Yersinia enterocolitica    0.041891545 TP            \n",
       "4  1e-5 (3,730 reads) Moraxella osloensis        0.047031611 TP            \n",
       "5  1e-5 (3,730 reads) Pasteurella multocida      0.047802621 TP            \n",
       "6  1e-5 (3,730 reads) Streptococcus pneumoniae   0.044975585 TP            \n",
       "7  1e-5 (3,730 reads) Staphylococcus epidermidis 0.039578515 TP            \n",
       "8  1e-5 (3,730 reads) Actinomyces viscosus       0.047802621 TP            \n",
       "9  1e-5 (3,730 reads) Torque teno virus          0.047802621 TP            \n",
       "10 1e-5 (3,730 reads) Human betaherpesvirus 6A   0.047545618 TP            \n",
       "11 1e-6 (370 reads)   Candida albicans           0.008691873 TP            \n",
       "12 1e-6 (370 reads)   Leclercia adecarboxylata   0.006953498 TP            \n",
       "13 1e-6 (370 reads)   Yersinia enterocolitica    0.006953498 TP            \n",
       "14 1e-6 (370 reads)   Moraxella osloensis        0.007822686 TP            \n",
       "15 1e-6 (370 reads)   Pasteurella multocida      0.007822686 TP            \n",
       "16 1e-6 (370 reads)   Streptococcus pneumoniae   0.007388092 TP            \n",
       "17 1e-6 (370 reads)   Staphylococcus epidermidis 0.007388092 TP            \n",
       "18 1e-6 (370 reads)   Actinomyces viscosus       0.007822686 TP            \n",
       "19 1e-6 (370 reads)   Torque teno virus          0.007822686 TP            \n",
       "20 1e-6 (370 reads)   Human betaherpesvirus 6A   0.007822686 TP            \n",
       "   microbial_reads\n",
       "1  (3,730 reads)  \n",
       "2  (3,730 reads)  \n",
       "3  (3,730 reads)  \n",
       "4  (3,730 reads)  \n",
       "5  (3,730 reads)  \n",
       "6  (3,730 reads)  \n",
       "7  (3,730 reads)  \n",
       "8  (3,730 reads)  \n",
       "9  (3,730 reads)  \n",
       "10 (3,730 reads)  \n",
       "11 (370 reads)    \n",
       "12 (370 reads)    \n",
       "13 (370 reads)    \n",
       "14 (370 reads)    \n",
       "15 (370 reads)    \n",
       "16 (370 reads)    \n",
       "17 (370 reads)    \n",
       "18 (370 reads)    \n",
       "19 (370 reads)    \n",
       "20 (370 reads)    "
      ]
     },
     "metadata": {},
     "output_type": "display_data"
    }
   ],
   "source": [
    "parsed_sim_RA %>%\n",
    "    filter(abundance < 0.05, classification == \"TP\")"
   ]
  },
  {
   "cell_type": "markdown",
   "id": "d6822e0b",
   "metadata": {},
   "source": [
    "### Read counts for each microbial depth"
   ]
  },
  {
   "cell_type": "code",
   "execution_count": 19,
   "id": "819a290e",
   "metadata": {},
   "outputs": [],
   "source": [
    "plots <- foreach(sim_run = c(\"simulated.10e-3\", \"simulated.10e-4\", \"simulated.10e-5\", \"simulated.10e-6\")) %do% {\n",
    "    parsed_sim %>%\n",
    "        filter(sample == sim_run) %>%\n",
    "        ggplot(aes(x = taxa, y = read_count, fill = classification)) +\n",
    "        geom_bar(stat = \"identity\") +\n",
    "        labs(x = \"Taxa\", y = \"Reads assigned\", fill = \"Taxon classification\") +\n",
    "        theme(axis.text.x = element_text(angle = 45, hjust = 1)) +\n",
    "        facet_grid(cols = vars(sample))\n",
    "}"
   ]
  },
  {
   "cell_type": "code",
   "execution_count": 20,
   "id": "dc83899c",
   "metadata": {
    "scrolled": true
   },
   "outputs": [
    {
     "name": "stderr",
     "output_type": "stream",
     "text": [
      "ERROR while rich displaying an object: \u001b[1m\u001b[33mError\u001b[39m in \u001b[1m\u001b[1m\u001b[30m\u001b[47m`combine_vars()`\u001b[49m\u001b[39m:\u001b[22m\n",
      "\u001b[33m!\u001b[39m Faceting variables must have at least one value\n",
      "\n",
      "Traceback:\n",
      "1. FUN(X[[i]], ...)\n",
      "2. tryCatch(withCallingHandlers({\n",
      " .     if (!mime %in% names(repr::mime2repr)) \n",
      " .         stop(\"No repr_* for mimetype \", mime, \" in repr::mime2repr\")\n",
      " .     rpr <- repr::mime2repr[[mime]](obj)\n",
      " .     if (is.null(rpr)) \n",
      " .         return(NULL)\n",
      " .     prepare_content(is.raw(rpr), rpr)\n",
      " . }, error = error_handler), error = outer_handler)\n",
      "3. tryCatchList(expr, classes, parentenv, handlers)\n",
      "4. tryCatchOne(expr, names, parentenv, handlers[[1L]])\n",
      "5. doTryCatch(return(expr), name, parentenv, handler)\n",
      "6. withCallingHandlers({\n",
      " .     if (!mime %in% names(repr::mime2repr)) \n",
      " .         stop(\"No repr_* for mimetype \", mime, \" in repr::mime2repr\")\n",
      " .     rpr <- repr::mime2repr[[mime]](obj)\n",
      " .     if (is.null(rpr)) \n",
      " .         return(NULL)\n",
      " .     prepare_content(is.raw(rpr), rpr)\n",
      " . }, error = error_handler)\n",
      "7. repr::mime2repr[[mime]](obj)\n",
      "8. repr_text.default(obj)\n",
      "9. paste(capture.output(print(obj)), collapse = \"\\n\")\n",
      "10. capture.output(print(obj))\n",
      "11. withVisible(...elt(i))\n",
      "12. print(obj)\n",
      "13. print.default(obj)\n",
      "14. (function (x, ...) \n",
      "  . UseMethod(\"print\"))(x)\n",
      "15. print.ggplot(x)\n",
      "16. ggplot_build(x)\n",
      "17. ggplot_build.ggplot(x)\n",
      "18. layout$setup(data, plot$data, plot$plot_env)\n",
      "19. f(..., self = self)\n",
      "20. self$facet$compute_layout(data, self$facet_params)\n",
      "21. f(...)\n",
      "22. combine_vars(data, params$plot_env, cols, drop = params$drop)\n",
      "23. abort(\"Faceting variables must have at least one value\")\n",
      "24. signal_abort(cnd, .file)\n"
     ]
    },
    {
     "data": {
      "image/png": "[encoded data removed]",
      "text/plain": [
       "plot without title"
      ]
     },
     "metadata": {
      "image/png": {
       "height": 420,
       "width": 420
      }
     },
     "output_type": "display_data"
    }
   ],
   "source": [
    "plots"
   ]
  }
 ],
 "metadata": {
  "kernelspec": {
   "display_name": "R",
   "language": "R",
   "name": "ir"
  },
  "language_info": {
   "codemirror_mode": "r",
   "file_extension": ".r",
   "mimetype": "text/x-r-source",
   "name": "R",
   "pygments_lexer": "r",
   "version": "4.1.0"
  }
 },
 "nbformat": 4,
 "nbformat_minor": 5
}
