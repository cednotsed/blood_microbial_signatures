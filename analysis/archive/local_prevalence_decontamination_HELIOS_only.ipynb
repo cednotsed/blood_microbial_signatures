{
 "cells": [
  {
   "cell_type": "markdown",
   "id": "fe3f3f5c",
   "metadata": {},
   "source": [
    "# Identication of putative contaminant taxa"
   ]
  },
  {
   "cell_type": "code",
   "execution_count": 1,
   "id": "440f3650",
   "metadata": {
    "scrolled": true
   },
   "outputs": [
    {
     "name": "stderr",
     "output_type": "stream",
     "text": [
      "Loading required package: foreach\n",
      "\n",
      "Loading required package: tidyverse\n",
      "\n",
      "Warning message in system(\"timedatectl\", intern = TRUE):\n",
      "“running command 'timedatectl' had status 1”\n",
      "── \u001b[1mAttaching packages\u001b[22m ─────────────────────────────────────────────────────────────────────────────── tidyverse 1.3.1 ──\n",
      "\n",
      "\u001b[32m✔\u001b[39m \u001b[34mggplot2\u001b[39m 3.3.5     \u001b[32m✔\u001b[39m \u001b[34mpurrr  \u001b[39m 0.3.4\n",
      "\u001b[32m✔\u001b[39m \u001b[34mtibble \u001b[39m 3.1.3     \u001b[32m✔\u001b[39m \u001b[34mdplyr  \u001b[39m 1.0.7\n",
      "\u001b[32m✔\u001b[39m \u001b[34mtidyr  \u001b[39m 1.1.3     \u001b[32m✔\u001b[39m \u001b[34mstringr\u001b[39m 1.4.0\n",
      "\u001b[32m✔\u001b[39m \u001b[34mreadr  \u001b[39m 2.0.1     \u001b[32m✔\u001b[39m \u001b[34mforcats\u001b[39m 0.5.1\n",
      "\n",
      "── \u001b[1mConflicts\u001b[22m ────────────────────────────────────────────────────────────────────────────────── tidyverse_conflicts() ──\n",
      "\u001b[31m✖\u001b[39m \u001b[34mpurrr\u001b[39m::\u001b[32maccumulate()\u001b[39m masks \u001b[34mforeach\u001b[39m::accumulate()\n",
      "\u001b[31m✖\u001b[39m \u001b[34mdplyr\u001b[39m::\u001b[32mfilter()\u001b[39m     masks \u001b[34mstats\u001b[39m::filter()\n",
      "\u001b[31m✖\u001b[39m \u001b[34mdplyr\u001b[39m::\u001b[32mlag()\u001b[39m        masks \u001b[34mstats\u001b[39m::lag()\n",
      "\u001b[31m✖\u001b[39m \u001b[34mpurrr\u001b[39m::\u001b[32mwhen()\u001b[39m       masks \u001b[34mforeach\u001b[39m::when()\n",
      "\n",
      "Loading required package: data.table\n",
      "\n",
      "\n",
      "Attaching package: ‘data.table’\n",
      "\n",
      "\n",
      "The following objects are masked from ‘package:dplyr’:\n",
      "\n",
      "    between, first, last\n",
      "\n",
      "\n",
      "The following object is masked from ‘package:purrr’:\n",
      "\n",
      "    transpose\n",
      "\n",
      "\n"
     ]
    }
   ],
   "source": [
    "setwd(\"/mnt/c/Users/Cedric/Desktop/git_repos/blood_microbiome\")\n",
    "require(foreach)\n",
    "require(tidyverse)\n",
    "require(ggplot2)\n",
    "require(data.table)"
   ]
  },
  {
   "cell_type": "code",
   "execution_count": 2,
   "id": "4b5109a4",
   "metadata": {
    "scrolled": true
   },
   "outputs": [],
   "source": [
    "load_data <- function(file_path) {\n",
    "    df <- as.data.frame(fread(file_path)) %>%\n",
    "        separate(sample, into = c(NA, \"npm_research_id\"), sep = \"\\\\.\")\n",
    "    return(df)\n",
    "}\n",
    "\n",
    "\n",
    "load_metadata <- function(file_path, df) {\n",
    "    meta <- fread(file_path, na.strings=c(\"\", NA))\n",
    "    meta <- meta %>% \n",
    "        filter(npm_research_id %in% df$npm_research_id) %>%\n",
    "        select(-removal_requested_by_supplier) %>%\n",
    "        replace(is.na(.), \"unknown\")\n",
    "    return(meta)\n",
    "}\n",
    "\n",
    "\n",
    "subset_metadata <- function(meta, n_subset) {\n",
    "    meta <- as.data.frame(meta)\n",
    "    cohorts <- unique(meta$site_supplying_sample)\n",
    "    subset_vec <- c()\n",
    "\n",
    "    for (i in cohorts) {\n",
    "        ids <- meta$npm_research_id[meta$site_supplying_sample == i]\n",
    "        \n",
    "        if (length(ids) > n_subset) {\n",
    "            subset_ids <- sample(ids, n_subset)\n",
    "            subset_vec <- c(subset_vec, subset_ids)\n",
    "        } else {\n",
    "            subset_vec <- c(subset_vec, ids)\n",
    "        }\n",
    "    }\n",
    "\n",
    "    meta_sub <- meta %>%\n",
    "      filter(npm_research_id %in% subset_vec) \n",
    "    return(meta_sub)\n",
    "}\n",
    "\n",
    "\n",
    "retrieve_rows_from_meta <- function(df, meta) {\n",
    "    return(df %>% filter(npm_research_id %in% meta$npm_research_id)) \n",
    "}\n",
    "\n",
    "\n",
    "remove_cols <- function(df, col_to_exclude) {\n",
    "    return(df %>% select(-all_of(col_to_exclude)))\n",
    "}\n",
    "\n",
    "\n",
    "remove_low_freq_taxa <- function(df, frac_presence) {\n",
    "    n_original <- ncol(df[, colnames(df) != \"npm_research_id\"])\n",
    "    PA_df <- apply(df[, 2:ncol(df)], 2, function(x) {ifelse(x > 0, T, F)})\n",
    "    frac_df <- apply(PA_df, 2, function(x) {sum(x) / nrow(PA_df)})\n",
    "    to_keep <- names(frac_df[frac_df > frac_presence])\n",
    "    to_keep <- c(\"npm_research_id\", to_keep)\n",
    "    n_new <- length(to_keep) - 1\n",
    "    print(str_glue(\"{n_new} / {n_original} taxa are present in {frac_presence} of samples\"))\n",
    "    return(df %>% select(all_of(to_keep)))\n",
    "}\n",
    "\n",
    "\n",
    "otu_to_RA <- function(df) {\n",
    "    RA_df <- as.data.frame(t(apply(df[, colnames(df) != \"npm_research_id\"], 1, function(x) {x / sum(x)})))\n",
    "    RA_df <- cbind(df[, colnames(df) == \"npm_research_id\"], RA_df)\n",
    "    colnames(RA_df)[1] <- \"npm_research_id\"\n",
    "    \n",
    "    return(as.data.frame(RA_df))\n",
    "}\n",
    "\n",
    "\n",
    "get_metadata_plots <- function(meta, meta_cols) {\n",
    "    meta <- as.matrix(meta)\n",
    "    meta <- as_tibble(meta, rownames = \"sample\")\n",
    "\n",
    "    plots <- list()\n",
    "    \n",
    "    for (column in meta_cols) {\n",
    "        plt <- meta %>%\n",
    "            mutate(across(everything(), as.character)) %>%\n",
    "            select(all_of(column)) %>%\n",
    "            group_by_at(column) %>%\n",
    "            summarise(n = n()) %>%\n",
    "            ggplot(aes_string(x = column, y = \"n\", fill = column)) +\n",
    "                geom_bar(stat = \"identity\") +\n",
    "                theme(axis.text.x = element_text(angle = 45, hjust = 1)) +\n",
    "                geom_text(aes_string(label = \"n\"))\n",
    "        plots[[column]] <- plt\n",
    "    }\n",
    "    \n",
    "    return(plots)\n",
    "}\n",
    "\n",
    "\n",
    "get_meta_cols <- function(meta) {\n",
    "    meta_cols <- colnames(meta)[grep(\"kit|flow_cell|instrument_id\", colnames(meta))]\n",
    "    to_exclude <- c(\"library_prep_kit\", \"hiseq_xtm_flow_cell_v2_5_id\")\n",
    "    meta_cols <- meta_cols[!(meta_cols %in% to_exclude)]\n",
    "    return(meta_cols)\n",
    "}\n",
    "\n",
    "\n",
    "print_group_freqs <- function(meta, meta_cols) {\n",
    "    for (col in meta_cols) {\n",
    "        tmp <- tibble(data.frame(meta)) %>%\n",
    "            group_by(get(col)) %>%\n",
    "            summarise(n = n())\n",
    "        print(col)\n",
    "        print(tmp)\n",
    "    }\n",
    "}\n",
    "\n",
    "\n",
    "get_batch_prevalence <- function(x) {sum(x) / length(x)}\n",
    "\n",
    "\n",
    "remove_low_read_samples <- function(df) {\n",
    "    to_retain <- fread(\"data/samples_above_10_reads.txt\")$npm_research_id\n",
    "    return(df %>% filter(npm_research_id %in% to_retain))\n",
    "}\n",
    "\n",
    "\n",
    "remove_empty_rows <- function(df) {\n",
    "    df_filt <- df %>% \n",
    "        rowwise(npm_research_id) %>% \n",
    "        mutate(total = sum(across(everything()))) %>%\n",
    "        filter(total != 0) %>%\n",
    "        select(-total)\n",
    "    \n",
    "    n_original <- nrow(df)\n",
    "    n_removed <- n_original - nrow(df_filt)\n",
    "    \n",
    "    print(str_glue(\"{n_removed}/{n_original} samples removed due to having no reads of interest\"))\n",
    "    \n",
    "    return(as.data.frame(df_filt))\n",
    "}"
   ]
  },
  {
   "cell_type": "markdown",
   "id": "363b9d21",
   "metadata": {},
   "source": [
    "#### Test for differential prevalence"
   ]
  },
  {
   "cell_type": "code",
   "execution_count": 3,
   "id": "2393d8ca",
   "metadata": {
    "scrolled": true
   },
   "outputs": [],
   "source": [
    "run_diff_prev <- function(dat, metadat, meta_cols, read_threshold, prev_threshold, min_samples) {\n",
    "    morsels <- foreach (column = meta_cols) %do% {\n",
    "        print(column)\n",
    "        # Remove levels with < x samples\n",
    "        tmp <- tibble(data.frame(metadat)) %>%\n",
    "                group_by(get(column)) %>%\n",
    "                summarise(n = n())\n",
    "\n",
    "        # Vector of group levels to keep\n",
    "        to_keep <- tmp[tmp$n >= min_samples, \"get(column)\"]$`get(column)`\n",
    "        to_keep <- to_keep[to_keep != \"Unknown\"]\n",
    "        n_levels <- length(to_keep)\n",
    "\n",
    "        if (n_levels < 2) {\n",
    "            print(str_glue(\"After pruning, {column} has < 2 levels\"))\n",
    "        } else {\n",
    "            print(str_glue(\"After pruning, {column} has {n_levels} levels\"))\n",
    "        }\n",
    "\n",
    "        # Remove rows in metadata\n",
    "        metadat_filt <- metadat %>% filter(get(column) %in% to_keep)\n",
    "\n",
    "        # Retrieve rows\n",
    "        dat_filt <- retrieve_rows_from_meta(dat, metadat_filt)\n",
    "        metadat_filt <- metadat_filt %>% filter(npm_research_id %in% dat_filt$npm_research_id)\n",
    "\n",
    "        # Convert abundance table to presence absence table\n",
    "        prev_filt <- dat_filt[, colnames(dat_filt) != \"npm_research_id\"]\n",
    "        prev_filt[prev_filt < read_threshold] <- 0\n",
    "        prev_filt[prev_filt >= read_threshold] <- 1\n",
    "        prev_filt$npm_research_id <- dat_filt$npm_research_id\n",
    "        \n",
    "        taxa_vec <- colnames(prev_filt)\n",
    "        taxa_vec <- taxa_vec[taxa_vec != \"npm_research_id\"]\n",
    "\n",
    "        crumbs <- foreach (taxon = taxa_vec) %do% {\n",
    "            prev_stats <- prev_filt %>% \n",
    "                left_join(metadat_filt, by = \"npm_research_id\") %>%\n",
    "                group_by_at(c(column)) %>%\n",
    "                summarise(sum = sum(get(taxon))) %>%\n",
    "                mutate(batch_n = as.vector(table(metadat_filt[, column])),\n",
    "                       prevalence = sum / as.vector(table(metadat_filt[, column])))\n",
    "\n",
    "            max_prev <- max(prev_stats$prevalence)\n",
    "            min_prev <- min(prev_stats$prevalence)\n",
    "            fold_diff <- max_prev / min_prev\n",
    "            max_level <- pull(prev_stats, column)[which(prev_stats$prevalence == max(prev_stats$prevalence))][1]\n",
    "            min_level <- pull(prev_stats, column)[which(prev_stats$prevalence == min(prev_stats$prevalence))][1]\n",
    "            diff_prev <- ifelse(fold_diff > prev_threshold, T, F)\n",
    "\n",
    "            crumb <- tibble(taxa = taxon, meta_col = column,\n",
    "                   max_level = max_level, min_level = min_level, \n",
    "                   max_prev = max_prev, min_prev = min_prev,\n",
    "                   fold_diff = fold_diff,\n",
    "                   diff_prev = diff_prev)\n",
    "            \n",
    "            crumb <- distinct(crumb, taxa, .keep_all = T)\n",
    "\n",
    "            return(crumb)\n",
    "        }\n",
    "        \n",
    "        morsel <- bind_rows(crumbs)\n",
    "        return(morsel)\n",
    "    }\n",
    "\n",
    "    result_df <- bind_rows(morsels)\n",
    "    return(result_df)\n",
    "}"
   ]
  },
  {
   "cell_type": "markdown",
   "id": "94d384b2",
   "metadata": {},
   "source": [
    "#### Diff. prevalence decontamination procedure"
   ]
  },
  {
   "cell_type": "code",
   "execution_count": 4,
   "id": "60431428",
   "metadata": {
    "scrolled": true
   },
   "outputs": [],
   "source": [
    "decontaminate <- function(rank, n_subset, n, human, read_threshold) {\n",
    "    # Load data and remove low microbial read samples\n",
    "    to_retain <- fread(\"data/samples_above_95_reads.txt\")$npm_research_id\n",
    "    df <- load_data(str_glue(\"data/temp_files_{n_subset}/07_abundance_matrix/abundance_matrix.subset_{n_subset}.{rank}.tsv\")) %>% \n",
    "        filter(npm_research_id %in% to_retain)\n",
    "    meta <- load_metadata(\"data/SG10K_Health_metadata.n10714.16March2021.parsed.csv\", df) %>%\n",
    "        filter(npm_research_id %in% to_retain, site_supplying_sample == \"HELIOS\")\n",
    "    \n",
    "    # Get metadata subset\n",
    "    meta_filt <- subset_metadata(meta, n)\n",
    "\n",
    "    # Filter data\n",
    "    df_filt <- retrieve_rows_from_meta(df, meta_filt)\n",
    "    df_filt2 <- remove_cols(df_filt, c(human, \"unclassified\"))\n",
    "    df_filt3 <- remove_low_freq_taxa(df_filt2, frac_presence = 0.05)\n",
    "    df_filt4 <- remove_empty_rows(df_filt3)\n",
    "    df_filt4 <- otu_to_RA(df_filt4)\n",
    "\n",
    "    # Get metadata columns of interest\n",
    "    meta_cols <- get_meta_cols(meta_filt)\n",
    "    \n",
    "#     # Print group freqs\n",
    "#     print_group_freqs(meta_filt, meta_cols)\n",
    "    \n",
    "    # Differential prevalence\n",
    "    res <- run_diff_prev(df_filt4, meta_filt, meta_cols, read_threshold = read_threshold, prev_threshold = 2 , min_samples = 5)\n",
    "    \n",
    "    return(res)\n",
    "}\n",
    "\n",
    "\n",
    "parse_decontamination_results <- function(decontam_res) {\n",
    "    non_contaminants <- decontam_res %>%     \n",
    "        group_by(taxa) %>%\n",
    "        summarise(n_diff = sum(diff_prev)) %>%\n",
    "        filter(n_diff == 0)\n",
    "    non_contaminants <- non_contaminants$taxa\n",
    "\n",
    "    contaminants <- decontam_res %>%\n",
    "        group_by(taxa) %>%\n",
    "        summarise(n_diff = sum(diff_prev)) %>%\n",
    "        filter(n_diff > 0)\n",
    "    contaminants <- contaminants$taxa\n",
    "    \n",
    "    return(list(non_contaminants = non_contaminants, contaminants = contaminants))\n",
    "}\n"
   ]
  },
  {
   "cell_type": "code",
   "execution_count": 5,
   "id": "72df1525",
   "metadata": {
    "scrolled": true
   },
   "outputs": [
    {
     "name": "stdout",
     "output_type": "stream",
     "text": [
      "600 / 1492 taxa are present in 0.05 of samples\n",
      "0/2285 samples removed due to having no reads of interest\n",
      "[1] \"extraction_kit\"\n",
      "After pruning, extraction_kit has < 2 levels\n",
      "[1] \"instrument_id\"\n",
      "After pruning, instrument_id has 5 levels\n",
      "[1] \"hiseq_xtm_sbs_kit_300_cycles_v2__box_1of_2__lot\"\n",
      "After pruning, hiseq_xtm_sbs_kit_300_cycles_v2__box_1of_2__lot has 15 levels\n",
      "[1] \"hiseq_xtm_sbs_kit_300_cycles_v2__box_2_of_2__lot\"\n",
      "After pruning, hiseq_xtm_sbs_kit_300_cycles_v2__box_2_of_2__lot has 17 levels\n",
      "[1] \"hiseq_xtm_pe_cluster_kit_cbottm_v2__box_1_of_2__lot\"\n",
      "After pruning, hiseq_xtm_pe_cluster_kit_cbottm_v2__box_1_of_2__lot has 14 levels\n",
      "[1] \"hiseq_xtm_pe_cluster_kit_cbottm_v2__box_2_of_2__lot\"\n",
      "After pruning, hiseq_xtm_pe_cluster_kit_cbottm_v2__box_2_of_2__lot has 13 levels\n",
      "[1] \"hiseq_xtm_flow_cell_v2_5_lot\"\n",
      "After pruning, hiseq_xtm_flow_cell_v2_5_lot has 15 levels\n",
      "1665 / 5199 taxa are present in 0.05 of samples\n",
      "0/2285 samples removed due to having no reads of interest\n",
      "[1] \"extraction_kit\"\n",
      "After pruning, extraction_kit has < 2 levels\n",
      "[1] \"instrument_id\"\n",
      "After pruning, instrument_id has 5 levels\n",
      "[1] \"hiseq_xtm_sbs_kit_300_cycles_v2__box_1of_2__lot\"\n",
      "After pruning, hiseq_xtm_sbs_kit_300_cycles_v2__box_1of_2__lot has 15 levels\n",
      "[1] \"hiseq_xtm_sbs_kit_300_cycles_v2__box_2_of_2__lot\"\n",
      "After pruning, hiseq_xtm_sbs_kit_300_cycles_v2__box_2_of_2__lot has 17 levels\n",
      "[1] \"hiseq_xtm_pe_cluster_kit_cbottm_v2__box_1_of_2__lot\"\n",
      "After pruning, hiseq_xtm_pe_cluster_kit_cbottm_v2__box_1_of_2__lot has 14 levels\n",
      "[1] \"hiseq_xtm_pe_cluster_kit_cbottm_v2__box_2_of_2__lot\"\n",
      "After pruning, hiseq_xtm_pe_cluster_kit_cbottm_v2__box_2_of_2__lot has 13 levels\n",
      "[1] \"hiseq_xtm_flow_cell_v2_5_lot\"\n",
      "After pruning, hiseq_xtm_flow_cell_v2_5_lot has 15 levels\n"
     ]
    }
   ],
   "source": [
    "full_genus_df <- decontaminate(\"G\", 9999, 9999, \"Homo\", 0.001)\n",
    "full_genus_res <- parse_decontamination_results(full_genus_df)\n",
    "fwrite(full_genus_df, str_glue(\"results/decontamination/diff_prev_raw/diff_prev_results.9999.G.HELIOS.RA.csv\"))\n",
    "\n",
    "full_species_df <- decontaminate(\"S\", 9999, 9999, \"Homo sapiens\", 0.001)\n",
    "full_species_res <- parse_decontamination_results(full_species_df)\n",
    "fwrite(full_species_df, str_glue(\"results/decontamination/diff_prev_raw/diff_prev_results.9999.S.HELIOS.RA.csv\"))\n",
    "\n",
    "fwrite(tibble(non_contaminants = full_genus_res[[\"non_contaminants\"]]), str_glue(\"results/decontamination/prevalence.noncontam.G.HELIOS.n9999.RA.txt\"))\n",
    "fwrite(tibble(contaminants = full_genus_res[[\"contaminants\"]]), str_glue(\"results/decontamination/prevalence.contam.G.n9999.RA.txt\"))\n",
    "\n",
    "fwrite(tibble(non_contaminants = full_species_res[[\"non_contaminants\"]]), str_glue(\"results/decontamination/prevalence.noncontam.S.HELIOS.n9999.RA.txt\"))\n",
    "fwrite(tibble(contaminants = full_species_res[[\"contaminants\"]]), str_glue(\"results/decontamination/prevalence.contam.S.HELIOS.n9999.RA.txt\"))\n"
   ]
  },
  {
   "cell_type": "markdown",
   "id": "56859020",
   "metadata": {},
   "source": [
    "### Correlation filter"
   ]
  },
  {
   "cell_type": "code",
   "execution_count": null,
   "id": "947c6d33",
   "metadata": {},
   "outputs": [],
   "source": [
    "load_parse_RA <- function(n_subset, rank, human) {\n",
    "    # Load data\n",
    "    to_retain <- fread(\"data/samples_above_95_reads.txt\")$npm_research_id\n",
    "    df <- load_data(str_glue(\"data/temp_files_{n_subset}/07_abundance_matrix/abundance_matrix.subset_{n_subset}.{rank}.tsv\")) %>% \n",
    "        filter(npm_research_id %in% to_retain)\n",
    "    meta <- load_metadata(\"data/SG10K_Health_metadata.n10714.16March2021.parsed.csv\", df)\n",
    "    \n",
    "    # Get metadata subset\n",
    "    meta_filt <- subset_metadata(meta, 9999)\n",
    "\n",
    "    # Filter data\n",
    "    df_filt <- retrieve_rows_from_meta(df, meta_filt)\n",
    "    df_filt2 <- remove_cols(df_filt, c(human, \"unclassified\"))\n",
    "    df_filt3 <- remove_low_freq_taxa(df_filt2, frac_presence = 0.05)\n",
    "    df_filt4 <- remove_empty_rows(df_filt3)\n",
    "    print(ncol(df_filt4))\n",
    "    RA_df <- otu_to_RA(df_filt4)\n",
    "    \n",
    "    return(RA_df)\n",
    "}"
   ]
  },
  {
   "cell_type": "code",
   "execution_count": 7,
   "id": "018d208e",
   "metadata": {
    "scrolled": true
   },
   "outputs": [],
   "source": [
    "corr_decontam <- function(RA_df, non_contaminants, contaminants) {\n",
    "    nc_list <- foreach (non_contaminant_taxon = non_contaminants) %do% {\n",
    "        morsel <- tibble()\n",
    "        for (contaminant_taxon in contaminants) {\n",
    "            spearman_test <- cor.test(RA_df[ ,contaminant_taxon], RA_df[, non_contaminant_taxon])\n",
    "            rho <- spearman_test$estimate\n",
    "#             p_val <- spearman_test$p.value\n",
    "#             p_adj <- p.adjust(p_val, method = \"BH\", n = length(length(non_contaminants) * length(contaminants)))\n",
    "    #         print(str_glue(\"{non_contaminant_taxon} has correlation of {rho} with {contaminant_taxon}, p = {p_adj}\"))\n",
    "            morsel <- morsel %>% bind_rows(tibble(non_contaminant_taxon = non_contaminant_taxon, \n",
    "                                           contaminant_taxon = contaminant_taxon,\n",
    "                                           rho = rho))\n",
    "        }\n",
    "\n",
    "        return(morsel)\n",
    "    }\n",
    "\n",
    "    corr_df <- bind_rows(nc_list)  \n",
    "    return(corr_df)\n",
    "}"
   ]
  },
  {
   "cell_type": "code",
   "execution_count": null,
   "id": "7bb142a9",
   "metadata": {
    "scrolled": false
   },
   "outputs": [],
   "source": [
    "species_RA <- load_parse_RA(9999, \"S\", \"Homo sapiens\")\n",
    "genus_RA <- load_parse_RA(9999, \"G\", \"Homo\")"
   ]
  },
  {
   "cell_type": "code",
   "execution_count": 6,
   "id": "c2960354",
   "metadata": {},
   "outputs": [],
   "source": [
    "genus_c <- full_genus_res[[\"contaminants\"]]\n",
    "genus_nc <- full_genus_res[[\"non_contaminants\"]]\n",
    "\n",
    "species_c <- full_species_res[[\"contaminants\"]]\n",
    "species_nc <- full_species_res[[\"non_contaminants\"]]\n",
    "\n",
    "# species_corr <- corr_decontam(species_RA, species_nc, species_c)\n",
    "# genus_corr <- corr_decontam(genus_RA, genus_nc, genus_c)"
   ]
  },
  {
   "cell_type": "code",
   "execution_count": 10,
   "id": "03a60c1e",
   "metadata": {},
   "outputs": [
    {
     "data": {
      "text/html": [
       "<style>\n",
       ".list-inline {list-style: none; margin:0; padding: 0}\n",
       ".list-inline>li {display: inline-block}\n",
       ".list-inline>li:not(:last-child)::after {content: \"\\00b7\"; padding: 0 .5ex}\n",
       "</style>\n",
       "<ol class=list-inline><li>'Alcaligenes aquatilis'</li><li>'Alcaligenes faecalis'</li><li>'Sphingomonas melonis'</li></ol>\n"
      ],
      "text/latex": [
       "\\begin{enumerate*}\n",
       "\\item 'Alcaligenes aquatilis'\n",
       "\\item 'Alcaligenes faecalis'\n",
       "\\item 'Sphingomonas melonis'\n",
       "\\end{enumerate*}\n"
      ],
      "text/markdown": [
       "1. 'Alcaligenes aquatilis'\n",
       "2. 'Alcaligenes faecalis'\n",
       "3. 'Sphingomonas melonis'\n",
       "\n",
       "\n"
      ],
      "text/plain": [
       "[1] \"Alcaligenes aquatilis\" \"Alcaligenes faecalis\"  \"Sphingomonas melonis\" "
      ]
     },
     "metadata": {},
     "output_type": "display_data"
    }
   ],
   "source": [
    "species_nc"
   ]
  },
  {
   "cell_type": "code",
   "execution_count": null,
   "id": "7896f157",
   "metadata": {},
   "outputs": [],
   "source": [
    "genus_n_nc <- length(genus_nc)\n",
    "species_n_nc <- length(species_nc)\n",
    "\n",
    "print(str_glue(\"{genus_n_nc}/{ncol(genus_RA)} genus after differential prevalence decontamination\"))\n",
    "print(str_glue(\"{species_n_nc}/{ncol(species_RA)} species after differential prevalence decontamination\"))"
   ]
  },
  {
   "cell_type": "markdown",
   "id": "e5427dec",
   "metadata": {},
   "source": [
    "#### Visualise number of taxa retained by correlation threshold"
   ]
  },
  {
   "cell_type": "code",
   "execution_count": null,
   "id": "64929e96",
   "metadata": {
    "scrolled": true
   },
   "outputs": [],
   "source": [
    "get_corr_dist <- function(corr_df, non_contaminants) {\n",
    "    rho_df <- tibble()\n",
    "    for (i in seq(0, 1, 0.05)) {\n",
    "        filtered_corr <- corr_df %>% \n",
    "            filter(rho > i)\n",
    "\n",
    "        n_retained <- length(non_contaminants) - length(unique(filtered_corr$non_contaminant_taxon))\n",
    "        morsel <- tibble(rho = i, n_retained = n_retained)\n",
    "        rho_df <- rho_df %>% bind_rows(morsel)\n",
    "    }\n",
    "    \n",
    "    rho_plt <- rho_df %>%\n",
    "        ggplot(aes(x = rho, y = n_retained)) +\n",
    "        geom_point() +\n",
    "        labs(y = \"No. of taxa retained\", x = \"Rho threshold\")\n",
    "    print(rho_plt)\n",
    "    return(rho_df)\n",
    "}"
   ]
  },
  {
   "cell_type": "markdown",
   "id": "e2465266",
   "metadata": {},
   "source": [
    "#### Save contaminant and non-contaminant taxa"
   ]
  },
  {
   "cell_type": "code",
   "execution_count": null,
   "id": "70787f70",
   "metadata": {},
   "outputs": [],
   "source": [
    "get_filtered_taxa <- function(corr_df, nc, corr_t) {\n",
    "    to_remove <- corr_df %>% \n",
    "        filter(rho > corr_t) %>%\n",
    "        distinct(non_contaminant_taxon) %>%\n",
    "        rename(to_remove = non_contaminant_taxon)\n",
    "    to_keep <- tibble(non_contaminants = nc) %>% \n",
    "        filter(!(non_contaminants %in% to_remove$to_remove))\n",
    "    return(list(to_remove = to_remove, to_keep = to_keep))\n",
    "}"
   ]
  },
  {
   "cell_type": "code",
   "execution_count": null,
   "id": "12ea1f01",
   "metadata": {},
   "outputs": [],
   "source": [
    "corr_t <- 0.7\n",
    "species_corr_res <- get_filtered_taxa(species_corr, species_nc, corr_t)\n",
    "genus_corr_res <- get_filtered_taxa(genus_corr, genus_nc, corr_t)\n",
    "\n",
    "species_corr_res\n",
    "genus_corr_res"
   ]
  },
  {
   "cell_type": "code",
   "execution_count": null,
   "id": "e478d7ff",
   "metadata": {},
   "outputs": [],
   "source": [
    "fwrite(species_corr_res[[\"to_keep\"]], \n",
    "       str_glue(\"results/decontamination/prevalence.corr.noncontam.S.n9999.RA.txt\"))\n",
    "fwrite(species_corr_res[[\"to_remove\"]], \n",
    "       str_glue(\"results/decontamination/prevalence.corr.contam.S.n9999.RA.txt\"))\n",
    "\n",
    "fwrite(genus_corr_res[[\"to_keep\"]], \n",
    "       str_glue(\"results/decontamination/prevalence.corr.noncontam.G.n9999.RA.txt\"))\n",
    "fwrite(genus_corr_res[[\"to_remove\"]], \n",
    "       str_glue(\"results/decontamination/prevalence.corr.contam.G.n9999.RA.txt\"))"
   ]
  },
  {
   "cell_type": "code",
   "execution_count": null,
   "id": "9f89c50f",
   "metadata": {},
   "outputs": [],
   "source": [
    "genus_corr_res[[\"to_keep\"]]\n",
    "species_corr_res[[\"to_keep\"]]"
   ]
  },
  {
   "cell_type": "markdown",
   "id": "d3f4c8c7",
   "metadata": {},
   "source": [
    "### Identify RA thresholds"
   ]
  },
  {
   "cell_type": "code",
   "execution_count": null,
   "id": "6fe97460",
   "metadata": {},
   "outputs": [],
   "source": [
    "long_RA <- species_RA %>%\n",
    "    pivot_longer(!npm_research_id, names_to = \"taxon\", values_to = \"rel_a\") "
   ]
  },
  {
   "cell_type": "markdown",
   "id": "264bd43d",
   "metadata": {},
   "source": [
    "#### RA thresholds ~ percentile"
   ]
  },
  {
   "cell_type": "code",
   "execution_count": null,
   "id": "340192c6",
   "metadata": {},
   "outputs": [],
   "source": [
    "quantiles <- foreach (perc = seq(73, 100, 0.5)) %do% {\n",
    "    quant <- quantile(long_RA$rel_a, perc / 100)\n",
    "    return(tibble(perc = perc, quant = quant))\n",
    "}\n",
    "\n",
    "q_df <- bind_rows(quantiles)"
   ]
  },
  {
   "cell_type": "code",
   "execution_count": null,
   "id": "ba79cb45",
   "metadata": {},
   "outputs": [],
   "source": [
    "q_df %>%\n",
    "    ggplot(aes(x = perc, y = log(quant, base = 10))) +\n",
    "    geom_line()"
   ]
  },
  {
   "cell_type": "code",
   "execution_count": null,
   "id": "65a3fe83",
   "metadata": {},
   "outputs": [],
   "source": [
    "length(full_genus_res[[\"non_contaminants\"]])"
   ]
  },
  {
   "cell_type": "code",
   "execution_count": null,
   "id": "fb7b3e81",
   "metadata": {},
   "outputs": [],
   "source": [
    "threshold_df <- tibble()\n",
    "for (perc in seq(73, 100, 0.5)) {\n",
    "    read_threshold <- quantile(long_RA$rel_a, perc / 100)\n",
    "    full_species_df <- decontaminate(\"S\", 9999, 9999, \"Homo sapiens\", read_threshold = read_threshold)\n",
    "    full_species_res <- parse_decontamination_results(full_species_df)\n",
    "    fwrite(full_species_df, str_glue(\"results/decontamination/RA_thresholds_HELIOS/diff_prev_results.9999.S.RA.perc_{read_threshold}.csv\"))\n",
    "    fwrite(tibble(non_contaminants = full_species_res[[\"non_contaminants\"]]), str_glue(\"results/decontamination/RA_thresholds_HELIOS/prevalence.noncontam.S.n9999.RA.perc_{read_threshold}.txt\"))\n",
    "    threshold_df <- threshold_df %>% bind_rows(tibble(perc = perc, read_threshold = read_threshold, n_nc = length(full_species_res[[\"non_contaminants\"]])))\n",
    "}"
   ]
  },
  {
   "cell_type": "code",
   "execution_count": null,
   "id": "25df615c",
   "metadata": {
    "scrolled": true
   },
   "outputs": [],
   "source": [
    "threshold_df"
   ]
  },
  {
   "cell_type": "code",
   "execution_count": 11,
   "id": "059297d5",
   "metadata": {},
   "outputs": [],
   "source": [
    "threshold_df <- tibble()\n",
    "for (read_threshold in c(0.00001, 0.0001, 0.0001, 0.05, 0.1, 0.15, 0.2, 0.3)) {\n",
    "    full_species_df <- decontaminate(\"S\", 9999, 9999, \"Homo sapiens\", read_threshold = read_threshold)\n",
    "    full_species_res <- parse_decontamination_results(full_species_df)\n",
    "    fwrite(full_species_df, str_glue(\"results/decontamination/RA_thresholds_HELIOS/diff_prev_results.9999.S.RA.perc_{read_threshold}.csv\"))\n",
    "    fwrite(tibble(non_contaminants = full_species_res[[\"non_contaminants\"]]), str_glue(\"results/decontamination/RA_thresholds_HELIOS/prevalence.noncontam.S.n9999.RA.perc_{read_threshold}.txt\"))\n",
    "    threshold_df <- threshold_df %>% bind_rows(tibble(read_threshold = read_threshold, n_nc = length(full_species_res[[\"non_contaminants\"]])))\n",
    "}"
   ]
  },
  {
   "cell_type": "code",
   "execution_count": null,
   "id": "f2ea2656",
   "metadata": {},
   "outputs": [],
   "source": [
    "threshold_df"
   ]
  }
 ],
 "metadata": {
  "kernelspec": {
   "display_name": "R",
   "language": "R",
   "name": "ir"
  },
  "language_info": {
   "codemirror_mode": "r",
   "file_extension": ".r",
   "mimetype": "text/x-r-source",
   "name": "R",
   "pygments_lexer": "r",
   "version": "4.1.0"
  }
 },
 "nbformat": 4,
 "nbformat_minor": 5
}
