{
 "cells": [
  {
   "cell_type": "code",
   "execution_count": 1,
   "id": "308cd71c",
   "metadata": {},
   "outputs": [
    {
     "name": "stderr",
     "output_type": "stream",
     "text": [
      "Loading required package: tidyverse\n",
      "\n",
      "Warning message in system(\"timedatectl\", intern = TRUE):\n",
      "“running command 'timedatectl' had status 1”\n",
      "── \u001b[1mAttaching packages\u001b[22m ─────────────────────────────────────────────────────────────────────────────── tidyverse 1.3.1 ──\n",
      "\n",
      "\u001b[32m✔\u001b[39m \u001b[34mggplot2\u001b[39m 3.3.5     \u001b[32m✔\u001b[39m \u001b[34mpurrr  \u001b[39m 0.3.4\n",
      "\u001b[32m✔\u001b[39m \u001b[34mtibble \u001b[39m 3.1.5     \u001b[32m✔\u001b[39m \u001b[34mdplyr  \u001b[39m 1.0.7\n",
      "\u001b[32m✔\u001b[39m \u001b[34mtidyr  \u001b[39m 1.1.3     \u001b[32m✔\u001b[39m \u001b[34mstringr\u001b[39m 1.4.0\n",
      "\u001b[32m✔\u001b[39m \u001b[34mreadr  \u001b[39m 2.0.1     \u001b[32m✔\u001b[39m \u001b[34mforcats\u001b[39m 0.5.1\n",
      "\n",
      "── \u001b[1mConflicts\u001b[22m ────────────────────────────────────────────────────────────────────────────────── tidyverse_conflicts() ──\n",
      "\u001b[31m✖\u001b[39m \u001b[34mdplyr\u001b[39m::\u001b[32mfilter()\u001b[39m masks \u001b[34mstats\u001b[39m::filter()\n",
      "\u001b[31m✖\u001b[39m \u001b[34mdplyr\u001b[39m::\u001b[32mlag()\u001b[39m    masks \u001b[34mstats\u001b[39m::lag()\n",
      "\n",
      "Loading required package: data.table\n",
      "\n",
      "\n",
      "Attaching package: ‘data.table’\n",
      "\n",
      "\n",
      "The following objects are masked from ‘package:dplyr’:\n",
      "\n",
      "    between, first, last\n",
      "\n",
      "\n",
      "The following object is masked from ‘package:purrr’:\n",
      "\n",
      "    transpose\n",
      "\n",
      "\n",
      "Loading required package: egg\n",
      "\n",
      "Loading required package: gridExtra\n",
      "\n",
      "\n",
      "Attaching package: ‘gridExtra’\n",
      "\n",
      "\n",
      "The following object is masked from ‘package:dplyr’:\n",
      "\n",
      "    combine\n",
      "\n",
      "\n",
      "Loading required package: foreach\n",
      "\n",
      "\n",
      "Attaching package: ‘foreach’\n",
      "\n",
      "\n",
      "The following objects are masked from ‘package:purrr’:\n",
      "\n",
      "    accumulate, when\n",
      "\n",
      "\n",
      "Loading required package: doParallel\n",
      "\n",
      "Loading required package: iterators\n",
      "\n",
      "Loading required package: parallel\n",
      "\n"
     ]
    }
   ],
   "source": [
    "setwd(\"/mnt/c/Users/Cedric/Desktop/git_repos/blood_microbiome\")\n",
    "require(tidyverse)\n",
    "require(ggplot2)\n",
    "require(data.table)\n",
    "require(egg)\n",
    "require(foreach)\n",
    "require(doParallel)\n",
    "registerDoParallel(cores=8)"
   ]
  },
  {
   "cell_type": "code",
   "execution_count": 94,
   "id": "cac41368",
   "metadata": {},
   "outputs": [
    {
     "data": {
      "text/html": [
       "<style>\n",
       ".list-inline {list-style: none; margin:0; padding: 0}\n",
       ".list-inline>li {display: inline-block}\n",
       ".list-inline>li:not(:last-child)::after {content: \"\\00b7\"; padding: 0 .5ex}\n",
       "</style>\n",
       "<ol class=list-inline><li>'Acinetobacter lwoffii'</li><li>'Aerococcus viridans'</li><li>'Bacillus thuringiensis'</li><li>'Bacillus pumilus'</li><li>'Bacillus stratosphericus'</li><li>'Dietzia papillomatosis'</li><li>'Moraxella osloensis'</li><li>'Planobacterium taklimakanense'</li><li>'Prolinoborus fasciculus'</li><li>'Cutibacterium acnes'</li><li>'Cutibacterium avidum'</li><li>'Cutibacterium granulosum'</li><li>'Pseudomonas mosselii'</li><li>'Sphingomonas aurantiaca'</li><li>'Staphylococcus aureus'</li><li>'Staphylococcus caprae'</li><li>'Staphylococcus warneri'</li></ol>\n"
      ],
      "text/latex": [
       "\\begin{enumerate*}\n",
       "\\item 'Acinetobacter lwoffii'\n",
       "\\item 'Aerococcus viridans'\n",
       "\\item 'Bacillus thuringiensis'\n",
       "\\item 'Bacillus pumilus'\n",
       "\\item 'Bacillus stratosphericus'\n",
       "\\item 'Dietzia papillomatosis'\n",
       "\\item 'Moraxella osloensis'\n",
       "\\item 'Planobacterium taklimakanense'\n",
       "\\item 'Prolinoborus fasciculus'\n",
       "\\item 'Cutibacterium acnes'\n",
       "\\item 'Cutibacterium avidum'\n",
       "\\item 'Cutibacterium granulosum'\n",
       "\\item 'Pseudomonas mosselii'\n",
       "\\item 'Sphingomonas aurantiaca'\n",
       "\\item 'Staphylococcus aureus'\n",
       "\\item 'Staphylococcus caprae'\n",
       "\\item 'Staphylococcus warneri'\n",
       "\\end{enumerate*}\n"
      ],
      "text/markdown": [
       "1. 'Acinetobacter lwoffii'\n",
       "2. 'Aerococcus viridans'\n",
       "3. 'Bacillus thuringiensis'\n",
       "4. 'Bacillus pumilus'\n",
       "5. 'Bacillus stratosphericus'\n",
       "6. 'Dietzia papillomatosis'\n",
       "7. 'Moraxella osloensis'\n",
       "8. 'Planobacterium taklimakanense'\n",
       "9. 'Prolinoborus fasciculus'\n",
       "10. 'Cutibacterium acnes'\n",
       "11. 'Cutibacterium avidum'\n",
       "12. 'Cutibacterium granulosum'\n",
       "13. 'Pseudomonas mosselii'\n",
       "14. 'Sphingomonas aurantiaca'\n",
       "15. 'Staphylococcus aureus'\n",
       "16. 'Staphylococcus caprae'\n",
       "17. 'Staphylococcus warneri'\n",
       "\n",
       "\n"
      ],
      "text/plain": [
       " [1] \"Acinetobacter lwoffii\"         \"Aerococcus viridans\"          \n",
       " [3] \"Bacillus thuringiensis\"        \"Bacillus pumilus\"             \n",
       " [5] \"Bacillus stratosphericus\"      \"Dietzia papillomatosis\"       \n",
       " [7] \"Moraxella osloensis\"           \"Planobacterium taklimakanense\"\n",
       " [9] \"Prolinoborus fasciculus\"       \"Cutibacterium acnes\"          \n",
       "[11] \"Cutibacterium avidum\"          \"Cutibacterium granulosum\"     \n",
       "[13] \"Pseudomonas mosselii\"          \"Sphingomonas aurantiaca\"      \n",
       "[15] \"Staphylococcus aureus\"         \"Staphylococcus caprae\"        \n",
       "[17] \"Staphylococcus warneri\"       "
      ]
     },
     "metadata": {},
     "output_type": "display_data"
    }
   ],
   "source": [
    "pos_controls"
   ]
  },
  {
   "cell_type": "code",
   "execution_count": 93,
   "id": "f676f03f",
   "metadata": {},
   "outputs": [],
   "source": [
    "pos_control_files <- list.files(\"data/reported_controls/\", pattern = \"positive\")\n",
    "pos_controls <- read.csv(paste0(\"data/reported_controls/\", pos_control_files))$positive_controls\n",
    "\n",
    "neg_control_files <- list.files(\"data/reported_controls/\", pattern = \"negative\")\n",
    "\n",
    "neg_list <- list()\n",
    "\n",
    "for (file in neg_control_files) {\n",
    "    study_name <- paste0(unlist(str_split(file, pattern = \"_\"))[1:2], collapse = \"_\")\n",
    "    neg <- read.csv(paste0(\"data/reported_controls/\", file))\n",
    "    neg_list[[study_name]] <- neg$taxa\n",
    "}\n"
   ]
  },
  {
   "cell_type": "code",
   "execution_count": 54,
   "id": "05792536",
   "metadata": {},
   "outputs": [
    {
     "data": {
      "text/html": [
       "1"
      ],
      "text/latex": [
       "1"
      ],
      "text/markdown": [
       "1"
      ],
      "text/plain": [
       "[1] 1"
      ]
     },
     "metadata": {},
     "output_type": "display_data"
    }
   ],
   "source": [
    "require(VennDiagram)\n",
    "\n",
    "venn.diagram(neg_list, filename = \"data/reported_controls/test.png\",\n",
    "#              category.names = c(\"All genera\", \"Human associated\", \"Kitome associated\"),\n",
    "             print.mode = c(\"raw\", \"percent\")\n",
    "             )"
   ]
  },
  {
   "cell_type": "code",
   "execution_count": 77,
   "id": "37c44889",
   "metadata": {},
   "outputs": [],
   "source": [
    "study_df <- as.data.frame(table(unlist(neg_list))) %>%\n",
    "    filter(Freq >= 2)\n",
    "\n",
    "neg_shortlist <- study_df$Var1"
   ]
  },
  {
   "cell_type": "code",
   "execution_count": 78,
   "id": "5aa896b2",
   "metadata": {},
   "outputs": [],
   "source": [
    "max_batch_prev <- fread(\"results/decontamination/max_batch_prevalence.kit.site.instrument.read_t100.csv\")\n",
    "data_contam <- max_batch_prev %>% filter(max_batch_prev > 0.7)\n",
    "data_contam <- data_contam$meta_col"
   ]
  },
  {
   "cell_type": "code",
   "execution_count": 103,
   "id": "04253350",
   "metadata": {},
   "outputs": [],
   "source": [
    "nc <- read.csv(\"results/decontamination/clr_decontamination/parsed.NC.n9999.min_samples100.l10h90.txt\")$non_contaminants\n"
   ]
  },
  {
   "cell_type": "code",
   "execution_count": 84,
   "id": "15d1c0db",
   "metadata": {},
   "outputs": [
    {
     "data": {
      "text/html": [
       "'damgaard_2015_positive.txt'"
      ],
      "text/latex": [
       "'damgaard\\_2015\\_positive.txt'"
      ],
      "text/markdown": [
       "'damgaard_2015_positive.txt'"
      ],
      "text/plain": [
       "[1] \"damgaard_2015_positive.txt\""
      ]
     },
     "metadata": {},
     "output_type": "display_data"
    }
   ],
   "source": [
    "pos_controls"
   ]
  },
  {
   "cell_type": "code",
   "execution_count": 104,
   "id": "187f5f06",
   "metadata": {},
   "outputs": [
    {
     "data": {
      "text/html": [
       "1"
      ],
      "text/latex": [
       "1"
      ],
      "text/markdown": [
       "1"
      ],
      "text/plain": [
       "[1] 1"
      ]
     },
     "metadata": {},
     "output_type": "display_data"
    }
   ],
   "source": [
    "venn_list <- list(nc = nc, neg_controls = neg_shortlist, pos_controls = pos_controls, prevalent_taxa = data_contam)\n",
    "venn.diagram(venn_list, filename = \"data/reported_controls/test2.png\",\n",
    "#              category.names = c(\"All genera\", \"Human associated\", \"Kitome associated\"),\n",
    "             print.mode = c(\"raw\", \"percent\")\n",
    "             )"
   ]
  }
 ],
 "metadata": {
  "kernelspec": {
   "display_name": "R",
   "language": "R",
   "name": "ir"
  },
  "language_info": {
   "codemirror_mode": "r",
   "file_extension": ".r",
   "mimetype": "text/x-r-source",
   "name": "R",
   "pygments_lexer": "r",
   "version": "4.1.0"
  }
 },
 "nbformat": 4,
 "nbformat_minor": 5
}
