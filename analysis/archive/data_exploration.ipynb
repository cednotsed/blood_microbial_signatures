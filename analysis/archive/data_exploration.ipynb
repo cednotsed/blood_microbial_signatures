{
 "cells": [
  {
   "cell_type": "markdown",
   "id": "f799b42b",
   "metadata": {},
   "source": [
    "# Visualising taxa abundance"
   ]
  },
  {
   "cell_type": "code",
   "execution_count": 5,
   "id": "bc15bd3e",
   "metadata": {
    "scrolled": true
   },
   "outputs": [],
   "source": [
    "setwd(\"/mnt/c/Users/Cedric/Desktop/git_repos/blood_microbiome\")\n",
    "require(tidyverse)\n",
    "require(ggplot2)\n",
    "require(data.table)\n",
    "require(egg)\n",
    "require(foreach)\n",
    "require(doParallel)\n",
    "registerDoParallel(cores=8)"
   ]
  },
  {
   "cell_type": "markdown",
   "id": "8dc148ee",
   "metadata": {},
   "source": [
    "## Functions for data parsing"
   ]
  },
  {
   "cell_type": "code",
   "execution_count": 6,
   "id": "9d77d78f",
   "metadata": {
    "scrolled": false
   },
   "outputs": [],
   "source": [
    "load_data <- function(file_path) {\n",
    "    df <- fread(file_path) %>%\n",
    "        separate(sample, into = c(NA, \"npm_research_id\"), sep = \"\\\\.\") %>%\n",
    "        as_tibble()\n",
    "    return(df)\n",
    "}\n",
    "\n",
    "\n",
    "get_meta_cols <- function(meta) {\n",
    "    meta_cols <- colnames(meta)[grep(\"kit|flow_cell|instrument_id|site_supplying\", colnames(meta))]\n",
    "    to_exclude <- c(\"library_prep_kit\", \"hiseq_xtm_flow_cell_v2_5_id\")\n",
    "    meta_cols <- meta_cols[!(meta_cols %in% to_exclude)]\n",
    "    return(meta_cols)\n",
    "}\n",
    "\n",
    "\n",
    "otu_to_RA <- function(df) {\n",
    "    mat <- as.matrix(df[, colnames(df) != \"npm_research_id\"])\n",
    "    RA_df <- as.data.frame(mat / rowSums(mat))\n",
    "    RA_df <- add_column(RA_df, df$npm_research_id, .before = 1)\n",
    "    colnames(RA_df)[1] <- \"npm_research_id\"\n",
    "    \n",
    "    return(RA_df)\n",
    "}\n",
    "\n",
    "get_meta_cols <- function(meta) {\n",
    "    meta_cols <- colnames(meta)[grep(\"kit|flow_cell|instrument_id|site_supplying\", colnames(meta))]\n",
    "    to_exclude <- c(\"library_prep_kit\", \"hiseq_xtm_flow_cell_v2_5_id\")\n",
    "    meta_cols <- meta_cols[!(meta_cols %in% to_exclude)]\n",
    "    return(meta_cols)\n",
    "}\n"
   ]
  },
  {
   "cell_type": "code",
   "execution_count": 7,
   "id": "5fab1739",
   "metadata": {},
   "outputs": [],
   "source": [
    "species_df <- load_data(str_glue(\"data/temp_files_9999/07_abundance_matrix/abundance_matrix.subset_9999.S.tsv\"))\n",
    "to_retain <- read.csv(\"data/samples_above_100_microbial_reads.txt\")$npm_research_id\n",
    "species_filt <- species_df %>% filter(npm_research_id %in% to_retain)\n",
    "\n",
    "meta <- fread(\"data/SG10K_Health_metadata.n10714.16March2021.parsed.csv\")\n",
    "meta_cols <- get_meta_cols(meta)"
   ]
  },
  {
   "cell_type": "markdown",
   "id": "35827c6f",
   "metadata": {},
   "source": [
    "### Remove low read samples"
   ]
  },
  {
   "cell_type": "markdown",
   "id": "ec83dd93",
   "metadata": {},
   "source": [
    "#### Get total no. of assigned microbial reads"
   ]
  },
  {
   "cell_type": "code",
   "execution_count": 8,
   "id": "fbf27c5e",
   "metadata": {
    "scrolled": true
   },
   "outputs": [
    {
     "name": "stderr",
     "output_type": "stream",
     "text": [
      "Joining, by = \"npm_research_id\"\n",
      "\n"
     ]
    }
   ],
   "source": [
    "micro_df <- species_df %>% select(-npm_research_id, -unclassified, -\"Homo sapiens\")\n",
    "rowsum_df <- tibble(npm_research_id = species_df$npm_research_id, rowsums = rowSums(micro_df))\n",
    "rowsum_df <- rowsum_df %>%\n",
    "    left_join(meta) %>%\n",
    "    mutate(microbe_frac = (rowsums * 2) / raw_total_sequences, .before = 2)"
   ]
  },
  {
   "cell_type": "code",
   "execution_count": 9,
   "id": "f457855d",
   "metadata": {},
   "outputs": [],
   "source": [
    "to_keep <- rowsum_df %>% \n",
    "    filter(rowsums >= 100) %>%\n",
    "    select(npm_research_id)\n",
    "fwrite(to_keep, \"data/samples_above_100_microbial_reads.txt\")\n",
    "\n",
    "species_filt <- species_df %>% filter(npm_research_id %in% to_keep$npm_research_id)"
   ]
  },
  {
   "cell_type": "markdown",
   "id": "ff93d9bc",
   "metadata": {},
   "source": [
    "### Prevalence"
   ]
  },
  {
   "cell_type": "code",
   "execution_count": 10,
   "id": "004097f5",
   "metadata": {},
   "outputs": [],
   "source": [
    "otu_to_PA <- function(df, read_threshold) {\n",
    "    prev_read <- df %>%\n",
    "        select(-\"Homo sapiens\", -unclassified) %>%\n",
    "        column_to_rownames(\"npm_research_id\")\n",
    "    \n",
    "    prev_read[prev_read <= read_threshold] <- 0\n",
    "    prev_read[prev_read > read_threshold] <- 1\n",
    "\n",
    "    return(prev_read)\n",
    "}\n",
    "\n",
    "\n",
    "RA_to_PA <- function(RA_df, PA_threshold) {\n",
    "    prev_RA <- RA_df %>% column_to_rownames(\"npm_research_id\")\n",
    "    prev_RA[prev_RA <= PA_threshold] <- 0\n",
    "    prev_RA[prev_RA > PA_threshold] <- 1\n",
    "    \n",
    "    return(prev_RA)\n",
    "}\n",
    "\n",
    "\n",
    "filter_taxa_by_presence <- function(prev_df, presence_t) {\n",
    "    taxa_counts <- apply(prev_df, 2, sum)\n",
    "    to_keep <- names(taxa_counts)[taxa_counts > presence_t]\n",
    "    return(prev_df %>% select(all_of(to_keep)))\n",
    "}"
   ]
  },
  {
   "cell_type": "markdown",
   "id": "e75eab2c",
   "metadata": {},
   "source": [
    "#### Read count"
   ]
  },
  {
   "cell_type": "code",
   "execution_count": 11,
   "id": "de87f375",
   "metadata": {},
   "outputs": [],
   "source": [
    "prev_read <- otu_to_PA(species_filt, 0)\n",
    "prev_read_10 <- otu_to_PA(species_filt, 10)\n",
    "prev_read_df <- tibble(npm_research_id = rownames(prev_read), n_assigned = rowSums(prev_read))\n",
    "prev_read_df_10 <- tibble(npm_research_id = rownames(prev_read_10), n_assigned = rowSums(prev_read_10))\n",
    "\n",
    "read_plt <- prev_read_df %>%\n",
    "    arrange(desc(n_assigned)) %>%\n",
    "    ggplot(aes(x = n_assigned)) +\n",
    "    geom_histogram() +\n",
    "    labs(x = \"No. of taxa / sample (reads > 0)\", y = \"No. of samples\")\n",
    "\n",
    "read_plt_10 <- prev_read_df_10 %>%\n",
    "    arrange(desc(n_assigned)) %>%\n",
    "    ggplot(aes(x = n_assigned)) +\n",
    "    geom_histogram() +\n",
    "    labs(x = \"No. of taxa / sample (reads > 10)\", y = \"No. of samples\")"
   ]
  },
  {
   "cell_type": "markdown",
   "id": "245b3b96",
   "metadata": {},
   "source": [
    "#### RA"
   ]
  },
  {
   "cell_type": "code",
   "execution_count": 12,
   "id": "5cb9af8f",
   "metadata": {},
   "outputs": [],
   "source": [
    "species_RA <- otu_to_RA(species_filt %>% select(-\"Homo sapiens\", -unclassified))\n",
    "prev_RA <- RA_to_PA(species_RA, 0.01)\n",
    "prev_RA_df <- tibble(npm_research_id = rownames(prev_RA), n_assigned = rowSums(prev_RA))\n",
    "\n",
    "RA_plt <- prev_RA_df %>%\n",
    "    arrange(desc(n_assigned)) %>%\n",
    "    ggplot(aes(x = n_assigned)) +\n",
    "    geom_histogram() +\n",
    "    labs(x = \"No. of taxa / sample (RA > 0.01)\", y = \"No. of samples\")"
   ]
  },
  {
   "cell_type": "markdown",
   "id": "be351117",
   "metadata": {},
   "source": [
    "#### RA + reads"
   ]
  },
  {
   "cell_type": "code",
   "execution_count": 13,
   "id": "03f005a3",
   "metadata": {
    "scrolled": true
   },
   "outputs": [
    {
     "data": {
      "text/html": [
       "<table class=\"dataframe\">\n",
       "<caption>A data.frame: 8617 × 5199</caption>\n",
       "<thead>\n",
       "\t<tr><th></th><th scope=col>Paraburkholderia fungorum</th><th scope=col>Paraburkholderia xenovorans</th><th scope=col>Paraburkholderia hospita</th><th scope=col>Ralstonia pickettii</th><th scope=col>Ralstonia insidiosa</th><th scope=col>Ralstonia mannitolilytica</th><th scope=col>Ralstonia solanacearum</th><th scope=col>Burkholderia cepacia</th><th scope=col>Burkholderia sp. LA-2-3-30-S1-D2</th><th scope=col>Burkholderia metallica</th><th scope=col>⋯</th><th scope=col>Mycobacterium virus Che12</th><th scope=col>Grapevine Cabernet Sauvignon reovirus</th><th scope=col>Delftia phage IME-DE1</th><th scope=col>Fowlpox virus</th><th scope=col>Bacillus sp. Pc3</th><th scope=col>Agrotis segetum nucleopolyhedrovirus B</th><th scope=col>Vibrio phage 11895-B1</th><th scope=col>Mycobacterium phage Milly</th><th scope=col>Cacao swollen shoot Togo A virus</th><th scope=col>Streptomyces phage phiSASD1</th></tr>\n",
       "\t<tr><th></th><th scope=col>&lt;lgl&gt;</th><th scope=col>&lt;lgl&gt;</th><th scope=col>&lt;lgl&gt;</th><th scope=col>&lt;lgl&gt;</th><th scope=col>&lt;lgl&gt;</th><th scope=col>&lt;lgl&gt;</th><th scope=col>&lt;lgl&gt;</th><th scope=col>&lt;lgl&gt;</th><th scope=col>&lt;lgl&gt;</th><th scope=col>&lt;lgl&gt;</th><th scope=col>⋯</th><th scope=col>&lt;lgl&gt;</th><th scope=col>&lt;lgl&gt;</th><th scope=col>&lt;lgl&gt;</th><th scope=col>&lt;lgl&gt;</th><th scope=col>&lt;lgl&gt;</th><th scope=col>&lt;lgl&gt;</th><th scope=col>&lt;lgl&gt;</th><th scope=col>&lt;lgl&gt;</th><th scope=col>&lt;lgl&gt;</th><th scope=col>&lt;lgl&gt;</th></tr>\n",
       "</thead>\n",
       "<tbody>\n",
       "\t<tr><th scope=row>WHB669</th><td> TRUE</td><td>FALSE</td><td>FALSE</td><td> TRUE</td><td>FALSE</td><td>FALSE</td><td>FALSE</td><td>FALSE</td><td>FALSE</td><td>FALSE</td><td>⋯</td><td>FALSE</td><td>FALSE</td><td>FALSE</td><td>FALSE</td><td>FALSE</td><td>FALSE</td><td>FALSE</td><td>FALSE</td><td>FALSE</td><td>FALSE</td></tr>\n",
       "\t<tr><th scope=row>WHB8678</th><td>FALSE</td><td>FALSE</td><td>FALSE</td><td>FALSE</td><td>FALSE</td><td>FALSE</td><td>FALSE</td><td>FALSE</td><td>FALSE</td><td>FALSE</td><td>⋯</td><td>FALSE</td><td>FALSE</td><td>FALSE</td><td>FALSE</td><td>FALSE</td><td>FALSE</td><td>FALSE</td><td>FALSE</td><td>FALSE</td><td>FALSE</td></tr>\n",
       "\t<tr><th scope=row>WHH7080</th><td>FALSE</td><td>FALSE</td><td>FALSE</td><td>FALSE</td><td>FALSE</td><td>FALSE</td><td>FALSE</td><td>FALSE</td><td>FALSE</td><td>FALSE</td><td>⋯</td><td>FALSE</td><td>FALSE</td><td>FALSE</td><td>FALSE</td><td>FALSE</td><td>FALSE</td><td>FALSE</td><td>FALSE</td><td>FALSE</td><td>FALSE</td></tr>\n",
       "\t<tr><th scope=row>WHB4818</th><td>FALSE</td><td>FALSE</td><td>FALSE</td><td>FALSE</td><td>FALSE</td><td>FALSE</td><td>FALSE</td><td>FALSE</td><td>FALSE</td><td>FALSE</td><td>⋯</td><td>FALSE</td><td>FALSE</td><td>FALSE</td><td>FALSE</td><td>FALSE</td><td>FALSE</td><td>FALSE</td><td>FALSE</td><td>FALSE</td><td>FALSE</td></tr>\n",
       "\t<tr><th scope=row>WHB9470</th><td>FALSE</td><td>FALSE</td><td>FALSE</td><td>FALSE</td><td>FALSE</td><td>FALSE</td><td>FALSE</td><td>FALSE</td><td>FALSE</td><td>FALSE</td><td>⋯</td><td>FALSE</td><td>FALSE</td><td>FALSE</td><td>FALSE</td><td>FALSE</td><td>FALSE</td><td>FALSE</td><td>FALSE</td><td>FALSE</td><td>FALSE</td></tr>\n",
       "\t<tr><th scope=row>WHB4637</th><td>FALSE</td><td>FALSE</td><td>FALSE</td><td>FALSE</td><td>FALSE</td><td>FALSE</td><td>FALSE</td><td>FALSE</td><td>FALSE</td><td>FALSE</td><td>⋯</td><td>FALSE</td><td>FALSE</td><td>FALSE</td><td>FALSE</td><td>FALSE</td><td>FALSE</td><td>FALSE</td><td>FALSE</td><td>FALSE</td><td>FALSE</td></tr>\n",
       "\t<tr><th scope=row>WHB3974</th><td>FALSE</td><td>FALSE</td><td>FALSE</td><td>FALSE</td><td>FALSE</td><td>FALSE</td><td>FALSE</td><td>FALSE</td><td>FALSE</td><td>FALSE</td><td>⋯</td><td>FALSE</td><td>FALSE</td><td>FALSE</td><td>FALSE</td><td>FALSE</td><td>FALSE</td><td>FALSE</td><td>FALSE</td><td>FALSE</td><td>FALSE</td></tr>\n",
       "\t<tr><th scope=row>WHB7065</th><td>FALSE</td><td>FALSE</td><td>FALSE</td><td>FALSE</td><td>FALSE</td><td>FALSE</td><td>FALSE</td><td>FALSE</td><td>FALSE</td><td>FALSE</td><td>⋯</td><td>FALSE</td><td>FALSE</td><td>FALSE</td><td>FALSE</td><td>FALSE</td><td>FALSE</td><td>FALSE</td><td>FALSE</td><td>FALSE</td><td>FALSE</td></tr>\n",
       "\t<tr><th scope=row>WHB8830</th><td>FALSE</td><td>FALSE</td><td>FALSE</td><td>FALSE</td><td>FALSE</td><td>FALSE</td><td>FALSE</td><td>FALSE</td><td>FALSE</td><td>FALSE</td><td>⋯</td><td>FALSE</td><td>FALSE</td><td>FALSE</td><td>FALSE</td><td>FALSE</td><td>FALSE</td><td>FALSE</td><td>FALSE</td><td>FALSE</td><td>FALSE</td></tr>\n",
       "\t<tr><th scope=row>WHB7956</th><td>FALSE</td><td>FALSE</td><td>FALSE</td><td>FALSE</td><td>FALSE</td><td>FALSE</td><td>FALSE</td><td>FALSE</td><td>FALSE</td><td>FALSE</td><td>⋯</td><td>FALSE</td><td>FALSE</td><td>FALSE</td><td>FALSE</td><td>FALSE</td><td>FALSE</td><td>FALSE</td><td>FALSE</td><td>FALSE</td><td>FALSE</td></tr>\n",
       "\t<tr><th scope=row>WHB6790</th><td>FALSE</td><td>FALSE</td><td>FALSE</td><td>FALSE</td><td>FALSE</td><td>FALSE</td><td>FALSE</td><td>FALSE</td><td>FALSE</td><td>FALSE</td><td>⋯</td><td>FALSE</td><td>FALSE</td><td>FALSE</td><td>FALSE</td><td>FALSE</td><td>FALSE</td><td>FALSE</td><td>FALSE</td><td>FALSE</td><td>FALSE</td></tr>\n",
       "\t<tr><th scope=row>WHH1857</th><td>FALSE</td><td>FALSE</td><td>FALSE</td><td>FALSE</td><td>FALSE</td><td>FALSE</td><td>FALSE</td><td>FALSE</td><td>FALSE</td><td>FALSE</td><td>⋯</td><td>FALSE</td><td>FALSE</td><td>FALSE</td><td>FALSE</td><td>FALSE</td><td>FALSE</td><td>FALSE</td><td>FALSE</td><td>FALSE</td><td>FALSE</td></tr>\n",
       "\t<tr><th scope=row>WHH6873</th><td>FALSE</td><td>FALSE</td><td>FALSE</td><td>FALSE</td><td>FALSE</td><td>FALSE</td><td>FALSE</td><td>FALSE</td><td>FALSE</td><td>FALSE</td><td>⋯</td><td>FALSE</td><td>FALSE</td><td>FALSE</td><td>FALSE</td><td>FALSE</td><td>FALSE</td><td>FALSE</td><td>FALSE</td><td>FALSE</td><td>FALSE</td></tr>\n",
       "\t<tr><th scope=row>WHB7476</th><td>FALSE</td><td>FALSE</td><td>FALSE</td><td>FALSE</td><td>FALSE</td><td>FALSE</td><td>FALSE</td><td>FALSE</td><td>FALSE</td><td>FALSE</td><td>⋯</td><td>FALSE</td><td>FALSE</td><td>FALSE</td><td>FALSE</td><td>FALSE</td><td>FALSE</td><td>FALSE</td><td>FALSE</td><td>FALSE</td><td>FALSE</td></tr>\n",
       "\t<tr><th scope=row>WHB11053</th><td>FALSE</td><td>FALSE</td><td>FALSE</td><td>FALSE</td><td>FALSE</td><td>FALSE</td><td>FALSE</td><td>FALSE</td><td>FALSE</td><td>FALSE</td><td>⋯</td><td>FALSE</td><td>FALSE</td><td>FALSE</td><td>FALSE</td><td>FALSE</td><td>FALSE</td><td>FALSE</td><td>FALSE</td><td>FALSE</td><td>FALSE</td></tr>\n",
       "\t<tr><th scope=row>WHH1078</th><td>FALSE</td><td>FALSE</td><td>FALSE</td><td> TRUE</td><td> TRUE</td><td>FALSE</td><td>FALSE</td><td>FALSE</td><td>FALSE</td><td>FALSE</td><td>⋯</td><td>FALSE</td><td>FALSE</td><td>FALSE</td><td>FALSE</td><td>FALSE</td><td>FALSE</td><td>FALSE</td><td>FALSE</td><td>FALSE</td><td>FALSE</td></tr>\n",
       "\t<tr><th scope=row>WHB9042</th><td>FALSE</td><td>FALSE</td><td>FALSE</td><td>FALSE</td><td>FALSE</td><td>FALSE</td><td>FALSE</td><td>FALSE</td><td>FALSE</td><td>FALSE</td><td>⋯</td><td>FALSE</td><td>FALSE</td><td>FALSE</td><td>FALSE</td><td>FALSE</td><td>FALSE</td><td>FALSE</td><td>FALSE</td><td>FALSE</td><td>FALSE</td></tr>\n",
       "\t<tr><th scope=row>WHB5386</th><td>FALSE</td><td>FALSE</td><td>FALSE</td><td>FALSE</td><td>FALSE</td><td>FALSE</td><td>FALSE</td><td>FALSE</td><td>FALSE</td><td>FALSE</td><td>⋯</td><td>FALSE</td><td>FALSE</td><td>FALSE</td><td>FALSE</td><td>FALSE</td><td>FALSE</td><td>FALSE</td><td>FALSE</td><td>FALSE</td><td>FALSE</td></tr>\n",
       "\t<tr><th scope=row>WHH766</th><td>FALSE</td><td>FALSE</td><td>FALSE</td><td>FALSE</td><td>FALSE</td><td>FALSE</td><td>FALSE</td><td>FALSE</td><td>FALSE</td><td>FALSE</td><td>⋯</td><td>FALSE</td><td>FALSE</td><td>FALSE</td><td>FALSE</td><td>FALSE</td><td>FALSE</td><td>FALSE</td><td>FALSE</td><td>FALSE</td><td>FALSE</td></tr>\n",
       "\t<tr><th scope=row>WHB7157</th><td>FALSE</td><td>FALSE</td><td>FALSE</td><td>FALSE</td><td>FALSE</td><td>FALSE</td><td>FALSE</td><td>FALSE</td><td>FALSE</td><td>FALSE</td><td>⋯</td><td>FALSE</td><td>FALSE</td><td>FALSE</td><td>FALSE</td><td>FALSE</td><td>FALSE</td><td>FALSE</td><td>FALSE</td><td>FALSE</td><td>FALSE</td></tr>\n",
       "\t<tr><th scope=row>WHH1653</th><td> TRUE</td><td>FALSE</td><td>FALSE</td><td> TRUE</td><td> TRUE</td><td> TRUE</td><td> TRUE</td><td>FALSE</td><td>FALSE</td><td>FALSE</td><td>⋯</td><td>FALSE</td><td>FALSE</td><td>FALSE</td><td>FALSE</td><td>FALSE</td><td>FALSE</td><td>FALSE</td><td>FALSE</td><td>FALSE</td><td>FALSE</td></tr>\n",
       "\t<tr><th scope=row>WHB9075</th><td>FALSE</td><td>FALSE</td><td>FALSE</td><td>FALSE</td><td>FALSE</td><td>FALSE</td><td>FALSE</td><td>FALSE</td><td>FALSE</td><td>FALSE</td><td>⋯</td><td>FALSE</td><td>FALSE</td><td>FALSE</td><td>FALSE</td><td>FALSE</td><td>FALSE</td><td>FALSE</td><td>FALSE</td><td>FALSE</td><td>FALSE</td></tr>\n",
       "\t<tr><th scope=row>WHB6917</th><td>FALSE</td><td>FALSE</td><td>FALSE</td><td>FALSE</td><td>FALSE</td><td>FALSE</td><td>FALSE</td><td>FALSE</td><td>FALSE</td><td>FALSE</td><td>⋯</td><td>FALSE</td><td>FALSE</td><td>FALSE</td><td>FALSE</td><td>FALSE</td><td>FALSE</td><td>FALSE</td><td>FALSE</td><td>FALSE</td><td>FALSE</td></tr>\n",
       "\t<tr><th scope=row>WHB5810</th><td>FALSE</td><td>FALSE</td><td>FALSE</td><td>FALSE</td><td>FALSE</td><td>FALSE</td><td>FALSE</td><td>FALSE</td><td>FALSE</td><td>FALSE</td><td>⋯</td><td>FALSE</td><td>FALSE</td><td>FALSE</td><td>FALSE</td><td>FALSE</td><td>FALSE</td><td>FALSE</td><td>FALSE</td><td>FALSE</td><td>FALSE</td></tr>\n",
       "\t<tr><th scope=row>WHB9248</th><td>FALSE</td><td>FALSE</td><td>FALSE</td><td>FALSE</td><td>FALSE</td><td>FALSE</td><td>FALSE</td><td>FALSE</td><td>FALSE</td><td>FALSE</td><td>⋯</td><td>FALSE</td><td>FALSE</td><td>FALSE</td><td>FALSE</td><td>FALSE</td><td>FALSE</td><td>FALSE</td><td>FALSE</td><td>FALSE</td><td>FALSE</td></tr>\n",
       "\t<tr><th scope=row>WHB8945</th><td>FALSE</td><td>FALSE</td><td>FALSE</td><td>FALSE</td><td>FALSE</td><td>FALSE</td><td>FALSE</td><td>FALSE</td><td>FALSE</td><td>FALSE</td><td>⋯</td><td>FALSE</td><td>FALSE</td><td>FALSE</td><td>FALSE</td><td>FALSE</td><td>FALSE</td><td>FALSE</td><td>FALSE</td><td>FALSE</td><td>FALSE</td></tr>\n",
       "\t<tr><th scope=row>WHH1648</th><td> TRUE</td><td>FALSE</td><td>FALSE</td><td> TRUE</td><td> TRUE</td><td> TRUE</td><td> TRUE</td><td>FALSE</td><td>FALSE</td><td>FALSE</td><td>⋯</td><td>FALSE</td><td>FALSE</td><td>FALSE</td><td>FALSE</td><td>FALSE</td><td>FALSE</td><td>FALSE</td><td>FALSE</td><td>FALSE</td><td>FALSE</td></tr>\n",
       "\t<tr><th scope=row>WHB5140</th><td>FALSE</td><td>FALSE</td><td>FALSE</td><td>FALSE</td><td>FALSE</td><td>FALSE</td><td>FALSE</td><td>FALSE</td><td>FALSE</td><td>FALSE</td><td>⋯</td><td>FALSE</td><td>FALSE</td><td>FALSE</td><td>FALSE</td><td>FALSE</td><td>FALSE</td><td>FALSE</td><td>FALSE</td><td>FALSE</td><td>FALSE</td></tr>\n",
       "\t<tr><th scope=row>WHB1061</th><td>FALSE</td><td>FALSE</td><td>FALSE</td><td> TRUE</td><td> TRUE</td><td> TRUE</td><td> TRUE</td><td>FALSE</td><td>FALSE</td><td>FALSE</td><td>⋯</td><td>FALSE</td><td>FALSE</td><td>FALSE</td><td>FALSE</td><td>FALSE</td><td>FALSE</td><td>FALSE</td><td>FALSE</td><td>FALSE</td><td>FALSE</td></tr>\n",
       "\t<tr><th scope=row>WHB9542</th><td>FALSE</td><td>FALSE</td><td>FALSE</td><td>FALSE</td><td>FALSE</td><td>FALSE</td><td>FALSE</td><td>FALSE</td><td>FALSE</td><td>FALSE</td><td>⋯</td><td>FALSE</td><td>FALSE</td><td>FALSE</td><td>FALSE</td><td>FALSE</td><td>FALSE</td><td>FALSE</td><td>FALSE</td><td>FALSE</td><td>FALSE</td></tr>\n",
       "\t<tr><th scope=row>⋮</th><td>⋮</td><td>⋮</td><td>⋮</td><td>⋮</td><td>⋮</td><td>⋮</td><td>⋮</td><td>⋮</td><td>⋮</td><td>⋮</td><td>⋱</td><td>⋮</td><td>⋮</td><td>⋮</td><td>⋮</td><td>⋮</td><td>⋮</td><td>⋮</td><td>⋮</td><td>⋮</td><td>⋮</td></tr>\n",
       "\t<tr><th scope=row>WHB5812</th><td>FALSE</td><td>FALSE</td><td>FALSE</td><td>FALSE</td><td>FALSE</td><td>FALSE</td><td>FALSE</td><td>FALSE</td><td>FALSE</td><td>FALSE</td><td>⋯</td><td>FALSE</td><td>FALSE</td><td>FALSE</td><td>FALSE</td><td>FALSE</td><td>FALSE</td><td>FALSE</td><td>FALSE</td><td>FALSE</td><td>FALSE</td></tr>\n",
       "\t<tr><th scope=row>0516-0044</th><td>FALSE</td><td>FALSE</td><td>FALSE</td><td>FALSE</td><td>FALSE</td><td>FALSE</td><td>FALSE</td><td>FALSE</td><td>FALSE</td><td>FALSE</td><td>⋯</td><td>FALSE</td><td>FALSE</td><td>FALSE</td><td>FALSE</td><td>FALSE</td><td>FALSE</td><td>FALSE</td><td>FALSE</td><td>FALSE</td><td>FALSE</td></tr>\n",
       "\t<tr><th scope=row>WHB6401</th><td>FALSE</td><td>FALSE</td><td>FALSE</td><td>FALSE</td><td>FALSE</td><td>FALSE</td><td>FALSE</td><td>FALSE</td><td>FALSE</td><td>FALSE</td><td>⋯</td><td>FALSE</td><td>FALSE</td><td>FALSE</td><td>FALSE</td><td>FALSE</td><td>FALSE</td><td>FALSE</td><td>FALSE</td><td>FALSE</td><td>FALSE</td></tr>\n",
       "\t<tr><th scope=row>WHB7792</th><td>FALSE</td><td>FALSE</td><td>FALSE</td><td>FALSE</td><td>FALSE</td><td>FALSE</td><td>FALSE</td><td>FALSE</td><td>FALSE</td><td>FALSE</td><td>⋯</td><td>FALSE</td><td>FALSE</td><td>FALSE</td><td>FALSE</td><td>FALSE</td><td>FALSE</td><td>FALSE</td><td>FALSE</td><td>FALSE</td><td>FALSE</td></tr>\n",
       "\t<tr><th scope=row>WHB3857</th><td>FALSE</td><td>FALSE</td><td>FALSE</td><td>FALSE</td><td>FALSE</td><td>FALSE</td><td>FALSE</td><td>FALSE</td><td>FALSE</td><td>FALSE</td><td>⋯</td><td>FALSE</td><td>FALSE</td><td>FALSE</td><td>FALSE</td><td>FALSE</td><td>FALSE</td><td>FALSE</td><td>FALSE</td><td>FALSE</td><td>FALSE</td></tr>\n",
       "\t<tr><th scope=row>WHB8402</th><td>FALSE</td><td>FALSE</td><td>FALSE</td><td>FALSE</td><td>FALSE</td><td>FALSE</td><td>FALSE</td><td>FALSE</td><td>FALSE</td><td>FALSE</td><td>⋯</td><td>FALSE</td><td>FALSE</td><td>FALSE</td><td>FALSE</td><td>FALSE</td><td>FALSE</td><td>FALSE</td><td>FALSE</td><td>FALSE</td><td>FALSE</td></tr>\n",
       "\t<tr><th scope=row>WHB10311</th><td>FALSE</td><td>FALSE</td><td>FALSE</td><td>FALSE</td><td>FALSE</td><td>FALSE</td><td>FALSE</td><td>FALSE</td><td>FALSE</td><td>FALSE</td><td>⋯</td><td>FALSE</td><td>FALSE</td><td>FALSE</td><td>FALSE</td><td>FALSE</td><td>FALSE</td><td>FALSE</td><td>FALSE</td><td>FALSE</td><td>FALSE</td></tr>\n",
       "\t<tr><th scope=row>WHH922</th><td>FALSE</td><td>FALSE</td><td>FALSE</td><td> TRUE</td><td>FALSE</td><td>FALSE</td><td>FALSE</td><td>FALSE</td><td>FALSE</td><td>FALSE</td><td>⋯</td><td>FALSE</td><td>FALSE</td><td>FALSE</td><td>FALSE</td><td>FALSE</td><td>FALSE</td><td>FALSE</td><td>FALSE</td><td>FALSE</td><td>FALSE</td></tr>\n",
       "\t<tr><th scope=row>WHB4108</th><td>FALSE</td><td>FALSE</td><td>FALSE</td><td>FALSE</td><td>FALSE</td><td>FALSE</td><td>FALSE</td><td>FALSE</td><td>FALSE</td><td>FALSE</td><td>⋯</td><td>FALSE</td><td>FALSE</td><td>FALSE</td><td>FALSE</td><td>FALSE</td><td>FALSE</td><td>FALSE</td><td>FALSE</td><td>FALSE</td><td>FALSE</td></tr>\n",
       "\t<tr><th scope=row>WHB3591</th><td>FALSE</td><td>FALSE</td><td>FALSE</td><td>FALSE</td><td>FALSE</td><td>FALSE</td><td>FALSE</td><td>FALSE</td><td>FALSE</td><td>FALSE</td><td>⋯</td><td>FALSE</td><td>FALSE</td><td>FALSE</td><td>FALSE</td><td>FALSE</td><td>FALSE</td><td>FALSE</td><td>FALSE</td><td>FALSE</td><td>FALSE</td></tr>\n",
       "\t<tr><th scope=row>WHB5362</th><td>FALSE</td><td>FALSE</td><td>FALSE</td><td>FALSE</td><td>FALSE</td><td>FALSE</td><td>FALSE</td><td>FALSE</td><td>FALSE</td><td>FALSE</td><td>⋯</td><td>FALSE</td><td>FALSE</td><td>FALSE</td><td>FALSE</td><td>FALSE</td><td>FALSE</td><td>FALSE</td><td>FALSE</td><td>FALSE</td><td>FALSE</td></tr>\n",
       "\t<tr><th scope=row>WHB6801</th><td>FALSE</td><td>FALSE</td><td>FALSE</td><td>FALSE</td><td>FALSE</td><td>FALSE</td><td>FALSE</td><td>FALSE</td><td>FALSE</td><td>FALSE</td><td>⋯</td><td>FALSE</td><td>FALSE</td><td>FALSE</td><td>FALSE</td><td>FALSE</td><td>FALSE</td><td>FALSE</td><td>FALSE</td><td>FALSE</td><td>FALSE</td></tr>\n",
       "\t<tr><th scope=row>WHB1065</th><td>FALSE</td><td>FALSE</td><td>FALSE</td><td> TRUE</td><td> TRUE</td><td>FALSE</td><td>FALSE</td><td>FALSE</td><td>FALSE</td><td>FALSE</td><td>⋯</td><td>FALSE</td><td>FALSE</td><td>FALSE</td><td>FALSE</td><td>FALSE</td><td>FALSE</td><td>FALSE</td><td>FALSE</td><td>FALSE</td><td>FALSE</td></tr>\n",
       "\t<tr><th scope=row>WHB7938</th><td>FALSE</td><td>FALSE</td><td>FALSE</td><td>FALSE</td><td>FALSE</td><td>FALSE</td><td>FALSE</td><td>FALSE</td><td>FALSE</td><td>FALSE</td><td>⋯</td><td>FALSE</td><td>FALSE</td><td>FALSE</td><td>FALSE</td><td>FALSE</td><td>FALSE</td><td>FALSE</td><td>FALSE</td><td>FALSE</td><td>FALSE</td></tr>\n",
       "\t<tr><th scope=row>WHB9984</th><td>FALSE</td><td>FALSE</td><td>FALSE</td><td>FALSE</td><td>FALSE</td><td>FALSE</td><td>FALSE</td><td>FALSE</td><td>FALSE</td><td>FALSE</td><td>⋯</td><td>FALSE</td><td>FALSE</td><td>FALSE</td><td>FALSE</td><td>FALSE</td><td>FALSE</td><td>FALSE</td><td>FALSE</td><td>FALSE</td><td>FALSE</td></tr>\n",
       "\t<tr><th scope=row>WHB10068</th><td>FALSE</td><td>FALSE</td><td>FALSE</td><td>FALSE</td><td>FALSE</td><td>FALSE</td><td>FALSE</td><td>FALSE</td><td>FALSE</td><td>FALSE</td><td>⋯</td><td>FALSE</td><td>FALSE</td><td>FALSE</td><td>FALSE</td><td>FALSE</td><td>FALSE</td><td>FALSE</td><td>FALSE</td><td>FALSE</td><td>FALSE</td></tr>\n",
       "\t<tr><th scope=row>WHH1517</th><td> TRUE</td><td>FALSE</td><td>FALSE</td><td> TRUE</td><td> TRUE</td><td> TRUE</td><td> TRUE</td><td>FALSE</td><td>FALSE</td><td>FALSE</td><td>⋯</td><td>FALSE</td><td>FALSE</td><td>FALSE</td><td>FALSE</td><td>FALSE</td><td>FALSE</td><td>FALSE</td><td>FALSE</td><td>FALSE</td><td>FALSE</td></tr>\n",
       "\t<tr><th scope=row>WHB4873</th><td>FALSE</td><td>FALSE</td><td>FALSE</td><td>FALSE</td><td>FALSE</td><td>FALSE</td><td>FALSE</td><td>FALSE</td><td>FALSE</td><td>FALSE</td><td>⋯</td><td>FALSE</td><td>FALSE</td><td>FALSE</td><td>FALSE</td><td>FALSE</td><td>FALSE</td><td>FALSE</td><td>FALSE</td><td>FALSE</td><td>FALSE</td></tr>\n",
       "\t<tr><th scope=row>WHB4699</th><td>FALSE</td><td>FALSE</td><td>FALSE</td><td>FALSE</td><td>FALSE</td><td>FALSE</td><td>FALSE</td><td>FALSE</td><td>FALSE</td><td>FALSE</td><td>⋯</td><td>FALSE</td><td>FALSE</td><td>FALSE</td><td>FALSE</td><td>FALSE</td><td>FALSE</td><td>FALSE</td><td>FALSE</td><td>FALSE</td><td>FALSE</td></tr>\n",
       "\t<tr><th scope=row>WHB9883</th><td>FALSE</td><td>FALSE</td><td>FALSE</td><td>FALSE</td><td>FALSE</td><td>FALSE</td><td>FALSE</td><td>FALSE</td><td>FALSE</td><td>FALSE</td><td>⋯</td><td>FALSE</td><td>FALSE</td><td>FALSE</td><td>FALSE</td><td>FALSE</td><td>FALSE</td><td>FALSE</td><td>FALSE</td><td>FALSE</td><td>FALSE</td></tr>\n",
       "\t<tr><th scope=row>WHB1060</th><td>FALSE</td><td>FALSE</td><td>FALSE</td><td> TRUE</td><td> TRUE</td><td> TRUE</td><td>FALSE</td><td>FALSE</td><td>FALSE</td><td>FALSE</td><td>⋯</td><td>FALSE</td><td>FALSE</td><td>FALSE</td><td>FALSE</td><td>FALSE</td><td>FALSE</td><td>FALSE</td><td>FALSE</td><td>FALSE</td><td>FALSE</td></tr>\n",
       "\t<tr><th scope=row>WHB8417</th><td>FALSE</td><td>FALSE</td><td>FALSE</td><td>FALSE</td><td>FALSE</td><td>FALSE</td><td>FALSE</td><td>FALSE</td><td>FALSE</td><td>FALSE</td><td>⋯</td><td>FALSE</td><td>FALSE</td><td>FALSE</td><td>FALSE</td><td>FALSE</td><td>FALSE</td><td>FALSE</td><td>FALSE</td><td>FALSE</td><td>FALSE</td></tr>\n",
       "\t<tr><th scope=row>WHB6339</th><td>FALSE</td><td>FALSE</td><td>FALSE</td><td>FALSE</td><td>FALSE</td><td>FALSE</td><td>FALSE</td><td>FALSE</td><td>FALSE</td><td>FALSE</td><td>⋯</td><td>FALSE</td><td>FALSE</td><td>FALSE</td><td>FALSE</td><td>FALSE</td><td>FALSE</td><td>FALSE</td><td>FALSE</td><td>FALSE</td><td>FALSE</td></tr>\n",
       "\t<tr><th scope=row>WHB8356</th><td>FALSE</td><td>FALSE</td><td>FALSE</td><td> TRUE</td><td>FALSE</td><td>FALSE</td><td>FALSE</td><td>FALSE</td><td>FALSE</td><td>FALSE</td><td>⋯</td><td>FALSE</td><td>FALSE</td><td>FALSE</td><td>FALSE</td><td>FALSE</td><td>FALSE</td><td>FALSE</td><td>FALSE</td><td>FALSE</td><td>FALSE</td></tr>\n",
       "\t<tr><th scope=row>WHB7090</th><td>FALSE</td><td>FALSE</td><td>FALSE</td><td>FALSE</td><td>FALSE</td><td>FALSE</td><td>FALSE</td><td>FALSE</td><td>FALSE</td><td>FALSE</td><td>⋯</td><td>FALSE</td><td>FALSE</td><td>FALSE</td><td>FALSE</td><td>FALSE</td><td>FALSE</td><td>FALSE</td><td>FALSE</td><td>FALSE</td><td>FALSE</td></tr>\n",
       "\t<tr><th scope=row>0116-0039</th><td>FALSE</td><td>FALSE</td><td>FALSE</td><td>FALSE</td><td>FALSE</td><td>FALSE</td><td>FALSE</td><td>FALSE</td><td>FALSE</td><td>FALSE</td><td>⋯</td><td>FALSE</td><td>FALSE</td><td>FALSE</td><td>FALSE</td><td>FALSE</td><td>FALSE</td><td>FALSE</td><td>FALSE</td><td>FALSE</td><td>FALSE</td></tr>\n",
       "\t<tr><th scope=row>WHB5654</th><td>FALSE</td><td>FALSE</td><td>FALSE</td><td>FALSE</td><td>FALSE</td><td>FALSE</td><td>FALSE</td><td>FALSE</td><td>FALSE</td><td>FALSE</td><td>⋯</td><td>FALSE</td><td>FALSE</td><td>FALSE</td><td>FALSE</td><td>FALSE</td><td>FALSE</td><td>FALSE</td><td>FALSE</td><td>FALSE</td><td>FALSE</td></tr>\n",
       "\t<tr><th scope=row>WHB9085</th><td>FALSE</td><td>FALSE</td><td>FALSE</td><td>FALSE</td><td>FALSE</td><td>FALSE</td><td>FALSE</td><td>FALSE</td><td>FALSE</td><td>FALSE</td><td>⋯</td><td>FALSE</td><td>FALSE</td><td>FALSE</td><td>FALSE</td><td>FALSE</td><td>FALSE</td><td>FALSE</td><td>FALSE</td><td>FALSE</td><td>FALSE</td></tr>\n",
       "\t<tr><th scope=row>WHH7014</th><td>FALSE</td><td>FALSE</td><td>FALSE</td><td>FALSE</td><td>FALSE</td><td>FALSE</td><td>FALSE</td><td>FALSE</td><td>FALSE</td><td>FALSE</td><td>⋯</td><td>FALSE</td><td>FALSE</td><td>FALSE</td><td>FALSE</td><td>FALSE</td><td>FALSE</td><td>FALSE</td><td>FALSE</td><td>FALSE</td><td>FALSE</td></tr>\n",
       "\t<tr><th scope=row>WHB9254</th><td>FALSE</td><td>FALSE</td><td>FALSE</td><td>FALSE</td><td>FALSE</td><td>FALSE</td><td>FALSE</td><td>FALSE</td><td>FALSE</td><td>FALSE</td><td>⋯</td><td>FALSE</td><td>FALSE</td><td>FALSE</td><td>FALSE</td><td>FALSE</td><td>FALSE</td><td>FALSE</td><td>FALSE</td><td>FALSE</td><td>FALSE</td></tr>\n",
       "</tbody>\n",
       "</table>\n"
      ],
      "text/latex": [
       "A data.frame: 8617 × 5199\n",
       "\\begin{tabular}{r|lllllllllllllllllllll}\n",
       "  & Paraburkholderia fungorum & Paraburkholderia xenovorans & Paraburkholderia hospita & Ralstonia pickettii & Ralstonia insidiosa & Ralstonia mannitolilytica & Ralstonia solanacearum & Burkholderia cepacia & Burkholderia sp. LA-2-3-30-S1-D2 & Burkholderia metallica & ⋯ & Mycobacterium virus Che12 & Grapevine Cabernet Sauvignon reovirus & Delftia phage IME-DE1 & Fowlpox virus & Bacillus sp. Pc3 & Agrotis segetum nucleopolyhedrovirus B & Vibrio phage 11895-B1 & Mycobacterium phage Milly & Cacao swollen shoot Togo A virus & Streptomyces phage phiSASD1\\\\\n",
       "  & <lgl> & <lgl> & <lgl> & <lgl> & <lgl> & <lgl> & <lgl> & <lgl> & <lgl> & <lgl> & ⋯ & <lgl> & <lgl> & <lgl> & <lgl> & <lgl> & <lgl> & <lgl> & <lgl> & <lgl> & <lgl>\\\\\n",
       "\\hline\n",
       "\tWHB669 &  TRUE & FALSE & FALSE &  TRUE & FALSE & FALSE & FALSE & FALSE & FALSE & FALSE & ⋯ & FALSE & FALSE & FALSE & FALSE & FALSE & FALSE & FALSE & FALSE & FALSE & FALSE\\\\\n",
       "\tWHB8678 & FALSE & FALSE & FALSE & FALSE & FALSE & FALSE & FALSE & FALSE & FALSE & FALSE & ⋯ & FALSE & FALSE & FALSE & FALSE & FALSE & FALSE & FALSE & FALSE & FALSE & FALSE\\\\\n",
       "\tWHH7080 & FALSE & FALSE & FALSE & FALSE & FALSE & FALSE & FALSE & FALSE & FALSE & FALSE & ⋯ & FALSE & FALSE & FALSE & FALSE & FALSE & FALSE & FALSE & FALSE & FALSE & FALSE\\\\\n",
       "\tWHB4818 & FALSE & FALSE & FALSE & FALSE & FALSE & FALSE & FALSE & FALSE & FALSE & FALSE & ⋯ & FALSE & FALSE & FALSE & FALSE & FALSE & FALSE & FALSE & FALSE & FALSE & FALSE\\\\\n",
       "\tWHB9470 & FALSE & FALSE & FALSE & FALSE & FALSE & FALSE & FALSE & FALSE & FALSE & FALSE & ⋯ & FALSE & FALSE & FALSE & FALSE & FALSE & FALSE & FALSE & FALSE & FALSE & FALSE\\\\\n",
       "\tWHB4637 & FALSE & FALSE & FALSE & FALSE & FALSE & FALSE & FALSE & FALSE & FALSE & FALSE & ⋯ & FALSE & FALSE & FALSE & FALSE & FALSE & FALSE & FALSE & FALSE & FALSE & FALSE\\\\\n",
       "\tWHB3974 & FALSE & FALSE & FALSE & FALSE & FALSE & FALSE & FALSE & FALSE & FALSE & FALSE & ⋯ & FALSE & FALSE & FALSE & FALSE & FALSE & FALSE & FALSE & FALSE & FALSE & FALSE\\\\\n",
       "\tWHB7065 & FALSE & FALSE & FALSE & FALSE & FALSE & FALSE & FALSE & FALSE & FALSE & FALSE & ⋯ & FALSE & FALSE & FALSE & FALSE & FALSE & FALSE & FALSE & FALSE & FALSE & FALSE\\\\\n",
       "\tWHB8830 & FALSE & FALSE & FALSE & FALSE & FALSE & FALSE & FALSE & FALSE & FALSE & FALSE & ⋯ & FALSE & FALSE & FALSE & FALSE & FALSE & FALSE & FALSE & FALSE & FALSE & FALSE\\\\\n",
       "\tWHB7956 & FALSE & FALSE & FALSE & FALSE & FALSE & FALSE & FALSE & FALSE & FALSE & FALSE & ⋯ & FALSE & FALSE & FALSE & FALSE & FALSE & FALSE & FALSE & FALSE & FALSE & FALSE\\\\\n",
       "\tWHB6790 & FALSE & FALSE & FALSE & FALSE & FALSE & FALSE & FALSE & FALSE & FALSE & FALSE & ⋯ & FALSE & FALSE & FALSE & FALSE & FALSE & FALSE & FALSE & FALSE & FALSE & FALSE\\\\\n",
       "\tWHH1857 & FALSE & FALSE & FALSE & FALSE & FALSE & FALSE & FALSE & FALSE & FALSE & FALSE & ⋯ & FALSE & FALSE & FALSE & FALSE & FALSE & FALSE & FALSE & FALSE & FALSE & FALSE\\\\\n",
       "\tWHH6873 & FALSE & FALSE & FALSE & FALSE & FALSE & FALSE & FALSE & FALSE & FALSE & FALSE & ⋯ & FALSE & FALSE & FALSE & FALSE & FALSE & FALSE & FALSE & FALSE & FALSE & FALSE\\\\\n",
       "\tWHB7476 & FALSE & FALSE & FALSE & FALSE & FALSE & FALSE & FALSE & FALSE & FALSE & FALSE & ⋯ & FALSE & FALSE & FALSE & FALSE & FALSE & FALSE & FALSE & FALSE & FALSE & FALSE\\\\\n",
       "\tWHB11053 & FALSE & FALSE & FALSE & FALSE & FALSE & FALSE & FALSE & FALSE & FALSE & FALSE & ⋯ & FALSE & FALSE & FALSE & FALSE & FALSE & FALSE & FALSE & FALSE & FALSE & FALSE\\\\\n",
       "\tWHH1078 & FALSE & FALSE & FALSE &  TRUE &  TRUE & FALSE & FALSE & FALSE & FALSE & FALSE & ⋯ & FALSE & FALSE & FALSE & FALSE & FALSE & FALSE & FALSE & FALSE & FALSE & FALSE\\\\\n",
       "\tWHB9042 & FALSE & FALSE & FALSE & FALSE & FALSE & FALSE & FALSE & FALSE & FALSE & FALSE & ⋯ & FALSE & FALSE & FALSE & FALSE & FALSE & FALSE & FALSE & FALSE & FALSE & FALSE\\\\\n",
       "\tWHB5386 & FALSE & FALSE & FALSE & FALSE & FALSE & FALSE & FALSE & FALSE & FALSE & FALSE & ⋯ & FALSE & FALSE & FALSE & FALSE & FALSE & FALSE & FALSE & FALSE & FALSE & FALSE\\\\\n",
       "\tWHH766 & FALSE & FALSE & FALSE & FALSE & FALSE & FALSE & FALSE & FALSE & FALSE & FALSE & ⋯ & FALSE & FALSE & FALSE & FALSE & FALSE & FALSE & FALSE & FALSE & FALSE & FALSE\\\\\n",
       "\tWHB7157 & FALSE & FALSE & FALSE & FALSE & FALSE & FALSE & FALSE & FALSE & FALSE & FALSE & ⋯ & FALSE & FALSE & FALSE & FALSE & FALSE & FALSE & FALSE & FALSE & FALSE & FALSE\\\\\n",
       "\tWHH1653 &  TRUE & FALSE & FALSE &  TRUE &  TRUE &  TRUE &  TRUE & FALSE & FALSE & FALSE & ⋯ & FALSE & FALSE & FALSE & FALSE & FALSE & FALSE & FALSE & FALSE & FALSE & FALSE\\\\\n",
       "\tWHB9075 & FALSE & FALSE & FALSE & FALSE & FALSE & FALSE & FALSE & FALSE & FALSE & FALSE & ⋯ & FALSE & FALSE & FALSE & FALSE & FALSE & FALSE & FALSE & FALSE & FALSE & FALSE\\\\\n",
       "\tWHB6917 & FALSE & FALSE & FALSE & FALSE & FALSE & FALSE & FALSE & FALSE & FALSE & FALSE & ⋯ & FALSE & FALSE & FALSE & FALSE & FALSE & FALSE & FALSE & FALSE & FALSE & FALSE\\\\\n",
       "\tWHB5810 & FALSE & FALSE & FALSE & FALSE & FALSE & FALSE & FALSE & FALSE & FALSE & FALSE & ⋯ & FALSE & FALSE & FALSE & FALSE & FALSE & FALSE & FALSE & FALSE & FALSE & FALSE\\\\\n",
       "\tWHB9248 & FALSE & FALSE & FALSE & FALSE & FALSE & FALSE & FALSE & FALSE & FALSE & FALSE & ⋯ & FALSE & FALSE & FALSE & FALSE & FALSE & FALSE & FALSE & FALSE & FALSE & FALSE\\\\\n",
       "\tWHB8945 & FALSE & FALSE & FALSE & FALSE & FALSE & FALSE & FALSE & FALSE & FALSE & FALSE & ⋯ & FALSE & FALSE & FALSE & FALSE & FALSE & FALSE & FALSE & FALSE & FALSE & FALSE\\\\\n",
       "\tWHH1648 &  TRUE & FALSE & FALSE &  TRUE &  TRUE &  TRUE &  TRUE & FALSE & FALSE & FALSE & ⋯ & FALSE & FALSE & FALSE & FALSE & FALSE & FALSE & FALSE & FALSE & FALSE & FALSE\\\\\n",
       "\tWHB5140 & FALSE & FALSE & FALSE & FALSE & FALSE & FALSE & FALSE & FALSE & FALSE & FALSE & ⋯ & FALSE & FALSE & FALSE & FALSE & FALSE & FALSE & FALSE & FALSE & FALSE & FALSE\\\\\n",
       "\tWHB1061 & FALSE & FALSE & FALSE &  TRUE &  TRUE &  TRUE &  TRUE & FALSE & FALSE & FALSE & ⋯ & FALSE & FALSE & FALSE & FALSE & FALSE & FALSE & FALSE & FALSE & FALSE & FALSE\\\\\n",
       "\tWHB9542 & FALSE & FALSE & FALSE & FALSE & FALSE & FALSE & FALSE & FALSE & FALSE & FALSE & ⋯ & FALSE & FALSE & FALSE & FALSE & FALSE & FALSE & FALSE & FALSE & FALSE & FALSE\\\\\n",
       "\t⋮ & ⋮ & ⋮ & ⋮ & ⋮ & ⋮ & ⋮ & ⋮ & ⋮ & ⋮ & ⋮ & ⋱ & ⋮ & ⋮ & ⋮ & ⋮ & ⋮ & ⋮ & ⋮ & ⋮ & ⋮ & ⋮\\\\\n",
       "\tWHB5812 & FALSE & FALSE & FALSE & FALSE & FALSE & FALSE & FALSE & FALSE & FALSE & FALSE & ⋯ & FALSE & FALSE & FALSE & FALSE & FALSE & FALSE & FALSE & FALSE & FALSE & FALSE\\\\\n",
       "\t0516-0044 & FALSE & FALSE & FALSE & FALSE & FALSE & FALSE & FALSE & FALSE & FALSE & FALSE & ⋯ & FALSE & FALSE & FALSE & FALSE & FALSE & FALSE & FALSE & FALSE & FALSE & FALSE\\\\\n",
       "\tWHB6401 & FALSE & FALSE & FALSE & FALSE & FALSE & FALSE & FALSE & FALSE & FALSE & FALSE & ⋯ & FALSE & FALSE & FALSE & FALSE & FALSE & FALSE & FALSE & FALSE & FALSE & FALSE\\\\\n",
       "\tWHB7792 & FALSE & FALSE & FALSE & FALSE & FALSE & FALSE & FALSE & FALSE & FALSE & FALSE & ⋯ & FALSE & FALSE & FALSE & FALSE & FALSE & FALSE & FALSE & FALSE & FALSE & FALSE\\\\\n",
       "\tWHB3857 & FALSE & FALSE & FALSE & FALSE & FALSE & FALSE & FALSE & FALSE & FALSE & FALSE & ⋯ & FALSE & FALSE & FALSE & FALSE & FALSE & FALSE & FALSE & FALSE & FALSE & FALSE\\\\\n",
       "\tWHB8402 & FALSE & FALSE & FALSE & FALSE & FALSE & FALSE & FALSE & FALSE & FALSE & FALSE & ⋯ & FALSE & FALSE & FALSE & FALSE & FALSE & FALSE & FALSE & FALSE & FALSE & FALSE\\\\\n",
       "\tWHB10311 & FALSE & FALSE & FALSE & FALSE & FALSE & FALSE & FALSE & FALSE & FALSE & FALSE & ⋯ & FALSE & FALSE & FALSE & FALSE & FALSE & FALSE & FALSE & FALSE & FALSE & FALSE\\\\\n",
       "\tWHH922 & FALSE & FALSE & FALSE &  TRUE & FALSE & FALSE & FALSE & FALSE & FALSE & FALSE & ⋯ & FALSE & FALSE & FALSE & FALSE & FALSE & FALSE & FALSE & FALSE & FALSE & FALSE\\\\\n",
       "\tWHB4108 & FALSE & FALSE & FALSE & FALSE & FALSE & FALSE & FALSE & FALSE & FALSE & FALSE & ⋯ & FALSE & FALSE & FALSE & FALSE & FALSE & FALSE & FALSE & FALSE & FALSE & FALSE\\\\\n",
       "\tWHB3591 & FALSE & FALSE & FALSE & FALSE & FALSE & FALSE & FALSE & FALSE & FALSE & FALSE & ⋯ & FALSE & FALSE & FALSE & FALSE & FALSE & FALSE & FALSE & FALSE & FALSE & FALSE\\\\\n",
       "\tWHB5362 & FALSE & FALSE & FALSE & FALSE & FALSE & FALSE & FALSE & FALSE & FALSE & FALSE & ⋯ & FALSE & FALSE & FALSE & FALSE & FALSE & FALSE & FALSE & FALSE & FALSE & FALSE\\\\\n",
       "\tWHB6801 & FALSE & FALSE & FALSE & FALSE & FALSE & FALSE & FALSE & FALSE & FALSE & FALSE & ⋯ & FALSE & FALSE & FALSE & FALSE & FALSE & FALSE & FALSE & FALSE & FALSE & FALSE\\\\\n",
       "\tWHB1065 & FALSE & FALSE & FALSE &  TRUE &  TRUE & FALSE & FALSE & FALSE & FALSE & FALSE & ⋯ & FALSE & FALSE & FALSE & FALSE & FALSE & FALSE & FALSE & FALSE & FALSE & FALSE\\\\\n",
       "\tWHB7938 & FALSE & FALSE & FALSE & FALSE & FALSE & FALSE & FALSE & FALSE & FALSE & FALSE & ⋯ & FALSE & FALSE & FALSE & FALSE & FALSE & FALSE & FALSE & FALSE & FALSE & FALSE\\\\\n",
       "\tWHB9984 & FALSE & FALSE & FALSE & FALSE & FALSE & FALSE & FALSE & FALSE & FALSE & FALSE & ⋯ & FALSE & FALSE & FALSE & FALSE & FALSE & FALSE & FALSE & FALSE & FALSE & FALSE\\\\\n",
       "\tWHB10068 & FALSE & FALSE & FALSE & FALSE & FALSE & FALSE & FALSE & FALSE & FALSE & FALSE & ⋯ & FALSE & FALSE & FALSE & FALSE & FALSE & FALSE & FALSE & FALSE & FALSE & FALSE\\\\\n",
       "\tWHH1517 &  TRUE & FALSE & FALSE &  TRUE &  TRUE &  TRUE &  TRUE & FALSE & FALSE & FALSE & ⋯ & FALSE & FALSE & FALSE & FALSE & FALSE & FALSE & FALSE & FALSE & FALSE & FALSE\\\\\n",
       "\tWHB4873 & FALSE & FALSE & FALSE & FALSE & FALSE & FALSE & FALSE & FALSE & FALSE & FALSE & ⋯ & FALSE & FALSE & FALSE & FALSE & FALSE & FALSE & FALSE & FALSE & FALSE & FALSE\\\\\n",
       "\tWHB4699 & FALSE & FALSE & FALSE & FALSE & FALSE & FALSE & FALSE & FALSE & FALSE & FALSE & ⋯ & FALSE & FALSE & FALSE & FALSE & FALSE & FALSE & FALSE & FALSE & FALSE & FALSE\\\\\n",
       "\tWHB9883 & FALSE & FALSE & FALSE & FALSE & FALSE & FALSE & FALSE & FALSE & FALSE & FALSE & ⋯ & FALSE & FALSE & FALSE & FALSE & FALSE & FALSE & FALSE & FALSE & FALSE & FALSE\\\\\n",
       "\tWHB1060 & FALSE & FALSE & FALSE &  TRUE &  TRUE &  TRUE & FALSE & FALSE & FALSE & FALSE & ⋯ & FALSE & FALSE & FALSE & FALSE & FALSE & FALSE & FALSE & FALSE & FALSE & FALSE\\\\\n",
       "\tWHB8417 & FALSE & FALSE & FALSE & FALSE & FALSE & FALSE & FALSE & FALSE & FALSE & FALSE & ⋯ & FALSE & FALSE & FALSE & FALSE & FALSE & FALSE & FALSE & FALSE & FALSE & FALSE\\\\\n",
       "\tWHB6339 & FALSE & FALSE & FALSE & FALSE & FALSE & FALSE & FALSE & FALSE & FALSE & FALSE & ⋯ & FALSE & FALSE & FALSE & FALSE & FALSE & FALSE & FALSE & FALSE & FALSE & FALSE\\\\\n",
       "\tWHB8356 & FALSE & FALSE & FALSE &  TRUE & FALSE & FALSE & FALSE & FALSE & FALSE & FALSE & ⋯ & FALSE & FALSE & FALSE & FALSE & FALSE & FALSE & FALSE & FALSE & FALSE & FALSE\\\\\n",
       "\tWHB7090 & FALSE & FALSE & FALSE & FALSE & FALSE & FALSE & FALSE & FALSE & FALSE & FALSE & ⋯ & FALSE & FALSE & FALSE & FALSE & FALSE & FALSE & FALSE & FALSE & FALSE & FALSE\\\\\n",
       "\t0116-0039 & FALSE & FALSE & FALSE & FALSE & FALSE & FALSE & FALSE & FALSE & FALSE & FALSE & ⋯ & FALSE & FALSE & FALSE & FALSE & FALSE & FALSE & FALSE & FALSE & FALSE & FALSE\\\\\n",
       "\tWHB5654 & FALSE & FALSE & FALSE & FALSE & FALSE & FALSE & FALSE & FALSE & FALSE & FALSE & ⋯ & FALSE & FALSE & FALSE & FALSE & FALSE & FALSE & FALSE & FALSE & FALSE & FALSE\\\\\n",
       "\tWHB9085 & FALSE & FALSE & FALSE & FALSE & FALSE & FALSE & FALSE & FALSE & FALSE & FALSE & ⋯ & FALSE & FALSE & FALSE & FALSE & FALSE & FALSE & FALSE & FALSE & FALSE & FALSE\\\\\n",
       "\tWHH7014 & FALSE & FALSE & FALSE & FALSE & FALSE & FALSE & FALSE & FALSE & FALSE & FALSE & ⋯ & FALSE & FALSE & FALSE & FALSE & FALSE & FALSE & FALSE & FALSE & FALSE & FALSE\\\\\n",
       "\tWHB9254 & FALSE & FALSE & FALSE & FALSE & FALSE & FALSE & FALSE & FALSE & FALSE & FALSE & ⋯ & FALSE & FALSE & FALSE & FALSE & FALSE & FALSE & FALSE & FALSE & FALSE & FALSE\\\\\n",
       "\\end{tabular}\n"
      ],
      "text/markdown": [
       "\n",
       "A data.frame: 8617 × 5199\n",
       "\n",
       "| <!--/--> | Paraburkholderia fungorum &lt;lgl&gt; | Paraburkholderia xenovorans &lt;lgl&gt; | Paraburkholderia hospita &lt;lgl&gt; | Ralstonia pickettii &lt;lgl&gt; | Ralstonia insidiosa &lt;lgl&gt; | Ralstonia mannitolilytica &lt;lgl&gt; | Ralstonia solanacearum &lt;lgl&gt; | Burkholderia cepacia &lt;lgl&gt; | Burkholderia sp. LA-2-3-30-S1-D2 &lt;lgl&gt; | Burkholderia metallica &lt;lgl&gt; | ⋯ ⋯ | Mycobacterium virus Che12 &lt;lgl&gt; | Grapevine Cabernet Sauvignon reovirus &lt;lgl&gt; | Delftia phage IME-DE1 &lt;lgl&gt; | Fowlpox virus &lt;lgl&gt; | Bacillus sp. Pc3 &lt;lgl&gt; | Agrotis segetum nucleopolyhedrovirus B &lt;lgl&gt; | Vibrio phage 11895-B1 &lt;lgl&gt; | Mycobacterium phage Milly &lt;lgl&gt; | Cacao swollen shoot Togo A virus &lt;lgl&gt; | Streptomyces phage phiSASD1 &lt;lgl&gt; |\n",
       "|---|---|---|---|---|---|---|---|---|---|---|---|---|---|---|---|---|---|---|---|---|---|\n",
       "| WHB669 |  TRUE | FALSE | FALSE |  TRUE | FALSE | FALSE | FALSE | FALSE | FALSE | FALSE | ⋯ | FALSE | FALSE | FALSE | FALSE | FALSE | FALSE | FALSE | FALSE | FALSE | FALSE |\n",
       "| WHB8678 | FALSE | FALSE | FALSE | FALSE | FALSE | FALSE | FALSE | FALSE | FALSE | FALSE | ⋯ | FALSE | FALSE | FALSE | FALSE | FALSE | FALSE | FALSE | FALSE | FALSE | FALSE |\n",
       "| WHH7080 | FALSE | FALSE | FALSE | FALSE | FALSE | FALSE | FALSE | FALSE | FALSE | FALSE | ⋯ | FALSE | FALSE | FALSE | FALSE | FALSE | FALSE | FALSE | FALSE | FALSE | FALSE |\n",
       "| WHB4818 | FALSE | FALSE | FALSE | FALSE | FALSE | FALSE | FALSE | FALSE | FALSE | FALSE | ⋯ | FALSE | FALSE | FALSE | FALSE | FALSE | FALSE | FALSE | FALSE | FALSE | FALSE |\n",
       "| WHB9470 | FALSE | FALSE | FALSE | FALSE | FALSE | FALSE | FALSE | FALSE | FALSE | FALSE | ⋯ | FALSE | FALSE | FALSE | FALSE | FALSE | FALSE | FALSE | FALSE | FALSE | FALSE |\n",
       "| WHB4637 | FALSE | FALSE | FALSE | FALSE | FALSE | FALSE | FALSE | FALSE | FALSE | FALSE | ⋯ | FALSE | FALSE | FALSE | FALSE | FALSE | FALSE | FALSE | FALSE | FALSE | FALSE |\n",
       "| WHB3974 | FALSE | FALSE | FALSE | FALSE | FALSE | FALSE | FALSE | FALSE | FALSE | FALSE | ⋯ | FALSE | FALSE | FALSE | FALSE | FALSE | FALSE | FALSE | FALSE | FALSE | FALSE |\n",
       "| WHB7065 | FALSE | FALSE | FALSE | FALSE | FALSE | FALSE | FALSE | FALSE | FALSE | FALSE | ⋯ | FALSE | FALSE | FALSE | FALSE | FALSE | FALSE | FALSE | FALSE | FALSE | FALSE |\n",
       "| WHB8830 | FALSE | FALSE | FALSE | FALSE | FALSE | FALSE | FALSE | FALSE | FALSE | FALSE | ⋯ | FALSE | FALSE | FALSE | FALSE | FALSE | FALSE | FALSE | FALSE | FALSE | FALSE |\n",
       "| WHB7956 | FALSE | FALSE | FALSE | FALSE | FALSE | FALSE | FALSE | FALSE | FALSE | FALSE | ⋯ | FALSE | FALSE | FALSE | FALSE | FALSE | FALSE | FALSE | FALSE | FALSE | FALSE |\n",
       "| WHB6790 | FALSE | FALSE | FALSE | FALSE | FALSE | FALSE | FALSE | FALSE | FALSE | FALSE | ⋯ | FALSE | FALSE | FALSE | FALSE | FALSE | FALSE | FALSE | FALSE | FALSE | FALSE |\n",
       "| WHH1857 | FALSE | FALSE | FALSE | FALSE | FALSE | FALSE | FALSE | FALSE | FALSE | FALSE | ⋯ | FALSE | FALSE | FALSE | FALSE | FALSE | FALSE | FALSE | FALSE | FALSE | FALSE |\n",
       "| WHH6873 | FALSE | FALSE | FALSE | FALSE | FALSE | FALSE | FALSE | FALSE | FALSE | FALSE | ⋯ | FALSE | FALSE | FALSE | FALSE | FALSE | FALSE | FALSE | FALSE | FALSE | FALSE |\n",
       "| WHB7476 | FALSE | FALSE | FALSE | FALSE | FALSE | FALSE | FALSE | FALSE | FALSE | FALSE | ⋯ | FALSE | FALSE | FALSE | FALSE | FALSE | FALSE | FALSE | FALSE | FALSE | FALSE |\n",
       "| WHB11053 | FALSE | FALSE | FALSE | FALSE | FALSE | FALSE | FALSE | FALSE | FALSE | FALSE | ⋯ | FALSE | FALSE | FALSE | FALSE | FALSE | FALSE | FALSE | FALSE | FALSE | FALSE |\n",
       "| WHH1078 | FALSE | FALSE | FALSE |  TRUE |  TRUE | FALSE | FALSE | FALSE | FALSE | FALSE | ⋯ | FALSE | FALSE | FALSE | FALSE | FALSE | FALSE | FALSE | FALSE | FALSE | FALSE |\n",
       "| WHB9042 | FALSE | FALSE | FALSE | FALSE | FALSE | FALSE | FALSE | FALSE | FALSE | FALSE | ⋯ | FALSE | FALSE | FALSE | FALSE | FALSE | FALSE | FALSE | FALSE | FALSE | FALSE |\n",
       "| WHB5386 | FALSE | FALSE | FALSE | FALSE | FALSE | FALSE | FALSE | FALSE | FALSE | FALSE | ⋯ | FALSE | FALSE | FALSE | FALSE | FALSE | FALSE | FALSE | FALSE | FALSE | FALSE |\n",
       "| WHH766 | FALSE | FALSE | FALSE | FALSE | FALSE | FALSE | FALSE | FALSE | FALSE | FALSE | ⋯ | FALSE | FALSE | FALSE | FALSE | FALSE | FALSE | FALSE | FALSE | FALSE | FALSE |\n",
       "| WHB7157 | FALSE | FALSE | FALSE | FALSE | FALSE | FALSE | FALSE | FALSE | FALSE | FALSE | ⋯ | FALSE | FALSE | FALSE | FALSE | FALSE | FALSE | FALSE | FALSE | FALSE | FALSE |\n",
       "| WHH1653 |  TRUE | FALSE | FALSE |  TRUE |  TRUE |  TRUE |  TRUE | FALSE | FALSE | FALSE | ⋯ | FALSE | FALSE | FALSE | FALSE | FALSE | FALSE | FALSE | FALSE | FALSE | FALSE |\n",
       "| WHB9075 | FALSE | FALSE | FALSE | FALSE | FALSE | FALSE | FALSE | FALSE | FALSE | FALSE | ⋯ | FALSE | FALSE | FALSE | FALSE | FALSE | FALSE | FALSE | FALSE | FALSE | FALSE |\n",
       "| WHB6917 | FALSE | FALSE | FALSE | FALSE | FALSE | FALSE | FALSE | FALSE | FALSE | FALSE | ⋯ | FALSE | FALSE | FALSE | FALSE | FALSE | FALSE | FALSE | FALSE | FALSE | FALSE |\n",
       "| WHB5810 | FALSE | FALSE | FALSE | FALSE | FALSE | FALSE | FALSE | FALSE | FALSE | FALSE | ⋯ | FALSE | FALSE | FALSE | FALSE | FALSE | FALSE | FALSE | FALSE | FALSE | FALSE |\n",
       "| WHB9248 | FALSE | FALSE | FALSE | FALSE | FALSE | FALSE | FALSE | FALSE | FALSE | FALSE | ⋯ | FALSE | FALSE | FALSE | FALSE | FALSE | FALSE | FALSE | FALSE | FALSE | FALSE |\n",
       "| WHB8945 | FALSE | FALSE | FALSE | FALSE | FALSE | FALSE | FALSE | FALSE | FALSE | FALSE | ⋯ | FALSE | FALSE | FALSE | FALSE | FALSE | FALSE | FALSE | FALSE | FALSE | FALSE |\n",
       "| WHH1648 |  TRUE | FALSE | FALSE |  TRUE |  TRUE |  TRUE |  TRUE | FALSE | FALSE | FALSE | ⋯ | FALSE | FALSE | FALSE | FALSE | FALSE | FALSE | FALSE | FALSE | FALSE | FALSE |\n",
       "| WHB5140 | FALSE | FALSE | FALSE | FALSE | FALSE | FALSE | FALSE | FALSE | FALSE | FALSE | ⋯ | FALSE | FALSE | FALSE | FALSE | FALSE | FALSE | FALSE | FALSE | FALSE | FALSE |\n",
       "| WHB1061 | FALSE | FALSE | FALSE |  TRUE |  TRUE |  TRUE |  TRUE | FALSE | FALSE | FALSE | ⋯ | FALSE | FALSE | FALSE | FALSE | FALSE | FALSE | FALSE | FALSE | FALSE | FALSE |\n",
       "| WHB9542 | FALSE | FALSE | FALSE | FALSE | FALSE | FALSE | FALSE | FALSE | FALSE | FALSE | ⋯ | FALSE | FALSE | FALSE | FALSE | FALSE | FALSE | FALSE | FALSE | FALSE | FALSE |\n",
       "| ⋮ | ⋮ | ⋮ | ⋮ | ⋮ | ⋮ | ⋮ | ⋮ | ⋮ | ⋮ | ⋮ | ⋱ | ⋮ | ⋮ | ⋮ | ⋮ | ⋮ | ⋮ | ⋮ | ⋮ | ⋮ | ⋮ |\n",
       "| WHB5812 | FALSE | FALSE | FALSE | FALSE | FALSE | FALSE | FALSE | FALSE | FALSE | FALSE | ⋯ | FALSE | FALSE | FALSE | FALSE | FALSE | FALSE | FALSE | FALSE | FALSE | FALSE |\n",
       "| 0516-0044 | FALSE | FALSE | FALSE | FALSE | FALSE | FALSE | FALSE | FALSE | FALSE | FALSE | ⋯ | FALSE | FALSE | FALSE | FALSE | FALSE | FALSE | FALSE | FALSE | FALSE | FALSE |\n",
       "| WHB6401 | FALSE | FALSE | FALSE | FALSE | FALSE | FALSE | FALSE | FALSE | FALSE | FALSE | ⋯ | FALSE | FALSE | FALSE | FALSE | FALSE | FALSE | FALSE | FALSE | FALSE | FALSE |\n",
       "| WHB7792 | FALSE | FALSE | FALSE | FALSE | FALSE | FALSE | FALSE | FALSE | FALSE | FALSE | ⋯ | FALSE | FALSE | FALSE | FALSE | FALSE | FALSE | FALSE | FALSE | FALSE | FALSE |\n",
       "| WHB3857 | FALSE | FALSE | FALSE | FALSE | FALSE | FALSE | FALSE | FALSE | FALSE | FALSE | ⋯ | FALSE | FALSE | FALSE | FALSE | FALSE | FALSE | FALSE | FALSE | FALSE | FALSE |\n",
       "| WHB8402 | FALSE | FALSE | FALSE | FALSE | FALSE | FALSE | FALSE | FALSE | FALSE | FALSE | ⋯ | FALSE | FALSE | FALSE | FALSE | FALSE | FALSE | FALSE | FALSE | FALSE | FALSE |\n",
       "| WHB10311 | FALSE | FALSE | FALSE | FALSE | FALSE | FALSE | FALSE | FALSE | FALSE | FALSE | ⋯ | FALSE | FALSE | FALSE | FALSE | FALSE | FALSE | FALSE | FALSE | FALSE | FALSE |\n",
       "| WHH922 | FALSE | FALSE | FALSE |  TRUE | FALSE | FALSE | FALSE | FALSE | FALSE | FALSE | ⋯ | FALSE | FALSE | FALSE | FALSE | FALSE | FALSE | FALSE | FALSE | FALSE | FALSE |\n",
       "| WHB4108 | FALSE | FALSE | FALSE | FALSE | FALSE | FALSE | FALSE | FALSE | FALSE | FALSE | ⋯ | FALSE | FALSE | FALSE | FALSE | FALSE | FALSE | FALSE | FALSE | FALSE | FALSE |\n",
       "| WHB3591 | FALSE | FALSE | FALSE | FALSE | FALSE | FALSE | FALSE | FALSE | FALSE | FALSE | ⋯ | FALSE | FALSE | FALSE | FALSE | FALSE | FALSE | FALSE | FALSE | FALSE | FALSE |\n",
       "| WHB5362 | FALSE | FALSE | FALSE | FALSE | FALSE | FALSE | FALSE | FALSE | FALSE | FALSE | ⋯ | FALSE | FALSE | FALSE | FALSE | FALSE | FALSE | FALSE | FALSE | FALSE | FALSE |\n",
       "| WHB6801 | FALSE | FALSE | FALSE | FALSE | FALSE | FALSE | FALSE | FALSE | FALSE | FALSE | ⋯ | FALSE | FALSE | FALSE | FALSE | FALSE | FALSE | FALSE | FALSE | FALSE | FALSE |\n",
       "| WHB1065 | FALSE | FALSE | FALSE |  TRUE |  TRUE | FALSE | FALSE | FALSE | FALSE | FALSE | ⋯ | FALSE | FALSE | FALSE | FALSE | FALSE | FALSE | FALSE | FALSE | FALSE | FALSE |\n",
       "| WHB7938 | FALSE | FALSE | FALSE | FALSE | FALSE | FALSE | FALSE | FALSE | FALSE | FALSE | ⋯ | FALSE | FALSE | FALSE | FALSE | FALSE | FALSE | FALSE | FALSE | FALSE | FALSE |\n",
       "| WHB9984 | FALSE | FALSE | FALSE | FALSE | FALSE | FALSE | FALSE | FALSE | FALSE | FALSE | ⋯ | FALSE | FALSE | FALSE | FALSE | FALSE | FALSE | FALSE | FALSE | FALSE | FALSE |\n",
       "| WHB10068 | FALSE | FALSE | FALSE | FALSE | FALSE | FALSE | FALSE | FALSE | FALSE | FALSE | ⋯ | FALSE | FALSE | FALSE | FALSE | FALSE | FALSE | FALSE | FALSE | FALSE | FALSE |\n",
       "| WHH1517 |  TRUE | FALSE | FALSE |  TRUE |  TRUE |  TRUE |  TRUE | FALSE | FALSE | FALSE | ⋯ | FALSE | FALSE | FALSE | FALSE | FALSE | FALSE | FALSE | FALSE | FALSE | FALSE |\n",
       "| WHB4873 | FALSE | FALSE | FALSE | FALSE | FALSE | FALSE | FALSE | FALSE | FALSE | FALSE | ⋯ | FALSE | FALSE | FALSE | FALSE | FALSE | FALSE | FALSE | FALSE | FALSE | FALSE |\n",
       "| WHB4699 | FALSE | FALSE | FALSE | FALSE | FALSE | FALSE | FALSE | FALSE | FALSE | FALSE | ⋯ | FALSE | FALSE | FALSE | FALSE | FALSE | FALSE | FALSE | FALSE | FALSE | FALSE |\n",
       "| WHB9883 | FALSE | FALSE | FALSE | FALSE | FALSE | FALSE | FALSE | FALSE | FALSE | FALSE | ⋯ | FALSE | FALSE | FALSE | FALSE | FALSE | FALSE | FALSE | FALSE | FALSE | FALSE |\n",
       "| WHB1060 | FALSE | FALSE | FALSE |  TRUE |  TRUE |  TRUE | FALSE | FALSE | FALSE | FALSE | ⋯ | FALSE | FALSE | FALSE | FALSE | FALSE | FALSE | FALSE | FALSE | FALSE | FALSE |\n",
       "| WHB8417 | FALSE | FALSE | FALSE | FALSE | FALSE | FALSE | FALSE | FALSE | FALSE | FALSE | ⋯ | FALSE | FALSE | FALSE | FALSE | FALSE | FALSE | FALSE | FALSE | FALSE | FALSE |\n",
       "| WHB6339 | FALSE | FALSE | FALSE | FALSE | FALSE | FALSE | FALSE | FALSE | FALSE | FALSE | ⋯ | FALSE | FALSE | FALSE | FALSE | FALSE | FALSE | FALSE | FALSE | FALSE | FALSE |\n",
       "| WHB8356 | FALSE | FALSE | FALSE |  TRUE | FALSE | FALSE | FALSE | FALSE | FALSE | FALSE | ⋯ | FALSE | FALSE | FALSE | FALSE | FALSE | FALSE | FALSE | FALSE | FALSE | FALSE |\n",
       "| WHB7090 | FALSE | FALSE | FALSE | FALSE | FALSE | FALSE | FALSE | FALSE | FALSE | FALSE | ⋯ | FALSE | FALSE | FALSE | FALSE | FALSE | FALSE | FALSE | FALSE | FALSE | FALSE |\n",
       "| 0116-0039 | FALSE | FALSE | FALSE | FALSE | FALSE | FALSE | FALSE | FALSE | FALSE | FALSE | ⋯ | FALSE | FALSE | FALSE | FALSE | FALSE | FALSE | FALSE | FALSE | FALSE | FALSE |\n",
       "| WHB5654 | FALSE | FALSE | FALSE | FALSE | FALSE | FALSE | FALSE | FALSE | FALSE | FALSE | ⋯ | FALSE | FALSE | FALSE | FALSE | FALSE | FALSE | FALSE | FALSE | FALSE | FALSE |\n",
       "| WHB9085 | FALSE | FALSE | FALSE | FALSE | FALSE | FALSE | FALSE | FALSE | FALSE | FALSE | ⋯ | FALSE | FALSE | FALSE | FALSE | FALSE | FALSE | FALSE | FALSE | FALSE | FALSE |\n",
       "| WHH7014 | FALSE | FALSE | FALSE | FALSE | FALSE | FALSE | FALSE | FALSE | FALSE | FALSE | ⋯ | FALSE | FALSE | FALSE | FALSE | FALSE | FALSE | FALSE | FALSE | FALSE | FALSE |\n",
       "| WHB9254 | FALSE | FALSE | FALSE | FALSE | FALSE | FALSE | FALSE | FALSE | FALSE | FALSE | ⋯ | FALSE | FALSE | FALSE | FALSE | FALSE | FALSE | FALSE | FALSE | FALSE | FALSE |\n",
       "\n"
      ],
      "text/plain": [
       "          Paraburkholderia fungorum Paraburkholderia xenovorans\n",
       "WHB669     TRUE                     FALSE                      \n",
       "WHB8678   FALSE                     FALSE                      \n",
       "WHH7080   FALSE                     FALSE                      \n",
       "WHB4818   FALSE                     FALSE                      \n",
       "WHB9470   FALSE                     FALSE                      \n",
       "WHB4637   FALSE                     FALSE                      \n",
       "WHB3974   FALSE                     FALSE                      \n",
       "WHB7065   FALSE                     FALSE                      \n",
       "WHB8830   FALSE                     FALSE                      \n",
       "WHB7956   FALSE                     FALSE                      \n",
       "WHB6790   FALSE                     FALSE                      \n",
       "WHH1857   FALSE                     FALSE                      \n",
       "WHH6873   FALSE                     FALSE                      \n",
       "WHB7476   FALSE                     FALSE                      \n",
       "WHB11053  FALSE                     FALSE                      \n",
       "WHH1078   FALSE                     FALSE                      \n",
       "WHB9042   FALSE                     FALSE                      \n",
       "WHB5386   FALSE                     FALSE                      \n",
       "WHH766    FALSE                     FALSE                      \n",
       "WHB7157   FALSE                     FALSE                      \n",
       "WHH1653    TRUE                     FALSE                      \n",
       "WHB9075   FALSE                     FALSE                      \n",
       "WHB6917   FALSE                     FALSE                      \n",
       "WHB5810   FALSE                     FALSE                      \n",
       "WHB9248   FALSE                     FALSE                      \n",
       "WHB8945   FALSE                     FALSE                      \n",
       "WHH1648    TRUE                     FALSE                      \n",
       "WHB5140   FALSE                     FALSE                      \n",
       "WHB1061   FALSE                     FALSE                      \n",
       "WHB9542   FALSE                     FALSE                      \n",
       "⋮         ⋮                         ⋮                          \n",
       "WHB5812   FALSE                     FALSE                      \n",
       "0516-0044 FALSE                     FALSE                      \n",
       "WHB6401   FALSE                     FALSE                      \n",
       "WHB7792   FALSE                     FALSE                      \n",
       "WHB3857   FALSE                     FALSE                      \n",
       "WHB8402   FALSE                     FALSE                      \n",
       "WHB10311  FALSE                     FALSE                      \n",
       "WHH922    FALSE                     FALSE                      \n",
       "WHB4108   FALSE                     FALSE                      \n",
       "WHB3591   FALSE                     FALSE                      \n",
       "WHB5362   FALSE                     FALSE                      \n",
       "WHB6801   FALSE                     FALSE                      \n",
       "WHB1065   FALSE                     FALSE                      \n",
       "WHB7938   FALSE                     FALSE                      \n",
       "WHB9984   FALSE                     FALSE                      \n",
       "WHB10068  FALSE                     FALSE                      \n",
       "WHH1517    TRUE                     FALSE                      \n",
       "WHB4873   FALSE                     FALSE                      \n",
       "WHB4699   FALSE                     FALSE                      \n",
       "WHB9883   FALSE                     FALSE                      \n",
       "WHB1060   FALSE                     FALSE                      \n",
       "WHB8417   FALSE                     FALSE                      \n",
       "WHB6339   FALSE                     FALSE                      \n",
       "WHB8356   FALSE                     FALSE                      \n",
       "WHB7090   FALSE                     FALSE                      \n",
       "0116-0039 FALSE                     FALSE                      \n",
       "WHB5654   FALSE                     FALSE                      \n",
       "WHB9085   FALSE                     FALSE                      \n",
       "WHH7014   FALSE                     FALSE                      \n",
       "WHB9254   FALSE                     FALSE                      \n",
       "          Paraburkholderia hospita Ralstonia pickettii Ralstonia insidiosa\n",
       "WHB669    FALSE                     TRUE               FALSE              \n",
       "WHB8678   FALSE                    FALSE               FALSE              \n",
       "WHH7080   FALSE                    FALSE               FALSE              \n",
       "WHB4818   FALSE                    FALSE               FALSE              \n",
       "WHB9470   FALSE                    FALSE               FALSE              \n",
       "WHB4637   FALSE                    FALSE               FALSE              \n",
       "WHB3974   FALSE                    FALSE               FALSE              \n",
       "WHB7065   FALSE                    FALSE               FALSE              \n",
       "WHB8830   FALSE                    FALSE               FALSE              \n",
       "WHB7956   FALSE                    FALSE               FALSE              \n",
       "WHB6790   FALSE                    FALSE               FALSE              \n",
       "WHH1857   FALSE                    FALSE               FALSE              \n",
       "WHH6873   FALSE                    FALSE               FALSE              \n",
       "WHB7476   FALSE                    FALSE               FALSE              \n",
       "WHB11053  FALSE                    FALSE               FALSE              \n",
       "WHH1078   FALSE                     TRUE                TRUE              \n",
       "WHB9042   FALSE                    FALSE               FALSE              \n",
       "WHB5386   FALSE                    FALSE               FALSE              \n",
       "WHH766    FALSE                    FALSE               FALSE              \n",
       "WHB7157   FALSE                    FALSE               FALSE              \n",
       "WHH1653   FALSE                     TRUE                TRUE              \n",
       "WHB9075   FALSE                    FALSE               FALSE              \n",
       "WHB6917   FALSE                    FALSE               FALSE              \n",
       "WHB5810   FALSE                    FALSE               FALSE              \n",
       "WHB9248   FALSE                    FALSE               FALSE              \n",
       "WHB8945   FALSE                    FALSE               FALSE              \n",
       "WHH1648   FALSE                     TRUE                TRUE              \n",
       "WHB5140   FALSE                    FALSE               FALSE              \n",
       "WHB1061   FALSE                     TRUE                TRUE              \n",
       "WHB9542   FALSE                    FALSE               FALSE              \n",
       "⋮         ⋮                        ⋮                   ⋮                  \n",
       "WHB5812   FALSE                    FALSE               FALSE              \n",
       "0516-0044 FALSE                    FALSE               FALSE              \n",
       "WHB6401   FALSE                    FALSE               FALSE              \n",
       "WHB7792   FALSE                    FALSE               FALSE              \n",
       "WHB3857   FALSE                    FALSE               FALSE              \n",
       "WHB8402   FALSE                    FALSE               FALSE              \n",
       "WHB10311  FALSE                    FALSE               FALSE              \n",
       "WHH922    FALSE                     TRUE               FALSE              \n",
       "WHB4108   FALSE                    FALSE               FALSE              \n",
       "WHB3591   FALSE                    FALSE               FALSE              \n",
       "WHB5362   FALSE                    FALSE               FALSE              \n",
       "WHB6801   FALSE                    FALSE               FALSE              \n",
       "WHB1065   FALSE                     TRUE                TRUE              \n",
       "WHB7938   FALSE                    FALSE               FALSE              \n",
       "WHB9984   FALSE                    FALSE               FALSE              \n",
       "WHB10068  FALSE                    FALSE               FALSE              \n",
       "WHH1517   FALSE                     TRUE                TRUE              \n",
       "WHB4873   FALSE                    FALSE               FALSE              \n",
       "WHB4699   FALSE                    FALSE               FALSE              \n",
       "WHB9883   FALSE                    FALSE               FALSE              \n",
       "WHB1060   FALSE                     TRUE                TRUE              \n",
       "WHB8417   FALSE                    FALSE               FALSE              \n",
       "WHB6339   FALSE                    FALSE               FALSE              \n",
       "WHB8356   FALSE                     TRUE               FALSE              \n",
       "WHB7090   FALSE                    FALSE               FALSE              \n",
       "0116-0039 FALSE                    FALSE               FALSE              \n",
       "WHB5654   FALSE                    FALSE               FALSE              \n",
       "WHB9085   FALSE                    FALSE               FALSE              \n",
       "WHH7014   FALSE                    FALSE               FALSE              \n",
       "WHB9254   FALSE                    FALSE               FALSE              \n",
       "          Ralstonia mannitolilytica Ralstonia solanacearum Burkholderia cepacia\n",
       "WHB669    FALSE                     FALSE                  FALSE               \n",
       "WHB8678   FALSE                     FALSE                  FALSE               \n",
       "WHH7080   FALSE                     FALSE                  FALSE               \n",
       "WHB4818   FALSE                     FALSE                  FALSE               \n",
       "WHB9470   FALSE                     FALSE                  FALSE               \n",
       "WHB4637   FALSE                     FALSE                  FALSE               \n",
       "WHB3974   FALSE                     FALSE                  FALSE               \n",
       "WHB7065   FALSE                     FALSE                  FALSE               \n",
       "WHB8830   FALSE                     FALSE                  FALSE               \n",
       "WHB7956   FALSE                     FALSE                  FALSE               \n",
       "WHB6790   FALSE                     FALSE                  FALSE               \n",
       "WHH1857   FALSE                     FALSE                  FALSE               \n",
       "WHH6873   FALSE                     FALSE                  FALSE               \n",
       "WHB7476   FALSE                     FALSE                  FALSE               \n",
       "WHB11053  FALSE                     FALSE                  FALSE               \n",
       "WHH1078   FALSE                     FALSE                  FALSE               \n",
       "WHB9042   FALSE                     FALSE                  FALSE               \n",
       "WHB5386   FALSE                     FALSE                  FALSE               \n",
       "WHH766    FALSE                     FALSE                  FALSE               \n",
       "WHB7157   FALSE                     FALSE                  FALSE               \n",
       "WHH1653    TRUE                      TRUE                  FALSE               \n",
       "WHB9075   FALSE                     FALSE                  FALSE               \n",
       "WHB6917   FALSE                     FALSE                  FALSE               \n",
       "WHB5810   FALSE                     FALSE                  FALSE               \n",
       "WHB9248   FALSE                     FALSE                  FALSE               \n",
       "WHB8945   FALSE                     FALSE                  FALSE               \n",
       "WHH1648    TRUE                      TRUE                  FALSE               \n",
       "WHB5140   FALSE                     FALSE                  FALSE               \n",
       "WHB1061    TRUE                      TRUE                  FALSE               \n",
       "WHB9542   FALSE                     FALSE                  FALSE               \n",
       "⋮         ⋮                         ⋮                      ⋮                   \n",
       "WHB5812   FALSE                     FALSE                  FALSE               \n",
       "0516-0044 FALSE                     FALSE                  FALSE               \n",
       "WHB6401   FALSE                     FALSE                  FALSE               \n",
       "WHB7792   FALSE                     FALSE                  FALSE               \n",
       "WHB3857   FALSE                     FALSE                  FALSE               \n",
       "WHB8402   FALSE                     FALSE                  FALSE               \n",
       "WHB10311  FALSE                     FALSE                  FALSE               \n",
       "WHH922    FALSE                     FALSE                  FALSE               \n",
       "WHB4108   FALSE                     FALSE                  FALSE               \n",
       "WHB3591   FALSE                     FALSE                  FALSE               \n",
       "WHB5362   FALSE                     FALSE                  FALSE               \n",
       "WHB6801   FALSE                     FALSE                  FALSE               \n",
       "WHB1065   FALSE                     FALSE                  FALSE               \n",
       "WHB7938   FALSE                     FALSE                  FALSE               \n",
       "WHB9984   FALSE                     FALSE                  FALSE               \n",
       "WHB10068  FALSE                     FALSE                  FALSE               \n",
       "WHH1517    TRUE                      TRUE                  FALSE               \n",
       "WHB4873   FALSE                     FALSE                  FALSE               \n",
       "WHB4699   FALSE                     FALSE                  FALSE               \n",
       "WHB9883   FALSE                     FALSE                  FALSE               \n",
       "WHB1060    TRUE                     FALSE                  FALSE               \n",
       "WHB8417   FALSE                     FALSE                  FALSE               \n",
       "WHB6339   FALSE                     FALSE                  FALSE               \n",
       "WHB8356   FALSE                     FALSE                  FALSE               \n",
       "WHB7090   FALSE                     FALSE                  FALSE               \n",
       "0116-0039 FALSE                     FALSE                  FALSE               \n",
       "WHB5654   FALSE                     FALSE                  FALSE               \n",
       "WHB9085   FALSE                     FALSE                  FALSE               \n",
       "WHH7014   FALSE                     FALSE                  FALSE               \n",
       "WHB9254   FALSE                     FALSE                  FALSE               \n",
       "          Burkholderia sp. LA-2-3-30-S1-D2 Burkholderia metallica ⋯\n",
       "WHB669    FALSE                            FALSE                  ⋯\n",
       "WHB8678   FALSE                            FALSE                  ⋯\n",
       "WHH7080   FALSE                            FALSE                  ⋯\n",
       "WHB4818   FALSE                            FALSE                  ⋯\n",
       "WHB9470   FALSE                            FALSE                  ⋯\n",
       "WHB4637   FALSE                            FALSE                  ⋯\n",
       "WHB3974   FALSE                            FALSE                  ⋯\n",
       "WHB7065   FALSE                            FALSE                  ⋯\n",
       "WHB8830   FALSE                            FALSE                  ⋯\n",
       "WHB7956   FALSE                            FALSE                  ⋯\n",
       "WHB6790   FALSE                            FALSE                  ⋯\n",
       "WHH1857   FALSE                            FALSE                  ⋯\n",
       "WHH6873   FALSE                            FALSE                  ⋯\n",
       "WHB7476   FALSE                            FALSE                  ⋯\n",
       "WHB11053  FALSE                            FALSE                  ⋯\n",
       "WHH1078   FALSE                            FALSE                  ⋯\n",
       "WHB9042   FALSE                            FALSE                  ⋯\n",
       "WHB5386   FALSE                            FALSE                  ⋯\n",
       "WHH766    FALSE                            FALSE                  ⋯\n",
       "WHB7157   FALSE                            FALSE                  ⋯\n",
       "WHH1653   FALSE                            FALSE                  ⋯\n",
       "WHB9075   FALSE                            FALSE                  ⋯\n",
       "WHB6917   FALSE                            FALSE                  ⋯\n",
       "WHB5810   FALSE                            FALSE                  ⋯\n",
       "WHB9248   FALSE                            FALSE                  ⋯\n",
       "WHB8945   FALSE                            FALSE                  ⋯\n",
       "WHH1648   FALSE                            FALSE                  ⋯\n",
       "WHB5140   FALSE                            FALSE                  ⋯\n",
       "WHB1061   FALSE                            FALSE                  ⋯\n",
       "WHB9542   FALSE                            FALSE                  ⋯\n",
       "⋮         ⋮                                ⋮                      ⋱\n",
       "WHB5812   FALSE                            FALSE                  ⋯\n",
       "0516-0044 FALSE                            FALSE                  ⋯\n",
       "WHB6401   FALSE                            FALSE                  ⋯\n",
       "WHB7792   FALSE                            FALSE                  ⋯\n",
       "WHB3857   FALSE                            FALSE                  ⋯\n",
       "WHB8402   FALSE                            FALSE                  ⋯\n",
       "WHB10311  FALSE                            FALSE                  ⋯\n",
       "WHH922    FALSE                            FALSE                  ⋯\n",
       "WHB4108   FALSE                            FALSE                  ⋯\n",
       "WHB3591   FALSE                            FALSE                  ⋯\n",
       "WHB5362   FALSE                            FALSE                  ⋯\n",
       "WHB6801   FALSE                            FALSE                  ⋯\n",
       "WHB1065   FALSE                            FALSE                  ⋯\n",
       "WHB7938   FALSE                            FALSE                  ⋯\n",
       "WHB9984   FALSE                            FALSE                  ⋯\n",
       "WHB10068  FALSE                            FALSE                  ⋯\n",
       "WHH1517   FALSE                            FALSE                  ⋯\n",
       "WHB4873   FALSE                            FALSE                  ⋯\n",
       "WHB4699   FALSE                            FALSE                  ⋯\n",
       "WHB9883   FALSE                            FALSE                  ⋯\n",
       "WHB1060   FALSE                            FALSE                  ⋯\n",
       "WHB8417   FALSE                            FALSE                  ⋯\n",
       "WHB6339   FALSE                            FALSE                  ⋯\n",
       "WHB8356   FALSE                            FALSE                  ⋯\n",
       "WHB7090   FALSE                            FALSE                  ⋯\n",
       "0116-0039 FALSE                            FALSE                  ⋯\n",
       "WHB5654   FALSE                            FALSE                  ⋯\n",
       "WHB9085   FALSE                            FALSE                  ⋯\n",
       "WHH7014   FALSE                            FALSE                  ⋯\n",
       "WHB9254   FALSE                            FALSE                  ⋯\n",
       "          Mycobacterium virus Che12 Grapevine Cabernet Sauvignon reovirus\n",
       "WHB669    FALSE                     FALSE                                \n",
       "WHB8678   FALSE                     FALSE                                \n",
       "WHH7080   FALSE                     FALSE                                \n",
       "WHB4818   FALSE                     FALSE                                \n",
       "WHB9470   FALSE                     FALSE                                \n",
       "WHB4637   FALSE                     FALSE                                \n",
       "WHB3974   FALSE                     FALSE                                \n",
       "WHB7065   FALSE                     FALSE                                \n",
       "WHB8830   FALSE                     FALSE                                \n",
       "WHB7956   FALSE                     FALSE                                \n",
       "WHB6790   FALSE                     FALSE                                \n",
       "WHH1857   FALSE                     FALSE                                \n",
       "WHH6873   FALSE                     FALSE                                \n",
       "WHB7476   FALSE                     FALSE                                \n",
       "WHB11053  FALSE                     FALSE                                \n",
       "WHH1078   FALSE                     FALSE                                \n",
       "WHB9042   FALSE                     FALSE                                \n",
       "WHB5386   FALSE                     FALSE                                \n",
       "WHH766    FALSE                     FALSE                                \n",
       "WHB7157   FALSE                     FALSE                                \n",
       "WHH1653   FALSE                     FALSE                                \n",
       "WHB9075   FALSE                     FALSE                                \n",
       "WHB6917   FALSE                     FALSE                                \n",
       "WHB5810   FALSE                     FALSE                                \n",
       "WHB9248   FALSE                     FALSE                                \n",
       "WHB8945   FALSE                     FALSE                                \n",
       "WHH1648   FALSE                     FALSE                                \n",
       "WHB5140   FALSE                     FALSE                                \n",
       "WHB1061   FALSE                     FALSE                                \n",
       "WHB9542   FALSE                     FALSE                                \n",
       "⋮         ⋮                         ⋮                                    \n",
       "WHB5812   FALSE                     FALSE                                \n",
       "0516-0044 FALSE                     FALSE                                \n",
       "WHB6401   FALSE                     FALSE                                \n",
       "WHB7792   FALSE                     FALSE                                \n",
       "WHB3857   FALSE                     FALSE                                \n",
       "WHB8402   FALSE                     FALSE                                \n",
       "WHB10311  FALSE                     FALSE                                \n",
       "WHH922    FALSE                     FALSE                                \n",
       "WHB4108   FALSE                     FALSE                                \n",
       "WHB3591   FALSE                     FALSE                                \n",
       "WHB5362   FALSE                     FALSE                                \n",
       "WHB6801   FALSE                     FALSE                                \n",
       "WHB1065   FALSE                     FALSE                                \n",
       "WHB7938   FALSE                     FALSE                                \n",
       "WHB9984   FALSE                     FALSE                                \n",
       "WHB10068  FALSE                     FALSE                                \n",
       "WHH1517   FALSE                     FALSE                                \n",
       "WHB4873   FALSE                     FALSE                                \n",
       "WHB4699   FALSE                     FALSE                                \n",
       "WHB9883   FALSE                     FALSE                                \n",
       "WHB1060   FALSE                     FALSE                                \n",
       "WHB8417   FALSE                     FALSE                                \n",
       "WHB6339   FALSE                     FALSE                                \n",
       "WHB8356   FALSE                     FALSE                                \n",
       "WHB7090   FALSE                     FALSE                                \n",
       "0116-0039 FALSE                     FALSE                                \n",
       "WHB5654   FALSE                     FALSE                                \n",
       "WHB9085   FALSE                     FALSE                                \n",
       "WHH7014   FALSE                     FALSE                                \n",
       "WHB9254   FALSE                     FALSE                                \n",
       "          Delftia phage IME-DE1 Fowlpox virus Bacillus sp. Pc3\n",
       "WHB669    FALSE                 FALSE         FALSE           \n",
       "WHB8678   FALSE                 FALSE         FALSE           \n",
       "WHH7080   FALSE                 FALSE         FALSE           \n",
       "WHB4818   FALSE                 FALSE         FALSE           \n",
       "WHB9470   FALSE                 FALSE         FALSE           \n",
       "WHB4637   FALSE                 FALSE         FALSE           \n",
       "WHB3974   FALSE                 FALSE         FALSE           \n",
       "WHB7065   FALSE                 FALSE         FALSE           \n",
       "WHB8830   FALSE                 FALSE         FALSE           \n",
       "WHB7956   FALSE                 FALSE         FALSE           \n",
       "WHB6790   FALSE                 FALSE         FALSE           \n",
       "WHH1857   FALSE                 FALSE         FALSE           \n",
       "WHH6873   FALSE                 FALSE         FALSE           \n",
       "WHB7476   FALSE                 FALSE         FALSE           \n",
       "WHB11053  FALSE                 FALSE         FALSE           \n",
       "WHH1078   FALSE                 FALSE         FALSE           \n",
       "WHB9042   FALSE                 FALSE         FALSE           \n",
       "WHB5386   FALSE                 FALSE         FALSE           \n",
       "WHH766    FALSE                 FALSE         FALSE           \n",
       "WHB7157   FALSE                 FALSE         FALSE           \n",
       "WHH1653   FALSE                 FALSE         FALSE           \n",
       "WHB9075   FALSE                 FALSE         FALSE           \n",
       "WHB6917   FALSE                 FALSE         FALSE           \n",
       "WHB5810   FALSE                 FALSE         FALSE           \n",
       "WHB9248   FALSE                 FALSE         FALSE           \n",
       "WHB8945   FALSE                 FALSE         FALSE           \n",
       "WHH1648   FALSE                 FALSE         FALSE           \n",
       "WHB5140   FALSE                 FALSE         FALSE           \n",
       "WHB1061   FALSE                 FALSE         FALSE           \n",
       "WHB9542   FALSE                 FALSE         FALSE           \n",
       "⋮         ⋮                     ⋮             ⋮               \n",
       "WHB5812   FALSE                 FALSE         FALSE           \n",
       "0516-0044 FALSE                 FALSE         FALSE           \n",
       "WHB6401   FALSE                 FALSE         FALSE           \n",
       "WHB7792   FALSE                 FALSE         FALSE           \n",
       "WHB3857   FALSE                 FALSE         FALSE           \n",
       "WHB8402   FALSE                 FALSE         FALSE           \n",
       "WHB10311  FALSE                 FALSE         FALSE           \n",
       "WHH922    FALSE                 FALSE         FALSE           \n",
       "WHB4108   FALSE                 FALSE         FALSE           \n",
       "WHB3591   FALSE                 FALSE         FALSE           \n",
       "WHB5362   FALSE                 FALSE         FALSE           \n",
       "WHB6801   FALSE                 FALSE         FALSE           \n",
       "WHB1065   FALSE                 FALSE         FALSE           \n",
       "WHB7938   FALSE                 FALSE         FALSE           \n",
       "WHB9984   FALSE                 FALSE         FALSE           \n",
       "WHB10068  FALSE                 FALSE         FALSE           \n",
       "WHH1517   FALSE                 FALSE         FALSE           \n",
       "WHB4873   FALSE                 FALSE         FALSE           \n",
       "WHB4699   FALSE                 FALSE         FALSE           \n",
       "WHB9883   FALSE                 FALSE         FALSE           \n",
       "WHB1060   FALSE                 FALSE         FALSE           \n",
       "WHB8417   FALSE                 FALSE         FALSE           \n",
       "WHB6339   FALSE                 FALSE         FALSE           \n",
       "WHB8356   FALSE                 FALSE         FALSE           \n",
       "WHB7090   FALSE                 FALSE         FALSE           \n",
       "0116-0039 FALSE                 FALSE         FALSE           \n",
       "WHB5654   FALSE                 FALSE         FALSE           \n",
       "WHB9085   FALSE                 FALSE         FALSE           \n",
       "WHH7014   FALSE                 FALSE         FALSE           \n",
       "WHB9254   FALSE                 FALSE         FALSE           \n",
       "          Agrotis segetum nucleopolyhedrovirus B Vibrio phage 11895-B1\n",
       "WHB669    FALSE                                  FALSE                \n",
       "WHB8678   FALSE                                  FALSE                \n",
       "WHH7080   FALSE                                  FALSE                \n",
       "WHB4818   FALSE                                  FALSE                \n",
       "WHB9470   FALSE                                  FALSE                \n",
       "WHB4637   FALSE                                  FALSE                \n",
       "WHB3974   FALSE                                  FALSE                \n",
       "WHB7065   FALSE                                  FALSE                \n",
       "WHB8830   FALSE                                  FALSE                \n",
       "WHB7956   FALSE                                  FALSE                \n",
       "WHB6790   FALSE                                  FALSE                \n",
       "WHH1857   FALSE                                  FALSE                \n",
       "WHH6873   FALSE                                  FALSE                \n",
       "WHB7476   FALSE                                  FALSE                \n",
       "WHB11053  FALSE                                  FALSE                \n",
       "WHH1078   FALSE                                  FALSE                \n",
       "WHB9042   FALSE                                  FALSE                \n",
       "WHB5386   FALSE                                  FALSE                \n",
       "WHH766    FALSE                                  FALSE                \n",
       "WHB7157   FALSE                                  FALSE                \n",
       "WHH1653   FALSE                                  FALSE                \n",
       "WHB9075   FALSE                                  FALSE                \n",
       "WHB6917   FALSE                                  FALSE                \n",
       "WHB5810   FALSE                                  FALSE                \n",
       "WHB9248   FALSE                                  FALSE                \n",
       "WHB8945   FALSE                                  FALSE                \n",
       "WHH1648   FALSE                                  FALSE                \n",
       "WHB5140   FALSE                                  FALSE                \n",
       "WHB1061   FALSE                                  FALSE                \n",
       "WHB9542   FALSE                                  FALSE                \n",
       "⋮         ⋮                                      ⋮                    \n",
       "WHB5812   FALSE                                  FALSE                \n",
       "0516-0044 FALSE                                  FALSE                \n",
       "WHB6401   FALSE                                  FALSE                \n",
       "WHB7792   FALSE                                  FALSE                \n",
       "WHB3857   FALSE                                  FALSE                \n",
       "WHB8402   FALSE                                  FALSE                \n",
       "WHB10311  FALSE                                  FALSE                \n",
       "WHH922    FALSE                                  FALSE                \n",
       "WHB4108   FALSE                                  FALSE                \n",
       "WHB3591   FALSE                                  FALSE                \n",
       "WHB5362   FALSE                                  FALSE                \n",
       "WHB6801   FALSE                                  FALSE                \n",
       "WHB1065   FALSE                                  FALSE                \n",
       "WHB7938   FALSE                                  FALSE                \n",
       "WHB9984   FALSE                                  FALSE                \n",
       "WHB10068  FALSE                                  FALSE                \n",
       "WHH1517   FALSE                                  FALSE                \n",
       "WHB4873   FALSE                                  FALSE                \n",
       "WHB4699   FALSE                                  FALSE                \n",
       "WHB9883   FALSE                                  FALSE                \n",
       "WHB1060   FALSE                                  FALSE                \n",
       "WHB8417   FALSE                                  FALSE                \n",
       "WHB6339   FALSE                                  FALSE                \n",
       "WHB8356   FALSE                                  FALSE                \n",
       "WHB7090   FALSE                                  FALSE                \n",
       "0116-0039 FALSE                                  FALSE                \n",
       "WHB5654   FALSE                                  FALSE                \n",
       "WHB9085   FALSE                                  FALSE                \n",
       "WHH7014   FALSE                                  FALSE                \n",
       "WHB9254   FALSE                                  FALSE                \n",
       "          Mycobacterium phage Milly Cacao swollen shoot Togo A virus\n",
       "WHB669    FALSE                     FALSE                           \n",
       "WHB8678   FALSE                     FALSE                           \n",
       "WHH7080   FALSE                     FALSE                           \n",
       "WHB4818   FALSE                     FALSE                           \n",
       "WHB9470   FALSE                     FALSE                           \n",
       "WHB4637   FALSE                     FALSE                           \n",
       "WHB3974   FALSE                     FALSE                           \n",
       "WHB7065   FALSE                     FALSE                           \n",
       "WHB8830   FALSE                     FALSE                           \n",
       "WHB7956   FALSE                     FALSE                           \n",
       "WHB6790   FALSE                     FALSE                           \n",
       "WHH1857   FALSE                     FALSE                           \n",
       "WHH6873   FALSE                     FALSE                           \n",
       "WHB7476   FALSE                     FALSE                           \n",
       "WHB11053  FALSE                     FALSE                           \n",
       "WHH1078   FALSE                     FALSE                           \n",
       "WHB9042   FALSE                     FALSE                           \n",
       "WHB5386   FALSE                     FALSE                           \n",
       "WHH766    FALSE                     FALSE                           \n",
       "WHB7157   FALSE                     FALSE                           \n",
       "WHH1653   FALSE                     FALSE                           \n",
       "WHB9075   FALSE                     FALSE                           \n",
       "WHB6917   FALSE                     FALSE                           \n",
       "WHB5810   FALSE                     FALSE                           \n",
       "WHB9248   FALSE                     FALSE                           \n",
       "WHB8945   FALSE                     FALSE                           \n",
       "WHH1648   FALSE                     FALSE                           \n",
       "WHB5140   FALSE                     FALSE                           \n",
       "WHB1061   FALSE                     FALSE                           \n",
       "WHB9542   FALSE                     FALSE                           \n",
       "⋮         ⋮                         ⋮                               \n",
       "WHB5812   FALSE                     FALSE                           \n",
       "0516-0044 FALSE                     FALSE                           \n",
       "WHB6401   FALSE                     FALSE                           \n",
       "WHB7792   FALSE                     FALSE                           \n",
       "WHB3857   FALSE                     FALSE                           \n",
       "WHB8402   FALSE                     FALSE                           \n",
       "WHB10311  FALSE                     FALSE                           \n",
       "WHH922    FALSE                     FALSE                           \n",
       "WHB4108   FALSE                     FALSE                           \n",
       "WHB3591   FALSE                     FALSE                           \n",
       "WHB5362   FALSE                     FALSE                           \n",
       "WHB6801   FALSE                     FALSE                           \n",
       "WHB1065   FALSE                     FALSE                           \n",
       "WHB7938   FALSE                     FALSE                           \n",
       "WHB9984   FALSE                     FALSE                           \n",
       "WHB10068  FALSE                     FALSE                           \n",
       "WHH1517   FALSE                     FALSE                           \n",
       "WHB4873   FALSE                     FALSE                           \n",
       "WHB4699   FALSE                     FALSE                           \n",
       "WHB9883   FALSE                     FALSE                           \n",
       "WHB1060   FALSE                     FALSE                           \n",
       "WHB8417   FALSE                     FALSE                           \n",
       "WHB6339   FALSE                     FALSE                           \n",
       "WHB8356   FALSE                     FALSE                           \n",
       "WHB7090   FALSE                     FALSE                           \n",
       "0116-0039 FALSE                     FALSE                           \n",
       "WHB5654   FALSE                     FALSE                           \n",
       "WHB9085   FALSE                     FALSE                           \n",
       "WHH7014   FALSE                     FALSE                           \n",
       "WHB9254   FALSE                     FALSE                           \n",
       "          Streptomyces phage phiSASD1\n",
       "WHB669    FALSE                      \n",
       "WHB8678   FALSE                      \n",
       "WHH7080   FALSE                      \n",
       "WHB4818   FALSE                      \n",
       "WHB9470   FALSE                      \n",
       "WHB4637   FALSE                      \n",
       "WHB3974   FALSE                      \n",
       "WHB7065   FALSE                      \n",
       "WHB8830   FALSE                      \n",
       "WHB7956   FALSE                      \n",
       "WHB6790   FALSE                      \n",
       "WHH1857   FALSE                      \n",
       "WHH6873   FALSE                      \n",
       "WHB7476   FALSE                      \n",
       "WHB11053  FALSE                      \n",
       "WHH1078   FALSE                      \n",
       "WHB9042   FALSE                      \n",
       "WHB5386   FALSE                      \n",
       "WHH766    FALSE                      \n",
       "WHB7157   FALSE                      \n",
       "WHH1653   FALSE                      \n",
       "WHB9075   FALSE                      \n",
       "WHB6917   FALSE                      \n",
       "WHB5810   FALSE                      \n",
       "WHB9248   FALSE                      \n",
       "WHB8945   FALSE                      \n",
       "WHH1648   FALSE                      \n",
       "WHB5140   FALSE                      \n",
       "WHB1061   FALSE                      \n",
       "WHB9542   FALSE                      \n",
       "⋮         ⋮                          \n",
       "WHB5812   FALSE                      \n",
       "0516-0044 FALSE                      \n",
       "WHB6401   FALSE                      \n",
       "WHB7792   FALSE                      \n",
       "WHB3857   FALSE                      \n",
       "WHB8402   FALSE                      \n",
       "WHB10311  FALSE                      \n",
       "WHH922    FALSE                      \n",
       "WHB4108   FALSE                      \n",
       "WHB3591   FALSE                      \n",
       "WHB5362   FALSE                      \n",
       "WHB6801   FALSE                      \n",
       "WHB1065   FALSE                      \n",
       "WHB7938   FALSE                      \n",
       "WHB9984   FALSE                      \n",
       "WHB10068  FALSE                      \n",
       "WHH1517   FALSE                      \n",
       "WHB4873   FALSE                      \n",
       "WHB4699   FALSE                      \n",
       "WHB9883   FALSE                      \n",
       "WHB1060   FALSE                      \n",
       "WHB8417   FALSE                      \n",
       "WHB6339   FALSE                      \n",
       "WHB8356   FALSE                      \n",
       "WHB7090   FALSE                      \n",
       "0116-0039 FALSE                      \n",
       "WHB5654   FALSE                      \n",
       "WHB9085   FALSE                      \n",
       "WHH7014   FALSE                      \n",
       "WHB9254   FALSE                      "
      ]
     },
     "metadata": {},
     "output_type": "display_data"
    }
   ],
   "source": [
    "# Reads\n",
    "prev_RA_read <- as.data.frame(prev_read_10 & prev_RA)\n",
    "prev_RA_read_df <- tibble(npm_research_id = rownames(prev_RA_read), n_assigned = rowSums(prev_RA_read))\n",
    "prev_RA_read\n",
    "\n",
    "RA_read_plt <- prev_RA_read_df %>%\n",
    "    arrange(desc(n_assigned)) %>%\n",
    "    ggplot(aes(x = n_assigned)) +\n",
    "    geom_histogram(bins = 20) +\n",
    "    labs(x = \"No. of taxa / sample (RA > 0.01 & reads > 10)\", y = \"No. of samples\")"
   ]
  },
  {
   "cell_type": "markdown",
   "id": "32e39656",
   "metadata": {},
   "source": [
    "#### No. of species present per sample"
   ]
  },
  {
   "cell_type": "code",
   "execution_count": 14,
   "id": "ff43397d",
   "metadata": {},
   "outputs": [
    {
     "name": "stderr",
     "output_type": "stream",
     "text": [
      "`stat_bin()` using `bins = 30`. Pick better value with `binwidth`.\n",
      "\n",
      "`stat_bin()` using `bins = 30`. Pick better value with `binwidth`.\n",
      "\n",
      "`stat_bin()` using `bins = 30`. Pick better value with `binwidth`.\n",
      "\n",
      "Saving 6.67 x 6.67 in image\n",
      "\n"
     ]
    },
    {
     "data": {
      "image/png": "[encoded data removed]",
      "text/plain": [
       "plot without title"
      ]
     },
     "metadata": {
      "image/png": {
       "height": 420,
       "width": 420
      }
     },
     "output_type": "display_data"
    }
   ],
   "source": [
    "combined <- ggpubr::ggarrange(read_plt, read_plt_10, RA_plt, RA_read_plt)\n",
    "\n",
    "combined\n",
    "\n",
    "ggsave(\"results/decontamination/presence_absence_threshold_multiplot.png\", dpi = 300)"
   ]
  },
  {
   "cell_type": "markdown",
   "id": "e25b6bb7",
   "metadata": {},
   "source": [
    "#### Overall prevalence"
   ]
  },
  {
   "cell_type": "code",
   "execution_count": 15,
   "id": "44a12048",
   "metadata": {},
   "outputs": [],
   "source": [
    "prev_RA_read <- filter_taxa_by_presence(prev_RA_read, 0)"
   ]
  },
  {
   "cell_type": "code",
   "execution_count": 16,
   "id": "b9679466",
   "metadata": {
    "scrolled": true
   },
   "outputs": [
    {
     "data": {
      "text/html": [
       "<table class=\"dataframe\">\n",
       "<caption>A tibble: 564 × 3</caption>\n",
       "<thead>\n",
       "\t<tr><th scope=col>taxa</th><th scope=col>prevalence</th><th scope=col>bin</th></tr>\n",
       "\t<tr><th scope=col>&lt;chr&gt;</th><th scope=col>&lt;dbl&gt;</th><th scope=col>&lt;fct&gt;</th></tr>\n",
       "</thead>\n",
       "<tbody>\n",
       "\t<tr><td>Bradyrhizobiaceae bacterium SG-6C</td><td>0.3076477</td><td>0.25-0.5 </td></tr>\n",
       "\t<tr><td>Rhodopseudomonas palustris       </td><td>0.3066032</td><td>0.25-0.5 </td></tr>\n",
       "\t<tr><td>Bradyrhizobium sp. SK17          </td><td>0.2713241</td><td>0.25-0.5 </td></tr>\n",
       "\t<tr><td>Alcaligenes faecalis             </td><td>0.2620402</td><td>0.25-0.5 </td></tr>\n",
       "\t<tr><td>Methylobacterium currus          </td><td>0.2561216</td><td>0.25-0.5 </td></tr>\n",
       "\t<tr><td>Sphingomonas sp. LM7             </td><td>0.2541488</td><td>0.25-0.5 </td></tr>\n",
       "\t<tr><td>Sphingomonas sp. Cra20           </td><td>0.2477660</td><td>0.05-0.25</td></tr>\n",
       "\t<tr><td>Sphingomonas hengshuiensis       </td><td>0.2466055</td><td>0.05-0.25</td></tr>\n",
       "\t<tr><td>Sphingomonas koreensis           </td><td>0.2310549</td><td>0.05-0.25</td></tr>\n",
       "\t<tr><td>Sphingomonas sp. FARSPH          </td><td>0.2282697</td><td>0.05-0.25</td></tr>\n",
       "\t<tr><td>Caulobacter segnis               </td><td>0.2152721</td><td>0.05-0.25</td></tr>\n",
       "\t<tr><td>Caulobacter vibrioides           </td><td>0.2143437</td><td>0.05-0.25</td></tr>\n",
       "\t<tr><td>Sphingobium sp. YG1              </td><td>0.2097018</td><td>0.05-0.25</td></tr>\n",
       "\t<tr><td>Alcaligenes aquatilis            </td><td>0.1920622</td><td>0.05-0.25</td></tr>\n",
       "\t<tr><td>Sphingomonas sanxanigenens       </td><td>0.1891610</td><td>0.05-0.25</td></tr>\n",
       "\t<tr><td>Methylobacterium brachiatum      </td><td>0.1855634</td><td>0.05-0.25</td></tr>\n",
       "\t<tr><td>Sphingomonas sp. LK11            </td><td>0.1842869</td><td>0.05-0.25</td></tr>\n",
       "\t<tr><td>Caulobacter flavus               </td><td>0.1818498</td><td>0.05-0.25</td></tr>\n",
       "\t<tr><td>Caulobacter sp. K31              </td><td>0.1760473</td><td>0.05-0.25</td></tr>\n",
       "\t<tr><td>Sphingomonas melonis             </td><td>0.1754671</td><td>0.05-0.25</td></tr>\n",
       "\t<tr><td>Bradyrhizobium erythrophlei      </td><td>0.1725659</td><td>0.05-0.25</td></tr>\n",
       "\t<tr><td>Sphingomonas wittichii           </td><td>0.1591041</td><td>0.05-0.25</td></tr>\n",
       "\t<tr><td>Pseudomonas aeruginosa           </td><td>0.1464547</td><td>0.05-0.25</td></tr>\n",
       "\t<tr><td>Sphingomonas taxi                </td><td>0.1437855</td><td>0.05-0.25</td></tr>\n",
       "\t<tr><td>Bradyrhizobium sp. BTAi1         </td><td>0.1379831</td><td>0.05-0.25</td></tr>\n",
       "\t<tr><td>Sphingobium yanoikuyae           </td><td>0.1375189</td><td>0.05-0.25</td></tr>\n",
       "\t<tr><td>Caulobacter henricii             </td><td>0.1368226</td><td>0.05-0.25</td></tr>\n",
       "\t<tr><td>Pseudomonas mendocina            </td><td>0.1350818</td><td>0.05-0.25</td></tr>\n",
       "\t<tr><td>Ralstonia pickettii              </td><td>0.1312522</td><td>0.05-0.25</td></tr>\n",
       "\t<tr><td>Pseudomonas sihuiensis           </td><td>0.1285830</td><td>0.05-0.25</td></tr>\n",
       "\t<tr><td>⋮</td><td>⋮</td><td>⋮</td></tr>\n",
       "\t<tr><td>Stenotrophomonas rhizophila                     </td><td>0.0001160497</td><td>0-0.05</td></tr>\n",
       "\t<tr><td>Stenotrophomonas sp. Pemsol                     </td><td>0.0001160497</td><td>0-0.05</td></tr>\n",
       "\t<tr><td>Streptococcus anginosus                         </td><td>0.0001160497</td><td>0-0.05</td></tr>\n",
       "\t<tr><td>Streptococcus gallolyticus                      </td><td>0.0001160497</td><td>0-0.05</td></tr>\n",
       "\t<tr><td>Streptococcus marmotae                          </td><td>0.0001160497</td><td>0-0.05</td></tr>\n",
       "\t<tr><td>Streptococcus mutans                            </td><td>0.0001160497</td><td>0-0.05</td></tr>\n",
       "\t<tr><td>Streptococcus parasanguinis                     </td><td>0.0001160497</td><td>0-0.05</td></tr>\n",
       "\t<tr><td>Streptococcus pasteurianus                      </td><td>0.0001160497</td><td>0-0.05</td></tr>\n",
       "\t<tr><td>Streptococcus salivarius                        </td><td>0.0001160497</td><td>0-0.05</td></tr>\n",
       "\t<tr><td>Streptococcus sp. A12                           </td><td>0.0001160497</td><td>0-0.05</td></tr>\n",
       "\t<tr><td>Streptococcus sp. I-G2                          </td><td>0.0001160497</td><td>0-0.05</td></tr>\n",
       "\t<tr><td>Streptococcus sp. JS71                          </td><td>0.0001160497</td><td>0-0.05</td></tr>\n",
       "\t<tr><td>Streptomyces vietnamensis                       </td><td>0.0001160497</td><td>0-0.05</td></tr>\n",
       "\t<tr><td>Tannerella forsythia                            </td><td>0.0001160497</td><td>0-0.05</td></tr>\n",
       "\t<tr><td>Torque teno mini virus 3                        </td><td>0.0001160497</td><td>0-0.05</td></tr>\n",
       "\t<tr><td>Torque teno mini virus 7                        </td><td>0.0001160497</td><td>0-0.05</td></tr>\n",
       "\t<tr><td>Torque teno virus                               </td><td>0.0001160497</td><td>0-0.05</td></tr>\n",
       "\t<tr><td>Torque teno virus 12                            </td><td>0.0001160497</td><td>0-0.05</td></tr>\n",
       "\t<tr><td>Torque teno virus 13                            </td><td>0.0001160497</td><td>0-0.05</td></tr>\n",
       "\t<tr><td>Torque teno virus 15                            </td><td>0.0001160497</td><td>0-0.05</td></tr>\n",
       "\t<tr><td>Torque teno virus 19                            </td><td>0.0001160497</td><td>0-0.05</td></tr>\n",
       "\t<tr><td>Torque teno virus 23                            </td><td>0.0001160497</td><td>0-0.05</td></tr>\n",
       "\t<tr><td>Torque teno virus 27                            </td><td>0.0001160497</td><td>0-0.05</td></tr>\n",
       "\t<tr><td>Torque teno virus 28                            </td><td>0.0001160497</td><td>0-0.05</td></tr>\n",
       "\t<tr><td>Torque teno virus 8                             </td><td>0.0001160497</td><td>0-0.05</td></tr>\n",
       "\t<tr><td>Variibacter gotjawalensis                       </td><td>0.0001160497</td><td>0-0.05</td></tr>\n",
       "\t<tr><td>Variovorax sp. HW608                            </td><td>0.0001160497</td><td>0-0.05</td></tr>\n",
       "\t<tr><td>Wolbachia endosymbiont of Culex quinquefasciatus</td><td>0.0001160497</td><td>0-0.05</td></tr>\n",
       "\t<tr><td>Woolly monkey hepatitis B virus                 </td><td>0.0001160497</td><td>0-0.05</td></tr>\n",
       "\t<tr><td>Xylanimonas cellulosilytica                     </td><td>0.0001160497</td><td>0-0.05</td></tr>\n",
       "</tbody>\n",
       "</table>\n"
      ],
      "text/latex": [
       "A tibble: 564 × 3\n",
       "\\begin{tabular}{lll}\n",
       " taxa & prevalence & bin\\\\\n",
       " <chr> & <dbl> & <fct>\\\\\n",
       "\\hline\n",
       "\t Bradyrhizobiaceae bacterium SG-6C & 0.3076477 & 0.25-0.5 \\\\\n",
       "\t Rhodopseudomonas palustris        & 0.3066032 & 0.25-0.5 \\\\\n",
       "\t Bradyrhizobium sp. SK17           & 0.2713241 & 0.25-0.5 \\\\\n",
       "\t Alcaligenes faecalis              & 0.2620402 & 0.25-0.5 \\\\\n",
       "\t Methylobacterium currus           & 0.2561216 & 0.25-0.5 \\\\\n",
       "\t Sphingomonas sp. LM7              & 0.2541488 & 0.25-0.5 \\\\\n",
       "\t Sphingomonas sp. Cra20            & 0.2477660 & 0.05-0.25\\\\\n",
       "\t Sphingomonas hengshuiensis        & 0.2466055 & 0.05-0.25\\\\\n",
       "\t Sphingomonas koreensis            & 0.2310549 & 0.05-0.25\\\\\n",
       "\t Sphingomonas sp. FARSPH           & 0.2282697 & 0.05-0.25\\\\\n",
       "\t Caulobacter segnis                & 0.2152721 & 0.05-0.25\\\\\n",
       "\t Caulobacter vibrioides            & 0.2143437 & 0.05-0.25\\\\\n",
       "\t Sphingobium sp. YG1               & 0.2097018 & 0.05-0.25\\\\\n",
       "\t Alcaligenes aquatilis             & 0.1920622 & 0.05-0.25\\\\\n",
       "\t Sphingomonas sanxanigenens        & 0.1891610 & 0.05-0.25\\\\\n",
       "\t Methylobacterium brachiatum       & 0.1855634 & 0.05-0.25\\\\\n",
       "\t Sphingomonas sp. LK11             & 0.1842869 & 0.05-0.25\\\\\n",
       "\t Caulobacter flavus                & 0.1818498 & 0.05-0.25\\\\\n",
       "\t Caulobacter sp. K31               & 0.1760473 & 0.05-0.25\\\\\n",
       "\t Sphingomonas melonis              & 0.1754671 & 0.05-0.25\\\\\n",
       "\t Bradyrhizobium erythrophlei       & 0.1725659 & 0.05-0.25\\\\\n",
       "\t Sphingomonas wittichii            & 0.1591041 & 0.05-0.25\\\\\n",
       "\t Pseudomonas aeruginosa            & 0.1464547 & 0.05-0.25\\\\\n",
       "\t Sphingomonas taxi                 & 0.1437855 & 0.05-0.25\\\\\n",
       "\t Bradyrhizobium sp. BTAi1          & 0.1379831 & 0.05-0.25\\\\\n",
       "\t Sphingobium yanoikuyae            & 0.1375189 & 0.05-0.25\\\\\n",
       "\t Caulobacter henricii              & 0.1368226 & 0.05-0.25\\\\\n",
       "\t Pseudomonas mendocina             & 0.1350818 & 0.05-0.25\\\\\n",
       "\t Ralstonia pickettii               & 0.1312522 & 0.05-0.25\\\\\n",
       "\t Pseudomonas sihuiensis            & 0.1285830 & 0.05-0.25\\\\\n",
       "\t ⋮ & ⋮ & ⋮\\\\\n",
       "\t Stenotrophomonas rhizophila                      & 0.0001160497 & 0-0.05\\\\\n",
       "\t Stenotrophomonas sp. Pemsol                      & 0.0001160497 & 0-0.05\\\\\n",
       "\t Streptococcus anginosus                          & 0.0001160497 & 0-0.05\\\\\n",
       "\t Streptococcus gallolyticus                       & 0.0001160497 & 0-0.05\\\\\n",
       "\t Streptococcus marmotae                           & 0.0001160497 & 0-0.05\\\\\n",
       "\t Streptococcus mutans                             & 0.0001160497 & 0-0.05\\\\\n",
       "\t Streptococcus parasanguinis                      & 0.0001160497 & 0-0.05\\\\\n",
       "\t Streptococcus pasteurianus                       & 0.0001160497 & 0-0.05\\\\\n",
       "\t Streptococcus salivarius                         & 0.0001160497 & 0-0.05\\\\\n",
       "\t Streptococcus sp. A12                            & 0.0001160497 & 0-0.05\\\\\n",
       "\t Streptococcus sp. I-G2                           & 0.0001160497 & 0-0.05\\\\\n",
       "\t Streptococcus sp. JS71                           & 0.0001160497 & 0-0.05\\\\\n",
       "\t Streptomyces vietnamensis                        & 0.0001160497 & 0-0.05\\\\\n",
       "\t Tannerella forsythia                             & 0.0001160497 & 0-0.05\\\\\n",
       "\t Torque teno mini virus 3                         & 0.0001160497 & 0-0.05\\\\\n",
       "\t Torque teno mini virus 7                         & 0.0001160497 & 0-0.05\\\\\n",
       "\t Torque teno virus                                & 0.0001160497 & 0-0.05\\\\\n",
       "\t Torque teno virus 12                             & 0.0001160497 & 0-0.05\\\\\n",
       "\t Torque teno virus 13                             & 0.0001160497 & 0-0.05\\\\\n",
       "\t Torque teno virus 15                             & 0.0001160497 & 0-0.05\\\\\n",
       "\t Torque teno virus 19                             & 0.0001160497 & 0-0.05\\\\\n",
       "\t Torque teno virus 23                             & 0.0001160497 & 0-0.05\\\\\n",
       "\t Torque teno virus 27                             & 0.0001160497 & 0-0.05\\\\\n",
       "\t Torque teno virus 28                             & 0.0001160497 & 0-0.05\\\\\n",
       "\t Torque teno virus 8                              & 0.0001160497 & 0-0.05\\\\\n",
       "\t Variibacter gotjawalensis                        & 0.0001160497 & 0-0.05\\\\\n",
       "\t Variovorax sp. HW608                             & 0.0001160497 & 0-0.05\\\\\n",
       "\t Wolbachia endosymbiont of Culex quinquefasciatus & 0.0001160497 & 0-0.05\\\\\n",
       "\t Woolly monkey hepatitis B virus                  & 0.0001160497 & 0-0.05\\\\\n",
       "\t Xylanimonas cellulosilytica                      & 0.0001160497 & 0-0.05\\\\\n",
       "\\end{tabular}\n"
      ],
      "text/markdown": [
       "\n",
       "A tibble: 564 × 3\n",
       "\n",
       "| taxa &lt;chr&gt; | prevalence &lt;dbl&gt; | bin &lt;fct&gt; |\n",
       "|---|---|---|\n",
       "| Bradyrhizobiaceae bacterium SG-6C | 0.3076477 | 0.25-0.5  |\n",
       "| Rhodopseudomonas palustris        | 0.3066032 | 0.25-0.5  |\n",
       "| Bradyrhizobium sp. SK17           | 0.2713241 | 0.25-0.5  |\n",
       "| Alcaligenes faecalis              | 0.2620402 | 0.25-0.5  |\n",
       "| Methylobacterium currus           | 0.2561216 | 0.25-0.5  |\n",
       "| Sphingomonas sp. LM7              | 0.2541488 | 0.25-0.5  |\n",
       "| Sphingomonas sp. Cra20            | 0.2477660 | 0.05-0.25 |\n",
       "| Sphingomonas hengshuiensis        | 0.2466055 | 0.05-0.25 |\n",
       "| Sphingomonas koreensis            | 0.2310549 | 0.05-0.25 |\n",
       "| Sphingomonas sp. FARSPH           | 0.2282697 | 0.05-0.25 |\n",
       "| Caulobacter segnis                | 0.2152721 | 0.05-0.25 |\n",
       "| Caulobacter vibrioides            | 0.2143437 | 0.05-0.25 |\n",
       "| Sphingobium sp. YG1               | 0.2097018 | 0.05-0.25 |\n",
       "| Alcaligenes aquatilis             | 0.1920622 | 0.05-0.25 |\n",
       "| Sphingomonas sanxanigenens        | 0.1891610 | 0.05-0.25 |\n",
       "| Methylobacterium brachiatum       | 0.1855634 | 0.05-0.25 |\n",
       "| Sphingomonas sp. LK11             | 0.1842869 | 0.05-0.25 |\n",
       "| Caulobacter flavus                | 0.1818498 | 0.05-0.25 |\n",
       "| Caulobacter sp. K31               | 0.1760473 | 0.05-0.25 |\n",
       "| Sphingomonas melonis              | 0.1754671 | 0.05-0.25 |\n",
       "| Bradyrhizobium erythrophlei       | 0.1725659 | 0.05-0.25 |\n",
       "| Sphingomonas wittichii            | 0.1591041 | 0.05-0.25 |\n",
       "| Pseudomonas aeruginosa            | 0.1464547 | 0.05-0.25 |\n",
       "| Sphingomonas taxi                 | 0.1437855 | 0.05-0.25 |\n",
       "| Bradyrhizobium sp. BTAi1          | 0.1379831 | 0.05-0.25 |\n",
       "| Sphingobium yanoikuyae            | 0.1375189 | 0.05-0.25 |\n",
       "| Caulobacter henricii              | 0.1368226 | 0.05-0.25 |\n",
       "| Pseudomonas mendocina             | 0.1350818 | 0.05-0.25 |\n",
       "| Ralstonia pickettii               | 0.1312522 | 0.05-0.25 |\n",
       "| Pseudomonas sihuiensis            | 0.1285830 | 0.05-0.25 |\n",
       "| ⋮ | ⋮ | ⋮ |\n",
       "| Stenotrophomonas rhizophila                      | 0.0001160497 | 0-0.05 |\n",
       "| Stenotrophomonas sp. Pemsol                      | 0.0001160497 | 0-0.05 |\n",
       "| Streptococcus anginosus                          | 0.0001160497 | 0-0.05 |\n",
       "| Streptococcus gallolyticus                       | 0.0001160497 | 0-0.05 |\n",
       "| Streptococcus marmotae                           | 0.0001160497 | 0-0.05 |\n",
       "| Streptococcus mutans                             | 0.0001160497 | 0-0.05 |\n",
       "| Streptococcus parasanguinis                      | 0.0001160497 | 0-0.05 |\n",
       "| Streptococcus pasteurianus                       | 0.0001160497 | 0-0.05 |\n",
       "| Streptococcus salivarius                         | 0.0001160497 | 0-0.05 |\n",
       "| Streptococcus sp. A12                            | 0.0001160497 | 0-0.05 |\n",
       "| Streptococcus sp. I-G2                           | 0.0001160497 | 0-0.05 |\n",
       "| Streptococcus sp. JS71                           | 0.0001160497 | 0-0.05 |\n",
       "| Streptomyces vietnamensis                        | 0.0001160497 | 0-0.05 |\n",
       "| Tannerella forsythia                             | 0.0001160497 | 0-0.05 |\n",
       "| Torque teno mini virus 3                         | 0.0001160497 | 0-0.05 |\n",
       "| Torque teno mini virus 7                         | 0.0001160497 | 0-0.05 |\n",
       "| Torque teno virus                                | 0.0001160497 | 0-0.05 |\n",
       "| Torque teno virus 12                             | 0.0001160497 | 0-0.05 |\n",
       "| Torque teno virus 13                             | 0.0001160497 | 0-0.05 |\n",
       "| Torque teno virus 15                             | 0.0001160497 | 0-0.05 |\n",
       "| Torque teno virus 19                             | 0.0001160497 | 0-0.05 |\n",
       "| Torque teno virus 23                             | 0.0001160497 | 0-0.05 |\n",
       "| Torque teno virus 27                             | 0.0001160497 | 0-0.05 |\n",
       "| Torque teno virus 28                             | 0.0001160497 | 0-0.05 |\n",
       "| Torque teno virus 8                              | 0.0001160497 | 0-0.05 |\n",
       "| Variibacter gotjawalensis                        | 0.0001160497 | 0-0.05 |\n",
       "| Variovorax sp. HW608                             | 0.0001160497 | 0-0.05 |\n",
       "| Wolbachia endosymbiont of Culex quinquefasciatus | 0.0001160497 | 0-0.05 |\n",
       "| Woolly monkey hepatitis B virus                  | 0.0001160497 | 0-0.05 |\n",
       "| Xylanimonas cellulosilytica                      | 0.0001160497 | 0-0.05 |\n",
       "\n"
      ],
      "text/plain": [
       "    taxa                                             prevalence   bin      \n",
       "1   Bradyrhizobiaceae bacterium SG-6C                0.3076477    0.25-0.5 \n",
       "2   Rhodopseudomonas palustris                       0.3066032    0.25-0.5 \n",
       "3   Bradyrhizobium sp. SK17                          0.2713241    0.25-0.5 \n",
       "4   Alcaligenes faecalis                             0.2620402    0.25-0.5 \n",
       "5   Methylobacterium currus                          0.2561216    0.25-0.5 \n",
       "6   Sphingomonas sp. LM7                             0.2541488    0.25-0.5 \n",
       "7   Sphingomonas sp. Cra20                           0.2477660    0.05-0.25\n",
       "8   Sphingomonas hengshuiensis                       0.2466055    0.05-0.25\n",
       "9   Sphingomonas koreensis                           0.2310549    0.05-0.25\n",
       "10  Sphingomonas sp. FARSPH                          0.2282697    0.05-0.25\n",
       "11  Caulobacter segnis                               0.2152721    0.05-0.25\n",
       "12  Caulobacter vibrioides                           0.2143437    0.05-0.25\n",
       "13  Sphingobium sp. YG1                              0.2097018    0.05-0.25\n",
       "14  Alcaligenes aquatilis                            0.1920622    0.05-0.25\n",
       "15  Sphingomonas sanxanigenens                       0.1891610    0.05-0.25\n",
       "16  Methylobacterium brachiatum                      0.1855634    0.05-0.25\n",
       "17  Sphingomonas sp. LK11                            0.1842869    0.05-0.25\n",
       "18  Caulobacter flavus                               0.1818498    0.05-0.25\n",
       "19  Caulobacter sp. K31                              0.1760473    0.05-0.25\n",
       "20  Sphingomonas melonis                             0.1754671    0.05-0.25\n",
       "21  Bradyrhizobium erythrophlei                      0.1725659    0.05-0.25\n",
       "22  Sphingomonas wittichii                           0.1591041    0.05-0.25\n",
       "23  Pseudomonas aeruginosa                           0.1464547    0.05-0.25\n",
       "24  Sphingomonas taxi                                0.1437855    0.05-0.25\n",
       "25  Bradyrhizobium sp. BTAi1                         0.1379831    0.05-0.25\n",
       "26  Sphingobium yanoikuyae                           0.1375189    0.05-0.25\n",
       "27  Caulobacter henricii                             0.1368226    0.05-0.25\n",
       "28  Pseudomonas mendocina                            0.1350818    0.05-0.25\n",
       "29  Ralstonia pickettii                              0.1312522    0.05-0.25\n",
       "30  Pseudomonas sihuiensis                           0.1285830    0.05-0.25\n",
       "⋮   ⋮                                                ⋮            ⋮        \n",
       "535 Stenotrophomonas rhizophila                      0.0001160497 0-0.05   \n",
       "536 Stenotrophomonas sp. Pemsol                      0.0001160497 0-0.05   \n",
       "537 Streptococcus anginosus                          0.0001160497 0-0.05   \n",
       "538 Streptococcus gallolyticus                       0.0001160497 0-0.05   \n",
       "539 Streptococcus marmotae                           0.0001160497 0-0.05   \n",
       "540 Streptococcus mutans                             0.0001160497 0-0.05   \n",
       "541 Streptococcus parasanguinis                      0.0001160497 0-0.05   \n",
       "542 Streptococcus pasteurianus                       0.0001160497 0-0.05   \n",
       "543 Streptococcus salivarius                         0.0001160497 0-0.05   \n",
       "544 Streptococcus sp. A12                            0.0001160497 0-0.05   \n",
       "545 Streptococcus sp. I-G2                           0.0001160497 0-0.05   \n",
       "546 Streptococcus sp. JS71                           0.0001160497 0-0.05   \n",
       "547 Streptomyces vietnamensis                        0.0001160497 0-0.05   \n",
       "548 Tannerella forsythia                             0.0001160497 0-0.05   \n",
       "549 Torque teno mini virus 3                         0.0001160497 0-0.05   \n",
       "550 Torque teno mini virus 7                         0.0001160497 0-0.05   \n",
       "551 Torque teno virus                                0.0001160497 0-0.05   \n",
       "552 Torque teno virus 12                             0.0001160497 0-0.05   \n",
       "553 Torque teno virus 13                             0.0001160497 0-0.05   \n",
       "554 Torque teno virus 15                             0.0001160497 0-0.05   \n",
       "555 Torque teno virus 19                             0.0001160497 0-0.05   \n",
       "556 Torque teno virus 23                             0.0001160497 0-0.05   \n",
       "557 Torque teno virus 27                             0.0001160497 0-0.05   \n",
       "558 Torque teno virus 28                             0.0001160497 0-0.05   \n",
       "559 Torque teno virus 8                              0.0001160497 0-0.05   \n",
       "560 Variibacter gotjawalensis                        0.0001160497 0-0.05   \n",
       "561 Variovorax sp. HW608                             0.0001160497 0-0.05   \n",
       "562 Wolbachia endosymbiont of Culex quinquefasciatus 0.0001160497 0-0.05   \n",
       "563 Woolly monkey hepatitis B virus                  0.0001160497 0-0.05   \n",
       "564 Xylanimonas cellulosilytica                      0.0001160497 0-0.05   "
      ]
     },
     "metadata": {},
     "output_type": "display_data"
    }
   ],
   "source": [
    "prev_overall <- prev_RA_read %>%\n",
    "    pivot_longer(everything(), names_to = \"taxa\", values_to = \"presence\") %>%\n",
    "    group_by(taxa) %>%\n",
    "    summarise(prevalence = sum(presence) / nrow(prev_RA_read)) %>%\n",
    "    mutate(bin = case_when(prevalence == 0 ~ \"0\",\n",
    "                           prevalence > 0 & prevalence <= 0.05 ~ \"0-0.05\",\n",
    "                           prevalence > 0.05 & prevalence <= 0.25 ~ \"0.05-0.25\",\n",
    "                           prevalence > 0.25 & prevalence <= 0.5 ~ \"0.25-0.5\",\n",
    "                           prevalence > 0.5 & prevalence <= 0.75 ~ \"0.5-0.75\",\n",
    "                           prevalence > 0.75 ~ \"0.75-1\")) %>%\n",
    "    mutate(bin = factor(bin, levels = c(\"0\", \"0-0.05\", \"0.05-0.25\", \"0.25-0.5\", \"0.5-0.75\", \"0.75-1\"))) %>%\n",
    "    arrange(desc(prevalence))\n",
    "\n",
    "prev_overall"
   ]
  },
  {
   "cell_type": "code",
   "execution_count": 17,
   "id": "46c6ed15",
   "metadata": {
    "scrolled": true
   },
   "outputs": [
    {
     "data": {
      "text/html": [
       "0.307647673204131"
      ],
      "text/latex": [
       "0.307647673204131"
      ],
      "text/markdown": [
       "0.307647673204131"
      ],
      "text/plain": [
       "[1] 0.3076477"
      ]
     },
     "metadata": {},
     "output_type": "display_data"
    }
   ],
   "source": [
    "max(prev_overall$prevalence)"
   ]
  },
  {
   "cell_type": "code",
   "execution_count": 18,
   "id": "0038a491",
   "metadata": {},
   "outputs": [
    {
     "name": "stderr",
     "output_type": "stream",
     "text": [
      "Saving 6.67 x 6.67 in image\n",
      "\n"
     ]
    },
    {
     "data": {
      "image/png": "[encoded data removed]",
      "text/plain": [
       "plot without title"
      ]
     },
     "metadata": {
      "image/png": {
       "height": 420,
       "width": 420
      }
     },
     "output_type": "display_data"
    }
   ],
   "source": [
    "prev_overall %>% \n",
    "    ggplot(aes(x = bin, y = ..count..)) + \n",
    "    geom_bar() +\n",
    "    stat_count(aes(y = ..count.., label = ..count..), geom = \"text\",vjust = 0) +\n",
    "    labs(x = \"Prevalence\", y = \"No. of species\")\n",
    "\n",
    "ggsave(str_glue(\"results/decontamination/RA_0.01_read_10_overall_prevalence.png\"), dpi = 300)"
   ]
  },
  {
   "cell_type": "code",
   "execution_count": null,
   "id": "d78f3960",
   "metadata": {},
   "outputs": [],
   "source": [
    "prev_plots <- foreach(read_t = c(0, 1, 5, 10, 50, 100, 500, 1000)) %dopar% {\n",
    "    temp_prev <- otu_to_prev(species_df, read_t)\n",
    "    \n",
    "    prev_overall <- temp_prev %>%\n",
    "        pivot_longer(!npm_research_id, names_to = \"taxa\", values_to = \"presence\") %>%\n",
    "        group_by(taxa) %>%\n",
    "        summarise(prevalence = sum(presence) / nrow(species_prev)) %>% \n",
    "        mutate(bin = case_when(prevalence == 0 ~ \"0\",\n",
    "                               prevalence > 0 & prevalence <= 0.05 ~ \"0-5\",\n",
    "                               prevalence > 0.05 & prevalence <= 0.25 ~ \"5-25\",\n",
    "                               prevalence > 0.25 & prevalence <= 0.5 ~ \"25-50\",\n",
    "                               prevalence > 0.5 & prevalence <= 0.75 ~ \"50-75\",\n",
    "                               prevalence > 0.75 ~ \"75-100\")) %>%\n",
    "        mutate(bin = factor(bin, levels = c(\"0\", \"0-5\", \"5-25\", \"25-50\", \"50-75\", \"75-100\")))\n",
    "    \n",
    "    prev_overall %>% \n",
    "        ggplot(aes(x = bin)) + \n",
    "        geom_histogram(stat=\"count\") +\n",
    "        stat_count(aes(y=..count..,label=..count..),geom = \"text\",vjust = 0) +\n",
    "        labs(title = str_glue(\"PA_threshold = {read_t}\"), x = \"Overall Prevalence (%)\", y = \"No. of taxa\")\n",
    "}\n"
   ]
  },
  {
   "cell_type": "code",
   "execution_count": null,
   "id": "4f4f9734",
   "metadata": {},
   "outputs": [],
   "source": [
    "combined <- egg::ggarrange(plots = prev_plots)\n",
    "ggsave(str_glue(\"results/decontamination/PA_threshold_taxa_prevalence.png\"), plot = combined, dpi = 300, width = 10, height = 10)"
   ]
  },
  {
   "cell_type": "markdown",
   "id": "c9cf08a9",
   "metadata": {},
   "source": [
    "#### Batch prevalence"
   ]
  },
  {
   "cell_type": "code",
   "execution_count": 76,
   "id": "0c2f41fe",
   "metadata": {},
   "outputs": [],
   "source": [
    "taxa <- colnames(species_prev)\n",
    "taxa <- taxa[taxa != \"npm_research_id\"]"
   ]
  },
  {
   "cell_type": "code",
   "execution_count": 89,
   "id": "16d8395a",
   "metadata": {},
   "outputs": [
    {
     "data": {
      "text/html": [
       "<style>\n",
       ".list-inline {list-style: none; margin:0; padding: 0}\n",
       ".list-inline>li {display: inline-block}\n",
       ".list-inline>li:not(:last-child)::after {content: \"\\00b7\"; padding: 0 .5ex}\n",
       "</style>\n",
       "<ol class=list-inline><li>'site_supplying_sample'</li><li>'extraction_kit'</li><li>'instrument_id'</li><li>'hiseq_xtm_sbs_kit_300_cycles_v2__box_1of_2__lot'</li><li>'hiseq_xtm_sbs_kit_300_cycles_v2__box_2_of_2__lot'</li><li>'hiseq_xtm_pe_cluster_kit_cbottm_v2__box_1_of_2__lot'</li><li>'hiseq_xtm_pe_cluster_kit_cbottm_v2__box_2_of_2__lot'</li><li>'hiseq_xtm_flow_cell_v2_5_lot'</li></ol>\n"
      ],
      "text/latex": [
       "\\begin{enumerate*}\n",
       "\\item 'site\\_supplying\\_sample'\n",
       "\\item 'extraction\\_kit'\n",
       "\\item 'instrument\\_id'\n",
       "\\item 'hiseq\\_xtm\\_sbs\\_kit\\_300\\_cycles\\_v2\\_\\_box\\_1of\\_2\\_\\_lot'\n",
       "\\item 'hiseq\\_xtm\\_sbs\\_kit\\_300\\_cycles\\_v2\\_\\_box\\_2\\_of\\_2\\_\\_lot'\n",
       "\\item 'hiseq\\_xtm\\_pe\\_cluster\\_kit\\_cbottm\\_v2\\_\\_box\\_1\\_of\\_2\\_\\_lot'\n",
       "\\item 'hiseq\\_xtm\\_pe\\_cluster\\_kit\\_cbottm\\_v2\\_\\_box\\_2\\_of\\_2\\_\\_lot'\n",
       "\\item 'hiseq\\_xtm\\_flow\\_cell\\_v2\\_5\\_lot'\n",
       "\\end{enumerate*}\n"
      ],
      "text/markdown": [
       "1. 'site_supplying_sample'\n",
       "2. 'extraction_kit'\n",
       "3. 'instrument_id'\n",
       "4. 'hiseq_xtm_sbs_kit_300_cycles_v2__box_1of_2__lot'\n",
       "5. 'hiseq_xtm_sbs_kit_300_cycles_v2__box_2_of_2__lot'\n",
       "6. 'hiseq_xtm_pe_cluster_kit_cbottm_v2__box_1_of_2__lot'\n",
       "7. 'hiseq_xtm_pe_cluster_kit_cbottm_v2__box_2_of_2__lot'\n",
       "8. 'hiseq_xtm_flow_cell_v2_5_lot'\n",
       "\n",
       "\n"
      ],
      "text/plain": [
       "[1] \"site_supplying_sample\"                              \n",
       "[2] \"extraction_kit\"                                     \n",
       "[3] \"instrument_id\"                                      \n",
       "[4] \"hiseq_xtm_sbs_kit_300_cycles_v2__box_1of_2__lot\"    \n",
       "[5] \"hiseq_xtm_sbs_kit_300_cycles_v2__box_2_of_2__lot\"   \n",
       "[6] \"hiseq_xtm_pe_cluster_kit_cbottm_v2__box_1_of_2__lot\"\n",
       "[7] \"hiseq_xtm_pe_cluster_kit_cbottm_v2__box_2_of_2__lot\"\n",
       "[8] \"hiseq_xtm_flow_cell_v2_5_lot\"                       "
      ]
     },
     "metadata": {},
     "output_type": "display_data"
    }
   ],
   "source": [
    "meta_cols"
   ]
  },
  {
   "cell_type": "code",
   "execution_count": 134,
   "id": "56157c8c",
   "metadata": {},
   "outputs": [
    {
     "name": "stderr",
     "output_type": "stream",
     "text": [
      "Joining, by = \"npm_research_id\"\n",
      "\n",
      "`summarise()` has grouped output by 'taxa'. You can override using the `.groups` argument.\n",
      "\n"
     ]
    }
   ],
   "source": [
    "col <- \"hiseq_xtm_sbs_kit_300_cycles_v2__box_2_of_2__lot\"\n",
    "\n",
    "batch_prev <- species_prev %>% \n",
    "    left_join(meta) %>%\n",
    "    select(all_of(c(taxa, col))) %>%\n",
    "    pivot_longer(!all_of(col), names_to = \"taxa\", values_to = \"presence\") %>%\n",
    "    group_by(taxa, get(col)) %>%\n",
    "    summarise(prevalence = sum(presence) / n()) %>%\n",
    "    rename(batch = \"get(col)\") %>%\n",
    "    arrange(desc(prevalence))"
   ]
  },
  {
   "cell_type": "code",
   "execution_count": 135,
   "id": "7556b2ce",
   "metadata": {
    "scrolled": true
   },
   "outputs": [
    {
     "data": {
      "text/html": [
       "<table class=\"dataframe\">\n",
       "<caption>A tibble: 5199 × 3</caption>\n",
       "<thead>\n",
       "\t<tr><th scope=col>taxa</th><th scope=col>prevalence</th><th scope=col>bin</th></tr>\n",
       "\t<tr><th scope=col>&lt;chr&gt;</th><th scope=col>&lt;dbl&gt;</th><th scope=col>&lt;fct&gt;</th></tr>\n",
       "</thead>\n",
       "<tbody>\n",
       "\t<tr><td>Rhodopseudomonas palustris       </td><td>0.2949953</td><td>0.25-0.5 </td></tr>\n",
       "\t<tr><td>Bradyrhizobiaceae bacterium SG-6C</td><td>0.2801782</td><td>0.25-0.5 </td></tr>\n",
       "\t<tr><td>Bradyrhizobium sp. SK17          </td><td>0.2753083</td><td>0.25-0.5 </td></tr>\n",
       "\t<tr><td>Sphingomonas sp. LM7             </td><td>0.2414258</td><td>0.05-0.25</td></tr>\n",
       "\t<tr><td>Alcaligenes faecalis             </td><td>0.2375920</td><td>0.05-0.25</td></tr>\n",
       "\t<tr><td>Sphingomonas sp. Cra20           </td><td>0.2351052</td><td>0.05-0.25</td></tr>\n",
       "\t<tr><td>Methylobacterium currus          </td><td>0.2347943</td><td>0.05-0.25</td></tr>\n",
       "\t<tr><td>Sphingomonas hengshuiensis       </td><td>0.2343799</td><td>0.05-0.25</td></tr>\n",
       "\t<tr><td>Sphingomonas koreensis           </td><td>0.2152109</td><td>0.05-0.25</td></tr>\n",
       "\t<tr><td>Sphingomonas sp. FARSPH          </td><td>0.2090975</td><td>0.05-0.25</td></tr>\n",
       "\t<tr><td>Caulobacter vibrioides           </td><td>0.1960419</td><td>0.05-0.25</td></tr>\n",
       "\t<tr><td>Caulobacter segnis               </td><td>0.1938659</td><td>0.05-0.25</td></tr>\n",
       "\t<tr><td>Pseudomonas sihuiensis           </td><td>0.1938659</td><td>0.05-0.25</td></tr>\n",
       "\t<tr><td>Sphingobium sp. YG1              </td><td>0.1930370</td><td>0.05-0.25</td></tr>\n",
       "\t<tr><td>Sphingomonas melonis             </td><td>0.1928298</td><td>0.05-0.25</td></tr>\n",
       "\t<tr><td>Ralstonia pickettii              </td><td>0.1866128</td><td>0.05-0.25</td></tr>\n",
       "\t<tr><td>Ralstonia insidiosa              </td><td>0.1820537</td><td>0.05-0.25</td></tr>\n",
       "\t<tr><td>Bradyrhizobium erythrophlei      </td><td>0.1790488</td><td>0.05-0.25</td></tr>\n",
       "\t<tr><td>Methylobacterium brachiatum      </td><td>0.1770801</td><td>0.05-0.25</td></tr>\n",
       "\t<tr><td>Sphingomonas sanxanigenens       </td><td>0.1736608</td><td>0.05-0.25</td></tr>\n",
       "\t<tr><td>Sphingomonas sp. LK11            </td><td>0.1729354</td><td>0.05-0.25</td></tr>\n",
       "\t<tr><td>Alcaligenes aquatilis            </td><td>0.1721065</td><td>0.05-0.25</td></tr>\n",
       "\t<tr><td>Caulobacter flavus               </td><td>0.1650606</td><td>0.05-0.25</td></tr>\n",
       "\t<tr><td>Caulobacter sp. K31              </td><td>0.1597762</td><td>0.05-0.25</td></tr>\n",
       "\t<tr><td>Xanthomonas euvesicatoria        </td><td>0.1581183</td><td>0.05-0.25</td></tr>\n",
       "\t<tr><td>Pseudomonas mendocina            </td><td>0.1569786</td><td>0.05-0.25</td></tr>\n",
       "\t<tr><td>Pseudomonas alcaliphila          </td><td>0.1557352</td><td>0.05-0.25</td></tr>\n",
       "\t<tr><td>Pseudomonas aeruginosa           </td><td>0.1511760</td><td>0.05-0.25</td></tr>\n",
       "\t<tr><td>Pseudomonas sp. LPH1             </td><td>0.1506580</td><td>0.05-0.25</td></tr>\n",
       "\t<tr><td>Sphingomonas wittichii           </td><td>0.1468242</td><td>0.05-0.25</td></tr>\n",
       "\t<tr><td>⋮</td><td>⋮</td><td>⋮</td></tr>\n",
       "\t<tr><td>Wuhan insect virus 19           </td><td>0</td><td>0</td></tr>\n",
       "\t<tr><td>Wuhan Insect virus 6            </td><td>0</td><td>0</td></tr>\n",
       "\t<tr><td>Xanthomonas arboricola          </td><td>0</td><td>0</td></tr>\n",
       "\t<tr><td>Xanthomonas axonopodis          </td><td>0</td><td>0</td></tr>\n",
       "\t<tr><td>Xanthomonas perforans           </td><td>0</td><td>0</td></tr>\n",
       "\t<tr><td>Xenorhabdus doucetiae           </td><td>0</td><td>0</td></tr>\n",
       "\t<tr><td>Xylella taiwanensis             </td><td>0</td><td>0</td></tr>\n",
       "\t<tr><td>Yaba monkey tumor virus         </td><td>0</td><td>0</td></tr>\n",
       "\t<tr><td>Yellowstone lake mimivirus      </td><td>0</td><td>0</td></tr>\n",
       "\t<tr><td>Yellowstone lake phycodnavirus 1</td><td>0</td><td>0</td></tr>\n",
       "\t<tr><td>Yellowstone lake phycodnavirus 2</td><td>0</td><td>0</td></tr>\n",
       "\t<tr><td>Yellowstone lake phycodnavirus 3</td><td>0</td><td>0</td></tr>\n",
       "\t<tr><td>Yellowstone Lake virophage 7    </td><td>0</td><td>0</td></tr>\n",
       "\t<tr><td>Yersinia kristensenii           </td><td>0</td><td>0</td></tr>\n",
       "\t<tr><td>Yersinia massiliensis           </td><td>0</td><td>0</td></tr>\n",
       "\t<tr><td>Yersinia pestis                 </td><td>0</td><td>0</td></tr>\n",
       "\t<tr><td>Yersinia phage phiR1-37         </td><td>0</td><td>0</td></tr>\n",
       "\t<tr><td>Yersinia phage PY54             </td><td>0</td><td>0</td></tr>\n",
       "\t<tr><td>Yersinia pseudotuberculosis     </td><td>0</td><td>0</td></tr>\n",
       "\t<tr><td>Yersinia ruckeri                </td><td>0</td><td>0</td></tr>\n",
       "\t<tr><td>Yersinia similis                </td><td>0</td><td>0</td></tr>\n",
       "\t<tr><td>Yersinia virus R1RT             </td><td>0</td><td>0</td></tr>\n",
       "\t<tr><td>Yokapox virus                   </td><td>0</td><td>0</td></tr>\n",
       "\t<tr><td>Yongjia ledantevirus            </td><td>0</td><td>0</td></tr>\n",
       "\t<tr><td>Youcai mosaic virus             </td><td>0</td><td>0</td></tr>\n",
       "\t<tr><td>Zerdali virus                   </td><td>0</td><td>0</td></tr>\n",
       "\t<tr><td>Zhongshania aliphaticivorans    </td><td>0</td><td>0</td></tr>\n",
       "\t<tr><td>Zika virus                      </td><td>0</td><td>0</td></tr>\n",
       "\t<tr><td>Zobellia galactanivorans        </td><td>0</td><td>0</td></tr>\n",
       "\t<tr><td>Zymomonas mobilis               </td><td>0</td><td>0</td></tr>\n",
       "</tbody>\n",
       "</table>\n"
      ],
      "text/latex": [
       "A tibble: 5199 × 3\n",
       "\\begin{tabular}{lll}\n",
       " taxa & prevalence & bin\\\\\n",
       " <chr> & <dbl> & <fct>\\\\\n",
       "\\hline\n",
       "\t Rhodopseudomonas palustris        & 0.2949953 & 0.25-0.5 \\\\\n",
       "\t Bradyrhizobiaceae bacterium SG-6C & 0.2801782 & 0.25-0.5 \\\\\n",
       "\t Bradyrhizobium sp. SK17           & 0.2753083 & 0.25-0.5 \\\\\n",
       "\t Sphingomonas sp. LM7              & 0.2414258 & 0.05-0.25\\\\\n",
       "\t Alcaligenes faecalis              & 0.2375920 & 0.05-0.25\\\\\n",
       "\t Sphingomonas sp. Cra20            & 0.2351052 & 0.05-0.25\\\\\n",
       "\t Methylobacterium currus           & 0.2347943 & 0.05-0.25\\\\\n",
       "\t Sphingomonas hengshuiensis        & 0.2343799 & 0.05-0.25\\\\\n",
       "\t Sphingomonas koreensis            & 0.2152109 & 0.05-0.25\\\\\n",
       "\t Sphingomonas sp. FARSPH           & 0.2090975 & 0.05-0.25\\\\\n",
       "\t Caulobacter vibrioides            & 0.1960419 & 0.05-0.25\\\\\n",
       "\t Caulobacter segnis                & 0.1938659 & 0.05-0.25\\\\\n",
       "\t Pseudomonas sihuiensis            & 0.1938659 & 0.05-0.25\\\\\n",
       "\t Sphingobium sp. YG1               & 0.1930370 & 0.05-0.25\\\\\n",
       "\t Sphingomonas melonis              & 0.1928298 & 0.05-0.25\\\\\n",
       "\t Ralstonia pickettii               & 0.1866128 & 0.05-0.25\\\\\n",
       "\t Ralstonia insidiosa               & 0.1820537 & 0.05-0.25\\\\\n",
       "\t Bradyrhizobium erythrophlei       & 0.1790488 & 0.05-0.25\\\\\n",
       "\t Methylobacterium brachiatum       & 0.1770801 & 0.05-0.25\\\\\n",
       "\t Sphingomonas sanxanigenens        & 0.1736608 & 0.05-0.25\\\\\n",
       "\t Sphingomonas sp. LK11             & 0.1729354 & 0.05-0.25\\\\\n",
       "\t Alcaligenes aquatilis             & 0.1721065 & 0.05-0.25\\\\\n",
       "\t Caulobacter flavus                & 0.1650606 & 0.05-0.25\\\\\n",
       "\t Caulobacter sp. K31               & 0.1597762 & 0.05-0.25\\\\\n",
       "\t Xanthomonas euvesicatoria         & 0.1581183 & 0.05-0.25\\\\\n",
       "\t Pseudomonas mendocina             & 0.1569786 & 0.05-0.25\\\\\n",
       "\t Pseudomonas alcaliphila           & 0.1557352 & 0.05-0.25\\\\\n",
       "\t Pseudomonas aeruginosa            & 0.1511760 & 0.05-0.25\\\\\n",
       "\t Pseudomonas sp. LPH1              & 0.1506580 & 0.05-0.25\\\\\n",
       "\t Sphingomonas wittichii            & 0.1468242 & 0.05-0.25\\\\\n",
       "\t ⋮ & ⋮ & ⋮\\\\\n",
       "\t Wuhan insect virus 19            & 0 & 0\\\\\n",
       "\t Wuhan Insect virus 6             & 0 & 0\\\\\n",
       "\t Xanthomonas arboricola           & 0 & 0\\\\\n",
       "\t Xanthomonas axonopodis           & 0 & 0\\\\\n",
       "\t Xanthomonas perforans            & 0 & 0\\\\\n",
       "\t Xenorhabdus doucetiae            & 0 & 0\\\\\n",
       "\t Xylella taiwanensis              & 0 & 0\\\\\n",
       "\t Yaba monkey tumor virus          & 0 & 0\\\\\n",
       "\t Yellowstone lake mimivirus       & 0 & 0\\\\\n",
       "\t Yellowstone lake phycodnavirus 1 & 0 & 0\\\\\n",
       "\t Yellowstone lake phycodnavirus 2 & 0 & 0\\\\\n",
       "\t Yellowstone lake phycodnavirus 3 & 0 & 0\\\\\n",
       "\t Yellowstone Lake virophage 7     & 0 & 0\\\\\n",
       "\t Yersinia kristensenii            & 0 & 0\\\\\n",
       "\t Yersinia massiliensis            & 0 & 0\\\\\n",
       "\t Yersinia pestis                  & 0 & 0\\\\\n",
       "\t Yersinia phage phiR1-37          & 0 & 0\\\\\n",
       "\t Yersinia phage PY54              & 0 & 0\\\\\n",
       "\t Yersinia pseudotuberculosis      & 0 & 0\\\\\n",
       "\t Yersinia ruckeri                 & 0 & 0\\\\\n",
       "\t Yersinia similis                 & 0 & 0\\\\\n",
       "\t Yersinia virus R1RT              & 0 & 0\\\\\n",
       "\t Yokapox virus                    & 0 & 0\\\\\n",
       "\t Yongjia ledantevirus             & 0 & 0\\\\\n",
       "\t Youcai mosaic virus              & 0 & 0\\\\\n",
       "\t Zerdali virus                    & 0 & 0\\\\\n",
       "\t Zhongshania aliphaticivorans     & 0 & 0\\\\\n",
       "\t Zika virus                       & 0 & 0\\\\\n",
       "\t Zobellia galactanivorans         & 0 & 0\\\\\n",
       "\t Zymomonas mobilis                & 0 & 0\\\\\n",
       "\\end{tabular}\n"
      ],
      "text/markdown": [
       "\n",
       "A tibble: 5199 × 3\n",
       "\n",
       "| taxa &lt;chr&gt; | prevalence &lt;dbl&gt; | bin &lt;fct&gt; |\n",
       "|---|---|---|\n",
       "| Rhodopseudomonas palustris        | 0.2949953 | 0.25-0.5  |\n",
       "| Bradyrhizobiaceae bacterium SG-6C | 0.2801782 | 0.25-0.5  |\n",
       "| Bradyrhizobium sp. SK17           | 0.2753083 | 0.25-0.5  |\n",
       "| Sphingomonas sp. LM7              | 0.2414258 | 0.05-0.25 |\n",
       "| Alcaligenes faecalis              | 0.2375920 | 0.05-0.25 |\n",
       "| Sphingomonas sp. Cra20            | 0.2351052 | 0.05-0.25 |\n",
       "| Methylobacterium currus           | 0.2347943 | 0.05-0.25 |\n",
       "| Sphingomonas hengshuiensis        | 0.2343799 | 0.05-0.25 |\n",
       "| Sphingomonas koreensis            | 0.2152109 | 0.05-0.25 |\n",
       "| Sphingomonas sp. FARSPH           | 0.2090975 | 0.05-0.25 |\n",
       "| Caulobacter vibrioides            | 0.1960419 | 0.05-0.25 |\n",
       "| Caulobacter segnis                | 0.1938659 | 0.05-0.25 |\n",
       "| Pseudomonas sihuiensis            | 0.1938659 | 0.05-0.25 |\n",
       "| Sphingobium sp. YG1               | 0.1930370 | 0.05-0.25 |\n",
       "| Sphingomonas melonis              | 0.1928298 | 0.05-0.25 |\n",
       "| Ralstonia pickettii               | 0.1866128 | 0.05-0.25 |\n",
       "| Ralstonia insidiosa               | 0.1820537 | 0.05-0.25 |\n",
       "| Bradyrhizobium erythrophlei       | 0.1790488 | 0.05-0.25 |\n",
       "| Methylobacterium brachiatum       | 0.1770801 | 0.05-0.25 |\n",
       "| Sphingomonas sanxanigenens        | 0.1736608 | 0.05-0.25 |\n",
       "| Sphingomonas sp. LK11             | 0.1729354 | 0.05-0.25 |\n",
       "| Alcaligenes aquatilis             | 0.1721065 | 0.05-0.25 |\n",
       "| Caulobacter flavus                | 0.1650606 | 0.05-0.25 |\n",
       "| Caulobacter sp. K31               | 0.1597762 | 0.05-0.25 |\n",
       "| Xanthomonas euvesicatoria         | 0.1581183 | 0.05-0.25 |\n",
       "| Pseudomonas mendocina             | 0.1569786 | 0.05-0.25 |\n",
       "| Pseudomonas alcaliphila           | 0.1557352 | 0.05-0.25 |\n",
       "| Pseudomonas aeruginosa            | 0.1511760 | 0.05-0.25 |\n",
       "| Pseudomonas sp. LPH1              | 0.1506580 | 0.05-0.25 |\n",
       "| Sphingomonas wittichii            | 0.1468242 | 0.05-0.25 |\n",
       "| ⋮ | ⋮ | ⋮ |\n",
       "| Wuhan insect virus 19            | 0 | 0 |\n",
       "| Wuhan Insect virus 6             | 0 | 0 |\n",
       "| Xanthomonas arboricola           | 0 | 0 |\n",
       "| Xanthomonas axonopodis           | 0 | 0 |\n",
       "| Xanthomonas perforans            | 0 | 0 |\n",
       "| Xenorhabdus doucetiae            | 0 | 0 |\n",
       "| Xylella taiwanensis              | 0 | 0 |\n",
       "| Yaba monkey tumor virus          | 0 | 0 |\n",
       "| Yellowstone lake mimivirus       | 0 | 0 |\n",
       "| Yellowstone lake phycodnavirus 1 | 0 | 0 |\n",
       "| Yellowstone lake phycodnavirus 2 | 0 | 0 |\n",
       "| Yellowstone lake phycodnavirus 3 | 0 | 0 |\n",
       "| Yellowstone Lake virophage 7     | 0 | 0 |\n",
       "| Yersinia kristensenii            | 0 | 0 |\n",
       "| Yersinia massiliensis            | 0 | 0 |\n",
       "| Yersinia pestis                  | 0 | 0 |\n",
       "| Yersinia phage phiR1-37          | 0 | 0 |\n",
       "| Yersinia phage PY54              | 0 | 0 |\n",
       "| Yersinia pseudotuberculosis      | 0 | 0 |\n",
       "| Yersinia ruckeri                 | 0 | 0 |\n",
       "| Yersinia similis                 | 0 | 0 |\n",
       "| Yersinia virus R1RT              | 0 | 0 |\n",
       "| Yokapox virus                    | 0 | 0 |\n",
       "| Yongjia ledantevirus             | 0 | 0 |\n",
       "| Youcai mosaic virus              | 0 | 0 |\n",
       "| Zerdali virus                    | 0 | 0 |\n",
       "| Zhongshania aliphaticivorans     | 0 | 0 |\n",
       "| Zika virus                       | 0 | 0 |\n",
       "| Zobellia galactanivorans         | 0 | 0 |\n",
       "| Zymomonas mobilis                | 0 | 0 |\n",
       "\n"
      ],
      "text/plain": [
       "     taxa                              prevalence bin      \n",
       "1    Rhodopseudomonas palustris        0.2949953  0.25-0.5 \n",
       "2    Bradyrhizobiaceae bacterium SG-6C 0.2801782  0.25-0.5 \n",
       "3    Bradyrhizobium sp. SK17           0.2753083  0.25-0.5 \n",
       "4    Sphingomonas sp. LM7              0.2414258  0.05-0.25\n",
       "5    Alcaligenes faecalis              0.2375920  0.05-0.25\n",
       "6    Sphingomonas sp. Cra20            0.2351052  0.05-0.25\n",
       "7    Methylobacterium currus           0.2347943  0.05-0.25\n",
       "8    Sphingomonas hengshuiensis        0.2343799  0.05-0.25\n",
       "9    Sphingomonas koreensis            0.2152109  0.05-0.25\n",
       "10   Sphingomonas sp. FARSPH           0.2090975  0.05-0.25\n",
       "11   Caulobacter vibrioides            0.1960419  0.05-0.25\n",
       "12   Caulobacter segnis                0.1938659  0.05-0.25\n",
       "13   Pseudomonas sihuiensis            0.1938659  0.05-0.25\n",
       "14   Sphingobium sp. YG1               0.1930370  0.05-0.25\n",
       "15   Sphingomonas melonis              0.1928298  0.05-0.25\n",
       "16   Ralstonia pickettii               0.1866128  0.05-0.25\n",
       "17   Ralstonia insidiosa               0.1820537  0.05-0.25\n",
       "18   Bradyrhizobium erythrophlei       0.1790488  0.05-0.25\n",
       "19   Methylobacterium brachiatum       0.1770801  0.05-0.25\n",
       "20   Sphingomonas sanxanigenens        0.1736608  0.05-0.25\n",
       "21   Sphingomonas sp. LK11             0.1729354  0.05-0.25\n",
       "22   Alcaligenes aquatilis             0.1721065  0.05-0.25\n",
       "23   Caulobacter flavus                0.1650606  0.05-0.25\n",
       "24   Caulobacter sp. K31               0.1597762  0.05-0.25\n",
       "25   Xanthomonas euvesicatoria         0.1581183  0.05-0.25\n",
       "26   Pseudomonas mendocina             0.1569786  0.05-0.25\n",
       "27   Pseudomonas alcaliphila           0.1557352  0.05-0.25\n",
       "28   Pseudomonas aeruginosa            0.1511760  0.05-0.25\n",
       "29   Pseudomonas sp. LPH1              0.1506580  0.05-0.25\n",
       "30   Sphingomonas wittichii            0.1468242  0.05-0.25\n",
       "⋮    ⋮                                 ⋮          ⋮        \n",
       "5170 Wuhan insect virus 19             0          0        \n",
       "5171 Wuhan Insect virus 6              0          0        \n",
       "5172 Xanthomonas arboricola            0          0        \n",
       "5173 Xanthomonas axonopodis            0          0        \n",
       "5174 Xanthomonas perforans             0          0        \n",
       "5175 Xenorhabdus doucetiae             0          0        \n",
       "5176 Xylella taiwanensis               0          0        \n",
       "5177 Yaba monkey tumor virus           0          0        \n",
       "5178 Yellowstone lake mimivirus        0          0        \n",
       "5179 Yellowstone lake phycodnavirus 1  0          0        \n",
       "5180 Yellowstone lake phycodnavirus 2  0          0        \n",
       "5181 Yellowstone lake phycodnavirus 3  0          0        \n",
       "5182 Yellowstone Lake virophage 7      0          0        \n",
       "5183 Yersinia kristensenii             0          0        \n",
       "5184 Yersinia massiliensis             0          0        \n",
       "5185 Yersinia pestis                   0          0        \n",
       "5186 Yersinia phage phiR1-37           0          0        \n",
       "5187 Yersinia phage PY54               0          0        \n",
       "5188 Yersinia pseudotuberculosis       0          0        \n",
       "5189 Yersinia ruckeri                  0          0        \n",
       "5190 Yersinia similis                  0          0        \n",
       "5191 Yersinia virus R1RT               0          0        \n",
       "5192 Yokapox virus                     0          0        \n",
       "5193 Yongjia ledantevirus              0          0        \n",
       "5194 Youcai mosaic virus               0          0        \n",
       "5195 Zerdali virus                     0          0        \n",
       "5196 Zhongshania aliphaticivorans      0          0        \n",
       "5197 Zika virus                        0          0        \n",
       "5198 Zobellia galactanivorans          0          0        \n",
       "5199 Zymomonas mobilis                 0          0        "
      ]
     },
     "metadata": {},
     "output_type": "display_data"
    }
   ],
   "source": [
    "prev_overall %>% arrange(desc(prevalence))"
   ]
  },
  {
   "cell_type": "code",
   "execution_count": 137,
   "id": "446e728d",
   "metadata": {
    "scrolled": true
   },
   "outputs": [
    {
     "data": {
      "text/html": [
       "<table class=\"dataframe\">\n",
       "<caption>A tibble: 1 × 2</caption>\n",
       "<thead>\n",
       "\t<tr><th scope=col>taxa</th><th scope=col>n</th></tr>\n",
       "\t<tr><th scope=col>&lt;chr&gt;</th><th scope=col>&lt;int&gt;</th></tr>\n",
       "</thead>\n",
       "<tbody>\n",
       "\t<tr><td>Rhodopseudomonas palustris</td><td>34</td></tr>\n",
       "</tbody>\n",
       "</table>\n"
      ],
      "text/latex": [
       "A tibble: 1 × 2\n",
       "\\begin{tabular}{ll}\n",
       " taxa & n\\\\\n",
       " <chr> & <int>\\\\\n",
       "\\hline\n",
       "\t Rhodopseudomonas palustris & 34\\\\\n",
       "\\end{tabular}\n"
      ],
      "text/markdown": [
       "\n",
       "A tibble: 1 × 2\n",
       "\n",
       "| taxa &lt;chr&gt; | n &lt;int&gt; |\n",
       "|---|---|\n",
       "| Rhodopseudomonas palustris | 34 |\n",
       "\n"
      ],
      "text/plain": [
       "  taxa                       n \n",
       "1 Rhodopseudomonas palustris 34"
      ]
     },
     "metadata": {},
     "output_type": "display_data"
    }
   ],
   "source": [
    "batch_prev %>% \n",
    "    filter(taxa == \"Rhodopseudomonas palustris\") %>%\n",
    "    summarise(n = n_distinct(batch))"
   ]
  },
  {
   "cell_type": "code",
   "execution_count": 166,
   "id": "c8f291b4",
   "metadata": {
    "scrolled": false
   },
   "outputs": [
    {
     "name": "stderr",
     "output_type": "stream",
     "text": [
      "`stat_bin()` using `bins = 30`. Pick better value with `binwidth`.\n",
      "\n"
     ]
    },
    {
     "data": {
      "image/png": "[encoded data removed]",
      "text/plain": [
       "plot without title"
      ]
     },
     "metadata": {
      "image/png": {
       "height": 420,
       "width": 420
      }
     },
     "output_type": "display_data"
    }
   ],
   "source": [
    "batch_prev %>% \n",
    "    group_by(taxa) %>%\n",
    "    summarise(max_prev = max(prevalence)) %>%\n",
    "    ggplot(aes(x = max_prev)) +\n",
    "    geom_histogram()\n"
   ]
  },
  {
   "cell_type": "code",
   "execution_count": 14,
   "id": "2a9866e4",
   "metadata": {
    "scrolled": true
   },
   "outputs": [
    {
     "ename": "ERROR",
     "evalue": "Error in filter(., taxa == \"Moraxella osloensis\", batch != \"Unknown\"): object 'batch_prev' not found\n",
     "output_type": "error",
     "traceback": [
      "Error in filter(., taxa == \"Moraxella osloensis\", batch != \"Unknown\"): object 'batch_prev' not found\nTraceback:\n",
      "1. batch_prev %>% filter(taxa == \"Moraxella osloensis\", batch != \n .     \"Unknown\") %>% ggplot(aes(x = batch, y = prevalence))",
      "2. ggplot(., aes(x = batch, y = prevalence))",
      "3. filter(., taxa == \"Moraxella osloensis\", batch != \"Unknown\")"
     ]
    }
   ],
   "source": [
    "batch_prev %>%\n",
    "    filter(taxa == \"Moraxella osloensis\", batch != \"Unknown\") %>%\n",
    "    ggplot(aes(x = batch, y = prevalence)) +\n",
    "    geom_bar(stat = \"identity\") +\n",
    "    labs(x = col, y = \"Batch prevalence\") +\n",
    "    ylim(0, 1) +\n",
    "    theme(axis.text.x = element_text(angle = 45, hjust = 1))"
   ]
  },
  {
   "cell_type": "markdown",
   "id": "c7f91dbb",
   "metadata": {},
   "source": [
    "#### Retrieve 20 species for each prevalence class"
   ]
  },
  {
   "cell_type": "code",
   "execution_count": null,
   "id": "4e4ca1fe",
   "metadata": {
    "scrolled": true
   },
   "outputs": [],
   "source": [
    "morsels <- foreach (bin_name = c(\"0-5\", \"5-25\", \"25-50\", \"50-75\")) %do% {\n",
    "    prev_bin <- prev_overall %>%\n",
    "        filter(bin == bin_name)\n",
    "    \n",
    "    if (nrow(prev_bin) >= 20) {\n",
    "        prev_bin %>% sample_n(20, replace = F)\n",
    "    } else {\n",
    "        prev_bin %>% sample_n(nrow(prev_bin), replace = F)\n",
    "    }\n",
    "}\n",
    "\n",
    "prev_bin_df <- bind_rows(morsels)\n",
    "selected_taxa <- prev_bin_df$taxa"
   ]
  },
  {
   "cell_type": "markdown",
   "id": "d36edd0e",
   "metadata": {},
   "source": [
    "#### Per-batch prevalence of positive controls"
   ]
  },
  {
   "cell_type": "code",
   "execution_count": null,
   "id": "64145848",
   "metadata": {
    "scrolled": false
   },
   "outputs": [],
   "source": [
    "pos_taxa <- read.csv(\"data/reported_controls/damgaard_2015_positive.txt\")$positive_controls\n",
    "pos_taxa <- pos_taxa[pos_taxa %in% colnames(species_prev)]"
   ]
  },
  {
   "cell_type": "code",
   "execution_count": null,
   "id": "4e98aeda",
   "metadata": {},
   "outputs": [],
   "source": [
    "taxon_name <- gsub(\" \", \"_\", taxon)\n",
    "taxon_name <- gsub(\"\\\\.\", \"\", taxon_name)\n",
    "taxon_name"
   ]
  },
  {
   "cell_type": "code",
   "execution_count": null,
   "id": "e5c1c06b",
   "metadata": {},
   "outputs": [],
   "source": [
    "taxon <- \"Streptococcus pneumoniae\"\n",
    "taxon <- \"Moraxella osloensis\"\n",
    "# taxon <- \"Burkholderia cepacia\"\n",
    "# taxon <- \"Actinobacillus pleuropneumoniae\"\n",
    "# taxon <- \"Ralstonia insidiosa\"\n",
    "# column <- \"extraction_kit\"\n",
    "column <- \"hiseq_xtm_flow_cell_v2_5_lot\"\n",
    "\n",
    "prev_stats <- species_prev %>% \n",
    "            left_join(meta, by = \"npm_research_id\") %>%\n",
    "            group_by_at(c(column)) %>%\n",
    "            summarise(sum = sum(get(taxon))) %>%\n",
    "            mutate(batch_n = as.vector(table(meta[, column])),\n",
    "                   prevalence = sum / as.vector(table(meta[, column])))\n",
    "\n",
    "prev_stats %>%\n",
    "    filter(get(column) != \"Unknown\") %>%\n",
    "    ggplot(aes(x = get(column), y = prevalence * 100)) +\n",
    "    geom_bar(stat = \"identity\", fill = \"#6b3074\") +\n",
    "    ylim(-3, 100) +\n",
    "    theme(axis.text.x = element_text(angle = 45, hjust = 1)) +\n",
    "    labs(x = column, y = \"Prevalence (%)\", title = taxon) +\n",
    "    ylim(-3, 100) +\n",
    "    geom_text(aes(x = get(column), y = -3, label = batch_n), angle = 45)\n",
    "\n",
    "taxon_name <- gsub(\" \", \"_\", taxon)\n",
    "taxon_name <- gsub(\"\\\\.\", \"\", taxon_name)\n",
    "ggsave(str_glue(\"results/decontamination/diff_prev_V2/{taxon_name}.prevalence.png\"), dpi = 300)"
   ]
  },
  {
   "cell_type": "markdown",
   "id": "47f7de30",
   "metadata": {},
   "source": [
    "#### For selected taxa"
   ]
  },
  {
   "cell_type": "code",
   "execution_count": null,
   "id": "c9be1542",
   "metadata": {},
   "outputs": [],
   "source": [
    "for (read_t in c(0, 5, 10, 20, 50, 100)) {\n",
    "    species_prev <- species_df %>% select(-npm_research_id, -\"Homo sapiens\", -unclassified)\n",
    "    species_prev[species_prev <= read_t] <- 0\n",
    "    species_prev[species_prev > read_t] <- 1\n",
    "    species_prev <- species_prev %>% add_column(npm_research_id = species_df$npm_research_id, .before = 1)\n",
    "\n",
    "    dir.create(str_glue(\"results/decontamination/diff_prev/diff_prev_sanity_check/selected_taxa/read_t{read_t}/\"))\n",
    "\n",
    "    for (column in meta_cols) {\n",
    "        plot_list <- foreach(taxon = selected_taxa) %do% {\n",
    "            prev_stats <- species_prev %>% \n",
    "                        left_join(meta, by = \"npm_research_id\") %>%\n",
    "                        group_by_at(c(column)) %>%\n",
    "                        summarise(sum = sum(get(taxon))) %>%\n",
    "                        mutate(batch_n = as.vector(table(meta[, column])),\n",
    "                               prevalence = sum / as.vector(table(meta[, column])))\n",
    "\n",
    "            # prev_stats\n",
    "            tmp_plt <- prev_stats %>%\n",
    "                filter(get(column) != \"Unknown\") %>%\n",
    "                ggplot(aes(x = get(column), y = prevalence * 100)) +\n",
    "                ylim(-3, 100) +\n",
    "                geom_text(aes(x = get(column), y = -3, label = batch_n), angle = 45) +\n",
    "                theme(axis.text.x = element_text(angle = 45, hjust = 1)) +\n",
    "                labs(x = column, y = \"Prevalence (%)\", title = taxon)\n",
    "            \n",
    "            bin_level <- prev_bin_df[prev_bin_df$taxa == taxon, ]$bin\n",
    "            \n",
    "            if (bin_level == \"0-5\") {\n",
    "                tmp_plt + geom_bar(stat = \"identity\", fill = \"#98c1d9\")\n",
    "            } else if (bin_level == \"5-25\") {\n",
    "                tmp_plt + geom_bar(stat = \"identity\", fill = \"#3d5a80\")\n",
    "            } else if (bin_level == \"25-50\") {\n",
    "                tmp_plt + geom_bar(stat = \"identity\", fill = \"#6b3074\")\n",
    "            } else {\n",
    "                tmp_plt + geom_bar(stat = \"identity\", fill = \"#ee6c4d\")\n",
    "            }\n",
    "        }\n",
    "        \n",
    "        combined <- egg::ggarrange(plots = plot_list)\n",
    "\n",
    "        ggsave(str_glue(\"results/decontamination/diff_prev/diff_prev_sanity_check/selected_taxa/read_t{read_t}/prevalence.{column}.read_t{read_t}.png\"), plot = combined, width = 40, height = 40)\n",
    "    }\n",
    "}"
   ]
  },
  {
   "cell_type": "markdown",
   "id": "2836af17",
   "metadata": {},
   "source": [
    "#### For positive controls"
   ]
  },
  {
   "cell_type": "code",
   "execution_count": null,
   "id": "7d1925db",
   "metadata": {},
   "outputs": [],
   "source": [
    "# for (read_t in c(0, 1, 2, 4, 5, 10, 20, 50, 100, 500, 1000)) {\n",
    "#     # read_t <- 10\n",
    "#     species_prev <- species_df %>% select(-npm_research_id, -\"Homo sapiens\", -unclassified)\n",
    "#     species_prev[species_prev <= read_t] <- 0\n",
    "#     species_prev[species_prev > read_t] <- 1\n",
    "#     species_prev <- species_prev %>% add_column(npm_research_id = species_df$npm_research_id, .before = 1)\n",
    "\n",
    "#     dir.create(str_glue(\"results/decontamination/diff_prev/diff_prev_sanity_check/pos_controls/read_t{read_t}/\"))\n",
    "\n",
    "#     for (column in meta_cols) {\n",
    "#         plot_list <- foreach(taxon = pos_taxa) %do% {\n",
    "#             prev_stats <- species_prev %>% \n",
    "#                         left_join(meta, by = \"npm_research_id\") %>%\n",
    "#                         group_by_at(c(column)) %>%\n",
    "#                         summarise(sum = sum(get(taxon))) %>%\n",
    "#                         mutate(batch_n = as.vector(table(meta[, column])),\n",
    "#                                prevalence = sum / as.vector(table(meta[, column])))\n",
    "\n",
    "#             # prev_stats\n",
    "#             prev_stats %>%\n",
    "#                 filter(get(column) != \"Unknown\") %>%\n",
    "#                 ggplot(aes(x = get(column), y = prevalence * 100)) +\n",
    "#                 geom_bar(stat = \"identity\") +\n",
    "#                 ylim(-3, 100) +\n",
    "#                 geom_text(aes(x = get(column), y = -3, label = batch_n), angle = 45) +\n",
    "#                 theme(axis.text.x = element_text(angle = 45, hjust = 1)) +\n",
    "#                 labs(x = column, y = \"Prevalence (%)\", title = taxon)\n",
    "#         }\n",
    "\n",
    "#         combined <- egg::ggarrange(plots = plot_list)\n",
    "\n",
    "#         ggsave(str_glue(\"results/decontamination/diff_prev/diff_prev_sanity_check/pos_controls/read_t{read_t}/prevalence.{column}.read_t{read_t}.png\"), plot = combined, width = 40, height = 40)\n",
    "#     }\n",
    "# }"
   ]
  },
  {
   "cell_type": "code",
   "execution_count": null,
   "id": "8850ef33",
   "metadata": {},
   "outputs": [],
   "source": [
    "dawdawdw"
   ]
  },
  {
   "cell_type": "markdown",
   "id": "2a66082f",
   "metadata": {},
   "source": [
    "#### Overall prevalence"
   ]
  },
  {
   "cell_type": "code",
   "execution_count": null,
   "id": "f14b3c61",
   "metadata": {
    "scrolled": true
   },
   "outputs": [],
   "source": [
    "prev_stats <- apply(species_prev[, 2:ncol(species_prev)], 2, sum) / nrow(species_df)\n",
    "prev_df <- data.frame(taxa = names(prev_stats), prevalence = as.vector(prev_stats))\n",
    "prev_df %>% arrange(desc(prevalence))"
   ]
  },
  {
   "cell_type": "code",
   "execution_count": null,
   "id": "a63ed533",
   "metadata": {},
   "outputs": [],
   "source": [
    "all_species <- colnames(species_df %>% select(-npm_research_id, -\"Homo sapiens\", -unclassified))\n",
    "to_include <- prev_df$taxa[prev_df$prevalence != 0]\n",
    "all_species <- all_species[all_species %in% to_include]\n",
    "print(length(all_species))"
   ]
  },
  {
   "cell_type": "code",
   "execution_count": null,
   "id": "4e2683ea",
   "metadata": {},
   "outputs": [],
   "source": [
    "all_species <- colnames(species_df %>% select(-npm_research_id, -\"Homo sapiens\", -unclassified))\n",
    "any(grepl(\"Propionibacterium\", all_species))\n",
    "all_species[grepl(\"Cutibacterium\", all_species)]"
   ]
  },
  {
   "cell_type": "code",
   "execution_count": null,
   "id": "7489c46d",
   "metadata": {},
   "outputs": [],
   "source": [
    "test <- fread(\"results/decontamination/max_batch_prevalence.kit.site.instrument.read_t100.csv\")\n",
    "test %>% \n",
    "    arrange(desc(max_batch_prev)) %>%\n",
    "    filter(max_batch_prev > 0.7)"
   ]
  },
  {
   "cell_type": "code",
   "execution_count": null,
   "id": "0c01d2d3",
   "metadata": {
    "scrolled": true
   },
   "outputs": [],
   "source": [
    "# col <- \"site_supplying_sample\"\n",
    "# taxon <- \"Bradyrhizobium sp. SK17\"\n",
    "system.time({\n",
    "    morsels <- foreach(taxon = all_species) %dopar% {\n",
    "        crumbs <- foreach (col = meta_cols) %do% {\n",
    "            max_batch_prev <- species_prev %>% \n",
    "                left_join(meta) %>% \n",
    "                filter(get(col) != \"Unknown\") %>%\n",
    "                select(all_of(c(taxon, col))) %>%\n",
    "                group_by(get(col)) %>%\n",
    "                summarise(prevalence = sum(get(taxon)) / n())\n",
    "            max_batch_prev <- max(max_batch_prev$prevalence)\n",
    "\n",
    "            tibble(meta_col = col, max_batch_prev = max_batch_prev)\n",
    "        }\n",
    "\n",
    "\n",
    "        crumb <- bind_rows(crumbs)\n",
    "        max_batch_prev <- max(crumb$max_batch_prev)\n",
    "\n",
    "        tibble(meta_col = taxon, max_batch_prev = max_batch_prev)\n",
    "    }\n",
    "\n",
    "    max_prev_df <- bind_rows(morsels)\n",
    "\n",
    "})\n",
    "\n",
    "fwrite(max_prev_df, str_glue(\"results/decontamination/max_batch_prevalence.kit.site.instrument.read_t{read_t}.csv\"))"
   ]
  },
  {
   "cell_type": "code",
   "execution_count": null,
   "id": "3ac68e27",
   "metadata": {},
   "outputs": [],
   "source": [
    "fwrite(max_prev_df, str_glue(\"results/decontamination/max_batch_prevalence.kit.site.instrument.read_t{read_t}.csv\"))"
   ]
  },
  {
   "cell_type": "markdown",
   "id": "8b6b6c69",
   "metadata": {},
   "source": [
    "### Retrieve samples for simulations"
   ]
  },
  {
   "cell_type": "code",
   "execution_count": null,
   "id": "9bc0bcf8",
   "metadata": {},
   "outputs": [],
   "source": [
    "calc <- meta %>%\n",
    "    summarise(min = min(raw_total_sequences), \n",
    "              median = median(raw_total_sequences),\n",
    "              max = max(raw_total_sequences),\n",
    "              n = n_distinct(npm_research_id))\n",
    "\n",
    "calc \n",
    "\n",
    "X <- as.matrix(species_df[, 2:ncol(species_df)])\n",
    "y <- species_df$npm_research_id\n",
    "\n",
    "rowsum_df <- tibble(npm_research_id = y, rowsums = rowSums(X)) %>%\n",
    "    left_join(meta) %>%\n",
    "    mutate(frac_microb = rowsums / raw_total_sequences) \n",
    "\n",
    "rowsum_df %>%\n",
    "    summarise(min = min(rowsums), \n",
    "              median = median(rowsums),\n",
    "              max = max(rowsums),\n",
    "              n = n_distinct(npm_research_id))\n",
    "\n",
    "rowsum_df %>%\n",
    "    summarise(min = min(frac_microb), \n",
    "              median = median(frac_microb),\n",
    "              max = max(frac_microb),\n",
    "              n = n_distinct(npm_research_id))"
   ]
  },
  {
   "cell_type": "code",
   "execution_count": null,
   "id": "7c7c616c",
   "metadata": {},
   "outputs": [],
   "source": [
    "nc <- read.csv(\"results/decontamination/correlation_decontamination/nc.diff_prev.diff_abn.l15h85.corr_t0.1.S.n9999.txt\")$non_contaminant_taxon\n"
   ]
  },
  {
   "cell_type": "code",
   "execution_count": null,
   "id": "bd49cf77",
   "metadata": {
    "scrolled": true
   },
   "outputs": [],
   "source": [
    "test <- species_df %>%\n",
    "    filter(get(\"Human betaherpesvirus 6A\") > 8700) %>%\n",
    "    pivot_longer(!npm_research_id, names_to = \"taxa\", values_to = \"read_count\") %>%\n",
    "    arrange(desc(read_count)) %>%\n",
    "    filter(read_count > 0)\n",
    "test$taxa[test$taxa %in% nc]"
   ]
  },
  {
   "cell_type": "code",
   "execution_count": null,
   "id": "b5b1c877",
   "metadata": {},
   "outputs": [],
   "source": [
    "read.csv(\"data/reported_controls/damgaard_2015_positive.txt\")"
   ]
  },
  {
   "cell_type": "code",
   "execution_count": null,
   "id": "bcf3503f",
   "metadata": {},
   "outputs": [],
   "source": [
    "max(species_df$`Staphylococcus aureus`)"
   ]
  },
  {
   "cell_type": "code",
   "execution_count": null,
   "id": "e33ed6a6",
   "metadata": {
    "scrolled": false
   },
   "outputs": [],
   "source": [
    "species_df %>% \n",
    "    pivot_longer(!npm_research_id, names_to = \"taxa\", values_to = \"read_count\") %>%\n",
    "    group_by(taxa) %>%\n",
    "    summarise(max_count = max(read_count)) %>%\n",
    "    filter(grepl(\"torque teno virus 1|herpes\", taxa, ignore.case = T)) %>%\n",
    "    arrange(desc(max_count)) %>%\n",
    "    head()"
   ]
  },
  {
   "cell_type": "markdown",
   "id": "309cc0ad",
   "metadata": {},
   "source": [
    "### Find no. of taxa in samples with human viruses"
   ]
  },
  {
   "cell_type": "code",
   "execution_count": null,
   "id": "2c79b8b3",
   "metadata": {
    "scrolled": true
   },
   "outputs": [],
   "source": [
    "species_df1 %>% \n",
    "    pivot_longer(!npm_research_id, names_to = \"taxa\", values_to = \"read_count\") %>%\n",
    "    group_by(taxa) %>%\n",
    "    summarise(max_count = max(read_count)) %>%\n",
    "    filter(grepl(\"torque teno|herpes\", taxa, ignore.case = T)) %>%\n",
    "    arrange(desc(max_count)) %>%\n",
    "    head()"
   ]
  },
  {
   "cell_type": "code",
   "execution_count": null,
   "id": "bd4aa6e4",
   "metadata": {
    "scrolled": true
   },
   "outputs": [],
   "source": [
    "species_prev100 %>% \n",
    "    column_to_rownames(\"npm_research_id\") %>%\n",
    "    select_if(grepl(\"Torque teno|Human\", names(.))) %>% colnames()"
   ]
  },
  {
   "cell_type": "code",
   "execution_count": null,
   "id": "4c956a70",
   "metadata": {},
   "outputs": [],
   "source": [
    "species_prev100 <- otu_to_prev(species_df, 100)\n",
    "with_virus <- species_prev100 %>% \n",
    "    column_to_rownames(\"npm_research_id\") %>%\n",
    "    select_if(grepl(\"Torque teno|Human\", names(.))) %>% \n",
    "    mutate(rowsums = rowSums(.)) %>%\n",
    "    filter(rowsums > 0) %>%\n",
    "    rownames()"
   ]
  },
  {
   "cell_type": "code",
   "execution_count": null,
   "id": "414eda8a",
   "metadata": {},
   "outputs": [],
   "source": [
    "species_prev100 %>% \n",
    "    filter(npm_research_id %in% with_virus) %>%\n",
    "    column_to_rownames(\"npm_research_id\") %>%\n",
    "    mutate(rowsums = rowSums(.)) %>%\n",
    "    select(rowsums) %>% \n",
    "    summarise(median = median(rowsums))\n"
   ]
  },
  {
   "cell_type": "markdown",
   "id": "0be0d66d",
   "metadata": {},
   "source": [
    "## Distribution of microbial reads per sample"
   ]
  },
  {
   "cell_type": "code",
   "execution_count": null,
   "id": "80c9c29e",
   "metadata": {
    "scrolled": true
   },
   "outputs": [],
   "source": [
    "read_counts <- apply(genus_df %>% select(-npm_research_id, -unclassified, -Homo), 1, sum)\n",
    "\n",
    "genus_reads <- genus_df %>% \n",
    "    select(-unclassified, -Homo) %>%\n",
    "    mutate(total = rowSums(across(where(is.numeric))))\n",
    "    \n",
    "genus_reads %>% \n",
    "    ggplot(aes(x = log(total, base = 10))) +\n",
    "    geom_histogram(bins = 50) +\n",
    "    labs(x = \"lg(microbial reads)\", y = \"No. of samples\")"
   ]
  },
  {
   "cell_type": "code",
   "execution_count": null,
   "id": "79e6f6a1",
   "metadata": {},
   "outputs": [],
   "source": [
    "load_data(str_glue(\"data/temp_files_9999/07_abundance_matrix/abundance_matrix.subset_9999.S.tsv\")) %>%\n",
    "    column_to_rownames(\"npm_research_id\") %>%\n",
    "    select(-\"Homo sapiens\", -unclassified) %>%\n",
    "    mutate(rowsums = rowSums(.)) %>%\n",
    "    ggplot(aes(x = log(rowsums, base = 10))) +\n",
    "    geom_histogram(bins = 100) +\n",
    "    labs(x = \"Log(classified read counts, base = 10)\", y = \"No. of samples\")"
   ]
  },
  {
   "cell_type": "markdown",
   "id": "814e2cda",
   "metadata": {},
   "source": [
    "## Choosing microbial read per sample threshold"
   ]
  },
  {
   "cell_type": "code",
   "execution_count": null,
   "id": "e0bf4071",
   "metadata": {},
   "outputs": [],
   "source": [
    "n_left <- c()\n",
    "t_vec <- seq(1, 1000, 10)\n",
    "\n",
    "morsels <- foreach (t = t_vec) %do% {\n",
    "    tmp <- genus_reads %>% \n",
    "        filter(total > t)\n",
    "    \n",
    "    morsel <- tibble(t = t, n_left = nrow(tmp))\n",
    "    return(morsel)\n",
    "}\n",
    "\n",
    "head(bind_rows(morsels))\n"
   ]
  },
  {
   "cell_type": "code",
   "execution_count": null,
   "id": "6adab8e7",
   "metadata": {},
   "outputs": [],
   "source": [
    "bind_rows(morsels) %>% \n",
    "    ggplot(aes(x = t, y = n_left)) +\n",
    "    geom_line() +\n",
    "    labs(x = \"Read count threshold\", y = \"No. of samples retained\")"
   ]
  },
  {
   "cell_type": "code",
   "execution_count": null,
   "id": "19c8c74d",
   "metadata": {},
   "outputs": [],
   "source": [
    "genus_reads %>%\n",
    "    left_join(meta) %>%\n",
    "    ggplot(aes(x = site_supplying_sample, y = log(total, base = 10))) +\n",
    "    geom_boxplot()"
   ]
  },
  {
   "cell_type": "code",
   "execution_count": null,
   "id": "7faa8207",
   "metadata": {
    "scrolled": true
   },
   "outputs": [],
   "source": [
    "# t <- 500\n",
    "t <- quantile(genus_reads$total, 0.1)[[1]]\n",
    "to_retain <- genus_reads %>% \n",
    "    filter(total > t) %>%\n",
    "    select(npm_research_id)\n",
    "\n",
    "nrow(to_retain)\n",
    "fwrite(to_retain, str_glue(\"data/samples_above_{t}_reads.txt\"))"
   ]
  },
  {
   "cell_type": "code",
   "execution_count": null,
   "id": "1a29f245",
   "metadata": {},
   "outputs": [],
   "source": [
    "before <- genus_reads %>%\n",
    "    left_join(meta) %>%\n",
    "    ggplot(aes(x = site_supplying_sample, y = log(total, base = 10))) +\n",
    "    geom_boxplot()\n",
    "\n",
    "after <- genus_reads %>%\n",
    "    left_join(meta) %>%\n",
    "    filter(npm_research_id %in% to_retain$npm_research_id) %>%\n",
    "    ggplot(aes(x = site_supplying_sample, y = log(total, base = 10))) +\n",
    "    geom_boxplot()\n",
    "\n",
    "\n",
    "ggarrange(before, after, ncol = 2)"
   ]
  },
  {
   "cell_type": "markdown",
   "id": "fb3524bb",
   "metadata": {},
   "source": [
    "#### Distribution of read counts"
   ]
  },
  {
   "cell_type": "code",
   "execution_count": null,
   "id": "45b5a64c",
   "metadata": {},
   "outputs": [],
   "source": [
    "otu_to_RA <- function(df) {\n",
    "    row_names <- df$npm_research_id\n",
    "    RA_df <- t(apply(df[, 2:ncol(df)], 1, function(x) {x / sum(x)}))\n",
    "    \n",
    "    return(cbind(data.frame(npm_research_id = row_names), as.data.frame(RA_df, check.names = F)))\n",
    "}\n",
    "\n",
    "species_RA <- otu_to_RA(species_df)\n",
    "genus_RA <- otu_to_RA(genus_df)"
   ]
  },
  {
   "cell_type": "code",
   "execution_count": null,
   "id": "f5973c06",
   "metadata": {
    "scrolled": true
   },
   "outputs": [],
   "source": [
    "prev_genus %>%\n",
    "    left_join(meta) %>%\n",
    "    ggplot(aes(x = site_supplying_sample, y = Bradyrhizobium)) +\n",
    "    geom_boxplot()"
   ]
  },
  {
   "cell_type": "code",
   "execution_count": null,
   "id": "d29e6adb",
   "metadata": {},
   "outputs": [],
   "source": [
    "frac <- 0.1\n",
    "RA_long <- species_RA %>%  \n",
    "    sample_frac(frac) %>%\n",
    "    select(-npm_research_id, -\"Homo sapiens\", -unclassified) %>%\n",
    "    pivot_longer(everything(), names_to = \"taxa\", values_to = \"rel_a\") %>%\n",
    "    filter(rel_a != 0) %>% \n",
    "    arrange(desc(rel_a))\n",
    "\n",
    "RA_plt <- RA_long %>%\n",
    "    ggplot(aes(x = log(rel_a))) +\n",
    "    geom_histogram(bins = 100) +\n",
    "    labs(x = \"log(Relative Abundance)\", y = \"Frequency\")\n",
    "\n",
    "species_long <- species_df %>%\n",
    "    sample_frac(frac) %>%\n",
    "    select(-npm_research_id, -\"Homo sapiens\", -unclassified) %>%\n",
    "    pivot_longer(everything(), names_to = \"taxa\", values_to = \"read_count\") %>%\n",
    "    filter(read_count != 0) %>% \n",
    "    arrange(desc(read_count))\n",
    "\n",
    "read_plt <- species_long %>%\n",
    "    ggplot(aes(x = log(read_count))) +\n",
    "    geom_histogram(bins = 100) +\n",
    "    labs(x = \"log(Read Count)\", y = \"Frequency\")\n",
    "\n",
    "ggarrange(read_plt, RA_plt, ncol = 2)"
   ]
  },
  {
   "cell_type": "code",
   "execution_count": null,
   "id": "e23fbe9f",
   "metadata": {},
   "outputs": [],
   "source": [
    "sorted_df <- RA_long %>%\n",
    "    filter(rel_a != 0) %>%\n",
    "    group_by(taxa) %>%\n",
    "    summarise(median = median(rel_a), min = min(rel_a), max = max(rel_a)) %>%\n",
    "    arrange(desc(median))\n",
    "head(sorted_df)"
   ]
  },
  {
   "cell_type": "code",
   "execution_count": null,
   "id": "de0cc95c",
   "metadata": {},
   "outputs": [],
   "source": [
    "prev_dat <- species_RA\n",
    "prev_dat[prev_dat > 0] <- 1"
   ]
  },
  {
   "cell_type": "code",
   "execution_count": null,
   "id": "b8a3f9f6",
   "metadata": {
    "scrolled": true
   },
   "outputs": [],
   "source": [
    "prev_stats <- apply(prev_dat[, 2:ncol(prev_dat)], 2, sum) / nrow(prev_dat)\n",
    "prev_df <- data.frame(taxa = names(prev_stats), prevalence = as.vector(prev_stats))\n",
    "prev_df %>% arrange(desc(prevalence))"
   ]
  },
  {
   "cell_type": "code",
   "execution_count": null,
   "id": "5d6124b7",
   "metadata": {},
   "outputs": [],
   "source": [
    "# to_show <- c(head(sorted_df)$taxa, sorted_df$taxa[grep(\"Stenotrophomonas\", sorted_df$taxa)])\n",
    "to_show <- sorted_df$taxa[grep(\"Moraxella oslo|Nocardia\", sorted_df$taxa)]\n",
    "sorted_df %>% \n",
    "filter(taxa %in% to_show) %>%\n",
    "left_join(prev_df) %>%\n",
    "arrange(desc(prevalence))"
   ]
  },
  {
   "cell_type": "code",
   "execution_count": null,
   "id": "c85ff6ed",
   "metadata": {},
   "outputs": [],
   "source": [
    "nc <- read.csv(\"results/decontamination/prevalence.noncontam.S.n9999.txt\")\n",
    "nc"
   ]
  },
  {
   "cell_type": "code",
   "execution_count": null,
   "id": "bc5c2f0e",
   "metadata": {},
   "outputs": [],
   "source": [
    "sorted_df %>% \n",
    "left_join(prev_df) %>%\n",
    "arrange(desc(prevalence)) %>%\n",
    "mutate(above_t = ifelse(prevalence > 0.5, \"prev_above_50\", \"prev_below_50\")) %>%\n",
    "mutate(text_annot = ifelse(above_t == \"prev_above_50\", taxa, \"\")) %>%\n",
    "recode(text_annot ==)"
   ]
  },
  {
   "cell_type": "code",
   "execution_count": null,
   "id": "21245fab",
   "metadata": {},
   "outputs": [],
   "source": [
    "sorted_df %>% \n",
    "left_join(prev_df) %>%\n",
    "arrange(desc(prevalence)) %>%\n",
    "mutate(above_t = ifelse(prevalence > 0.5, \"prev_above_50\", \"prev_below_50\")) %>%\n",
    "mutate(text_annot = ifelse(above_t == \"prev_above_50\", taxa, \"\")) %>%\n",
    "ggplot(aes(x = taxa, y = prevalence, fill = above_t)) +\n",
    "geom_bar(stat = \"identity\") +\n",
    "geom_text(aes(x = taxa, y = 0.9, label = text_annot))"
   ]
  },
  {
   "cell_type": "code",
   "execution_count": null,
   "id": "beaba641",
   "metadata": {},
   "outputs": [],
   "source": [
    "to_keep <- c(\"Cutibacterium acnes\", \"Staphylococcus aureus\", \"Escherichia\", \"Stenotrophomonas\", \"Bradyrhizobium\")\n",
    "to_search <- paste0(to_keep, collapse = \"|\")\n",
    "RA_long %>% \n",
    "    filter(grepl(to_search, taxa)) %>%\n",
    "    ggplot(aes(x = taxa, y = rel_a)) +\n",
    "    geom_boxplot() +\n",
    "    theme(axis.text.x = element_text(angle = 45, hjust = 1))"
   ]
  },
  {
   "cell_type": "markdown",
   "id": "c1ed294b",
   "metadata": {},
   "source": [
    "#### Prop unclassified"
   ]
  },
  {
   "cell_type": "code",
   "execution_count": null,
   "id": "a53fffed",
   "metadata": {},
   "outputs": [],
   "source": [
    "species_RA <- t(apply(species_df %>% column_to_rownames(\"npm_research_id\"), 1, function(x) {x / sum(x)}))\n",
    "species_RA <- as_tibble(species_RA)"
   ]
  },
  {
   "cell_type": "code",
   "execution_count": null,
   "id": "290565df",
   "metadata": {},
   "outputs": [],
   "source": [
    "nrow(species_RA)\n",
    "species_RA %>% \n",
    "    select(unclassified, \"Homo sapiens\") %>%\n",
    "    pivot_longer(everything(), names_to = \"taxa\", values_to = \"abundance\") %>%\n",
    "    ggplot(aes(y = abundance, fill = taxa, groups = taxa)) +\n",
    "    geom_boxplot() +\n",
    "    facet_grid(cols = vars(taxa)) +\n",
    "    theme(legend.position = \"None\",\n",
    "          axis.text.x = element_blank()) +\n",
    "    labs(y = \"Relative abundance\")\n",
    "\n",
    "ggsave(\"results/unclassified_and_human_boxplot.png\", dpi = 300)"
   ]
  },
  {
   "cell_type": "markdown",
   "id": "0468b6de",
   "metadata": {},
   "source": [
    "#### Heatmap"
   ]
  },
  {
   "cell_type": "code",
   "execution_count": null,
   "id": "35d17711",
   "metadata": {},
   "outputs": [],
   "source": [
    "species_RA_parsed <- species_RA %>% \n",
    "    rownames_to_column(\"npm_research_id\") %>%\n",
    "    sample_n(500, replace = F)\n",
    "\n",
    "long_df <- species_RA_parsed %>% \n",
    "    pivot_longer(!npm_research_id, names_to = \"taxa\", values_to = \"abundance\") %>%\n",
    "    mutate(abundance = ifelse(abundance == 0, NA, abundance)) %>%\n",
    "    mutate(abundance = log(abundance))"
   ]
  },
  {
   "cell_type": "code",
   "execution_count": null,
   "id": "59d6812e",
   "metadata": {},
   "outputs": [],
   "source": [
    "sample_clust <- hclust(dist(species_RA_parsed, method = \"euclidean\"), method = \"ward.D\" )$order\n",
    "taxa_clust <- hclust(dist(t(species_RA_parsed), method = \"euclidean\"), method = \"ward.D\" )$order\n",
    "long_df <- long_df %>% \n",
    "    mutate(npm_research_id = factor(npm_research_id, levels = species_RA_parsed$npm_research_id[clust]),\n",
    "           taxa = factor(taxa, levels = colnames(species_RA_parsed)[taxa_clust]))"
   ]
  },
  {
   "cell_type": "code",
   "execution_count": null,
   "id": "e84858b9",
   "metadata": {},
   "outputs": [],
   "source": [
    "hm <- long_df %>%\n",
    "    ggplot(aes(x = taxa, y = npm_research_id, fill = abundance)) +\n",
    "    geom_tile() +\n",
    "    scale_fill_gradient(na.value = \"white\", low = \"blue\", high = \"red\") +\n",
    "    theme(axis.text = element_blank(),\n",
    "         axis.ticks = element_blank()) +\n",
    "    labs(x = \"Species\", y = \"Samples\", fill = \"log(Relative Abundance)\")\n",
    "\n",
    "hm\n",
    "\n",
    "ggsave(\"results/relative_abundance_heatmap.png\", dpi = 300, plot = hm)"
   ]
  },
  {
   "cell_type": "markdown",
   "id": "4259c24f",
   "metadata": {},
   "source": [
    "### Count and remove samples with no classified reads\n",
    "This may include samples that originally had no reads, and samples whose reads cannot be classified"
   ]
  },
  {
   "cell_type": "code",
   "execution_count": null,
   "id": "fd6f2ec8",
   "metadata": {},
   "outputs": [],
   "source": [
    "count_zero_reads <- function(df) {\n",
    "    df %>%\n",
    "        rowwise() %>%\n",
    "        mutate(total = sum(across(everything()))) %>%\n",
    "        filter(total == 0) %>%\n",
    "        nrow()\n",
    "    }\n",
    "\n",
    "count_zero_reads(species_df)"
   ]
  },
  {
   "cell_type": "markdown",
   "id": "d42c1b6f",
   "metadata": {},
   "source": [
    "### Normalise to relative abundance"
   ]
  },
  {
   "cell_type": "code",
   "execution_count": null,
   "id": "1e0ac7e0",
   "metadata": {
    "scrolled": true
   },
   "outputs": [],
   "source": [
    "normalise <- function(df) {\n",
    "    RA_df <- t(apply(df, 1, function(x) {x / sum(x) * 100}))\n",
    "    return(RA_df)\n",
    "}\n",
    "\n",
    "species_RA <- normalise(species_df)\n",
    "species_RA"
   ]
  },
  {
   "cell_type": "markdown",
   "id": "340fc2bf",
   "metadata": {},
   "source": [
    "## Relative abundance for all samples"
   ]
  },
  {
   "cell_type": "markdown",
   "id": "9364821c",
   "metadata": {},
   "source": [
    "### Matrix --> long format"
   ]
  },
  {
   "cell_type": "code",
   "execution_count": null,
   "id": "eb18395b",
   "metadata": {},
   "outputs": [],
   "source": [
    "to_long_format <- function(RA_df) {\n",
    "    plot_df <- as_tibble(RA_df, rownames = \"sample\") %>%\n",
    "        pivot_longer(!sample, names_to = \"rank\", values_to = \"abundance\")\n",
    "    return(plot_df)\n",
    "    }\n",
    "\n",
    "plot_species_RA <- to_long_format(species_RA)"
   ]
  },
  {
   "cell_type": "markdown",
   "id": "3e0b5b85",
   "metadata": {},
   "source": [
    "### Keep only top N ranks\n",
    "ranked by median relative abundance"
   ]
  },
  {
   "cell_type": "code",
   "execution_count": null,
   "id": "14ddab5b",
   "metadata": {},
   "outputs": [],
   "source": [
    "get_top_N_ranks <- function(plot_df, n_keep) {\n",
    "    ranks_to_keep <- plot_df %>% \n",
    "        group_by(rank) %>%\n",
    "        summarise(median = median(abundance)) %>%\n",
    "        arrange(desc(median))\n",
    "      ranks_to_keep <- ranks_to_keep$rank[1:n_keep]\n",
    "    return(ranks_to_keep)\n",
    "}\n",
    "\n",
    "n_keep <- 8\n",
    "species_to_keep <- get_top_N_ranks(plot_species_RA, n_keep)"
   ]
  },
  {
   "cell_type": "markdown",
   "id": "ddba881b",
   "metadata": {},
   "source": [
    "### Visualise relative abundances"
   ]
  },
  {
   "cell_type": "markdown",
   "id": "0d485a5d",
   "metadata": {},
   "source": [
    "Define palette"
   ]
  },
  {
   "cell_type": "code",
   "execution_count": null,
   "id": "c65fcd64",
   "metadata": {},
   "outputs": [],
   "source": [
    "pal <- c(\"#d1495b\", \"#00798c\", \"#edae49\", \n",
    "         \"#66a182\", \"#2e4057\", \"#8d96a3\",\n",
    "         \"#8E44AD\", \"#2980b9\")"
   ]
  },
  {
   "cell_type": "markdown",
   "id": "cd380962",
   "metadata": {},
   "source": [
    "Order by total percentage of top taxa"
   ]
  },
  {
   "cell_type": "code",
   "execution_count": null,
   "id": "dd399e08",
   "metadata": {},
   "outputs": [],
   "source": [
    "get_sample_order <- function(plot_df, species_to_keep) {\n",
    "    ordered_df <- plot_df %>%\n",
    "        filter(rank %in% species_to_keep) %>%\n",
    "        group_by(sample) %>%\n",
    "        summarise(total = sum(abundance)) %>% \n",
    "        arrange(desc(total))\n",
    "\n",
    "    taxa_order <- ordered_df$sample\n",
    "    return(taxa_order)\n",
    "}\n",
    "\n",
    "sample_order <- get_sample_order(plot_species_RA, species_to_keep)"
   ]
  },
  {
   "cell_type": "markdown",
   "id": "4b6f3e30",
   "metadata": {},
   "source": [
    "Plot"
   ]
  },
  {
   "cell_type": "code",
   "execution_count": null,
   "id": "1fee0e26",
   "metadata": {},
   "outputs": [],
   "source": [
    "get_plot <- function(plot_df, ranks_to_keep, rank_name, sample_order) {\n",
    "    plt <- plot_df %>%\n",
    "        filter(rank %in% ranks_to_keep) %>%\n",
    "        mutate(sample = factor(sample, levels = sample_order)) %>%\n",
    "        ggplot(aes(x = sample, y = abundance, fill = rank)) +\n",
    "            geom_bar(stat = \"identity\", position = \"stack\") +\n",
    "            labs(x = \"Sample\", y = \"Relative abundance (%)\", fill = rank_name) +\n",
    "            theme(axis.text.x = element_blank(),\n",
    "                  axis.ticks.x = element_blank()) +\n",
    "            scale_fill_manual(values = pal[1:n_keep])\n",
    "    return(plt)\n",
    "}\n",
    "\n",
    "# get_plot(plot_family_RA, family_to_keep, \"family\")\n",
    "# get_plot(plot_genus_RA, genus_to_keep, \"genus\")\n",
    "get_plot(plot_species_RA, species_to_keep, \"species\", sample_order)"
   ]
  },
  {
   "cell_type": "markdown",
   "id": "09e7084d",
   "metadata": {},
   "source": [
    "Rather heterogenous"
   ]
  },
  {
   "cell_type": "markdown",
   "id": "9d461ee5",
   "metadata": {},
   "source": [
    "## Relative abundance by cohort"
   ]
  },
  {
   "cell_type": "markdown",
   "id": "34d30f8a",
   "metadata": {},
   "source": [
    "### Add metadata, groupby cohort and --> long format"
   ]
  },
  {
   "cell_type": "code",
   "execution_count": null,
   "id": "a02e0969",
   "metadata": {
    "scrolled": true
   },
   "outputs": [],
   "source": [
    "parse_cohort_data <- function(RA_df) {\n",
    "    plot2_df <- as_tibble(RA_df, rownames = \"sample\") %>%\n",
    "        separate(sample, into = c(NA, \"npm_research_id\"), sep = \"\\\\.\") %>%\n",
    "        left_join(meta, by = \"npm_research_id\")\n",
    "    \n",
    "    plot2_df <- plot2_df %>%\n",
    "    group_by(source_cohort) %>%\n",
    "    summarise(across(where(is.numeric), ~ mean(.x, na.rm = T))) %>%\n",
    "    pivot_longer(!source_cohort, names_to = \"rank\", values_to = \"abundance\")\n",
    "}\n",
    "\n",
    "# cohort_family_RA <- parse_cohort_data(family_RA)\n",
    "# cohort_genus_RA <- parse_cohort_data(genus_RA)\n",
    "cohort_species_RA <- parse_cohort_data(species_RA)"
   ]
  },
  {
   "cell_type": "markdown",
   "id": "bd246f9a",
   "metadata": {},
   "source": [
    "### Visualise"
   ]
  },
  {
   "cell_type": "code",
   "execution_count": null,
   "id": "227e2f37",
   "metadata": {},
   "outputs": [],
   "source": [
    "get_cohort_plt <- function(plot2_df, ranks_to_keep, rank_name) {\n",
    "    plt <- plot2_df %>%\n",
    "        filter(rank %in% ranks_to_keep) %>%\n",
    "    #     mutate(sample = factor(sample, levels = unique(sample)[order(sample)])) %>%\n",
    "        ggplot(aes(x = source_cohort, y = abundance, fill = rank)) +\n",
    "            geom_bar(stat = \"identity\", position = \"stack\") +\n",
    "            labs(x = \"Sample\", y = \"Mean Relative abundance (%)\", fill = rank_name) +\n",
    "            theme(axis.text.x = element_text(angle = 45, hjust = 1),\n",
    "                  axis.ticks.x = element_blank()) +\n",
    "            scale_fill_manual(values = pal[1:n_keep])\n",
    "    return(plt)\n",
    "}\n",
    "\n",
    "# get_cohort_plt(cohort_family_RA, family_to_keep, \"Family\")\n",
    "# get_cohort_plt(cohort_genus_RA, genus_to_keep, \"Genus\")\n",
    "get_cohort_plt(cohort_species_RA, species_to_keep, \"Species\")"
   ]
  }
 ],
 "metadata": {
  "kernelspec": {
   "display_name": "R",
   "language": "R",
   "name": "ir"
  },
  "language_info": {
   "codemirror_mode": "r",
   "file_extension": ".r",
   "mimetype": "text/x-r-source",
   "name": "R",
   "pygments_lexer": "r",
   "version": "4.1.0"
  }
 },
 "nbformat": 4,
 "nbformat_minor": 5
}
