{
 "cells": [
  {
   "cell_type": "code",
   "execution_count": 2,
   "id": "bc15bd3e",
   "metadata": {
    "scrolled": true
   },
   "outputs": [
    {
     "name": "stderr",
     "output_type": "stream",
     "text": [
      "Loading required package: tidyverse\n",
      "\n",
      "Warning message in system(\"timedatectl\", intern = TRUE):\n",
      "“running command 'timedatectl' had status 1”\n",
      "── \u001b[1mAttaching packages\u001b[22m ─────────────────────────────────────────────────────────────────────────────── tidyverse 1.3.1 ──\n",
      "\n",
      "\u001b[32m✔\u001b[39m \u001b[34mggplot2\u001b[39m 3.3.5     \u001b[32m✔\u001b[39m \u001b[34mpurrr  \u001b[39m 0.3.4\n",
      "\u001b[32m✔\u001b[39m \u001b[34mtibble \u001b[39m 3.1.5     \u001b[32m✔\u001b[39m \u001b[34mdplyr  \u001b[39m 1.0.7\n",
      "\u001b[32m✔\u001b[39m \u001b[34mtidyr  \u001b[39m 1.1.3     \u001b[32m✔\u001b[39m \u001b[34mstringr\u001b[39m 1.4.0\n",
      "\u001b[32m✔\u001b[39m \u001b[34mreadr  \u001b[39m 2.0.1     \u001b[32m✔\u001b[39m \u001b[34mforcats\u001b[39m 0.5.1\n",
      "\n",
      "── \u001b[1mConflicts\u001b[22m ────────────────────────────────────────────────────────────────────────────────── tidyverse_conflicts() ──\n",
      "\u001b[31m✖\u001b[39m \u001b[34mdplyr\u001b[39m::\u001b[32mfilter()\u001b[39m masks \u001b[34mstats\u001b[39m::filter()\n",
      "\u001b[31m✖\u001b[39m \u001b[34mdplyr\u001b[39m::\u001b[32mlag()\u001b[39m    masks \u001b[34mstats\u001b[39m::lag()\n",
      "\n",
      "Loading required package: data.table\n",
      "\n",
      "\n",
      "Attaching package: ‘data.table’\n",
      "\n",
      "\n",
      "The following objects are masked from ‘package:dplyr’:\n",
      "\n",
      "    between, first, last\n",
      "\n",
      "\n",
      "The following object is masked from ‘package:purrr’:\n",
      "\n",
      "    transpose\n",
      "\n",
      "\n",
      "Loading required package: egg\n",
      "\n",
      "Loading required package: gridExtra\n",
      "\n",
      "\n",
      "Attaching package: ‘gridExtra’\n",
      "\n",
      "\n",
      "The following object is masked from ‘package:dplyr’:\n",
      "\n",
      "    combine\n",
      "\n",
      "\n",
      "Loading required package: foreach\n",
      "\n",
      "\n",
      "Attaching package: ‘foreach’\n",
      "\n",
      "\n",
      "The following objects are masked from ‘package:purrr’:\n",
      "\n",
      "    accumulate, when\n",
      "\n",
      "\n",
      "Loading required package: doParallel\n",
      "\n",
      "Loading required package: iterators\n",
      "\n",
      "Loading required package: parallel\n",
      "\n"
     ]
    }
   ],
   "source": [
    "setwd(\"/mnt/c/Users/Cedric/Desktop/git_repos/blood_microbiome\")\n",
    "require(tidyverse)\n",
    "require(ggplot2)\n",
    "require(data.table)\n",
    "require(egg)\n",
    "require(foreach)\n",
    "require(doParallel)\n",
    "registerDoParallel(cores=8)"
   ]
  },
  {
   "cell_type": "markdown",
   "id": "8dc148ee",
   "metadata": {},
   "source": [
    "## Pre-process data"
   ]
  },
  {
   "cell_type": "code",
   "execution_count": 3,
   "id": "9d77d78f",
   "metadata": {
    "scrolled": false
   },
   "outputs": [],
   "source": [
    "load_data <- function(file_path) {\n",
    "    df <- fread(file_path) %>%\n",
    "        separate(sample, into = c(NA, \"npm_research_id\"), sep = \"\\\\.\")\n",
    "    return(df)\n",
    "}\n",
    "\n",
    "to_retain <- fread(\"data/samples_above_95_reads.txt\")$npm_research_id\n",
    "\n",
    "species_df <- load_data(str_glue(\"data/temp_files_9999/07_abundance_matrix/abundance_matrix.subset_9999.S.tsv\"))\n",
    "\n",
    "# rank <- \"G\"\n",
    "# genus_df <- load_data(str_glue(\"data/temp_files_{n_subset}/07_abundance_matrix/abundance_matrix.subset_{n_subset}.{rank}.tsv\")) %>%\n",
    "#     filter(npm_research_id %in% to_retain)\n",
    "\n",
    "meta <- fread(\"data/SG10K_Health_metadata.n10714.16March2021.parsed.csv\") %>%\n",
    "    as_tibble()"
   ]
  },
  {
   "cell_type": "code",
   "execution_count": 4,
   "id": "5fab1739",
   "metadata": {},
   "outputs": [],
   "source": [
    "get_meta_cols <- function(meta) {\n",
    "    meta_cols <- colnames(meta)[grep(\"kit|flow_cell|instrument_id|site_supplying\", colnames(meta))]\n",
    "    to_exclude <- c(\"library_prep_kit\", \"hiseq_xtm_flow_cell_v2_5_id\")\n",
    "    meta_cols <- meta_cols[!(meta_cols %in% to_exclude)]\n",
    "    return(meta_cols)\n",
    "}\n",
    "\n",
    "meta_cols <- get_meta_cols(meta)\n",
    "# meta_cols <- c(\"extraction_kit\", \"site_supplying_sample\", \"instrument_id\")\n"
   ]
  },
  {
   "cell_type": "markdown",
   "id": "7061997b",
   "metadata": {},
   "source": [
    "### Parameters for simulations"
   ]
  },
  {
   "cell_type": "code",
   "execution_count": 5,
   "id": "9ab20230",
   "metadata": {},
   "outputs": [
    {
     "data": {
      "text/html": [
       "0.006573206"
      ],
      "text/latex": [
       "0.006573206"
      ],
      "text/markdown": [
       "0.006573206"
      ],
      "text/plain": [
       "[1] 0.006573206"
      ]
     },
     "metadata": {},
     "output_type": "display_data"
    },
    {
     "data": {
      "text/html": [
       "373365373"
      ],
      "text/latex": [
       "373365373"
      ],
      "text/markdown": [
       "373365373"
      ],
      "text/plain": [
       "[1] 373365373"
      ]
     },
     "metadata": {},
     "output_type": "display_data"
    },
    {
     "data": {
      "text/html": [
       "318"
      ],
      "text/latex": [
       "318"
      ],
      "text/markdown": [
       "318"
      ],
      "text/plain": [
       "[1] 318"
      ]
     },
     "metadata": {},
     "output_type": "display_data"
    }
   ],
   "source": [
    "median(meta$error_rate)\n",
    "med_library_depth <- median(meta$raw_total_sequences)\n",
    "med_microbial_depth <- median(rowSums(species_df %>% select(-npm_research_id, -unclassified, -\"Homo sapiens\")))\n",
    "med_library_depth\n",
    "median(meta$insert_size_average)\n"
   ]
  },
  {
   "cell_type": "code",
   "execution_count": 6,
   "id": "6d3c40ee",
   "metadata": {
    "scrolled": true
   },
   "outputs": [
    {
     "name": "stderr",
     "output_type": "stream",
     "text": [
      "Joining, by = \"npm_research_id\"\n",
      "\n"
     ]
    },
    {
     "data": {
      "text/html": [
       "<table class=\"dataframe\">\n",
       "<caption>A tibble: 9706 × 73</caption>\n",
       "<thead>\n",
       "\t<tr><th scope=col>npm_research_id</th><th scope=col>microbe_frac</th><th scope=col>rowsums</th><th scope=col>multiplex_pool_id</th><th scope=col>supplier_id</th><th scope=col>gis_internal_sample_id</th><th scope=col>site_supplying_sample</th><th scope=col>year_of_birth</th><th scope=col>supplied_gender</th><th scope=col>self_reported_ethnicity</th><th scope=col>⋯</th><th scope=col>supplied_and_computed_gender_match</th><th scope=col>sop_agreement_for_coverage__14/_28_for_15x/30x</th><th scope=col>sample_life_cycle</th><th scope=col>current</th><th scope=col>source_cohort</th><th scope=col>original_supplier_id</th><th scope=col>duplicate_info</th><th scope=col>duplicate</th><th scope=col>duplicate_pair</th><th scope=col>removal_requested_by_supplier</th></tr>\n",
       "\t<tr><th scope=col>&lt;chr&gt;</th><th scope=col>&lt;dbl&gt;</th><th scope=col>&lt;dbl&gt;</th><th scope=col>&lt;chr&gt;</th><th scope=col>&lt;chr&gt;</th><th scope=col>&lt;chr&gt;</th><th scope=col>&lt;chr&gt;</th><th scope=col>&lt;int&gt;</th><th scope=col>&lt;chr&gt;</th><th scope=col>&lt;chr&gt;</th><th scope=col>⋯</th><th scope=col>&lt;chr&gt;</th><th scope=col>&lt;chr&gt;</th><th scope=col>&lt;chr&gt;</th><th scope=col>&lt;chr&gt;</th><th scope=col>&lt;chr&gt;</th><th scope=col>&lt;chr&gt;</th><th scope=col>&lt;chr&gt;</th><th scope=col>&lt;chr&gt;</th><th scope=col>&lt;chr&gt;</th><th scope=col>&lt;chr&gt;</th></tr>\n",
       "</thead>\n",
       "<tbody>\n",
       "\t<tr><td>WHB669  </td><td>1.965706e-06</td><td>   377</td><td>MUX5172 </td><td>CG-CTR-0454</td><td>TTSH_CG_CTR_0454_1       </td><td>TTSH  </td><td>1987</td><td>F</td><td>Indian </td><td>⋯</td><td>Y</td><td>Y</td><td>TTSH VCF      </td><td>Y</td><td>TTSH_mini </td><td>CG-CTR-0454      </td><td>Unknown</td><td>PASS</td><td>Unknown</td><td>Unknown</td></tr>\n",
       "\t<tr><td>WHB8678 </td><td>6.566073e-05</td><td> 12050</td><td>MUX10495</td><td>17003-2474 </td><td>MEC_17003_2474_1         </td><td>MEC   </td><td>1980</td><td>F</td><td>Indian </td><td>⋯</td><td>Y</td><td>Y</td><td>MEC VCF       </td><td>Y</td><td>MEC       </td><td>17003-2474       </td><td>Unknown</td><td>PASS</td><td>Unknown</td><td>Unknown</td></tr>\n",
       "\t<tr><td>WHH7080 </td><td>4.359685e-05</td><td>  6725</td><td>MUX8946 </td><td>01999      </td><td>NTU_01999_1              </td><td>HELIOS</td><td>1957</td><td>M</td><td>Chinese</td><td>⋯</td><td>Y</td><td>N</td><td>HELIOS VCF    </td><td>Y</td><td>HELIOS    </td><td>01999            </td><td>Unknown</td><td>PASS</td><td>Unknown</td><td>Unknown</td></tr>\n",
       "\t<tr><td>WHB4818 </td><td>5.442242e-07</td><td>   183</td><td>MUX9298 </td><td>020-50145  </td><td>GUSTO_Kids_020_50145_1   </td><td>GUSTO </td><td>2010</td><td>F</td><td>Chinese</td><td>⋯</td><td>Y</td><td>Y</td><td>GUSTO_Kids VCF</td><td>Y</td><td>GUSTO_Kids</td><td>020-50145        </td><td>Unknown</td><td>PASS</td><td>Unknown</td><td>Unknown</td></tr>\n",
       "\t<tr><td>WHB9470 </td><td>8.387687e-05</td><td> 15698</td><td>MUX9565 </td><td>02753      </td><td>HELIOS_02753_1           </td><td>HELIOS</td><td>1961</td><td>F</td><td>Chinese</td><td>⋯</td><td>Y</td><td>Y</td><td>HELIOS VCF    </td><td>Y</td><td>HELIOS    </td><td>02753            </td><td>Unknown</td><td>PASS</td><td>Unknown</td><td>Unknown</td></tr>\n",
       "\t<tr><td>WHB4637 </td><td>7.178605e-06</td><td>  2981</td><td>MUX9235 </td><td>010-20811  </td><td>GUSTO_Kids_010_20811_1   </td><td>GUSTO </td><td>2010</td><td>M</td><td>Indian </td><td>⋯</td><td>Y</td><td>Y</td><td>GUSTO_Kids VCF</td><td>Y</td><td>GUSTO_Kids</td><td>010-20811        </td><td>Unknown</td><td>PASS</td><td>Unknown</td><td>Unknown</td></tr>\n",
       "\t<tr><td>WHH891  </td><td>4.837169e-07</td><td>    77</td><td>MUX3434 </td><td>IS33788    </td><td>SERI_IS33788_1           </td><td>SERI  </td><td>1964</td><td>F</td><td>Indian </td><td>⋯</td><td>Y</td><td>N</td><td>SEED VCF      </td><td>Y</td><td>SEED_mini </td><td>IS33788          </td><td>Unknown</td><td>PASS</td><td>Unknown</td><td>Unknown</td></tr>\n",
       "\t<tr><td>WHB3974 </td><td>1.762617e-05</td><td>  6233</td><td>MUX9016 </td><td>020-66017  </td><td>GUSTO_Kids_020_66017_1   </td><td>GUSTO </td><td>2010</td><td>M</td><td>Chinese</td><td>⋯</td><td>Y</td><td>Y</td><td>GUSTO_Kids VCF</td><td>Y</td><td>GUSTO_Kids</td><td>020-66017        </td><td>Unknown</td><td>PASS</td><td>Unknown</td><td>Unknown</td></tr>\n",
       "\t<tr><td>WHB7065 </td><td>2.328698e-06</td><td>   416</td><td>MUX10137</td><td>17003-0861 </td><td>MEC_17003_0861_1         </td><td>MEC   </td><td>1955</td><td>M</td><td>Chinese</td><td>⋯</td><td>Y</td><td>Y</td><td>MEC VCF       </td><td>Y</td><td>MEC       </td><td>17003-0861       </td><td>Unknown</td><td>PASS</td><td>Unknown</td><td>Unknown</td></tr>\n",
       "\t<tr><td>WHB8830 </td><td>5.364870e-05</td><td> 10001</td><td>MUX9710 </td><td>01717      </td><td>HELIOS_01717_2           </td><td>HELIOS</td><td>1970</td><td>M</td><td>Chinese</td><td>⋯</td><td>Y</td><td>Y</td><td>HELIOS VCF    </td><td>Y</td><td>HELIOS    </td><td>01717            </td><td>Unknown</td><td>PASS</td><td>Unknown</td><td>Unknown</td></tr>\n",
       "\t<tr><td>WHH1586 </td><td>5.694904e-07</td><td>    99</td><td>MUX4068 </td><td>CS53512    </td><td>SERI_CS53512_1           </td><td>SERI  </td><td>1956</td><td>M</td><td>Chinese</td><td>⋯</td><td>Y</td><td>N</td><td>SEED VCF      </td><td>Y</td><td>SEED_mini </td><td>CS53512          </td><td>Unknown</td><td>PASS</td><td>Unknown</td><td>Unknown</td></tr>\n",
       "\t<tr><td>WHB7956 </td><td>2.583108e-04</td><td> 49274</td><td>MUX10566</td><td>17003-1752 </td><td>MEC_17003_1752_1         </td><td>MEC   </td><td>1940</td><td>M</td><td>Chinese</td><td>⋯</td><td>Y</td><td>Y</td><td>MEC VCF       </td><td>Y</td><td>MEC       </td><td>17003-1752       </td><td>Unknown</td><td>PASS</td><td>Unknown</td><td>Unknown</td></tr>\n",
       "\t<tr><td>WHB6790 </td><td>5.249720e-06</td><td>  1103</td><td>MUX10073</td><td>17003-0586 </td><td>MEC_17003_0586_1         </td><td>MEC   </td><td>1958</td><td>M</td><td>Chinese</td><td>⋯</td><td>Y</td><td>Y</td><td>MEC VCF       </td><td>Y</td><td>MEC       </td><td>17003-0586       </td><td>Unknown</td><td>PASS</td><td>Unknown</td><td>Unknown</td></tr>\n",
       "\t<tr><td>WHH1857 </td><td>5.987857e-07</td><td>   110</td><td>MUX4127 </td><td>MS16704    </td><td>SERI_MS16704_1           </td><td>SERI  </td><td>1949</td><td>M</td><td>Malay  </td><td>⋯</td><td>Y</td><td>Y</td><td>SEED VCF      </td><td>Y</td><td>SEED_mini </td><td>MS16704          </td><td>Unknown</td><td>PASS</td><td>Unknown</td><td>Unknown</td></tr>\n",
       "\t<tr><td>WHH6873 </td><td>1.928009e-04</td><td> 37313</td><td>MUX8837 </td><td>01789      </td><td>NTU_01789_1              </td><td>HELIOS</td><td>1961</td><td>F</td><td>Chinese</td><td>⋯</td><td>Y</td><td>Y</td><td>HELIOS VCF    </td><td>Y</td><td>HELIOS    </td><td>01789            </td><td>Unknown</td><td>PASS</td><td>Unknown</td><td>Unknown</td></tr>\n",
       "\t<tr><td>WHB7476 </td><td>1.776501e-04</td><td> 35657</td><td>MUX10267</td><td>17003-1272 </td><td>MEC_17003_1272_1         </td><td>MEC   </td><td>1979</td><td>F</td><td>Indian </td><td>⋯</td><td>Y</td><td>Y</td><td>MEC VCF       </td><td>Y</td><td>MEC       </td><td>17003-1272       </td><td>Unknown</td><td>PASS</td><td>Unknown</td><td>Unknown</td></tr>\n",
       "\t<tr><td>WHH1107 </td><td>4.066843e-07</td><td>    76</td><td>MUX3936 </td><td>IS31479    </td><td>SERI_IS31479_1           </td><td>SERI  </td><td>1952</td><td>M</td><td>Indian </td><td>⋯</td><td>Y</td><td>Y</td><td>SEED VCF      </td><td>Y</td><td>SEED_mini </td><td>IS31479          </td><td>Unknown</td><td>PASS</td><td>Unknown</td><td>Unknown</td></tr>\n",
       "\t<tr><td>WHB11053</td><td>8.069124e-05</td><td> 15916</td><td>MUX10688</td><td>17003-2901 </td><td>MEC_17003_2901_1         </td><td>MEC   </td><td>1955</td><td>F</td><td>Chinese</td><td>⋯</td><td>Y</td><td>Y</td><td>MEC VCF       </td><td>Y</td><td>MEC       </td><td>17003-2901       </td><td>Unknown</td><td>PASS</td><td>Unknown</td><td>Unknown</td></tr>\n",
       "\t<tr><td>WHH1078 </td><td>7.428292e-07</td><td>   124</td><td>MUX3936 </td><td>IS40310    </td><td>SERI_IS40310_1           </td><td>SERI  </td><td>1964</td><td>F</td><td>Indian </td><td>⋯</td><td>Y</td><td>N</td><td>SEED VCF      </td><td>Y</td><td>SEED_mini </td><td>IS40310          </td><td>Unknown</td><td>PASS</td><td>Unknown</td><td>Unknown</td></tr>\n",
       "\t<tr><td>WHB9042 </td><td>5.582442e-05</td><td>  9585</td><td>MUX9576 </td><td>02318      </td><td>NTU_02318_1              </td><td>HELIOS</td><td>1956</td><td>F</td><td>Chinese</td><td>⋯</td><td>Y</td><td>Y</td><td>HELIOS VCF    </td><td>Y</td><td>HELIOS    </td><td>02318            </td><td>Unknown</td><td>PASS</td><td>Unknown</td><td>Unknown</td></tr>\n",
       "\t<tr><td>WHB5386 </td><td>4.055486e-04</td><td>154360</td><td>MUX8432 </td><td>0518-0088  </td><td>PRISM_0518_0088_NHC_SLH_1</td><td>PRISM </td><td>1970</td><td>M</td><td>Chinese</td><td>⋯</td><td>Y</td><td>Y</td><td>PRISM VCF     </td><td>Y</td><td>PRISM     </td><td>0518-0088/NHC/SLH</td><td>Unknown</td><td>PASS</td><td>Unknown</td><td>Unknown</td></tr>\n",
       "\t<tr><td>WHH4937 </td><td>3.658921e-07</td><td>    61</td><td>MUX5305 </td><td>CG-CTR-1214</td><td>TTSH_CG_CTR_1214_1       </td><td>TTSH  </td><td>1969</td><td>F</td><td>Chinese</td><td>⋯</td><td>Y</td><td>Y</td><td>TTSH VCF      </td><td>Y</td><td>TTSH_TP   </td><td>CG-CTR-1214      </td><td>Unknown</td><td>PASS</td><td>Unknown</td><td>Unknown</td></tr>\n",
       "\t<tr><td>WHH766  </td><td>7.065475e-07</td><td>   127</td><td>MUX3381 </td><td>IS38245    </td><td>SERI_IS38245_1           </td><td>SERI  </td><td>1960</td><td>F</td><td>Indian </td><td>⋯</td><td>Y</td><td>Y</td><td>SEED VCF      </td><td>Y</td><td>SEED_mini </td><td>IS38245          </td><td>Unknown</td><td>PASS</td><td>Unknown</td><td>Unknown</td></tr>\n",
       "\t<tr><td>WHB7157 </td><td>6.469585e-06</td><td>  1031</td><td>MUX10177</td><td>17003-0953 </td><td>MEC_17003_0953_1         </td><td>MEC   </td><td>1967</td><td>M</td><td>Indian </td><td>⋯</td><td>Y</td><td>N</td><td>MEC VCF       </td><td>Y</td><td>MEC       </td><td>17003-0953       </td><td>Unknown</td><td>PASS</td><td>Unknown</td><td>Unknown</td></tr>\n",
       "\t<tr><td>WHH1653 </td><td>2.094779e-05</td><td>  3482</td><td>MUX4095 </td><td>CS61436    </td><td>SEED_CS61436_2           </td><td>SERI  </td><td>1961</td><td>F</td><td>Chinese</td><td>⋯</td><td>Y</td><td>N</td><td>SEED VCF      </td><td>Y</td><td>SEED_TP   </td><td>CS61436          </td><td>Unknown</td><td>PASS</td><td>Unknown</td><td>Unknown</td></tr>\n",
       "\t<tr><td>WHB9075 </td><td>2.183839e-05</td><td>  3497</td><td>MUX9499 </td><td>02354      </td><td>NTU_02354_1              </td><td>HELIOS</td><td>1988</td><td>F</td><td>Indian </td><td>⋯</td><td>Y</td><td>N</td><td>HELIOS VCF    </td><td>Y</td><td>HELIOS    </td><td>02354            </td><td>Unknown</td><td>PASS</td><td>Unknown</td><td>Unknown</td></tr>\n",
       "\t<tr><td>WHB6917 </td><td>2.188169e-06</td><td>   435</td><td>MUX10103</td><td>17003-0713 </td><td>MEC_17003_0713_1         </td><td>MEC   </td><td>1958</td><td>M</td><td>Indian </td><td>⋯</td><td>Y</td><td>Y</td><td>MEC VCF       </td><td>Y</td><td>MEC       </td><td>17003-0713       </td><td>Unknown</td><td>PASS</td><td>Unknown</td><td>Unknown</td></tr>\n",
       "\t<tr><td>WHB5810 </td><td>2.880954e-05</td><td>  4830</td><td>MUX8776 </td><td>01635      </td><td>NTU_01635_1              </td><td>HELIOS</td><td>1973</td><td>F</td><td>Chinese</td><td>⋯</td><td>Y</td><td>Y</td><td>HELIOS VCF    </td><td>Y</td><td>HELIOS    </td><td>01635            </td><td>Unknown</td><td>PASS</td><td>Unknown</td><td>Unknown</td></tr>\n",
       "\t<tr><td>WHB9248 </td><td>1.209230e-04</td><td> 20984</td><td>MUX9509 </td><td>02529      </td><td>NTU_02529_1              </td><td>HELIOS</td><td>1953</td><td>F</td><td>Chinese</td><td>⋯</td><td>Y</td><td>Y</td><td>HELIOS VCF    </td><td>Y</td><td>HELIOS    </td><td>02529            </td><td>Unknown</td><td>PASS</td><td>Unknown</td><td>Unknown</td></tr>\n",
       "\t<tr><td>WHB8945 </td><td>3.708370e-05</td><td>  6634</td><td>MUX9448 </td><td>02206      </td><td>NTU_02206_1              </td><td>HELIOS</td><td>1981</td><td>M</td><td>Chinese</td><td>⋯</td><td>Y</td><td>Y</td><td>HELIOS VCF    </td><td>Y</td><td>HELIOS    </td><td>02206            </td><td>Unknown</td><td>PASS</td><td>Unknown</td><td>Unknown</td></tr>\n",
       "\t<tr><td>⋮</td><td>⋮</td><td>⋮</td><td>⋮</td><td>⋮</td><td>⋮</td><td>⋮</td><td>⋮</td><td>⋮</td><td>⋮</td><td>⋱</td><td>⋮</td><td>⋮</td><td>⋮</td><td>⋮</td><td>⋮</td><td>⋮</td><td>⋮</td><td>⋮</td><td>⋮</td><td>⋮</td></tr>\n",
       "\t<tr><td>WHB3857  </td><td>5.721526e-06</td><td>  2044</td><td>MUX8960    </td><td>020-66123  </td><td>GUSTO_Kids_020_66123_1   </td><td>GUSTO </td><td>2010</td><td>M</td><td>Indian </td><td>⋯</td><td>Y</td><td>Y</td><td>GUSTO_Kids VCF</td><td>Y</td><td>GUSTO_Kids</td><td>020-66123        </td><td>Unknown</td><td>PASS</td><td>Unknown</td><td>Unknown</td></tr>\n",
       "\t<tr><td>WHB8402  </td><td>7.637778e-05</td><td> 14489</td><td>MUX10429   </td><td>17003-2198 </td><td>MEC_17003_2198_1         </td><td>MEC   </td><td>1957</td><td>M</td><td>Indian </td><td>⋯</td><td>Y</td><td>Y</td><td>MEC VCF       </td><td>Y</td><td>MEC       </td><td>17003-2198       </td><td>Unknown</td><td>PASS</td><td>Unknown</td><td>Unknown</td></tr>\n",
       "\t<tr><td>WHB7889  </td><td>4.111570e-07</td><td>    62</td><td>MUX10324   </td><td>17003-1685 </td><td>MEC_17003_1685_1         </td><td>MEC   </td><td>1944</td><td>M</td><td>Chinese</td><td>⋯</td><td>Y</td><td>N</td><td>MEC VCF       </td><td>Y</td><td>MEC       </td><td>17003-1685       </td><td>Unknown</td><td>PASS</td><td>Unknown</td><td>Unknown</td></tr>\n",
       "\t<tr><td>WHB10311 </td><td>1.447330e-04</td><td> 27712</td><td>MUX9868    </td><td>03189      </td><td>HELIOS_03189_1           </td><td>HELIOS</td><td>1957</td><td>M</td><td>Malay  </td><td>⋯</td><td>Y</td><td>Y</td><td>HELIOS VCF    </td><td>Y</td><td>HELIOS    </td><td>03189            </td><td>Unknown</td><td>PASS</td><td>Unknown</td><td>Unknown</td></tr>\n",
       "\t<tr><td>WHH922   </td><td>7.942676e-07</td><td>   122</td><td>MUX3529    </td><td>IS40785    </td><td>SERI_IS40785_1           </td><td>SERI  </td><td>1963</td><td>F</td><td>Indian </td><td>⋯</td><td>Y</td><td>N</td><td>SEED VCF      </td><td>Y</td><td>SEED_mini </td><td>IS40785          </td><td>Unknown</td><td>PASS</td><td>Unknown</td><td>Unknown</td></tr>\n",
       "\t<tr><td>WHB4108  </td><td>5.384518e-06</td><td>  1782</td><td>MUX9056    </td><td>010-20494  </td><td>GUSTO_Kids_010_20494_1   </td><td>GUSTO </td><td>2011</td><td>F</td><td>Malay  </td><td>⋯</td><td>Y</td><td>N</td><td>GUSTO_Kids VCF</td><td>Y</td><td>GUSTO_Kids</td><td>010-20494        </td><td>Unknown</td><td>PASS</td><td>Unknown</td><td>Unknown</td></tr>\n",
       "\t<tr><td>WHB3591  </td><td>5.605380e-04</td><td>185721</td><td>MUX8186    </td><td>0916-0044  </td><td>PRISM_0916_0044_NHC_TGK_1</td><td>PRISM </td><td>1957</td><td>F</td><td>Chinese</td><td>⋯</td><td>Y</td><td>Y</td><td>PRISM VCF     </td><td>Y</td><td>PRISM     </td><td>0916-0044/NHC/TGK</td><td>Unknown</td><td>PASS</td><td>Unknown</td><td>Unknown</td></tr>\n",
       "\t<tr><td>WHB5362  </td><td>1.710598e-05</td><td>  5828</td><td>MUX8390    </td><td>CS50650    </td><td>PRISM_CS50650_1          </td><td>PRISM </td><td>1954</td><td>M</td><td>Chinese</td><td>⋯</td><td>Y</td><td>Y</td><td>PRISM VCF     </td><td>Y</td><td>PRISM     </td><td>CS50650          </td><td>Unknown</td><td>PASS</td><td>Unknown</td><td>Unknown</td></tr>\n",
       "\t<tr><td>WHB6801  </td><td>3.401352e-06</td><td>   660</td><td>MUX10074   </td><td>17003-0597 </td><td>MEC_17003_0597_1         </td><td>MEC   </td><td>1956</td><td>F</td><td>Chinese</td><td>⋯</td><td>Y</td><td>Y</td><td>MEC VCF       </td><td>Y</td><td>MEC       </td><td>17003-0597       </td><td>Unknown</td><td>PASS</td><td>Unknown</td><td>Unknown</td></tr>\n",
       "\t<tr><td>WHB1065  </td><td>3.213181e-06</td><td>   471</td><td>MUX5848    </td><td>CG-CTR-2262</td><td>TTSH_CG_CTR_2262_1       </td><td>TTSH  </td><td>1972</td><td>F</td><td>Chinese</td><td>⋯</td><td>Y</td><td>N</td><td>TTSH VCF      </td><td>Y</td><td>TTSH_TP   </td><td>CG-CTR-2262      </td><td>Unknown</td><td>PASS</td><td>Unknown</td><td>Unknown</td></tr>\n",
       "\t<tr><td>WHH2152  </td><td>2.657294e-07</td><td>    42</td><td>MUX4150    </td><td>MS18588    </td><td>SERI_MS18588_1           </td><td>SERI  </td><td>1955</td><td>F</td><td>Malay  </td><td>⋯</td><td>Y</td><td>N</td><td>SEED VCF      </td><td>Y</td><td>SEED_mini </td><td>MS18588          </td><td>Unknown</td><td>PASS</td><td>Unknown</td><td>Unknown</td></tr>\n",
       "\t<tr><td>WHB7938  </td><td>3.430111e-05</td><td>  7752</td><td>MUX10328   </td><td>17003-1734 </td><td>MEC_17003_1734_1         </td><td>MEC   </td><td>1951</td><td>M</td><td>Malay  </td><td>⋯</td><td>Y</td><td>Y</td><td>MEC VCF       </td><td>Y</td><td>MEC       </td><td>17003-1734       </td><td>Unknown</td><td>PASS</td><td>Unknown</td><td>Unknown</td></tr>\n",
       "\t<tr><td>WHB9984  </td><td>1.551576e-04</td><td> 24299</td><td>MUX9690    </td><td>00333      </td><td>HELIOS_00333_1           </td><td>HELIOS</td><td>1972</td><td>F</td><td>Chinese</td><td>⋯</td><td>Y</td><td>N</td><td>HELIOS VCF    </td><td>Y</td><td>HELIOS    </td><td>00333            </td><td>Unknown</td><td>PASS</td><td>Unknown</td><td>Unknown</td></tr>\n",
       "\t<tr><td>WHB10068 </td><td>4.352802e-05</td><td>  6355</td><td>MUX9707    </td><td>00481      </td><td>HELIOS_00481_1           </td><td>HELIOS</td><td>1955</td><td>M</td><td>Chinese</td><td>⋯</td><td>Y</td><td>N</td><td>HELIOS VCF    </td><td>Y</td><td>HELIOS    </td><td>00481            </td><td>Unknown</td><td>PASS</td><td>Unknown</td><td>Unknown</td></tr>\n",
       "\t<tr><td>WHH1517  </td><td>1.120451e-05</td><td>  2141</td><td>MUX4050    </td><td>CS55643    </td><td>SERI_CS55643_1           </td><td>SERI  </td><td>1953</td><td>F</td><td>Chinese</td><td>⋯</td><td>Y</td><td>Y</td><td>SEED VCF      </td><td>Y</td><td>SEED_mini </td><td>CS55643          </td><td>Unknown</td><td>PASS</td><td>Unknown</td><td>Unknown</td></tr>\n",
       "\t<tr><td>WHB4873  </td><td>1.156723e-03</td><td>502114</td><td>MUX8258    </td><td>0617-0064  </td><td>PRISM_0617_0064_NHC_TWK_1</td><td>PRISM </td><td>1990</td><td>M</td><td>Chinese</td><td>⋯</td><td>Y</td><td>Y</td><td>PRISM VCF     </td><td>Y</td><td>PRISM     </td><td>0617-0064/NHC/TWK</td><td>Unknown</td><td>PASS</td><td>Unknown</td><td>Unknown</td></tr>\n",
       "\t<tr><td>WHB4699  </td><td>9.651248e-07</td><td>   372</td><td>MUX9247    </td><td>029-04273  </td><td>GUSTO_Kids_029_04273_1   </td><td>GUSTO </td><td>2010</td><td>F</td><td>Chinese</td><td>⋯</td><td>Y</td><td>Y</td><td>GUSTO_Kids VCF</td><td>Y</td><td>GUSTO_Kids</td><td>029-04273        </td><td>Unknown</td><td>PASS</td><td>Unknown</td><td>Unknown</td></tr>\n",
       "\t<tr><td>WHH689   </td><td>3.042068e-07</td><td>    50</td><td>MUX3359    </td><td>IS41051    </td><td>SERI_IS41051_1           </td><td>SERI  </td><td>1961</td><td>F</td><td>Indian </td><td>⋯</td><td>Y</td><td>N</td><td>SEED VCF      </td><td>Y</td><td>SEED_mini </td><td>IS41051          </td><td>Unknown</td><td>PASS</td><td>Unknown</td><td>Unknown</td></tr>\n",
       "\t<tr><td>WHB9883  </td><td>6.131568e-05</td><td> 10385</td><td>MUX9671    </td><td>01421      </td><td>HELIOS_01421_1           </td><td>HELIOS</td><td>1966</td><td>F</td><td>Chinese</td><td>⋯</td><td>Y</td><td>Y</td><td>HELIOS VCF    </td><td>Y</td><td>HELIOS    </td><td>01421            </td><td>Unknown</td><td>PASS</td><td>Unknown</td><td>Unknown</td></tr>\n",
       "\t<tr><td>WHB713   </td><td>3.926052e-07</td><td>    71</td><td>MUX5185    </td><td>CG-CTR-0571</td><td>TTSH_CG_CTR_0571_1       </td><td>TTSH  </td><td>1975</td><td>M</td><td>Chinese</td><td>⋯</td><td>Y</td><td>Y</td><td>TTSH VCF      </td><td>Y</td><td>TTSH_TP   </td><td>CG-CTR-0571      </td><td>Unknown</td><td>PASS</td><td>Unknown</td><td>Unknown</td></tr>\n",
       "\t<tr><td>WHB1060  </td><td>3.452051e-06</td><td>   624</td><td>MUX5540    </td><td>CG-CTR-2255</td><td>TTSH_CG_CTR_2255_1       </td><td>TTSH  </td><td>1993</td><td>F</td><td>Indian </td><td>⋯</td><td>Y</td><td>Y</td><td>TTSH VCF      </td><td>Y</td><td>TTSH_TP   </td><td>CG-CTR-2255      </td><td>Unknown</td><td>PASS</td><td>Unknown</td><td>Unknown</td></tr>\n",
       "\t<tr><td>WHB8417  </td><td>8.436888e-06</td><td>  1506</td><td>MUX10432   </td><td>17003-2213 </td><td>MEC_17003_2213_1         </td><td>MEC   </td><td>1949</td><td>M</td><td>Indian </td><td>⋯</td><td>Y</td><td>Y</td><td>MEC VCF       </td><td>Y</td><td>MEC       </td><td>17003-2213       </td><td>Unknown</td><td>PASS</td><td>Unknown</td><td>Unknown</td></tr>\n",
       "\t<tr><td>WHB6339  </td><td>1.269043e-06</td><td>   230</td><td>MUX9998    </td><td>17003-0154 </td><td>MEC_17003_0154_1         </td><td>MEC   </td><td>1969</td><td>F</td><td>Indian </td><td>⋯</td><td>Y</td><td>Y</td><td>MEC VCF       </td><td>Y</td><td>MEC       </td><td>17003-0154       </td><td>Unknown</td><td>PASS</td><td>Unknown</td><td>Unknown</td></tr>\n",
       "\t<tr><td>WHB8356  </td><td>1.163444e-04</td><td> 24999</td><td>MUX10448   </td><td>17003-2152 </td><td>MEC_17003_2152_1         </td><td>MEC   </td><td>1957</td><td>F</td><td>Chinese</td><td>⋯</td><td>Y</td><td>Y</td><td>MEC VCF       </td><td>Y</td><td>MEC       </td><td>17003-2152       </td><td>Unknown</td><td>PASS</td><td>Unknown</td><td>Unknown</td></tr>\n",
       "\t<tr><td>WHB7090  </td><td>1.221559e-05</td><td>  2152</td><td>MUX10164   </td><td>17003-0886 </td><td>MEC_17003_0886_1         </td><td>MEC   </td><td>1953</td><td>M</td><td>Chinese</td><td>⋯</td><td>Y</td><td>Y</td><td>MEC VCF       </td><td>Y</td><td>MEC       </td><td>17003-0886       </td><td>Unknown</td><td>PASS</td><td>Unknown</td><td>Unknown</td></tr>\n",
       "\t<tr><td>0116-0039</td><td>1.402905e-03</td><td>574527</td><td>PRISM_topup</td><td>0116-0039  </td><td>PRISM_0116_0039_CYW_1    </td><td>PRISM </td><td>1969</td><td>M</td><td>Chinese</td><td>⋯</td><td>Y</td><td>Y</td><td>PRISM VCF     </td><td>Y</td><td>PRISM_TP  </td><td>0116-0039-CYW    </td><td>Unknown</td><td>PASS</td><td>Unknown</td><td>Unknown</td></tr>\n",
       "\t<tr><td>WHB5654  </td><td>1.187654e-05</td><td>  1965</td><td>MUX8718    </td><td>01425      </td><td>NTU_01425_1              </td><td>HELIOS</td><td>1986</td><td>F</td><td>Chinese</td><td>⋯</td><td>Y</td><td>N</td><td>HELIOS VCF    </td><td>Y</td><td>HELIOS    </td><td>01425            </td><td>Unknown</td><td>PASS</td><td>Unknown</td><td>Unknown</td></tr>\n",
       "\t<tr><td>WHB9085  </td><td>3.638580e-05</td><td>  6347</td><td>MUX9501    </td><td>02364      </td><td>NTU_02364_1              </td><td>HELIOS</td><td>1957</td><td>F</td><td>Chinese</td><td>⋯</td><td>Y</td><td>Y</td><td>HELIOS VCF    </td><td>Y</td><td>HELIOS    </td><td>02364            </td><td>Unknown</td><td>PASS</td><td>Unknown</td><td>Unknown</td></tr>\n",
       "\t<tr><td>WHH7014  </td><td>3.422007e-05</td><td>  5627</td><td>MUX8866    </td><td>01932      </td><td>NTU_01932_1              </td><td>HELIOS</td><td>1960</td><td>F</td><td>Chinese</td><td>⋯</td><td>Y</td><td>Y</td><td>HELIOS VCF    </td><td>Y</td><td>HELIOS    </td><td>01932            </td><td>Unknown</td><td>PASS</td><td>Unknown</td><td>Unknown</td></tr>\n",
       "\t<tr><td>WHB9254  </td><td>2.122465e-04</td><td> 33580</td><td>MUX9510    </td><td>02535      </td><td>NTU_02535_1              </td><td>HELIOS</td><td>1960</td><td>F</td><td>Chinese</td><td>⋯</td><td>Y</td><td>N</td><td>HELIOS VCF    </td><td>Y</td><td>HELIOS    </td><td>02535            </td><td>Unknown</td><td>PASS</td><td>Unknown</td><td>Unknown</td></tr>\n",
       "</tbody>\n",
       "</table>\n"
      ],
      "text/latex": [
       "A tibble: 9706 × 73\n",
       "\\begin{tabular}{lllllllllllllllllllll}\n",
       " npm\\_research\\_id & microbe\\_frac & rowsums & multiplex\\_pool\\_id & supplier\\_id & gis\\_internal\\_sample\\_id & site\\_supplying\\_sample & year\\_of\\_birth & supplied\\_gender & self\\_reported\\_ethnicity & ⋯ & supplied\\_and\\_computed\\_gender\\_match & sop\\_agreement\\_for\\_coverage\\_\\_14/\\_28\\_for\\_15x/30x & sample\\_life\\_cycle & current & source\\_cohort & original\\_supplier\\_id & duplicate\\_info & duplicate & duplicate\\_pair & removal\\_requested\\_by\\_supplier\\\\\n",
       " <chr> & <dbl> & <dbl> & <chr> & <chr> & <chr> & <chr> & <int> & <chr> & <chr> & ⋯ & <chr> & <chr> & <chr> & <chr> & <chr> & <chr> & <chr> & <chr> & <chr> & <chr>\\\\\n",
       "\\hline\n",
       "\t WHB669   & 1.965706e-06 &    377 & MUX5172  & CG-CTR-0454 & TTSH\\_CG\\_CTR\\_0454\\_1        & TTSH   & 1987 & F & Indian  & ⋯ & Y & Y & TTSH VCF       & Y & TTSH\\_mini  & CG-CTR-0454       & Unknown & PASS & Unknown & Unknown\\\\\n",
       "\t WHB8678  & 6.566073e-05 &  12050 & MUX10495 & 17003-2474  & MEC\\_17003\\_2474\\_1          & MEC    & 1980 & F & Indian  & ⋯ & Y & Y & MEC VCF        & Y & MEC        & 17003-2474        & Unknown & PASS & Unknown & Unknown\\\\\n",
       "\t WHH7080  & 4.359685e-05 &   6725 & MUX8946  & 01999       & NTU\\_01999\\_1               & HELIOS & 1957 & M & Chinese & ⋯ & Y & N & HELIOS VCF     & Y & HELIOS     & 01999             & Unknown & PASS & Unknown & Unknown\\\\\n",
       "\t WHB4818  & 5.442242e-07 &    183 & MUX9298  & 020-50145   & GUSTO\\_Kids\\_020\\_50145\\_1    & GUSTO  & 2010 & F & Chinese & ⋯ & Y & Y & GUSTO\\_Kids VCF & Y & GUSTO\\_Kids & 020-50145         & Unknown & PASS & Unknown & Unknown\\\\\n",
       "\t WHB9470  & 8.387687e-05 &  15698 & MUX9565  & 02753       & HELIOS\\_02753\\_1            & HELIOS & 1961 & F & Chinese & ⋯ & Y & Y & HELIOS VCF     & Y & HELIOS     & 02753             & Unknown & PASS & Unknown & Unknown\\\\\n",
       "\t WHB4637  & 7.178605e-06 &   2981 & MUX9235  & 010-20811   & GUSTO\\_Kids\\_010\\_20811\\_1    & GUSTO  & 2010 & M & Indian  & ⋯ & Y & Y & GUSTO\\_Kids VCF & Y & GUSTO\\_Kids & 010-20811         & Unknown & PASS & Unknown & Unknown\\\\\n",
       "\t WHH891   & 4.837169e-07 &     77 & MUX3434  & IS33788     & SERI\\_IS33788\\_1            & SERI   & 1964 & F & Indian  & ⋯ & Y & N & SEED VCF       & Y & SEED\\_mini  & IS33788           & Unknown & PASS & Unknown & Unknown\\\\\n",
       "\t WHB3974  & 1.762617e-05 &   6233 & MUX9016  & 020-66017   & GUSTO\\_Kids\\_020\\_66017\\_1    & GUSTO  & 2010 & M & Chinese & ⋯ & Y & Y & GUSTO\\_Kids VCF & Y & GUSTO\\_Kids & 020-66017         & Unknown & PASS & Unknown & Unknown\\\\\n",
       "\t WHB7065  & 2.328698e-06 &    416 & MUX10137 & 17003-0861  & MEC\\_17003\\_0861\\_1          & MEC    & 1955 & M & Chinese & ⋯ & Y & Y & MEC VCF        & Y & MEC        & 17003-0861        & Unknown & PASS & Unknown & Unknown\\\\\n",
       "\t WHB8830  & 5.364870e-05 &  10001 & MUX9710  & 01717       & HELIOS\\_01717\\_2            & HELIOS & 1970 & M & Chinese & ⋯ & Y & Y & HELIOS VCF     & Y & HELIOS     & 01717             & Unknown & PASS & Unknown & Unknown\\\\\n",
       "\t WHH1586  & 5.694904e-07 &     99 & MUX4068  & CS53512     & SERI\\_CS53512\\_1            & SERI   & 1956 & M & Chinese & ⋯ & Y & N & SEED VCF       & Y & SEED\\_mini  & CS53512           & Unknown & PASS & Unknown & Unknown\\\\\n",
       "\t WHB7956  & 2.583108e-04 &  49274 & MUX10566 & 17003-1752  & MEC\\_17003\\_1752\\_1          & MEC    & 1940 & M & Chinese & ⋯ & Y & Y & MEC VCF        & Y & MEC        & 17003-1752        & Unknown & PASS & Unknown & Unknown\\\\\n",
       "\t WHB6790  & 5.249720e-06 &   1103 & MUX10073 & 17003-0586  & MEC\\_17003\\_0586\\_1          & MEC    & 1958 & M & Chinese & ⋯ & Y & Y & MEC VCF        & Y & MEC        & 17003-0586        & Unknown & PASS & Unknown & Unknown\\\\\n",
       "\t WHH1857  & 5.987857e-07 &    110 & MUX4127  & MS16704     & SERI\\_MS16704\\_1            & SERI   & 1949 & M & Malay   & ⋯ & Y & Y & SEED VCF       & Y & SEED\\_mini  & MS16704           & Unknown & PASS & Unknown & Unknown\\\\\n",
       "\t WHH6873  & 1.928009e-04 &  37313 & MUX8837  & 01789       & NTU\\_01789\\_1               & HELIOS & 1961 & F & Chinese & ⋯ & Y & Y & HELIOS VCF     & Y & HELIOS     & 01789             & Unknown & PASS & Unknown & Unknown\\\\\n",
       "\t WHB7476  & 1.776501e-04 &  35657 & MUX10267 & 17003-1272  & MEC\\_17003\\_1272\\_1          & MEC    & 1979 & F & Indian  & ⋯ & Y & Y & MEC VCF        & Y & MEC        & 17003-1272        & Unknown & PASS & Unknown & Unknown\\\\\n",
       "\t WHH1107  & 4.066843e-07 &     76 & MUX3936  & IS31479     & SERI\\_IS31479\\_1            & SERI   & 1952 & M & Indian  & ⋯ & Y & Y & SEED VCF       & Y & SEED\\_mini  & IS31479           & Unknown & PASS & Unknown & Unknown\\\\\n",
       "\t WHB11053 & 8.069124e-05 &  15916 & MUX10688 & 17003-2901  & MEC\\_17003\\_2901\\_1          & MEC    & 1955 & F & Chinese & ⋯ & Y & Y & MEC VCF        & Y & MEC        & 17003-2901        & Unknown & PASS & Unknown & Unknown\\\\\n",
       "\t WHH1078  & 7.428292e-07 &    124 & MUX3936  & IS40310     & SERI\\_IS40310\\_1            & SERI   & 1964 & F & Indian  & ⋯ & Y & N & SEED VCF       & Y & SEED\\_mini  & IS40310           & Unknown & PASS & Unknown & Unknown\\\\\n",
       "\t WHB9042  & 5.582442e-05 &   9585 & MUX9576  & 02318       & NTU\\_02318\\_1               & HELIOS & 1956 & F & Chinese & ⋯ & Y & Y & HELIOS VCF     & Y & HELIOS     & 02318             & Unknown & PASS & Unknown & Unknown\\\\\n",
       "\t WHB5386  & 4.055486e-04 & 154360 & MUX8432  & 0518-0088   & PRISM\\_0518\\_0088\\_NHC\\_SLH\\_1 & PRISM  & 1970 & M & Chinese & ⋯ & Y & Y & PRISM VCF      & Y & PRISM      & 0518-0088/NHC/SLH & Unknown & PASS & Unknown & Unknown\\\\\n",
       "\t WHH4937  & 3.658921e-07 &     61 & MUX5305  & CG-CTR-1214 & TTSH\\_CG\\_CTR\\_1214\\_1        & TTSH   & 1969 & F & Chinese & ⋯ & Y & Y & TTSH VCF       & Y & TTSH\\_TP    & CG-CTR-1214       & Unknown & PASS & Unknown & Unknown\\\\\n",
       "\t WHH766   & 7.065475e-07 &    127 & MUX3381  & IS38245     & SERI\\_IS38245\\_1            & SERI   & 1960 & F & Indian  & ⋯ & Y & Y & SEED VCF       & Y & SEED\\_mini  & IS38245           & Unknown & PASS & Unknown & Unknown\\\\\n",
       "\t WHB7157  & 6.469585e-06 &   1031 & MUX10177 & 17003-0953  & MEC\\_17003\\_0953\\_1          & MEC    & 1967 & M & Indian  & ⋯ & Y & N & MEC VCF        & Y & MEC        & 17003-0953        & Unknown & PASS & Unknown & Unknown\\\\\n",
       "\t WHH1653  & 2.094779e-05 &   3482 & MUX4095  & CS61436     & SEED\\_CS61436\\_2            & SERI   & 1961 & F & Chinese & ⋯ & Y & N & SEED VCF       & Y & SEED\\_TP    & CS61436           & Unknown & PASS & Unknown & Unknown\\\\\n",
       "\t WHB9075  & 2.183839e-05 &   3497 & MUX9499  & 02354       & NTU\\_02354\\_1               & HELIOS & 1988 & F & Indian  & ⋯ & Y & N & HELIOS VCF     & Y & HELIOS     & 02354             & Unknown & PASS & Unknown & Unknown\\\\\n",
       "\t WHB6917  & 2.188169e-06 &    435 & MUX10103 & 17003-0713  & MEC\\_17003\\_0713\\_1          & MEC    & 1958 & M & Indian  & ⋯ & Y & Y & MEC VCF        & Y & MEC        & 17003-0713        & Unknown & PASS & Unknown & Unknown\\\\\n",
       "\t WHB5810  & 2.880954e-05 &   4830 & MUX8776  & 01635       & NTU\\_01635\\_1               & HELIOS & 1973 & F & Chinese & ⋯ & Y & Y & HELIOS VCF     & Y & HELIOS     & 01635             & Unknown & PASS & Unknown & Unknown\\\\\n",
       "\t WHB9248  & 1.209230e-04 &  20984 & MUX9509  & 02529       & NTU\\_02529\\_1               & HELIOS & 1953 & F & Chinese & ⋯ & Y & Y & HELIOS VCF     & Y & HELIOS     & 02529             & Unknown & PASS & Unknown & Unknown\\\\\n",
       "\t WHB8945  & 3.708370e-05 &   6634 & MUX9448  & 02206       & NTU\\_02206\\_1               & HELIOS & 1981 & M & Chinese & ⋯ & Y & Y & HELIOS VCF     & Y & HELIOS     & 02206             & Unknown & PASS & Unknown & Unknown\\\\\n",
       "\t ⋮ & ⋮ & ⋮ & ⋮ & ⋮ & ⋮ & ⋮ & ⋮ & ⋮ & ⋮ & ⋱ & ⋮ & ⋮ & ⋮ & ⋮ & ⋮ & ⋮ & ⋮ & ⋮ & ⋮ & ⋮\\\\\n",
       "\t WHB3857   & 5.721526e-06 &   2044 & MUX8960     & 020-66123   & GUSTO\\_Kids\\_020\\_66123\\_1    & GUSTO  & 2010 & M & Indian  & ⋯ & Y & Y & GUSTO\\_Kids VCF & Y & GUSTO\\_Kids & 020-66123         & Unknown & PASS & Unknown & Unknown\\\\\n",
       "\t WHB8402   & 7.637778e-05 &  14489 & MUX10429    & 17003-2198  & MEC\\_17003\\_2198\\_1          & MEC    & 1957 & M & Indian  & ⋯ & Y & Y & MEC VCF        & Y & MEC        & 17003-2198        & Unknown & PASS & Unknown & Unknown\\\\\n",
       "\t WHB7889   & 4.111570e-07 &     62 & MUX10324    & 17003-1685  & MEC\\_17003\\_1685\\_1          & MEC    & 1944 & M & Chinese & ⋯ & Y & N & MEC VCF        & Y & MEC        & 17003-1685        & Unknown & PASS & Unknown & Unknown\\\\\n",
       "\t WHB10311  & 1.447330e-04 &  27712 & MUX9868     & 03189       & HELIOS\\_03189\\_1            & HELIOS & 1957 & M & Malay   & ⋯ & Y & Y & HELIOS VCF     & Y & HELIOS     & 03189             & Unknown & PASS & Unknown & Unknown\\\\\n",
       "\t WHH922    & 7.942676e-07 &    122 & MUX3529     & IS40785     & SERI\\_IS40785\\_1            & SERI   & 1963 & F & Indian  & ⋯ & Y & N & SEED VCF       & Y & SEED\\_mini  & IS40785           & Unknown & PASS & Unknown & Unknown\\\\\n",
       "\t WHB4108   & 5.384518e-06 &   1782 & MUX9056     & 010-20494   & GUSTO\\_Kids\\_010\\_20494\\_1    & GUSTO  & 2011 & F & Malay   & ⋯ & Y & N & GUSTO\\_Kids VCF & Y & GUSTO\\_Kids & 010-20494         & Unknown & PASS & Unknown & Unknown\\\\\n",
       "\t WHB3591   & 5.605380e-04 & 185721 & MUX8186     & 0916-0044   & PRISM\\_0916\\_0044\\_NHC\\_TGK\\_1 & PRISM  & 1957 & F & Chinese & ⋯ & Y & Y & PRISM VCF      & Y & PRISM      & 0916-0044/NHC/TGK & Unknown & PASS & Unknown & Unknown\\\\\n",
       "\t WHB5362   & 1.710598e-05 &   5828 & MUX8390     & CS50650     & PRISM\\_CS50650\\_1           & PRISM  & 1954 & M & Chinese & ⋯ & Y & Y & PRISM VCF      & Y & PRISM      & CS50650           & Unknown & PASS & Unknown & Unknown\\\\\n",
       "\t WHB6801   & 3.401352e-06 &    660 & MUX10074    & 17003-0597  & MEC\\_17003\\_0597\\_1          & MEC    & 1956 & F & Chinese & ⋯ & Y & Y & MEC VCF        & Y & MEC        & 17003-0597        & Unknown & PASS & Unknown & Unknown\\\\\n",
       "\t WHB1065   & 3.213181e-06 &    471 & MUX5848     & CG-CTR-2262 & TTSH\\_CG\\_CTR\\_2262\\_1        & TTSH   & 1972 & F & Chinese & ⋯ & Y & N & TTSH VCF       & Y & TTSH\\_TP    & CG-CTR-2262       & Unknown & PASS & Unknown & Unknown\\\\\n",
       "\t WHH2152   & 2.657294e-07 &     42 & MUX4150     & MS18588     & SERI\\_MS18588\\_1            & SERI   & 1955 & F & Malay   & ⋯ & Y & N & SEED VCF       & Y & SEED\\_mini  & MS18588           & Unknown & PASS & Unknown & Unknown\\\\\n",
       "\t WHB7938   & 3.430111e-05 &   7752 & MUX10328    & 17003-1734  & MEC\\_17003\\_1734\\_1          & MEC    & 1951 & M & Malay   & ⋯ & Y & Y & MEC VCF        & Y & MEC        & 17003-1734        & Unknown & PASS & Unknown & Unknown\\\\\n",
       "\t WHB9984   & 1.551576e-04 &  24299 & MUX9690     & 00333       & HELIOS\\_00333\\_1            & HELIOS & 1972 & F & Chinese & ⋯ & Y & N & HELIOS VCF     & Y & HELIOS     & 00333             & Unknown & PASS & Unknown & Unknown\\\\\n",
       "\t WHB10068  & 4.352802e-05 &   6355 & MUX9707     & 00481       & HELIOS\\_00481\\_1            & HELIOS & 1955 & M & Chinese & ⋯ & Y & N & HELIOS VCF     & Y & HELIOS     & 00481             & Unknown & PASS & Unknown & Unknown\\\\\n",
       "\t WHH1517   & 1.120451e-05 &   2141 & MUX4050     & CS55643     & SERI\\_CS55643\\_1            & SERI   & 1953 & F & Chinese & ⋯ & Y & Y & SEED VCF       & Y & SEED\\_mini  & CS55643           & Unknown & PASS & Unknown & Unknown\\\\\n",
       "\t WHB4873   & 1.156723e-03 & 502114 & MUX8258     & 0617-0064   & PRISM\\_0617\\_0064\\_NHC\\_TWK\\_1 & PRISM  & 1990 & M & Chinese & ⋯ & Y & Y & PRISM VCF      & Y & PRISM      & 0617-0064/NHC/TWK & Unknown & PASS & Unknown & Unknown\\\\\n",
       "\t WHB4699   & 9.651248e-07 &    372 & MUX9247     & 029-04273   & GUSTO\\_Kids\\_029\\_04273\\_1    & GUSTO  & 2010 & F & Chinese & ⋯ & Y & Y & GUSTO\\_Kids VCF & Y & GUSTO\\_Kids & 029-04273         & Unknown & PASS & Unknown & Unknown\\\\\n",
       "\t WHH689    & 3.042068e-07 &     50 & MUX3359     & IS41051     & SERI\\_IS41051\\_1            & SERI   & 1961 & F & Indian  & ⋯ & Y & N & SEED VCF       & Y & SEED\\_mini  & IS41051           & Unknown & PASS & Unknown & Unknown\\\\\n",
       "\t WHB9883   & 6.131568e-05 &  10385 & MUX9671     & 01421       & HELIOS\\_01421\\_1            & HELIOS & 1966 & F & Chinese & ⋯ & Y & Y & HELIOS VCF     & Y & HELIOS     & 01421             & Unknown & PASS & Unknown & Unknown\\\\\n",
       "\t WHB713    & 3.926052e-07 &     71 & MUX5185     & CG-CTR-0571 & TTSH\\_CG\\_CTR\\_0571\\_1        & TTSH   & 1975 & M & Chinese & ⋯ & Y & Y & TTSH VCF       & Y & TTSH\\_TP    & CG-CTR-0571       & Unknown & PASS & Unknown & Unknown\\\\\n",
       "\t WHB1060   & 3.452051e-06 &    624 & MUX5540     & CG-CTR-2255 & TTSH\\_CG\\_CTR\\_2255\\_1        & TTSH   & 1993 & F & Indian  & ⋯ & Y & Y & TTSH VCF       & Y & TTSH\\_TP    & CG-CTR-2255       & Unknown & PASS & Unknown & Unknown\\\\\n",
       "\t WHB8417   & 8.436888e-06 &   1506 & MUX10432    & 17003-2213  & MEC\\_17003\\_2213\\_1          & MEC    & 1949 & M & Indian  & ⋯ & Y & Y & MEC VCF        & Y & MEC        & 17003-2213        & Unknown & PASS & Unknown & Unknown\\\\\n",
       "\t WHB6339   & 1.269043e-06 &    230 & MUX9998     & 17003-0154  & MEC\\_17003\\_0154\\_1          & MEC    & 1969 & F & Indian  & ⋯ & Y & Y & MEC VCF        & Y & MEC        & 17003-0154        & Unknown & PASS & Unknown & Unknown\\\\\n",
       "\t WHB8356   & 1.163444e-04 &  24999 & MUX10448    & 17003-2152  & MEC\\_17003\\_2152\\_1          & MEC    & 1957 & F & Chinese & ⋯ & Y & Y & MEC VCF        & Y & MEC        & 17003-2152        & Unknown & PASS & Unknown & Unknown\\\\\n",
       "\t WHB7090   & 1.221559e-05 &   2152 & MUX10164    & 17003-0886  & MEC\\_17003\\_0886\\_1          & MEC    & 1953 & M & Chinese & ⋯ & Y & Y & MEC VCF        & Y & MEC        & 17003-0886        & Unknown & PASS & Unknown & Unknown\\\\\n",
       "\t 0116-0039 & 1.402905e-03 & 574527 & PRISM\\_topup & 0116-0039   & PRISM\\_0116\\_0039\\_CYW\\_1     & PRISM  & 1969 & M & Chinese & ⋯ & Y & Y & PRISM VCF      & Y & PRISM\\_TP   & 0116-0039-CYW     & Unknown & PASS & Unknown & Unknown\\\\\n",
       "\t WHB5654   & 1.187654e-05 &   1965 & MUX8718     & 01425       & NTU\\_01425\\_1               & HELIOS & 1986 & F & Chinese & ⋯ & Y & N & HELIOS VCF     & Y & HELIOS     & 01425             & Unknown & PASS & Unknown & Unknown\\\\\n",
       "\t WHB9085   & 3.638580e-05 &   6347 & MUX9501     & 02364       & NTU\\_02364\\_1               & HELIOS & 1957 & F & Chinese & ⋯ & Y & Y & HELIOS VCF     & Y & HELIOS     & 02364             & Unknown & PASS & Unknown & Unknown\\\\\n",
       "\t WHH7014   & 3.422007e-05 &   5627 & MUX8866     & 01932       & NTU\\_01932\\_1               & HELIOS & 1960 & F & Chinese & ⋯ & Y & Y & HELIOS VCF     & Y & HELIOS     & 01932             & Unknown & PASS & Unknown & Unknown\\\\\n",
       "\t WHB9254   & 2.122465e-04 &  33580 & MUX9510     & 02535       & NTU\\_02535\\_1               & HELIOS & 1960 & F & Chinese & ⋯ & Y & N & HELIOS VCF     & Y & HELIOS     & 02535             & Unknown & PASS & Unknown & Unknown\\\\\n",
       "\\end{tabular}\n"
      ],
      "text/markdown": [
       "\n",
       "A tibble: 9706 × 73\n",
       "\n",
       "| npm_research_id &lt;chr&gt; | microbe_frac &lt;dbl&gt; | rowsums &lt;dbl&gt; | multiplex_pool_id &lt;chr&gt; | supplier_id &lt;chr&gt; | gis_internal_sample_id &lt;chr&gt; | site_supplying_sample &lt;chr&gt; | year_of_birth &lt;int&gt; | supplied_gender &lt;chr&gt; | self_reported_ethnicity &lt;chr&gt; | ⋯ ⋯ | supplied_and_computed_gender_match &lt;chr&gt; | sop_agreement_for_coverage__14/_28_for_15x/30x &lt;chr&gt; | sample_life_cycle &lt;chr&gt; | current &lt;chr&gt; | source_cohort &lt;chr&gt; | original_supplier_id &lt;chr&gt; | duplicate_info &lt;chr&gt; | duplicate &lt;chr&gt; | duplicate_pair &lt;chr&gt; | removal_requested_by_supplier &lt;chr&gt; |\n",
       "|---|---|---|---|---|---|---|---|---|---|---|---|---|---|---|---|---|---|---|---|---|\n",
       "| WHB669   | 1.965706e-06 |    377 | MUX5172  | CG-CTR-0454 | TTSH_CG_CTR_0454_1        | TTSH   | 1987 | F | Indian  | ⋯ | Y | Y | TTSH VCF       | Y | TTSH_mini  | CG-CTR-0454       | Unknown | PASS | Unknown | Unknown |\n",
       "| WHB8678  | 6.566073e-05 |  12050 | MUX10495 | 17003-2474  | MEC_17003_2474_1          | MEC    | 1980 | F | Indian  | ⋯ | Y | Y | MEC VCF        | Y | MEC        | 17003-2474        | Unknown | PASS | Unknown | Unknown |\n",
       "| WHH7080  | 4.359685e-05 |   6725 | MUX8946  | 01999       | NTU_01999_1               | HELIOS | 1957 | M | Chinese | ⋯ | Y | N | HELIOS VCF     | Y | HELIOS     | 01999             | Unknown | PASS | Unknown | Unknown |\n",
       "| WHB4818  | 5.442242e-07 |    183 | MUX9298  | 020-50145   | GUSTO_Kids_020_50145_1    | GUSTO  | 2010 | F | Chinese | ⋯ | Y | Y | GUSTO_Kids VCF | Y | GUSTO_Kids | 020-50145         | Unknown | PASS | Unknown | Unknown |\n",
       "| WHB9470  | 8.387687e-05 |  15698 | MUX9565  | 02753       | HELIOS_02753_1            | HELIOS | 1961 | F | Chinese | ⋯ | Y | Y | HELIOS VCF     | Y | HELIOS     | 02753             | Unknown | PASS | Unknown | Unknown |\n",
       "| WHB4637  | 7.178605e-06 |   2981 | MUX9235  | 010-20811   | GUSTO_Kids_010_20811_1    | GUSTO  | 2010 | M | Indian  | ⋯ | Y | Y | GUSTO_Kids VCF | Y | GUSTO_Kids | 010-20811         | Unknown | PASS | Unknown | Unknown |\n",
       "| WHH891   | 4.837169e-07 |     77 | MUX3434  | IS33788     | SERI_IS33788_1            | SERI   | 1964 | F | Indian  | ⋯ | Y | N | SEED VCF       | Y | SEED_mini  | IS33788           | Unknown | PASS | Unknown | Unknown |\n",
       "| WHB3974  | 1.762617e-05 |   6233 | MUX9016  | 020-66017   | GUSTO_Kids_020_66017_1    | GUSTO  | 2010 | M | Chinese | ⋯ | Y | Y | GUSTO_Kids VCF | Y | GUSTO_Kids | 020-66017         | Unknown | PASS | Unknown | Unknown |\n",
       "| WHB7065  | 2.328698e-06 |    416 | MUX10137 | 17003-0861  | MEC_17003_0861_1          | MEC    | 1955 | M | Chinese | ⋯ | Y | Y | MEC VCF        | Y | MEC        | 17003-0861        | Unknown | PASS | Unknown | Unknown |\n",
       "| WHB8830  | 5.364870e-05 |  10001 | MUX9710  | 01717       | HELIOS_01717_2            | HELIOS | 1970 | M | Chinese | ⋯ | Y | Y | HELIOS VCF     | Y | HELIOS     | 01717             | Unknown | PASS | Unknown | Unknown |\n",
       "| WHH1586  | 5.694904e-07 |     99 | MUX4068  | CS53512     | SERI_CS53512_1            | SERI   | 1956 | M | Chinese | ⋯ | Y | N | SEED VCF       | Y | SEED_mini  | CS53512           | Unknown | PASS | Unknown | Unknown |\n",
       "| WHB7956  | 2.583108e-04 |  49274 | MUX10566 | 17003-1752  | MEC_17003_1752_1          | MEC    | 1940 | M | Chinese | ⋯ | Y | Y | MEC VCF        | Y | MEC        | 17003-1752        | Unknown | PASS | Unknown | Unknown |\n",
       "| WHB6790  | 5.249720e-06 |   1103 | MUX10073 | 17003-0586  | MEC_17003_0586_1          | MEC    | 1958 | M | Chinese | ⋯ | Y | Y | MEC VCF        | Y | MEC        | 17003-0586        | Unknown | PASS | Unknown | Unknown |\n",
       "| WHH1857  | 5.987857e-07 |    110 | MUX4127  | MS16704     | SERI_MS16704_1            | SERI   | 1949 | M | Malay   | ⋯ | Y | Y | SEED VCF       | Y | SEED_mini  | MS16704           | Unknown | PASS | Unknown | Unknown |\n",
       "| WHH6873  | 1.928009e-04 |  37313 | MUX8837  | 01789       | NTU_01789_1               | HELIOS | 1961 | F | Chinese | ⋯ | Y | Y | HELIOS VCF     | Y | HELIOS     | 01789             | Unknown | PASS | Unknown | Unknown |\n",
       "| WHB7476  | 1.776501e-04 |  35657 | MUX10267 | 17003-1272  | MEC_17003_1272_1          | MEC    | 1979 | F | Indian  | ⋯ | Y | Y | MEC VCF        | Y | MEC        | 17003-1272        | Unknown | PASS | Unknown | Unknown |\n",
       "| WHH1107  | 4.066843e-07 |     76 | MUX3936  | IS31479     | SERI_IS31479_1            | SERI   | 1952 | M | Indian  | ⋯ | Y | Y | SEED VCF       | Y | SEED_mini  | IS31479           | Unknown | PASS | Unknown | Unknown |\n",
       "| WHB11053 | 8.069124e-05 |  15916 | MUX10688 | 17003-2901  | MEC_17003_2901_1          | MEC    | 1955 | F | Chinese | ⋯ | Y | Y | MEC VCF        | Y | MEC        | 17003-2901        | Unknown | PASS | Unknown | Unknown |\n",
       "| WHH1078  | 7.428292e-07 |    124 | MUX3936  | IS40310     | SERI_IS40310_1            | SERI   | 1964 | F | Indian  | ⋯ | Y | N | SEED VCF       | Y | SEED_mini  | IS40310           | Unknown | PASS | Unknown | Unknown |\n",
       "| WHB9042  | 5.582442e-05 |   9585 | MUX9576  | 02318       | NTU_02318_1               | HELIOS | 1956 | F | Chinese | ⋯ | Y | Y | HELIOS VCF     | Y | HELIOS     | 02318             | Unknown | PASS | Unknown | Unknown |\n",
       "| WHB5386  | 4.055486e-04 | 154360 | MUX8432  | 0518-0088   | PRISM_0518_0088_NHC_SLH_1 | PRISM  | 1970 | M | Chinese | ⋯ | Y | Y | PRISM VCF      | Y | PRISM      | 0518-0088/NHC/SLH | Unknown | PASS | Unknown | Unknown |\n",
       "| WHH4937  | 3.658921e-07 |     61 | MUX5305  | CG-CTR-1214 | TTSH_CG_CTR_1214_1        | TTSH   | 1969 | F | Chinese | ⋯ | Y | Y | TTSH VCF       | Y | TTSH_TP    | CG-CTR-1214       | Unknown | PASS | Unknown | Unknown |\n",
       "| WHH766   | 7.065475e-07 |    127 | MUX3381  | IS38245     | SERI_IS38245_1            | SERI   | 1960 | F | Indian  | ⋯ | Y | Y | SEED VCF       | Y | SEED_mini  | IS38245           | Unknown | PASS | Unknown | Unknown |\n",
       "| WHB7157  | 6.469585e-06 |   1031 | MUX10177 | 17003-0953  | MEC_17003_0953_1          | MEC    | 1967 | M | Indian  | ⋯ | Y | N | MEC VCF        | Y | MEC        | 17003-0953        | Unknown | PASS | Unknown | Unknown |\n",
       "| WHH1653  | 2.094779e-05 |   3482 | MUX4095  | CS61436     | SEED_CS61436_2            | SERI   | 1961 | F | Chinese | ⋯ | Y | N | SEED VCF       | Y | SEED_TP    | CS61436           | Unknown | PASS | Unknown | Unknown |\n",
       "| WHB9075  | 2.183839e-05 |   3497 | MUX9499  | 02354       | NTU_02354_1               | HELIOS | 1988 | F | Indian  | ⋯ | Y | N | HELIOS VCF     | Y | HELIOS     | 02354             | Unknown | PASS | Unknown | Unknown |\n",
       "| WHB6917  | 2.188169e-06 |    435 | MUX10103 | 17003-0713  | MEC_17003_0713_1          | MEC    | 1958 | M | Indian  | ⋯ | Y | Y | MEC VCF        | Y | MEC        | 17003-0713        | Unknown | PASS | Unknown | Unknown |\n",
       "| WHB5810  | 2.880954e-05 |   4830 | MUX8776  | 01635       | NTU_01635_1               | HELIOS | 1973 | F | Chinese | ⋯ | Y | Y | HELIOS VCF     | Y | HELIOS     | 01635             | Unknown | PASS | Unknown | Unknown |\n",
       "| WHB9248  | 1.209230e-04 |  20984 | MUX9509  | 02529       | NTU_02529_1               | HELIOS | 1953 | F | Chinese | ⋯ | Y | Y | HELIOS VCF     | Y | HELIOS     | 02529             | Unknown | PASS | Unknown | Unknown |\n",
       "| WHB8945  | 3.708370e-05 |   6634 | MUX9448  | 02206       | NTU_02206_1               | HELIOS | 1981 | M | Chinese | ⋯ | Y | Y | HELIOS VCF     | Y | HELIOS     | 02206             | Unknown | PASS | Unknown | Unknown |\n",
       "| ⋮ | ⋮ | ⋮ | ⋮ | ⋮ | ⋮ | ⋮ | ⋮ | ⋮ | ⋮ | ⋱ | ⋮ | ⋮ | ⋮ | ⋮ | ⋮ | ⋮ | ⋮ | ⋮ | ⋮ | ⋮ |\n",
       "| WHB3857   | 5.721526e-06 |   2044 | MUX8960     | 020-66123   | GUSTO_Kids_020_66123_1    | GUSTO  | 2010 | M | Indian  | ⋯ | Y | Y | GUSTO_Kids VCF | Y | GUSTO_Kids | 020-66123         | Unknown | PASS | Unknown | Unknown |\n",
       "| WHB8402   | 7.637778e-05 |  14489 | MUX10429    | 17003-2198  | MEC_17003_2198_1          | MEC    | 1957 | M | Indian  | ⋯ | Y | Y | MEC VCF        | Y | MEC        | 17003-2198        | Unknown | PASS | Unknown | Unknown |\n",
       "| WHB7889   | 4.111570e-07 |     62 | MUX10324    | 17003-1685  | MEC_17003_1685_1          | MEC    | 1944 | M | Chinese | ⋯ | Y | N | MEC VCF        | Y | MEC        | 17003-1685        | Unknown | PASS | Unknown | Unknown |\n",
       "| WHB10311  | 1.447330e-04 |  27712 | MUX9868     | 03189       | HELIOS_03189_1            | HELIOS | 1957 | M | Malay   | ⋯ | Y | Y | HELIOS VCF     | Y | HELIOS     | 03189             | Unknown | PASS | Unknown | Unknown |\n",
       "| WHH922    | 7.942676e-07 |    122 | MUX3529     | IS40785     | SERI_IS40785_1            | SERI   | 1963 | F | Indian  | ⋯ | Y | N | SEED VCF       | Y | SEED_mini  | IS40785           | Unknown | PASS | Unknown | Unknown |\n",
       "| WHB4108   | 5.384518e-06 |   1782 | MUX9056     | 010-20494   | GUSTO_Kids_010_20494_1    | GUSTO  | 2011 | F | Malay   | ⋯ | Y | N | GUSTO_Kids VCF | Y | GUSTO_Kids | 010-20494         | Unknown | PASS | Unknown | Unknown |\n",
       "| WHB3591   | 5.605380e-04 | 185721 | MUX8186     | 0916-0044   | PRISM_0916_0044_NHC_TGK_1 | PRISM  | 1957 | F | Chinese | ⋯ | Y | Y | PRISM VCF      | Y | PRISM      | 0916-0044/NHC/TGK | Unknown | PASS | Unknown | Unknown |\n",
       "| WHB5362   | 1.710598e-05 |   5828 | MUX8390     | CS50650     | PRISM_CS50650_1           | PRISM  | 1954 | M | Chinese | ⋯ | Y | Y | PRISM VCF      | Y | PRISM      | CS50650           | Unknown | PASS | Unknown | Unknown |\n",
       "| WHB6801   | 3.401352e-06 |    660 | MUX10074    | 17003-0597  | MEC_17003_0597_1          | MEC    | 1956 | F | Chinese | ⋯ | Y | Y | MEC VCF        | Y | MEC        | 17003-0597        | Unknown | PASS | Unknown | Unknown |\n",
       "| WHB1065   | 3.213181e-06 |    471 | MUX5848     | CG-CTR-2262 | TTSH_CG_CTR_2262_1        | TTSH   | 1972 | F | Chinese | ⋯ | Y | N | TTSH VCF       | Y | TTSH_TP    | CG-CTR-2262       | Unknown | PASS | Unknown | Unknown |\n",
       "| WHH2152   | 2.657294e-07 |     42 | MUX4150     | MS18588     | SERI_MS18588_1            | SERI   | 1955 | F | Malay   | ⋯ | Y | N | SEED VCF       | Y | SEED_mini  | MS18588           | Unknown | PASS | Unknown | Unknown |\n",
       "| WHB7938   | 3.430111e-05 |   7752 | MUX10328    | 17003-1734  | MEC_17003_1734_1          | MEC    | 1951 | M | Malay   | ⋯ | Y | Y | MEC VCF        | Y | MEC        | 17003-1734        | Unknown | PASS | Unknown | Unknown |\n",
       "| WHB9984   | 1.551576e-04 |  24299 | MUX9690     | 00333       | HELIOS_00333_1            | HELIOS | 1972 | F | Chinese | ⋯ | Y | N | HELIOS VCF     | Y | HELIOS     | 00333             | Unknown | PASS | Unknown | Unknown |\n",
       "| WHB10068  | 4.352802e-05 |   6355 | MUX9707     | 00481       | HELIOS_00481_1            | HELIOS | 1955 | M | Chinese | ⋯ | Y | N | HELIOS VCF     | Y | HELIOS     | 00481             | Unknown | PASS | Unknown | Unknown |\n",
       "| WHH1517   | 1.120451e-05 |   2141 | MUX4050     | CS55643     | SERI_CS55643_1            | SERI   | 1953 | F | Chinese | ⋯ | Y | Y | SEED VCF       | Y | SEED_mini  | CS55643           | Unknown | PASS | Unknown | Unknown |\n",
       "| WHB4873   | 1.156723e-03 | 502114 | MUX8258     | 0617-0064   | PRISM_0617_0064_NHC_TWK_1 | PRISM  | 1990 | M | Chinese | ⋯ | Y | Y | PRISM VCF      | Y | PRISM      | 0617-0064/NHC/TWK | Unknown | PASS | Unknown | Unknown |\n",
       "| WHB4699   | 9.651248e-07 |    372 | MUX9247     | 029-04273   | GUSTO_Kids_029_04273_1    | GUSTO  | 2010 | F | Chinese | ⋯ | Y | Y | GUSTO_Kids VCF | Y | GUSTO_Kids | 029-04273         | Unknown | PASS | Unknown | Unknown |\n",
       "| WHH689    | 3.042068e-07 |     50 | MUX3359     | IS41051     | SERI_IS41051_1            | SERI   | 1961 | F | Indian  | ⋯ | Y | N | SEED VCF       | Y | SEED_mini  | IS41051           | Unknown | PASS | Unknown | Unknown |\n",
       "| WHB9883   | 6.131568e-05 |  10385 | MUX9671     | 01421       | HELIOS_01421_1            | HELIOS | 1966 | F | Chinese | ⋯ | Y | Y | HELIOS VCF     | Y | HELIOS     | 01421             | Unknown | PASS | Unknown | Unknown |\n",
       "| WHB713    | 3.926052e-07 |     71 | MUX5185     | CG-CTR-0571 | TTSH_CG_CTR_0571_1        | TTSH   | 1975 | M | Chinese | ⋯ | Y | Y | TTSH VCF       | Y | TTSH_TP    | CG-CTR-0571       | Unknown | PASS | Unknown | Unknown |\n",
       "| WHB1060   | 3.452051e-06 |    624 | MUX5540     | CG-CTR-2255 | TTSH_CG_CTR_2255_1        | TTSH   | 1993 | F | Indian  | ⋯ | Y | Y | TTSH VCF       | Y | TTSH_TP    | CG-CTR-2255       | Unknown | PASS | Unknown | Unknown |\n",
       "| WHB8417   | 8.436888e-06 |   1506 | MUX10432    | 17003-2213  | MEC_17003_2213_1          | MEC    | 1949 | M | Indian  | ⋯ | Y | Y | MEC VCF        | Y | MEC        | 17003-2213        | Unknown | PASS | Unknown | Unknown |\n",
       "| WHB6339   | 1.269043e-06 |    230 | MUX9998     | 17003-0154  | MEC_17003_0154_1          | MEC    | 1969 | F | Indian  | ⋯ | Y | Y | MEC VCF        | Y | MEC        | 17003-0154        | Unknown | PASS | Unknown | Unknown |\n",
       "| WHB8356   | 1.163444e-04 |  24999 | MUX10448    | 17003-2152  | MEC_17003_2152_1          | MEC    | 1957 | F | Chinese | ⋯ | Y | Y | MEC VCF        | Y | MEC        | 17003-2152        | Unknown | PASS | Unknown | Unknown |\n",
       "| WHB7090   | 1.221559e-05 |   2152 | MUX10164    | 17003-0886  | MEC_17003_0886_1          | MEC    | 1953 | M | Chinese | ⋯ | Y | Y | MEC VCF        | Y | MEC        | 17003-0886        | Unknown | PASS | Unknown | Unknown |\n",
       "| 0116-0039 | 1.402905e-03 | 574527 | PRISM_topup | 0116-0039   | PRISM_0116_0039_CYW_1     | PRISM  | 1969 | M | Chinese | ⋯ | Y | Y | PRISM VCF      | Y | PRISM_TP   | 0116-0039-CYW     | Unknown | PASS | Unknown | Unknown |\n",
       "| WHB5654   | 1.187654e-05 |   1965 | MUX8718     | 01425       | NTU_01425_1               | HELIOS | 1986 | F | Chinese | ⋯ | Y | N | HELIOS VCF     | Y | HELIOS     | 01425             | Unknown | PASS | Unknown | Unknown |\n",
       "| WHB9085   | 3.638580e-05 |   6347 | MUX9501     | 02364       | NTU_02364_1               | HELIOS | 1957 | F | Chinese | ⋯ | Y | Y | HELIOS VCF     | Y | HELIOS     | 02364             | Unknown | PASS | Unknown | Unknown |\n",
       "| WHH7014   | 3.422007e-05 |   5627 | MUX8866     | 01932       | NTU_01932_1               | HELIOS | 1960 | F | Chinese | ⋯ | Y | Y | HELIOS VCF     | Y | HELIOS     | 01932             | Unknown | PASS | Unknown | Unknown |\n",
       "| WHB9254   | 2.122465e-04 |  33580 | MUX9510     | 02535       | NTU_02535_1               | HELIOS | 1960 | F | Chinese | ⋯ | Y | N | HELIOS VCF     | Y | HELIOS     | 02535             | Unknown | PASS | Unknown | Unknown |\n",
       "\n"
      ],
      "text/plain": [
       "     npm_research_id microbe_frac rowsums multiplex_pool_id supplier_id\n",
       "1    WHB669          1.965706e-06    377  MUX5172           CG-CTR-0454\n",
       "2    WHB8678         6.566073e-05  12050  MUX10495          17003-2474 \n",
       "3    WHH7080         4.359685e-05   6725  MUX8946           01999      \n",
       "4    WHB4818         5.442242e-07    183  MUX9298           020-50145  \n",
       "5    WHB9470         8.387687e-05  15698  MUX9565           02753      \n",
       "6    WHB4637         7.178605e-06   2981  MUX9235           010-20811  \n",
       "7    WHH891          4.837169e-07     77  MUX3434           IS33788    \n",
       "8    WHB3974         1.762617e-05   6233  MUX9016           020-66017  \n",
       "9    WHB7065         2.328698e-06    416  MUX10137          17003-0861 \n",
       "10   WHB8830         5.364870e-05  10001  MUX9710           01717      \n",
       "11   WHH1586         5.694904e-07     99  MUX4068           CS53512    \n",
       "12   WHB7956         2.583108e-04  49274  MUX10566          17003-1752 \n",
       "13   WHB6790         5.249720e-06   1103  MUX10073          17003-0586 \n",
       "14   WHH1857         5.987857e-07    110  MUX4127           MS16704    \n",
       "15   WHH6873         1.928009e-04  37313  MUX8837           01789      \n",
       "16   WHB7476         1.776501e-04  35657  MUX10267          17003-1272 \n",
       "17   WHH1107         4.066843e-07     76  MUX3936           IS31479    \n",
       "18   WHB11053        8.069124e-05  15916  MUX10688          17003-2901 \n",
       "19   WHH1078         7.428292e-07    124  MUX3936           IS40310    \n",
       "20   WHB9042         5.582442e-05   9585  MUX9576           02318      \n",
       "21   WHB5386         4.055486e-04 154360  MUX8432           0518-0088  \n",
       "22   WHH4937         3.658921e-07     61  MUX5305           CG-CTR-1214\n",
       "23   WHH766          7.065475e-07    127  MUX3381           IS38245    \n",
       "24   WHB7157         6.469585e-06   1031  MUX10177          17003-0953 \n",
       "25   WHH1653         2.094779e-05   3482  MUX4095           CS61436    \n",
       "26   WHB9075         2.183839e-05   3497  MUX9499           02354      \n",
       "27   WHB6917         2.188169e-06    435  MUX10103          17003-0713 \n",
       "28   WHB5810         2.880954e-05   4830  MUX8776           01635      \n",
       "29   WHB9248         1.209230e-04  20984  MUX9509           02529      \n",
       "30   WHB8945         3.708370e-05   6634  MUX9448           02206      \n",
       "⋮    ⋮               ⋮            ⋮       ⋮                 ⋮          \n",
       "9677 WHB3857         5.721526e-06   2044  MUX8960           020-66123  \n",
       "9678 WHB8402         7.637778e-05  14489  MUX10429          17003-2198 \n",
       "9679 WHB7889         4.111570e-07     62  MUX10324          17003-1685 \n",
       "9680 WHB10311        1.447330e-04  27712  MUX9868           03189      \n",
       "9681 WHH922          7.942676e-07    122  MUX3529           IS40785    \n",
       "9682 WHB4108         5.384518e-06   1782  MUX9056           010-20494  \n",
       "9683 WHB3591         5.605380e-04 185721  MUX8186           0916-0044  \n",
       "9684 WHB5362         1.710598e-05   5828  MUX8390           CS50650    \n",
       "9685 WHB6801         3.401352e-06    660  MUX10074          17003-0597 \n",
       "9686 WHB1065         3.213181e-06    471  MUX5848           CG-CTR-2262\n",
       "9687 WHH2152         2.657294e-07     42  MUX4150           MS18588    \n",
       "9688 WHB7938         3.430111e-05   7752  MUX10328          17003-1734 \n",
       "9689 WHB9984         1.551576e-04  24299  MUX9690           00333      \n",
       "9690 WHB10068        4.352802e-05   6355  MUX9707           00481      \n",
       "9691 WHH1517         1.120451e-05   2141  MUX4050           CS55643    \n",
       "9692 WHB4873         1.156723e-03 502114  MUX8258           0617-0064  \n",
       "9693 WHB4699         9.651248e-07    372  MUX9247           029-04273  \n",
       "9694 WHH689          3.042068e-07     50  MUX3359           IS41051    \n",
       "9695 WHB9883         6.131568e-05  10385  MUX9671           01421      \n",
       "9696 WHB713          3.926052e-07     71  MUX5185           CG-CTR-0571\n",
       "9697 WHB1060         3.452051e-06    624  MUX5540           CG-CTR-2255\n",
       "9698 WHB8417         8.436888e-06   1506  MUX10432          17003-2213 \n",
       "9699 WHB6339         1.269043e-06    230  MUX9998           17003-0154 \n",
       "9700 WHB8356         1.163444e-04  24999  MUX10448          17003-2152 \n",
       "9701 WHB7090         1.221559e-05   2152  MUX10164          17003-0886 \n",
       "9702 0116-0039       1.402905e-03 574527  PRISM_topup       0116-0039  \n",
       "9703 WHB5654         1.187654e-05   1965  MUX8718           01425      \n",
       "9704 WHB9085         3.638580e-05   6347  MUX9501           02364      \n",
       "9705 WHH7014         3.422007e-05   5627  MUX8866           01932      \n",
       "9706 WHB9254         2.122465e-04  33580  MUX9510           02535      \n",
       "     gis_internal_sample_id    site_supplying_sample year_of_birth\n",
       "1    TTSH_CG_CTR_0454_1        TTSH                  1987         \n",
       "2    MEC_17003_2474_1          MEC                   1980         \n",
       "3    NTU_01999_1               HELIOS                1957         \n",
       "4    GUSTO_Kids_020_50145_1    GUSTO                 2010         \n",
       "5    HELIOS_02753_1            HELIOS                1961         \n",
       "6    GUSTO_Kids_010_20811_1    GUSTO                 2010         \n",
       "7    SERI_IS33788_1            SERI                  1964         \n",
       "8    GUSTO_Kids_020_66017_1    GUSTO                 2010         \n",
       "9    MEC_17003_0861_1          MEC                   1955         \n",
       "10   HELIOS_01717_2            HELIOS                1970         \n",
       "11   SERI_CS53512_1            SERI                  1956         \n",
       "12   MEC_17003_1752_1          MEC                   1940         \n",
       "13   MEC_17003_0586_1          MEC                   1958         \n",
       "14   SERI_MS16704_1            SERI                  1949         \n",
       "15   NTU_01789_1               HELIOS                1961         \n",
       "16   MEC_17003_1272_1          MEC                   1979         \n",
       "17   SERI_IS31479_1            SERI                  1952         \n",
       "18   MEC_17003_2901_1          MEC                   1955         \n",
       "19   SERI_IS40310_1            SERI                  1964         \n",
       "20   NTU_02318_1               HELIOS                1956         \n",
       "21   PRISM_0518_0088_NHC_SLH_1 PRISM                 1970         \n",
       "22   TTSH_CG_CTR_1214_1        TTSH                  1969         \n",
       "23   SERI_IS38245_1            SERI                  1960         \n",
       "24   MEC_17003_0953_1          MEC                   1967         \n",
       "25   SEED_CS61436_2            SERI                  1961         \n",
       "26   NTU_02354_1               HELIOS                1988         \n",
       "27   MEC_17003_0713_1          MEC                   1958         \n",
       "28   NTU_01635_1               HELIOS                1973         \n",
       "29   NTU_02529_1               HELIOS                1953         \n",
       "30   NTU_02206_1               HELIOS                1981         \n",
       "⋮    ⋮                         ⋮                     ⋮            \n",
       "9677 GUSTO_Kids_020_66123_1    GUSTO                 2010         \n",
       "9678 MEC_17003_2198_1          MEC                   1957         \n",
       "9679 MEC_17003_1685_1          MEC                   1944         \n",
       "9680 HELIOS_03189_1            HELIOS                1957         \n",
       "9681 SERI_IS40785_1            SERI                  1963         \n",
       "9682 GUSTO_Kids_010_20494_1    GUSTO                 2011         \n",
       "9683 PRISM_0916_0044_NHC_TGK_1 PRISM                 1957         \n",
       "9684 PRISM_CS50650_1           PRISM                 1954         \n",
       "9685 MEC_17003_0597_1          MEC                   1956         \n",
       "9686 TTSH_CG_CTR_2262_1        TTSH                  1972         \n",
       "9687 SERI_MS18588_1            SERI                  1955         \n",
       "9688 MEC_17003_1734_1          MEC                   1951         \n",
       "9689 HELIOS_00333_1            HELIOS                1972         \n",
       "9690 HELIOS_00481_1            HELIOS                1955         \n",
       "9691 SERI_CS55643_1            SERI                  1953         \n",
       "9692 PRISM_0617_0064_NHC_TWK_1 PRISM                 1990         \n",
       "9693 GUSTO_Kids_029_04273_1    GUSTO                 2010         \n",
       "9694 SERI_IS41051_1            SERI                  1961         \n",
       "9695 HELIOS_01421_1            HELIOS                1966         \n",
       "9696 TTSH_CG_CTR_0571_1        TTSH                  1975         \n",
       "9697 TTSH_CG_CTR_2255_1        TTSH                  1993         \n",
       "9698 MEC_17003_2213_1          MEC                   1949         \n",
       "9699 MEC_17003_0154_1          MEC                   1969         \n",
       "9700 MEC_17003_2152_1          MEC                   1957         \n",
       "9701 MEC_17003_0886_1          MEC                   1953         \n",
       "9702 PRISM_0116_0039_CYW_1     PRISM                 1969         \n",
       "9703 NTU_01425_1               HELIOS                1986         \n",
       "9704 NTU_02364_1               HELIOS                1957         \n",
       "9705 NTU_01932_1               HELIOS                1960         \n",
       "9706 NTU_02535_1               HELIOS                1960         \n",
       "     supplied_gender self_reported_ethnicity ⋯\n",
       "1    F               Indian                  ⋯\n",
       "2    F               Indian                  ⋯\n",
       "3    M               Chinese                 ⋯\n",
       "4    F               Chinese                 ⋯\n",
       "5    F               Chinese                 ⋯\n",
       "6    M               Indian                  ⋯\n",
       "7    F               Indian                  ⋯\n",
       "8    M               Chinese                 ⋯\n",
       "9    M               Chinese                 ⋯\n",
       "10   M               Chinese                 ⋯\n",
       "11   M               Chinese                 ⋯\n",
       "12   M               Chinese                 ⋯\n",
       "13   M               Chinese                 ⋯\n",
       "14   M               Malay                   ⋯\n",
       "15   F               Chinese                 ⋯\n",
       "16   F               Indian                  ⋯\n",
       "17   M               Indian                  ⋯\n",
       "18   F               Chinese                 ⋯\n",
       "19   F               Indian                  ⋯\n",
       "20   F               Chinese                 ⋯\n",
       "21   M               Chinese                 ⋯\n",
       "22   F               Chinese                 ⋯\n",
       "23   F               Indian                  ⋯\n",
       "24   M               Indian                  ⋯\n",
       "25   F               Chinese                 ⋯\n",
       "26   F               Indian                  ⋯\n",
       "27   M               Indian                  ⋯\n",
       "28   F               Chinese                 ⋯\n",
       "29   F               Chinese                 ⋯\n",
       "30   M               Chinese                 ⋯\n",
       "⋮    ⋮               ⋮                       ⋱\n",
       "9677 M               Indian                  ⋯\n",
       "9678 M               Indian                  ⋯\n",
       "9679 M               Chinese                 ⋯\n",
       "9680 M               Malay                   ⋯\n",
       "9681 F               Indian                  ⋯\n",
       "9682 F               Malay                   ⋯\n",
       "9683 F               Chinese                 ⋯\n",
       "9684 M               Chinese                 ⋯\n",
       "9685 F               Chinese                 ⋯\n",
       "9686 F               Chinese                 ⋯\n",
       "9687 F               Malay                   ⋯\n",
       "9688 M               Malay                   ⋯\n",
       "9689 F               Chinese                 ⋯\n",
       "9690 M               Chinese                 ⋯\n",
       "9691 F               Chinese                 ⋯\n",
       "9692 M               Chinese                 ⋯\n",
       "9693 F               Chinese                 ⋯\n",
       "9694 F               Indian                  ⋯\n",
       "9695 F               Chinese                 ⋯\n",
       "9696 M               Chinese                 ⋯\n",
       "9697 F               Indian                  ⋯\n",
       "9698 M               Indian                  ⋯\n",
       "9699 F               Indian                  ⋯\n",
       "9700 F               Chinese                 ⋯\n",
       "9701 M               Chinese                 ⋯\n",
       "9702 M               Chinese                 ⋯\n",
       "9703 F               Chinese                 ⋯\n",
       "9704 F               Chinese                 ⋯\n",
       "9705 F               Chinese                 ⋯\n",
       "9706 F               Chinese                 ⋯\n",
       "     supplied_and_computed_gender_match\n",
       "1    Y                                 \n",
       "2    Y                                 \n",
       "3    Y                                 \n",
       "4    Y                                 \n",
       "5    Y                                 \n",
       "6    Y                                 \n",
       "7    Y                                 \n",
       "8    Y                                 \n",
       "9    Y                                 \n",
       "10   Y                                 \n",
       "11   Y                                 \n",
       "12   Y                                 \n",
       "13   Y                                 \n",
       "14   Y                                 \n",
       "15   Y                                 \n",
       "16   Y                                 \n",
       "17   Y                                 \n",
       "18   Y                                 \n",
       "19   Y                                 \n",
       "20   Y                                 \n",
       "21   Y                                 \n",
       "22   Y                                 \n",
       "23   Y                                 \n",
       "24   Y                                 \n",
       "25   Y                                 \n",
       "26   Y                                 \n",
       "27   Y                                 \n",
       "28   Y                                 \n",
       "29   Y                                 \n",
       "30   Y                                 \n",
       "⋮    ⋮                                 \n",
       "9677 Y                                 \n",
       "9678 Y                                 \n",
       "9679 Y                                 \n",
       "9680 Y                                 \n",
       "9681 Y                                 \n",
       "9682 Y                                 \n",
       "9683 Y                                 \n",
       "9684 Y                                 \n",
       "9685 Y                                 \n",
       "9686 Y                                 \n",
       "9687 Y                                 \n",
       "9688 Y                                 \n",
       "9689 Y                                 \n",
       "9690 Y                                 \n",
       "9691 Y                                 \n",
       "9692 Y                                 \n",
       "9693 Y                                 \n",
       "9694 Y                                 \n",
       "9695 Y                                 \n",
       "9696 Y                                 \n",
       "9697 Y                                 \n",
       "9698 Y                                 \n",
       "9699 Y                                 \n",
       "9700 Y                                 \n",
       "9701 Y                                 \n",
       "9702 Y                                 \n",
       "9703 Y                                 \n",
       "9704 Y                                 \n",
       "9705 Y                                 \n",
       "9706 Y                                 \n",
       "     sop_agreement_for_coverage__14/_28_for_15x/30x sample_life_cycle current\n",
       "1    Y                                              TTSH VCF          Y      \n",
       "2    Y                                              MEC VCF           Y      \n",
       "3    N                                              HELIOS VCF        Y      \n",
       "4    Y                                              GUSTO_Kids VCF    Y      \n",
       "5    Y                                              HELIOS VCF        Y      \n",
       "6    Y                                              GUSTO_Kids VCF    Y      \n",
       "7    N                                              SEED VCF          Y      \n",
       "8    Y                                              GUSTO_Kids VCF    Y      \n",
       "9    Y                                              MEC VCF           Y      \n",
       "10   Y                                              HELIOS VCF        Y      \n",
       "11   N                                              SEED VCF          Y      \n",
       "12   Y                                              MEC VCF           Y      \n",
       "13   Y                                              MEC VCF           Y      \n",
       "14   Y                                              SEED VCF          Y      \n",
       "15   Y                                              HELIOS VCF        Y      \n",
       "16   Y                                              MEC VCF           Y      \n",
       "17   Y                                              SEED VCF          Y      \n",
       "18   Y                                              MEC VCF           Y      \n",
       "19   N                                              SEED VCF          Y      \n",
       "20   Y                                              HELIOS VCF        Y      \n",
       "21   Y                                              PRISM VCF         Y      \n",
       "22   Y                                              TTSH VCF          Y      \n",
       "23   Y                                              SEED VCF          Y      \n",
       "24   N                                              MEC VCF           Y      \n",
       "25   N                                              SEED VCF          Y      \n",
       "26   N                                              HELIOS VCF        Y      \n",
       "27   Y                                              MEC VCF           Y      \n",
       "28   Y                                              HELIOS VCF        Y      \n",
       "29   Y                                              HELIOS VCF        Y      \n",
       "30   Y                                              HELIOS VCF        Y      \n",
       "⋮    ⋮                                              ⋮                 ⋮      \n",
       "9677 Y                                              GUSTO_Kids VCF    Y      \n",
       "9678 Y                                              MEC VCF           Y      \n",
       "9679 N                                              MEC VCF           Y      \n",
       "9680 Y                                              HELIOS VCF        Y      \n",
       "9681 N                                              SEED VCF          Y      \n",
       "9682 N                                              GUSTO_Kids VCF    Y      \n",
       "9683 Y                                              PRISM VCF         Y      \n",
       "9684 Y                                              PRISM VCF         Y      \n",
       "9685 Y                                              MEC VCF           Y      \n",
       "9686 N                                              TTSH VCF          Y      \n",
       "9687 N                                              SEED VCF          Y      \n",
       "9688 Y                                              MEC VCF           Y      \n",
       "9689 N                                              HELIOS VCF        Y      \n",
       "9690 N                                              HELIOS VCF        Y      \n",
       "9691 Y                                              SEED VCF          Y      \n",
       "9692 Y                                              PRISM VCF         Y      \n",
       "9693 Y                                              GUSTO_Kids VCF    Y      \n",
       "9694 N                                              SEED VCF          Y      \n",
       "9695 Y                                              HELIOS VCF        Y      \n",
       "9696 Y                                              TTSH VCF          Y      \n",
       "9697 Y                                              TTSH VCF          Y      \n",
       "9698 Y                                              MEC VCF           Y      \n",
       "9699 Y                                              MEC VCF           Y      \n",
       "9700 Y                                              MEC VCF           Y      \n",
       "9701 Y                                              MEC VCF           Y      \n",
       "9702 Y                                              PRISM VCF         Y      \n",
       "9703 N                                              HELIOS VCF        Y      \n",
       "9704 Y                                              HELIOS VCF        Y      \n",
       "9705 Y                                              HELIOS VCF        Y      \n",
       "9706 N                                              HELIOS VCF        Y      \n",
       "     source_cohort original_supplier_id duplicate_info duplicate duplicate_pair\n",
       "1    TTSH_mini     CG-CTR-0454          Unknown        PASS      Unknown       \n",
       "2    MEC           17003-2474           Unknown        PASS      Unknown       \n",
       "3    HELIOS        01999                Unknown        PASS      Unknown       \n",
       "4    GUSTO_Kids    020-50145            Unknown        PASS      Unknown       \n",
       "5    HELIOS        02753                Unknown        PASS      Unknown       \n",
       "6    GUSTO_Kids    010-20811            Unknown        PASS      Unknown       \n",
       "7    SEED_mini     IS33788              Unknown        PASS      Unknown       \n",
       "8    GUSTO_Kids    020-66017            Unknown        PASS      Unknown       \n",
       "9    MEC           17003-0861           Unknown        PASS      Unknown       \n",
       "10   HELIOS        01717                Unknown        PASS      Unknown       \n",
       "11   SEED_mini     CS53512              Unknown        PASS      Unknown       \n",
       "12   MEC           17003-1752           Unknown        PASS      Unknown       \n",
       "13   MEC           17003-0586           Unknown        PASS      Unknown       \n",
       "14   SEED_mini     MS16704              Unknown        PASS      Unknown       \n",
       "15   HELIOS        01789                Unknown        PASS      Unknown       \n",
       "16   MEC           17003-1272           Unknown        PASS      Unknown       \n",
       "17   SEED_mini     IS31479              Unknown        PASS      Unknown       \n",
       "18   MEC           17003-2901           Unknown        PASS      Unknown       \n",
       "19   SEED_mini     IS40310              Unknown        PASS      Unknown       \n",
       "20   HELIOS        02318                Unknown        PASS      Unknown       \n",
       "21   PRISM         0518-0088/NHC/SLH    Unknown        PASS      Unknown       \n",
       "22   TTSH_TP       CG-CTR-1214          Unknown        PASS      Unknown       \n",
       "23   SEED_mini     IS38245              Unknown        PASS      Unknown       \n",
       "24   MEC           17003-0953           Unknown        PASS      Unknown       \n",
       "25   SEED_TP       CS61436              Unknown        PASS      Unknown       \n",
       "26   HELIOS        02354                Unknown        PASS      Unknown       \n",
       "27   MEC           17003-0713           Unknown        PASS      Unknown       \n",
       "28   HELIOS        01635                Unknown        PASS      Unknown       \n",
       "29   HELIOS        02529                Unknown        PASS      Unknown       \n",
       "30   HELIOS        02206                Unknown        PASS      Unknown       \n",
       "⋮    ⋮             ⋮                    ⋮              ⋮         ⋮             \n",
       "9677 GUSTO_Kids    020-66123            Unknown        PASS      Unknown       \n",
       "9678 MEC           17003-2198           Unknown        PASS      Unknown       \n",
       "9679 MEC           17003-1685           Unknown        PASS      Unknown       \n",
       "9680 HELIOS        03189                Unknown        PASS      Unknown       \n",
       "9681 SEED_mini     IS40785              Unknown        PASS      Unknown       \n",
       "9682 GUSTO_Kids    010-20494            Unknown        PASS      Unknown       \n",
       "9683 PRISM         0916-0044/NHC/TGK    Unknown        PASS      Unknown       \n",
       "9684 PRISM         CS50650              Unknown        PASS      Unknown       \n",
       "9685 MEC           17003-0597           Unknown        PASS      Unknown       \n",
       "9686 TTSH_TP       CG-CTR-2262          Unknown        PASS      Unknown       \n",
       "9687 SEED_mini     MS18588              Unknown        PASS      Unknown       \n",
       "9688 MEC           17003-1734           Unknown        PASS      Unknown       \n",
       "9689 HELIOS        00333                Unknown        PASS      Unknown       \n",
       "9690 HELIOS        00481                Unknown        PASS      Unknown       \n",
       "9691 SEED_mini     CS55643              Unknown        PASS      Unknown       \n",
       "9692 PRISM         0617-0064/NHC/TWK    Unknown        PASS      Unknown       \n",
       "9693 GUSTO_Kids    029-04273            Unknown        PASS      Unknown       \n",
       "9694 SEED_mini     IS41051              Unknown        PASS      Unknown       \n",
       "9695 HELIOS        01421                Unknown        PASS      Unknown       \n",
       "9696 TTSH_TP       CG-CTR-0571          Unknown        PASS      Unknown       \n",
       "9697 TTSH_TP       CG-CTR-2255          Unknown        PASS      Unknown       \n",
       "9698 MEC           17003-2213           Unknown        PASS      Unknown       \n",
       "9699 MEC           17003-0154           Unknown        PASS      Unknown       \n",
       "9700 MEC           17003-2152           Unknown        PASS      Unknown       \n",
       "9701 MEC           17003-0886           Unknown        PASS      Unknown       \n",
       "9702 PRISM_TP      0116-0039-CYW        Unknown        PASS      Unknown       \n",
       "9703 HELIOS        01425                Unknown        PASS      Unknown       \n",
       "9704 HELIOS        02364                Unknown        PASS      Unknown       \n",
       "9705 HELIOS        01932                Unknown        PASS      Unknown       \n",
       "9706 HELIOS        02535                Unknown        PASS      Unknown       \n",
       "     removal_requested_by_supplier\n",
       "1    Unknown                      \n",
       "2    Unknown                      \n",
       "3    Unknown                      \n",
       "4    Unknown                      \n",
       "5    Unknown                      \n",
       "6    Unknown                      \n",
       "7    Unknown                      \n",
       "8    Unknown                      \n",
       "9    Unknown                      \n",
       "10   Unknown                      \n",
       "11   Unknown                      \n",
       "12   Unknown                      \n",
       "13   Unknown                      \n",
       "14   Unknown                      \n",
       "15   Unknown                      \n",
       "16   Unknown                      \n",
       "17   Unknown                      \n",
       "18   Unknown                      \n",
       "19   Unknown                      \n",
       "20   Unknown                      \n",
       "21   Unknown                      \n",
       "22   Unknown                      \n",
       "23   Unknown                      \n",
       "24   Unknown                      \n",
       "25   Unknown                      \n",
       "26   Unknown                      \n",
       "27   Unknown                      \n",
       "28   Unknown                      \n",
       "29   Unknown                      \n",
       "30   Unknown                      \n",
       "⋮    ⋮                            \n",
       "9677 Unknown                      \n",
       "9678 Unknown                      \n",
       "9679 Unknown                      \n",
       "9680 Unknown                      \n",
       "9681 Unknown                      \n",
       "9682 Unknown                      \n",
       "9683 Unknown                      \n",
       "9684 Unknown                      \n",
       "9685 Unknown                      \n",
       "9686 Unknown                      \n",
       "9687 Unknown                      \n",
       "9688 Unknown                      \n",
       "9689 Unknown                      \n",
       "9690 Unknown                      \n",
       "9691 Unknown                      \n",
       "9692 Unknown                      \n",
       "9693 Unknown                      \n",
       "9694 Unknown                      \n",
       "9695 Unknown                      \n",
       "9696 Unknown                      \n",
       "9697 Unknown                      \n",
       "9698 Unknown                      \n",
       "9699 Unknown                      \n",
       "9700 Unknown                      \n",
       "9701 Unknown                      \n",
       "9702 Unknown                      \n",
       "9703 Unknown                      \n",
       "9704 Unknown                      \n",
       "9705 Unknown                      \n",
       "9706 Unknown                      "
      ]
     },
     "metadata": {},
     "output_type": "display_data"
    }
   ],
   "source": [
    "micro_df <- species_df %>% select(-npm_research_id, -unclassified, -\"Homo sapiens\")\n",
    "rowsum_df <- tibble(npm_research_id = species_df$npm_research_id, rowsums = rowSums(micro_df))\n",
    "rowsum_df <- rowsum_df %>%\n",
    "    left_join(meta) %>%\n",
    "    mutate(microbe_frac = (rowsums * 2) / raw_total_sequences, .before = 2)\n",
    "rowsum_df"
   ]
  },
  {
   "cell_type": "code",
   "execution_count": 7,
   "id": "99b57406",
   "metadata": {},
   "outputs": [
    {
     "name": "stderr",
     "output_type": "stream",
     "text": [
      "Warning message:\n",
      "“Removed 55 rows containing non-finite values (stat_bin).”\n"
     ]
    },
    {
     "data": {
      "image/png": "[encoded data removed]",
      "text/plain": [
       "plot without title"
      ]
     },
     "metadata": {
      "image/png": {
       "height": 420,
       "width": 420
      }
     },
     "output_type": "display_data"
    }
   ],
   "source": [
    "rowsum_df %>% \n",
    "    ggplot(aes(x = log(rowsums,base = 10))) +\n",
    "    geom_histogram(bins = 50) +\n",
    "    labs(x = \"log(microbial reads, base = 10)\", y = \"No. of samples\")"
   ]
  },
  {
   "cell_type": "code",
   "execution_count": 8,
   "id": "70e6dc0b",
   "metadata": {
    "scrolled": true
   },
   "outputs": [
    {
     "name": "stderr",
     "output_type": "stream",
     "text": [
      "Warning message:\n",
      "“Removed 55 rows containing non-finite values (stat_bin).”\n"
     ]
    },
    {
     "data": {
      "image/png": "[encoded data removed]",
      "text/plain": [
       "plot without title"
      ]
     },
     "metadata": {
      "image/png": {
       "height": 420,
       "width": 420
      }
     },
     "output_type": "display_data"
    }
   ],
   "source": [
    "rowsum_df %>% \n",
    "#     filter(rowsums < 5000) %>%\n",
    "    ggplot(aes(x = log(microbe_frac,base = 10))) +\n",
    "    geom_histogram(bins = 50) +\n",
    "    labs(x = \"Log(microbial fraction, base = 10)\", y = \"No. of samples\")"
   ]
  },
  {
   "cell_type": "markdown",
   "id": "d046c75e",
   "metadata": {},
   "source": [
    "#### No. of taxa in blanks"
   ]
  },
  {
   "cell_type": "code",
   "execution_count": 9,
   "id": "f6974f3c",
   "metadata": {},
   "outputs": [
    {
     "data": {
      "text/html": [
       "<style>\n",
       ".dl-inline {width: auto; margin:0; padding: 0}\n",
       ".dl-inline>dt, .dl-inline>dd {float: none; width: auto; display: inline-block}\n",
       ".dl-inline>dt::after {content: \":\\0020\"; padding-right: .5ex}\n",
       ".dl-inline>dt:not(:first-of-type) {padding-left: .5ex}\n",
       "</style><dl class=dl-inline><dt>WHB11420</dt><dd>149</dd><dt>WHB11437</dt><dd>169</dd><dt>WHB11438</dt><dd>88</dd><dt>WHB11439</dt><dd>96</dd><dt>WHB11687</dt><dd>143</dd></dl>\n"
      ],
      "text/latex": [
       "\\begin{description*}\n",
       "\\item[WHB11420] 149\n",
       "\\item[WHB11437] 169\n",
       "\\item[WHB11438] 88\n",
       "\\item[WHB11439] 96\n",
       "\\item[WHB11687] 143\n",
       "\\end{description*}\n"
      ],
      "text/markdown": [
       "WHB11420\n",
       ":   149WHB11437\n",
       ":   169WHB11438\n",
       ":   88WHB11439\n",
       ":   96WHB11687\n",
       ":   143\n",
       "\n"
      ],
      "text/plain": [
       "WHB11420 WHB11437 WHB11438 WHB11439 WHB11687 \n",
       "     149      169       88       96      143 "
      ]
     },
     "metadata": {},
     "output_type": "display_data"
    }
   ],
   "source": [
    "care_df <- read.csv(\"data/reported_controls/raw_files/caregiver.table.s.tsv\", sep = \"\") %>%\n",
    "  rownames_to_column(\"taxa\")\n",
    "\n",
    "care_meta <- fread(\"data/reported_controls/raw_files/caregiver.meta.tsv\")\n",
    "\n",
    "controls <- care_meta %>%\n",
    "    filter(sample_category == \"blank\")\n",
    "controls <- controls$LibraryID\n",
    "\n",
    "care_df <- care_df %>% \n",
    "    select(all_of(c(\"taxa\", controls))) %>%\n",
    "    mutate(taxa = gsub(\"\\\\[|\\\\]\", \"\", taxa)) %>%\n",
    "    mutate(taxa = gsub(\"_\", \" \", taxa)) %>%\n",
    "    select(-taxa)\n",
    "\n",
    "care_df[care_df <= 100] <- 0\n",
    "care_df[care_df > 100] <- 1\n",
    "\n",
    "apply(care_df, 2, sum)"
   ]
  },
  {
   "cell_type": "markdown",
   "id": "de5bbcef",
   "metadata": {},
   "source": [
    "# Finding presence absence threshold"
   ]
  },
  {
   "cell_type": "markdown",
   "id": "ce6e0a8d",
   "metadata": {},
   "source": [
    "#### No. of assigned species per sample"
   ]
  },
  {
   "cell_type": "code",
   "execution_count": 10,
   "id": "f703ae16",
   "metadata": {},
   "outputs": [
    {
     "ename": "ERROR",
     "evalue": "Error in left_join(., rowsum_df): object 'test_prev' not found\n",
     "output_type": "error",
     "traceback": [
      "Error in left_join(., rowsum_df): object 'test_prev' not found\nTraceback:\n",
      "1. test_prev %>% left_join(rowsum_df) %>% filter(rowsums <= 100)",
      "2. filter(., rowsums <= 100)",
      "3. left_join(., rowsum_df)"
     ]
    }
   ],
   "source": [
    "test_prev %>%\n",
    "    left_join(rowsum_df) %>%\n",
    "    filter(rowsums <= 100)"
   ]
  },
  {
   "cell_type": "code",
   "execution_count": 9,
   "id": "703f7576",
   "metadata": {},
   "outputs": [
    {
     "name": "stderr",
     "output_type": "stream",
     "text": [
      "`stat_bin()` using `bins = 30`. Pick better value with `binwidth`.\n",
      "\n",
      "Warning message:\n",
      "“Removed 55 rows containing non-finite values (stat_bin).”\n"
     ]
    },
    {
     "data": {
      "image/png": "[encoded data removed]",
      "text/plain": [
       "plot without title"
      ]
     },
     "metadata": {
      "image/png": {
       "height": 420,
       "width": 420
      }
     },
     "output_type": "display_data"
    }
   ],
   "source": [
    "test_prev <- species_df %>%\n",
    "    select(-npm_research_id, -\"Homo sapiens\", -unclassified)\n",
    "\n",
    "test_prev[test_prev <= 0] <- 0\n",
    "test_prev[test_prev > 0] <- 1\n",
    "\n",
    "test_prev <- tibble(npm_research_id = species_df$npm_research_id, n_assigned = rowSums(test_prev))\n",
    "    \n",
    "test_prev %>%\n",
    "    ggplot(aes(x = log(n_assigned, base = 10))) +\n",
    "    geom_histogram() +\n",
    "    labs(x = \"No. of taxa with >= 1 read\", y = \"No. of samples\")"
   ]
  },
  {
   "cell_type": "code",
   "execution_count": 1,
   "id": "d61fb3c1",
   "metadata": {},
   "outputs": [
    {
     "ename": "ERROR",
     "evalue": "Error in test_prev %>% left_join(rowsum_df) %>% ggplot(aes(x = rowsums, : could not find function \"%>%\"\n",
     "output_type": "error",
     "traceback": [
      "Error in test_prev %>% left_join(rowsum_df) %>% ggplot(aes(x = rowsums, : could not find function \"%>%\"\nTraceback:\n"
     ]
    }
   ],
   "source": [
    "test_prev %>%\n",
    "    left_join(rowsum_df) %>%\n",
    "#     mutate(n_assigned = 10 ^ n_assigned) %>%\n",
    "    ggplot(aes(x = rowsums, y = n_assigned)) +\n",
    "    geom_point()"
   ]
  },
  {
   "cell_type": "markdown",
   "id": "b51599c9",
   "metadata": {},
   "source": [
    "### 10 species simulation (no human)"
   ]
  },
  {
   "cell_type": "code",
   "execution_count": 11,
   "id": "87882423",
   "metadata": {},
   "outputs": [],
   "source": [
    "tp <- c(\"Yersinia enterocolitica\", \"Leclercia adecarboxylata\", \"Moraxella osloensis\", \n",
    "        \"Pasteurella multocida\", \"Streptococcus pneumoniae\", \"Streptococcus agalactiae\", \n",
    "        \"Actinomyces viscosus\", \"Staphylococcus epidermidis\", \"Torque teno virus\", \n",
    "        \"Human betaherpesvirus 6A\")"
   ]
  },
  {
   "cell_type": "code",
   "execution_count": 12,
   "id": "6b18af4e",
   "metadata": {},
   "outputs": [],
   "source": [
    "otu_to_RA <- function(df) {\n",
    "    row_names <- df$sample\n",
    "    RA_df <- t(apply(df %>% select(-sample, -unclassified), 1, function(x) {x / sum(x)}))\n",
    "    \n",
    "    return(cbind(data.frame(sample = row_names), as.data.frame(RA_df, check.names = F)))\n",
    "}\n",
    "\n",
    "parse_df <- function(sim_df) {\n",
    "    parsed_sim <- sim_df %>% \n",
    "        pivot_longer(!sample, names_to = \"taxa\", values_to = \"read_count\") %>%\n",
    "        filter(read_count != 0) %>%\n",
    "        mutate(classification = case_when(taxa == \"unclassified\" ~ \"Unclassified\", \n",
    "                                          taxa %in% tp ~ \"TP\", \n",
    "                                          TRUE ~ \"FP\"),\n",
    "               sample = gsub(\"simulated.\", \"\", sample)) %>%\n",
    "        arrange(desc(classification))\n",
    "\n",
    "    parsed_sim <- parsed_sim %>% mutate(taxa = factor(taxa, levels = unique(parsed_sim$taxa)))\n",
    "}"
   ]
  },
  {
   "cell_type": "code",
   "execution_count": 13,
   "id": "c8c01ce6",
   "metadata": {
    "scrolled": true
   },
   "outputs": [],
   "source": [
    "sim_df <- fread(\"data/simulation_out/07_abundance_matrix/abundance_matrix.subset_.S.tsv\")\n",
    "sim_RA <- otu_to_RA(sim_df)\n",
    "\n",
    "parsed_sim <- parse_df(sim_df)\n",
    "parsed_sim_RA <- parse_df(sim_RA)"
   ]
  },
  {
   "cell_type": "code",
   "execution_count": 21,
   "id": "c86f28f1",
   "metadata": {},
   "outputs": [
    {
     "data": {
      "text/html": [
       "<table class=\"dataframe\">\n",
       "<caption>A tibble: 13 × 4</caption>\n",
       "<thead>\n",
       "\t<tr><th scope=col>sample</th><th scope=col>taxa</th><th scope=col>read_count</th><th scope=col>classification</th></tr>\n",
       "\t<tr><th scope=col>&lt;chr&gt;</th><th scope=col>&lt;fct&gt;</th><th scope=col>&lt;dbl&gt;</th><th scope=col>&lt;chr&gt;</th></tr>\n",
       "</thead>\n",
       "<tbody>\n",
       "\t<tr><td>10e-6</td><td>unclassified                  </td><td> 2</td><td>Unclassified</td></tr>\n",
       "\t<tr><td>10e-6</td><td>Leclercia adecarboxylata      </td><td>15</td><td>TP          </td></tr>\n",
       "\t<tr><td>10e-6</td><td>Yersinia enterocolitica       </td><td>16</td><td>TP          </td></tr>\n",
       "\t<tr><td>10e-6</td><td>Moraxella osloensis           </td><td>18</td><td>TP          </td></tr>\n",
       "\t<tr><td>10e-6</td><td>Pasteurella multocida         </td><td>18</td><td>TP          </td></tr>\n",
       "\t<tr><td>10e-6</td><td>Streptococcus pneumoniae      </td><td>16</td><td>TP          </td></tr>\n",
       "\t<tr><td>10e-6</td><td>Streptococcus agalactiae      </td><td> 3</td><td>TP          </td></tr>\n",
       "\t<tr><td>10e-6</td><td>Staphylococcus epidermidis    </td><td>15</td><td>TP          </td></tr>\n",
       "\t<tr><td>10e-6</td><td>Actinomyces viscosus          </td><td>18</td><td>TP          </td></tr>\n",
       "\t<tr><td>10e-6</td><td>Torque teno virus             </td><td>18</td><td>TP          </td></tr>\n",
       "\t<tr><td>10e-6</td><td>Human betaherpesvirus 6A      </td><td>18</td><td>TP          </td></tr>\n",
       "\t<tr><td>10e-6</td><td>Streptococcus sp. FDAARGOS_522</td><td> 1</td><td>FP          </td></tr>\n",
       "\t<tr><td>10e-6</td><td>Staphylococcus hominis        </td><td> 1</td><td>FP          </td></tr>\n",
       "</tbody>\n",
       "</table>\n"
      ],
      "text/latex": [
       "A tibble: 13 × 4\n",
       "\\begin{tabular}{llll}\n",
       " sample & taxa & read\\_count & classification\\\\\n",
       " <chr> & <fct> & <dbl> & <chr>\\\\\n",
       "\\hline\n",
       "\t 10e-6 & unclassified                   &  2 & Unclassified\\\\\n",
       "\t 10e-6 & Leclercia adecarboxylata       & 15 & TP          \\\\\n",
       "\t 10e-6 & Yersinia enterocolitica        & 16 & TP          \\\\\n",
       "\t 10e-6 & Moraxella osloensis            & 18 & TP          \\\\\n",
       "\t 10e-6 & Pasteurella multocida          & 18 & TP          \\\\\n",
       "\t 10e-6 & Streptococcus pneumoniae       & 16 & TP          \\\\\n",
       "\t 10e-6 & Streptococcus agalactiae       &  3 & TP          \\\\\n",
       "\t 10e-6 & Staphylococcus epidermidis     & 15 & TP          \\\\\n",
       "\t 10e-6 & Actinomyces viscosus           & 18 & TP          \\\\\n",
       "\t 10e-6 & Torque teno virus              & 18 & TP          \\\\\n",
       "\t 10e-6 & Human betaherpesvirus 6A       & 18 & TP          \\\\\n",
       "\t 10e-6 & Streptococcus sp. FDAARGOS\\_522 &  1 & FP          \\\\\n",
       "\t 10e-6 & Staphylococcus hominis         &  1 & FP          \\\\\n",
       "\\end{tabular}\n"
      ],
      "text/markdown": [
       "\n",
       "A tibble: 13 × 4\n",
       "\n",
       "| sample &lt;chr&gt; | taxa &lt;fct&gt; | read_count &lt;dbl&gt; | classification &lt;chr&gt; |\n",
       "|---|---|---|---|\n",
       "| 10e-6 | unclassified                   |  2 | Unclassified |\n",
       "| 10e-6 | Leclercia adecarboxylata       | 15 | TP           |\n",
       "| 10e-6 | Yersinia enterocolitica        | 16 | TP           |\n",
       "| 10e-6 | Moraxella osloensis            | 18 | TP           |\n",
       "| 10e-6 | Pasteurella multocida          | 18 | TP           |\n",
       "| 10e-6 | Streptococcus pneumoniae       | 16 | TP           |\n",
       "| 10e-6 | Streptococcus agalactiae       |  3 | TP           |\n",
       "| 10e-6 | Staphylococcus epidermidis     | 15 | TP           |\n",
       "| 10e-6 | Actinomyces viscosus           | 18 | TP           |\n",
       "| 10e-6 | Torque teno virus              | 18 | TP           |\n",
       "| 10e-6 | Human betaherpesvirus 6A       | 18 | TP           |\n",
       "| 10e-6 | Streptococcus sp. FDAARGOS_522 |  1 | FP           |\n",
       "| 10e-6 | Staphylococcus hominis         |  1 | FP           |\n",
       "\n"
      ],
      "text/plain": [
       "   sample taxa                           read_count classification\n",
       "1  10e-6  unclassified                    2         Unclassified  \n",
       "2  10e-6  Leclercia adecarboxylata       15         TP            \n",
       "3  10e-6  Yersinia enterocolitica        16         TP            \n",
       "4  10e-6  Moraxella osloensis            18         TP            \n",
       "5  10e-6  Pasteurella multocida          18         TP            \n",
       "6  10e-6  Streptococcus pneumoniae       16         TP            \n",
       "7  10e-6  Streptococcus agalactiae        3         TP            \n",
       "8  10e-6  Staphylococcus epidermidis     15         TP            \n",
       "9  10e-6  Actinomyces viscosus           18         TP            \n",
       "10 10e-6  Torque teno virus              18         TP            \n",
       "11 10e-6  Human betaherpesvirus 6A       18         TP            \n",
       "12 10e-6  Streptococcus sp. FDAARGOS_522  1         FP            \n",
       "13 10e-6  Staphylococcus hominis          1         FP            "
      ]
     },
     "metadata": {},
     "output_type": "display_data"
    }
   ],
   "source": [
    "parsed_sim %>%\n",
    "    filter(sample == \"10e-6\")"
   ]
  },
  {
   "cell_type": "markdown",
   "id": "334cf9ff",
   "metadata": {},
   "source": [
    "#### No. of assigned species per sample"
   ]
  },
  {
   "cell_type": "code",
   "execution_count": 14,
   "id": "f108543a",
   "metadata": {},
   "outputs": [
    {
     "data": {
      "text/html": [
       "<table class=\"dataframe\">\n",
       "<caption>A tibble: 4 × 2</caption>\n",
       "<thead>\n",
       "\t<tr><th scope=col>sample</th><th scope=col>rowsums</th></tr>\n",
       "\t<tr><th scope=col>&lt;chr&gt;</th><th scope=col>&lt;dbl&gt;</th></tr>\n",
       "</thead>\n",
       "<tbody>\n",
       "\t<tr><td>simulated.10e-4</td><td> 15921</td></tr>\n",
       "\t<tr><td>simulated.10e-5</td><td>  1591</td></tr>\n",
       "\t<tr><td>simulated.10e-6</td><td>   157</td></tr>\n",
       "\t<tr><td>simulated.10e-3</td><td>159268</td></tr>\n",
       "</tbody>\n",
       "</table>\n"
      ],
      "text/latex": [
       "A tibble: 4 × 2\n",
       "\\begin{tabular}{ll}\n",
       " sample & rowsums\\\\\n",
       " <chr> & <dbl>\\\\\n",
       "\\hline\n",
       "\t simulated.10e-4 &  15921\\\\\n",
       "\t simulated.10e-5 &   1591\\\\\n",
       "\t simulated.10e-6 &    157\\\\\n",
       "\t simulated.10e-3 & 159268\\\\\n",
       "\\end{tabular}\n"
      ],
      "text/markdown": [
       "\n",
       "A tibble: 4 × 2\n",
       "\n",
       "| sample &lt;chr&gt; | rowsums &lt;dbl&gt; |\n",
       "|---|---|\n",
       "| simulated.10e-4 |  15921 |\n",
       "| simulated.10e-5 |   1591 |\n",
       "| simulated.10e-6 |    157 |\n",
       "| simulated.10e-3 | 159268 |\n",
       "\n"
      ],
      "text/plain": [
       "  sample          rowsums\n",
       "1 simulated.10e-4  15921 \n",
       "2 simulated.10e-5   1591 \n",
       "3 simulated.10e-6    157 \n",
       "4 simulated.10e-3 159268 "
      ]
     },
     "metadata": {},
     "output_type": "display_data"
    },
    {
     "name": "stderr",
     "output_type": "stream",
     "text": [
      "Joining, by = \"sample\"\n",
      "\n"
     ]
    },
    {
     "data": {
      "image/png": "[encoded data removed]",
      "text/plain": [
       "plot without title"
      ]
     },
     "metadata": {
      "image/png": {
       "height": 420,
       "width": 420
      }
     },
     "output_type": "display_data"
    }
   ],
   "source": [
    "micro_sim <- sim_df %>% select(-sample, -unclassified, -\"Homo sapiens\")\n",
    "rowsum_sim <- tibble(sample = sim_df$sample, rowsums = rowSums(micro_sim))\n",
    "\n",
    "rowsum_sim\n",
    "\n",
    "\n",
    "sim_prev <- sim_df %>%\n",
    "    select(-sample, -\"Homo sapiens\", -unclassified)\n",
    "\n",
    "sim_prev[sim_prev <= 0] <- 0\n",
    "sim_prev[sim_prev > 0] <- 1\n",
    "\n",
    "sim_prev <- tibble(sample = sim_df$sample, n_assigned = rowSums(sim_prev))\n",
    "    \n",
    "sim_prev %>%\n",
    "    left_join(rowsum_sim) %>%\n",
    "    ggplot(aes(x = rowsums, y = n_assigned)) +\n",
    "    geom_point() \n",
    "\n",
    "v"
   ]
  },
  {
   "cell_type": "markdown",
   "id": "3239823b",
   "metadata": {},
   "source": [
    "#### Distribution of read counts for FP/TP"
   ]
  },
  {
   "cell_type": "code",
   "execution_count": 14,
   "id": "e902a08d",
   "metadata": {},
   "outputs": [
    {
     "data": {
      "text/html": [
       "<table class=\"dataframe\">\n",
       "<caption>A tibble: 4 × 2</caption>\n",
       "<thead>\n",
       "\t<tr><th scope=col>sample</th><th scope=col>rowsums</th></tr>\n",
       "\t<tr><th scope=col>&lt;chr&gt;</th><th scope=col>&lt;dbl&gt;</th></tr>\n",
       "</thead>\n",
       "<tbody>\n",
       "\t<tr><td>simulated.10e-4</td><td> 15921</td></tr>\n",
       "\t<tr><td>simulated.10e-5</td><td>  1591</td></tr>\n",
       "\t<tr><td>simulated.10e-6</td><td>   157</td></tr>\n",
       "\t<tr><td>simulated.10e-3</td><td>159268</td></tr>\n",
       "</tbody>\n",
       "</table>\n"
      ],
      "text/latex": [
       "A tibble: 4 × 2\n",
       "\\begin{tabular}{ll}\n",
       " sample & rowsums\\\\\n",
       " <chr> & <dbl>\\\\\n",
       "\\hline\n",
       "\t simulated.10e-4 &  15921\\\\\n",
       "\t simulated.10e-5 &   1591\\\\\n",
       "\t simulated.10e-6 &    157\\\\\n",
       "\t simulated.10e-3 & 159268\\\\\n",
       "\\end{tabular}\n"
      ],
      "text/markdown": [
       "\n",
       "A tibble: 4 × 2\n",
       "\n",
       "| sample &lt;chr&gt; | rowsums &lt;dbl&gt; |\n",
       "|---|---|\n",
       "| simulated.10e-4 |  15921 |\n",
       "| simulated.10e-5 |   1591 |\n",
       "| simulated.10e-6 |    157 |\n",
       "| simulated.10e-3 | 159268 |\n",
       "\n"
      ],
      "text/plain": [
       "  sample          rowsums\n",
       "1 simulated.10e-4  15921 \n",
       "2 simulated.10e-5   1591 \n",
       "3 simulated.10e-6    157 \n",
       "4 simulated.10e-3 159268 "
      ]
     },
     "metadata": {},
     "output_type": "display_data"
    },
    {
     "name": "stderr",
     "output_type": "stream",
     "text": [
      "Joining, by = \"sample\"\n",
      "\n"
     ]
    },
    {
     "data": {
      "image/png": "[encoded data removed]",
      "text/plain": [
       "plot without title"
      ]
     },
     "metadata": {
      "image/png": {
       "height": 420,
       "width": 420
      }
     },
     "output_type": "display_data"
    }
   ],
   "source": [
    "micro_sim <- sim_df %>% select(-sample, -unclassified, -\"Homo sapiens\")\n",
    "rowsum_sim <- tibble(sample = sim_df$sample, rowsums = rowSums(micro_sim))\n",
    "\n",
    "rowsum_sim\n",
    "\n",
    "\n",
    "sim_prev <- sim_df %>%\n",
    "    select(-sample, -\"Homo sapiens\", -unclassified)\n",
    "\n",
    "sim_prev[sim_prev <= 0] <- 0\n",
    "sim_prev[sim_prev > 0] <- 1\n",
    "\n",
    "sim_prev <- tibble(sample = sim_df$sample, n_assigned = rowSums(sim_prev))\n",
    "    \n",
    "sim_prev %>%\n",
    "    left_join(rowsum_sim) %>%\n",
    "    ggplot(aes(x = rowsums, y = n_assigned)) +\n",
    "    geom_point() \n",
    "\n"
   ]
  },
  {
   "cell_type": "code",
   "execution_count": 67,
   "id": "9ff560e4",
   "metadata": {},
   "outputs": [
    {
     "data": {
      "image/png": "[encoded data removed]",
      "text/plain": [
       "plot without title"
      ]
     },
     "metadata": {
      "image/png": {
       "height": 420,
       "width": 420
      }
     },
     "output_type": "display_data"
    }
   ],
   "source": [
    "PA_threshold <- 0.01\n",
    "read_plt <- parsed_sim %>%\n",
    "    filter(classification != \"Unclassified\") %>%\n",
    "    ggplot(aes(x = read_count, fill = classification)) +\n",
    "    theme_bw() +\n",
    "    geom_histogram(bins = 100) +\n",
    "    facet_grid(rows = vars(sample)) +\n",
    "    labs(x = \"Reads assigned\", y = \"No. of taxa\", fill = \"Classification\")\n",
    "RA_plt <- parsed_sim_RA %>% \n",
    "    ggplot(aes(x = read_count, fill = classification)) +\n",
    "    theme_bw() +\n",
    "    geom_histogram(bins = 100) +\n",
    "    facet_grid(rows = vars(sample)) +\n",
    "    labs(x = \"Relative abundance\", y = \"No. of taxa\", fill = \"Classification\") +\n",
    "    geom_vline(xintercept = PA_threshold, color = \"black\", linetype = \"dotted\")\n",
    "\n",
    "combined <- ggpubr::ggarrange(read_plt, RA_plt, ncol = 2, common.legend = T)\n",
    "combined\n",
    "ggsave(\"results/simulations/abundance_distribution_fp_tp.png\", dpi = 300, plot = combined, width = 7, height = 4)"
   ]
  },
  {
   "cell_type": "code",
   "execution_count": 19,
   "id": "121e6639",
   "metadata": {},
   "outputs": [
    {
     "data": {
      "text/html": [
       "<table class=\"dataframe\">\n",
       "<caption>A tibble: 4 × 4</caption>\n",
       "<thead>\n",
       "\t<tr><th scope=col>sample</th><th scope=col>taxa</th><th scope=col>read_count</th><th scope=col>classification</th></tr>\n",
       "\t<tr><th scope=col>&lt;chr&gt;</th><th scope=col>&lt;fct&gt;</th><th scope=col>&lt;dbl&gt;</th><th scope=col>&lt;chr&gt;</th></tr>\n",
       "</thead>\n",
       "<tbody>\n",
       "\t<tr><td>10e-4</td><td>Streptococcus agalactiae</td><td>0.009669722</td><td>TP</td></tr>\n",
       "\t<tr><td>10e-5</td><td>Streptococcus agalactiae</td><td>0.010056568</td><td>TP</td></tr>\n",
       "\t<tr><td>10e-6</td><td>Streptococcus agalactiae</td><td>0.019108280</td><td>TP</td></tr>\n",
       "\t<tr><td>10e-3</td><td>Streptococcus agalactiae</td><td>0.009754260</td><td>TP</td></tr>\n",
       "</tbody>\n",
       "</table>\n"
      ],
      "text/latex": [
       "A tibble: 4 × 4\n",
       "\\begin{tabular}{llll}\n",
       " sample & taxa & read\\_count & classification\\\\\n",
       " <chr> & <fct> & <dbl> & <chr>\\\\\n",
       "\\hline\n",
       "\t 10e-4 & Streptococcus agalactiae & 0.009669722 & TP\\\\\n",
       "\t 10e-5 & Streptococcus agalactiae & 0.010056568 & TP\\\\\n",
       "\t 10e-6 & Streptococcus agalactiae & 0.019108280 & TP\\\\\n",
       "\t 10e-3 & Streptococcus agalactiae & 0.009754260 & TP\\\\\n",
       "\\end{tabular}\n"
      ],
      "text/markdown": [
       "\n",
       "A tibble: 4 × 4\n",
       "\n",
       "| sample &lt;chr&gt; | taxa &lt;fct&gt; | read_count &lt;dbl&gt; | classification &lt;chr&gt; |\n",
       "|---|---|---|---|\n",
       "| 10e-4 | Streptococcus agalactiae | 0.009669722 | TP |\n",
       "| 10e-5 | Streptococcus agalactiae | 0.010056568 | TP |\n",
       "| 10e-6 | Streptococcus agalactiae | 0.019108280 | TP |\n",
       "| 10e-3 | Streptococcus agalactiae | 0.009754260 | TP |\n",
       "\n"
      ],
      "text/plain": [
       "  sample taxa                     read_count  classification\n",
       "1 10e-4  Streptococcus agalactiae 0.009669722 TP            \n",
       "2 10e-5  Streptococcus agalactiae 0.010056568 TP            \n",
       "3 10e-6  Streptococcus agalactiae 0.019108280 TP            \n",
       "4 10e-3  Streptococcus agalactiae 0.009754260 TP            "
      ]
     },
     "metadata": {},
     "output_type": "display_data"
    }
   ],
   "source": [
    "parsed_sim_RA %>%\n",
    "    filter(read_count < 0.05, classification == \"TP\")"
   ]
  },
  {
   "cell_type": "markdown",
   "id": "d6822e0b",
   "metadata": {},
   "source": [
    "### Read counts for each microbial depth"
   ]
  },
  {
   "cell_type": "code",
   "execution_count": 20,
   "id": "819a290e",
   "metadata": {},
   "outputs": [],
   "source": [
    "plots <- foreach(sim_run = c(\"simulated.10e-3\", \"simulated.10e-4\", \"simulated.10e-5\", \"simulated.10e-6\")) %do% {\n",
    "    parsed_sim %>%\n",
    "        filter(sample == sim_run) %>%\n",
    "        ggplot(aes(x = taxa, y = read_count, fill = classification)) +\n",
    "        geom_bar(stat = \"identity\") +\n",
    "        labs(x = \"Taxa\", y = \"Reads assigned\", fill = \"Taxon classification\") +\n",
    "        theme(axis.text.x = element_text(angle = 45, hjust = 1)) +\n",
    "        facet_grid(cols = vars(sample))\n",
    "}"
   ]
  },
  {
   "cell_type": "code",
   "execution_count": 21,
   "id": "dc83899c",
   "metadata": {
    "scrolled": true
   },
   "outputs": [
    {
     "name": "stderr",
     "output_type": "stream",
     "text": [
      "ERROR while rich displaying an object: Error: Faceting variables must have at least one value\n",
      "\n",
      "Traceback:\n",
      "1. FUN(X[[i]], ...)\n",
      "2. tryCatch(withCallingHandlers({\n",
      " .     if (!mime %in% names(repr::mime2repr)) \n",
      " .         stop(\"No repr_* for mimetype \", mime, \" in repr::mime2repr\")\n",
      " .     rpr <- repr::mime2repr[[mime]](obj)\n",
      " .     if (is.null(rpr)) \n",
      " .         return(NULL)\n",
      " .     prepare_content(is.raw(rpr), rpr)\n",
      " . }, error = error_handler), error = outer_handler)\n",
      "3. tryCatchList(expr, classes, parentenv, handlers)\n",
      "4. tryCatchOne(expr, names, parentenv, handlers[[1L]])\n",
      "5. doTryCatch(return(expr), name, parentenv, handler)\n",
      "6. withCallingHandlers({\n",
      " .     if (!mime %in% names(repr::mime2repr)) \n",
      " .         stop(\"No repr_* for mimetype \", mime, \" in repr::mime2repr\")\n",
      " .     rpr <- repr::mime2repr[[mime]](obj)\n",
      " .     if (is.null(rpr)) \n",
      " .         return(NULL)\n",
      " .     prepare_content(is.raw(rpr), rpr)\n",
      " . }, error = error_handler)\n",
      "7. repr::mime2repr[[mime]](obj)\n",
      "8. repr_text.default(obj)\n",
      "9. paste(capture.output(print(obj)), collapse = \"\\n\")\n",
      "10. capture.output(print(obj))\n",
      "11. withVisible(...elt(i))\n",
      "12. print(obj)\n",
      "13. print.default(obj)\n",
      "14. (function (x, ...) \n",
      "  . UseMethod(\"print\"))(x)\n",
      "15. print.ggplot(x)\n",
      "16. ggplot_build(x)\n",
      "17. ggplot_build.ggplot(x)\n",
      "18. layout$setup(data, plot$data, plot$plot_env)\n",
      "19. f(..., self = self)\n",
      "20. self$facet$compute_layout(data, self$facet_params)\n",
      "21. f(...)\n",
      "22. combine_vars(data, params$plot_env, cols, drop = params$drop)\n",
      "23. abort(\"Faceting variables must have at least one value\")\n",
      "24. signal_abort(cnd)\n"
     ]
    },
    {
     "data": {
      "image/png": "[encoded data removed]",
      "text/plain": [
       "plot without title"
      ]
     },
     "metadata": {
      "image/png": {
       "height": 420,
       "width": 420
      }
     },
     "output_type": "display_data"
    }
   ],
   "source": [
    "plots"
   ]
  }
 ],
 "metadata": {
  "kernelspec": {
   "display_name": "R",
   "language": "R",
   "name": "ir"
  },
  "language_info": {
   "codemirror_mode": "r",
   "file_extension": ".r",
   "mimetype": "text/x-r-source",
   "name": "R",
   "pygments_lexer": "r",
   "version": "4.1.0"
  }
 },
 "nbformat": 4,
 "nbformat_minor": 5
}
