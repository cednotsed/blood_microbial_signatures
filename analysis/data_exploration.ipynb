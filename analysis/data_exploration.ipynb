{
 "cells": [
  {
   "cell_type": "markdown",
   "id": "f799b42b",
   "metadata": {},
   "source": [
    "# Miscellaneous visualiations"
   ]
  },
  {
   "cell_type": "code",
   "execution_count": 1,
   "id": "bc15bd3e",
   "metadata": {
    "scrolled": true
   },
   "outputs": [
    {
     "name": "stderr",
     "output_type": "stream",
     "text": [
      "Loading required package: tidyverse\n",
      "\n",
      "Warning message in system(\"timedatectl\", intern = TRUE):\n",
      "“running command 'timedatectl' had status 1”\n",
      "── \u001b[1mAttaching packages\u001b[22m ─────────────────────────────────────────────────────────────────────────────── tidyverse 1.3.1 ──\n",
      "\n",
      "\u001b[32m✔\u001b[39m \u001b[34mggplot2\u001b[39m 3.3.5     \u001b[32m✔\u001b[39m \u001b[34mpurrr  \u001b[39m 0.3.4\n",
      "\u001b[32m✔\u001b[39m \u001b[34mtibble \u001b[39m 3.1.6     \u001b[32m✔\u001b[39m \u001b[34mdplyr  \u001b[39m 1.0.7\n",
      "\u001b[32m✔\u001b[39m \u001b[34mtidyr  \u001b[39m 1.1.4     \u001b[32m✔\u001b[39m \u001b[34mstringr\u001b[39m 1.4.0\n",
      "\u001b[32m✔\u001b[39m \u001b[34mreadr  \u001b[39m 2.1.0     \u001b[32m✔\u001b[39m \u001b[34mforcats\u001b[39m 0.5.1\n",
      "\n",
      "── \u001b[1mConflicts\u001b[22m ────────────────────────────────────────────────────────────────────────────────── tidyverse_conflicts() ──\n",
      "\u001b[31m✖\u001b[39m \u001b[34mdplyr\u001b[39m::\u001b[32mfilter()\u001b[39m masks \u001b[34mstats\u001b[39m::filter()\n",
      "\u001b[31m✖\u001b[39m \u001b[34mdplyr\u001b[39m::\u001b[32mlag()\u001b[39m    masks \u001b[34mstats\u001b[39m::lag()\n",
      "\n",
      "Loading required package: data.table\n",
      "\n",
      "\n",
      "Attaching package: ‘data.table’\n",
      "\n",
      "\n",
      "The following objects are masked from ‘package:dplyr’:\n",
      "\n",
      "    between, first, last\n",
      "\n",
      "\n",
      "The following object is masked from ‘package:purrr’:\n",
      "\n",
      "    transpose\n",
      "\n",
      "\n",
      "Loading required package: egg\n",
      "\n",
      "Loading required package: gridExtra\n",
      "\n",
      "\n",
      "Attaching package: ‘gridExtra’\n",
      "\n",
      "\n",
      "The following object is masked from ‘package:dplyr’:\n",
      "\n",
      "    combine\n",
      "\n",
      "\n",
      "Loading required package: foreach\n",
      "\n",
      "\n",
      "Attaching package: ‘foreach’\n",
      "\n",
      "\n",
      "The following objects are masked from ‘package:purrr’:\n",
      "\n",
      "    accumulate, when\n",
      "\n",
      "\n",
      "Loading required package: doParallel\n",
      "\n",
      "Loading required package: iterators\n",
      "\n",
      "Loading required package: parallel\n",
      "\n",
      "Loading required package: ggforce\n",
      "\n",
      "Loading required package: ggrepel\n",
      "\n",
      "Loading required package: scales\n",
      "\n",
      "\n",
      "Attaching package: ‘scales’\n",
      "\n",
      "\n",
      "The following object is masked from ‘package:purrr’:\n",
      "\n",
      "    discard\n",
      "\n",
      "\n",
      "The following object is masked from ‘package:readr’:\n",
      "\n",
      "    col_factor\n",
      "\n",
      "\n"
     ]
    }
   ],
   "source": [
    "setwd(\"/mnt/c/Users/Cedric/Desktop/git_repos/blood_microbiome\")\n",
    "require(tidyverse)\n",
    "require(ggplot2)\n",
    "require(data.table)\n",
    "require(egg)\n",
    "require(foreach)\n",
    "require(doParallel)\n",
    "require(ggforce)\n",
    "require(ggrepel)\n",
    "require(scales)\n",
    "# registerDoParallel(cores=8)"
   ]
  },
  {
   "cell_type": "markdown",
   "id": "8dc148ee",
   "metadata": {},
   "source": [
    "## Functions for data parsing"
   ]
  },
  {
   "cell_type": "code",
   "execution_count": 2,
   "id": "9d77d78f",
   "metadata": {
    "scrolled": false
   },
   "outputs": [],
   "source": [
    "load_data <- function(file_path) {\n",
    "    df <- fread(file_path) %>%\n",
    "        separate(sample, into = c(NA, \"npm_research_id\"), sep = \"\\\\.\") %>%\n",
    "        as_tibble()\n",
    "    return(df)\n",
    "}\n",
    "\n",
    "\n",
    "get_meta_cols <- function(meta) {\n",
    "    meta_cols <- colnames(meta)[grep(\"kit|flow_cell|instrument_id|site_supplying\", colnames(meta))]\n",
    "    to_exclude <- c(\"library_prep_kit\", \"hiseq_xtm_flow_cell_v2_5_id\")\n",
    "    meta_cols <- meta_cols[!(meta_cols %in% to_exclude)]\n",
    "    return(meta_cols)\n",
    "}\n",
    "\n",
    "\n",
    "otu_to_RA <- function(df) {\n",
    "    mat <- as.matrix(df[, colnames(df) != \"npm_research_id\"])\n",
    "    RA_df <- as.data.frame(mat / rowSums(mat))\n",
    "    RA_df <- add_column(RA_df, df$npm_research_id, .before = 1)\n",
    "    colnames(RA_df)[1] <- \"npm_research_id\"\n",
    "    \n",
    "    return(RA_df)\n",
    "}\n",
    "\n",
    "get_meta_cols <- function(meta) {\n",
    "    meta_cols <- colnames(meta)[grep(\"kit|flow_cell|instrument_id|site_supplying\", colnames(meta))]\n",
    "    to_exclude <- c(\"library_prep_kit\", \"hiseq_xtm_flow_cell_v2_5_id\")\n",
    "    meta_cols <- meta_cols[!(meta_cols %in% to_exclude)]\n",
    "    return(meta_cols)\n",
    "}\n"
   ]
  },
  {
   "cell_type": "markdown",
   "id": "63d232c4",
   "metadata": {},
   "source": [
    "### Load data"
   ]
  },
  {
   "cell_type": "code",
   "execution_count": 3,
   "id": "5fab1739",
   "metadata": {},
   "outputs": [],
   "source": [
    "species_df <- load_data(str_glue(\"data/taxonomic_profiles/07_abundance_matrix/abundance_matrix.S.pipeline2_210322.tsv\"))\n",
    "# species_old <- load_data(str_glue(\"data/taxonomic_profiles/07_abundance_matrix/abundance_matrix.S.old.tsv\"))\n",
    "\n",
    "meta <- fread(\"data/SG10K_Health_metadata.n10714.16March2021.parsed.csv\")\n",
    "meta_cols <- get_meta_cols(meta)"
   ]
  },
  {
   "cell_type": "markdown",
   "id": "46b8fe95",
   "metadata": {},
   "source": [
    "## Remove low read samples"
   ]
  },
  {
   "cell_type": "markdown",
   "id": "d6fa62ca",
   "metadata": {},
   "source": [
    "#### Get total no. of assigned microbial reads"
   ]
  },
  {
   "cell_type": "code",
   "execution_count": 4,
   "id": "93353282",
   "metadata": {
    "scrolled": true
   },
   "outputs": [
    {
     "name": "stderr",
     "output_type": "stream",
     "text": [
      "Joining, by = \"npm_research_id\"\n"
     ]
    }
   ],
   "source": [
    "micro_df <- species_df %>% select(-npm_research_id, -unclassified, -\"Homo sapiens\")\n",
    "rowsum_df <- tibble(npm_research_id = species_df$npm_research_id, rowsums = rowSums(micro_df))\n",
    "rowsum_df <- rowsum_df %>%\n",
    "    left_join(meta) %>%\n",
    "    mutate(microbe_frac = (rowsums * 2) / raw_total_sequences, .before = 2)\n"
   ]
  },
  {
   "cell_type": "code",
   "execution_count": 5,
   "id": "487796d7",
   "metadata": {},
   "outputs": [],
   "source": [
    "to_keep <- rowsum_df %>% \n",
    "    filter(rowsums >= 100) %>%\n",
    "    select(npm_research_id)\n",
    "fwrite(to_keep, \"data/samples_above_100_microbial_reads.txt\")\n",
    "\n",
    "species_filt <- species_df %>% filter(npm_research_id %in% to_keep$npm_research_id)"
   ]
  },
  {
   "cell_type": "code",
   "execution_count": 6,
   "id": "ef54917c",
   "metadata": {},
   "outputs": [
    {
     "name": "stderr",
     "output_type": "stream",
     "text": [
      "Warning message:\n",
      "“Removed 2 rows containing non-finite values (stat_boxplot).”\n"
     ]
    },
    {
     "data": {
      "image/png": "[encoded data removed]",
      "text/plain": [
       "plot without title"
      ]
     },
     "metadata": {
      "image/png": {
       "height": 420,
       "width": 420
      }
     },
     "output_type": "display_data"
    }
   ],
   "source": [
    "rowsum_df %>% \n",
    "    ggplot(aes(x = site_supplying_sample, y = log(rowsums, base = 10), fill = site_supplying_sample)) +\n",
    "    geom_boxplot()"
   ]
  },
  {
   "cell_type": "markdown",
   "id": "4ff1e917",
   "metadata": {},
   "source": [
    "## Kraken2 database representation"
   ]
  },
  {
   "cell_type": "code",
   "execution_count": 7,
   "id": "09f0cd52",
   "metadata": {},
   "outputs": [
    {
     "data": {
      "text/html": [
       "<table class=\"dataframe\">\n",
       "<caption>A data.table: 6 × 3</caption>\n",
       "<thead>\n",
       "\t<tr><th scope=col>n_map_taxon</th><th scope=col>taxa</th><th scope=col>org_group</th></tr>\n",
       "\t<tr><th scope=col>&lt;int&gt;</th><th scope=col>&lt;chr&gt;</th><th scope=col>&lt;chr&gt;</th></tr>\n",
       "</thead>\n",
       "<tbody>\n",
       "\t<tr><td>1666260</td><td>Pseudomonas sp. StFLB209</td><td>Bacteria</td></tr>\n",
       "\t<tr><td>1549558</td><td>Pseudomonas sp. TUM18999</td><td>Bacteria</td></tr>\n",
       "\t<tr><td>1499949</td><td>Pseudomonas sp. DG56-2  </td><td>Bacteria</td></tr>\n",
       "\t<tr><td>1468437</td><td>Pseudomonas sp. M30-35  </td><td>Bacteria</td></tr>\n",
       "\t<tr><td>1438409</td><td>Pseudomonas sp. TCU-HL1 </td><td>Bacteria</td></tr>\n",
       "\t<tr><td>1414165</td><td>Pseudomonas sp. DY-1    </td><td>Bacteria</td></tr>\n",
       "</tbody>\n",
       "</table>\n"
      ],
      "text/latex": [
       "A data.table: 6 × 3\n",
       "\\begin{tabular}{lll}\n",
       " n\\_map\\_taxon & taxa & org\\_group\\\\\n",
       " <int> & <chr> & <chr>\\\\\n",
       "\\hline\n",
       "\t 1666260 & Pseudomonas sp. StFLB209 & Bacteria\\\\\n",
       "\t 1549558 & Pseudomonas sp. TUM18999 & Bacteria\\\\\n",
       "\t 1499949 & Pseudomonas sp. DG56-2   & Bacteria\\\\\n",
       "\t 1468437 & Pseudomonas sp. M30-35   & Bacteria\\\\\n",
       "\t 1438409 & Pseudomonas sp. TCU-HL1  & Bacteria\\\\\n",
       "\t 1414165 & Pseudomonas sp. DY-1     & Bacteria\\\\\n",
       "\\end{tabular}\n"
      ],
      "text/markdown": [
       "\n",
       "A data.table: 6 × 3\n",
       "\n",
       "| n_map_taxon &lt;int&gt; | taxa &lt;chr&gt; | org_group &lt;chr&gt; |\n",
       "|---|---|---|\n",
       "| 1666260 | Pseudomonas sp. StFLB209 | Bacteria |\n",
       "| 1549558 | Pseudomonas sp. TUM18999 | Bacteria |\n",
       "| 1499949 | Pseudomonas sp. DG56-2   | Bacteria |\n",
       "| 1468437 | Pseudomonas sp. M30-35   | Bacteria |\n",
       "| 1438409 | Pseudomonas sp. TCU-HL1  | Bacteria |\n",
       "| 1414165 | Pseudomonas sp. DY-1     | Bacteria |\n",
       "\n"
      ],
      "text/plain": [
       "  n_map_taxon taxa                     org_group\n",
       "1 1666260     Pseudomonas sp. StFLB209 Bacteria \n",
       "2 1549558     Pseudomonas sp. TUM18999 Bacteria \n",
       "3 1499949     Pseudomonas sp. DG56-2   Bacteria \n",
       "4 1468437     Pseudomonas sp. M30-35   Bacteria \n",
       "5 1438409     Pseudomonas sp. TCU-HL1  Bacteria \n",
       "6 1414165     Pseudomonas sp. DY-1     Bacteria "
      ]
     },
     "metadata": {},
     "output_type": "display_data"
    },
    {
     "data": {
      "image/png": "[encoded data removed]",
      "text/plain": [
       "plot without title"
      ]
     },
     "metadata": {
      "image/png": {
       "height": 420,
       "width": 420
      }
     },
     "output_type": "display_data"
    }
   ],
   "source": [
    "k2 <- fread(\"data/kraken2_taxonomy/plusPF_20210517_species_meta.csv\")\n",
    "head(k2)\n",
    "\n",
    "rpie <- 1\n",
    "rlabel <-  0.7 * rpie\n",
    "\n",
    "k2 %>% \n",
    "    group_by(org_group) %>%\n",
    "    summarise(cnt = sum(n_map_taxon), total = sum(k2$n_map_taxon)) %>%\n",
    "    mutate(end_angle = 2 * pi * cumsum(cnt)/ total,      # ending angle for each pie slice\n",
    "           start_angle = lag(end_angle, default = 0),   # starting angle for each pie slice\n",
    "           mid_angle = 0.5 * (start_angle + end_angle),\n",
    "           prop = cnt / total * 100) %>%  # middle of each pie slice, for the text label\n",
    "    mutate(prop = ifelse(prop < 0.1, scientific(prop, digits = 1), round(prop, 1)), \n",
    "           org_group = str_glue(\"{org_group} ({prop}%)\")) %>%\n",
    "        ggplot() +\n",
    "        geom_arc_bar(aes(x0 = 0, y0 = 0, r0 = 0, r = rpie,\n",
    "                    start = start_angle, end = end_angle, fill = org_group)) +\n",
    "        coord_fixed() +\n",
    "        scale_x_continuous(limits = c(-1, 1), name = \"\", breaks = NULL, labels = NULL) +\n",
    "        scale_y_continuous(limits = c(-1, 1), name = \"\", breaks = NULL, labels = NULL) +\n",
    "        scale_fill_manual(values = c(\"lightsalmon2\", \"darkslategray3\", \"deepskyblue4\", \"grey\",\n",
    "                                     \"maroon1\", \"darkolivegreen3\", \"black\", \"darkgoldenrod3\")) +\n",
    "        theme(panel.background = element_rect(fill = \"white\"),\n",
    "              legend.text = element_text(size = 20),\n",
    "              plot.title = element_text(size = 20, face = \"bold\")) +\n",
    "        labs(fill = \"\")"
   ]
  },
  {
   "cell_type": "markdown",
   "id": "32fafffb",
   "metadata": {},
   "source": [
    "## Basic sequencing stats"
   ]
  },
  {
   "cell_type": "markdown",
   "id": "d4c3b098",
   "metadata": {},
   "source": [
    "### Raw no. of sequences"
   ]
  },
  {
   "cell_type": "code",
   "execution_count": 8,
   "id": "396d150c",
   "metadata": {},
   "outputs": [
    {
     "name": "stderr",
     "output_type": "stream",
     "text": [
      "`stat_bin()` using `bins = 30`. Pick better value with `binwidth`.\n",
      "\n"
     ]
    },
    {
     "data": {
      "text/html": [
       "4.360890000074"
      ],
      "text/latex": [
       "4.360890000074"
      ],
      "text/markdown": [
       "4.360890000074"
      ],
      "text/plain": [
       "[1] 4.36089"
      ]
     },
     "metadata": {},
     "output_type": "display_data"
    },
    {
     "data": {
      "image/png": "[encoded data removed]",
      "text/plain": [
       "plot without title"
      ]
     },
     "metadata": {
      "image/png": {
       "height": 420,
       "width": 420
      }
     },
     "output_type": "display_data"
    }
   ],
   "source": [
    "meta %>%\n",
    "    ggplot(aes(x = raw_total_sequences)) +\n",
    "    geom_histogram()\n",
    "\n",
    "raw_total <- sum(meta$raw_total_sequences)\n",
    "raw_total / 10^12"
   ]
  },
  {
   "cell_type": "markdown",
   "id": "a810cb6c",
   "metadata": {},
   "source": [
    "### Human sequencing depth"
   ]
  },
  {
   "cell_type": "code",
   "execution_count": 13,
   "id": "e755f9dd",
   "metadata": {},
   "outputs": [
    {
     "name": "stderr",
     "output_type": "stream",
     "text": [
      "Joining, by = \"npm_research_id\"\n"
     ]
    },
    {
     "data": {
      "text/html": [
       "<table class=\"dataframe\">\n",
       "<caption>A tibble: 1 × 3</caption>\n",
       "<thead>\n",
       "\t<tr><th scope=col>median</th><th scope=col>min</th><th scope=col>max</th></tr>\n",
       "\t<tr><th scope=col>&lt;dbl&gt;</th><th scope=col>&lt;dbl&gt;</th><th scope=col>&lt;dbl&gt;</th></tr>\n",
       "</thead>\n",
       "<tbody>\n",
       "\t<tr><td>15.72038</td><td>9.585878</td><td>46.80329</td></tr>\n",
       "</tbody>\n",
       "</table>\n"
      ],
      "text/latex": [
       "A tibble: 1 × 3\n",
       "\\begin{tabular}{lll}\n",
       " median & min & max\\\\\n",
       " <dbl> & <dbl> & <dbl>\\\\\n",
       "\\hline\n",
       "\t 15.72038 & 9.585878 & 46.80329\\\\\n",
       "\\end{tabular}\n"
      ],
      "text/markdown": [
       "\n",
       "A tibble: 1 × 3\n",
       "\n",
       "| median &lt;dbl&gt; | min &lt;dbl&gt; | max &lt;dbl&gt; |\n",
       "|---|---|---|\n",
       "| 15.72038 | 9.585878 | 46.80329 |\n",
       "\n"
      ],
      "text/plain": [
       "  median   min      max     \n",
       "1 15.72038 9.585878 46.80329"
      ]
     },
     "metadata": {},
     "output_type": "display_data"
    }
   ],
   "source": [
    "species_filt %>% \n",
    "    left_join(meta) %>%\n",
    "    summarise(median = median(estimate_of_sequence_coverage),\n",
    "              min = min(estimate_of_sequence_coverage),\n",
    "              max = max(estimate_of_sequence_coverage))"
   ]
  },
  {
   "cell_type": "markdown",
   "id": "ef2de048",
   "metadata": {},
   "source": [
    "### Non-human reads"
   ]
  },
  {
   "cell_type": "code",
   "execution_count": 9,
   "id": "6ed73aad",
   "metadata": {},
   "outputs": [
    {
     "data": {
      "text/html": [
       "1.443932698"
      ],
      "text/latex": [
       "1.443932698"
      ],
      "text/markdown": [
       "1.443932698"
      ],
      "text/plain": [
       "[1] 1.443933"
      ]
     },
     "metadata": {},
     "output_type": "display_data"
    },
    {
     "data": {
      "text/html": [
       "0.033110963541284"
      ],
      "text/latex": [
       "0.033110963541284"
      ],
      "text/markdown": [
       "0.033110963541284"
      ],
      "text/plain": [
       "[1] 0.03311096"
      ]
     },
     "metadata": {},
     "output_type": "display_data"
    }
   ],
   "source": [
    "non_human_total <- sum(species_df %>% select(-npm_research_id, -\"Homo sapiens\"))\n",
    "2 * non_human_total / 10^9\n",
    "2 * non_human_total / raw_total * 100"
   ]
  },
  {
   "cell_type": "markdown",
   "id": "3789c669",
   "metadata": {},
   "source": [
    "### Classified"
   ]
  },
  {
   "cell_type": "code",
   "execution_count": 16,
   "id": "088e1778",
   "metadata": {},
   "outputs": [
    {
     "data": {
      "text/html": [
       "1.041438308"
      ],
      "text/latex": [
       "1.041438308"
      ],
      "text/markdown": [
       "1.041438308"
      ],
      "text/plain": [
       "[1] 1.041438"
      ]
     },
     "metadata": {},
     "output_type": "display_data"
    },
    {
     "data": {
      "text/html": [
       "72.1251280923621"
      ],
      "text/latex": [
       "72.1251280923621"
      ],
      "text/markdown": [
       "72.1251280923621"
      ],
      "text/plain": [
       "[1] 72.12513"
      ]
     },
     "metadata": {},
     "output_type": "display_data"
    }
   ],
   "source": [
    "microbial_df <- species_df %>% \n",
    "    select(-npm_research_id, -\"Homo sapiens\", -unclassified)\n",
    "classified_total <- sum(microbial_df)\n",
    "2 * classified_total / 10^9\n",
    "classified_total / non_human_total * 100"
   ]
  },
  {
   "cell_type": "code",
   "execution_count": 17,
   "id": "d90c0bb9",
   "metadata": {
    "scrolled": true
   },
   "outputs": [],
   "source": [
    "col_sums <- colSums(microbial_df)"
   ]
  },
  {
   "cell_type": "markdown",
   "id": "606ac5ba",
   "metadata": {},
   "source": [
    "## Demographics"
   ]
  },
  {
   "cell_type": "code",
   "execution_count": 19,
   "id": "53627afe",
   "metadata": {},
   "outputs": [
    {
     "name": "stderr",
     "output_type": "stream",
     "text": [
      "`stat_bin()` using `bins = 30`. Pick better value with `binwidth`.\n",
      "\n",
      "Warning message:\n",
      "“Removed 294 rows containing non-finite values (stat_bin).”\n",
      "Saving 6.67 x 6.67 in image\n",
      "\n",
      "`stat_bin()` using `bins = 30`. Pick better value with `binwidth`.\n",
      "\n",
      "Warning message:\n",
      "“Removed 294 rows containing non-finite values (stat_bin).”\n"
     ]
    },
    {
     "data": {
      "image/png": "[encoded data removed]",
      "text/plain": [
       "plot without title"
      ]
     },
     "metadata": {
      "image/png": {
       "height": 420,
       "width": 420
      }
     },
     "output_type": "display_data"
    }
   ],
   "source": [
    "clin_meta <- fread(\"data/20210125_v3_release/20210203_all_traits_v3.parsed.csv\")\n",
    "clin_meta <- clin_meta %>%\n",
    "    filter(npm_research_id %in% meta$npm_research_id) %>%\n",
    "    filter(npm_research_id %in% to_keep$npm_research_id)\n",
    "\n",
    "x_title <- \"Age\"\n",
    "\n",
    "age_plot_df <- clin_meta %>%\n",
    "    left_join(meta, \"npm_research_id\") %>%\n",
    "    mutate(is_gusto = ifelse(grepl(\"GUSTO\", site_supplying_sample), \"GUSTO\", \"Others\"))\n",
    "\n",
    "adult_med_age <- age_plot_df %>% \n",
    "    filter(is_gusto != \"GUSTO\")\n",
    "adult_med_age <- median(adult_med_age$age, na.rm = T)\n",
    "child_med_age <- age_plot_df %>% filter(is_gusto == \"GUSTO\")\n",
    "child_med_age <- median(child_med_age$age, na.rm = T)\n",
    "\n",
    "age_plot_df %>%\n",
    "    ggplot(aes(x = age, fill = is_gusto)) +\n",
    "    geom_histogram() + \n",
    "    geom_vline(xintercept = adult_med_age, colour=\"red\", lty = \"dashed\") +\n",
    "    geom_vline(xintercept = child_med_age, colour=\"blue\", lty = \"dashed\") +\n",
    "    geom_text(x = adult_med_age + 15, y = -20, \n",
    "              label = str_glue(\"median = {round(adult_med_age, 1)}\"),\n",
    "              color = \"red\",\n",
    "              size = 5) +\n",
    "    geom_text(x = child_med_age + 15, y = -20, \n",
    "          label = str_glue(\"median = {round(child_med_age, 1)}\"),\n",
    "          color = \"blue\",\n",
    "          size = 5) +\n",
    "    labs(x = x_title, y = \"No. of samples\", fill = \"Cohort\") +\n",
    "    scale_fill_manual(values = c(\"burlywood4\", \"darkslategray4\")) +\n",
    "    theme(text = element_text(size = 20))\n",
    "\n",
    "ggsave(\"results/data_exploration/age_barchart.png\", dpi = 600)"
   ]
  },
  {
   "cell_type": "code",
   "execution_count": 22,
   "id": "bcc4e292",
   "metadata": {},
   "outputs": [
    {
     "data": {
      "text/html": [
       "<table class=\"dataframe\">\n",
       "<caption>A tibble: 2 × 2</caption>\n",
       "<thead>\n",
       "\t<tr><th scope=col>is_gusto</th><th scope=col>median</th></tr>\n",
       "\t<tr><th scope=col>&lt;chr&gt;</th><th scope=col>&lt;dbl&gt;</th></tr>\n",
       "</thead>\n",
       "<tbody>\n",
       "\t<tr><td>GUSTO </td><td> 6.1</td></tr>\n",
       "\t<tr><td>Others</td><td>49.0</td></tr>\n",
       "</tbody>\n",
       "</table>\n"
      ],
      "text/latex": [
       "A tibble: 2 × 2\n",
       "\\begin{tabular}{ll}\n",
       " is\\_gusto & median\\\\\n",
       " <chr> & <dbl>\\\\\n",
       "\\hline\n",
       "\t GUSTO  &  6.1\\\\\n",
       "\t Others & 49.0\\\\\n",
       "\\end{tabular}\n"
      ],
      "text/markdown": [
       "\n",
       "A tibble: 2 × 2\n",
       "\n",
       "| is_gusto &lt;chr&gt; | median &lt;dbl&gt; |\n",
       "|---|---|\n",
       "| GUSTO  |  6.1 |\n",
       "| Others | 49.0 |\n",
       "\n"
      ],
      "text/plain": [
       "  is_gusto median\n",
       "1 GUSTO     6.1  \n",
       "2 Others   49.0  "
      ]
     },
     "metadata": {},
     "output_type": "display_data"
    }
   ],
   "source": [
    "clin_meta %>%     \n",
    "    left_join(meta, \"npm_research_id\") %>%\n",
    "    mutate(is_gusto = ifelse(grepl(\"GUSTO\", site_supplying_sample), \"GUSTO\", \"Others\")) %>%\n",
    "    group_by(is_gusto) %>%\n",
    "    summarise(median = median(age, na.rm = T))"
   ]
  },
  {
   "cell_type": "code",
   "execution_count": 15,
   "id": "8f747ad8",
   "metadata": {},
   "outputs": [
    {
     "data": {
      "text/html": [
       "<table class=\"dataframe\">\n",
       "<caption>A tibble: 4 × 2</caption>\n",
       "<thead>\n",
       "\t<tr><th scope=col>x</th><th scope=col>cnt</th></tr>\n",
       "\t<tr><th scope=col>&lt;chr&gt;</th><th scope=col>&lt;int&gt;</th></tr>\n",
       "</thead>\n",
       "<tbody>\n",
       "\t<tr><td>Chinese</td><td>5675</td></tr>\n",
       "\t<tr><td>Indian </td><td>2125</td></tr>\n",
       "\t<tr><td>Malay  </td><td>1876</td></tr>\n",
       "\t<tr><td>Others </td><td>  30</td></tr>\n",
       "</tbody>\n",
       "</table>\n"
      ],
      "text/latex": [
       "A tibble: 4 × 2\n",
       "\\begin{tabular}{ll}\n",
       " x & cnt\\\\\n",
       " <chr> & <int>\\\\\n",
       "\\hline\n",
       "\t Chinese & 5675\\\\\n",
       "\t Indian  & 2125\\\\\n",
       "\t Malay   & 1876\\\\\n",
       "\t Others  &   30\\\\\n",
       "\\end{tabular}\n"
      ],
      "text/markdown": [
       "\n",
       "A tibble: 4 × 2\n",
       "\n",
       "| x &lt;chr&gt; | cnt &lt;int&gt; |\n",
       "|---|---|\n",
       "| Chinese | 5675 |\n",
       "| Indian  | 2125 |\n",
       "| Malay   | 1876 |\n",
       "| Others  |   30 |\n",
       "\n"
      ],
      "text/plain": [
       "  x       cnt \n",
       "1 Chinese 5675\n",
       "2 Indian  2125\n",
       "3 Malay   1876\n",
       "4 Others    30"
      ]
     },
     "metadata": {},
     "output_type": "display_data"
    }
   ],
   "source": [
    "tibble(x = clin_meta$self_reported_ethnicity) %>%\n",
    "    group_by(x) %>%\n",
    "    summarise(cnt = n(), total = nrow(df)) %>%\n",
    "    mutate(x = case_when(x == \"C\" ~ \"Chinese\",\n",
    "                         x == \"M\" ~ \"Malay\",\n",
    "                         x == \"I\" ~ \"Indian\",\n",
    "                         x == \"O\" ~ \"Others\"))"
   ]
  },
  {
   "cell_type": "code",
   "execution_count": 16,
   "id": "38a2428f",
   "metadata": {},
   "outputs": [
    {
     "name": "stderr",
     "output_type": "stream",
     "text": [
      "Saving 6.67 x 6.67 in image\n",
      "\n"
     ]
    },
    {
     "data": {
      "image/png": "[encoded data removed]",
      "text/plain": [
       "plot without title"
      ]
     },
     "metadata": {
      "image/png": {
       "height": 420,
       "width": 420
      }
     },
     "output_type": "display_data"
    }
   ],
   "source": [
    "rpie <- 1\n",
    "rlabel <-  0.6 * rpie\n",
    "\n",
    "## Ethnicity ##\n",
    "title <- \"Self-reported Ethinicity\"\n",
    "ethnic_plt <- tibble(x = clin_meta$self_reported_ethnicity) %>%\n",
    "    group_by(x) %>%\n",
    "    summarise(cnt = n(), total = nrow(clin_meta)) %>%\n",
    "    mutate(x = case_when(x == \"C\" ~ \"Chinese\",\n",
    "                         x == \"M\" ~ \"Malay\",\n",
    "                         x == \"I\" ~ \"Indian\",\n",
    "                         x == \"O\" ~ \"Others\")) %>%\n",
    "    mutate(end_angle = 2 * pi * cumsum(cnt)/ total,      # ending angle for each pie slice\n",
    "           start_angle = lag(end_angle, default = 0),   # starting angle for each pie slice\n",
    "           mid_angle = 0.5 * (start_angle + end_angle)) %>%  # middle of each pie slice, for the text label\n",
    "    ggplot() +\n",
    "    geom_arc_bar(aes(x0 = 0, y0 = 0, r0 = 0, r = rpie,\n",
    "                start = start_angle, end = end_angle, fill = x)) +\n",
    "    geom_text(aes(x = rlabel * sin(mid_angle), y = rlabel * cos(mid_angle), label = cnt),\n",
    "                hjust = 0.5, vjust = 1, size = 10) +\n",
    "    coord_fixed() +\n",
    "    scale_x_continuous(limits = c(-1, 1), name = \"\", breaks = NULL, labels = NULL) +\n",
    "    scale_y_continuous(limits = c(-1, 1), name = \"\", breaks = NULL, labels = NULL) +\n",
    "    scale_fill_manual(values = c(\"tomato2\", \"palegreen4\", \"deepskyblue4\", \"grey\")) +\n",
    "    theme(panel.background = element_rect(fill = \"white\"),\n",
    "          legend.text = element_text(size = 20),\n",
    "          plot.title = element_text(size = 20, face = \"bold\")\n",
    "          ) +\n",
    "    labs(fill = \"\", title = title)\n",
    "\n",
    "ethnic_plt\n",
    "\n",
    "ggsave(\"results/data_exploration/ethnicity_piechart.png\", plot = ethnic_plt, dpi = 300)"
   ]
  },
  {
   "cell_type": "code",
   "execution_count": 17,
   "id": "286df877",
   "metadata": {},
   "outputs": [
    {
     "name": "stderr",
     "output_type": "stream",
     "text": [
      "Saving 6.67 x 6.67 in image\n",
      "\n"
     ]
    },
    {
     "data": {
      "image/png": "[encoded data removed]",
      "text/plain": [
       "plot without title"
      ]
     },
     "metadata": {
      "image/png": {
       "height": 420,
       "width": 420
      }
     },
     "output_type": "display_data"
    }
   ],
   "source": [
    "title <- \"Genetic sex\"\n",
    "sex_plt <- tibble(x = clin_meta$genetic_sex) %>%\n",
    "    group_by(x) %>%\n",
    "    summarise(cnt = n(), total = nrow(clin_meta)) %>%\n",
    "    mutate(x = case_when(x == \"male\" ~ \"Male\",\n",
    "                         x == \"female\" ~ \"Female\")) %>%\n",
    "    mutate(end_angle = 2 * pi * cumsum(cnt)/ total,      # ending angle for each pie slice\n",
    "           start_angle = lag(end_angle, default = 0),   # starting angle for each pie slice\n",
    "           mid_angle = 0.5 * (start_angle + end_angle)) %>%  # middle of each pie slice, for the text label\n",
    "    ggplot() +\n",
    "    geom_arc_bar(aes(x0 = 0, y0 = 0, r0 = 0, r = rpie,\n",
    "                start = start_angle, end = end_angle, fill = x)) +\n",
    "    geom_text(aes(x = rlabel * sin(mid_angle), y = rlabel * cos(mid_angle), label = cnt),\n",
    "                hjust = 0.5, vjust = 1, size = 10) +\n",
    "    coord_fixed() +\n",
    "    scale_x_continuous(limits = c(-1, 1), name = \"\", breaks = NULL, labels = NULL) +\n",
    "    scale_y_continuous(limits = c(-1, 1), name = \"\", breaks = NULL, labels = NULL) +\n",
    "    scale_fill_manual(values = c(\"hotpink3\", \"dodgerblue3\")) +\n",
    "    theme(panel.background = element_rect(fill = \"white\"),\n",
    "          legend.text = element_text(size = 20),\n",
    "          plot.title = element_text(size = 20, face = \"bold\")\n",
    "          ) +\n",
    "    labs(fill = \"\", title = title)\n",
    "\n",
    "sex_plt\n",
    "\n",
    "ggsave(\"results/data_exploration/sex_piechart.png\", plot = sex_plt, dpi = 300)"
   ]
  },
  {
   "cell_type": "code",
   "execution_count": 18,
   "id": "b836a851",
   "metadata": {},
   "outputs": [
    {
     "name": "stderr",
     "output_type": "stream",
     "text": [
      "`summarise()` has grouped output by 'drug'. You can override using the `.groups` argument.\n",
      "Saving 6.67 x 6.67 in image\n",
      "\n"
     ]
    },
    {
     "data": {
      "image/png": "[encoded data removed]",
      "text/plain": [
       "plot without title"
      ]
     },
     "metadata": {
      "image/png": {
       "height": 420,
       "width": 420
      }
     },
     "output_type": "display_data"
    }
   ],
   "source": [
    "med_plt <- clin_meta %>%\n",
    "    select(npm_research_id, diab_med, htn_med, lipid_med) %>%\n",
    "    pivot_longer(!npm_research_id, names_to = \"drug\", values_to = \"usage\") %>%\n",
    "    group_by(drug, usage) %>%\n",
    "    summarise(cnt = n(), total = nrow(clin_meta)) %>%\n",
    "    mutate(perc = cnt / total * 100,\n",
    "           drug = case_when(drug == \"diab_med\" ~ \"Diabetes\",\n",
    "                            drug == \"htn_med\" ~ \"Hypertension\",\n",
    "                            drug == \"lipid_med\" ~ \"Lipid\"),\n",
    "           usage = case_when(is.na(usage) ~ \"Unknown\", \n",
    "                             usage == \"1\" ~ \"Yes\",\n",
    "                             usage == \"0\" ~ \"No\")) %>%\n",
    "    mutate(usage = factor(usage, levels = c(\"Yes\", \"No\", \"Unknown\"))) %>%\n",
    "    ggplot(aes(x = drug, y = perc, fill = usage)) +\n",
    "    geom_bar(stat = \"identity\", position = \"stack\") +\n",
    "    labs(x = \"Medication\", y = \"Proportion of samples (%)\", fill = \"\") +\n",
    "    scale_fill_manual(values = c(\"darksalmon\", \"aquamarine4\", \"grey\")) +\n",
    "    theme(text = element_text(size = 20))\n",
    "\n",
    "med_plt\n",
    "\n",
    "ggsave(\"results/data_exploration/medication_barchart.png\", plot = med_plt, dpi = 300)"
   ]
  },
  {
   "cell_type": "markdown",
   "id": "3917f147",
   "metadata": {},
   "source": [
    "### Distribution of microbial reads after filtering"
   ]
  },
  {
   "cell_type": "code",
   "execution_count": 19,
   "id": "1ff4b7a6",
   "metadata": {},
   "outputs": [
    {
     "name": "stderr",
     "output_type": "stream",
     "text": [
      "`stat_bin()` using `bins = 30`. Pick better value with `binwidth`.\n",
      "\n"
     ]
    },
    {
     "data": {
      "text/html": [
       "6138"
      ],
      "text/latex": [
       "6138"
      ],
      "text/markdown": [
       "6138"
      ],
      "text/plain": [
       "[1] 6138"
      ]
     },
     "metadata": {},
     "output_type": "display_data"
    },
    {
     "data": {
      "image/png": "[encoded data removed]",
      "text/plain": [
       "plot without title"
      ]
     },
     "metadata": {
      "image/png": {
       "height": 420,
       "width": 420
      }
     },
     "output_type": "display_data"
    }
   ],
   "source": [
    "row_sum <- species_filt %>% \n",
    "    select(-npm_research_id, -unclassified, -\"Homo sapiens\") %>%\n",
    "    rowSums()\n",
    "\n",
    "tibble(x = row_sum) %>%\n",
    "    mutate(log_x = log(x, base = 10)) %>%\n",
    "    ggplot(aes(x = log_x, fill = ..x..)) +\n",
    "    geom_histogram() +\n",
    "    scale_fill_gradient(low = \"blue\", high = \"darkred\") +\n",
    "    labs(x = \"log(total microbial reads)\", y = \"No. of samples\")\n",
    "\n",
    "10^median(log(row_sum, base = 10))"
   ]
  },
  {
   "cell_type": "markdown",
   "id": "ff93d9bc",
   "metadata": {},
   "source": [
    "### Read count normalisation"
   ]
  },
  {
   "cell_type": "code",
   "execution_count": 20,
   "id": "004097f5",
   "metadata": {},
   "outputs": [],
   "source": [
    "otu_to_PA <- function(df, read_threshold) {\n",
    "    prev_read <- df %>%\n",
    "        select(-\"Homo sapiens\", -unclassified) %>%\n",
    "        column_to_rownames(\"npm_research_id\")\n",
    "    \n",
    "    prev_read[prev_read <= read_threshold] <- 0\n",
    "    prev_read[prev_read > read_threshold] <- 1\n",
    "\n",
    "    return(prev_read)\n",
    "}\n",
    "\n",
    "\n",
    "RA_to_PA <- function(RA_df, PA_threshold) {\n",
    "    prev_RA <- RA_df %>% column_to_rownames(\"npm_research_id\")\n",
    "    prev_RA[prev_RA <= PA_threshold] <- 0\n",
    "    prev_RA[prev_RA > PA_threshold] <- 1\n",
    "    \n",
    "    return(prev_RA)\n",
    "}\n",
    "\n",
    "\n",
    "filter_taxa_by_presence <- function(prev_df, presence_t) {\n",
    "    taxa_counts <- apply(prev_df, 2, sum)\n",
    "    to_keep <- names(taxa_counts)[taxa_counts > presence_t]\n",
    "    return(prev_df %>% select(all_of(to_keep)))\n",
    "}"
   ]
  },
  {
   "cell_type": "markdown",
   "id": "e75eab2c",
   "metadata": {},
   "source": [
    "#### Read count"
   ]
  },
  {
   "cell_type": "code",
   "execution_count": 21,
   "id": "de87f375",
   "metadata": {},
   "outputs": [],
   "source": [
    "prev_read <- otu_to_PA(species_filt, 0)\n",
    "prev_read_10 <- otu_to_PA(species_filt, 10)\n",
    "prev_read_df <- tibble(npm_research_id = rownames(prev_read), n_assigned = rowSums(prev_read))\n",
    "prev_read_df_10 <- tibble(npm_research_id = rownames(prev_read_10), n_assigned = rowSums(prev_read_10))\n",
    "\n",
    "read_plt <- prev_read_df %>%\n",
    "    arrange(desc(n_assigned)) %>%\n",
    "    ggplot(aes(x = n_assigned)) +\n",
    "    geom_histogram() +\n",
    "    labs(x = \"No. of taxa / sample (reads > 0)\", y = \"No. of samples\")\n",
    "\n",
    "read_plt_10 <- prev_read_df_10 %>%\n",
    "    arrange(desc(n_assigned)) %>%\n",
    "    ggplot(aes(x = n_assigned)) +\n",
    "    geom_histogram() +\n",
    "    labs(x = \"No. of taxa / sample (reads > 10)\", y = \"No. of samples\")"
   ]
  },
  {
   "cell_type": "markdown",
   "id": "245b3b96",
   "metadata": {},
   "source": [
    "#### RA"
   ]
  },
  {
   "cell_type": "code",
   "execution_count": 22,
   "id": "5cb9af8f",
   "metadata": {},
   "outputs": [],
   "source": [
    "species_RA <- otu_to_RA(species_filt %>% select(-\"Homo sapiens\", -unclassified))\n",
    "prev_RA <- RA_to_PA(species_RA, 0.01)\n",
    "prev_RA_df <- tibble(npm_research_id = rownames(prev_RA), n_assigned = rowSums(prev_RA))\n",
    "\n",
    "RA_plt <- prev_RA_df %>%\n",
    "    arrange(desc(n_assigned)) %>%\n",
    "    ggplot(aes(x = n_assigned)) +\n",
    "    geom_histogram() +\n",
    "    labs(x = \"No. of taxa / sample (RA > 0.01)\", y = \"No. of samples\")"
   ]
  },
  {
   "cell_type": "markdown",
   "id": "be351117",
   "metadata": {},
   "source": [
    "#### RA + reads"
   ]
  },
  {
   "cell_type": "code",
   "execution_count": 23,
   "id": "03f005a3",
   "metadata": {
    "scrolled": true
   },
   "outputs": [
    {
     "data": {
      "image/png": "[encoded data removed]",
      "text/plain": [
       "plot without title"
      ]
     },
     "metadata": {
      "image/png": {
       "height": 420,
       "width": 420
      }
     },
     "output_type": "display_data"
    }
   ],
   "source": [
    "# Reads\n",
    "prev_RA_read <- as.data.frame(prev_read_10 & prev_RA)\n",
    "prev_RA_read_df <- tibble(npm_research_id = rownames(prev_RA_read), n_assigned = rowSums(prev_RA_read))\n",
    "\n",
    "RA_read_plt <- prev_RA_read_df %>%\n",
    "    arrange(desc(n_assigned)) %>%\n",
    "    ggplot(aes(x = n_assigned)) +\n",
    "    geom_histogram(bins = 20) +\n",
    "    labs(x = \"No. of taxa / sample (RA > 0.01 & reads > 10)\", y = \"No. of samples\")\n",
    "\n",
    "RA_read_plt"
   ]
  },
  {
   "cell_type": "markdown",
   "id": "32e39656",
   "metadata": {},
   "source": [
    "#### No. of species present per sample"
   ]
  },
  {
   "cell_type": "code",
   "execution_count": 24,
   "id": "ff43397d",
   "metadata": {},
   "outputs": [
    {
     "name": "stderr",
     "output_type": "stream",
     "text": [
      "`stat_bin()` using `bins = 30`. Pick better value with `binwidth`.\n",
      "\n",
      "`stat_bin()` using `bins = 30`. Pick better value with `binwidth`.\n",
      "\n",
      "`stat_bin()` using `bins = 30`. Pick better value with `binwidth`.\n",
      "\n"
     ]
    },
    {
     "data": {
      "image/png": "[encoded data removed]",
      "text/plain": [
       "plot without title"
      ]
     },
     "metadata": {
      "image/png": {
       "height": 420,
       "width": 420
      }
     },
     "output_type": "display_data"
    }
   ],
   "source": [
    "combined <- ggpubr::ggarrange(read_plt, read_plt_10, RA_plt, RA_read_plt)\n",
    "\n",
    "combined\n",
    "\n",
    "# ggsave(\"results/data_exploration/presence_absence_threshold_multiplot.png\", dpi = 300)"
   ]
  },
  {
   "cell_type": "code",
   "execution_count": 25,
   "id": "44a12048",
   "metadata": {},
   "outputs": [],
   "source": [
    "prev_RA_read <- filter_taxa_by_presence(prev_RA_read, 0)"
   ]
  },
  {
   "cell_type": "code",
   "execution_count": 44,
   "id": "9128ee55",
   "metadata": {},
   "outputs": [
    {
     "data": {
      "text/html": [
       "<table class=\"dataframe\">\n",
       "<caption>A tibble: 3 × 3</caption>\n",
       "<thead>\n",
       "\t<tr><th scope=col>taxa</th><th scope=col>prevalence</th><th scope=col>bin</th></tr>\n",
       "\t<tr><th scope=col>&lt;chr&gt;</th><th scope=col>&lt;dbl&gt;</th><th scope=col>&lt;fct&gt;</th></tr>\n",
       "</thead>\n",
       "<tbody>\n",
       "\t<tr><td>Alcaligenes aquatilis </td><td>0.3958994</td><td>25-50</td></tr>\n",
       "\t<tr><td>Alcaligenes faecalis  </td><td>0.4354327</td><td>25-50</td></tr>\n",
       "\t<tr><td>Alcaligenes sp. SORT26</td><td>0.2840961</td><td>25-50</td></tr>\n",
       "</tbody>\n",
       "</table>\n"
      ],
      "text/latex": [
       "A tibble: 3 × 3\n",
       "\\begin{tabular}{lll}\n",
       " taxa & prevalence & bin\\\\\n",
       " <chr> & <dbl> & <fct>\\\\\n",
       "\\hline\n",
       "\t Alcaligenes aquatilis  & 0.3958994 & 25-50\\\\\n",
       "\t Alcaligenes faecalis   & 0.4354327 & 25-50\\\\\n",
       "\t Alcaligenes sp. SORT26 & 0.2840961 & 25-50\\\\\n",
       "\\end{tabular}\n"
      ],
      "text/markdown": [
       "\n",
       "A tibble: 3 × 3\n",
       "\n",
       "| taxa &lt;chr&gt; | prevalence &lt;dbl&gt; | bin &lt;fct&gt; |\n",
       "|---|---|---|\n",
       "| Alcaligenes aquatilis  | 0.3958994 | 25-50 |\n",
       "| Alcaligenes faecalis   | 0.4354327 | 25-50 |\n",
       "| Alcaligenes sp. SORT26 | 0.2840961 | 25-50 |\n",
       "\n"
      ],
      "text/plain": [
       "  taxa                   prevalence bin  \n",
       "1 Alcaligenes aquatilis  0.3958994  25-50\n",
       "2 Alcaligenes faecalis   0.4354327  25-50\n",
       "3 Alcaligenes sp. SORT26 0.2840961  25-50"
      ]
     },
     "metadata": {},
     "output_type": "display_data"
    }
   ],
   "source": [
    "prev_overall %>% filter(grepl(\"Alcali\", taxa))"
   ]
  },
  {
   "cell_type": "code",
   "execution_count": 43,
   "id": "40148164",
   "metadata": {},
   "outputs": [
    {
     "data": {
      "text/html": [
       "<table class=\"dataframe\">\n",
       "<caption>A tibble: 212 × 3</caption>\n",
       "<thead>\n",
       "\t<tr><th scope=col>taxa</th><th scope=col>prevalence</th><th scope=col>bin</th></tr>\n",
       "\t<tr><th scope=col>&lt;chr&gt;</th><th scope=col>&lt;dbl&gt;</th><th scope=col>&lt;fct&gt;</th></tr>\n",
       "</thead>\n",
       "<tbody>\n",
       "\t<tr><td>Bradyrhizobium betae           </td><td>0.7490938</td><td>50-75</td></tr>\n",
       "\t<tr><td>Ralstonia pickettii            </td><td>0.7476212</td><td>50-75</td></tr>\n",
       "\t<tr><td>Klebsiella pneumoniae          </td><td>0.7469415</td><td>50-75</td></tr>\n",
       "\t<tr><td>Bradyrhizobium sp. BTAi1       </td><td>0.7453557</td><td>50-75</td></tr>\n",
       "\t<tr><td>Bradyrhizobium sp. SK17        </td><td>0.7443362</td><td>50-75</td></tr>\n",
       "\t<tr><td>Stenotrophomonas maltophilia   </td><td>0.7401450</td><td>50-75</td></tr>\n",
       "\t<tr><td>Variovorax paradoxus           </td><td>0.7238333</td><td>50-75</td></tr>\n",
       "\t<tr><td>Agrobacterium tumefaciens      </td><td>0.7234934</td><td>50-75</td></tr>\n",
       "\t<tr><td>Ralstonia insidiosa            </td><td>0.7221341</td><td>50-75</td></tr>\n",
       "\t<tr><td>Pseudomonas putida             </td><td>0.7196420</td><td>50-75</td></tr>\n",
       "\t<tr><td>Sphingobium yanoikuyae         </td><td>0.7134119</td><td>50-75</td></tr>\n",
       "\t<tr><td>Methylorubrum extorquens       </td><td>0.7104667</td><td>50-75</td></tr>\n",
       "\t<tr><td>Bradyrhizobium sp. CCBAU 53421 </td><td>0.7083145</td><td>50-75</td></tr>\n",
       "\t<tr><td>Sphingomonas paucimobilis      </td><td>0.7061622</td><td>50-75</td></tr>\n",
       "\t<tr><td>Rhizobium leguminosarum        </td><td>0.7020843</td><td>50-75</td></tr>\n",
       "\t<tr><td>Pseudomonas stutzeri           </td><td>0.7016312</td><td>50-75</td></tr>\n",
       "\t<tr><td>Methylobacterium brachiatum    </td><td>0.6989126</td><td>50-75</td></tr>\n",
       "\t<tr><td>Pseudomonas aeruginosa         </td><td>0.6980063</td><td>50-75</td></tr>\n",
       "\t<tr><td>Bradyrhizobium sp. CCBAU 51753 </td><td>0.6965338</td><td>50-75</td></tr>\n",
       "\t<tr><td>Sphingomonas melonis           </td><td>0.6955143</td><td>50-75</td></tr>\n",
       "\t<tr><td>Achromobacter xylosoxidans     </td><td>0.6947213</td><td>50-75</td></tr>\n",
       "\t<tr><td>Methylobacterium aquaticum     </td><td>0.6941550</td><td>50-75</td></tr>\n",
       "\t<tr><td>Methylorubrum populi           </td><td>0.6935886</td><td>50-75</td></tr>\n",
       "\t<tr><td>Bradyrhizobium genosp. L       </td><td>0.6895106</td><td>50-75</td></tr>\n",
       "\t<tr><td>Bradyrhizobium sp. ORS 285     </td><td>0.6829406</td><td>50-75</td></tr>\n",
       "\t<tr><td>Methylobacterium currus        </td><td>0.6807884</td><td>50-75</td></tr>\n",
       "\t<tr><td>Bradyrhizobium sp. ORS 278     </td><td>0.6787494</td><td>50-75</td></tr>\n",
       "\t<tr><td>Bradyrhizobium sp. 6(2017)     </td><td>0.6650430</td><td>50-75</td></tr>\n",
       "\t<tr><td>Bradyrhizobium sp. CCBAU 051011</td><td>0.6633439</td><td>50-75</td></tr>\n",
       "\t<tr><td>Sphingomonas hengshuiensis     </td><td>0.6622111</td><td>50-75</td></tr>\n",
       "\t<tr><td>⋮</td><td>⋮</td><td>⋮</td></tr>\n",
       "\t<tr><td>Novosphingobium aromaticivorans</td><td>0.5242411</td><td>50-75</td></tr>\n",
       "\t<tr><td>Microvirga thermotolerans      </td><td>0.5237879</td><td>50-75</td></tr>\n",
       "\t<tr><td>Sphingobium amiense            </td><td>0.5228817</td><td>50-75</td></tr>\n",
       "\t<tr><td>Mesorhizobium sp. N3           </td><td>0.5227685</td><td>50-75</td></tr>\n",
       "\t<tr><td>Ralstonia mannitolilytica      </td><td>0.5227685</td><td>50-75</td></tr>\n",
       "\t<tr><td>Labrys sp. KNU-23              </td><td>0.5222021</td><td>50-75</td></tr>\n",
       "\t<tr><td>Nitrobacter winogradskyi       </td><td>0.5211826</td><td>50-75</td></tr>\n",
       "\t<tr><td>Sphingobium baderi             </td><td>0.5206162</td><td>50-75</td></tr>\n",
       "\t<tr><td>Variibacter gotjawalensis      </td><td>0.5203897</td><td>50-75</td></tr>\n",
       "\t<tr><td>Aureimonas sp. AU20            </td><td>0.5193702</td><td>50-75</td></tr>\n",
       "\t<tr><td>Sphingobium sp. TKS            </td><td>0.5184640</td><td>50-75</td></tr>\n",
       "\t<tr><td>Stappia indica                 </td><td>0.5182374</td><td>50-75</td></tr>\n",
       "\t<tr><td>Brevundimonas diminuta         </td><td>0.5177843</td><td>50-75</td></tr>\n",
       "\t<tr><td>Roseateles depolymerans        </td><td>0.5167648</td><td>50-75</td></tr>\n",
       "\t<tr><td>Paucibacter sp. KCTC 42545     </td><td>0.5125736</td><td>50-75</td></tr>\n",
       "\t<tr><td>Sphingomonas sp. C8-2          </td><td>0.5125736</td><td>50-75</td></tr>\n",
       "\t<tr><td>Methylosinus trichosporium     </td><td>0.5097417</td><td>50-75</td></tr>\n",
       "\t<tr><td>Croceicoccus marinus           </td><td>0.5095152</td><td>50-75</td></tr>\n",
       "\t<tr><td>Cupriavidus oxalaticus         </td><td>0.5092886</td><td>50-75</td></tr>\n",
       "\t<tr><td>Starkeya novella               </td><td>0.5090621</td><td>50-75</td></tr>\n",
       "\t<tr><td>Microbacterium hominis         </td><td>0.5077028</td><td>50-75</td></tr>\n",
       "\t<tr><td>Paracoccus sp. Arc7-R13        </td><td>0.5075895</td><td>50-75</td></tr>\n",
       "\t<tr><td>Pseudomonas chlororaphis       </td><td>0.5070231</td><td>50-75</td></tr>\n",
       "\t<tr><td>Sphingopyxis sp. PAMC25046     </td><td>0.5069098</td><td>50-75</td></tr>\n",
       "\t<tr><td>Moraxella osloensis            </td><td>0.5056638</td><td>50-75</td></tr>\n",
       "\t<tr><td>Stenotrophomonas rhizophila    </td><td>0.5041912</td><td>50-75</td></tr>\n",
       "\t<tr><td>Rubrivivax gelatinosus         </td><td>0.5036248</td><td>50-75</td></tr>\n",
       "\t<tr><td>Sphingopyxis sp. OPL5          </td><td>0.5033983</td><td>50-75</td></tr>\n",
       "\t<tr><td>Comamonas testosteroni         </td><td>0.5019257</td><td>50-75</td></tr>\n",
       "\t<tr><td>Sphaerotilus natans            </td><td>0.5001133</td><td>50-75</td></tr>\n",
       "</tbody>\n",
       "</table>\n"
      ],
      "text/latex": [
       "A tibble: 212 × 3\n",
       "\\begin{tabular}{lll}\n",
       " taxa & prevalence & bin\\\\\n",
       " <chr> & <dbl> & <fct>\\\\\n",
       "\\hline\n",
       "\t Bradyrhizobium betae            & 0.7490938 & 50-75\\\\\n",
       "\t Ralstonia pickettii             & 0.7476212 & 50-75\\\\\n",
       "\t Klebsiella pneumoniae           & 0.7469415 & 50-75\\\\\n",
       "\t Bradyrhizobium sp. BTAi1        & 0.7453557 & 50-75\\\\\n",
       "\t Bradyrhizobium sp. SK17         & 0.7443362 & 50-75\\\\\n",
       "\t Stenotrophomonas maltophilia    & 0.7401450 & 50-75\\\\\n",
       "\t Variovorax paradoxus            & 0.7238333 & 50-75\\\\\n",
       "\t Agrobacterium tumefaciens       & 0.7234934 & 50-75\\\\\n",
       "\t Ralstonia insidiosa             & 0.7221341 & 50-75\\\\\n",
       "\t Pseudomonas putida              & 0.7196420 & 50-75\\\\\n",
       "\t Sphingobium yanoikuyae          & 0.7134119 & 50-75\\\\\n",
       "\t Methylorubrum extorquens        & 0.7104667 & 50-75\\\\\n",
       "\t Bradyrhizobium sp. CCBAU 53421  & 0.7083145 & 50-75\\\\\n",
       "\t Sphingomonas paucimobilis       & 0.7061622 & 50-75\\\\\n",
       "\t Rhizobium leguminosarum         & 0.7020843 & 50-75\\\\\n",
       "\t Pseudomonas stutzeri            & 0.7016312 & 50-75\\\\\n",
       "\t Methylobacterium brachiatum     & 0.6989126 & 50-75\\\\\n",
       "\t Pseudomonas aeruginosa          & 0.6980063 & 50-75\\\\\n",
       "\t Bradyrhizobium sp. CCBAU 51753  & 0.6965338 & 50-75\\\\\n",
       "\t Sphingomonas melonis            & 0.6955143 & 50-75\\\\\n",
       "\t Achromobacter xylosoxidans      & 0.6947213 & 50-75\\\\\n",
       "\t Methylobacterium aquaticum      & 0.6941550 & 50-75\\\\\n",
       "\t Methylorubrum populi            & 0.6935886 & 50-75\\\\\n",
       "\t Bradyrhizobium genosp. L        & 0.6895106 & 50-75\\\\\n",
       "\t Bradyrhizobium sp. ORS 285      & 0.6829406 & 50-75\\\\\n",
       "\t Methylobacterium currus         & 0.6807884 & 50-75\\\\\n",
       "\t Bradyrhizobium sp. ORS 278      & 0.6787494 & 50-75\\\\\n",
       "\t Bradyrhizobium sp. 6(2017)      & 0.6650430 & 50-75\\\\\n",
       "\t Bradyrhizobium sp. CCBAU 051011 & 0.6633439 & 50-75\\\\\n",
       "\t Sphingomonas hengshuiensis      & 0.6622111 & 50-75\\\\\n",
       "\t ⋮ & ⋮ & ⋮\\\\\n",
       "\t Novosphingobium aromaticivorans & 0.5242411 & 50-75\\\\\n",
       "\t Microvirga thermotolerans       & 0.5237879 & 50-75\\\\\n",
       "\t Sphingobium amiense             & 0.5228817 & 50-75\\\\\n",
       "\t Mesorhizobium sp. N3            & 0.5227685 & 50-75\\\\\n",
       "\t Ralstonia mannitolilytica       & 0.5227685 & 50-75\\\\\n",
       "\t Labrys sp. KNU-23               & 0.5222021 & 50-75\\\\\n",
       "\t Nitrobacter winogradskyi        & 0.5211826 & 50-75\\\\\n",
       "\t Sphingobium baderi              & 0.5206162 & 50-75\\\\\n",
       "\t Variibacter gotjawalensis       & 0.5203897 & 50-75\\\\\n",
       "\t Aureimonas sp. AU20             & 0.5193702 & 50-75\\\\\n",
       "\t Sphingobium sp. TKS             & 0.5184640 & 50-75\\\\\n",
       "\t Stappia indica                  & 0.5182374 & 50-75\\\\\n",
       "\t Brevundimonas diminuta          & 0.5177843 & 50-75\\\\\n",
       "\t Roseateles depolymerans         & 0.5167648 & 50-75\\\\\n",
       "\t Paucibacter sp. KCTC 42545      & 0.5125736 & 50-75\\\\\n",
       "\t Sphingomonas sp. C8-2           & 0.5125736 & 50-75\\\\\n",
       "\t Methylosinus trichosporium      & 0.5097417 & 50-75\\\\\n",
       "\t Croceicoccus marinus            & 0.5095152 & 50-75\\\\\n",
       "\t Cupriavidus oxalaticus          & 0.5092886 & 50-75\\\\\n",
       "\t Starkeya novella                & 0.5090621 & 50-75\\\\\n",
       "\t Microbacterium hominis          & 0.5077028 & 50-75\\\\\n",
       "\t Paracoccus sp. Arc7-R13         & 0.5075895 & 50-75\\\\\n",
       "\t Pseudomonas chlororaphis        & 0.5070231 & 50-75\\\\\n",
       "\t Sphingopyxis sp. PAMC25046      & 0.5069098 & 50-75\\\\\n",
       "\t Moraxella osloensis             & 0.5056638 & 50-75\\\\\n",
       "\t Stenotrophomonas rhizophila     & 0.5041912 & 50-75\\\\\n",
       "\t Rubrivivax gelatinosus          & 0.5036248 & 50-75\\\\\n",
       "\t Sphingopyxis sp. OPL5           & 0.5033983 & 50-75\\\\\n",
       "\t Comamonas testosteroni          & 0.5019257 & 50-75\\\\\n",
       "\t Sphaerotilus natans             & 0.5001133 & 50-75\\\\\n",
       "\\end{tabular}\n"
      ],
      "text/markdown": [
       "\n",
       "A tibble: 212 × 3\n",
       "\n",
       "| taxa &lt;chr&gt; | prevalence &lt;dbl&gt; | bin &lt;fct&gt; |\n",
       "|---|---|---|\n",
       "| Bradyrhizobium betae            | 0.7490938 | 50-75 |\n",
       "| Ralstonia pickettii             | 0.7476212 | 50-75 |\n",
       "| Klebsiella pneumoniae           | 0.7469415 | 50-75 |\n",
       "| Bradyrhizobium sp. BTAi1        | 0.7453557 | 50-75 |\n",
       "| Bradyrhizobium sp. SK17         | 0.7443362 | 50-75 |\n",
       "| Stenotrophomonas maltophilia    | 0.7401450 | 50-75 |\n",
       "| Variovorax paradoxus            | 0.7238333 | 50-75 |\n",
       "| Agrobacterium tumefaciens       | 0.7234934 | 50-75 |\n",
       "| Ralstonia insidiosa             | 0.7221341 | 50-75 |\n",
       "| Pseudomonas putida              | 0.7196420 | 50-75 |\n",
       "| Sphingobium yanoikuyae          | 0.7134119 | 50-75 |\n",
       "| Methylorubrum extorquens        | 0.7104667 | 50-75 |\n",
       "| Bradyrhizobium sp. CCBAU 53421  | 0.7083145 | 50-75 |\n",
       "| Sphingomonas paucimobilis       | 0.7061622 | 50-75 |\n",
       "| Rhizobium leguminosarum         | 0.7020843 | 50-75 |\n",
       "| Pseudomonas stutzeri            | 0.7016312 | 50-75 |\n",
       "| Methylobacterium brachiatum     | 0.6989126 | 50-75 |\n",
       "| Pseudomonas aeruginosa          | 0.6980063 | 50-75 |\n",
       "| Bradyrhizobium sp. CCBAU 51753  | 0.6965338 | 50-75 |\n",
       "| Sphingomonas melonis            | 0.6955143 | 50-75 |\n",
       "| Achromobacter xylosoxidans      | 0.6947213 | 50-75 |\n",
       "| Methylobacterium aquaticum      | 0.6941550 | 50-75 |\n",
       "| Methylorubrum populi            | 0.6935886 | 50-75 |\n",
       "| Bradyrhizobium genosp. L        | 0.6895106 | 50-75 |\n",
       "| Bradyrhizobium sp. ORS 285      | 0.6829406 | 50-75 |\n",
       "| Methylobacterium currus         | 0.6807884 | 50-75 |\n",
       "| Bradyrhizobium sp. ORS 278      | 0.6787494 | 50-75 |\n",
       "| Bradyrhizobium sp. 6(2017)      | 0.6650430 | 50-75 |\n",
       "| Bradyrhizobium sp. CCBAU 051011 | 0.6633439 | 50-75 |\n",
       "| Sphingomonas hengshuiensis      | 0.6622111 | 50-75 |\n",
       "| ⋮ | ⋮ | ⋮ |\n",
       "| Novosphingobium aromaticivorans | 0.5242411 | 50-75 |\n",
       "| Microvirga thermotolerans       | 0.5237879 | 50-75 |\n",
       "| Sphingobium amiense             | 0.5228817 | 50-75 |\n",
       "| Mesorhizobium sp. N3            | 0.5227685 | 50-75 |\n",
       "| Ralstonia mannitolilytica       | 0.5227685 | 50-75 |\n",
       "| Labrys sp. KNU-23               | 0.5222021 | 50-75 |\n",
       "| Nitrobacter winogradskyi        | 0.5211826 | 50-75 |\n",
       "| Sphingobium baderi              | 0.5206162 | 50-75 |\n",
       "| Variibacter gotjawalensis       | 0.5203897 | 50-75 |\n",
       "| Aureimonas sp. AU20             | 0.5193702 | 50-75 |\n",
       "| Sphingobium sp. TKS             | 0.5184640 | 50-75 |\n",
       "| Stappia indica                  | 0.5182374 | 50-75 |\n",
       "| Brevundimonas diminuta          | 0.5177843 | 50-75 |\n",
       "| Roseateles depolymerans         | 0.5167648 | 50-75 |\n",
       "| Paucibacter sp. KCTC 42545      | 0.5125736 | 50-75 |\n",
       "| Sphingomonas sp. C8-2           | 0.5125736 | 50-75 |\n",
       "| Methylosinus trichosporium      | 0.5097417 | 50-75 |\n",
       "| Croceicoccus marinus            | 0.5095152 | 50-75 |\n",
       "| Cupriavidus oxalaticus          | 0.5092886 | 50-75 |\n",
       "| Starkeya novella                | 0.5090621 | 50-75 |\n",
       "| Microbacterium hominis          | 0.5077028 | 50-75 |\n",
       "| Paracoccus sp. Arc7-R13         | 0.5075895 | 50-75 |\n",
       "| Pseudomonas chlororaphis        | 0.5070231 | 50-75 |\n",
       "| Sphingopyxis sp. PAMC25046      | 0.5069098 | 50-75 |\n",
       "| Moraxella osloensis             | 0.5056638 | 50-75 |\n",
       "| Stenotrophomonas rhizophila     | 0.5041912 | 50-75 |\n",
       "| Rubrivivax gelatinosus          | 0.5036248 | 50-75 |\n",
       "| Sphingopyxis sp. OPL5           | 0.5033983 | 50-75 |\n",
       "| Comamonas testosteroni          | 0.5019257 | 50-75 |\n",
       "| Sphaerotilus natans             | 0.5001133 | 50-75 |\n",
       "\n"
      ],
      "text/plain": [
       "    taxa                            prevalence bin  \n",
       "1   Bradyrhizobium betae            0.7490938  50-75\n",
       "2   Ralstonia pickettii             0.7476212  50-75\n",
       "3   Klebsiella pneumoniae           0.7469415  50-75\n",
       "4   Bradyrhizobium sp. BTAi1        0.7453557  50-75\n",
       "5   Bradyrhizobium sp. SK17         0.7443362  50-75\n",
       "6   Stenotrophomonas maltophilia    0.7401450  50-75\n",
       "7   Variovorax paradoxus            0.7238333  50-75\n",
       "8   Agrobacterium tumefaciens       0.7234934  50-75\n",
       "9   Ralstonia insidiosa             0.7221341  50-75\n",
       "10  Pseudomonas putida              0.7196420  50-75\n",
       "11  Sphingobium yanoikuyae          0.7134119  50-75\n",
       "12  Methylorubrum extorquens        0.7104667  50-75\n",
       "13  Bradyrhizobium sp. CCBAU 53421  0.7083145  50-75\n",
       "14  Sphingomonas paucimobilis       0.7061622  50-75\n",
       "15  Rhizobium leguminosarum         0.7020843  50-75\n",
       "16  Pseudomonas stutzeri            0.7016312  50-75\n",
       "17  Methylobacterium brachiatum     0.6989126  50-75\n",
       "18  Pseudomonas aeruginosa          0.6980063  50-75\n",
       "19  Bradyrhizobium sp. CCBAU 51753  0.6965338  50-75\n",
       "20  Sphingomonas melonis            0.6955143  50-75\n",
       "21  Achromobacter xylosoxidans      0.6947213  50-75\n",
       "22  Methylobacterium aquaticum      0.6941550  50-75\n",
       "23  Methylorubrum populi            0.6935886  50-75\n",
       "24  Bradyrhizobium genosp. L        0.6895106  50-75\n",
       "25  Bradyrhizobium sp. ORS 285      0.6829406  50-75\n",
       "26  Methylobacterium currus         0.6807884  50-75\n",
       "27  Bradyrhizobium sp. ORS 278      0.6787494  50-75\n",
       "28  Bradyrhizobium sp. 6(2017)      0.6650430  50-75\n",
       "29  Bradyrhizobium sp. CCBAU 051011 0.6633439  50-75\n",
       "30  Sphingomonas hengshuiensis      0.6622111  50-75\n",
       "⋮   ⋮                               ⋮          ⋮    \n",
       "183 Novosphingobium aromaticivorans 0.5242411  50-75\n",
       "184 Microvirga thermotolerans       0.5237879  50-75\n",
       "185 Sphingobium amiense             0.5228817  50-75\n",
       "186 Mesorhizobium sp. N3            0.5227685  50-75\n",
       "187 Ralstonia mannitolilytica       0.5227685  50-75\n",
       "188 Labrys sp. KNU-23               0.5222021  50-75\n",
       "189 Nitrobacter winogradskyi        0.5211826  50-75\n",
       "190 Sphingobium baderi              0.5206162  50-75\n",
       "191 Variibacter gotjawalensis       0.5203897  50-75\n",
       "192 Aureimonas sp. AU20             0.5193702  50-75\n",
       "193 Sphingobium sp. TKS             0.5184640  50-75\n",
       "194 Stappia indica                  0.5182374  50-75\n",
       "195 Brevundimonas diminuta          0.5177843  50-75\n",
       "196 Roseateles depolymerans         0.5167648  50-75\n",
       "197 Paucibacter sp. KCTC 42545      0.5125736  50-75\n",
       "198 Sphingomonas sp. C8-2           0.5125736  50-75\n",
       "199 Methylosinus trichosporium      0.5097417  50-75\n",
       "200 Croceicoccus marinus            0.5095152  50-75\n",
       "201 Cupriavidus oxalaticus          0.5092886  50-75\n",
       "202 Starkeya novella                0.5090621  50-75\n",
       "203 Microbacterium hominis          0.5077028  50-75\n",
       "204 Paracoccus sp. Arc7-R13         0.5075895  50-75\n",
       "205 Pseudomonas chlororaphis        0.5070231  50-75\n",
       "206 Sphingopyxis sp. PAMC25046      0.5069098  50-75\n",
       "207 Moraxella osloensis             0.5056638  50-75\n",
       "208 Stenotrophomonas rhizophila     0.5041912  50-75\n",
       "209 Rubrivivax gelatinosus          0.5036248  50-75\n",
       "210 Sphingopyxis sp. OPL5           0.5033983  50-75\n",
       "211 Comamonas testosteroni          0.5019257  50-75\n",
       "212 Sphaerotilus natans             0.5001133  50-75"
      ]
     },
     "metadata": {},
     "output_type": "display_data"
    }
   ],
   "source": [
    "prev_overall %>% filter(bin == \"50-75\") %>%\n",
    "    arrange(desc(prevalence))"
   ]
  },
  {
   "cell_type": "code",
   "execution_count": 38,
   "id": "e2552fc3",
   "metadata": {},
   "outputs": [
    {
     "name": "stderr",
     "output_type": "stream",
     "text": [
      "Warning message:\n",
      "“Ignoring unknown parameters: binwidth, bins, pad”\n"
     ]
    },
    {
     "data": {
      "image/png": "[encoded data removed]",
      "text/plain": [
       "plot without title"
      ]
     },
     "metadata": {
      "image/png": {
       "height": 420,
       "width": 420
      }
     },
     "output_type": "display_data"
    }
   ],
   "source": [
    "read_t <- 0 \n",
    "temp_prev <- otu_to_PA(species_filt, read_t)\n",
    "    \n",
    "    prev_overall <- temp_prev %>%\n",
    "        pivot_longer(everything(), names_to = \"taxa\", values_to = \"presence\") %>%\n",
    "        group_by(taxa) %>%\n",
    "        summarise(prevalence = sum(presence) / nrow(temp_prev)) %>% \n",
    "        mutate(bin = case_when(prevalence == 0 ~ \"0\",\n",
    "                               prevalence > 0 & prevalence <= 0.05 ~ \"0-5\",\n",
    "                               prevalence > 0.05 & prevalence <= 0.25 ~ \"5-25\",\n",
    "                               prevalence > 0.25 & prevalence <= 0.5 ~ \"25-50\",\n",
    "                               prevalence > 0.5 & prevalence <= 0.75 ~ \"50-75\",\n",
    "                               prevalence > 0.75 ~ \"75-100\")) %>%\n",
    "        mutate(bin = factor(bin, levels = c(\"0\", \"0-5\", \"5-25\", \"25-50\", \"50-75\", \"75-100\")))\n",
    "    \n",
    "prev_overall %>% \n",
    "    ggplot(aes(x = bin)) + \n",
    "    geom_histogram(stat=\"count\") +\n",
    "    stat_count(aes(y=..count..,label=..count..),geom = \"text\",vjust = 0) +\n",
    "    labs(title = str_glue(\"PA_threshold = {read_t}\"), x = \"Overall Prevalence (%)\", y = \"No. of taxa\")"
   ]
  },
  {
   "cell_type": "code",
   "execution_count": 27,
   "id": "d78f3960",
   "metadata": {},
   "outputs": [
    {
     "ename": "ERROR",
     "evalue": "Error in {: task 1 failed - \"Can't subset columns that don't exist.\n\u001b[31m✖\u001b[39m Column `npm_research_id` doesn't exist.\"\n",
     "output_type": "error",
     "traceback": [
      "Error in {: task 1 failed - \"Can't subset columns that don't exist.\n\u001b[31m✖\u001b[39m Column `npm_research_id` doesn't exist.\"\nTraceback:\n",
      "1. foreach(read_t = c(0, 1, 5, 10, 50, 100, 500, 1000)) %dopar% \n .     {\n .         temp_prev <- otu_to_PA(species_df, read_t)\n .         prev_overall <- temp_prev %>% pivot_longer(!npm_research_id, \n .             names_to = \"taxa\", values_to = \"presence\") %>% group_by(taxa) %>% \n .             summarise(prevalence = sum(presence)/nrow(species_prev)) %>% \n .             mutate(bin = case_when(prevalence == 0 ~ \"0\", prevalence > \n .                 0 & prevalence <= 0.05 ~ \"0-5\", prevalence > \n .                 0.05 & prevalence <= 0.25 ~ \"5-25\", prevalence > \n .                 0.25 & prevalence <= 0.5 ~ \"25-50\", prevalence > \n .                 0.5 & prevalence <= 0.75 ~ \"50-75\", prevalence > \n .                 0.75 ~ \"75-100\")) %>% mutate(bin = factor(bin, \n .             levels = c(\"0\", \"0-5\", \"5-25\", \"25-50\", \"50-75\", \n .                 \"75-100\")))\n .         prev_overall %>% ggplot(aes(x = bin)) + geom_histogram(stat = \"count\") + \n .             stat_count(aes(y = ..count.., label = ..count..), \n .                 geom = \"text\", vjust = 0) + labs(title = str_glue(\"PA_threshold = {read_t}\"), \n .             x = \"Overall Prevalence (%)\", y = \"No. of taxa\")\n .     }",
      "2. e$fun(obj, substitute(ex), parent.frame(), e$data)"
     ]
    }
   ],
   "source": [
    "prev_plots <- foreach(read_t = c(0, 1, 5, 10, 50, 100, 500, 1000)) %dopar% {\n",
    "    temp_prev <- otu_to_PA(species_df, read_t)\n",
    "    \n",
    "    prev_overall <- temp_prev %>%\n",
    "        pivot_longer(!npm_research_id, names_to = \"taxa\", values_to = \"presence\") %>%\n",
    "        group_by(taxa) %>%\n",
    "        summarise(prevalence = sum(presence) / nrow(species_prev)) %>% \n",
    "        mutate(bin = case_when(prevalence == 0 ~ \"0\",\n",
    "                               prevalence > 0 & prevalence <= 0.05 ~ \"0-5\",\n",
    "                               prevalence > 0.05 & prevalence <= 0.25 ~ \"5-25\",\n",
    "                               prevalence > 0.25 & prevalence <= 0.5 ~ \"25-50\",\n",
    "                               prevalence > 0.5 & prevalence <= 0.75 ~ \"50-75\",\n",
    "                               prevalence > 0.75 ~ \"75-100\")) %>%\n",
    "        mutate(bin = factor(bin, levels = c(\"0\", \"0-5\", \"5-25\", \"25-50\", \"50-75\", \"75-100\")))\n",
    "    \n",
    "    prev_overall %>% \n",
    "        ggplot(aes(x = bin)) + \n",
    "        geom_histogram(stat=\"count\") +\n",
    "        stat_count(aes(y=..count..,label=..count..),geom = \"text\",vjust = 0) +\n",
    "        labs(title = str_glue(\"PA_threshold = {read_t}\"), x = \"Overall Prevalence (%)\", y = \"No. of taxa\")\n",
    "}\n"
   ]
  },
  {
   "cell_type": "code",
   "execution_count": null,
   "id": "4f4f9734",
   "metadata": {},
   "outputs": [],
   "source": [
    "combined <- egg::ggarrange(plots = prev_plots)\n",
    "ggsave(str_glue(\"results/decontamination/PA_threshold_taxa_prevalence.png\"), plot = combined, dpi = 300, width = 10, height = 10)"
   ]
  },
  {
   "cell_type": "markdown",
   "id": "c9cf08a9",
   "metadata": {},
   "source": [
    "#### Batch prevalence"
   ]
  },
  {
   "cell_type": "code",
   "execution_count": 76,
   "id": "0c2f41fe",
   "metadata": {},
   "outputs": [],
   "source": [
    "taxa <- colnames(species_prev)\n",
    "taxa <- taxa[taxa != \"npm_research_id\"]"
   ]
  },
  {
   "cell_type": "code",
   "execution_count": 89,
   "id": "16d8395a",
   "metadata": {},
   "outputs": [
    {
     "data": {
      "text/html": [
       "<style>\n",
       ".list-inline {list-style: none; margin:0; padding: 0}\n",
       ".list-inline>li {display: inline-block}\n",
       ".list-inline>li:not(:last-child)::after {content: \"\\00b7\"; padding: 0 .5ex}\n",
       "</style>\n",
       "<ol class=list-inline><li>'site_supplying_sample'</li><li>'extraction_kit'</li><li>'instrument_id'</li><li>'hiseq_xtm_sbs_kit_300_cycles_v2__box_1of_2__lot'</li><li>'hiseq_xtm_sbs_kit_300_cycles_v2__box_2_of_2__lot'</li><li>'hiseq_xtm_pe_cluster_kit_cbottm_v2__box_1_of_2__lot'</li><li>'hiseq_xtm_pe_cluster_kit_cbottm_v2__box_2_of_2__lot'</li><li>'hiseq_xtm_flow_cell_v2_5_lot'</li></ol>\n"
      ],
      "text/latex": [
       "\\begin{enumerate*}\n",
       "\\item 'site\\_supplying\\_sample'\n",
       "\\item 'extraction\\_kit'\n",
       "\\item 'instrument\\_id'\n",
       "\\item 'hiseq\\_xtm\\_sbs\\_kit\\_300\\_cycles\\_v2\\_\\_box\\_1of\\_2\\_\\_lot'\n",
       "\\item 'hiseq\\_xtm\\_sbs\\_kit\\_300\\_cycles\\_v2\\_\\_box\\_2\\_of\\_2\\_\\_lot'\n",
       "\\item 'hiseq\\_xtm\\_pe\\_cluster\\_kit\\_cbottm\\_v2\\_\\_box\\_1\\_of\\_2\\_\\_lot'\n",
       "\\item 'hiseq\\_xtm\\_pe\\_cluster\\_kit\\_cbottm\\_v2\\_\\_box\\_2\\_of\\_2\\_\\_lot'\n",
       "\\item 'hiseq\\_xtm\\_flow\\_cell\\_v2\\_5\\_lot'\n",
       "\\end{enumerate*}\n"
      ],
      "text/markdown": [
       "1. 'site_supplying_sample'\n",
       "2. 'extraction_kit'\n",
       "3. 'instrument_id'\n",
       "4. 'hiseq_xtm_sbs_kit_300_cycles_v2__box_1of_2__lot'\n",
       "5. 'hiseq_xtm_sbs_kit_300_cycles_v2__box_2_of_2__lot'\n",
       "6. 'hiseq_xtm_pe_cluster_kit_cbottm_v2__box_1_of_2__lot'\n",
       "7. 'hiseq_xtm_pe_cluster_kit_cbottm_v2__box_2_of_2__lot'\n",
       "8. 'hiseq_xtm_flow_cell_v2_5_lot'\n",
       "\n",
       "\n"
      ],
      "text/plain": [
       "[1] \"site_supplying_sample\"                              \n",
       "[2] \"extraction_kit\"                                     \n",
       "[3] \"instrument_id\"                                      \n",
       "[4] \"hiseq_xtm_sbs_kit_300_cycles_v2__box_1of_2__lot\"    \n",
       "[5] \"hiseq_xtm_sbs_kit_300_cycles_v2__box_2_of_2__lot\"   \n",
       "[6] \"hiseq_xtm_pe_cluster_kit_cbottm_v2__box_1_of_2__lot\"\n",
       "[7] \"hiseq_xtm_pe_cluster_kit_cbottm_v2__box_2_of_2__lot\"\n",
       "[8] \"hiseq_xtm_flow_cell_v2_5_lot\"                       "
      ]
     },
     "metadata": {},
     "output_type": "display_data"
    }
   ],
   "source": [
    "meta_cols"
   ]
  },
  {
   "cell_type": "code",
   "execution_count": 134,
   "id": "56157c8c",
   "metadata": {},
   "outputs": [
    {
     "name": "stderr",
     "output_type": "stream",
     "text": [
      "Joining, by = \"npm_research_id\"\n",
      "\n",
      "`summarise()` has grouped output by 'taxa'. You can override using the `.groups` argument.\n",
      "\n"
     ]
    }
   ],
   "source": [
    "col <- \"hiseq_xtm_sbs_kit_300_cycles_v2__box_2_of_2__lot\"\n",
    "\n",
    "batch_prev <- species_prev %>% \n",
    "    left_join(meta) %>%\n",
    "    select(all_of(c(taxa, col))) %>%\n",
    "    pivot_longer(!all_of(col), names_to = \"taxa\", values_to = \"presence\") %>%\n",
    "    group_by(taxa, get(col)) %>%\n",
    "    summarise(prevalence = sum(presence) / n()) %>%\n",
    "    rename(batch = \"get(col)\") %>%\n",
    "    arrange(desc(prevalence))"
   ]
  },
  {
   "cell_type": "code",
   "execution_count": 135,
   "id": "7556b2ce",
   "metadata": {
    "scrolled": true
   },
   "outputs": [
    {
     "data": {
      "text/html": [
       "<table class=\"dataframe\">\n",
       "<caption>A tibble: 5199 × 3</caption>\n",
       "<thead>\n",
       "\t<tr><th scope=col>taxa</th><th scope=col>prevalence</th><th scope=col>bin</th></tr>\n",
       "\t<tr><th scope=col>&lt;chr&gt;</th><th scope=col>&lt;dbl&gt;</th><th scope=col>&lt;fct&gt;</th></tr>\n",
       "</thead>\n",
       "<tbody>\n",
       "\t<tr><td>Rhodopseudomonas palustris       </td><td>0.2949953</td><td>0.25-0.5 </td></tr>\n",
       "\t<tr><td>Bradyrhizobiaceae bacterium SG-6C</td><td>0.2801782</td><td>0.25-0.5 </td></tr>\n",
       "\t<tr><td>Bradyrhizobium sp. SK17          </td><td>0.2753083</td><td>0.25-0.5 </td></tr>\n",
       "\t<tr><td>Sphingomonas sp. LM7             </td><td>0.2414258</td><td>0.05-0.25</td></tr>\n",
       "\t<tr><td>Alcaligenes faecalis             </td><td>0.2375920</td><td>0.05-0.25</td></tr>\n",
       "\t<tr><td>Sphingomonas sp. Cra20           </td><td>0.2351052</td><td>0.05-0.25</td></tr>\n",
       "\t<tr><td>Methylobacterium currus          </td><td>0.2347943</td><td>0.05-0.25</td></tr>\n",
       "\t<tr><td>Sphingomonas hengshuiensis       </td><td>0.2343799</td><td>0.05-0.25</td></tr>\n",
       "\t<tr><td>Sphingomonas koreensis           </td><td>0.2152109</td><td>0.05-0.25</td></tr>\n",
       "\t<tr><td>Sphingomonas sp. FARSPH          </td><td>0.2090975</td><td>0.05-0.25</td></tr>\n",
       "\t<tr><td>Caulobacter vibrioides           </td><td>0.1960419</td><td>0.05-0.25</td></tr>\n",
       "\t<tr><td>Caulobacter segnis               </td><td>0.1938659</td><td>0.05-0.25</td></tr>\n",
       "\t<tr><td>Pseudomonas sihuiensis           </td><td>0.1938659</td><td>0.05-0.25</td></tr>\n",
       "\t<tr><td>Sphingobium sp. YG1              </td><td>0.1930370</td><td>0.05-0.25</td></tr>\n",
       "\t<tr><td>Sphingomonas melonis             </td><td>0.1928298</td><td>0.05-0.25</td></tr>\n",
       "\t<tr><td>Ralstonia pickettii              </td><td>0.1866128</td><td>0.05-0.25</td></tr>\n",
       "\t<tr><td>Ralstonia insidiosa              </td><td>0.1820537</td><td>0.05-0.25</td></tr>\n",
       "\t<tr><td>Bradyrhizobium erythrophlei      </td><td>0.1790488</td><td>0.05-0.25</td></tr>\n",
       "\t<tr><td>Methylobacterium brachiatum      </td><td>0.1770801</td><td>0.05-0.25</td></tr>\n",
       "\t<tr><td>Sphingomonas sanxanigenens       </td><td>0.1736608</td><td>0.05-0.25</td></tr>\n",
       "\t<tr><td>Sphingomonas sp. LK11            </td><td>0.1729354</td><td>0.05-0.25</td></tr>\n",
       "\t<tr><td>Alcaligenes aquatilis            </td><td>0.1721065</td><td>0.05-0.25</td></tr>\n",
       "\t<tr><td>Caulobacter flavus               </td><td>0.1650606</td><td>0.05-0.25</td></tr>\n",
       "\t<tr><td>Caulobacter sp. K31              </td><td>0.1597762</td><td>0.05-0.25</td></tr>\n",
       "\t<tr><td>Xanthomonas euvesicatoria        </td><td>0.1581183</td><td>0.05-0.25</td></tr>\n",
       "\t<tr><td>Pseudomonas mendocina            </td><td>0.1569786</td><td>0.05-0.25</td></tr>\n",
       "\t<tr><td>Pseudomonas alcaliphila          </td><td>0.1557352</td><td>0.05-0.25</td></tr>\n",
       "\t<tr><td>Pseudomonas aeruginosa           </td><td>0.1511760</td><td>0.05-0.25</td></tr>\n",
       "\t<tr><td>Pseudomonas sp. LPH1             </td><td>0.1506580</td><td>0.05-0.25</td></tr>\n",
       "\t<tr><td>Sphingomonas wittichii           </td><td>0.1468242</td><td>0.05-0.25</td></tr>\n",
       "\t<tr><td>⋮</td><td>⋮</td><td>⋮</td></tr>\n",
       "\t<tr><td>Wuhan insect virus 19           </td><td>0</td><td>0</td></tr>\n",
       "\t<tr><td>Wuhan Insect virus 6            </td><td>0</td><td>0</td></tr>\n",
       "\t<tr><td>Xanthomonas arboricola          </td><td>0</td><td>0</td></tr>\n",
       "\t<tr><td>Xanthomonas axonopodis          </td><td>0</td><td>0</td></tr>\n",
       "\t<tr><td>Xanthomonas perforans           </td><td>0</td><td>0</td></tr>\n",
       "\t<tr><td>Xenorhabdus doucetiae           </td><td>0</td><td>0</td></tr>\n",
       "\t<tr><td>Xylella taiwanensis             </td><td>0</td><td>0</td></tr>\n",
       "\t<tr><td>Yaba monkey tumor virus         </td><td>0</td><td>0</td></tr>\n",
       "\t<tr><td>Yellowstone lake mimivirus      </td><td>0</td><td>0</td></tr>\n",
       "\t<tr><td>Yellowstone lake phycodnavirus 1</td><td>0</td><td>0</td></tr>\n",
       "\t<tr><td>Yellowstone lake phycodnavirus 2</td><td>0</td><td>0</td></tr>\n",
       "\t<tr><td>Yellowstone lake phycodnavirus 3</td><td>0</td><td>0</td></tr>\n",
       "\t<tr><td>Yellowstone Lake virophage 7    </td><td>0</td><td>0</td></tr>\n",
       "\t<tr><td>Yersinia kristensenii           </td><td>0</td><td>0</td></tr>\n",
       "\t<tr><td>Yersinia massiliensis           </td><td>0</td><td>0</td></tr>\n",
       "\t<tr><td>Yersinia pestis                 </td><td>0</td><td>0</td></tr>\n",
       "\t<tr><td>Yersinia phage phiR1-37         </td><td>0</td><td>0</td></tr>\n",
       "\t<tr><td>Yersinia phage PY54             </td><td>0</td><td>0</td></tr>\n",
       "\t<tr><td>Yersinia pseudotuberculosis     </td><td>0</td><td>0</td></tr>\n",
       "\t<tr><td>Yersinia ruckeri                </td><td>0</td><td>0</td></tr>\n",
       "\t<tr><td>Yersinia similis                </td><td>0</td><td>0</td></tr>\n",
       "\t<tr><td>Yersinia virus R1RT             </td><td>0</td><td>0</td></tr>\n",
       "\t<tr><td>Yokapox virus                   </td><td>0</td><td>0</td></tr>\n",
       "\t<tr><td>Yongjia ledantevirus            </td><td>0</td><td>0</td></tr>\n",
       "\t<tr><td>Youcai mosaic virus             </td><td>0</td><td>0</td></tr>\n",
       "\t<tr><td>Zerdali virus                   </td><td>0</td><td>0</td></tr>\n",
       "\t<tr><td>Zhongshania aliphaticivorans    </td><td>0</td><td>0</td></tr>\n",
       "\t<tr><td>Zika virus                      </td><td>0</td><td>0</td></tr>\n",
       "\t<tr><td>Zobellia galactanivorans        </td><td>0</td><td>0</td></tr>\n",
       "\t<tr><td>Zymomonas mobilis               </td><td>0</td><td>0</td></tr>\n",
       "</tbody>\n",
       "</table>\n"
      ],
      "text/latex": [
       "A tibble: 5199 × 3\n",
       "\\begin{tabular}{lll}\n",
       " taxa & prevalence & bin\\\\\n",
       " <chr> & <dbl> & <fct>\\\\\n",
       "\\hline\n",
       "\t Rhodopseudomonas palustris        & 0.2949953 & 0.25-0.5 \\\\\n",
       "\t Bradyrhizobiaceae bacterium SG-6C & 0.2801782 & 0.25-0.5 \\\\\n",
       "\t Bradyrhizobium sp. SK17           & 0.2753083 & 0.25-0.5 \\\\\n",
       "\t Sphingomonas sp. LM7              & 0.2414258 & 0.05-0.25\\\\\n",
       "\t Alcaligenes faecalis              & 0.2375920 & 0.05-0.25\\\\\n",
       "\t Sphingomonas sp. Cra20            & 0.2351052 & 0.05-0.25\\\\\n",
       "\t Methylobacterium currus           & 0.2347943 & 0.05-0.25\\\\\n",
       "\t Sphingomonas hengshuiensis        & 0.2343799 & 0.05-0.25\\\\\n",
       "\t Sphingomonas koreensis            & 0.2152109 & 0.05-0.25\\\\\n",
       "\t Sphingomonas sp. FARSPH           & 0.2090975 & 0.05-0.25\\\\\n",
       "\t Caulobacter vibrioides            & 0.1960419 & 0.05-0.25\\\\\n",
       "\t Caulobacter segnis                & 0.1938659 & 0.05-0.25\\\\\n",
       "\t Pseudomonas sihuiensis            & 0.1938659 & 0.05-0.25\\\\\n",
       "\t Sphingobium sp. YG1               & 0.1930370 & 0.05-0.25\\\\\n",
       "\t Sphingomonas melonis              & 0.1928298 & 0.05-0.25\\\\\n",
       "\t Ralstonia pickettii               & 0.1866128 & 0.05-0.25\\\\\n",
       "\t Ralstonia insidiosa               & 0.1820537 & 0.05-0.25\\\\\n",
       "\t Bradyrhizobium erythrophlei       & 0.1790488 & 0.05-0.25\\\\\n",
       "\t Methylobacterium brachiatum       & 0.1770801 & 0.05-0.25\\\\\n",
       "\t Sphingomonas sanxanigenens        & 0.1736608 & 0.05-0.25\\\\\n",
       "\t Sphingomonas sp. LK11             & 0.1729354 & 0.05-0.25\\\\\n",
       "\t Alcaligenes aquatilis             & 0.1721065 & 0.05-0.25\\\\\n",
       "\t Caulobacter flavus                & 0.1650606 & 0.05-0.25\\\\\n",
       "\t Caulobacter sp. K31               & 0.1597762 & 0.05-0.25\\\\\n",
       "\t Xanthomonas euvesicatoria         & 0.1581183 & 0.05-0.25\\\\\n",
       "\t Pseudomonas mendocina             & 0.1569786 & 0.05-0.25\\\\\n",
       "\t Pseudomonas alcaliphila           & 0.1557352 & 0.05-0.25\\\\\n",
       "\t Pseudomonas aeruginosa            & 0.1511760 & 0.05-0.25\\\\\n",
       "\t Pseudomonas sp. LPH1              & 0.1506580 & 0.05-0.25\\\\\n",
       "\t Sphingomonas wittichii            & 0.1468242 & 0.05-0.25\\\\\n",
       "\t ⋮ & ⋮ & ⋮\\\\\n",
       "\t Wuhan insect virus 19            & 0 & 0\\\\\n",
       "\t Wuhan Insect virus 6             & 0 & 0\\\\\n",
       "\t Xanthomonas arboricola           & 0 & 0\\\\\n",
       "\t Xanthomonas axonopodis           & 0 & 0\\\\\n",
       "\t Xanthomonas perforans            & 0 & 0\\\\\n",
       "\t Xenorhabdus doucetiae            & 0 & 0\\\\\n",
       "\t Xylella taiwanensis              & 0 & 0\\\\\n",
       "\t Yaba monkey tumor virus          & 0 & 0\\\\\n",
       "\t Yellowstone lake mimivirus       & 0 & 0\\\\\n",
       "\t Yellowstone lake phycodnavirus 1 & 0 & 0\\\\\n",
       "\t Yellowstone lake phycodnavirus 2 & 0 & 0\\\\\n",
       "\t Yellowstone lake phycodnavirus 3 & 0 & 0\\\\\n",
       "\t Yellowstone Lake virophage 7     & 0 & 0\\\\\n",
       "\t Yersinia kristensenii            & 0 & 0\\\\\n",
       "\t Yersinia massiliensis            & 0 & 0\\\\\n",
       "\t Yersinia pestis                  & 0 & 0\\\\\n",
       "\t Yersinia phage phiR1-37          & 0 & 0\\\\\n",
       "\t Yersinia phage PY54              & 0 & 0\\\\\n",
       "\t Yersinia pseudotuberculosis      & 0 & 0\\\\\n",
       "\t Yersinia ruckeri                 & 0 & 0\\\\\n",
       "\t Yersinia similis                 & 0 & 0\\\\\n",
       "\t Yersinia virus R1RT              & 0 & 0\\\\\n",
       "\t Yokapox virus                    & 0 & 0\\\\\n",
       "\t Yongjia ledantevirus             & 0 & 0\\\\\n",
       "\t Youcai mosaic virus              & 0 & 0\\\\\n",
       "\t Zerdali virus                    & 0 & 0\\\\\n",
       "\t Zhongshania aliphaticivorans     & 0 & 0\\\\\n",
       "\t Zika virus                       & 0 & 0\\\\\n",
       "\t Zobellia galactanivorans         & 0 & 0\\\\\n",
       "\t Zymomonas mobilis                & 0 & 0\\\\\n",
       "\\end{tabular}\n"
      ],
      "text/markdown": [
       "\n",
       "A tibble: 5199 × 3\n",
       "\n",
       "| taxa &lt;chr&gt; | prevalence &lt;dbl&gt; | bin &lt;fct&gt; |\n",
       "|---|---|---|\n",
       "| Rhodopseudomonas palustris        | 0.2949953 | 0.25-0.5  |\n",
       "| Bradyrhizobiaceae bacterium SG-6C | 0.2801782 | 0.25-0.5  |\n",
       "| Bradyrhizobium sp. SK17           | 0.2753083 | 0.25-0.5  |\n",
       "| Sphingomonas sp. LM7              | 0.2414258 | 0.05-0.25 |\n",
       "| Alcaligenes faecalis              | 0.2375920 | 0.05-0.25 |\n",
       "| Sphingomonas sp. Cra20            | 0.2351052 | 0.05-0.25 |\n",
       "| Methylobacterium currus           | 0.2347943 | 0.05-0.25 |\n",
       "| Sphingomonas hengshuiensis        | 0.2343799 | 0.05-0.25 |\n",
       "| Sphingomonas koreensis            | 0.2152109 | 0.05-0.25 |\n",
       "| Sphingomonas sp. FARSPH           | 0.2090975 | 0.05-0.25 |\n",
       "| Caulobacter vibrioides            | 0.1960419 | 0.05-0.25 |\n",
       "| Caulobacter segnis                | 0.1938659 | 0.05-0.25 |\n",
       "| Pseudomonas sihuiensis            | 0.1938659 | 0.05-0.25 |\n",
       "| Sphingobium sp. YG1               | 0.1930370 | 0.05-0.25 |\n",
       "| Sphingomonas melonis              | 0.1928298 | 0.05-0.25 |\n",
       "| Ralstonia pickettii               | 0.1866128 | 0.05-0.25 |\n",
       "| Ralstonia insidiosa               | 0.1820537 | 0.05-0.25 |\n",
       "| Bradyrhizobium erythrophlei       | 0.1790488 | 0.05-0.25 |\n",
       "| Methylobacterium brachiatum       | 0.1770801 | 0.05-0.25 |\n",
       "| Sphingomonas sanxanigenens        | 0.1736608 | 0.05-0.25 |\n",
       "| Sphingomonas sp. LK11             | 0.1729354 | 0.05-0.25 |\n",
       "| Alcaligenes aquatilis             | 0.1721065 | 0.05-0.25 |\n",
       "| Caulobacter flavus                | 0.1650606 | 0.05-0.25 |\n",
       "| Caulobacter sp. K31               | 0.1597762 | 0.05-0.25 |\n",
       "| Xanthomonas euvesicatoria         | 0.1581183 | 0.05-0.25 |\n",
       "| Pseudomonas mendocina             | 0.1569786 | 0.05-0.25 |\n",
       "| Pseudomonas alcaliphila           | 0.1557352 | 0.05-0.25 |\n",
       "| Pseudomonas aeruginosa            | 0.1511760 | 0.05-0.25 |\n",
       "| Pseudomonas sp. LPH1              | 0.1506580 | 0.05-0.25 |\n",
       "| Sphingomonas wittichii            | 0.1468242 | 0.05-0.25 |\n",
       "| ⋮ | ⋮ | ⋮ |\n",
       "| Wuhan insect virus 19            | 0 | 0 |\n",
       "| Wuhan Insect virus 6             | 0 | 0 |\n",
       "| Xanthomonas arboricola           | 0 | 0 |\n",
       "| Xanthomonas axonopodis           | 0 | 0 |\n",
       "| Xanthomonas perforans            | 0 | 0 |\n",
       "| Xenorhabdus doucetiae            | 0 | 0 |\n",
       "| Xylella taiwanensis              | 0 | 0 |\n",
       "| Yaba monkey tumor virus          | 0 | 0 |\n",
       "| Yellowstone lake mimivirus       | 0 | 0 |\n",
       "| Yellowstone lake phycodnavirus 1 | 0 | 0 |\n",
       "| Yellowstone lake phycodnavirus 2 | 0 | 0 |\n",
       "| Yellowstone lake phycodnavirus 3 | 0 | 0 |\n",
       "| Yellowstone Lake virophage 7     | 0 | 0 |\n",
       "| Yersinia kristensenii            | 0 | 0 |\n",
       "| Yersinia massiliensis            | 0 | 0 |\n",
       "| Yersinia pestis                  | 0 | 0 |\n",
       "| Yersinia phage phiR1-37          | 0 | 0 |\n",
       "| Yersinia phage PY54              | 0 | 0 |\n",
       "| Yersinia pseudotuberculosis      | 0 | 0 |\n",
       "| Yersinia ruckeri                 | 0 | 0 |\n",
       "| Yersinia similis                 | 0 | 0 |\n",
       "| Yersinia virus R1RT              | 0 | 0 |\n",
       "| Yokapox virus                    | 0 | 0 |\n",
       "| Yongjia ledantevirus             | 0 | 0 |\n",
       "| Youcai mosaic virus              | 0 | 0 |\n",
       "| Zerdali virus                    | 0 | 0 |\n",
       "| Zhongshania aliphaticivorans     | 0 | 0 |\n",
       "| Zika virus                       | 0 | 0 |\n",
       "| Zobellia galactanivorans         | 0 | 0 |\n",
       "| Zymomonas mobilis                | 0 | 0 |\n",
       "\n"
      ],
      "text/plain": [
       "     taxa                              prevalence bin      \n",
       "1    Rhodopseudomonas palustris        0.2949953  0.25-0.5 \n",
       "2    Bradyrhizobiaceae bacterium SG-6C 0.2801782  0.25-0.5 \n",
       "3    Bradyrhizobium sp. SK17           0.2753083  0.25-0.5 \n",
       "4    Sphingomonas sp. LM7              0.2414258  0.05-0.25\n",
       "5    Alcaligenes faecalis              0.2375920  0.05-0.25\n",
       "6    Sphingomonas sp. Cra20            0.2351052  0.05-0.25\n",
       "7    Methylobacterium currus           0.2347943  0.05-0.25\n",
       "8    Sphingomonas hengshuiensis        0.2343799  0.05-0.25\n",
       "9    Sphingomonas koreensis            0.2152109  0.05-0.25\n",
       "10   Sphingomonas sp. FARSPH           0.2090975  0.05-0.25\n",
       "11   Caulobacter vibrioides            0.1960419  0.05-0.25\n",
       "12   Caulobacter segnis                0.1938659  0.05-0.25\n",
       "13   Pseudomonas sihuiensis            0.1938659  0.05-0.25\n",
       "14   Sphingobium sp. YG1               0.1930370  0.05-0.25\n",
       "15   Sphingomonas melonis              0.1928298  0.05-0.25\n",
       "16   Ralstonia pickettii               0.1866128  0.05-0.25\n",
       "17   Ralstonia insidiosa               0.1820537  0.05-0.25\n",
       "18   Bradyrhizobium erythrophlei       0.1790488  0.05-0.25\n",
       "19   Methylobacterium brachiatum       0.1770801  0.05-0.25\n",
       "20   Sphingomonas sanxanigenens        0.1736608  0.05-0.25\n",
       "21   Sphingomonas sp. LK11             0.1729354  0.05-0.25\n",
       "22   Alcaligenes aquatilis             0.1721065  0.05-0.25\n",
       "23   Caulobacter flavus                0.1650606  0.05-0.25\n",
       "24   Caulobacter sp. K31               0.1597762  0.05-0.25\n",
       "25   Xanthomonas euvesicatoria         0.1581183  0.05-0.25\n",
       "26   Pseudomonas mendocina             0.1569786  0.05-0.25\n",
       "27   Pseudomonas alcaliphila           0.1557352  0.05-0.25\n",
       "28   Pseudomonas aeruginosa            0.1511760  0.05-0.25\n",
       "29   Pseudomonas sp. LPH1              0.1506580  0.05-0.25\n",
       "30   Sphingomonas wittichii            0.1468242  0.05-0.25\n",
       "⋮    ⋮                                 ⋮          ⋮        \n",
       "5170 Wuhan insect virus 19             0          0        \n",
       "5171 Wuhan Insect virus 6              0          0        \n",
       "5172 Xanthomonas arboricola            0          0        \n",
       "5173 Xanthomonas axonopodis            0          0        \n",
       "5174 Xanthomonas perforans             0          0        \n",
       "5175 Xenorhabdus doucetiae             0          0        \n",
       "5176 Xylella taiwanensis               0          0        \n",
       "5177 Yaba monkey tumor virus           0          0        \n",
       "5178 Yellowstone lake mimivirus        0          0        \n",
       "5179 Yellowstone lake phycodnavirus 1  0          0        \n",
       "5180 Yellowstone lake phycodnavirus 2  0          0        \n",
       "5181 Yellowstone lake phycodnavirus 3  0          0        \n",
       "5182 Yellowstone Lake virophage 7      0          0        \n",
       "5183 Yersinia kristensenii             0          0        \n",
       "5184 Yersinia massiliensis             0          0        \n",
       "5185 Yersinia pestis                   0          0        \n",
       "5186 Yersinia phage phiR1-37           0          0        \n",
       "5187 Yersinia phage PY54               0          0        \n",
       "5188 Yersinia pseudotuberculosis       0          0        \n",
       "5189 Yersinia ruckeri                  0          0        \n",
       "5190 Yersinia similis                  0          0        \n",
       "5191 Yersinia virus R1RT               0          0        \n",
       "5192 Yokapox virus                     0          0        \n",
       "5193 Yongjia ledantevirus              0          0        \n",
       "5194 Youcai mosaic virus               0          0        \n",
       "5195 Zerdali virus                     0          0        \n",
       "5196 Zhongshania aliphaticivorans      0          0        \n",
       "5197 Zika virus                        0          0        \n",
       "5198 Zobellia galactanivorans          0          0        \n",
       "5199 Zymomonas mobilis                 0          0        "
      ]
     },
     "metadata": {},
     "output_type": "display_data"
    }
   ],
   "source": [
    "prev_overall %>% arrange(desc(prevalence))"
   ]
  },
  {
   "cell_type": "code",
   "execution_count": 137,
   "id": "446e728d",
   "metadata": {
    "scrolled": true
   },
   "outputs": [
    {
     "data": {
      "text/html": [
       "<table class=\"dataframe\">\n",
       "<caption>A tibble: 1 × 2</caption>\n",
       "<thead>\n",
       "\t<tr><th scope=col>taxa</th><th scope=col>n</th></tr>\n",
       "\t<tr><th scope=col>&lt;chr&gt;</th><th scope=col>&lt;int&gt;</th></tr>\n",
       "</thead>\n",
       "<tbody>\n",
       "\t<tr><td>Rhodopseudomonas palustris</td><td>34</td></tr>\n",
       "</tbody>\n",
       "</table>\n"
      ],
      "text/latex": [
       "A tibble: 1 × 2\n",
       "\\begin{tabular}{ll}\n",
       " taxa & n\\\\\n",
       " <chr> & <int>\\\\\n",
       "\\hline\n",
       "\t Rhodopseudomonas palustris & 34\\\\\n",
       "\\end{tabular}\n"
      ],
      "text/markdown": [
       "\n",
       "A tibble: 1 × 2\n",
       "\n",
       "| taxa &lt;chr&gt; | n &lt;int&gt; |\n",
       "|---|---|\n",
       "| Rhodopseudomonas palustris | 34 |\n",
       "\n"
      ],
      "text/plain": [
       "  taxa                       n \n",
       "1 Rhodopseudomonas palustris 34"
      ]
     },
     "metadata": {},
     "output_type": "display_data"
    }
   ],
   "source": [
    "batch_prev %>% \n",
    "    filter(taxa == \"Rhodopseudomonas palustris\") %>%\n",
    "    summarise(n = n_distinct(batch))"
   ]
  },
  {
   "cell_type": "code",
   "execution_count": 166,
   "id": "c8f291b4",
   "metadata": {
    "scrolled": false
   },
   "outputs": [
    {
     "name": "stderr",
     "output_type": "stream",
     "text": [
      "`stat_bin()` using `bins = 30`. Pick better value with `binwidth`.\n",
      "\n"
     ]
    },
    {
     "data": {
      "image/png": "[encoded data removed]",
      "text/plain": [
       "plot without title"
      ]
     },
     "metadata": {
      "image/png": {
       "height": 420,
       "width": 420
      }
     },
     "output_type": "display_data"
    }
   ],
   "source": [
    "batch_prev %>% \n",
    "    group_by(taxa) %>%\n",
    "    summarise(max_prev = max(prevalence)) %>%\n",
    "    ggplot(aes(x = max_prev)) +\n",
    "    geom_histogram()\n"
   ]
  },
  {
   "cell_type": "code",
   "execution_count": 14,
   "id": "2a9866e4",
   "metadata": {
    "scrolled": true
   },
   "outputs": [
    {
     "ename": "ERROR",
     "evalue": "Error in filter(., taxa == \"Moraxella osloensis\", batch != \"Unknown\"): object 'batch_prev' not found\n",
     "output_type": "error",
     "traceback": [
      "Error in filter(., taxa == \"Moraxella osloensis\", batch != \"Unknown\"): object 'batch_prev' not found\nTraceback:\n",
      "1. batch_prev %>% filter(taxa == \"Moraxella osloensis\", batch != \n .     \"Unknown\") %>% ggplot(aes(x = batch, y = prevalence))",
      "2. ggplot(., aes(x = batch, y = prevalence))",
      "3. filter(., taxa == \"Moraxella osloensis\", batch != \"Unknown\")"
     ]
    }
   ],
   "source": [
    "batch_prev %>%\n",
    "    filter(taxa == \"Moraxella osloensis\", batch != \"Unknown\") %>%\n",
    "    ggplot(aes(x = batch, y = prevalence)) +\n",
    "    geom_bar(stat = \"identity\") +\n",
    "    labs(x = col, y = \"Batch prevalence\") +\n",
    "    ylim(0, 1) +\n",
    "    theme(axis.text.x = element_text(angle = 45, hjust = 1))"
   ]
  },
  {
   "cell_type": "markdown",
   "id": "c7f91dbb",
   "metadata": {},
   "source": [
    "#### Retrieve 20 species for each prevalence class"
   ]
  },
  {
   "cell_type": "code",
   "execution_count": null,
   "id": "4e4ca1fe",
   "metadata": {
    "scrolled": true
   },
   "outputs": [],
   "source": [
    "morsels <- foreach (bin_name = c(\"0-5\", \"5-25\", \"25-50\", \"50-75\")) %do% {\n",
    "    prev_bin <- prev_overall %>%\n",
    "        filter(bin == bin_name)\n",
    "    \n",
    "    if (nrow(prev_bin) >= 20) {\n",
    "        prev_bin %>% sample_n(20, replace = F)\n",
    "    } else {\n",
    "        prev_bin %>% sample_n(nrow(prev_bin), replace = F)\n",
    "    }\n",
    "}\n",
    "\n",
    "prev_bin_df <- bind_rows(morsels)\n",
    "selected_taxa <- prev_bin_df$taxa"
   ]
  },
  {
   "cell_type": "markdown",
   "id": "d36edd0e",
   "metadata": {},
   "source": [
    "#### Per-batch prevalence of positive controls"
   ]
  },
  {
   "cell_type": "code",
   "execution_count": null,
   "id": "64145848",
   "metadata": {
    "scrolled": false
   },
   "outputs": [],
   "source": [
    "pos_taxa <- read.csv(\"data/reported_controls/damgaard_2015_positive.txt\")$positive_controls\n",
    "pos_taxa <- pos_taxa[pos_taxa %in% colnames(species_prev)]"
   ]
  },
  {
   "cell_type": "code",
   "execution_count": null,
   "id": "4e98aeda",
   "metadata": {},
   "outputs": [],
   "source": [
    "taxon_name <- gsub(\" \", \"_\", taxon)\n",
    "taxon_name <- gsub(\"\\\\.\", \"\", taxon_name)\n",
    "taxon_name"
   ]
  },
  {
   "cell_type": "code",
   "execution_count": null,
   "id": "e5c1c06b",
   "metadata": {},
   "outputs": [],
   "source": [
    "taxon <- \"Streptococcus pneumoniae\"\n",
    "taxon <- \"Moraxella osloensis\"\n",
    "# taxon <- \"Burkholderia cepacia\"\n",
    "# taxon <- \"Actinobacillus pleuropneumoniae\"\n",
    "# taxon <- \"Ralstonia insidiosa\"\n",
    "# column <- \"extraction_kit\"\n",
    "column <- \"hiseq_xtm_flow_cell_v2_5_lot\"\n",
    "\n",
    "prev_stats <- species_prev %>% \n",
    "            left_join(meta, by = \"npm_research_id\") %>%\n",
    "            group_by_at(c(column)) %>%\n",
    "            summarise(sum = sum(get(taxon))) %>%\n",
    "            mutate(batch_n = as.vector(table(meta[, column])),\n",
    "                   prevalence = sum / as.vector(table(meta[, column])))\n",
    "\n",
    "prev_stats %>%\n",
    "    filter(get(column) != \"Unknown\") %>%\n",
    "    ggplot(aes(x = get(column), y = prevalence * 100)) +\n",
    "    geom_bar(stat = \"identity\", fill = \"#6b3074\") +\n",
    "    ylim(-3, 100) +\n",
    "    theme(axis.text.x = element_text(angle = 45, hjust = 1)) +\n",
    "    labs(x = column, y = \"Prevalence (%)\", title = taxon) +\n",
    "    ylim(-3, 100) +\n",
    "    geom_text(aes(x = get(column), y = -3, label = batch_n), angle = 45)\n",
    "\n",
    "taxon_name <- gsub(\" \", \"_\", taxon)\n",
    "taxon_name <- gsub(\"\\\\.\", \"\", taxon_name)\n",
    "ggsave(str_glue(\"results/decontamination/diff_prev_V2/{taxon_name}.prevalence.png\"), dpi = 300)"
   ]
  },
  {
   "cell_type": "markdown",
   "id": "47f7de30",
   "metadata": {},
   "source": [
    "#### For selected taxa"
   ]
  },
  {
   "cell_type": "code",
   "execution_count": null,
   "id": "c9be1542",
   "metadata": {},
   "outputs": [],
   "source": [
    "for (read_t in c(0, 5, 10, 20, 50, 100)) {\n",
    "    species_prev <- species_df %>% select(-npm_research_id, -\"Homo sapiens\", -unclassified)\n",
    "    species_prev[species_prev <= read_t] <- 0\n",
    "    species_prev[species_prev > read_t] <- 1\n",
    "    species_prev <- species_prev %>% add_column(npm_research_id = species_df$npm_research_id, .before = 1)\n",
    "\n",
    "    dir.create(str_glue(\"results/decontamination/diff_prev/diff_prev_sanity_check/selected_taxa/read_t{read_t}/\"))\n",
    "\n",
    "    for (column in meta_cols) {\n",
    "        plot_list <- foreach(taxon = selected_taxa) %do% {\n",
    "            prev_stats <- species_prev %>% \n",
    "                        left_join(meta, by = \"npm_research_id\") %>%\n",
    "                        group_by_at(c(column)) %>%\n",
    "                        summarise(sum = sum(get(taxon))) %>%\n",
    "                        mutate(batch_n = as.vector(table(meta[, column])),\n",
    "                               prevalence = sum / as.vector(table(meta[, column])))\n",
    "\n",
    "            # prev_stats\n",
    "            tmp_plt <- prev_stats %>%\n",
    "                filter(get(column) != \"Unknown\") %>%\n",
    "                ggplot(aes(x = get(column), y = prevalence * 100)) +\n",
    "                ylim(-3, 100) +\n",
    "                geom_text(aes(x = get(column), y = -3, label = batch_n), angle = 45) +\n",
    "                theme(axis.text.x = element_text(angle = 45, hjust = 1)) +\n",
    "                labs(x = column, y = \"Prevalence (%)\", title = taxon)\n",
    "            \n",
    "            bin_level <- prev_bin_df[prev_bin_df$taxa == taxon, ]$bin\n",
    "            \n",
    "            if (bin_level == \"0-5\") {\n",
    "                tmp_plt + geom_bar(stat = \"identity\", fill = \"#98c1d9\")\n",
    "            } else if (bin_level == \"5-25\") {\n",
    "                tmp_plt + geom_bar(stat = \"identity\", fill = \"#3d5a80\")\n",
    "            } else if (bin_level == \"25-50\") {\n",
    "                tmp_plt + geom_bar(stat = \"identity\", fill = \"#6b3074\")\n",
    "            } else {\n",
    "                tmp_plt + geom_bar(stat = \"identity\", fill = \"#ee6c4d\")\n",
    "            }\n",
    "        }\n",
    "        \n",
    "        combined <- egg::ggarrange(plots = plot_list)\n",
    "\n",
    "        ggsave(str_glue(\"results/decontamination/diff_prev/diff_prev_sanity_check/selected_taxa/read_t{read_t}/prevalence.{column}.read_t{read_t}.png\"), plot = combined, width = 40, height = 40)\n",
    "    }\n",
    "}"
   ]
  },
  {
   "cell_type": "markdown",
   "id": "2836af17",
   "metadata": {},
   "source": [
    "#### For positive controls"
   ]
  },
  {
   "cell_type": "code",
   "execution_count": null,
   "id": "7d1925db",
   "metadata": {},
   "outputs": [],
   "source": [
    "# for (read_t in c(0, 1, 2, 4, 5, 10, 20, 50, 100, 500, 1000)) {\n",
    "#     # read_t <- 10\n",
    "#     species_prev <- species_df %>% select(-npm_research_id, -\"Homo sapiens\", -unclassified)\n",
    "#     species_prev[species_prev <= read_t] <- 0\n",
    "#     species_prev[species_prev > read_t] <- 1\n",
    "#     species_prev <- species_prev %>% add_column(npm_research_id = species_df$npm_research_id, .before = 1)\n",
    "\n",
    "#     dir.create(str_glue(\"results/decontamination/diff_prev/diff_prev_sanity_check/pos_controls/read_t{read_t}/\"))\n",
    "\n",
    "#     for (column in meta_cols) {\n",
    "#         plot_list <- foreach(taxon = pos_taxa) %do% {\n",
    "#             prev_stats <- species_prev %>% \n",
    "#                         left_join(meta, by = \"npm_research_id\") %>%\n",
    "#                         group_by_at(c(column)) %>%\n",
    "#                         summarise(sum = sum(get(taxon))) %>%\n",
    "#                         mutate(batch_n = as.vector(table(meta[, column])),\n",
    "#                                prevalence = sum / as.vector(table(meta[, column])))\n",
    "\n",
    "#             # prev_stats\n",
    "#             prev_stats %>%\n",
    "#                 filter(get(column) != \"Unknown\") %>%\n",
    "#                 ggplot(aes(x = get(column), y = prevalence * 100)) +\n",
    "#                 geom_bar(stat = \"identity\") +\n",
    "#                 ylim(-3, 100) +\n",
    "#                 geom_text(aes(x = get(column), y = -3, label = batch_n), angle = 45) +\n",
    "#                 theme(axis.text.x = element_text(angle = 45, hjust = 1)) +\n",
    "#                 labs(x = column, y = \"Prevalence (%)\", title = taxon)\n",
    "#         }\n",
    "\n",
    "#         combined <- egg::ggarrange(plots = plot_list)\n",
    "\n",
    "#         ggsave(str_glue(\"results/decontamination/diff_prev/diff_prev_sanity_check/pos_controls/read_t{read_t}/prevalence.{column}.read_t{read_t}.png\"), plot = combined, width = 40, height = 40)\n",
    "#     }\n",
    "# }"
   ]
  },
  {
   "cell_type": "code",
   "execution_count": null,
   "id": "8850ef33",
   "metadata": {},
   "outputs": [],
   "source": [
    "dawdawdw"
   ]
  },
  {
   "cell_type": "markdown",
   "id": "2a66082f",
   "metadata": {},
   "source": [
    "#### Overall prevalence"
   ]
  },
  {
   "cell_type": "code",
   "execution_count": null,
   "id": "f14b3c61",
   "metadata": {
    "scrolled": true
   },
   "outputs": [],
   "source": [
    "prev_stats <- apply(species_prev[, 2:ncol(species_prev)], 2, sum) / nrow(species_df)\n",
    "prev_df <- data.frame(taxa = names(prev_stats), prevalence = as.vector(prev_stats))\n",
    "prev_df %>% arrange(desc(prevalence))"
   ]
  },
  {
   "cell_type": "code",
   "execution_count": null,
   "id": "a63ed533",
   "metadata": {},
   "outputs": [],
   "source": [
    "all_species <- colnames(species_df %>% select(-npm_research_id, -\"Homo sapiens\", -unclassified))\n",
    "to_include <- prev_df$taxa[prev_df$prevalence != 0]\n",
    "all_species <- all_species[all_species %in% to_include]\n",
    "print(length(all_species))"
   ]
  },
  {
   "cell_type": "code",
   "execution_count": null,
   "id": "4e2683ea",
   "metadata": {},
   "outputs": [],
   "source": [
    "all_species <- colnames(species_df %>% select(-npm_research_id, -\"Homo sapiens\", -unclassified))\n",
    "any(grepl(\"Propionibacterium\", all_species))\n",
    "all_species[grepl(\"Cutibacterium\", all_species)]"
   ]
  },
  {
   "cell_type": "code",
   "execution_count": null,
   "id": "7489c46d",
   "metadata": {},
   "outputs": [],
   "source": [
    "test <- fread(\"results/decontamination/max_batch_prevalence.kit.site.instrument.read_t100.csv\")\n",
    "test %>% \n",
    "    arrange(desc(max_batch_prev)) %>%\n",
    "    filter(max_batch_prev > 0.7)"
   ]
  },
  {
   "cell_type": "code",
   "execution_count": null,
   "id": "0c01d2d3",
   "metadata": {
    "scrolled": true
   },
   "outputs": [],
   "source": [
    "# col <- \"site_supplying_sample\"\n",
    "# taxon <- \"Bradyrhizobium sp. SK17\"\n",
    "system.time({\n",
    "    morsels <- foreach(taxon = all_species) %dopar% {\n",
    "        crumbs <- foreach (col = meta_cols) %do% {\n",
    "            max_batch_prev <- species_prev %>% \n",
    "                left_join(meta) %>% \n",
    "                filter(get(col) != \"Unknown\") %>%\n",
    "                select(all_of(c(taxon, col))) %>%\n",
    "                group_by(get(col)) %>%\n",
    "                summarise(prevalence = sum(get(taxon)) / n())\n",
    "            max_batch_prev <- max(max_batch_prev$prevalence)\n",
    "\n",
    "            tibble(meta_col = col, max_batch_prev = max_batch_prev)\n",
    "        }\n",
    "\n",
    "\n",
    "        crumb <- bind_rows(crumbs)\n",
    "        max_batch_prev <- max(crumb$max_batch_prev)\n",
    "\n",
    "        tibble(meta_col = taxon, max_batch_prev = max_batch_prev)\n",
    "    }\n",
    "\n",
    "    max_prev_df <- bind_rows(morsels)\n",
    "\n",
    "})\n",
    "\n",
    "fwrite(max_prev_df, str_glue(\"results/decontamination/max_batch_prevalence.kit.site.instrument.read_t{read_t}.csv\"))"
   ]
  },
  {
   "cell_type": "code",
   "execution_count": null,
   "id": "3ac68e27",
   "metadata": {},
   "outputs": [],
   "source": [
    "fwrite(max_prev_df, str_glue(\"results/decontamination/max_batch_prevalence.kit.site.instrument.read_t{read_t}.csv\"))"
   ]
  },
  {
   "cell_type": "markdown",
   "id": "8b6b6c69",
   "metadata": {},
   "source": [
    "### Retrieve samples for simulations"
   ]
  },
  {
   "cell_type": "code",
   "execution_count": null,
   "id": "9bc0bcf8",
   "metadata": {},
   "outputs": [],
   "source": [
    "calc <- meta %>%\n",
    "    summarise(min = min(raw_total_sequences), \n",
    "              median = median(raw_total_sequences),\n",
    "              max = max(raw_total_sequences),\n",
    "              n = n_distinct(npm_research_id))\n",
    "\n",
    "calc \n",
    "\n",
    "X <- as.matrix(species_df[, 2:ncol(species_df)])\n",
    "y <- species_df$npm_research_id\n",
    "\n",
    "rowsum_df <- tibble(npm_research_id = y, rowsums = rowSums(X)) %>%\n",
    "    left_join(meta) %>%\n",
    "    mutate(frac_microb = rowsums / raw_total_sequences) \n",
    "\n",
    "rowsum_df %>%\n",
    "    summarise(min = min(rowsums), \n",
    "              median = median(rowsums),\n",
    "              max = max(rowsums),\n",
    "              n = n_distinct(npm_research_id))\n",
    "\n",
    "rowsum_df %>%\n",
    "    summarise(min = min(frac_microb), \n",
    "              median = median(frac_microb),\n",
    "              max = max(frac_microb),\n",
    "              n = n_distinct(npm_research_id))"
   ]
  },
  {
   "cell_type": "code",
   "execution_count": null,
   "id": "7c7c616c",
   "metadata": {},
   "outputs": [],
   "source": [
    "nc <- read.csv(\"results/decontamination/correlation_decontamination/nc.diff_prev.diff_abn.l15h85.corr_t0.1.S.n9999.txt\")$non_contaminant_taxon\n"
   ]
  },
  {
   "cell_type": "code",
   "execution_count": null,
   "id": "bd49cf77",
   "metadata": {
    "scrolled": true
   },
   "outputs": [],
   "source": [
    "test <- species_df %>%\n",
    "    filter(get(\"Human betaherpesvirus 6A\") > 8700) %>%\n",
    "    pivot_longer(!npm_research_id, names_to = \"taxa\", values_to = \"read_count\") %>%\n",
    "    arrange(desc(read_count)) %>%\n",
    "    filter(read_count > 0)\n",
    "test$taxa[test$taxa %in% nc]"
   ]
  },
  {
   "cell_type": "code",
   "execution_count": null,
   "id": "b5b1c877",
   "metadata": {},
   "outputs": [],
   "source": [
    "read.csv(\"data/reported_controls/damgaard_2015_positive.txt\")"
   ]
  },
  {
   "cell_type": "code",
   "execution_count": null,
   "id": "bcf3503f",
   "metadata": {},
   "outputs": [],
   "source": [
    "max(species_df$`Staphylococcus aureus`)"
   ]
  },
  {
   "cell_type": "code",
   "execution_count": null,
   "id": "e33ed6a6",
   "metadata": {
    "scrolled": false
   },
   "outputs": [],
   "source": [
    "species_df %>% \n",
    "    pivot_longer(!npm_research_id, names_to = \"taxa\", values_to = \"read_count\") %>%\n",
    "    group_by(taxa) %>%\n",
    "    summarise(max_count = max(read_count)) %>%\n",
    "    filter(grepl(\"torque teno virus 1|herpes\", taxa, ignore.case = T)) %>%\n",
    "    arrange(desc(max_count)) %>%\n",
    "    head()"
   ]
  },
  {
   "cell_type": "markdown",
   "id": "309cc0ad",
   "metadata": {},
   "source": [
    "### Find no. of taxa in samples with human viruses"
   ]
  },
  {
   "cell_type": "code",
   "execution_count": null,
   "id": "2c79b8b3",
   "metadata": {
    "scrolled": true
   },
   "outputs": [],
   "source": [
    "species_df1 %>% \n",
    "    pivot_longer(!npm_research_id, names_to = \"taxa\", values_to = \"read_count\") %>%\n",
    "    group_by(taxa) %>%\n",
    "    summarise(max_count = max(read_count)) %>%\n",
    "    filter(grepl(\"torque teno|herpes\", taxa, ignore.case = T)) %>%\n",
    "    arrange(desc(max_count)) %>%\n",
    "    head()"
   ]
  },
  {
   "cell_type": "code",
   "execution_count": null,
   "id": "bd4aa6e4",
   "metadata": {
    "scrolled": true
   },
   "outputs": [],
   "source": [
    "species_prev100 %>% \n",
    "    column_to_rownames(\"npm_research_id\") %>%\n",
    "    select_if(grepl(\"Torque teno|Human\", names(.))) %>% colnames()"
   ]
  },
  {
   "cell_type": "code",
   "execution_count": null,
   "id": "4c956a70",
   "metadata": {},
   "outputs": [],
   "source": [
    "species_prev100 <- otu_to_prev(species_df, 100)\n",
    "with_virus <- species_prev100 %>% \n",
    "    column_to_rownames(\"npm_research_id\") %>%\n",
    "    select_if(grepl(\"Torque teno|Human\", names(.))) %>% \n",
    "    mutate(rowsums = rowSums(.)) %>%\n",
    "    filter(rowsums > 0) %>%\n",
    "    rownames()"
   ]
  },
  {
   "cell_type": "code",
   "execution_count": null,
   "id": "414eda8a",
   "metadata": {},
   "outputs": [],
   "source": [
    "species_prev100 %>% \n",
    "    filter(npm_research_id %in% with_virus) %>%\n",
    "    column_to_rownames(\"npm_research_id\") %>%\n",
    "    mutate(rowsums = rowSums(.)) %>%\n",
    "    select(rowsums) %>% \n",
    "    summarise(median = median(rowsums))\n"
   ]
  },
  {
   "cell_type": "markdown",
   "id": "0be0d66d",
   "metadata": {},
   "source": [
    "## Distribution of microbial reads per sample"
   ]
  },
  {
   "cell_type": "code",
   "execution_count": null,
   "id": "80c9c29e",
   "metadata": {
    "scrolled": true
   },
   "outputs": [],
   "source": [
    "read_counts <- apply(genus_df %>% select(-npm_research_id, -unclassified, -Homo), 1, sum)\n",
    "\n",
    "genus_reads <- genus_df %>% \n",
    "    select(-unclassified, -Homo) %>%\n",
    "    mutate(total = rowSums(across(where(is.numeric))))\n",
    "    \n",
    "genus_reads %>% \n",
    "    ggplot(aes(x = log(total, base = 10))) +\n",
    "    geom_histogram(bins = 50) +\n",
    "    labs(x = \"lg(microbial reads)\", y = \"No. of samples\")"
   ]
  },
  {
   "cell_type": "code",
   "execution_count": null,
   "id": "79e6f6a1",
   "metadata": {},
   "outputs": [],
   "source": [
    "load_data(str_glue(\"data/temp_files_9999/07_abundance_matrix/abundance_matrix.subset_9999.S.tsv\")) %>%\n",
    "    column_to_rownames(\"npm_research_id\") %>%\n",
    "    select(-\"Homo sapiens\", -unclassified) %>%\n",
    "    mutate(rowsums = rowSums(.)) %>%\n",
    "    ggplot(aes(x = log(rowsums, base = 10))) +\n",
    "    geom_histogram(bins = 100) +\n",
    "    labs(x = \"Log(classified read counts, base = 10)\", y = \"No. of samples\")"
   ]
  },
  {
   "cell_type": "markdown",
   "id": "814e2cda",
   "metadata": {},
   "source": [
    "## Choosing microbial read per sample threshold"
   ]
  },
  {
   "cell_type": "code",
   "execution_count": null,
   "id": "e0bf4071",
   "metadata": {},
   "outputs": [],
   "source": [
    "n_left <- c()\n",
    "t_vec <- seq(1, 1000, 10)\n",
    "\n",
    "morsels <- foreach (t = t_vec) %do% {\n",
    "    tmp <- genus_reads %>% \n",
    "        filter(total > t)\n",
    "    \n",
    "    morsel <- tibble(t = t, n_left = nrow(tmp))\n",
    "    return(morsel)\n",
    "}\n",
    "\n",
    "head(bind_rows(morsels))\n"
   ]
  },
  {
   "cell_type": "code",
   "execution_count": null,
   "id": "6adab8e7",
   "metadata": {},
   "outputs": [],
   "source": [
    "bind_rows(morsels) %>% \n",
    "    ggplot(aes(x = t, y = n_left)) +\n",
    "    geom_line() +\n",
    "    labs(x = \"Read count threshold\", y = \"No. of samples retained\")"
   ]
  },
  {
   "cell_type": "code",
   "execution_count": null,
   "id": "19c8c74d",
   "metadata": {},
   "outputs": [],
   "source": [
    "genus_reads %>%\n",
    "    left_join(meta) %>%\n",
    "    ggplot(aes(x = site_supplying_sample, y = log(total, base = 10))) +\n",
    "    geom_boxplot()"
   ]
  },
  {
   "cell_type": "code",
   "execution_count": null,
   "id": "7faa8207",
   "metadata": {
    "scrolled": true
   },
   "outputs": [],
   "source": [
    "# t <- 500\n",
    "t <- quantile(genus_reads$total, 0.1)[[1]]\n",
    "to_retain <- genus_reads %>% \n",
    "    filter(total > t) %>%\n",
    "    select(npm_research_id)\n",
    "\n",
    "nrow(to_retain)\n",
    "fwrite(to_retain, str_glue(\"data/samples_above_{t}_reads.txt\"))"
   ]
  },
  {
   "cell_type": "code",
   "execution_count": null,
   "id": "1a29f245",
   "metadata": {},
   "outputs": [],
   "source": [
    "before <- genus_reads %>%\n",
    "    left_join(meta) %>%\n",
    "    ggplot(aes(x = site_supplying_sample, y = log(total, base = 10))) +\n",
    "    geom_boxplot()\n",
    "\n",
    "after <- genus_reads %>%\n",
    "    left_join(meta) %>%\n",
    "    filter(npm_research_id %in% to_retain$npm_research_id) %>%\n",
    "    ggplot(aes(x = site_supplying_sample, y = log(total, base = 10))) +\n",
    "    geom_boxplot()\n",
    "\n",
    "\n",
    "ggarrange(before, after, ncol = 2)"
   ]
  },
  {
   "cell_type": "markdown",
   "id": "fb3524bb",
   "metadata": {},
   "source": [
    "#### Distribution of read counts"
   ]
  },
  {
   "cell_type": "code",
   "execution_count": null,
   "id": "45b5a64c",
   "metadata": {},
   "outputs": [],
   "source": [
    "otu_to_RA <- function(df) {\n",
    "    row_names <- df$npm_research_id\n",
    "    RA_df <- t(apply(df[, 2:ncol(df)], 1, function(x) {x / sum(x)}))\n",
    "    \n",
    "    return(cbind(data.frame(npm_research_id = row_names), as.data.frame(RA_df, check.names = F)))\n",
    "}\n",
    "\n",
    "species_RA <- otu_to_RA(species_df)\n",
    "genus_RA <- otu_to_RA(genus_df)"
   ]
  },
  {
   "cell_type": "code",
   "execution_count": null,
   "id": "f5973c06",
   "metadata": {
    "scrolled": true
   },
   "outputs": [],
   "source": [
    "prev_genus %>%\n",
    "    left_join(meta) %>%\n",
    "    ggplot(aes(x = site_supplying_sample, y = Bradyrhizobium)) +\n",
    "    geom_boxplot()"
   ]
  },
  {
   "cell_type": "code",
   "execution_count": null,
   "id": "d29e6adb",
   "metadata": {},
   "outputs": [],
   "source": [
    "frac <- 0.1\n",
    "RA_long <- species_RA %>%  \n",
    "    sample_frac(frac) %>%\n",
    "    select(-npm_research_id, -\"Homo sapiens\", -unclassified) %>%\n",
    "    pivot_longer(everything(), names_to = \"taxa\", values_to = \"rel_a\") %>%\n",
    "    filter(rel_a != 0) %>% \n",
    "    arrange(desc(rel_a))\n",
    "\n",
    "RA_plt <- RA_long %>%\n",
    "    ggplot(aes(x = log(rel_a))) +\n",
    "    geom_histogram(bins = 100) +\n",
    "    labs(x = \"log(Relative Abundance)\", y = \"Frequency\")\n",
    "\n",
    "species_long <- species_df %>%\n",
    "    sample_frac(frac) %>%\n",
    "    select(-npm_research_id, -\"Homo sapiens\", -unclassified) %>%\n",
    "    pivot_longer(everything(), names_to = \"taxa\", values_to = \"read_count\") %>%\n",
    "    filter(read_count != 0) %>% \n",
    "    arrange(desc(read_count))\n",
    "\n",
    "read_plt <- species_long %>%\n",
    "    ggplot(aes(x = log(read_count))) +\n",
    "    geom_histogram(bins = 100) +\n",
    "    labs(x = \"log(Read Count)\", y = \"Frequency\")\n",
    "\n",
    "ggarrange(read_plt, RA_plt, ncol = 2)"
   ]
  },
  {
   "cell_type": "code",
   "execution_count": null,
   "id": "e23fbe9f",
   "metadata": {},
   "outputs": [],
   "source": [
    "sorted_df <- RA_long %>%\n",
    "    filter(rel_a != 0) %>%\n",
    "    group_by(taxa) %>%\n",
    "    summarise(median = median(rel_a), min = min(rel_a), max = max(rel_a)) %>%\n",
    "    arrange(desc(median))\n",
    "head(sorted_df)"
   ]
  },
  {
   "cell_type": "code",
   "execution_count": null,
   "id": "de0cc95c",
   "metadata": {},
   "outputs": [],
   "source": [
    "prev_dat <- species_RA\n",
    "prev_dat[prev_dat > 0] <- 1"
   ]
  },
  {
   "cell_type": "code",
   "execution_count": null,
   "id": "b8a3f9f6",
   "metadata": {
    "scrolled": true
   },
   "outputs": [],
   "source": [
    "prev_stats <- apply(prev_dat[, 2:ncol(prev_dat)], 2, sum) / nrow(prev_dat)\n",
    "prev_df <- data.frame(taxa = names(prev_stats), prevalence = as.vector(prev_stats))\n",
    "prev_df %>% arrange(desc(prevalence))"
   ]
  },
  {
   "cell_type": "code",
   "execution_count": null,
   "id": "5d6124b7",
   "metadata": {},
   "outputs": [],
   "source": [
    "# to_show <- c(head(sorted_df)$taxa, sorted_df$taxa[grep(\"Stenotrophomonas\", sorted_df$taxa)])\n",
    "to_show <- sorted_df$taxa[grep(\"Moraxella oslo|Nocardia\", sorted_df$taxa)]\n",
    "sorted_df %>% \n",
    "filter(taxa %in% to_show) %>%\n",
    "left_join(prev_df) %>%\n",
    "arrange(desc(prevalence))"
   ]
  },
  {
   "cell_type": "code",
   "execution_count": null,
   "id": "c85ff6ed",
   "metadata": {},
   "outputs": [],
   "source": [
    "nc <- read.csv(\"results/decontamination/prevalence.noncontam.S.n9999.txt\")\n",
    "nc"
   ]
  },
  {
   "cell_type": "code",
   "execution_count": null,
   "id": "bc5c2f0e",
   "metadata": {},
   "outputs": [],
   "source": [
    "sorted_df %>% \n",
    "left_join(prev_df) %>%\n",
    "arrange(desc(prevalence)) %>%\n",
    "mutate(above_t = ifelse(prevalence > 0.5, \"prev_above_50\", \"prev_below_50\")) %>%\n",
    "mutate(text_annot = ifelse(above_t == \"prev_above_50\", taxa, \"\")) %>%\n",
    "recode(text_annot ==)"
   ]
  },
  {
   "cell_type": "code",
   "execution_count": null,
   "id": "21245fab",
   "metadata": {},
   "outputs": [],
   "source": [
    "sorted_df %>% \n",
    "left_join(prev_df) %>%\n",
    "arrange(desc(prevalence)) %>%\n",
    "mutate(above_t = ifelse(prevalence > 0.5, \"prev_above_50\", \"prev_below_50\")) %>%\n",
    "mutate(text_annot = ifelse(above_t == \"prev_above_50\", taxa, \"\")) %>%\n",
    "ggplot(aes(x = taxa, y = prevalence, fill = above_t)) +\n",
    "geom_bar(stat = \"identity\") +\n",
    "geom_text(aes(x = taxa, y = 0.9, label = text_annot))"
   ]
  },
  {
   "cell_type": "code",
   "execution_count": null,
   "id": "beaba641",
   "metadata": {},
   "outputs": [],
   "source": [
    "to_keep <- c(\"Cutibacterium acnes\", \"Staphylococcus aureus\", \"Escherichia\", \"Stenotrophomonas\", \"Bradyrhizobium\")\n",
    "to_search <- paste0(to_keep, collapse = \"|\")\n",
    "RA_long %>% \n",
    "    filter(grepl(to_search, taxa)) %>%\n",
    "    ggplot(aes(x = taxa, y = rel_a)) +\n",
    "    geom_boxplot() +\n",
    "    theme(axis.text.x = element_text(angle = 45, hjust = 1))"
   ]
  },
  {
   "cell_type": "markdown",
   "id": "c1ed294b",
   "metadata": {},
   "source": [
    "#### Prop unclassified"
   ]
  },
  {
   "cell_type": "code",
   "execution_count": null,
   "id": "a53fffed",
   "metadata": {},
   "outputs": [],
   "source": [
    "species_RA <- t(apply(species_df %>% column_to_rownames(\"npm_research_id\"), 1, function(x) {x / sum(x)}))\n",
    "species_RA <- as_tibble(species_RA)"
   ]
  },
  {
   "cell_type": "code",
   "execution_count": null,
   "id": "290565df",
   "metadata": {},
   "outputs": [],
   "source": [
    "nrow(species_RA)\n",
    "species_RA %>% \n",
    "    select(unclassified, \"Homo sapiens\") %>%\n",
    "    pivot_longer(everything(), names_to = \"taxa\", values_to = \"abundance\") %>%\n",
    "    ggplot(aes(y = abundance, fill = taxa, groups = taxa)) +\n",
    "    geom_boxplot() +\n",
    "    facet_grid(cols = vars(taxa)) +\n",
    "    theme(legend.position = \"None\",\n",
    "          axis.text.x = element_blank()) +\n",
    "    labs(y = \"Relative abundance\")\n",
    "\n",
    "ggsave(\"results/unclassified_and_human_boxplot.png\", dpi = 300)"
   ]
  },
  {
   "cell_type": "markdown",
   "id": "0468b6de",
   "metadata": {},
   "source": [
    "#### Heatmap"
   ]
  },
  {
   "cell_type": "code",
   "execution_count": null,
   "id": "35d17711",
   "metadata": {},
   "outputs": [],
   "source": [
    "species_RA_parsed <- species_RA %>% \n",
    "    rownames_to_column(\"npm_research_id\") %>%\n",
    "    sample_n(500, replace = F)\n",
    "\n",
    "long_df <- species_RA_parsed %>% \n",
    "    pivot_longer(!npm_research_id, names_to = \"taxa\", values_to = \"abundance\") %>%\n",
    "    mutate(abundance = ifelse(abundance == 0, NA, abundance)) %>%\n",
    "    mutate(abundance = log(abundance))"
   ]
  },
  {
   "cell_type": "code",
   "execution_count": null,
   "id": "59d6812e",
   "metadata": {},
   "outputs": [],
   "source": [
    "sample_clust <- hclust(dist(species_RA_parsed, method = \"euclidean\"), method = \"ward.D\" )$order\n",
    "taxa_clust <- hclust(dist(t(species_RA_parsed), method = \"euclidean\"), method = \"ward.D\" )$order\n",
    "long_df <- long_df %>% \n",
    "    mutate(npm_research_id = factor(npm_research_id, levels = species_RA_parsed$npm_research_id[clust]),\n",
    "           taxa = factor(taxa, levels = colnames(species_RA_parsed)[taxa_clust]))"
   ]
  },
  {
   "cell_type": "code",
   "execution_count": null,
   "id": "e84858b9",
   "metadata": {},
   "outputs": [],
   "source": [
    "hm <- long_df %>%\n",
    "    ggplot(aes(x = taxa, y = npm_research_id, fill = abundance)) +\n",
    "    geom_tile() +\n",
    "    scale_fill_gradient(na.value = \"white\", low = \"blue\", high = \"red\") +\n",
    "    theme(axis.text = element_blank(),\n",
    "         axis.ticks = element_blank()) +\n",
    "    labs(x = \"Species\", y = \"Samples\", fill = \"log(Relative Abundance)\")\n",
    "\n",
    "hm\n",
    "\n",
    "ggsave(\"results/relative_abundance_heatmap.png\", dpi = 300, plot = hm)"
   ]
  },
  {
   "cell_type": "markdown",
   "id": "4259c24f",
   "metadata": {},
   "source": [
    "### Count and remove samples with no classified reads\n",
    "This may include samples that originally had no reads, and samples whose reads cannot be classified"
   ]
  },
  {
   "cell_type": "code",
   "execution_count": null,
   "id": "fd6f2ec8",
   "metadata": {},
   "outputs": [],
   "source": [
    "count_zero_reads <- function(df) {\n",
    "    df %>%\n",
    "        rowwise() %>%\n",
    "        mutate(total = sum(across(everything()))) %>%\n",
    "        filter(total == 0) %>%\n",
    "        nrow()\n",
    "    }\n",
    "\n",
    "count_zero_reads(species_df)"
   ]
  },
  {
   "cell_type": "markdown",
   "id": "d42c1b6f",
   "metadata": {},
   "source": [
    "### Normalise to relative abundance"
   ]
  },
  {
   "cell_type": "code",
   "execution_count": null,
   "id": "1e0ac7e0",
   "metadata": {
    "scrolled": true
   },
   "outputs": [],
   "source": [
    "normalise <- function(df) {\n",
    "    RA_df <- t(apply(df, 1, function(x) {x / sum(x) * 100}))\n",
    "    return(RA_df)\n",
    "}\n",
    "\n",
    "species_RA <- normalise(species_df)\n",
    "species_RA"
   ]
  },
  {
   "cell_type": "markdown",
   "id": "340fc2bf",
   "metadata": {},
   "source": [
    "## Relative abundance for all samples"
   ]
  },
  {
   "cell_type": "markdown",
   "id": "9364821c",
   "metadata": {},
   "source": [
    "### Matrix --> long format"
   ]
  },
  {
   "cell_type": "code",
   "execution_count": null,
   "id": "eb18395b",
   "metadata": {},
   "outputs": [],
   "source": [
    "to_long_format <- function(RA_df) {\n",
    "    plot_df <- as_tibble(RA_df, rownames = \"sample\") %>%\n",
    "        pivot_longer(!sample, names_to = \"rank\", values_to = \"abundance\")\n",
    "    return(plot_df)\n",
    "    }\n",
    "\n",
    "plot_species_RA <- to_long_format(species_RA)"
   ]
  },
  {
   "cell_type": "markdown",
   "id": "3e0b5b85",
   "metadata": {},
   "source": [
    "### Keep only top N ranks\n",
    "ranked by median relative abundance"
   ]
  },
  {
   "cell_type": "code",
   "execution_count": null,
   "id": "14ddab5b",
   "metadata": {},
   "outputs": [],
   "source": [
    "get_top_N_ranks <- function(plot_df, n_keep) {\n",
    "    ranks_to_keep <- plot_df %>% \n",
    "        group_by(rank) %>%\n",
    "        summarise(median = median(abundance)) %>%\n",
    "        arrange(desc(median))\n",
    "      ranks_to_keep <- ranks_to_keep$rank[1:n_keep]\n",
    "    return(ranks_to_keep)\n",
    "}\n",
    "\n",
    "n_keep <- 8\n",
    "species_to_keep <- get_top_N_ranks(plot_species_RA, n_keep)"
   ]
  },
  {
   "cell_type": "markdown",
   "id": "ddba881b",
   "metadata": {},
   "source": [
    "### Visualise relative abundances"
   ]
  },
  {
   "cell_type": "markdown",
   "id": "0d485a5d",
   "metadata": {},
   "source": [
    "Define palette"
   ]
  },
  {
   "cell_type": "code",
   "execution_count": null,
   "id": "c65fcd64",
   "metadata": {},
   "outputs": [],
   "source": [
    "pal <- c(\"#d1495b\", \"#00798c\", \"#edae49\", \n",
    "         \"#66a182\", \"#2e4057\", \"#8d96a3\",\n",
    "         \"#8E44AD\", \"#2980b9\")"
   ]
  },
  {
   "cell_type": "markdown",
   "id": "cd380962",
   "metadata": {},
   "source": [
    "Order by total percentage of top taxa"
   ]
  },
  {
   "cell_type": "code",
   "execution_count": null,
   "id": "dd399e08",
   "metadata": {},
   "outputs": [],
   "source": [
    "get_sample_order <- function(plot_df, species_to_keep) {\n",
    "    ordered_df <- plot_df %>%\n",
    "        filter(rank %in% species_to_keep) %>%\n",
    "        group_by(sample) %>%\n",
    "        summarise(total = sum(abundance)) %>% \n",
    "        arrange(desc(total))\n",
    "\n",
    "    taxa_order <- ordered_df$sample\n",
    "    return(taxa_order)\n",
    "}\n",
    "\n",
    "sample_order <- get_sample_order(plot_species_RA, species_to_keep)"
   ]
  },
  {
   "cell_type": "markdown",
   "id": "4b6f3e30",
   "metadata": {},
   "source": [
    "Plot"
   ]
  },
  {
   "cell_type": "code",
   "execution_count": null,
   "id": "1fee0e26",
   "metadata": {},
   "outputs": [],
   "source": [
    "get_plot <- function(plot_df, ranks_to_keep, rank_name, sample_order) {\n",
    "    plt <- plot_df %>%\n",
    "        filter(rank %in% ranks_to_keep) %>%\n",
    "        mutate(sample = factor(sample, levels = sample_order)) %>%\n",
    "        ggplot(aes(x = sample, y = abundance, fill = rank)) +\n",
    "            geom_bar(stat = \"identity\", position = \"stack\") +\n",
    "            labs(x = \"Sample\", y = \"Relative abundance (%)\", fill = rank_name) +\n",
    "            theme(axis.text.x = element_blank(),\n",
    "                  axis.ticks.x = element_blank()) +\n",
    "            scale_fill_manual(values = pal[1:n_keep])\n",
    "    return(plt)\n",
    "}\n",
    "\n",
    "# get_plot(plot_family_RA, family_to_keep, \"family\")\n",
    "# get_plot(plot_genus_RA, genus_to_keep, \"genus\")\n",
    "get_plot(plot_species_RA, species_to_keep, \"species\", sample_order)"
   ]
  },
  {
   "cell_type": "markdown",
   "id": "09e7084d",
   "metadata": {},
   "source": [
    "Rather heterogenous"
   ]
  },
  {
   "cell_type": "markdown",
   "id": "9d461ee5",
   "metadata": {},
   "source": [
    "## Relative abundance by cohort"
   ]
  },
  {
   "cell_type": "markdown",
   "id": "34d30f8a",
   "metadata": {},
   "source": [
    "### Add metadata, groupby cohort and --> long format"
   ]
  },
  {
   "cell_type": "code",
   "execution_count": null,
   "id": "a02e0969",
   "metadata": {
    "scrolled": true
   },
   "outputs": [],
   "source": [
    "parse_cohort_data <- function(RA_df) {\n",
    "    plot2_df <- as_tibble(RA_df, rownames = \"sample\") %>%\n",
    "        separate(sample, into = c(NA, \"npm_research_id\"), sep = \"\\\\.\") %>%\n",
    "        left_join(meta, by = \"npm_research_id\")\n",
    "    \n",
    "    plot2_df <- plot2_df %>%\n",
    "    group_by(source_cohort) %>%\n",
    "    summarise(across(where(is.numeric), ~ mean(.x, na.rm = T))) %>%\n",
    "    pivot_longer(!source_cohort, names_to = \"rank\", values_to = \"abundance\")\n",
    "}\n",
    "\n",
    "# cohort_family_RA <- parse_cohort_data(family_RA)\n",
    "# cohort_genus_RA <- parse_cohort_data(genus_RA)\n",
    "cohort_species_RA <- parse_cohort_data(species_RA)"
   ]
  },
  {
   "cell_type": "markdown",
   "id": "bd246f9a",
   "metadata": {},
   "source": [
    "### Visualise"
   ]
  },
  {
   "cell_type": "code",
   "execution_count": null,
   "id": "227e2f37",
   "metadata": {},
   "outputs": [],
   "source": [
    "get_cohort_plt <- function(plot2_df, ranks_to_keep, rank_name) {\n",
    "    plt <- plot2_df %>%\n",
    "        filter(rank %in% ranks_to_keep) %>%\n",
    "    #     mutate(sample = factor(sample, levels = unique(sample)[order(sample)])) %>%\n",
    "        ggplot(aes(x = source_cohort, y = abundance, fill = rank)) +\n",
    "            geom_bar(stat = \"identity\", position = \"stack\") +\n",
    "            labs(x = \"Sample\", y = \"Mean Relative abundance (%)\", fill = rank_name) +\n",
    "            theme(axis.text.x = element_text(angle = 45, hjust = 1),\n",
    "                  axis.ticks.x = element_blank()) +\n",
    "            scale_fill_manual(values = pal[1:n_keep])\n",
    "    return(plt)\n",
    "}\n",
    "\n",
    "# get_cohort_plt(cohort_family_RA, family_to_keep, \"Family\")\n",
    "# get_cohort_plt(cohort_genus_RA, genus_to_keep, \"Genus\")\n",
    "get_cohort_plt(cohort_species_RA, species_to_keep, \"Species\")"
   ]
  }
 ],
 "metadata": {
  "kernelspec": {
   "display_name": "R",
   "language": "R",
   "name": "ir"
  },
  "language_info": {
   "codemirror_mode": "r",
   "file_extension": ".r",
   "mimetype": "text/x-r-source",
   "name": "R",
   "pygments_lexer": "r",
   "version": "4.1.0"
  }
 },
 "nbformat": 4,
 "nbformat_minor": 5
}
