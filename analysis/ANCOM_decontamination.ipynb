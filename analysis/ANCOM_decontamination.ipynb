{
 "cells": [
  {
   "cell_type": "markdown",
   "id": "fe3f3f5c",
   "metadata": {},
   "source": [
    "# Identication of putative contaminant taxa"
   ]
  },
  {
   "cell_type": "code",
   "execution_count": 112,
   "id": "df5c0a42",
   "metadata": {},
   "outputs": [],
   "source": [
    "# tempdir <- function() {return(\"~/.Rtmp\")}"
   ]
  },
  {
   "cell_type": "code",
   "execution_count": 113,
   "id": "440f3650",
   "metadata": {
    "scrolled": true
   },
   "outputs": [],
   "source": [
    "setwd(\"/home/projects/14001280/PROJECTS/blood_microbiome/\")\n",
    "require(tidyverse)\n",
    "require(ggplot2)\n",
    "require(data.table)\n",
    "require(egg)\n",
    "require(ANCOMBC)\n",
    "require(phyloseq)"
   ]
  },
  {
   "cell_type": "markdown",
   "id": "beebb9f2",
   "metadata": {},
   "source": [
    "### Create Phyloseq object"
   ]
  },
  {
   "cell_type": "markdown",
   "id": "e78f0ab1",
   "metadata": {},
   "source": [
    "#### Load abundance matrix"
   ]
  },
  {
   "cell_type": "code",
   "execution_count": 114,
   "id": "d8cd3ad6",
   "metadata": {
    "scrolled": false
   },
   "outputs": [],
   "source": [
    "load_data <- function(file_path) {\n",
    "    df <- fread(file_path) %>%\n",
    "        separate(sample, into = c(NA, \"npm_research_id\"), sep = \"_\")\n",
    "    df <- as.matrix(df,rownames=1)\n",
    "    df <- otu_table(df, taxa_are_rows = F)\n",
    "    return(df)\n",
    "}"
   ]
  },
  {
   "cell_type": "markdown",
   "id": "1659d251",
   "metadata": {},
   "source": [
    "#### Load metadata"
   ]
  },
  {
   "cell_type": "code",
   "execution_count": 115,
   "id": "4b5109a4",
   "metadata": {
    "scrolled": true
   },
   "outputs": [],
   "source": [
    "parse_metadata <- function(file_path, df) {\n",
    "    meta <- as.matrix(fread(file_path, na.strings=c(\"\", NA)), rownames = 1)\n",
    "    meta <- meta[match(rownames(df), rownames(meta)), ]\n",
    "    meta <- as.data.frame(meta[, colnames(meta) != \"removal_requested_by_supplier\"])\n",
    "    meta <- sample_data(meta)\n",
    "    return(meta)\n",
    "}"
   ]
  },
  {
   "cell_type": "markdown",
   "id": "11f52cd8",
   "metadata": {},
   "source": [
    "### Run ANCOM-BC"
   ]
  },
  {
   "cell_type": "markdown",
   "id": "212e3f8e",
   "metadata": {},
   "source": [
    "Default parameters"
   ]
  },
  {
   "cell_type": "code",
   "execution_count": 116,
   "id": "f422731d",
   "metadata": {},
   "outputs": [],
   "source": [
    "get_meta_cols <- function(meta) {\n",
    "    meta_cols <- colnames(meta)[grep(\"kit|flow_cell|instrument_id|source\", colnames(meta))]\n",
    "    to_exclude <- c(\"library_prep_kit\", \"hiseq_xtm_flow_cell_v2_5_id\")\n",
    "    meta_cols <- meta_cols[!(meta_cols %in% to_exclude)]\n",
    "    return(meta_cols)\n",
    "}"
   ]
  },
  {
   "cell_type": "code",
   "execution_count": 117,
   "id": "6386ff0c",
   "metadata": {},
   "outputs": [],
   "source": [
    "print_group_freqs <- function(meta) {\n",
    "    for (col in meta_cols) {\n",
    "        tmp <- tibble(data.frame(meta)) %>%\n",
    "            group_by(get(col)) %>%\n",
    "            summarise(n = n())\n",
    "        print(col)\n",
    "        print(tmp)\n",
    "    }\n",
    "}"
   ]
  },
  {
   "cell_type": "code",
   "execution_count": 118,
   "id": "2393d8ca",
   "metadata": {
    "scrolled": true
   },
   "outputs": [],
   "source": [
    "run_ancom_bc <- function(phy, meta, meta_cols) {\n",
    "    result_list <- list()\n",
    "    n_samples <- 10\n",
    "\n",
    "    for (col in meta_cols) {\n",
    "        print(col)\n",
    "\n",
    "        # Remove levels with < 10 samples\n",
    "        tmp <- tibble(data.frame(meta)) %>%\n",
    "            group_by(get(col)) %>%\n",
    "            summarise(n = n())\n",
    "\n",
    "        # Vector of group levels to keep\n",
    "        to_keep <- tmp[tmp$n >= n_samples, \"get(col)\"]$`get(col)`\n",
    "\n",
    "        # Retrieve groupings\n",
    "        var_values <- sample_data(phy)[[col]]\n",
    "\n",
    "        # Prune groups\n",
    "        phy_subset <- prune_samples(var_values %in% to_keep, phy)\n",
    "        out <- ancombc(phyloseq = phy_subset, formula = col,\n",
    "                      p_adj_method = \"BH\", zero_cut = 1, lib_cut = 0,\n",
    "                      group = col, struc_zero = TRUE, neg_lb = FALSE,\n",
    "                      tol = 1e-5, max_iter = 2, conserve = TRUE,\n",
    "                      alpha = 0.05, global = FALSE)\n",
    "\n",
    "        col_result <- out$res\n",
    "        result_list[[col]] <- col_result\n",
    "        return(result_list)\n",
    "    }\n",
    "}"
   ]
  },
  {
   "cell_type": "markdown",
   "id": "78c9aeac",
   "metadata": {},
   "source": [
    "### Combine non-differentially abundant taxa"
   ]
  },
  {
   "cell_type": "code",
   "execution_count": 126,
   "id": "745e85c9",
   "metadata": {
    "scrolled": true
   },
   "outputs": [],
   "source": [
    "get_non_contaminants <- function(result_list, meta_cols) {\n",
    "    taxa_list <- list()\n",
    "    \n",
    "    for (col in meta_cols) {\n",
    "        print(col)\n",
    "        col_result <- result_list[[col]]\n",
    "        diff <- apply(col_result$diff_abn, 1, sum)\n",
    "        taxa <- data.frame(taxa = names(diff[diff <= 2]))$taxa\n",
    "        taxa_list[[col]] <- taxa\n",
    "        }\n",
    "    \n",
    "    non_contaminants <- Reduce(intersect, taxa_list)\n",
    "    return(non_contaminants)\n",
    "}"
   ]
  },
  {
   "cell_type": "code",
   "execution_count": 128,
   "id": "8d3bd5d4",
   "metadata": {},
   "outputs": [],
   "source": [
    "col_result"
   ]
  },
  {
   "cell_type": "code",
   "execution_count": 127,
   "id": "60431428",
   "metadata": {},
   "outputs": [
    {
     "name": "stdout",
     "output_type": "stream",
     "text": [
      "[1] \"extraction_kit\"\n",
      "[1] \"instrument_id\"\n"
     ]
    },
    {
     "ename": "ERROR",
     "evalue": "Error in apply(col_result$diff_abn, 1, sum): dim(X) must have a positive length\n",
     "output_type": "error",
     "traceback": [
      "Error in apply(col_result$diff_abn, 1, sum): dim(X) must have a positive length\nTraceback:\n",
      "1. get_non_contaminants(result_list, meta_cols)",
      "2. apply(col_result$diff_abn, 1, sum)   # at line 7 of file <text>",
      "3. stop(\"dim(X) must have a positive length\")"
     ]
    }
   ],
   "source": [
    "# # Load data\n",
    "# species_df <- load_data(\"data/temp_files/07_abundance_matrix/subset_100.S.tsv\")\n",
    "# head(species_df)\n",
    "\n",
    "# # Retain relevant metadata\n",
    "# meta <- parse_metadata(\"data/SG10K_Health_metadata.n10714.16March2021.parsed.csv\", species_df)\n",
    "\n",
    "# # Get metadata columns of interest\n",
    "# meta_cols <- get_meta_cols(meta)\n",
    "\n",
    "# # Create phyloseq object\n",
    "# phy <- phyloseq(species_df, meta)\n",
    "\n",
    "# # Print batch levels and frequencies\n",
    "# print_group_freqs(meta)\n",
    "\n",
    "# # # Run ANCOM-BC\n",
    "# result_list <- run_ancom_bc(phy, meta, meta_cols)\n",
    "\n",
    "# Get list of non-contaminants\n",
    "non_contaminants <- get_non_contaminants(result_list, meta_cols)"
   ]
  },
  {
   "cell_type": "code",
   "execution_count": null,
   "id": "e0ac7493",
   "metadata": {},
   "outputs": [],
   "source": []
  },
  {
   "cell_type": "code",
   "execution_count": null,
   "id": "165bed49",
   "metadata": {},
   "outputs": [],
   "source": []
  },
  {
   "cell_type": "code",
   "execution_count": null,
   "id": "ad41d578",
   "metadata": {},
   "outputs": [],
   "source": []
  },
  {
   "cell_type": "code",
   "execution_count": null,
   "id": "66f385d8",
   "metadata": {},
   "outputs": [],
   "source": []
  },
  {
   "cell_type": "code",
   "execution_count": null,
   "id": "fdbc176c",
   "metadata": {},
   "outputs": [],
   "source": []
  },
  {
   "cell_type": "code",
   "execution_count": null,
   "id": "083fc8c3",
   "metadata": {},
   "outputs": [],
   "source": []
  },
  {
   "cell_type": "code",
   "execution_count": null,
   "id": "4e4a03ad",
   "metadata": {},
   "outputs": [],
   "source": []
  },
  {
   "cell_type": "code",
   "execution_count": null,
   "id": "fa970a80",
   "metadata": {},
   "outputs": [],
   "source": []
  },
  {
   "cell_type": "code",
   "execution_count": null,
   "id": "86d69fb8",
   "metadata": {},
   "outputs": [],
   "source": []
  }
 ],
 "metadata": {
  "kernelspec": {
   "display_name": "R",
   "language": "R",
   "name": "ir"
  },
  "language_info": {
   "codemirror_mode": "r",
   "file_extension": ".r",
   "mimetype": "text/x-r-source",
   "name": "R",
   "pygments_lexer": "r",
   "version": "4.1.0"
  }
 },
 "nbformat": 4,
 "nbformat_minor": 5
}
