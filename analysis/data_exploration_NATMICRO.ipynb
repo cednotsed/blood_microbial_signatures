{
 "cells": [
  {
   "cell_type": "markdown",
   "id": "f799b42b",
   "metadata": {},
   "source": [
    "# Miscellaneous visualiations"
   ]
  },
  {
   "cell_type": "code",
   "execution_count": 7,
   "id": "481fcf47",
   "metadata": {},
   "outputs": [
    {
     "data": {
      "text/plain": [
       "R version 4.1.0 (2021-05-18)\n",
       "Platform: x86_64-conda-linux-gnu (64-bit)\n",
       "Running under: Ubuntu 18.04.5 LTS\n",
       "\n",
       "Matrix products: default\n",
       "BLAS/LAPACK: /home/csctan/miniconda3/envs/R-environment/lib/libopenblasp-r0.3.17.so\n",
       "\n",
       "locale:\n",
       " [1] LC_CTYPE=C.UTF-8       LC_NUMERIC=C           LC_TIME=C.UTF-8       \n",
       " [4] LC_COLLATE=C.UTF-8     LC_MONETARY=C.UTF-8    LC_MESSAGES=C.UTF-8   \n",
       " [7] LC_PAPER=C.UTF-8       LC_NAME=C              LC_ADDRESS=C          \n",
       "[10] LC_TELEPHONE=C         LC_MEASUREMENT=C.UTF-8 LC_IDENTIFICATION=C   \n",
       "\n",
       "attached base packages:\n",
       "[1] parallel  stats     graphics  grDevices utils     datasets  methods  \n",
       "[8] base     \n",
       "\n",
       "other attached packages:\n",
       " [1] scales_1.1.1      ggrepel_0.9.1     ggforce_0.3.3     doParallel_1.0.16\n",
       " [5] iterators_1.0.14  foreach_1.5.2     egg_0.4.5         gridExtra_2.3    \n",
       " [9] data.table_1.14.2 forcats_0.5.1     stringr_1.4.0     dplyr_1.0.7      \n",
       "[13] purrr_0.3.4       readr_2.1.0       tidyr_1.1.4       tibble_3.1.6     \n",
       "[17] ggplot2_3.3.5     tidyverse_1.3.1  \n",
       "\n",
       "loaded via a namespace (and not attached):\n",
       " [1] Rcpp_1.0.8.3     lubridate_1.8.0  assertthat_0.2.1 digest_0.6.28   \n",
       " [5] utf8_1.2.2       IRdisplay_1.0    R6_2.5.1         cellranger_1.1.0\n",
       " [9] repr_1.1.3       backports_1.4.0  reprex_2.0.1     evaluate_0.14   \n",
       "[13] httr_1.4.2       pillar_1.6.4     rlang_1.0.2      uuid_1.0-3      \n",
       "[17] readxl_1.3.1     rstudioapi_0.13  polyclip_1.10-0  munsell_0.5.0   \n",
       "[21] broom_0.7.10     compiler_4.1.0   modelr_0.1.8     pkgconfig_2.0.3 \n",
       "[25] base64enc_0.1-3  htmltools_0.5.2  tidyselect_1.1.1 codetools_0.2-18\n",
       "[29] fansi_0.5.0      crayon_1.4.2     tzdb_0.2.0       dbplyr_2.1.1    \n",
       "[33] withr_2.4.2      MASS_7.3-54      grid_4.1.0       jsonlite_1.8.0  \n",
       "[37] gtable_0.3.0     lifecycle_1.0.1  DBI_1.1.1        magrittr_2.0.3  \n",
       "[41] cli_3.1.0        stringi_1.7.5    farver_2.1.0     fs_1.5.0        \n",
       "[45] xml2_1.3.2       ellipsis_0.3.2   generics_0.1.1   vctrs_0.3.8     \n",
       "[49] IRkernel_1.2     tools_4.1.0      glue_1.5.0       tweenr_1.0.2    \n",
       "[53] hms_1.1.1        fastmap_1.1.0    colorspace_2.0-2 rvest_1.0.2     \n",
       "[57] pbdZMQ_0.3-6     haven_2.4.3     "
      ]
     },
     "metadata": {},
     "output_type": "display_data"
    }
   ],
   "source": [
    "sessionInfo()"
   ]
  },
  {
   "cell_type": "code",
   "execution_count": 8,
   "id": "bc15bd3e",
   "metadata": {
    "scrolled": true
   },
   "outputs": [],
   "source": [
    "setwd(\"/mnt/c/Users/Cedric/Desktop/git_repos/blood_microbial_signatures\")\n",
    "require(tidyverse)\n",
    "require(ggplot2)\n",
    "require(data.table)\n",
    "require(egg)\n",
    "require(foreach)\n",
    "require(doParallel)\n",
    "require(ggforce)\n",
    "require(ggrepel)\n",
    "require(scales)\n",
    "# registerDoParallel(cores=8)"
   ]
  },
  {
   "cell_type": "markdown",
   "id": "8dc148ee",
   "metadata": {},
   "source": [
    "## Functions for data parsing"
   ]
  },
  {
   "cell_type": "code",
   "execution_count": 9,
   "id": "9d77d78f",
   "metadata": {
    "scrolled": false
   },
   "outputs": [],
   "source": [
    "load_data <- function(file_path) {\n",
    "    df <- fread(file_path) %>%\n",
    "        separate(sample, into = c(NA, \"npm_research_id\"), sep = \"\\\\.\") %>%\n",
    "        as_tibble()\n",
    "    return(df)\n",
    "}\n",
    "\n",
    "\n",
    "get_meta_cols <- function(meta) {\n",
    "    meta_cols <- colnames(meta)[grep(\"kit|flow_cell|instrument_id|site_supplying\", colnames(meta))]\n",
    "    to_exclude <- c(\"library_prep_kit\", \"hiseq_xtm_flow_cell_v2_5_id\")\n",
    "    meta_cols <- meta_cols[!(meta_cols %in% to_exclude)]\n",
    "    return(meta_cols)\n",
    "}\n",
    "\n",
    "\n",
    "otu_to_RA <- function(df) {\n",
    "    mat <- as.matrix(df[, colnames(df) != \"npm_research_id\"])\n",
    "    RA_df <- as.data.frame(mat / rowSums(mat))\n",
    "    RA_df <- add_column(RA_df, df$npm_research_id, .before = 1)\n",
    "    colnames(RA_df)[1] <- \"npm_research_id\"\n",
    "    \n",
    "    return(RA_df)\n",
    "}\n",
    "\n",
    "get_meta_cols <- function(meta) {\n",
    "    meta_cols <- colnames(meta)[grep(\"kit|flow_cell|instrument_id|site_supplying\", colnames(meta))]\n",
    "    to_exclude <- c(\"library_prep_kit\", \"hiseq_xtm_flow_cell_v2_5_id\")\n",
    "    meta_cols <- meta_cols[!(meta_cols %in% to_exclude)]\n",
    "    return(meta_cols)\n",
    "}\n"
   ]
  },
  {
   "cell_type": "markdown",
   "id": "63d232c4",
   "metadata": {},
   "source": [
    "### Load data"
   ]
  },
  {
   "cell_type": "code",
   "execution_count": 10,
   "id": "5fab1739",
   "metadata": {},
   "outputs": [],
   "source": [
    "species_df <- load_data(str_glue(\"data/taxonomic_profiles/07_abundance_matrix/abundance_matrix.S.pipeline2_210322.tsv\"))\n",
    "# species_old <- load_data(str_glue(\"data/taxonomic_profiles/07_abundance_matrix/abundance_matrix.S.old.tsv\"))\n",
    "\n",
    "meta <- fread(\"data/SG10K_Health_metadata.n10714.16March2021.parsed.csv\")\n",
    "meta_cols <- get_meta_cols(meta)"
   ]
  },
  {
   "cell_type": "code",
   "execution_count": 11,
   "id": "0785535b",
   "metadata": {},
   "outputs": [
    {
     "data": {
      "text/html": [
       "<table class=\"dataframe\">\n",
       "<caption>A tibble: 9765 × 8891</caption>\n",
       "<thead>\n",
       "\t<tr><th scope=col>npm_research_id</th><th scope=col>Fusarium graminearum</th><th scope=col>Plasmodium malariae</th><th scope=col>Toxoplasma gondii</th><th scope=col>Leishmania braziliensis</th><th scope=col>Pseudomonas sp. SXM-1</th><th scope=col>Pseudomonas tolaasii</th><th scope=col>Pseudomonas fluorescens</th><th scope=col>Pseudomonas veronii</th><th scope=col>Pseudomonas oleovorans</th><th scope=col>⋯</th><th scope=col>Campylobacter virus CPX</th><th scope=col>Cypovirus 5</th><th scope=col>Acinetobacter phage Presley</th><th scope=col>Lactobacillus virus P1</th><th scope=col>Stx converting phage vB_EcoS_P27</th><th scope=col>Piscine novirhabdovirus</th><th scope=col>Cellulophaga phage phi13:2</th><th scope=col>Streptococcus infantis</th><th scope=col>Veillonella sp. OK1</th><th scope=col>Drosophila A virus</th></tr>\n",
       "\t<tr><th scope=col>&lt;chr&gt;</th><th scope=col>&lt;dbl&gt;</th><th scope=col>&lt;dbl&gt;</th><th scope=col>&lt;dbl&gt;</th><th scope=col>&lt;dbl&gt;</th><th scope=col>&lt;dbl&gt;</th><th scope=col>&lt;dbl&gt;</th><th scope=col>&lt;dbl&gt;</th><th scope=col>&lt;dbl&gt;</th><th scope=col>&lt;dbl&gt;</th><th scope=col>⋯</th><th scope=col>&lt;dbl&gt;</th><th scope=col>&lt;dbl&gt;</th><th scope=col>&lt;dbl&gt;</th><th scope=col>&lt;dbl&gt;</th><th scope=col>&lt;dbl&gt;</th><th scope=col>&lt;dbl&gt;</th><th scope=col>&lt;dbl&gt;</th><th scope=col>&lt;dbl&gt;</th><th scope=col>&lt;dbl&gt;</th><th scope=col>&lt;dbl&gt;</th></tr>\n",
       "</thead>\n",
       "<tbody>\n",
       "\t<tr><td>WHH1899  </td><td> 1</td><td>1</td><td> 1</td><td>1</td><td> 1</td><td>  1</td><td>   1</td><td>  1</td><td>    1</td><td>⋯</td><td>0</td><td>0</td><td>0</td><td>0</td><td>0</td><td>0</td><td>0</td><td>0</td><td>0</td><td>0</td></tr>\n",
       "\t<tr><td>WHB10753 </td><td> 1</td><td>1</td><td> 4</td><td>1</td><td> 0</td><td>  5</td><td>  16</td><td>  2</td><td>   16</td><td>⋯</td><td>0</td><td>0</td><td>0</td><td>0</td><td>0</td><td>0</td><td>0</td><td>0</td><td>0</td><td>0</td></tr>\n",
       "\t<tr><td>WHB9289  </td><td> 4</td><td>0</td><td> 2</td><td>0</td><td> 0</td><td>  2</td><td>  14</td><td>  2</td><td>    0</td><td>⋯</td><td>0</td><td>0</td><td>0</td><td>0</td><td>0</td><td>0</td><td>0</td><td>0</td><td>0</td><td>0</td></tr>\n",
       "\t<tr><td>WHB7247  </td><td> 1</td><td>0</td><td> 1</td><td>0</td><td> 0</td><td>  1</td><td>   2</td><td>  0</td><td>    0</td><td>⋯</td><td>0</td><td>0</td><td>0</td><td>0</td><td>0</td><td>0</td><td>0</td><td>0</td><td>0</td><td>0</td></tr>\n",
       "\t<tr><td>WHB10124 </td><td> 1</td><td>1</td><td> 0</td><td>1</td><td> 0</td><td>  0</td><td>   0</td><td>  0</td><td>    0</td><td>⋯</td><td>0</td><td>0</td><td>0</td><td>0</td><td>0</td><td>0</td><td>0</td><td>0</td><td>0</td><td>0</td></tr>\n",
       "\t<tr><td>WHB8107  </td><td> 4</td><td>0</td><td> 4</td><td>0</td><td> 0</td><td>  1</td><td>   6</td><td>  0</td><td>    0</td><td>⋯</td><td>0</td><td>0</td><td>0</td><td>0</td><td>0</td><td>0</td><td>0</td><td>0</td><td>0</td><td>0</td></tr>\n",
       "\t<tr><td>WHB9315  </td><td>10</td><td>0</td><td> 1</td><td>0</td><td> 0</td><td>  0</td><td>   1</td><td>  0</td><td>    0</td><td>⋯</td><td>0</td><td>0</td><td>0</td><td>0</td><td>0</td><td>0</td><td>0</td><td>0</td><td>0</td><td>0</td></tr>\n",
       "\t<tr><td>WHB10904 </td><td> 0</td><td>0</td><td> 0</td><td>0</td><td> 0</td><td>  0</td><td>   3</td><td>  0</td><td>    0</td><td>⋯</td><td>0</td><td>0</td><td>0</td><td>0</td><td>0</td><td>0</td><td>0</td><td>0</td><td>0</td><td>0</td></tr>\n",
       "\t<tr><td>WHB8989  </td><td> 0</td><td>0</td><td> 5</td><td>0</td><td> 0</td><td>  0</td><td>   1</td><td>  0</td><td>    0</td><td>⋯</td><td>0</td><td>0</td><td>0</td><td>0</td><td>0</td><td>0</td><td>0</td><td>0</td><td>0</td><td>0</td></tr>\n",
       "\t<tr><td>WHH1247  </td><td> 0</td><td>0</td><td> 1</td><td>0</td><td> 0</td><td>  0</td><td>   0</td><td>  0</td><td>    0</td><td>⋯</td><td>0</td><td>0</td><td>0</td><td>0</td><td>0</td><td>0</td><td>0</td><td>0</td><td>0</td><td>0</td></tr>\n",
       "\t<tr><td>WHB9026  </td><td> 2</td><td>0</td><td> 3</td><td>1</td><td> 0</td><td>  0</td><td>   3</td><td>  0</td><td>    2</td><td>⋯</td><td>0</td><td>0</td><td>0</td><td>0</td><td>0</td><td>0</td><td>0</td><td>0</td><td>0</td><td>0</td></tr>\n",
       "\t<tr><td>WHB7636  </td><td> 1</td><td>1</td><td>12</td><td>1</td><td> 0</td><td>  2</td><td>   1</td><td>  0</td><td>    0</td><td>⋯</td><td>0</td><td>0</td><td>0</td><td>0</td><td>0</td><td>0</td><td>0</td><td>0</td><td>0</td><td>0</td></tr>\n",
       "\t<tr><td>WHB10463 </td><td> 6</td><td>0</td><td> 1</td><td>0</td><td> 0</td><td>  0</td><td>   0</td><td>  0</td><td>    0</td><td>⋯</td><td>0</td><td>0</td><td>0</td><td>0</td><td>0</td><td>0</td><td>0</td><td>0</td><td>0</td><td>0</td></tr>\n",
       "\t<tr><td>WHB5071  </td><td> 0</td><td>1</td><td> 0</td><td>0</td><td> 1</td><td> 15</td><td> 127</td><td> 17</td><td>  906</td><td>⋯</td><td>0</td><td>0</td><td>0</td><td>0</td><td>0</td><td>0</td><td>0</td><td>0</td><td>0</td><td>0</td></tr>\n",
       "\t<tr><td>WHH7173  </td><td> 1</td><td>0</td><td> 3</td><td>0</td><td> 0</td><td>  0</td><td>   0</td><td>  0</td><td>    0</td><td>⋯</td><td>0</td><td>0</td><td>0</td><td>0</td><td>0</td><td>0</td><td>0</td><td>0</td><td>0</td><td>0</td></tr>\n",
       "\t<tr><td>WHB9432  </td><td> 1</td><td>0</td><td> 3</td><td>1</td><td> 0</td><td>  0</td><td>   1</td><td>  0</td><td>    0</td><td>⋯</td><td>0</td><td>0</td><td>0</td><td>0</td><td>0</td><td>0</td><td>0</td><td>0</td><td>0</td><td>0</td></tr>\n",
       "\t<tr><td>WHB492   </td><td> 0</td><td>0</td><td> 0</td><td>0</td><td> 0</td><td>  0</td><td>   0</td><td>  0</td><td>    0</td><td>⋯</td><td>0</td><td>0</td><td>0</td><td>0</td><td>0</td><td>0</td><td>0</td><td>0</td><td>0</td><td>0</td></tr>\n",
       "\t<tr><td>WHB9508  </td><td> 0</td><td>0</td><td> 4</td><td>1</td><td> 0</td><td>  1</td><td>   4</td><td>  0</td><td>    0</td><td>⋯</td><td>0</td><td>0</td><td>0</td><td>0</td><td>0</td><td>0</td><td>0</td><td>0</td><td>0</td><td>0</td></tr>\n",
       "\t<tr><td>WHB572   </td><td> 1</td><td>0</td><td> 2</td><td>2</td><td> 0</td><td>  0</td><td>   0</td><td>  0</td><td>    0</td><td>⋯</td><td>0</td><td>0</td><td>0</td><td>0</td><td>0</td><td>0</td><td>0</td><td>0</td><td>0</td><td>0</td></tr>\n",
       "\t<tr><td>WHB631   </td><td> 1</td><td>0</td><td> 0</td><td>0</td><td> 0</td><td>  0</td><td>   0</td><td>  0</td><td>    0</td><td>⋯</td><td>0</td><td>0</td><td>0</td><td>0</td><td>0</td><td>0</td><td>0</td><td>0</td><td>0</td><td>0</td></tr>\n",
       "\t<tr><td>WHB3999  </td><td> 9</td><td>0</td><td> 4</td><td>0</td><td> 0</td><td>  0</td><td>   7</td><td>  0</td><td>    0</td><td>⋯</td><td>0</td><td>0</td><td>0</td><td>0</td><td>0</td><td>0</td><td>0</td><td>0</td><td>0</td><td>0</td></tr>\n",
       "\t<tr><td>WHH1448  </td><td> 4</td><td>0</td><td> 1</td><td>0</td><td> 0</td><td>  7</td><td>   2</td><td>  0</td><td>    0</td><td>⋯</td><td>0</td><td>0</td><td>0</td><td>0</td><td>0</td><td>0</td><td>0</td><td>0</td><td>0</td><td>0</td></tr>\n",
       "\t<tr><td>WHB6711  </td><td> 3</td><td>0</td><td> 2</td><td>0</td><td> 0</td><td>  0</td><td>   0</td><td>  0</td><td>    0</td><td>⋯</td><td>0</td><td>0</td><td>0</td><td>0</td><td>0</td><td>0</td><td>0</td><td>0</td><td>0</td><td>0</td></tr>\n",
       "\t<tr><td>WHH1095  </td><td> 2</td><td>1</td><td> 2</td><td>0</td><td> 0</td><td>  1</td><td>   1</td><td>  0</td><td>    0</td><td>⋯</td><td>0</td><td>0</td><td>0</td><td>0</td><td>0</td><td>0</td><td>0</td><td>0</td><td>0</td><td>0</td></tr>\n",
       "\t<tr><td>0815-0054</td><td>17</td><td>0</td><td> 0</td><td>1</td><td>16</td><td>113</td><td>1608</td><td>177</td><td>12562</td><td>⋯</td><td>0</td><td>0</td><td>0</td><td>0</td><td>0</td><td>0</td><td>0</td><td>0</td><td>0</td><td>0</td></tr>\n",
       "\t<tr><td>WHB828   </td><td> 1</td><td>2</td><td> 0</td><td>0</td><td> 0</td><td>  0</td><td>   0</td><td>  0</td><td>    1</td><td>⋯</td><td>0</td><td>0</td><td>0</td><td>0</td><td>0</td><td>0</td><td>0</td><td>0</td><td>0</td><td>0</td></tr>\n",
       "\t<tr><td>WHB4583  </td><td> 2</td><td>0</td><td> 1</td><td>4</td><td> 0</td><td>  0</td><td>   0</td><td>  0</td><td>    1</td><td>⋯</td><td>0</td><td>0</td><td>0</td><td>0</td><td>0</td><td>0</td><td>0</td><td>0</td><td>0</td><td>0</td></tr>\n",
       "\t<tr><td>WHH525   </td><td> 0</td><td>0</td><td> 0</td><td>0</td><td> 0</td><td>  0</td><td>   1</td><td>  0</td><td>    0</td><td>⋯</td><td>0</td><td>0</td><td>0</td><td>0</td><td>0</td><td>0</td><td>0</td><td>0</td><td>0</td><td>0</td></tr>\n",
       "\t<tr><td>WHH2345  </td><td> 2</td><td>0</td><td> 1</td><td>0</td><td> 5</td><td> 61</td><td> 840</td><td> 75</td><td> 6105</td><td>⋯</td><td>0</td><td>0</td><td>0</td><td>0</td><td>0</td><td>0</td><td>0</td><td>0</td><td>0</td><td>0</td></tr>\n",
       "\t<tr><td>WHB10464 </td><td> 2</td><td>0</td><td> 1</td><td>0</td><td> 0</td><td>  0</td><td>   0</td><td>  0</td><td>    0</td><td>⋯</td><td>0</td><td>0</td><td>0</td><td>0</td><td>0</td><td>0</td><td>0</td><td>0</td><td>0</td><td>0</td></tr>\n",
       "\t<tr><td>⋮</td><td>⋮</td><td>⋮</td><td>⋮</td><td>⋮</td><td>⋮</td><td>⋮</td><td>⋮</td><td>⋮</td><td>⋮</td><td>⋱</td><td>⋮</td><td>⋮</td><td>⋮</td><td>⋮</td><td>⋮</td><td>⋮</td><td>⋮</td><td>⋮</td><td>⋮</td><td>⋮</td></tr>\n",
       "\t<tr><td>WHB7170  </td><td>5</td><td>1</td><td> 2</td><td>0</td><td> 0</td><td>  0</td><td>   1</td><td>  0</td><td>    0</td><td>⋯</td><td>0</td><td>0</td><td>0</td><td>0</td><td>0</td><td>0</td><td>0</td><td> 0</td><td>0</td><td> 0</td></tr>\n",
       "\t<tr><td>WHB4008  </td><td>1</td><td>0</td><td> 9</td><td>1</td><td> 0</td><td>  0</td><td>   3</td><td>  0</td><td>    0</td><td>⋯</td><td>0</td><td>0</td><td>0</td><td>0</td><td>0</td><td>0</td><td>0</td><td> 0</td><td>0</td><td> 0</td></tr>\n",
       "\t<tr><td>WHB8692  </td><td>0</td><td>0</td><td> 1</td><td>0</td><td> 0</td><td>  0</td><td>   0</td><td>  0</td><td>    0</td><td>⋯</td><td>0</td><td>0</td><td>0</td><td>0</td><td>0</td><td>0</td><td>0</td><td> 0</td><td>0</td><td> 0</td></tr>\n",
       "\t<tr><td>WHB9874  </td><td>0</td><td>1</td><td> 0</td><td>0</td><td> 0</td><td>  0</td><td>   6</td><td>  1</td><td>    1</td><td>⋯</td><td>0</td><td>0</td><td>0</td><td>0</td><td>0</td><td>0</td><td>0</td><td> 0</td><td>0</td><td> 0</td></tr>\n",
       "\t<tr><td>WHB3995  </td><td>5</td><td>1</td><td> 3</td><td>3</td><td> 0</td><td>  0</td><td>   6</td><td>  0</td><td>    0</td><td>⋯</td><td>0</td><td>0</td><td>0</td><td>0</td><td>0</td><td>0</td><td>0</td><td> 0</td><td>0</td><td> 0</td></tr>\n",
       "\t<tr><td>WHB7783  </td><td>0</td><td>1</td><td> 3</td><td>0</td><td> 0</td><td>  4</td><td>  13</td><td>  0</td><td>    0</td><td>⋯</td><td>0</td><td>0</td><td>0</td><td>0</td><td>0</td><td>0</td><td>0</td><td> 0</td><td>0</td><td> 0</td></tr>\n",
       "\t<tr><td>WHB9836  </td><td>4</td><td>0</td><td> 0</td><td>0</td><td> 0</td><td>  0</td><td>   0</td><td>  0</td><td>    0</td><td>⋯</td><td>0</td><td>0</td><td>0</td><td>0</td><td>0</td><td>0</td><td>0</td><td> 0</td><td>0</td><td> 0</td></tr>\n",
       "\t<tr><td>WHB9712  </td><td>1</td><td>0</td><td> 0</td><td>0</td><td> 0</td><td>  0</td><td>   0</td><td>  0</td><td>    0</td><td>⋯</td><td>0</td><td>0</td><td>0</td><td>0</td><td>0</td><td>0</td><td>0</td><td> 0</td><td>0</td><td> 0</td></tr>\n",
       "\t<tr><td>WHB985   </td><td>3</td><td>0</td><td> 3</td><td>3</td><td> 0</td><td>  0</td><td>   0</td><td>  0</td><td>    0</td><td>⋯</td><td>0</td><td>0</td><td>0</td><td>0</td><td>0</td><td>0</td><td>0</td><td> 0</td><td>0</td><td> 0</td></tr>\n",
       "\t<tr><td>WHB609   </td><td>1</td><td>0</td><td> 1</td><td>1</td><td> 0</td><td>  0</td><td>   0</td><td>  0</td><td>    0</td><td>⋯</td><td>0</td><td>0</td><td>0</td><td>0</td><td>0</td><td>0</td><td>0</td><td> 0</td><td>0</td><td> 0</td></tr>\n",
       "\t<tr><td>WHH4997  </td><td>4</td><td>0</td><td> 3</td><td>0</td><td> 0</td><td>  0</td><td>   0</td><td>  0</td><td>    3</td><td>⋯</td><td>0</td><td>0</td><td>0</td><td>0</td><td>0</td><td>0</td><td>0</td><td> 0</td><td>0</td><td> 0</td></tr>\n",
       "\t<tr><td>WHB9745  </td><td>1</td><td>0</td><td> 2</td><td>1</td><td> 0</td><td>  0</td><td>   0</td><td>  0</td><td>    0</td><td>⋯</td><td>1</td><td>1</td><td>0</td><td>0</td><td>0</td><td>0</td><td>0</td><td> 0</td><td>0</td><td> 0</td></tr>\n",
       "\t<tr><td>WHB4671  </td><td>5</td><td>0</td><td> 5</td><td>2</td><td> 0</td><td>  1</td><td>   0</td><td>  0</td><td>    0</td><td>⋯</td><td>0</td><td>0</td><td>0</td><td>0</td><td>0</td><td>0</td><td>0</td><td> 0</td><td>0</td><td> 0</td></tr>\n",
       "\t<tr><td>WHB4722  </td><td>6</td><td>0</td><td>10</td><td>3</td><td> 0</td><td>  0</td><td>   0</td><td>  0</td><td>    0</td><td>⋯</td><td>0</td><td>0</td><td>1</td><td>0</td><td>0</td><td>0</td><td>0</td><td> 0</td><td>0</td><td> 0</td></tr>\n",
       "\t<tr><td>WHB9887  </td><td>2</td><td>1</td><td> 2</td><td>3</td><td> 0</td><td>  0</td><td>   7</td><td>  0</td><td>    3</td><td>⋯</td><td>0</td><td>0</td><td>0</td><td>0</td><td>0</td><td>0</td><td>0</td><td> 0</td><td>0</td><td> 0</td></tr>\n",
       "\t<tr><td>WHB5217  </td><td>1</td><td>0</td><td> 0</td><td>1</td><td> 1</td><td>  4</td><td> 138</td><td>  7</td><td>  977</td><td>⋯</td><td>0</td><td>0</td><td>0</td><td>0</td><td>0</td><td>0</td><td>0</td><td> 0</td><td>0</td><td> 0</td></tr>\n",
       "\t<tr><td>0116-0047</td><td>3</td><td>1</td><td> 0</td><td>0</td><td>10</td><td> 57</td><td> 893</td><td>101</td><td> 6251</td><td>⋯</td><td>0</td><td>0</td><td>0</td><td>0</td><td>0</td><td>0</td><td>0</td><td> 0</td><td>0</td><td> 0</td></tr>\n",
       "\t<tr><td>WHB3868  </td><td>3</td><td>0</td><td>29</td><td>1</td><td> 0</td><td>  0</td><td>   2</td><td>  0</td><td>    0</td><td>⋯</td><td>0</td><td>0</td><td>0</td><td>1</td><td>1</td><td>1</td><td>0</td><td> 0</td><td>0</td><td> 0</td></tr>\n",
       "\t<tr><td>WHB10002 </td><td>2</td><td>0</td><td> 1</td><td>0</td><td> 0</td><td>  0</td><td>   1</td><td>  0</td><td>    0</td><td>⋯</td><td>0</td><td>0</td><td>0</td><td>0</td><td>0</td><td>0</td><td>0</td><td> 0</td><td>0</td><td> 0</td></tr>\n",
       "\t<tr><td>WHB8595  </td><td>1</td><td>0</td><td> 5</td><td>1</td><td> 0</td><td>  3</td><td>   2</td><td>  0</td><td>    0</td><td>⋯</td><td>0</td><td>0</td><td>0</td><td>0</td><td>0</td><td>0</td><td>1</td><td> 0</td><td>0</td><td> 0</td></tr>\n",
       "\t<tr><td>WHH1577  </td><td>1</td><td>1</td><td> 1</td><td>1</td><td> 0</td><td>  1</td><td>   1</td><td>  0</td><td>    0</td><td>⋯</td><td>0</td><td>0</td><td>0</td><td>0</td><td>0</td><td>0</td><td>0</td><td> 0</td><td>0</td><td> 0</td></tr>\n",
       "\t<tr><td>WHH1174  </td><td>1</td><td>0</td><td> 1</td><td>0</td><td> 0</td><td>  0</td><td>   0</td><td>  0</td><td>    0</td><td>⋯</td><td>0</td><td>0</td><td>0</td><td>0</td><td>0</td><td>0</td><td>0</td><td> 0</td><td>0</td><td> 0</td></tr>\n",
       "\t<tr><td>WHB9643  </td><td>1</td><td>0</td><td> 1</td><td>0</td><td> 0</td><td>  1</td><td>   3</td><td>  0</td><td>    0</td><td>⋯</td><td>0</td><td>0</td><td>0</td><td>0</td><td>0</td><td>0</td><td>0</td><td> 0</td><td>0</td><td> 0</td></tr>\n",
       "\t<tr><td>WHB10078 </td><td>1</td><td>1</td><td> 3</td><td>0</td><td> 0</td><td>  0</td><td>   0</td><td>  0</td><td>    0</td><td>⋯</td><td>0</td><td>0</td><td>0</td><td>0</td><td>0</td><td>0</td><td>0</td><td> 0</td><td>0</td><td> 0</td></tr>\n",
       "\t<tr><td>WHB6234  </td><td>1</td><td>0</td><td> 1</td><td>1</td><td> 0</td><td>  1</td><td>   0</td><td>  0</td><td>    0</td><td>⋯</td><td>0</td><td>0</td><td>0</td><td>0</td><td>0</td><td>0</td><td>0</td><td> 0</td><td>0</td><td> 0</td></tr>\n",
       "\t<tr><td>0515-0023</td><td>1</td><td>1</td><td> 3</td><td>0</td><td>16</td><td>144</td><td>2319</td><td>219</td><td>16879</td><td>⋯</td><td>0</td><td>0</td><td>0</td><td>0</td><td>0</td><td>0</td><td>0</td><td>16</td><td>2</td><td>15</td></tr>\n",
       "\t<tr><td>WHB4487  </td><td>4</td><td>0</td><td> 3</td><td>1</td><td> 0</td><td>  0</td><td>   0</td><td>  0</td><td>    0</td><td>⋯</td><td>0</td><td>0</td><td>0</td><td>0</td><td>0</td><td>0</td><td>0</td><td> 0</td><td>0</td><td> 0</td></tr>\n",
       "\t<tr><td>WHB9514  </td><td>5</td><td>0</td><td> 1</td><td>1</td><td> 0</td><td>  1</td><td>   4</td><td>  0</td><td>    1</td><td>⋯</td><td>0</td><td>0</td><td>0</td><td>0</td><td>0</td><td>0</td><td>0</td><td> 0</td><td>0</td><td> 0</td></tr>\n",
       "\t<tr><td>WHH1221  </td><td>1</td><td>0</td><td> 0</td><td>0</td><td> 0</td><td>  0</td><td>   2</td><td>  0</td><td>    0</td><td>⋯</td><td>0</td><td>0</td><td>0</td><td>0</td><td>0</td><td>0</td><td>0</td><td> 0</td><td>0</td><td> 0</td></tr>\n",
       "\t<tr><td>WHH1911  </td><td>1</td><td>0</td><td> 0</td><td>1</td><td> 0</td><td>  1</td><td>   0</td><td>  0</td><td>    0</td><td>⋯</td><td>0</td><td>0</td><td>0</td><td>0</td><td>0</td><td>0</td><td>0</td><td> 0</td><td>0</td><td> 0</td></tr>\n",
       "</tbody>\n",
       "</table>\n"
      ],
      "text/latex": [
       "A tibble: 9765 × 8891\n",
       "\\begin{tabular}{lllllllllllllllllllll}\n",
       " npm\\_research\\_id & Fusarium graminearum & Plasmodium malariae & Toxoplasma gondii & Leishmania braziliensis & Pseudomonas sp. SXM-1 & Pseudomonas tolaasii & Pseudomonas fluorescens & Pseudomonas veronii & Pseudomonas oleovorans & ⋯ & Campylobacter virus CPX & Cypovirus 5 & Acinetobacter phage Presley & Lactobacillus virus P1 & Stx converting phage vB\\_EcoS\\_P27 & Piscine novirhabdovirus & Cellulophaga phage phi13:2 & Streptococcus infantis & Veillonella sp. OK1 & Drosophila A virus\\\\\n",
       " <chr> & <dbl> & <dbl> & <dbl> & <dbl> & <dbl> & <dbl> & <dbl> & <dbl> & <dbl> & ⋯ & <dbl> & <dbl> & <dbl> & <dbl> & <dbl> & <dbl> & <dbl> & <dbl> & <dbl> & <dbl>\\\\\n",
       "\\hline\n",
       "\t WHH1899   &  1 & 1 &  1 & 1 &  1 &   1 &    1 &   1 &     1 & ⋯ & 0 & 0 & 0 & 0 & 0 & 0 & 0 & 0 & 0 & 0\\\\\n",
       "\t WHB10753  &  1 & 1 &  4 & 1 &  0 &   5 &   16 &   2 &    16 & ⋯ & 0 & 0 & 0 & 0 & 0 & 0 & 0 & 0 & 0 & 0\\\\\n",
       "\t WHB9289   &  4 & 0 &  2 & 0 &  0 &   2 &   14 &   2 &     0 & ⋯ & 0 & 0 & 0 & 0 & 0 & 0 & 0 & 0 & 0 & 0\\\\\n",
       "\t WHB7247   &  1 & 0 &  1 & 0 &  0 &   1 &    2 &   0 &     0 & ⋯ & 0 & 0 & 0 & 0 & 0 & 0 & 0 & 0 & 0 & 0\\\\\n",
       "\t WHB10124  &  1 & 1 &  0 & 1 &  0 &   0 &    0 &   0 &     0 & ⋯ & 0 & 0 & 0 & 0 & 0 & 0 & 0 & 0 & 0 & 0\\\\\n",
       "\t WHB8107   &  4 & 0 &  4 & 0 &  0 &   1 &    6 &   0 &     0 & ⋯ & 0 & 0 & 0 & 0 & 0 & 0 & 0 & 0 & 0 & 0\\\\\n",
       "\t WHB9315   & 10 & 0 &  1 & 0 &  0 &   0 &    1 &   0 &     0 & ⋯ & 0 & 0 & 0 & 0 & 0 & 0 & 0 & 0 & 0 & 0\\\\\n",
       "\t WHB10904  &  0 & 0 &  0 & 0 &  0 &   0 &    3 &   0 &     0 & ⋯ & 0 & 0 & 0 & 0 & 0 & 0 & 0 & 0 & 0 & 0\\\\\n",
       "\t WHB8989   &  0 & 0 &  5 & 0 &  0 &   0 &    1 &   0 &     0 & ⋯ & 0 & 0 & 0 & 0 & 0 & 0 & 0 & 0 & 0 & 0\\\\\n",
       "\t WHH1247   &  0 & 0 &  1 & 0 &  0 &   0 &    0 &   0 &     0 & ⋯ & 0 & 0 & 0 & 0 & 0 & 0 & 0 & 0 & 0 & 0\\\\\n",
       "\t WHB9026   &  2 & 0 &  3 & 1 &  0 &   0 &    3 &   0 &     2 & ⋯ & 0 & 0 & 0 & 0 & 0 & 0 & 0 & 0 & 0 & 0\\\\\n",
       "\t WHB7636   &  1 & 1 & 12 & 1 &  0 &   2 &    1 &   0 &     0 & ⋯ & 0 & 0 & 0 & 0 & 0 & 0 & 0 & 0 & 0 & 0\\\\\n",
       "\t WHB10463  &  6 & 0 &  1 & 0 &  0 &   0 &    0 &   0 &     0 & ⋯ & 0 & 0 & 0 & 0 & 0 & 0 & 0 & 0 & 0 & 0\\\\\n",
       "\t WHB5071   &  0 & 1 &  0 & 0 &  1 &  15 &  127 &  17 &   906 & ⋯ & 0 & 0 & 0 & 0 & 0 & 0 & 0 & 0 & 0 & 0\\\\\n",
       "\t WHH7173   &  1 & 0 &  3 & 0 &  0 &   0 &    0 &   0 &     0 & ⋯ & 0 & 0 & 0 & 0 & 0 & 0 & 0 & 0 & 0 & 0\\\\\n",
       "\t WHB9432   &  1 & 0 &  3 & 1 &  0 &   0 &    1 &   0 &     0 & ⋯ & 0 & 0 & 0 & 0 & 0 & 0 & 0 & 0 & 0 & 0\\\\\n",
       "\t WHB492    &  0 & 0 &  0 & 0 &  0 &   0 &    0 &   0 &     0 & ⋯ & 0 & 0 & 0 & 0 & 0 & 0 & 0 & 0 & 0 & 0\\\\\n",
       "\t WHB9508   &  0 & 0 &  4 & 1 &  0 &   1 &    4 &   0 &     0 & ⋯ & 0 & 0 & 0 & 0 & 0 & 0 & 0 & 0 & 0 & 0\\\\\n",
       "\t WHB572    &  1 & 0 &  2 & 2 &  0 &   0 &    0 &   0 &     0 & ⋯ & 0 & 0 & 0 & 0 & 0 & 0 & 0 & 0 & 0 & 0\\\\\n",
       "\t WHB631    &  1 & 0 &  0 & 0 &  0 &   0 &    0 &   0 &     0 & ⋯ & 0 & 0 & 0 & 0 & 0 & 0 & 0 & 0 & 0 & 0\\\\\n",
       "\t WHB3999   &  9 & 0 &  4 & 0 &  0 &   0 &    7 &   0 &     0 & ⋯ & 0 & 0 & 0 & 0 & 0 & 0 & 0 & 0 & 0 & 0\\\\\n",
       "\t WHH1448   &  4 & 0 &  1 & 0 &  0 &   7 &    2 &   0 &     0 & ⋯ & 0 & 0 & 0 & 0 & 0 & 0 & 0 & 0 & 0 & 0\\\\\n",
       "\t WHB6711   &  3 & 0 &  2 & 0 &  0 &   0 &    0 &   0 &     0 & ⋯ & 0 & 0 & 0 & 0 & 0 & 0 & 0 & 0 & 0 & 0\\\\\n",
       "\t WHH1095   &  2 & 1 &  2 & 0 &  0 &   1 &    1 &   0 &     0 & ⋯ & 0 & 0 & 0 & 0 & 0 & 0 & 0 & 0 & 0 & 0\\\\\n",
       "\t 0815-0054 & 17 & 0 &  0 & 1 & 16 & 113 & 1608 & 177 & 12562 & ⋯ & 0 & 0 & 0 & 0 & 0 & 0 & 0 & 0 & 0 & 0\\\\\n",
       "\t WHB828    &  1 & 2 &  0 & 0 &  0 &   0 &    0 &   0 &     1 & ⋯ & 0 & 0 & 0 & 0 & 0 & 0 & 0 & 0 & 0 & 0\\\\\n",
       "\t WHB4583   &  2 & 0 &  1 & 4 &  0 &   0 &    0 &   0 &     1 & ⋯ & 0 & 0 & 0 & 0 & 0 & 0 & 0 & 0 & 0 & 0\\\\\n",
       "\t WHH525    &  0 & 0 &  0 & 0 &  0 &   0 &    1 &   0 &     0 & ⋯ & 0 & 0 & 0 & 0 & 0 & 0 & 0 & 0 & 0 & 0\\\\\n",
       "\t WHH2345   &  2 & 0 &  1 & 0 &  5 &  61 &  840 &  75 &  6105 & ⋯ & 0 & 0 & 0 & 0 & 0 & 0 & 0 & 0 & 0 & 0\\\\\n",
       "\t WHB10464  &  2 & 0 &  1 & 0 &  0 &   0 &    0 &   0 &     0 & ⋯ & 0 & 0 & 0 & 0 & 0 & 0 & 0 & 0 & 0 & 0\\\\\n",
       "\t ⋮ & ⋮ & ⋮ & ⋮ & ⋮ & ⋮ & ⋮ & ⋮ & ⋮ & ⋮ & ⋱ & ⋮ & ⋮ & ⋮ & ⋮ & ⋮ & ⋮ & ⋮ & ⋮ & ⋮ & ⋮\\\\\n",
       "\t WHB7170   & 5 & 1 &  2 & 0 &  0 &   0 &    1 &   0 &     0 & ⋯ & 0 & 0 & 0 & 0 & 0 & 0 & 0 &  0 & 0 &  0\\\\\n",
       "\t WHB4008   & 1 & 0 &  9 & 1 &  0 &   0 &    3 &   0 &     0 & ⋯ & 0 & 0 & 0 & 0 & 0 & 0 & 0 &  0 & 0 &  0\\\\\n",
       "\t WHB8692   & 0 & 0 &  1 & 0 &  0 &   0 &    0 &   0 &     0 & ⋯ & 0 & 0 & 0 & 0 & 0 & 0 & 0 &  0 & 0 &  0\\\\\n",
       "\t WHB9874   & 0 & 1 &  0 & 0 &  0 &   0 &    6 &   1 &     1 & ⋯ & 0 & 0 & 0 & 0 & 0 & 0 & 0 &  0 & 0 &  0\\\\\n",
       "\t WHB3995   & 5 & 1 &  3 & 3 &  0 &   0 &    6 &   0 &     0 & ⋯ & 0 & 0 & 0 & 0 & 0 & 0 & 0 &  0 & 0 &  0\\\\\n",
       "\t WHB7783   & 0 & 1 &  3 & 0 &  0 &   4 &   13 &   0 &     0 & ⋯ & 0 & 0 & 0 & 0 & 0 & 0 & 0 &  0 & 0 &  0\\\\\n",
       "\t WHB9836   & 4 & 0 &  0 & 0 &  0 &   0 &    0 &   0 &     0 & ⋯ & 0 & 0 & 0 & 0 & 0 & 0 & 0 &  0 & 0 &  0\\\\\n",
       "\t WHB9712   & 1 & 0 &  0 & 0 &  0 &   0 &    0 &   0 &     0 & ⋯ & 0 & 0 & 0 & 0 & 0 & 0 & 0 &  0 & 0 &  0\\\\\n",
       "\t WHB985    & 3 & 0 &  3 & 3 &  0 &   0 &    0 &   0 &     0 & ⋯ & 0 & 0 & 0 & 0 & 0 & 0 & 0 &  0 & 0 &  0\\\\\n",
       "\t WHB609    & 1 & 0 &  1 & 1 &  0 &   0 &    0 &   0 &     0 & ⋯ & 0 & 0 & 0 & 0 & 0 & 0 & 0 &  0 & 0 &  0\\\\\n",
       "\t WHH4997   & 4 & 0 &  3 & 0 &  0 &   0 &    0 &   0 &     3 & ⋯ & 0 & 0 & 0 & 0 & 0 & 0 & 0 &  0 & 0 &  0\\\\\n",
       "\t WHB9745   & 1 & 0 &  2 & 1 &  0 &   0 &    0 &   0 &     0 & ⋯ & 1 & 1 & 0 & 0 & 0 & 0 & 0 &  0 & 0 &  0\\\\\n",
       "\t WHB4671   & 5 & 0 &  5 & 2 &  0 &   1 &    0 &   0 &     0 & ⋯ & 0 & 0 & 0 & 0 & 0 & 0 & 0 &  0 & 0 &  0\\\\\n",
       "\t WHB4722   & 6 & 0 & 10 & 3 &  0 &   0 &    0 &   0 &     0 & ⋯ & 0 & 0 & 1 & 0 & 0 & 0 & 0 &  0 & 0 &  0\\\\\n",
       "\t WHB9887   & 2 & 1 &  2 & 3 &  0 &   0 &    7 &   0 &     3 & ⋯ & 0 & 0 & 0 & 0 & 0 & 0 & 0 &  0 & 0 &  0\\\\\n",
       "\t WHB5217   & 1 & 0 &  0 & 1 &  1 &   4 &  138 &   7 &   977 & ⋯ & 0 & 0 & 0 & 0 & 0 & 0 & 0 &  0 & 0 &  0\\\\\n",
       "\t 0116-0047 & 3 & 1 &  0 & 0 & 10 &  57 &  893 & 101 &  6251 & ⋯ & 0 & 0 & 0 & 0 & 0 & 0 & 0 &  0 & 0 &  0\\\\\n",
       "\t WHB3868   & 3 & 0 & 29 & 1 &  0 &   0 &    2 &   0 &     0 & ⋯ & 0 & 0 & 0 & 1 & 1 & 1 & 0 &  0 & 0 &  0\\\\\n",
       "\t WHB10002  & 2 & 0 &  1 & 0 &  0 &   0 &    1 &   0 &     0 & ⋯ & 0 & 0 & 0 & 0 & 0 & 0 & 0 &  0 & 0 &  0\\\\\n",
       "\t WHB8595   & 1 & 0 &  5 & 1 &  0 &   3 &    2 &   0 &     0 & ⋯ & 0 & 0 & 0 & 0 & 0 & 0 & 1 &  0 & 0 &  0\\\\\n",
       "\t WHH1577   & 1 & 1 &  1 & 1 &  0 &   1 &    1 &   0 &     0 & ⋯ & 0 & 0 & 0 & 0 & 0 & 0 & 0 &  0 & 0 &  0\\\\\n",
       "\t WHH1174   & 1 & 0 &  1 & 0 &  0 &   0 &    0 &   0 &     0 & ⋯ & 0 & 0 & 0 & 0 & 0 & 0 & 0 &  0 & 0 &  0\\\\\n",
       "\t WHB9643   & 1 & 0 &  1 & 0 &  0 &   1 &    3 &   0 &     0 & ⋯ & 0 & 0 & 0 & 0 & 0 & 0 & 0 &  0 & 0 &  0\\\\\n",
       "\t WHB10078  & 1 & 1 &  3 & 0 &  0 &   0 &    0 &   0 &     0 & ⋯ & 0 & 0 & 0 & 0 & 0 & 0 & 0 &  0 & 0 &  0\\\\\n",
       "\t WHB6234   & 1 & 0 &  1 & 1 &  0 &   1 &    0 &   0 &     0 & ⋯ & 0 & 0 & 0 & 0 & 0 & 0 & 0 &  0 & 0 &  0\\\\\n",
       "\t 0515-0023 & 1 & 1 &  3 & 0 & 16 & 144 & 2319 & 219 & 16879 & ⋯ & 0 & 0 & 0 & 0 & 0 & 0 & 0 & 16 & 2 & 15\\\\\n",
       "\t WHB4487   & 4 & 0 &  3 & 1 &  0 &   0 &    0 &   0 &     0 & ⋯ & 0 & 0 & 0 & 0 & 0 & 0 & 0 &  0 & 0 &  0\\\\\n",
       "\t WHB9514   & 5 & 0 &  1 & 1 &  0 &   1 &    4 &   0 &     1 & ⋯ & 0 & 0 & 0 & 0 & 0 & 0 & 0 &  0 & 0 &  0\\\\\n",
       "\t WHH1221   & 1 & 0 &  0 & 0 &  0 &   0 &    2 &   0 &     0 & ⋯ & 0 & 0 & 0 & 0 & 0 & 0 & 0 &  0 & 0 &  0\\\\\n",
       "\t WHH1911   & 1 & 0 &  0 & 1 &  0 &   1 &    0 &   0 &     0 & ⋯ & 0 & 0 & 0 & 0 & 0 & 0 & 0 &  0 & 0 &  0\\\\\n",
       "\\end{tabular}\n"
      ],
      "text/markdown": [
       "\n",
       "A tibble: 9765 × 8891\n",
       "\n",
       "| npm_research_id &lt;chr&gt; | Fusarium graminearum &lt;dbl&gt; | Plasmodium malariae &lt;dbl&gt; | Toxoplasma gondii &lt;dbl&gt; | Leishmania braziliensis &lt;dbl&gt; | Pseudomonas sp. SXM-1 &lt;dbl&gt; | Pseudomonas tolaasii &lt;dbl&gt; | Pseudomonas fluorescens &lt;dbl&gt; | Pseudomonas veronii &lt;dbl&gt; | Pseudomonas oleovorans &lt;dbl&gt; | ⋯ ⋯ | Campylobacter virus CPX &lt;dbl&gt; | Cypovirus 5 &lt;dbl&gt; | Acinetobacter phage Presley &lt;dbl&gt; | Lactobacillus virus P1 &lt;dbl&gt; | Stx converting phage vB_EcoS_P27 &lt;dbl&gt; | Piscine novirhabdovirus &lt;dbl&gt; | Cellulophaga phage phi13:2 &lt;dbl&gt; | Streptococcus infantis &lt;dbl&gt; | Veillonella sp. OK1 &lt;dbl&gt; | Drosophila A virus &lt;dbl&gt; |\n",
       "|---|---|---|---|---|---|---|---|---|---|---|---|---|---|---|---|---|---|---|---|---|\n",
       "| WHH1899   |  1 | 1 |  1 | 1 |  1 |   1 |    1 |   1 |     1 | ⋯ | 0 | 0 | 0 | 0 | 0 | 0 | 0 | 0 | 0 | 0 |\n",
       "| WHB10753  |  1 | 1 |  4 | 1 |  0 |   5 |   16 |   2 |    16 | ⋯ | 0 | 0 | 0 | 0 | 0 | 0 | 0 | 0 | 0 | 0 |\n",
       "| WHB9289   |  4 | 0 |  2 | 0 |  0 |   2 |   14 |   2 |     0 | ⋯ | 0 | 0 | 0 | 0 | 0 | 0 | 0 | 0 | 0 | 0 |\n",
       "| WHB7247   |  1 | 0 |  1 | 0 |  0 |   1 |    2 |   0 |     0 | ⋯ | 0 | 0 | 0 | 0 | 0 | 0 | 0 | 0 | 0 | 0 |\n",
       "| WHB10124  |  1 | 1 |  0 | 1 |  0 |   0 |    0 |   0 |     0 | ⋯ | 0 | 0 | 0 | 0 | 0 | 0 | 0 | 0 | 0 | 0 |\n",
       "| WHB8107   |  4 | 0 |  4 | 0 |  0 |   1 |    6 |   0 |     0 | ⋯ | 0 | 0 | 0 | 0 | 0 | 0 | 0 | 0 | 0 | 0 |\n",
       "| WHB9315   | 10 | 0 |  1 | 0 |  0 |   0 |    1 |   0 |     0 | ⋯ | 0 | 0 | 0 | 0 | 0 | 0 | 0 | 0 | 0 | 0 |\n",
       "| WHB10904  |  0 | 0 |  0 | 0 |  0 |   0 |    3 |   0 |     0 | ⋯ | 0 | 0 | 0 | 0 | 0 | 0 | 0 | 0 | 0 | 0 |\n",
       "| WHB8989   |  0 | 0 |  5 | 0 |  0 |   0 |    1 |   0 |     0 | ⋯ | 0 | 0 | 0 | 0 | 0 | 0 | 0 | 0 | 0 | 0 |\n",
       "| WHH1247   |  0 | 0 |  1 | 0 |  0 |   0 |    0 |   0 |     0 | ⋯ | 0 | 0 | 0 | 0 | 0 | 0 | 0 | 0 | 0 | 0 |\n",
       "| WHB9026   |  2 | 0 |  3 | 1 |  0 |   0 |    3 |   0 |     2 | ⋯ | 0 | 0 | 0 | 0 | 0 | 0 | 0 | 0 | 0 | 0 |\n",
       "| WHB7636   |  1 | 1 | 12 | 1 |  0 |   2 |    1 |   0 |     0 | ⋯ | 0 | 0 | 0 | 0 | 0 | 0 | 0 | 0 | 0 | 0 |\n",
       "| WHB10463  |  6 | 0 |  1 | 0 |  0 |   0 |    0 |   0 |     0 | ⋯ | 0 | 0 | 0 | 0 | 0 | 0 | 0 | 0 | 0 | 0 |\n",
       "| WHB5071   |  0 | 1 |  0 | 0 |  1 |  15 |  127 |  17 |   906 | ⋯ | 0 | 0 | 0 | 0 | 0 | 0 | 0 | 0 | 0 | 0 |\n",
       "| WHH7173   |  1 | 0 |  3 | 0 |  0 |   0 |    0 |   0 |     0 | ⋯ | 0 | 0 | 0 | 0 | 0 | 0 | 0 | 0 | 0 | 0 |\n",
       "| WHB9432   |  1 | 0 |  3 | 1 |  0 |   0 |    1 |   0 |     0 | ⋯ | 0 | 0 | 0 | 0 | 0 | 0 | 0 | 0 | 0 | 0 |\n",
       "| WHB492    |  0 | 0 |  0 | 0 |  0 |   0 |    0 |   0 |     0 | ⋯ | 0 | 0 | 0 | 0 | 0 | 0 | 0 | 0 | 0 | 0 |\n",
       "| WHB9508   |  0 | 0 |  4 | 1 |  0 |   1 |    4 |   0 |     0 | ⋯ | 0 | 0 | 0 | 0 | 0 | 0 | 0 | 0 | 0 | 0 |\n",
       "| WHB572    |  1 | 0 |  2 | 2 |  0 |   0 |    0 |   0 |     0 | ⋯ | 0 | 0 | 0 | 0 | 0 | 0 | 0 | 0 | 0 | 0 |\n",
       "| WHB631    |  1 | 0 |  0 | 0 |  0 |   0 |    0 |   0 |     0 | ⋯ | 0 | 0 | 0 | 0 | 0 | 0 | 0 | 0 | 0 | 0 |\n",
       "| WHB3999   |  9 | 0 |  4 | 0 |  0 |   0 |    7 |   0 |     0 | ⋯ | 0 | 0 | 0 | 0 | 0 | 0 | 0 | 0 | 0 | 0 |\n",
       "| WHH1448   |  4 | 0 |  1 | 0 |  0 |   7 |    2 |   0 |     0 | ⋯ | 0 | 0 | 0 | 0 | 0 | 0 | 0 | 0 | 0 | 0 |\n",
       "| WHB6711   |  3 | 0 |  2 | 0 |  0 |   0 |    0 |   0 |     0 | ⋯ | 0 | 0 | 0 | 0 | 0 | 0 | 0 | 0 | 0 | 0 |\n",
       "| WHH1095   |  2 | 1 |  2 | 0 |  0 |   1 |    1 |   0 |     0 | ⋯ | 0 | 0 | 0 | 0 | 0 | 0 | 0 | 0 | 0 | 0 |\n",
       "| 0815-0054 | 17 | 0 |  0 | 1 | 16 | 113 | 1608 | 177 | 12562 | ⋯ | 0 | 0 | 0 | 0 | 0 | 0 | 0 | 0 | 0 | 0 |\n",
       "| WHB828    |  1 | 2 |  0 | 0 |  0 |   0 |    0 |   0 |     1 | ⋯ | 0 | 0 | 0 | 0 | 0 | 0 | 0 | 0 | 0 | 0 |\n",
       "| WHB4583   |  2 | 0 |  1 | 4 |  0 |   0 |    0 |   0 |     1 | ⋯ | 0 | 0 | 0 | 0 | 0 | 0 | 0 | 0 | 0 | 0 |\n",
       "| WHH525    |  0 | 0 |  0 | 0 |  0 |   0 |    1 |   0 |     0 | ⋯ | 0 | 0 | 0 | 0 | 0 | 0 | 0 | 0 | 0 | 0 |\n",
       "| WHH2345   |  2 | 0 |  1 | 0 |  5 |  61 |  840 |  75 |  6105 | ⋯ | 0 | 0 | 0 | 0 | 0 | 0 | 0 | 0 | 0 | 0 |\n",
       "| WHB10464  |  2 | 0 |  1 | 0 |  0 |   0 |    0 |   0 |     0 | ⋯ | 0 | 0 | 0 | 0 | 0 | 0 | 0 | 0 | 0 | 0 |\n",
       "| ⋮ | ⋮ | ⋮ | ⋮ | ⋮ | ⋮ | ⋮ | ⋮ | ⋮ | ⋮ | ⋱ | ⋮ | ⋮ | ⋮ | ⋮ | ⋮ | ⋮ | ⋮ | ⋮ | ⋮ | ⋮ |\n",
       "| WHB7170   | 5 | 1 |  2 | 0 |  0 |   0 |    1 |   0 |     0 | ⋯ | 0 | 0 | 0 | 0 | 0 | 0 | 0 |  0 | 0 |  0 |\n",
       "| WHB4008   | 1 | 0 |  9 | 1 |  0 |   0 |    3 |   0 |     0 | ⋯ | 0 | 0 | 0 | 0 | 0 | 0 | 0 |  0 | 0 |  0 |\n",
       "| WHB8692   | 0 | 0 |  1 | 0 |  0 |   0 |    0 |   0 |     0 | ⋯ | 0 | 0 | 0 | 0 | 0 | 0 | 0 |  0 | 0 |  0 |\n",
       "| WHB9874   | 0 | 1 |  0 | 0 |  0 |   0 |    6 |   1 |     1 | ⋯ | 0 | 0 | 0 | 0 | 0 | 0 | 0 |  0 | 0 |  0 |\n",
       "| WHB3995   | 5 | 1 |  3 | 3 |  0 |   0 |    6 |   0 |     0 | ⋯ | 0 | 0 | 0 | 0 | 0 | 0 | 0 |  0 | 0 |  0 |\n",
       "| WHB7783   | 0 | 1 |  3 | 0 |  0 |   4 |   13 |   0 |     0 | ⋯ | 0 | 0 | 0 | 0 | 0 | 0 | 0 |  0 | 0 |  0 |\n",
       "| WHB9836   | 4 | 0 |  0 | 0 |  0 |   0 |    0 |   0 |     0 | ⋯ | 0 | 0 | 0 | 0 | 0 | 0 | 0 |  0 | 0 |  0 |\n",
       "| WHB9712   | 1 | 0 |  0 | 0 |  0 |   0 |    0 |   0 |     0 | ⋯ | 0 | 0 | 0 | 0 | 0 | 0 | 0 |  0 | 0 |  0 |\n",
       "| WHB985    | 3 | 0 |  3 | 3 |  0 |   0 |    0 |   0 |     0 | ⋯ | 0 | 0 | 0 | 0 | 0 | 0 | 0 |  0 | 0 |  0 |\n",
       "| WHB609    | 1 | 0 |  1 | 1 |  0 |   0 |    0 |   0 |     0 | ⋯ | 0 | 0 | 0 | 0 | 0 | 0 | 0 |  0 | 0 |  0 |\n",
       "| WHH4997   | 4 | 0 |  3 | 0 |  0 |   0 |    0 |   0 |     3 | ⋯ | 0 | 0 | 0 | 0 | 0 | 0 | 0 |  0 | 0 |  0 |\n",
       "| WHB9745   | 1 | 0 |  2 | 1 |  0 |   0 |    0 |   0 |     0 | ⋯ | 1 | 1 | 0 | 0 | 0 | 0 | 0 |  0 | 0 |  0 |\n",
       "| WHB4671   | 5 | 0 |  5 | 2 |  0 |   1 |    0 |   0 |     0 | ⋯ | 0 | 0 | 0 | 0 | 0 | 0 | 0 |  0 | 0 |  0 |\n",
       "| WHB4722   | 6 | 0 | 10 | 3 |  0 |   0 |    0 |   0 |     0 | ⋯ | 0 | 0 | 1 | 0 | 0 | 0 | 0 |  0 | 0 |  0 |\n",
       "| WHB9887   | 2 | 1 |  2 | 3 |  0 |   0 |    7 |   0 |     3 | ⋯ | 0 | 0 | 0 | 0 | 0 | 0 | 0 |  0 | 0 |  0 |\n",
       "| WHB5217   | 1 | 0 |  0 | 1 |  1 |   4 |  138 |   7 |   977 | ⋯ | 0 | 0 | 0 | 0 | 0 | 0 | 0 |  0 | 0 |  0 |\n",
       "| 0116-0047 | 3 | 1 |  0 | 0 | 10 |  57 |  893 | 101 |  6251 | ⋯ | 0 | 0 | 0 | 0 | 0 | 0 | 0 |  0 | 0 |  0 |\n",
       "| WHB3868   | 3 | 0 | 29 | 1 |  0 |   0 |    2 |   0 |     0 | ⋯ | 0 | 0 | 0 | 1 | 1 | 1 | 0 |  0 | 0 |  0 |\n",
       "| WHB10002  | 2 | 0 |  1 | 0 |  0 |   0 |    1 |   0 |     0 | ⋯ | 0 | 0 | 0 | 0 | 0 | 0 | 0 |  0 | 0 |  0 |\n",
       "| WHB8595   | 1 | 0 |  5 | 1 |  0 |   3 |    2 |   0 |     0 | ⋯ | 0 | 0 | 0 | 0 | 0 | 0 | 1 |  0 | 0 |  0 |\n",
       "| WHH1577   | 1 | 1 |  1 | 1 |  0 |   1 |    1 |   0 |     0 | ⋯ | 0 | 0 | 0 | 0 | 0 | 0 | 0 |  0 | 0 |  0 |\n",
       "| WHH1174   | 1 | 0 |  1 | 0 |  0 |   0 |    0 |   0 |     0 | ⋯ | 0 | 0 | 0 | 0 | 0 | 0 | 0 |  0 | 0 |  0 |\n",
       "| WHB9643   | 1 | 0 |  1 | 0 |  0 |   1 |    3 |   0 |     0 | ⋯ | 0 | 0 | 0 | 0 | 0 | 0 | 0 |  0 | 0 |  0 |\n",
       "| WHB10078  | 1 | 1 |  3 | 0 |  0 |   0 |    0 |   0 |     0 | ⋯ | 0 | 0 | 0 | 0 | 0 | 0 | 0 |  0 | 0 |  0 |\n",
       "| WHB6234   | 1 | 0 |  1 | 1 |  0 |   1 |    0 |   0 |     0 | ⋯ | 0 | 0 | 0 | 0 | 0 | 0 | 0 |  0 | 0 |  0 |\n",
       "| 0515-0023 | 1 | 1 |  3 | 0 | 16 | 144 | 2319 | 219 | 16879 | ⋯ | 0 | 0 | 0 | 0 | 0 | 0 | 0 | 16 | 2 | 15 |\n",
       "| WHB4487   | 4 | 0 |  3 | 1 |  0 |   0 |    0 |   0 |     0 | ⋯ | 0 | 0 | 0 | 0 | 0 | 0 | 0 |  0 | 0 |  0 |\n",
       "| WHB9514   | 5 | 0 |  1 | 1 |  0 |   1 |    4 |   0 |     1 | ⋯ | 0 | 0 | 0 | 0 | 0 | 0 | 0 |  0 | 0 |  0 |\n",
       "| WHH1221   | 1 | 0 |  0 | 0 |  0 |   0 |    2 |   0 |     0 | ⋯ | 0 | 0 | 0 | 0 | 0 | 0 | 0 |  0 | 0 |  0 |\n",
       "| WHH1911   | 1 | 0 |  0 | 1 |  0 |   1 |    0 |   0 |     0 | ⋯ | 0 | 0 | 0 | 0 | 0 | 0 | 0 |  0 | 0 |  0 |\n",
       "\n"
      ],
      "text/plain": [
       "     npm_research_id Fusarium graminearum Plasmodium malariae Toxoplasma gondii\n",
       "1    WHH1899          1                   1                    1               \n",
       "2    WHB10753         1                   1                    4               \n",
       "3    WHB9289          4                   0                    2               \n",
       "4    WHB7247          1                   0                    1               \n",
       "5    WHB10124         1                   1                    0               \n",
       "6    WHB8107          4                   0                    4               \n",
       "7    WHB9315         10                   0                    1               \n",
       "8    WHB10904         0                   0                    0               \n",
       "9    WHB8989          0                   0                    5               \n",
       "10   WHH1247          0                   0                    1               \n",
       "11   WHB9026          2                   0                    3               \n",
       "12   WHB7636          1                   1                   12               \n",
       "13   WHB10463         6                   0                    1               \n",
       "14   WHB5071          0                   1                    0               \n",
       "15   WHH7173          1                   0                    3               \n",
       "16   WHB9432          1                   0                    3               \n",
       "17   WHB492           0                   0                    0               \n",
       "18   WHB9508          0                   0                    4               \n",
       "19   WHB572           1                   0                    2               \n",
       "20   WHB631           1                   0                    0               \n",
       "21   WHB3999          9                   0                    4               \n",
       "22   WHH1448          4                   0                    1               \n",
       "23   WHB6711          3                   0                    2               \n",
       "24   WHH1095          2                   1                    2               \n",
       "25   0815-0054       17                   0                    0               \n",
       "26   WHB828           1                   2                    0               \n",
       "27   WHB4583          2                   0                    1               \n",
       "28   WHH525           0                   0                    0               \n",
       "29   WHH2345          2                   0                    1               \n",
       "30   WHB10464         2                   0                    1               \n",
       "⋮    ⋮               ⋮                    ⋮                   ⋮                \n",
       "9736 WHB7170         5                    1                    2               \n",
       "9737 WHB4008         1                    0                    9               \n",
       "9738 WHB8692         0                    0                    1               \n",
       "9739 WHB9874         0                    1                    0               \n",
       "9740 WHB3995         5                    1                    3               \n",
       "9741 WHB7783         0                    1                    3               \n",
       "9742 WHB9836         4                    0                    0               \n",
       "9743 WHB9712         1                    0                    0               \n",
       "9744 WHB985          3                    0                    3               \n",
       "9745 WHB609          1                    0                    1               \n",
       "9746 WHH4997         4                    0                    3               \n",
       "9747 WHB9745         1                    0                    2               \n",
       "9748 WHB4671         5                    0                    5               \n",
       "9749 WHB4722         6                    0                   10               \n",
       "9750 WHB9887         2                    1                    2               \n",
       "9751 WHB5217         1                    0                    0               \n",
       "9752 0116-0047       3                    1                    0               \n",
       "9753 WHB3868         3                    0                   29               \n",
       "9754 WHB10002        2                    0                    1               \n",
       "9755 WHB8595         1                    0                    5               \n",
       "9756 WHH1577         1                    1                    1               \n",
       "9757 WHH1174         1                    0                    1               \n",
       "9758 WHB9643         1                    0                    1               \n",
       "9759 WHB10078        1                    1                    3               \n",
       "9760 WHB6234         1                    0                    1               \n",
       "9761 0515-0023       1                    1                    3               \n",
       "9762 WHB4487         4                    0                    3               \n",
       "9763 WHB9514         5                    0                    1               \n",
       "9764 WHH1221         1                    0                    0               \n",
       "9765 WHH1911         1                    0                    0               \n",
       "     Leishmania braziliensis Pseudomonas sp. SXM-1 Pseudomonas tolaasii\n",
       "1    1                        1                      1                 \n",
       "2    1                        0                      5                 \n",
       "3    0                        0                      2                 \n",
       "4    0                        0                      1                 \n",
       "5    1                        0                      0                 \n",
       "6    0                        0                      1                 \n",
       "7    0                        0                      0                 \n",
       "8    0                        0                      0                 \n",
       "9    0                        0                      0                 \n",
       "10   0                        0                      0                 \n",
       "11   1                        0                      0                 \n",
       "12   1                        0                      2                 \n",
       "13   0                        0                      0                 \n",
       "14   0                        1                     15                 \n",
       "15   0                        0                      0                 \n",
       "16   1                        0                      0                 \n",
       "17   0                        0                      0                 \n",
       "18   1                        0                      1                 \n",
       "19   2                        0                      0                 \n",
       "20   0                        0                      0                 \n",
       "21   0                        0                      0                 \n",
       "22   0                        0                      7                 \n",
       "23   0                        0                      0                 \n",
       "24   0                        0                      1                 \n",
       "25   1                       16                    113                 \n",
       "26   0                        0                      0                 \n",
       "27   4                        0                      0                 \n",
       "28   0                        0                      0                 \n",
       "29   0                        5                     61                 \n",
       "30   0                        0                      0                 \n",
       "⋮    ⋮                       ⋮                     ⋮                   \n",
       "9736 0                        0                      0                 \n",
       "9737 1                        0                      0                 \n",
       "9738 0                        0                      0                 \n",
       "9739 0                        0                      0                 \n",
       "9740 3                        0                      0                 \n",
       "9741 0                        0                      4                 \n",
       "9742 0                        0                      0                 \n",
       "9743 0                        0                      0                 \n",
       "9744 3                        0                      0                 \n",
       "9745 1                        0                      0                 \n",
       "9746 0                        0                      0                 \n",
       "9747 1                        0                      0                 \n",
       "9748 2                        0                      1                 \n",
       "9749 3                        0                      0                 \n",
       "9750 3                        0                      0                 \n",
       "9751 1                        1                      4                 \n",
       "9752 0                       10                     57                 \n",
       "9753 1                        0                      0                 \n",
       "9754 0                        0                      0                 \n",
       "9755 1                        0                      3                 \n",
       "9756 1                        0                      1                 \n",
       "9757 0                        0                      0                 \n",
       "9758 0                        0                      1                 \n",
       "9759 0                        0                      0                 \n",
       "9760 1                        0                      1                 \n",
       "9761 0                       16                    144                 \n",
       "9762 1                        0                      0                 \n",
       "9763 1                        0                      1                 \n",
       "9764 0                        0                      0                 \n",
       "9765 1                        0                      1                 \n",
       "     Pseudomonas fluorescens Pseudomonas veronii Pseudomonas oleovorans ⋯\n",
       "1       1                      1                     1                  ⋯\n",
       "2      16                      2                    16                  ⋯\n",
       "3      14                      2                     0                  ⋯\n",
       "4       2                      0                     0                  ⋯\n",
       "5       0                      0                     0                  ⋯\n",
       "6       6                      0                     0                  ⋯\n",
       "7       1                      0                     0                  ⋯\n",
       "8       3                      0                     0                  ⋯\n",
       "9       1                      0                     0                  ⋯\n",
       "10      0                      0                     0                  ⋯\n",
       "11      3                      0                     2                  ⋯\n",
       "12      1                      0                     0                  ⋯\n",
       "13      0                      0                     0                  ⋯\n",
       "14    127                     17                   906                  ⋯\n",
       "15      0                      0                     0                  ⋯\n",
       "16      1                      0                     0                  ⋯\n",
       "17      0                      0                     0                  ⋯\n",
       "18      4                      0                     0                  ⋯\n",
       "19      0                      0                     0                  ⋯\n",
       "20      0                      0                     0                  ⋯\n",
       "21      7                      0                     0                  ⋯\n",
       "22      2                      0                     0                  ⋯\n",
       "23      0                      0                     0                  ⋯\n",
       "24      1                      0                     0                  ⋯\n",
       "25   1608                    177                 12562                  ⋯\n",
       "26      0                      0                     1                  ⋯\n",
       "27      0                      0                     1                  ⋯\n",
       "28      1                      0                     0                  ⋯\n",
       "29    840                     75                  6105                  ⋯\n",
       "30      0                      0                     0                  ⋯\n",
       "⋮    ⋮                       ⋮                   ⋮                      ⋱\n",
       "9736    1                      0                     0                  ⋯\n",
       "9737    3                      0                     0                  ⋯\n",
       "9738    0                      0                     0                  ⋯\n",
       "9739    6                      1                     1                  ⋯\n",
       "9740    6                      0                     0                  ⋯\n",
       "9741   13                      0                     0                  ⋯\n",
       "9742    0                      0                     0                  ⋯\n",
       "9743    0                      0                     0                  ⋯\n",
       "9744    0                      0                     0                  ⋯\n",
       "9745    0                      0                     0                  ⋯\n",
       "9746    0                      0                     3                  ⋯\n",
       "9747    0                      0                     0                  ⋯\n",
       "9748    0                      0                     0                  ⋯\n",
       "9749    0                      0                     0                  ⋯\n",
       "9750    7                      0                     3                  ⋯\n",
       "9751  138                      7                   977                  ⋯\n",
       "9752  893                    101                  6251                  ⋯\n",
       "9753    2                      0                     0                  ⋯\n",
       "9754    1                      0                     0                  ⋯\n",
       "9755    2                      0                     0                  ⋯\n",
       "9756    1                      0                     0                  ⋯\n",
       "9757    0                      0                     0                  ⋯\n",
       "9758    3                      0                     0                  ⋯\n",
       "9759    0                      0                     0                  ⋯\n",
       "9760    0                      0                     0                  ⋯\n",
       "9761 2319                    219                 16879                  ⋯\n",
       "9762    0                      0                     0                  ⋯\n",
       "9763    4                      0                     1                  ⋯\n",
       "9764    2                      0                     0                  ⋯\n",
       "9765    0                      0                     0                  ⋯\n",
       "     Campylobacter virus CPX Cypovirus 5 Acinetobacter phage Presley\n",
       "1    0                       0           0                          \n",
       "2    0                       0           0                          \n",
       "3    0                       0           0                          \n",
       "4    0                       0           0                          \n",
       "5    0                       0           0                          \n",
       "6    0                       0           0                          \n",
       "7    0                       0           0                          \n",
       "8    0                       0           0                          \n",
       "9    0                       0           0                          \n",
       "10   0                       0           0                          \n",
       "11   0                       0           0                          \n",
       "12   0                       0           0                          \n",
       "13   0                       0           0                          \n",
       "14   0                       0           0                          \n",
       "15   0                       0           0                          \n",
       "16   0                       0           0                          \n",
       "17   0                       0           0                          \n",
       "18   0                       0           0                          \n",
       "19   0                       0           0                          \n",
       "20   0                       0           0                          \n",
       "21   0                       0           0                          \n",
       "22   0                       0           0                          \n",
       "23   0                       0           0                          \n",
       "24   0                       0           0                          \n",
       "25   0                       0           0                          \n",
       "26   0                       0           0                          \n",
       "27   0                       0           0                          \n",
       "28   0                       0           0                          \n",
       "29   0                       0           0                          \n",
       "30   0                       0           0                          \n",
       "⋮    ⋮                       ⋮           ⋮                          \n",
       "9736 0                       0           0                          \n",
       "9737 0                       0           0                          \n",
       "9738 0                       0           0                          \n",
       "9739 0                       0           0                          \n",
       "9740 0                       0           0                          \n",
       "9741 0                       0           0                          \n",
       "9742 0                       0           0                          \n",
       "9743 0                       0           0                          \n",
       "9744 0                       0           0                          \n",
       "9745 0                       0           0                          \n",
       "9746 0                       0           0                          \n",
       "9747 1                       1           0                          \n",
       "9748 0                       0           0                          \n",
       "9749 0                       0           1                          \n",
       "9750 0                       0           0                          \n",
       "9751 0                       0           0                          \n",
       "9752 0                       0           0                          \n",
       "9753 0                       0           0                          \n",
       "9754 0                       0           0                          \n",
       "9755 0                       0           0                          \n",
       "9756 0                       0           0                          \n",
       "9757 0                       0           0                          \n",
       "9758 0                       0           0                          \n",
       "9759 0                       0           0                          \n",
       "9760 0                       0           0                          \n",
       "9761 0                       0           0                          \n",
       "9762 0                       0           0                          \n",
       "9763 0                       0           0                          \n",
       "9764 0                       0           0                          \n",
       "9765 0                       0           0                          \n",
       "     Lactobacillus virus P1 Stx converting phage vB_EcoS_P27\n",
       "1    0                      0                               \n",
       "2    0                      0                               \n",
       "3    0                      0                               \n",
       "4    0                      0                               \n",
       "5    0                      0                               \n",
       "6    0                      0                               \n",
       "7    0                      0                               \n",
       "8    0                      0                               \n",
       "9    0                      0                               \n",
       "10   0                      0                               \n",
       "11   0                      0                               \n",
       "12   0                      0                               \n",
       "13   0                      0                               \n",
       "14   0                      0                               \n",
       "15   0                      0                               \n",
       "16   0                      0                               \n",
       "17   0                      0                               \n",
       "18   0                      0                               \n",
       "19   0                      0                               \n",
       "20   0                      0                               \n",
       "21   0                      0                               \n",
       "22   0                      0                               \n",
       "23   0                      0                               \n",
       "24   0                      0                               \n",
       "25   0                      0                               \n",
       "26   0                      0                               \n",
       "27   0                      0                               \n",
       "28   0                      0                               \n",
       "29   0                      0                               \n",
       "30   0                      0                               \n",
       "⋮    ⋮                      ⋮                               \n",
       "9736 0                      0                               \n",
       "9737 0                      0                               \n",
       "9738 0                      0                               \n",
       "9739 0                      0                               \n",
       "9740 0                      0                               \n",
       "9741 0                      0                               \n",
       "9742 0                      0                               \n",
       "9743 0                      0                               \n",
       "9744 0                      0                               \n",
       "9745 0                      0                               \n",
       "9746 0                      0                               \n",
       "9747 0                      0                               \n",
       "9748 0                      0                               \n",
       "9749 0                      0                               \n",
       "9750 0                      0                               \n",
       "9751 0                      0                               \n",
       "9752 0                      0                               \n",
       "9753 1                      1                               \n",
       "9754 0                      0                               \n",
       "9755 0                      0                               \n",
       "9756 0                      0                               \n",
       "9757 0                      0                               \n",
       "9758 0                      0                               \n",
       "9759 0                      0                               \n",
       "9760 0                      0                               \n",
       "9761 0                      0                               \n",
       "9762 0                      0                               \n",
       "9763 0                      0                               \n",
       "9764 0                      0                               \n",
       "9765 0                      0                               \n",
       "     Piscine novirhabdovirus Cellulophaga phage phi13:2 Streptococcus infantis\n",
       "1    0                       0                          0                     \n",
       "2    0                       0                          0                     \n",
       "3    0                       0                          0                     \n",
       "4    0                       0                          0                     \n",
       "5    0                       0                          0                     \n",
       "6    0                       0                          0                     \n",
       "7    0                       0                          0                     \n",
       "8    0                       0                          0                     \n",
       "9    0                       0                          0                     \n",
       "10   0                       0                          0                     \n",
       "11   0                       0                          0                     \n",
       "12   0                       0                          0                     \n",
       "13   0                       0                          0                     \n",
       "14   0                       0                          0                     \n",
       "15   0                       0                          0                     \n",
       "16   0                       0                          0                     \n",
       "17   0                       0                          0                     \n",
       "18   0                       0                          0                     \n",
       "19   0                       0                          0                     \n",
       "20   0                       0                          0                     \n",
       "21   0                       0                          0                     \n",
       "22   0                       0                          0                     \n",
       "23   0                       0                          0                     \n",
       "24   0                       0                          0                     \n",
       "25   0                       0                          0                     \n",
       "26   0                       0                          0                     \n",
       "27   0                       0                          0                     \n",
       "28   0                       0                          0                     \n",
       "29   0                       0                          0                     \n",
       "30   0                       0                          0                     \n",
       "⋮    ⋮                       ⋮                          ⋮                     \n",
       "9736 0                       0                           0                    \n",
       "9737 0                       0                           0                    \n",
       "9738 0                       0                           0                    \n",
       "9739 0                       0                           0                    \n",
       "9740 0                       0                           0                    \n",
       "9741 0                       0                           0                    \n",
       "9742 0                       0                           0                    \n",
       "9743 0                       0                           0                    \n",
       "9744 0                       0                           0                    \n",
       "9745 0                       0                           0                    \n",
       "9746 0                       0                           0                    \n",
       "9747 0                       0                           0                    \n",
       "9748 0                       0                           0                    \n",
       "9749 0                       0                           0                    \n",
       "9750 0                       0                           0                    \n",
       "9751 0                       0                           0                    \n",
       "9752 0                       0                           0                    \n",
       "9753 1                       0                           0                    \n",
       "9754 0                       0                           0                    \n",
       "9755 0                       1                           0                    \n",
       "9756 0                       0                           0                    \n",
       "9757 0                       0                           0                    \n",
       "9758 0                       0                           0                    \n",
       "9759 0                       0                           0                    \n",
       "9760 0                       0                           0                    \n",
       "9761 0                       0                          16                    \n",
       "9762 0                       0                           0                    \n",
       "9763 0                       0                           0                    \n",
       "9764 0                       0                           0                    \n",
       "9765 0                       0                           0                    \n",
       "     Veillonella sp. OK1 Drosophila A virus\n",
       "1    0                   0                 \n",
       "2    0                   0                 \n",
       "3    0                   0                 \n",
       "4    0                   0                 \n",
       "5    0                   0                 \n",
       "6    0                   0                 \n",
       "7    0                   0                 \n",
       "8    0                   0                 \n",
       "9    0                   0                 \n",
       "10   0                   0                 \n",
       "11   0                   0                 \n",
       "12   0                   0                 \n",
       "13   0                   0                 \n",
       "14   0                   0                 \n",
       "15   0                   0                 \n",
       "16   0                   0                 \n",
       "17   0                   0                 \n",
       "18   0                   0                 \n",
       "19   0                   0                 \n",
       "20   0                   0                 \n",
       "21   0                   0                 \n",
       "22   0                   0                 \n",
       "23   0                   0                 \n",
       "24   0                   0                 \n",
       "25   0                   0                 \n",
       "26   0                   0                 \n",
       "27   0                   0                 \n",
       "28   0                   0                 \n",
       "29   0                   0                 \n",
       "30   0                   0                 \n",
       "⋮    ⋮                   ⋮                 \n",
       "9736 0                    0                \n",
       "9737 0                    0                \n",
       "9738 0                    0                \n",
       "9739 0                    0                \n",
       "9740 0                    0                \n",
       "9741 0                    0                \n",
       "9742 0                    0                \n",
       "9743 0                    0                \n",
       "9744 0                    0                \n",
       "9745 0                    0                \n",
       "9746 0                    0                \n",
       "9747 0                    0                \n",
       "9748 0                    0                \n",
       "9749 0                    0                \n",
       "9750 0                    0                \n",
       "9751 0                    0                \n",
       "9752 0                    0                \n",
       "9753 0                    0                \n",
       "9754 0                    0                \n",
       "9755 0                    0                \n",
       "9756 0                    0                \n",
       "9757 0                    0                \n",
       "9758 0                    0                \n",
       "9759 0                    0                \n",
       "9760 0                    0                \n",
       "9761 2                   15                \n",
       "9762 0                    0                \n",
       "9763 0                    0                \n",
       "9764 0                    0                \n",
       "9765 0                    0                "
      ]
     },
     "metadata": {},
     "output_type": "display_data"
    }
   ],
   "source": [
    "species_df %>% select(-unclassified, -\"Homo sapiens\")"
   ]
  },
  {
   "cell_type": "markdown",
   "id": "46b8fe95",
   "metadata": {},
   "source": [
    "## Remove low read samples"
   ]
  },
  {
   "cell_type": "markdown",
   "id": "d6fa62ca",
   "metadata": {},
   "source": [
    "#### Get total no. of assigned microbial reads"
   ]
  },
  {
   "cell_type": "code",
   "execution_count": 12,
   "id": "93353282",
   "metadata": {
    "scrolled": true
   },
   "outputs": [
    {
     "name": "stderr",
     "output_type": "stream",
     "text": [
      "Joining, by = \"npm_research_id\"\n"
     ]
    }
   ],
   "source": [
    "micro_df <- species_df %>% select(-npm_research_id, -unclassified, -\"Homo sapiens\")\n",
    "rowsum_df <- tibble(npm_research_id = species_df$npm_research_id, rowsums = rowSums(micro_df))\n",
    "rowsum_df <- rowsum_df %>%\n",
    "    left_join(meta) %>%\n",
    "    mutate(microbe_frac = (rowsums * 2) / raw_total_sequences, .before = 2)\n"
   ]
  },
  {
   "cell_type": "code",
   "execution_count": 13,
   "id": "487796d7",
   "metadata": {},
   "outputs": [],
   "source": [
    "to_keep <- rowsum_df %>% \n",
    "    filter(rowsums >= 100) %>%\n",
    "    select(npm_research_id)\n",
    "fwrite(to_keep, \"data/samples_above_100_microbial_reads.txt\")\n",
    "\n",
    "species_filt <- species_df %>% filter(npm_research_id %in% to_keep$npm_research_id)"
   ]
  },
  {
   "cell_type": "code",
   "execution_count": 14,
   "id": "cfb6765a",
   "metadata": {},
   "outputs": [
    {
     "data": {
      "text/html": [
       "8892"
      ],
      "text/latex": [
       "8892"
      ],
      "text/markdown": [
       "8892"
      ],
      "text/plain": [
       "[1] 8892"
      ]
     },
     "metadata": {},
     "output_type": "display_data"
    }
   ],
   "source": [
    "nrow(to_keep)"
   ]
  },
  {
   "cell_type": "code",
   "execution_count": 15,
   "id": "ef54917c",
   "metadata": {},
   "outputs": [
    {
     "name": "stderr",
     "output_type": "stream",
     "text": [
      "Warning message:\n",
      "“Removed 2 rows containing non-finite values (stat_boxplot).”\n"
     ]
    },
    {
     "data": {
      "image/png": "[encoded data removed]",
      "text/plain": [
       "plot without title"
      ]
     },
     "metadata": {
      "image/png": {
       "height": 420,
       "width": 420
      }
     },
     "output_type": "display_data"
    }
   ],
   "source": [
    "rowsum_df %>% \n",
    "    ggplot(aes(x = site_supplying_sample, y = log(rowsums, base = 10), fill = site_supplying_sample)) +\n",
    "    geom_boxplot()"
   ]
  },
  {
   "cell_type": "markdown",
   "id": "4ff1e917",
   "metadata": {},
   "source": [
    "## Kraken2 database representation"
   ]
  },
  {
   "cell_type": "code",
   "execution_count": 17,
   "id": "09f0cd52",
   "metadata": {},
   "outputs": [
    {
     "data": {
      "text/html": [
       "<table class=\"dataframe\">\n",
       "<caption>A data.table: 6 × 3</caption>\n",
       "<thead>\n",
       "\t<tr><th scope=col>n_map_taxon</th><th scope=col>taxa</th><th scope=col>org_group</th></tr>\n",
       "\t<tr><th scope=col>&lt;int&gt;</th><th scope=col>&lt;chr&gt;</th><th scope=col>&lt;chr&gt;</th></tr>\n",
       "</thead>\n",
       "<tbody>\n",
       "\t<tr><td>1666260</td><td>Pseudomonas sp. StFLB209</td><td>Bacteria</td></tr>\n",
       "\t<tr><td>1549558</td><td>Pseudomonas sp. TUM18999</td><td>Bacteria</td></tr>\n",
       "\t<tr><td>1499949</td><td>Pseudomonas sp. DG56-2  </td><td>Bacteria</td></tr>\n",
       "\t<tr><td>1468437</td><td>Pseudomonas sp. M30-35  </td><td>Bacteria</td></tr>\n",
       "\t<tr><td>1438409</td><td>Pseudomonas sp. TCU-HL1 </td><td>Bacteria</td></tr>\n",
       "\t<tr><td>1414165</td><td>Pseudomonas sp. DY-1    </td><td>Bacteria</td></tr>\n",
       "</tbody>\n",
       "</table>\n"
      ],
      "text/latex": [
       "A data.table: 6 × 3\n",
       "\\begin{tabular}{lll}\n",
       " n\\_map\\_taxon & taxa & org\\_group\\\\\n",
       " <int> & <chr> & <chr>\\\\\n",
       "\\hline\n",
       "\t 1666260 & Pseudomonas sp. StFLB209 & Bacteria\\\\\n",
       "\t 1549558 & Pseudomonas sp. TUM18999 & Bacteria\\\\\n",
       "\t 1499949 & Pseudomonas sp. DG56-2   & Bacteria\\\\\n",
       "\t 1468437 & Pseudomonas sp. M30-35   & Bacteria\\\\\n",
       "\t 1438409 & Pseudomonas sp. TCU-HL1  & Bacteria\\\\\n",
       "\t 1414165 & Pseudomonas sp. DY-1     & Bacteria\\\\\n",
       "\\end{tabular}\n"
      ],
      "text/markdown": [
       "\n",
       "A data.table: 6 × 3\n",
       "\n",
       "| n_map_taxon &lt;int&gt; | taxa &lt;chr&gt; | org_group &lt;chr&gt; |\n",
       "|---|---|---|\n",
       "| 1666260 | Pseudomonas sp. StFLB209 | Bacteria |\n",
       "| 1549558 | Pseudomonas sp. TUM18999 | Bacteria |\n",
       "| 1499949 | Pseudomonas sp. DG56-2   | Bacteria |\n",
       "| 1468437 | Pseudomonas sp. M30-35   | Bacteria |\n",
       "| 1438409 | Pseudomonas sp. TCU-HL1  | Bacteria |\n",
       "| 1414165 | Pseudomonas sp. DY-1     | Bacteria |\n",
       "\n"
      ],
      "text/plain": [
       "  n_map_taxon taxa                     org_group\n",
       "1 1666260     Pseudomonas sp. StFLB209 Bacteria \n",
       "2 1549558     Pseudomonas sp. TUM18999 Bacteria \n",
       "3 1499949     Pseudomonas sp. DG56-2   Bacteria \n",
       "4 1468437     Pseudomonas sp. M30-35   Bacteria \n",
       "5 1438409     Pseudomonas sp. TCU-HL1  Bacteria \n",
       "6 1414165     Pseudomonas sp. DY-1     Bacteria "
      ]
     },
     "metadata": {},
     "output_type": "display_data"
    },
    {
     "data": {
      "image/png": "[encoded data removed]",
      "text/plain": [
       "plot without title"
      ]
     },
     "metadata": {
      "image/png": {
       "height": 420,
       "width": 420
      }
     },
     "output_type": "display_data"
    }
   ],
   "source": [
    "k2 <- fread(\"data/kraken2_taxonomy/plusPF_20210517_species_meta.csv\")\n",
    "head(k2)\n",
    "\n",
    "rpie <- 1\n",
    "rlabel <-  0.7 * rpie\n",
    "\n",
    "k2 %>% \n",
    "    group_by(org_group) %>%\n",
    "    summarise(cnt = sum(n_map_taxon), total = sum(k2$n_map_taxon)) %>%\n",
    "    mutate(end_angle = 2 * pi * cumsum(cnt)/ total,      # ending angle for each pie slice\n",
    "           start_angle = lag(end_angle, default = 0),   # starting angle for each pie slice\n",
    "           mid_angle = 0.5 * (start_angle + end_angle),\n",
    "           prop = cnt / total * 100) %>%  # middle of each pie slice, for the text label\n",
    "    mutate(prop = ifelse(prop < 0.1, scientific(prop, digits = 1), round(prop, 1)), \n",
    "           org_group = str_glue(\"{org_group} ({prop}%)\")) %>%\n",
    "        ggplot() +\n",
    "        geom_arc_bar(aes(x0 = 0, y0 = 0, r0 = 0, r = rpie,\n",
    "                    start = start_angle, end = end_angle, fill = org_group)) +\n",
    "        coord_fixed() +\n",
    "        scale_x_continuous(limits = c(-1, 1), name = \"\", breaks = NULL, labels = NULL) +\n",
    "        scale_y_continuous(limits = c(-1, 1), name = \"\", breaks = NULL, labels = NULL) +\n",
    "        scale_fill_manual(values = c(\"lightsalmon2\", \"darkslategray3\", \"deepskyblue4\", \"grey\",\n",
    "                                     \"maroon1\", \"darkolivegreen3\", \"black\", \"darkgoldenrod3\")) +\n",
    "        theme(panel.background = element_rect(fill = \"white\"),\n",
    "              legend.text = element_text(size = 20),\n",
    "              plot.title = element_text(size = 20, face = \"bold\")) +\n",
    "        labs(fill = \"\")"
   ]
  },
  {
   "cell_type": "markdown",
   "id": "32fafffb",
   "metadata": {},
   "source": [
    "## Basic sequencing stats"
   ]
  },
  {
   "cell_type": "markdown",
   "id": "d4c3b098",
   "metadata": {},
   "source": [
    "### Raw no. of sequences"
   ]
  },
  {
   "cell_type": "code",
   "execution_count": 18,
   "id": "c8abd2d9",
   "metadata": {},
   "outputs": [
    {
     "data": {
      "text/html": [
       "1e+06"
      ],
      "text/latex": [
       "1e+06"
      ],
      "text/markdown": [
       "1e+06"
      ],
      "text/plain": [
       "[1] 1e+06"
      ]
     },
     "metadata": {},
     "output_type": "display_data"
    }
   ],
   "source": [
    "1000000"
   ]
  },
  {
   "cell_type": "code",
   "execution_count": 19,
   "id": "aa4fc386",
   "metadata": {},
   "outputs": [
    {
     "data": {
      "text/html": [
       "373.464307"
      ],
      "text/latex": [
       "373.464307"
      ],
      "text/markdown": [
       "373.464307"
      ],
      "text/plain": [
       "[1] 373.4643"
      ]
     },
     "metadata": {},
     "output_type": "display_data"
    }
   ],
   "source": [
    "median(meta$raw_total_sequences) / 1e6"
   ]
  },
  {
   "cell_type": "code",
   "execution_count": 20,
   "id": "396d150c",
   "metadata": {},
   "outputs": [
    {
     "name": "stderr",
     "output_type": "stream",
     "text": [
      "`stat_bin()` using `bins = 30`. Pick better value with `binwidth`.\n",
      "\n"
     ]
    },
    {
     "data": {
      "text/html": [
       "4.388799570048"
      ],
      "text/latex": [
       "4.388799570048"
      ],
      "text/markdown": [
       "4.388799570048"
      ],
      "text/plain": [
       "[1] 4.3888"
      ]
     },
     "metadata": {},
     "output_type": "display_data"
    },
    {
     "data": {
      "image/png": "[encoded data removed]",
      "text/plain": [
       "plot without title"
      ]
     },
     "metadata": {
      "image/png": {
       "height": 420,
       "width": 420
      }
     },
     "output_type": "display_data"
    }
   ],
   "source": [
    "meta %>%\n",
    "    ggplot(aes(x = raw_total_sequences)) +\n",
    "    geom_histogram()\n",
    "\n",
    "raw_total <- sum(meta$raw_total_sequences)\n",
    "raw_total / 10^12"
   ]
  },
  {
   "cell_type": "markdown",
   "id": "a810cb6c",
   "metadata": {},
   "source": [
    "### Human sequencing depth"
   ]
  },
  {
   "cell_type": "code",
   "execution_count": 21,
   "id": "e755f9dd",
   "metadata": {},
   "outputs": [
    {
     "name": "stderr",
     "output_type": "stream",
     "text": [
      "Joining, by = \"npm_research_id\"\n"
     ]
    },
    {
     "data": {
      "text/html": [
       "<table class=\"dataframe\">\n",
       "<caption>A tibble: 1 × 3</caption>\n",
       "<thead>\n",
       "\t<tr><th scope=col>median</th><th scope=col>min</th><th scope=col>max</th></tr>\n",
       "\t<tr><th scope=col>&lt;dbl&gt;</th><th scope=col>&lt;dbl&gt;</th><th scope=col>&lt;dbl&gt;</th></tr>\n",
       "</thead>\n",
       "<tbody>\n",
       "\t<tr><td>15.72394</td><td>9.585878</td><td>46.80329</td></tr>\n",
       "</tbody>\n",
       "</table>\n"
      ],
      "text/latex": [
       "A tibble: 1 × 3\n",
       "\\begin{tabular}{lll}\n",
       " median & min & max\\\\\n",
       " <dbl> & <dbl> & <dbl>\\\\\n",
       "\\hline\n",
       "\t 15.72394 & 9.585878 & 46.80329\\\\\n",
       "\\end{tabular}\n"
      ],
      "text/markdown": [
       "\n",
       "A tibble: 1 × 3\n",
       "\n",
       "| median &lt;dbl&gt; | min &lt;dbl&gt; | max &lt;dbl&gt; |\n",
       "|---|---|---|\n",
       "| 15.72394 | 9.585878 | 46.80329 |\n",
       "\n"
      ],
      "text/plain": [
       "  median   min      max     \n",
       "1 15.72394 9.585878 46.80329"
      ]
     },
     "metadata": {},
     "output_type": "display_data"
    }
   ],
   "source": [
    "species_filt %>% \n",
    "    left_join(meta) %>%\n",
    "    summarise(median = median(estimate_of_sequence_coverage),\n",
    "              min = min(estimate_of_sequence_coverage),\n",
    "              max = max(estimate_of_sequence_coverage))"
   ]
  },
  {
   "cell_type": "markdown",
   "id": "ef2de048",
   "metadata": {},
   "source": [
    "### Non-human reads"
   ]
  },
  {
   "cell_type": "code",
   "execution_count": 22,
   "id": "6ed73aad",
   "metadata": {},
   "outputs": [
    {
     "data": {
      "text/html": [
       "1.473033196"
      ],
      "text/latex": [
       "1.473033196"
      ],
      "text/markdown": [
       "1.473033196"
      ],
      "text/plain": [
       "[1] 1.473033"
      ]
     },
     "metadata": {},
     "output_type": "display_data"
    },
    {
     "data": {
      "text/html": [
       "0.0335634647353898"
      ],
      "text/latex": [
       "0.0335634647353898"
      ],
      "text/markdown": [
       "0.0335634647353898"
      ],
      "text/plain": [
       "[1] 0.03356346"
      ]
     },
     "metadata": {},
     "output_type": "display_data"
    }
   ],
   "source": [
    "non_human_total <- sum(species_df %>% select(-npm_research_id, -\"Homo sapiens\"))\n",
    "2 * non_human_total / 10^9\n",
    "2 * non_human_total / raw_total * 100"
   ]
  },
  {
   "cell_type": "markdown",
   "id": "3789c669",
   "metadata": {},
   "source": [
    "### Classified"
   ]
  },
  {
   "cell_type": "code",
   "execution_count": 23,
   "id": "088e1778",
   "metadata": {},
   "outputs": [
    {
     "data": {
      "text/html": [
       "1.06544485"
      ],
      "text/latex": [
       "1.06544485"
      ],
      "text/markdown": [
       "1.06544485"
      ],
      "text/plain": [
       "[1] 1.065445"
      ]
     },
     "metadata": {},
     "output_type": "display_data"
    },
    {
     "data": {
      "text/html": [
       "72.3299958815049"
      ],
      "text/latex": [
       "72.3299958815049"
      ],
      "text/markdown": [
       "72.3299958815049"
      ],
      "text/plain": [
       "[1] 72.33"
      ]
     },
     "metadata": {},
     "output_type": "display_data"
    }
   ],
   "source": [
    "microbial_df <- species_df %>% \n",
    "    select(-npm_research_id, -\"Homo sapiens\", -unclassified)\n",
    "classified_total <- sum(microbial_df)\n",
    "2 * classified_total / 10^9\n",
    "classified_total / non_human_total * 100"
   ]
  },
  {
   "cell_type": "code",
   "execution_count": 24,
   "id": "d90c0bb9",
   "metadata": {
    "scrolled": true
   },
   "outputs": [],
   "source": [
    "col_sums <- colSums(microbial_df)"
   ]
  },
  {
   "cell_type": "markdown",
   "id": "606ac5ba",
   "metadata": {},
   "source": [
    "## Demographics"
   ]
  },
  {
   "cell_type": "code",
   "execution_count": 25,
   "id": "53627afe",
   "metadata": {},
   "outputs": [
    {
     "name": "stderr",
     "output_type": "stream",
     "text": [
      "`stat_bin()` using `bins = 30`. Pick better value with `binwidth`.\n",
      "\n",
      "Warning message:\n",
      "“Removed 294 rows containing non-finite values (stat_bin).”\n",
      "Saving 6.67 x 6.67 in image\n",
      "\n",
      "`stat_bin()` using `bins = 30`. Pick better value with `binwidth`.\n",
      "\n",
      "Warning message:\n",
      "“Removed 294 rows containing non-finite values (stat_bin).”\n"
     ]
    },
    {
     "data": {
      "image/png": "[encoded data removed]",
      "text/plain": [
       "plot without title"
      ]
     },
     "metadata": {
      "image/png": {
       "height": 420,
       "width": 420
      }
     },
     "output_type": "display_data"
    }
   ],
   "source": [
    "clin_meta <- fread(\"data/20210125_v3_release/20210203_all_traits_v3.parsed.csv\")\n",
    "clin_meta <- clin_meta %>%\n",
    "    filter(npm_research_id %in% meta$npm_research_id)\n",
    "#     filter(npm_research_id %in% to_keep$npm_research_id)\n",
    "\n",
    "x_title <- \"Age\"\n",
    "\n",
    "age_plot_df <- clin_meta %>%\n",
    "    left_join(meta, \"npm_research_id\") %>%\n",
    "    mutate(is_gusto = ifelse(grepl(\"GUSTO\", site_supplying_sample), \"GUSTO\", \"Others\"))\n",
    "\n",
    "adult_med_age <- age_plot_df %>% \n",
    "    filter(is_gusto != \"GUSTO\")\n",
    "adult_med_age <- median(adult_med_age$age, na.rm = T)\n",
    "child_med_age <- age_plot_df %>% filter(is_gusto == \"GUSTO\")\n",
    "child_med_age <- median(child_med_age$age, na.rm = T)\n",
    "\n",
    "age_plot_df %>%\n",
    "    ggplot(aes(x = age, fill = is_gusto)) +\n",
    "    geom_histogram() + \n",
    "    geom_vline(xintercept = adult_med_age, colour=\"red\", lty = \"dashed\") +\n",
    "    geom_vline(xintercept = child_med_age, colour=\"blue\", lty = \"dashed\") +\n",
    "    geom_text(x = adult_med_age + 15, y = -20, \n",
    "              label = str_glue(\"median = {round(adult_med_age, 1)}\"),\n",
    "              color = \"red\",\n",
    "              size = 5) +\n",
    "    geom_text(x = child_med_age + 15, y = -20, \n",
    "          label = str_glue(\"median = {round(child_med_age, 1)}\"),\n",
    "          color = \"blue\",\n",
    "          size = 5) +\n",
    "    labs(x = x_title, y = \"No. of samples\", fill = \"Cohort\") +\n",
    "    scale_fill_manual(values = c(\"burlywood4\", \"darkslategray4\")) +\n",
    "    theme(text = element_text(size = 20))\n",
    "\n",
    "ggsave(\"results/data_exploration/age_barchart.png\", dpi = 600)"
   ]
  },
  {
   "cell_type": "code",
   "execution_count": 27,
   "id": "bcc4e292",
   "metadata": {},
   "outputs": [
    {
     "data": {
      "text/html": [
       "<table class=\"dataframe\">\n",
       "<caption>A tibble: 2 × 4</caption>\n",
       "<thead>\n",
       "\t<tr><th scope=col>is_gusto</th><th scope=col>median</th><th scope=col>n</th><th scope=col>iqr</th></tr>\n",
       "\t<tr><th scope=col>&lt;chr&gt;</th><th scope=col>&lt;dbl&gt;</th><th scope=col>&lt;int&gt;</th><th scope=col>&lt;dbl&gt;</th></tr>\n",
       "</thead>\n",
       "<tbody>\n",
       "\t<tr><td>GUSTO </td><td> 6.1</td><td> 969</td><td> 0.1</td></tr>\n",
       "\t<tr><td>Others</td><td>49.0</td><td>8801</td><td>16.0</td></tr>\n",
       "</tbody>\n",
       "</table>\n"
      ],
      "text/latex": [
       "A tibble: 2 × 4\n",
       "\\begin{tabular}{llll}\n",
       " is\\_gusto & median & n & iqr\\\\\n",
       " <chr> & <dbl> & <int> & <dbl>\\\\\n",
       "\\hline\n",
       "\t GUSTO  &  6.1 &  969 &  0.1\\\\\n",
       "\t Others & 49.0 & 8801 & 16.0\\\\\n",
       "\\end{tabular}\n"
      ],
      "text/markdown": [
       "\n",
       "A tibble: 2 × 4\n",
       "\n",
       "| is_gusto &lt;chr&gt; | median &lt;dbl&gt; | n &lt;int&gt; | iqr &lt;dbl&gt; |\n",
       "|---|---|---|---|\n",
       "| GUSTO  |  6.1 |  969 |  0.1 |\n",
       "| Others | 49.0 | 8801 | 16.0 |\n",
       "\n"
      ],
      "text/plain": [
       "  is_gusto median n    iqr \n",
       "1 GUSTO     6.1    969  0.1\n",
       "2 Others   49.0   8801 16.0"
      ]
     },
     "metadata": {},
     "output_type": "display_data"
    }
   ],
   "source": [
    "clin_meta %>%     \n",
    "    left_join(meta, \"npm_research_id\") %>%\n",
    "    mutate(is_gusto = ifelse(grepl(\"GUSTO\", site_supplying_sample), \"GUSTO\", \"Others\")) %>%\n",
    "    group_by(is_gusto) %>%\n",
    "    summarise(median = median(age, na.rm = T), \n",
    "              n = n(),\n",
    "              iqr = IQR(age, na.rm = T))"
   ]
  },
  {
   "cell_type": "markdown",
   "id": "c6f78613",
   "metadata": {},
   "source": [
    "### Summarise demographic data"
   ]
  },
  {
   "cell_type": "code",
   "execution_count": 19,
   "id": "f2632859",
   "metadata": {},
   "outputs": [
    {
     "data": {
      "text/html": [
       "<table class=\"dataframe\">\n",
       "<caption>A tibble: 6 × 2</caption>\n",
       "<thead>\n",
       "\t<tr><th scope=col>site_supplying_sample</th><th scope=col>n</th></tr>\n",
       "\t<tr><th scope=col>&lt;chr&gt;</th><th scope=col>&lt;int&gt;</th></tr>\n",
       "</thead>\n",
       "<tbody>\n",
       "\t<tr><td>GUSTO </td><td> 969</td></tr>\n",
       "\t<tr><td>HELIOS</td><td>2286</td></tr>\n",
       "\t<tr><td>MEC   </td><td>2902</td></tr>\n",
       "\t<tr><td>PRISM </td><td>1257</td></tr>\n",
       "\t<tr><td>SEED  </td><td>1436</td></tr>\n",
       "\t<tr><td>TTSH  </td><td> 920</td></tr>\n",
       "</tbody>\n",
       "</table>\n"
      ],
      "text/latex": [
       "A tibble: 6 × 2\n",
       "\\begin{tabular}{ll}\n",
       " site\\_supplying\\_sample & n\\\\\n",
       " <chr> & <int>\\\\\n",
       "\\hline\n",
       "\t GUSTO  &  969\\\\\n",
       "\t HELIOS & 2286\\\\\n",
       "\t MEC    & 2902\\\\\n",
       "\t PRISM  & 1257\\\\\n",
       "\t SEED   & 1436\\\\\n",
       "\t TTSH   &  920\\\\\n",
       "\\end{tabular}\n"
      ],
      "text/markdown": [
       "\n",
       "A tibble: 6 × 2\n",
       "\n",
       "| site_supplying_sample &lt;chr&gt; | n &lt;int&gt; |\n",
       "|---|---|\n",
       "| GUSTO  |  969 |\n",
       "| HELIOS | 2286 |\n",
       "| MEC    | 2902 |\n",
       "| PRISM  | 1257 |\n",
       "| SEED   | 1436 |\n",
       "| TTSH   |  920 |\n",
       "\n"
      ],
      "text/plain": [
       "  site_supplying_sample n   \n",
       "1 GUSTO                  969\n",
       "2 HELIOS                2286\n",
       "3 MEC                   2902\n",
       "4 PRISM                 1257\n",
       "5 SEED                  1436\n",
       "6 TTSH                   920"
      ]
     },
     "metadata": {},
     "output_type": "display_data"
    }
   ],
   "source": [
    "meta %>% \n",
    "group_by(site_supplying_sample) %>% \n",
    "summarise(n = n())"
   ]
  },
  {
   "cell_type": "code",
   "execution_count": 20,
   "id": "ced759a7",
   "metadata": {},
   "outputs": [
    {
     "name": "stderr",
     "output_type": "stream",
     "text": [
      "`summarise()` has grouped output by 'site_supplying_sample'. You can override using the `.groups` argument.\n",
      "`summarise()` has grouped output by 'site_supplying_sample'. You can override using the `.groups` argument.\n",
      "Joining, by = \"site_supplying_sample\"\n",
      "Joining, by = c(\"site_supplying_sample\", \"female\", \"male\")\n",
      "Joining, by = \"site_supplying_sample\"\n"
     ]
    },
    {
     "data": {
      "text/html": [
       "<table class=\"dataframe\">\n",
       "<caption>A grouped_df: 6 × 8</caption>\n",
       "<thead>\n",
       "\t<tr><th scope=col>site_supplying_sample</th><th scope=col>female</th><th scope=col>male</th><th scope=col>C</th><th scope=col>I</th><th scope=col>M</th><th scope=col>O</th><th scope=col>median_age</th></tr>\n",
       "\t<tr><th scope=col>&lt;chr&gt;</th><th scope=col>&lt;int&gt;</th><th scope=col>&lt;int&gt;</th><th scope=col>&lt;int&gt;</th><th scope=col>&lt;int&gt;</th><th scope=col>&lt;int&gt;</th><th scope=col>&lt;int&gt;</th><th scope=col>&lt;dbl&gt;</th></tr>\n",
       "</thead>\n",
       "<tbody>\n",
       "\t<tr><td>GUSTO </td><td> 459</td><td> 510</td><td> 572</td><td>161</td><td>236</td><td>NA</td><td> 6.1</td></tr>\n",
       "\t<tr><td>HELIOS</td><td>1401</td><td> 885</td><td>1849</td><td>194</td><td>223</td><td>20</td><td>55.2</td></tr>\n",
       "\t<tr><td>MEC   </td><td>1635</td><td>1267</td><td>1161</td><td>826</td><td>892</td><td>23</td><td>47.0</td></tr>\n",
       "\t<tr><td>PRISM </td><td> 636</td><td> 621</td><td>1114</td><td> 65</td><td> 75</td><td> 3</td><td>46.0</td></tr>\n",
       "\t<tr><td>SEED  </td><td> 792</td><td> 644</td><td> 598</td><td>545</td><td>288</td><td> 5</td><td>50.0</td></tr>\n",
       "\t<tr><td>TTSH  </td><td> 739</td><td> 181</td><td> 504</td><td>223</td><td>187</td><td> 6</td><td>39.0</td></tr>\n",
       "</tbody>\n",
       "</table>\n"
      ],
      "text/latex": [
       "A grouped\\_df: 6 × 8\n",
       "\\begin{tabular}{llllllll}\n",
       " site\\_supplying\\_sample & female & male & C & I & M & O & median\\_age\\\\\n",
       " <chr> & <int> & <int> & <int> & <int> & <int> & <int> & <dbl>\\\\\n",
       "\\hline\n",
       "\t GUSTO  &  459 &  510 &  572 & 161 & 236 & NA &  6.1\\\\\n",
       "\t HELIOS & 1401 &  885 & 1849 & 194 & 223 & 20 & 55.2\\\\\n",
       "\t MEC    & 1635 & 1267 & 1161 & 826 & 892 & 23 & 47.0\\\\\n",
       "\t PRISM  &  636 &  621 & 1114 &  65 &  75 &  3 & 46.0\\\\\n",
       "\t SEED   &  792 &  644 &  598 & 545 & 288 &  5 & 50.0\\\\\n",
       "\t TTSH   &  739 &  181 &  504 & 223 & 187 &  6 & 39.0\\\\\n",
       "\\end{tabular}\n"
      ],
      "text/markdown": [
       "\n",
       "A grouped_df: 6 × 8\n",
       "\n",
       "| site_supplying_sample &lt;chr&gt; | female &lt;int&gt; | male &lt;int&gt; | C &lt;int&gt; | I &lt;int&gt; | M &lt;int&gt; | O &lt;int&gt; | median_age &lt;dbl&gt; |\n",
       "|---|---|---|---|---|---|---|---|\n",
       "| GUSTO  |  459 |  510 |  572 | 161 | 236 | NA |  6.1 |\n",
       "| HELIOS | 1401 |  885 | 1849 | 194 | 223 | 20 | 55.2 |\n",
       "| MEC    | 1635 | 1267 | 1161 | 826 | 892 | 23 | 47.0 |\n",
       "| PRISM  |  636 |  621 | 1114 |  65 |  75 |  3 | 46.0 |\n",
       "| SEED   |  792 |  644 |  598 | 545 | 288 |  5 | 50.0 |\n",
       "| TTSH   |  739 |  181 |  504 | 223 | 187 |  6 | 39.0 |\n",
       "\n"
      ],
      "text/plain": [
       "  site_supplying_sample female male C    I   M   O  median_age\n",
       "1 GUSTO                  459    510  572 161 236 NA  6.1      \n",
       "2 HELIOS                1401    885 1849 194 223 20 55.2      \n",
       "3 MEC                   1635   1267 1161 826 892 23 47.0      \n",
       "4 PRISM                  636    621 1114  65  75  3 46.0      \n",
       "5 SEED                   792    644  598 545 288  5 50.0      \n",
       "6 TTSH                   739    181  504 223 187  6 39.0      "
      ]
     },
     "metadata": {},
     "output_type": "display_data"
    }
   ],
   "source": [
    "meta2 <- fread(\"data/20210125_v3_release/20210203_all_traits_v3.parsed.csv\") %>%\n",
    "    filter(npm_research_id %in% meta$npm_research_id)\n",
    "merged <- meta %>%\n",
    "    left_join(meta2, \"npm_research_id\") %>%\n",
    "    mutate(genetic_ancestry = ifelse(genetic_ancestry == \"\", \"O\", genetic_ancestry)) %>%\n",
    "    mutate(site_supplying_sample = ifelse(site_supplying_sample == \"SERI\", \"SEED\", site_supplying_sample))\n",
    "ancestry <- merged %>%\n",
    "    group_by(site_supplying_sample, genetic_ancestry) %>%\n",
    "    summarise(n = n()) %>%\n",
    "    pivot_wider(id_cols = site_supplying_sample, names_from = genetic_ancestry, values_from = n)\n",
    "\n",
    "gender <- merged %>% \n",
    "    group_by(site_supplying_sample, genetic_sex) %>%\n",
    "    summarise(n = n()) %>%\n",
    "    pivot_wider(id_cols = site_supplying_sample, names_from = genetic_sex, values_from = n)\n",
    "\n",
    "age <- merged %>% \n",
    "    group_by(site_supplying_sample) %>%\n",
    "    summarise(median_age = median(age, na.rm = T))\n",
    "all_demographics <- gender %>% \n",
    "    left_join(ancestry) %>%\n",
    "    left_join(gender) %>%\n",
    "    left_join(age)\n",
    "all_demographics\n",
    "\n",
    "fwrite(all_demographics, \"results/data_exploration/demographics.n9770.csv\")"
   ]
  },
  {
   "cell_type": "code",
   "execution_count": 21,
   "id": "8f747ad8",
   "metadata": {},
   "outputs": [
    {
     "data": {
      "text/html": [
       "<table class=\"dataframe\">\n",
       "<caption>A tibble: 4 × 3</caption>\n",
       "<thead>\n",
       "\t<tr><th scope=col>genetic_ancestry</th><th scope=col>n</th><th scope=col>perc</th></tr>\n",
       "\t<tr><th scope=col>&lt;chr&gt;</th><th scope=col>&lt;int&gt;</th><th scope=col>&lt;dbl&gt;</th></tr>\n",
       "</thead>\n",
       "<tbody>\n",
       "\t<tr><td>C</td><td>5226</td><td>59.4</td></tr>\n",
       "\t<tr><td>I</td><td>1853</td><td>21.1</td></tr>\n",
       "\t<tr><td>M</td><td>1665</td><td>18.9</td></tr>\n",
       "\t<tr><td>O</td><td>  57</td><td> 0.6</td></tr>\n",
       "</tbody>\n",
       "</table>\n"
      ],
      "text/latex": [
       "A tibble: 4 × 3\n",
       "\\begin{tabular}{lll}\n",
       " genetic\\_ancestry & n & perc\\\\\n",
       " <chr> & <int> & <dbl>\\\\\n",
       "\\hline\n",
       "\t C & 5226 & 59.4\\\\\n",
       "\t I & 1853 & 21.1\\\\\n",
       "\t M & 1665 & 18.9\\\\\n",
       "\t O &   57 &  0.6\\\\\n",
       "\\end{tabular}\n"
      ],
      "text/markdown": [
       "\n",
       "A tibble: 4 × 3\n",
       "\n",
       "| genetic_ancestry &lt;chr&gt; | n &lt;int&gt; | perc &lt;dbl&gt; |\n",
       "|---|---|---|\n",
       "| C | 5226 | 59.4 |\n",
       "| I | 1853 | 21.1 |\n",
       "| M | 1665 | 18.9 |\n",
       "| O |   57 |  0.6 |\n",
       "\n"
      ],
      "text/plain": [
       "  genetic_ancestry n    perc\n",
       "1 C                5226 59.4\n",
       "2 I                1853 21.1\n",
       "3 M                1665 18.9\n",
       "4 O                  57  0.6"
      ]
     },
     "metadata": {},
     "output_type": "display_data"
    }
   ],
   "source": [
    "merged %>%\n",
    "    filter(site_supplying_sample != \"GUSTO\") %>%\n",
    "    group_by(genetic_ancestry) %>%\n",
    "    summarise(n = n()) %>%\n",
    "    mutate(perc = round(n / sum(n) * 100, 1))\n"
   ]
  },
  {
   "cell_type": "code",
   "execution_count": 22,
   "id": "38a2428f",
   "metadata": {},
   "outputs": [
    {
     "name": "stderr",
     "output_type": "stream",
     "text": [
      "Saving 6.67 x 6.67 in image\n",
      "\n"
     ]
    },
    {
     "data": {
      "image/png": "[encoded data removed]",
      "text/plain": [
       "plot without title"
      ]
     },
     "metadata": {
      "image/png": {
       "height": 420,
       "width": 420
      }
     },
     "output_type": "display_data"
    }
   ],
   "source": [
    "rpie <- 1\n",
    "rlabel <-  0.6 * rpie\n",
    "\n",
    "## Ethnicity ##\n",
    "title <- \"Self-reported Ethinicity\"\n",
    "ethnic_plt <- tibble(x = clin_meta$self_reported_ethnicity) %>%\n",
    "    group_by(x) %>%\n",
    "    summarise(cnt = n(), total = nrow(clin_meta)) %>%\n",
    "    mutate(x = case_when(x == \"C\" ~ \"Chinese\",\n",
    "                         x == \"M\" ~ \"Malay\",\n",
    "                         x == \"I\" ~ \"Indian\",\n",
    "                         x == \"O\" ~ \"Others\")) %>%\n",
    "    mutate(end_angle = 2 * pi * cumsum(cnt)/ total,      # ending angle for each pie slice\n",
    "           start_angle = lag(end_angle, default = 0),   # starting angle for each pie slice\n",
    "           mid_angle = 0.5 * (start_angle + end_angle)) %>%  # middle of each pie slice, for the text label\n",
    "    ggplot() +\n",
    "    geom_arc_bar(aes(x0 = 0, y0 = 0, r0 = 0, r = rpie,\n",
    "                start = start_angle, end = end_angle, fill = x)) +\n",
    "    geom_text(aes(x = rlabel * sin(mid_angle), y = rlabel * cos(mid_angle), label = cnt),\n",
    "                hjust = 0.5, vjust = 1, size = 10) +\n",
    "    coord_fixed() +\n",
    "    scale_x_continuous(limits = c(-1, 1), name = \"\", breaks = NULL, labels = NULL) +\n",
    "    scale_y_continuous(limits = c(-1, 1), name = \"\", breaks = NULL, labels = NULL) +\n",
    "    scale_fill_manual(values = c(\"tomato2\", \"palegreen4\", \"deepskyblue4\", \"grey\")) +\n",
    "    theme(panel.background = element_rect(fill = \"white\"),\n",
    "          legend.text = element_text(size = 20),\n",
    "          plot.title = element_text(size = 20, face = \"bold\")\n",
    "          ) +\n",
    "    labs(fill = \"\", title = title)\n",
    "\n",
    "ethnic_plt\n",
    "\n",
    "ggsave(\"results/data_exploration/ethnicity_piechart.png\", plot = ethnic_plt, dpi = 300)"
   ]
  },
  {
   "cell_type": "code",
   "execution_count": 23,
   "id": "286df877",
   "metadata": {},
   "outputs": [
    {
     "name": "stderr",
     "output_type": "stream",
     "text": [
      "Saving 6.67 x 6.67 in image\n",
      "\n"
     ]
    },
    {
     "data": {
      "image/png": "[encoded data removed]",
      "text/plain": [
       "plot without title"
      ]
     },
     "metadata": {
      "image/png": {
       "height": 420,
       "width": 420
      }
     },
     "output_type": "display_data"
    }
   ],
   "source": [
    "title <- \"Genetic sex\"\n",
    "sex_plt <- tibble(x = clin_meta$genetic_sex) %>%\n",
    "    group_by(x) %>%\n",
    "    summarise(cnt = n(), total = nrow(clin_meta)) %>%\n",
    "    mutate(x = case_when(x == \"male\" ~ \"Male\",\n",
    "                         x == \"female\" ~ \"Female\")) %>%\n",
    "    mutate(end_angle = 2 * pi * cumsum(cnt)/ total,      # ending angle for each pie slice\n",
    "           start_angle = lag(end_angle, default = 0),   # starting angle for each pie slice\n",
    "           mid_angle = 0.5 * (start_angle + end_angle)) %>%  # middle of each pie slice, for the text label\n",
    "    ggplot() +\n",
    "    geom_arc_bar(aes(x0 = 0, y0 = 0, r0 = 0, r = rpie,\n",
    "                start = start_angle, end = end_angle, fill = x)) +\n",
    "    geom_text(aes(x = rlabel * sin(mid_angle), y = rlabel * cos(mid_angle), label = cnt),\n",
    "                hjust = 0.5, vjust = 1, size = 10) +\n",
    "    coord_fixed() +\n",
    "    scale_x_continuous(limits = c(-1, 1), name = \"\", breaks = NULL, labels = NULL) +\n",
    "    scale_y_continuous(limits = c(-1, 1), name = \"\", breaks = NULL, labels = NULL) +\n",
    "    scale_fill_manual(values = c(\"hotpink3\", \"dodgerblue3\")) +\n",
    "    theme(panel.background = element_rect(fill = \"white\"),\n",
    "          legend.text = element_text(size = 20),\n",
    "          plot.title = element_text(size = 20, face = \"bold\")\n",
    "          ) +\n",
    "    labs(fill = \"\", title = title)\n",
    "\n",
    "sex_plt\n",
    "\n",
    "ggsave(\"results/data_exploration/sex_piechart.png\", plot = sex_plt, dpi = 300)"
   ]
  },
  {
   "cell_type": "code",
   "execution_count": 24,
   "id": "b836a851",
   "metadata": {},
   "outputs": [
    {
     "name": "stderr",
     "output_type": "stream",
     "text": [
      "`summarise()` has grouped output by 'drug'. You can override using the `.groups` argument.\n",
      "Saving 6.67 x 6.67 in image\n",
      "\n"
     ]
    },
    {
     "data": {
      "image/png": "[encoded data removed]",
      "text/plain": [
       "plot without title"
      ]
     },
     "metadata": {
      "image/png": {
       "height": 420,
       "width": 420
      }
     },
     "output_type": "display_data"
    }
   ],
   "source": [
    "med_plt <- clin_meta %>%\n",
    "    select(npm_research_id, diab_med, htn_med, lipid_med) %>%\n",
    "    pivot_longer(!npm_research_id, names_to = \"drug\", values_to = \"usage\") %>%\n",
    "    group_by(drug, usage) %>%\n",
    "    summarise(cnt = n(), total = nrow(clin_meta)) %>%\n",
    "    mutate(perc = cnt / total * 100,\n",
    "           drug = case_when(drug == \"diab_med\" ~ \"Diabetes\",\n",
    "                            drug == \"htn_med\" ~ \"Hypertension\",\n",
    "                            drug == \"lipid_med\" ~ \"Lipid\"),\n",
    "           usage = case_when(is.na(usage) ~ \"Unknown\", \n",
    "                             usage == \"1\" ~ \"Yes\",\n",
    "                             usage == \"0\" ~ \"No\")) %>%\n",
    "    mutate(usage = factor(usage, levels = c(\"Yes\", \"No\", \"Unknown\"))) %>%\n",
    "    ggplot(aes(x = drug, y = perc, fill = usage)) +\n",
    "    geom_bar(stat = \"identity\", position = \"stack\") +\n",
    "    labs(x = \"Medication\", y = \"Proportion of samples (%)\", fill = \"\") +\n",
    "    scale_fill_manual(values = c(\"darksalmon\", \"aquamarine4\", \"grey\")) +\n",
    "    theme(text = element_text(size = 20))\n",
    "\n",
    "med_plt\n",
    "\n",
    "ggsave(\"results/data_exploration/medication_barchart.png\", plot = med_plt, dpi = 300)"
   ]
  },
  {
   "cell_type": "markdown",
   "id": "3917f147",
   "metadata": {},
   "source": [
    "### Distribution of microbial reads after filtering"
   ]
  },
  {
   "cell_type": "code",
   "execution_count": 25,
   "id": "1ff4b7a6",
   "metadata": {},
   "outputs": [
    {
     "name": "stderr",
     "output_type": "stream",
     "text": [
      "`stat_bin()` using `bins = 30`. Pick better value with `binwidth`.\n",
      "\n"
     ]
    },
    {
     "data": {
      "text/html": [
       "6186.49997979471"
      ],
      "text/latex": [
       "6186.49997979471"
      ],
      "text/markdown": [
       "6186.49997979471"
      ],
      "text/plain": [
       "[1] 6186.5"
      ]
     },
     "metadata": {},
     "output_type": "display_data"
    },
    {
     "data": {
      "image/png": "[encoded data removed]",
      "text/plain": [
       "plot without title"
      ]
     },
     "metadata": {
      "image/png": {
       "height": 420,
       "width": 420
      }
     },
     "output_type": "display_data"
    }
   ],
   "source": [
    "row_sum <- species_filt %>% \n",
    "    select(-npm_research_id, -unclassified, -\"Homo sapiens\") %>%\n",
    "    rowSums()\n",
    "\n",
    "tibble(x = row_sum) %>%\n",
    "    mutate(log_x = log(x, base = 10)) %>%\n",
    "    ggplot(aes(x = log_x, fill = ..x..)) +\n",
    "    geom_histogram() +\n",
    "    scale_fill_gradient(low = \"blue\", high = \"darkred\") +\n",
    "    labs(x = \"log(total microbial reads)\", y = \"No. of samples\")\n",
    "\n",
    "10^median(log(row_sum, base = 10))"
   ]
  },
  {
   "cell_type": "markdown",
   "id": "ff93d9bc",
   "metadata": {},
   "source": [
    "### Read count normalisation"
   ]
  },
  {
   "cell_type": "code",
   "execution_count": 26,
   "id": "004097f5",
   "metadata": {},
   "outputs": [],
   "source": [
    "otu_to_PA <- function(df, read_threshold) {\n",
    "    prev_read <- df %>%\n",
    "        select(-\"Homo sapiens\", -unclassified) %>%\n",
    "        column_to_rownames(\"npm_research_id\")\n",
    "    \n",
    "    prev_read[prev_read <= read_threshold] <- 0\n",
    "    prev_read[prev_read > read_threshold] <- 1\n",
    "\n",
    "    return(prev_read)\n",
    "}\n",
    "\n",
    "\n",
    "RA_to_PA <- function(RA_df, PA_threshold) {\n",
    "    prev_RA <- RA_df %>% column_to_rownames(\"npm_research_id\")\n",
    "    prev_RA[prev_RA <= PA_threshold] <- 0\n",
    "    prev_RA[prev_RA > PA_threshold] <- 1\n",
    "    \n",
    "    return(prev_RA)\n",
    "}\n",
    "\n",
    "\n",
    "filter_taxa_by_presence <- function(prev_df, presence_t) {\n",
    "    taxa_counts <- apply(prev_df, 2, sum)\n",
    "    to_keep <- names(taxa_counts)[taxa_counts > presence_t]\n",
    "    return(prev_df %>% select(all_of(to_keep)))\n",
    "}"
   ]
  },
  {
   "cell_type": "markdown",
   "id": "e75eab2c",
   "metadata": {},
   "source": [
    "#### Read count"
   ]
  },
  {
   "cell_type": "code",
   "execution_count": 27,
   "id": "de87f375",
   "metadata": {},
   "outputs": [],
   "source": [
    "prev_read <- otu_to_PA(species_filt, 0)\n",
    "prev_read_10 <- otu_to_PA(species_filt, 10)\n",
    "prev_read_df <- tibble(npm_research_id = rownames(prev_read), n_assigned = rowSums(prev_read))\n",
    "prev_read_df_10 <- tibble(npm_research_id = rownames(prev_read_10), n_assigned = rowSums(prev_read_10))\n",
    "\n",
    "read_plt <- prev_read_df %>%\n",
    "    arrange(desc(n_assigned)) %>%\n",
    "    ggplot(aes(x = n_assigned)) +\n",
    "    geom_histogram() +\n",
    "    labs(x = \"No. of taxa / sample (reads > 0)\", y = \"No. of samples\")\n",
    "\n",
    "read_plt_10 <- prev_read_df_10 %>%\n",
    "    arrange(desc(n_assigned)) %>%\n",
    "    ggplot(aes(x = n_assigned)) +\n",
    "    geom_histogram() +\n",
    "    labs(x = \"No. of taxa / sample (reads > 10)\", y = \"No. of samples\")"
   ]
  },
  {
   "cell_type": "markdown",
   "id": "245b3b96",
   "metadata": {},
   "source": [
    "#### RA"
   ]
  },
  {
   "cell_type": "code",
   "execution_count": 28,
   "id": "5cb9af8f",
   "metadata": {},
   "outputs": [],
   "source": [
    "species_RA <- otu_to_RA(species_filt %>% select(-\"Homo sapiens\", -unclassified))\n",
    "prev_RA <- RA_to_PA(species_RA, 0.01)\n",
    "prev_RA_df <- tibble(npm_research_id = rownames(prev_RA), n_assigned = rowSums(prev_RA))\n",
    "\n",
    "RA_plt <- prev_RA_df %>%\n",
    "    arrange(desc(n_assigned)) %>%\n",
    "    ggplot(aes(x = n_assigned)) +\n",
    "    geom_histogram() +\n",
    "    labs(x = \"No. of taxa / sample (RA > 0.01)\", y = \"No. of samples\")"
   ]
  },
  {
   "cell_type": "markdown",
   "id": "be351117",
   "metadata": {},
   "source": [
    "#### RA + reads"
   ]
  },
  {
   "cell_type": "code",
   "execution_count": 29,
   "id": "03f005a3",
   "metadata": {
    "scrolled": true
   },
   "outputs": [
    {
     "data": {
      "image/png": "[encoded data removed]",
      "text/plain": [
       "plot without title"
      ]
     },
     "metadata": {
      "image/png": {
       "height": 420,
       "width": 420
      }
     },
     "output_type": "display_data"
    }
   ],
   "source": [
    "# Reads\n",
    "prev_RA_read <- as.data.frame(prev_read_10 & prev_RA)\n",
    "prev_RA_read_df <- tibble(npm_research_id = rownames(prev_RA_read), n_assigned = rowSums(prev_RA_read))\n",
    "\n",
    "RA_read_plt <- prev_RA_read_df %>%\n",
    "    arrange(desc(n_assigned)) %>%\n",
    "    ggplot(aes(x = n_assigned)) +\n",
    "    geom_histogram(bins = 20) +\n",
    "    labs(x = \"No. of taxa / sample (RA > 0.01 & reads > 10)\", y = \"No. of samples\")\n",
    "\n",
    "RA_read_plt"
   ]
  },
  {
   "cell_type": "markdown",
   "id": "32e39656",
   "metadata": {},
   "source": [
    "#### No. of species present per sample"
   ]
  },
  {
   "cell_type": "code",
   "execution_count": 30,
   "id": "ff43397d",
   "metadata": {},
   "outputs": [
    {
     "name": "stderr",
     "output_type": "stream",
     "text": [
      "`stat_bin()` using `bins = 30`. Pick better value with `binwidth`.\n",
      "\n",
      "`stat_bin()` using `bins = 30`. Pick better value with `binwidth`.\n",
      "\n",
      "`stat_bin()` using `bins = 30`. Pick better value with `binwidth`.\n",
      "\n"
     ]
    },
    {
     "data": {
      "image/png": "[encoded data removed]",
      "text/plain": [
       "plot without title"
      ]
     },
     "metadata": {
      "image/png": {
       "height": 420,
       "width": 420
      }
     },
     "output_type": "display_data"
    }
   ],
   "source": [
    "combined <- ggpubr::ggarrange(read_plt, read_plt_10, RA_plt, RA_read_plt)\n",
    "\n",
    "combined\n",
    "\n",
    "# ggsave(\"results/data_exploration/presence_absence_threshold_multiplot.png\", dpi = 300)"
   ]
  },
  {
   "cell_type": "code",
   "execution_count": 31,
   "id": "44a12048",
   "metadata": {},
   "outputs": [],
   "source": [
    "prev_RA_read <- filter_taxa_by_presence(prev_RA_read, 0)"
   ]
  },
  {
   "cell_type": "code",
   "execution_count": 32,
   "id": "9128ee55",
   "metadata": {},
   "outputs": [
    {
     "ename": "ERROR",
     "evalue": "Error in filter(., grepl(\"Alcali\", taxa)): object 'prev_overall' not found\n",
     "output_type": "error",
     "traceback": [
      "Error in filter(., grepl(\"Alcali\", taxa)): object 'prev_overall' not found\nTraceback:\n",
      "1. prev_overall %>% filter(grepl(\"Alcali\", taxa))",
      "2. filter(., grepl(\"Alcali\", taxa))"
     ]
    }
   ],
   "source": [
    "prev_overall %>% filter(grepl(\"Alcali\", taxa))"
   ]
  },
  {
   "cell_type": "code",
   "execution_count": null,
   "id": "40148164",
   "metadata": {},
   "outputs": [],
   "source": [
    "prev_overall %>% filter(bin == \"50-75\") %>%\n",
    "    arrange(desc(prevalence))"
   ]
  },
  {
   "cell_type": "code",
   "execution_count": null,
   "id": "e2552fc3",
   "metadata": {},
   "outputs": [],
   "source": [
    "read_t <- 0 \n",
    "temp_prev <- otu_to_PA(species_filt, read_t)\n",
    "    \n",
    "    prev_overall <- temp_prev %>%\n",
    "        pivot_longer(everything(), names_to = \"taxa\", values_to = \"presence\") %>%\n",
    "        group_by(taxa) %>%\n",
    "        summarise(prevalence = sum(presence) / nrow(temp_prev)) %>% \n",
    "        mutate(bin = case_when(prevalence == 0 ~ \"0\",\n",
    "                               prevalence > 0 & prevalence <= 0.05 ~ \"0-5\",\n",
    "                               prevalence > 0.05 & prevalence <= 0.25 ~ \"5-25\",\n",
    "                               prevalence > 0.25 & prevalence <= 0.5 ~ \"25-50\",\n",
    "                               prevalence > 0.5 & prevalence <= 0.75 ~ \"50-75\",\n",
    "                               prevalence > 0.75 ~ \"75-100\")) %>%\n",
    "        mutate(bin = factor(bin, levels = c(\"0\", \"0-5\", \"5-25\", \"25-50\", \"50-75\", \"75-100\")))\n",
    "    \n",
    "prev_overall %>% \n",
    "    ggplot(aes(x = bin)) + \n",
    "    geom_histogram(stat=\"count\") +\n",
    "    stat_count(aes(y=..count..,label=..count..),geom = \"text\",vjust = 0) +\n",
    "    labs(title = str_glue(\"PA_threshold = {read_t}\"), x = \"Overall Prevalence (%)\", y = \"No. of taxa\")"
   ]
  },
  {
   "cell_type": "code",
   "execution_count": null,
   "id": "d78f3960",
   "metadata": {},
   "outputs": [],
   "source": [
    "prev_plots <- foreach(read_t = c(0, 1, 5, 10, 50, 100, 500, 1000)) %dopar% {\n",
    "    temp_prev <- otu_to_PA(species_df, read_t)\n",
    "    \n",
    "    prev_overall <- temp_prev %>%\n",
    "        pivot_longer(!npm_research_id, names_to = \"taxa\", values_to = \"presence\") %>%\n",
    "        group_by(taxa) %>%\n",
    "        summarise(prevalence = sum(presence) / nrow(species_prev)) %>% \n",
    "        mutate(bin = case_when(prevalence == 0 ~ \"0\",\n",
    "                               prevalence > 0 & prevalence <= 0.05 ~ \"0-5\",\n",
    "                               prevalence > 0.05 & prevalence <= 0.25 ~ \"5-25\",\n",
    "                               prevalence > 0.25 & prevalence <= 0.5 ~ \"25-50\",\n",
    "                               prevalence > 0.5 & prevalence <= 0.75 ~ \"50-75\",\n",
    "                               prevalence > 0.75 ~ \"75-100\")) %>%\n",
    "        mutate(bin = factor(bin, levels = c(\"0\", \"0-5\", \"5-25\", \"25-50\", \"50-75\", \"75-100\")))\n",
    "    \n",
    "    prev_overall %>% \n",
    "        ggplot(aes(x = bin)) + \n",
    "        geom_histogram(stat=\"count\") +\n",
    "        stat_count(aes(y=..count..,label=..count..),geom = \"text\",vjust = 0) +\n",
    "        labs(title = str_glue(\"PA_threshold = {read_t}\"), x = \"Overall Prevalence (%)\", y = \"No. of taxa\")\n",
    "}\n"
   ]
  },
  {
   "cell_type": "code",
   "execution_count": null,
   "id": "4f4f9734",
   "metadata": {},
   "outputs": [],
   "source": [
    "combined <- egg::ggarrange(plots = prev_plots)\n",
    "ggsave(str_glue(\"results/decontamination/PA_threshold_taxa_prevalence.png\"), plot = combined, dpi = 300, width = 10, height = 10)"
   ]
  },
  {
   "cell_type": "markdown",
   "id": "c9cf08a9",
   "metadata": {},
   "source": [
    "#### Batch prevalence"
   ]
  },
  {
   "cell_type": "code",
   "execution_count": null,
   "id": "0c2f41fe",
   "metadata": {},
   "outputs": [],
   "source": [
    "taxa <- colnames(species_prev)\n",
    "taxa <- taxa[taxa != \"npm_research_id\"]"
   ]
  },
  {
   "cell_type": "code",
   "execution_count": null,
   "id": "16d8395a",
   "metadata": {},
   "outputs": [],
   "source": [
    "meta_cols"
   ]
  },
  {
   "cell_type": "code",
   "execution_count": null,
   "id": "56157c8c",
   "metadata": {},
   "outputs": [],
   "source": [
    "col <- \"hiseq_xtm_sbs_kit_300_cycles_v2__box_2_of_2__lot\"\n",
    "\n",
    "batch_prev <- species_prev %>% \n",
    "    left_join(meta) %>%\n",
    "    select(all_of(c(taxa, col))) %>%\n",
    "    pivot_longer(!all_of(col), names_to = \"taxa\", values_to = \"presence\") %>%\n",
    "    group_by(taxa, get(col)) %>%\n",
    "    summarise(prevalence = sum(presence) / n()) %>%\n",
    "    rename(batch = \"get(col)\") %>%\n",
    "    arrange(desc(prevalence))"
   ]
  },
  {
   "cell_type": "code",
   "execution_count": null,
   "id": "7556b2ce",
   "metadata": {
    "scrolled": true
   },
   "outputs": [],
   "source": [
    "prev_overall %>% arrange(desc(prevalence))"
   ]
  },
  {
   "cell_type": "code",
   "execution_count": null,
   "id": "446e728d",
   "metadata": {
    "scrolled": true
   },
   "outputs": [],
   "source": [
    "batch_prev %>% \n",
    "    filter(taxa == \"Rhodopseudomonas palustris\") %>%\n",
    "    summarise(n = n_distinct(batch))"
   ]
  },
  {
   "cell_type": "code",
   "execution_count": null,
   "id": "c8f291b4",
   "metadata": {
    "scrolled": false
   },
   "outputs": [],
   "source": [
    "batch_prev %>% \n",
    "    group_by(taxa) %>%\n",
    "    summarise(max_prev = max(prevalence)) %>%\n",
    "    ggplot(aes(x = max_prev)) +\n",
    "    geom_histogram()\n"
   ]
  },
  {
   "cell_type": "code",
   "execution_count": null,
   "id": "2a9866e4",
   "metadata": {
    "scrolled": true
   },
   "outputs": [],
   "source": [
    "batch_prev %>%\n",
    "    filter(taxa == \"Moraxella osloensis\", batch != \"Unknown\") %>%\n",
    "    ggplot(aes(x = batch, y = prevalence)) +\n",
    "    geom_bar(stat = \"identity\") +\n",
    "    labs(x = col, y = \"Batch prevalence\") +\n",
    "    ylim(0, 1) +\n",
    "    theme(axis.text.x = element_text(angle = 45, hjust = 1))"
   ]
  },
  {
   "cell_type": "markdown",
   "id": "c7f91dbb",
   "metadata": {},
   "source": [
    "#### Retrieve 20 species for each prevalence class"
   ]
  },
  {
   "cell_type": "code",
   "execution_count": null,
   "id": "4e4ca1fe",
   "metadata": {
    "scrolled": true
   },
   "outputs": [],
   "source": [
    "morsels <- foreach (bin_name = c(\"0-5\", \"5-25\", \"25-50\", \"50-75\")) %do% {\n",
    "    prev_bin <- prev_overall %>%\n",
    "        filter(bin == bin_name)\n",
    "    \n",
    "    if (nrow(prev_bin) >= 20) {\n",
    "        prev_bin %>% sample_n(20, replace = F)\n",
    "    } else {\n",
    "        prev_bin %>% sample_n(nrow(prev_bin), replace = F)\n",
    "    }\n",
    "}\n",
    "\n",
    "prev_bin_df <- bind_rows(morsels)\n",
    "selected_taxa <- prev_bin_df$taxa"
   ]
  },
  {
   "cell_type": "markdown",
   "id": "d36edd0e",
   "metadata": {},
   "source": [
    "#### Per-batch prevalence of positive controls"
   ]
  },
  {
   "cell_type": "code",
   "execution_count": null,
   "id": "64145848",
   "metadata": {
    "scrolled": false
   },
   "outputs": [],
   "source": [
    "pos_taxa <- read.csv(\"data/reported_controls/damgaard_2015_positive.txt\")$positive_controls\n",
    "pos_taxa <- pos_taxa[pos_taxa %in% colnames(species_prev)]"
   ]
  },
  {
   "cell_type": "code",
   "execution_count": null,
   "id": "4e98aeda",
   "metadata": {},
   "outputs": [],
   "source": [
    "taxon_name <- gsub(\" \", \"_\", taxon)\n",
    "taxon_name <- gsub(\"\\\\.\", \"\", taxon_name)\n",
    "taxon_name"
   ]
  },
  {
   "cell_type": "code",
   "execution_count": null,
   "id": "e5c1c06b",
   "metadata": {},
   "outputs": [],
   "source": [
    "taxon <- \"Streptococcus pneumoniae\"\n",
    "taxon <- \"Moraxella osloensis\"\n",
    "# taxon <- \"Burkholderia cepacia\"\n",
    "# taxon <- \"Actinobacillus pleuropneumoniae\"\n",
    "# taxon <- \"Ralstonia insidiosa\"\n",
    "# column <- \"extraction_kit\"\n",
    "column <- \"hiseq_xtm_flow_cell_v2_5_lot\"\n",
    "\n",
    "prev_stats <- species_prev %>% \n",
    "            left_join(meta, by = \"npm_research_id\") %>%\n",
    "            group_by_at(c(column)) %>%\n",
    "            summarise(sum = sum(get(taxon))) %>%\n",
    "            mutate(batch_n = as.vector(table(meta[, column])),\n",
    "                   prevalence = sum / as.vector(table(meta[, column])))\n",
    "\n",
    "prev_stats %>%\n",
    "    filter(get(column) != \"Unknown\") %>%\n",
    "    ggplot(aes(x = get(column), y = prevalence * 100)) +\n",
    "    geom_bar(stat = \"identity\", fill = \"#6b3074\") +\n",
    "    ylim(-3, 100) +\n",
    "    theme(axis.text.x = element_text(angle = 45, hjust = 1)) +\n",
    "    labs(x = column, y = \"Prevalence (%)\", title = taxon) +\n",
    "    ylim(-3, 100) +\n",
    "    geom_text(aes(x = get(column), y = -3, label = batch_n), angle = 45)\n",
    "\n",
    "taxon_name <- gsub(\" \", \"_\", taxon)\n",
    "taxon_name <- gsub(\"\\\\.\", \"\", taxon_name)\n",
    "ggsave(str_glue(\"results/decontamination/diff_prev_V2/{taxon_name}.prevalence.png\"), dpi = 300)"
   ]
  },
  {
   "cell_type": "markdown",
   "id": "47f7de30",
   "metadata": {},
   "source": [
    "#### For selected taxa"
   ]
  },
  {
   "cell_type": "code",
   "execution_count": null,
   "id": "c9be1542",
   "metadata": {},
   "outputs": [],
   "source": [
    "for (read_t in c(0, 5, 10, 20, 50, 100)) {\n",
    "    species_prev <- species_df %>% select(-npm_research_id, -\"Homo sapiens\", -unclassified)\n",
    "    species_prev[species_prev <= read_t] <- 0\n",
    "    species_prev[species_prev > read_t] <- 1\n",
    "    species_prev <- species_prev %>% add_column(npm_research_id = species_df$npm_research_id, .before = 1)\n",
    "\n",
    "    dir.create(str_glue(\"results/decontamination/diff_prev/diff_prev_sanity_check/selected_taxa/read_t{read_t}/\"))\n",
    "\n",
    "    for (column in meta_cols) {\n",
    "        plot_list <- foreach(taxon = selected_taxa) %do% {\n",
    "            prev_stats <- species_prev %>% \n",
    "                        left_join(meta, by = \"npm_research_id\") %>%\n",
    "                        group_by_at(c(column)) %>%\n",
    "                        summarise(sum = sum(get(taxon))) %>%\n",
    "                        mutate(batch_n = as.vector(table(meta[, column])),\n",
    "                               prevalence = sum / as.vector(table(meta[, column])))\n",
    "\n",
    "            # prev_stats\n",
    "            tmp_plt <- prev_stats %>%\n",
    "                filter(get(column) != \"Unknown\") %>%\n",
    "                ggplot(aes(x = get(column), y = prevalence * 100)) +\n",
    "                ylim(-3, 100) +\n",
    "                geom_text(aes(x = get(column), y = -3, label = batch_n), angle = 45) +\n",
    "                theme(axis.text.x = element_text(angle = 45, hjust = 1)) +\n",
    "                labs(x = column, y = \"Prevalence (%)\", title = taxon)\n",
    "            \n",
    "            bin_level <- prev_bin_df[prev_bin_df$taxa == taxon, ]$bin\n",
    "            \n",
    "            if (bin_level == \"0-5\") {\n",
    "                tmp_plt + geom_bar(stat = \"identity\", fill = \"#98c1d9\")\n",
    "            } else if (bin_level == \"5-25\") {\n",
    "                tmp_plt + geom_bar(stat = \"identity\", fill = \"#3d5a80\")\n",
    "            } else if (bin_level == \"25-50\") {\n",
    "                tmp_plt + geom_bar(stat = \"identity\", fill = \"#6b3074\")\n",
    "            } else {\n",
    "                tmp_plt + geom_bar(stat = \"identity\", fill = \"#ee6c4d\")\n",
    "            }\n",
    "        }\n",
    "        \n",
    "        combined <- egg::ggarrange(plots = plot_list)\n",
    "\n",
    "        ggsave(str_glue(\"results/decontamination/diff_prev/diff_prev_sanity_check/selected_taxa/read_t{read_t}/prevalence.{column}.read_t{read_t}.png\"), plot = combined, width = 40, height = 40)\n",
    "    }\n",
    "}"
   ]
  },
  {
   "cell_type": "markdown",
   "id": "2836af17",
   "metadata": {},
   "source": [
    "#### For positive controls"
   ]
  },
  {
   "cell_type": "code",
   "execution_count": null,
   "id": "7d1925db",
   "metadata": {},
   "outputs": [],
   "source": [
    "# for (read_t in c(0, 1, 2, 4, 5, 10, 20, 50, 100, 500, 1000)) {\n",
    "#     # read_t <- 10\n",
    "#     species_prev <- species_df %>% select(-npm_research_id, -\"Homo sapiens\", -unclassified)\n",
    "#     species_prev[species_prev <= read_t] <- 0\n",
    "#     species_prev[species_prev > read_t] <- 1\n",
    "#     species_prev <- species_prev %>% add_column(npm_research_id = species_df$npm_research_id, .before = 1)\n",
    "\n",
    "#     dir.create(str_glue(\"results/decontamination/diff_prev/diff_prev_sanity_check/pos_controls/read_t{read_t}/\"))\n",
    "\n",
    "#     for (column in meta_cols) {\n",
    "#         plot_list <- foreach(taxon = pos_taxa) %do% {\n",
    "#             prev_stats <- species_prev %>% \n",
    "#                         left_join(meta, by = \"npm_research_id\") %>%\n",
    "#                         group_by_at(c(column)) %>%\n",
    "#                         summarise(sum = sum(get(taxon))) %>%\n",
    "#                         mutate(batch_n = as.vector(table(meta[, column])),\n",
    "#                                prevalence = sum / as.vector(table(meta[, column])))\n",
    "\n",
    "#             # prev_stats\n",
    "#             prev_stats %>%\n",
    "#                 filter(get(column) != \"Unknown\") %>%\n",
    "#                 ggplot(aes(x = get(column), y = prevalence * 100)) +\n",
    "#                 geom_bar(stat = \"identity\") +\n",
    "#                 ylim(-3, 100) +\n",
    "#                 geom_text(aes(x = get(column), y = -3, label = batch_n), angle = 45) +\n",
    "#                 theme(axis.text.x = element_text(angle = 45, hjust = 1)) +\n",
    "#                 labs(x = column, y = \"Prevalence (%)\", title = taxon)\n",
    "#         }\n",
    "\n",
    "#         combined <- egg::ggarrange(plots = plot_list)\n",
    "\n",
    "#         ggsave(str_glue(\"results/decontamination/diff_prev/diff_prev_sanity_check/pos_controls/read_t{read_t}/prevalence.{column}.read_t{read_t}.png\"), plot = combined, width = 40, height = 40)\n",
    "#     }\n",
    "# }"
   ]
  },
  {
   "cell_type": "code",
   "execution_count": null,
   "id": "8850ef33",
   "metadata": {},
   "outputs": [],
   "source": [
    "dawdawdw"
   ]
  },
  {
   "cell_type": "markdown",
   "id": "2a66082f",
   "metadata": {},
   "source": [
    "#### Overall prevalence"
   ]
  },
  {
   "cell_type": "code",
   "execution_count": null,
   "id": "f14b3c61",
   "metadata": {
    "scrolled": true
   },
   "outputs": [],
   "source": [
    "prev_stats <- apply(species_prev[, 2:ncol(species_prev)], 2, sum) / nrow(species_df)\n",
    "prev_df <- data.frame(taxa = names(prev_stats), prevalence = as.vector(prev_stats))\n",
    "prev_df %>% arrange(desc(prevalence))"
   ]
  },
  {
   "cell_type": "code",
   "execution_count": null,
   "id": "a63ed533",
   "metadata": {},
   "outputs": [],
   "source": [
    "all_species <- colnames(species_df %>% select(-npm_research_id, -\"Homo sapiens\", -unclassified))\n",
    "to_include <- prev_df$taxa[prev_df$prevalence != 0]\n",
    "all_species <- all_species[all_species %in% to_include]\n",
    "print(length(all_species))"
   ]
  },
  {
   "cell_type": "code",
   "execution_count": null,
   "id": "4e2683ea",
   "metadata": {},
   "outputs": [],
   "source": [
    "all_species <- colnames(species_df %>% select(-npm_research_id, -\"Homo sapiens\", -unclassified))\n",
    "any(grepl(\"Propionibacterium\", all_species))\n",
    "all_species[grepl(\"Cutibacterium\", all_species)]"
   ]
  },
  {
   "cell_type": "code",
   "execution_count": null,
   "id": "7489c46d",
   "metadata": {},
   "outputs": [],
   "source": [
    "test <- fread(\"results/decontamination/max_batch_prevalence.kit.site.instrument.read_t100.csv\")\n",
    "test %>% \n",
    "    arrange(desc(max_batch_prev)) %>%\n",
    "    filter(max_batch_prev > 0.7)"
   ]
  },
  {
   "cell_type": "code",
   "execution_count": null,
   "id": "0c01d2d3",
   "metadata": {
    "scrolled": true
   },
   "outputs": [],
   "source": [
    "# col <- \"site_supplying_sample\"\n",
    "# taxon <- \"Bradyrhizobium sp. SK17\"\n",
    "system.time({\n",
    "    morsels <- foreach(taxon = all_species) %dopar% {\n",
    "        crumbs <- foreach (col = meta_cols) %do% {\n",
    "            max_batch_prev <- species_prev %>% \n",
    "                left_join(meta) %>% \n",
    "                filter(get(col) != \"Unknown\") %>%\n",
    "                select(all_of(c(taxon, col))) %>%\n",
    "                group_by(get(col)) %>%\n",
    "                summarise(prevalence = sum(get(taxon)) / n())\n",
    "            max_batch_prev <- max(max_batch_prev$prevalence)\n",
    "\n",
    "            tibble(meta_col = col, max_batch_prev = max_batch_prev)\n",
    "        }\n",
    "\n",
    "\n",
    "        crumb <- bind_rows(crumbs)\n",
    "        max_batch_prev <- max(crumb$max_batch_prev)\n",
    "\n",
    "        tibble(meta_col = taxon, max_batch_prev = max_batch_prev)\n",
    "    }\n",
    "\n",
    "    max_prev_df <- bind_rows(morsels)\n",
    "\n",
    "})\n",
    "\n",
    "fwrite(max_prev_df, str_glue(\"results/decontamination/max_batch_prevalence.kit.site.instrument.read_t{read_t}.csv\"))"
   ]
  },
  {
   "cell_type": "code",
   "execution_count": null,
   "id": "3ac68e27",
   "metadata": {},
   "outputs": [],
   "source": [
    "fwrite(max_prev_df, str_glue(\"results/decontamination/max_batch_prevalence.kit.site.instrument.read_t{read_t}.csv\"))"
   ]
  },
  {
   "cell_type": "markdown",
   "id": "8b6b6c69",
   "metadata": {},
   "source": [
    "### Retrieve samples for simulations"
   ]
  },
  {
   "cell_type": "code",
   "execution_count": null,
   "id": "9bc0bcf8",
   "metadata": {},
   "outputs": [],
   "source": [
    "calc <- meta %>%\n",
    "    summarise(min = min(raw_total_sequences), \n",
    "              median = median(raw_total_sequences),\n",
    "              max = max(raw_total_sequences),\n",
    "              n = n_distinct(npm_research_id))\n",
    "\n",
    "calc \n",
    "\n",
    "X <- as.matrix(species_df[, 2:ncol(species_df)])\n",
    "y <- species_df$npm_research_id\n",
    "\n",
    "rowsum_df <- tibble(npm_research_id = y, rowsums = rowSums(X)) %>%\n",
    "    left_join(meta) %>%\n",
    "    mutate(frac_microb = rowsums / raw_total_sequences) \n",
    "\n",
    "rowsum_df %>%\n",
    "    summarise(min = min(rowsums), \n",
    "              median = median(rowsums),\n",
    "              max = max(rowsums),\n",
    "              n = n_distinct(npm_research_id))\n",
    "\n",
    "rowsum_df %>%\n",
    "    summarise(min = min(frac_microb), \n",
    "              median = median(frac_microb),\n",
    "              max = max(frac_microb),\n",
    "              n = n_distinct(npm_research_id))"
   ]
  },
  {
   "cell_type": "code",
   "execution_count": null,
   "id": "7c7c616c",
   "metadata": {},
   "outputs": [],
   "source": [
    "nc <- read.csv(\"results/decontamination/correlation_decontamination/nc.diff_prev.diff_abn.l15h85.corr_t0.1.S.n9999.txt\")$non_contaminant_taxon\n"
   ]
  },
  {
   "cell_type": "code",
   "execution_count": null,
   "id": "bd49cf77",
   "metadata": {
    "scrolled": true
   },
   "outputs": [],
   "source": [
    "test <- species_df %>%\n",
    "    filter(get(\"Human betaherpesvirus 6A\") > 8700) %>%\n",
    "    pivot_longer(!npm_research_id, names_to = \"taxa\", values_to = \"read_count\") %>%\n",
    "    arrange(desc(read_count)) %>%\n",
    "    filter(read_count > 0)\n",
    "test$taxa[test$taxa %in% nc]"
   ]
  },
  {
   "cell_type": "code",
   "execution_count": null,
   "id": "b5b1c877",
   "metadata": {},
   "outputs": [],
   "source": [
    "read.csv(\"data/reported_controls/damgaard_2015_positive.txt\")"
   ]
  },
  {
   "cell_type": "code",
   "execution_count": null,
   "id": "bcf3503f",
   "metadata": {},
   "outputs": [],
   "source": [
    "max(species_df$`Staphylococcus aureus`)"
   ]
  },
  {
   "cell_type": "code",
   "execution_count": null,
   "id": "e33ed6a6",
   "metadata": {
    "scrolled": false
   },
   "outputs": [],
   "source": [
    "species_df %>% \n",
    "    pivot_longer(!npm_research_id, names_to = \"taxa\", values_to = \"read_count\") %>%\n",
    "    group_by(taxa) %>%\n",
    "    summarise(max_count = max(read_count)) %>%\n",
    "    filter(grepl(\"torque teno virus 1|herpes\", taxa, ignore.case = T)) %>%\n",
    "    arrange(desc(max_count)) %>%\n",
    "    head()"
   ]
  },
  {
   "cell_type": "markdown",
   "id": "309cc0ad",
   "metadata": {},
   "source": [
    "### Find no. of taxa in samples with human viruses"
   ]
  },
  {
   "cell_type": "code",
   "execution_count": null,
   "id": "2c79b8b3",
   "metadata": {
    "scrolled": true
   },
   "outputs": [],
   "source": [
    "species_df1 %>% \n",
    "    pivot_longer(!npm_research_id, names_to = \"taxa\", values_to = \"read_count\") %>%\n",
    "    group_by(taxa) %>%\n",
    "    summarise(max_count = max(read_count)) %>%\n",
    "    filter(grepl(\"torque teno|herpes\", taxa, ignore.case = T)) %>%\n",
    "    arrange(desc(max_count)) %>%\n",
    "    head()"
   ]
  },
  {
   "cell_type": "code",
   "execution_count": null,
   "id": "bd4aa6e4",
   "metadata": {
    "scrolled": true
   },
   "outputs": [],
   "source": [
    "species_prev100 %>% \n",
    "    column_to_rownames(\"npm_research_id\") %>%\n",
    "    select_if(grepl(\"Torque teno|Human\", names(.))) %>% colnames()"
   ]
  },
  {
   "cell_type": "code",
   "execution_count": null,
   "id": "4c956a70",
   "metadata": {},
   "outputs": [],
   "source": [
    "species_prev100 <- otu_to_prev(species_df, 100)\n",
    "with_virus <- species_prev100 %>% \n",
    "    column_to_rownames(\"npm_research_id\") %>%\n",
    "    select_if(grepl(\"Torque teno|Human\", names(.))) %>% \n",
    "    mutate(rowsums = rowSums(.)) %>%\n",
    "    filter(rowsums > 0) %>%\n",
    "    rownames()"
   ]
  },
  {
   "cell_type": "code",
   "execution_count": null,
   "id": "414eda8a",
   "metadata": {},
   "outputs": [],
   "source": [
    "species_prev100 %>% \n",
    "    filter(npm_research_id %in% with_virus) %>%\n",
    "    column_to_rownames(\"npm_research_id\") %>%\n",
    "    mutate(rowsums = rowSums(.)) %>%\n",
    "    select(rowsums) %>% \n",
    "    summarise(median = median(rowsums))\n"
   ]
  },
  {
   "cell_type": "markdown",
   "id": "0be0d66d",
   "metadata": {},
   "source": [
    "## Distribution of microbial reads per sample"
   ]
  },
  {
   "cell_type": "code",
   "execution_count": null,
   "id": "80c9c29e",
   "metadata": {
    "scrolled": true
   },
   "outputs": [],
   "source": [
    "read_counts <- apply(genus_df %>% select(-npm_research_id, -unclassified, -Homo), 1, sum)\n",
    "\n",
    "genus_reads <- genus_df %>% \n",
    "    select(-unclassified, -Homo) %>%\n",
    "    mutate(total = rowSums(across(where(is.numeric))))\n",
    "    \n",
    "genus_reads %>% \n",
    "    ggplot(aes(x = log(total, base = 10))) +\n",
    "    geom_histogram(bins = 50) +\n",
    "    labs(x = \"lg(microbial reads)\", y = \"No. of samples\")"
   ]
  },
  {
   "cell_type": "code",
   "execution_count": null,
   "id": "79e6f6a1",
   "metadata": {},
   "outputs": [],
   "source": [
    "load_data(str_glue(\"data/temp_files_9999/07_abundance_matrix/abundance_matrix.subset_9999.S.tsv\")) %>%\n",
    "    column_to_rownames(\"npm_research_id\") %>%\n",
    "    select(-\"Homo sapiens\", -unclassified) %>%\n",
    "    mutate(rowsums = rowSums(.)) %>%\n",
    "    ggplot(aes(x = log(rowsums, base = 10))) +\n",
    "    geom_histogram(bins = 100) +\n",
    "    labs(x = \"Log(classified read counts, base = 10)\", y = \"No. of samples\")"
   ]
  },
  {
   "cell_type": "markdown",
   "id": "814e2cda",
   "metadata": {},
   "source": [
    "## Choosing microbial read per sample threshold"
   ]
  },
  {
   "cell_type": "code",
   "execution_count": null,
   "id": "e0bf4071",
   "metadata": {},
   "outputs": [],
   "source": [
    "n_left <- c()\n",
    "t_vec <- seq(1, 1000, 10)\n",
    "\n",
    "morsels <- foreach (t = t_vec) %do% {\n",
    "    tmp <- genus_reads %>% \n",
    "        filter(total > t)\n",
    "    \n",
    "    morsel <- tibble(t = t, n_left = nrow(tmp))\n",
    "    return(morsel)\n",
    "}\n",
    "\n",
    "head(bind_rows(morsels))\n"
   ]
  },
  {
   "cell_type": "code",
   "execution_count": null,
   "id": "6adab8e7",
   "metadata": {},
   "outputs": [],
   "source": [
    "bind_rows(morsels) %>% \n",
    "    ggplot(aes(x = t, y = n_left)) +\n",
    "    geom_line() +\n",
    "    labs(x = \"Read count threshold\", y = \"No. of samples retained\")"
   ]
  },
  {
   "cell_type": "code",
   "execution_count": null,
   "id": "19c8c74d",
   "metadata": {},
   "outputs": [],
   "source": [
    "genus_reads %>%\n",
    "    left_join(meta) %>%\n",
    "    ggplot(aes(x = site_supplying_sample, y = log(total, base = 10))) +\n",
    "    geom_boxplot()"
   ]
  },
  {
   "cell_type": "code",
   "execution_count": null,
   "id": "7faa8207",
   "metadata": {
    "scrolled": true
   },
   "outputs": [],
   "source": [
    "# t <- 500\n",
    "t <- quantile(genus_reads$total, 0.1)[[1]]\n",
    "to_retain <- genus_reads %>% \n",
    "    filter(total > t) %>%\n",
    "    select(npm_research_id)\n",
    "\n",
    "nrow(to_retain)\n",
    "fwrite(to_retain, str_glue(\"data/samples_above_{t}_reads.txt\"))"
   ]
  },
  {
   "cell_type": "code",
   "execution_count": null,
   "id": "1a29f245",
   "metadata": {},
   "outputs": [],
   "source": [
    "before <- genus_reads %>%\n",
    "    left_join(meta) %>%\n",
    "    ggplot(aes(x = site_supplying_sample, y = log(total, base = 10))) +\n",
    "    geom_boxplot()\n",
    "\n",
    "after <- genus_reads %>%\n",
    "    left_join(meta) %>%\n",
    "    filter(npm_research_id %in% to_retain$npm_research_id) %>%\n",
    "    ggplot(aes(x = site_supplying_sample, y = log(total, base = 10))) +\n",
    "    geom_boxplot()\n",
    "\n",
    "\n",
    "ggarrange(before, after, ncol = 2)"
   ]
  },
  {
   "cell_type": "markdown",
   "id": "fb3524bb",
   "metadata": {},
   "source": [
    "#### Distribution of read counts"
   ]
  },
  {
   "cell_type": "code",
   "execution_count": null,
   "id": "45b5a64c",
   "metadata": {},
   "outputs": [],
   "source": [
    "otu_to_RA <- function(df) {\n",
    "    row_names <- df$npm_research_id\n",
    "    RA_df <- t(apply(df[, 2:ncol(df)], 1, function(x) {x / sum(x)}))\n",
    "    \n",
    "    return(cbind(data.frame(npm_research_id = row_names), as.data.frame(RA_df, check.names = F)))\n",
    "}\n",
    "\n",
    "species_RA <- otu_to_RA(species_df)\n",
    "genus_RA <- otu_to_RA(genus_df)"
   ]
  },
  {
   "cell_type": "code",
   "execution_count": null,
   "id": "f5973c06",
   "metadata": {
    "scrolled": true
   },
   "outputs": [],
   "source": [
    "prev_genus %>%\n",
    "    left_join(meta) %>%\n",
    "    ggplot(aes(x = site_supplying_sample, y = Bradyrhizobium)) +\n",
    "    geom_boxplot()"
   ]
  },
  {
   "cell_type": "code",
   "execution_count": null,
   "id": "d29e6adb",
   "metadata": {},
   "outputs": [],
   "source": [
    "frac <- 0.1\n",
    "RA_long <- species_RA %>%  \n",
    "    sample_frac(frac) %>%\n",
    "    select(-npm_research_id, -\"Homo sapiens\", -unclassified) %>%\n",
    "    pivot_longer(everything(), names_to = \"taxa\", values_to = \"rel_a\") %>%\n",
    "    filter(rel_a != 0) %>% \n",
    "    arrange(desc(rel_a))\n",
    "\n",
    "RA_plt <- RA_long %>%\n",
    "    ggplot(aes(x = log(rel_a))) +\n",
    "    geom_histogram(bins = 100) +\n",
    "    labs(x = \"log(Relative Abundance)\", y = \"Frequency\")\n",
    "\n",
    "species_long <- species_df %>%\n",
    "    sample_frac(frac) %>%\n",
    "    select(-npm_research_id, -\"Homo sapiens\", -unclassified) %>%\n",
    "    pivot_longer(everything(), names_to = \"taxa\", values_to = \"read_count\") %>%\n",
    "    filter(read_count != 0) %>% \n",
    "    arrange(desc(read_count))\n",
    "\n",
    "read_plt <- species_long %>%\n",
    "    ggplot(aes(x = log(read_count))) +\n",
    "    geom_histogram(bins = 100) +\n",
    "    labs(x = \"log(Read Count)\", y = \"Frequency\")\n",
    "\n",
    "ggarrange(read_plt, RA_plt, ncol = 2)"
   ]
  },
  {
   "cell_type": "code",
   "execution_count": null,
   "id": "e23fbe9f",
   "metadata": {},
   "outputs": [],
   "source": [
    "sorted_df <- RA_long %>%\n",
    "    filter(rel_a != 0) %>%\n",
    "    group_by(taxa) %>%\n",
    "    summarise(median = median(rel_a), min = min(rel_a), max = max(rel_a)) %>%\n",
    "    arrange(desc(median))\n",
    "head(sorted_df)"
   ]
  },
  {
   "cell_type": "code",
   "execution_count": null,
   "id": "de0cc95c",
   "metadata": {},
   "outputs": [],
   "source": [
    "prev_dat <- species_RA\n",
    "prev_dat[prev_dat > 0] <- 1"
   ]
  },
  {
   "cell_type": "code",
   "execution_count": null,
   "id": "b8a3f9f6",
   "metadata": {
    "scrolled": true
   },
   "outputs": [],
   "source": [
    "prev_stats <- apply(prev_dat[, 2:ncol(prev_dat)], 2, sum) / nrow(prev_dat)\n",
    "prev_df <- data.frame(taxa = names(prev_stats), prevalence = as.vector(prev_stats))\n",
    "prev_df %>% arrange(desc(prevalence))"
   ]
  },
  {
   "cell_type": "code",
   "execution_count": null,
   "id": "5d6124b7",
   "metadata": {},
   "outputs": [],
   "source": [
    "# to_show <- c(head(sorted_df)$taxa, sorted_df$taxa[grep(\"Stenotrophomonas\", sorted_df$taxa)])\n",
    "to_show <- sorted_df$taxa[grep(\"Moraxella oslo|Nocardia\", sorted_df$taxa)]\n",
    "sorted_df %>% \n",
    "filter(taxa %in% to_show) %>%\n",
    "left_join(prev_df) %>%\n",
    "arrange(desc(prevalence))"
   ]
  },
  {
   "cell_type": "code",
   "execution_count": null,
   "id": "c85ff6ed",
   "metadata": {},
   "outputs": [],
   "source": [
    "nc <- read.csv(\"results/decontamination/prevalence.noncontam.S.n9999.txt\")\n",
    "nc"
   ]
  },
  {
   "cell_type": "code",
   "execution_count": null,
   "id": "bc5c2f0e",
   "metadata": {},
   "outputs": [],
   "source": [
    "sorted_df %>% \n",
    "left_join(prev_df) %>%\n",
    "arrange(desc(prevalence)) %>%\n",
    "mutate(above_t = ifelse(prevalence > 0.5, \"prev_above_50\", \"prev_below_50\")) %>%\n",
    "mutate(text_annot = ifelse(above_t == \"prev_above_50\", taxa, \"\")) %>%\n",
    "recode(text_annot ==)"
   ]
  },
  {
   "cell_type": "code",
   "execution_count": null,
   "id": "21245fab",
   "metadata": {},
   "outputs": [],
   "source": [
    "sorted_df %>% \n",
    "left_join(prev_df) %>%\n",
    "arrange(desc(prevalence)) %>%\n",
    "mutate(above_t = ifelse(prevalence > 0.5, \"prev_above_50\", \"prev_below_50\")) %>%\n",
    "mutate(text_annot = ifelse(above_t == \"prev_above_50\", taxa, \"\")) %>%\n",
    "ggplot(aes(x = taxa, y = prevalence, fill = above_t)) +\n",
    "geom_bar(stat = \"identity\") +\n",
    "geom_text(aes(x = taxa, y = 0.9, label = text_annot))"
   ]
  },
  {
   "cell_type": "code",
   "execution_count": null,
   "id": "beaba641",
   "metadata": {},
   "outputs": [],
   "source": [
    "to_keep <- c(\"Cutibacterium acnes\", \"Staphylococcus aureus\", \"Escherichia\", \"Stenotrophomonas\", \"Bradyrhizobium\")\n",
    "to_search <- paste0(to_keep, collapse = \"|\")\n",
    "RA_long %>% \n",
    "    filter(grepl(to_search, taxa)) %>%\n",
    "    ggplot(aes(x = taxa, y = rel_a)) +\n",
    "    geom_boxplot() +\n",
    "    theme(axis.text.x = element_text(angle = 45, hjust = 1))"
   ]
  },
  {
   "cell_type": "markdown",
   "id": "c1ed294b",
   "metadata": {},
   "source": [
    "#### Prop unclassified"
   ]
  },
  {
   "cell_type": "code",
   "execution_count": null,
   "id": "a53fffed",
   "metadata": {},
   "outputs": [],
   "source": [
    "species_RA <- t(apply(species_df %>% column_to_rownames(\"npm_research_id\"), 1, function(x) {x / sum(x)}))\n",
    "species_RA <- as_tibble(species_RA)"
   ]
  },
  {
   "cell_type": "code",
   "execution_count": null,
   "id": "290565df",
   "metadata": {},
   "outputs": [],
   "source": [
    "nrow(species_RA)\n",
    "species_RA %>% \n",
    "    select(unclassified, \"Homo sapiens\") %>%\n",
    "    pivot_longer(everything(), names_to = \"taxa\", values_to = \"abundance\") %>%\n",
    "    ggplot(aes(y = abundance, fill = taxa, groups = taxa)) +\n",
    "    geom_boxplot() +\n",
    "    facet_grid(cols = vars(taxa)) +\n",
    "    theme(legend.position = \"None\",\n",
    "          axis.text.x = element_blank()) +\n",
    "    labs(y = \"Relative abundance\")\n",
    "\n",
    "ggsave(\"results/unclassified_and_human_boxplot.png\", dpi = 300)"
   ]
  },
  {
   "cell_type": "markdown",
   "id": "0468b6de",
   "metadata": {},
   "source": [
    "#### Heatmap"
   ]
  },
  {
   "cell_type": "code",
   "execution_count": null,
   "id": "35d17711",
   "metadata": {},
   "outputs": [],
   "source": [
    "species_RA_parsed <- species_RA %>% \n",
    "    rownames_to_column(\"npm_research_id\") %>%\n",
    "    sample_n(500, replace = F)\n",
    "\n",
    "long_df <- species_RA_parsed %>% \n",
    "    pivot_longer(!npm_research_id, names_to = \"taxa\", values_to = \"abundance\") %>%\n",
    "    mutate(abundance = ifelse(abundance == 0, NA, abundance)) %>%\n",
    "    mutate(abundance = log(abundance))"
   ]
  },
  {
   "cell_type": "code",
   "execution_count": null,
   "id": "59d6812e",
   "metadata": {},
   "outputs": [],
   "source": [
    "sample_clust <- hclust(dist(species_RA_parsed, method = \"euclidean\"), method = \"ward.D\" )$order\n",
    "taxa_clust <- hclust(dist(t(species_RA_parsed), method = \"euclidean\"), method = \"ward.D\" )$order\n",
    "long_df <- long_df %>% \n",
    "    mutate(npm_research_id = factor(npm_research_id, levels = species_RA_parsed$npm_research_id[clust]),\n",
    "           taxa = factor(taxa, levels = colnames(species_RA_parsed)[taxa_clust]))"
   ]
  },
  {
   "cell_type": "code",
   "execution_count": null,
   "id": "e84858b9",
   "metadata": {},
   "outputs": [],
   "source": [
    "hm <- long_df %>%\n",
    "    ggplot(aes(x = taxa, y = npm_research_id, fill = abundance)) +\n",
    "    geom_tile() +\n",
    "    scale_fill_gradient(na.value = \"white\", low = \"blue\", high = \"red\") +\n",
    "    theme(axis.text = element_blank(),\n",
    "         axis.ticks = element_blank()) +\n",
    "    labs(x = \"Species\", y = \"Samples\", fill = \"log(Relative Abundance)\")\n",
    "\n",
    "hm\n",
    "\n",
    "ggsave(\"results/relative_abundance_heatmap.png\", dpi = 300, plot = hm)"
   ]
  },
  {
   "cell_type": "markdown",
   "id": "4259c24f",
   "metadata": {},
   "source": [
    "### Count and remove samples with no classified reads\n",
    "This may include samples that originally had no reads, and samples whose reads cannot be classified"
   ]
  },
  {
   "cell_type": "code",
   "execution_count": null,
   "id": "fd6f2ec8",
   "metadata": {},
   "outputs": [],
   "source": [
    "count_zero_reads <- function(df) {\n",
    "    df %>%\n",
    "        rowwise() %>%\n",
    "        mutate(total = sum(across(everything()))) %>%\n",
    "        filter(total == 0) %>%\n",
    "        nrow()\n",
    "    }\n",
    "\n",
    "count_zero_reads(species_df)"
   ]
  },
  {
   "cell_type": "markdown",
   "id": "d42c1b6f",
   "metadata": {},
   "source": [
    "### Normalise to relative abundance"
   ]
  },
  {
   "cell_type": "code",
   "execution_count": null,
   "id": "1e0ac7e0",
   "metadata": {
    "scrolled": true
   },
   "outputs": [],
   "source": [
    "normalise <- function(df) {\n",
    "    RA_df <- t(apply(df, 1, function(x) {x / sum(x) * 100}))\n",
    "    return(RA_df)\n",
    "}\n",
    "\n",
    "species_RA <- normalise(species_df)\n",
    "species_RA"
   ]
  },
  {
   "cell_type": "markdown",
   "id": "340fc2bf",
   "metadata": {},
   "source": [
    "## Relative abundance for all samples"
   ]
  },
  {
   "cell_type": "markdown",
   "id": "9364821c",
   "metadata": {},
   "source": [
    "### Matrix --> long format"
   ]
  },
  {
   "cell_type": "code",
   "execution_count": null,
   "id": "eb18395b",
   "metadata": {},
   "outputs": [],
   "source": [
    "to_long_format <- function(RA_df) {\n",
    "    plot_df <- as_tibble(RA_df, rownames = \"sample\") %>%\n",
    "        pivot_longer(!sample, names_to = \"rank\", values_to = \"abundance\")\n",
    "    return(plot_df)\n",
    "    }\n",
    "\n",
    "plot_species_RA <- to_long_format(species_RA)"
   ]
  },
  {
   "cell_type": "markdown",
   "id": "3e0b5b85",
   "metadata": {},
   "source": [
    "### Keep only top N ranks\n",
    "ranked by median relative abundance"
   ]
  },
  {
   "cell_type": "code",
   "execution_count": null,
   "id": "14ddab5b",
   "metadata": {},
   "outputs": [],
   "source": [
    "get_top_N_ranks <- function(plot_df, n_keep) {\n",
    "    ranks_to_keep <- plot_df %>% \n",
    "        group_by(rank) %>%\n",
    "        summarise(median = median(abundance)) %>%\n",
    "        arrange(desc(median))\n",
    "      ranks_to_keep <- ranks_to_keep$rank[1:n_keep]\n",
    "    return(ranks_to_keep)\n",
    "}\n",
    "\n",
    "n_keep <- 8\n",
    "species_to_keep <- get_top_N_ranks(plot_species_RA, n_keep)"
   ]
  },
  {
   "cell_type": "markdown",
   "id": "ddba881b",
   "metadata": {},
   "source": [
    "### Visualise relative abundances"
   ]
  },
  {
   "cell_type": "markdown",
   "id": "0d485a5d",
   "metadata": {},
   "source": [
    "Define palette"
   ]
  },
  {
   "cell_type": "code",
   "execution_count": null,
   "id": "c65fcd64",
   "metadata": {},
   "outputs": [],
   "source": [
    "pal <- c(\"#d1495b\", \"#00798c\", \"#edae49\", \n",
    "         \"#66a182\", \"#2e4057\", \"#8d96a3\",\n",
    "         \"#8E44AD\", \"#2980b9\")"
   ]
  },
  {
   "cell_type": "markdown",
   "id": "cd380962",
   "metadata": {},
   "source": [
    "Order by total percentage of top taxa"
   ]
  },
  {
   "cell_type": "code",
   "execution_count": null,
   "id": "dd399e08",
   "metadata": {},
   "outputs": [],
   "source": [
    "get_sample_order <- function(plot_df, species_to_keep) {\n",
    "    ordered_df <- plot_df %>%\n",
    "        filter(rank %in% species_to_keep) %>%\n",
    "        group_by(sample) %>%\n",
    "        summarise(total = sum(abundance)) %>% \n",
    "        arrange(desc(total))\n",
    "\n",
    "    taxa_order <- ordered_df$sample\n",
    "    return(taxa_order)\n",
    "}\n",
    "\n",
    "sample_order <- get_sample_order(plot_species_RA, species_to_keep)"
   ]
  },
  {
   "cell_type": "markdown",
   "id": "4b6f3e30",
   "metadata": {},
   "source": [
    "Plot"
   ]
  },
  {
   "cell_type": "code",
   "execution_count": null,
   "id": "1fee0e26",
   "metadata": {},
   "outputs": [],
   "source": [
    "get_plot <- function(plot_df, ranks_to_keep, rank_name, sample_order) {\n",
    "    plt <- plot_df %>%\n",
    "        filter(rank %in% ranks_to_keep) %>%\n",
    "        mutate(sample = factor(sample, levels = sample_order)) %>%\n",
    "        ggplot(aes(x = sample, y = abundance, fill = rank)) +\n",
    "            geom_bar(stat = \"identity\", position = \"stack\") +\n",
    "            labs(x = \"Sample\", y = \"Relative abundance (%)\", fill = rank_name) +\n",
    "            theme(axis.text.x = element_blank(),\n",
    "                  axis.ticks.x = element_blank()) +\n",
    "            scale_fill_manual(values = pal[1:n_keep])\n",
    "    return(plt)\n",
    "}\n",
    "\n",
    "# get_plot(plot_family_RA, family_to_keep, \"family\")\n",
    "# get_plot(plot_genus_RA, genus_to_keep, \"genus\")\n",
    "get_plot(plot_species_RA, species_to_keep, \"species\", sample_order)"
   ]
  },
  {
   "cell_type": "markdown",
   "id": "09e7084d",
   "metadata": {},
   "source": [
    "Rather heterogenous"
   ]
  },
  {
   "cell_type": "markdown",
   "id": "9d461ee5",
   "metadata": {},
   "source": [
    "## Relative abundance by cohort"
   ]
  },
  {
   "cell_type": "markdown",
   "id": "34d30f8a",
   "metadata": {},
   "source": [
    "### Add metadata, groupby cohort and --> long format"
   ]
  },
  {
   "cell_type": "code",
   "execution_count": null,
   "id": "a02e0969",
   "metadata": {
    "scrolled": true
   },
   "outputs": [],
   "source": [
    "parse_cohort_data <- function(RA_df) {\n",
    "    plot2_df <- as_tibble(RA_df, rownames = \"sample\") %>%\n",
    "        separate(sample, into = c(NA, \"npm_research_id\"), sep = \"\\\\.\") %>%\n",
    "        left_join(meta, by = \"npm_research_id\")\n",
    "    \n",
    "    plot2_df <- plot2_df %>%\n",
    "    group_by(source_cohort) %>%\n",
    "    summarise(across(where(is.numeric), ~ mean(.x, na.rm = T))) %>%\n",
    "    pivot_longer(!source_cohort, names_to = \"rank\", values_to = \"abundance\")\n",
    "}\n",
    "\n",
    "# cohort_family_RA <- parse_cohort_data(family_RA)\n",
    "# cohort_genus_RA <- parse_cohort_data(genus_RA)\n",
    "cohort_species_RA <- parse_cohort_data(species_RA)"
   ]
  },
  {
   "cell_type": "markdown",
   "id": "bd246f9a",
   "metadata": {},
   "source": [
    "### Visualise"
   ]
  },
  {
   "cell_type": "code",
   "execution_count": null,
   "id": "227e2f37",
   "metadata": {},
   "outputs": [],
   "source": [
    "get_cohort_plt <- function(plot2_df, ranks_to_keep, rank_name) {\n",
    "    plt <- plot2_df %>%\n",
    "        filter(rank %in% ranks_to_keep) %>%\n",
    "    #     mutate(sample = factor(sample, levels = unique(sample)[order(sample)])) %>%\n",
    "        ggplot(aes(x = source_cohort, y = abundance, fill = rank)) +\n",
    "            geom_bar(stat = \"identity\", position = \"stack\") +\n",
    "            labs(x = \"Sample\", y = \"Mean Relative abundance (%)\", fill = rank_name) +\n",
    "            theme(axis.text.x = element_text(angle = 45, hjust = 1),\n",
    "                  axis.ticks.x = element_blank()) +\n",
    "            scale_fill_manual(values = pal[1:n_keep])\n",
    "    return(plt)\n",
    "}\n",
    "\n",
    "# get_cohort_plt(cohort_family_RA, family_to_keep, \"Family\")\n",
    "# get_cohort_plt(cohort_genus_RA, genus_to_keep, \"Genus\")\n",
    "get_cohort_plt(cohort_species_RA, species_to_keep, \"Species\")"
   ]
  }
 ],
 "metadata": {
  "kernelspec": {
   "display_name": "R",
   "language": "R",
   "name": "ir"
  },
  "language_info": {
   "codemirror_mode": "r",
   "file_extension": ".r",
   "mimetype": "text/x-r-source",
   "name": "R",
   "pygments_lexer": "r",
   "version": "4.1.2"
  }
 },
 "nbformat": 4,
 "nbformat_minor": 5
}
