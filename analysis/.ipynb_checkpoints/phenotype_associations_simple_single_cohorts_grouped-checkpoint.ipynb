{
 "cells": [
  {
   "cell_type": "markdown",
   "id": "f799b42b",
   "metadata": {},
   "source": [
    "# Associations between microbial presence/absence and patient info"
   ]
  },
  {
   "cell_type": "code",
   "execution_count": 2,
   "id": "bc15bd3e",
   "metadata": {
    "scrolled": true
   },
   "outputs": [
    {
     "name": "stderr",
     "output_type": "stream",
     "text": [
      "Loading required package: tidyverse\n",
      "\n",
      "Warning message in system(\"timedatectl\", intern = TRUE):\n",
      "“running command 'timedatectl' had status 1”\n",
      "── \u001b[1mAttaching packages\u001b[22m ─────────────────────────────────────────────────────────────────────────────── tidyverse 1.3.1 ──\n",
      "\n",
      "\u001b[32m✔\u001b[39m \u001b[34mggplot2\u001b[39m 3.3.5     \u001b[32m✔\u001b[39m \u001b[34mpurrr  \u001b[39m 0.3.4\n",
      "\u001b[32m✔\u001b[39m \u001b[34mtibble \u001b[39m 3.1.6     \u001b[32m✔\u001b[39m \u001b[34mdplyr  \u001b[39m 1.0.7\n",
      "\u001b[32m✔\u001b[39m \u001b[34mtidyr  \u001b[39m 1.1.4     \u001b[32m✔\u001b[39m \u001b[34mstringr\u001b[39m 1.4.0\n",
      "\u001b[32m✔\u001b[39m \u001b[34mreadr  \u001b[39m 2.1.0     \u001b[32m✔\u001b[39m \u001b[34mforcats\u001b[39m 0.5.1\n",
      "\n",
      "── \u001b[1mConflicts\u001b[22m ────────────────────────────────────────────────────────────────────────────────── tidyverse_conflicts() ──\n",
      "\u001b[31m✖\u001b[39m \u001b[34mdplyr\u001b[39m::\u001b[32mfilter()\u001b[39m masks \u001b[34mstats\u001b[39m::filter()\n",
      "\u001b[31m✖\u001b[39m \u001b[34mdplyr\u001b[39m::\u001b[32mlag()\u001b[39m    masks \u001b[34mstats\u001b[39m::lag()\n",
      "\n",
      "Loading required package: data.table\n",
      "\n",
      "\n",
      "Attaching package: ‘data.table’\n",
      "\n",
      "\n",
      "The following objects are masked from ‘package:dplyr’:\n",
      "\n",
      "    between, first, last\n",
      "\n",
      "\n",
      "The following object is masked from ‘package:purrr’:\n",
      "\n",
      "    transpose\n",
      "\n",
      "\n",
      "Loading required package: foreach\n",
      "\n",
      "\n",
      "Attaching package: ‘foreach’\n",
      "\n",
      "\n",
      "The following objects are masked from ‘package:purrr’:\n",
      "\n",
      "    accumulate, when\n",
      "\n",
      "\n",
      "Loading required package: doParallel\n",
      "\n",
      "Loading required package: iterators\n",
      "\n",
      "Loading required package: parallel\n",
      "\n",
      "Loading required package: ggrepel\n",
      "\n"
     ]
    }
   ],
   "source": [
    "setwd(\"/mnt/c/Users/Cedric/Desktop/git_repos/blood_microbiome\")\n",
    "require(tidyverse)\n",
    "require(ggplot2)\n",
    "require(data.table)\n",
    "require(foreach)\n",
    "require(doParallel)\n",
    "require(ggrepel)\n",
    "registerDoParallel(cores = 8)\n"
   ]
  },
  {
   "cell_type": "markdown",
   "id": "8876a48d",
   "metadata": {},
   "source": [
    "### Load  data"
   ]
  },
  {
   "cell_type": "code",
   "execution_count": 3,
   "id": "9d77d78f",
   "metadata": {
    "scrolled": true
   },
   "outputs": [],
   "source": [
    "X <- fread(\"results/decontamination/prevalence_RA0.005_read10.csv\")\n",
    "nc <- fread(\"results/decontamination/curated_n124_global_decontamination_stats.csv\")\n",
    "X <- X %>% select(all_of(c(\"npm_research_id\", nc$taxa)))\n",
    "\n",
    "meta <- fread(\"data/20210125_v3_release/20210203_all_traits_v3.txt\")\n",
    "meta2 <- fread(\"data/SG10K_Health_metadata.n10714.16March2021.parsed.csv\")\n",
    "\n",
    "n <- gsub(\"[^0-9A-Za-z///' ]\", \" \", colnames(meta))\n",
    "n <- tolower(n)\n",
    "n <- gsub(\" \", \"_\", n)\n",
    "colnames(meta) <- n\n",
    "\n",
    "fwrite(meta, \"data/20210125_v3_release/20210203_all_traits_v3.parsed.csv\")"
   ]
  },
  {
   "cell_type": "code",
   "execution_count": 6,
   "id": "3b37b735",
   "metadata": {
    "scrolled": true
   },
   "outputs": [
    {
     "data": {
      "text/html": [
       "<style>\n",
       ".list-inline {list-style: none; margin:0; padding: 0}\n",
       ".list-inline>li {display: inline-block}\n",
       ".list-inline>li:not(:last-child)::after {content: \"\\00b7\"; padding: 0 .5ex}\n",
       "</style>\n",
       "<ol class=list-inline><li>'gut'</li><li>'oral'</li><li>'genitals'</li><li>'skin'</li><li>'respiratory tract'</li><li>'blood'</li><li>'eye'</li></ol>\n"
      ],
      "text/latex": [
       "\\begin{enumerate*}\n",
       "\\item 'gut'\n",
       "\\item 'oral'\n",
       "\\item 'genitals'\n",
       "\\item 'skin'\n",
       "\\item 'respiratory tract'\n",
       "\\item 'blood'\n",
       "\\item 'eye'\n",
       "\\end{enumerate*}\n"
      ],
      "text/markdown": [
       "1. 'gut'\n",
       "2. 'oral'\n",
       "3. 'genitals'\n",
       "4. 'skin'\n",
       "5. 'respiratory tract'\n",
       "6. 'blood'\n",
       "7. 'eye'\n",
       "\n",
       "\n"
      ],
      "text/plain": [
       "[1] \"gut\"               \"oral\"              \"genitals\"         \n",
       "[4] \"skin\"              \"respiratory tract\" \"blood\"            \n",
       "[7] \"eye\"              "
      ]
     },
     "metadata": {},
     "output_type": "display_data"
    },
    {
     "data": {
      "text/html": [
       "<style>\n",
       ".list-inline {list-style: none; margin:0; padding: 0}\n",
       ".list-inline>li {display: inline-block}\n",
       ".list-inline>li:not(:last-child)::after {content: \"\\00b7\"; padding: 0 .5ex}\n",
       "</style>\n",
       "<ol class=list-inline><li>'HELIOS'</li><li>'MEC'</li><li>'PRISM'</li><li>'GUSTO'</li><li>'TTSH'</li><li>'SERI'</li></ol>\n"
      ],
      "text/latex": [
       "\\begin{enumerate*}\n",
       "\\item 'HELIOS'\n",
       "\\item 'MEC'\n",
       "\\item 'PRISM'\n",
       "\\item 'GUSTO'\n",
       "\\item 'TTSH'\n",
       "\\item 'SERI'\n",
       "\\end{enumerate*}\n"
      ],
      "text/markdown": [
       "1. 'HELIOS'\n",
       "2. 'MEC'\n",
       "3. 'PRISM'\n",
       "4. 'GUSTO'\n",
       "5. 'TTSH'\n",
       "6. 'SERI'\n",
       "\n",
       "\n"
      ],
      "text/plain": [
       "[1] \"HELIOS\" \"MEC\"    \"PRISM\"  \"GUSTO\"  \"TTSH\"   \"SERI\"  "
      ]
     },
     "metadata": {},
     "output_type": "display_data"
    },
    {
     "data": {
      "text/html": [
       "378"
      ],
      "text/latex": [
       "378"
      ],
      "text/markdown": [
       "378"
      ],
      "text/plain": [
       "[1] 378"
      ]
     },
     "metadata": {},
     "output_type": "display_data"
    }
   ],
   "source": [
    "# Get variable lists\n",
    "categorical_list_full <- c(\"fasting\", \"genetic_sex\", \"genetic_ancestry\", \n",
    "                      \"diab_med\", \"htn_med\", \"lipid_med\", \"t2d\")\n",
    "cont_list_full <- c(\"age\", \"bmi\", \n",
    "               \"height_cm\", \"weight_kg\", \"waistc_cm\", \"hipc_cm\", \n",
    "               \"tc_mmol_l\", \"ldl_direct_mmol_l\", \"hdl_mmol_l\", \"tg_mmol_l\",\n",
    "               \"glu_fast_mmol_l\", \"ins_fast_uiu_ml\", \"glu_rand_mmol_l\",\n",
    "               \"ldl_cal_mmol_l\",              \n",
    "               \"sbp\", \"dbp\")\n",
    "\n",
    "categorical_list <- c(\"genetic_sex\", \"genetic_ancestry\")\n",
    "cont_list <- c(\"age\", \"bmi\", \n",
    "               \"tc_mmol_l\", \"hdl_mmol_l\", \"tg_mmol_l\", \n",
    "               \"sbp\", \"dbp\")\n",
    "\n",
    "site_list <- unique(nc$site)\n",
    "site_list <- site_list[site_list != \"\"]\n",
    "site_list\n",
    "\n",
    "cohort_list <- unique(meta2$site_supplying_sample)\n",
    "cohort_list <- cohort_list[cohort_list != \"SSMP\"]\n",
    "cohort_list\n",
    "\n",
    "n_comparisons <- length(cohort_list) * length(site_list) * (length(categorical_list) + length(cont_list))\n",
    "n_comparisons"
   ]
  },
  {
   "cell_type": "markdown",
   "id": "2f44c22d",
   "metadata": {},
   "source": [
    "### Basic stats on phenotypes"
   ]
  },
  {
   "cell_type": "markdown",
   "id": "bd080abb",
   "metadata": {},
   "source": [
    "## Phenotype association tests"
   ]
  },
  {
   "cell_type": "code",
   "execution_count": 7,
   "id": "95fc7a30",
   "metadata": {
    "scrolled": true
   },
   "outputs": [],
   "source": [
    "site_morsels <- foreach(site_name = site_list) %do% {\n",
    "    taxa_list <- (nc %>% filter(site == site_name))$taxa\n",
    "    X_site_temp <- X %>%\n",
    "        column_to_rownames(\"npm_research_id\") %>%\n",
    "        select(all_of(taxa_list)) %>%\n",
    "        mutate(combined = rowSums(.), .before = 1)  %>%\n",
    "        mutate(combined = ifelse(combined > 0, 1, 0)) %>%\n",
    "        select(combined)\n",
    "\n",
    "    colnames(X_site_temp) <- site_name\n",
    "    X_site_temp\n",
    "}\n",
    "\n",
    "X_meta <- bind_cols(site_morsels) %>%\n",
    "    rownames_to_column(\"npm_research_id\") %>%\n",
    "    left_join(meta, \"npm_research_id\") %>%\n",
    "    left_join(meta2, \"npm_research_id\") %>%\n",
    "    as_tibble()"
   ]
  },
  {
   "cell_type": "markdown",
   "id": "69f048ab",
   "metadata": {},
   "source": [
    "#### Distribution of sites"
   ]
  },
  {
   "cell_type": "code",
   "execution_count": 11,
   "id": "273f110c",
   "metadata": {},
   "outputs": [
    {
     "data": {
      "image/png": "[encoded data removed]",
      "text/plain": [
       "plot without title"
      ]
     },
     "metadata": {
      "image/png": {
       "height": 420,
       "width": 420
      }
     },
     "output_type": "display_data"
    }
   ],
   "source": [
    "X_meta %>% \n",
    "    select(all_of(c(\"npm_research_id\", site_list))) %>%\n",
    "    pivot_longer(!npm_research_id, names_to = \"site\", values_to = \"presence\") %>%\n",
    "    ggplot(aes(x = site, y = npm_research_id, fill = presence)) +\n",
    "    geom_tile() +\n",
    "    theme(axis.text.y = element_blank(),\n",
    "          axis.ticks.y = element_blank())"
   ]
  },
  {
   "cell_type": "code",
   "execution_count": 9,
   "id": "a4da51d9",
   "metadata": {
    "scrolled": true
   },
   "outputs": [],
   "source": [
    "morsels <- foreach(cohort = cohort_list) %do% {\n",
    "    site_res <- foreach(site_name = site_list) %do% {\n",
    "        cat_morsels <- foreach (category = categorical_list) %do% {\n",
    "            X_meta_filt <- X_meta %>% \n",
    "                filter(!is.na(get(category)),\n",
    "                       site_supplying_sample == cohort)\n",
    "            \n",
    "            var_vec <- deframe(X_meta_filt[, category])\n",
    "            species_vec <- deframe(X_meta_filt[, site_name])\n",
    "\n",
    "            if(sum(species_vec) > 30 & length(unique(var_vec)) >= 2) {\n",
    "                test <- fisher.test(var_vec, species_vec)\n",
    "                return(tibble(site = site_name, variable = category, OR = test$estimate, p = test$p.value))\n",
    "            } else {\n",
    "                return(tibble(site = site_name, variable = category, OR = NA, p = NA))\n",
    "            }\n",
    "        }\n",
    "\n",
    "        cat_res <- bind_rows(cat_morsels)\n",
    "\n",
    "        # For continuous variables\n",
    "        cont_morsels <- foreach (cont = cont_list) %do% {\n",
    "            X_meta_filt <- X_meta %>% \n",
    "                filter(!is.na(get(cont)),\n",
    "                       site_supplying_sample == cohort)\n",
    "            \n",
    "            var_vec <- deframe(X_meta_filt[, cont])\n",
    "            species_vec <- deframe(X_meta_filt[, site_name])\n",
    "\n",
    "            if(sum(species_vec) > 30) {\n",
    "                test <- wilcox.test(var_vec ~ species_vec, correct = F) \n",
    "                return(tibble(site = site_name, variable = cont, \n",
    "                              U = test$statistic, \n",
    "                              p = test$p.value))\n",
    "            } else {\n",
    "                return(tibble(site = site_name, \n",
    "                              variable = cont, \n",
    "                              U = NA, \n",
    "                              p = NA))\n",
    "            }\n",
    "        }\n",
    "\n",
    "        cont_res <- bind_rows(cont_morsels)\n",
    "        \n",
    "        res_temp <- cat_res %>%\n",
    "            bind_rows(cont_res) %>%\n",
    "            add_column(cohort = cohort)\n",
    "        res_temp\n",
    "    }\n",
    "    \n",
    "    site_temp <- bind_rows(site_res)\n",
    "\n",
    "}\n",
    "\n",
    "res <- bind_rows(morsels)\n",
    "stopImplicitCluster()"
   ]
  },
  {
   "cell_type": "code",
   "execution_count": 12,
   "id": "6e4319c5",
   "metadata": {},
   "outputs": [
    {
     "name": "stdout",
     "output_type": "stream",
     "text": [
      "[1] 148\n"
     ]
    }
   ],
   "source": [
    "n_not_tested <- res %>%\n",
    "    filter(is.na(p)) %>%\n",
    "    nrow()\n",
    "\n",
    "n_comparisons_final <- n_comparisons - n_not_tested\n",
    "print(n_comparisons_final)\n",
    "a <- 0.05\n",
    "\n",
    "res_filt <- res %>%\n",
    "    filter(!is.na(p)) %>%\n",
    "    mutate(p.adj = p.adjust(p, \"BH\", n = n_comparisons_final)) %>%\n",
    "    mutate(log_p_adj = -log(p.adj, base = 10),\n",
    "           annot = ifelse(log_p_adj > 5, taxa, \"\"),\n",
    "           variable = factor(variable, levels = c(categorical_list, cont_list)),\n",
    "           color_value = ifelse(p.adj > a, NA, log_p_adj))"
   ]
  },
  {
   "cell_type": "code",
   "execution_count": 13,
   "id": "24639954",
   "metadata": {},
   "outputs": [
    {
     "data": {
      "text/html": [
       "<table class=\"dataframe\">\n",
       "<caption>A tibble: 6 × 4</caption>\n",
       "<thead>\n",
       "\t<tr><th scope=col>site</th><th scope=col>variable</th><th scope=col>p.adj</th><th scope=col>cohort</th></tr>\n",
       "\t<tr><th scope=col>&lt;chr&gt;</th><th scope=col>&lt;fct&gt;</th><th scope=col>&lt;dbl&gt;</th><th scope=col>&lt;chr&gt;</th></tr>\n",
       "</thead>\n",
       "<tbody>\n",
       "\t<tr><td>genitals         </td><td>genetic_ancestry</td><td>0.0001203336</td><td>SERI</td></tr>\n",
       "\t<tr><td>gut              </td><td>genetic_ancestry</td><td>0.0010937817</td><td>SERI</td></tr>\n",
       "\t<tr><td>skin             </td><td>genetic_ancestry</td><td>0.0024140698</td><td>MEC </td></tr>\n",
       "\t<tr><td>respiratory tract</td><td>genetic_ancestry</td><td>0.0053046835</td><td>SERI</td></tr>\n",
       "\t<tr><td>skin             </td><td>genetic_ancestry</td><td>0.0118020725</td><td>SERI</td></tr>\n",
       "\t<tr><td>oral             </td><td>genetic_ancestry</td><td>0.0236169056</td><td>SERI</td></tr>\n",
       "</tbody>\n",
       "</table>\n"
      ],
      "text/latex": [
       "A tibble: 6 × 4\n",
       "\\begin{tabular}{llll}\n",
       " site & variable & p.adj & cohort\\\\\n",
       " <chr> & <fct> & <dbl> & <chr>\\\\\n",
       "\\hline\n",
       "\t genitals          & genetic\\_ancestry & 0.0001203336 & SERI\\\\\n",
       "\t gut               & genetic\\_ancestry & 0.0010937817 & SERI\\\\\n",
       "\t skin              & genetic\\_ancestry & 0.0024140698 & MEC \\\\\n",
       "\t respiratory tract & genetic\\_ancestry & 0.0053046835 & SERI\\\\\n",
       "\t skin              & genetic\\_ancestry & 0.0118020725 & SERI\\\\\n",
       "\t oral              & genetic\\_ancestry & 0.0236169056 & SERI\\\\\n",
       "\\end{tabular}\n"
      ],
      "text/markdown": [
       "\n",
       "A tibble: 6 × 4\n",
       "\n",
       "| site &lt;chr&gt; | variable &lt;fct&gt; | p.adj &lt;dbl&gt; | cohort &lt;chr&gt; |\n",
       "|---|---|---|---|\n",
       "| genitals          | genetic_ancestry | 0.0001203336 | SERI |\n",
       "| gut               | genetic_ancestry | 0.0010937817 | SERI |\n",
       "| skin              | genetic_ancestry | 0.0024140698 | MEC  |\n",
       "| respiratory tract | genetic_ancestry | 0.0053046835 | SERI |\n",
       "| skin              | genetic_ancestry | 0.0118020725 | SERI |\n",
       "| oral              | genetic_ancestry | 0.0236169056 | SERI |\n",
       "\n"
      ],
      "text/plain": [
       "  site              variable         p.adj        cohort\n",
       "1 genitals          genetic_ancestry 0.0001203336 SERI  \n",
       "2 gut               genetic_ancestry 0.0010937817 SERI  \n",
       "3 skin              genetic_ancestry 0.0024140698 MEC   \n",
       "4 respiratory tract genetic_ancestry 0.0053046835 SERI  \n",
       "5 skin              genetic_ancestry 0.0118020725 SERI  \n",
       "6 oral              genetic_ancestry 0.0236169056 SERI  "
      ]
     },
     "metadata": {},
     "output_type": "display_data"
    }
   ],
   "source": [
    "res_filt %>%\n",
    "    filter(p.adj < 0.05) %>%\n",
    "    select(site, variable, p.adj, cohort) %>%\n",
    "    arrange(p.adj)"
   ]
  },
  {
   "cell_type": "code",
   "execution_count": 14,
   "id": "f95ba9b8",
   "metadata": {
    "scrolled": false
   },
   "outputs": [
    {
     "name": "stderr",
     "output_type": "stream",
     "text": [
      "Saving 12 x 6.67 in image\n",
      "\n"
     ]
    },
    {
     "data": {
      "image/png": "[encoded data removed]",
      "text/plain": [
       "plot without title"
      ]
     },
     "metadata": {
      "image/png": {
       "height": 420,
       "width": 420
      }
     },
     "output_type": "display_data"
    }
   ],
   "source": [
    "n_not_tested <- res %>%\n",
    "    filter(is.na(p)) %>%\n",
    "    nrow()\n",
    "\n",
    "n_comparisons_final <- n_comparisons - n_not_tested\n",
    "a <- 0.05\n",
    "\n",
    "res_filt <- res %>%\n",
    "    filter(!is.na(p)) %>%\n",
    "    mutate(p.adj = p.adjust(p, \"BH\", n = n_comparisons_final)) %>%\n",
    "    mutate(log_p_adj = -log(p.adj, base = 10),\n",
    "           annot = ifelse(p.adj < a, site, \"\"),\n",
    "           variable = factor(variable, levels = c(categorical_list, cont_list)),\n",
    "           color_value = ifelse(p.adj > a, NA, log_p_adj))\n",
    "\n",
    "assoc_plt <- res_filt %>%\n",
    "    ggplot(aes(x = variable, y = log_p_adj, color = color_value)) +\n",
    "    geom_point() +\n",
    "    geom_hline(yintercept = -log(a, base = 10), \n",
    "               lty = \"dashed\",\n",
    "               color = \"red\") +\n",
    "    scale_color_gradient(low = \"orangered4\", high = \"tomato1\", na.value = \"darkgray\") + \n",
    "    theme(axis.text.x = element_text(angle = 45, hjust = 1),\n",
    "          text = element_text(size = 15),\n",
    "          legend.position = \"none\") +\n",
    "    geom_text(aes(label = annot), angle = 45, hjust = -0.1, size = 3) +\n",
    "    labs(x = \"Variables\", y = \"log10(adj. p-value)\")\n",
    "assoc_plt\n",
    "\n",
    "ggsave(\"results/phenotype_associations/manhattan_plot.separate.simple.png\", plot = assoc_plt, dpi = 600, width = 12)"
   ]
  },
  {
   "cell_type": "code",
   "execution_count": 21,
   "id": "2128757a",
   "metadata": {},
   "outputs": [
    {
     "name": "stderr",
     "output_type": "stream",
     "text": [
      "`summarise()` has grouped output by 'site_supplying_sample'. You can override using the `.groups` argument.\n"
     ]
    }
   ],
   "source": [
    "n_df <- X_meta %>%\n",
    "    group_by(site_supplying_sample, genetic_ancestry) %>%\n",
    "    summarise(n_total = n())"
   ]
  },
  {
   "cell_type": "code",
   "execution_count": 35,
   "id": "f5230212",
   "metadata": {},
   "outputs": [
    {
     "name": "stderr",
     "output_type": "stream",
     "text": [
      "`summarise()` has grouped output by 'site_supplying_sample'. You can override using the `.groups` argument.\n",
      "Saving 6.67 x 6.67 in image\n",
      "\n",
      "`summarise()` has grouped output by 'site_supplying_sample'. You can override using the `.groups` argument.\n",
      "Saving 6.67 x 6.67 in image\n",
      "\n",
      "`summarise()` has grouped output by 'site_supplying_sample'. You can override using the `.groups` argument.\n",
      "Saving 6.67 x 6.67 in image\n",
      "\n",
      "`summarise()` has grouped output by 'site_supplying_sample'. You can override using the `.groups` argument.\n",
      "Saving 6.67 x 6.67 in image\n",
      "\n",
      "`summarise()` has grouped output by 'site_supplying_sample'. You can override using the `.groups` argument.\n",
      "Saving 6.67 x 6.67 in image\n",
      "\n",
      "`summarise()` has grouped output by 'site_supplying_sample'. You can override using the `.groups` argument.\n",
      "Saving 6.67 x 6.67 in image\n",
      "\n",
      "`summarise()` has grouped output by 'site_supplying_sample'. You can override using the `.groups` argument.\n",
      "Saving 6.67 x 6.67 in image\n",
      "\n"
     ]
    }
   ],
   "source": [
    "\n",
    "for(site_name in site_list) {\n",
    "    variable_name <- \"genetic_ancestry\"\n",
    "    X_meta %>%\n",
    "        filter(!is.na(get(variable_name))) %>%\n",
    "        group_by_at(c(\"site_supplying_sample\", variable_name)) %>%\n",
    "        summarise(n_pos = sum(get(site_name)),\n",
    "                  prop_pos = sum(get(site_name)) / n(), \n",
    "                  n_total = n()) %>%\n",
    "        ggplot(aes(x = get(variable_name), y = prop_pos, fill = get(variable_name))) +\n",
    "        geom_bar(stat = \"identity\", position = \"dodge\") +\n",
    "        facet_grid(rows = vars(site_supplying_sample)) +\n",
    "        labs(x = variable_name, y = \"Prop. of positive hits\") +\n",
    "        geom_text(aes(y = prop_pos, label = n_pos),\n",
    "                  vjust = 0,\n",
    "                  color = \"red\") +\n",
    "        geom_text(aes(y = -0.01, label = paste0(\"n_sampled = \", n_total)),\n",
    "                  vjust = 1,\n",
    "                  color = \"black\") +\n",
    "        theme(legend.position = \"none\") +\n",
    "        ylim(-0.12, 0.8)\n",
    "    ggsave(str_glue(\"results/phenotype_associations/separate_simple_plots/{site_name}.genetic_ancestry.png\"))\n",
    "}"
   ]
  },
  {
   "cell_type": "code",
   "execution_count": null,
   "id": "80873181",
   "metadata": {},
   "outputs": [],
   "source": [
    "X_meta %>%\n",
    "    select(all_of(c(site_list, \"site_supplying_sample\", \"genetic_ancestry\"))) %>%\n",
    "    pivot_longer(!c(site_supplying_sample, genetic_ancestry), names_to = \"site\", values_to = \"presence\") %>%\n",
    "    group_by(site_supplying_sample,genetic_ancestry, site) %>%\n",
    "    summarise(n = sum(presence)) %>%\n",
    "    ggplot(aes(x = site_supplying_sample, y = n, fill = site)) +\n",
    "    geom_bar(stat = \"identity\", position = \"dodge\") +\n",
    "    facet_grid(rows = vars(genetic_ancestry))\n"
   ]
  },
  {
   "cell_type": "code",
   "execution_count": null,
   "id": "46e9f3b8",
   "metadata": {},
   "outputs": [],
   "source": [
    "require(VennDiagram)"
   ]
  },
  {
   "cell_type": "code",
   "execution_count": 41,
   "id": "d3336041",
   "metadata": {},
   "outputs": [
    {
     "data": {
      "text/html": [
       "<ol>\n",
       "\t<li><style>\n",
       ".list-inline {list-style: none; margin:0; padding: 0}\n",
       ".list-inline>li {display: inline-block}\n",
       ".list-inline>li:not(:last-child)::after {content: \"\\00b7\"; padding: 0 .5ex}\n",
       "</style>\n",
       "<ol class=list-inline><li>'Fusobacterium nucleatum'</li><li>'Neisseria subflava'</li><li>'Haemophilus parainfluenzae'</li><li>'Staphylococcus epidermidis'</li><li>'Lactobacillus crispatus'</li><li>'Malassezia restricta'</li><li>'Prevotella melaninogenica'</li><li>'Gardnerella vaginalis'</li><li>'Prevotella jejuni'</li><li>'Faecalibacterium prausnitzii'</li><li>'Rothia mucilaginosa'</li><li>'Neisseria meningitidis'</li><li>'Lactobacillus iners'</li><li>'Veillonella parvula'</li><li>'Bifidobacterium longum'</li><li>'Streptococcus mitis'</li><li>'Bifidobacterium bifidum'</li><li>'Streptococcus oralis'</li><li>'Bifidobacterium breve'</li><li>'Lautropia mirabilis'</li><li>'Rothia dentocariosa'</li><li>'Ruminococcus gnavus'</li><li>'Ruminococcus torques'</li><li>'Blautia obeum'</li><li>'Corynebacterium jeikeium'</li><li>'Collinsella aerofaciens'</li><li>'Bifidobacterium catenulatum'</li><li>'Anaerostipes hadrus'</li><li>'Bifidobacterium adolescentis'</li><li>'Parabacteroides distasonis'</li><li>'Streptococcus sanguinis'</li><li>'Corynebacterium matruchotii'</li><li>'Coprococcus comes'</li><li>'Streptococcus pneumoniae'</li><li>'Staphylococcus aureus'</li><li>'Clostridium innocuum'</li><li>'Gemella haemolysans'</li><li>'Megasphaera elsdenii'</li><li>'Porphyromonas gingivalis'</li><li>'Bifidobacterium pseudocatenulatum'</li></ol>\n",
       "</li>\n",
       "\t<li><style>\n",
       ".list-inline {list-style: none; margin:0; padding: 0}\n",
       ".list-inline>li {display: inline-block}\n",
       ".list-inline>li:not(:last-child)::after {content: \"\\00b7\"; padding: 0 .5ex}\n",
       "</style>\n",
       "<ol class=list-inline><li>'Fusobacterium nucleatum'</li><li>'Neisseria subflava'</li><li>'Haemophilus parainfluenzae'</li><li>'Staphylococcus epidermidis'</li><li>'Lactobacillus crispatus'</li><li>'Acinetobacter baumannii'</li><li>'Neisseria mucosa'</li><li>'Neisseria flavescens'</li><li>'Prevotella melaninogenica'</li><li>'Gardnerella vaginalis'</li><li>'Rothia mucilaginosa'</li><li>'Neisseria elongata'</li><li>'Prevotella intermedia'</li><li>'Neisseria meningitidis'</li><li>'Veillonella parvula'</li><li>'Bifidobacterium longum'</li><li>'Prevotella oris'</li><li>'Streptococcus mitis'</li><li>'Streptococcus oralis'</li><li>'Bifidobacterium breve'</li><li>'Lautropia mirabilis'</li><li>'Rothia aeria'</li><li>'Rothia dentocariosa'</li><li>'Staphylococcus capitis'</li><li>'Streptococcus sanguinis'</li><li>'Corynebacterium matruchotii'</li><li>'Streptococcus pneumoniae'</li><li>'Staphylococcus warneri'</li><li>'Staphylococcus aureus'</li><li>'Gemella haemolysans'</li><li>'Porphyromonas gingivalis'</li><li>'Bifidobacterium pseudocatenulatum'</li></ol>\n",
       "</li>\n",
       "\t<li><style>\n",
       ".list-inline {list-style: none; margin:0; padding: 0}\n",
       ".list-inline>li {display: inline-block}\n",
       ".list-inline>li:not(:last-child)::after {content: \"\\00b7\"; padding: 0 .5ex}\n",
       "</style>\n",
       "<ol class=list-inline><li>'Fusobacterium nucleatum'</li><li>'Lactobacillus crispatus'</li><li>'Prevotella melaninogenica'</li><li>'Gardnerella vaginalis'</li><li>'Faecalibacterium prausnitzii'</li><li>'Lactobacillus iners'</li><li>'Veillonella parvula'</li><li>'Bifidobacterium longum'</li><li>'Streptococcus mitis'</li><li>'Bifidobacterium bifidum'</li><li>'Bifidobacterium breve'</li><li>'Ruminococcus gnavus'</li><li>'Lactobacillus jensenii'</li><li>'Parabacteroides distasonis'</li><li>'Streptococcus sanguinis'</li><li>'Megasphaera elsdenii'</li><li>'Porphyromonas gingivalis'</li></ol>\n",
       "</li>\n",
       "\t<li><style>\n",
       ".list-inline {list-style: none; margin:0; padding: 0}\n",
       ".list-inline>li {display: inline-block}\n",
       ".list-inline>li:not(:last-child)::after {content: \"\\00b7\"; padding: 0 .5ex}\n",
       "</style>\n",
       "<ol class=list-inline><li>'Cutibacterium acnes'</li><li>'Staphylococcus epidermidis'</li><li>'Malassezia restricta'</li><li>'Prevotella melaninogenica'</li><li>'Rothia mucilaginosa'</li><li>'Prevotella intermedia'</li><li>'Bifidobacterium longum'</li><li>'Ruminococcus gnavus'</li><li>'Staphylococcus hominis'</li><li>'Staphylococcus capitis'</li><li>'Collinsella aerofaciens'</li><li>'Parabacteroides distasonis'</li><li>'Staphylococcus warneri'</li><li>'Staphylococcus aureus'</li></ol>\n",
       "</li>\n",
       "\t<li><style>\n",
       ".list-inline {list-style: none; margin:0; padding: 0}\n",
       ".list-inline>li {display: inline-block}\n",
       ".list-inline>li:not(:last-child)::after {content: \"\\00b7\"; padding: 0 .5ex}\n",
       "</style>\n",
       "<ol class=list-inline><li>'Haemophilus parainfluenzae'</li><li>'Staphylococcus epidermidis'</li><li>'Prevotella melaninogenica'</li><li>'Rothia mucilaginosa'</li><li>'Bifidobacterium longum'</li><li>'Streptococcus mitis'</li><li>'Corynebacterium tuberculostearicum'</li><li>'Streptococcus pneumoniae'</li><li>'Staphylococcus aureus'</li></ol>\n",
       "</li>\n",
       "\t<li>'Haemophilus parainfluenzae'</li>\n",
       "\t<li>'Staphylococcus epidermidis'</li>\n",
       "</ol>\n"
      ],
      "text/latex": [
       "\\begin{enumerate}\n",
       "\\item \\begin{enumerate*}\n",
       "\\item 'Fusobacterium nucleatum'\n",
       "\\item 'Neisseria subflava'\n",
       "\\item 'Haemophilus parainfluenzae'\n",
       "\\item 'Staphylococcus epidermidis'\n",
       "\\item 'Lactobacillus crispatus'\n",
       "\\item 'Malassezia restricta'\n",
       "\\item 'Prevotella melaninogenica'\n",
       "\\item 'Gardnerella vaginalis'\n",
       "\\item 'Prevotella jejuni'\n",
       "\\item 'Faecalibacterium prausnitzii'\n",
       "\\item 'Rothia mucilaginosa'\n",
       "\\item 'Neisseria meningitidis'\n",
       "\\item 'Lactobacillus iners'\n",
       "\\item 'Veillonella parvula'\n",
       "\\item 'Bifidobacterium longum'\n",
       "\\item 'Streptococcus mitis'\n",
       "\\item 'Bifidobacterium bifidum'\n",
       "\\item 'Streptococcus oralis'\n",
       "\\item 'Bifidobacterium breve'\n",
       "\\item 'Lautropia mirabilis'\n",
       "\\item 'Rothia dentocariosa'\n",
       "\\item 'Ruminococcus gnavus'\n",
       "\\item 'Ruminococcus torques'\n",
       "\\item 'Blautia obeum'\n",
       "\\item 'Corynebacterium jeikeium'\n",
       "\\item 'Collinsella aerofaciens'\n",
       "\\item 'Bifidobacterium catenulatum'\n",
       "\\item 'Anaerostipes hadrus'\n",
       "\\item 'Bifidobacterium adolescentis'\n",
       "\\item 'Parabacteroides distasonis'\n",
       "\\item 'Streptococcus sanguinis'\n",
       "\\item 'Corynebacterium matruchotii'\n",
       "\\item 'Coprococcus comes'\n",
       "\\item 'Streptococcus pneumoniae'\n",
       "\\item 'Staphylococcus aureus'\n",
       "\\item 'Clostridium innocuum'\n",
       "\\item 'Gemella haemolysans'\n",
       "\\item 'Megasphaera elsdenii'\n",
       "\\item 'Porphyromonas gingivalis'\n",
       "\\item 'Bifidobacterium pseudocatenulatum'\n",
       "\\end{enumerate*}\n",
       "\n",
       "\\item \\begin{enumerate*}\n",
       "\\item 'Fusobacterium nucleatum'\n",
       "\\item 'Neisseria subflava'\n",
       "\\item 'Haemophilus parainfluenzae'\n",
       "\\item 'Staphylococcus epidermidis'\n",
       "\\item 'Lactobacillus crispatus'\n",
       "\\item 'Acinetobacter baumannii'\n",
       "\\item 'Neisseria mucosa'\n",
       "\\item 'Neisseria flavescens'\n",
       "\\item 'Prevotella melaninogenica'\n",
       "\\item 'Gardnerella vaginalis'\n",
       "\\item 'Rothia mucilaginosa'\n",
       "\\item 'Neisseria elongata'\n",
       "\\item 'Prevotella intermedia'\n",
       "\\item 'Neisseria meningitidis'\n",
       "\\item 'Veillonella parvula'\n",
       "\\item 'Bifidobacterium longum'\n",
       "\\item 'Prevotella oris'\n",
       "\\item 'Streptococcus mitis'\n",
       "\\item 'Streptococcus oralis'\n",
       "\\item 'Bifidobacterium breve'\n",
       "\\item 'Lautropia mirabilis'\n",
       "\\item 'Rothia aeria'\n",
       "\\item 'Rothia dentocariosa'\n",
       "\\item 'Staphylococcus capitis'\n",
       "\\item 'Streptococcus sanguinis'\n",
       "\\item 'Corynebacterium matruchotii'\n",
       "\\item 'Streptococcus pneumoniae'\n",
       "\\item 'Staphylococcus warneri'\n",
       "\\item 'Staphylococcus aureus'\n",
       "\\item 'Gemella haemolysans'\n",
       "\\item 'Porphyromonas gingivalis'\n",
       "\\item 'Bifidobacterium pseudocatenulatum'\n",
       "\\end{enumerate*}\n",
       "\n",
       "\\item \\begin{enumerate*}\n",
       "\\item 'Fusobacterium nucleatum'\n",
       "\\item 'Lactobacillus crispatus'\n",
       "\\item 'Prevotella melaninogenica'\n",
       "\\item 'Gardnerella vaginalis'\n",
       "\\item 'Faecalibacterium prausnitzii'\n",
       "\\item 'Lactobacillus iners'\n",
       "\\item 'Veillonella parvula'\n",
       "\\item 'Bifidobacterium longum'\n",
       "\\item 'Streptococcus mitis'\n",
       "\\item 'Bifidobacterium bifidum'\n",
       "\\item 'Bifidobacterium breve'\n",
       "\\item 'Ruminococcus gnavus'\n",
       "\\item 'Lactobacillus jensenii'\n",
       "\\item 'Parabacteroides distasonis'\n",
       "\\item 'Streptococcus sanguinis'\n",
       "\\item 'Megasphaera elsdenii'\n",
       "\\item 'Porphyromonas gingivalis'\n",
       "\\end{enumerate*}\n",
       "\n",
       "\\item \\begin{enumerate*}\n",
       "\\item 'Cutibacterium acnes'\n",
       "\\item 'Staphylococcus epidermidis'\n",
       "\\item 'Malassezia restricta'\n",
       "\\item 'Prevotella melaninogenica'\n",
       "\\item 'Rothia mucilaginosa'\n",
       "\\item 'Prevotella intermedia'\n",
       "\\item 'Bifidobacterium longum'\n",
       "\\item 'Ruminococcus gnavus'\n",
       "\\item 'Staphylococcus hominis'\n",
       "\\item 'Staphylococcus capitis'\n",
       "\\item 'Collinsella aerofaciens'\n",
       "\\item 'Parabacteroides distasonis'\n",
       "\\item 'Staphylococcus warneri'\n",
       "\\item 'Staphylococcus aureus'\n",
       "\\end{enumerate*}\n",
       "\n",
       "\\item \\begin{enumerate*}\n",
       "\\item 'Haemophilus parainfluenzae'\n",
       "\\item 'Staphylococcus epidermidis'\n",
       "\\item 'Prevotella melaninogenica'\n",
       "\\item 'Rothia mucilaginosa'\n",
       "\\item 'Bifidobacterium longum'\n",
       "\\item 'Streptococcus mitis'\n",
       "\\item 'Corynebacterium tuberculostearicum'\n",
       "\\item 'Streptococcus pneumoniae'\n",
       "\\item 'Staphylococcus aureus'\n",
       "\\end{enumerate*}\n",
       "\n",
       "\\item 'Haemophilus parainfluenzae'\n",
       "\\item 'Staphylococcus epidermidis'\n",
       "\\end{enumerate}\n"
      ],
      "text/markdown": [
       "1. 1. 'Fusobacterium nucleatum'\n",
       "2. 'Neisseria subflava'\n",
       "3. 'Haemophilus parainfluenzae'\n",
       "4. 'Staphylococcus epidermidis'\n",
       "5. 'Lactobacillus crispatus'\n",
       "6. 'Malassezia restricta'\n",
       "7. 'Prevotella melaninogenica'\n",
       "8. 'Gardnerella vaginalis'\n",
       "9. 'Prevotella jejuni'\n",
       "10. 'Faecalibacterium prausnitzii'\n",
       "11. 'Rothia mucilaginosa'\n",
       "12. 'Neisseria meningitidis'\n",
       "13. 'Lactobacillus iners'\n",
       "14. 'Veillonella parvula'\n",
       "15. 'Bifidobacterium longum'\n",
       "16. 'Streptococcus mitis'\n",
       "17. 'Bifidobacterium bifidum'\n",
       "18. 'Streptococcus oralis'\n",
       "19. 'Bifidobacterium breve'\n",
       "20. 'Lautropia mirabilis'\n",
       "21. 'Rothia dentocariosa'\n",
       "22. 'Ruminococcus gnavus'\n",
       "23. 'Ruminococcus torques'\n",
       "24. 'Blautia obeum'\n",
       "25. 'Corynebacterium jeikeium'\n",
       "26. 'Collinsella aerofaciens'\n",
       "27. 'Bifidobacterium catenulatum'\n",
       "28. 'Anaerostipes hadrus'\n",
       "29. 'Bifidobacterium adolescentis'\n",
       "30. 'Parabacteroides distasonis'\n",
       "31. 'Streptococcus sanguinis'\n",
       "32. 'Corynebacterium matruchotii'\n",
       "33. 'Coprococcus comes'\n",
       "34. 'Streptococcus pneumoniae'\n",
       "35. 'Staphylococcus aureus'\n",
       "36. 'Clostridium innocuum'\n",
       "37. 'Gemella haemolysans'\n",
       "38. 'Megasphaera elsdenii'\n",
       "39. 'Porphyromonas gingivalis'\n",
       "40. 'Bifidobacterium pseudocatenulatum'\n",
       "\n",
       "\n",
       "\n",
       "2. 1. 'Fusobacterium nucleatum'\n",
       "2. 'Neisseria subflava'\n",
       "3. 'Haemophilus parainfluenzae'\n",
       "4. 'Staphylococcus epidermidis'\n",
       "5. 'Lactobacillus crispatus'\n",
       "6. 'Acinetobacter baumannii'\n",
       "7. 'Neisseria mucosa'\n",
       "8. 'Neisseria flavescens'\n",
       "9. 'Prevotella melaninogenica'\n",
       "10. 'Gardnerella vaginalis'\n",
       "11. 'Rothia mucilaginosa'\n",
       "12. 'Neisseria elongata'\n",
       "13. 'Prevotella intermedia'\n",
       "14. 'Neisseria meningitidis'\n",
       "15. 'Veillonella parvula'\n",
       "16. 'Bifidobacterium longum'\n",
       "17. 'Prevotella oris'\n",
       "18. 'Streptococcus mitis'\n",
       "19. 'Streptococcus oralis'\n",
       "20. 'Bifidobacterium breve'\n",
       "21. 'Lautropia mirabilis'\n",
       "22. 'Rothia aeria'\n",
       "23. 'Rothia dentocariosa'\n",
       "24. 'Staphylococcus capitis'\n",
       "25. 'Streptococcus sanguinis'\n",
       "26. 'Corynebacterium matruchotii'\n",
       "27. 'Streptococcus pneumoniae'\n",
       "28. 'Staphylococcus warneri'\n",
       "29. 'Staphylococcus aureus'\n",
       "30. 'Gemella haemolysans'\n",
       "31. 'Porphyromonas gingivalis'\n",
       "32. 'Bifidobacterium pseudocatenulatum'\n",
       "\n",
       "\n",
       "\n",
       "3. 1. 'Fusobacterium nucleatum'\n",
       "2. 'Lactobacillus crispatus'\n",
       "3. 'Prevotella melaninogenica'\n",
       "4. 'Gardnerella vaginalis'\n",
       "5. 'Faecalibacterium prausnitzii'\n",
       "6. 'Lactobacillus iners'\n",
       "7. 'Veillonella parvula'\n",
       "8. 'Bifidobacterium longum'\n",
       "9. 'Streptococcus mitis'\n",
       "10. 'Bifidobacterium bifidum'\n",
       "11. 'Bifidobacterium breve'\n",
       "12. 'Ruminococcus gnavus'\n",
       "13. 'Lactobacillus jensenii'\n",
       "14. 'Parabacteroides distasonis'\n",
       "15. 'Streptococcus sanguinis'\n",
       "16. 'Megasphaera elsdenii'\n",
       "17. 'Porphyromonas gingivalis'\n",
       "\n",
       "\n",
       "\n",
       "4. 1. 'Cutibacterium acnes'\n",
       "2. 'Staphylococcus epidermidis'\n",
       "3. 'Malassezia restricta'\n",
       "4. 'Prevotella melaninogenica'\n",
       "5. 'Rothia mucilaginosa'\n",
       "6. 'Prevotella intermedia'\n",
       "7. 'Bifidobacterium longum'\n",
       "8. 'Ruminococcus gnavus'\n",
       "9. 'Staphylococcus hominis'\n",
       "10. 'Staphylococcus capitis'\n",
       "11. 'Collinsella aerofaciens'\n",
       "12. 'Parabacteroides distasonis'\n",
       "13. 'Staphylococcus warneri'\n",
       "14. 'Staphylococcus aureus'\n",
       "\n",
       "\n",
       "\n",
       "5. 1. 'Haemophilus parainfluenzae'\n",
       "2. 'Staphylococcus epidermidis'\n",
       "3. 'Prevotella melaninogenica'\n",
       "4. 'Rothia mucilaginosa'\n",
       "5. 'Bifidobacterium longum'\n",
       "6. 'Streptococcus mitis'\n",
       "7. 'Corynebacterium tuberculostearicum'\n",
       "8. 'Streptococcus pneumoniae'\n",
       "9. 'Staphylococcus aureus'\n",
       "\n",
       "\n",
       "\n",
       "6. 'Haemophilus parainfluenzae'\n",
       "7. 'Staphylococcus epidermidis'\n",
       "\n",
       "\n"
      ],
      "text/plain": [
       "[[1]]\n",
       " [1] \"Fusobacterium nucleatum\"           \"Neisseria subflava\"               \n",
       " [3] \"Haemophilus parainfluenzae\"        \"Staphylococcus epidermidis\"       \n",
       " [5] \"Lactobacillus crispatus\"           \"Malassezia restricta\"             \n",
       " [7] \"Prevotella melaninogenica\"         \"Gardnerella vaginalis\"            \n",
       " [9] \"Prevotella jejuni\"                 \"Faecalibacterium prausnitzii\"     \n",
       "[11] \"Rothia mucilaginosa\"               \"Neisseria meningitidis\"           \n",
       "[13] \"Lactobacillus iners\"               \"Veillonella parvula\"              \n",
       "[15] \"Bifidobacterium longum\"            \"Streptococcus mitis\"              \n",
       "[17] \"Bifidobacterium bifidum\"           \"Streptococcus oralis\"             \n",
       "[19] \"Bifidobacterium breve\"             \"Lautropia mirabilis\"              \n",
       "[21] \"Rothia dentocariosa\"               \"Ruminococcus gnavus\"              \n",
       "[23] \"Ruminococcus torques\"              \"Blautia obeum\"                    \n",
       "[25] \"Corynebacterium jeikeium\"          \"Collinsella aerofaciens\"          \n",
       "[27] \"Bifidobacterium catenulatum\"       \"Anaerostipes hadrus\"              \n",
       "[29] \"Bifidobacterium adolescentis\"      \"Parabacteroides distasonis\"       \n",
       "[31] \"Streptococcus sanguinis\"           \"Corynebacterium matruchotii\"      \n",
       "[33] \"Coprococcus comes\"                 \"Streptococcus pneumoniae\"         \n",
       "[35] \"Staphylococcus aureus\"             \"Clostridium innocuum\"             \n",
       "[37] \"Gemella haemolysans\"               \"Megasphaera elsdenii\"             \n",
       "[39] \"Porphyromonas gingivalis\"          \"Bifidobacterium pseudocatenulatum\"\n",
       "\n",
       "[[2]]\n",
       " [1] \"Fusobacterium nucleatum\"           \"Neisseria subflava\"               \n",
       " [3] \"Haemophilus parainfluenzae\"        \"Staphylococcus epidermidis\"       \n",
       " [5] \"Lactobacillus crispatus\"           \"Acinetobacter baumannii\"          \n",
       " [7] \"Neisseria mucosa\"                  \"Neisseria flavescens\"             \n",
       " [9] \"Prevotella melaninogenica\"         \"Gardnerella vaginalis\"            \n",
       "[11] \"Rothia mucilaginosa\"               \"Neisseria elongata\"               \n",
       "[13] \"Prevotella intermedia\"             \"Neisseria meningitidis\"           \n",
       "[15] \"Veillonella parvula\"               \"Bifidobacterium longum\"           \n",
       "[17] \"Prevotella oris\"                   \"Streptococcus mitis\"              \n",
       "[19] \"Streptococcus oralis\"              \"Bifidobacterium breve\"            \n",
       "[21] \"Lautropia mirabilis\"               \"Rothia aeria\"                     \n",
       "[23] \"Rothia dentocariosa\"               \"Staphylococcus capitis\"           \n",
       "[25] \"Streptococcus sanguinis\"           \"Corynebacterium matruchotii\"      \n",
       "[27] \"Streptococcus pneumoniae\"          \"Staphylococcus warneri\"           \n",
       "[29] \"Staphylococcus aureus\"             \"Gemella haemolysans\"              \n",
       "[31] \"Porphyromonas gingivalis\"          \"Bifidobacterium pseudocatenulatum\"\n",
       "\n",
       "[[3]]\n",
       " [1] \"Fusobacterium nucleatum\"      \"Lactobacillus crispatus\"     \n",
       " [3] \"Prevotella melaninogenica\"    \"Gardnerella vaginalis\"       \n",
       " [5] \"Faecalibacterium prausnitzii\" \"Lactobacillus iners\"         \n",
       " [7] \"Veillonella parvula\"          \"Bifidobacterium longum\"      \n",
       " [9] \"Streptococcus mitis\"          \"Bifidobacterium bifidum\"     \n",
       "[11] \"Bifidobacterium breve\"        \"Ruminococcus gnavus\"         \n",
       "[13] \"Lactobacillus jensenii\"       \"Parabacteroides distasonis\"  \n",
       "[15] \"Streptococcus sanguinis\"      \"Megasphaera elsdenii\"        \n",
       "[17] \"Porphyromonas gingivalis\"    \n",
       "\n",
       "[[4]]\n",
       " [1] \"Cutibacterium acnes\"        \"Staphylococcus epidermidis\"\n",
       " [3] \"Malassezia restricta\"       \"Prevotella melaninogenica\" \n",
       " [5] \"Rothia mucilaginosa\"        \"Prevotella intermedia\"     \n",
       " [7] \"Bifidobacterium longum\"     \"Ruminococcus gnavus\"       \n",
       " [9] \"Staphylococcus hominis\"     \"Staphylococcus capitis\"    \n",
       "[11] \"Collinsella aerofaciens\"    \"Parabacteroides distasonis\"\n",
       "[13] \"Staphylococcus warneri\"     \"Staphylococcus aureus\"     \n",
       "\n",
       "[[5]]\n",
       "[1] \"Haemophilus parainfluenzae\"         \"Staphylococcus epidermidis\"        \n",
       "[3] \"Prevotella melaninogenica\"          \"Rothia mucilaginosa\"               \n",
       "[5] \"Bifidobacterium longum\"             \"Streptococcus mitis\"               \n",
       "[7] \"Corynebacterium tuberculostearicum\" \"Streptococcus pneumoniae\"          \n",
       "[9] \"Staphylococcus aureus\"             \n",
       "\n",
       "[[6]]\n",
       "[1] \"Haemophilus parainfluenzae\"\n",
       "\n",
       "[[7]]\n",
       "[1] \"Staphylococcus epidermidis\"\n"
      ]
     },
     "metadata": {},
     "output_type": "display_data"
    },
    {
     "name": "stderr",
     "output_type": "stream",
     "text": [
      "Warning message in (function (fmt, ...) :\n",
      "“one argument not used by format 'Incorrect number of elements.'”\n"
     ]
    },
    {
     "ename": "ERROR",
     "evalue": "Error: Incorrect number of elements.\n",
     "output_type": "error",
     "traceback": [
      "Error: Incorrect number of elements.\nTraceback:\n",
      "1. venn.diagram(x = taxa_lists, category.names = names(taxa_lists), \n .     filename = \"results/phenotype_associations/site_grouping.venn.png\", \n .     output = TRUE)",
      "2. stop(\"Incorrect number of elements.\", call. = FALSE)"
     ]
    }
   ],
   "source": [
    "taxa_lists <- list()\n",
    "for(site_name in site_list) {\n",
    "    taxa_lists[[site_name]] <- (nc %>% filter(site == site_name))$taxa\n",
    "}\n",
    "\n",
    "morsels\n",
    "\n",
    "venn.diagram(\n",
    "  x = taxa_lists,\n",
    "  category.names = names(taxa_lists),\n",
    "  filename = \"results/phenotype_associations/site_grouping.venn.png\",\n",
    "  output=TRUE\n",
    ")"
   ]
  },
  {
   "cell_type": "code",
   "execution_count": 240,
   "id": "c562fac9",
   "metadata": {},
   "outputs": [
    {
     "name": "stderr",
     "output_type": "stream",
     "text": [
      "`summarise()` has grouped output by 'site_supplying_sample'. You can override using the `.groups` argument.\n",
      "ERROR while rich displaying an object: Error in FUN(X[[i]], ...): object 'n_positive' not found\n",
      "\n",
      "Traceback:\n",
      "1. FUN(X[[i]], ...)\n",
      "2. tryCatch(withCallingHandlers({\n",
      " .     if (!mime %in% names(repr::mime2repr)) \n",
      " .         stop(\"No repr_* for mimetype \", mime, \" in repr::mime2repr\")\n",
      " .     rpr <- repr::mime2repr[[mime]](obj)\n",
      " .     if (is.null(rpr)) \n",
      " .         return(NULL)\n",
      " .     prepare_content(is.raw(rpr), rpr)\n",
      " . }, error = error_handler), error = outer_handler)\n",
      "3. tryCatchList(expr, classes, parentenv, handlers)\n",
      "4. tryCatchOne(expr, names, parentenv, handlers[[1L]])\n",
      "5. doTryCatch(return(expr), name, parentenv, handler)\n",
      "6. withCallingHandlers({\n",
      " .     if (!mime %in% names(repr::mime2repr)) \n",
      " .         stop(\"No repr_* for mimetype \", mime, \" in repr::mime2repr\")\n",
      " .     rpr <- repr::mime2repr[[mime]](obj)\n",
      " .     if (is.null(rpr)) \n",
      " .         return(NULL)\n",
      " .     prepare_content(is.raw(rpr), rpr)\n",
      " . }, error = error_handler)\n",
      "7. repr::mime2repr[[mime]](obj)\n",
      "8. repr_text.default(obj)\n",
      "9. paste(capture.output(print(obj)), collapse = \"\\n\")\n",
      "10. capture.output(print(obj))\n",
      "11. withVisible(...elt(i))\n",
      "12. print(obj)\n",
      "13. print.ggplot(obj)\n",
      "14. ggplot_build(x)\n",
      "15. ggplot_build.ggplot(x)\n",
      "16. by_layer(function(l, d) l$compute_aesthetics(d, plot))\n",
      "17. f(l = layers[[i]], d = data[[i]])\n",
      "18. l$compute_aesthetics(d, plot)\n",
      "19. f(..., self = self)\n",
      "20. scales_add_defaults(plot$scales, data, aesthetics, plot$plot_env)\n",
      "21. lapply(aesthetics[new_aesthetics], eval_tidy, data = data)\n",
      "22. FUN(X[[i]], ...)\n"
     ]
    },
    {
     "data": {
      "image/png": "[encoded data removed]",
      "text/plain": [
       "plot without title"
      ]
     },
     "metadata": {
      "image/png": {
       "height": 420,
       "width": 420
      }
     },
     "output_type": "display_data"
    }
   ],
   "source": [
    "# X_meta %>%\n",
    "#     group_by(genetic_sex, site_supplying_sample, get(taxon)) %>%\n",
    "#     summarise(n_positive = n())\n",
    "taxon <- \"genitals\"\n",
    "variable_name <- \"genetic_ancestry\"\n",
    "X_meta %>%\n",
    "    group_by_at(c(\"site_supplying_sample\", variable_name)) %>%\n",
    "    summarise(n = sum(get(taxon))) %>%\n",
    "    filter(!is.na(get(variable_name))) %>%\n",
    "    ggplot(aes(x = site_supplying_sample, y = n_positive, fill = get(variable_name))) +\n",
    "    geom_bar(stat = \"identity\", position = \"dodge\") +\n",
    "    facet_grid(rows = vars(site_supplying_sample))"
   ]
  },
  {
   "cell_type": "code",
   "execution_count": 225,
   "id": "af5d63a1",
   "metadata": {},
   "outputs": [
    {
     "name": "stderr",
     "output_type": "stream",
     "text": [
      "`summarise()` has grouped output by 'site_supplying_sample'. You can override using the `.groups` argument.\n"
     ]
    },
    {
     "data": {
      "image/png": "[encoded data removed]",
      "text/plain": [
       "plot without title"
      ]
     },
     "metadata": {
      "image/png": {
       "height": 420,
       "width": 420
      }
     },
     "output_type": "display_data"
    }
   ],
   "source": [
    "X_meta %>% \n",
    "    group_by(site_supplying_sample, genetic_sex) %>%\n",
    "    summarise(n = sum(genitals)) %>%\n",
    "    ggplot(aes(x = site_supplying_sample, y = n, fill = genetic_sex)) +\n",
    "    geom_bar(stat = \"identity\")"
   ]
  }
 ],
 "metadata": {
  "kernelspec": {
   "display_name": "R",
   "language": "R",
   "name": "ir"
  },
  "language_info": {
   "codemirror_mode": "r",
   "file_extension": ".r",
   "mimetype": "text/x-r-source",
   "name": "R",
   "pygments_lexer": "r",
   "version": "4.1.0"
  }
 },
 "nbformat": 4,
 "nbformat_minor": 5
}
