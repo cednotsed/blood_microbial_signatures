{
 "cells": [
  {
   "cell_type": "code",
   "execution_count": 1,
   "id": "6dac9571",
   "metadata": {},
   "outputs": [
    {
     "name": "stderr",
     "output_type": "stream",
     "text": [
      "Loading required package: data.table\n",
      "\n",
      "Loading required package: foreach\n",
      "\n",
      "Loading required package: doParallel\n",
      "\n",
      "Loading required package: iterators\n",
      "\n",
      "Loading required package: parallel\n",
      "\n",
      "Loading required package: compositions\n",
      "\n",
      "Welcome to compositions, a package for compositional data analysis.\n",
      "Find an intro with \"? compositions\"\n",
      "\n",
      "\n",
      "\n",
      "Attaching package: ‘compositions’\n",
      "\n",
      "\n",
      "The following objects are masked from ‘package:stats’:\n",
      "\n",
      "    anova, cor, cov, dist, var\n",
      "\n",
      "\n",
      "The following objects are masked from ‘package:base’:\n",
      "\n",
      "    %*%, norm, scale, scale.default\n",
      "\n",
      "\n",
      "Loading required package: vegan\n",
      "\n",
      "Loading required package: permute\n",
      "\n",
      "Loading required package: lattice\n",
      "\n",
      "This is vegan 2.5-7\n",
      "\n",
      "Loading required package: ggpubr\n",
      "\n",
      "Loading required package: ggplot2\n",
      "\n",
      "Loading required package: Biostrings\n",
      "\n",
      "Loading required package: BiocGenerics\n",
      "\n",
      "\n",
      "Attaching package: ‘BiocGenerics’\n",
      "\n",
      "\n",
      "The following objects are masked from ‘package:compositions’:\n",
      "\n",
      "    normalize, var\n",
      "\n",
      "\n",
      "The following objects are masked from ‘package:parallel’:\n",
      "\n",
      "    clusterApply, clusterApplyLB, clusterCall, clusterEvalQ,\n",
      "    clusterExport, clusterMap, parApply, parCapply, parLapply,\n",
      "    parLapplyLB, parRapply, parSapply, parSapplyLB\n",
      "\n",
      "\n",
      "The following objects are masked from ‘package:stats’:\n",
      "\n",
      "    IQR, mad, sd, var, xtabs\n",
      "\n",
      "\n",
      "The following objects are masked from ‘package:base’:\n",
      "\n",
      "    anyDuplicated, append, as.data.frame, basename, cbind, colnames,\n",
      "    dirname, do.call, duplicated, eval, evalq, Filter, Find, get, grep,\n",
      "    grepl, intersect, is.unsorted, lapply, Map, mapply, match, mget,\n",
      "    order, paste, pmax, pmax.int, pmin, pmin.int, Position, rank,\n",
      "    rbind, Reduce, rownames, sapply, setdiff, sort, table, tapply,\n",
      "    union, unique, unsplit, which.max, which.min\n",
      "\n",
      "\n",
      "Loading required package: S4Vectors\n",
      "\n",
      "Loading required package: stats4\n",
      "\n",
      "\n",
      "Attaching package: ‘S4Vectors’\n",
      "\n",
      "\n",
      "The following objects are masked from ‘package:data.table’:\n",
      "\n",
      "    first, second\n",
      "\n",
      "\n",
      "The following objects are masked from ‘package:base’:\n",
      "\n",
      "    expand.grid, I, unname\n",
      "\n",
      "\n",
      "Loading required package: IRanges\n",
      "\n",
      "\n",
      "Attaching package: ‘IRanges’\n",
      "\n",
      "\n",
      "The following object is masked from ‘package:data.table’:\n",
      "\n",
      "    shift\n",
      "\n",
      "\n",
      "Loading required package: XVector\n",
      "\n",
      "Loading required package: GenomeInfoDb\n",
      "\n",
      "\n",
      "Attaching package: ‘Biostrings’\n",
      "\n",
      "\n",
      "The following object is masked from ‘package:base’:\n",
      "\n",
      "    strsplit\n",
      "\n",
      "\n",
      "Loading required package: Rsamtools\n",
      "\n",
      "Loading required package: GenomicRanges\n",
      "\n",
      "Loading required package: tidyverse\n",
      "\n",
      "Warning message in system(\"timedatectl\", intern = TRUE):\n",
      "“running command 'timedatectl' had status 1”\n",
      "── \u001b[1mAttaching packages\u001b[22m ─────────────────────────────────────────────────────────────────────────────── tidyverse 1.3.1 ──\n",
      "\n",
      "\u001b[32m✔\u001b[39m \u001b[34mtibble \u001b[39m 3.1.6     \u001b[32m✔\u001b[39m \u001b[34mdplyr  \u001b[39m 1.0.7\n",
      "\u001b[32m✔\u001b[39m \u001b[34mtidyr  \u001b[39m 1.1.4     \u001b[32m✔\u001b[39m \u001b[34mstringr\u001b[39m 1.4.0\n",
      "\u001b[32m✔\u001b[39m \u001b[34mreadr  \u001b[39m 2.1.0     \u001b[32m✔\u001b[39m \u001b[34mforcats\u001b[39m 0.5.1\n",
      "\u001b[32m✔\u001b[39m \u001b[34mpurrr  \u001b[39m 0.3.4     \n",
      "\n",
      "── \u001b[1mConflicts\u001b[22m ────────────────────────────────────────────────────────────────────────────────── tidyverse_conflicts() ──\n",
      "\u001b[31m✖\u001b[39m \u001b[34mpurrr\u001b[39m::\u001b[32maccumulate()\u001b[39m      masks \u001b[34mforeach\u001b[39m::accumulate()\n",
      "\u001b[31m✖\u001b[39m \u001b[34mdplyr\u001b[39m::\u001b[32mbetween()\u001b[39m         masks \u001b[34mdata.table\u001b[39m::between()\n",
      "\u001b[31m✖\u001b[39m \u001b[34mdplyr\u001b[39m::\u001b[32mcollapse()\u001b[39m        masks \u001b[34mBiostrings\u001b[39m::collapse(), \u001b[34mIRanges\u001b[39m::collapse()\n",
      "\u001b[31m✖\u001b[39m \u001b[34mdplyr\u001b[39m::\u001b[32mcombine()\u001b[39m         masks \u001b[34mBiocGenerics\u001b[39m::combine()\n",
      "\u001b[31m✖\u001b[39m \u001b[34mpurrr\u001b[39m::\u001b[32mcompact()\u001b[39m         masks \u001b[34mXVector\u001b[39m::compact()\n",
      "\u001b[31m✖\u001b[39m \u001b[34mdplyr\u001b[39m::\u001b[32mdesc()\u001b[39m            masks \u001b[34mIRanges\u001b[39m::desc()\n",
      "\u001b[31m✖\u001b[39m \u001b[34mtidyr\u001b[39m::\u001b[32mexpand()\u001b[39m          masks \u001b[34mS4Vectors\u001b[39m::expand()\n",
      "\u001b[31m✖\u001b[39m \u001b[34mdplyr\u001b[39m::\u001b[32mfilter()\u001b[39m          masks \u001b[34mstats\u001b[39m::filter()\n",
      "\u001b[31m✖\u001b[39m \u001b[34mdplyr\u001b[39m::\u001b[32mfirst()\u001b[39m           masks \u001b[34mS4Vectors\u001b[39m::first(), \u001b[34mdata.table\u001b[39m::first()\n",
      "\u001b[31m✖\u001b[39m \u001b[34mdplyr\u001b[39m::\u001b[32mlag()\u001b[39m             masks \u001b[34mstats\u001b[39m::lag()\n",
      "\u001b[31m✖\u001b[39m \u001b[34mdplyr\u001b[39m::\u001b[32mlast()\u001b[39m            masks \u001b[34mdata.table\u001b[39m::last()\n",
      "\u001b[31m✖\u001b[39m \u001b[34mBiocGenerics\u001b[39m::\u001b[32mPosition()\u001b[39m masks \u001b[34mggplot2\u001b[39m::Position(), \u001b[34mbase\u001b[39m::Position()\n",
      "\u001b[31m✖\u001b[39m \u001b[34mpurrr\u001b[39m::\u001b[32mreduce()\u001b[39m          masks \u001b[34mGenomicRanges\u001b[39m::reduce(), \u001b[34mIRanges\u001b[39m::reduce()\n",
      "\u001b[31m✖\u001b[39m \u001b[34mdplyr\u001b[39m::\u001b[32mrename()\u001b[39m          masks \u001b[34mS4Vectors\u001b[39m::rename()\n",
      "\u001b[31m✖\u001b[39m \u001b[34mdplyr\u001b[39m::\u001b[32mslice()\u001b[39m           masks \u001b[34mXVector\u001b[39m::slice(), \u001b[34mIRanges\u001b[39m::slice()\n",
      "\u001b[31m✖\u001b[39m \u001b[34mpurrr\u001b[39m::\u001b[32mtranspose()\u001b[39m       masks \u001b[34mdata.table\u001b[39m::transpose()\n",
      "\u001b[31m✖\u001b[39m \u001b[34mpurrr\u001b[39m::\u001b[32mwhen()\u001b[39m            masks \u001b[34mforeach\u001b[39m::when()\n",
      "\n",
      "Loading required package: decontam\n",
      "\n",
      "Loading required package: igraph\n",
      "\n",
      "\n",
      "Attaching package: ‘igraph’\n",
      "\n",
      "\n",
      "The following objects are masked from ‘package:dplyr’:\n",
      "\n",
      "    as_data_frame, groups, union\n",
      "\n",
      "\n",
      "The following objects are masked from ‘package:purrr’:\n",
      "\n",
      "    compose, simplify\n",
      "\n",
      "\n",
      "The following object is masked from ‘package:tidyr’:\n",
      "\n",
      "    crossing\n",
      "\n",
      "\n",
      "The following object is masked from ‘package:tibble’:\n",
      "\n",
      "    as_data_frame\n",
      "\n",
      "\n",
      "The following object is masked from ‘package:GenomicRanges’:\n",
      "\n",
      "    union\n",
      "\n",
      "\n",
      "The following object is masked from ‘package:Biostrings’:\n",
      "\n",
      "    union\n",
      "\n",
      "\n",
      "The following object is masked from ‘package:XVector’:\n",
      "\n",
      "    path\n",
      "\n",
      "\n",
      "The following object is masked from ‘package:IRanges’:\n",
      "\n",
      "    union\n",
      "\n",
      "\n",
      "The following object is masked from ‘package:S4Vectors’:\n",
      "\n",
      "    union\n",
      "\n",
      "\n",
      "The following objects are masked from ‘package:BiocGenerics’:\n",
      "\n",
      "    normalize, path, union\n",
      "\n",
      "\n",
      "The following object is masked from ‘package:vegan’:\n",
      "\n",
      "    diversity\n",
      "\n",
      "\n",
      "The following object is masked from ‘package:permute’:\n",
      "\n",
      "    permute\n",
      "\n",
      "\n",
      "The following object is masked from ‘package:compositions’:\n",
      "\n",
      "    normalize\n",
      "\n",
      "\n",
      "The following objects are masked from ‘package:stats’:\n",
      "\n",
      "    decompose, spectrum\n",
      "\n",
      "\n",
      "The following object is masked from ‘package:base’:\n",
      "\n",
      "    union\n",
      "\n",
      "\n",
      "Loading required package: Matrix\n",
      "\n",
      "\n",
      "Attaching package: ‘Matrix’\n",
      "\n",
      "\n",
      "The following objects are masked from ‘package:tidyr’:\n",
      "\n",
      "    expand, pack, unpack\n",
      "\n",
      "\n",
      "The following object is masked from ‘package:S4Vectors’:\n",
      "\n",
      "    expand\n",
      "\n",
      "\n",
      "Loading required package: SpiecEasi\n",
      "\n",
      "\n",
      "Attaching package: ‘SpiecEasi’\n",
      "\n",
      "\n",
      "The following objects are masked from ‘package:Matrix’:\n",
      "\n",
      "    tril, triu\n",
      "\n",
      "\n",
      "The following object is masked from ‘package:igraph’:\n",
      "\n",
      "    make_graph\n",
      "\n",
      "\n",
      "The following objects are masked from ‘package:compositions’:\n",
      "\n",
      "    alr, clr\n",
      "\n",
      "\n",
      "Loading required package: randomcoloR\n",
      "\n"
     ]
    }
   ],
   "source": [
    "setwd(\"/mnt/c/Users/Cedric/Desktop/git_repos/blood_microbiome\")\n",
    "require(data.table)\n",
    "require(foreach)\n",
    "require(doParallel)\n",
    "require(compositions)\n",
    "require(vegan)\n",
    "require(ggpubr)\n",
    "require(Biostrings)\n",
    "require(Rsamtools)\n",
    "require(tidyverse)\n",
    "require(decontam)\n",
    "require(igraph)\n",
    "require(Matrix)\n",
    "require(SpiecEasi)\n",
    "require(randomcoloR)\n",
    "registerDoParallel(cores=8)\n"
   ]
  },
  {
   "cell_type": "markdown",
   "id": "e835ab6a",
   "metadata": {},
   "source": [
    "#### Load data"
   ]
  },
  {
   "cell_type": "code",
   "execution_count": 2,
   "id": "c4c48abb",
   "metadata": {
    "scrolled": true
   },
   "outputs": [
    {
     "data": {
      "text/html": [
       "<table class=\"dataframe\">\n",
       "<caption>A tibble: 6 × 6899</caption>\n",
       "<thead>\n",
       "\t<tr><th scope=col>sample</th><th scope=col>Acidovorax sp. KKS102</th><th scope=col>Acidovorax sp. JMULE5</th><th scope=col>Acidovorax sp. 1608163</th><th scope=col>Acidovorax sp. RAC01</th><th scope=col>Acidovorax sp. T1</th><th scope=col>Acidovorax sp. HDW3</th><th scope=col>Acidovorax sp. JS42</th><th scope=col>Acidovorax carolinensis</th><th scope=col>Acidovorax avenae</th><th scope=col>⋯</th><th scope=col>secondary endosymbiont of Ctenarytaina eucalypti</th><th scope=col>Alteromonas addita</th><th scope=col>Encephalitozoon cuniculi</th><th scope=col>Gordonia phage Toast</th><th scope=col>Bacillus phage Deep-Purple</th><th scope=col>Escherichia virus KWBSE43-6</th><th scope=col>Yokapox virus</th><th scope=col>Pteropox virus</th><th scope=col>Ingwavuma orthobunyavirus</th><th scope=col>Merino Walk mammarenavirus</th></tr>\n",
       "\t<tr><th scope=col>&lt;chr&gt;</th><th scope=col>&lt;dbl&gt;</th><th scope=col>&lt;dbl&gt;</th><th scope=col>&lt;dbl&gt;</th><th scope=col>&lt;dbl&gt;</th><th scope=col>&lt;dbl&gt;</th><th scope=col>&lt;dbl&gt;</th><th scope=col>&lt;dbl&gt;</th><th scope=col>&lt;dbl&gt;</th><th scope=col>&lt;dbl&gt;</th><th scope=col>⋯</th><th scope=col>&lt;dbl&gt;</th><th scope=col>&lt;dbl&gt;</th><th scope=col>&lt;dbl&gt;</th><th scope=col>&lt;dbl&gt;</th><th scope=col>&lt;dbl&gt;</th><th scope=col>&lt;dbl&gt;</th><th scope=col>&lt;dbl&gt;</th><th scope=col>&lt;dbl&gt;</th><th scope=col>&lt;dbl&gt;</th><th scope=col>&lt;dbl&gt;</th></tr>\n",
       "</thead>\n",
       "<tbody>\n",
       "\t<tr><td>ERR3838148</td><td>351</td><td>30</td><td>20</td><td>13</td><td>13</td><td> 6</td><td> 5</td><td>13</td><td>12</td><td>⋯</td><td>0</td><td>0</td><td>0</td><td>0</td><td>0</td><td>0</td><td>0</td><td>0</td><td>0</td><td>0</td></tr>\n",
       "\t<tr><td>ERR3838168</td><td>464</td><td>46</td><td>48</td><td>29</td><td>10</td><td>14</td><td>10</td><td>50</td><td>18</td><td>⋯</td><td>0</td><td>0</td><td>0</td><td>0</td><td>0</td><td>0</td><td>0</td><td>0</td><td>0</td><td>0</td></tr>\n",
       "\t<tr><td>ERR3837848</td><td>105</td><td> 1</td><td> 2</td><td> 8</td><td> 1</td><td> 4</td><td> 5</td><td> 6</td><td> 2</td><td>⋯</td><td>0</td><td>0</td><td>0</td><td>0</td><td>0</td><td>0</td><td>0</td><td>0</td><td>0</td><td>0</td></tr>\n",
       "\t<tr><td>ERR3838234</td><td> 89</td><td>16</td><td> 7</td><td> 5</td><td> 6</td><td> 2</td><td> 2</td><td> 3</td><td> 4</td><td>⋯</td><td>0</td><td>0</td><td>0</td><td>0</td><td>0</td><td>0</td><td>0</td><td>0</td><td>0</td><td>0</td></tr>\n",
       "\t<tr><td>ERR3853846</td><td>  1</td><td> 1</td><td> 4</td><td> 0</td><td> 0</td><td> 0</td><td> 0</td><td> 2</td><td> 3</td><td>⋯</td><td>0</td><td>0</td><td>0</td><td>0</td><td>0</td><td>0</td><td>0</td><td>0</td><td>0</td><td>0</td></tr>\n",
       "\t<tr><td>ERR3838221</td><td>187</td><td>26</td><td>10</td><td>13</td><td> 4</td><td> 5</td><td> 4</td><td>19</td><td> 7</td><td>⋯</td><td>0</td><td>0</td><td>0</td><td>0</td><td>0</td><td>0</td><td>0</td><td>0</td><td>0</td><td>0</td></tr>\n",
       "</tbody>\n",
       "</table>\n"
      ],
      "text/latex": [
       "A tibble: 6 × 6899\n",
       "\\begin{tabular}{lllllllllllllllllllll}\n",
       " sample & Acidovorax sp. KKS102 & Acidovorax sp. JMULE5 & Acidovorax sp. 1608163 & Acidovorax sp. RAC01 & Acidovorax sp. T1 & Acidovorax sp. HDW3 & Acidovorax sp. JS42 & Acidovorax carolinensis & Acidovorax avenae & ⋯ & secondary endosymbiont of Ctenarytaina eucalypti & Alteromonas addita & Encephalitozoon cuniculi & Gordonia phage Toast & Bacillus phage Deep-Purple & Escherichia virus KWBSE43-6 & Yokapox virus & Pteropox virus & Ingwavuma orthobunyavirus & Merino Walk mammarenavirus\\\\\n",
       " <chr> & <dbl> & <dbl> & <dbl> & <dbl> & <dbl> & <dbl> & <dbl> & <dbl> & <dbl> & ⋯ & <dbl> & <dbl> & <dbl> & <dbl> & <dbl> & <dbl> & <dbl> & <dbl> & <dbl> & <dbl>\\\\\n",
       "\\hline\n",
       "\t ERR3838148 & 351 & 30 & 20 & 13 & 13 &  6 &  5 & 13 & 12 & ⋯ & 0 & 0 & 0 & 0 & 0 & 0 & 0 & 0 & 0 & 0\\\\\n",
       "\t ERR3838168 & 464 & 46 & 48 & 29 & 10 & 14 & 10 & 50 & 18 & ⋯ & 0 & 0 & 0 & 0 & 0 & 0 & 0 & 0 & 0 & 0\\\\\n",
       "\t ERR3837848 & 105 &  1 &  2 &  8 &  1 &  4 &  5 &  6 &  2 & ⋯ & 0 & 0 & 0 & 0 & 0 & 0 & 0 & 0 & 0 & 0\\\\\n",
       "\t ERR3838234 &  89 & 16 &  7 &  5 &  6 &  2 &  2 &  3 &  4 & ⋯ & 0 & 0 & 0 & 0 & 0 & 0 & 0 & 0 & 0 & 0\\\\\n",
       "\t ERR3853846 &   1 &  1 &  4 &  0 &  0 &  0 &  0 &  2 &  3 & ⋯ & 0 & 0 & 0 & 0 & 0 & 0 & 0 & 0 & 0 & 0\\\\\n",
       "\t ERR3838221 & 187 & 26 & 10 & 13 &  4 &  5 &  4 & 19 &  7 & ⋯ & 0 & 0 & 0 & 0 & 0 & 0 & 0 & 0 & 0 & 0\\\\\n",
       "\\end{tabular}\n"
      ],
      "text/markdown": [
       "\n",
       "A tibble: 6 × 6899\n",
       "\n",
       "| sample &lt;chr&gt; | Acidovorax sp. KKS102 &lt;dbl&gt; | Acidovorax sp. JMULE5 &lt;dbl&gt; | Acidovorax sp. 1608163 &lt;dbl&gt; | Acidovorax sp. RAC01 &lt;dbl&gt; | Acidovorax sp. T1 &lt;dbl&gt; | Acidovorax sp. HDW3 &lt;dbl&gt; | Acidovorax sp. JS42 &lt;dbl&gt; | Acidovorax carolinensis &lt;dbl&gt; | Acidovorax avenae &lt;dbl&gt; | ⋯ ⋯ | secondary endosymbiont of Ctenarytaina eucalypti &lt;dbl&gt; | Alteromonas addita &lt;dbl&gt; | Encephalitozoon cuniculi &lt;dbl&gt; | Gordonia phage Toast &lt;dbl&gt; | Bacillus phage Deep-Purple &lt;dbl&gt; | Escherichia virus KWBSE43-6 &lt;dbl&gt; | Yokapox virus &lt;dbl&gt; | Pteropox virus &lt;dbl&gt; | Ingwavuma orthobunyavirus &lt;dbl&gt; | Merino Walk mammarenavirus &lt;dbl&gt; |\n",
       "|---|---|---|---|---|---|---|---|---|---|---|---|---|---|---|---|---|---|---|---|---|\n",
       "| ERR3838148 | 351 | 30 | 20 | 13 | 13 |  6 |  5 | 13 | 12 | ⋯ | 0 | 0 | 0 | 0 | 0 | 0 | 0 | 0 | 0 | 0 |\n",
       "| ERR3838168 | 464 | 46 | 48 | 29 | 10 | 14 | 10 | 50 | 18 | ⋯ | 0 | 0 | 0 | 0 | 0 | 0 | 0 | 0 | 0 | 0 |\n",
       "| ERR3837848 | 105 |  1 |  2 |  8 |  1 |  4 |  5 |  6 |  2 | ⋯ | 0 | 0 | 0 | 0 | 0 | 0 | 0 | 0 | 0 | 0 |\n",
       "| ERR3838234 |  89 | 16 |  7 |  5 |  6 |  2 |  2 |  3 |  4 | ⋯ | 0 | 0 | 0 | 0 | 0 | 0 | 0 | 0 | 0 | 0 |\n",
       "| ERR3853846 |   1 |  1 |  4 |  0 |  0 |  0 |  0 |  2 |  3 | ⋯ | 0 | 0 | 0 | 0 | 0 | 0 | 0 | 0 | 0 | 0 |\n",
       "| ERR3838221 | 187 | 26 | 10 | 13 |  4 |  5 |  4 | 19 |  7 | ⋯ | 0 | 0 | 0 | 0 | 0 | 0 | 0 | 0 | 0 | 0 |\n",
       "\n"
      ],
      "text/plain": [
       "  sample     Acidovorax sp. KKS102 Acidovorax sp. JMULE5 Acidovorax sp. 1608163\n",
       "1 ERR3838148 351                   30                    20                    \n",
       "2 ERR3838168 464                   46                    48                    \n",
       "3 ERR3837848 105                    1                     2                    \n",
       "4 ERR3838234  89                   16                     7                    \n",
       "5 ERR3853846   1                    1                     4                    \n",
       "6 ERR3838221 187                   26                    10                    \n",
       "  Acidovorax sp. RAC01 Acidovorax sp. T1 Acidovorax sp. HDW3\n",
       "1 13                   13                 6                 \n",
       "2 29                   10                14                 \n",
       "3  8                    1                 4                 \n",
       "4  5                    6                 2                 \n",
       "5  0                    0                 0                 \n",
       "6 13                    4                 5                 \n",
       "  Acidovorax sp. JS42 Acidovorax carolinensis Acidovorax avenae ⋯\n",
       "1  5                  13                      12                ⋯\n",
       "2 10                  50                      18                ⋯\n",
       "3  5                   6                       2                ⋯\n",
       "4  2                   3                       4                ⋯\n",
       "5  0                   2                       3                ⋯\n",
       "6  4                  19                       7                ⋯\n",
       "  secondary endosymbiont of Ctenarytaina eucalypti Alteromonas addita\n",
       "1 0                                                0                 \n",
       "2 0                                                0                 \n",
       "3 0                                                0                 \n",
       "4 0                                                0                 \n",
       "5 0                                                0                 \n",
       "6 0                                                0                 \n",
       "  Encephalitozoon cuniculi Gordonia phage Toast Bacillus phage Deep-Purple\n",
       "1 0                        0                    0                         \n",
       "2 0                        0                    0                         \n",
       "3 0                        0                    0                         \n",
       "4 0                        0                    0                         \n",
       "5 0                        0                    0                         \n",
       "6 0                        0                    0                         \n",
       "  Escherichia virus KWBSE43-6 Yokapox virus Pteropox virus\n",
       "1 0                           0             0             \n",
       "2 0                           0             0             \n",
       "3 0                           0             0             \n",
       "4 0                           0             0             \n",
       "5 0                           0             0             \n",
       "6 0                           0             0             \n",
       "  Ingwavuma orthobunyavirus Merino Walk mammarenavirus\n",
       "1 0                         0                         \n",
       "2 0                         0                         \n",
       "3 0                         0                         \n",
       "4 0                         0                         \n",
       "5 0                         0                         \n",
       "6 0                         0                         "
      ]
     },
     "metadata": {},
     "output_type": "display_data"
    },
    {
     "data": {
      "text/html": [
       "<table class=\"dataframe\">\n",
       "<caption>A tibble: 6 × 22</caption>\n",
       "<thead>\n",
       "\t<tr><th scope=col>sample</th><th scope=col>read_count</th><th scope=col>experiment_alias</th><th scope=col>run_alias</th><th scope=col>sample_alias</th><th scope=col>sample_name</th><th scope=col>sample_type</th><th scope=col>bacterial_dna_concentration</th><th scope=col>human_dna_concentration</th><th scope=col>bmi</th><th scope=col>⋯</th><th scope=col>bnviage</th><th scope=col>cholesterol_total</th><th scope=col>hdl_cholesterol</th><th scope=col>ldl_cholesterol</th><th scope=col>triglycerides</th><th scope=col>diabetes</th><th scope=col>hyperlipidemia</th><th scope=col>hypertension</th><th scope=col>systolic_bp</th><th scope=col>diastolic_bp</th></tr>\n",
       "\t<tr><th scope=col>&lt;chr&gt;</th><th scope=col>&lt;int&gt;</th><th scope=col>&lt;chr&gt;</th><th scope=col>&lt;chr&gt;</th><th scope=col>&lt;chr&gt;</th><th scope=col>&lt;chr&gt;</th><th scope=col>&lt;chr&gt;</th><th scope=col>&lt;chr&gt;</th><th scope=col>&lt;chr&gt;</th><th scope=col>&lt;chr&gt;</th><th scope=col>⋯</th><th scope=col>&lt;chr&gt;</th><th scope=col>&lt;chr&gt;</th><th scope=col>&lt;chr&gt;</th><th scope=col>&lt;chr&gt;</th><th scope=col>&lt;chr&gt;</th><th scope=col>&lt;chr&gt;</th><th scope=col>&lt;chr&gt;</th><th scope=col>&lt;chr&gt;</th><th scope=col>&lt;chr&gt;</th><th scope=col>&lt;chr&gt;</th></tr>\n",
       "</thead>\n",
       "<tbody>\n",
       "\t<tr><td>ERR3838143</td><td>140023</td><td>qiita_ptid_8384:12667.X2036793</td><td>qiita_ppdid_85320:12667.X2036793</td><td>qiita_sid_12667:12667.X2036793</td><td>12667.X2036793</td><td>plasma</td><td>0.000524731</td><td>0.024556592</td><td>28.88624567</td><td>⋯</td><td>51</td><td>138</td><td>48</td><td>53          </td><td>187</td><td>no </td><td>no </td><td>no </td><td>141</td><td>80</td></tr>\n",
       "\t<tr><td>ERR3837801</td><td>114704</td><td>qiita_ptid_8365:12667.X2041787</td><td>qiita_ppdid_85304:12667.X2041787</td><td>qiita_sid_12667:12667.X2041787</td><td>12667.X2041787</td><td>plasma</td><td>0.00023933 </td><td>0.01045326 </td><td>17.84960938</td><td>⋯</td><td>20</td><td>131</td><td>66</td><td>53          </td><td>58 </td><td>no </td><td>no </td><td>no </td><td>107</td><td>66</td></tr>\n",
       "\t<tr><td>ERR3838146</td><td>120405</td><td>qiita_ptid_8384:12667.X2043129</td><td>qiita_ppdid_85320:12667.X2043129</td><td>qiita_sid_12667:12667.X2043129</td><td>12667.X2043129</td><td>plasma</td><td>0.000884112</td><td>0.050398846</td><td>26.57844991</td><td>⋯</td><td>62</td><td>160</td><td>28</td><td>100         </td><td>162</td><td>no </td><td>no </td><td>no </td><td>152</td><td>94</td></tr>\n",
       "\t<tr><td>ERR3837803</td><td> 33380</td><td>qiita_ptid_8365:12667.X2043400</td><td>qiita_ppdid_85304:12667.X2043400</td><td>qiita_sid_12667:12667.X2043400</td><td>12667.X2043400</td><td>plasma</td><td>0.00133296 </td><td>0.03892576 </td><td>36.17622348</td><td>⋯</td><td>36</td><td>244</td><td>32</td><td>not provided</td><td>687</td><td>no </td><td>no </td><td>no </td><td>165</td><td>77</td></tr>\n",
       "\t<tr><td>ERR3838570</td><td> 18319</td><td>qiita_ptid_8387:12667.X2044156</td><td>qiita_ppdid_85327:12667.X2044156</td><td>qiita_sid_12667:12667.X2044156</td><td>12667.X2044156</td><td>plasma</td><td>0.00033372 </td><td>0.00893648 </td><td>25.39718547</td><td>⋯</td><td>50</td><td>175</td><td>37</td><td>108         </td><td>150</td><td>no </td><td>no </td><td>no </td><td>131</td><td>67</td></tr>\n",
       "\t<tr><td>ERR3838148</td><td> 69754</td><td>qiita_ptid_8384:12667.X2047268</td><td>qiita_ppdid_85320:12667.X2047268</td><td>qiita_sid_12667:12667.X2047268</td><td>12667.X2047268</td><td>plasma</td><td>0.00019629 </td><td>0.00383451 </td><td>29.74471111</td><td>⋯</td><td>47</td><td>132</td><td>41</td><td>68          </td><td>115</td><td>yes</td><td>yes</td><td>yes</td><td>135</td><td>69</td></tr>\n",
       "</tbody>\n",
       "</table>\n"
      ],
      "text/latex": [
       "A tibble: 6 × 22\n",
       "\\begin{tabular}{lllllllllllllllllllll}\n",
       " sample & read\\_count & experiment\\_alias & run\\_alias & sample\\_alias & sample\\_name & sample\\_type & bacterial\\_dna\\_concentration & human\\_dna\\_concentration & bmi & ⋯ & bnviage & cholesterol\\_total & hdl\\_cholesterol & ldl\\_cholesterol & triglycerides & diabetes & hyperlipidemia & hypertension & systolic\\_bp & diastolic\\_bp\\\\\n",
       " <chr> & <int> & <chr> & <chr> & <chr> & <chr> & <chr> & <chr> & <chr> & <chr> & ⋯ & <chr> & <chr> & <chr> & <chr> & <chr> & <chr> & <chr> & <chr> & <chr> & <chr>\\\\\n",
       "\\hline\n",
       "\t ERR3838143 & 140023 & qiita\\_ptid\\_8384:12667.X2036793 & qiita\\_ppdid\\_85320:12667.X2036793 & qiita\\_sid\\_12667:12667.X2036793 & 12667.X2036793 & plasma & 0.000524731 & 0.024556592 & 28.88624567 & ⋯ & 51 & 138 & 48 & 53           & 187 & no  & no  & no  & 141 & 80\\\\\n",
       "\t ERR3837801 & 114704 & qiita\\_ptid\\_8365:12667.X2041787 & qiita\\_ppdid\\_85304:12667.X2041787 & qiita\\_sid\\_12667:12667.X2041787 & 12667.X2041787 & plasma & 0.00023933  & 0.01045326  & 17.84960938 & ⋯ & 20 & 131 & 66 & 53           & 58  & no  & no  & no  & 107 & 66\\\\\n",
       "\t ERR3838146 & 120405 & qiita\\_ptid\\_8384:12667.X2043129 & qiita\\_ppdid\\_85320:12667.X2043129 & qiita\\_sid\\_12667:12667.X2043129 & 12667.X2043129 & plasma & 0.000884112 & 0.050398846 & 26.57844991 & ⋯ & 62 & 160 & 28 & 100          & 162 & no  & no  & no  & 152 & 94\\\\\n",
       "\t ERR3837803 &  33380 & qiita\\_ptid\\_8365:12667.X2043400 & qiita\\_ppdid\\_85304:12667.X2043400 & qiita\\_sid\\_12667:12667.X2043400 & 12667.X2043400 & plasma & 0.00133296  & 0.03892576  & 36.17622348 & ⋯ & 36 & 244 & 32 & not provided & 687 & no  & no  & no  & 165 & 77\\\\\n",
       "\t ERR3838570 &  18319 & qiita\\_ptid\\_8387:12667.X2044156 & qiita\\_ppdid\\_85327:12667.X2044156 & qiita\\_sid\\_12667:12667.X2044156 & 12667.X2044156 & plasma & 0.00033372  & 0.00893648  & 25.39718547 & ⋯ & 50 & 175 & 37 & 108          & 150 & no  & no  & no  & 131 & 67\\\\\n",
       "\t ERR3838148 &  69754 & qiita\\_ptid\\_8384:12667.X2047268 & qiita\\_ppdid\\_85320:12667.X2047268 & qiita\\_sid\\_12667:12667.X2047268 & 12667.X2047268 & plasma & 0.00019629  & 0.00383451  & 29.74471111 & ⋯ & 47 & 132 & 41 & 68           & 115 & yes & yes & yes & 135 & 69\\\\\n",
       "\\end{tabular}\n"
      ],
      "text/markdown": [
       "\n",
       "A tibble: 6 × 22\n",
       "\n",
       "| sample &lt;chr&gt; | read_count &lt;int&gt; | experiment_alias &lt;chr&gt; | run_alias &lt;chr&gt; | sample_alias &lt;chr&gt; | sample_name &lt;chr&gt; | sample_type &lt;chr&gt; | bacterial_dna_concentration &lt;chr&gt; | human_dna_concentration &lt;chr&gt; | bmi &lt;chr&gt; | ⋯ ⋯ | bnviage &lt;chr&gt; | cholesterol_total &lt;chr&gt; | hdl_cholesterol &lt;chr&gt; | ldl_cholesterol &lt;chr&gt; | triglycerides &lt;chr&gt; | diabetes &lt;chr&gt; | hyperlipidemia &lt;chr&gt; | hypertension &lt;chr&gt; | systolic_bp &lt;chr&gt; | diastolic_bp &lt;chr&gt; |\n",
       "|---|---|---|---|---|---|---|---|---|---|---|---|---|---|---|---|---|---|---|---|---|\n",
       "| ERR3838143 | 140023 | qiita_ptid_8384:12667.X2036793 | qiita_ppdid_85320:12667.X2036793 | qiita_sid_12667:12667.X2036793 | 12667.X2036793 | plasma | 0.000524731 | 0.024556592 | 28.88624567 | ⋯ | 51 | 138 | 48 | 53           | 187 | no  | no  | no  | 141 | 80 |\n",
       "| ERR3837801 | 114704 | qiita_ptid_8365:12667.X2041787 | qiita_ppdid_85304:12667.X2041787 | qiita_sid_12667:12667.X2041787 | 12667.X2041787 | plasma | 0.00023933  | 0.01045326  | 17.84960938 | ⋯ | 20 | 131 | 66 | 53           | 58  | no  | no  | no  | 107 | 66 |\n",
       "| ERR3838146 | 120405 | qiita_ptid_8384:12667.X2043129 | qiita_ppdid_85320:12667.X2043129 | qiita_sid_12667:12667.X2043129 | 12667.X2043129 | plasma | 0.000884112 | 0.050398846 | 26.57844991 | ⋯ | 62 | 160 | 28 | 100          | 162 | no  | no  | no  | 152 | 94 |\n",
       "| ERR3837803 |  33380 | qiita_ptid_8365:12667.X2043400 | qiita_ppdid_85304:12667.X2043400 | qiita_sid_12667:12667.X2043400 | 12667.X2043400 | plasma | 0.00133296  | 0.03892576  | 36.17622348 | ⋯ | 36 | 244 | 32 | not provided | 687 | no  | no  | no  | 165 | 77 |\n",
       "| ERR3838570 |  18319 | qiita_ptid_8387:12667.X2044156 | qiita_ppdid_85327:12667.X2044156 | qiita_sid_12667:12667.X2044156 | 12667.X2044156 | plasma | 0.00033372  | 0.00893648  | 25.39718547 | ⋯ | 50 | 175 | 37 | 108          | 150 | no  | no  | no  | 131 | 67 |\n",
       "| ERR3838148 |  69754 | qiita_ptid_8384:12667.X2047268 | qiita_ppdid_85320:12667.X2047268 | qiita_sid_12667:12667.X2047268 | 12667.X2047268 | plasma | 0.00019629  | 0.00383451  | 29.74471111 | ⋯ | 47 | 132 | 41 | 68           | 115 | yes | yes | yes | 135 | 69 |\n",
       "\n"
      ],
      "text/plain": [
       "  sample     read_count experiment_alias              \n",
       "1 ERR3838143 140023     qiita_ptid_8384:12667.X2036793\n",
       "2 ERR3837801 114704     qiita_ptid_8365:12667.X2041787\n",
       "3 ERR3838146 120405     qiita_ptid_8384:12667.X2043129\n",
       "4 ERR3837803  33380     qiita_ptid_8365:12667.X2043400\n",
       "5 ERR3838570  18319     qiita_ptid_8387:12667.X2044156\n",
       "6 ERR3838148  69754     qiita_ptid_8384:12667.X2047268\n",
       "  run_alias                        sample_alias                  \n",
       "1 qiita_ppdid_85320:12667.X2036793 qiita_sid_12667:12667.X2036793\n",
       "2 qiita_ppdid_85304:12667.X2041787 qiita_sid_12667:12667.X2041787\n",
       "3 qiita_ppdid_85320:12667.X2043129 qiita_sid_12667:12667.X2043129\n",
       "4 qiita_ppdid_85304:12667.X2043400 qiita_sid_12667:12667.X2043400\n",
       "5 qiita_ppdid_85327:12667.X2044156 qiita_sid_12667:12667.X2044156\n",
       "6 qiita_ppdid_85320:12667.X2047268 qiita_sid_12667:12667.X2047268\n",
       "  sample_name    sample_type bacterial_dna_concentration\n",
       "1 12667.X2036793 plasma      0.000524731                \n",
       "2 12667.X2041787 plasma      0.00023933                 \n",
       "3 12667.X2043129 plasma      0.000884112                \n",
       "4 12667.X2043400 plasma      0.00133296                 \n",
       "5 12667.X2044156 plasma      0.00033372                 \n",
       "6 12667.X2047268 plasma      0.00019629                 \n",
       "  human_dna_concentration bmi         ⋯ bnviage cholesterol_total\n",
       "1 0.024556592             28.88624567 ⋯ 51      138              \n",
       "2 0.01045326              17.84960938 ⋯ 20      131              \n",
       "3 0.050398846             26.57844991 ⋯ 62      160              \n",
       "4 0.03892576              36.17622348 ⋯ 36      244              \n",
       "5 0.00893648              25.39718547 ⋯ 50      175              \n",
       "6 0.00383451              29.74471111 ⋯ 47      132              \n",
       "  hdl_cholesterol ldl_cholesterol triglycerides diabetes hyperlipidemia\n",
       "1 48              53              187           no       no            \n",
       "2 66              53              58            no       no            \n",
       "3 28              100             162           no       no            \n",
       "4 32              not provided    687           no       no            \n",
       "5 37              108             150           no       no            \n",
       "6 41              68              115           yes      yes           \n",
       "  hypertension systolic_bp diastolic_bp\n",
       "1 no           141         80          \n",
       "2 no           107         66          \n",
       "3 no           152         94          \n",
       "4 no           165         77          \n",
       "5 no           131         67          \n",
       "6 yes          135         69          "
      ]
     },
     "metadata": {},
     "output_type": "display_data"
    },
    {
     "data": {
      "text/html": [
       "97"
      ],
      "text/latex": [
       "97"
      ],
      "text/markdown": [
       "97"
      ],
      "text/plain": [
       "[1] 97"
      ]
     },
     "metadata": {},
     "output_type": "display_data"
    }
   ],
   "source": [
    "df <- fread(\"data/poore_et_al/pipeline_2_output/07_abundance_matrix/abundance_matrix.S.tsv\") %>%\n",
    "    mutate(sample = gsub(\"poore.\", \"\", sample)) %>%\n",
    "    select(-\"Homo sapiens\", -unclassified) %>%\n",
    "    as_tibble()\n",
    "\n",
    "our_df <- fread(\"data/taxonomic_profiles/07_abundance_matrix/abundance_matrix.S.pipeline2_210322.tsv\") %>%\n",
    "    select(-\"Homo sapiens\", -unclassified)\n",
    "\n",
    "meta <- fread(\"data/poore_et_al/poore_meta.parsed.csv\") %>%\n",
    "    rename(sample = run_accession) %>%\n",
    "    mutate(sample_type = gsub(\"control blank \", \"\", sample_type)) %>%\n",
    "    as_tibble()\n",
    "head(df)\n",
    "head(meta)\n",
    "sum(df$sample %in% meta$sample)"
   ]
  },
  {
   "cell_type": "code",
   "execution_count": 3,
   "id": "a77023cd",
   "metadata": {},
   "outputs": [],
   "source": [
    "otu_to_RA <- function(dat) {\n",
    "    dat <- as_tibble(dat)\n",
    "    mat <- as.matrix(dat[, colnames(dat) != \"sample\"])\n",
    "    RA_df <- as.data.frame(mat / rowSums(mat))\n",
    "    RA_df <- add_column(RA_df, sample = dat$sample, .before = 1) %>%\n",
    "        column_to_rownames(\"sample\")\n",
    "    return(RA_df)\n",
    "}\n",
    "\n",
    "otu_to_PA <- function(dat, read_threshold) {\n",
    "    prev_read <- dat %>%\n",
    "        column_to_rownames(\"sample\")\n",
    "    \n",
    "    prev_read[prev_read <= read_threshold] <- F\n",
    "    prev_read[prev_read > read_threshold] <- T\n",
    "\n",
    "    return(prev_read)\n",
    "}\n",
    "\n",
    "RA_to_PA <- function(RA_df, PA_threshold) {\n",
    "    prev_RA <- RA_df\n",
    "    prev_RA[prev_RA <= PA_threshold] <- F\n",
    "    prev_RA[prev_RA > PA_threshold] <- T\n",
    "    \n",
    "    return(prev_RA)\n",
    "}\n",
    "\n",
    "RA_to_clr <- function(dat) {\n",
    "    clr_df <- clr(dat)\n",
    "    return(as.data.frame(clr_df, check.names = F))\n",
    "}\n",
    "\n",
    "filter_taxa_by_presence <- function(prev_df, presence_t) {\n",
    "    taxa_counts <- apply(prev_df, 2, sum)\n",
    "    to_keep <- names(taxa_counts)[taxa_counts > presence_t]\n",
    "    return(prev_df %>% select(all_of(to_keep)))\n",
    "}\n",
    "\n",
    "RA_df <- otu_to_RA(df)\n",
    "clr_df <- RA_to_clr(RA_df)\n",
    "prev_RA <- RA_to_PA(RA_df, 0.001)"
   ]
  },
  {
   "cell_type": "markdown",
   "id": "3721a979",
   "metadata": {},
   "source": [
    "### Compare distribution of reads in blank and plasma samples"
   ]
  },
  {
   "cell_type": "code",
   "execution_count": 4,
   "id": "f29341fa",
   "metadata": {},
   "outputs": [
    {
     "data": {
      "text/plain": [
       "\n",
       "DNA extraction   library prep         plasma \n",
       "            16             14             67 "
      ]
     },
     "metadata": {},
     "output_type": "display_data"
    }
   ],
   "source": [
    "table(meta$sample_type)"
   ]
  },
  {
   "cell_type": "code",
   "execution_count": 5,
   "id": "385e3807",
   "metadata": {
    "scrolled": false
   },
   "outputs": [
    {
     "name": "stderr",
     "output_type": "stream",
     "text": [
      "Joining, by = \"sample\"\n",
      "`summarise()` has grouped output by 'sample'. You can override using the `.groups` argument.\n",
      "Joining, by = \"sample_type\"\n",
      "Saving 6.67 x 5 in image\n",
      "\n"
     ]
    },
    {
     "data": {
      "image/png": "[encoded data removed]",
      "text/plain": [
       "plot without title"
      ]
     },
     "metadata": {
      "image/png": {
       "height": 420,
       "width": 420
      }
     },
     "output_type": "display_data"
    }
   ],
   "source": [
    "plot_df <- df %>%\n",
    "    left_join(meta %>% select(sample, sample_type)) %>%\n",
    "    pivot_longer(!c(sample, sample_type), names_to = \"taxa\", values_to = \"read_count\") %>%\n",
    "    group_by(sample, sample_type) %>%\n",
    "    summarise(total_counts = sum(read_count)) %>%\n",
    "    mutate(log_counts = log(total_counts, base = 10)) %>%\n",
    "    ungroup()\n",
    "\n",
    "n_df <- plot_df %>%\n",
    "    group_by(sample_type) %>%\n",
    "    summarise(n = n())\n",
    "\n",
    "plot_df %>%\n",
    "    left_join(n_df) %>%\n",
    "    ggplot(aes(x = log_counts, fill = sample_type)) +\n",
    "    geom_density() +\n",
    "    facet_grid(rows = vars(sample_type)) +\n",
    "    geom_text(aes(x = 0, y = 1.0, label = str_glue(\"n = {n}\"))) +\n",
    "    theme(legend.position = \"none\",\n",
    "          text = element_text(size = 15)) +\n",
    "    labs(x = \"log10(Non-human reads)\", y = \"Density\")\n",
    "\n",
    "ggsave(\"results/poore_et_al/microbial_reads_by_sample_type.png\", dpi = 300, height = 5)"
   ]
  },
  {
   "cell_type": "code",
   "execution_count": 6,
   "id": "226a4411",
   "metadata": {
    "scrolled": true
   },
   "outputs": [
    {
     "data": {
      "text/plain": [
       "\n",
       "\tKruskal-Wallis rank sum test\n",
       "\n",
       "data:  extract_plasma$log_counts and extract_plasma$sample_type\n",
       "Kruskal-Wallis chi-squared = 20.373, df = 1, p-value = 6.371e-06\n"
      ]
     },
     "metadata": {},
     "output_type": "display_data"
    },
    {
     "data": {
      "text/plain": [
       "\n",
       "\tKruskal-Wallis rank sum test\n",
       "\n",
       "data:  extract_library$log_counts and extract_library$sample_type\n",
       "Kruskal-Wallis chi-squared = 13.998, df = 1, p-value = 0.000183\n"
      ]
     },
     "metadata": {},
     "output_type": "display_data"
    },
    {
     "data": {
      "text/plain": [
       "\n",
       "\tKruskal-Wallis rank sum test\n",
       "\n",
       "data:  library_plasma$log_counts and library_plasma$sample_type\n",
       "Kruskal-Wallis chi-squared = 33.879, df = 1, p-value = 5.863e-09\n"
      ]
     },
     "metadata": {},
     "output_type": "display_data"
    }
   ],
   "source": [
    "extract_plasma <- plot_df %>% filter(sample_type != \"library prep\")\n",
    "kruskal.test(extract_plasma$log_counts, extract_plasma$sample_type)\n",
    "\n",
    "extract_library <- plot_df %>% filter(sample_type != \"plasma\")\n",
    "kruskal.test(extract_library$log_counts, extract_library$sample_type)\n",
    "\n",
    "library_plasma <- plot_df %>% filter(sample_type != \"DNA extraction\")\n",
    "kruskal.test(library_plasma$log_counts, library_plasma$sample_type)"
   ]
  },
  {
   "cell_type": "code",
   "execution_count": 7,
   "id": "f82731f9",
   "metadata": {},
   "outputs": [
    {
     "name": "stderr",
     "output_type": "stream",
     "text": [
      "Joining, by = \"sample\"\n"
     ]
    },
    {
     "data": {
      "image/png": "[encoded data removed]",
      "text/plain": [
       "plot without title"
      ]
     },
     "metadata": {
      "image/png": {
       "height": 420,
       "width": 420
      }
     },
     "output_type": "display_data"
    }
   ],
   "source": [
    "get_pcoa_plot <- function(dat, meta, legend) {\n",
    "    # Get BC distances\n",
    "    X <- dat %>% column_to_rownames(\"sample\")\n",
    "    bc_dist <- vegdist(X, method = \"bray\")\n",
    "    pcoa <- cmdscale (bc_dist, eig = TRUE)\n",
    "    \n",
    "    # Extract proportion of variance\n",
    "    prop_variance <- pcoa$eig / sum(pcoa$eig)\n",
    "    PC1_prop <- round(prop_variance[1] * 100, 1)\n",
    "    PC2_prop <- round(prop_variance[2] * 100, 1)\n",
    "    \n",
    "    # Plot\n",
    "    plot_df <- tibble(sample = rownames(pcoa$points), \n",
    "               PC1 = pcoa$points[, 1], \n",
    "               PC2 = pcoa$points[, 2]) %>%\n",
    "            left_join(meta %>% select(sample, sample_type))\n",
    "    plot_df\n",
    "    \n",
    "    density_plt1 <- plot_df %>%\n",
    "        ggplot(aes(x = PC1, fill = sample_type, color = sample_type)) + \n",
    "            geom_density(alpha = 0.5) + \n",
    "            theme_classic() +\n",
    "            theme(axis.text.x = element_blank(),\n",
    "                  axis.title.x = element_blank(),\n",
    "                  legend.position = \"none\") +\n",
    "        labs(x = \"Density\", \n",
    "             y = \"Density\",\n",
    "             fill = \"Sample type\", , color = \"Sample type\")\n",
    "\n",
    "    density_plt2 <- plot_df %>%\n",
    "        ggplot(aes(x = PC2, fill = sample_type, color = sample_type)) + \n",
    "            geom_density(alpha = 0.5) + \n",
    "            theme_classic() +\n",
    "            theme(axis.text.y = element_blank(),\n",
    "                  axis.title.y = element_blank(),\n",
    "                  legend.position = \"none\") +\n",
    "            coord_flip() +\n",
    "        labs(x = \"Density\", \n",
    "             y = \"Density\",\n",
    "             fill = \"Sample type\", color = \"Sample type\")\n",
    "\n",
    "    empty_plt <- ggplot(plot_df) + \n",
    "        geom_blank() +\n",
    "        theme(panel.background = element_rect(\"white\"))\n",
    "\n",
    "    scatter_plt <- plot_df %>%\n",
    "        ggplot(aes(x = PC1, y = PC2, color = sample_type)) + \n",
    "            geom_point() +\n",
    "            theme(legend.position = \"none\") +\n",
    "        labs(x = str_glue(\"PCo1 ({PC1_prop}%)\"), \n",
    "             y = str_glue(\"PCo2 ({PC2_prop}%)\"), \n",
    "             color = \"Sample type\") +\n",
    "        theme_bw() +\n",
    "        theme(panel.grid = element_blank(),\n",
    "              axis.title = element_text(size = 20),\n",
    "              legend.text = element_text(size = 20),\n",
    "              legend.title = element_text(size = 20),\n",
    "              legend.position = \"none\") +\n",
    "        geom_text(aes(x = min(PC1) + 0.5, \n",
    "                      y = min(PC2), \n",
    "                      label = str_glue(\"n = {nrow(plot_df)}\")),\n",
    "                  color = \"black\")\n",
    "        \n",
    "        if (legend) {\n",
    "            ggarrange(density_plt1, empty_plt, scatter_plt, density_plt2, \n",
    "                      nrow = 2, ncol = 2,\n",
    "                      widths = c(3, 1, 3, 1),\n",
    "                      heights = c(1, 3, 1, 3),\n",
    "                      common.legend = T,\n",
    "                      legend = \"right\")\n",
    "        } else {\n",
    "            ggarrange(density_plt1, empty_plt, scatter_plt, density_plt2, \n",
    "                      nrow = 2, ncol = 2,\n",
    "                      widths = c(3, 1, 3, 1),\n",
    "                      heights = c(1, 3, 1, 3),\n",
    "                      common.legend = F)\n",
    "        }\n",
    "\n",
    "}\n",
    "\n",
    "get_pcoa_plot(df, meta, T)\n",
    "\n",
    "ggsave(\"results/poore_et_al/poore_PCoA_sample_types.png\", dpi = 300, width = 6, height = 4)"
   ]
  },
  {
   "cell_type": "code",
   "execution_count": 8,
   "id": "bdff204b",
   "metadata": {},
   "outputs": [
    {
     "name": "stderr",
     "output_type": "stream",
     "text": [
      "Warning message:\n",
      "“Removed 2 rows containing non-finite values (stat_density).”\n"
     ]
    },
    {
     "data": {
      "image/png": "[encoded data removed]",
      "text/plain": [
       "plot without title"
      ]
     },
     "metadata": {
      "image/png": {
       "height": 420,
       "width": 420
      }
     },
     "output_type": "display_data"
    }
   ],
   "source": [
    "poore_sums <- df %>%\n",
    "    select(-sample) %>%\n",
    "    rowSums()\n",
    "\n",
    "our_sums <- our_df %>%\n",
    "    select(-sample) %>%\n",
    "    rowSums()\n",
    "\n",
    "tibble(read_sums = poore_sums, study = \"poore\") %>%\n",
    "    bind_rows(tibble(read_sums = our_sums, study = \"present_study\")) %>%\n",
    "    ggplot(aes(x = log(read_sums, base = 10))) +\n",
    "    geom_density() +\n",
    "    facet_grid(rows = vars(study))\n",
    "    \n",
    "\n"
   ]
  },
  {
   "cell_type": "markdown",
   "id": "dcf2bcc5",
   "metadata": {},
   "source": [
    "### Decontamination"
   ]
  },
  {
   "cell_type": "markdown",
   "id": "c1e9eb05",
   "metadata": {},
   "source": [
    "### Apply presence absence filter"
   ]
  },
  {
   "cell_type": "code",
   "execution_count": 9,
   "id": "9e111d2b",
   "metadata": {
    "scrolled": true
   },
   "outputs": [],
   "source": [
    "# RA_df <- otu_to_RA(df)\n",
    "# PA_df <- RA_to_PA(RA_df, 0.001)\n",
    "# PA_filt <- filter_taxa_by_presence(PA_df, 0)\n",
    "# df_filt <- df %>% select(all_of(colnames(PA_filt)))\n",
    "# sample_ids <- rownames(RA_df)\n",
    "# df_filt[PA_filt == 0] <- 0\n",
    "# df_filt <- df_filt %>%\n",
    "#     add_column(sample = sample_ids, .before = 1)\n",
    "\n",
    "PA_RA <- RA_to_PA(RA_df, 0.005)\n",
    "PA_read <- otu_to_PA(df, 10)\n",
    "PA_df <- as.data.frame(PA_read & PA_RA)\n",
    "PA_filt <- filter_taxa_by_presence(PA_df, 0)\n",
    "df_filt <- df %>% select(all_of(colnames(PA_filt)))\n",
    "sample_ids <- rownames(RA_df)\n",
    "df_filt[PA_filt == 0] <- 0\n",
    "df_filt <- df_filt %>%\n",
    "    add_column(sample = sample_ids, .before = 1)"
   ]
  },
  {
   "cell_type": "code",
   "execution_count": 10,
   "id": "4e4d88b4",
   "metadata": {},
   "outputs": [
    {
     "name": "stderr",
     "output_type": "stream",
     "text": [
      "Joining, by = \"sample\"\n"
     ]
    },
    {
     "data": {
      "text/html": [
       "<table class=\"dataframe\">\n",
       "<caption>A tibble: 3 × 2</caption>\n",
       "<thead>\n",
       "\t<tr><th scope=col>sample_type</th><th scope=col>sum_afischerii</th></tr>\n",
       "\t<tr><th scope=col>&lt;chr&gt;</th><th scope=col>&lt;int&gt;</th></tr>\n",
       "</thead>\n",
       "<tbody>\n",
       "\t<tr><td>DNA extraction</td><td> 3</td></tr>\n",
       "\t<tr><td>library prep  </td><td> 0</td></tr>\n",
       "\t<tr><td>plasma        </td><td>11</td></tr>\n",
       "</tbody>\n",
       "</table>\n"
      ],
      "text/latex": [
       "A tibble: 3 × 2\n",
       "\\begin{tabular}{ll}\n",
       " sample\\_type & sum\\_afischerii\\\\\n",
       " <chr> & <int>\\\\\n",
       "\\hline\n",
       "\t DNA extraction &  3\\\\\n",
       "\t library prep   &  0\\\\\n",
       "\t plasma         & 11\\\\\n",
       "\\end{tabular}\n"
      ],
      "text/markdown": [
       "\n",
       "A tibble: 3 × 2\n",
       "\n",
       "| sample_type &lt;chr&gt; | sum_afischerii &lt;int&gt; |\n",
       "|---|---|\n",
       "| DNA extraction |  3 |\n",
       "| library prep   |  0 |\n",
       "| plasma         | 11 |\n",
       "\n"
      ],
      "text/plain": [
       "  sample_type    sum_afischerii\n",
       "1 DNA extraction  3            \n",
       "2 library prep    0            \n",
       "3 plasma         11            "
      ]
     },
     "metadata": {},
     "output_type": "display_data"
    }
   ],
   "source": [
    "PA_filt %>%\n",
    "    rownames_to_column(\"sample\") %>%\n",
    "    left_join(meta) %>%\n",
    "    group_by(sample_type) %>%\n",
    "    summarise(sum_afischerii = sum(get(\"Aliivibrio fischeri\")))"
   ]
  },
  {
   "cell_type": "code",
   "execution_count": 11,
   "id": "44073f21",
   "metadata": {},
   "outputs": [
    {
     "data": {
      "text/html": [
       "14"
      ],
      "text/latex": [
       "14"
      ],
      "text/markdown": [
       "14"
      ],
      "text/plain": [
       "[1] 14"
      ]
     },
     "metadata": {},
     "output_type": "display_data"
    }
   ],
   "source": [
    "sum(PA_filt$`Aliivibrio fischeri`)"
   ]
  },
  {
   "cell_type": "code",
   "execution_count": 12,
   "id": "9c4ca2d7",
   "metadata": {},
   "outputs": [
    {
     "name": "stderr",
     "output_type": "stream",
     "text": [
      "Joining, by = \"sample\"\n",
      "Joining, by = \"sample\"\n"
     ]
    }
   ],
   "source": [
    "df_meta <- df_filt %>% \n",
    "    left_join(meta %>% select(sample, sample_type))\n",
    "\n",
    "controls <- df_meta %>%\n",
    "    filter(sample_type != \"plasma\") %>%\n",
    "    select(-sample_type) %>%\n",
    "    column_to_rownames(\"sample\")\n",
    "\n",
    "\n",
    "extraction_controls <- df_meta %>%\n",
    "    filter(sample_type == \"DNA extraction\") %>%\n",
    "    select(-sample_type) %>%\n",
    "    column_to_rownames(\"sample\")\n",
    "\n",
    "extraction_controls <- filter_taxa_by_presence(extraction_controls, 0)\n",
    "prep_controls <- df_meta %>%\n",
    "    filter(sample_type == \"library prep\") %>%\n",
    "    select(-sample_type) %>%\n",
    "    column_to_rownames(\"sample\")\n",
    "\n",
    "prep_controls <- filter_taxa_by_presence(prep_controls, 0)\n",
    "\n",
    "plasma <- df_meta %>%\n",
    "    filter(sample_type == \"plasma\") %>%\n",
    "    select(-sample_type) %>%\n",
    "    column_to_rownames(\"sample\")\n",
    "\n",
    "plasma <- filter_taxa_by_presence(plasma, 0)\n",
    "\n",
    "plasma_ids <- rownames(plasma)\n",
    "\n",
    "control_PA <- PA_filt %>%\n",
    "    rownames_to_column(\"sample\") %>%\n",
    "    left_join(meta %>% select(sample, sample_type)) %>%\n",
    "    filter(sample_type != \"plasma\") %>%\n",
    "    select(-sample_type) %>%\n",
    "    column_to_rownames(\"sample\")\n"
   ]
  },
  {
   "cell_type": "markdown",
   "id": "24709be7",
   "metadata": {},
   "source": [
    "### Remove taxa present in controls"
   ]
  },
  {
   "cell_type": "code",
   "execution_count": 13,
   "id": "84f1021c",
   "metadata": {},
   "outputs": [
    {
     "data": {
      "text/html": [
       "82"
      ],
      "text/latex": [
       "82"
      ],
      "text/markdown": [
       "82"
      ],
      "text/plain": [
       "[1] 82"
      ]
     },
     "metadata": {},
     "output_type": "display_data"
    }
   ],
   "source": [
    "control_sums <- colSums(control_PA)\n",
    "contams <- names(control_sums[control_sums > 0])\n",
    "length(contams)"
   ]
  },
  {
   "cell_type": "code",
   "execution_count": 14,
   "id": "fb7f4539",
   "metadata": {},
   "outputs": [
    {
     "data": {
      "text/html": [
       "<table class=\"dataframe\">\n",
       "<caption>A data.frame: 6 × 26</caption>\n",
       "<thead>\n",
       "\t<tr><th></th><th scope=col>Acidovorax sp. RAC01</th><th scope=col>Acidovorax carolinensis</th><th scope=col>Variovorax sp. HW608</th><th scope=col>Comamonas aquatica</th><th scope=col>Curvibacter sp. AEP1-3</th><th scope=col>Rhizobacter gummiphilus</th><th scope=col>Rubrivivax gelatinosus</th><th scope=col>Leptothrix cholodnii</th><th scope=col>Bosea sp. Tri-49</th><th scope=col>Sphingobium hydrophobicum</th><th scope=col>⋯</th><th scope=col>Flavobacterium johnsoniae</th><th scope=col>Flavobacterium faecale</th><th scope=col>Flavobacterium gilvum</th><th scope=col>Toxoplasma gondii</th><th scope=col>Acinetobacter lwoffii</th><th scope=col>Paracoccus sp. Arc7-R13</th><th scope=col>Pseudomonas yamanorum</th><th scope=col>Acinetobacter gyllenbergii</th><th scope=col>Acinetobacter dispersus</th><th scope=col>Human betaherpesvirus 6B</th></tr>\n",
       "\t<tr><th></th><th scope=col>&lt;dbl&gt;</th><th scope=col>&lt;dbl&gt;</th><th scope=col>&lt;dbl&gt;</th><th scope=col>&lt;dbl&gt;</th><th scope=col>&lt;dbl&gt;</th><th scope=col>&lt;dbl&gt;</th><th scope=col>&lt;dbl&gt;</th><th scope=col>&lt;dbl&gt;</th><th scope=col>&lt;dbl&gt;</th><th scope=col>&lt;dbl&gt;</th><th scope=col>⋯</th><th scope=col>&lt;dbl&gt;</th><th scope=col>&lt;dbl&gt;</th><th scope=col>&lt;dbl&gt;</th><th scope=col>&lt;dbl&gt;</th><th scope=col>&lt;dbl&gt;</th><th scope=col>&lt;dbl&gt;</th><th scope=col>&lt;dbl&gt;</th><th scope=col>&lt;dbl&gt;</th><th scope=col>&lt;dbl&gt;</th><th scope=col>&lt;dbl&gt;</th></tr>\n",
       "</thead>\n",
       "<tbody>\n",
       "\t<tr><th scope=row>ERR3838148</th><td>0</td><td>0</td><td> 0</td><td>0</td><td> 0</td><td>0</td><td>0</td><td>0</td><td>47</td><td>0</td><td>⋯</td><td>0</td><td>0</td><td>0</td><td>0</td><td>0</td><td>0</td><td>0</td><td>0</td><td>0</td><td>0</td></tr>\n",
       "\t<tr><th scope=row>ERR3838168</th><td>0</td><td>0</td><td> 0</td><td>0</td><td> 0</td><td>0</td><td>0</td><td>0</td><td>60</td><td>0</td><td>⋯</td><td>0</td><td>0</td><td>0</td><td>0</td><td>0</td><td>0</td><td>0</td><td>0</td><td>0</td><td>0</td></tr>\n",
       "\t<tr><th scope=row>ERR3837848</th><td>0</td><td>0</td><td> 0</td><td>0</td><td> 0</td><td>0</td><td>0</td><td>0</td><td> 0</td><td>0</td><td>⋯</td><td>0</td><td>0</td><td>0</td><td>0</td><td>0</td><td>0</td><td>0</td><td>0</td><td>0</td><td>0</td></tr>\n",
       "\t<tr><th scope=row>ERR3838234</th><td>0</td><td>0</td><td>16</td><td>0</td><td>12</td><td>0</td><td>0</td><td>0</td><td>25</td><td>0</td><td>⋯</td><td>0</td><td>0</td><td>0</td><td>0</td><td>0</td><td>0</td><td>0</td><td>0</td><td>0</td><td>0</td></tr>\n",
       "\t<tr><th scope=row>ERR3838221</th><td>0</td><td>0</td><td> 0</td><td>0</td><td> 0</td><td>0</td><td>0</td><td>0</td><td>26</td><td>0</td><td>⋯</td><td>0</td><td>0</td><td>0</td><td>0</td><td>0</td><td>0</td><td>0</td><td>0</td><td>0</td><td>0</td></tr>\n",
       "\t<tr><th scope=row>ERR3837887</th><td>0</td><td>0</td><td> 0</td><td>0</td><td> 0</td><td>0</td><td>0</td><td>0</td><td> 0</td><td>0</td><td>⋯</td><td>0</td><td>0</td><td>0</td><td>0</td><td>0</td><td>0</td><td>0</td><td>0</td><td>0</td><td>0</td></tr>\n",
       "</tbody>\n",
       "</table>\n"
      ],
      "text/latex": [
       "A data.frame: 6 × 26\n",
       "\\begin{tabular}{r|lllllllllllllllllllll}\n",
       "  & Acidovorax sp. RAC01 & Acidovorax carolinensis & Variovorax sp. HW608 & Comamonas aquatica & Curvibacter sp. AEP1-3 & Rhizobacter gummiphilus & Rubrivivax gelatinosus & Leptothrix cholodnii & Bosea sp. Tri-49 & Sphingobium hydrophobicum & ⋯ & Flavobacterium johnsoniae & Flavobacterium faecale & Flavobacterium gilvum & Toxoplasma gondii & Acinetobacter lwoffii & Paracoccus sp. Arc7-R13 & Pseudomonas yamanorum & Acinetobacter gyllenbergii & Acinetobacter dispersus & Human betaherpesvirus 6B\\\\\n",
       "  & <dbl> & <dbl> & <dbl> & <dbl> & <dbl> & <dbl> & <dbl> & <dbl> & <dbl> & <dbl> & ⋯ & <dbl> & <dbl> & <dbl> & <dbl> & <dbl> & <dbl> & <dbl> & <dbl> & <dbl> & <dbl>\\\\\n",
       "\\hline\n",
       "\tERR3838148 & 0 & 0 &  0 & 0 &  0 & 0 & 0 & 0 & 47 & 0 & ⋯ & 0 & 0 & 0 & 0 & 0 & 0 & 0 & 0 & 0 & 0\\\\\n",
       "\tERR3838168 & 0 & 0 &  0 & 0 &  0 & 0 & 0 & 0 & 60 & 0 & ⋯ & 0 & 0 & 0 & 0 & 0 & 0 & 0 & 0 & 0 & 0\\\\\n",
       "\tERR3837848 & 0 & 0 &  0 & 0 &  0 & 0 & 0 & 0 &  0 & 0 & ⋯ & 0 & 0 & 0 & 0 & 0 & 0 & 0 & 0 & 0 & 0\\\\\n",
       "\tERR3838234 & 0 & 0 & 16 & 0 & 12 & 0 & 0 & 0 & 25 & 0 & ⋯ & 0 & 0 & 0 & 0 & 0 & 0 & 0 & 0 & 0 & 0\\\\\n",
       "\tERR3838221 & 0 & 0 &  0 & 0 &  0 & 0 & 0 & 0 & 26 & 0 & ⋯ & 0 & 0 & 0 & 0 & 0 & 0 & 0 & 0 & 0 & 0\\\\\n",
       "\tERR3837887 & 0 & 0 &  0 & 0 &  0 & 0 & 0 & 0 &  0 & 0 & ⋯ & 0 & 0 & 0 & 0 & 0 & 0 & 0 & 0 & 0 & 0\\\\\n",
       "\\end{tabular}\n"
      ],
      "text/markdown": [
       "\n",
       "A data.frame: 6 × 26\n",
       "\n",
       "| <!--/--> | Acidovorax sp. RAC01 &lt;dbl&gt; | Acidovorax carolinensis &lt;dbl&gt; | Variovorax sp. HW608 &lt;dbl&gt; | Comamonas aquatica &lt;dbl&gt; | Curvibacter sp. AEP1-3 &lt;dbl&gt; | Rhizobacter gummiphilus &lt;dbl&gt; | Rubrivivax gelatinosus &lt;dbl&gt; | Leptothrix cholodnii &lt;dbl&gt; | Bosea sp. Tri-49 &lt;dbl&gt; | Sphingobium hydrophobicum &lt;dbl&gt; | ⋯ ⋯ | Flavobacterium johnsoniae &lt;dbl&gt; | Flavobacterium faecale &lt;dbl&gt; | Flavobacterium gilvum &lt;dbl&gt; | Toxoplasma gondii &lt;dbl&gt; | Acinetobacter lwoffii &lt;dbl&gt; | Paracoccus sp. Arc7-R13 &lt;dbl&gt; | Pseudomonas yamanorum &lt;dbl&gt; | Acinetobacter gyllenbergii &lt;dbl&gt; | Acinetobacter dispersus &lt;dbl&gt; | Human betaherpesvirus 6B &lt;dbl&gt; |\n",
       "|---|---|---|---|---|---|---|---|---|---|---|---|---|---|---|---|---|---|---|---|---|---|\n",
       "| ERR3838148 | 0 | 0 |  0 | 0 |  0 | 0 | 0 | 0 | 47 | 0 | ⋯ | 0 | 0 | 0 | 0 | 0 | 0 | 0 | 0 | 0 | 0 |\n",
       "| ERR3838168 | 0 | 0 |  0 | 0 |  0 | 0 | 0 | 0 | 60 | 0 | ⋯ | 0 | 0 | 0 | 0 | 0 | 0 | 0 | 0 | 0 | 0 |\n",
       "| ERR3837848 | 0 | 0 |  0 | 0 |  0 | 0 | 0 | 0 |  0 | 0 | ⋯ | 0 | 0 | 0 | 0 | 0 | 0 | 0 | 0 | 0 | 0 |\n",
       "| ERR3838234 | 0 | 0 | 16 | 0 | 12 | 0 | 0 | 0 | 25 | 0 | ⋯ | 0 | 0 | 0 | 0 | 0 | 0 | 0 | 0 | 0 | 0 |\n",
       "| ERR3838221 | 0 | 0 |  0 | 0 |  0 | 0 | 0 | 0 | 26 | 0 | ⋯ | 0 | 0 | 0 | 0 | 0 | 0 | 0 | 0 | 0 | 0 |\n",
       "| ERR3837887 | 0 | 0 |  0 | 0 |  0 | 0 | 0 | 0 |  0 | 0 | ⋯ | 0 | 0 | 0 | 0 | 0 | 0 | 0 | 0 | 0 | 0 |\n",
       "\n"
      ],
      "text/plain": [
       "           Acidovorax sp. RAC01 Acidovorax carolinensis Variovorax sp. HW608\n",
       "ERR3838148 0                    0                        0                  \n",
       "ERR3838168 0                    0                        0                  \n",
       "ERR3837848 0                    0                        0                  \n",
       "ERR3838234 0                    0                       16                  \n",
       "ERR3838221 0                    0                        0                  \n",
       "ERR3837887 0                    0                        0                  \n",
       "           Comamonas aquatica Curvibacter sp. AEP1-3 Rhizobacter gummiphilus\n",
       "ERR3838148 0                   0                     0                      \n",
       "ERR3838168 0                   0                     0                      \n",
       "ERR3837848 0                   0                     0                      \n",
       "ERR3838234 0                  12                     0                      \n",
       "ERR3838221 0                   0                     0                      \n",
       "ERR3837887 0                   0                     0                      \n",
       "           Rubrivivax gelatinosus Leptothrix cholodnii Bosea sp. Tri-49\n",
       "ERR3838148 0                      0                    47              \n",
       "ERR3838168 0                      0                    60              \n",
       "ERR3837848 0                      0                     0              \n",
       "ERR3838234 0                      0                    25              \n",
       "ERR3838221 0                      0                    26              \n",
       "ERR3837887 0                      0                     0              \n",
       "           Sphingobium hydrophobicum ⋯ Flavobacterium johnsoniae\n",
       "ERR3838148 0                         ⋯ 0                        \n",
       "ERR3838168 0                         ⋯ 0                        \n",
       "ERR3837848 0                         ⋯ 0                        \n",
       "ERR3838234 0                         ⋯ 0                        \n",
       "ERR3838221 0                         ⋯ 0                        \n",
       "ERR3837887 0                         ⋯ 0                        \n",
       "           Flavobacterium faecale Flavobacterium gilvum Toxoplasma gondii\n",
       "ERR3838148 0                      0                     0                \n",
       "ERR3838168 0                      0                     0                \n",
       "ERR3837848 0                      0                     0                \n",
       "ERR3838234 0                      0                     0                \n",
       "ERR3838221 0                      0                     0                \n",
       "ERR3837887 0                      0                     0                \n",
       "           Acinetobacter lwoffii Paracoccus sp. Arc7-R13 Pseudomonas yamanorum\n",
       "ERR3838148 0                     0                       0                    \n",
       "ERR3838168 0                     0                       0                    \n",
       "ERR3837848 0                     0                       0                    \n",
       "ERR3838234 0                     0                       0                    \n",
       "ERR3838221 0                     0                       0                    \n",
       "ERR3837887 0                     0                       0                    \n",
       "           Acinetobacter gyllenbergii Acinetobacter dispersus\n",
       "ERR3838148 0                          0                      \n",
       "ERR3838168 0                          0                      \n",
       "ERR3837848 0                          0                      \n",
       "ERR3838234 0                          0                      \n",
       "ERR3838221 0                          0                      \n",
       "ERR3837887 0                          0                      \n",
       "           Human betaherpesvirus 6B\n",
       "ERR3838148 0                       \n",
       "ERR3838168 0                       \n",
       "ERR3837848 0                       \n",
       "ERR3838234 0                       \n",
       "ERR3838221 0                       \n",
       "ERR3837887 0                       "
      ]
     },
     "metadata": {},
     "output_type": "display_data"
    }
   ],
   "source": [
    "taxa_list <- colnames(plasma)\n",
    "nc <- taxa_list[!(taxa_list %in% contams)]\n",
    "\n",
    "df_final <- plasma %>% \n",
    "    select(all_of(nc))\n",
    "head(df_final)"
   ]
  },
  {
   "cell_type": "markdown",
   "id": "66767ad7",
   "metadata": {},
   "source": [
    "### Max read counts"
   ]
  },
  {
   "cell_type": "code",
   "execution_count": 15,
   "id": "c1693f2d",
   "metadata": {
    "scrolled": true
   },
   "outputs": [
    {
     "data": {
      "text/html": [
       "<table class=\"dataframe\">\n",
       "<caption>A tibble: 26 × 2</caption>\n",
       "<thead>\n",
       "\t<tr><th scope=col>taxa</th><th scope=col>max_read_count</th></tr>\n",
       "\t<tr><th scope=col>&lt;chr&gt;</th><th scope=col>&lt;dbl&gt;</th></tr>\n",
       "</thead>\n",
       "<tbody>\n",
       "\t<tr><td>Toxoplasma gondii          </td><td>414</td></tr>\n",
       "\t<tr><td>Pseudomonas yamanorum      </td><td>282</td></tr>\n",
       "\t<tr><td>Acinetobacter dispersus    </td><td>257</td></tr>\n",
       "\t<tr><td>Acinetobacter lwoffii      </td><td>155</td></tr>\n",
       "\t<tr><td>Acinetobacter sp. MYb10    </td><td>139</td></tr>\n",
       "\t<tr><td>Rhodoluna lacicola         </td><td> 95</td></tr>\n",
       "\t<tr><td>Bosea sp. Tri-49           </td><td> 87</td></tr>\n",
       "\t<tr><td>Thermus caldilimi          </td><td> 81</td></tr>\n",
       "\t<tr><td>Human betaherpesvirus 6B   </td><td> 74</td></tr>\n",
       "\t<tr><td>Sphingobium hydrophobicum  </td><td> 68</td></tr>\n",
       "\t<tr><td>Leptothrix cholodnii       </td><td> 60</td></tr>\n",
       "\t<tr><td>Acinetobacter gyllenbergii </td><td> 57</td></tr>\n",
       "\t<tr><td>Flavobacterium nackdongense</td><td> 57</td></tr>\n",
       "\t<tr><td>Xanthomonas campestris     </td><td> 56</td></tr>\n",
       "\t<tr><td>Flavobacterium sp. I3-2    </td><td> 36</td></tr>\n",
       "\t<tr><td>Flavobacterium faecale     </td><td> 32</td></tr>\n",
       "\t<tr><td>Comamonas aquatica         </td><td> 27</td></tr>\n",
       "\t<tr><td>Paracoccus sp. Arc7-R13    </td><td> 23</td></tr>\n",
       "\t<tr><td>Flavobacterium johnsoniae  </td><td> 18</td></tr>\n",
       "\t<tr><td>Rubrivivax gelatinosus     </td><td> 18</td></tr>\n",
       "\t<tr><td>Acidovorax carolinensis    </td><td> 17</td></tr>\n",
       "\t<tr><td>Flavobacterium gilvum      </td><td> 16</td></tr>\n",
       "\t<tr><td>Variovorax sp. HW608       </td><td> 16</td></tr>\n",
       "\t<tr><td>Rhizobacter gummiphilus    </td><td> 15</td></tr>\n",
       "\t<tr><td>Acidovorax sp. RAC01       </td><td> 12</td></tr>\n",
       "\t<tr><td>Curvibacter sp. AEP1-3     </td><td> 12</td></tr>\n",
       "</tbody>\n",
       "</table>\n"
      ],
      "text/latex": [
       "A tibble: 26 × 2\n",
       "\\begin{tabular}{ll}\n",
       " taxa & max\\_read\\_count\\\\\n",
       " <chr> & <dbl>\\\\\n",
       "\\hline\n",
       "\t Toxoplasma gondii           & 414\\\\\n",
       "\t Pseudomonas yamanorum       & 282\\\\\n",
       "\t Acinetobacter dispersus     & 257\\\\\n",
       "\t Acinetobacter lwoffii       & 155\\\\\n",
       "\t Acinetobacter sp. MYb10     & 139\\\\\n",
       "\t Rhodoluna lacicola          &  95\\\\\n",
       "\t Bosea sp. Tri-49            &  87\\\\\n",
       "\t Thermus caldilimi           &  81\\\\\n",
       "\t Human betaherpesvirus 6B    &  74\\\\\n",
       "\t Sphingobium hydrophobicum   &  68\\\\\n",
       "\t Leptothrix cholodnii        &  60\\\\\n",
       "\t Acinetobacter gyllenbergii  &  57\\\\\n",
       "\t Flavobacterium nackdongense &  57\\\\\n",
       "\t Xanthomonas campestris      &  56\\\\\n",
       "\t Flavobacterium sp. I3-2     &  36\\\\\n",
       "\t Flavobacterium faecale      &  32\\\\\n",
       "\t Comamonas aquatica          &  27\\\\\n",
       "\t Paracoccus sp. Arc7-R13     &  23\\\\\n",
       "\t Flavobacterium johnsoniae   &  18\\\\\n",
       "\t Rubrivivax gelatinosus      &  18\\\\\n",
       "\t Acidovorax carolinensis     &  17\\\\\n",
       "\t Flavobacterium gilvum       &  16\\\\\n",
       "\t Variovorax sp. HW608        &  16\\\\\n",
       "\t Rhizobacter gummiphilus     &  15\\\\\n",
       "\t Acidovorax sp. RAC01        &  12\\\\\n",
       "\t Curvibacter sp. AEP1-3      &  12\\\\\n",
       "\\end{tabular}\n"
      ],
      "text/markdown": [
       "\n",
       "A tibble: 26 × 2\n",
       "\n",
       "| taxa &lt;chr&gt; | max_read_count &lt;dbl&gt; |\n",
       "|---|---|\n",
       "| Toxoplasma gondii           | 414 |\n",
       "| Pseudomonas yamanorum       | 282 |\n",
       "| Acinetobacter dispersus     | 257 |\n",
       "| Acinetobacter lwoffii       | 155 |\n",
       "| Acinetobacter sp. MYb10     | 139 |\n",
       "| Rhodoluna lacicola          |  95 |\n",
       "| Bosea sp. Tri-49            |  87 |\n",
       "| Thermus caldilimi           |  81 |\n",
       "| Human betaherpesvirus 6B    |  74 |\n",
       "| Sphingobium hydrophobicum   |  68 |\n",
       "| Leptothrix cholodnii        |  60 |\n",
       "| Acinetobacter gyllenbergii  |  57 |\n",
       "| Flavobacterium nackdongense |  57 |\n",
       "| Xanthomonas campestris      |  56 |\n",
       "| Flavobacterium sp. I3-2     |  36 |\n",
       "| Flavobacterium faecale      |  32 |\n",
       "| Comamonas aquatica          |  27 |\n",
       "| Paracoccus sp. Arc7-R13     |  23 |\n",
       "| Flavobacterium johnsoniae   |  18 |\n",
       "| Rubrivivax gelatinosus      |  18 |\n",
       "| Acidovorax carolinensis     |  17 |\n",
       "| Flavobacterium gilvum       |  16 |\n",
       "| Variovorax sp. HW608        |  16 |\n",
       "| Rhizobacter gummiphilus     |  15 |\n",
       "| Acidovorax sp. RAC01        |  12 |\n",
       "| Curvibacter sp. AEP1-3      |  12 |\n",
       "\n"
      ],
      "text/plain": [
       "   taxa                        max_read_count\n",
       "1  Toxoplasma gondii           414           \n",
       "2  Pseudomonas yamanorum       282           \n",
       "3  Acinetobacter dispersus     257           \n",
       "4  Acinetobacter lwoffii       155           \n",
       "5  Acinetobacter sp. MYb10     139           \n",
       "6  Rhodoluna lacicola           95           \n",
       "7  Bosea sp. Tri-49             87           \n",
       "8  Thermus caldilimi            81           \n",
       "9  Human betaherpesvirus 6B     74           \n",
       "10 Sphingobium hydrophobicum    68           \n",
       "11 Leptothrix cholodnii         60           \n",
       "12 Acinetobacter gyllenbergii   57           \n",
       "13 Flavobacterium nackdongense  57           \n",
       "14 Xanthomonas campestris       56           \n",
       "15 Flavobacterium sp. I3-2      36           \n",
       "16 Flavobacterium faecale       32           \n",
       "17 Comamonas aquatica           27           \n",
       "18 Paracoccus sp. Arc7-R13      23           \n",
       "19 Flavobacterium johnsoniae    18           \n",
       "20 Rubrivivax gelatinosus       18           \n",
       "21 Acidovorax carolinensis      17           \n",
       "22 Flavobacterium gilvum        16           \n",
       "23 Variovorax sp. HW608         16           \n",
       "24 Rhizobacter gummiphilus      15           \n",
       "25 Acidovorax sp. RAC01         12           \n",
       "26 Curvibacter sp. AEP1-3       12           "
      ]
     },
     "metadata": {},
     "output_type": "display_data"
    }
   ],
   "source": [
    "df_final %>% \n",
    "    pivot_longer(everything(), names_to = \"taxa\", values_to = \"read_count\") %>%\n",
    "    group_by(taxa) %>%\n",
    "    summarise(max_read_count = max(read_count)) %>%\n",
    "    arrange(desc(max_read_count)) %>%\n",
    "    filter(max_read_count > 10)"
   ]
  },
  {
   "cell_type": "markdown",
   "id": "47250690",
   "metadata": {},
   "source": [
    "### Load our non-contaminants"
   ]
  },
  {
   "cell_type": "code",
   "execution_count": 17,
   "id": "f28494b7",
   "metadata": {},
   "outputs": [
    {
     "data": {
      "text/html": [
       "122"
      ],
      "text/latex": [
       "122"
      ],
      "text/markdown": [
       "122"
      ],
      "text/plain": [
       "[1] 122"
      ]
     },
     "metadata": {},
     "output_type": "display_data"
    },
    {
     "data": {
      "text/html": [
       "<style>\n",
       ".list-inline {list-style: none; margin:0; padding: 0}\n",
       ".list-inline>li {display: inline-block}\n",
       ".list-inline>li:not(:last-child)::after {content: \"\\00b7\"; padding: 0 .5ex}\n",
       "</style>\n",
       "<ol class=list-inline><li>'Comamonas aquatica'</li><li>'Acinetobacter dispersus'</li><li>'Human betaherpesvirus 6B'</li></ol>\n"
      ],
      "text/latex": [
       "\\begin{enumerate*}\n",
       "\\item 'Comamonas aquatica'\n",
       "\\item 'Acinetobacter dispersus'\n",
       "\\item 'Human betaherpesvirus 6B'\n",
       "\\end{enumerate*}\n"
      ],
      "text/markdown": [
       "1. 'Comamonas aquatica'\n",
       "2. 'Acinetobacter dispersus'\n",
       "3. 'Human betaherpesvirus 6B'\n",
       "\n",
       "\n"
      ],
      "text/plain": [
       "[1] \"Comamonas aquatica\"       \"Acinetobacter dispersus\" \n",
       "[3] \"Human betaherpesvirus 6B\""
      ]
     },
     "metadata": {},
     "output_type": "display_data"
    },
    {
     "data": {
      "text/html": [
       "3"
      ],
      "text/latex": [
       "3"
      ],
      "text/markdown": [
       "3"
      ],
      "text/plain": [
       "[1] 3"
      ]
     },
     "metadata": {},
     "output_type": "display_data"
    }
   ],
   "source": [
    "taxa_df <- fread(\"results/decontamination/curated_n122_global_decontamination_stats.csv\")\n",
    "our_taxa_list <- unique(taxa_df$taxa)\n",
    "length(our_taxa_list)\n",
    "nc[nc %in% our_taxa_list]\n",
    "length(nc[nc %in% our_taxa_list])"
   ]
  },
  {
   "cell_type": "code",
   "execution_count": 18,
   "id": "0d8ee126",
   "metadata": {
    "scrolled": true
   },
   "outputs": [
    {
     "data": {
      "text/html": [
       "<table class=\"dataframe\">\n",
       "<caption>A tibble: 26 × 2</caption>\n",
       "<thead>\n",
       "\t<tr><th scope=col>taxa</th><th scope=col>max_count</th></tr>\n",
       "\t<tr><th scope=col>&lt;chr&gt;</th><th scope=col>&lt;dbl&gt;</th></tr>\n",
       "</thead>\n",
       "<tbody>\n",
       "\t<tr><td>Toxoplasma gondii          </td><td>414</td></tr>\n",
       "\t<tr><td>Pseudomonas yamanorum      </td><td>282</td></tr>\n",
       "\t<tr><td>Acinetobacter dispersus    </td><td>257</td></tr>\n",
       "\t<tr><td>Acinetobacter lwoffii      </td><td>155</td></tr>\n",
       "\t<tr><td>Acinetobacter sp. MYb10    </td><td>139</td></tr>\n",
       "\t<tr><td>Rhodoluna lacicola         </td><td> 95</td></tr>\n",
       "\t<tr><td>Bosea sp. Tri-49           </td><td> 87</td></tr>\n",
       "\t<tr><td>Thermus caldilimi          </td><td> 81</td></tr>\n",
       "\t<tr><td>Human betaherpesvirus 6B   </td><td> 74</td></tr>\n",
       "\t<tr><td>Sphingobium hydrophobicum  </td><td> 68</td></tr>\n",
       "\t<tr><td>Leptothrix cholodnii       </td><td> 60</td></tr>\n",
       "\t<tr><td>Acinetobacter gyllenbergii </td><td> 57</td></tr>\n",
       "\t<tr><td>Flavobacterium nackdongense</td><td> 57</td></tr>\n",
       "\t<tr><td>Xanthomonas campestris     </td><td> 56</td></tr>\n",
       "\t<tr><td>Flavobacterium sp. I3-2    </td><td> 36</td></tr>\n",
       "\t<tr><td>Flavobacterium faecale     </td><td> 32</td></tr>\n",
       "\t<tr><td>Comamonas aquatica         </td><td> 27</td></tr>\n",
       "\t<tr><td>Paracoccus sp. Arc7-R13    </td><td> 23</td></tr>\n",
       "\t<tr><td>Flavobacterium johnsoniae  </td><td> 18</td></tr>\n",
       "\t<tr><td>Rubrivivax gelatinosus     </td><td> 18</td></tr>\n",
       "\t<tr><td>Acidovorax carolinensis    </td><td> 17</td></tr>\n",
       "\t<tr><td>Flavobacterium gilvum      </td><td> 16</td></tr>\n",
       "\t<tr><td>Variovorax sp. HW608       </td><td> 16</td></tr>\n",
       "\t<tr><td>Rhizobacter gummiphilus    </td><td> 15</td></tr>\n",
       "\t<tr><td>Acidovorax sp. RAC01       </td><td> 12</td></tr>\n",
       "\t<tr><td>Curvibacter sp. AEP1-3     </td><td> 12</td></tr>\n",
       "</tbody>\n",
       "</table>\n"
      ],
      "text/latex": [
       "A tibble: 26 × 2\n",
       "\\begin{tabular}{ll}\n",
       " taxa & max\\_count\\\\\n",
       " <chr> & <dbl>\\\\\n",
       "\\hline\n",
       "\t Toxoplasma gondii           & 414\\\\\n",
       "\t Pseudomonas yamanorum       & 282\\\\\n",
       "\t Acinetobacter dispersus     & 257\\\\\n",
       "\t Acinetobacter lwoffii       & 155\\\\\n",
       "\t Acinetobacter sp. MYb10     & 139\\\\\n",
       "\t Rhodoluna lacicola          &  95\\\\\n",
       "\t Bosea sp. Tri-49            &  87\\\\\n",
       "\t Thermus caldilimi           &  81\\\\\n",
       "\t Human betaherpesvirus 6B    &  74\\\\\n",
       "\t Sphingobium hydrophobicum   &  68\\\\\n",
       "\t Leptothrix cholodnii        &  60\\\\\n",
       "\t Acinetobacter gyllenbergii  &  57\\\\\n",
       "\t Flavobacterium nackdongense &  57\\\\\n",
       "\t Xanthomonas campestris      &  56\\\\\n",
       "\t Flavobacterium sp. I3-2     &  36\\\\\n",
       "\t Flavobacterium faecale      &  32\\\\\n",
       "\t Comamonas aquatica          &  27\\\\\n",
       "\t Paracoccus sp. Arc7-R13     &  23\\\\\n",
       "\t Flavobacterium johnsoniae   &  18\\\\\n",
       "\t Rubrivivax gelatinosus      &  18\\\\\n",
       "\t Acidovorax carolinensis     &  17\\\\\n",
       "\t Flavobacterium gilvum       &  16\\\\\n",
       "\t Variovorax sp. HW608        &  16\\\\\n",
       "\t Rhizobacter gummiphilus     &  15\\\\\n",
       "\t Acidovorax sp. RAC01        &  12\\\\\n",
       "\t Curvibacter sp. AEP1-3      &  12\\\\\n",
       "\\end{tabular}\n"
      ],
      "text/markdown": [
       "\n",
       "A tibble: 26 × 2\n",
       "\n",
       "| taxa &lt;chr&gt; | max_count &lt;dbl&gt; |\n",
       "|---|---|\n",
       "| Toxoplasma gondii           | 414 |\n",
       "| Pseudomonas yamanorum       | 282 |\n",
       "| Acinetobacter dispersus     | 257 |\n",
       "| Acinetobacter lwoffii       | 155 |\n",
       "| Acinetobacter sp. MYb10     | 139 |\n",
       "| Rhodoluna lacicola          |  95 |\n",
       "| Bosea sp. Tri-49            |  87 |\n",
       "| Thermus caldilimi           |  81 |\n",
       "| Human betaherpesvirus 6B    |  74 |\n",
       "| Sphingobium hydrophobicum   |  68 |\n",
       "| Leptothrix cholodnii        |  60 |\n",
       "| Acinetobacter gyllenbergii  |  57 |\n",
       "| Flavobacterium nackdongense |  57 |\n",
       "| Xanthomonas campestris      |  56 |\n",
       "| Flavobacterium sp. I3-2     |  36 |\n",
       "| Flavobacterium faecale      |  32 |\n",
       "| Comamonas aquatica          |  27 |\n",
       "| Paracoccus sp. Arc7-R13     |  23 |\n",
       "| Flavobacterium johnsoniae   |  18 |\n",
       "| Rubrivivax gelatinosus      |  18 |\n",
       "| Acidovorax carolinensis     |  17 |\n",
       "| Flavobacterium gilvum       |  16 |\n",
       "| Variovorax sp. HW608        |  16 |\n",
       "| Rhizobacter gummiphilus     |  15 |\n",
       "| Acidovorax sp. RAC01        |  12 |\n",
       "| Curvibacter sp. AEP1-3      |  12 |\n",
       "\n"
      ],
      "text/plain": [
       "   taxa                        max_count\n",
       "1  Toxoplasma gondii           414      \n",
       "2  Pseudomonas yamanorum       282      \n",
       "3  Acinetobacter dispersus     257      \n",
       "4  Acinetobacter lwoffii       155      \n",
       "5  Acinetobacter sp. MYb10     139      \n",
       "6  Rhodoluna lacicola           95      \n",
       "7  Bosea sp. Tri-49             87      \n",
       "8  Thermus caldilimi            81      \n",
       "9  Human betaherpesvirus 6B     74      \n",
       "10 Sphingobium hydrophobicum    68      \n",
       "11 Leptothrix cholodnii         60      \n",
       "12 Acinetobacter gyllenbergii   57      \n",
       "13 Flavobacterium nackdongense  57      \n",
       "14 Xanthomonas campestris       56      \n",
       "15 Flavobacterium sp. I3-2      36      \n",
       "16 Flavobacterium faecale       32      \n",
       "17 Comamonas aquatica           27      \n",
       "18 Paracoccus sp. Arc7-R13      23      \n",
       "19 Flavobacterium johnsoniae    18      \n",
       "20 Rubrivivax gelatinosus       18      \n",
       "21 Acidovorax carolinensis      17      \n",
       "22 Flavobacterium gilvum        16      \n",
       "23 Variovorax sp. HW608         16      \n",
       "24 Rhizobacter gummiphilus      15      \n",
       "25 Acidovorax sp. RAC01         12      \n",
       "26 Curvibacter sp. AEP1-3       12      "
      ]
     },
     "metadata": {},
     "output_type": "display_data"
    }
   ],
   "source": [
    "max_df <- df_filt %>% \n",
    "    filter(sample %in% plasma_ids) %>%\n",
    "    select(all_of(nc)) %>%\n",
    "    pivot_longer(everything(), names_to = \"taxa\", values_to = \"read_count\") %>%\n",
    "    group_by(taxa) %>%\n",
    "    summarise(max_count = max(read_count)) %>%\n",
    "    arrange(desc(max_count)) %>%\n",
    "    filter(max_count != 0)\n",
    "max_df\n",
    "\n",
    "\n",
    "# fwrite(max_df %>% select(sample), \"results/poore_et_al/max_read_samples.txt\", col.names = F)"
   ]
  },
  {
   "cell_type": "markdown",
   "id": "eaf9fb2b",
   "metadata": {},
   "source": [
    "### Curate taxa"
   ]
  },
  {
   "cell_type": "code",
   "execution_count": 19,
   "id": "d200c710",
   "metadata": {},
   "outputs": [],
   "source": [
    "patho_meta <- fread(\"data/kraken2_taxonomy/plusPF_20210517_species_meta.csv\") %>%\n",
    "    select(-n_map_taxon) %>%\n",
    "    mutate(taxa = gsub(\"\\\\[|\\\\]\", \"\", taxa))\n",
    "site_meta <- fread(\"results/annotations/species_site_metadata.healthy_humans.csv\")"
   ]
  },
  {
   "cell_type": "code",
   "execution_count": 20,
   "id": "0c8a87a3",
   "metadata": {},
   "outputs": [
    {
     "name": "stderr",
     "output_type": "stream",
     "text": [
      "Joining, by = \"taxa\"\n",
      "Joining, by = \"taxa\"\n"
     ]
    },
    {
     "data": {
      "text/html": [
       "<table class=\"dataframe\">\n",
       "<caption>A tibble: 26 × 5</caption>\n",
       "<thead>\n",
       "\t<tr><th scope=col>taxa</th><th scope=col>n_samples</th><th scope=col>prevalence</th><th scope=col>org_group</th><th scope=col>site</th></tr>\n",
       "\t<tr><th scope=col>&lt;chr&gt;</th><th scope=col>&lt;int&gt;</th><th scope=col>&lt;dbl&gt;</th><th scope=col>&lt;chr&gt;</th><th scope=col>&lt;chr&gt;</th></tr>\n",
       "</thead>\n",
       "<tbody>\n",
       "\t<tr><td>Toxoplasma gondii          </td><td>29</td><td>0.43283582</td><td>Other Eukaryotes</td><td>NA  </td></tr>\n",
       "\t<tr><td>Bosea sp. Tri-49           </td><td>19</td><td>0.28358209</td><td>Bacteria        </td><td>NA  </td></tr>\n",
       "\t<tr><td>Thermus caldilimi          </td><td>10</td><td>0.14925373</td><td>Bacteria        </td><td>NA  </td></tr>\n",
       "\t<tr><td>Flavobacterium nackdongense</td><td> 5</td><td>0.07462687</td><td>Bacteria        </td><td>NA  </td></tr>\n",
       "\t<tr><td>Rhodoluna lacicola         </td><td> 3</td><td>0.04477612</td><td>Bacteria        </td><td>NA  </td></tr>\n",
       "\t<tr><td>Acinetobacter sp. MYb10    </td><td> 2</td><td>0.02985075</td><td>Bacteria        </td><td>NA  </td></tr>\n",
       "\t<tr><td>Sphingobium hydrophobicum  </td><td> 2</td><td>0.02985075</td><td>Bacteria        </td><td>NA  </td></tr>\n",
       "\t<tr><td>Acidovorax carolinensis    </td><td> 1</td><td>0.01492537</td><td>Bacteria        </td><td>NA  </td></tr>\n",
       "\t<tr><td>Acidovorax sp. RAC01       </td><td> 1</td><td>0.01492537</td><td>Bacteria        </td><td>NA  </td></tr>\n",
       "\t<tr><td>Acinetobacter dispersus    </td><td> 1</td><td>0.01492537</td><td>Bacteria        </td><td>NA  </td></tr>\n",
       "\t<tr><td>Acinetobacter gyllenbergii </td><td> 1</td><td>0.01492537</td><td>Bacteria        </td><td>NA  </td></tr>\n",
       "\t<tr><td>Acinetobacter lwoffii      </td><td> 1</td><td>0.01492537</td><td>Bacteria        </td><td>skin</td></tr>\n",
       "\t<tr><td>Comamonas aquatica         </td><td> 1</td><td>0.01492537</td><td>Bacteria        </td><td>NA  </td></tr>\n",
       "\t<tr><td>Curvibacter sp. AEP1-3     </td><td> 1</td><td>0.01492537</td><td>Bacteria        </td><td>NA  </td></tr>\n",
       "\t<tr><td>Flavobacterium faecale     </td><td> 1</td><td>0.01492537</td><td>Bacteria        </td><td>NA  </td></tr>\n",
       "\t<tr><td>Flavobacterium gilvum      </td><td> 1</td><td>0.01492537</td><td>Bacteria        </td><td>NA  </td></tr>\n",
       "\t<tr><td>Flavobacterium johnsoniae  </td><td> 1</td><td>0.01492537</td><td>Bacteria        </td><td>NA  </td></tr>\n",
       "\t<tr><td>Flavobacterium sp. I3-2    </td><td> 1</td><td>0.01492537</td><td>Bacteria        </td><td>NA  </td></tr>\n",
       "\t<tr><td>Human betaherpesvirus 6B   </td><td> 1</td><td>0.01492537</td><td>Viruses         </td><td>NA  </td></tr>\n",
       "\t<tr><td>Leptothrix cholodnii       </td><td> 1</td><td>0.01492537</td><td>Bacteria        </td><td>NA  </td></tr>\n",
       "\t<tr><td>Paracoccus sp. Arc7-R13    </td><td> 1</td><td>0.01492537</td><td>Bacteria        </td><td>NA  </td></tr>\n",
       "\t<tr><td>Pseudomonas yamanorum      </td><td> 1</td><td>0.01492537</td><td>Bacteria        </td><td>NA  </td></tr>\n",
       "\t<tr><td>Rhizobacter gummiphilus    </td><td> 1</td><td>0.01492537</td><td>Bacteria        </td><td>NA  </td></tr>\n",
       "\t<tr><td>Rubrivivax gelatinosus     </td><td> 1</td><td>0.01492537</td><td>Bacteria        </td><td>NA  </td></tr>\n",
       "\t<tr><td>Variovorax sp. HW608       </td><td> 1</td><td>0.01492537</td><td>Bacteria        </td><td>NA  </td></tr>\n",
       "\t<tr><td>Xanthomonas campestris     </td><td> 1</td><td>0.01492537</td><td>Bacteria        </td><td>NA  </td></tr>\n",
       "</tbody>\n",
       "</table>\n"
      ],
      "text/latex": [
       "A tibble: 26 × 5\n",
       "\\begin{tabular}{lllll}\n",
       " taxa & n\\_samples & prevalence & org\\_group & site\\\\\n",
       " <chr> & <int> & <dbl> & <chr> & <chr>\\\\\n",
       "\\hline\n",
       "\t Toxoplasma gondii           & 29 & 0.43283582 & Other Eukaryotes & NA  \\\\\n",
       "\t Bosea sp. Tri-49            & 19 & 0.28358209 & Bacteria         & NA  \\\\\n",
       "\t Thermus caldilimi           & 10 & 0.14925373 & Bacteria         & NA  \\\\\n",
       "\t Flavobacterium nackdongense &  5 & 0.07462687 & Bacteria         & NA  \\\\\n",
       "\t Rhodoluna lacicola          &  3 & 0.04477612 & Bacteria         & NA  \\\\\n",
       "\t Acinetobacter sp. MYb10     &  2 & 0.02985075 & Bacteria         & NA  \\\\\n",
       "\t Sphingobium hydrophobicum   &  2 & 0.02985075 & Bacteria         & NA  \\\\\n",
       "\t Acidovorax carolinensis     &  1 & 0.01492537 & Bacteria         & NA  \\\\\n",
       "\t Acidovorax sp. RAC01        &  1 & 0.01492537 & Bacteria         & NA  \\\\\n",
       "\t Acinetobacter dispersus     &  1 & 0.01492537 & Bacteria         & NA  \\\\\n",
       "\t Acinetobacter gyllenbergii  &  1 & 0.01492537 & Bacteria         & NA  \\\\\n",
       "\t Acinetobacter lwoffii       &  1 & 0.01492537 & Bacteria         & skin\\\\\n",
       "\t Comamonas aquatica          &  1 & 0.01492537 & Bacteria         & NA  \\\\\n",
       "\t Curvibacter sp. AEP1-3      &  1 & 0.01492537 & Bacteria         & NA  \\\\\n",
       "\t Flavobacterium faecale      &  1 & 0.01492537 & Bacteria         & NA  \\\\\n",
       "\t Flavobacterium gilvum       &  1 & 0.01492537 & Bacteria         & NA  \\\\\n",
       "\t Flavobacterium johnsoniae   &  1 & 0.01492537 & Bacteria         & NA  \\\\\n",
       "\t Flavobacterium sp. I3-2     &  1 & 0.01492537 & Bacteria         & NA  \\\\\n",
       "\t Human betaherpesvirus 6B    &  1 & 0.01492537 & Viruses          & NA  \\\\\n",
       "\t Leptothrix cholodnii        &  1 & 0.01492537 & Bacteria         & NA  \\\\\n",
       "\t Paracoccus sp. Arc7-R13     &  1 & 0.01492537 & Bacteria         & NA  \\\\\n",
       "\t Pseudomonas yamanorum       &  1 & 0.01492537 & Bacteria         & NA  \\\\\n",
       "\t Rhizobacter gummiphilus     &  1 & 0.01492537 & Bacteria         & NA  \\\\\n",
       "\t Rubrivivax gelatinosus      &  1 & 0.01492537 & Bacteria         & NA  \\\\\n",
       "\t Variovorax sp. HW608        &  1 & 0.01492537 & Bacteria         & NA  \\\\\n",
       "\t Xanthomonas campestris      &  1 & 0.01492537 & Bacteria         & NA  \\\\\n",
       "\\end{tabular}\n"
      ],
      "text/markdown": [
       "\n",
       "A tibble: 26 × 5\n",
       "\n",
       "| taxa &lt;chr&gt; | n_samples &lt;int&gt; | prevalence &lt;dbl&gt; | org_group &lt;chr&gt; | site &lt;chr&gt; |\n",
       "|---|---|---|---|---|\n",
       "| Toxoplasma gondii           | 29 | 0.43283582 | Other Eukaryotes | NA   |\n",
       "| Bosea sp. Tri-49            | 19 | 0.28358209 | Bacteria         | NA   |\n",
       "| Thermus caldilimi           | 10 | 0.14925373 | Bacteria         | NA   |\n",
       "| Flavobacterium nackdongense |  5 | 0.07462687 | Bacteria         | NA   |\n",
       "| Rhodoluna lacicola          |  3 | 0.04477612 | Bacteria         | NA   |\n",
       "| Acinetobacter sp. MYb10     |  2 | 0.02985075 | Bacteria         | NA   |\n",
       "| Sphingobium hydrophobicum   |  2 | 0.02985075 | Bacteria         | NA   |\n",
       "| Acidovorax carolinensis     |  1 | 0.01492537 | Bacteria         | NA   |\n",
       "| Acidovorax sp. RAC01        |  1 | 0.01492537 | Bacteria         | NA   |\n",
       "| Acinetobacter dispersus     |  1 | 0.01492537 | Bacteria         | NA   |\n",
       "| Acinetobacter gyllenbergii  |  1 | 0.01492537 | Bacteria         | NA   |\n",
       "| Acinetobacter lwoffii       |  1 | 0.01492537 | Bacteria         | skin |\n",
       "| Comamonas aquatica          |  1 | 0.01492537 | Bacteria         | NA   |\n",
       "| Curvibacter sp. AEP1-3      |  1 | 0.01492537 | Bacteria         | NA   |\n",
       "| Flavobacterium faecale      |  1 | 0.01492537 | Bacteria         | NA   |\n",
       "| Flavobacterium gilvum       |  1 | 0.01492537 | Bacteria         | NA   |\n",
       "| Flavobacterium johnsoniae   |  1 | 0.01492537 | Bacteria         | NA   |\n",
       "| Flavobacterium sp. I3-2     |  1 | 0.01492537 | Bacteria         | NA   |\n",
       "| Human betaherpesvirus 6B    |  1 | 0.01492537 | Viruses          | NA   |\n",
       "| Leptothrix cholodnii        |  1 | 0.01492537 | Bacteria         | NA   |\n",
       "| Paracoccus sp. Arc7-R13     |  1 | 0.01492537 | Bacteria         | NA   |\n",
       "| Pseudomonas yamanorum       |  1 | 0.01492537 | Bacteria         | NA   |\n",
       "| Rhizobacter gummiphilus     |  1 | 0.01492537 | Bacteria         | NA   |\n",
       "| Rubrivivax gelatinosus      |  1 | 0.01492537 | Bacteria         | NA   |\n",
       "| Variovorax sp. HW608        |  1 | 0.01492537 | Bacteria         | NA   |\n",
       "| Xanthomonas campestris      |  1 | 0.01492537 | Bacteria         | NA   |\n",
       "\n"
      ],
      "text/plain": [
       "   taxa                        n_samples prevalence org_group        site\n",
       "1  Toxoplasma gondii           29        0.43283582 Other Eukaryotes NA  \n",
       "2  Bosea sp. Tri-49            19        0.28358209 Bacteria         NA  \n",
       "3  Thermus caldilimi           10        0.14925373 Bacteria         NA  \n",
       "4  Flavobacterium nackdongense  5        0.07462687 Bacteria         NA  \n",
       "5  Rhodoluna lacicola           3        0.04477612 Bacteria         NA  \n",
       "6  Acinetobacter sp. MYb10      2        0.02985075 Bacteria         NA  \n",
       "7  Sphingobium hydrophobicum    2        0.02985075 Bacteria         NA  \n",
       "8  Acidovorax carolinensis      1        0.01492537 Bacteria         NA  \n",
       "9  Acidovorax sp. RAC01         1        0.01492537 Bacteria         NA  \n",
       "10 Acinetobacter dispersus      1        0.01492537 Bacteria         NA  \n",
       "11 Acinetobacter gyllenbergii   1        0.01492537 Bacteria         NA  \n",
       "12 Acinetobacter lwoffii        1        0.01492537 Bacteria         skin\n",
       "13 Comamonas aquatica           1        0.01492537 Bacteria         NA  \n",
       "14 Curvibacter sp. AEP1-3       1        0.01492537 Bacteria         NA  \n",
       "15 Flavobacterium faecale       1        0.01492537 Bacteria         NA  \n",
       "16 Flavobacterium gilvum        1        0.01492537 Bacteria         NA  \n",
       "17 Flavobacterium johnsoniae    1        0.01492537 Bacteria         NA  \n",
       "18 Flavobacterium sp. I3-2      1        0.01492537 Bacteria         NA  \n",
       "19 Human betaherpesvirus 6B     1        0.01492537 Viruses          NA  \n",
       "20 Leptothrix cholodnii         1        0.01492537 Bacteria         NA  \n",
       "21 Paracoccus sp. Arc7-R13      1        0.01492537 Bacteria         NA  \n",
       "22 Pseudomonas yamanorum        1        0.01492537 Bacteria         NA  \n",
       "23 Rhizobacter gummiphilus      1        0.01492537 Bacteria         NA  \n",
       "24 Rubrivivax gelatinosus       1        0.01492537 Bacteria         NA  \n",
       "25 Variovorax sp. HW608         1        0.01492537 Bacteria         NA  \n",
       "26 Xanthomonas campestris       1        0.01492537 Bacteria         NA  "
      ]
     },
     "metadata": {},
     "output_type": "display_data"
    }
   ],
   "source": [
    "prev_df <- PA_filt %>%\n",
    "    rownames_to_column(\"sample\") %>%\n",
    "    filter(sample %in% plasma_ids) %>%\n",
    "    select(all_of(nc))\n",
    "prev_plot_df <- prev_df %>% \n",
    "    pivot_longer(everything(), names_to = \"taxa\", values_to = \"presence\") %>%\n",
    "    group_by(taxa) %>%\n",
    "    summarise(n_samples = sum(presence), prevalence = sum(presence) / n()) %>%\n",
    "    arrange(desc(prevalence)) %>%\n",
    "    left_join(patho_meta) %>%\n",
    "    left_join(site_meta)\n",
    "prev_plot_df"
   ]
  },
  {
   "cell_type": "code",
   "execution_count": 21,
   "id": "3b314e31",
   "metadata": {},
   "outputs": [
    {
     "data": {
      "text/html": [
       "26"
      ],
      "text/latex": [
       "26"
      ],
      "text/markdown": [
       "26"
      ],
      "text/plain": [
       "[1] 26"
      ]
     },
     "metadata": {},
     "output_type": "display_data"
    }
   ],
   "source": [
    "n_distinct(prev_plot_df$taxa)"
   ]
  },
  {
   "cell_type": "code",
   "execution_count": 32,
   "id": "aa42564d",
   "metadata": {},
   "outputs": [
    {
     "data": {
      "image/png": "[encoded data removed]",
      "text/plain": [
       "plot without title"
      ]
     },
     "metadata": {
      "image/png": {
       "height": 420,
       "width": 420
      }
     },
     "output_type": "display_data"
    }
   ],
   "source": [
    "set.seed(66)\n",
    "pal <- distinctColorPalette(n_distinct(prev_plot_df$taxa))\n",
    "prev_plot_df %>%\n",
    "    mutate(taxa = factor(taxa, prev_plot_df$taxa)) %>%\n",
    "    ggplot(aes(x = taxa, y = prevalence * 100, fill = taxa)) +\n",
    "    geom_bar(stat = \"identity\", color = \"black\") +\n",
    "    labs(x = \"Species\", y = \"Prevalence (%)\") +\n",
    "    theme_bw() +\n",
    "    theme(text = element_text(size = 15),\n",
    "          axis.text.x = element_text(angle = 45, hjust = 1),\n",
    "          plot.margin = unit(c(0, 0, 0, 1), \"cm\"),\n",
    "          legend.position = \"none\") +\n",
    "    scale_fill_manual(values = pal)\n",
    "\n",
    "ggsave(\"results/poore_et_al/poore_species_prevalence.png\", dpi = 600, width = 8, height = 4)"
   ]
  },
  {
   "cell_type": "markdown",
   "id": "c694f528",
   "metadata": {},
   "source": [
    "## Cooccurence"
   ]
  },
  {
   "cell_type": "code",
   "execution_count": 23,
   "id": "5a5ddf8c",
   "metadata": {},
   "outputs": [],
   "source": [
    "get_graph <- function(X, corr_t) {\n",
    "    set.seed(666)\n",
    "    \n",
    "    # Run SparCC\n",
    "    sparcc.amgut <- sparcc(X)\n",
    "\n",
    "    ## Define arbitrary threshold for SparCC correlation matrix for the graph\n",
    "    sparcc.graph <- sparcc.amgut$Cor\n",
    "    sparcc.graph[abs(sparcc.graph) < corr_t] <- 0\n",
    "    diag(sparcc.graph) <- 0\n",
    "    sparcc.graph <- Matrix(sparcc.graph, sparse=TRUE)\n",
    "\n",
    "    ## Create igraph object\n",
    "    vertex.names <- setNames(seq(ncol(X)), colnames(X))\n",
    "    ig.sparcc <- adj2igraph(sparcc.graph, vertex.attr = vertex.names)\n",
    "    V(ig.sparcc)$name <- colnames(X)\n",
    "\n",
    "    # Remove edgeless vertices\n",
    "    bad.vs <- V(ig.sparcc)[degree(ig.sparcc) == 0]\n",
    "    sparcc.filt <- delete.vertices(ig.sparcc, bad.vs)\n",
    "\n",
    "    return(sparcc.filt)\n",
    "}\n",
    "\n",
    "plot_and_save <- function(g, save_path) {\n",
    "    # Color edges based on value\n",
    "    E(g)$color[E(g)$weight < 0 ] <- \"steelblue4\"\n",
    "    E(g)$color[E(g)$weight > 0 ] <- \"darkolivegreen3\"\n",
    "    \n",
    "    set.seed(666)\n",
    "    png(file = save_path,\n",
    "        width = 6.67,\n",
    "        height = 6.67,\n",
    "        units = 'in',\n",
    "        res = 300)\n",
    "\n",
    "        plot(g,\n",
    "             margin = 0,\n",
    "#              layout = layout.fruchterman.reingold(g),\n",
    "             layout = layout_in_circle(g, order = V(g)),\n",
    "             vertex.size = 8,\n",
    "             vertex.label.cex = 1,\n",
    "             vertex.label.color = \"black\",\n",
    "             vertex.frame.color = NA,\n",
    "             vertex.label.dist = 1)\n",
    "    \n",
    "    dev.off()\n",
    "}"
   ]
  },
  {
   "cell_type": "markdown",
   "id": "a0ce7582",
   "metadata": {},
   "source": [
    "### Decontaminated networks"
   ]
  },
  {
   "cell_type": "code",
   "execution_count": 24,
   "id": "c2404b1c",
   "metadata": {},
   "outputs": [],
   "source": [
    "for(corr_t in c(0.05, 0.1, 0.2, 0.3)) {\n",
    "    g <- get_graph(df_final, corr_t)\n",
    "    plot_and_save(g, str_glue(\"results/poore_et_al/cooccurence/poore_coocurrence_corr_t{corr_t}.png\"))\n",
    "}"
   ]
  },
  {
   "cell_type": "markdown",
   "id": "8d921a8f",
   "metadata": {},
   "source": [
    "### Plasma exclude controls network"
   ]
  },
  {
   "cell_type": "code",
   "execution_count": 25,
   "id": "8b27665f",
   "metadata": {},
   "outputs": [],
   "source": [
    "# corr_t <- 0.2\n",
    "# extraction_g <-  get_graph(extraction_controls, corr_t)\n",
    "# prep_g <-  get_graph(prep_controls, corr_t)\n",
    "# plasma_g <- get_graph(plasma, corr_t)"
   ]
  },
  {
   "cell_type": "code",
   "execution_count": 26,
   "id": "33129893",
   "metadata": {},
   "outputs": [],
   "source": [
    "# g <- plasma_g - prep_g - extraction_g\n",
    "\n",
    "# # Remove edgeless vertices\n",
    "# bad.vs <- V(g)[degree(g) == 0]\n",
    "# g <- delete.vertices(g, bad.vs)\n",
    "\n",
    "# plot_and_save(g, str_glue(\"results/poore_et_al/cooccurence/poore_coocurrence_plasma_minus_controls_corr_t{corr_t}.png\"))"
   ]
  },
  {
   "cell_type": "markdown",
   "id": "342ec777",
   "metadata": {},
   "source": [
    "## Parse coverage breadth"
   ]
  },
  {
   "cell_type": "code",
   "execution_count": 27,
   "id": "6acffd01",
   "metadata": {},
   "outputs": [
    {
     "data": {
      "text/html": [
       "<style>\n",
       ".list-inline {list-style: none; margin:0; padding: 0}\n",
       ".list-inline>li {display: inline-block}\n",
       ".list-inline>li:not(:last-child)::after {content: \"\\00b7\"; padding: 0 .5ex}\n",
       "</style>\n",
       "<ol class=list-inline><li>'Acinetobacter_dispersus_NZ_CP041970.1'</li><li>'Acinetobacter_FDAARGOS_724_NZ_CP054908.1'</li><li>'Actinomyces_oral_taxon_414_NZ_CP012590.1'</li><li>'Bifidobacterium_longum_NC_015067.1'</li><li>'Corynebacterium_kefirresidentii_NZ_CP067012.1'</li><li>'Cutibacterium_granulosum_NZ_LT906441.1'</li><li>'Deinococcus_ficus_NZ_CP021081.1'</li><li>'Deinococcus_NW-56_NZ_CP026516.1'</li><li>'Fusobacterium_pseudoperiodonticum_NZ_CP024702.1'</li><li>'Haemophilus_parainfluenzae_NZ_GL872339.1'</li><li>'Human_betaherpesvirus_6B_NC_000898.1'</li><li>'Lactobacillus_iners_NZ_CP045664.1'</li><li>'Lautropia_mirabilis_NZ_LR134378.1'</li><li>'Paraburkholderia_acidiphila_chr1_NZ_CP046909.1'</li><li>'Paraburkholderia_acidisoli_chr1_NZ_CP046913.1'</li><li>'Porphyromonas_gingivalis_NC_010729.1'</li><li>'Prevotella_oris_NZ_LR134384.1'</li><li>'Rothia_kristinae_NZ_NOIV01000001.1'</li><li>'Ruminococcus_gnavus_NZ_CP027002.1'</li><li>'Staphylococcus_capitis_NZ_JAJGBF010000001.1'</li><li>'Toxoplasma_gondii_GCF_000006565.2'</li></ol>\n"
      ],
      "text/latex": [
       "\\begin{enumerate*}\n",
       "\\item 'Acinetobacter\\_dispersus\\_NZ\\_CP041970.1'\n",
       "\\item 'Acinetobacter\\_FDAARGOS\\_724\\_NZ\\_CP054908.1'\n",
       "\\item 'Actinomyces\\_oral\\_taxon\\_414\\_NZ\\_CP012590.1'\n",
       "\\item 'Bifidobacterium\\_longum\\_NC\\_015067.1'\n",
       "\\item 'Corynebacterium\\_kefirresidentii\\_NZ\\_CP067012.1'\n",
       "\\item 'Cutibacterium\\_granulosum\\_NZ\\_LT906441.1'\n",
       "\\item 'Deinococcus\\_ficus\\_NZ\\_CP021081.1'\n",
       "\\item 'Deinococcus\\_NW-56\\_NZ\\_CP026516.1'\n",
       "\\item 'Fusobacterium\\_pseudoperiodonticum\\_NZ\\_CP024702.1'\n",
       "\\item 'Haemophilus\\_parainfluenzae\\_NZ\\_GL872339.1'\n",
       "\\item 'Human\\_betaherpesvirus\\_6B\\_NC\\_000898.1'\n",
       "\\item 'Lactobacillus\\_iners\\_NZ\\_CP045664.1'\n",
       "\\item 'Lautropia\\_mirabilis\\_NZ\\_LR134378.1'\n",
       "\\item 'Paraburkholderia\\_acidiphila\\_chr1\\_NZ\\_CP046909.1'\n",
       "\\item 'Paraburkholderia\\_acidisoli\\_chr1\\_NZ\\_CP046913.1'\n",
       "\\item 'Porphyromonas\\_gingivalis\\_NC\\_010729.1'\n",
       "\\item 'Prevotella\\_oris\\_NZ\\_LR134384.1'\n",
       "\\item 'Rothia\\_kristinae\\_NZ\\_NOIV01000001.1'\n",
       "\\item 'Ruminococcus\\_gnavus\\_NZ\\_CP027002.1'\n",
       "\\item 'Staphylococcus\\_capitis\\_NZ\\_JAJGBF010000001.1'\n",
       "\\item 'Toxoplasma\\_gondii\\_GCF\\_000006565.2'\n",
       "\\end{enumerate*}\n"
      ],
      "text/markdown": [
       "1. 'Acinetobacter_dispersus_NZ_CP041970.1'\n",
       "2. 'Acinetobacter_FDAARGOS_724_NZ_CP054908.1'\n",
       "3. 'Actinomyces_oral_taxon_414_NZ_CP012590.1'\n",
       "4. 'Bifidobacterium_longum_NC_015067.1'\n",
       "5. 'Corynebacterium_kefirresidentii_NZ_CP067012.1'\n",
       "6. 'Cutibacterium_granulosum_NZ_LT906441.1'\n",
       "7. 'Deinococcus_ficus_NZ_CP021081.1'\n",
       "8. 'Deinococcus_NW-56_NZ_CP026516.1'\n",
       "9. 'Fusobacterium_pseudoperiodonticum_NZ_CP024702.1'\n",
       "10. 'Haemophilus_parainfluenzae_NZ_GL872339.1'\n",
       "11. 'Human_betaherpesvirus_6B_NC_000898.1'\n",
       "12. 'Lactobacillus_iners_NZ_CP045664.1'\n",
       "13. 'Lautropia_mirabilis_NZ_LR134378.1'\n",
       "14. 'Paraburkholderia_acidiphila_chr1_NZ_CP046909.1'\n",
       "15. 'Paraburkholderia_acidisoli_chr1_NZ_CP046913.1'\n",
       "16. 'Porphyromonas_gingivalis_NC_010729.1'\n",
       "17. 'Prevotella_oris_NZ_LR134384.1'\n",
       "18. 'Rothia_kristinae_NZ_NOIV01000001.1'\n",
       "19. 'Ruminococcus_gnavus_NZ_CP027002.1'\n",
       "20. 'Staphylococcus_capitis_NZ_JAJGBF010000001.1'\n",
       "21. 'Toxoplasma_gondii_GCF_000006565.2'\n",
       "\n",
       "\n"
      ],
      "text/plain": [
       " [1] \"Acinetobacter_dispersus_NZ_CP041970.1\"          \n",
       " [2] \"Acinetobacter_FDAARGOS_724_NZ_CP054908.1\"       \n",
       " [3] \"Actinomyces_oral_taxon_414_NZ_CP012590.1\"       \n",
       " [4] \"Bifidobacterium_longum_NC_015067.1\"             \n",
       " [5] \"Corynebacterium_kefirresidentii_NZ_CP067012.1\"  \n",
       " [6] \"Cutibacterium_granulosum_NZ_LT906441.1\"         \n",
       " [7] \"Deinococcus_ficus_NZ_CP021081.1\"                \n",
       " [8] \"Deinococcus_NW-56_NZ_CP026516.1\"                \n",
       " [9] \"Fusobacterium_pseudoperiodonticum_NZ_CP024702.1\"\n",
       "[10] \"Haemophilus_parainfluenzae_NZ_GL872339.1\"       \n",
       "[11] \"Human_betaherpesvirus_6B_NC_000898.1\"           \n",
       "[12] \"Lactobacillus_iners_NZ_CP045664.1\"              \n",
       "[13] \"Lautropia_mirabilis_NZ_LR134378.1\"              \n",
       "[14] \"Paraburkholderia_acidiphila_chr1_NZ_CP046909.1\" \n",
       "[15] \"Paraburkholderia_acidisoli_chr1_NZ_CP046913.1\"  \n",
       "[16] \"Porphyromonas_gingivalis_NC_010729.1\"           \n",
       "[17] \"Prevotella_oris_NZ_LR134384.1\"                  \n",
       "[18] \"Rothia_kristinae_NZ_NOIV01000001.1\"             \n",
       "[19] \"Ruminococcus_gnavus_NZ_CP027002.1\"              \n",
       "[20] \"Staphylococcus_capitis_NZ_JAJGBF010000001.1\"    \n",
       "[21] \"Toxoplasma_gondii_GCF_000006565.2\"              "
      ]
     },
     "metadata": {},
     "output_type": "display_data"
    }
   ],
   "source": [
    "# bam_path <- \"results/poore_et_al/raw_output/bam_files\"\n",
    "# ref_path <- \"data/poore_et_al/genome_references_poore\"\n",
    "# ref_files <- list.files(ref_path, \".fasta\", full.names = F)\n",
    "# prefixes <- gsub(\".fasta\", \"\", ref_files)\n",
    "# prefixes"
   ]
  },
  {
   "cell_type": "code",
   "execution_count": 29,
   "id": "2a9c578e",
   "metadata": {},
   "outputs": [],
   "source": [
    "# morsels <- foreach (i = seq(length(prefixes))) %dopar% {\n",
    "#     prefix <- prefixes[i]\n",
    "#     bams <- list.files(str_glue(\"{bam_path}/{prefix}\"))\n",
    "#     bams <- bams[!grepl(\".bai\", bams)]\n",
    "\n",
    "#     crumbs <- foreach (j = seq(length(bams))) %do% {\n",
    "#         bam <- bams[j]\n",
    "#         id <- str_split(bam, \"_\")[[1]][1]\n",
    "#         ref <- readDNAStringSet(str_glue(\"{ref_path}/{prefixes[i]}.fasta\"))\n",
    "#         ref_length <- width(ref)\n",
    "#         params <- PileupParam(distinguish_strands = F, distinguish_nucleotides = F)\n",
    "#         pile_df <- pileup(str_glue(\"{bam_path}/{prefix}/{bam}\"), pileupParam = params)\n",
    "        \n",
    "#         n_covered1 <- pile_df %>%\n",
    "#             filter(count >= 1) %>%\n",
    "#             nrow()\n",
    "        \n",
    "#         n_covered5 <- pile_df %>%\n",
    "#             filter(count >= 5) %>%\n",
    "#             nrow()\n",
    "\n",
    "#         perc_covered1 <- n_covered1 / ref_length * 100\n",
    "#         perc_covered5 <- n_covered5 / ref_length * 100\n",
    "        \n",
    "#         taxon <- str_split(prefix, \"_\")[[1]]\n",
    "#             read_count <- df %>% \n",
    "#                 filter(sample == id) %>%\n",
    "#                 select(contains(taxon[1])) %>%\n",
    "#                 select(contains(taxon[2])) %>%\n",
    "#                 select(!contains(\"monkey\"))\n",
    "\n",
    "#         if (ncol(read_count) > 1) {\n",
    "#             read_count <- read_count %>% \n",
    "#                 select(contains(taxon[3]))\n",
    "#             if (ncol(read_count) > 1) {\n",
    "#             read_count <- read_count %>% \n",
    "#                 select(contains(paste0(\" \", taxon[4])))\n",
    "#             }\n",
    "#         }\n",
    "        \n",
    "#         if (all(dim(read_count) == 1)) {\n",
    "#             read_count <- deframe(read_count)\n",
    "#         } else {\n",
    "#             read_count <- NA\n",
    "#         }\n",
    "        \n",
    "#         return(tibble(prefix = prefix, \n",
    "#                       npm_research_id = id,\n",
    "#                       pairs_assigned = read_count,\n",
    "#                       perc_covered1 = perc_covered1,\n",
    "#                       perc_covered5 = perc_covered5))\n",
    "#     }\n",
    "    \n",
    "#     return(bind_rows(crumbs))\n",
    "# }\n",
    "\n",
    "# cov_df <- bind_rows(morsels)"
   ]
  },
  {
   "cell_type": "code",
   "execution_count": null,
   "id": "e04d1129",
   "metadata": {},
   "outputs": [],
   "source": [
    "# microbe_df <- fread(\"results/poore_et_al/raw_output/mapping_read_counts.csv\")\n",
    "# colnames(microbe_df)"
   ]
  },
  {
   "cell_type": "code",
   "execution_count": null,
   "id": "1ecbd39f",
   "metadata": {},
   "outputs": [],
   "source": [
    "# prefix_name <- microbe_df$prefix[1]\n",
    "# str_split(prefix_name, \"_\")[[1]]"
   ]
  },
  {
   "cell_type": "code",
   "execution_count": null,
   "id": "480f5385",
   "metadata": {},
   "outputs": [],
   "source": [
    "# microbe_df <- fread(\"results/poore_et_al/raw_output/mapping_read_counts.csv\")  %>%\n",
    "#     filter(pairs_mapped > 0)\n",
    "\n",
    "# colnames(microbe_df) <- c(\"prefix\", \"sample\", \"pairs_mapped\")\n",
    "\n",
    "# taxa_list <- unique(max_df$taxa)\n",
    "# taxa_morsels <- foreach(prefix_name = microbe_df$prefix) %do% {\n",
    "#     identifier1 <- str_split(prefix_name, \"_\")[[1]][1]\n",
    "#     identifier2 <- str_split(prefix_name, \"_\")[[1]][2]\n",
    "#     taxon <- taxa_list[grepl(identifier1, taxa_list) & grepl(identifier2, taxa_list)]\n",
    "#     microbe_df %>% \n",
    "#         filter(prefix == prefix_name) %>%\n",
    "#         add_column(taxa = taxon)\n",
    "# }\n",
    "\n",
    "# taxa_df <- bind_rows(taxa_morsels)\n",
    "\n",
    "# taxa_df"
   ]
  },
  {
   "cell_type": "code",
   "execution_count": null,
   "id": "545dbd17",
   "metadata": {
    "scrolled": true
   },
   "outputs": [],
   "source": [
    "# plot_df <- max_df %>%\n",
    "#     left_join(taxa_df) %>%\n",
    "#     mutate(pairs_mapped = ifelse(is.na(pairs_mapped), 0, pairs_mapped)) %>%\n",
    "#     mutate(is_mapped = ifelse(pairs_mapped > 0, T, F)) %>%\n",
    "#     arrange(desc(max_read_count))\n",
    "\n",
    "# plot_df %>%\n",
    "#     mutate(taxa = factor(taxa, plot_df$taxa)) %>%\n",
    "#     ggplot(aes(x = taxa, y = max_read_count, fill = is_mapped)) +\n",
    "#         geom_bar(stat = \"identity\") +\n",
    "#         theme(axis.text.x = element_text(angle = 45, hjust = 1),\n",
    "#               plot.margin = unit(c(0, 0, 0, 1.5), \"cm\")) +\n",
    "#         labs(x = \"Kraken2-detected species\", \n",
    "#              y = \"Kraken2 read count\",\n",
    "#              fill = \"Detected by re-mapping?\")\n",
    "\n",
    "# ggsave(\"results/poore_et_al/detected_taxa.png\", dpi = 300, height = 5, width = 8)"
   ]
  }
 ],
 "metadata": {
  "kernelspec": {
   "display_name": "R",
   "language": "R",
   "name": "ir"
  },
  "language_info": {
   "codemirror_mode": "r",
   "file_extension": ".r",
   "mimetype": "text/x-r-source",
   "name": "R",
   "pygments_lexer": "r",
   "version": "4.1.0"
  }
 },
 "nbformat": 4,
 "nbformat_minor": 5
}
