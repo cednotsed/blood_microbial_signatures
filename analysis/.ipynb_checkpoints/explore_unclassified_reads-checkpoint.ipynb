{
 "cells": [
  {
   "cell_type": "code",
   "execution_count": 1,
   "id": "c05dfd2b",
   "metadata": {
    "scrolled": true
   },
   "outputs": [
    {
     "name": "stderr",
     "output_type": "stream",
     "text": [
      "Loading required package: tidyverse\n",
      "\n",
      "Warning message in system(\"timedatectl\", intern = TRUE):\n",
      "“running command 'timedatectl' had status 1”\n",
      "── \u001b[1mAttaching packages\u001b[22m ─────────────────────────────────────────────────────────────────────────────────────────────────────────────────────────────────── tidyverse 1.3.1 ──\n",
      "\n",
      "\u001b[32m✔\u001b[39m \u001b[34mggplot2\u001b[39m 3.3.5     \u001b[32m✔\u001b[39m \u001b[34mpurrr  \u001b[39m 0.3.4\n",
      "\u001b[32m✔\u001b[39m \u001b[34mtibble \u001b[39m 3.1.3     \u001b[32m✔\u001b[39m \u001b[34mdplyr  \u001b[39m 1.0.7\n",
      "\u001b[32m✔\u001b[39m \u001b[34mtidyr  \u001b[39m 1.1.3     \u001b[32m✔\u001b[39m \u001b[34mstringr\u001b[39m 1.4.0\n",
      "\u001b[32m✔\u001b[39m \u001b[34mreadr  \u001b[39m 2.0.1     \u001b[32m✔\u001b[39m \u001b[34mforcats\u001b[39m 0.5.1\n",
      "\n",
      "── \u001b[1mConflicts\u001b[22m ────────────────────────────────────────────────────────────────────────────────────────────────────────────────────────────────────── tidyverse_conflicts() ──\n",
      "\u001b[31m✖\u001b[39m \u001b[34mdplyr\u001b[39m::\u001b[32mfilter()\u001b[39m masks \u001b[34mstats\u001b[39m::filter()\n",
      "\u001b[31m✖\u001b[39m \u001b[34mdplyr\u001b[39m::\u001b[32mlag()\u001b[39m    masks \u001b[34mstats\u001b[39m::lag()\n",
      "\n",
      "Loading required package: data.table\n",
      "\n",
      "\n",
      "Attaching package: ‘data.table’\n",
      "\n",
      "\n",
      "The following objects are masked from ‘package:dplyr’:\n",
      "\n",
      "    between, first, last\n",
      "\n",
      "\n",
      "The following object is masked from ‘package:purrr’:\n",
      "\n",
      "    transpose\n",
      "\n",
      "\n",
      "Loading required package: egg\n",
      "\n",
      "Loading required package: gridExtra\n",
      "\n",
      "\n",
      "Attaching package: ‘gridExtra’\n",
      "\n",
      "\n",
      "The following object is masked from ‘package:dplyr’:\n",
      "\n",
      "    combine\n",
      "\n",
      "\n"
     ]
    }
   ],
   "source": [
    "setwd(\"/mnt/c/Users/Cedric/Desktop/git_repos/blood_microbiome\")\n",
    "require(tidyverse)\n",
    "require(ggplot2)\n",
    "require(data.table)\n",
    "require(egg)"
   ]
  },
  {
   "cell_type": "code",
   "execution_count": 4,
   "id": "f082ae75",
   "metadata": {},
   "outputs": [
    {
     "data": {
      "text/html": [
       "<table class=\"dataframe\">\n",
       "<caption>A data.table: 6 × 12</caption>\n",
       "<thead>\n",
       "\t<tr><th scope=col>qseqid</th><th scope=col>sseqid</th><th scope=col>pident</th><th scope=col>length</th><th scope=col>mismatch</th><th scope=col>gapopen</th><th scope=col>qstart</th><th scope=col>qend</th><th scope=col>sstart</th><th scope=col>send</th><th scope=col>evalue</th><th scope=col>bitscore</th></tr>\n",
       "\t<tr><th scope=col>&lt;chr&gt;</th><th scope=col>&lt;chr&gt;</th><th scope=col>&lt;dbl&gt;</th><th scope=col>&lt;int&gt;</th><th scope=col>&lt;int&gt;</th><th scope=col>&lt;int&gt;</th><th scope=col>&lt;int&gt;</th><th scope=col>&lt;int&gt;</th><th scope=col>&lt;int&gt;</th><th scope=col>&lt;int&gt;</th><th scope=col>&lt;dbl&gt;</th><th scope=col>&lt;dbl&gt;</th></tr>\n",
       "</thead>\n",
       "<tbody>\n",
       "\t<tr><td>k141_423</td><td>UniRef50_A0A1M7G649|684   </td><td>78.9</td><td> 90</td><td>19</td><td>0</td><td>89</td><td>358</td><td> 9</td><td> 98</td><td>1.61e-41</td><td>144</td></tr>\n",
       "\t<tr><td>k141_423</td><td>UniRef50_UPI000EB2D0C2|513</td><td>73.0</td><td> 89</td><td>24</td><td>0</td><td>92</td><td>358</td><td>21</td><td>109</td><td>2.22e-37</td><td>131</td></tr>\n",
       "\t<tr><td>k141_423</td><td>UniRef50_A0A094X678|831   </td><td>64.5</td><td>110</td><td>35</td><td>1</td><td>41</td><td>358</td><td> 6</td><td>115</td><td>3.29e-37</td><td>134</td></tr>\n",
       "\t<tr><td>k141_423</td><td>UniRef50_A0A379LRG2|468   </td><td>67.0</td><td> 91</td><td>30</td><td>0</td><td>86</td><td>358</td><td> 8</td><td> 98</td><td>6.67e-36</td><td>127</td></tr>\n",
       "\t<tr><td>k141_423</td><td>UniRef50_A0A2V6JHL1|312   </td><td>61.5</td><td>104</td><td>31</td><td>1</td><td>71</td><td>355</td><td> 1</td><td>104</td><td>3.33e-35</td><td>124</td></tr>\n",
       "\t<tr><td>k141_423</td><td>UniRef50_A0A009JIU1|471   </td><td>59.6</td><td> 94</td><td>38</td><td>0</td><td>77</td><td>358</td><td> 5</td><td> 98</td><td>5.58e-35</td><td>125</td></tr>\n",
       "</tbody>\n",
       "</table>\n"
      ],
      "text/latex": [
       "A data.table: 6 × 12\n",
       "\\begin{tabular}{llllllllllll}\n",
       " qseqid & sseqid & pident & length & mismatch & gapopen & qstart & qend & sstart & send & evalue & bitscore\\\\\n",
       " <chr> & <chr> & <dbl> & <int> & <int> & <int> & <int> & <int> & <int> & <int> & <dbl> & <dbl>\\\\\n",
       "\\hline\n",
       "\t k141\\_423 & UniRef50\\_A0A1M7G649\\textbar{}684    & 78.9 &  90 & 19 & 0 & 89 & 358 &  9 &  98 & 1.61e-41 & 144\\\\\n",
       "\t k141\\_423 & UniRef50\\_UPI000EB2D0C2\\textbar{}513 & 73.0 &  89 & 24 & 0 & 92 & 358 & 21 & 109 & 2.22e-37 & 131\\\\\n",
       "\t k141\\_423 & UniRef50\\_A0A094X678\\textbar{}831    & 64.5 & 110 & 35 & 1 & 41 & 358 &  6 & 115 & 3.29e-37 & 134\\\\\n",
       "\t k141\\_423 & UniRef50\\_A0A379LRG2\\textbar{}468    & 67.0 &  91 & 30 & 0 & 86 & 358 &  8 &  98 & 6.67e-36 & 127\\\\\n",
       "\t k141\\_423 & UniRef50\\_A0A2V6JHL1\\textbar{}312    & 61.5 & 104 & 31 & 1 & 71 & 355 &  1 & 104 & 3.33e-35 & 124\\\\\n",
       "\t k141\\_423 & UniRef50\\_A0A009JIU1\\textbar{}471    & 59.6 &  94 & 38 & 0 & 77 & 358 &  5 &  98 & 5.58e-35 & 125\\\\\n",
       "\\end{tabular}\n"
      ],
      "text/markdown": [
       "\n",
       "A data.table: 6 × 12\n",
       "\n",
       "| qseqid &lt;chr&gt; | sseqid &lt;chr&gt; | pident &lt;dbl&gt; | length &lt;int&gt; | mismatch &lt;int&gt; | gapopen &lt;int&gt; | qstart &lt;int&gt; | qend &lt;int&gt; | sstart &lt;int&gt; | send &lt;int&gt; | evalue &lt;dbl&gt; | bitscore &lt;dbl&gt; |\n",
       "|---|---|---|---|---|---|---|---|---|---|---|---|\n",
       "| k141_423 | UniRef50_A0A1M7G649|684    | 78.9 |  90 | 19 | 0 | 89 | 358 |  9 |  98 | 1.61e-41 | 144 |\n",
       "| k141_423 | UniRef50_UPI000EB2D0C2|513 | 73.0 |  89 | 24 | 0 | 92 | 358 | 21 | 109 | 2.22e-37 | 131 |\n",
       "| k141_423 | UniRef50_A0A094X678|831    | 64.5 | 110 | 35 | 1 | 41 | 358 |  6 | 115 | 3.29e-37 | 134 |\n",
       "| k141_423 | UniRef50_A0A379LRG2|468    | 67.0 |  91 | 30 | 0 | 86 | 358 |  8 |  98 | 6.67e-36 | 127 |\n",
       "| k141_423 | UniRef50_A0A2V6JHL1|312    | 61.5 | 104 | 31 | 1 | 71 | 355 |  1 | 104 | 3.33e-35 | 124 |\n",
       "| k141_423 | UniRef50_A0A009JIU1|471    | 59.6 |  94 | 38 | 0 | 77 | 358 |  5 |  98 | 5.58e-35 | 125 |\n",
       "\n"
      ],
      "text/plain": [
       "  qseqid   sseqid                     pident length mismatch gapopen qstart\n",
       "1 k141_423 UniRef50_A0A1M7G649|684    78.9    90    19       0       89    \n",
       "2 k141_423 UniRef50_UPI000EB2D0C2|513 73.0    89    24       0       92    \n",
       "3 k141_423 UniRef50_A0A094X678|831    64.5   110    35       1       41    \n",
       "4 k141_423 UniRef50_A0A379LRG2|468    67.0    91    30       0       86    \n",
       "5 k141_423 UniRef50_A0A2V6JHL1|312    61.5   104    31       1       71    \n",
       "6 k141_423 UniRef50_A0A009JIU1|471    59.6    94    38       0       77    \n",
       "  qend sstart send evalue   bitscore\n",
       "1 358   9      98  1.61e-41 144     \n",
       "2 358  21     109  2.22e-37 131     \n",
       "3 358   6     115  3.29e-37 134     \n",
       "4 358   8      98  6.67e-36 127     \n",
       "5 355   1     104  3.33e-35 124     \n",
       "6 358   5      98  5.58e-35 125     "
      ]
     },
     "metadata": {},
     "output_type": "display_data"
    }
   ],
   "source": [
    "blastout <- fread(\"results/unclassified_read_assembly/MUX10275.WHB7521.blastx_uniref50/MUX10275.WHB7521.blastx_uniref50.tsv\")\n",
    "colnames(blastout) <- c(\"qseqid\",\"sseqid\",\"pident\",\"length\",\"mismatch\",\n",
    "                        \"gapopen\", \"qstart\", \"qend\", \"sstart\", \"send\",\n",
    "                        \"evalue\", \"bitscore\")\n"
   ]
  },
  {
   "cell_type": "code",
   "execution_count": 14,
   "id": "d11c2698",
   "metadata": {},
   "outputs": [],
   "source": [
    "parsed <- blastout %>% \n",
    "    separate(sseqid, into = c(\"accession\", NA), sep = \"\\\\|\") %>%\n",
    "    arrange(desc(pident)) %>%"
   ]
  },
  {
   "cell_type": "markdown",
   "id": "2e3c1417",
   "metadata": {},
   "source": [
    "#### For retrieving entry names in UniProt"
   ]
  },
  {
   "cell_type": "code",
   "execution_count": 17,
   "id": "3746dd45",
   "metadata": {},
   "outputs": [],
   "source": [
    "# fwrite(parsed %>% select(accession), \n",
    "#        \"results/unclassified_read_assembly/MUX10275.WHB7521.blastx_uniref50/hit_accessions.txt\", \n",
    "#        col.names = F)"
   ]
  },
  {
   "cell_type": "code",
   "execution_count": 23,
   "id": "3c26d0dc",
   "metadata": {
    "scrolled": false
   },
   "outputs": [
    {
     "data": {
      "text/html": [
       "<table class=\"dataframe\">\n",
       "<caption>A data.table: 6 × 9</caption>\n",
       "<thead>\n",
       "\t<tr><th scope=col>accession</th><th scope=col>V2</th><th scope=col>protein_name</th><th scope=col>Size</th><th scope=col>Cluster members</th><th scope=col>organisms</th><th scope=col>Length</th><th scope=col>Identity</th><th scope=col>lowest_common_taxon</th></tr>\n",
       "\t<tr><th scope=col>&lt;chr&gt;</th><th scope=col>&lt;chr&gt;</th><th scope=col>&lt;chr&gt;</th><th scope=col>&lt;int&gt;</th><th scope=col>&lt;chr&gt;</th><th scope=col>&lt;chr&gt;</th><th scope=col>&lt;int&gt;</th><th scope=col>&lt;chr&gt;</th><th scope=col>&lt;chr&gt;</th></tr>\n",
       "</thead>\n",
       "<tbody>\n",
       "\t<tr><td>UniRef50_A0A2E9CR35</td><td>unreviewed            </td><td>Cluster: TetR family transcriptional regulator</td><td> 1</td><td>A0A2E9CR35                                                                                                                                             </td><td>Sphingobium sp.                                                                                                                                                                                                                                      </td><td>214</td><td>50%</td><td>Sphingobium sp.           </td></tr>\n",
       "\t<tr><td>UniRef50_A0A2W5BVV1</td><td>unreviewed            </td><td>Cluster: Transporter (Fragment)               </td><td> 1</td><td>A0A2W5BVV1                                                                                                                                             </td><td>Sphingomonas sanxanigenens                                                                                                                                                                                                                           </td><td> 48</td><td>50%</td><td>Sphingomonas sanxanigenens</td></tr>\n",
       "\t<tr><td>UniRef50_A0A0D1JZU1</td><td>unreviewed            </td><td>Cluster: Uncharacterized protein (Fragment)   </td><td> 1</td><td>A0A0D1JZU1                                                                                                                                             </td><td>Staphylococcus aureus                                                                                                                                                                                                                                </td><td>142</td><td>50%</td><td>Staphylococcus aureus     </td></tr>\n",
       "\t<tr><td>UniRef50_A0A0D1KDZ0</td><td>unreviewed            </td><td>Cluster: Uncharacterized protein (Fragment)   </td><td> 1</td><td>A0A0D1KDZ0                                                                                                                                             </td><td>Staphylococcus aureus                                                                                                                                                                                                                                </td><td>122</td><td>50%</td><td>Staphylococcus aureus     </td></tr>\n",
       "\t<tr><td>UniRef50_A0A0D1KDE4</td><td>unreviewed            </td><td>Cluster: Uncharacterized protein (Fragment)   </td><td> 1</td><td>A0A0D1KDE4                                                                                                                                             </td><td>Staphylococcus aureus                                                                                                                                                                                                                                </td><td>152</td><td>50%</td><td>Staphylococcus aureus     </td></tr>\n",
       "\t<tr><td>UniRef50_A0A0N1MXC1</td><td>unreviewed and UniParc</td><td>Cluster: Uncharacterized protein              </td><td>12</td><td>A0A0N1MXC1; A0A4R1VGB1; A0A521LBH3; A0A5J5HTI5; A0A560WUC8; A0A1M2ZTN5; A0A6N0XA59; A0A1Q4DW54; A0A1W9H8B1; UPI0009E7A661; UPI000788D206; UPI001668C683</td><td>Novosphingobium sp. ST904; Bosea sp.; Sphingobium limneticum; Sphingobium sp. AEW013; Sphingomonas sp. 66-10; Sphingomonas sp. CL5.1; Sphingomonas sp. 67-41; Proteobacteria bacterium SG_bin5; unclassified Sphingomonas; Novosphingobium capsulatum</td><td>338</td><td>50%</td><td>Proteobacteria            </td></tr>\n",
       "</tbody>\n",
       "</table>\n"
      ],
      "text/latex": [
       "A data.table: 6 × 9\n",
       "\\begin{tabular}{lllllllll}\n",
       " accession & V2 & protein\\_name & Size & Cluster members & organisms & Length & Identity & lowest\\_common\\_taxon\\\\\n",
       " <chr> & <chr> & <chr> & <int> & <chr> & <chr> & <int> & <chr> & <chr>\\\\\n",
       "\\hline\n",
       "\t UniRef50\\_A0A2E9CR35 & unreviewed             & Cluster: TetR family transcriptional regulator &  1 & A0A2E9CR35                                                                                                                                              & Sphingobium sp.                                                                                                                                                                                                                                       & 214 & 50\\% & Sphingobium sp.           \\\\\n",
       "\t UniRef50\\_A0A2W5BVV1 & unreviewed             & Cluster: Transporter (Fragment)                &  1 & A0A2W5BVV1                                                                                                                                              & Sphingomonas sanxanigenens                                                                                                                                                                                                                            &  48 & 50\\% & Sphingomonas sanxanigenens\\\\\n",
       "\t UniRef50\\_A0A0D1JZU1 & unreviewed             & Cluster: Uncharacterized protein (Fragment)    &  1 & A0A0D1JZU1                                                                                                                                              & Staphylococcus aureus                                                                                                                                                                                                                                 & 142 & 50\\% & Staphylococcus aureus     \\\\\n",
       "\t UniRef50\\_A0A0D1KDZ0 & unreviewed             & Cluster: Uncharacterized protein (Fragment)    &  1 & A0A0D1KDZ0                                                                                                                                              & Staphylococcus aureus                                                                                                                                                                                                                                 & 122 & 50\\% & Staphylococcus aureus     \\\\\n",
       "\t UniRef50\\_A0A0D1KDE4 & unreviewed             & Cluster: Uncharacterized protein (Fragment)    &  1 & A0A0D1KDE4                                                                                                                                              & Staphylococcus aureus                                                                                                                                                                                                                                 & 152 & 50\\% & Staphylococcus aureus     \\\\\n",
       "\t UniRef50\\_A0A0N1MXC1 & unreviewed and UniParc & Cluster: Uncharacterized protein               & 12 & A0A0N1MXC1; A0A4R1VGB1; A0A521LBH3; A0A5J5HTI5; A0A560WUC8; A0A1M2ZTN5; A0A6N0XA59; A0A1Q4DW54; A0A1W9H8B1; UPI0009E7A661; UPI000788D206; UPI001668C683 & Novosphingobium sp. ST904; Bosea sp.; Sphingobium limneticum; Sphingobium sp. AEW013; Sphingomonas sp. 66-10; Sphingomonas sp. CL5.1; Sphingomonas sp. 67-41; Proteobacteria bacterium SG\\_bin5; unclassified Sphingomonas; Novosphingobium capsulatum & 338 & 50\\% & Proteobacteria            \\\\\n",
       "\\end{tabular}\n"
      ],
      "text/markdown": [
       "\n",
       "A data.table: 6 × 9\n",
       "\n",
       "| accession &lt;chr&gt; | V2 &lt;chr&gt; | protein_name &lt;chr&gt; | Size &lt;int&gt; | Cluster members &lt;chr&gt; | organisms &lt;chr&gt; | Length &lt;int&gt; | Identity &lt;chr&gt; | lowest_common_taxon &lt;chr&gt; |\n",
       "|---|---|---|---|---|---|---|---|---|\n",
       "| UniRef50_A0A2E9CR35 | unreviewed             | Cluster: TetR family transcriptional regulator |  1 | A0A2E9CR35                                                                                                                                              | Sphingobium sp.                                                                                                                                                                                                                                       | 214 | 50% | Sphingobium sp.            |\n",
       "| UniRef50_A0A2W5BVV1 | unreviewed             | Cluster: Transporter (Fragment)                |  1 | A0A2W5BVV1                                                                                                                                              | Sphingomonas sanxanigenens                                                                                                                                                                                                                            |  48 | 50% | Sphingomonas sanxanigenens |\n",
       "| UniRef50_A0A0D1JZU1 | unreviewed             | Cluster: Uncharacterized protein (Fragment)    |  1 | A0A0D1JZU1                                                                                                                                              | Staphylococcus aureus                                                                                                                                                                                                                                 | 142 | 50% | Staphylococcus aureus      |\n",
       "| UniRef50_A0A0D1KDZ0 | unreviewed             | Cluster: Uncharacterized protein (Fragment)    |  1 | A0A0D1KDZ0                                                                                                                                              | Staphylococcus aureus                                                                                                                                                                                                                                 | 122 | 50% | Staphylococcus aureus      |\n",
       "| UniRef50_A0A0D1KDE4 | unreviewed             | Cluster: Uncharacterized protein (Fragment)    |  1 | A0A0D1KDE4                                                                                                                                              | Staphylococcus aureus                                                                                                                                                                                                                                 | 152 | 50% | Staphylococcus aureus      |\n",
       "| UniRef50_A0A0N1MXC1 | unreviewed and UniParc | Cluster: Uncharacterized protein               | 12 | A0A0N1MXC1; A0A4R1VGB1; A0A521LBH3; A0A5J5HTI5; A0A560WUC8; A0A1M2ZTN5; A0A6N0XA59; A0A1Q4DW54; A0A1W9H8B1; UPI0009E7A661; UPI000788D206; UPI001668C683 | Novosphingobium sp. ST904; Bosea sp.; Sphingobium limneticum; Sphingobium sp. AEW013; Sphingomonas sp. 66-10; Sphingomonas sp. CL5.1; Sphingomonas sp. 67-41; Proteobacteria bacterium SG_bin5; unclassified Sphingomonas; Novosphingobium capsulatum | 338 | 50% | Proteobacteria             |\n",
       "\n"
      ],
      "text/plain": [
       "  accession           V2                    \n",
       "1 UniRef50_A0A2E9CR35 unreviewed            \n",
       "2 UniRef50_A0A2W5BVV1 unreviewed            \n",
       "3 UniRef50_A0A0D1JZU1 unreviewed            \n",
       "4 UniRef50_A0A0D1KDZ0 unreviewed            \n",
       "5 UniRef50_A0A0D1KDE4 unreviewed            \n",
       "6 UniRef50_A0A0N1MXC1 unreviewed and UniParc\n",
       "  protein_name                                   Size\n",
       "1 Cluster: TetR family transcriptional regulator  1  \n",
       "2 Cluster: Transporter (Fragment)                 1  \n",
       "3 Cluster: Uncharacterized protein (Fragment)     1  \n",
       "4 Cluster: Uncharacterized protein (Fragment)     1  \n",
       "5 Cluster: Uncharacterized protein (Fragment)     1  \n",
       "6 Cluster: Uncharacterized protein               12  \n",
       "  Cluster members                                                                                                                                        \n",
       "1 A0A2E9CR35                                                                                                                                             \n",
       "2 A0A2W5BVV1                                                                                                                                             \n",
       "3 A0A0D1JZU1                                                                                                                                             \n",
       "4 A0A0D1KDZ0                                                                                                                                             \n",
       "5 A0A0D1KDE4                                                                                                                                             \n",
       "6 A0A0N1MXC1; A0A4R1VGB1; A0A521LBH3; A0A5J5HTI5; A0A560WUC8; A0A1M2ZTN5; A0A6N0XA59; A0A1Q4DW54; A0A1W9H8B1; UPI0009E7A661; UPI000788D206; UPI001668C683\n",
       "  organisms                                                                                                                                                                                                                                            \n",
       "1 Sphingobium sp.                                                                                                                                                                                                                                      \n",
       "2 Sphingomonas sanxanigenens                                                                                                                                                                                                                           \n",
       "3 Staphylococcus aureus                                                                                                                                                                                                                                \n",
       "4 Staphylococcus aureus                                                                                                                                                                                                                                \n",
       "5 Staphylococcus aureus                                                                                                                                                                                                                                \n",
       "6 Novosphingobium sp. ST904; Bosea sp.; Sphingobium limneticum; Sphingobium sp. AEW013; Sphingomonas sp. 66-10; Sphingomonas sp. CL5.1; Sphingomonas sp. 67-41; Proteobacteria bacterium SG_bin5; unclassified Sphingomonas; Novosphingobium capsulatum\n",
       "  Length Identity lowest_common_taxon       \n",
       "1 214    50%      Sphingobium sp.           \n",
       "2  48    50%      Sphingomonas sanxanigenens\n",
       "3 142    50%      Staphylococcus aureus     \n",
       "4 122    50%      Staphylococcus aureus     \n",
       "5 152    50%      Staphylococcus aureus     \n",
       "6 338    50%      Proteobacteria            "
      ]
     },
     "metadata": {},
     "output_type": "display_data"
    }
   ],
   "source": [
    "entries <-fread(\"results/unclassified_read_assembly/MUX10275.WHB7521.blastx_uniref50/uniref-yourlist_M20210903F248CABF64506F29A91F8037F07B67D1179F6D8.tab\") %>%\n",
    "    rename(accession = \"Cluster ID\", protein_name = \"Cluster name\", organisms = Organisms, lowest_common_taxon = \"Common taxon\")\n",
    "head(entries)"
   ]
  },
  {
   "cell_type": "code",
   "execution_count": 30,
   "id": "f2cbe06a",
   "metadata": {},
   "outputs": [
    {
     "data": {
      "text/html": [
       "<table class=\"dataframe\">\n",
       "<caption>A data.table: 0 × 9</caption>\n",
       "<thead>\n",
       "\t<tr><th scope=col>accession</th><th scope=col>V2</th><th scope=col>protein_name</th><th scope=col>Size</th><th scope=col>Cluster members</th><th scope=col>organisms</th><th scope=col>Length</th><th scope=col>Identity</th><th scope=col>lowest_common_taxon</th></tr>\n",
       "\t<tr><th scope=col>&lt;chr&gt;</th><th scope=col>&lt;chr&gt;</th><th scope=col>&lt;chr&gt;</th><th scope=col>&lt;int&gt;</th><th scope=col>&lt;chr&gt;</th><th scope=col>&lt;chr&gt;</th><th scope=col>&lt;int&gt;</th><th scope=col>&lt;chr&gt;</th><th scope=col>&lt;chr&gt;</th></tr>\n",
       "</thead>\n",
       "<tbody>\n",
       "</tbody>\n",
       "</table>\n"
      ],
      "text/latex": [
       "A data.table: 0 × 9\n",
       "\\begin{tabular}{lllllllll}\n",
       " accession & V2 & protein\\_name & Size & Cluster members & organisms & Length & Identity & lowest\\_common\\_taxon\\\\\n",
       " <chr> & <chr> & <chr> & <int> & <chr> & <chr> & <int> & <chr> & <chr>\\\\\n",
       "\\hline\n",
       "\\end{tabular}\n"
      ],
      "text/markdown": [
       "\n",
       "A data.table: 0 × 9\n",
       "\n",
       "| accession &lt;chr&gt; | V2 &lt;chr&gt; | protein_name &lt;chr&gt; | Size &lt;int&gt; | Cluster members &lt;chr&gt; | organisms &lt;chr&gt; | Length &lt;int&gt; | Identity &lt;chr&gt; | lowest_common_taxon &lt;chr&gt; |\n",
       "|---|---|---|---|---|---|---|---|---|\n",
       "\n"
      ],
      "text/plain": [
       "     accession V2 protein_name Size Cluster members organisms Length Identity\n",
       "     lowest_common_taxon"
      ]
     },
     "metadata": {},
     "output_type": "display_data"
    }
   ],
   "source": [
    "entries %>%\n",
    "filter(accession == \"UniRef50_A0A1Y2Q450\")"
   ]
  },
  {
   "cell_type": "code",
   "execution_count": 31,
   "id": "0c0a122b",
   "metadata": {},
   "outputs": [
    {
     "data": {
      "text/html": [
       "55810"
      ],
      "text/latex": [
       "55810"
      ],
      "text/markdown": [
       "55810"
      ],
      "text/plain": [
       "[1] 55810"
      ]
     },
     "metadata": {},
     "output_type": "display_data"
    }
   ],
   "source": [
    "length(unique(parsed$accession))"
   ]
  },
  {
   "cell_type": "code",
   "execution_count": 72,
   "id": "b8f9c7ac",
   "metadata": {},
   "outputs": [
    {
     "data": {
      "text/html": [
       "<table class=\"dataframe\">\n",
       "<caption>A data.table: 6 × 2</caption>\n",
       "<thead>\n",
       "\t<tr><th scope=col>protein_name</th><th scope=col>n</th></tr>\n",
       "\t<tr><th scope=col>&lt;chr&gt;</th><th scope=col>&lt;int&gt;</th></tr>\n",
       "</thead>\n",
       "<tbody>\n",
       "\t<tr><td>Cluster: 3-beta hydroxysteroid dehydrogenase (Fragment)</td><td>  1</td></tr>\n",
       "\t<tr><td>Cluster: Alpha-E domain-containing protein (Fragment)  </td><td>  1</td></tr>\n",
       "\t<tr><td>Cluster: Carnitine dehydratase (Fragment)              </td><td>  1</td></tr>\n",
       "\t<tr><td>Cluster: Peptidase M19, renal dipeptidase (Fragment)   </td><td>  1</td></tr>\n",
       "\t<tr><td>Cluster: Uncharacterized protein                       </td><td>  5</td></tr>\n",
       "\t<tr><td>Cluster: Uncharacterized protein (Fragment)            </td><td>107</td></tr>\n",
       "</tbody>\n",
       "</table>\n"
      ],
      "text/latex": [
       "A data.table: 6 × 2\n",
       "\\begin{tabular}{ll}\n",
       " protein\\_name & n\\\\\n",
       " <chr> & <int>\\\\\n",
       "\\hline\n",
       "\t Cluster: 3-beta hydroxysteroid dehydrogenase (Fragment) &   1\\\\\n",
       "\t Cluster: Alpha-E domain-containing protein (Fragment)   &   1\\\\\n",
       "\t Cluster: Carnitine dehydratase (Fragment)               &   1\\\\\n",
       "\t Cluster: Peptidase M19, renal dipeptidase (Fragment)    &   1\\\\\n",
       "\t Cluster: Uncharacterized protein                        &   5\\\\\n",
       "\t Cluster: Uncharacterized protein (Fragment)             & 107\\\\\n",
       "\\end{tabular}\n"
      ],
      "text/markdown": [
       "\n",
       "A data.table: 6 × 2\n",
       "\n",
       "| protein_name &lt;chr&gt; | n &lt;int&gt; |\n",
       "|---|---|\n",
       "| Cluster: 3-beta hydroxysteroid dehydrogenase (Fragment) |   1 |\n",
       "| Cluster: Alpha-E domain-containing protein (Fragment)   |   1 |\n",
       "| Cluster: Carnitine dehydratase (Fragment)               |   1 |\n",
       "| Cluster: Peptidase M19, renal dipeptidase (Fragment)    |   1 |\n",
       "| Cluster: Uncharacterized protein                        |   5 |\n",
       "| Cluster: Uncharacterized protein (Fragment)             | 107 |\n",
       "\n"
      ],
      "text/plain": [
       "  protein_name                                            n  \n",
       "1 Cluster: 3-beta hydroxysteroid dehydrogenase (Fragment)   1\n",
       "2 Cluster: Alpha-E domain-containing protein (Fragment)     1\n",
       "3 Cluster: Carnitine dehydratase (Fragment)                 1\n",
       "4 Cluster: Peptidase M19, renal dipeptidase (Fragment)      1\n",
       "5 Cluster: Uncharacterized protein                          5\n",
       "6 Cluster: Uncharacterized protein (Fragment)             107"
      ]
     },
     "metadata": {},
     "output_type": "display_data"
    }
   ],
   "source": [
    "parsed %>% \n",
    "    left_join(entries, by = \"accession\") %>%\n",
    "    filter(pident > 90, \n",
    "           length > 30, \n",
    "           !(lowest_common_taxon %in% c(\"\", NA))) %>%\n",
    "    filter(lowest_common_taxon == \"Staphylococcus aureus\") %>%\n",
    "    count(protein_name)"
   ]
  },
  {
   "cell_type": "code",
   "execution_count": 67,
   "id": "c7f49415",
   "metadata": {},
   "outputs": [
    {
     "name": "stderr",
     "output_type": "stream",
     "text": [
      "Saving 6.67 x 6.67 in image\n",
      "\n"
     ]
    }
   ],
   "source": [
    "top_hits <- parsed %>% \n",
    "    left_join(entries, by = \"accession\") %>%\n",
    "    distinct(qseqid, accession, .keep_all = T) %>%\n",
    "    filter(pident > 90, \n",
    "           length > 30, \n",
    "           !(lowest_common_taxon %in% c(\"\", NA))) %>% \n",
    "    count(lowest_common_taxon) %>%\n",
    "    mutate(lowest_common_taxon = fct_reorder(lowest_common_taxon, n, .desc = T)) %>%\n",
    "    filter(n > 1) %>%\n",
    "    ggplot(aes(x = lowest_common_taxon, y = n, fill = n)) +\n",
    "    geom_bar(stat = \"identity\") +\n",
    "    theme(axis.text.x = element_text(angle = 45, hjust = 1),\n",
    "          plot.margin = margin(0,0,0,1, \"cm\"),\n",
    "          legend.position = \"none\") +\n",
    "    labs(x = \"Lowest common taxonomic node\", y = \"No. of unique hits\")\n",
    "\n",
    "ggsave(\"results/unclassified_read_assembly/MUX10275.WHB7521.blastx_uniref50/top_hits.pid90.len30.png\", top_hits, dpi = 300)"
   ]
  },
  {
   "cell_type": "code",
   "execution_count": 28,
   "id": "32c00808",
   "metadata": {},
   "outputs": [
    {
     "data": {
      "text/html": [
       "46.6666666666667"
      ],
      "text/latex": [
       "46.6666666666667"
      ],
      "text/markdown": [
       "46.6666666666667"
      ],
      "text/plain": [
       "[1] 46.66667"
      ]
     },
     "metadata": {},
     "output_type": "display_data"
    }
   ],
   "source": [
    "(568-428) / 3"
   ]
  }
 ],
 "metadata": {
  "kernelspec": {
   "display_name": "R",
   "language": "R",
   "name": "ir"
  },
  "language_info": {
   "codemirror_mode": "r",
   "file_extension": ".r",
   "mimetype": "text/x-r-source",
   "name": "R",
   "pygments_lexer": "r",
   "version": "4.1.0"
  }
 },
 "nbformat": 4,
 "nbformat_minor": 5
}
