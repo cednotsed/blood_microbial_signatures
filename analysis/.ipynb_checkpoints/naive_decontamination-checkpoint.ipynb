{
 "cells": [
  {
   "cell_type": "markdown",
   "id": "fe3f3f5c",
   "metadata": {},
   "source": [
    "# Identication of putative contaminant taxa"
   ]
  },
  {
   "cell_type": "code",
   "execution_count": 4,
   "id": "0e2c01a7",
   "metadata": {},
   "outputs": [
    {
     "data": {
      "text/html": [
       "'/tmp/RtmpmwSFO8'"
      ],
      "text/latex": [
       "'/tmp/RtmpmwSFO8'"
      ],
      "text/markdown": [
       "'/tmp/RtmpmwSFO8'"
      ],
      "text/plain": [
       "[1] \"/tmp/RtmpmwSFO8\""
      ]
     },
     "metadata": {},
     "output_type": "display_data"
    }
   ],
   "source": [
    "tempdir()"
   ]
  },
  {
   "cell_type": "code",
   "execution_count": 1,
   "id": "440f3650",
   "metadata": {},
   "outputs": [
    {
     "name": "stderr",
     "output_type": "stream",
     "text": [
      "Loading required package: tidyverse\n",
      "\n",
      "Warning message:\n",
      "“Your system is mis-configured: ‘/etc/localtime’ is not a symlink”\n",
      "Warning message:\n",
      "“It is strongly recommended to set envionment variable TZ to ‘Asia/Singapore’ (or equivalent)”\n",
      "── \u001b[1mAttaching packages\u001b[22m ─────────────────────────────────────────────────────────────────────────────── tidyverse 1.3.1 ──\n",
      "\n",
      "\u001b[32m✔\u001b[39m \u001b[34mggplot2\u001b[39m 3.3.4     \u001b[32m✔\u001b[39m \u001b[34mpurrr  \u001b[39m 0.3.4\n",
      "\u001b[32m✔\u001b[39m \u001b[34mtibble \u001b[39m 3.1.2     \u001b[32m✔\u001b[39m \u001b[34mdplyr  \u001b[39m 1.0.7\n",
      "\u001b[32m✔\u001b[39m \u001b[34mtidyr  \u001b[39m 1.1.3     \u001b[32m✔\u001b[39m \u001b[34mstringr\u001b[39m 1.4.0\n",
      "\u001b[32m✔\u001b[39m \u001b[34mreadr  \u001b[39m 1.4.0     \u001b[32m✔\u001b[39m \u001b[34mforcats\u001b[39m 0.5.1\n",
      "\n",
      "── \u001b[1mConflicts\u001b[22m ────────────────────────────────────────────────────────────────────────────────── tidyverse_conflicts() ──\n",
      "\u001b[31m✖\u001b[39m \u001b[34mdplyr\u001b[39m::\u001b[32mfilter()\u001b[39m masks \u001b[34mstats\u001b[39m::filter()\n",
      "\u001b[31m✖\u001b[39m \u001b[34mdplyr\u001b[39m::\u001b[32mlag()\u001b[39m    masks \u001b[34mstats\u001b[39m::lag()\n",
      "\n",
      "Loading required package: data.table\n",
      "\n",
      "\n",
      "Attaching package: ‘data.table’\n",
      "\n",
      "\n",
      "The following objects are masked from ‘package:dplyr’:\n",
      "\n",
      "    between, first, last\n",
      "\n",
      "\n",
      "The following object is masked from ‘package:purrr’:\n",
      "\n",
      "    transpose\n",
      "\n",
      "\n",
      "Loading required package: egg\n",
      "\n",
      "Loading required package: gridExtra\n",
      "\n",
      "\n",
      "Attaching package: ‘gridExtra’\n",
      "\n",
      "\n",
      "The following object is masked from ‘package:dplyr’:\n",
      "\n",
      "    combine\n",
      "\n",
      "\n"
     ]
    }
   ],
   "source": [
    "setwd(\"/home/projects/14001280/PROJECTS/blood_microbiome/\")\n",
    "require(tidyverse)\n",
    "require(ggplot2)\n",
    "require(data.table)\n",
    "require(egg)"
   ]
  },
  {
   "cell_type": "markdown",
   "id": "beebb9f2",
   "metadata": {},
   "source": [
    "### Load data"
   ]
  },
  {
   "cell_type": "code",
   "execution_count": 2,
   "id": "d8cd3ad6",
   "metadata": {},
   "outputs": [
    {
     "ename": "ERROR",
     "evalue": "Error in fread(file_path): File 'data/temp_files/07_abundance_matrix/subset_100.G.tsv' does not exist or is non-readable. getwd()=='/home/projects/14001280/PROJECTS/blood_microbiome'\n",
     "output_type": "error",
     "traceback": [
      "Error in fread(file_path): File 'data/temp_files/07_abundance_matrix/subset_100.G.tsv' does not exist or is non-readable. getwd()=='/home/projects/14001280/PROJECTS/blood_microbiome'\nTraceback:\n",
      "1. load_data(\"data/temp_files/07_abundance_matrix/subset_100.G.tsv\")",
      "2. fread(file_path) %>% separate(sample, into = c(NA, \"npm_research_id\"), \n .     sep = \"_\")   # at line 2-3 of file <text>",
      "3. separate(., sample, into = c(NA, \"npm_research_id\"), sep = \"_\")",
      "4. fread(file_path)",
      "5. stop(\"File '\", file, \"' does not exist or is non-readable. getwd()=='\", \n .     getwd(), \"'\")"
     ]
    }
   ],
   "source": [
    "load_data <- function(file_path) {\n",
    "    df <- fread(file_path) %>%\n",
    "        separate(sample, into = c(NA, \"npm_research_id\"), sep = \"_\")\n",
    "    return(df)\n",
    "}\n",
    "\n",
    "genus_df <- load_data(\"data/temp_files/07_abundance_matrix/subset_100.G.tsv\")\n",
    "species_df <- load_data(\"data/temp_files/07_abundance_matrix/subset_100.S.tsv\")"
   ]
  },
  {
   "cell_type": "code",
   "execution_count": null,
   "id": "4b5109a4",
   "metadata": {
    "scrolled": true
   },
   "outputs": [],
   "source": [
    "nrow(genus_df) == nrow(species_df)\n",
    "meta <- fread(\"data/SG10K_Health_metadata.n10714.16March2021.parsed.csv\") %>%\n",
    "    filter(npm_research_id %in% genus_df$npm_research_id)\n",
    "nrow(meta)\n",
    "head(meta)"
   ]
  },
  {
   "cell_type": "markdown",
   "id": "edd21482",
   "metadata": {},
   "source": [
    "### Explore metadata"
   ]
  },
  {
   "cell_type": "code",
   "execution_count": null,
   "id": "8f0622a3",
   "metadata": {
    "scrolled": true
   },
   "outputs": [],
   "source": [
    "colnames(meta)"
   ]
  },
  {
   "cell_type": "code",
   "execution_count": null,
   "id": "4eddcfb8",
   "metadata": {},
   "outputs": [],
   "source": [
    "plots <- list()\n",
    "columns <- c(\"source_cohort\", \"extraction_kit\", \"library_prep_kit\", \"vendor_sequencing_centre\", \n",
    "             \"instrument_id\", \"plate_name\", \"run_id\", \n",
    "             \"hiseq_xtm_sbs_kit_300_cycles_v2_box_1of_2_lot\", \"hiseq_xtm_sbs_kit_300_cycles_v2_box_2_of_2_lot\",\n",
    "             \"hiseq_xtm_pe_cluster_kit_cbottm_v2_box_1_of_2_lot\", \"hiseq_xtm_pe_cluster_kit_cbottm_v2_box_2_of_2_lot\",\n",
    "             \"hiseq_xtm_flow_cell_v25_lot\", \"originalsupplierid\")\n",
    "for (column in columns) {\n",
    "    plt <- meta %>%\n",
    "        mutate(across(everything(), as.character)) %>%\n",
    "        select(all_of(column)) %>%\n",
    "        group_by_at(column) %>%\n",
    "        summarise(n = n()) %>%\n",
    "        ggplot(aes_string(x = column, y = \"n\", fill = column)) +\n",
    "            geom_bar(stat = \"identity\") +\n",
    "            theme(axis.text.x = element_text(angle = 45, hjust = 1)) +\n",
    "            geom_text(aes_string(label = \"n\"))\n",
    "    plots[[column]] <- plt\n",
    "}"
   ]
  },
  {
   "cell_type": "code",
   "execution_count": null,
   "id": "e6a433f0",
   "metadata": {},
   "outputs": [],
   "source": [
    "length(plots)"
   ]
  },
  {
   "cell_type": "code",
   "execution_count": null,
   "id": "75380020",
   "metadata": {},
   "outputs": [],
   "source": [
    "plots"
   ]
  },
  {
   "cell_type": "markdown",
   "id": "7cc197cf",
   "metadata": {},
   "source": [
    "### Parse sample identifiers"
   ]
  },
  {
   "cell_type": "code",
   "execution_count": null,
   "id": "8e634f34",
   "metadata": {},
   "outputs": [],
   "source": [
    "ncol(meta) + 1"
   ]
  },
  {
   "cell_type": "markdown",
   "id": "dd3d4b53",
   "metadata": {},
   "source": [
    "### Retrieve samples that are present"
   ]
  },
  {
   "cell_type": "code",
   "execution_count": null,
   "id": "56fc31fe",
   "metadata": {},
   "outputs": [],
   "source": [
    "retrieve_samples <- function(df) {\n",
    "    df <- meta %>%\n",
    "        inner_join(df, by = \"npm_research_id\")\n",
    "    X <- df %>%\n",
    "        select(colnames(.)[(ncol(meta) + 1):ncol(.)]) %>%\n",
    "        as_tibble()\n",
    "    Y <- df %>% \n",
    "        select(colnames(.)[1:ncol(meta)]) %>%\n",
    "        as_tibble()\n",
    "    \n",
    "    return(list(X, Y))\n",
    "}\n",
    "dat_genus <- retrieve_samples(genus_df)\n",
    "X_genus <- dat_genus[[1]]\n",
    "Y_genus <- dat_genus[[2]]\n",
    "\n",
    "dat_species <- retrieve_samples(species_df)\n",
    "X_species <- dat_species[[1]]\n",
    "Y_species <- dat_species[[2]]"
   ]
  },
  {
   "cell_type": "markdown",
   "id": "4ae0f401",
   "metadata": {},
   "source": [
    "### Normalise"
   ]
  },
  {
   "cell_type": "code",
   "execution_count": null,
   "id": "395802a4",
   "metadata": {},
   "outputs": [],
   "source": [
    "normalise <- function(df) {\n",
    "    RA_df <- t(apply(df, 1, function(x) {x / sum(x) * 100}))\n",
    "    return(as_tibble(RA_df))\n",
    "}\n",
    "\n",
    "X_genus <- normalise(X_genus)\n",
    "X_species <- normalise(X_species)"
   ]
  },
  {
   "cell_type": "code",
   "execution_count": null,
   "id": "98cea474",
   "metadata": {
    "scrolled": true
   },
   "outputs": [],
   "source": [
    "head(X_genus)\n",
    "Y_genus"
   ]
  },
  {
   "cell_type": "markdown",
   "id": "d79597b1",
   "metadata": {},
   "source": [
    "### Remove low abundance taxa"
   ]
  },
  {
   "cell_type": "markdown",
   "id": "94ab7f59",
   "metadata": {},
   "source": [
    "Please check that normalised values are 0-100% and not 0-1. Here we want to remove taxa that have less than a 1% maximum rel abundance across samples"
   ]
  },
  {
   "cell_type": "code",
   "execution_count": null,
   "id": "26131cd4",
   "metadata": {},
   "outputs": [],
   "source": [
    "remove_low_abundance <- function(df, threshold) {\n",
    "    remove_df <- df %>%\n",
    "        pivot_longer(everything(), names_to = \"rank\", values_to = \"abundance\") %>%\n",
    "        group_by(rank) %>%\n",
    "        summarise(max_abundance = max(abundance)) %>%\n",
    "        filter(max_abundance > threshold)\n",
    "    \n",
    "    to_keep <- remove_df$rank\n",
    "    print(paste0(length(to_keep), \"/\", ncol(df), \" kept at threshold of \", threshold))\n",
    "    return(df %>% select(all_of(to_keep)))\n",
    "}\n",
    "\n",
    "X_genus <- remove_low_abundance(X_genus, 0.5)\n",
    "X_species <- remove_low_abundance(X_species, 0.5)\n"
   ]
  },
  {
   "cell_type": "markdown",
   "id": "ac73a749",
   "metadata": {},
   "source": [
    "### Test for batch effects"
   ]
  },
  {
   "cell_type": "code",
   "execution_count": null,
   "id": "7f29e65a",
   "metadata": {
    "scrolled": true
   },
   "outputs": [],
   "source": [
    "test_batch_effects <- function(X, Y) {\n",
    "    meta_cols <- colnames(meta)[grep(\"kit|flow_cell|instrument_id|source\", colnames(meta))]\n",
    "    taxa <- colnames(X)\n",
    "\n",
    "    result_df <- tibble()\n",
    "\n",
    "    for (col in meta_cols) {\n",
    "        for (taxon in taxa) {\n",
    "#             X <- X_genus\n",
    "#             Y <- Y_genus\n",
    "#             taxon <- taxa[6]\n",
    "#             col <- meta_cols[5]\n",
    "            x <- X[, taxon]\n",
    "            y <- Y[, col]\n",
    "            test_df <- cbind(x, y)\n",
    "\n",
    "            # Remove samples with unknown or NA metadata\n",
    "            test_filt <- test_df %>%\n",
    "                filter(!grepl(\"unknown\", get(col), ignore.case = T) & !is.na(get(col)))\n",
    "            \n",
    "            # Remove factors that do not have any reads\n",
    "            reads <- test_filt %>%\n",
    "                group_by(get(col)) %>%\n",
    "                summarise(max_reads = max(get(taxon))) %>%\n",
    "                filter(max_reads != 0)\n",
    "            \n",
    "            to_keep <- reads$`get(col)`\n",
    "            \n",
    "            if (length(to_keep) >= 2) {\n",
    "                test_filt <- test_filt %>%\n",
    "                    filter(get(col) %in% to_keep)\n",
    "\n",
    "                # One-way ANOVA\n",
    "                a <- aov(as_vector(test_filt[, taxon]) ~ as_vector(test_filt[, col]))\n",
    "                summ <- unlist(summary(a))\n",
    "                deg_f <- summ[\"Df1\"]\n",
    "                F_stat <- summ[\"F value1\"]\n",
    "                p_val <- summ[\"Pr(>F)1\"]\n",
    "\n",
    "                # Save results\n",
    "                morsel <- tibble(taxon = taxon, meta_name = col, df = deg_f, F_stat = F_stat, p_val = p_val)\n",
    "                result_df <- result_df %>% bind_rows(morsel)\n",
    "            } else {\n",
    "#                 print(paste(\"Skipped\", taxon, col))\n",
    "#                 reads\n",
    "#                 to_keep\n",
    "                \n",
    "            }\n",
    "        }\n",
    "    }\n",
    "    \n",
    "    return(result_df)\n",
    "}\n",
    "\n",
    "genus_result <- test_batch_effects(X_genus, Y_genus)\n",
    "species_result <- test_batch_effects(X_species, Y_species)"
   ]
  },
  {
   "cell_type": "code",
   "execution_count": null,
   "id": "07fdf885",
   "metadata": {},
   "outputs": [],
   "source": [
    "genus_result\n",
    "species_result"
   ]
  },
  {
   "cell_type": "markdown",
   "id": "4fbddc52",
   "metadata": {},
   "source": [
    "### Retain genera whose smallest p-value is greater than t"
   ]
  },
  {
   "cell_type": "markdown",
   "id": "8814e026",
   "metadata": {},
   "source": [
    "we might want to correct the threshold for multiple testing"
   ]
  },
  {
   "cell_type": "code",
   "execution_count": null,
   "id": "0bccbb53",
   "metadata": {},
   "outputs": [],
   "source": [
    "t <- 0.05"
   ]
  },
  {
   "cell_type": "code",
   "execution_count": null,
   "id": "da532bb2",
   "metadata": {
    "scrolled": true
   },
   "outputs": [],
   "source": [
    "length(unique(genus_result$taxon))\n",
    "length(unique(species_result$taxon))"
   ]
  },
  {
   "cell_type": "code",
   "execution_count": null,
   "id": "81d38fb6",
   "metadata": {},
   "outputs": [],
   "source": [
    "filter_results <- function(result_df) {\n",
    "    filt_df <- result_df %>% \n",
    "        group_by(taxon) %>%\n",
    "        summarise(smallest_p_val = min(p_val)) %>%\n",
    "        filter(smallest_p_val > t) %>%\n",
    "        mutate(log_p_val = -log(smallest_p_val, base = 10), \n",
    "               taxon = fct_reorder(taxon, log_p_val, .desc = F))\n",
    "    return(filt_df)\n",
    "}\n",
    "\n",
    "plot_genus <- filter_results(genus_result)\n",
    "plot_species <- filter_results(species_result)"
   ]
  },
  {
   "cell_type": "code",
   "execution_count": null,
   "id": "b34fac5f",
   "metadata": {},
   "outputs": [],
   "source": [
    "length(unique(plot_genus$taxon))\n",
    "length(unique(plot_species$taxon))"
   ]
  },
  {
   "cell_type": "markdown",
   "id": "7471e126",
   "metadata": {},
   "source": [
    "### Visualise results"
   ]
  },
  {
   "cell_type": "code",
   "execution_count": null,
   "id": "2702c1db",
   "metadata": {},
   "outputs": [],
   "source": [
    "plot_results <- function(filt_df, taxon_name, subset) {    \n",
    "    if (is.na(subset)) {\n",
    "        to_plot <- filt_df\n",
    "    } else {\n",
    "        to_plot <- filt_df %>%\n",
    "        arrange(log_p_val) %>%\n",
    "        slice(1:subset)\n",
    "    }\n",
    "    \n",
    "    plt <- to_plot %>%\n",
    "        ggplot(aes(x = taxon, y = log_p_val, fill = log_p_val)) +\n",
    "        geom_bar(stat = \"identity\") + \n",
    "        labs(x = taxon_name, y = \"-lg(minimum p-value)\") +\n",
    "        theme(axis.text.x = element_text(angle = 45, hjust = 1),\n",
    "              legend.position = \"none\",\n",
    "              plot.margin = margin(t = 0, r = 0, b = 0, l = 2, unit = \"cm\"))\n",
    "    \n",
    "    return(plt)\n",
    "}\n",
    "\n",
    "plot_results(plot_genus, \"Genus\", NA)\n",
    "plot_results(plot_species, \"Species\", 30)"
   ]
  },
  {
   "cell_type": "markdown",
   "id": "cfb71228",
   "metadata": {},
   "source": [
    "## Sanity check"
   ]
  },
  {
   "cell_type": "markdown",
   "id": "caf5bfc1",
   "metadata": {},
   "source": [
    "#### Genera flagged as non-contaminants"
   ]
  },
  {
   "cell_type": "code",
   "execution_count": null,
   "id": "bd405410",
   "metadata": {
    "scrolled": true
   },
   "outputs": [],
   "source": [
    "join_results <- function(df, plot_df) {\n",
    "    max_df <- df %>%\n",
    "        pivot_longer(everything(), names_to = \"rank\", values_to = \"abundance\") %>%\n",
    "        group_by(rank) %>%\n",
    "        summarise(max_abundance = max(abundance))\n",
    "\n",
    "    plot_df %>%\n",
    "        rename(rank = taxon) %>%\n",
    "        left_join(max_df, \"rank\") %>%\n",
    "        arrange(log_p_val)\n",
    "}\n",
    "\n",
    "join_results(X_genus, plot_genus)\n",
    "join_results(X_species, plot_species)"
   ]
  },
  {
   "cell_type": "markdown",
   "id": "c9211eff",
   "metadata": {},
   "source": [
    "#### Genera flagged as contaminants"
   ]
  },
  {
   "cell_type": "code",
   "execution_count": null,
   "id": "90352513",
   "metadata": {
    "scrolled": true
   },
   "outputs": [],
   "source": [
    "genus_result %>%\n",
    "    filter(meta_name == \"source_cohort\") %>%\n",
    "    arrange(p_val)"
   ]
  },
  {
   "cell_type": "markdown",
   "id": "1355b7bb",
   "metadata": {},
   "source": [
    "#### Plot per-batch RA of contaminants vs. non-contaminants"
   ]
  },
  {
   "cell_type": "code",
   "execution_count": null,
   "id": "51752def",
   "metadata": {},
   "outputs": [],
   "source": [
    "plot_sanity_plot <- function(tax) {\n",
    "    print(tax)\n",
    "    temp_plt <- cbind(X_genus, Y_genus) %>%\n",
    "        mutate(log_abundance = log(get(tax) + 0.0001)) %>%\n",
    "        ggplot(aes(x = source_cohort, y = get(tax), fill = source_cohort)) + \n",
    "        geom_point() +\n",
    "        geom_boxplot(alpha = 0.5) +\n",
    "        labs(x = \"Source cohort\", y = paste(tax, \"% abundance\")) +\n",
    "        theme(legend.position = \"none\",\n",
    "          axis.text.x = element_text(angle = 45, hjust = 1),\n",
    "          text = element_text(size = 15))\n",
    "    return(temp_plt)\n",
    "}"
   ]
  },
  {
   "cell_type": "code",
   "execution_count": null,
   "id": "165bed49",
   "metadata": {},
   "outputs": [],
   "source": [
    "plot_sanity_plot(\"Pseudomonas\")\n",
    "plot_sanity_plot(\"Klebsiella\")\n",
    "plot_sanity_plot(\"Brachybacterium\")\n"
   ]
  },
  {
   "cell_type": "code",
   "execution_count": null,
   "id": "ad41d578",
   "metadata": {},
   "outputs": [],
   "source": [
    "plot_log_sanity_plot <- function(tax) {\n",
    "    print(tax)\n",
    "    temp_plt <- cbind(X_genus, Y_genus) %>%\n",
    "        mutate(log_abundance = log(get(tax) + 0.0001, base = 10)) %>%\n",
    "        ggplot(aes(x = source_cohort, y = log_abundance, fill = source_cohort)) + \n",
    "        geom_point() +\n",
    "        geom_boxplot(alpha = 0.5) +\n",
    "        labs(x = \"Source cohort\", y = paste(tax, \"lg(% abundance + 0.0001)\")) +\n",
    "        theme(legend.position = \"none\",\n",
    "          axis.text.x = element_text(angle = 45, hjust = 1),\n",
    "          text = element_text(size = 15))\n",
    "    return(temp_plt)\n",
    "}\n",
    "\n",
    "plot_log_sanity_plot(\"Klebsiella\")"
   ]
  },
  {
   "cell_type": "code",
   "execution_count": null,
   "id": "66f385d8",
   "metadata": {},
   "outputs": [],
   "source": []
  },
  {
   "cell_type": "code",
   "execution_count": null,
   "id": "fdbc176c",
   "metadata": {},
   "outputs": [],
   "source": []
  },
  {
   "cell_type": "code",
   "execution_count": null,
   "id": "083fc8c3",
   "metadata": {},
   "outputs": [],
   "source": []
  },
  {
   "cell_type": "code",
   "execution_count": null,
   "id": "4e4a03ad",
   "metadata": {},
   "outputs": [],
   "source": []
  },
  {
   "cell_type": "code",
   "execution_count": null,
   "id": "fa970a80",
   "metadata": {},
   "outputs": [],
   "source": []
  },
  {
   "cell_type": "code",
   "execution_count": null,
   "id": "86d69fb8",
   "metadata": {},
   "outputs": [],
   "source": []
  }
 ],
 "metadata": {
  "kernelspec": {
   "display_name": "R",
   "language": "R",
   "name": "ir"
  },
  "language_info": {
   "codemirror_mode": "r",
   "file_extension": ".r",
   "mimetype": "text/x-r-source",
   "name": "R",
   "pygments_lexer": "r",
   "version": "4.1.0"
  }
 },
 "nbformat": 4,
 "nbformat_minor": 5
}
