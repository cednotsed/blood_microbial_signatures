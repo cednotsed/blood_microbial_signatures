{
 "cells": [
  {
   "cell_type": "markdown",
   "id": "f799b42b",
   "metadata": {},
   "source": [
    "# Associations between microbial presence/absence and patient info"
   ]
  },
  {
   "cell_type": "code",
   "execution_count": 1,
   "id": "bc15bd3e",
   "metadata": {
    "scrolled": true
   },
   "outputs": [
    {
     "name": "stderr",
     "output_type": "stream",
     "text": [
      "Loading required package: tidyverse\n",
      "\n",
      "Warning message in system(\"timedatectl\", intern = TRUE):\n",
      "“running command 'timedatectl' had status 1”\n",
      "── \u001b[1mAttaching packages\u001b[22m ─────────────────────────────────────────────────────────────────────────────── tidyverse 1.3.1 ──\n",
      "\n",
      "\u001b[32m✔\u001b[39m \u001b[34mggplot2\u001b[39m 3.3.5     \u001b[32m✔\u001b[39m \u001b[34mpurrr  \u001b[39m 0.3.4\n",
      "\u001b[32m✔\u001b[39m \u001b[34mtibble \u001b[39m 3.1.6     \u001b[32m✔\u001b[39m \u001b[34mdplyr  \u001b[39m 1.0.7\n",
      "\u001b[32m✔\u001b[39m \u001b[34mtidyr  \u001b[39m 1.1.4     \u001b[32m✔\u001b[39m \u001b[34mstringr\u001b[39m 1.4.0\n",
      "\u001b[32m✔\u001b[39m \u001b[34mreadr  \u001b[39m 2.1.0     \u001b[32m✔\u001b[39m \u001b[34mforcats\u001b[39m 0.5.1\n",
      "\n",
      "── \u001b[1mConflicts\u001b[22m ────────────────────────────────────────────────────────────────────────────────── tidyverse_conflicts() ──\n",
      "\u001b[31m✖\u001b[39m \u001b[34mdplyr\u001b[39m::\u001b[32mfilter()\u001b[39m masks \u001b[34mstats\u001b[39m::filter()\n",
      "\u001b[31m✖\u001b[39m \u001b[34mdplyr\u001b[39m::\u001b[32mlag()\u001b[39m    masks \u001b[34mstats\u001b[39m::lag()\n",
      "\n",
      "Loading required package: data.table\n",
      "\n",
      "\n",
      "Attaching package: ‘data.table’\n",
      "\n",
      "\n",
      "The following objects are masked from ‘package:dplyr’:\n",
      "\n",
      "    between, first, last\n",
      "\n",
      "\n",
      "The following object is masked from ‘package:purrr’:\n",
      "\n",
      "    transpose\n",
      "\n",
      "\n",
      "Loading required package: foreach\n",
      "\n",
      "\n",
      "Attaching package: ‘foreach’\n",
      "\n",
      "\n",
      "The following objects are masked from ‘package:purrr’:\n",
      "\n",
      "    accumulate, when\n",
      "\n",
      "\n",
      "Loading required package: RColorBrewer\n",
      "\n",
      "Loading required package: ggpubr\n",
      "\n"
     ]
    }
   ],
   "source": [
    "setwd(\"/mnt/c/Users/Cedric/Desktop/git_repos/blood_microbial_signatures\")\n",
    "require(tidyverse)\n",
    "require(ggplot2)\n",
    "require(data.table)\n",
    "require(foreach)\n",
    "require(RColorBrewer)\n",
    "require(ggpubr)"
   ]
  },
  {
   "cell_type": "markdown",
   "id": "8876a48d",
   "metadata": {},
   "source": [
    "### Load  data"
   ]
  },
  {
   "cell_type": "code",
   "execution_count": 2,
   "id": "9d77d78f",
   "metadata": {
    "scrolled": true
   },
   "outputs": [],
   "source": [
    "X <- fread(\"results/decontamination/prevalence_RA0.005_read10.csv\")\n",
    "nc <- fread(\"results/decontamination/curated_n117_global_decontamination_stats.csv\")\n",
    "nc_filt <- nc %>%\n",
    "    filter(site != \"\")\n",
    "X <- X %>% select(all_of(c(\"npm_research_id\", unique(nc$taxa))))\n",
    "X2 <- X %>% select(all_of(c(\"npm_research_id\", unique(nc_filt$taxa))))\n",
    "RA_df <- fread(\"results/decontamination/RA_matrix_n117.global_decontaminated.zeroed.csv\")\n",
    "\n",
    "meta <- fread(\"data/20210125_v3_release/20210203_all_traits_v3.txt\")\n",
    "meta2 <- fread(\"data/SG10K_Health_metadata.n10714.16March2021.parsed.csv\")\n",
    "\n",
    "n <- gsub(\"[^0-9A-Za-z///' ]\", \" \", colnames(meta))\n",
    "n <- tolower(n)\n",
    "n <- gsub(\" \", \"_\", n)\n",
    "colnames(meta) <- n\n",
    "\n",
    "# fwrite(meta, \"data/20210125_v3_release/20210203_all_traits_v3.parsed.csv\")"
   ]
  },
  {
   "cell_type": "markdown",
   "id": "d5c10e01",
   "metadata": {},
   "source": [
    "### Group sites"
   ]
  },
  {
   "cell_type": "code",
   "execution_count": 3,
   "id": "0a4fc1ee",
   "metadata": {},
   "outputs": [
    {
     "data": {
      "text/html": [
       "<style>\n",
       ".list-inline {list-style: none; margin:0; padding: 0}\n",
       ".list-inline>li {display: inline-block}\n",
       ".list-inline>li:not(:last-child)::after {content: \"\\00b7\"; padding: 0 .5ex}\n",
       "</style>\n",
       "<ol class=list-inline><li>'gut'</li><li>'oral'</li><li>'genitourinary tract'</li><li>'skin'</li><li>'blood'</li><li>'respiratory tract'</li><li>'eye'</li></ol>\n"
      ],
      "text/latex": [
       "\\begin{enumerate*}\n",
       "\\item 'gut'\n",
       "\\item 'oral'\n",
       "\\item 'genitourinary tract'\n",
       "\\item 'skin'\n",
       "\\item 'blood'\n",
       "\\item 'respiratory tract'\n",
       "\\item 'eye'\n",
       "\\end{enumerate*}\n"
      ],
      "text/markdown": [
       "1. 'gut'\n",
       "2. 'oral'\n",
       "3. 'genitourinary tract'\n",
       "4. 'skin'\n",
       "5. 'blood'\n",
       "6. 'respiratory tract'\n",
       "7. 'eye'\n",
       "\n",
       "\n"
      ],
      "text/plain": [
       "[1] \"gut\"                 \"oral\"                \"genitourinary tract\"\n",
       "[4] \"skin\"                \"blood\"               \"respiratory tract\"  \n",
       "[7] \"eye\"                "
      ]
     },
     "metadata": {},
     "output_type": "display_data"
    }
   ],
   "source": [
    "site_list <- unique(nc$site)\n",
    "site_list <- site_list[site_list != \"\"]\n",
    "site_list"
   ]
  },
  {
   "cell_type": "code",
   "execution_count": 4,
   "id": "196bba29",
   "metadata": {},
   "outputs": [],
   "source": [
    "site_morsels <- foreach(site_name = site_list) %do% {\n",
    "    taxa_list <- (nc %>% filter(site == site_name))$taxa\n",
    "    X_site_temp <- X %>%\n",
    "        column_to_rownames(\"npm_research_id\") %>%\n",
    "        select(all_of(taxa_list)) %>%\n",
    "        mutate(combined = rowSums(.), .before = 1)  %>%\n",
    "        mutate(combined = ifelse(combined > 0, 1, 0)) %>%\n",
    "        select(combined)\n",
    "\n",
    "    colnames(X_site_temp) <- site_name\n",
    "    X_site_temp\n",
    "}\n",
    "\n",
    "site_morsels2 <- foreach(site_name = site_list) %do% {\n",
    "    taxa_list <- (nc %>% filter(site == site_name))$taxa\n",
    "    X_site_temp <- X2 %>%\n",
    "        column_to_rownames(\"npm_research_id\") %>%\n",
    "        select(all_of(taxa_list)) %>%\n",
    "        mutate(combined = rowSums(.), .before = 1)  %>%\n",
    "        mutate(combined = ifelse(combined > 0, 1, 0)) %>%\n",
    "        select(combined)\n",
    "\n",
    "    colnames(X_site_temp) <- site_name\n",
    "    X_site_temp\n",
    "}\n",
    "\n",
    "X_meta <- bind_cols(site_morsels) %>%\n",
    "    rownames_to_column(\"npm_research_id\") %>%\n",
    "    left_join(meta, \"npm_research_id\") %>%\n",
    "    left_join(meta2, \"npm_research_id\") %>%\n",
    "    filter(date_blood == date_biomarker) %>%\n",
    "    filter(date_blood != \"\",\n",
    "           !is.na(date_blood),\n",
    "           !is.na(date_biomarker),\n",
    "           date_biomarker != \"\") %>%\n",
    "    as_tibble()\n",
    "\n",
    "X2_meta <- bind_cols(site_morsels2) %>%\n",
    "    rownames_to_column(\"npm_research_id\") %>%\n",
    "    left_join(meta, \"npm_research_id\") %>%\n",
    "    left_join(meta2, \"npm_research_id\") %>%\n",
    "    filter(date_blood == date_biomarker) %>%\n",
    "    filter(date_blood != \"\",\n",
    "           !is.na(date_blood),\n",
    "           !is.na(date_biomarker),\n",
    "           date_biomarker != \"\") %>%\n",
    "    as_tibble()"
   ]
  },
  {
   "cell_type": "markdown",
   "id": "f621ff2f",
   "metadata": {},
   "source": [
    "### Add microbial presence column"
   ]
  },
  {
   "cell_type": "code",
   "execution_count": 5,
   "id": "a587b430",
   "metadata": {},
   "outputs": [],
   "source": [
    "row_sums <- X %>% \n",
    "    column_to_rownames(\"npm_research_id\") %>%\n",
    "    rowSums()\n",
    "\n",
    "presence_df <- tibble(npm_research_id = names(row_sums), n_present = row_sums) %>%\n",
    "    mutate(presence = ifelse(n_present > 0, 1, 0))\n",
    "\n",
    "X_meta <- X_meta %>%\n",
    "    left_join(presence_df, \"npm_research_id\")\n",
    "\n",
    "\n",
    "row_sums2 <- X2 %>% \n",
    "    column_to_rownames(\"npm_research_id\") %>%\n",
    "    rowSums()\n",
    "\n",
    "presence_df2 <- tibble(npm_research_id = names(row_sums2), n_present = row_sums2) %>%\n",
    "    mutate(presence = ifelse(n_present > 0, 1, 0))\n",
    "\n",
    "X2_meta <- X2_meta %>%\n",
    "    left_join(presence_df2, \"npm_research_id\")"
   ]
  },
  {
   "cell_type": "markdown",
   "id": "5888c987",
   "metadata": {},
   "source": [
    "### Add unhealthy parameters"
   ]
  },
  {
   "cell_type": "markdown",
   "id": "4e34b123",
   "metadata": {},
   "source": [
    "HBP: https://www.cdc.gov/bloodpressure/about.htm\n",
    "Tg: https://www.healthxchange.sg/heart-lungs/heart-disease/how-triglycerides-affect-your-heart#:~:text=Borderline%20high%20%E2%80%94%20150%20to%20199,5.7%20mmol%2FL%20or%20above)\n",
    "Age: https://www.ncbi.nlm.nih.gov/pmc/articles/PMC4282767/#B12"
   ]
  },
  {
   "cell_type": "code",
   "execution_count": 6,
   "id": "8050c593",
   "metadata": {},
   "outputs": [
    {
     "data": {
      "text/html": [
       "5.3"
      ],
      "text/latex": [
       "5.3"
      ],
      "text/markdown": [
       "5.3"
      ],
      "text/plain": [
       "[1] 5.3"
      ]
     },
     "metadata": {},
     "output_type": "display_data"
    }
   ],
   "source": [
    "median(X_meta$tc_mmol_l, na.rm = T)"
   ]
  },
  {
   "cell_type": "code",
   "execution_count": 7,
   "id": "d5c994d4",
   "metadata": {},
   "outputs": [
    {
     "name": "stderr",
     "output_type": "stream",
     "text": [
      "`summarise()` has grouped output by 'condition'. You can override using the `.groups` argument.\n"
     ]
    },
    {
     "data": {
      "image/png": "[encoded data removed]",
      "text/plain": [
       "plot without title"
      ]
     },
     "metadata": {
      "image/png": {
       "height": 420,
       "width": 420
      }
     },
     "output_type": "display_data"
    }
   ],
   "source": [
    "X_parsed <- X_meta %>%\n",
    "    mutate(is_fat = case_when(is.na(bmi) ~ NA,\n",
    "                              bmi > 30 ~ T,\n",
    "                              bmi <= 30 ~ F),\n",
    "           is_tg = case_when(is.na(tg_mmol_l) ~ NA,\n",
    "                          tg_mmol_l > 2.3 ~ T,\n",
    "                          tg_mmol_l <= 2.3 ~ F), \n",
    "           is_old = case_when(is.na(age) ~ NA,\n",
    "                              age >= 65 ~ T,\n",
    "                              age < 65 ~ F),\n",
    "           is_hbp = case_when(is.na(sbp) | is.na(dbp) ~ NA,\n",
    "                              sbp >= 130 & dbp >= 80 ~ T,\n",
    "                              TRUE ~ F),\n",
    "           is_hc = case_when(is.na(tc_mmol_l) ~ NA,\n",
    "                             tc_mmol_l >= 6.2 ~ T,\n",
    "                             tc_mmol_l < 6.2 ~ F))\n",
    "\n",
    "X_parsed %>%\n",
    "    select(is_fat, is_tg, is_old, is_hbp, is_hc) %>%\n",
    "    pivot_longer(everything(), names_to = \"condition\", values_to = \"value\") %>%\n",
    "    group_by(condition, value) %>%\n",
    "    summarise(n = n()) %>%\n",
    "    ggplot(aes(x = condition, y = n, fill = value)) +\n",
    "    geom_bar(stat = \"identity\") +\n",
    "    labs(x = \"condition\", y = \"No. of samples\")"
   ]
  },
  {
   "cell_type": "code",
   "execution_count": 8,
   "id": "78dae62c",
   "metadata": {},
   "outputs": [],
   "source": [
    "var_list <- c(\"is_fat\", \"is_old\", \"is_hbp\", \"is_tg\", \"is_hc\")"
   ]
  },
  {
   "cell_type": "code",
   "execution_count": 9,
   "id": "84364276",
   "metadata": {},
   "outputs": [],
   "source": [
    "remove_cohorts <- function(X_parsed, var_name) {\n",
    "    # Remove cohorts with low numbers of phenotype\n",
    "    to_remove <- X_parsed %>% \n",
    "        group_by_at(c(var_name, \"site_supplying_sample\")) %>%\n",
    "        summarise(prevalence = sum(presence) / n(), n_pos = sum(presence), n_total = n()) %>%\n",
    "        filter(n_total < 30,\n",
    "               !is.na(get(var_name)))\n",
    "\n",
    "    to_remove <- c(to_remove$site_supplying_sample, \"GUSTO\", \"SSMP\")\n",
    "\n",
    "    X_filt <- X_parsed %>%\n",
    "        mutate(site_supplying_sample = factor(site_supplying_sample)) %>%\n",
    "        filter(!is.na(get(var_name)),\n",
    "               !(site_supplying_sample %in% to_remove))\n",
    "    return(X_filt)\n",
    "}"
   ]
  },
  {
   "cell_type": "markdown",
   "id": "39a484b5",
   "metadata": {},
   "source": [
    "### Fisher's exact test"
   ]
  },
  {
   "cell_type": "code",
   "execution_count": 10,
   "id": "bc0f24bb",
   "metadata": {},
   "outputs": [
    {
     "name": "stderr",
     "output_type": "stream",
     "text": [
      "`summarise()` has grouped output by 'is_fat'. You can override using the `.groups` argument.\n",
      "`summarise()` has grouped output by 'is_old'. You can override using the `.groups` argument.\n",
      "`summarise()` has grouped output by 'is_hbp'. You can override using the `.groups` argument.\n",
      "`summarise()` has grouped output by 'is_tg'. You can override using the `.groups` argument.\n",
      "`summarise()` has grouped output by 'is_hc'. You can override using the `.groups` argument.\n"
     ]
    }
   ],
   "source": [
    "fisher_morsels <- foreach(var_name = var_list) %do% {\n",
    "    # Remove cohorts with low numbers of phenotype\n",
    "    X_filt <- remove_cohorts(X_parsed, var_name)\n",
    "    cohort_list <- unique(X_filt$site_supplying_sample)\n",
    "    \n",
    "    foreach(cohort_name = cohort_list) %do% {\n",
    "        X_filt2 <- X_filt %>% filter(site_supplying_sample == cohort_name)\n",
    "        \n",
    "        obs_test <- fisher.test(X_filt2$presence, deframe(X_filt2[var_name]))\n",
    "        obs_OR <- obs_test$estimate\n",
    "        obs_pval <- obs_test$p.value\n",
    "        n_true <- sum(X_filt2[var_name], na.rm = T)\n",
    "        n_false <- sum(!X_filt2[var_name], na.rm = T)\n",
    "        return(tibble(cohort = cohort_name, \n",
    "                      variable = var_name, \n",
    "                      OR = obs_OR, \n",
    "                      p.val = obs_pval,\n",
    "                      phenotype_breakdown = str_glue(\"{n_true}T/{n_false}F\")))\n",
    "    }\n",
    "}\n",
    "\n",
    "fisher_results <- bind_rows(fisher_morsels)\n"
   ]
  },
  {
   "cell_type": "code",
   "execution_count": 11,
   "id": "4c8220f7",
   "metadata": {},
   "outputs": [],
   "source": [
    "final_results <- fisher_results %>%\n",
    "    mutate(p.adj = p.adjust(p.val, method = \"BH\"))\n",
    "fwrite(final_results, \"results/phenotype_associations/derived_phenotype_associations.csv\")"
   ]
  }
 ],
 "metadata": {
  "kernelspec": {
   "display_name": "R",
   "language": "R",
   "name": "ir"
  },
  "language_info": {
   "codemirror_mode": "r",
   "file_extension": ".r",
   "mimetype": "text/x-r-source",
   "name": "R",
   "pygments_lexer": "r",
   "version": "4.1.0"
  }
 },
 "nbformat": 4,
 "nbformat_minor": 5
}
