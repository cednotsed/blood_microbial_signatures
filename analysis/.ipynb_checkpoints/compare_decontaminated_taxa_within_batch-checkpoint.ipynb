{
 "cells": [
  {
   "cell_type": "markdown",
   "id": "f799b42b",
   "metadata": {},
   "source": [
    "# Visualising taxa abundance"
   ]
  },
  {
   "cell_type": "code",
   "execution_count": null,
   "id": "bc15bd3e",
   "metadata": {},
   "outputs": [
    {
     "name": "stderr",
     "output_type": "stream",
     "text": [
      "Loading required package: tidyverse\n",
      "\n"
     ]
    }
   ],
   "source": [
    "setwd(\"/mnt/c/Users/Cedric/Desktop/git_repos/blood_microbiome\")\n",
    "require(tidyverse)\n",
    "require(ggplot2)\n",
    "require(data.table)\n",
    "require(foreach)\n",
    "require(ggpubr)\n",
    "require(scales)\n",
    "require(ggsci)\n",
    "require(ggforce)\n",
    "require(ggpubr)\n"
   ]
  },
  {
   "cell_type": "markdown",
   "id": "26c2b6bc",
   "metadata": {},
   "source": [
    "### Load non-contaminant list"
   ]
  },
  {
   "cell_type": "code",
   "execution_count": null,
   "id": "11fa0bb2",
   "metadata": {},
   "outputs": [],
   "source": [
    "# After thresholding\n",
    "prev_df <- fread(\"results/decontamination/prevalence_RA0.005_read10.csv\")\n",
    "original_list <- colnames(prev_df)\n",
    "original_list <- original_list[original_list != \"npm_research_id\"]\n",
    "length(original_list)\n",
    "\n",
    "# Differential prevalence\n",
    "diff_prev_nc <- read.csv(\"results/decontamination/diff_prev_V3/noncontaminants.RA0.005.read_threshold10.max_prev0.25.fold_diff2.txt\")$taxa\n",
    "diff_prev_c <- read.csv(\"results/decontamination/diff_prev_V3/contaminants.RA0.005.read_threshold10.max_prev0.25.fold_diff2.txt\")$taxa\n",
    "length(diff_prev_nc)\n",
    "length(diff_prev_c)\n",
    "\n",
    "# Correlation filter\n",
    "corr_nc <- read.csv(\"results/decontamination/correlation_decontamination/nc.diff_prev_V3.RA0.005.read_threshold10.max_prev0.25.fold_diff2.corr_t0.7.within_batch.S.n9999.txt\")$non_contaminant_taxon\n",
    "corr_c <- read.csv(\"results/decontamination/correlation_decontamination/contam.diff_prev_V3.RA0.005.read_threshold10.max_prev0.25.fold_diff2.corr_t0.7.within_batch.S.n9999.txt\")$contaminant\n",
    "\n",
    "length(corr_nc)\n",
    "length(corr_c)\n",
    "\n",
    "# Simple batch filter\n",
    "batch_nc <- read.csv(\"results/decontamination/simple_batch_decontam/nc.corr_t0.7.within_batch.txt\")$taxa\n",
    "length(batch_nc)\n",
    "\n",
    "# After max count filter\n",
    "species_read_zeroed <- fread(\"results/decontamination/read_matrix_n124.global_decontaminated.zeroed.csv\")\n",
    "final_list <- colnames(species_read_zeroed)\n",
    "final_list <- final_list[final_list != \"npm_research_id\"]\n",
    "length(final_list)"
   ]
  },
  {
   "cell_type": "code",
   "execution_count": null,
   "id": "44b8e710",
   "metadata": {},
   "outputs": [],
   "source": [
    "length(batch_nc)"
   ]
  },
  {
   "cell_type": "markdown",
   "id": "5aa32233",
   "metadata": {},
   "source": [
    "## Compare to host range list (Shaw et al., 2020)"
   ]
  },
  {
   "cell_type": "markdown",
   "id": "e28361e0",
   "metadata": {},
   "source": [
    "Original paper: https://onlinelibrary.wiley.com/doi/full/10.1111/mec.15463\n",
    "\n",
    "Data: https://figshare.com/articles/dataset/The_phylogenetic_range_of_bacterial_and_viral_pathogens_of_vertebrates_dataset_and_supplementary_material/8262779"
   ]
  },
  {
   "cell_type": "markdown",
   "id": "f6b660c1",
   "metadata": {},
   "source": [
    "### Get human infection list"
   ]
  },
  {
   "cell_type": "code",
   "execution_count": null,
   "id": "89add5e9",
   "metadata": {
    "scrolled": true
   },
   "outputs": [],
   "source": [
    "host_df <- read.csv(\"data/PathogenVsHostDB-2019-05-30.csv\", row.names = 1)\n",
    "human_df <- host_df %>% \n",
    "    select(Species, Human) %>%\n",
    "    distinct()\n",
    "\n",
    "before_df <- tibble(Species = original_list) %>%\n",
    "    separate(Species, into = c(\"Genus\", NA, NA), sep = \" \", remove = F) %>%\n",
    "    mutate(Genus = ifelse(grepl(\"virus\", Species, ignore.case = T), NA, Genus)) %>%\n",
    "    left_join(human_df)\n",
    "\n",
    "fwrite(before_df, \"results/decontamination/comparison/shaw_human_list_raw.csv\")"
   ]
  },
  {
   "cell_type": "markdown",
   "id": "183a1fde",
   "metadata": {},
   "source": [
    "### After manual literature review"
   ]
  },
  {
   "cell_type": "code",
   "execution_count": null,
   "id": "1c6dd12c",
   "metadata": {},
   "outputs": [],
   "source": [
    "human_df_parsed <- fread(\"results/decontamination/comparison/shaw_human_list_parsed.csv\") %>%\n",
    "    select(-Genus)\n",
    "\n",
    "before_df_parsed <- tibble(Species = original_list) %>%\n",
    "    separate(Species, into = c(\"Genus\", NA, NA), sep = \" \", remove = F) %>%\n",
    "    mutate(Genus = ifelse(grepl(\"virus\", Species, ignore.case = T), NA, Genus)) %>%\n",
    "    left_join(human_df_parsed)\n",
    "\n",
    "after_df <- tibble(Species = final_list) %>%\n",
    "    separate(Species, into = c(\"Genus\", NA, NA), sep = \" \", remove = F) %>%\n",
    "    mutate(Genus = ifelse(grepl(\"virus\", Species, ignore.case = T), NA, Genus)) %>%\n",
    "    left_join(human_df_parsed)"
   ]
  },
  {
   "cell_type": "code",
   "execution_count": null,
   "id": "83ff0a74",
   "metadata": {},
   "outputs": [],
   "source": [
    "get_shaw_circle <- function(df, title) {\n",
    "    df %>% \n",
    "        mutate(Human = ifelse(is.na(Human), \"Unclassified\", Human)) %>%\n",
    "        mutate(Human = factor(Human, levels = c(\"Yes\", \"No\", \"Unclassified\"))) %>%\n",
    "        ggplot(aes(x = 1, fill = Human)) +\n",
    "            geom_bar(aes(y = ..count..)) +\n",
    "            coord_polar(\"y\") +\n",
    "            theme_minimal() +\n",
    "            labs(title = title) +\n",
    "            theme(axis.title.x = element_blank(),\n",
    "                  axis.title.y = element_blank(),\n",
    "                  panel.border = element_blank(),\n",
    "                  panel.grid = element_blank(),\n",
    "                  axis.ticks = element_blank(),\n",
    "                  axis.text = element_blank()) +\n",
    "            scale_fill_manual(limits = c(\"Yes\", \"No\", \"Unclassified\"),\n",
    "                          values = c(\"palegreen4\", \"deepskyblue4\", \"grey\"))\n",
    "}\n",
    "\n",
    "ggarrange(get_shaw_circle(before_df_parsed, \"Before decontamination\"), \n",
    "          get_shaw_circle(after_df, \"After decontamination\"), \n",
    "          common.legend = T)"
   ]
  },
  {
   "cell_type": "code",
   "execution_count": null,
   "id": "6f334cbe",
   "metadata": {},
   "outputs": [],
   "source": [
    "get_shaw_circle <- function(df, title) {\n",
    "    rpie <- 1\n",
    "    rlabel <-  0.6 * rpie\n",
    "    df %>% \n",
    "        mutate(Human = factor(Human, levels = c(\"Yes\", \"No\"))) %>%\n",
    "        group_by(Human) %>%\n",
    "        summarise(cnt = n(), total = nrow(df)) %>%\n",
    "        mutate(end_angle = 2 * pi * cumsum(cnt) / total,      # ending angle for each pie slice\n",
    "               start_angle = lag(end_angle, default = 0),   # starting angle for each pie slice\n",
    "               mid_angle = 0.5 * (start_angle + end_angle)) %>%  # middle of each pie slice, for the text label\n",
    "        ggplot() +\n",
    "        geom_arc_bar(aes(x0 = 0, y0 = 0, r0 = 0, r = rpie,\n",
    "                    start = start_angle, end = end_angle, fill = Human)) +\n",
    "        geom_text(aes(x = rlabel * sin(mid_angle), y = rlabel * cos(mid_angle), label = cnt),\n",
    "                    hjust = 0.5, vjust = 1, size = 20) +\n",
    "        coord_fixed() +\n",
    "        scale_x_continuous(limits = c(-1, 1), name = \"\", breaks = NULL, labels = NULL) +\n",
    "        scale_y_continuous(limits = c(-1, 1), name = \"\", breaks = NULL, labels = NULL) +\n",
    "        scale_fill_manual(limits = c(\"Yes\", \"No\"),\n",
    "                          values = c(\"palegreen4\", \"deepskyblue4\")) +\n",
    "        theme(panel.background = element_rect(fill = \"white\"),\n",
    "              plot.margin=grid::unit(c(0,0,0,0),\"cm\"),\n",
    "              axis.text = element_blank(),\n",
    "              axis.title = element_blank(),\n",
    "              axis.ticks=element_blank(),\n",
    "              legend.position = \"none\",\n",
    "              axis.ticks.length = unit(0, \"pt\")) +\n",
    "        labs(x = NULL, y = NULL, fill = NULL) +\n",
    "        labs(fill = \"Human-associated?\", title = title)\n",
    "\n",
    "}\n",
    "\n",
    "ggarrange(get_shaw_circle(before_df_parsed, \"Before decontamination\"), \n",
    "          get_shaw_circle(after_df, \"After decontamination\"), \n",
    "          common.legend = T, legend = \"left\")\n",
    "\n",
    "ggsave(\"results/decontamination/comparison/shaw_comparison.png\", dpi = 600)\n",
    "\n",
    "# Get separate plots\n",
    "before_shaw <- get_shaw_circle(before_df_parsed, NULL)\n",
    "ggsave(\"results/decontamination/comparison/shaw_before_nolegend.png\", plot = before_shaw, dpi = 600)\n",
    "\n",
    "after_shaw <- get_shaw_circle(after_df, NULL)\n",
    "ggsave(\"results/decontamination/comparison/shaw_after_nolegend.png\", plot = after_shaw, dpi = 600)\n",
    "\n",
    "\n",
    "ggarrange(get_shaw_circle(before_df_parsed, NULL), \n",
    "          get_shaw_circle(after_df, NULL), legend = \"none\")"
   ]
  },
  {
   "cell_type": "markdown",
   "id": "32fc9d61",
   "metadata": {},
   "source": [
    "## Compare to contaminant list (Poore et al., 2020)"
   ]
  },
  {
   "cell_type": "markdown",
   "id": "23b119f6",
   "metadata": {},
   "source": [
    "Supplementary Table 7 from https://www.nature.com/articles/s41586-020-2095-1#MOESM2"
   ]
  },
  {
   "cell_type": "code",
   "execution_count": null,
   "id": "1c8d7fee",
   "metadata": {},
   "outputs": [],
   "source": [
    "poore_list <- fread(\"data/poore_et_al/poore_et_al_contaminant_list.csv\")\n",
    "before_df2 <- before_df_parsed %>%\n",
    "    left_join(poore_list)\n",
    "\n",
    "after_df2 <- after_df %>%\n",
    "    left_join(poore_list)"
   ]
  },
  {
   "cell_type": "code",
   "execution_count": null,
   "id": "f24eb236",
   "metadata": {
    "scrolled": true
   },
   "outputs": [],
   "source": [
    "get_poore_circle <- function(df, title) {\n",
    "    rpie <- 1\n",
    "    rlabel <-  0.6 * rpie\n",
    "    \n",
    "    df %>% \n",
    "        mutate(category = case_when(is.na(category) ~ \"Not common contaminant\",\n",
    "                                    category == \"LIKELY CONTAMINANT\" ~ \"Likely\",\n",
    "                                    category == \"POTENTIALLY PATHOGENIC OR COMMENSAL\" ~ \"Potential pathogen/commensal\",\n",
    "                                    category == \"MIXED EVIDENCE\" ~ \"Mixed evidence\")) %>%\n",
    "        mutate(category = factor(category, c(\"Likely\", \n",
    "                                             \"Mixed evidence\",\n",
    "                                             \"Potential pathogen/commensal\",\n",
    "                                             \"Not common contaminant\"))) %>%\n",
    "        group_by(category) %>%\n",
    "        summarise(cnt = n(), total = nrow(df)) %>%\n",
    "        mutate(end_angle = 2 * pi * cumsum(cnt)/ total,      # ending angle for each pie slice\n",
    "               start_angle = lag(end_angle, default = 0),   # starting angle for each pie slice\n",
    "               mid_angle = 0.5 * (start_angle + end_angle)) %>%  # middle of each pie slice, for the text label\n",
    "        ggplot() +\n",
    "        geom_arc_bar(aes(x0 = 0, y0 = 0, r0 = 0, r = rpie,\n",
    "                    start = start_angle, end = end_angle, fill = category)) +\n",
    "        geom_text(aes(x = rlabel * sin(mid_angle), y = rlabel * cos(mid_angle), label = cnt),\n",
    "                    hjust = 0.5, vjust = 0.5, size = 20) +\n",
    "        coord_fixed() +\n",
    "        scale_x_continuous(limits = c(-1, 1), name = \"\", breaks = NULL, labels = NULL) +\n",
    "        scale_y_continuous(limits = c(-1, 1), name = \"\", breaks = NULL, labels = NULL) +\n",
    "        scale_fill_manual(values = c(\"firebrick2\", \"mediumorchid3\", \"dodgerblue3\", \"grey90\")) +\n",
    "        theme(panel.background = element_rect(fill = \"white\"),\n",
    "              plot.margin=grid::unit(c(0,0,0,0),\"cm\"),\n",
    "              axis.text = element_blank(),\n",
    "              axis.title = element_blank(),\n",
    "              axis.ticks=element_blank(),\n",
    "              legend.position = \"none\",\n",
    "              axis.ticks.length = unit(0, \"pt\")) +\n",
    "        labs(x = NULL, y = NULL, fill = NULL) +\n",
    "        labs(fill = \"Categorisation by Poore et al. (2020)\", title = title)\n",
    "}\n",
    "\n",
    "ggarrange(get_poore_circle(before_df2, \"Before decontamination\"), \n",
    "          get_poore_circle(after_df2, \"After decontamination\"), \n",
    "          common.legend = T, legend = \"left\")\n",
    "\n",
    "ggsave(\"results/decontamination/comparison/poore_comparison.png\", dpi = 600)\n",
    "\n",
    "# Get separate plots\n",
    "before_poore <- get_poore_circle(before_df2, NULL)\n",
    "ggsave(\"results/decontamination/comparison/poore_before_nolegend.png\", plot = before_poore, dpi = 600)\n",
    "\n",
    "after_poore <- get_poore_circle(after_df2, NULL)\n",
    "ggsave(\"results/decontamination/comparison/poore_after_nolegend.png\", plot = after_poore, dpi = 600)"
   ]
  },
  {
   "cell_type": "markdown",
   "id": "3702b173",
   "metadata": {},
   "source": [
    "## Compare to hospital blood culture records"
   ]
  },
  {
   "cell_type": "code",
   "execution_count": null,
   "id": "e9ad3ddc",
   "metadata": {
    "scrolled": true
   },
   "outputs": [],
   "source": [
    "blood_list <- read.csv(\"results/blood_culture_records/blood_culture_taxa_list.txt\")$taxa\n",
    "nc_list <- fread(\"results/decontamination/curated_n124_global_decontamination_stats.csv\")$taxa\n",
    "nc_list <- tolower(unique(nc_list))\n",
    "all_list <- tolower(before_df_parsed$Species)\n",
    "length(nc_list)\n"
   ]
  },
  {
   "cell_type": "code",
   "execution_count": null,
   "id": "0e333a11",
   "metadata": {
    "scrolled": true
   },
   "outputs": [],
   "source": [
    "all_in_blood <- all_list[all_list %in% blood_list]\n",
    "nc_in_blood <- nc_list[nc_list %in% blood_list]\n",
    "\n",
    "missing_after_decon <- all_in_blood[!(all_in_blood %in% nc_in_blood)]"
   ]
  },
  {
   "cell_type": "code",
   "execution_count": null,
   "id": "5669da31",
   "metadata": {},
   "outputs": [],
   "source": [
    "read_df <- fread(\"results/decontamination/read_matrix.raw.zeroed.csv\")\n",
    "\n",
    "colnames(read_df) <- tolower(colnames(read_df))\n",
    "read_df %>%\n",
    "    select(all_of(missing_after_decon)) %>%\n",
    "    pivot_longer(everything(), names_to = \"taxa\", values_to = \"read_count\") %>%\n",
    "    filter(taxa == \"proteus mirabilis\", read_count != 0)\n",
    "#     group_by(taxa) %>%\n",
    "#     summarise(max = max(read_count)) %>%\n",
    "#     arrange(max)"
   ]
  },
  {
   "cell_type": "code",
   "execution_count": null,
   "id": "a6de622f",
   "metadata": {},
   "outputs": [],
   "source": [
    "nc_list[!(nc_list %in% blood_list)]"
   ]
  },
  {
   "cell_type": "code",
   "execution_count": null,
   "id": "d3cc8e65",
   "metadata": {},
   "outputs": [],
   "source": [
    "blood_list <- read.csv(\"results/blood_culture_records/blood_culture_taxa_list.txt\")$taxa\n",
    "\n",
    "get_blood_circle <- function(df, title) {\n",
    "    rpie <- 1\n",
    "    rlabel <-  0.6 * rpie\n",
    "    \n",
    "    df %>% \n",
    "        mutate(Species = tolower(Species)) %>%\n",
    "        mutate(category = ifelse(Species %in% blood_list, \"Yes\", \"No\")) %>%\n",
    "        group_by(category) %>%\n",
    "        summarise(cnt = n(), total = nrow(df)) %>%\n",
    "        mutate(end_angle = 2 * pi * cumsum(cnt)/ total,      # ending angle for each pie slice\n",
    "               start_angle = lag(end_angle, default = 0),   # starting angle for each pie slice\n",
    "               mid_angle = 0.5 * (start_angle + end_angle)) %>%  # middle of each pie slice, for the text label\n",
    "        ggplot() +\n",
    "        geom_arc_bar(aes(x0 = 0, y0 = 0, r0 = 0, r = rpie,\n",
    "                    start = start_angle, end = end_angle, fill = category)) +\n",
    "        geom_text(aes(x = rlabel * sin(mid_angle), y = rlabel * cos(mid_angle), label = cnt),\n",
    "                    hjust = 0.5, vjust = 0.5, size = 20) +\n",
    "        coord_fixed() +\n",
    "        scale_x_continuous(limits = c(-1, 1), name = \"\", breaks = NULL, labels = NULL) +\n",
    "        scale_y_continuous(limits = c(-1, 1), name = \"\", breaks = NULL, labels = NULL) +\n",
    "        scale_fill_manual(values = c(\"coral2\", \"darkturquoise\")) +\n",
    "        theme(panel.background = element_rect(fill = \"white\"),\n",
    "              plot.margin=grid::unit(c(0,0,0,0),\"cm\"),\n",
    "              axis.text = element_blank(),\n",
    "              axis.title = element_blank(),\n",
    "              axis.ticks=element_blank(),\n",
    "              legend.position = \"none\",\n",
    "              axis.ticks.length = unit(0, \"pt\")) +\n",
    "        labs(x = NULL, y = NULL, fill = NULL) +\n",
    "        labs(fill = \"Detected in blood culture?\", title = title)\n",
    "}\n",
    "\n",
    "ggarrange(get_blood_circle(before_df_parsed, \"Before decontamination\"), \n",
    "          get_blood_circle(after_df, \"After decontamination\"), \n",
    "          common.legend = T, legend = \"left\")\n",
    "\n",
    "ggsave(\"results/decontamination/comparison/blood_comparison.png\", dpi = 600)\n",
    "\n",
    "# Get separate plots\n",
    "before_blood <- get_blood_circle(before_df_parsed, NULL)\n",
    "ggsave(\"results/decontamination/comparison/blood_before_nolegend.png\", plot = before_blood, dpi = 600)\n",
    "\n",
    "after_blood <- get_blood_circle(after_df, NULL)\n",
    "ggsave(\"results/decontamination/comparison/blood_after_nolegend.png\", plot = after_blood, dpi = 600)"
   ]
  }
 ],
 "metadata": {
  "kernelspec": {
   "display_name": "R",
   "language": "R",
   "name": "ir"
  },
  "language_info": {
   "codemirror_mode": "r",
   "file_extension": ".r",
   "mimetype": "text/x-r-source",
   "name": "R",
   "pygments_lexer": "r",
   "version": "4.1.0"
  }
 },
 "nbformat": 4,
 "nbformat_minor": 5
}
