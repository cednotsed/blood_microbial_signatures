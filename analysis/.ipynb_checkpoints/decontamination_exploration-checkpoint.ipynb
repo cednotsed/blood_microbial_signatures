{
 "cells": [
  {
   "cell_type": "markdown",
   "id": "f799b42b",
   "metadata": {},
   "source": [
    "# Visualising taxa abundance"
   ]
  },
  {
   "cell_type": "code",
   "execution_count": 1,
   "id": "bc15bd3e",
   "metadata": {},
   "outputs": [
    {
     "name": "stderr",
     "output_type": "stream",
     "text": [
      "Loading required package: tidyverse\n",
      "\n",
      "Warning message in system(\"timedatectl\", intern = TRUE):\n",
      "“running command 'timedatectl' had status 1”\n",
      "── \u001b[1mAttaching packages\u001b[22m ─────────────────────────────────────────────────────────────────────────────── tidyverse 1.3.1 ──\n",
      "\n",
      "\u001b[32m✔\u001b[39m \u001b[34mggplot2\u001b[39m 3.3.5     \u001b[32m✔\u001b[39m \u001b[34mpurrr  \u001b[39m 0.3.4\n",
      "\u001b[32m✔\u001b[39m \u001b[34mtibble \u001b[39m 3.1.5     \u001b[32m✔\u001b[39m \u001b[34mdplyr  \u001b[39m 1.0.7\n",
      "\u001b[32m✔\u001b[39m \u001b[34mtidyr  \u001b[39m 1.1.3     \u001b[32m✔\u001b[39m \u001b[34mstringr\u001b[39m 1.4.0\n",
      "\u001b[32m✔\u001b[39m \u001b[34mreadr  \u001b[39m 2.0.1     \u001b[32m✔\u001b[39m \u001b[34mforcats\u001b[39m 0.5.1\n",
      "\n",
      "── \u001b[1mConflicts\u001b[22m ────────────────────────────────────────────────────────────────────────────────── tidyverse_conflicts() ──\n",
      "\u001b[31m✖\u001b[39m \u001b[34mdplyr\u001b[39m::\u001b[32mfilter()\u001b[39m masks \u001b[34mstats\u001b[39m::filter()\n",
      "\u001b[31m✖\u001b[39m \u001b[34mdplyr\u001b[39m::\u001b[32mlag()\u001b[39m    masks \u001b[34mstats\u001b[39m::lag()\n",
      "\n",
      "Loading required package: data.table\n",
      "\n",
      "\n",
      "Attaching package: ‘data.table’\n",
      "\n",
      "\n",
      "The following objects are masked from ‘package:dplyr’:\n",
      "\n",
      "    between, first, last\n",
      "\n",
      "\n",
      "The following object is masked from ‘package:purrr’:\n",
      "\n",
      "    transpose\n",
      "\n",
      "\n",
      "Loading required package: foreach\n",
      "\n",
      "\n",
      "Attaching package: ‘foreach’\n",
      "\n",
      "\n",
      "The following objects are masked from ‘package:purrr’:\n",
      "\n",
      "    accumulate, when\n",
      "\n",
      "\n",
      "Loading required package: compositions\n",
      "\n",
      "Welcome to compositions, a package for compositional data analysis.\n",
      "Find an intro with \"? compositions\"\n",
      "\n",
      "\n",
      "\n",
      "Attaching package: ‘compositions’\n",
      "\n",
      "\n",
      "The following objects are masked from ‘package:stats’:\n",
      "\n",
      "    anova, cor, cov, dist, var\n",
      "\n",
      "\n",
      "The following objects are masked from ‘package:base’:\n",
      "\n",
      "    %*%, norm, scale, scale.default\n",
      "\n",
      "\n",
      "Loading required package: ggpubr\n",
      "\n",
      "Loading required package: see\n",
      "\n",
      "Loading required package: doParallel\n",
      "\n",
      "Loading required package: iterators\n",
      "\n",
      "Loading required package: parallel\n",
      "\n",
      "Loading required package: Rtsne\n",
      "\n",
      "Loading required package: vegan\n",
      "\n",
      "Loading required package: permute\n",
      "\n",
      "Loading required package: lattice\n",
      "\n",
      "This is vegan 2.5-7\n",
      "\n",
      "Loading required package: VennDiagram\n",
      "\n",
      "Loading required package: grid\n",
      "\n",
      "Loading required package: futile.logger\n",
      "\n",
      "\n",
      "Attaching package: ‘VennDiagram’\n",
      "\n",
      "\n",
      "The following object is masked from ‘package:ggpubr’:\n",
      "\n",
      "    rotate\n",
      "\n",
      "\n"
     ]
    }
   ],
   "source": [
    "setwd(\"/mnt/c/Users/Cedric/Desktop/git_repos/blood_microbiome\")\n",
    "require(tidyverse)\n",
    "require(ggplot2)\n",
    "require(data.table)\n",
    "require(foreach)\n",
    "require(compositions)\n",
    "require(ggpubr)\n",
    "require(see)\n",
    "require(doParallel)\n",
    "require(Rtsne)\n",
    "require(vegan)\n",
    "require(VennDiagram)\n",
    "registerDoParallel(cores=8)"
   ]
  },
  {
   "cell_type": "markdown",
   "id": "8dc148ee",
   "metadata": {},
   "source": [
    "## Pre-process data"
   ]
  },
  {
   "cell_type": "markdown",
   "id": "e6a1db64",
   "metadata": {},
   "source": [
    "#### Metadata"
   ]
  },
  {
   "cell_type": "code",
   "execution_count": 2,
   "id": "31768384",
   "metadata": {},
   "outputs": [
    {
     "data": {
      "text/html": [
       "<table class=\"dataframe\">\n",
       "<caption>A data.table: 6 × 71</caption>\n",
       "<thead>\n",
       "\t<tr><th scope=col>npm_research_id</th><th scope=col>multiplex_pool_id</th><th scope=col>supplier_id</th><th scope=col>gis_internal_sample_id</th><th scope=col>site_supplying_sample</th><th scope=col>year_of_birth</th><th scope=col>supplied_gender</th><th scope=col>self_reported_ethnicity</th><th scope=col>extraction_kit</th><th scope=col>date_of_dna_extraction</th><th scope=col>⋯</th><th scope=col>supplied_and_computed_gender_match</th><th scope=col>sop_agreement_for_coverage__14/_28_for_15x/30x</th><th scope=col>sample_life_cycle</th><th scope=col>current</th><th scope=col>source_cohort</th><th scope=col>original_supplier_id</th><th scope=col>duplicate_info</th><th scope=col>duplicate</th><th scope=col>duplicate_pair</th><th scope=col>removal_requested_by_supplier</th></tr>\n",
       "\t<tr><th scope=col>&lt;chr&gt;</th><th scope=col>&lt;chr&gt;</th><th scope=col>&lt;chr&gt;</th><th scope=col>&lt;chr&gt;</th><th scope=col>&lt;chr&gt;</th><th scope=col>&lt;int&gt;</th><th scope=col>&lt;chr&gt;</th><th scope=col>&lt;chr&gt;</th><th scope=col>&lt;chr&gt;</th><th scope=col>&lt;chr&gt;</th><th scope=col>⋯</th><th scope=col>&lt;chr&gt;</th><th scope=col>&lt;chr&gt;</th><th scope=col>&lt;chr&gt;</th><th scope=col>&lt;chr&gt;</th><th scope=col>&lt;chr&gt;</th><th scope=col>&lt;chr&gt;</th><th scope=col>&lt;chr&gt;</th><th scope=col>&lt;chr&gt;</th><th scope=col>&lt;chr&gt;</th><th scope=col>&lt;chr&gt;</th></tr>\n",
       "</thead>\n",
       "<tbody>\n",
       "\t<tr><td>WHB10000</td><td>MUX9693</td><td>00358</td><td>HELIOS_00358_1</td><td>HELIOS</td><td>1982</td><td>F</td><td>Chinese</td><td>abGENIX Whole Blood Genomic DNA Extraction Kit</td><td>6/6/2019</td><td>⋯</td><td>Y</td><td>Y</td><td>HELIOS VCF</td><td>Y</td><td>HELIOS</td><td>00358</td><td>Unknown</td><td>PASS</td><td>Unknown</td><td>Unknown</td></tr>\n",
       "\t<tr><td>WHB10001</td><td>MUX9693</td><td>00359</td><td>HELIOS_00359_1</td><td>HELIOS</td><td>1979</td><td>F</td><td>Chinese</td><td>abGENIX Whole Blood Genomic DNA Extraction Kit</td><td>6/6/2019</td><td>⋯</td><td>Y</td><td>Y</td><td>HELIOS VCF</td><td>Y</td><td>HELIOS</td><td>00359</td><td>Unknown</td><td>PASS</td><td>Unknown</td><td>Unknown</td></tr>\n",
       "\t<tr><td>WHB10002</td><td>MUX9695</td><td>00360</td><td>HELIOS_00360_1</td><td>HELIOS</td><td>1970</td><td>F</td><td>Chinese</td><td>abGENIX Whole Blood Genomic DNA Extraction Kit</td><td>6/6/2019</td><td>⋯</td><td>Y</td><td>N</td><td>HELIOS VCF</td><td>Y</td><td>HELIOS</td><td>00360</td><td>Unknown</td><td>PASS</td><td>Unknown</td><td>Unknown</td></tr>\n",
       "\t<tr><td>WHB10003</td><td>MUX9694</td><td>00361</td><td>HELIOS_00361_1</td><td>HELIOS</td><td>1969</td><td>M</td><td>Chinese</td><td>abGENIX Whole Blood Genomic DNA Extraction Kit</td><td>6/6/2019</td><td>⋯</td><td>Y</td><td>Y</td><td>HELIOS VCF</td><td>Y</td><td>HELIOS</td><td>00361</td><td>Unknown</td><td>PASS</td><td>Unknown</td><td>Unknown</td></tr>\n",
       "\t<tr><td>WHB10005</td><td>MUX9694</td><td>00363</td><td>HELIOS_00363_1</td><td>HELIOS</td><td>1959</td><td>F</td><td>Chinese</td><td>abGENIX Whole Blood Genomic DNA Extraction Kit</td><td>6/6/2019</td><td>⋯</td><td>Y</td><td>N</td><td>HELIOS VCF</td><td>Y</td><td>HELIOS</td><td>00363</td><td>Unknown</td><td>PASS</td><td>Unknown</td><td>Unknown</td></tr>\n",
       "\t<tr><td>WHB10006</td><td>MUX9694</td><td>00364</td><td>HELIOS_00364_1</td><td>HELIOS</td><td>1955</td><td>F</td><td>Chinese</td><td>abGENIX Whole Blood Genomic DNA Extraction Kit</td><td>6/6/2019</td><td>⋯</td><td>Y</td><td>Y</td><td>HELIOS VCF</td><td>Y</td><td>HELIOS</td><td>00364</td><td>Unknown</td><td>PASS</td><td>Unknown</td><td>Unknown</td></tr>\n",
       "</tbody>\n",
       "</table>\n"
      ],
      "text/latex": [
       "A data.table: 6 × 71\n",
       "\\begin{tabular}{lllllllllllllllllllll}\n",
       " npm\\_research\\_id & multiplex\\_pool\\_id & supplier\\_id & gis\\_internal\\_sample\\_id & site\\_supplying\\_sample & year\\_of\\_birth & supplied\\_gender & self\\_reported\\_ethnicity & extraction\\_kit & date\\_of\\_dna\\_extraction & ⋯ & supplied\\_and\\_computed\\_gender\\_match & sop\\_agreement\\_for\\_coverage\\_\\_14/\\_28\\_for\\_15x/30x & sample\\_life\\_cycle & current & source\\_cohort & original\\_supplier\\_id & duplicate\\_info & duplicate & duplicate\\_pair & removal\\_requested\\_by\\_supplier\\\\\n",
       " <chr> & <chr> & <chr> & <chr> & <chr> & <int> & <chr> & <chr> & <chr> & <chr> & ⋯ & <chr> & <chr> & <chr> & <chr> & <chr> & <chr> & <chr> & <chr> & <chr> & <chr>\\\\\n",
       "\\hline\n",
       "\t WHB10000 & MUX9693 & 00358 & HELIOS\\_00358\\_1 & HELIOS & 1982 & F & Chinese & abGENIX Whole Blood Genomic DNA Extraction Kit & 6/6/2019 & ⋯ & Y & Y & HELIOS VCF & Y & HELIOS & 00358 & Unknown & PASS & Unknown & Unknown\\\\\n",
       "\t WHB10001 & MUX9693 & 00359 & HELIOS\\_00359\\_1 & HELIOS & 1979 & F & Chinese & abGENIX Whole Blood Genomic DNA Extraction Kit & 6/6/2019 & ⋯ & Y & Y & HELIOS VCF & Y & HELIOS & 00359 & Unknown & PASS & Unknown & Unknown\\\\\n",
       "\t WHB10002 & MUX9695 & 00360 & HELIOS\\_00360\\_1 & HELIOS & 1970 & F & Chinese & abGENIX Whole Blood Genomic DNA Extraction Kit & 6/6/2019 & ⋯ & Y & N & HELIOS VCF & Y & HELIOS & 00360 & Unknown & PASS & Unknown & Unknown\\\\\n",
       "\t WHB10003 & MUX9694 & 00361 & HELIOS\\_00361\\_1 & HELIOS & 1969 & M & Chinese & abGENIX Whole Blood Genomic DNA Extraction Kit & 6/6/2019 & ⋯ & Y & Y & HELIOS VCF & Y & HELIOS & 00361 & Unknown & PASS & Unknown & Unknown\\\\\n",
       "\t WHB10005 & MUX9694 & 00363 & HELIOS\\_00363\\_1 & HELIOS & 1959 & F & Chinese & abGENIX Whole Blood Genomic DNA Extraction Kit & 6/6/2019 & ⋯ & Y & N & HELIOS VCF & Y & HELIOS & 00363 & Unknown & PASS & Unknown & Unknown\\\\\n",
       "\t WHB10006 & MUX9694 & 00364 & HELIOS\\_00364\\_1 & HELIOS & 1955 & F & Chinese & abGENIX Whole Blood Genomic DNA Extraction Kit & 6/6/2019 & ⋯ & Y & Y & HELIOS VCF & Y & HELIOS & 00364 & Unknown & PASS & Unknown & Unknown\\\\\n",
       "\\end{tabular}\n"
      ],
      "text/markdown": [
       "\n",
       "A data.table: 6 × 71\n",
       "\n",
       "| npm_research_id &lt;chr&gt; | multiplex_pool_id &lt;chr&gt; | supplier_id &lt;chr&gt; | gis_internal_sample_id &lt;chr&gt; | site_supplying_sample &lt;chr&gt; | year_of_birth &lt;int&gt; | supplied_gender &lt;chr&gt; | self_reported_ethnicity &lt;chr&gt; | extraction_kit &lt;chr&gt; | date_of_dna_extraction &lt;chr&gt; | ⋯ ⋯ | supplied_and_computed_gender_match &lt;chr&gt; | sop_agreement_for_coverage__14/_28_for_15x/30x &lt;chr&gt; | sample_life_cycle &lt;chr&gt; | current &lt;chr&gt; | source_cohort &lt;chr&gt; | original_supplier_id &lt;chr&gt; | duplicate_info &lt;chr&gt; | duplicate &lt;chr&gt; | duplicate_pair &lt;chr&gt; | removal_requested_by_supplier &lt;chr&gt; |\n",
       "|---|---|---|---|---|---|---|---|---|---|---|---|---|---|---|---|---|---|---|---|---|\n",
       "| WHB10000 | MUX9693 | 00358 | HELIOS_00358_1 | HELIOS | 1982 | F | Chinese | abGENIX Whole Blood Genomic DNA Extraction Kit | 6/6/2019 | ⋯ | Y | Y | HELIOS VCF | Y | HELIOS | 00358 | Unknown | PASS | Unknown | Unknown |\n",
       "| WHB10001 | MUX9693 | 00359 | HELIOS_00359_1 | HELIOS | 1979 | F | Chinese | abGENIX Whole Blood Genomic DNA Extraction Kit | 6/6/2019 | ⋯ | Y | Y | HELIOS VCF | Y | HELIOS | 00359 | Unknown | PASS | Unknown | Unknown |\n",
       "| WHB10002 | MUX9695 | 00360 | HELIOS_00360_1 | HELIOS | 1970 | F | Chinese | abGENIX Whole Blood Genomic DNA Extraction Kit | 6/6/2019 | ⋯ | Y | N | HELIOS VCF | Y | HELIOS | 00360 | Unknown | PASS | Unknown | Unknown |\n",
       "| WHB10003 | MUX9694 | 00361 | HELIOS_00361_1 | HELIOS | 1969 | M | Chinese | abGENIX Whole Blood Genomic DNA Extraction Kit | 6/6/2019 | ⋯ | Y | Y | HELIOS VCF | Y | HELIOS | 00361 | Unknown | PASS | Unknown | Unknown |\n",
       "| WHB10005 | MUX9694 | 00363 | HELIOS_00363_1 | HELIOS | 1959 | F | Chinese | abGENIX Whole Blood Genomic DNA Extraction Kit | 6/6/2019 | ⋯ | Y | N | HELIOS VCF | Y | HELIOS | 00363 | Unknown | PASS | Unknown | Unknown |\n",
       "| WHB10006 | MUX9694 | 00364 | HELIOS_00364_1 | HELIOS | 1955 | F | Chinese | abGENIX Whole Blood Genomic DNA Extraction Kit | 6/6/2019 | ⋯ | Y | Y | HELIOS VCF | Y | HELIOS | 00364 | Unknown | PASS | Unknown | Unknown |\n",
       "\n"
      ],
      "text/plain": [
       "  npm_research_id multiplex_pool_id supplier_id gis_internal_sample_id\n",
       "1 WHB10000        MUX9693           00358       HELIOS_00358_1        \n",
       "2 WHB10001        MUX9693           00359       HELIOS_00359_1        \n",
       "3 WHB10002        MUX9695           00360       HELIOS_00360_1        \n",
       "4 WHB10003        MUX9694           00361       HELIOS_00361_1        \n",
       "5 WHB10005        MUX9694           00363       HELIOS_00363_1        \n",
       "6 WHB10006        MUX9694           00364       HELIOS_00364_1        \n",
       "  site_supplying_sample year_of_birth supplied_gender self_reported_ethnicity\n",
       "1 HELIOS                1982          F               Chinese                \n",
       "2 HELIOS                1979          F               Chinese                \n",
       "3 HELIOS                1970          F               Chinese                \n",
       "4 HELIOS                1969          M               Chinese                \n",
       "5 HELIOS                1959          F               Chinese                \n",
       "6 HELIOS                1955          F               Chinese                \n",
       "  extraction_kit                                 date_of_dna_extraction ⋯\n",
       "1 abGENIX Whole Blood Genomic DNA Extraction Kit 6/6/2019               ⋯\n",
       "2 abGENIX Whole Blood Genomic DNA Extraction Kit 6/6/2019               ⋯\n",
       "3 abGENIX Whole Blood Genomic DNA Extraction Kit 6/6/2019               ⋯\n",
       "4 abGENIX Whole Blood Genomic DNA Extraction Kit 6/6/2019               ⋯\n",
       "5 abGENIX Whole Blood Genomic DNA Extraction Kit 6/6/2019               ⋯\n",
       "6 abGENIX Whole Blood Genomic DNA Extraction Kit 6/6/2019               ⋯\n",
       "  supplied_and_computed_gender_match\n",
       "1 Y                                 \n",
       "2 Y                                 \n",
       "3 Y                                 \n",
       "4 Y                                 \n",
       "5 Y                                 \n",
       "6 Y                                 \n",
       "  sop_agreement_for_coverage__14/_28_for_15x/30x sample_life_cycle current\n",
       "1 Y                                              HELIOS VCF        Y      \n",
       "2 Y                                              HELIOS VCF        Y      \n",
       "3 N                                              HELIOS VCF        Y      \n",
       "4 Y                                              HELIOS VCF        Y      \n",
       "5 N                                              HELIOS VCF        Y      \n",
       "6 Y                                              HELIOS VCF        Y      \n",
       "  source_cohort original_supplier_id duplicate_info duplicate duplicate_pair\n",
       "1 HELIOS        00358                Unknown        PASS      Unknown       \n",
       "2 HELIOS        00359                Unknown        PASS      Unknown       \n",
       "3 HELIOS        00360                Unknown        PASS      Unknown       \n",
       "4 HELIOS        00361                Unknown        PASS      Unknown       \n",
       "5 HELIOS        00363                Unknown        PASS      Unknown       \n",
       "6 HELIOS        00364                Unknown        PASS      Unknown       \n",
       "  removal_requested_by_supplier\n",
       "1 Unknown                      \n",
       "2 Unknown                      \n",
       "3 Unknown                      \n",
       "4 Unknown                      \n",
       "5 Unknown                      \n",
       "6 Unknown                      "
      ]
     },
     "metadata": {},
     "output_type": "display_data"
    }
   ],
   "source": [
    "get_meta_cols <- function(meta) {\n",
    "    meta_cols <- colnames(meta)[grep(\"kit|flow_cell|instrument_id|site_supplying\", colnames(meta))]\n",
    "    to_exclude <- c(\"library_prep_kit\", \"hiseq_xtm_flow_cell_v2_5_id\")\n",
    "    meta_cols <- meta_cols[!(meta_cols %in% to_exclude)]\n",
    "    return(meta_cols)\n",
    "}\n",
    "\n",
    "\n",
    "to_retain <- fread(\"data/samples_above_95_reads.txt\")$npm_research_id\n",
    "\n",
    "meta <- fread(\"data/SG10K_Health_metadata.n10714.16March2021.parsed.csv\") %>%\n",
    "    filter(npm_research_id %in% to_retain)\n",
    "\n",
    "meta_cols <- get_meta_cols(meta)\n",
    "\n",
    "head(meta)"
   ]
  },
  {
   "cell_type": "markdown",
   "id": "58f94e68",
   "metadata": {},
   "source": [
    "#### Host metadata (Shaw et al. 2020)"
   ]
  },
  {
   "cell_type": "code",
   "execution_count": 3,
   "id": "0f80c0f6",
   "metadata": {},
   "outputs": [
    {
     "data": {
      "text/html": [
       "<table class=\"dataframe\">\n",
       "<caption>A data.frame: 6 × 46</caption>\n",
       "<thead>\n",
       "\t<tr><th></th><th scope=col>X</th><th scope=col>Type</th><th scope=col>Phylum</th><th scope=col>Class</th><th scope=col>Order</th><th scope=col>Family</th><th scope=col>Genus</th><th scope=col>Species</th><th scope=col>Human</th><th scope=col>Zoonotic</th><th scope=col>⋯</th><th scope=col>Genome</th><th scope=col>Gsize</th><th scope=col>ProteinCount</th><th scope=col>PercentGC</th><th scope=col>HostSpeciesPHB</th><th scope=col>HostSpecies.new</th><th scope=col>N.genomes</th><th scope=col>Genome.size</th><th scope=col>Genome.GC</th><th scope=col>Genome.genes</th></tr>\n",
       "\t<tr><th></th><th scope=col>&lt;int&gt;</th><th scope=col>&lt;chr&gt;</th><th scope=col>&lt;chr&gt;</th><th scope=col>&lt;chr&gt;</th><th scope=col>&lt;chr&gt;</th><th scope=col>&lt;chr&gt;</th><th scope=col>&lt;chr&gt;</th><th scope=col>&lt;chr&gt;</th><th scope=col>&lt;chr&gt;</th><th scope=col>&lt;chr&gt;</th><th scope=col>⋯</th><th scope=col>&lt;chr&gt;</th><th scope=col>&lt;chr&gt;</th><th scope=col>&lt;chr&gt;</th><th scope=col>&lt;chr&gt;</th><th scope=col>&lt;chr&gt;</th><th scope=col>&lt;chr&gt;</th><th scope=col>&lt;int&gt;</th><th scope=col>&lt;dbl&gt;</th><th scope=col>&lt;dbl&gt;</th><th scope=col>&lt;dbl&gt;</th></tr>\n",
       "</thead>\n",
       "<tbody>\n",
       "\t<tr><th scope=row>1</th><td>1</td><td>Bacteria</td><td>Actinobacteria</td><td>Actinobacteria</td><td>Actinomycetales</td><td>Actinomycetaceae</td><td>Actinobaculum</td><td>Actinobaculum massiliense</td><td>Yes</td><td>No </td><td>⋯</td><td>NA</td><td>NA</td><td>NA</td><td>NA</td><td>Homosapiens        </td><td>Homo sapiens         </td><td>1</td><td>2.065190</td><td>60.2</td><td>1784</td></tr>\n",
       "\t<tr><th scope=row>2</th><td>2</td><td>Bacteria</td><td>Actinobacteria</td><td>Actinobacteria</td><td>Actinomycetales</td><td>Actinomycetaceae</td><td>Actinobaculum</td><td>Actinobaculum suis       </td><td>No </td><td>No </td><td>⋯</td><td>NA</td><td>NA</td><td>NA</td><td>NA</td><td>Susscrofadomesticus</td><td>Sus scrofa domesticus</td><td>4</td><td>2.277433</td><td>57.8</td><td>1852</td></tr>\n",
       "\t<tr><th scope=row>3</th><td>3</td><td>Bacteria</td><td>Actinobacteria</td><td>Actinobacteria</td><td>Actinomycetales</td><td>Actinomycetaceae</td><td>Actinomyces  </td><td>Actinomyces bovis        </td><td>Yes</td><td>Yes</td><td>⋯</td><td>NA</td><td>NA</td><td>NA</td><td>NA</td><td>Homosapiens        </td><td>Homo sapiens         </td><td>1</td><td>2.595570</td><td>64.1</td><td>2199</td></tr>\n",
       "\t<tr><th scope=row>4</th><td>4</td><td>Bacteria</td><td>Actinobacteria</td><td>Actinobacteria</td><td>Actinomycetales</td><td>Actinomycetaceae</td><td>Actinomyces  </td><td>Actinomyces bovis        </td><td>Yes</td><td>Yes</td><td>⋯</td><td>NA</td><td>NA</td><td>NA</td><td>NA</td><td>Oviscanadensis     </td><td>Ovis canadensis      </td><td>1</td><td>2.595570</td><td>64.1</td><td>2199</td></tr>\n",
       "\t<tr><th scope=row>5</th><td>5</td><td>Bacteria</td><td>Actinobacteria</td><td>Actinobacteria</td><td>Actinomycetales</td><td>Actinomycetaceae</td><td>Actinomyces  </td><td>Actinomyces bovis        </td><td>Yes</td><td>Yes</td><td>⋯</td><td>NA</td><td>NA</td><td>NA</td><td>NA</td><td>Ovisdalli          </td><td>Ovis dalli           </td><td>1</td><td>2.595570</td><td>64.1</td><td>2199</td></tr>\n",
       "\t<tr><th scope=row>6</th><td>6</td><td>Bacteria</td><td>Actinobacteria</td><td>Actinobacteria</td><td>Actinomycetales</td><td>Actinomycetaceae</td><td>Actinomyces  </td><td>Actinomyces bovis        </td><td>Yes</td><td>Yes</td><td>⋯</td><td>NA</td><td>NA</td><td>NA</td><td>NA</td><td>Bostaurus          </td><td>Bos taurus           </td><td>1</td><td>2.595570</td><td>64.1</td><td>2199</td></tr>\n",
       "</tbody>\n",
       "</table>\n"
      ],
      "text/latex": [
       "A data.frame: 6 × 46\n",
       "\\begin{tabular}{r|lllllllllllllllllllll}\n",
       "  & X & Type & Phylum & Class & Order & Family & Genus & Species & Human & Zoonotic & ⋯ & Genome & Gsize & ProteinCount & PercentGC & HostSpeciesPHB & HostSpecies.new & N.genomes & Genome.size & Genome.GC & Genome.genes\\\\\n",
       "  & <int> & <chr> & <chr> & <chr> & <chr> & <chr> & <chr> & <chr> & <chr> & <chr> & ⋯ & <chr> & <chr> & <chr> & <chr> & <chr> & <chr> & <int> & <dbl> & <dbl> & <dbl>\\\\\n",
       "\\hline\n",
       "\t1 & 1 & Bacteria & Actinobacteria & Actinobacteria & Actinomycetales & Actinomycetaceae & Actinobaculum & Actinobaculum massiliense & Yes & No  & ⋯ & NA & NA & NA & NA & Homosapiens         & Homo sapiens          & 1 & 2.065190 & 60.2 & 1784\\\\\n",
       "\t2 & 2 & Bacteria & Actinobacteria & Actinobacteria & Actinomycetales & Actinomycetaceae & Actinobaculum & Actinobaculum suis        & No  & No  & ⋯ & NA & NA & NA & NA & Susscrofadomesticus & Sus scrofa domesticus & 4 & 2.277433 & 57.8 & 1852\\\\\n",
       "\t3 & 3 & Bacteria & Actinobacteria & Actinobacteria & Actinomycetales & Actinomycetaceae & Actinomyces   & Actinomyces bovis         & Yes & Yes & ⋯ & NA & NA & NA & NA & Homosapiens         & Homo sapiens          & 1 & 2.595570 & 64.1 & 2199\\\\\n",
       "\t4 & 4 & Bacteria & Actinobacteria & Actinobacteria & Actinomycetales & Actinomycetaceae & Actinomyces   & Actinomyces bovis         & Yes & Yes & ⋯ & NA & NA & NA & NA & Oviscanadensis      & Ovis canadensis       & 1 & 2.595570 & 64.1 & 2199\\\\\n",
       "\t5 & 5 & Bacteria & Actinobacteria & Actinobacteria & Actinomycetales & Actinomycetaceae & Actinomyces   & Actinomyces bovis         & Yes & Yes & ⋯ & NA & NA & NA & NA & Ovisdalli           & Ovis dalli            & 1 & 2.595570 & 64.1 & 2199\\\\\n",
       "\t6 & 6 & Bacteria & Actinobacteria & Actinobacteria & Actinomycetales & Actinomycetaceae & Actinomyces   & Actinomyces bovis         & Yes & Yes & ⋯ & NA & NA & NA & NA & Bostaurus           & Bos taurus            & 1 & 2.595570 & 64.1 & 2199\\\\\n",
       "\\end{tabular}\n"
      ],
      "text/markdown": [
       "\n",
       "A data.frame: 6 × 46\n",
       "\n",
       "| <!--/--> | X &lt;int&gt; | Type &lt;chr&gt; | Phylum &lt;chr&gt; | Class &lt;chr&gt; | Order &lt;chr&gt; | Family &lt;chr&gt; | Genus &lt;chr&gt; | Species &lt;chr&gt; | Human &lt;chr&gt; | Zoonotic &lt;chr&gt; | ⋯ ⋯ | Genome &lt;chr&gt; | Gsize &lt;chr&gt; | ProteinCount &lt;chr&gt; | PercentGC &lt;chr&gt; | HostSpeciesPHB &lt;chr&gt; | HostSpecies.new &lt;chr&gt; | N.genomes &lt;int&gt; | Genome.size &lt;dbl&gt; | Genome.GC &lt;dbl&gt; | Genome.genes &lt;dbl&gt; |\n",
       "|---|---|---|---|---|---|---|---|---|---|---|---|---|---|---|---|---|---|---|---|---|---|\n",
       "| 1 | 1 | Bacteria | Actinobacteria | Actinobacteria | Actinomycetales | Actinomycetaceae | Actinobaculum | Actinobaculum massiliense | Yes | No  | ⋯ | NA | NA | NA | NA | Homosapiens         | Homo sapiens          | 1 | 2.065190 | 60.2 | 1784 |\n",
       "| 2 | 2 | Bacteria | Actinobacteria | Actinobacteria | Actinomycetales | Actinomycetaceae | Actinobaculum | Actinobaculum suis        | No  | No  | ⋯ | NA | NA | NA | NA | Susscrofadomesticus | Sus scrofa domesticus | 4 | 2.277433 | 57.8 | 1852 |\n",
       "| 3 | 3 | Bacteria | Actinobacteria | Actinobacteria | Actinomycetales | Actinomycetaceae | Actinomyces   | Actinomyces bovis         | Yes | Yes | ⋯ | NA | NA | NA | NA | Homosapiens         | Homo sapiens          | 1 | 2.595570 | 64.1 | 2199 |\n",
       "| 4 | 4 | Bacteria | Actinobacteria | Actinobacteria | Actinomycetales | Actinomycetaceae | Actinomyces   | Actinomyces bovis         | Yes | Yes | ⋯ | NA | NA | NA | NA | Oviscanadensis      | Ovis canadensis       | 1 | 2.595570 | 64.1 | 2199 |\n",
       "| 5 | 5 | Bacteria | Actinobacteria | Actinobacteria | Actinomycetales | Actinomycetaceae | Actinomyces   | Actinomyces bovis         | Yes | Yes | ⋯ | NA | NA | NA | NA | Ovisdalli           | Ovis dalli            | 1 | 2.595570 | 64.1 | 2199 |\n",
       "| 6 | 6 | Bacteria | Actinobacteria | Actinobacteria | Actinomycetales | Actinomycetaceae | Actinomyces   | Actinomyces bovis         | Yes | Yes | ⋯ | NA | NA | NA | NA | Bostaurus           | Bos taurus            | 1 | 2.595570 | 64.1 | 2199 |\n",
       "\n"
      ],
      "text/plain": [
       "  X Type     Phylum         Class          Order           Family          \n",
       "1 1 Bacteria Actinobacteria Actinobacteria Actinomycetales Actinomycetaceae\n",
       "2 2 Bacteria Actinobacteria Actinobacteria Actinomycetales Actinomycetaceae\n",
       "3 3 Bacteria Actinobacteria Actinobacteria Actinomycetales Actinomycetaceae\n",
       "4 4 Bacteria Actinobacteria Actinobacteria Actinomycetales Actinomycetaceae\n",
       "5 5 Bacteria Actinobacteria Actinobacteria Actinomycetales Actinomycetaceae\n",
       "6 6 Bacteria Actinobacteria Actinobacteria Actinomycetales Actinomycetaceae\n",
       "  Genus         Species                   Human Zoonotic ⋯ Genome Gsize\n",
       "1 Actinobaculum Actinobaculum massiliense Yes   No       ⋯ NA     NA   \n",
       "2 Actinobaculum Actinobaculum suis        No    No       ⋯ NA     NA   \n",
       "3 Actinomyces   Actinomyces bovis         Yes   Yes      ⋯ NA     NA   \n",
       "4 Actinomyces   Actinomyces bovis         Yes   Yes      ⋯ NA     NA   \n",
       "5 Actinomyces   Actinomyces bovis         Yes   Yes      ⋯ NA     NA   \n",
       "6 Actinomyces   Actinomyces bovis         Yes   Yes      ⋯ NA     NA   \n",
       "  ProteinCount PercentGC HostSpeciesPHB      HostSpecies.new       N.genomes\n",
       "1 NA           NA        Homosapiens         Homo sapiens          1        \n",
       "2 NA           NA        Susscrofadomesticus Sus scrofa domesticus 4        \n",
       "3 NA           NA        Homosapiens         Homo sapiens          1        \n",
       "4 NA           NA        Oviscanadensis      Ovis canadensis       1        \n",
       "5 NA           NA        Ovisdalli           Ovis dalli            1        \n",
       "6 NA           NA        Bostaurus           Bos taurus            1        \n",
       "  Genome.size Genome.GC Genome.genes\n",
       "1 2.065190    60.2      1784        \n",
       "2 2.277433    57.8      1852        \n",
       "3 2.595570    64.1      2199        \n",
       "4 2.595570    64.1      2199        \n",
       "5 2.595570    64.1      2199        \n",
       "6 2.595570    64.1      2199        "
      ]
     },
     "metadata": {},
     "output_type": "display_data"
    },
    {
     "data": {
      "text/html": [
       "<style>\n",
       ".list-inline {list-style: none; margin:0; padding: 0}\n",
       ".list-inline>li {display: inline-block}\n",
       ".list-inline>li:not(:last-child)::after {content: \"\\00b7\"; padding: 0 .5ex}\n",
       "</style>\n",
       "<ol class=list-inline><li>'Actinobaculum massiliense'</li><li>'Actinomyces bovis'</li><li>'Actinomyces cardiffensis'</li><li>'Actinomyces dentalis'</li><li>'Actinomyces europaeus'</li><li>'Actinomyces funkei'</li></ol>\n"
      ],
      "text/latex": [
       "\\begin{enumerate*}\n",
       "\\item 'Actinobaculum massiliense'\n",
       "\\item 'Actinomyces bovis'\n",
       "\\item 'Actinomyces cardiffensis'\n",
       "\\item 'Actinomyces dentalis'\n",
       "\\item 'Actinomyces europaeus'\n",
       "\\item 'Actinomyces funkei'\n",
       "\\end{enumerate*}\n"
      ],
      "text/markdown": [
       "1. 'Actinobaculum massiliense'\n",
       "2. 'Actinomyces bovis'\n",
       "3. 'Actinomyces cardiffensis'\n",
       "4. 'Actinomyces dentalis'\n",
       "5. 'Actinomyces europaeus'\n",
       "6. 'Actinomyces funkei'\n",
       "\n",
       "\n"
      ],
      "text/plain": [
       "[1] \"Actinobaculum massiliense\" \"Actinomyces bovis\"        \n",
       "[3] \"Actinomyces cardiffensis\"  \"Actinomyces dentalis\"     \n",
       "[5] \"Actinomyces europaeus\"     \"Actinomyces funkei\"       "
      ]
     },
     "metadata": {},
     "output_type": "display_data"
    }
   ],
   "source": [
    "host_meta <- read.csv(\"data/PathogenVsHostDB-2019-05-30.csv\")\n",
    "\n",
    "known_human_pathogens <- unique((host_meta %>% filter(Human == \"Yes\"))$Species)\n",
    "\n",
    "head(host_meta)\n",
    "head(known_human_pathogens)"
   ]
  },
  {
   "cell_type": "markdown",
   "id": "dd9972c7",
   "metadata": {},
   "source": [
    "#### Contaminant list"
   ]
  },
  {
   "cell_type": "code",
   "execution_count": 4,
   "id": "c11f9335",
   "metadata": {},
   "outputs": [
    {
     "data": {
      "text/html": [
       "<style>\n",
       ".list-inline {list-style: none; margin:0; padding: 0}\n",
       ".list-inline>li {display: inline-block}\n",
       ".list-inline>li:not(:last-child)::after {content: \"\\00b7\"; padding: 0 .5ex}\n",
       "</style>\n",
       "<ol class=list-inline><li>'Afipia'</li><li>'Aquabacterium'</li><li>'Asticcacaulis'</li><li>'Aurantimonas'</li><li>'Beijerinckia'</li><li>'Bosea'</li><li>'Bradyrhizobium'</li><li>'Brevundimonas'</li><li>'Caulobacter'</li><li>'Craurococcus'</li><li>'Devosia'</li><li>'Hoefleae'</li><li>'Mesorhizobium'</li><li>'Methylobacterium'</li><li>'Novosphingobium'</li><li>'Ochrobactrum'</li><li>'Paracoccus'</li><li>'Pedomicrobium'</li><li>'Phyllobacterium'</li><li>'Rhizobium'</li><li>'Roseomonas'</li><li>'Sphingobium'</li><li>'Sphingomonas'</li><li>'Sphingopyxis'</li><li>'Acidovorax'</li><li>'Azoarcus'</li><li>'Azospira'</li><li>'Burkholderia'</li><li>'Comamonas'</li><li>'Cupriavidus'</li><li>'Curvibacter'</li><li>'Delftia'</li><li>'Duganella'</li><li>'Herbaspirillum'</li><li>'Janthinobacterium'</li><li>'Kingella'</li><li>'Leptothrix'</li><li>'Limnobacter'</li><li>'Massilia'</li><li>'Methylophilus'</li><li>'Methyloversatilis'</li><li>'Oxalobacter'</li><li>'Pelomonas'</li><li>'Polaromonas'</li><li>'Ralstonia'</li><li>'Schlegelella'</li><li>'Sulfuritalea'</li><li>'Undibacterium'</li><li>'Variovorax'</li><li>'Acinetobacter'</li><li>'Enhydrobacter'</li><li>'Enterobacter'</li><li>'Escherichia'</li><li>'Nevskia'</li><li>'Pseudomonas'</li><li>'Pseudoxanthomonas'</li><li>'Psychrobacter'</li><li>'Stenotrophomonas'</li><li>'Xanthomonas'</li><li>'Aeromicrobium'</li><li>'Arthrobacter'</li><li>'Beutenbergia'</li><li>'Brevibacterium'</li><li>'Corynebacterium'</li><li>'Curtobacterium'</li><li>'Dietzia'</li><li>'Geodermatophilus'</li><li>'Janibacter'</li><li>'Kocuria'</li><li>'Microbacterium'</li><li>'Micrococcus'</li><li>'Microlunatus'</li><li>'Patulibacter'</li><li>'Propionibacterium'</li><li>'Rhodococcus'</li><li>'Tsukamurella'</li><li>'Abiotrophia'</li><li>'Bacillus'</li><li>'Brevibacillus'</li><li>'Brochothrix'</li><li>'Facklamia'</li><li>'Paenibacillus'</li><li>'Streptococcus'</li><li>'Chryseobacterium'</li><li>'Dyadobacter'</li><li>'Flavobacterium'</li><li>'Hydrotalea'</li><li>'Niastella'</li><li>'Olivibacter'</li><li>'Pedobacter'</li><li>'Wautersiella'</li><li>'Deinococcus'</li></ol>\n"
      ],
      "text/latex": [
       "\\begin{enumerate*}\n",
       "\\item 'Afipia'\n",
       "\\item 'Aquabacterium'\n",
       "\\item 'Asticcacaulis'\n",
       "\\item 'Aurantimonas'\n",
       "\\item 'Beijerinckia'\n",
       "\\item 'Bosea'\n",
       "\\item 'Bradyrhizobium'\n",
       "\\item 'Brevundimonas'\n",
       "\\item 'Caulobacter'\n",
       "\\item 'Craurococcus'\n",
       "\\item 'Devosia'\n",
       "\\item 'Hoefleae'\n",
       "\\item 'Mesorhizobium'\n",
       "\\item 'Methylobacterium'\n",
       "\\item 'Novosphingobium'\n",
       "\\item 'Ochrobactrum'\n",
       "\\item 'Paracoccus'\n",
       "\\item 'Pedomicrobium'\n",
       "\\item 'Phyllobacterium'\n",
       "\\item 'Rhizobium'\n",
       "\\item 'Roseomonas'\n",
       "\\item 'Sphingobium'\n",
       "\\item 'Sphingomonas'\n",
       "\\item 'Sphingopyxis'\n",
       "\\item 'Acidovorax'\n",
       "\\item 'Azoarcus'\n",
       "\\item 'Azospira'\n",
       "\\item 'Burkholderia'\n",
       "\\item 'Comamonas'\n",
       "\\item 'Cupriavidus'\n",
       "\\item 'Curvibacter'\n",
       "\\item 'Delftia'\n",
       "\\item 'Duganella'\n",
       "\\item 'Herbaspirillum'\n",
       "\\item 'Janthinobacterium'\n",
       "\\item 'Kingella'\n",
       "\\item 'Leptothrix'\n",
       "\\item 'Limnobacter'\n",
       "\\item 'Massilia'\n",
       "\\item 'Methylophilus'\n",
       "\\item 'Methyloversatilis'\n",
       "\\item 'Oxalobacter'\n",
       "\\item 'Pelomonas'\n",
       "\\item 'Polaromonas'\n",
       "\\item 'Ralstonia'\n",
       "\\item 'Schlegelella'\n",
       "\\item 'Sulfuritalea'\n",
       "\\item 'Undibacterium'\n",
       "\\item 'Variovorax'\n",
       "\\item 'Acinetobacter'\n",
       "\\item 'Enhydrobacter'\n",
       "\\item 'Enterobacter'\n",
       "\\item 'Escherichia'\n",
       "\\item 'Nevskia'\n",
       "\\item 'Pseudomonas'\n",
       "\\item 'Pseudoxanthomonas'\n",
       "\\item 'Psychrobacter'\n",
       "\\item 'Stenotrophomonas'\n",
       "\\item 'Xanthomonas'\n",
       "\\item 'Aeromicrobium'\n",
       "\\item 'Arthrobacter'\n",
       "\\item 'Beutenbergia'\n",
       "\\item 'Brevibacterium'\n",
       "\\item 'Corynebacterium'\n",
       "\\item 'Curtobacterium'\n",
       "\\item 'Dietzia'\n",
       "\\item 'Geodermatophilus'\n",
       "\\item 'Janibacter'\n",
       "\\item 'Kocuria'\n",
       "\\item 'Microbacterium'\n",
       "\\item 'Micrococcus'\n",
       "\\item 'Microlunatus'\n",
       "\\item 'Patulibacter'\n",
       "\\item 'Propionibacterium'\n",
       "\\item 'Rhodococcus'\n",
       "\\item 'Tsukamurella'\n",
       "\\item 'Abiotrophia'\n",
       "\\item 'Bacillus'\n",
       "\\item 'Brevibacillus'\n",
       "\\item 'Brochothrix'\n",
       "\\item 'Facklamia'\n",
       "\\item 'Paenibacillus'\n",
       "\\item 'Streptococcus'\n",
       "\\item 'Chryseobacterium'\n",
       "\\item 'Dyadobacter'\n",
       "\\item 'Flavobacterium'\n",
       "\\item 'Hydrotalea'\n",
       "\\item 'Niastella'\n",
       "\\item 'Olivibacter'\n",
       "\\item 'Pedobacter'\n",
       "\\item 'Wautersiella'\n",
       "\\item 'Deinococcus'\n",
       "\\end{enumerate*}\n"
      ],
      "text/markdown": [
       "1. 'Afipia'\n",
       "2. 'Aquabacterium'\n",
       "3. 'Asticcacaulis'\n",
       "4. 'Aurantimonas'\n",
       "5. 'Beijerinckia'\n",
       "6. 'Bosea'\n",
       "7. 'Bradyrhizobium'\n",
       "8. 'Brevundimonas'\n",
       "9. 'Caulobacter'\n",
       "10. 'Craurococcus'\n",
       "11. 'Devosia'\n",
       "12. 'Hoefleae'\n",
       "13. 'Mesorhizobium'\n",
       "14. 'Methylobacterium'\n",
       "15. 'Novosphingobium'\n",
       "16. 'Ochrobactrum'\n",
       "17. 'Paracoccus'\n",
       "18. 'Pedomicrobium'\n",
       "19. 'Phyllobacterium'\n",
       "20. 'Rhizobium'\n",
       "21. 'Roseomonas'\n",
       "22. 'Sphingobium'\n",
       "23. 'Sphingomonas'\n",
       "24. 'Sphingopyxis'\n",
       "25. 'Acidovorax'\n",
       "26. 'Azoarcus'\n",
       "27. 'Azospira'\n",
       "28. 'Burkholderia'\n",
       "29. 'Comamonas'\n",
       "30. 'Cupriavidus'\n",
       "31. 'Curvibacter'\n",
       "32. 'Delftia'\n",
       "33. 'Duganella'\n",
       "34. 'Herbaspirillum'\n",
       "35. 'Janthinobacterium'\n",
       "36. 'Kingella'\n",
       "37. 'Leptothrix'\n",
       "38. 'Limnobacter'\n",
       "39. 'Massilia'\n",
       "40. 'Methylophilus'\n",
       "41. 'Methyloversatilis'\n",
       "42. 'Oxalobacter'\n",
       "43. 'Pelomonas'\n",
       "44. 'Polaromonas'\n",
       "45. 'Ralstonia'\n",
       "46. 'Schlegelella'\n",
       "47. 'Sulfuritalea'\n",
       "48. 'Undibacterium'\n",
       "49. 'Variovorax'\n",
       "50. 'Acinetobacter'\n",
       "51. 'Enhydrobacter'\n",
       "52. 'Enterobacter'\n",
       "53. 'Escherichia'\n",
       "54. 'Nevskia'\n",
       "55. 'Pseudomonas'\n",
       "56. 'Pseudoxanthomonas'\n",
       "57. 'Psychrobacter'\n",
       "58. 'Stenotrophomonas'\n",
       "59. 'Xanthomonas'\n",
       "60. 'Aeromicrobium'\n",
       "61. 'Arthrobacter'\n",
       "62. 'Beutenbergia'\n",
       "63. 'Brevibacterium'\n",
       "64. 'Corynebacterium'\n",
       "65. 'Curtobacterium'\n",
       "66. 'Dietzia'\n",
       "67. 'Geodermatophilus'\n",
       "68. 'Janibacter'\n",
       "69. 'Kocuria'\n",
       "70. 'Microbacterium'\n",
       "71. 'Micrococcus'\n",
       "72. 'Microlunatus'\n",
       "73. 'Patulibacter'\n",
       "74. 'Propionibacterium'\n",
       "75. 'Rhodococcus'\n",
       "76. 'Tsukamurella'\n",
       "77. 'Abiotrophia'\n",
       "78. 'Bacillus'\n",
       "79. 'Brevibacillus'\n",
       "80. 'Brochothrix'\n",
       "81. 'Facklamia'\n",
       "82. 'Paenibacillus'\n",
       "83. 'Streptococcus'\n",
       "84. 'Chryseobacterium'\n",
       "85. 'Dyadobacter'\n",
       "86. 'Flavobacterium'\n",
       "87. 'Hydrotalea'\n",
       "88. 'Niastella'\n",
       "89. 'Olivibacter'\n",
       "90. 'Pedobacter'\n",
       "91. 'Wautersiella'\n",
       "92. 'Deinococcus'\n",
       "\n",
       "\n"
      ],
      "text/plain": [
       " [1] \"Afipia\"            \"Aquabacterium\"     \"Asticcacaulis\"    \n",
       " [4] \"Aurantimonas\"      \"Beijerinckia\"      \"Bosea\"            \n",
       " [7] \"Bradyrhizobium\"    \"Brevundimonas\"     \"Caulobacter\"      \n",
       "[10] \"Craurococcus\"      \"Devosia\"           \"Hoefleae\"         \n",
       "[13] \"Mesorhizobium\"     \"Methylobacterium\"  \"Novosphingobium\"  \n",
       "[16] \"Ochrobactrum\"      \"Paracoccus\"        \"Pedomicrobium\"    \n",
       "[19] \"Phyllobacterium\"   \"Rhizobium\"         \"Roseomonas\"       \n",
       "[22] \"Sphingobium\"       \"Sphingomonas\"      \"Sphingopyxis\"     \n",
       "[25] \"Acidovorax\"        \"Azoarcus\"          \"Azospira\"         \n",
       "[28] \"Burkholderia\"      \"Comamonas\"         \"Cupriavidus\"      \n",
       "[31] \"Curvibacter\"       \"Delftia\"           \"Duganella\"        \n",
       "[34] \"Herbaspirillum\"    \"Janthinobacterium\" \"Kingella\"         \n",
       "[37] \"Leptothrix\"        \"Limnobacter\"       \"Massilia\"         \n",
       "[40] \"Methylophilus\"     \"Methyloversatilis\" \"Oxalobacter\"      \n",
       "[43] \"Pelomonas\"         \"Polaromonas\"       \"Ralstonia\"        \n",
       "[46] \"Schlegelella\"      \"Sulfuritalea\"      \"Undibacterium\"    \n",
       "[49] \"Variovorax\"        \"Acinetobacter\"     \"Enhydrobacter\"    \n",
       "[52] \"Enterobacter\"      \"Escherichia\"       \"Nevskia\"          \n",
       "[55] \"Pseudomonas\"       \"Pseudoxanthomonas\" \"Psychrobacter\"    \n",
       "[58] \"Stenotrophomonas\"  \"Xanthomonas\"       \"Aeromicrobium\"    \n",
       "[61] \"Arthrobacter\"      \"Beutenbergia\"      \"Brevibacterium\"   \n",
       "[64] \"Corynebacterium\"   \"Curtobacterium\"    \"Dietzia\"          \n",
       "[67] \"Geodermatophilus\"  \"Janibacter\"        \"Kocuria\"          \n",
       "[70] \"Microbacterium\"    \"Micrococcus\"       \"Microlunatus\"     \n",
       "[73] \"Patulibacter\"      \"Propionibacterium\" \"Rhodococcus\"      \n",
       "[76] \"Tsukamurella\"      \"Abiotrophia\"       \"Bacillus\"         \n",
       "[79] \"Brevibacillus\"     \"Brochothrix\"       \"Facklamia\"        \n",
       "[82] \"Paenibacillus\"     \"Streptococcus\"     \"Chryseobacterium\" \n",
       "[85] \"Dyadobacter\"       \"Flavobacterium\"    \"Hydrotalea\"       \n",
       "[88] \"Niastella\"         \"Olivibacter\"       \"Pedobacter\"       \n",
       "[91] \"Wautersiella\"      \"Deinococcus\"      "
      ]
     },
     "metadata": {},
     "output_type": "display_data"
    }
   ],
   "source": [
    "contam <- read.table(\"data/contaminant_list_salter_2014.txt\", header = F, sep = \",\")\n",
    "contam_list <- str_trim(as.character(contam))\n",
    "contam_list"
   ]
  },
  {
   "cell_type": "markdown",
   "id": "8876a48d",
   "metadata": {},
   "source": [
    "### Load and parse data"
   ]
  },
  {
   "cell_type": "code",
   "execution_count": 5,
   "id": "9d77d78f",
   "metadata": {
    "scrolled": false
   },
   "outputs": [],
   "source": [
    "load_data <- function(file_path) {\n",
    "    df <- fread(file_path) %>%\n",
    "        separate(sample, into = c(NA, \"npm_research_id\"), sep = \"\\\\.\")\n",
    "    return(df)\n",
    "}"
   ]
  },
  {
   "cell_type": "code",
   "execution_count": 6,
   "id": "aeb621d3",
   "metadata": {},
   "outputs": [],
   "source": [
    "rank <- \"S\"\n",
    "n_subset <- 9999\n",
    "\n",
    "species_df <- load_data(str_glue(\"data/temp_files_{n_subset}/07_abundance_matrix/abundance_matrix.subset_{n_subset}.{rank}.tsv\")) %>%\n",
    "      filter(npm_research_id %in% to_retain)\n",
    "\n",
    "species_t <- t(species_df %>% select(-npm_research_id, -unclassified, -\"Homo sapiens\"))\n",
    "species_t <- as.data.frame(species_t)\n",
    "colnames(species_t) <- species_df$npm_research_id"
   ]
  },
  {
   "cell_type": "markdown",
   "id": "ae2977c1",
   "metadata": {},
   "source": [
    "#### Relative abundance"
   ]
  },
  {
   "cell_type": "code",
   "execution_count": 7,
   "id": "45b5a64c",
   "metadata": {},
   "outputs": [],
   "source": [
    "otu_to_RA <- function(df) {\n",
    "    row_names <- df$npm_research_id\n",
    "    RA_df <- t(apply(df[, 2:ncol(df)], 1, function(x) {x / sum(x)}))\n",
    "    \n",
    "    return(cbind(data.frame(npm_research_id = row_names), as.data.frame(RA_df, check.names = F)))\n",
    "}\n",
    "\n",
    "species_RA <- otu_to_RA(species_df %>% select(-unclassified, -\"Homo sapiens\"))"
   ]
  },
  {
   "cell_type": "markdown",
   "id": "ac469f82",
   "metadata": {},
   "source": [
    "#### CLR transform"
   ]
  },
  {
   "cell_type": "code",
   "execution_count": 8,
   "id": "ea64ac91",
   "metadata": {
    "scrolled": true
   },
   "outputs": [
    {
     "data": {
      "text/html": [
       "<table class=\"dataframe\">\n",
       "<caption>A data.frame: 6 × 5200</caption>\n",
       "<thead>\n",
       "\t<tr><th></th><th scope=col>npm_research_id</th><th scope=col>Paraburkholderia fungorum</th><th scope=col>Paraburkholderia xenovorans</th><th scope=col>Paraburkholderia hospita</th><th scope=col>Ralstonia pickettii</th><th scope=col>Ralstonia insidiosa</th><th scope=col>Ralstonia mannitolilytica</th><th scope=col>Ralstonia solanacearum</th><th scope=col>Burkholderia cepacia</th><th scope=col>Burkholderia sp. LA-2-3-30-S1-D2</th><th scope=col>⋯</th><th scope=col>Mycobacterium virus Che12</th><th scope=col>Grapevine Cabernet Sauvignon reovirus</th><th scope=col>Delftia phage IME-DE1</th><th scope=col>Fowlpox virus</th><th scope=col>Bacillus sp. Pc3</th><th scope=col>Agrotis segetum nucleopolyhedrovirus B</th><th scope=col>Vibrio phage 11895-B1</th><th scope=col>Mycobacterium phage Milly</th><th scope=col>Cacao swollen shoot Togo A virus</th><th scope=col>Streptomyces phage phiSASD1</th></tr>\n",
       "\t<tr><th></th><th scope=col>&lt;chr&gt;</th><th scope=col>&lt;dbl&gt;</th><th scope=col>&lt;dbl&gt;</th><th scope=col>&lt;dbl&gt;</th><th scope=col>&lt;dbl&gt;</th><th scope=col>&lt;dbl&gt;</th><th scope=col>&lt;dbl&gt;</th><th scope=col>&lt;dbl&gt;</th><th scope=col>&lt;dbl&gt;</th><th scope=col>&lt;dbl&gt;</th><th scope=col>⋯</th><th scope=col>&lt;dbl&gt;</th><th scope=col>&lt;dbl&gt;</th><th scope=col>&lt;dbl&gt;</th><th scope=col>&lt;dbl&gt;</th><th scope=col>&lt;dbl&gt;</th><th scope=col>&lt;dbl&gt;</th><th scope=col>&lt;dbl&gt;</th><th scope=col>&lt;dbl&gt;</th><th scope=col>&lt;dbl&gt;</th><th scope=col>&lt;dbl&gt;</th></tr>\n",
       "</thead>\n",
       "<tbody>\n",
       "\t<tr><th scope=row>1</th><td>WHB669 </td><td> 4.78256166</td><td>0.1004304</td><td> 0.1004304</td><td> 3.2991036</td><td>0.5058955</td><td> 0.10043043</td><td>-0.59271675</td><td> 0.1004304</td><td>-0.5927167</td><td>⋯</td><td>0</td><td>0</td><td>0</td><td>0</td><td>0</td><td>0</td><td>0</td><td>0</td><td>0</td><td>0</td></tr>\n",
       "\t<tr><th scope=row>2</th><td>WHB8678</td><td>-0.07251289</td><td>0.0000000</td><td> 0.0000000</td><td> 0.7747850</td><td>2.5177543</td><td> 0.00000000</td><td>-0.07251289</td><td> 0.4383127</td><td> 0.0000000</td><td>⋯</td><td>0</td><td>0</td><td>0</td><td>0</td><td>0</td><td>0</td><td>0</td><td>0</td><td>0</td><td>0</td></tr>\n",
       "\t<tr><th scope=row>3</th><td>WHH7080</td><td>-0.77793530</td><td>0.0000000</td><td> 0.0000000</td><td>-0.7779353</td><td>0.8315026</td><td>-0.08478812</td><td>-0.08478812</td><td> 0.0000000</td><td> 0.0000000</td><td>⋯</td><td>0</td><td>0</td><td>0</td><td>0</td><td>0</td><td>0</td><td>0</td><td>0</td><td>0</td><td>0</td></tr>\n",
       "\t<tr><th scope=row>4</th><td>WHB4818</td><td> 0.00000000</td><td>0.0000000</td><td> 0.0000000</td><td> 0.0000000</td><td>0.4173003</td><td> 0.00000000</td><td> 0.00000000</td><td> 0.0000000</td><td> 0.0000000</td><td>⋯</td><td>0</td><td>0</td><td>0</td><td>0</td><td>0</td><td>0</td><td>0</td><td>0</td><td>0</td><td>0</td></tr>\n",
       "\t<tr><th scope=row>5</th><td>WHB9470</td><td>-0.24787608</td><td>0.0000000</td><td>-0.9410233</td><td> 1.0048869</td><td>1.1384183</td><td> 0.44527110</td><td> 1.36156183</td><td>-0.2478761</td><td> 0.0000000</td><td>⋯</td><td>0</td><td>0</td><td>0</td><td>0</td><td>0</td><td>0</td><td>0</td><td>0</td><td>0</td><td>0</td></tr>\n",
       "\t<tr><th scope=row>6</th><td>WHB4637</td><td> 0.00000000</td><td>0.0000000</td><td> 0.0000000</td><td> 0.0000000</td><td>0.1290949</td><td> 0.00000000</td><td> 0.00000000</td><td> 0.0000000</td><td> 0.0000000</td><td>⋯</td><td>0</td><td>0</td><td>0</td><td>0</td><td>0</td><td>0</td><td>0</td><td>0</td><td>0</td><td>0</td></tr>\n",
       "</tbody>\n",
       "</table>\n"
      ],
      "text/latex": [
       "A data.frame: 6 × 5200\n",
       "\\begin{tabular}{r|lllllllllllllllllllll}\n",
       "  & npm\\_research\\_id & Paraburkholderia fungorum & Paraburkholderia xenovorans & Paraburkholderia hospita & Ralstonia pickettii & Ralstonia insidiosa & Ralstonia mannitolilytica & Ralstonia solanacearum & Burkholderia cepacia & Burkholderia sp. LA-2-3-30-S1-D2 & ⋯ & Mycobacterium virus Che12 & Grapevine Cabernet Sauvignon reovirus & Delftia phage IME-DE1 & Fowlpox virus & Bacillus sp. Pc3 & Agrotis segetum nucleopolyhedrovirus B & Vibrio phage 11895-B1 & Mycobacterium phage Milly & Cacao swollen shoot Togo A virus & Streptomyces phage phiSASD1\\\\\n",
       "  & <chr> & <dbl> & <dbl> & <dbl> & <dbl> & <dbl> & <dbl> & <dbl> & <dbl> & <dbl> & ⋯ & <dbl> & <dbl> & <dbl> & <dbl> & <dbl> & <dbl> & <dbl> & <dbl> & <dbl> & <dbl>\\\\\n",
       "\\hline\n",
       "\t1 & WHB669  &  4.78256166 & 0.1004304 &  0.1004304 &  3.2991036 & 0.5058955 &  0.10043043 & -0.59271675 &  0.1004304 & -0.5927167 & ⋯ & 0 & 0 & 0 & 0 & 0 & 0 & 0 & 0 & 0 & 0\\\\\n",
       "\t2 & WHB8678 & -0.07251289 & 0.0000000 &  0.0000000 &  0.7747850 & 2.5177543 &  0.00000000 & -0.07251289 &  0.4383127 &  0.0000000 & ⋯ & 0 & 0 & 0 & 0 & 0 & 0 & 0 & 0 & 0 & 0\\\\\n",
       "\t3 & WHH7080 & -0.77793530 & 0.0000000 &  0.0000000 & -0.7779353 & 0.8315026 & -0.08478812 & -0.08478812 &  0.0000000 &  0.0000000 & ⋯ & 0 & 0 & 0 & 0 & 0 & 0 & 0 & 0 & 0 & 0\\\\\n",
       "\t4 & WHB4818 &  0.00000000 & 0.0000000 &  0.0000000 &  0.0000000 & 0.4173003 &  0.00000000 &  0.00000000 &  0.0000000 &  0.0000000 & ⋯ & 0 & 0 & 0 & 0 & 0 & 0 & 0 & 0 & 0 & 0\\\\\n",
       "\t5 & WHB9470 & -0.24787608 & 0.0000000 & -0.9410233 &  1.0048869 & 1.1384183 &  0.44527110 &  1.36156183 & -0.2478761 &  0.0000000 & ⋯ & 0 & 0 & 0 & 0 & 0 & 0 & 0 & 0 & 0 & 0\\\\\n",
       "\t6 & WHB4637 &  0.00000000 & 0.0000000 &  0.0000000 &  0.0000000 & 0.1290949 &  0.00000000 &  0.00000000 &  0.0000000 &  0.0000000 & ⋯ & 0 & 0 & 0 & 0 & 0 & 0 & 0 & 0 & 0 & 0\\\\\n",
       "\\end{tabular}\n"
      ],
      "text/markdown": [
       "\n",
       "A data.frame: 6 × 5200\n",
       "\n",
       "| <!--/--> | npm_research_id &lt;chr&gt; | Paraburkholderia fungorum &lt;dbl&gt; | Paraburkholderia xenovorans &lt;dbl&gt; | Paraburkholderia hospita &lt;dbl&gt; | Ralstonia pickettii &lt;dbl&gt; | Ralstonia insidiosa &lt;dbl&gt; | Ralstonia mannitolilytica &lt;dbl&gt; | Ralstonia solanacearum &lt;dbl&gt; | Burkholderia cepacia &lt;dbl&gt; | Burkholderia sp. LA-2-3-30-S1-D2 &lt;dbl&gt; | ⋯ ⋯ | Mycobacterium virus Che12 &lt;dbl&gt; | Grapevine Cabernet Sauvignon reovirus &lt;dbl&gt; | Delftia phage IME-DE1 &lt;dbl&gt; | Fowlpox virus &lt;dbl&gt; | Bacillus sp. Pc3 &lt;dbl&gt; | Agrotis segetum nucleopolyhedrovirus B &lt;dbl&gt; | Vibrio phage 11895-B1 &lt;dbl&gt; | Mycobacterium phage Milly &lt;dbl&gt; | Cacao swollen shoot Togo A virus &lt;dbl&gt; | Streptomyces phage phiSASD1 &lt;dbl&gt; |\n",
       "|---|---|---|---|---|---|---|---|---|---|---|---|---|---|---|---|---|---|---|---|---|---|\n",
       "| 1 | WHB669  |  4.78256166 | 0.1004304 |  0.1004304 |  3.2991036 | 0.5058955 |  0.10043043 | -0.59271675 |  0.1004304 | -0.5927167 | ⋯ | 0 | 0 | 0 | 0 | 0 | 0 | 0 | 0 | 0 | 0 |\n",
       "| 2 | WHB8678 | -0.07251289 | 0.0000000 |  0.0000000 |  0.7747850 | 2.5177543 |  0.00000000 | -0.07251289 |  0.4383127 |  0.0000000 | ⋯ | 0 | 0 | 0 | 0 | 0 | 0 | 0 | 0 | 0 | 0 |\n",
       "| 3 | WHH7080 | -0.77793530 | 0.0000000 |  0.0000000 | -0.7779353 | 0.8315026 | -0.08478812 | -0.08478812 |  0.0000000 |  0.0000000 | ⋯ | 0 | 0 | 0 | 0 | 0 | 0 | 0 | 0 | 0 | 0 |\n",
       "| 4 | WHB4818 |  0.00000000 | 0.0000000 |  0.0000000 |  0.0000000 | 0.4173003 |  0.00000000 |  0.00000000 |  0.0000000 |  0.0000000 | ⋯ | 0 | 0 | 0 | 0 | 0 | 0 | 0 | 0 | 0 | 0 |\n",
       "| 5 | WHB9470 | -0.24787608 | 0.0000000 | -0.9410233 |  1.0048869 | 1.1384183 |  0.44527110 |  1.36156183 | -0.2478761 |  0.0000000 | ⋯ | 0 | 0 | 0 | 0 | 0 | 0 | 0 | 0 | 0 | 0 |\n",
       "| 6 | WHB4637 |  0.00000000 | 0.0000000 |  0.0000000 |  0.0000000 | 0.1290949 |  0.00000000 |  0.00000000 |  0.0000000 |  0.0000000 | ⋯ | 0 | 0 | 0 | 0 | 0 | 0 | 0 | 0 | 0 | 0 |\n",
       "\n"
      ],
      "text/plain": [
       "  npm_research_id Paraburkholderia fungorum Paraburkholderia xenovorans\n",
       "1 WHB669           4.78256166               0.1004304                  \n",
       "2 WHB8678         -0.07251289               0.0000000                  \n",
       "3 WHH7080         -0.77793530               0.0000000                  \n",
       "4 WHB4818          0.00000000               0.0000000                  \n",
       "5 WHB9470         -0.24787608               0.0000000                  \n",
       "6 WHB4637          0.00000000               0.0000000                  \n",
       "  Paraburkholderia hospita Ralstonia pickettii Ralstonia insidiosa\n",
       "1  0.1004304                3.2991036          0.5058955          \n",
       "2  0.0000000                0.7747850          2.5177543          \n",
       "3  0.0000000               -0.7779353          0.8315026          \n",
       "4  0.0000000                0.0000000          0.4173003          \n",
       "5 -0.9410233                1.0048869          1.1384183          \n",
       "6  0.0000000                0.0000000          0.1290949          \n",
       "  Ralstonia mannitolilytica Ralstonia solanacearum Burkholderia cepacia\n",
       "1  0.10043043               -0.59271675             0.1004304          \n",
       "2  0.00000000               -0.07251289             0.4383127          \n",
       "3 -0.08478812               -0.08478812             0.0000000          \n",
       "4  0.00000000                0.00000000             0.0000000          \n",
       "5  0.44527110                1.36156183            -0.2478761          \n",
       "6  0.00000000                0.00000000             0.0000000          \n",
       "  Burkholderia sp. LA-2-3-30-S1-D2 ⋯ Mycobacterium virus Che12\n",
       "1 -0.5927167                       ⋯ 0                        \n",
       "2  0.0000000                       ⋯ 0                        \n",
       "3  0.0000000                       ⋯ 0                        \n",
       "4  0.0000000                       ⋯ 0                        \n",
       "5  0.0000000                       ⋯ 0                        \n",
       "6  0.0000000                       ⋯ 0                        \n",
       "  Grapevine Cabernet Sauvignon reovirus Delftia phage IME-DE1 Fowlpox virus\n",
       "1 0                                     0                     0            \n",
       "2 0                                     0                     0            \n",
       "3 0                                     0                     0            \n",
       "4 0                                     0                     0            \n",
       "5 0                                     0                     0            \n",
       "6 0                                     0                     0            \n",
       "  Bacillus sp. Pc3 Agrotis segetum nucleopolyhedrovirus B Vibrio phage 11895-B1\n",
       "1 0                0                                      0                    \n",
       "2 0                0                                      0                    \n",
       "3 0                0                                      0                    \n",
       "4 0                0                                      0                    \n",
       "5 0                0                                      0                    \n",
       "6 0                0                                      0                    \n",
       "  Mycobacterium phage Milly Cacao swollen shoot Togo A virus\n",
       "1 0                         0                               \n",
       "2 0                         0                               \n",
       "3 0                         0                               \n",
       "4 0                         0                               \n",
       "5 0                         0                               \n",
       "6 0                         0                               \n",
       "  Streptomyces phage phiSASD1\n",
       "1 0                          \n",
       "2 0                          \n",
       "3 0                          \n",
       "4 0                          \n",
       "5 0                          \n",
       "6 0                          "
      ]
     },
     "metadata": {},
     "output_type": "display_data"
    }
   ],
   "source": [
    "RA_to_clr <- function(df) {\n",
    "    row_names <- df$npm_research_id\n",
    "    clr_df <- clr(df %>% select(where(is.numeric)))\n",
    "    return(cbind(data.frame(npm_research_id = row_names), as.data.frame(clr_df, check.names = F)))\n",
    "}\n",
    "\n",
    "species_clr <- RA_to_clr(species_RA)\n",
    "head(species_clr)"
   ]
  },
  {
   "cell_type": "code",
   "execution_count": 9,
   "id": "41186244",
   "metadata": {},
   "outputs": [
    {
     "name": "stderr",
     "output_type": "stream",
     "text": [
      "Joining, by = \"npm_research_id\"\n",
      "\n"
     ]
    }
   ],
   "source": [
    "species_long <- species_clr %>%\n",
    "    pivot_longer(where(is.numeric), names_to = \"taxa\", values_to = \"clr\") %>%\n",
    "    left_join(meta %>% select(all_of(c(\"npm_research_id\", meta_cols))))"
   ]
  },
  {
   "cell_type": "markdown",
   "id": "42a746fd",
   "metadata": {},
   "source": [
    "### Combine non-contaminant list from different filters"
   ]
  },
  {
   "cell_type": "markdown",
   "id": "9340eacf",
   "metadata": {},
   "source": [
    "#### Differential abundance"
   ]
  },
  {
   "cell_type": "code",
   "execution_count": 13,
   "id": "cb7cb489",
   "metadata": {},
   "outputs": [
    {
     "data": {
      "text/html": [
       "<style>\n",
       ".list-inline {list-style: none; margin:0; padding: 0}\n",
       ".list-inline>li {display: inline-block}\n",
       ".list-inline>li:not(:last-child)::after {content: \"\\00b7\"; padding: 0 .5ex}\n",
       "</style>\n",
       "<ol class=list-inline><li>'contams.n9999.min_samples10.l15h85.txt'</li><li>'nc.n9999.min_samples10.l15h85.txt'</li><li>'raw_results.n9999.min_samples10.l15h85.csv'</li><li>'unknowns.n9999.min_samples10.l15h85.txt'</li></ol>\n"
      ],
      "text/latex": [
       "\\begin{enumerate*}\n",
       "\\item 'contams.n9999.min\\_samples10.l15h85.txt'\n",
       "\\item 'nc.n9999.min\\_samples10.l15h85.txt'\n",
       "\\item 'raw\\_results.n9999.min\\_samples10.l15h85.csv'\n",
       "\\item 'unknowns.n9999.min\\_samples10.l15h85.txt'\n",
       "\\end{enumerate*}\n"
      ],
      "text/markdown": [
       "1. 'contams.n9999.min_samples10.l15h85.txt'\n",
       "2. 'nc.n9999.min_samples10.l15h85.txt'\n",
       "3. 'raw_results.n9999.min_samples10.l15h85.csv'\n",
       "4. 'unknowns.n9999.min_samples10.l15h85.txt'\n",
       "\n",
       "\n"
      ],
      "text/plain": [
       "[1] \"contams.n9999.min_samples10.l15h85.txt\"    \n",
       "[2] \"nc.n9999.min_samples10.l15h85.txt\"         \n",
       "[3] \"raw_results.n9999.min_samples10.l15h85.csv\"\n",
       "[4] \"unknowns.n9999.min_samples10.l15h85.txt\"   "
      ]
     },
     "metadata": {},
     "output_type": "display_data"
    }
   ],
   "source": [
    "files"
   ]
  },
  {
   "cell_type": "code",
   "execution_count": 15,
   "id": "6d5b0247",
   "metadata": {},
   "outputs": [
    {
     "data": {
      "text/html": [
       "186"
      ],
      "text/latex": [
       "186"
      ],
      "text/markdown": [
       "186"
      ],
      "text/plain": [
       "[1] 186"
      ]
     },
     "metadata": {},
     "output_type": "display_data"
    },
    {
     "data": {
      "text/html": [
       "141"
      ],
      "text/latex": [
       "141"
      ],
      "text/markdown": [
       "141"
      ],
      "text/plain": [
       "[1] 141"
      ]
     },
     "metadata": {},
     "output_type": "display_data"
    }
   ],
   "source": [
    "perc_t <- \"l15h85\"\n",
    "res_dir <- \"results/decontamination/clr_decontamination\"\n",
    "files <- list.files(res_dir)\n",
    "files <- files[grepl(str_glue(\"n9999.min_samples10.{perc_t}\"), files)]\n",
    "\n",
    "nc_file <- files[grepl(\"nc.\", files)]\n",
    "unknown_file <- files[grepl(\"unknown.\", files)]\n",
    "contam_file <- files[grepl(\"contams.\", files)]\n",
    "\n",
    "diff_abn_nc <- read.csv(str_glue(\"{res_dir}/{nc_file}\"))$taxa\n",
    "diff_abn_c <- read.csv(str_glue(\"{res_dir}/{contam_file}\"))$taxa\n",
    "diff_abn_unknown <- read.csv(str_glue(\"{res_dir}/{unknown_file}\"))$taxa\n",
    "\n",
    "non_zero <- c(diff_abn_nc, diff_abn_c)\n",
    "\n",
    "length(diff_abn_nc)\n",
    "length(diff_abn_unknown)"
   ]
  },
  {
   "cell_type": "markdown",
   "id": "4f9f6b90",
   "metadata": {},
   "source": [
    "#### Differential prevalence"
   ]
  },
  {
   "cell_type": "code",
   "execution_count": 16,
   "id": "93886c4e",
   "metadata": {},
   "outputs": [
    {
     "data": {
      "text/html": [
       "1514"
      ],
      "text/latex": [
       "1514"
      ],
      "text/markdown": [
       "1514"
      ],
      "text/plain": [
       "[1] 1514"
      ]
     },
     "metadata": {},
     "output_type": "display_data"
    },
    {
     "data": {
      "text/html": [
       "669"
      ],
      "text/latex": [
       "669"
      ],
      "text/markdown": [
       "669"
      ],
      "text/plain": [
       "[1] 669"
      ]
     },
     "metadata": {},
     "output_type": "display_data"
    }
   ],
   "source": [
    "diff_prev_nc <- read.csv(\"results/decontamination/diff_prev_V2/noncontam.min_samples100.raw.read_t10.S.n9999.txt\")$non_contaminants\n",
    "diff_prev_c <- read.csv(\"results/decontamination/diff_prev_V2/contam.min_samples100.raw.read_t10.S.n9999.txt\")$contaminants\n",
    "length(diff_prev_nc)\n",
    "length(diff_prev_c)"
   ]
  },
  {
   "cell_type": "markdown",
   "id": "b9df24bf",
   "metadata": {},
   "source": [
    "#### Correlation filter"
   ]
  },
  {
   "cell_type": "code",
   "execution_count": 24,
   "id": "bf7443b3",
   "metadata": {},
   "outputs": [
    {
     "data": {
      "text/html": [
       "130"
      ],
      "text/latex": [
       "130"
      ],
      "text/markdown": [
       "130"
      ],
      "text/plain": [
       "[1] 130"
      ]
     },
     "metadata": {},
     "output_type": "display_data"
    }
   ],
   "source": [
    "corr_nc <- read.csv(str_glue(\"results/decontamination/correlation_decontamination/nc.diff_prev.diff_abn.l15h85.corr_t0.1.S.n9999.txt\"))$non_contaminant_taxon\n",
    "# corr_c <- read.csv(str_glue(\"results/decontamination/correlation_decontamination/contam.diff_prev.diff_abn.{perc_t}.S.n9999.txt\"))$contaminants\n",
    "\n",
    "length(corr_nc)"
   ]
  },
  {
   "cell_type": "markdown",
   "id": "8599043a",
   "metadata": {},
   "source": [
    "### Summary stats of non-contaminants"
   ]
  },
  {
   "cell_type": "markdown",
   "id": "e431468c",
   "metadata": {},
   "source": [
    "#### Max read count"
   ]
  },
  {
   "cell_type": "code",
   "execution_count": 25,
   "id": "0faf41a2",
   "metadata": {
    "scrolled": true
   },
   "outputs": [],
   "source": [
    "max_df <- species_df %>% \n",
    "    select(all_of(corr_nc)) %>%\n",
    "    pivot_longer(everything(), names_to = \"taxa\", values_to = \"read_count\") %>%\n",
    "    group_by(taxa) %>%\n",
    "    summarise(max_count = max(read_count)) %>%\n",
    "    arrange(desc(max_count))"
   ]
  },
  {
   "cell_type": "markdown",
   "id": "ee898d66",
   "metadata": {},
   "source": [
    "#### Overall prevalence"
   ]
  },
  {
   "cell_type": "code",
   "execution_count": 26,
   "id": "84ce2885",
   "metadata": {},
   "outputs": [],
   "source": [
    "otu_to_pa <- function(df, read_t) {\n",
    "    pa_df <- as.matrix(df %>% select(-npm_research_id))\n",
    "    pa_df[pa_df <= read_t] <- 0\n",
    "    pa_df[pa_df > read_t] <- 1\n",
    "    pa_df <- as_tibble(pa_df) %>% add_column(npm_research_id = df$npm_research_id, .before = 1)\n",
    "    return(pa_df)\n",
    "}\n",
    "\n",
    "read_t <- 10\n",
    "species_prev <- otu_to_pa(species_df %>% select(-unclassified, -\"Homo sapiens\"), read_t)\n",
    "prev_stats <- apply(species_prev[, 2:ncol(species_prev)], 2, sum) / nrow(species_prev)\n",
    "overall_prev <- data.frame(taxa = names(prev_stats), overall_prevalence = as.vector(prev_stats))"
   ]
  },
  {
   "cell_type": "code",
   "execution_count": 28,
   "id": "663d7248",
   "metadata": {
    "scrolled": true
   },
   "outputs": [
    {
     "name": "stderr",
     "output_type": "stream",
     "text": [
      "Joining, by = \"taxa\"\n",
      "\n"
     ]
    },
    {
     "data": {
      "text/html": [
       "<table class=\"dataframe\">\n",
       "<caption>A tibble: 130 × 4</caption>\n",
       "<thead>\n",
       "\t<tr><th scope=col>taxa</th><th scope=col>max_count</th><th scope=col>overall_prevalence</th><th scope=col>n_samples</th></tr>\n",
       "\t<tr><th scope=col>&lt;chr&gt;</th><th scope=col>&lt;dbl&gt;</th><th scope=col>&lt;dbl&gt;</th><th scope=col>&lt;dbl&gt;</th></tr>\n",
       "</thead>\n",
       "<tbody>\n",
       "\t<tr><td>Ureaplasma urealyticum                              </td><td>20186</td><td>0.0006874427</td><td> 6</td></tr>\n",
       "\t<tr><td>Rickettsia felis                                    </td><td>11403</td><td>0.0004582951</td><td> 4</td></tr>\n",
       "\t<tr><td>Human betaherpesvirus 6A                            </td><td> 8777</td><td>0.0030934922</td><td>27</td></tr>\n",
       "\t<tr><td>Human betaherpesvirus 6B                            </td><td> 8491</td><td>0.0043538038</td><td>38</td></tr>\n",
       "\t<tr><td>Autographa californica multiple nucleopolyhedrovirus</td><td> 2700</td><td>0.0018331806</td><td>16</td></tr>\n",
       "\t<tr><td>Streptococcus pseudoporcinus                        </td><td> 1438</td><td>0.0002291476</td><td> 2</td></tr>\n",
       "\t<tr><td>Aggregatibacter segnis                              </td><td> 1045</td><td>0.0005728689</td><td> 5</td></tr>\n",
       "\t<tr><td>Prevotella oris                                     </td><td>  853</td><td>0.0006874427</td><td> 6</td></tr>\n",
       "\t<tr><td>Streptococcus dysgalactiae                          </td><td>  530</td><td>0.0001145738</td><td> 1</td></tr>\n",
       "\t<tr><td>Streptococcus sp. oral taxon 064                    </td><td>  291</td><td>0.0005728689</td><td> 5</td></tr>\n",
       "\t<tr><td>Ruminococcus bicirculans                            </td><td>  253</td><td>0.0009165903</td><td> 8</td></tr>\n",
       "\t<tr><td>Torque teno virus 23                                </td><td>  237</td><td>0.0001145738</td><td> 1</td></tr>\n",
       "\t<tr><td>Leptotrichia buccalis                               </td><td>  232</td><td>0.0003437214</td><td> 3</td></tr>\n",
       "\t<tr><td>Parabacteroides sp. CT06                            </td><td>  211</td><td>0.0016040330</td><td>14</td></tr>\n",
       "\t<tr><td>Flavobacterium indicum                              </td><td>  157</td><td>0.0003437214</td><td> 3</td></tr>\n",
       "\t<tr><td>Mageeibacillus indolicus                            </td><td>  150</td><td>0.0003437214</td><td> 3</td></tr>\n",
       "\t<tr><td>Streptococcus intermedius                           </td><td>  149</td><td>0.0003437214</td><td> 3</td></tr>\n",
       "\t<tr><td>Tannerella forsythia                                </td><td>  146</td><td>0.0006874427</td><td> 6</td></tr>\n",
       "\t<tr><td>Prevotella fusca                                    </td><td>  142</td><td>0.0003437214</td><td> 3</td></tr>\n",
       "\t<tr><td>Acinetobacter equi                                  </td><td>  116</td><td>0.0002291476</td><td> 2</td></tr>\n",
       "\t<tr><td>Aerococcus christensenii                            </td><td>  113</td><td>0.0012603116</td><td>11</td></tr>\n",
       "\t<tr><td>Staphylococcus auricularis                          </td><td>  111</td><td>0.0002291476</td><td> 2</td></tr>\n",
       "\t<tr><td>Torque teno mini virus 7                            </td><td>  109</td><td>0.0002291476</td><td> 2</td></tr>\n",
       "\t<tr><td>Bacillus mycoides                                   </td><td>  104</td><td>0.0003437214</td><td> 3</td></tr>\n",
       "\t<tr><td>Streptococcus sp. NPS 308                           </td><td>   95</td><td>0.0009165903</td><td> 8</td></tr>\n",
       "\t<tr><td>Peptostreptococcaceae bacterium oral taxon 929      </td><td>   93</td><td>0.0004582951</td><td> 4</td></tr>\n",
       "\t<tr><td>Acinetobacter oleivorans                            </td><td>   88</td><td>0.0003437214</td><td> 3</td></tr>\n",
       "\t<tr><td>Lactobacillus helveticus                            </td><td>   85</td><td>0.0001145738</td><td> 1</td></tr>\n",
       "\t<tr><td>Eubacterium hallii                                  </td><td>   83</td><td>0.0009165903</td><td> 8</td></tr>\n",
       "\t<tr><td>Haemophilus sp. oral taxon 036                      </td><td>   83</td><td>0.0003437214</td><td> 3</td></tr>\n",
       "\t<tr><td>⋮</td><td>⋮</td><td>⋮</td><td>⋮</td></tr>\n",
       "\t<tr><td>Flavobacterium crocinum           </td><td>17</td><td>0.0002291476</td><td>2</td></tr>\n",
       "\t<tr><td>Flavobacterium gilvum             </td><td>17</td><td>0.0002291476</td><td>2</td></tr>\n",
       "\t<tr><td>Niabella ginsenosidivorans        </td><td>17</td><td>0.0003437214</td><td>3</td></tr>\n",
       "\t<tr><td>Tenacibaculum mesophilum          </td><td>17</td><td>0.0002291476</td><td>2</td></tr>\n",
       "\t<tr><td>Flavobacterium kingsejongi        </td><td>16</td><td>0.0001145738</td><td>1</td></tr>\n",
       "\t<tr><td>Lactobacillus acidophilus         </td><td>16</td><td>0.0002291476</td><td>2</td></tr>\n",
       "\t<tr><td>Lutibacter sp. LPB0138            </td><td>16</td><td>0.0002291476</td><td>2</td></tr>\n",
       "\t<tr><td>Muricauda lutaonensis             </td><td>16</td><td>0.0001145738</td><td>1</td></tr>\n",
       "\t<tr><td>Aquimarina sp. AD10               </td><td>15</td><td>0.0001145738</td><td>1</td></tr>\n",
       "\t<tr><td>Cellulophaga lytica               </td><td>15</td><td>0.0002291476</td><td>2</td></tr>\n",
       "\t<tr><td>Chryseobacterium antarcticum      </td><td>15</td><td>0.0002291476</td><td>2</td></tr>\n",
       "\t<tr><td>Flavobacterium johnsoniae         </td><td>15</td><td>0.0003437214</td><td>3</td></tr>\n",
       "\t<tr><td>Gilvibacter sp. SZ-19             </td><td>15</td><td>0.0001145738</td><td>1</td></tr>\n",
       "\t<tr><td>Lactobacillus johnsonii           </td><td>15</td><td>0.0004582951</td><td>4</td></tr>\n",
       "\t<tr><td>Lutibacter profundi               </td><td>15</td><td>0.0001145738</td><td>1</td></tr>\n",
       "\t<tr><td>Paeniclostridium sordellii        </td><td>15</td><td>0.0001145738</td><td>1</td></tr>\n",
       "\t<tr><td>Aquimarina sp. AD1                </td><td>13</td><td>0.0001145738</td><td>1</td></tr>\n",
       "\t<tr><td>Arachidicoccus sp. KIS59-12       </td><td>13</td><td>0.0002291476</td><td>2</td></tr>\n",
       "\t<tr><td>Siansivirga zeaxanthinifaciens    </td><td>13</td><td>0.0003437214</td><td>3</td></tr>\n",
       "\t<tr><td>Tamlana sp. UJ94                  </td><td>13</td><td>0.0001145738</td><td>1</td></tr>\n",
       "\t<tr><td>Torque teno mini virus 18         </td><td>13</td><td>0.0001145738</td><td>1</td></tr>\n",
       "\t<tr><td>Vibrio breoganii                  </td><td>13</td><td>0.0001145738</td><td>1</td></tr>\n",
       "\t<tr><td>Dokdonia sp. PRO95                </td><td>12</td><td>0.0001145738</td><td>1</td></tr>\n",
       "\t<tr><td>Kordia sp. SMS9                   </td><td>12</td><td>0.0001145738</td><td>1</td></tr>\n",
       "\t<tr><td>Maribacter sp. T28                </td><td>12</td><td>0.0001145738</td><td>1</td></tr>\n",
       "\t<tr><td>Selenomonas sp. oral taxon 478    </td><td>12</td><td>0.0002291476</td><td>2</td></tr>\n",
       "\t<tr><td>uncultured crAssphage             </td><td>12</td><td>0.0001145738</td><td>1</td></tr>\n",
       "\t<tr><td>Chitinophaga caeni                </td><td>11</td><td>0.0001145738</td><td>1</td></tr>\n",
       "\t<tr><td>Desulfitobacterium metallireducens</td><td>11</td><td>0.0001145738</td><td>1</td></tr>\n",
       "\t<tr><td>Mariniflexile sp. TRM1-10         </td><td>11</td><td>0.0001145738</td><td>1</td></tr>\n",
       "</tbody>\n",
       "</table>\n"
      ],
      "text/latex": [
       "A tibble: 130 × 4\n",
       "\\begin{tabular}{llll}\n",
       " taxa & max\\_count & overall\\_prevalence & n\\_samples\\\\\n",
       " <chr> & <dbl> & <dbl> & <dbl>\\\\\n",
       "\\hline\n",
       "\t Ureaplasma urealyticum                               & 20186 & 0.0006874427 &  6\\\\\n",
       "\t Rickettsia felis                                     & 11403 & 0.0004582951 &  4\\\\\n",
       "\t Human betaherpesvirus 6A                             &  8777 & 0.0030934922 & 27\\\\\n",
       "\t Human betaherpesvirus 6B                             &  8491 & 0.0043538038 & 38\\\\\n",
       "\t Autographa californica multiple nucleopolyhedrovirus &  2700 & 0.0018331806 & 16\\\\\n",
       "\t Streptococcus pseudoporcinus                         &  1438 & 0.0002291476 &  2\\\\\n",
       "\t Aggregatibacter segnis                               &  1045 & 0.0005728689 &  5\\\\\n",
       "\t Prevotella oris                                      &   853 & 0.0006874427 &  6\\\\\n",
       "\t Streptococcus dysgalactiae                           &   530 & 0.0001145738 &  1\\\\\n",
       "\t Streptococcus sp. oral taxon 064                     &   291 & 0.0005728689 &  5\\\\\n",
       "\t Ruminococcus bicirculans                             &   253 & 0.0009165903 &  8\\\\\n",
       "\t Torque teno virus 23                                 &   237 & 0.0001145738 &  1\\\\\n",
       "\t Leptotrichia buccalis                                &   232 & 0.0003437214 &  3\\\\\n",
       "\t Parabacteroides sp. CT06                             &   211 & 0.0016040330 & 14\\\\\n",
       "\t Flavobacterium indicum                               &   157 & 0.0003437214 &  3\\\\\n",
       "\t Mageeibacillus indolicus                             &   150 & 0.0003437214 &  3\\\\\n",
       "\t Streptococcus intermedius                            &   149 & 0.0003437214 &  3\\\\\n",
       "\t Tannerella forsythia                                 &   146 & 0.0006874427 &  6\\\\\n",
       "\t Prevotella fusca                                     &   142 & 0.0003437214 &  3\\\\\n",
       "\t Acinetobacter equi                                   &   116 & 0.0002291476 &  2\\\\\n",
       "\t Aerococcus christensenii                             &   113 & 0.0012603116 & 11\\\\\n",
       "\t Staphylococcus auricularis                           &   111 & 0.0002291476 &  2\\\\\n",
       "\t Torque teno mini virus 7                             &   109 & 0.0002291476 &  2\\\\\n",
       "\t Bacillus mycoides                                    &   104 & 0.0003437214 &  3\\\\\n",
       "\t Streptococcus sp. NPS 308                            &    95 & 0.0009165903 &  8\\\\\n",
       "\t Peptostreptococcaceae bacterium oral taxon 929       &    93 & 0.0004582951 &  4\\\\\n",
       "\t Acinetobacter oleivorans                             &    88 & 0.0003437214 &  3\\\\\n",
       "\t Lactobacillus helveticus                             &    85 & 0.0001145738 &  1\\\\\n",
       "\t Eubacterium hallii                                   &    83 & 0.0009165903 &  8\\\\\n",
       "\t Haemophilus sp. oral taxon 036                       &    83 & 0.0003437214 &  3\\\\\n",
       "\t ⋮ & ⋮ & ⋮ & ⋮\\\\\n",
       "\t Flavobacterium crocinum            & 17 & 0.0002291476 & 2\\\\\n",
       "\t Flavobacterium gilvum              & 17 & 0.0002291476 & 2\\\\\n",
       "\t Niabella ginsenosidivorans         & 17 & 0.0003437214 & 3\\\\\n",
       "\t Tenacibaculum mesophilum           & 17 & 0.0002291476 & 2\\\\\n",
       "\t Flavobacterium kingsejongi         & 16 & 0.0001145738 & 1\\\\\n",
       "\t Lactobacillus acidophilus          & 16 & 0.0002291476 & 2\\\\\n",
       "\t Lutibacter sp. LPB0138             & 16 & 0.0002291476 & 2\\\\\n",
       "\t Muricauda lutaonensis              & 16 & 0.0001145738 & 1\\\\\n",
       "\t Aquimarina sp. AD10                & 15 & 0.0001145738 & 1\\\\\n",
       "\t Cellulophaga lytica                & 15 & 0.0002291476 & 2\\\\\n",
       "\t Chryseobacterium antarcticum       & 15 & 0.0002291476 & 2\\\\\n",
       "\t Flavobacterium johnsoniae          & 15 & 0.0003437214 & 3\\\\\n",
       "\t Gilvibacter sp. SZ-19              & 15 & 0.0001145738 & 1\\\\\n",
       "\t Lactobacillus johnsonii            & 15 & 0.0004582951 & 4\\\\\n",
       "\t Lutibacter profundi                & 15 & 0.0001145738 & 1\\\\\n",
       "\t Paeniclostridium sordellii         & 15 & 0.0001145738 & 1\\\\\n",
       "\t Aquimarina sp. AD1                 & 13 & 0.0001145738 & 1\\\\\n",
       "\t Arachidicoccus sp. KIS59-12        & 13 & 0.0002291476 & 2\\\\\n",
       "\t Siansivirga zeaxanthinifaciens     & 13 & 0.0003437214 & 3\\\\\n",
       "\t Tamlana sp. UJ94                   & 13 & 0.0001145738 & 1\\\\\n",
       "\t Torque teno mini virus 18          & 13 & 0.0001145738 & 1\\\\\n",
       "\t Vibrio breoganii                   & 13 & 0.0001145738 & 1\\\\\n",
       "\t Dokdonia sp. PRO95                 & 12 & 0.0001145738 & 1\\\\\n",
       "\t Kordia sp. SMS9                    & 12 & 0.0001145738 & 1\\\\\n",
       "\t Maribacter sp. T28                 & 12 & 0.0001145738 & 1\\\\\n",
       "\t Selenomonas sp. oral taxon 478     & 12 & 0.0002291476 & 2\\\\\n",
       "\t uncultured crAssphage              & 12 & 0.0001145738 & 1\\\\\n",
       "\t Chitinophaga caeni                 & 11 & 0.0001145738 & 1\\\\\n",
       "\t Desulfitobacterium metallireducens & 11 & 0.0001145738 & 1\\\\\n",
       "\t Mariniflexile sp. TRM1-10          & 11 & 0.0001145738 & 1\\\\\n",
       "\\end{tabular}\n"
      ],
      "text/markdown": [
       "\n",
       "A tibble: 130 × 4\n",
       "\n",
       "| taxa &lt;chr&gt; | max_count &lt;dbl&gt; | overall_prevalence &lt;dbl&gt; | n_samples &lt;dbl&gt; |\n",
       "|---|---|---|---|\n",
       "| Ureaplasma urealyticum                               | 20186 | 0.0006874427 |  6 |\n",
       "| Rickettsia felis                                     | 11403 | 0.0004582951 |  4 |\n",
       "| Human betaherpesvirus 6A                             |  8777 | 0.0030934922 | 27 |\n",
       "| Human betaherpesvirus 6B                             |  8491 | 0.0043538038 | 38 |\n",
       "| Autographa californica multiple nucleopolyhedrovirus |  2700 | 0.0018331806 | 16 |\n",
       "| Streptococcus pseudoporcinus                         |  1438 | 0.0002291476 |  2 |\n",
       "| Aggregatibacter segnis                               |  1045 | 0.0005728689 |  5 |\n",
       "| Prevotella oris                                      |   853 | 0.0006874427 |  6 |\n",
       "| Streptococcus dysgalactiae                           |   530 | 0.0001145738 |  1 |\n",
       "| Streptococcus sp. oral taxon 064                     |   291 | 0.0005728689 |  5 |\n",
       "| Ruminococcus bicirculans                             |   253 | 0.0009165903 |  8 |\n",
       "| Torque teno virus 23                                 |   237 | 0.0001145738 |  1 |\n",
       "| Leptotrichia buccalis                                |   232 | 0.0003437214 |  3 |\n",
       "| Parabacteroides sp. CT06                             |   211 | 0.0016040330 | 14 |\n",
       "| Flavobacterium indicum                               |   157 | 0.0003437214 |  3 |\n",
       "| Mageeibacillus indolicus                             |   150 | 0.0003437214 |  3 |\n",
       "| Streptococcus intermedius                            |   149 | 0.0003437214 |  3 |\n",
       "| Tannerella forsythia                                 |   146 | 0.0006874427 |  6 |\n",
       "| Prevotella fusca                                     |   142 | 0.0003437214 |  3 |\n",
       "| Acinetobacter equi                                   |   116 | 0.0002291476 |  2 |\n",
       "| Aerococcus christensenii                             |   113 | 0.0012603116 | 11 |\n",
       "| Staphylococcus auricularis                           |   111 | 0.0002291476 |  2 |\n",
       "| Torque teno mini virus 7                             |   109 | 0.0002291476 |  2 |\n",
       "| Bacillus mycoides                                    |   104 | 0.0003437214 |  3 |\n",
       "| Streptococcus sp. NPS 308                            |    95 | 0.0009165903 |  8 |\n",
       "| Peptostreptococcaceae bacterium oral taxon 929       |    93 | 0.0004582951 |  4 |\n",
       "| Acinetobacter oleivorans                             |    88 | 0.0003437214 |  3 |\n",
       "| Lactobacillus helveticus                             |    85 | 0.0001145738 |  1 |\n",
       "| Eubacterium hallii                                   |    83 | 0.0009165903 |  8 |\n",
       "| Haemophilus sp. oral taxon 036                       |    83 | 0.0003437214 |  3 |\n",
       "| ⋮ | ⋮ | ⋮ | ⋮ |\n",
       "| Flavobacterium crocinum            | 17 | 0.0002291476 | 2 |\n",
       "| Flavobacterium gilvum              | 17 | 0.0002291476 | 2 |\n",
       "| Niabella ginsenosidivorans         | 17 | 0.0003437214 | 3 |\n",
       "| Tenacibaculum mesophilum           | 17 | 0.0002291476 | 2 |\n",
       "| Flavobacterium kingsejongi         | 16 | 0.0001145738 | 1 |\n",
       "| Lactobacillus acidophilus          | 16 | 0.0002291476 | 2 |\n",
       "| Lutibacter sp. LPB0138             | 16 | 0.0002291476 | 2 |\n",
       "| Muricauda lutaonensis              | 16 | 0.0001145738 | 1 |\n",
       "| Aquimarina sp. AD10                | 15 | 0.0001145738 | 1 |\n",
       "| Cellulophaga lytica                | 15 | 0.0002291476 | 2 |\n",
       "| Chryseobacterium antarcticum       | 15 | 0.0002291476 | 2 |\n",
       "| Flavobacterium johnsoniae          | 15 | 0.0003437214 | 3 |\n",
       "| Gilvibacter sp. SZ-19              | 15 | 0.0001145738 | 1 |\n",
       "| Lactobacillus johnsonii            | 15 | 0.0004582951 | 4 |\n",
       "| Lutibacter profundi                | 15 | 0.0001145738 | 1 |\n",
       "| Paeniclostridium sordellii         | 15 | 0.0001145738 | 1 |\n",
       "| Aquimarina sp. AD1                 | 13 | 0.0001145738 | 1 |\n",
       "| Arachidicoccus sp. KIS59-12        | 13 | 0.0002291476 | 2 |\n",
       "| Siansivirga zeaxanthinifaciens     | 13 | 0.0003437214 | 3 |\n",
       "| Tamlana sp. UJ94                   | 13 | 0.0001145738 | 1 |\n",
       "| Torque teno mini virus 18          | 13 | 0.0001145738 | 1 |\n",
       "| Vibrio breoganii                   | 13 | 0.0001145738 | 1 |\n",
       "| Dokdonia sp. PRO95                 | 12 | 0.0001145738 | 1 |\n",
       "| Kordia sp. SMS9                    | 12 | 0.0001145738 | 1 |\n",
       "| Maribacter sp. T28                 | 12 | 0.0001145738 | 1 |\n",
       "| Selenomonas sp. oral taxon 478     | 12 | 0.0002291476 | 2 |\n",
       "| uncultured crAssphage              | 12 | 0.0001145738 | 1 |\n",
       "| Chitinophaga caeni                 | 11 | 0.0001145738 | 1 |\n",
       "| Desulfitobacterium metallireducens | 11 | 0.0001145738 | 1 |\n",
       "| Mariniflexile sp. TRM1-10          | 11 | 0.0001145738 | 1 |\n",
       "\n"
      ],
      "text/plain": [
       "    taxa                                                 max_count\n",
       "1   Ureaplasma urealyticum                               20186    \n",
       "2   Rickettsia felis                                     11403    \n",
       "3   Human betaherpesvirus 6A                              8777    \n",
       "4   Human betaherpesvirus 6B                              8491    \n",
       "5   Autographa californica multiple nucleopolyhedrovirus  2700    \n",
       "6   Streptococcus pseudoporcinus                          1438    \n",
       "7   Aggregatibacter segnis                                1045    \n",
       "8   Prevotella oris                                        853    \n",
       "9   Streptococcus dysgalactiae                             530    \n",
       "10  Streptococcus sp. oral taxon 064                       291    \n",
       "11  Ruminococcus bicirculans                               253    \n",
       "12  Torque teno virus 23                                   237    \n",
       "13  Leptotrichia buccalis                                  232    \n",
       "14  Parabacteroides sp. CT06                               211    \n",
       "15  Flavobacterium indicum                                 157    \n",
       "16  Mageeibacillus indolicus                               150    \n",
       "17  Streptococcus intermedius                              149    \n",
       "18  Tannerella forsythia                                   146    \n",
       "19  Prevotella fusca                                       142    \n",
       "20  Acinetobacter equi                                     116    \n",
       "21  Aerococcus christensenii                               113    \n",
       "22  Staphylococcus auricularis                             111    \n",
       "23  Torque teno mini virus 7                               109    \n",
       "24  Bacillus mycoides                                      104    \n",
       "25  Streptococcus sp. NPS 308                               95    \n",
       "26  Peptostreptococcaceae bacterium oral taxon 929          93    \n",
       "27  Acinetobacter oleivorans                                88    \n",
       "28  Lactobacillus helveticus                                85    \n",
       "29  Eubacterium hallii                                      83    \n",
       "30  Haemophilus sp. oral taxon 036                          83    \n",
       "⋮   ⋮                                                    ⋮        \n",
       "101 Flavobacterium crocinum                              17       \n",
       "102 Flavobacterium gilvum                                17       \n",
       "103 Niabella ginsenosidivorans                           17       \n",
       "104 Tenacibaculum mesophilum                             17       \n",
       "105 Flavobacterium kingsejongi                           16       \n",
       "106 Lactobacillus acidophilus                            16       \n",
       "107 Lutibacter sp. LPB0138                               16       \n",
       "108 Muricauda lutaonensis                                16       \n",
       "109 Aquimarina sp. AD10                                  15       \n",
       "110 Cellulophaga lytica                                  15       \n",
       "111 Chryseobacterium antarcticum                         15       \n",
       "112 Flavobacterium johnsoniae                            15       \n",
       "113 Gilvibacter sp. SZ-19                                15       \n",
       "114 Lactobacillus johnsonii                              15       \n",
       "115 Lutibacter profundi                                  15       \n",
       "116 Paeniclostridium sordellii                           15       \n",
       "117 Aquimarina sp. AD1                                   13       \n",
       "118 Arachidicoccus sp. KIS59-12                          13       \n",
       "119 Siansivirga zeaxanthinifaciens                       13       \n",
       "120 Tamlana sp. UJ94                                     13       \n",
       "121 Torque teno mini virus 18                            13       \n",
       "122 Vibrio breoganii                                     13       \n",
       "123 Dokdonia sp. PRO95                                   12       \n",
       "124 Kordia sp. SMS9                                      12       \n",
       "125 Maribacter sp. T28                                   12       \n",
       "126 Selenomonas sp. oral taxon 478                       12       \n",
       "127 uncultured crAssphage                                12       \n",
       "128 Chitinophaga caeni                                   11       \n",
       "129 Desulfitobacterium metallireducens                   11       \n",
       "130 Mariniflexile sp. TRM1-10                            11       \n",
       "    overall_prevalence n_samples\n",
       "1   0.0006874427        6       \n",
       "2   0.0004582951        4       \n",
       "3   0.0030934922       27       \n",
       "4   0.0043538038       38       \n",
       "5   0.0018331806       16       \n",
       "6   0.0002291476        2       \n",
       "7   0.0005728689        5       \n",
       "8   0.0006874427        6       \n",
       "9   0.0001145738        1       \n",
       "10  0.0005728689        5       \n",
       "11  0.0009165903        8       \n",
       "12  0.0001145738        1       \n",
       "13  0.0003437214        3       \n",
       "14  0.0016040330       14       \n",
       "15  0.0003437214        3       \n",
       "16  0.0003437214        3       \n",
       "17  0.0003437214        3       \n",
       "18  0.0006874427        6       \n",
       "19  0.0003437214        3       \n",
       "20  0.0002291476        2       \n",
       "21  0.0012603116       11       \n",
       "22  0.0002291476        2       \n",
       "23  0.0002291476        2       \n",
       "24  0.0003437214        3       \n",
       "25  0.0009165903        8       \n",
       "26  0.0004582951        4       \n",
       "27  0.0003437214        3       \n",
       "28  0.0001145738        1       \n",
       "29  0.0009165903        8       \n",
       "30  0.0003437214        3       \n",
       "⋮   ⋮                  ⋮        \n",
       "101 0.0002291476       2        \n",
       "102 0.0002291476       2        \n",
       "103 0.0003437214       3        \n",
       "104 0.0002291476       2        \n",
       "105 0.0001145738       1        \n",
       "106 0.0002291476       2        \n",
       "107 0.0002291476       2        \n",
       "108 0.0001145738       1        \n",
       "109 0.0001145738       1        \n",
       "110 0.0002291476       2        \n",
       "111 0.0002291476       2        \n",
       "112 0.0003437214       3        \n",
       "113 0.0001145738       1        \n",
       "114 0.0004582951       4        \n",
       "115 0.0001145738       1        \n",
       "116 0.0001145738       1        \n",
       "117 0.0001145738       1        \n",
       "118 0.0002291476       2        \n",
       "119 0.0003437214       3        \n",
       "120 0.0001145738       1        \n",
       "121 0.0001145738       1        \n",
       "122 0.0001145738       1        \n",
       "123 0.0001145738       1        \n",
       "124 0.0001145738       1        \n",
       "125 0.0001145738       1        \n",
       "126 0.0002291476       2        \n",
       "127 0.0001145738       1        \n",
       "128 0.0001145738       1        \n",
       "129 0.0001145738       1        \n",
       "130 0.0001145738       1        "
      ]
     },
     "metadata": {},
     "output_type": "display_data"
    }
   ],
   "source": [
    "max_df %>% \n",
    "    left_join(overall_prev) %>%\n",
    "    arrange(desc(max_count)) %>%\n",
    "    mutate(n_samples = overall_prevalence * 8728)"
   ]
  },
  {
   "cell_type": "code",
   "execution_count": 29,
   "id": "e2df96c1",
   "metadata": {},
   "outputs": [
    {
     "name": "stderr",
     "output_type": "stream",
     "text": [
      "Joining, by = \"taxa\"\n",
      "\n"
     ]
    },
    {
     "data": {
      "text/html": [
       "<table class=\"dataframe\">\n",
       "<caption>A tibble: 130 × 4</caption>\n",
       "<thead>\n",
       "\t<tr><th scope=col>taxa</th><th scope=col>max_count</th><th scope=col>overall_prevalence</th><th scope=col>n_samples</th></tr>\n",
       "\t<tr><th scope=col>&lt;chr&gt;</th><th scope=col>&lt;dbl&gt;</th><th scope=col>&lt;dbl&gt;</th><th scope=col>&lt;dbl&gt;</th></tr>\n",
       "</thead>\n",
       "<tbody>\n",
       "\t<tr><td>Human betaherpesvirus 6B                            </td><td> 8491</td><td>0.0043538038</td><td>38</td></tr>\n",
       "\t<tr><td>Human betaherpesvirus 6A                            </td><td> 8777</td><td>0.0030934922</td><td>27</td></tr>\n",
       "\t<tr><td>Autographa californica multiple nucleopolyhedrovirus</td><td> 2700</td><td>0.0018331806</td><td>16</td></tr>\n",
       "\t<tr><td>Parabacteroides sp. CT06                            </td><td>  211</td><td>0.0016040330</td><td>14</td></tr>\n",
       "\t<tr><td>Aerococcus christensenii                            </td><td>  113</td><td>0.0012603116</td><td>11</td></tr>\n",
       "\t<tr><td>Ruminococcus bicirculans                            </td><td>  253</td><td>0.0009165903</td><td> 8</td></tr>\n",
       "\t<tr><td>Streptococcus sp. NPS 308                           </td><td>   95</td><td>0.0009165903</td><td> 8</td></tr>\n",
       "\t<tr><td>Eubacterium hallii                                  </td><td>   83</td><td>0.0009165903</td><td> 8</td></tr>\n",
       "\t<tr><td>Ureaplasma urealyticum                              </td><td>20186</td><td>0.0006874427</td><td> 6</td></tr>\n",
       "\t<tr><td>Prevotella oris                                     </td><td>  853</td><td>0.0006874427</td><td> 6</td></tr>\n",
       "\t<tr><td>Tannerella forsythia                                </td><td>  146</td><td>0.0006874427</td><td> 6</td></tr>\n",
       "\t<tr><td>Streptococcus australis                             </td><td>   47</td><td>0.0006874427</td><td> 6</td></tr>\n",
       "\t<tr><td>Aggregatibacter segnis                              </td><td> 1045</td><td>0.0005728689</td><td> 5</td></tr>\n",
       "\t<tr><td>Streptococcus sp. oral taxon 064                    </td><td>  291</td><td>0.0005728689</td><td> 5</td></tr>\n",
       "\t<tr><td>Streptococcus viridans                              </td><td>   51</td><td>0.0005728689</td><td> 5</td></tr>\n",
       "\t<tr><td>Blautia sp. N6H1-15                                 </td><td>   35</td><td>0.0005728689</td><td> 5</td></tr>\n",
       "\t<tr><td>Streptococcus sp. I-P16                             </td><td>   32</td><td>0.0005728689</td><td> 5</td></tr>\n",
       "\t<tr><td>Streptococcus sp. JS71                              </td><td>   31</td><td>0.0005728689</td><td> 5</td></tr>\n",
       "\t<tr><td>Rickettsia felis                                    </td><td>11403</td><td>0.0004582951</td><td> 4</td></tr>\n",
       "\t<tr><td>Peptostreptococcaceae bacterium oral taxon 929      </td><td>   93</td><td>0.0004582951</td><td> 4</td></tr>\n",
       "\t<tr><td>Lactobacillus ruminis                               </td><td>   78</td><td>0.0004582951</td><td> 4</td></tr>\n",
       "\t<tr><td>Sneathia amnii                                      </td><td>   73</td><td>0.0004582951</td><td> 4</td></tr>\n",
       "\t<tr><td>Enterococcus faecalis                               </td><td>   32</td><td>0.0004582951</td><td> 4</td></tr>\n",
       "\t<tr><td>Acidaminococcus intestini                           </td><td>   29</td><td>0.0004582951</td><td> 4</td></tr>\n",
       "\t<tr><td>Streptococcus vestibularis                          </td><td>   22</td><td>0.0004582951</td><td> 4</td></tr>\n",
       "\t<tr><td>Lactobacillus johnsonii                             </td><td>   15</td><td>0.0004582951</td><td> 4</td></tr>\n",
       "\t<tr><td>Leptotrichia buccalis                               </td><td>  232</td><td>0.0003437214</td><td> 3</td></tr>\n",
       "\t<tr><td>Flavobacterium indicum                              </td><td>  157</td><td>0.0003437214</td><td> 3</td></tr>\n",
       "\t<tr><td>Mageeibacillus indolicus                            </td><td>  150</td><td>0.0003437214</td><td> 3</td></tr>\n",
       "\t<tr><td>Streptococcus intermedius                           </td><td>  149</td><td>0.0003437214</td><td> 3</td></tr>\n",
       "\t<tr><td>⋮</td><td>⋮</td><td>⋮</td><td>⋮</td></tr>\n",
       "\t<tr><td>Campylobacter hominis             </td><td>26</td><td>0.0001145738</td><td>1</td></tr>\n",
       "\t<tr><td>Torque teno mini virus 5          </td><td>26</td><td>0.0001145738</td><td>1</td></tr>\n",
       "\t<tr><td>TTV-like mini virus               </td><td>25</td><td>0.0001145738</td><td>1</td></tr>\n",
       "\t<tr><td>Carnobacterium inhibens           </td><td>24</td><td>0.0001145738</td><td>1</td></tr>\n",
       "\t<tr><td>Dialister pneumosintes            </td><td>23</td><td>0.0001145738</td><td>1</td></tr>\n",
       "\t<tr><td>Lachnoclostridium sp. YL32        </td><td>23</td><td>0.0001145738</td><td>1</td></tr>\n",
       "\t<tr><td>Winogradskyella sp. PC-19         </td><td>22</td><td>0.0001145738</td><td>1</td></tr>\n",
       "\t<tr><td>Torque teno mini virus 1          </td><td>21</td><td>0.0001145738</td><td>1</td></tr>\n",
       "\t<tr><td>Auricoccus indicus                </td><td>20</td><td>0.0001145738</td><td>1</td></tr>\n",
       "\t<tr><td>Enterococcus gilvus               </td><td>20</td><td>0.0001145738</td><td>1</td></tr>\n",
       "\t<tr><td>Marinomonas mediterranea          </td><td>20</td><td>0.0001145738</td><td>1</td></tr>\n",
       "\t<tr><td>Capnocytophaga sp. ChDC OS43      </td><td>19</td><td>0.0001145738</td><td>1</td></tr>\n",
       "\t<tr><td>Flavobacterium branchiophilum     </td><td>19</td><td>0.0001145738</td><td>1</td></tr>\n",
       "\t<tr><td>Flavobacterium kingsejongi        </td><td>16</td><td>0.0001145738</td><td>1</td></tr>\n",
       "\t<tr><td>Muricauda lutaonensis             </td><td>16</td><td>0.0001145738</td><td>1</td></tr>\n",
       "\t<tr><td>Aquimarina sp. AD10               </td><td>15</td><td>0.0001145738</td><td>1</td></tr>\n",
       "\t<tr><td>Gilvibacter sp. SZ-19             </td><td>15</td><td>0.0001145738</td><td>1</td></tr>\n",
       "\t<tr><td>Lutibacter profundi               </td><td>15</td><td>0.0001145738</td><td>1</td></tr>\n",
       "\t<tr><td>Paeniclostridium sordellii        </td><td>15</td><td>0.0001145738</td><td>1</td></tr>\n",
       "\t<tr><td>Aquimarina sp. AD1                </td><td>13</td><td>0.0001145738</td><td>1</td></tr>\n",
       "\t<tr><td>Tamlana sp. UJ94                  </td><td>13</td><td>0.0001145738</td><td>1</td></tr>\n",
       "\t<tr><td>Torque teno mini virus 18         </td><td>13</td><td>0.0001145738</td><td>1</td></tr>\n",
       "\t<tr><td>Vibrio breoganii                  </td><td>13</td><td>0.0001145738</td><td>1</td></tr>\n",
       "\t<tr><td>Dokdonia sp. PRO95                </td><td>12</td><td>0.0001145738</td><td>1</td></tr>\n",
       "\t<tr><td>Kordia sp. SMS9                   </td><td>12</td><td>0.0001145738</td><td>1</td></tr>\n",
       "\t<tr><td>Maribacter sp. T28                </td><td>12</td><td>0.0001145738</td><td>1</td></tr>\n",
       "\t<tr><td>uncultured crAssphage             </td><td>12</td><td>0.0001145738</td><td>1</td></tr>\n",
       "\t<tr><td>Chitinophaga caeni                </td><td>11</td><td>0.0001145738</td><td>1</td></tr>\n",
       "\t<tr><td>Desulfitobacterium metallireducens</td><td>11</td><td>0.0001145738</td><td>1</td></tr>\n",
       "\t<tr><td>Mariniflexile sp. TRM1-10         </td><td>11</td><td>0.0001145738</td><td>1</td></tr>\n",
       "</tbody>\n",
       "</table>\n"
      ],
      "text/latex": [
       "A tibble: 130 × 4\n",
       "\\begin{tabular}{llll}\n",
       " taxa & max\\_count & overall\\_prevalence & n\\_samples\\\\\n",
       " <chr> & <dbl> & <dbl> & <dbl>\\\\\n",
       "\\hline\n",
       "\t Human betaherpesvirus 6B                             &  8491 & 0.0043538038 & 38\\\\\n",
       "\t Human betaherpesvirus 6A                             &  8777 & 0.0030934922 & 27\\\\\n",
       "\t Autographa californica multiple nucleopolyhedrovirus &  2700 & 0.0018331806 & 16\\\\\n",
       "\t Parabacteroides sp. CT06                             &   211 & 0.0016040330 & 14\\\\\n",
       "\t Aerococcus christensenii                             &   113 & 0.0012603116 & 11\\\\\n",
       "\t Ruminococcus bicirculans                             &   253 & 0.0009165903 &  8\\\\\n",
       "\t Streptococcus sp. NPS 308                            &    95 & 0.0009165903 &  8\\\\\n",
       "\t Eubacterium hallii                                   &    83 & 0.0009165903 &  8\\\\\n",
       "\t Ureaplasma urealyticum                               & 20186 & 0.0006874427 &  6\\\\\n",
       "\t Prevotella oris                                      &   853 & 0.0006874427 &  6\\\\\n",
       "\t Tannerella forsythia                                 &   146 & 0.0006874427 &  6\\\\\n",
       "\t Streptococcus australis                              &    47 & 0.0006874427 &  6\\\\\n",
       "\t Aggregatibacter segnis                               &  1045 & 0.0005728689 &  5\\\\\n",
       "\t Streptococcus sp. oral taxon 064                     &   291 & 0.0005728689 &  5\\\\\n",
       "\t Streptococcus viridans                               &    51 & 0.0005728689 &  5\\\\\n",
       "\t Blautia sp. N6H1-15                                  &    35 & 0.0005728689 &  5\\\\\n",
       "\t Streptococcus sp. I-P16                              &    32 & 0.0005728689 &  5\\\\\n",
       "\t Streptococcus sp. JS71                               &    31 & 0.0005728689 &  5\\\\\n",
       "\t Rickettsia felis                                     & 11403 & 0.0004582951 &  4\\\\\n",
       "\t Peptostreptococcaceae bacterium oral taxon 929       &    93 & 0.0004582951 &  4\\\\\n",
       "\t Lactobacillus ruminis                                &    78 & 0.0004582951 &  4\\\\\n",
       "\t Sneathia amnii                                       &    73 & 0.0004582951 &  4\\\\\n",
       "\t Enterococcus faecalis                                &    32 & 0.0004582951 &  4\\\\\n",
       "\t Acidaminococcus intestini                            &    29 & 0.0004582951 &  4\\\\\n",
       "\t Streptococcus vestibularis                           &    22 & 0.0004582951 &  4\\\\\n",
       "\t Lactobacillus johnsonii                              &    15 & 0.0004582951 &  4\\\\\n",
       "\t Leptotrichia buccalis                                &   232 & 0.0003437214 &  3\\\\\n",
       "\t Flavobacterium indicum                               &   157 & 0.0003437214 &  3\\\\\n",
       "\t Mageeibacillus indolicus                             &   150 & 0.0003437214 &  3\\\\\n",
       "\t Streptococcus intermedius                            &   149 & 0.0003437214 &  3\\\\\n",
       "\t ⋮ & ⋮ & ⋮ & ⋮\\\\\n",
       "\t Campylobacter hominis              & 26 & 0.0001145738 & 1\\\\\n",
       "\t Torque teno mini virus 5           & 26 & 0.0001145738 & 1\\\\\n",
       "\t TTV-like mini virus                & 25 & 0.0001145738 & 1\\\\\n",
       "\t Carnobacterium inhibens            & 24 & 0.0001145738 & 1\\\\\n",
       "\t Dialister pneumosintes             & 23 & 0.0001145738 & 1\\\\\n",
       "\t Lachnoclostridium sp. YL32         & 23 & 0.0001145738 & 1\\\\\n",
       "\t Winogradskyella sp. PC-19          & 22 & 0.0001145738 & 1\\\\\n",
       "\t Torque teno mini virus 1           & 21 & 0.0001145738 & 1\\\\\n",
       "\t Auricoccus indicus                 & 20 & 0.0001145738 & 1\\\\\n",
       "\t Enterococcus gilvus                & 20 & 0.0001145738 & 1\\\\\n",
       "\t Marinomonas mediterranea           & 20 & 0.0001145738 & 1\\\\\n",
       "\t Capnocytophaga sp. ChDC OS43       & 19 & 0.0001145738 & 1\\\\\n",
       "\t Flavobacterium branchiophilum      & 19 & 0.0001145738 & 1\\\\\n",
       "\t Flavobacterium kingsejongi         & 16 & 0.0001145738 & 1\\\\\n",
       "\t Muricauda lutaonensis              & 16 & 0.0001145738 & 1\\\\\n",
       "\t Aquimarina sp. AD10                & 15 & 0.0001145738 & 1\\\\\n",
       "\t Gilvibacter sp. SZ-19              & 15 & 0.0001145738 & 1\\\\\n",
       "\t Lutibacter profundi                & 15 & 0.0001145738 & 1\\\\\n",
       "\t Paeniclostridium sordellii         & 15 & 0.0001145738 & 1\\\\\n",
       "\t Aquimarina sp. AD1                 & 13 & 0.0001145738 & 1\\\\\n",
       "\t Tamlana sp. UJ94                   & 13 & 0.0001145738 & 1\\\\\n",
       "\t Torque teno mini virus 18          & 13 & 0.0001145738 & 1\\\\\n",
       "\t Vibrio breoganii                   & 13 & 0.0001145738 & 1\\\\\n",
       "\t Dokdonia sp. PRO95                 & 12 & 0.0001145738 & 1\\\\\n",
       "\t Kordia sp. SMS9                    & 12 & 0.0001145738 & 1\\\\\n",
       "\t Maribacter sp. T28                 & 12 & 0.0001145738 & 1\\\\\n",
       "\t uncultured crAssphage              & 12 & 0.0001145738 & 1\\\\\n",
       "\t Chitinophaga caeni                 & 11 & 0.0001145738 & 1\\\\\n",
       "\t Desulfitobacterium metallireducens & 11 & 0.0001145738 & 1\\\\\n",
       "\t Mariniflexile sp. TRM1-10          & 11 & 0.0001145738 & 1\\\\\n",
       "\\end{tabular}\n"
      ],
      "text/markdown": [
       "\n",
       "A tibble: 130 × 4\n",
       "\n",
       "| taxa &lt;chr&gt; | max_count &lt;dbl&gt; | overall_prevalence &lt;dbl&gt; | n_samples &lt;dbl&gt; |\n",
       "|---|---|---|---|\n",
       "| Human betaherpesvirus 6B                             |  8491 | 0.0043538038 | 38 |\n",
       "| Human betaherpesvirus 6A                             |  8777 | 0.0030934922 | 27 |\n",
       "| Autographa californica multiple nucleopolyhedrovirus |  2700 | 0.0018331806 | 16 |\n",
       "| Parabacteroides sp. CT06                             |   211 | 0.0016040330 | 14 |\n",
       "| Aerococcus christensenii                             |   113 | 0.0012603116 | 11 |\n",
       "| Ruminococcus bicirculans                             |   253 | 0.0009165903 |  8 |\n",
       "| Streptococcus sp. NPS 308                            |    95 | 0.0009165903 |  8 |\n",
       "| Eubacterium hallii                                   |    83 | 0.0009165903 |  8 |\n",
       "| Ureaplasma urealyticum                               | 20186 | 0.0006874427 |  6 |\n",
       "| Prevotella oris                                      |   853 | 0.0006874427 |  6 |\n",
       "| Tannerella forsythia                                 |   146 | 0.0006874427 |  6 |\n",
       "| Streptococcus australis                              |    47 | 0.0006874427 |  6 |\n",
       "| Aggregatibacter segnis                               |  1045 | 0.0005728689 |  5 |\n",
       "| Streptococcus sp. oral taxon 064                     |   291 | 0.0005728689 |  5 |\n",
       "| Streptococcus viridans                               |    51 | 0.0005728689 |  5 |\n",
       "| Blautia sp. N6H1-15                                  |    35 | 0.0005728689 |  5 |\n",
       "| Streptococcus sp. I-P16                              |    32 | 0.0005728689 |  5 |\n",
       "| Streptococcus sp. JS71                               |    31 | 0.0005728689 |  5 |\n",
       "| Rickettsia felis                                     | 11403 | 0.0004582951 |  4 |\n",
       "| Peptostreptococcaceae bacterium oral taxon 929       |    93 | 0.0004582951 |  4 |\n",
       "| Lactobacillus ruminis                                |    78 | 0.0004582951 |  4 |\n",
       "| Sneathia amnii                                       |    73 | 0.0004582951 |  4 |\n",
       "| Enterococcus faecalis                                |    32 | 0.0004582951 |  4 |\n",
       "| Acidaminococcus intestini                            |    29 | 0.0004582951 |  4 |\n",
       "| Streptococcus vestibularis                           |    22 | 0.0004582951 |  4 |\n",
       "| Lactobacillus johnsonii                              |    15 | 0.0004582951 |  4 |\n",
       "| Leptotrichia buccalis                                |   232 | 0.0003437214 |  3 |\n",
       "| Flavobacterium indicum                               |   157 | 0.0003437214 |  3 |\n",
       "| Mageeibacillus indolicus                             |   150 | 0.0003437214 |  3 |\n",
       "| Streptococcus intermedius                            |   149 | 0.0003437214 |  3 |\n",
       "| ⋮ | ⋮ | ⋮ | ⋮ |\n",
       "| Campylobacter hominis              | 26 | 0.0001145738 | 1 |\n",
       "| Torque teno mini virus 5           | 26 | 0.0001145738 | 1 |\n",
       "| TTV-like mini virus                | 25 | 0.0001145738 | 1 |\n",
       "| Carnobacterium inhibens            | 24 | 0.0001145738 | 1 |\n",
       "| Dialister pneumosintes             | 23 | 0.0001145738 | 1 |\n",
       "| Lachnoclostridium sp. YL32         | 23 | 0.0001145738 | 1 |\n",
       "| Winogradskyella sp. PC-19          | 22 | 0.0001145738 | 1 |\n",
       "| Torque teno mini virus 1           | 21 | 0.0001145738 | 1 |\n",
       "| Auricoccus indicus                 | 20 | 0.0001145738 | 1 |\n",
       "| Enterococcus gilvus                | 20 | 0.0001145738 | 1 |\n",
       "| Marinomonas mediterranea           | 20 | 0.0001145738 | 1 |\n",
       "| Capnocytophaga sp. ChDC OS43       | 19 | 0.0001145738 | 1 |\n",
       "| Flavobacterium branchiophilum      | 19 | 0.0001145738 | 1 |\n",
       "| Flavobacterium kingsejongi         | 16 | 0.0001145738 | 1 |\n",
       "| Muricauda lutaonensis              | 16 | 0.0001145738 | 1 |\n",
       "| Aquimarina sp. AD10                | 15 | 0.0001145738 | 1 |\n",
       "| Gilvibacter sp. SZ-19              | 15 | 0.0001145738 | 1 |\n",
       "| Lutibacter profundi                | 15 | 0.0001145738 | 1 |\n",
       "| Paeniclostridium sordellii         | 15 | 0.0001145738 | 1 |\n",
       "| Aquimarina sp. AD1                 | 13 | 0.0001145738 | 1 |\n",
       "| Tamlana sp. UJ94                   | 13 | 0.0001145738 | 1 |\n",
       "| Torque teno mini virus 18          | 13 | 0.0001145738 | 1 |\n",
       "| Vibrio breoganii                   | 13 | 0.0001145738 | 1 |\n",
       "| Dokdonia sp. PRO95                 | 12 | 0.0001145738 | 1 |\n",
       "| Kordia sp. SMS9                    | 12 | 0.0001145738 | 1 |\n",
       "| Maribacter sp. T28                 | 12 | 0.0001145738 | 1 |\n",
       "| uncultured crAssphage              | 12 | 0.0001145738 | 1 |\n",
       "| Chitinophaga caeni                 | 11 | 0.0001145738 | 1 |\n",
       "| Desulfitobacterium metallireducens | 11 | 0.0001145738 | 1 |\n",
       "| Mariniflexile sp. TRM1-10          | 11 | 0.0001145738 | 1 |\n",
       "\n"
      ],
      "text/plain": [
       "    taxa                                                 max_count\n",
       "1   Human betaherpesvirus 6B                              8491    \n",
       "2   Human betaherpesvirus 6A                              8777    \n",
       "3   Autographa californica multiple nucleopolyhedrovirus  2700    \n",
       "4   Parabacteroides sp. CT06                               211    \n",
       "5   Aerococcus christensenii                               113    \n",
       "6   Ruminococcus bicirculans                               253    \n",
       "7   Streptococcus sp. NPS 308                               95    \n",
       "8   Eubacterium hallii                                      83    \n",
       "9   Ureaplasma urealyticum                               20186    \n",
       "10  Prevotella oris                                        853    \n",
       "11  Tannerella forsythia                                   146    \n",
       "12  Streptococcus australis                                 47    \n",
       "13  Aggregatibacter segnis                                1045    \n",
       "14  Streptococcus sp. oral taxon 064                       291    \n",
       "15  Streptococcus viridans                                  51    \n",
       "16  Blautia sp. N6H1-15                                     35    \n",
       "17  Streptococcus sp. I-P16                                 32    \n",
       "18  Streptococcus sp. JS71                                  31    \n",
       "19  Rickettsia felis                                     11403    \n",
       "20  Peptostreptococcaceae bacterium oral taxon 929          93    \n",
       "21  Lactobacillus ruminis                                   78    \n",
       "22  Sneathia amnii                                          73    \n",
       "23  Enterococcus faecalis                                   32    \n",
       "24  Acidaminococcus intestini                               29    \n",
       "25  Streptococcus vestibularis                              22    \n",
       "26  Lactobacillus johnsonii                                 15    \n",
       "27  Leptotrichia buccalis                                  232    \n",
       "28  Flavobacterium indicum                                 157    \n",
       "29  Mageeibacillus indolicus                               150    \n",
       "30  Streptococcus intermedius                              149    \n",
       "⋮   ⋮                                                    ⋮        \n",
       "101 Campylobacter hominis                                26       \n",
       "102 Torque teno mini virus 5                             26       \n",
       "103 TTV-like mini virus                                  25       \n",
       "104 Carnobacterium inhibens                              24       \n",
       "105 Dialister pneumosintes                               23       \n",
       "106 Lachnoclostridium sp. YL32                           23       \n",
       "107 Winogradskyella sp. PC-19                            22       \n",
       "108 Torque teno mini virus 1                             21       \n",
       "109 Auricoccus indicus                                   20       \n",
       "110 Enterococcus gilvus                                  20       \n",
       "111 Marinomonas mediterranea                             20       \n",
       "112 Capnocytophaga sp. ChDC OS43                         19       \n",
       "113 Flavobacterium branchiophilum                        19       \n",
       "114 Flavobacterium kingsejongi                           16       \n",
       "115 Muricauda lutaonensis                                16       \n",
       "116 Aquimarina sp. AD10                                  15       \n",
       "117 Gilvibacter sp. SZ-19                                15       \n",
       "118 Lutibacter profundi                                  15       \n",
       "119 Paeniclostridium sordellii                           15       \n",
       "120 Aquimarina sp. AD1                                   13       \n",
       "121 Tamlana sp. UJ94                                     13       \n",
       "122 Torque teno mini virus 18                            13       \n",
       "123 Vibrio breoganii                                     13       \n",
       "124 Dokdonia sp. PRO95                                   12       \n",
       "125 Kordia sp. SMS9                                      12       \n",
       "126 Maribacter sp. T28                                   12       \n",
       "127 uncultured crAssphage                                12       \n",
       "128 Chitinophaga caeni                                   11       \n",
       "129 Desulfitobacterium metallireducens                   11       \n",
       "130 Mariniflexile sp. TRM1-10                            11       \n",
       "    overall_prevalence n_samples\n",
       "1   0.0043538038       38       \n",
       "2   0.0030934922       27       \n",
       "3   0.0018331806       16       \n",
       "4   0.0016040330       14       \n",
       "5   0.0012603116       11       \n",
       "6   0.0009165903        8       \n",
       "7   0.0009165903        8       \n",
       "8   0.0009165903        8       \n",
       "9   0.0006874427        6       \n",
       "10  0.0006874427        6       \n",
       "11  0.0006874427        6       \n",
       "12  0.0006874427        6       \n",
       "13  0.0005728689        5       \n",
       "14  0.0005728689        5       \n",
       "15  0.0005728689        5       \n",
       "16  0.0005728689        5       \n",
       "17  0.0005728689        5       \n",
       "18  0.0005728689        5       \n",
       "19  0.0004582951        4       \n",
       "20  0.0004582951        4       \n",
       "21  0.0004582951        4       \n",
       "22  0.0004582951        4       \n",
       "23  0.0004582951        4       \n",
       "24  0.0004582951        4       \n",
       "25  0.0004582951        4       \n",
       "26  0.0004582951        4       \n",
       "27  0.0003437214        3       \n",
       "28  0.0003437214        3       \n",
       "29  0.0003437214        3       \n",
       "30  0.0003437214        3       \n",
       "⋮   ⋮                  ⋮        \n",
       "101 0.0001145738       1        \n",
       "102 0.0001145738       1        \n",
       "103 0.0001145738       1        \n",
       "104 0.0001145738       1        \n",
       "105 0.0001145738       1        \n",
       "106 0.0001145738       1        \n",
       "107 0.0001145738       1        \n",
       "108 0.0001145738       1        \n",
       "109 0.0001145738       1        \n",
       "110 0.0001145738       1        \n",
       "111 0.0001145738       1        \n",
       "112 0.0001145738       1        \n",
       "113 0.0001145738       1        \n",
       "114 0.0001145738       1        \n",
       "115 0.0001145738       1        \n",
       "116 0.0001145738       1        \n",
       "117 0.0001145738       1        \n",
       "118 0.0001145738       1        \n",
       "119 0.0001145738       1        \n",
       "120 0.0001145738       1        \n",
       "121 0.0001145738       1        \n",
       "122 0.0001145738       1        \n",
       "123 0.0001145738       1        \n",
       "124 0.0001145738       1        \n",
       "125 0.0001145738       1        \n",
       "126 0.0001145738       1        \n",
       "127 0.0001145738       1        \n",
       "128 0.0001145738       1        \n",
       "129 0.0001145738       1        \n",
       "130 0.0001145738       1        "
      ]
     },
     "metadata": {},
     "output_type": "display_data"
    }
   ],
   "source": [
    "max_df %>%\n",
    "    left_join(overall_prev) %>%\n",
    "    arrange(desc(overall_prevalence)) %>%\n",
    "    mutate(n_samples = overall_prevalence * 8728)"
   ]
  },
  {
   "cell_type": "markdown",
   "id": "a4c03578",
   "metadata": {},
   "source": [
    "#### Venn diagrams"
   ]
  },
  {
   "cell_type": "code",
   "execution_count": 30,
   "id": "c6227afa",
   "metadata": {},
   "outputs": [
    {
     "data": {
      "text/html": [
       "1"
      ],
      "text/latex": [
       "1"
      ],
      "text/markdown": [
       "1"
      ],
      "text/plain": [
       "[1] 1"
      ]
     },
     "metadata": {},
     "output_type": "display_data"
    }
   ],
   "source": [
    "venn_list_nc <- list(non_zero, diff_prev_nc, diff_abn_nc, corr_nc)\n",
    "\n",
    "# venn.diagram(venn_list_nc, filename = \"results/decontamination/decontamination_methods_venn.png\",\n",
    "#              category.names = c(\"Non-zero species\", \"Diff. prevalence filter\", \"Diff. abundance filter\"),\n",
    "#              print.mode = c(\"raw\", \"percent\"),\n",
    "#              height = 5000,\n",
    "#              width = 5000,\n",
    "#              margin = 0.1,\n",
    "#              cat.dist = 0.1,\n",
    "#              cat.fontface = \"bold\"\n",
    "#              )\n",
    "\n",
    "venn.diagram(venn_list_nc[2:5], filename = \"results/decontamination/decontamination_methods_venn.simple.png\",\n",
    "             category.names = c(\"Diff. prevalence filter\", \"Diff. abundance filter\", \"Corr. filter\"),\n",
    "             print.mode = c(\"raw\", \"percent\"),\n",
    "             height = 5000,\n",
    "             width = 5000,\n",
    "             margin = 0.1,\n",
    "             cat.dist = 0.1,\n",
    "             cat.fontface = \"bold\",\n",
    "             fill = c(\"salmon\", \"#00bfc4\", \"#7cae00\")\n",
    "             )"
   ]
  },
  {
   "cell_type": "code",
   "execution_count": 55,
   "id": "2e3b2684",
   "metadata": {},
   "outputs": [
    {
     "data": {
      "text/html": [
       "<style>\n",
       ".list-inline {list-style: none; margin:0; padding: 0}\n",
       ".list-inline>li {display: inline-block}\n",
       ".list-inline>li:not(:last-child)::after {content: \"\\00b7\"; padding: 0 .5ex}\n",
       "</style>\n",
       "<ol class=list-inline><li>'Methylocystis sp. SC2'</li><li>'Pseudonocardia dioxanivorans'</li></ol>\n"
      ],
      "text/latex": [
       "\\begin{enumerate*}\n",
       "\\item 'Methylocystis sp. SC2'\n",
       "\\item 'Pseudonocardia dioxanivorans'\n",
       "\\end{enumerate*}\n"
      ],
      "text/markdown": [
       "1. 'Methylocystis sp. SC2'\n",
       "2. 'Pseudonocardia dioxanivorans'\n",
       "\n",
       "\n"
      ],
      "text/plain": [
       "[1] \"Methylocystis sp. SC2\"        \"Pseudonocardia dioxanivorans\""
      ]
     },
     "metadata": {},
     "output_type": "display_data"
    }
   ],
   "source": [
    "diff_abn_nc[!(diff_abn_nc %in% diff_prev_nc)]"
   ]
  },
  {
   "cell_type": "markdown",
   "id": "a2bd9c09",
   "metadata": {},
   "source": [
    "### Decontaminants X Positive/Negative controls"
   ]
  },
  {
   "cell_type": "code",
   "execution_count": 35,
   "id": "d005d545",
   "metadata": {},
   "outputs": [],
   "source": [
    "pos_control <- read.csv(\"data/reported_controls/damgaard_2015_positive.txt\")$positive_controls\n",
    "torque_tenos <- (overall_prev %>% filter(grepl(\"torque teno\", taxa, ignore.case = T)))$taxa\n",
    "herpes <- (overall_prev %>% filter(grepl(\"herpes\", taxa, ignore.case = T)))$taxa\n",
    "pos_control <- c(pos_control, \n",
    "                 \"Escherichia coli\",\n",
    "                 \"Pasteurella multocida\", \n",
    "                 \"Bartonella henselae\", \"Bartonella clarridgeiae\", \n",
    "                 \"Enterococcus faecalis\", \"Cutibacterium acnes\", \"Staphylococcus epidermis\", \"Actinomyces viscosus\",\n",
    "                 \"Streptococcus agalactiae\",\n",
    "                 \"Yersinia enterocolitica\",\n",
    "                 \"Leclercia adecarboxylata\",\n",
    "                 \"Streptococcus pneumoniae\",\n",
    "                 torque_tenos,\n",
    "                 herpes\n",
    "                 )\n",
    "neg_control1 <- read.csv(\"data/reported_controls/asmp_parsed_negative.txt\")$taxa\n",
    "neg_control2 <- read.csv(\"data/reported_controls/chng_2020_parsed_negative.txt\")$taxa\n",
    "neg_control3 <- read.csv(\"data/reported_controls/caregiver_parsed_negative.txt\")$taxa\n",
    "\n",
    "neg_control <- unique(c(neg_control1, neg_control2, neg_control3))\n",
    "neg_intersect <- Reduce(intersect, list(neg_control1, neg_control2, neg_control3))"
   ]
  },
  {
   "cell_type": "code",
   "execution_count": null,
   "id": "d0e16200",
   "metadata": {},
   "outputs": [],
   "source": [
    "venn_list_nc <- list(pos_control, neg_intersect, corr_nc)\n",
    "\n",
    "venn.diagram(venn_list_nc, filename = \"results/decontamination/all_filters_pos_neg_intersect_controls_venn.png\",\n",
    "             category.names = c(\"Positive controls\", \"Negative controls (intersect)\", \"After all filters\"),\n",
    "             print.mode = c(\"raw\", \"percent\"),\n",
    "             height = 5000,\n",
    "             width = 5000,\n",
    "             cat.fontface = \"bold\",\n",
    "             fill = c(\"salmon\", \"#00bfc4\", \"#7cae00\")\n",
    "             )\n",
    "\n",
    "venn_list_nc <- list(pos_control, neg_control, corr_nc)\n",
    "\n",
    "venn.diagram(venn_list_nc, filename = \"results/decontamination/all_filters_pos_neg_union_controls_venn.png\",\n",
    "             category.names = c(\"Positive controls\", \"Negative controls (union)\", \"After all filters\"),\n",
    "             print.mode = c(\"raw\", \"percent\"),\n",
    "             height = 5000,\n",
    "             width = 5000,\n",
    "             cat.fontface = \"bold\",\n",
    "             fill = c(\"salmon\", \"#00bfc4\", \"#7cae00\")\n",
    "             )"
   ]
  },
  {
   "cell_type": "code",
   "execution_count": 40,
   "id": "2f2ac1b5",
   "metadata": {},
   "outputs": [
    {
     "data": {
      "text/html": [
       "<style>\n",
       ".list-inline {list-style: none; margin:0; padding: 0}\n",
       ".list-inline>li {display: inline-block}\n",
       ".list-inline>li:not(:last-child)::after {content: \"\\00b7\"; padding: 0 .5ex}\n",
       "</style>\n",
       "<ol class=list-inline><li>'Enterococcus faecalis'</li><li>'Torque teno mini virus 7'</li><li>'Torque teno mini virus 18'</li><li>'Torque teno mini virus 1'</li><li>'Torque teno mini virus 3'</li><li>'Torque teno mini virus 5'</li><li>'Torque teno virus 9'</li><li>'Torque teno virus 23'</li><li>'Human betaherpesvirus 6B'</li><li>'Human betaherpesvirus 6A'</li></ol>\n"
      ],
      "text/latex": [
       "\\begin{enumerate*}\n",
       "\\item 'Enterococcus faecalis'\n",
       "\\item 'Torque teno mini virus 7'\n",
       "\\item 'Torque teno mini virus 18'\n",
       "\\item 'Torque teno mini virus 1'\n",
       "\\item 'Torque teno mini virus 3'\n",
       "\\item 'Torque teno mini virus 5'\n",
       "\\item 'Torque teno virus 9'\n",
       "\\item 'Torque teno virus 23'\n",
       "\\item 'Human betaherpesvirus 6B'\n",
       "\\item 'Human betaherpesvirus 6A'\n",
       "\\end{enumerate*}\n"
      ],
      "text/markdown": [
       "1. 'Enterococcus faecalis'\n",
       "2. 'Torque teno mini virus 7'\n",
       "3. 'Torque teno mini virus 18'\n",
       "4. 'Torque teno mini virus 1'\n",
       "5. 'Torque teno mini virus 3'\n",
       "6. 'Torque teno mini virus 5'\n",
       "7. 'Torque teno virus 9'\n",
       "8. 'Torque teno virus 23'\n",
       "9. 'Human betaherpesvirus 6B'\n",
       "10. 'Human betaherpesvirus 6A'\n",
       "\n",
       "\n"
      ],
      "text/plain": [
       " [1] \"Enterococcus faecalis\"     \"Torque teno mini virus 7\" \n",
       " [3] \"Torque teno mini virus 18\" \"Torque teno mini virus 1\" \n",
       " [5] \"Torque teno mini virus 3\"  \"Torque teno mini virus 5\" \n",
       " [7] \"Torque teno virus 9\"       \"Torque teno virus 23\"     \n",
       " [9] \"Human betaherpesvirus 6B\"  \"Human betaherpesvirus 6A\" "
      ]
     },
     "metadata": {},
     "output_type": "display_data"
    }
   ],
   "source": [
    "intersect(pos_control, corr_nc)"
   ]
  },
  {
   "cell_type": "code",
   "execution_count": 39,
   "id": "232815a8",
   "metadata": {
    "scrolled": true
   },
   "outputs": [
    {
     "data": {
      "text/html": [
       "<style>\n",
       ".list-inline {list-style: none; margin:0; padding: 0}\n",
       ".list-inline>li {display: inline-block}\n",
       ".list-inline>li:not(:last-child)::after {content: \"\\00b7\"; padding: 0 .5ex}\n",
       "</style>\n",
       "<ol class=list-inline><li>'Streptococcus vestibularis'</li><li>'Rickettsia felis'</li><li>'Enterococcus faecalis'</li><li>'Eubacterium hallii'</li><li>'Acinetobacter equi'</li><li>'Acinetobacter lactucae'</li><li>'Acinetobacter oleivorans'</li><li>'Acinetobacter sp. WCHAc010052'</li><li>'Aerococcus christensenii'</li><li>'Aggregatibacter segnis'</li><li>'Aquimarina sp. AD1'</li><li>'Aquimarina sp. AD10'</li><li>'Arachidicoccus sp. KIS59-12'</li><li>'Atopobium parvulum'</li><li>'Auricoccus indicus'</li><li>'Bacillus mycoides'</li><li>'Bacteroides heparinolyticus'</li><li>'Blautia hansenii'</li><li>'Campylobacter hominis'</li><li>'Campylobacter ureolyticus'</li><li>'Capnocytophaga ochracea'</li><li>'Capnocytophaga sp. ChDC OS43'</li><li>'Carnobacterium inhibens'</li><li>'Cellulophaga lytica'</li><li>'Chitinophaga caeni'</li><li>'Colwellia psychrerythraea'</li><li>'Colwellia sp. MT41'</li><li>'Dialister pneumosintes'</li><li>'Enterococcus cecorum'</li><li>'Enterococcus gilvus'</li><li>'Flavobacterium branchiophilum'</li><li>'Flavobacterium commune'</li><li>'Flavobacterium crassostreae'</li><li>'Flavobacterium faecale'</li><li>'Flavobacterium gilvum'</li><li>'Flavobacterium indicum'</li><li>'Flavobacterium johnsoniae'</li><li>'Flavobacterium sp. MEBiC07310'</li><li>'Haemophilus sp. oral taxon 036'</li><li>'Kordia sp. SMS9'</li><li>'Lachnoclostridium sp. YL32'</li><li>'Lachnospiraceae bacterium oral taxon 500'</li><li>'Lactobacillus amylovorus'</li><li>'Lactobacillus helveticus'</li><li>'Lactobacillus johnsonii'</li><li>'Lactobacillus mucosae'</li><li>'Leptotrichia buccalis'</li><li>'Mageeibacillus indolicus'</li><li>'Maribacter sp. T28'</li><li>'Mariniflexile sp. TRM1-10'</li><li>'Mogibacterium diversum'</li><li>'Niabella ginsenosidivorans'</li><li>'Olleya aquimaris'</li><li>'Paeniclostridium sordellii'</li><li>'Parabacteroides sp. CT06'</li><li>'Parvimonas micra'</li><li>'Peptostreptococcaceae bacterium oral taxon 929'</li><li>'Polaribacter sp. SA4-10'</li><li>'Polaribacter sp. SA4-12'</li><li>'Prevotella fusca'</li><li>'Pseudoalteromonas carrageenovora'</li><li>'Ruminococcus bicirculans'</li><li>'Selenomonas sp. oral taxon 478'</li><li>'Seonamhaeicola sp. S2-3'</li><li>'Siansivirga zeaxanthinifaciens'</li><li>'Sneathia amnii'</li><li>'Staphylococcus auricularis'</li><li>'Streptococcus australis'</li><li>'Streptococcus infantarius'</li><li>'Streptococcus intermedius'</li><li>'Streptococcus sp. I-P16'</li><li>'Streptococcus sp. NPS 308'</li><li>'Streptococcus sp. oral taxon 064'</li><li>'Tamlana sp. UJ94'</li><li>'Tannerella forsythia'</li><li>'Tenacibaculum dicentrarchi'</li><li>'Tenacibaculum jejuense'</li><li>'Tenacibaculum maritimum'</li><li>'Treponema denticola'</li><li>'Vibrio breoganii'</li></ol>\n"
      ],
      "text/latex": [
       "\\begin{enumerate*}\n",
       "\\item 'Streptococcus vestibularis'\n",
       "\\item 'Rickettsia felis'\n",
       "\\item 'Enterococcus faecalis'\n",
       "\\item 'Eubacterium hallii'\n",
       "\\item 'Acinetobacter equi'\n",
       "\\item 'Acinetobacter lactucae'\n",
       "\\item 'Acinetobacter oleivorans'\n",
       "\\item 'Acinetobacter sp. WCHAc010052'\n",
       "\\item 'Aerococcus christensenii'\n",
       "\\item 'Aggregatibacter segnis'\n",
       "\\item 'Aquimarina sp. AD1'\n",
       "\\item 'Aquimarina sp. AD10'\n",
       "\\item 'Arachidicoccus sp. KIS59-12'\n",
       "\\item 'Atopobium parvulum'\n",
       "\\item 'Auricoccus indicus'\n",
       "\\item 'Bacillus mycoides'\n",
       "\\item 'Bacteroides heparinolyticus'\n",
       "\\item 'Blautia hansenii'\n",
       "\\item 'Campylobacter hominis'\n",
       "\\item 'Campylobacter ureolyticus'\n",
       "\\item 'Capnocytophaga ochracea'\n",
       "\\item 'Capnocytophaga sp. ChDC OS43'\n",
       "\\item 'Carnobacterium inhibens'\n",
       "\\item 'Cellulophaga lytica'\n",
       "\\item 'Chitinophaga caeni'\n",
       "\\item 'Colwellia psychrerythraea'\n",
       "\\item 'Colwellia sp. MT41'\n",
       "\\item 'Dialister pneumosintes'\n",
       "\\item 'Enterococcus cecorum'\n",
       "\\item 'Enterococcus gilvus'\n",
       "\\item 'Flavobacterium branchiophilum'\n",
       "\\item 'Flavobacterium commune'\n",
       "\\item 'Flavobacterium crassostreae'\n",
       "\\item 'Flavobacterium faecale'\n",
       "\\item 'Flavobacterium gilvum'\n",
       "\\item 'Flavobacterium indicum'\n",
       "\\item 'Flavobacterium johnsoniae'\n",
       "\\item 'Flavobacterium sp. MEBiC07310'\n",
       "\\item 'Haemophilus sp. oral taxon 036'\n",
       "\\item 'Kordia sp. SMS9'\n",
       "\\item 'Lachnoclostridium sp. YL32'\n",
       "\\item 'Lachnospiraceae bacterium oral taxon 500'\n",
       "\\item 'Lactobacillus amylovorus'\n",
       "\\item 'Lactobacillus helveticus'\n",
       "\\item 'Lactobacillus johnsonii'\n",
       "\\item 'Lactobacillus mucosae'\n",
       "\\item 'Leptotrichia buccalis'\n",
       "\\item 'Mageeibacillus indolicus'\n",
       "\\item 'Maribacter sp. T28'\n",
       "\\item 'Mariniflexile sp. TRM1-10'\n",
       "\\item 'Mogibacterium diversum'\n",
       "\\item 'Niabella ginsenosidivorans'\n",
       "\\item 'Olleya aquimaris'\n",
       "\\item 'Paeniclostridium sordellii'\n",
       "\\item 'Parabacteroides sp. CT06'\n",
       "\\item 'Parvimonas micra'\n",
       "\\item 'Peptostreptococcaceae bacterium oral taxon 929'\n",
       "\\item 'Polaribacter sp. SA4-10'\n",
       "\\item 'Polaribacter sp. SA4-12'\n",
       "\\item 'Prevotella fusca'\n",
       "\\item 'Pseudoalteromonas carrageenovora'\n",
       "\\item 'Ruminococcus bicirculans'\n",
       "\\item 'Selenomonas sp. oral taxon 478'\n",
       "\\item 'Seonamhaeicola sp. S2-3'\n",
       "\\item 'Siansivirga zeaxanthinifaciens'\n",
       "\\item 'Sneathia amnii'\n",
       "\\item 'Staphylococcus auricularis'\n",
       "\\item 'Streptococcus australis'\n",
       "\\item 'Streptococcus infantarius'\n",
       "\\item 'Streptococcus intermedius'\n",
       "\\item 'Streptococcus sp. I-P16'\n",
       "\\item 'Streptococcus sp. NPS 308'\n",
       "\\item 'Streptococcus sp. oral taxon 064'\n",
       "\\item 'Tamlana sp. UJ94'\n",
       "\\item 'Tannerella forsythia'\n",
       "\\item 'Tenacibaculum dicentrarchi'\n",
       "\\item 'Tenacibaculum jejuense'\n",
       "\\item 'Tenacibaculum maritimum'\n",
       "\\item 'Treponema denticola'\n",
       "\\item 'Vibrio breoganii'\n",
       "\\end{enumerate*}\n"
      ],
      "text/markdown": [
       "1. 'Streptococcus vestibularis'\n",
       "2. 'Rickettsia felis'\n",
       "3. 'Enterococcus faecalis'\n",
       "4. 'Eubacterium hallii'\n",
       "5. 'Acinetobacter equi'\n",
       "6. 'Acinetobacter lactucae'\n",
       "7. 'Acinetobacter oleivorans'\n",
       "8. 'Acinetobacter sp. WCHAc010052'\n",
       "9. 'Aerococcus christensenii'\n",
       "10. 'Aggregatibacter segnis'\n",
       "11. 'Aquimarina sp. AD1'\n",
       "12. 'Aquimarina sp. AD10'\n",
       "13. 'Arachidicoccus sp. KIS59-12'\n",
       "14. 'Atopobium parvulum'\n",
       "15. 'Auricoccus indicus'\n",
       "16. 'Bacillus mycoides'\n",
       "17. 'Bacteroides heparinolyticus'\n",
       "18. 'Blautia hansenii'\n",
       "19. 'Campylobacter hominis'\n",
       "20. 'Campylobacter ureolyticus'\n",
       "21. 'Capnocytophaga ochracea'\n",
       "22. 'Capnocytophaga sp. ChDC OS43'\n",
       "23. 'Carnobacterium inhibens'\n",
       "24. 'Cellulophaga lytica'\n",
       "25. 'Chitinophaga caeni'\n",
       "26. 'Colwellia psychrerythraea'\n",
       "27. 'Colwellia sp. MT41'\n",
       "28. 'Dialister pneumosintes'\n",
       "29. 'Enterococcus cecorum'\n",
       "30. 'Enterococcus gilvus'\n",
       "31. 'Flavobacterium branchiophilum'\n",
       "32. 'Flavobacterium commune'\n",
       "33. 'Flavobacterium crassostreae'\n",
       "34. 'Flavobacterium faecale'\n",
       "35. 'Flavobacterium gilvum'\n",
       "36. 'Flavobacterium indicum'\n",
       "37. 'Flavobacterium johnsoniae'\n",
       "38. 'Flavobacterium sp. MEBiC07310'\n",
       "39. 'Haemophilus sp. oral taxon 036'\n",
       "40. 'Kordia sp. SMS9'\n",
       "41. 'Lachnoclostridium sp. YL32'\n",
       "42. 'Lachnospiraceae bacterium oral taxon 500'\n",
       "43. 'Lactobacillus amylovorus'\n",
       "44. 'Lactobacillus helveticus'\n",
       "45. 'Lactobacillus johnsonii'\n",
       "46. 'Lactobacillus mucosae'\n",
       "47. 'Leptotrichia buccalis'\n",
       "48. 'Mageeibacillus indolicus'\n",
       "49. 'Maribacter sp. T28'\n",
       "50. 'Mariniflexile sp. TRM1-10'\n",
       "51. 'Mogibacterium diversum'\n",
       "52. 'Niabella ginsenosidivorans'\n",
       "53. 'Olleya aquimaris'\n",
       "54. 'Paeniclostridium sordellii'\n",
       "55. 'Parabacteroides sp. CT06'\n",
       "56. 'Parvimonas micra'\n",
       "57. 'Peptostreptococcaceae bacterium oral taxon 929'\n",
       "58. 'Polaribacter sp. SA4-10'\n",
       "59. 'Polaribacter sp. SA4-12'\n",
       "60. 'Prevotella fusca'\n",
       "61. 'Pseudoalteromonas carrageenovora'\n",
       "62. 'Ruminococcus bicirculans'\n",
       "63. 'Selenomonas sp. oral taxon 478'\n",
       "64. 'Seonamhaeicola sp. S2-3'\n",
       "65. 'Siansivirga zeaxanthinifaciens'\n",
       "66. 'Sneathia amnii'\n",
       "67. 'Staphylococcus auricularis'\n",
       "68. 'Streptococcus australis'\n",
       "69. 'Streptococcus infantarius'\n",
       "70. 'Streptococcus intermedius'\n",
       "71. 'Streptococcus sp. I-P16'\n",
       "72. 'Streptococcus sp. NPS 308'\n",
       "73. 'Streptococcus sp. oral taxon 064'\n",
       "74. 'Tamlana sp. UJ94'\n",
       "75. 'Tannerella forsythia'\n",
       "76. 'Tenacibaculum dicentrarchi'\n",
       "77. 'Tenacibaculum jejuense'\n",
       "78. 'Tenacibaculum maritimum'\n",
       "79. 'Treponema denticola'\n",
       "80. 'Vibrio breoganii'\n",
       "\n",
       "\n"
      ],
      "text/plain": [
       " [1] \"Streptococcus vestibularis\"                    \n",
       " [2] \"Rickettsia felis\"                              \n",
       " [3] \"Enterococcus faecalis\"                         \n",
       " [4] \"Eubacterium hallii\"                            \n",
       " [5] \"Acinetobacter equi\"                            \n",
       " [6] \"Acinetobacter lactucae\"                        \n",
       " [7] \"Acinetobacter oleivorans\"                      \n",
       " [8] \"Acinetobacter sp. WCHAc010052\"                 \n",
       " [9] \"Aerococcus christensenii\"                      \n",
       "[10] \"Aggregatibacter segnis\"                        \n",
       "[11] \"Aquimarina sp. AD1\"                            \n",
       "[12] \"Aquimarina sp. AD10\"                           \n",
       "[13] \"Arachidicoccus sp. KIS59-12\"                   \n",
       "[14] \"Atopobium parvulum\"                            \n",
       "[15] \"Auricoccus indicus\"                            \n",
       "[16] \"Bacillus mycoides\"                             \n",
       "[17] \"Bacteroides heparinolyticus\"                   \n",
       "[18] \"Blautia hansenii\"                              \n",
       "[19] \"Campylobacter hominis\"                         \n",
       "[20] \"Campylobacter ureolyticus\"                     \n",
       "[21] \"Capnocytophaga ochracea\"                       \n",
       "[22] \"Capnocytophaga sp. ChDC OS43\"                  \n",
       "[23] \"Carnobacterium inhibens\"                       \n",
       "[24] \"Cellulophaga lytica\"                           \n",
       "[25] \"Chitinophaga caeni\"                            \n",
       "[26] \"Colwellia psychrerythraea\"                     \n",
       "[27] \"Colwellia sp. MT41\"                            \n",
       "[28] \"Dialister pneumosintes\"                        \n",
       "[29] \"Enterococcus cecorum\"                          \n",
       "[30] \"Enterococcus gilvus\"                           \n",
       "[31] \"Flavobacterium branchiophilum\"                 \n",
       "[32] \"Flavobacterium commune\"                        \n",
       "[33] \"Flavobacterium crassostreae\"                   \n",
       "[34] \"Flavobacterium faecale\"                        \n",
       "[35] \"Flavobacterium gilvum\"                         \n",
       "[36] \"Flavobacterium indicum\"                        \n",
       "[37] \"Flavobacterium johnsoniae\"                     \n",
       "[38] \"Flavobacterium sp. MEBiC07310\"                 \n",
       "[39] \"Haemophilus sp. oral taxon 036\"                \n",
       "[40] \"Kordia sp. SMS9\"                               \n",
       "[41] \"Lachnoclostridium sp. YL32\"                    \n",
       "[42] \"Lachnospiraceae bacterium oral taxon 500\"      \n",
       "[43] \"Lactobacillus amylovorus\"                      \n",
       "[44] \"Lactobacillus helveticus\"                      \n",
       "[45] \"Lactobacillus johnsonii\"                       \n",
       "[46] \"Lactobacillus mucosae\"                         \n",
       "[47] \"Leptotrichia buccalis\"                         \n",
       "[48] \"Mageeibacillus indolicus\"                      \n",
       "[49] \"Maribacter sp. T28\"                            \n",
       "[50] \"Mariniflexile sp. TRM1-10\"                     \n",
       "[51] \"Mogibacterium diversum\"                        \n",
       "[52] \"Niabella ginsenosidivorans\"                    \n",
       "[53] \"Olleya aquimaris\"                              \n",
       "[54] \"Paeniclostridium sordellii\"                    \n",
       "[55] \"Parabacteroides sp. CT06\"                      \n",
       "[56] \"Parvimonas micra\"                              \n",
       "[57] \"Peptostreptococcaceae bacterium oral taxon 929\"\n",
       "[58] \"Polaribacter sp. SA4-10\"                       \n",
       "[59] \"Polaribacter sp. SA4-12\"                       \n",
       "[60] \"Prevotella fusca\"                              \n",
       "[61] \"Pseudoalteromonas carrageenovora\"              \n",
       "[62] \"Ruminococcus bicirculans\"                      \n",
       "[63] \"Selenomonas sp. oral taxon 478\"                \n",
       "[64] \"Seonamhaeicola sp. S2-3\"                       \n",
       "[65] \"Siansivirga zeaxanthinifaciens\"                \n",
       "[66] \"Sneathia amnii\"                                \n",
       "[67] \"Staphylococcus auricularis\"                    \n",
       "[68] \"Streptococcus australis\"                       \n",
       "[69] \"Streptococcus infantarius\"                     \n",
       "[70] \"Streptococcus intermedius\"                     \n",
       "[71] \"Streptococcus sp. I-P16\"                       \n",
       "[72] \"Streptococcus sp. NPS 308\"                     \n",
       "[73] \"Streptococcus sp. oral taxon 064\"              \n",
       "[74] \"Tamlana sp. UJ94\"                              \n",
       "[75] \"Tannerella forsythia\"                          \n",
       "[76] \"Tenacibaculum dicentrarchi\"                    \n",
       "[77] \"Tenacibaculum jejuense\"                        \n",
       "[78] \"Tenacibaculum maritimum\"                       \n",
       "[79] \"Treponema denticola\"                           \n",
       "[80] \"Vibrio breoganii\"                              "
      ]
     },
     "metadata": {},
     "output_type": "display_data"
    },
    {
     "data": {
      "text/html": [],
      "text/latex": [],
      "text/markdown": [],
      "text/plain": [
       "character(0)"
      ]
     },
     "metadata": {},
     "output_type": "display_data"
    }
   ],
   "source": [
    "intersect(neg_control, corr_nc)\n",
    "intersect(neg_intersect, corr_nc)"
   ]
  },
  {
   "cell_type": "markdown",
   "id": "11255dc6",
   "metadata": {},
   "source": [
    "### No. of non-contaminants per threshold"
   ]
  },
  {
   "cell_type": "code",
   "execution_count": 11,
   "id": "c95d0734",
   "metadata": {
    "scrolled": true
   },
   "outputs": [
    {
     "ename": "ERROR",
     "evalue": "Error in {: task 1 failed - \"object 'all_genera' not found\"\n",
     "output_type": "error",
     "traceback": [
      "Error in {: task 1 failed - \"object 'all_genera' not found\"\nTraceback:\n",
      "1. foreach(file = files) %dopar% {\n .     thresholds <- gsub(\"parsed.NC.n9999.min_samples100.\", \"\", \n .         file)\n .     thresholds <- gsub(\".txt\", \"\", thresholds)\n .     thresholds <- gsub(\"l\", \"\", thresholds)\n .     thresholds <- str_split(thresholds, pattern = \"h\")[[1]]\n .     hq_p <- round(as.numeric(thresholds[1]))\n .     nc <- read.csv(str_glue(\"{res_dir}/{file}\"))$non_contaminants\n .     known_contam_regex <- paste0(contam_list, collapse = \"|\")\n .     known_contam_regex\n .     known_contams_all <- all_genera[grepl(known_contam_regex, \n .         all_genera)]\n .     known_contams_nc <- nc[grepl(known_contam_regex, nc)]\n .     human_regex <- paste0(known_human_pathogens, collapse = \"|\")\n .     human_associated_nc <- nc[grepl(human_regex, nc)]\n .     human_associated_all <- all_genera[grepl(human_regex, all_genera)]\n .     tibble(percentile_threshold = hq_p, n_non_contaminants = length(nc), \n .         kitome_associated = length(known_contams_nc), human_associated = length(human_associated_nc))\n . }",
      "2. e$fun(obj, substitute(ex), parent.frame(), e$data)"
     ]
    }
   ],
   "source": [
    "morsels <- foreach (file = files) %dopar% {\n",
    "    thresholds <- gsub(\"parsed.NC.n9999.min_samples100.\", \"\", file)\n",
    "    thresholds <- gsub(\".txt\", \"\", thresholds)\n",
    "    thresholds <- gsub(\"l\", \"\", thresholds)\n",
    "    thresholds <- str_split(thresholds, pattern = \"h\")[[1]]\n",
    "    hq_p <- round(as.numeric(thresholds[1]))\n",
    "\n",
    "    nc <- read.csv(str_glue(\"{res_dir}/{file}\"))$non_contaminants\n",
    "\n",
    "    known_contam_regex <- paste0(contam_list, collapse = \"|\")\n",
    "    known_contam_regex\n",
    "\n",
    "    known_contams_all <- all_genera[grepl(known_contam_regex, all_genera)]\n",
    "    known_contams_nc <- nc[grepl(known_contam_regex, nc)]\n",
    "\n",
    "    human_regex <- paste0(known_human_pathogens, collapse = \"|\")\n",
    "    human_associated_nc <- nc[grepl(human_regex, nc)]\n",
    "    human_associated_all <- all_genera[grepl(human_regex, all_genera)]\n",
    "\n",
    "    tibble(percentile_threshold = hq_p, \n",
    "           n_non_contaminants = length(nc),\n",
    "           kitome_associated = length(known_contams_nc), \n",
    "           human_associated = length(human_associated_nc))\n",
    "}\n",
    "\n",
    "result_df <- bind_rows(morsels)"
   ]
  },
  {
   "cell_type": "code",
   "execution_count": null,
   "id": "e7457fe4",
   "metadata": {
    "scrolled": true
   },
   "outputs": [],
   "source": [
    "result_df %>% arrange(percentile_threshold) %>% \n",
    "    mutate(perc_kitome = kitome_associated/n_non_contaminants)\n",
    "\n",
    "result_df %>%\n",
    "    arrange(percentile_threshold) %>%\n",
    "    ggplot(aes(x = percentile_threshold, y = n_non_contaminants)) +\n",
    "    geom_line()"
   ]
  },
  {
   "cell_type": "markdown",
   "id": "58e7a71f",
   "metadata": {},
   "source": [
    "### Plot batch level abundance for single taxon"
   ]
  },
  {
   "cell_type": "code",
   "execution_count": 9,
   "id": "f81f4778",
   "metadata": {},
   "outputs": [],
   "source": [
    "label_pos <- min(species_long$clr) - 0.5\n",
    "\n",
    "n_fun <- function(x){\n",
    "  return(data.frame(y = label_pos, label = paste0(\"n = \", length(x))))\n",
    "}"
   ]
  },
  {
   "cell_type": "code",
   "execution_count": 94,
   "id": "a3ce73fc",
   "metadata": {},
   "outputs": [
    {
     "data": {
      "text/html": [
       "<style>\n",
       ".list-inline {list-style: none; margin:0; padding: 0}\n",
       ".list-inline>li {display: inline-block}\n",
       ".list-inline>li:not(:last-child)::after {content: \"\\00b7\"; padding: 0 .5ex}\n",
       "</style>\n",
       "<ol class=list-inline><li>'Methylorubrum extorquens'</li><li>'Torque teno virus 7'</li><li>'Torque teno midi virus 14'</li><li>'Torque teno virus 20'</li><li>'Torque teno virus 15'</li><li>'Torque teno virus 29'</li><li>'Torque teno virus 8'</li><li>'Torque teno virus 5'</li><li>'Torque teno virus 24'</li><li>'Torque teno virus 19'</li><li>'Torque teno virus 11'</li><li>'Torque teno virus 13'</li><li>'Torque teno virus 16'</li><li>'Torque teno mini virus 7'</li><li>'Torque teno virus'</li><li>'Torque teno virus 10'</li><li>'Torque teno mini virus 9'</li><li>'Torque teno mini virus 18'</li><li>'Torque teno mini virus 1'</li><li>'Torque teno virus 3'</li><li>'Torque teno midi virus 12'</li><li>'Torque teno virus 6'</li><li>'Torque teno virus 27'</li><li>'Torque teno virus 12'</li><li>'Torque teno mini virus 3'</li><li>'Torque teno virus 1'</li><li>'Torque teno midi virus 11'</li><li>'Torque teno virus 28'</li><li>'Torque teno midi virus 8'</li><li>'Torque teno midi virus 10'</li><li>'Torque teno mini virus ALA22'</li><li>'Torque teno mini virus ALH8'</li><li>'Torque teno mini virus 8'</li><li>'Torque teno mini virus 2'</li><li>'Torque teno mini virus 10'</li><li>'Torque teno mini virus 5'</li><li>'Torque teno virus 9'</li><li>'Torque teno midi virus 5'</li><li>'Torque teno virus 23'</li><li>'Torque teno midi virus 6'</li><li>'Torque teno virus 21'</li><li>'Torque teno midi virus 1'</li><li>'Torque teno mini virus 6'</li><li>'Torque teno virus 14'</li><li>'Torque teno midi virus 15'</li><li>'Torque teno midi virus 4'</li><li>'Torque teno mini virus 11'</li><li>'Torque teno virus 4'</li><li>'Torque teno mini virus 12'</li><li>'Torque teno midi virus 3'</li><li>'Torque teno midi virus 2'</li><li>'Torque teno midi virus 9'</li><li>'Torque teno midi virus 13'</li><li>'Torque teno felis virus'</li><li>'Torque teno mini virus 4'</li><li>'Simian torque teno virus 32'</li><li>'Torque teno midi virus 7'</li><li>'Torque teno virus 2'</li><li>'Rodent Torque teno virus 2'</li><li>'Torque teno douroucouli virus'</li><li>'Simian torque teno virus 33'</li></ol>\n"
      ],
      "text/latex": [
       "\\begin{enumerate*}\n",
       "\\item 'Methylorubrum extorquens'\n",
       "\\item 'Torque teno virus 7'\n",
       "\\item 'Torque teno midi virus 14'\n",
       "\\item 'Torque teno virus 20'\n",
       "\\item 'Torque teno virus 15'\n",
       "\\item 'Torque teno virus 29'\n",
       "\\item 'Torque teno virus 8'\n",
       "\\item 'Torque teno virus 5'\n",
       "\\item 'Torque teno virus 24'\n",
       "\\item 'Torque teno virus 19'\n",
       "\\item 'Torque teno virus 11'\n",
       "\\item 'Torque teno virus 13'\n",
       "\\item 'Torque teno virus 16'\n",
       "\\item 'Torque teno mini virus 7'\n",
       "\\item 'Torque teno virus'\n",
       "\\item 'Torque teno virus 10'\n",
       "\\item 'Torque teno mini virus 9'\n",
       "\\item 'Torque teno mini virus 18'\n",
       "\\item 'Torque teno mini virus 1'\n",
       "\\item 'Torque teno virus 3'\n",
       "\\item 'Torque teno midi virus 12'\n",
       "\\item 'Torque teno virus 6'\n",
       "\\item 'Torque teno virus 27'\n",
       "\\item 'Torque teno virus 12'\n",
       "\\item 'Torque teno mini virus 3'\n",
       "\\item 'Torque teno virus 1'\n",
       "\\item 'Torque teno midi virus 11'\n",
       "\\item 'Torque teno virus 28'\n",
       "\\item 'Torque teno midi virus 8'\n",
       "\\item 'Torque teno midi virus 10'\n",
       "\\item 'Torque teno mini virus ALA22'\n",
       "\\item 'Torque teno mini virus ALH8'\n",
       "\\item 'Torque teno mini virus 8'\n",
       "\\item 'Torque teno mini virus 2'\n",
       "\\item 'Torque teno mini virus 10'\n",
       "\\item 'Torque teno mini virus 5'\n",
       "\\item 'Torque teno virus 9'\n",
       "\\item 'Torque teno midi virus 5'\n",
       "\\item 'Torque teno virus 23'\n",
       "\\item 'Torque teno midi virus 6'\n",
       "\\item 'Torque teno virus 21'\n",
       "\\item 'Torque teno midi virus 1'\n",
       "\\item 'Torque teno mini virus 6'\n",
       "\\item 'Torque teno virus 14'\n",
       "\\item 'Torque teno midi virus 15'\n",
       "\\item 'Torque teno midi virus 4'\n",
       "\\item 'Torque teno mini virus 11'\n",
       "\\item 'Torque teno virus 4'\n",
       "\\item 'Torque teno mini virus 12'\n",
       "\\item 'Torque teno midi virus 3'\n",
       "\\item 'Torque teno midi virus 2'\n",
       "\\item 'Torque teno midi virus 9'\n",
       "\\item 'Torque teno midi virus 13'\n",
       "\\item 'Torque teno felis virus'\n",
       "\\item 'Torque teno mini virus 4'\n",
       "\\item 'Simian torque teno virus 32'\n",
       "\\item 'Torque teno midi virus 7'\n",
       "\\item 'Torque teno virus 2'\n",
       "\\item 'Rodent Torque teno virus 2'\n",
       "\\item 'Torque teno douroucouli virus'\n",
       "\\item 'Simian torque teno virus 33'\n",
       "\\end{enumerate*}\n"
      ],
      "text/markdown": [
       "1. 'Methylorubrum extorquens'\n",
       "2. 'Torque teno virus 7'\n",
       "3. 'Torque teno midi virus 14'\n",
       "4. 'Torque teno virus 20'\n",
       "5. 'Torque teno virus 15'\n",
       "6. 'Torque teno virus 29'\n",
       "7. 'Torque teno virus 8'\n",
       "8. 'Torque teno virus 5'\n",
       "9. 'Torque teno virus 24'\n",
       "10. 'Torque teno virus 19'\n",
       "11. 'Torque teno virus 11'\n",
       "12. 'Torque teno virus 13'\n",
       "13. 'Torque teno virus 16'\n",
       "14. 'Torque teno mini virus 7'\n",
       "15. 'Torque teno virus'\n",
       "16. 'Torque teno virus 10'\n",
       "17. 'Torque teno mini virus 9'\n",
       "18. 'Torque teno mini virus 18'\n",
       "19. 'Torque teno mini virus 1'\n",
       "20. 'Torque teno virus 3'\n",
       "21. 'Torque teno midi virus 12'\n",
       "22. 'Torque teno virus 6'\n",
       "23. 'Torque teno virus 27'\n",
       "24. 'Torque teno virus 12'\n",
       "25. 'Torque teno mini virus 3'\n",
       "26. 'Torque teno virus 1'\n",
       "27. 'Torque teno midi virus 11'\n",
       "28. 'Torque teno virus 28'\n",
       "29. 'Torque teno midi virus 8'\n",
       "30. 'Torque teno midi virus 10'\n",
       "31. 'Torque teno mini virus ALA22'\n",
       "32. 'Torque teno mini virus ALH8'\n",
       "33. 'Torque teno mini virus 8'\n",
       "34. 'Torque teno mini virus 2'\n",
       "35. 'Torque teno mini virus 10'\n",
       "36. 'Torque teno mini virus 5'\n",
       "37. 'Torque teno virus 9'\n",
       "38. 'Torque teno midi virus 5'\n",
       "39. 'Torque teno virus 23'\n",
       "40. 'Torque teno midi virus 6'\n",
       "41. 'Torque teno virus 21'\n",
       "42. 'Torque teno midi virus 1'\n",
       "43. 'Torque teno mini virus 6'\n",
       "44. 'Torque teno virus 14'\n",
       "45. 'Torque teno midi virus 15'\n",
       "46. 'Torque teno midi virus 4'\n",
       "47. 'Torque teno mini virus 11'\n",
       "48. 'Torque teno virus 4'\n",
       "49. 'Torque teno mini virus 12'\n",
       "50. 'Torque teno midi virus 3'\n",
       "51. 'Torque teno midi virus 2'\n",
       "52. 'Torque teno midi virus 9'\n",
       "53. 'Torque teno midi virus 13'\n",
       "54. 'Torque teno felis virus'\n",
       "55. 'Torque teno mini virus 4'\n",
       "56. 'Simian torque teno virus 32'\n",
       "57. 'Torque teno midi virus 7'\n",
       "58. 'Torque teno virus 2'\n",
       "59. 'Rodent Torque teno virus 2'\n",
       "60. 'Torque teno douroucouli virus'\n",
       "61. 'Simian torque teno virus 33'\n",
       "\n",
       "\n"
      ],
      "text/plain": [
       " [1] \"Methylorubrum extorquens\"      \"Torque teno virus 7\"          \n",
       " [3] \"Torque teno midi virus 14\"     \"Torque teno virus 20\"         \n",
       " [5] \"Torque teno virus 15\"          \"Torque teno virus 29\"         \n",
       " [7] \"Torque teno virus 8\"           \"Torque teno virus 5\"          \n",
       " [9] \"Torque teno virus 24\"          \"Torque teno virus 19\"         \n",
       "[11] \"Torque teno virus 11\"          \"Torque teno virus 13\"         \n",
       "[13] \"Torque teno virus 16\"          \"Torque teno mini virus 7\"     \n",
       "[15] \"Torque teno virus\"             \"Torque teno virus 10\"         \n",
       "[17] \"Torque teno mini virus 9\"      \"Torque teno mini virus 18\"    \n",
       "[19] \"Torque teno mini virus 1\"      \"Torque teno virus 3\"          \n",
       "[21] \"Torque teno midi virus 12\"     \"Torque teno virus 6\"          \n",
       "[23] \"Torque teno virus 27\"          \"Torque teno virus 12\"         \n",
       "[25] \"Torque teno mini virus 3\"      \"Torque teno virus 1\"          \n",
       "[27] \"Torque teno midi virus 11\"     \"Torque teno virus 28\"         \n",
       "[29] \"Torque teno midi virus 8\"      \"Torque teno midi virus 10\"    \n",
       "[31] \"Torque teno mini virus ALA22\"  \"Torque teno mini virus ALH8\"  \n",
       "[33] \"Torque teno mini virus 8\"      \"Torque teno mini virus 2\"     \n",
       "[35] \"Torque teno mini virus 10\"     \"Torque teno mini virus 5\"     \n",
       "[37] \"Torque teno virus 9\"           \"Torque teno midi virus 5\"     \n",
       "[39] \"Torque teno virus 23\"          \"Torque teno midi virus 6\"     \n",
       "[41] \"Torque teno virus 21\"          \"Torque teno midi virus 1\"     \n",
       "[43] \"Torque teno mini virus 6\"      \"Torque teno virus 14\"         \n",
       "[45] \"Torque teno midi virus 15\"     \"Torque teno midi virus 4\"     \n",
       "[47] \"Torque teno mini virus 11\"     \"Torque teno virus 4\"          \n",
       "[49] \"Torque teno mini virus 12\"     \"Torque teno midi virus 3\"     \n",
       "[51] \"Torque teno midi virus 2\"      \"Torque teno midi virus 9\"     \n",
       "[53] \"Torque teno midi virus 13\"     \"Torque teno felis virus\"      \n",
       "[55] \"Torque teno mini virus 4\"      \"Simian torque teno virus 32\"  \n",
       "[57] \"Torque teno midi virus 7\"      \"Torque teno virus 2\"          \n",
       "[59] \"Rodent Torque teno virus 2\"    \"Torque teno douroucouli virus\"\n",
       "[61] \"Simian torque teno virus 33\"  "
      ]
     },
     "metadata": {},
     "output_type": "display_data"
    }
   ],
   "source": [
    "colnames(species_df)[grepl(\"torque\", colnames(species_df), ignore.case = T)]"
   ]
  },
  {
   "cell_type": "code",
   "execution_count": 95,
   "id": "413b6939",
   "metadata": {
    "scrolled": true
   },
   "outputs": [
    {
     "data": {
      "image/png": "[encoded data removed]",
      "text/plain": [
       "plot without title"
      ]
     },
     "metadata": {
      "image/png": {
       "height": 420,
       "width": 420
      }
     },
     "output_type": "display_data"
    }
   ],
   "source": [
    "taxon <- \"Torque teno virus 7\"\n",
    "column <- \"site_supplying_sample\"\n",
    "\n",
    "species_long %>%\n",
    "    filter(taxa == taxon, clr != 0) %>%\n",
    "    ggplot(aes(x = get(column), y = clr, fill = get(column))) +\n",
    "        theme_bw() +\n",
    "        geom_boxplot(position = position_nudge(x = -0.2, y = 0), \n",
    "                   width = 0.2, \n",
    "                   outlier.shape = NA,\n",
    "                   alpha = 0.3) +\n",
    "        geom_violinhalf(position = position_nudge(x = 0.1, y = 0), alpha = 1) +\n",
    "        geom_point(position = position_jitter(width = 0.05), \n",
    "                   color = \"dark grey\",\n",
    "                     size = 0.5, \n",
    "                     alpha = 1) +\n",
    "        stat_summary(fun.data = n_fun, geom = \"text\") +\n",
    "        labs(x = \"site_supplying_sample\", y = \"clr(Rel. Abundance)\", title = taxon) +\n",
    "        coord_flip() +\n",
    "        theme(legend.position = \"none\")\n",
    "\n"
   ]
  },
  {
   "cell_type": "markdown",
   "id": "d3a2bb6a",
   "metadata": {},
   "source": [
    "### Plot batch level abundance for non-contaminants"
   ]
  },
  {
   "cell_type": "code",
   "execution_count": 11,
   "id": "6ac4a28d",
   "metadata": {},
   "outputs": [
    {
     "name": "stderr",
     "output_type": "stream",
     "text": [
      "Joining, by = \"npm_research_id\"\n",
      "\n"
     ]
    }
   ],
   "source": [
    "get_meta_cols <- function(meta) {\n",
    "    meta_cols <- colnames(meta)[grep(\"kit|flow_cell|instrument_id|site_supplying\", colnames(meta))]\n",
    "    to_exclude <- c(\"library_prep_kit\", \"hiseq_xtm_flow_cell_v2_5_id\")\n",
    "    meta_cols <- meta_cols[!(meta_cols %in% to_exclude)]\n",
    "    return(meta_cols)\n",
    "}\n",
    "\n",
    "\n",
    "to_retain <- fread(\"data/samples_above_95_reads.txt\")$npm_research_id\n",
    "\n",
    "meta <- fread(\"data/SG10K_Health_metadata.n10714.16March2021.parsed.csv\") %>%\n",
    "    filter(npm_research_id %in% to_retain)\n",
    "\n",
    "meta_cols <- get_meta_cols(meta)\n",
    "\n",
    "species_long <- species_clr %>%\n",
    "    pivot_longer(where(is.numeric), names_to = \"taxa\", values_to = \"clr\") %>%\n",
    "    left_join(meta %>% select(all_of(c(\"npm_research_id\", meta_cols))))"
   ]
  },
  {
   "cell_type": "code",
   "execution_count": 12,
   "id": "d76f5125",
   "metadata": {
    "scrolled": true
   },
   "outputs": [
    {
     "ename": "ERROR",
     "evalue": "Error in eval(expr, envir, enclos): object 'files' not found\n",
     "output_type": "error",
     "traceback": [
      "Error in eval(expr, envir, enclos): object 'files' not found\nTraceback:\n"
     ]
    }
   ],
   "source": [
    "perc_t <- \"l15h85\"\n",
    "file <- files[grepl(perc_t, files)]\n",
    "nc <- read.csv(str_glue(\"{res_dir}/{file}\"))$non_contaminants\n",
    "length(nc)"
   ]
  },
  {
   "cell_type": "code",
   "execution_count": null,
   "id": "3c2e0cc7",
   "metadata": {},
   "outputs": [],
   "source": [
    "# label_pos <- min(species_long$clr) - 0.5\n",
    "\n",
    "# n_fun <- function(x){\n",
    "#   return(data.frame(y = label_pos, label = paste0(\"n = \", length(x))))\n",
    "# }\n",
    "\n",
    "# for (column in meta_cols) {\n",
    "#     plots_without_zeros <- foreach (taxon = nc) %dopar% {\n",
    "#         species_long %>%\n",
    "#     filter(taxa == taxon, clr != 0, get(column) != \"Unknown\") %>%\n",
    "#             ggplot(aes(x = get(column), y = clr, fill = get(column))) +\n",
    "#                 theme_bw() +\n",
    "#                 geom_boxplot(position = position_nudge(x = -0.2, y = 0), \n",
    "#                            width = 0.2, \n",
    "#                            outlier.shape = NA,\n",
    "#                            alpha = 0.3) +\n",
    "#                 geom_violinhalf(position = position_nudge(x = 0.1, y = 0), alpha = 1) +\n",
    "#                 geom_point(position = position_jitter(width = 0.05), \n",
    "#                            color = \"dark grey\",\n",
    "#                              size = 0.5, \n",
    "#                              alpha = 1) +\n",
    "#                 stat_summary(fun.data = n_fun, geom = \"text\") +\n",
    "#                 labs(x = column, y = \"clr(Rel. Abundance)\", title = taxon) +\n",
    "#                 coord_flip() +\n",
    "#                 theme(legend.position = \"none\")\n",
    "#     }\n",
    "\n",
    "\n",
    "#     pdf(str_glue(\"results/decontamination/clr_decontamination/clr_abundance.l{perc_t}.{column}.without_zeroes.pdf\"))\n",
    "\n",
    "#         for (plt in plots_without_zeros) {\n",
    "#             print(plt)\n",
    "#         }\n",
    "\n",
    "#     dev.off()\n",
    "    \n",
    "#     stopImplicitCluster()\n",
    "# }"
   ]
  },
  {
   "cell_type": "markdown",
   "id": "6c298eac",
   "metadata": {},
   "source": [
    "### t-SNE"
   ]
  },
  {
   "cell_type": "code",
   "execution_count": null,
   "id": "391802dc",
   "metadata": {},
   "outputs": [],
   "source": [
    "merged_RA <- species_clr %>%\n",
    "    left_join(meta)\n",
    "\n",
    "X <- merged_RA[, 1:ncol(species_clr)]\n",
    "X <- X %>% select(-npm_research_id)\n",
    "X_decon <- X %>% select(all_of(nc))\n",
    "Y <- merged_RA[, (ncol(species_clr) + 1):ncol(merged_RA)]\n",
    "\n",
    "# fwrite(Y, \"data/temp_files_9999/07_abundance_matrix/metadata_aitchinson_matrix.clr_decon.l15h85.subset_9999.S.tsv\", sep = \"\\t\")"
   ]
  },
  {
   "cell_type": "markdown",
   "id": "da6da94a",
   "metadata": {},
   "source": [
    "#### Compute Aitchinson distances for ordination\n",
    "https://www.ncbi.nlm.nih.gov/pmc/articles/PMC5695134/"
   ]
  },
  {
   "cell_type": "code",
   "execution_count": null,
   "id": "dc18461f",
   "metadata": {
    "scrolled": true
   },
   "outputs": [],
   "source": [
    "# require(amap)\n",
    "# system.time({\n",
    "#     X_dist <- as.matrix(Dist(as.matrix(X), method = \"euclidean\", nbproc = 10))\n",
    "# })\n",
    "\n",
    "# fwrite(X_dist, \"data/temp_files_9999/07_abundance_matrix/aitchinson_matrix.subset_9999.S.tsv\", sep = \"\\t\", col.names = F)\n",
    "X_dist <- as.matrix(fread(\"data/temp_files_9999/07_abundance_matrix/aitchinson_matrix.subset_9999.S.tsv\"))"
   ]
  },
  {
   "cell_type": "code",
   "execution_count": null,
   "id": "2b12c4f0",
   "metadata": {},
   "outputs": [],
   "source": [
    "# system.time({\n",
    "#     X_decon_dist <- as.matrix(Dist(as.matrix(X_decon), method = \"euclidean\", nbproc = 10))\n",
    "# })\n",
    "\n",
    "# fwrite(X_decon_dist, \"data/temp_files_9999/07_abundance_matrix/aitchinson_matrix.clr_decon.l15h85.subset_9999.S.tsv\", sep = \"\\t\", col.names = F)\n",
    "X_decon_dist <- as.matrix(fread(\"data/temp_files_9999/07_abundance_matrix/aitchinson_matrix.clr_decon.l15h85.subset_9999.S.tsv\"))"
   ]
  },
  {
   "cell_type": "markdown",
   "id": "f7137597",
   "metadata": {},
   "source": [
    "#### Run t-SNE"
   ]
  },
  {
   "cell_type": "code",
   "execution_count": null,
   "id": "acfc76ab",
   "metadata": {},
   "outputs": [],
   "source": [
    "# perp <- 30\n",
    "# max_iter <- 5000\n",
    "# theta <- 0.5\n",
    "\n",
    "# tsne <- Rtsne(X_dist,\n",
    "#               verbose = T,\n",
    "#               perplexity = perp,\n",
    "#               max_iter = max_iter,\n",
    "#               is_distance = T,\n",
    "#               pca = T,\n",
    "#               theta = theta)\n",
    "\n",
    "# tsne_decon <- Rtsne(X_decon_dist,\n",
    "#               verbose = T,\n",
    "#               perplexity = perp,\n",
    "#               max_iter = max_iter,\n",
    "#               is_distance = T,\n",
    "#               pca = T,\n",
    "#               theta = theta)"
   ]
  },
  {
   "cell_type": "markdown",
   "id": "25fdf3d1",
   "metadata": {},
   "source": [
    "#### Plot t-SNE"
   ]
  },
  {
   "cell_type": "code",
   "execution_count": null,
   "id": "1a2c7368",
   "metadata": {},
   "outputs": [],
   "source": [
    "# plot_df <- data.frame(tsne$Y, Y)\n",
    "# plot_df_decon <- data.frame(tsne_decon$Y, Y)\n",
    "\n",
    "\n",
    "# # Params\n",
    "# size <- 2\n",
    "# col <- \"extraction_kit\"\n",
    "# # pal <- c(\"red\", \"orange\", \"grey\")\n",
    "\n",
    "# plt1 <- plot_df %>%\n",
    "#     filter(get(col) != \"Unknown\") %>%\n",
    "#     ggplot(aes(x = X1, y = X2, color = get(col))) +\n",
    "#         geom_point(size = size, alpha = 0.3) +\n",
    "# #         scale_color_manual(values = pal) +\n",
    "#         theme(axis.title = element_blank(),\n",
    "#               axis.text = element_blank(),\n",
    "#               panel.grid.major = element_blank(),\n",
    "#               panel.grid.minor = element_blank(),\n",
    "#               axis.ticks = element_blank()) +\n",
    "#     labs(color = col)\n",
    "\n",
    "# plt2 <- plot_df_decon %>%\n",
    "#     filter(get(col) != \"Unknown\") %>%\n",
    "#     ggplot(aes(x = X1, y = X2, color = get(col))) +\n",
    "#         geom_point(size = size, alpha = 0.3) +\n",
    "# #         scale_color_manual(values = pal) +\n",
    "#         theme(axis.title = element_blank(),\n",
    "#               axis.text = element_blank(),\n",
    "#               panel.grid.major = element_blank(),\n",
    "#               panel.grid.minor = element_blank(),\n",
    "#               axis.ticks = element_blank()) +\n",
    "#     labs(color = col)\n",
    "\n",
    "# combined_tsne <- ggpubr::ggarrange(plt1, plt2, ncol = 2, common.legend = T)\n",
    "# ggsave(str_glue(\"results/decontamination/clr_decontamination/tsne_before_after.{perc_t}.png\"), combined_tsne, \n",
    "#        dpi = 300,\n",
    "#        height = 5, width = 10)"
   ]
  },
  {
   "cell_type": "code",
   "execution_count": null,
   "id": "27f992a0",
   "metadata": {},
   "outputs": [],
   "source": [
    "all_genera <- colnames(species_clr)\n",
    "all_genera <- all_genera[all_genera != \"npm_research_id\"]\n",
    "head(all_genera)\n",
    "length(all_genera)"
   ]
  },
  {
   "cell_type": "markdown",
   "id": "e8f004ef",
   "metadata": {},
   "source": [
    "### Venn diagrams"
   ]
  },
  {
   "cell_type": "code",
   "execution_count": null,
   "id": "f8afb203",
   "metadata": {},
   "outputs": [],
   "source": [
    "# require(VennDiagram)\n",
    "#     venn_list_nc <- list(non_contaminants = nc,\n",
    "#                       human_associated = human_associated_nc, \n",
    "#                       kitome_associated = known_contams_nc)\n",
    "\n",
    "#     venn_list_all <- list(all_genera = all_genera,\n",
    "#                       human_associated = human_associated_all, \n",
    "#                       kitome_associated = known_contams_all)\n",
    "# venn.diagram(venn_list_all, filename = \"results/decontamination/clr_decontamination/all_genera_venn.png\",\n",
    "#              category.names = c(\"All genera\", \"Human associated\", \"Kitome associated\"),\n",
    "#              print.mode = c(\"raw\", \"percent\")\n",
    "#              )\n",
    "\n",
    "# venn.diagram(venn_list_nc, filename = \"results/decontamination/clr_decontamination/identified_nc_genera_venn.png\",\n",
    "#              category.names = c(\"Non-contaminants\", \"Human associated\", \"Kitome associated\"),\n",
    "#              print.mode = c(\"raw\", \"percent\")\n",
    "#              )"
   ]
  },
  {
   "cell_type": "markdown",
   "id": "366d4c8d",
   "metadata": {},
   "source": [
    "### Max read counts"
   ]
  },
  {
   "cell_type": "code",
   "execution_count": null,
   "id": "387b5d0f",
   "metadata": {
    "scrolled": true
   },
   "outputs": [],
   "source": [
    "max_df <- species_df %>%\n",
    "    pivot_longer(!npm_research_id, names_to = \"taxa\", values_to = \"read_count\") %>%\n",
    "    group_by(taxa) %>%\n",
    "    summarise(max_count = max(read_count)) %>%\n",
    "    mutate(max_bins = case_when(max_count == 0 ~ \"0\",\n",
    "                     max_count > 0 & max_count <= 10 ~ \"1-10\",\n",
    "                     max_count > 10 & max_count <= 100 ~ \"11-100\",\n",
    "                     max_count > 100 & max_count <= 500 ~ \"101-500\",\n",
    "                     max_count > 500 & max_count <= 1000 ~ \"501-1000\",\n",
    "                     max_count > 1000 & max_count <= 5000 ~ \"1001-5000\",\n",
    "                     max_count > 5000 ~ \">5000\")) %>%\n",
    "    mutate(max_bins = factor(max_bins, levels = c(\"0\", \"1-10\", \"11-100\", \"101-500\", \"501-1000\",\n",
    "                                                    \"1001-5000\", \">5000\")))\n",
    "\n",
    "\n",
    "max_df %>% \n",
    "    filter(taxa %in% nc) %>%\n",
    "    arrange(desc(max_count))"
   ]
  },
  {
   "cell_type": "markdown",
   "id": "2940f69f",
   "metadata": {},
   "source": [
    "#### Annotate with host metadata"
   ]
  },
  {
   "cell_type": "code",
   "execution_count": null,
   "id": "e10c22ef",
   "metadata": {
    "scrolled": true
   },
   "outputs": [],
   "source": [
    "human_regex <- paste0(known_human_pathogens, collapse = \"|\")\n",
    "human_associated_nc <- nc[grepl(human_regex, nc)]\n",
    "human_associated_all <- all_genera[grepl(human_regex, all_genera)]\n",
    "\n",
    "max_df %>% \n",
    "    filter(taxa %in% nc) %>%\n",
    "    arrange(desc(max_count)) %>%\n",
    "    mutate(human_associated = ifelse(taxa %in% human_associated_all, \"Yes\", \"No\"))"
   ]
  },
  {
   "cell_type": "code",
   "execution_count": null,
   "id": "fe558291",
   "metadata": {},
   "outputs": [],
   "source": [
    "max_count_bar <- max_df %>% \n",
    "    filter(taxa %in% nc) %>%\n",
    "    count(max_bins) %>%\n",
    "    ggplot(aes(x = max_bins, y = n, fill = max_bins)) +\n",
    "    geom_bar(stat = \"identity\") +\n",
    "    labs(x = \"Max read count\", y = \"No. of non-contaminant species\") +\n",
    "    theme(legend.position = \"none\") +\n",
    "    geom_text(aes(x = 4.5, y = 40, \n",
    "                  label = str_glue(\"threshold = {perc_t} \\n n_species = {length(nc)}\")),\n",
    "              hjust = 0) +\n",
    "    geom_text(aes(label = n), vjust = 0)\n",
    "\n",
    "ggsave(str_glue(\"results/decontamination/clr_decontamination/max_read_count_barplot.{perc_t}.png\"), max_count_bar, \n",
    "       dpi = 300)"
   ]
  },
  {
   "cell_type": "markdown",
   "id": "e4cc8783",
   "metadata": {},
   "source": [
    "### Prevalence of non-contaminants"
   ]
  },
  {
   "cell_type": "code",
   "execution_count": 97,
   "id": "58ab75ea",
   "metadata": {},
   "outputs": [
    {
     "data": {
      "text/html": [
       "<table class=\"dataframe\">\n",
       "<caption>A tibble: 9 × 2</caption>\n",
       "<thead>\n",
       "\t<tr><th scope=col>taxa</th><th scope=col>prevalence</th></tr>\n",
       "\t<tr><th scope=col>&lt;chr&gt;</th><th scope=col>&lt;dbl&gt;</th></tr>\n",
       "</thead>\n",
       "<tbody>\n",
       "\t<tr><td>Cutibacterium acnes             </td><td>0.15822640</td></tr>\n",
       "\t<tr><td>Ralstonia solanacearum          </td><td>0.13909258</td></tr>\n",
       "\t<tr><td>Neorhizobium galegae            </td><td>0.07378552</td></tr>\n",
       "\t<tr><td>Devosia sp. A16                 </td><td>0.06278643</td></tr>\n",
       "\t<tr><td>Sinorhizobium sp. RAC02         </td><td>0.06003666</td></tr>\n",
       "\t<tr><td>Rhizobium etli                  </td><td>0.05900550</td></tr>\n",
       "\t<tr><td>Gluconacetobacter diazotrophicus</td><td>0.05659945</td></tr>\n",
       "\t<tr><td>Burkholderia multivorans        </td><td>0.05419340</td></tr>\n",
       "\t<tr><td>Aminobacter aminovorans         </td><td>0.05144363</td></tr>\n",
       "</tbody>\n",
       "</table>\n"
      ],
      "text/latex": [
       "A tibble: 9 × 2\n",
       "\\begin{tabular}{ll}\n",
       " taxa & prevalence\\\\\n",
       " <chr> & <dbl>\\\\\n",
       "\\hline\n",
       "\t Cutibacterium acnes              & 0.15822640\\\\\n",
       "\t Ralstonia solanacearum           & 0.13909258\\\\\n",
       "\t Neorhizobium galegae             & 0.07378552\\\\\n",
       "\t Devosia sp. A16                  & 0.06278643\\\\\n",
       "\t Sinorhizobium sp. RAC02          & 0.06003666\\\\\n",
       "\t Rhizobium etli                   & 0.05900550\\\\\n",
       "\t Gluconacetobacter diazotrophicus & 0.05659945\\\\\n",
       "\t Burkholderia multivorans         & 0.05419340\\\\\n",
       "\t Aminobacter aminovorans          & 0.05144363\\\\\n",
       "\\end{tabular}\n"
      ],
      "text/markdown": [
       "\n",
       "A tibble: 9 × 2\n",
       "\n",
       "| taxa &lt;chr&gt; | prevalence &lt;dbl&gt; |\n",
       "|---|---|\n",
       "| Cutibacterium acnes              | 0.15822640 |\n",
       "| Ralstonia solanacearum           | 0.13909258 |\n",
       "| Neorhizobium galegae             | 0.07378552 |\n",
       "| Devosia sp. A16                  | 0.06278643 |\n",
       "| Sinorhizobium sp. RAC02          | 0.06003666 |\n",
       "| Rhizobium etli                   | 0.05900550 |\n",
       "| Gluconacetobacter diazotrophicus | 0.05659945 |\n",
       "| Burkholderia multivorans         | 0.05419340 |\n",
       "| Aminobacter aminovorans          | 0.05144363 |\n",
       "\n"
      ],
      "text/plain": [
       "  taxa                             prevalence\n",
       "1 Cutibacterium acnes              0.15822640\n",
       "2 Ralstonia solanacearum           0.13909258\n",
       "3 Neorhizobium galegae             0.07378552\n",
       "4 Devosia sp. A16                  0.06278643\n",
       "5 Sinorhizobium sp. RAC02          0.06003666\n",
       "6 Rhizobium etli                   0.05900550\n",
       "7 Gluconacetobacter diazotrophicus 0.05659945\n",
       "8 Burkholderia multivorans         0.05419340\n",
       "9 Aminobacter aminovorans          0.05144363"
      ]
     },
     "metadata": {},
     "output_type": "display_data"
    }
   ],
   "source": [
    "prev_t <- 10\n",
    "species_prev <- species_df %>% select(-npm_research_id, -unclassified, -\"Homo sapiens\")\n",
    "species_prev[species_prev <= prev_t] <- 0\n",
    "species_prev[species_prev > prev_t] <- 1\n",
    "species_prev$npm_research_id <- species_df$npm_research_id\n",
    "# head(species_prev)\n",
    "\n",
    "prev_df <- species_prev %>%\n",
    "    pivot_longer(!npm_research_id, names_to = \"taxa\", values_to = \"presence\") %>%\n",
    "    filter(taxa %in% nc) %>%\n",
    "    group_by(taxa) %>%\n",
    "    summarise(prevalence = sum(presence) / nrow(species_prev)) %>%\n",
    "    arrange(desc(prevalence))\n",
    "\n",
    "prev_df %>% filter(prevalence > 0.05)"
   ]
  },
  {
   "cell_type": "code",
   "execution_count": 96,
   "id": "867a2065",
   "metadata": {},
   "outputs": [
    {
     "data": {
      "image/png": "[encoded data removed]",
      "text/plain": [
       "plot without title"
      ]
     },
     "metadata": {
      "image/png": {
       "height": 420,
       "width": 420
      }
     },
     "output_type": "display_data"
    }
   ],
   "source": [
    "prev_df %>%\n",
    "    ggplot(aes(x = prevalence * 100)) +\n",
    "    geom_histogram(bins = 100) +\n",
    "    labs(x = \"Prevalence (%)\", y = \"No. of non-contaminants\")"
   ]
  },
  {
   "cell_type": "markdown",
   "id": "62c9c602",
   "metadata": {},
   "source": [
    "### Case Study: Moraxella osloensis"
   ]
  },
  {
   "cell_type": "code",
   "execution_count": 25,
   "id": "00f8c6ae",
   "metadata": {},
   "outputs": [
    {
     "name": "stderr",
     "output_type": "stream",
     "text": [
      "Joining, by = \"npm_research_id\"\n",
      "\n"
     ]
    },
    {
     "data": {
      "text/html": [
       "<table class=\"dataframe\">\n",
       "<caption>A tibble: 7 × 3</caption>\n",
       "<thead>\n",
       "\t<tr><th scope=col>extraction_kit</th><th scope=col>sum</th><th scope=col>prevalence</th></tr>\n",
       "\t<tr><th scope=col>&lt;chr&gt;</th><th scope=col>&lt;dbl&gt;</th><th scope=col>&lt;dbl&gt;</th></tr>\n",
       "</thead>\n",
       "<tbody>\n",
       "\t<tr><td>abGENIX Whole Blood Genomic DNA Extraction Kit</td><td>1002</td><td>0.4392810</td></tr>\n",
       "\t<tr><td>Chemagic DNA Blood Kit (Perkin Elmer, MA)     </td><td> 351</td><td>0.3375000</td></tr>\n",
       "\t<tr><td>Maxwell RSC Blood DNA Kit (AS1400)            </td><td>1338</td><td>0.6329234</td></tr>\n",
       "\t<tr><td>QIAamp DNA Blood Mini Kit                     </td><td> 274</td><td>0.4228395</td></tr>\n",
       "\t<tr><td>QIAsymphony DSP DNA Midi Kit                  </td><td> 385</td><td>0.3989637</td></tr>\n",
       "\t<tr><td>QIAsymphony DSP DNA Mini Kit (192)            </td><td> 419</td><td>0.7053872</td></tr>\n",
       "\t<tr><td>Unknown                                       </td><td> 658</td><td>0.6058932</td></tr>\n",
       "</tbody>\n",
       "</table>\n"
      ],
      "text/latex": [
       "A tibble: 7 × 3\n",
       "\\begin{tabular}{lll}\n",
       " extraction\\_kit & sum & prevalence\\\\\n",
       " <chr> & <dbl> & <dbl>\\\\\n",
       "\\hline\n",
       "\t abGENIX Whole Blood Genomic DNA Extraction Kit & 1002 & 0.4392810\\\\\n",
       "\t Chemagic DNA Blood Kit (Perkin Elmer, MA)      &  351 & 0.3375000\\\\\n",
       "\t Maxwell RSC Blood DNA Kit (AS1400)             & 1338 & 0.6329234\\\\\n",
       "\t QIAamp DNA Blood Mini Kit                      &  274 & 0.4228395\\\\\n",
       "\t QIAsymphony DSP DNA Midi Kit                   &  385 & 0.3989637\\\\\n",
       "\t QIAsymphony DSP DNA Mini Kit (192)             &  419 & 0.7053872\\\\\n",
       "\t Unknown                                        &  658 & 0.6058932\\\\\n",
       "\\end{tabular}\n"
      ],
      "text/markdown": [
       "\n",
       "A tibble: 7 × 3\n",
       "\n",
       "| extraction_kit &lt;chr&gt; | sum &lt;dbl&gt; | prevalence &lt;dbl&gt; |\n",
       "|---|---|---|\n",
       "| abGENIX Whole Blood Genomic DNA Extraction Kit | 1002 | 0.4392810 |\n",
       "| Chemagic DNA Blood Kit (Perkin Elmer, MA)      |  351 | 0.3375000 |\n",
       "| Maxwell RSC Blood DNA Kit (AS1400)             | 1338 | 0.6329234 |\n",
       "| QIAamp DNA Blood Mini Kit                      |  274 | 0.4228395 |\n",
       "| QIAsymphony DSP DNA Midi Kit                   |  385 | 0.3989637 |\n",
       "| QIAsymphony DSP DNA Mini Kit (192)             |  419 | 0.7053872 |\n",
       "| Unknown                                        |  658 | 0.6058932 |\n",
       "\n"
      ],
      "text/plain": [
       "  extraction_kit                                 sum  prevalence\n",
       "1 abGENIX Whole Blood Genomic DNA Extraction Kit 1002 0.4392810 \n",
       "2 Chemagic DNA Blood Kit (Perkin Elmer, MA)       351 0.3375000 \n",
       "3 Maxwell RSC Blood DNA Kit (AS1400)             1338 0.6329234 \n",
       "4 QIAamp DNA Blood Mini Kit                       274 0.4228395 \n",
       "5 QIAsymphony DSP DNA Midi Kit                    385 0.3989637 \n",
       "6 QIAsymphony DSP DNA Mini Kit (192)              419 0.7053872 \n",
       "7 Unknown                                         658 0.6058932 "
      ]
     },
     "metadata": {},
     "output_type": "display_data"
    }
   ],
   "source": [
    "col <- \"extraction_kit\"\n",
    "taxon <- \"Moraxella osloensis\"\n",
    "test <- species_prev %>% \n",
    "    left_join(meta) %>%\n",
    "    group_by_at(c(col)) %>%\n",
    "    summarise(sum = sum(get(taxon)))\n",
    "\n",
    "test %>% mutate(prevalence = sum / as.vector(table(meta[, ..col])))\n"
   ]
  },
  {
   "cell_type": "code",
   "execution_count": 83,
   "id": "e6909daa",
   "metadata": {},
   "outputs": [
    {
     "name": "stdout",
     "output_type": "stream",
     "text": [
      "Overall prevalence (>0 reads) of Moraxella osloensis = 50.72%\n",
      "Overall prevalence (>1 reads) of Moraxella osloensis = 29.5%\n",
      "Overall prevalence (>2 reads) of Moraxella osloensis = 19%\n",
      "Overall prevalence (>5 reads) of Moraxella osloensis = 8.17%\n",
      "Overall prevalence (>10 reads) of Moraxella osloensis = 4.09%\n",
      "Overall prevalence (>50 reads) of Moraxella osloensis = 1.09%\n",
      "Overall prevalence (>100 reads) of Moraxella osloensis = 0.53%\n",
      "Overall prevalence (>1000 reads) of Moraxella osloensis = 0.02%\n"
     ]
    }
   ],
   "source": [
    "read_t <- 50\n",
    "\n",
    "for (read_t in c(0, 1, 2, 5, 10, 50, 100, 1000)) {\n",
    "    overall_prev <- round(sum(species_df$`Moraxella osloensis` > read_t) / nrow(species_df) * 100, 2)\n",
    "\n",
    "    print(str_glue(\"Overall prevalence (>{read_t} reads) of {taxon} = {overall_prev}%\"))\n",
    "}"
   ]
  },
  {
   "cell_type": "code",
   "execution_count": 27,
   "id": "c89e0ef9",
   "metadata": {},
   "outputs": [],
   "source": [
    "read_t <- 100\n",
    "taxon_name <- tolower(gsub(\" \", \"_\", taxon))\n",
    "to_save <- species_df %>%\n",
    "    filter(get(taxon) > read_t) %>%\n",
    "    select(npm_research_id)\n",
    "\n",
    "# fwrite(to_save, str_glue(\"results/decontamination/case_studies/samples_with_{taxon_name}_gt_{read_t}.txt\"), col.names = F)"
   ]
  },
  {
   "cell_type": "code",
   "execution_count": 65,
   "id": "c6320c85",
   "metadata": {
    "scrolled": true
   },
   "outputs": [
    {
     "data": {
      "text/html": [
       "<style>\n",
       ".list-inline {list-style: none; margin:0; padding: 0}\n",
       ".list-inline>li {display: inline-block}\n",
       ".list-inline>li:not(:last-child)::after {content: \"\\00b7\"; padding: 0 .5ex}\n",
       "</style>\n",
       "<ol class=list-inline><li>'WHB1091.moraxella_osloensis.coverage.tsv'</li><li>'WHH1248.moraxella_osloensis.coverage.tsv'</li><li>'WHH1906.moraxella_osloensis.coverage.tsv'</li><li>'WHH2170.moraxella_osloensis.coverage.tsv'</li><li>'WHH4997.moraxella_osloensis.coverage.tsv'</li></ol>\n"
      ],
      "text/latex": [
       "\\begin{enumerate*}\n",
       "\\item 'WHB1091.moraxella\\_osloensis.coverage.tsv'\n",
       "\\item 'WHH1248.moraxella\\_osloensis.coverage.tsv'\n",
       "\\item 'WHH1906.moraxella\\_osloensis.coverage.tsv'\n",
       "\\item 'WHH2170.moraxella\\_osloensis.coverage.tsv'\n",
       "\\item 'WHH4997.moraxella\\_osloensis.coverage.tsv'\n",
       "\\end{enumerate*}\n"
      ],
      "text/markdown": [
       "1. 'WHB1091.moraxella_osloensis.coverage.tsv'\n",
       "2. 'WHH1248.moraxella_osloensis.coverage.tsv'\n",
       "3. 'WHH1906.moraxella_osloensis.coverage.tsv'\n",
       "4. 'WHH2170.moraxella_osloensis.coverage.tsv'\n",
       "5. 'WHH4997.moraxella_osloensis.coverage.tsv'\n",
       "\n",
       "\n"
      ],
      "text/plain": [
       "[1] \"WHB1091.moraxella_osloensis.coverage.tsv\"\n",
       "[2] \"WHH1248.moraxella_osloensis.coverage.tsv\"\n",
       "[3] \"WHH1906.moraxella_osloensis.coverage.tsv\"\n",
       "[4] \"WHH2170.moraxella_osloensis.coverage.tsv\"\n",
       "[5] \"WHH4997.moraxella_osloensis.coverage.tsv\""
      ]
     },
     "metadata": {},
     "output_type": "display_data"
    }
   ],
   "source": [
    "list.files(\"results/decontamination/case_studies/moraxella_osloensis/\")"
   ]
  },
  {
   "cell_type": "code",
   "execution_count": 66,
   "id": "bdc8856f",
   "metadata": {},
   "outputs": [],
   "source": [
    "samples <- c(\"WHB1091\", \"WHH1248\", \"WHH1906\", \"WHH2170\", \"WHH4997\")\n",
    "\n",
    "cov_list <- foreach (sample = samples) %dopar% {\n",
    "    # Get no. of reads assigned\n",
    "    read_meta <- species_df %>%\n",
    "        filter(get(taxon) > read_t, npm_research_id == sample) %>%\n",
    "        select(all_of(taxon))\n",
    "    n_reads <- as.numeric(read_meta)\n",
    "\n",
    "    # Create plot title\n",
    "    plot_title <- str_glue(\"{sample} ({n_reads} reads assigned)\")\n",
    "\n",
    "    # Get coverage info\n",
    "    cov_df <- fread(str_glue(\"results/decontamination/case_studies/moraxella_osloensis/{sample}.moraxella_osloensis.coverage.tsv\"),\n",
    "                    col.names = c(\"chr\", \"pos\", \"coverage\")) %>%\n",
    "        mutate(chr = case_when(chr == \"NZ_CP014234.1\" ~ \"Chromosomal\",\n",
    "                               chr == \"NZ_CP014238.1\" ~ \"Plsm unnamed 1\",\n",
    "                               chr == \"NZ_CP014237.1\" ~ \"Plsm unnamed 2\",\n",
    "                               chr == \"NZ_CP014236.1\" ~ \"Plsm unnamed 3\",\n",
    "                               chr == \"NZ_CP014235.1\" ~ \"Plsm unnamed 4\"\n",
    "                               ))\n",
    "\n",
    "    # Visualise coverage\n",
    "    cov_df %>%\n",
    "        ggplot(aes(x = pos, y = coverage, color = chr)) +\n",
    "        facet_grid(cols = vars(chr)) +\n",
    "        geom_line() +\n",
    "        labs(x = \"Position\", y = \"Coverage\", title = plot_title) +\n",
    "        theme(legend.position = \"none\",\n",
    "              axis.text.x = element_text(angle = 45, hjust = 1))\n",
    "}\n"
   ]
  },
  {
   "cell_type": "code",
   "execution_count": 71,
   "id": "aa74a9d7",
   "metadata": {},
   "outputs": [
    {
     "data": {
      "image/png": "[encoded data removed]",
      "text/plain": [
       "plot without title"
      ]
     },
     "metadata": {
      "image/png": {
       "height": 420,
       "width": 420
      }
     },
     "output_type": "display_data"
    },
    {
     "data": {
      "image/png": "[encoded data removed]",
      "text/plain": [
       "plot without title"
      ]
     },
     "metadata": {
      "image/png": {
       "height": 420,
       "width": 420
      }
     },
     "output_type": "display_data"
    },
    {
     "data": {
      "image/png": "[encoded data removed]",
      "text/plain": [
       "plot without title"
      ]
     },
     "metadata": {
      "image/png": {
       "height": 420,
       "width": 420
      }
     },
     "output_type": "display_data"
    },
    {
     "data": {
      "text/plain": [
       "[[1]]\n",
       "\n",
       "[[2]]\n",
       "\n",
       "[[3]]\n",
       "\n",
       "[[4]]\n",
       "\n",
       "[[5]]\n"
      ]
     },
     "metadata": {},
     "output_type": "display_data"
    },
    {
     "data": {
      "image/png": "[encoded data removed]",
      "text/plain": [
       "plot without title"
      ]
     },
     "metadata": {
      "image/png": {
       "height": 420,
       "width": 420
      }
     },
     "output_type": "display_data"
    },
    {
     "data": {
      "image/png": "[encoded data removed]",
      "text/plain": [
       "plot without title"
      ]
     },
     "metadata": {
      "image/png": {
       "height": 420,
       "width": 420
      }
     },
     "output_type": "display_data"
    }
   ],
   "source": [
    "cov_list"
   ]
  },
  {
   "cell_type": "code",
   "execution_count": 78,
   "id": "00c7192a",
   "metadata": {},
   "outputs": [
    {
     "data": {
      "image/png": "[encoded data removed]",
      "text/plain": [
       "plot without title"
      ]
     },
     "metadata": {
      "image/png": {
       "height": 420,
       "width": 420
      }
     },
     "output_type": "display_data"
    }
   ],
   "source": [
    "combined_cov <- egg::ggarrange(plots = cov_list, nrow = length(cov_list))\n",
    "\n",
    "ggsave(\"results/decontamination/case_studies/moraxella_osloensis/coverage_plots.png\", \n",
    "       plot = combined_cov,\n",
    "       dpi = 300,\n",
    "       height = 20, width = 10)\n"
   ]
  },
  {
   "cell_type": "code",
   "execution_count": 41,
   "id": "1f129e3a",
   "metadata": {},
   "outputs": [
    {
     "data": {
      "text/html": [
       "<style>\n",
       ".list-inline {list-style: none; margin:0; padding: 0}\n",
       ".list-inline>li {display: inline-block}\n",
       ".list-inline>li:not(:last-child)::after {content: \"\\00b7\"; padding: 0 .5ex}\n",
       "</style>\n",
       "<ol class=list-inline><li>'NZ_CP014234.1'</li><li>'NZ_CP014238.1'</li><li>'NZ_CP014237.1'</li><li>'NZ_CP014236.1'</li><li>'NZ_CP014235.1'</li></ol>\n"
      ],
      "text/latex": [
       "\\begin{enumerate*}\n",
       "\\item 'NZ\\_CP014234.1'\n",
       "\\item 'NZ\\_CP014238.1'\n",
       "\\item 'NZ\\_CP014237.1'\n",
       "\\item 'NZ\\_CP014236.1'\n",
       "\\item 'NZ\\_CP014235.1'\n",
       "\\end{enumerate*}\n"
      ],
      "text/markdown": [
       "1. 'NZ_CP014234.1'\n",
       "2. 'NZ_CP014238.1'\n",
       "3. 'NZ_CP014237.1'\n",
       "4. 'NZ_CP014236.1'\n",
       "5. 'NZ_CP014235.1'\n",
       "\n",
       "\n"
      ],
      "text/plain": [
       "[1] \"NZ_CP014234.1\" \"NZ_CP014238.1\" \"NZ_CP014237.1\" \"NZ_CP014236.1\"\n",
       "[5] \"NZ_CP014235.1\""
      ]
     },
     "metadata": {},
     "output_type": "display_data"
    },
    {
     "data": {
      "image/png": "[encoded data removed]",
      "text/plain": [
       "plot without title"
      ]
     },
     "metadata": {
      "image/png": {
       "height": 420,
       "width": 420
      }
     },
     "output_type": "display_data"
    }
   ],
   "source": [
    "unique(cov_df$chr)\n",
    "cov_df %>%\n",
    "    filter(chr == \"NZ_CP014238.1\") %>%\n",
    "    ggplot(aes(x = pos, y = coverage)) +\n",
    "        geom_line() +\n",
    "        theme(axis.text.x = element_text(angle = 45))"
   ]
  }
 ],
 "metadata": {
  "kernelspec": {
   "display_name": "R",
   "language": "R",
   "name": "ir"
  },
  "language_info": {
   "codemirror_mode": "r",
   "file_extension": ".r",
   "mimetype": "text/x-r-source",
   "name": "R",
   "pygments_lexer": "r",
   "version": "4.1.0"
  }
 },
 "nbformat": 4,
 "nbformat_minor": 5
}
