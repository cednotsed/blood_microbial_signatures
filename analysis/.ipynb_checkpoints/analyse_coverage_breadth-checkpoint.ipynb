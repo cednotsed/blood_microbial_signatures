{
 "cells": [
  {
   "cell_type": "code",
   "execution_count": null,
   "id": "eeefe4ef",
   "metadata": {},
   "outputs": [
    {
     "name": "stderr",
     "output_type": "stream",
     "text": [
      "Loading required package: Rsamtools\n",
      "\n",
      "Loading required package: GenomeInfoDb\n",
      "\n",
      "Loading required package: BiocGenerics\n",
      "\n",
      "Loading required package: parallel\n",
      "\n",
      "\n",
      "Attaching package: ‘BiocGenerics’\n",
      "\n",
      "\n",
      "The following objects are masked from ‘package:parallel’:\n",
      "\n",
      "    clusterApply, clusterApplyLB, clusterCall, clusterEvalQ,\n",
      "    clusterExport, clusterMap, parApply, parCapply, parLapply,\n",
      "    parLapplyLB, parRapply, parSapply, parSapplyLB\n",
      "\n",
      "\n",
      "The following objects are masked from ‘package:stats’:\n",
      "\n",
      "    IQR, mad, sd, var, xtabs\n",
      "\n",
      "\n",
      "The following objects are masked from ‘package:base’:\n",
      "\n",
      "    Filter, Find, Map, Position, Reduce, anyDuplicated, append,\n",
      "    as.data.frame, basename, cbind, colnames, dirname, do.call,\n",
      "    duplicated, eval, evalq, get, grep, grepl, intersect, is.unsorted,\n",
      "    lapply, mapply, match, mget, order, paste, pmax, pmax.int, pmin,\n",
      "    pmin.int, rank, rbind, rownames, sapply, setdiff, sort, table,\n",
      "    tapply, union, unique, unsplit, which.max, which.min\n",
      "\n",
      "\n",
      "Loading required package: S4Vectors\n",
      "\n",
      "Loading required package: stats4\n",
      "\n",
      "\n",
      "Attaching package: ‘S4Vectors’\n",
      "\n",
      "\n",
      "The following objects are masked from ‘package:base’:\n",
      "\n",
      "    I, expand.grid, unname\n",
      "\n",
      "\n",
      "Loading required package: IRanges\n",
      "\n"
     ]
    }
   ],
   "source": [
    "rm(list = ls())\n",
    "setwd(\"/home/projects/14001280/PROJECTS/blood_microbiome\")\n",
    "require(\"Rsamtools\")\n",
    "require(Biostrings)\n",
    "require(tidyverse)\n",
    "require(foreach)\n",
    "require(doParallel)\n",
    "registerDoParallel(cores = 10)"
   ]
  },
  {
   "cell_type": "code",
   "execution_count": null,
   "id": "cc607420",
   "metadata": {},
   "outputs": [],
   "source": [
    "bam_path <- \"results/irep_analysis/raw_output/bam_files\"\n",
    "ref_path <- \"data/irep_data/genome_references\"\n",
    "prefixes <- list.files(ref_path, \".fasta\", full.names = F)\n",
    "prefixes <- gsub(\".fasta\", \"\", prefixes)\n",
    "prefixes"
   ]
  },
  {
   "cell_type": "code",
   "execution_count": null,
   "id": "78523663",
   "metadata": {},
   "outputs": [],
   "source": [
    "morsels <- foreach (i = seq(length(prefixes))) %dopar% {\n",
    "#     i <- 1\n",
    "#     j <- 1\n",
    "    prefix <- prefixes[i]\n",
    "    bams <- list.files(str_glue(\"{bam_path}/{prefix}\"))\n",
    "    bams <- bams[!grepl(\".bai\", bams)]\n",
    "\n",
    "    crumbs <- foreach (j = seq(length(bams))) %do% {\n",
    "        bam <- bams[j]\n",
    "        ref <- readDNAStringSet(str_glue(\"{ref_path}/{prefixes[i]}.fasta\"))\n",
    "        ref_length <- width(ref)\n",
    "        params <- PileupParam(distinguish_strands = F, distinguish_nucleotides = F)\n",
    "        pile_df <- pileup(str_glue(\"{bam_path}/{prefix}/{bam}\"), pileupParam = params)\n",
    "        \n",
    "        n_covered1 <- pile_df %>%\n",
    "            filter(count >= 1) %>%\n",
    "            nrow()\n",
    "        \n",
    "        n_covered5 <- pile_df %>%\n",
    "            filter(count >= 5) %>%\n",
    "            nrow()\n",
    "\n",
    "        perc_covered1 <- n_covered1 / ref_length * 100\n",
    "        perc_covered5 <- n_covered5 / ref_length * 100\n",
    "        \n",
    "        return(tibble(prefix = prefix, \n",
    "                      perc_covered1 = perc_covered1,\n",
    "                      perc_covered5 = perc_covered5))\n",
    "    }\n",
    "    \n",
    "    return(bind_rows(crumbs))\n",
    "}\n",
    "\n",
    "cov_df <- bind_rows(morsels)"
   ]
  },
  {
   "cell_type": "code",
   "execution_count": null,
   "id": "b887a4c6",
   "metadata": {},
   "outputs": [],
   "source": [
    "cov_df %>%\n",
    "    arrange(desc(perc_covered))"
   ]
  }
 ],
 "metadata": {
  "kernelspec": {
   "display_name": "R",
   "language": "R",
   "name": "ir"
  },
  "language_info": {
   "codemirror_mode": "r",
   "file_extension": ".r",
   "mimetype": "text/x-r-source",
   "name": "R",
   "pygments_lexer": "r",
   "version": "4.1.0"
  }
 },
 "nbformat": 4,
 "nbformat_minor": 5
}
