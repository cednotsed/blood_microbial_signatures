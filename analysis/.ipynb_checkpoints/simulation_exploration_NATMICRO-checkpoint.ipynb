{
 "cells": [
  {
   "cell_type": "code",
   "execution_count": 1,
   "id": "bc15bd3e",
   "metadata": {
    "scrolled": true
   },
   "outputs": [
    {
     "name": "stderr",
     "output_type": "stream",
     "text": [
      "Loading required package: tidyverse\n",
      "\n",
      "Warning message:\n",
      "“package ‘tidyverse’ was built under R version 4.1.3”\n",
      "Warning message in system(\"timedatectl\", intern = TRUE):\n",
      "“running command 'timedatectl' had status 1”\n",
      "── \u001b[1mAttaching packages\u001b[22m ───────────────────────────────────────────────────────────────────────────────────────────────────────────────────── tidyverse 1.3.2 ──\n",
      "\u001b[32m✔\u001b[39m \u001b[34mggplot2\u001b[39m 3.4.0     \u001b[32m✔\u001b[39m \u001b[34mpurrr  \u001b[39m 1.0.1\n",
      "\u001b[32m✔\u001b[39m \u001b[34mtibble \u001b[39m 3.1.8     \u001b[32m✔\u001b[39m \u001b[34mdplyr  \u001b[39m 1.1.0\n",
      "\u001b[32m✔\u001b[39m \u001b[34mtidyr  \u001b[39m 1.3.0     \u001b[32m✔\u001b[39m \u001b[34mstringr\u001b[39m 1.5.0\n",
      "\u001b[32m✔\u001b[39m \u001b[34mreadr  \u001b[39m 2.1.3     \u001b[32m✔\u001b[39m \u001b[34mforcats\u001b[39m 1.0.0\n",
      "Warning message:\n",
      "“package ‘ggplot2’ was built under R version 4.1.3”\n",
      "Warning message:\n",
      "“package ‘tibble’ was built under R version 4.1.3”\n",
      "Warning message:\n",
      "“package ‘tidyr’ was built under R version 4.1.3”\n",
      "Warning message:\n",
      "“package ‘readr’ was built under R version 4.1.3”\n",
      "Warning message:\n",
      "“package ‘purrr’ was built under R version 4.1.3”\n",
      "Warning message:\n",
      "“package ‘dplyr’ was built under R version 4.1.3”\n",
      "Warning message:\n",
      "“package ‘stringr’ was built under R version 4.1.3”\n",
      "Warning message:\n",
      "“package ‘forcats’ was built under R version 4.1.3”\n",
      "── \u001b[1mConflicts\u001b[22m ──────────────────────────────────────────────────────────────────────────────────────────────────────────────────────── tidyverse_conflicts() ──\n",
      "\u001b[31m✖\u001b[39m \u001b[34mdplyr\u001b[39m::\u001b[32mfilter()\u001b[39m masks \u001b[34mstats\u001b[39m::filter()\n",
      "\u001b[31m✖\u001b[39m \u001b[34mdplyr\u001b[39m::\u001b[32mlag()\u001b[39m    masks \u001b[34mstats\u001b[39m::lag()\n",
      "Loading required package: data.table\n",
      "\n",
      "Warning message:\n",
      "“package ‘data.table’ was built under R version 4.1.3”\n",
      "\n",
      "Attaching package: ‘data.table’\n",
      "\n",
      "\n",
      "The following objects are masked from ‘package:dplyr’:\n",
      "\n",
      "    between, first, last\n",
      "\n",
      "\n",
      "The following object is masked from ‘package:purrr’:\n",
      "\n",
      "    transpose\n",
      "\n",
      "\n",
      "Loading required package: egg\n",
      "\n",
      "Warning message in library(package, lib.loc = lib.loc, character.only = TRUE, logical.return = TRUE, :\n",
      "“there is no package called ‘egg’”\n",
      "Loading required package: foreach\n",
      "\n",
      "Warning message:\n",
      "“package ‘foreach’ was built under R version 4.1.3”\n",
      "\n",
      "Attaching package: ‘foreach’\n",
      "\n",
      "\n",
      "The following objects are masked from ‘package:purrr’:\n",
      "\n",
      "    accumulate, when\n",
      "\n",
      "\n",
      "Loading required package: doParallel\n",
      "\n",
      "Warning message:\n",
      "“package ‘doParallel’ was built under R version 4.1.3”\n",
      "Loading required package: iterators\n",
      "\n",
      "Warning message:\n",
      "“package ‘iterators’ was built under R version 4.1.3”\n",
      "Loading required package: parallel\n",
      "\n"
     ]
    }
   ],
   "source": [
    "setwd(\"/mnt/c/git_repos/blood_microbial_signatures\")\n",
    "require(tidyverse)\n",
    "require(ggplot2)\n",
    "require(data.table)\n",
    "require(egg)\n",
    "require(foreach)\n",
    "require(doParallel)\n",
    "registerDoParallel(cores=8)"
   ]
  },
  {
   "cell_type": "markdown",
   "id": "7061997b",
   "metadata": {},
   "source": [
    "### Parameters for simulations"
   ]
  },
  {
   "cell_type": "code",
   "execution_count": 2,
   "id": "ed55dcbf",
   "metadata": {},
   "outputs": [],
   "source": [
    "meta <- fread(\"data/SG10K_Health_metadata.n10714.16March2021.parsed.csv\") %>%\n",
    "    as_tibble()\n",
    "\n",
    "get_meta_cols <- function(meta) {\n",
    "    meta_cols <- colnames(meta)[grep(\"kit|flow_cell|instrument_id|site_supplying\", colnames(meta))]\n",
    "    to_exclude <- c(\"library_prep_kit\", \"hiseq_xtm_flow_cell_v2_5_id\")\n",
    "    meta_cols <- meta_cols[!(meta_cols %in% to_exclude)]\n",
    "    return(meta_cols)\n",
    "}\n",
    "\n",
    "meta_cols <- get_meta_cols(meta)\n",
    "# meta_cols <- c(\"extraction_kit\", \"site_supplying_sample\", \"instrument_id\")"
   ]
  },
  {
   "cell_type": "code",
   "execution_count": 3,
   "id": "9ab20230",
   "metadata": {},
   "outputs": [
    {
     "data": {
      "text/html": [
       "0.0065702155"
      ],
      "text/latex": [
       "0.0065702155"
      ],
      "text/markdown": [
       "0.0065702155"
      ],
      "text/plain": [
       "[1] 0.006570216"
      ]
     },
     "metadata": {},
     "output_type": "display_data"
    },
    {
     "data": {
      "text/html": [
       "373464307"
      ],
      "text/latex": [
       "373464307"
      ],
      "text/markdown": [
       "373464307"
      ],
      "text/plain": [
       "[1] 373464307"
      ]
     },
     "metadata": {},
     "output_type": "display_data"
    },
    {
     "data": {
      "text/html": [
       "317.9"
      ],
      "text/latex": [
       "317.9"
      ],
      "text/markdown": [
       "317.9"
      ],
      "text/plain": [
       "[1] 317.9"
      ]
     },
     "metadata": {},
     "output_type": "display_data"
    }
   ],
   "source": [
    "median(meta$error_rate)\n",
    "med_library_depth <- median(meta$raw_total_sequences)\n",
    "# med_microbial_depth <- median(rowSums(species_df %>% select(-npm_research_id, -unclassified, -\"Homo sapiens\")))\n",
    "med_library_depth\n",
    "median(meta$insert_size_average)\n"
   ]
  },
  {
   "cell_type": "markdown",
   "id": "de5bbcef",
   "metadata": {},
   "source": [
    "# Simulation analysis"
   ]
  },
  {
   "cell_type": "markdown",
   "id": "b51599c9",
   "metadata": {},
   "source": [
    "### 10 species simulation (no human)"
   ]
  },
  {
   "cell_type": "code",
   "execution_count": 4,
   "id": "87882423",
   "metadata": {},
   "outputs": [],
   "source": [
    "tp <- c(\"Yersinia enterocolitica\", \"Leclercia adecarboxylata\", \"Moraxella osloensis\", \n",
    "        \"Pasteurella multocida\", \"Streptococcus pneumoniae\", \"Candida albicans\", \n",
    "        \"Actinomyces viscosus\", \"Staphylococcus epidermidis\", \"Torque teno virus\", \n",
    "        \"Human betaherpesvirus 6A\")"
   ]
  },
  {
   "cell_type": "code",
   "execution_count": 5,
   "id": "6b18af4e",
   "metadata": {},
   "outputs": [],
   "source": [
    "otu_to_RA <- function(df) {\n",
    "    row_names <- df$sample\n",
    "    RA_df <- t(apply(df %>% select(-sample, -unclassified), 1, function(x) {x / sum(x)}))\n",
    "    \n",
    "    return(cbind(data.frame(sample = row_names), as.data.frame(RA_df, check.names = F)))\n",
    "}\n",
    "\n",
    "parse_df <- function(sim_df) {\n",
    "    parsed_sim <- sim_df %>% \n",
    "        pivot_longer(!sample, names_to = \"taxa\", values_to = \"abundance\") %>%\n",
    "        filter(abundance != 0) %>%\n",
    "        mutate(classification = case_when(taxa == \"unclassified\" ~ \"Unclassified\", \n",
    "                                          taxa %in% tp ~ \"TP\", \n",
    "                                          TRUE ~ \"FP\"),\n",
    "               sample = gsub(\"simulated.human_\", \"\", sample)) %>%\n",
    "        mutate(sample = gsub(\"_microbe\", \"\", sample)) %>%\n",
    "        mutate(sample = gsub(\"0\", \"\", sample)) %>%\n",
    "        mutate(microbial_reads = case_when(sample == \"1e-6\" ~ \"(370 reads)\",\n",
    "                                           sample == \"1e-5\" ~ \"(3,730 reads)\",\n",
    "                                           sample == \"1e-4\" ~ \"(37,332 reads)\",\n",
    "                                           sample == \"1e-3\" ~ \"(373,368 reads)\")) %>%\n",
    "        mutate(sample = paste(sample, microbial_reads)) %>%\n",
    "        arrange(desc(classification))\n",
    "\n",
    "    parsed_sim <- parsed_sim %>% mutate(taxa = factor(taxa, levels = unique(parsed_sim$taxa)))\n",
    "}"
   ]
  },
  {
   "cell_type": "code",
   "execution_count": null,
   "id": "c8c01ce6",
   "metadata": {
    "scrolled": true
   },
   "outputs": [],
   "source": [
    "sim_df <- fread(\"results/simulation_out/07_abundance_matrix/abundance_matrix.S.tsv\")\n",
    "sim_RA <- otu_to_RA(sim_df)\n",
    "parsed_sim <- parse_df(sim_df)\n",
    "parsed_sim_RA <- parse_df(sim_RA)"
   ]
  },
  {
   "cell_type": "code",
   "execution_count": null,
   "id": "4c0fb562",
   "metadata": {},
   "outputs": [],
   "source": [
    "PA_threshold <- 0.005\n",
    "\n",
    "plot_df <- parsed_sim_RA %>% \n",
    "    filter(classification != \"Unclassified\",\n",
    "           taxa != \"Homo sapiens\")\n",
    "\n",
    "plot_df %>% fwrite(\"results/figure_source_data_nat_micro/abundance_distribution_fp_tp.csv\")\n",
    "\n",
    "RA_plt <- plot_df %>%\n",
    "    ggplot(aes(x = abundance, fill = classification)) +\n",
    "    theme_bw() +\n",
    "    theme(text = element_text(size = 20)) +\n",
    "    geom_histogram(bins = 100, \n",
    "                   aes(y = log(..count.., base = 10)),\n",
    "                   color = \"black\") +\n",
    "    facet_grid(rows = vars(sample), scales = \"free\") +\n",
    "    labs(x = \"Relative abundance (TSS)\", y = \"log10(n_taxa)\", fill = \"Classification\") +\n",
    "    geom_vline(xintercept = PA_threshold, color = \"black\", linetype = \"dotted\")\n",
    "\n",
    "# combined <- ggpubr::ggarrange(read_plt, RA_plt, ncol = 2, common.legend = T)\n",
    "combined <- RA_plt\n",
    "combined\n",
    "ggsave(\"results/simulation_out/abundance_distribution_fp_tp.pdf\", \n",
    "       dpi = 600, \n",
    "       plot = combined, \n",
    "       width = 10, height = 5)"
   ]
  },
  {
   "cell_type": "markdown",
   "id": "334cf9ff",
   "metadata": {},
   "source": [
    "#### No. of assigned species per sample"
   ]
  },
  {
   "cell_type": "code",
   "execution_count": null,
   "id": "f108543a",
   "metadata": {},
   "outputs": [],
   "source": [
    "micro_sim <- sim_df %>% select(-sample, -unclassified, -\"Homo sapiens\")\n",
    "rowsum_sim <- tibble(sample = sim_df$sample, rowsums = rowSums(micro_sim))\n",
    "\n",
    "rowsum_sim\n",
    "\n",
    "\n",
    "sim_prev <- sim_df %>%\n",
    "    select(-sample, -\"Homo sapiens\", -unclassified)\n",
    "\n",
    "sim_prev[sim_prev <= 0] <- 0\n",
    "sim_prev[sim_prev > 0] <- 1\n",
    "\n",
    "sim_prev <- tibble(sample = sim_df$sample, n_assigned = rowSums(sim_prev))\n",
    "    \n",
    "sim_prev %>%\n",
    "    left_join(rowsum_sim) %>%\n",
    "    ggplot(aes(x = rowsums, y = n_assigned)) +\n",
    "    geom_point() "
   ]
  },
  {
   "cell_type": "markdown",
   "id": "3239823b",
   "metadata": {},
   "source": [
    "#### Distribution of read counts for FP/TP"
   ]
  },
  {
   "cell_type": "code",
   "execution_count": null,
   "id": "e902a08d",
   "metadata": {},
   "outputs": [],
   "source": [
    "micro_sim <- sim_df %>% select(-sample, -unclassified, -\"Homo sapiens\")\n",
    "rowsum_sim <- tibble(sample = sim_df$sample, rowsums = rowSums(micro_sim))\n",
    "\n",
    "rowsum_sim\n",
    "\n",
    "\n",
    "sim_prev <- sim_df %>%\n",
    "    select(-sample, -\"Homo sapiens\", -unclassified)\n",
    "\n",
    "sim_prev[sim_prev <= 0] <- 0\n",
    "sim_prev[sim_prev > 0] <- 1\n",
    "\n",
    "sim_prev <- tibble(sample = sim_df$sample, n_assigned = rowSums(sim_prev))\n",
    "    \n",
    "sim_prev %>%\n",
    "    left_join(rowsum_sim) %>%\n",
    "    ggplot(aes(x = rowsums, y = n_assigned)) +\n",
    "    geom_point() \n",
    "\n"
   ]
  },
  {
   "cell_type": "code",
   "execution_count": null,
   "id": "7a07fb77",
   "metadata": {},
   "outputs": [],
   "source": [
    "med_library_depth"
   ]
  },
  {
   "cell_type": "code",
   "execution_count": null,
   "id": "f1064c5b",
   "metadata": {},
   "outputs": [],
   "source": [
    "1e-7"
   ]
  },
  {
   "cell_type": "code",
   "execution_count": null,
   "id": "3ecbddd0",
   "metadata": {},
   "outputs": [],
   "source": [
    "1e-7*med_library_depth"
   ]
  },
  {
   "cell_type": "code",
   "execution_count": null,
   "id": "121e6639",
   "metadata": {},
   "outputs": [],
   "source": [
    "parsed_sim_RA %>%\n",
    "    filter(abundance < 0.05, classification == \"TP\")"
   ]
  },
  {
   "cell_type": "markdown",
   "id": "d6822e0b",
   "metadata": {},
   "source": [
    "### Read counts for each microbial depth"
   ]
  },
  {
   "cell_type": "code",
   "execution_count": null,
   "id": "819a290e",
   "metadata": {},
   "outputs": [],
   "source": [
    "plots <- foreach(sim_run = c(\"simulated.10e-3\", \"simulated.10e-4\", \"simulated.10e-5\", \"simulated.10e-6\")) %do% {\n",
    "    parsed_sim %>%\n",
    "        filter(sample == sim_run) %>%\n",
    "        ggplot(aes(x = taxa, y = read_count, fill = classification)) +\n",
    "        geom_bar(stat = \"identity\") +\n",
    "        labs(x = \"Taxa\", y = \"Reads assigned\", fill = \"Taxon classification\") +\n",
    "        theme(axis.text.x = element_text(angle = 45, hjust = 1)) +\n",
    "        facet_grid(cols = vars(sample))\n",
    "}"
   ]
  },
  {
   "cell_type": "code",
   "execution_count": null,
   "id": "dc83899c",
   "metadata": {
    "scrolled": true
   },
   "outputs": [],
   "source": [
    "plots"
   ]
  }
 ],
 "metadata": {
  "kernelspec": {
   "display_name": "R",
   "language": "R",
   "name": "ir"
  },
  "language_info": {
   "codemirror_mode": "r",
   "file_extension": ".r",
   "mimetype": "text/x-r-source",
   "name": "R",
   "pygments_lexer": "r",
   "version": "4.1.2"
  }
 },
 "nbformat": 4,
 "nbformat_minor": 5
}
