{
 "cells": [
  {
   "cell_type": "markdown",
   "id": "f799b42b",
   "metadata": {},
   "source": [
    "# Associations between microbial presence/absence and patient info"
   ]
  },
  {
   "cell_type": "code",
   "execution_count": 1,
   "id": "bc15bd3e",
   "metadata": {
    "scrolled": true
   },
   "outputs": [
    {
     "name": "stderr",
     "output_type": "stream",
     "text": [
      "Loading required package: tidyverse\n",
      "\n",
      "Warning message in system(\"timedatectl\", intern = TRUE):\n",
      "“running command 'timedatectl' had status 1”\n",
      "── \u001b[1mAttaching packages\u001b[22m ─────────────────────────────────────────────────────────────────────────────── tidyverse 1.3.1 ──\n",
      "\n",
      "\u001b[32m✔\u001b[39m \u001b[34mggplot2\u001b[39m 3.3.5     \u001b[32m✔\u001b[39m \u001b[34mpurrr  \u001b[39m 0.3.4\n",
      "\u001b[32m✔\u001b[39m \u001b[34mtibble \u001b[39m 3.1.6     \u001b[32m✔\u001b[39m \u001b[34mdplyr  \u001b[39m 1.0.7\n",
      "\u001b[32m✔\u001b[39m \u001b[34mtidyr  \u001b[39m 1.1.4     \u001b[32m✔\u001b[39m \u001b[34mstringr\u001b[39m 1.4.0\n",
      "\u001b[32m✔\u001b[39m \u001b[34mreadr  \u001b[39m 2.1.0     \u001b[32m✔\u001b[39m \u001b[34mforcats\u001b[39m 0.5.1\n",
      "\n",
      "── \u001b[1mConflicts\u001b[22m ────────────────────────────────────────────────────────────────────────────────── tidyverse_conflicts() ──\n",
      "\u001b[31m✖\u001b[39m \u001b[34mdplyr\u001b[39m::\u001b[32mfilter()\u001b[39m masks \u001b[34mstats\u001b[39m::filter()\n",
      "\u001b[31m✖\u001b[39m \u001b[34mdplyr\u001b[39m::\u001b[32mlag()\u001b[39m    masks \u001b[34mstats\u001b[39m::lag()\n",
      "\n",
      "Loading required package: data.table\n",
      "\n",
      "\n",
      "Attaching package: ‘data.table’\n",
      "\n",
      "\n",
      "The following objects are masked from ‘package:dplyr’:\n",
      "\n",
      "    between, first, last\n",
      "\n",
      "\n",
      "The following object is masked from ‘package:purrr’:\n",
      "\n",
      "    transpose\n",
      "\n",
      "\n",
      "Loading required package: foreach\n",
      "\n",
      "\n",
      "Attaching package: ‘foreach’\n",
      "\n",
      "\n",
      "The following objects are masked from ‘package:purrr’:\n",
      "\n",
      "    accumulate, when\n",
      "\n",
      "\n",
      "Loading required package: doParallel\n",
      "\n",
      "Loading required package: iterators\n",
      "\n",
      "Loading required package: parallel\n",
      "\n",
      "Loading required package: ggrepel\n",
      "\n"
     ]
    }
   ],
   "source": [
    "setwd(\"/mnt/c/Users/Cedric/Desktop/git_repos/blood_microbiome\")\n",
    "require(tidyverse)\n",
    "require(ggplot2)\n",
    "require(data.table)\n",
    "require(foreach)\n",
    "require(doParallel)\n",
    "require(ggrepel)\n",
    "registerDoParallel(cores = 8)\n"
   ]
  },
  {
   "cell_type": "markdown",
   "id": "8876a48d",
   "metadata": {},
   "source": [
    "### Load  data"
   ]
  },
  {
   "cell_type": "code",
   "execution_count": 2,
   "id": "9d77d78f",
   "metadata": {},
   "outputs": [
    {
     "ename": "ERROR",
     "evalue": "Error in fread(\"results/decontamination/curated_n124_global_decontamination_stats.csv\"): File 'results/decontamination/curated_n124_global_decontamination_stats.csv' does not exist or is non-readable. getwd()=='/mnt/c/Users/Cedric/Desktop/git_repos/blood_microbiome'\n",
     "output_type": "error",
     "traceback": [
      "Error in fread(\"results/decontamination/curated_n124_global_decontamination_stats.csv\"): File 'results/decontamination/curated_n124_global_decontamination_stats.csv' does not exist or is non-readable. getwd()=='/mnt/c/Users/Cedric/Desktop/git_repos/blood_microbiome'\nTraceback:\n",
      "1. fread(\"results/decontamination/curated_n124_global_decontamination_stats.csv\")",
      "2. stop(\"File '\", file, \"' does not exist or is non-readable. getwd()=='\", \n .     getwd(), \"'\")"
     ]
    }
   ],
   "source": [
    "X <- fread(\"results/decontamination/prevalence_RA0.005_read10.csv\")\n",
    "nc <- fread(\"results/decontamination/curated_n122_global_decontamination_stats.csv\")\n",
    "X <- X %>% select(all_of(c(\"npm_research_id\", nc$taxa)))\n",
    "\n",
    "meta <- fread(\"data/20210125_v3_release/20210203_all_traits_v3.txt\")\n",
    "meta2 <- fread(\"data/SG10K_Health_metadata.n10714.16March2021.parsed.csv\")\n",
    "\n",
    "n <- gsub(\"[^0-9A-Za-z///' ]\", \" \", colnames(meta))\n",
    "n <- tolower(n)\n",
    "n <- gsub(\" \", \"_\", n)\n",
    "colnames(meta) <- n\n",
    "\n",
    "fwrite(meta, \"data/20210125_v3_release/20210203_all_traits_v3.parsed.csv\")\n",
    "X_meta <- X %>%\n",
    "    left_join(meta, \"npm_research_id\") %>%\n",
    "    left_join(meta2, \"npm_research_id\") %>%\n",
    "    as_tibble()\n",
    "\n",
    "head(X_meta)"
   ]
  },
  {
   "cell_type": "code",
   "execution_count": null,
   "id": "7cddc932",
   "metadata": {},
   "outputs": [],
   "source": [
    "taxon_list <- colSums(X[, 2:ncol(X)]) >= 50\n",
    "taxon_list <- names(taxon_list[taxon_list])\n",
    "length(taxon_list)\n",
    "taxon_list"
   ]
  },
  {
   "cell_type": "code",
   "execution_count": null,
   "id": "1a3dab6f",
   "metadata": {
    "scrolled": true
   },
   "outputs": [],
   "source": [
    "# Get variable lists\n",
    "taxon_list <- colSums(X[, 2:ncol(X)]) >= 50\n",
    "taxon_list <- names(taxon_list[taxon_list])\n",
    "length(taxon_list)\n",
    "\n",
    "categorical_list_full <- c(\"fasting\", \"genetic_sex\", \"genetic_ancestry\", \n",
    "                      \"diab_med\", \"htn_med\", \"lipid_med\", \"t2d\")\n",
    "cont_list_full <- c(\"age\", \"bmi\", \n",
    "               \"height_cm\", \"weight_kg\", \"waistc_cm\", \"hipc_cm\", \n",
    "               \"tc_mmol_l\", \"ldl_direct_mmol_l\", \"hdl_mmol_l\", \"tg_mmol_l\",\n",
    "               \"glu_fast_mmol_l\", \"ins_fast_uiu_ml\", \"glu_rand_mmol_l\",\n",
    "               \"ldl_cal_mmol_l\",              \n",
    "               \"sbp\", \"dbp\")\n",
    "\n",
    "categorical_list <- c(\"genetic_sex\", \"genetic_ancestry\")\n",
    "cont_list <- c(\"age\", \"bmi\", \"tc_mmol_l\", \"tg_mmol_l\", \n",
    "               \"sbp\", \"dbp\")"
   ]
  },
  {
   "cell_type": "code",
   "execution_count": null,
   "id": "1ef6947f",
   "metadata": {},
   "outputs": [],
   "source": [
    "cohort_list <- unique(X_meta$site_supplying_sample)\n",
    "cohort_list <- cohort_list[cohort_list != \"SSMP\"]\n",
    "cohort_list\n",
    "\n",
    "n_comparisons <- length(cohort_list) * length(taxon_list) * (length(categorical_list) + length(cont_list))\n",
    "n_comparisons"
   ]
  },
  {
   "cell_type": "markdown",
   "id": "2f44c22d",
   "metadata": {},
   "source": [
    "### Basic stats on phenotypes"
   ]
  },
  {
   "cell_type": "code",
   "execution_count": null,
   "id": "6c3b7cca",
   "metadata": {
    "scrolled": true
   },
   "outputs": [],
   "source": [
    "n_df <- X_meta %>%\n",
    "    select(npm_research_id, site_supplying_sample) %>%\n",
    "    group_by(site_supplying_sample) %>%\n",
    "    summarise(cohort_total = n())\n",
    "\n",
    "plot_list <- foreach (col = categorical_list_full) %do% {\n",
    "X_meta %>%\n",
    "        group_by_at(c(col, \"site_supplying_sample\")) %>%\n",
    "        summarise(count = n()) %>%\n",
    "        left_join(n_df) %>%\n",
    "        mutate(col = factor(get(col), levels = unique(get(col)))) %>%\n",
    "        ggplot(aes(x = site_supplying_sample, y = count, fill = col)) +\n",
    "            geom_bar(position = \"stack\", stat = \"identity\") +\n",
    "            theme(legend.position = \"top\") +\n",
    "            geom_text(aes(x = site_supplying_sample, y = -3, label = paste0(\"n = \", cohort_total)),\n",
    "                      vjust = 0) +\n",
    "            labs(fill = col)\n",
    "}\n",
    "\n",
    "plot_list2 <- foreach (col = cont_list_full) %do% {\n",
    "    X_meta %>%\n",
    "        left_join(n_df) %>%\n",
    "        ggplot(aes_string(x = \"site_supplying_sample\", y = col, fill = \"genetic_sex\")) +\n",
    "            geom_boxplot() +\n",
    "            theme(legend.position = \"top\") +\n",
    "            geom_text(aes(x = site_supplying_sample, y = -3, label = paste0(\"n = \", cohort_total)),\n",
    "                      vjust = 0) +\n",
    "            labs(y = col)\n",
    "}\n",
    "\n",
    "plot_list <- c(plot_list, plot_list2)\n",
    "pdf(\"results/phenotype_associations/metadata_barcharts2.pdf\")\n",
    "for (plt in plot_list) {\n",
    "    print(plt)\n",
    "}\n",
    "dev.off()"
   ]
  },
  {
   "cell_type": "markdown",
   "id": "bd080abb",
   "metadata": {},
   "source": [
    "## Phenotype association tests"
   ]
  },
  {
   "cell_type": "code",
   "execution_count": null,
   "id": "a4da51d9",
   "metadata": {
    "scrolled": true
   },
   "outputs": [],
   "source": [
    "morsels <- foreach(cohort = cohort_list) %do% {\n",
    "    cat_morsels <- foreach (category = categorical_list) %dopar% {\n",
    "        X_meta_filt <- X_meta %>% \n",
    "            filter(!is.na(get(category)),\n",
    "                   site_supplying_sample == cohort)\n",
    "        var_vec <- deframe(X_meta_filt[, category])\n",
    "\n",
    "        foreach (taxon = taxon_list) %do% {\n",
    "            species_vec <- deframe(X_meta_filt[, taxon])\n",
    "\n",
    "            if(sum(species_vec) > 0 & length(unique(var_vec)) >= 2) {\n",
    "                test <- fisher.test(var_vec, species_vec)\n",
    "                return(tibble(taxa = taxon, variable = category, OR = test$estimate, p = test$p.value))\n",
    "            } else {\n",
    "                return(tibble(taxa = taxon, variable = category, OR = NA, p = NA))\n",
    "            }\n",
    "        }\n",
    "    }\n",
    "\n",
    "    cat_res <- bind_rows(cat_morsels)\n",
    "\n",
    "    # For continuous variables\n",
    "    cont_morsels <- foreach (cont = cont_list) %dopar% {\n",
    "        X_meta_filt <- X_meta %>% \n",
    "            filter(!is.na(get(cont)),\n",
    "                   site_supplying_sample == cohort)\n",
    "        var_vec <- deframe(X_meta_filt[, cont])\n",
    "\n",
    "        foreach (taxon = taxon_list) %do% {\n",
    "            species_vec <- deframe(X_meta_filt[, taxon])\n",
    "\n",
    "            if(sum(species_vec) > 0) {\n",
    "                test <- wilcox.test(var_vec ~ species_vec, correct = F, alternative = \"two.sided\") \n",
    "                return(tibble(taxa = taxon, variable = cont, \n",
    "                              U = test$statistic, \n",
    "                              p = test$p.value))\n",
    "            } else {\n",
    "                return(tibble(taxa = taxon, variable = cont, \n",
    "                                          U = NA, \n",
    "                                          p = NA))\n",
    "            }\n",
    "        }\n",
    "    }\n",
    "\n",
    "    cont_res <- bind_rows(cont_morsels)\n",
    "\n",
    "    res_temp <- cat_res %>%\n",
    "        bind_rows(cont_res) %>%\n",
    "        add_column(cohort = cohort)\n",
    "    res_temp\n",
    "}\n",
    "\n",
    "res <- bind_rows(morsels)"
   ]
  },
  {
   "cell_type": "code",
   "execution_count": null,
   "id": "bdee972d",
   "metadata": {},
   "outputs": [],
   "source": [
    "n_not_tested <- res %>%\n",
    "    filter(is.na(p)) %>%\n",
    "    nrow()\n",
    "\n",
    "n_comparisons_final <- n_comparisons - n_not_tested\n",
    "print(n_comparisons_final)\n",
    "a <- 0.05\n",
    "\n",
    "res_filt <- res %>%\n",
    "    filter(!is.na(p)) %>%\n",
    "    mutate(p.adj = p.adjust(p, \"BH\", n = n_comparisons_final)) %>%\n",
    "    mutate(log_p_adj = -log(p.adj, base = 10),\n",
    "           annot = ifelse(log_p_adj > 5, taxa, \"\"),\n",
    "           variable = case_when(variable == \"genetic_ancestry\" ~ \"Ancestry\",\n",
    "                                variable == \"age\" ~  \"Age\",\n",
    "                                variable == \"tg_mmol_l\" ~ \"Triglycerides\",\n",
    "                                variable == \"bmi\" ~ \"BMI\",\n",
    "                                variable == \"tc_mmol_l\" ~ \"Total cholesterol\",\n",
    "                                variable == \"genetic_sex\" ~ \"Sex\",\n",
    "                                variable == \"sbp\" ~ \"SBP\",\n",
    "                                variable == \"dbp\" ~ \"DBP\"),\n",
    "           color_value = ifelse(p.adj > a, NA, log_p_adj))"
   ]
  },
  {
   "cell_type": "code",
   "execution_count": null,
   "id": "d4433819",
   "metadata": {},
   "outputs": [],
   "source": [
    "n_sig_df <- res_filt %>% \n",
    "    filter(p.adj < 0.05) %>%\n",
    "    group_by(taxa, variable) %>%\n",
    "    summarise(n_sig = n())"
   ]
  },
  {
   "cell_type": "code",
   "execution_count": null,
   "id": "424ced73",
   "metadata": {},
   "outputs": [],
   "source": [
    "res_filt %>% \n",
    "    filter(p.adj < 0.05) %>%\n",
    "    left_join(n_sig_df) %>%\n",
    "    group_by(taxa, variable) %>%\n",
    "    summarise(min_p.adj = min(p.adj), n_sig = min(n_sig))"
   ]
  },
  {
   "cell_type": "code",
   "execution_count": null,
   "id": "415c226d",
   "metadata": {},
   "outputs": [],
   "source": [
    "res_filt %>% \n",
    "    filter(p.adj < 0.05) %>%\n",
    "    left_join(n_sig_df) %>%\n",
    "    group_by(taxa, variable) %>%\n",
    "    summarise(min_p.adj = min(p.adj), n_sig = min(n_sig)) %>%\n",
    "    mutate(log_p_adj = -log(min_p.adj, base = 10),\n",
    "           n_sig = factor(n_sig),\n",
    "           variable = factor(variable, levels = c(\"Ancestry\", \"Sex\", \"Age\", \n",
    "                                                  \"BMI\", \"Triglycerides\", \"Total cholesterol\", \n",
    "                                                  \"DBP\", \"SBP\"))) %>%\n",
    "    ggplot(aes(x = variable, y = log_p_adj, size = n_sig, color = log_p_adj)) +\n",
    "        geom_point() +\n",
    "        geom_hline(yintercept = -log(a, base = 10), \n",
    "                   lty = \"dashed\",\n",
    "                   color = \"red\") +\n",
    "        scale_color_gradient(low = \"orangered4\", \n",
    "                             high = \"tomato1\", \n",
    "                             na.value = \"darkgray\",\n",
    "                             guide = \"none\") + \n",
    "        scale_x_discrete(drop = F) +\n",
    "        theme_bw() +\n",
    "        theme(text = element_text(size = 15),\n",
    "              legend.position = \"bottom\") +\n",
    "        geom_text(aes(label = taxa), angle = 20, hjust = -0.1, size = 3) +\n",
    "        labs(x = \"Variables\", y = \"log10(adj. p-value)\", size = \"Signif. in how many cohorts?\") +\n",
    "        ylim(0, 30)\n",
    "\n",
    "ggsave(\"results/phenotype_associations/manhattan_plot.separate.simple.png\", dpi = 600, width = 11, height = 4)"
   ]
  },
  {
   "cell_type": "markdown",
   "id": "7db38f32",
   "metadata": {},
   "source": [
    "### Plot prevalence for C. acnes"
   ]
  },
  {
   "cell_type": "code",
   "execution_count": null,
   "id": "429e10a1",
   "metadata": {},
   "outputs": [],
   "source": [
    "taxon <- \"Cutibacterium acnes\"    \n",
    "n_df <- X_meta %>%\n",
    "    group_by(genetic_ancestry, site_supplying_sample) %>%\n",
    "    summarise(n_total = n())\n",
    "\n",
    "cohorts_of_interest <- res_filt %>% \n",
    "    filter(taxa == taxon,\n",
    "           p.adj < 0.05)\n",
    "cohorts_of_interest <- unique(cohorts_of_interest$cohort)\n",
    "\n",
    "X_meta %>%\n",
    "    filter(site_supplying_sample %in% cohorts_of_interest) %>%\n",
    "    filter(!is.na(genetic_ancestry)) %>%\n",
    "    select(all_of(c(taxon, \"genetic_ancestry\", \"site_supplying_sample\"))) %>%\n",
    "    pivot_longer(!c(genetic_ancestry, site_supplying_sample), names_to = \"site\", values_to = \"presence\") %>%\n",
    "    group_by(genetic_ancestry, site_supplying_sample) %>%\n",
    "    summarise(n = sum(presence)) %>%\n",
    "    left_join(n_df) %>%\n",
    "    mutate(prop = n / n_total,\n",
    "           genetic_ancestry = case_when(genetic_ancestry == \"C\" ~ \"Chinese\",\n",
    "                                        genetic_ancestry == \"M\" ~ \"Malay\",\n",
    "                                        genetic_ancestry == \"I\" ~ \"Indian\",\n",
    "                                        genetic_ancestry == \"O\" ~ \"Others\")) %>%\n",
    "    ggplot(aes(x = genetic_ancestry, y = prop, fill = genetic_ancestry)) +\n",
    "        facet_grid(rows = vars(site_supplying_sample)) +\n",
    "        geom_bar(stat = \"identity\", \n",
    "                 position = \"dodge\",\n",
    "                 color = \"black\") +\n",
    "        labs(x = \"Ancestry\", y = \"C. acnes prevalence (%)\") +\n",
    "#         geom_text(aes(y = prop, label = n),\n",
    "#                   vjust = 0,\n",
    "#                   color = \"red\") +\n",
    "        geom_text(aes(y = -0.01, label = paste0(\"n = \", n_total)),\n",
    "                  vjust = 1,\n",
    "                  color = \"black\") +\n",
    "        theme_bw() +\n",
    "        theme(legend.position = \"none\",\n",
    "              text = element_text(size = 15)) +\n",
    "        ylim(-0.05, 0.2)\n",
    "\n",
    "taxon_save_name <- paste0(taxon, collapse = \"_\")\n",
    "ggsave(str_glue(\"results/phenotype_associations/separate_simple_plots/{taxon_save_name}.genetic_ancestry.png\"), \n",
    "       width = 10, height = 6)"
   ]
  },
  {
   "cell_type": "markdown",
   "id": "486bc744",
   "metadata": {},
   "source": [
    "### Iterate across all significant hits"
   ]
  },
  {
   "cell_type": "code",
   "execution_count": null,
   "id": "5f5f8724",
   "metadata": {},
   "outputs": [],
   "source": [
    "sig_list <- (res_filt %>%\n",
    "    filter(p.adj < 0.05) %>%\n",
    "    distinct(taxa))$taxa\n",
    "for (taxon in sig_list) {\n",
    "    X_meta %>%\n",
    "            select(all_of(c(taxon, \"genetic_ancestry\", \"site_supplying_sample\"))) %>%\n",
    "            pivot_longer(!c(genetic_ancestry, site_supplying_sample), names_to = \"site\", values_to = \"presence\") %>%\n",
    "            group_by(genetic_ancestry, site_supplying_sample) %>%\n",
    "            summarise(n = sum(presence)) %>%\n",
    "            left_join(n_df2) %>%\n",
    "            mutate(prop = n / n_total) %>%\n",
    "            ggplot(aes(x = genetic_ancestry, y = prop, fill = genetic_ancestry)) +\n",
    "                facet_grid(rows = vars(site_supplying_sample)) +\n",
    "                geom_bar(stat = \"identity\", position = \"dodge\") +\n",
    "                labs(x = \"genetic_ancestry\", y = \"Prop. of positive samples\") +\n",
    "                geom_text(aes(y = prop, label = n),\n",
    "                          vjust = 0,\n",
    "                          color = \"red\") +\n",
    "                geom_text(aes(y = -0.01, label = paste0(\"n_sampled = \", n_total)),\n",
    "                          vjust = 1,\n",
    "                          color = \"black\") +\n",
    "    ylim(-0.1, 0.6)\n",
    "        taxon_save_name <- paste0(taxon, collapse = \"_\")\n",
    "        ggsave(str_glue(\"results/phenotype_associations/separate_simple_plots/{taxon_save_name}.genetic_ancestry.png\"), \n",
    "               width = 15, height = 7)\n",
    "}"
   ]
  }
 ],
 "metadata": {
  "kernelspec": {
   "display_name": "R",
   "language": "R",
   "name": "ir"
  },
  "language_info": {
   "codemirror_mode": "r",
   "file_extension": ".r",
   "mimetype": "text/x-r-source",
   "name": "R",
   "pygments_lexer": "r",
   "version": "4.1.0"
  }
 },
 "nbformat": 4,
 "nbformat_minor": 5
}
