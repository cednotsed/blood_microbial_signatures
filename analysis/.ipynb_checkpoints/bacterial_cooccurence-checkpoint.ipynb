{
 "cells": [
  {
   "cell_type": "markdown",
   "id": "f799b42b",
   "metadata": {},
   "source": [
    "# Cooccurence network using sparCC"
   ]
  },
  {
   "cell_type": "code",
   "execution_count": 1,
   "id": "bc15bd3e",
   "metadata": {
    "scrolled": true
   },
   "outputs": [
    {
     "name": "stderr",
     "output_type": "stream",
     "text": [
      "Loading required package: tidyverse\n",
      "\n",
      "Warning message in system(\"timedatectl\", intern = TRUE):\n",
      "“running command 'timedatectl' had status 1”\n",
      "── \u001b[1mAttaching packages\u001b[22m ─────────────────────────────────────────────────────────────────────────────── tidyverse 1.3.1 ──\n",
      "\n",
      "\u001b[32m✔\u001b[39m \u001b[34mggplot2\u001b[39m 3.3.5     \u001b[32m✔\u001b[39m \u001b[34mpurrr  \u001b[39m 0.3.4\n",
      "\u001b[32m✔\u001b[39m \u001b[34mtibble \u001b[39m 3.1.6     \u001b[32m✔\u001b[39m \u001b[34mdplyr  \u001b[39m 1.0.7\n",
      "\u001b[32m✔\u001b[39m \u001b[34mtidyr  \u001b[39m 1.1.4     \u001b[32m✔\u001b[39m \u001b[34mstringr\u001b[39m 1.4.0\n",
      "\u001b[32m✔\u001b[39m \u001b[34mreadr  \u001b[39m 2.1.0     \u001b[32m✔\u001b[39m \u001b[34mforcats\u001b[39m 0.5.1\n",
      "\n",
      "── \u001b[1mConflicts\u001b[22m ────────────────────────────────────────────────────────────────────────────────── tidyverse_conflicts() ──\n",
      "\u001b[31m✖\u001b[39m \u001b[34mdplyr\u001b[39m::\u001b[32mfilter()\u001b[39m masks \u001b[34mstats\u001b[39m::filter()\n",
      "\u001b[31m✖\u001b[39m \u001b[34mdplyr\u001b[39m::\u001b[32mlag()\u001b[39m    masks \u001b[34mstats\u001b[39m::lag()\n",
      "\n",
      "Loading required package: data.table\n",
      "\n",
      "\n",
      "Attaching package: ‘data.table’\n",
      "\n",
      "\n",
      "The following objects are masked from ‘package:dplyr’:\n",
      "\n",
      "    between, first, last\n",
      "\n",
      "\n",
      "The following object is masked from ‘package:purrr’:\n",
      "\n",
      "    transpose\n",
      "\n",
      "\n",
      "Loading required package: igraph\n",
      "\n",
      "\n",
      "Attaching package: ‘igraph’\n",
      "\n",
      "\n",
      "The following objects are masked from ‘package:dplyr’:\n",
      "\n",
      "    as_data_frame, groups, union\n",
      "\n",
      "\n",
      "The following objects are masked from ‘package:purrr’:\n",
      "\n",
      "    compose, simplify\n",
      "\n",
      "\n",
      "The following object is masked from ‘package:tidyr’:\n",
      "\n",
      "    crossing\n",
      "\n",
      "\n",
      "The following object is masked from ‘package:tibble’:\n",
      "\n",
      "    as_data_frame\n",
      "\n",
      "\n",
      "The following objects are masked from ‘package:stats’:\n",
      "\n",
      "    decompose, spectrum\n",
      "\n",
      "\n",
      "The following object is masked from ‘package:base’:\n",
      "\n",
      "    union\n",
      "\n",
      "\n",
      "Loading required package: Matrix\n",
      "\n",
      "\n",
      "Attaching package: ‘Matrix’\n",
      "\n",
      "\n",
      "The following objects are masked from ‘package:tidyr’:\n",
      "\n",
      "    expand, pack, unpack\n",
      "\n",
      "\n",
      "Loading required package: SpiecEasi\n",
      "\n",
      "\n",
      "Attaching package: ‘SpiecEasi’\n",
      "\n",
      "\n",
      "The following objects are masked from ‘package:Matrix’:\n",
      "\n",
      "    tril, triu\n",
      "\n",
      "\n",
      "The following object is masked from ‘package:igraph’:\n",
      "\n",
      "    make_graph\n",
      "\n",
      "\n",
      "Loading required package: foreach\n",
      "\n",
      "\n",
      "Attaching package: ‘foreach’\n",
      "\n",
      "\n",
      "The following objects are masked from ‘package:purrr’:\n",
      "\n",
      "    accumulate, when\n",
      "\n",
      "\n"
     ]
    }
   ],
   "source": [
    "setwd(\"/mnt/c/Users/Cedric/Desktop/git_repos/blood_microbiome\")\n",
    "require(tidyverse)\n",
    "require(ggplot2)\n",
    "require(data.table)\n",
    "require(igraph)\n",
    "require(Matrix)\n",
    "require(SpiecEasi)\n",
    "require(foreach)"
   ]
  },
  {
   "cell_type": "markdown",
   "id": "8876a48d",
   "metadata": {},
   "source": [
    "### Load  data"
   ]
  },
  {
   "cell_type": "code",
   "execution_count": 2,
   "id": "9d77d78f",
   "metadata": {
    "scrolled": false
   },
   "outputs": [
    {
     "data": {
      "text/html": [
       "<style>\n",
       ".list-inline {list-style: none; margin:0; padding: 0}\n",
       ".list-inline>li {display: inline-block}\n",
       ".list-inline>li:not(:last-child)::after {content: \"\\00b7\"; padding: 0 .5ex}\n",
       "</style>\n",
       "<ol class=list-inline><li>1612</li><li>125</li></ol>\n"
      ],
      "text/latex": [
       "\\begin{enumerate*}\n",
       "\\item 1612\n",
       "\\item 125\n",
       "\\end{enumerate*}\n"
      ],
      "text/markdown": [
       "1. 1612\n",
       "2. 125\n",
       "\n",
       "\n"
      ],
      "text/plain": [
       "[1] 1612  125"
      ]
     },
     "metadata": {},
     "output_type": "display_data"
    },
    {
     "data": {
      "text/html": [
       "<style>\n",
       ".list-inline {list-style: none; margin:0; padding: 0}\n",
       ".list-inline>li {display: inline-block}\n",
       ".list-inline>li:not(:last-child)::after {content: \"\\00b7\"; padding: 0 .5ex}\n",
       "</style>\n",
       "<ol class=list-inline><li>8704</li><li>871</li></ol>\n"
      ],
      "text/latex": [
       "\\begin{enumerate*}\n",
       "\\item 8704\n",
       "\\item 871\n",
       "\\end{enumerate*}\n"
      ],
      "text/markdown": [
       "1. 8704\n",
       "2. 871\n",
       "\n",
       "\n"
      ],
      "text/plain": [
       "[1] 8704  871"
      ]
     },
     "metadata": {},
     "output_type": "display_data"
    },
    {
     "data": {
      "text/html": [
       "5"
      ],
      "text/latex": [
       "5"
      ],
      "text/markdown": [
       "5"
      ],
      "text/plain": [
       "[1] 5"
      ]
     },
     "metadata": {},
     "output_type": "display_data"
    }
   ],
   "source": [
    "raw_df <- fread(\"results/decontamination/read_matrix.raw.zeroed.csv\")\n",
    "species_df <- fread(\"results/decontamination/read_matrix_n124.global_decontaminated.zeroed.csv\")\n",
    "\n",
    "meta <- fread(\"data/SG10K_Health_metadata.n10714.16March2021.parsed.csv\")\n",
    "meta_filt <- meta %>% filter(npm_research_id %in% raw_df$npm_research_id)\n",
    "\n",
    "cohorts <- unique(meta_filt$site_supplying_sample)\n",
    "cohorts <- cohorts[cohorts != \"GUSTO\"]\n",
    "cohorts <- cohorts[cohorts != \"SSMP\"]\n",
    "\n",
    "# Remove zero rows\n",
    "raw_non_zero <- rowSums(raw_df %>% select(-npm_research_id)) != 0\n",
    "raw_df <- raw_df %>% filter(raw_non_zero)\n",
    "\n",
    "decon_non_zero <- rowSums(species_df %>% select(-npm_research_id)) != 0\n",
    "species_df <- species_df %>% filter(decon_non_zero)\n",
    "\n",
    "morsels <- foreach (cohort = cohorts, .combine = \"c\") %do% {\n",
    "    id_filt <- (meta_filt %>% filter(site_supplying_sample == cohort))$npm_research_id\n",
    "    X_filt <- raw_df %>% filter(npm_research_id %in% id_filt)\n",
    "    temp_list <- list(X_filt)\n",
    "    names(temp_list) <- cohort\n",
    "    temp_list\n",
    "}\n",
    "\n",
    "cohort_data <- c(morsels)\n",
    "dim(species_df)\n",
    "dim(raw_df)\n",
    "length(cohorts)"
   ]
  },
  {
   "cell_type": "code",
   "execution_count": 3,
   "id": "8ffd3550",
   "metadata": {
    "scrolled": true
   },
   "outputs": [],
   "source": [
    "get_graph <- function(X, corr_t) {\n",
    "    set.seed(666)\n",
    "    \n",
    "    X_filt <- X %>%\n",
    "        select(-npm_research_id)\n",
    "    \n",
    "    # Run SparCC\n",
    "    sparcc.amgut <- sparcc(X_filt)\n",
    "\n",
    "    ## Define arbitrary threshold for SparCC correlation matrix for the graph\n",
    "    sparcc.graph <- sparcc.amgut$Cor\n",
    "    sparcc.graph[abs(sparcc.graph) < corr_t] <- 0\n",
    "    diag(sparcc.graph) <- 0\n",
    "    sparcc.graph <- Matrix(sparcc.graph, sparse=TRUE)\n",
    "\n",
    "    ## Create igraph object\n",
    "    vertex.names <- setNames(seq(ncol(X_filt)), colnames(X_filt))\n",
    "    ig.sparcc <- adj2igraph(sparcc.graph, vertex.attr = vertex.names)\n",
    "    V(ig.sparcc)$name <- colnames(X_filt)\n",
    "\n",
    "    # Remove edgeless vertices\n",
    "    bad.vs <- V(ig.sparcc)[degree(ig.sparcc) == 0]\n",
    "    sparcc.filt <- delete.vertices(ig.sparcc, bad.vs)\n",
    "\n",
    "    return(sparcc.filt)\n",
    "}\n"
   ]
  },
  {
   "cell_type": "markdown",
   "id": "a87f9557",
   "metadata": {},
   "source": [
    "### Intersection of cohort-level graphs made from raw taxonomic profiles"
   ]
  },
  {
   "cell_type": "code",
   "execution_count": 4,
   "id": "24d4b41c",
   "metadata": {},
   "outputs": [
    {
     "name": "stdout",
     "output_type": "stream",
     "text": [
      "HELIOS has 2284 / 2284 samples\n",
      "MEC has 2713 / 2713 samples\n",
      "PRISM has 1248 / 1248 samples\n",
      "TTSH has 653 / 653 samples\n",
      "SERI has 835 / 835 samples\n"
     ]
    }
   ],
   "source": [
    "for (cohort in cohorts) {       \n",
    "    X_temp <- cohort_data[[cohort]]\n",
    "    n_samples <- nrow(X_temp)\n",
    "    n_non_zero <- sum(rowSums(X_temp %>% select(-npm_research_id)) != 0)\n",
    "    print(str_glue(\"{cohort} has {n_non_zero} / {n_samples} samples\"))\n",
    "}"
   ]
  },
  {
   "cell_type": "code",
   "execution_count": 5,
   "id": "19aea08e",
   "metadata": {},
   "outputs": [],
   "source": [
    "get_ix_graph <- function(corr_t) {\n",
    "    raw_graphs <- list()\n",
    "\n",
    "    for (cohort in cohorts) {\n",
    "        X_temp <- cohort_data[[cohort]]\n",
    "#         sample_n(30)\n",
    "        raw_graphs[[cohort]] <- get_graph(X_temp, corr_t)\n",
    "    }\n",
    "    \n",
    "    ix_graph <- intersection(raw_graphs[[1]], raw_graphs[[2]], raw_graphs[[3]],\n",
    "                             raw_graphs[[4]], raw_graphs[[5]], \n",
    "                             keep.all.vertices = F)\n",
    "    return(list(ix_graph, raw_graphs))\n",
    "}\n",
    "\n",
    "gx1_list <- get_ix_graph(0.05)\n",
    "gx2_list <- get_ix_graph(0.1)\n",
    "gx3_list <- get_ix_graph(0.2)\n",
    "\n",
    "gx1 <- gx1_list[[1]]\n",
    "gx2 <- gx2_list[[1]]\n",
    "gx3 <- gx3_list[[1]]\n",
    "\n",
    "gx3_raw_graphs <- gx3_list[[2]]"
   ]
  },
  {
   "cell_type": "markdown",
   "id": "88442c93",
   "metadata": {},
   "source": [
    "### Graphs made from decontaminated taxonomic profiles"
   ]
  },
  {
   "cell_type": "code",
   "execution_count": 6,
   "id": "5a693f92",
   "metadata": {},
   "outputs": [],
   "source": [
    "g1 <- get_graph(species_df, 0.05)\n",
    "g2 <- get_graph(species_df, 0.1)\n",
    "g3 <- get_graph(species_df, 0.2)"
   ]
  },
  {
   "cell_type": "markdown",
   "id": "d23295b0",
   "metadata": {},
   "source": [
    "### Save plots"
   ]
  },
  {
   "cell_type": "code",
   "execution_count": 83,
   "id": "e6906848",
   "metadata": {},
   "outputs": [
    {
     "data": {
      "text/html": [
       "<strong>png:</strong> 2"
      ],
      "text/latex": [
       "\\textbf{png:} 2"
      ],
      "text/markdown": [
       "**png:** 2"
      ],
      "text/plain": [
       "png \n",
       "  2 "
      ]
     },
     "metadata": {},
     "output_type": "display_data"
    },
    {
     "data": {
      "text/html": [
       "<strong>png:</strong> 2"
      ],
      "text/latex": [
       "\\textbf{png:} 2"
      ],
      "text/markdown": [
       "**png:** 2"
      ],
      "text/plain": [
       "png \n",
       "  2 "
      ]
     },
     "metadata": {},
     "output_type": "display_data"
    },
    {
     "data": {
      "text/html": [
       "<strong>png:</strong> 2"
      ],
      "text/latex": [
       "\\textbf{png:} 2"
      ],
      "text/markdown": [
       "**png:** 2"
      ],
      "text/plain": [
       "png \n",
       "  2 "
      ]
     },
     "metadata": {},
     "output_type": "display_data"
    },
    {
     "data": {
      "text/html": [
       "<strong>png:</strong> 2"
      ],
      "text/latex": [
       "\\textbf{png:} 2"
      ],
      "text/markdown": [
       "**png:** 2"
      ],
      "text/plain": [
       "png \n",
       "  2 "
      ]
     },
     "metadata": {},
     "output_type": "display_data"
    },
    {
     "data": {
      "text/html": [
       "<strong>png:</strong> 2"
      ],
      "text/latex": [
       "\\textbf{png:} 2"
      ],
      "text/markdown": [
       "**png:** 2"
      ],
      "text/plain": [
       "png \n",
       "  2 "
      ]
     },
     "metadata": {},
     "output_type": "display_data"
    },
    {
     "data": {
      "text/html": [
       "<strong>png:</strong> 2"
      ],
      "text/latex": [
       "\\textbf{png:} 2"
      ],
      "text/markdown": [
       "**png:** 2"
      ],
      "text/plain": [
       "png \n",
       "  2 "
      ]
     },
     "metadata": {},
     "output_type": "display_data"
    }
   ],
   "source": [
    "plot_and_save <- function(g, save_path) {\n",
    "    # Color edges based on value\n",
    "    E(g)$color[E(g)$weight < 0 ] <- \"steelblue4\"\n",
    "    E(g)$color[E(g)$weight > 0 ] <- \"darkolivegreen3\"\n",
    "    \n",
    "    set.seed(666)\n",
    "    png(file = save_path,\n",
    "        width = 6.67,\n",
    "        height = 6.67,\n",
    "        units = 'in',\n",
    "        res = 300)\n",
    "\n",
    "        plot(g,\n",
    "             margin = 0,\n",
    "#              layout = layout.fruchterman.reingold(g),\n",
    "             layout = layout_in_circle(g, order = V(g)),\n",
    "             vertex.size = 8,\n",
    "             vertex.label.cex = 1,\n",
    "             vertex.label.color = \"black\",\n",
    "             vertex.frame.color = NA,\n",
    "             vertex.label.dist = 1)\n",
    "    \n",
    "    dev.off()\n",
    "}\n",
    "\n",
    "plot_and_save(g1, \"results/coocurrence/SparCC_0.05.png\")\n",
    "plot_and_save(g2, \"results/coocurrence/SparCC_0.1.png\")\n",
    "plot_and_save(g3, \"results/coocurrence/SparCC_0.2.png\")\n",
    "plot_and_save(gx1, \"results/coocurrence/SparCC_intersection_0.05.2.png\")\n",
    "plot_and_save(gx2, \"results/coocurrence/SparCC_intersection_0.1.png\")\n",
    "plot_and_save(gx3, \"results/coocurrence/SparCC_intersection_0.2.png\")"
   ]
  },
  {
   "cell_type": "markdown",
   "id": "8e44558f",
   "metadata": {},
   "source": [
    "#### Plot graphs for each cohort"
   ]
  },
  {
   "cell_type": "code",
   "execution_count": 89,
   "id": "1dba1d22",
   "metadata": {},
   "outputs": [],
   "source": [
    "cohort_names <- names(gx3_raw_graphs)\n",
    "\n",
    "for (i in seq(length(gx3_raw_graphs))) {\n",
    "    cohort_name <- cohort_names[i]\n",
    "    g_temp <- gx3_raw_graphs[[cohort_name]]\n",
    "    plot_and_save(g_temp, str_glue(\"results/coocurrence/SparCC_{cohort_name}_0.2.png\"))\n",
    "}"
   ]
  }
 ],
 "metadata": {
  "kernelspec": {
   "display_name": "R",
   "language": "R",
   "name": "ir"
  },
  "language_info": {
   "codemirror_mode": "r",
   "file_extension": ".r",
   "mimetype": "text/x-r-source",
   "name": "R",
   "pygments_lexer": "r",
   "version": "4.1.0"
  }
 },
 "nbformat": 4,
 "nbformat_minor": 5
}
