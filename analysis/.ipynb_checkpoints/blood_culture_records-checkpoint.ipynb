{
 "cells": [
  {
   "cell_type": "code",
   "execution_count": 1,
   "id": "6e2fc8a8",
   "metadata": {},
   "outputs": [
    {
     "name": "stderr",
     "output_type": "stream",
     "text": [
      "Loading required package: tidyverse\n",
      "\n",
      "Warning message in system(\"timedatectl\", intern = TRUE):\n",
      "“running command 'timedatectl' had status 1”\n",
      "── \u001b[1mAttaching packages\u001b[22m ─────────────────────────────────────────────────────────────────────────────── tidyverse 1.3.1 ──\n",
      "\n",
      "\u001b[32m✔\u001b[39m \u001b[34mggplot2\u001b[39m 3.3.5     \u001b[32m✔\u001b[39m \u001b[34mpurrr  \u001b[39m 0.3.4\n",
      "\u001b[32m✔\u001b[39m \u001b[34mtibble \u001b[39m 3.1.6     \u001b[32m✔\u001b[39m \u001b[34mdplyr  \u001b[39m 1.0.7\n",
      "\u001b[32m✔\u001b[39m \u001b[34mtidyr  \u001b[39m 1.1.4     \u001b[32m✔\u001b[39m \u001b[34mstringr\u001b[39m 1.4.0\n",
      "\u001b[32m✔\u001b[39m \u001b[34mreadr  \u001b[39m 2.1.0     \u001b[32m✔\u001b[39m \u001b[34mforcats\u001b[39m 0.5.1\n",
      "\n",
      "── \u001b[1mConflicts\u001b[22m ────────────────────────────────────────────────────────────────────────────────── tidyverse_conflicts() ──\n",
      "\u001b[31m✖\u001b[39m \u001b[34mdplyr\u001b[39m::\u001b[32mfilter()\u001b[39m masks \u001b[34mstats\u001b[39m::filter()\n",
      "\u001b[31m✖\u001b[39m \u001b[34mdplyr\u001b[39m::\u001b[32mlag()\u001b[39m    masks \u001b[34mstats\u001b[39m::lag()\n",
      "\n",
      "Loading required package: data.table\n",
      "\n",
      "\n",
      "Attaching package: ‘data.table’\n",
      "\n",
      "\n",
      "The following objects are masked from ‘package:dplyr’:\n",
      "\n",
      "    between, first, last\n",
      "\n",
      "\n",
      "The following object is masked from ‘package:purrr’:\n",
      "\n",
      "    transpose\n",
      "\n",
      "\n",
      "Loading required package: egg\n",
      "\n",
      "Loading required package: gridExtra\n",
      "\n",
      "\n",
      "Attaching package: ‘gridExtra’\n",
      "\n",
      "\n",
      "The following object is masked from ‘package:dplyr’:\n",
      "\n",
      "    combine\n",
      "\n",
      "\n",
      "Loading required package: foreach\n",
      "\n",
      "\n",
      "Attaching package: ‘foreach’\n",
      "\n",
      "\n",
      "The following objects are masked from ‘package:purrr’:\n",
      "\n",
      "    accumulate, when\n",
      "\n",
      "\n",
      "Loading required package: doParallel\n",
      "\n",
      "Loading required package: iterators\n",
      "\n",
      "Loading required package: parallel\n",
      "\n",
      "Loading required package: ggforce\n",
      "\n"
     ]
    }
   ],
   "source": [
    "setwd(\"/mnt/c/Users/Cedric/Desktop/git_repos/blood_microbiome\")\n",
    "require(tidyverse)\n",
    "require(ggplot2)\n",
    "require(data.table)\n",
    "require(egg)\n",
    "require(foreach)\n",
    "require(doParallel)\n",
    "require(ggforce)\n",
    "# registerDoParallel(cores=8)"
   ]
  },
  {
   "cell_type": "code",
   "execution_count": 14,
   "id": "02402f32",
   "metadata": {
    "scrolled": true
   },
   "outputs": [
    {
     "data": {
      "text/html": [
       "<table class=\"dataframe\">\n",
       "<caption>A data.table: 6 × 16</caption>\n",
       "<thead>\n",
       "\t<tr><th scope=col>sn</th><th scope=col>hosp</th><th scope=col>recv_date</th><th scope=col>specimen_no</th><th scope=col>patient_code</th><th scope=col>ac_last_4_digits</th><th scope=col>sex</th><th scope=col>age</th><th scope=col>race</th><th scope=col>location</th><th scope=col>procedure</th><th scope=col>source</th><th scope=col>soucat</th><th scope=col>organisms</th><th scope=col>status</th><th scope=col>collection</th></tr>\n",
       "\t<tr><th scope=col>&lt;int&gt;</th><th scope=col>&lt;chr&gt;</th><th scope=col>&lt;chr&gt;</th><th scope=col>&lt;chr&gt;</th><th scope=col>&lt;chr&gt;</th><th scope=col>&lt;chr&gt;</th><th scope=col>&lt;chr&gt;</th><th scope=col>&lt;chr&gt;</th><th scope=col>&lt;chr&gt;</th><th scope=col>&lt;chr&gt;</th><th scope=col>&lt;chr&gt;</th><th scope=col>&lt;chr&gt;</th><th scope=col>&lt;chr&gt;</th><th scope=col>&lt;chr&gt;</th><th scope=col>&lt;chr&gt;</th><th scope=col>&lt;chr&gt;</th></tr>\n",
       "</thead>\n",
       "<tbody>\n",
       "\t<tr><td>1</td><td>SGH</td><td>21/2/2011 </td><td>20110011083RB</td><td>AM</td><td>142H</td><td>M</td><td>76</td><td>I</td><td>S73 </td><td>DBARD</td><td>BLP</td><td>BL</td><td></td><td>COMP</td><td>20/2/2011 </td></tr>\n",
       "\t<tr><td>2</td><td>SGH</td><td>28/2/2011 </td><td>20110012588RB</td><td>AM</td><td>142H</td><td>M</td><td>76</td><td>I</td><td>S73 </td><td>DBARD</td><td>BLP</td><td>BL</td><td></td><td>COMP</td><td>27/2/2011 </td></tr>\n",
       "\t<tr><td>3</td><td>SGH</td><td>1/3/2011  </td><td>20110013038RB</td><td>AM</td><td>142H</td><td>M</td><td>76</td><td>I</td><td>S73 </td><td>DBARD</td><td>BLP</td><td>BL</td><td></td><td>COMP</td><td>1/3/2011  </td></tr>\n",
       "\t<tr><td>4</td><td>SGH</td><td>7/6/2011  </td><td>20110034199RB</td><td>AB</td><td>493D</td><td>M</td><td>47</td><td>M</td><td>S55B</td><td>DBARD</td><td>BLP</td><td>BL</td><td></td><td>COMP</td><td>6/6/2011  </td></tr>\n",
       "\t<tr><td>5</td><td>SGH</td><td>22/10/2011</td><td>20110064079RB</td><td>AA</td><td>431F</td><td>F</td><td>46</td><td>O</td><td>S78 </td><td>DBARD</td><td>BLP</td><td>BL</td><td></td><td>COMP</td><td>22/10/2011</td></tr>\n",
       "\t<tr><td>6</td><td>SGH</td><td>5/3/2011  </td><td>20110013885RB</td><td>AA</td><td>885B</td><td>F</td><td>36</td><td>O</td><td>S78 </td><td>DBARD</td><td>BLP</td><td>BL</td><td></td><td>COMP</td><td>4/3/2011  </td></tr>\n",
       "</tbody>\n",
       "</table>\n"
      ],
      "text/latex": [
       "A data.table: 6 × 16\n",
       "\\begin{tabular}{llllllllllllllll}\n",
       " sn & hosp & recv\\_date & specimen\\_no & patient\\_code & ac\\_last\\_4\\_digits & sex & age & race & location & procedure & source & soucat & organisms & status & collection\\\\\n",
       " <int> & <chr> & <chr> & <chr> & <chr> & <chr> & <chr> & <chr> & <chr> & <chr> & <chr> & <chr> & <chr> & <chr> & <chr> & <chr>\\\\\n",
       "\\hline\n",
       "\t 1 & SGH & 21/2/2011  & 20110011083RB & AM & 142H & M & 76 & I & S73  & DBARD & BLP & BL &  & COMP & 20/2/2011 \\\\\n",
       "\t 2 & SGH & 28/2/2011  & 20110012588RB & AM & 142H & M & 76 & I & S73  & DBARD & BLP & BL &  & COMP & 27/2/2011 \\\\\n",
       "\t 3 & SGH & 1/3/2011   & 20110013038RB & AM & 142H & M & 76 & I & S73  & DBARD & BLP & BL &  & COMP & 1/3/2011  \\\\\n",
       "\t 4 & SGH & 7/6/2011   & 20110034199RB & AB & 493D & M & 47 & M & S55B & DBARD & BLP & BL &  & COMP & 6/6/2011  \\\\\n",
       "\t 5 & SGH & 22/10/2011 & 20110064079RB & AA & 431F & F & 46 & O & S78  & DBARD & BLP & BL &  & COMP & 22/10/2011\\\\\n",
       "\t 6 & SGH & 5/3/2011   & 20110013885RB & AA & 885B & F & 36 & O & S78  & DBARD & BLP & BL &  & COMP & 4/3/2011  \\\\\n",
       "\\end{tabular}\n"
      ],
      "text/markdown": [
       "\n",
       "A data.table: 6 × 16\n",
       "\n",
       "| sn &lt;int&gt; | hosp &lt;chr&gt; | recv_date &lt;chr&gt; | specimen_no &lt;chr&gt; | patient_code &lt;chr&gt; | ac_last_4_digits &lt;chr&gt; | sex &lt;chr&gt; | age &lt;chr&gt; | race &lt;chr&gt; | location &lt;chr&gt; | procedure &lt;chr&gt; | source &lt;chr&gt; | soucat &lt;chr&gt; | organisms &lt;chr&gt; | status &lt;chr&gt; | collection &lt;chr&gt; |\n",
       "|---|---|---|---|---|---|---|---|---|---|---|---|---|---|---|---|\n",
       "| 1 | SGH | 21/2/2011  | 20110011083RB | AM | 142H | M | 76 | I | S73  | DBARD | BLP | BL | <!----> | COMP | 20/2/2011  |\n",
       "| 2 | SGH | 28/2/2011  | 20110012588RB | AM | 142H | M | 76 | I | S73  | DBARD | BLP | BL | <!----> | COMP | 27/2/2011  |\n",
       "| 3 | SGH | 1/3/2011   | 20110013038RB | AM | 142H | M | 76 | I | S73  | DBARD | BLP | BL | <!----> | COMP | 1/3/2011   |\n",
       "| 4 | SGH | 7/6/2011   | 20110034199RB | AB | 493D | M | 47 | M | S55B | DBARD | BLP | BL | <!----> | COMP | 6/6/2011   |\n",
       "| 5 | SGH | 22/10/2011 | 20110064079RB | AA | 431F | F | 46 | O | S78  | DBARD | BLP | BL | <!----> | COMP | 22/10/2011 |\n",
       "| 6 | SGH | 5/3/2011   | 20110013885RB | AA | 885B | F | 36 | O | S78  | DBARD | BLP | BL | <!----> | COMP | 4/3/2011   |\n",
       "\n"
      ],
      "text/plain": [
       "  sn hosp recv_date  specimen_no   patient_code ac_last_4_digits sex age race\n",
       "1 1  SGH  21/2/2011  20110011083RB AM           142H             M   76  I   \n",
       "2 2  SGH  28/2/2011  20110012588RB AM           142H             M   76  I   \n",
       "3 3  SGH  1/3/2011   20110013038RB AM           142H             M   76  I   \n",
       "4 4  SGH  7/6/2011   20110034199RB AB           493D             M   47  M   \n",
       "5 5  SGH  22/10/2011 20110064079RB AA           431F             F   46  O   \n",
       "6 6  SGH  5/3/2011   20110013885RB AA           885B             F   36  O   \n",
       "  location procedure source soucat organisms status collection\n",
       "1 S73      DBARD     BLP    BL               COMP   20/2/2011 \n",
       "2 S73      DBARD     BLP    BL               COMP   27/2/2011 \n",
       "3 S73      DBARD     BLP    BL               COMP   1/3/2011  \n",
       "4 S55B     DBARD     BLP    BL               COMP   6/6/2011  \n",
       "5 S78      DBARD     BLP    BL               COMP   22/10/2011\n",
       "6 S78      DBARD     BLP    BL               COMP   4/3/2011  "
      ]
     },
     "metadata": {},
     "output_type": "display_data"
    }
   ],
   "source": [
    "df <- fread(\"data/blood_culture_records/aerobic_2011.csv\")\n",
    "colnames(df) <- tolower(colnames(df))\n",
    "colnames(df) <- gsub(\"[[:punct:]]\", \"\", colnames(df))\n",
    "colnames(df) <- gsub(\" \", \"_\", colnames(df))\n",
    "head(df)"
   ]
  },
  {
   "cell_type": "code",
   "execution_count": 13,
   "id": "b2816c37",
   "metadata": {},
   "outputs": [
    {
     "data": {
      "text/plain": [
       "\n",
       "            BVH     HSA     IND     NCC     NHC     PAP     PTE    PTE1      QC \n",
       "1010552      19      79     123     164       7       1       5      10       3 \n",
       "    SGH    SNEC \n",
       "  37610       2 "
      ]
     },
     "metadata": {},
     "output_type": "display_data"
    }
   ],
   "source": [
    "table(df$hosp)"
   ]
  }
 ],
 "metadata": {
  "kernelspec": {
   "display_name": "R",
   "language": "R",
   "name": "ir"
  },
  "language_info": {
   "codemirror_mode": "r",
   "file_extension": ".r",
   "mimetype": "text/x-r-source",
   "name": "R",
   "pygments_lexer": "r",
   "version": "4.1.0"
  }
 },
 "nbformat": 4,
 "nbformat_minor": 5
}
