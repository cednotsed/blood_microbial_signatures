{
 "cells": [
  {
   "cell_type": "markdown",
   "id": "f799b42b",
   "metadata": {},
   "source": [
    "# Explore list of taxa to make a wishlist for experimental validation"
   ]
  },
  {
   "cell_type": "code",
   "execution_count": 1,
   "id": "bc15bd3e",
   "metadata": {},
   "outputs": [
    {
     "name": "stderr",
     "output_type": "stream",
     "text": [
      "Loading required package: tidyverse\n",
      "\n",
      "Warning message in system(\"timedatectl\", intern = TRUE):\n",
      "“running command 'timedatectl' had status 1”\n",
      "── \u001b[1mAttaching packages\u001b[22m ─────────────────────────────────────────────────────────────────────────────── tidyverse 1.3.1 ──\n",
      "\n",
      "\u001b[32m✔\u001b[39m \u001b[34mggplot2\u001b[39m 3.3.5     \u001b[32m✔\u001b[39m \u001b[34mpurrr  \u001b[39m 0.3.4\n",
      "\u001b[32m✔\u001b[39m \u001b[34mtibble \u001b[39m 3.1.6     \u001b[32m✔\u001b[39m \u001b[34mdplyr  \u001b[39m 1.0.7\n",
      "\u001b[32m✔\u001b[39m \u001b[34mtidyr  \u001b[39m 1.1.4     \u001b[32m✔\u001b[39m \u001b[34mstringr\u001b[39m 1.4.0\n",
      "\u001b[32m✔\u001b[39m \u001b[34mreadr  \u001b[39m 2.1.0     \u001b[32m✔\u001b[39m \u001b[34mforcats\u001b[39m 0.5.1\n",
      "\n",
      "── \u001b[1mConflicts\u001b[22m ────────────────────────────────────────────────────────────────────────────────── tidyverse_conflicts() ──\n",
      "\u001b[31m✖\u001b[39m \u001b[34mdplyr\u001b[39m::\u001b[32mfilter()\u001b[39m masks \u001b[34mstats\u001b[39m::filter()\n",
      "\u001b[31m✖\u001b[39m \u001b[34mdplyr\u001b[39m::\u001b[32mlag()\u001b[39m    masks \u001b[34mstats\u001b[39m::lag()\n",
      "\n",
      "Loading required package: data.table\n",
      "\n",
      "\n",
      "Attaching package: ‘data.table’\n",
      "\n",
      "\n",
      "The following objects are masked from ‘package:dplyr’:\n",
      "\n",
      "    between, first, last\n",
      "\n",
      "\n",
      "The following object is masked from ‘package:purrr’:\n",
      "\n",
      "    transpose\n",
      "\n",
      "\n"
     ]
    }
   ],
   "source": [
    "setwd(\"/mnt/c/Users/Cedric/Desktop/git_repos/blood_microbiome\")\n",
    "require(tidyverse)\n",
    "require(ggplot2)\n",
    "require(data.table)\n"
   ]
  },
  {
   "cell_type": "markdown",
   "id": "8876a48d",
   "metadata": {},
   "source": [
    "### Load  data"
   ]
  },
  {
   "cell_type": "code",
   "execution_count": 6,
   "id": "9d77d78f",
   "metadata": {
    "scrolled": false
   },
   "outputs": [
    {
     "data": {
      "text/html": [
       "<table class=\"dataframe\">\n",
       "<caption>A data.table: 8 × 10</caption>\n",
       "<thead>\n",
       "\t<tr><th scope=col>taxa</th><th scope=col>max_count</th><th scope=col>overall_prevalence</th><th scope=col>n_samples</th><th scope=col>max_sample</th><th scope=col>rel_a</th><th scope=col>ref</th><th scope=col>ORI</th><th scope=col>TER</th><th scope=col>bPTR</th></tr>\n",
       "\t<tr><th scope=col>&lt;chr&gt;</th><th scope=col>&lt;int&gt;</th><th scope=col>&lt;dbl&gt;</th><th scope=col>&lt;int&gt;</th><th scope=col>&lt;chr&gt;</th><th scope=col>&lt;dbl&gt;</th><th scope=col>&lt;chr&gt;</th><th scope=col>&lt;int&gt;</th><th scope=col>&lt;int&gt;</th><th scope=col>&lt;dbl&gt;</th></tr>\n",
       "</thead>\n",
       "<tbody>\n",
       "\t<tr><td>Acinetobacter baumannii    </td><td>  6865</td><td>0.002204944</td><td> 19</td><td>0116-0053</td><td>1.0000000</td><td>NZ_CP043953.1</td><td>3921868</td><td>1969068</td><td>1.751781</td></tr>\n",
       "\t<tr><td>Fusobacterium nucleatum    </td><td>194777</td><td>0.001044447</td><td>  9</td><td>WHB4594  </td><td>0.9760616</td><td>NZ_LN831027.1</td><td> 203025</td><td>1345040</td><td>1.676962</td></tr>\n",
       "\t<tr><td>Lactobacillus crispatus    </td><td>  7633</td><td>0.009400023</td><td> 81</td><td>WHB10710 </td><td>1.0000000</td><td>NZ_CP039266.1</td><td> 329356</td><td>1239734</td><td>1.576435</td></tr>\n",
       "\t<tr><td>Staphylococcus epidermidis </td><td>  9095</td><td>0.005570384</td><td> 48</td><td>WHB6459  </td><td>0.3143469</td><td>NZ_CP035288.1</td><td> 227530</td><td>1337456</td><td>1.550312</td></tr>\n",
       "\t<tr><td>Neisseria subflava         </td><td> 21801</td><td>0.001624695</td><td> 14</td><td>WHB9179  </td><td>0.4470624</td><td>NZ_CP039887.1</td><td>1885210</td><td> 796945</td><td>1.511696</td></tr>\n",
       "\t<tr><td>Corynebacterium segmentosum</td><td> 16198</td><td>0.001624695</td><td> 14</td><td>WHB6459  </td><td>0.5598452</td><td>NZ_LR134408.1</td><td>2326403</td><td>1258355</td><td>1.484415</td></tr>\n",
       "\t<tr><td>Haemophilus parainfluenzae </td><td> 11094</td><td>0.001392596</td><td> 12</td><td>WHB9179  </td><td>0.2274992</td><td>NZ_GL872339.1</td><td> 459759</td><td>1410593</td><td>1.149051</td></tr>\n",
       "\t<tr><td>Microbacterium sp. PM5     </td><td> 82819</td><td>0.019264245</td><td>166</td><td>WHB10821 </td><td>0.5177385</td><td>NZ_CP022162.1</td><td>2344180</td><td> 745445</td><td>1.111343</td></tr>\n",
       "</tbody>\n",
       "</table>\n"
      ],
      "text/latex": [
       "A data.table: 8 × 10\n",
       "\\begin{tabular}{llllllllll}\n",
       " taxa & max\\_count & overall\\_prevalence & n\\_samples & max\\_sample & rel\\_a & ref & ORI & TER & bPTR\\\\\n",
       " <chr> & <int> & <dbl> & <int> & <chr> & <dbl> & <chr> & <int> & <int> & <dbl>\\\\\n",
       "\\hline\n",
       "\t Acinetobacter baumannii     &   6865 & 0.002204944 &  19 & 0116-0053 & 1.0000000 & NZ\\_CP043953.1 & 3921868 & 1969068 & 1.751781\\\\\n",
       "\t Fusobacterium nucleatum     & 194777 & 0.001044447 &   9 & WHB4594   & 0.9760616 & NZ\\_LN831027.1 &  203025 & 1345040 & 1.676962\\\\\n",
       "\t Lactobacillus crispatus     &   7633 & 0.009400023 &  81 & WHB10710  & 1.0000000 & NZ\\_CP039266.1 &  329356 & 1239734 & 1.576435\\\\\n",
       "\t Staphylococcus epidermidis  &   9095 & 0.005570384 &  48 & WHB6459   & 0.3143469 & NZ\\_CP035288.1 &  227530 & 1337456 & 1.550312\\\\\n",
       "\t Neisseria subflava          &  21801 & 0.001624695 &  14 & WHB9179   & 0.4470624 & NZ\\_CP039887.1 & 1885210 &  796945 & 1.511696\\\\\n",
       "\t Corynebacterium segmentosum &  16198 & 0.001624695 &  14 & WHB6459   & 0.5598452 & NZ\\_LR134408.1 & 2326403 & 1258355 & 1.484415\\\\\n",
       "\t Haemophilus parainfluenzae  &  11094 & 0.001392596 &  12 & WHB9179   & 0.2274992 & NZ\\_GL872339.1 &  459759 & 1410593 & 1.149051\\\\\n",
       "\t Microbacterium sp. PM5      &  82819 & 0.019264245 & 166 & WHB10821  & 0.5177385 & NZ\\_CP022162.1 & 2344180 &  745445 & 1.111343\\\\\n",
       "\\end{tabular}\n"
      ],
      "text/markdown": [
       "\n",
       "A data.table: 8 × 10\n",
       "\n",
       "| taxa &lt;chr&gt; | max_count &lt;int&gt; | overall_prevalence &lt;dbl&gt; | n_samples &lt;int&gt; | max_sample &lt;chr&gt; | rel_a &lt;dbl&gt; | ref &lt;chr&gt; | ORI &lt;int&gt; | TER &lt;int&gt; | bPTR &lt;dbl&gt; |\n",
       "|---|---|---|---|---|---|---|---|---|---|\n",
       "| Acinetobacter baumannii     |   6865 | 0.002204944 |  19 | 0116-0053 | 1.0000000 | NZ_CP043953.1 | 3921868 | 1969068 | 1.751781 |\n",
       "| Fusobacterium nucleatum     | 194777 | 0.001044447 |   9 | WHB4594   | 0.9760616 | NZ_LN831027.1 |  203025 | 1345040 | 1.676962 |\n",
       "| Lactobacillus crispatus     |   7633 | 0.009400023 |  81 | WHB10710  | 1.0000000 | NZ_CP039266.1 |  329356 | 1239734 | 1.576435 |\n",
       "| Staphylococcus epidermidis  |   9095 | 0.005570384 |  48 | WHB6459   | 0.3143469 | NZ_CP035288.1 |  227530 | 1337456 | 1.550312 |\n",
       "| Neisseria subflava          |  21801 | 0.001624695 |  14 | WHB9179   | 0.4470624 | NZ_CP039887.1 | 1885210 |  796945 | 1.511696 |\n",
       "| Corynebacterium segmentosum |  16198 | 0.001624695 |  14 | WHB6459   | 0.5598452 | NZ_LR134408.1 | 2326403 | 1258355 | 1.484415 |\n",
       "| Haemophilus parainfluenzae  |  11094 | 0.001392596 |  12 | WHB9179   | 0.2274992 | NZ_GL872339.1 |  459759 | 1410593 | 1.149051 |\n",
       "| Microbacterium sp. PM5      |  82819 | 0.019264245 | 166 | WHB10821  | 0.5177385 | NZ_CP022162.1 | 2344180 |  745445 | 1.111343 |\n",
       "\n"
      ],
      "text/plain": [
       "  taxa                        max_count overall_prevalence n_samples max_sample\n",
       "1 Acinetobacter baumannii       6865    0.002204944         19       0116-0053 \n",
       "2 Fusobacterium nucleatum     194777    0.001044447          9       WHB4594   \n",
       "3 Lactobacillus crispatus       7633    0.009400023         81       WHB10710  \n",
       "4 Staphylococcus epidermidis    9095    0.005570384         48       WHB6459   \n",
       "5 Neisseria subflava           21801    0.001624695         14       WHB9179   \n",
       "6 Corynebacterium segmentosum  16198    0.001624695         14       WHB6459   \n",
       "7 Haemophilus parainfluenzae   11094    0.001392596         12       WHB9179   \n",
       "8 Microbacterium sp. PM5       82819    0.019264245        166       WHB10821  \n",
       "  rel_a     ref           ORI     TER     bPTR    \n",
       "1 1.0000000 NZ_CP043953.1 3921868 1969068 1.751781\n",
       "2 0.9760616 NZ_LN831027.1  203025 1345040 1.676962\n",
       "3 1.0000000 NZ_CP039266.1  329356 1239734 1.576435\n",
       "4 0.3143469 NZ_CP035288.1  227530 1337456 1.550312\n",
       "5 0.4470624 NZ_CP039887.1 1885210  796945 1.511696\n",
       "6 0.5598452 NZ_LR134408.1 2326403 1258355 1.484415\n",
       "7 0.2274992 NZ_GL872339.1  459759 1410593 1.149051\n",
       "8 0.5177385 NZ_CP022162.1 2344180  745445 1.111343"
      ]
     },
     "metadata": {},
     "output_type": "display_data"
    }
   ],
   "source": [
    "species_df <- fread(\"results/decontamination/read_matrix_n125.global_decontaminated.zeroed.csv\")\n",
    "species_RA <- fread(\"results/decontamination/RA_matrix_n125.global_decontaminated.zeroed.csv\")\n",
    "\n",
    "replication_meta <- fread(\"results/irep_analysis/parsed_irep_results.csv\") %>%\n",
    "    filter(!is.na(bPTR)) %>%\n",
    "    arrange(desc(bPTR))\n",
    "\n",
    "replication_meta"
   ]
  },
  {
   "cell_type": "code",
   "execution_count": 15,
   "id": "9c401fc1",
   "metadata": {
    "scrolled": false
   },
   "outputs": [
    {
     "name": "stdout",
     "output_type": "stream",
     "text": [
      "   npm_research_id Acinetobacter baumannii\n",
      "1:       0116-0053                    6865\n",
      "2:         WHB4438                     332\n",
      "3:         WHB4828                     184\n",
      "4:         WHB4251                     177\n",
      "5:         WHB4240                     156\n",
      "   npm_research_id Fusobacterium nucleatum\n",
      "1:         WHB4594                  194777\n",
      "2:         WHB4593                      78\n",
      "3:         WHB4598                      59\n",
      "4:         WHB6247                      58\n",
      "5:         WHB4596                      58\n",
      "   npm_research_id Lactobacillus crispatus\n",
      "1:        WHB10710                    7633\n",
      "2:         WHB4450                    1110\n",
      "3:         WHB4211                     666\n",
      "4:         WHB4505                     572\n",
      "5:         WHB3995                     461\n",
      "   npm_research_id Staphylococcus epidermidis\n",
      "1:         WHB6459                       9095\n",
      "2:         WHB4219                        982\n",
      "3:         WHB6651                        827\n",
      "4:         WHB4398                        535\n",
      "5:         WHB8186                        236\n",
      "   npm_research_id Neisseria subflava\n",
      "1:         WHB9179              21801\n",
      "2:         WHB4150                219\n",
      "3:         WHB6247                166\n",
      "4:         WHB1051                120\n",
      "5:         WHB4130                111\n",
      "   npm_research_id Corynebacterium segmentosum\n",
      "1:         WHB6459                       16198\n",
      "2:         WHB6776                         230\n",
      "3:         WHB8186                          88\n",
      "4:         WHB4219                          49\n",
      "5:         WHB4398                          47\n",
      "   npm_research_id Haemophilus parainfluenzae\n",
      "1:         WHB9179                      11094\n",
      "2:         WHB8397                       1027\n",
      "3:         WHH4854                         76\n",
      "4:         WHB4150                         64\n",
      "5:         WHB6247                         62\n",
      "   npm_research_id Microbacterium sp. PM5\n",
      "1:        WHB10821                  82819\n",
      "2:        WHB10753                   2567\n",
      "3:        WHB11022                   2407\n",
      "4:        WHB11078                   1840\n",
      "5:         WHB8300                   1504\n"
     ]
    }
   ],
   "source": [
    "taxon <- \"Lactobacillus crispatus\"\n",
    "\n",
    "for (taxon in replication_meta$taxa) {\n",
    "    top_5 <- species_df %>% \n",
    "        select(all_of(c(\"npm_research_id\", taxon))) %>%\n",
    "        arrange(desc(get(taxon))) %>%\n",
    "        head(5)\n",
    "\n",
    "    print(top_5)\n",
    "    \n",
    "}"
   ]
  },
  {
   "cell_type": "code",
   "execution_count": 41,
   "id": "801b101a",
   "metadata": {},
   "outputs": [
    {
     "name": "stdout",
     "output_type": "stream",
     "text": [
      "                        0116-0053\n",
      "Acinetobacter baumannii         1\n",
      "                               WHB4594\n",
      "Fusobacterium nucleatum     0.97606162\n",
      "Fusobacterium periodonticum 0.02393838\n",
      "                        WHB10710\n",
      "Lactobacillus crispatus        1\n",
      "                               WHB6459\n",
      "Cutibacterium acnes         0.10244358\n",
      "Staphylococcus epidermidis  0.31434694\n",
      "Corynebacterium segmentosum 0.55984516\n",
      "Cutibacterium granulosum    0.02336432\n",
      "                                 WHB9179\n",
      "Neisseria subflava            0.44706244\n",
      "Rothia mucilaginosa           0.03518917\n",
      "Haemophilus parainfluenzae    0.22749923\n",
      "Prevotella intermedia         0.02760176\n",
      "Prevotella melaninogenica     0.06611299\n",
      "Veillonella parvula           0.01870194\n",
      "Neisseria meningitidis        0.04456065\n",
      "Prevotella sp. oral taxon 299 0.04958474\n",
      "Prevotella jejuni             0.04263304\n",
      "Veillonella dispar            0.02356198\n",
      "Prevotella oris               0.01749205\n",
      "                               WHB6459\n",
      "Cutibacterium acnes         0.10244358\n",
      "Staphylococcus epidermidis  0.31434694\n",
      "Corynebacterium segmentosum 0.55984516\n",
      "Cutibacterium granulosum    0.02336432\n",
      "                                 WHB9179\n",
      "Neisseria subflava            0.44706244\n",
      "Rothia mucilaginosa           0.03518917\n",
      "Haemophilus parainfluenzae    0.22749923\n",
      "Prevotella intermedia         0.02760176\n",
      "Prevotella melaninogenica     0.06611299\n",
      "Veillonella parvula           0.01870194\n",
      "Neisseria meningitidis        0.04456065\n",
      "Prevotella sp. oral taxon 299 0.04958474\n",
      "Prevotella jejuni             0.04263304\n",
      "Veillonella dispar            0.02356198\n",
      "Prevotella oris               0.01749205\n",
      "                           WHB10821\n",
      "Microbacterium hominis   0.12134056\n",
      "Microbacterium sp. PM5   0.51773848\n",
      "Burkholderia contaminans 0.28777905\n",
      "Burkholderia lata        0.04181592\n",
      "Enterobacter cloacae     0.03132599\n"
     ]
    }
   ],
   "source": [
    "for (sample in replication_meta$max_sample) {\n",
    "    sample_temp <- as.data.frame(t(species_RA %>% \n",
    "            filter(npm_research_id == sample) %>%\n",
    "            column_to_rownames(\"npm_research_id\"))) %>%\n",
    "    filter(get(sample) != 0)\n",
    "\n",
    "    print(sample_temp)\n",
    "    \n",
    "}"
   ]
  },
  {
   "cell_type": "code",
   "execution_count": null,
   "id": "1e9a2274",
   "metadata": {},
   "outputs": [],
   "source": []
  }
 ],
 "metadata": {
  "kernelspec": {
   "display_name": "R",
   "language": "R",
   "name": "ir"
  },
  "language_info": {
   "codemirror_mode": "r",
   "file_extension": ".r",
   "mimetype": "text/x-r-source",
   "name": "R",
   "pygments_lexer": "r",
   "version": "4.1.0"
  }
 },
 "nbformat": 4,
 "nbformat_minor": 5
}
