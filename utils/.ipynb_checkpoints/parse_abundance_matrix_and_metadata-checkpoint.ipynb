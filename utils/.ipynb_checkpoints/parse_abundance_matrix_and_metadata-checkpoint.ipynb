{
 "cells": [
  {
   "cell_type": "code",
   "execution_count": 2,
   "id": "a965eeaf",
   "metadata": {},
   "outputs": [
    {
     "name": "stderr",
     "output_type": "stream",
     "text": [
      "Loading required package: foreach\n",
      "\n",
      "Loading required package: tidyverse\n",
      "\n",
      "Warning message in system(\"timedatectl\", intern = TRUE):\n",
      "“running command 'timedatectl' had status 1”\n",
      "── \u001b[1mAttaching packages\u001b[22m ─────────────────────────────────────────────────────────────────────────────── tidyverse 1.3.1 ──\n",
      "\n",
      "\u001b[32m✔\u001b[39m \u001b[34mggplot2\u001b[39m 3.3.5     \u001b[32m✔\u001b[39m \u001b[34mpurrr  \u001b[39m 0.3.4\n",
      "\u001b[32m✔\u001b[39m \u001b[34mtibble \u001b[39m 3.1.3     \u001b[32m✔\u001b[39m \u001b[34mdplyr  \u001b[39m 1.0.7\n",
      "\u001b[32m✔\u001b[39m \u001b[34mtidyr  \u001b[39m 1.1.3     \u001b[32m✔\u001b[39m \u001b[34mstringr\u001b[39m 1.4.0\n",
      "\u001b[32m✔\u001b[39m \u001b[34mreadr  \u001b[39m 2.0.1     \u001b[32m✔\u001b[39m \u001b[34mforcats\u001b[39m 0.5.1\n",
      "\n",
      "── \u001b[1mConflicts\u001b[22m ────────────────────────────────────────────────────────────────────────────────── tidyverse_conflicts() ──\n",
      "\u001b[31m✖\u001b[39m \u001b[34mpurrr\u001b[39m::\u001b[32maccumulate()\u001b[39m masks \u001b[34mforeach\u001b[39m::accumulate()\n",
      "\u001b[31m✖\u001b[39m \u001b[34mdplyr\u001b[39m::\u001b[32mfilter()\u001b[39m     masks \u001b[34mstats\u001b[39m::filter()\n",
      "\u001b[31m✖\u001b[39m \u001b[34mdplyr\u001b[39m::\u001b[32mlag()\u001b[39m        masks \u001b[34mstats\u001b[39m::lag()\n",
      "\u001b[31m✖\u001b[39m \u001b[34mpurrr\u001b[39m::\u001b[32mwhen()\u001b[39m       masks \u001b[34mforeach\u001b[39m::when()\n",
      "\n",
      "Loading required package: data.table\n",
      "\n",
      "\n",
      "Attaching package: ‘data.table’\n",
      "\n",
      "\n",
      "The following objects are masked from ‘package:dplyr’:\n",
      "\n",
      "    between, first, last\n",
      "\n",
      "\n",
      "The following object is masked from ‘package:purrr’:\n",
      "\n",
      "    transpose\n",
      "\n",
      "\n"
     ]
    }
   ],
   "source": [
    "setwd(\"/mnt/c/Users/Cedric/Desktop/git_repos/blood_microbiome\")\n",
    "require(foreach)\n",
    "require(tidyverse)\n",
    "require(ggplot2)\n",
    "require(data.table)"
   ]
  },
  {
   "cell_type": "code",
   "execution_count": 3,
   "id": "bf0b423d",
   "metadata": {},
   "outputs": [],
   "source": [
    "load_data <- function(file_path) {\n",
    "    df <- as.data.frame(fread(file_path)) %>%\n",
    "        separate(sample, into = c(NA, \"npm_research_id\"), sep = \"\\\\.\")\n",
    "    return(df)\n",
    "}\n",
    "\n",
    "\n",
    "load_metadata <- function(file_path, df) {\n",
    "    meta <- fread(file_path, na.strings=c(\"\", NA))\n",
    "    meta <- meta %>% \n",
    "        filter(npm_research_id %in% df$npm_research_id) %>%\n",
    "        select(-removal_requested_by_supplier) %>%\n",
    "        replace(is.na(.), \"unknown\")\n",
    "    return(meta)\n",
    "}\n",
    "\n",
    "\n",
    "subset_metadata <- function(meta, n_subset) {\n",
    "    meta <- as.data.frame(meta)\n",
    "    cohorts <- unique(meta$site_supplying_sample)\n",
    "    subset_vec <- c()\n",
    "\n",
    "    for (i in cohorts) {\n",
    "        ids <- meta$npm_research_id[meta$site_supplying_sample == i]\n",
    "        \n",
    "        if (length(ids) > n_subset) {\n",
    "            subset_ids <- sample(ids, n_subset)\n",
    "            subset_vec <- c(subset_vec, subset_ids)\n",
    "        } else {\n",
    "            subset_vec <- c(subset_vec, ids)\n",
    "        }\n",
    "    }\n",
    "\n",
    "    meta_sub <- meta %>%\n",
    "      filter(npm_research_id %in% subset_vec) \n",
    "    return(meta_sub)\n",
    "}\n",
    "\n",
    "\n",
    "retrieve_rows_from_meta <- function(df, meta) {\n",
    "    return(df %>% filter(npm_research_id %in% meta$npm_research_id)) \n",
    "}\n",
    "\n",
    "\n",
    "remove_cols <- function(df, col_to_exclude) {\n",
    "    return(df %>% select(-all_of(col_to_exclude)))\n",
    "}\n",
    "\n",
    "\n",
    "remove_low_freq_taxa <- function(df, frac_presence) {\n",
    "    n_original <- ncol(df[, colnames(df) != \"npm_research_id\"])\n",
    "    PA_df <- apply(df[, 2:ncol(df)], 2, function(x) {ifelse(x > 0, T, F)})\n",
    "    frac_df <- apply(PA_df, 2, function(x) {sum(x) / nrow(PA_df)})\n",
    "    to_keep <- names(frac_df[frac_df > frac_presence])\n",
    "    to_keep <- c(\"npm_research_id\", to_keep)\n",
    "    n_new <- length(to_keep) - 1\n",
    "    print(str_glue(\"{n_new} / {n_original} taxa are present in {frac_presence} of samples\"))\n",
    "    return(df %>% select(all_of(to_keep)))\n",
    "}\n",
    "\n",
    "\n",
    "otu_to_RA <- function(df) {\n",
    "    rownames(df) <- df$npm_research_id\n",
    "    RA_df <- t(apply(df[, colnames(df) != \"npm_research_id\"], 1, function(x) {x / sum(x)}))\n",
    "    \n",
    "    return(as.data.frame(RA_df))\n",
    "}\n",
    "\n",
    "\n",
    "get_meta_cols <- function(meta) {\n",
    "    meta_cols <- colnames(meta)[grep(\"kit|flow_cell|instrument_id|site_supplying\", colnames(meta))]\n",
    "    to_exclude <- c(\"library_prep_kit\", \"hiseq_xtm_flow_cell_v2_5_id\")\n",
    "    meta_cols <- meta_cols[!(meta_cols %in% to_exclude)]\n",
    "    return(meta_cols)\n",
    "}\n",
    "\n",
    "\n",
    "remove_low_read_samples <- function(df) {\n",
    "    to_retain <- fread(\"data/samples_above_10_reads.txt\")$npm_research_id\n",
    "    return(df %>% filter(npm_research_id %in% to_retain))\n",
    "}\n",
    "\n",
    "\n",
    "remove_empty_rows <- function(df) {\n",
    "    df_filt <- df %>% \n",
    "        rowwise(npm_research_id) %>% \n",
    "        mutate(total = sum(across(everything()))) %>%\n",
    "        filter(total != 0) %>%\n",
    "        select(-total)\n",
    "    \n",
    "    n_original <- nrow(df)\n",
    "    n_removed <- n_original - nrow(df_filt)\n",
    "    \n",
    "    print(str_glue(\"{n_removed}/{n_original} samples removed due to having no reads of interest\"))\n",
    "    \n",
    "    return(as.data.frame(df_filt))\n",
    "}"
   ]
  },
  {
   "cell_type": "code",
   "execution_count": 22,
   "id": "6c487d0d",
   "metadata": {},
   "outputs": [],
   "source": [
    "load_parse_RA <- function(n_subset, rank, human) {\n",
    "    # Load data\n",
    "    to_retain <- fread(\"data/samples_above_95_reads.txt\")$npm_research_id\n",
    "    df <- load_data(str_glue(\"data/temp_files_{n_subset}/07_abundance_matrix/abundance_matrix.subset_{n_subset}.{rank}.tsv\")) %>% \n",
    "        filter(npm_research_id %in% to_retain)\n",
    "    meta <- load_metadata(\"data/SG10K_Health_metadata.n10714.16March2021.parsed.csv\", df)\n",
    "    \n",
    "    # Filter data\n",
    "    df_filt <- retrieve_rows_from_meta(df, meta)\n",
    "    df_filt2 <- remove_cols(df_filt, c(human, \"unclassified\"))\n",
    "    df_filt3 <- remove_low_freq_taxa(df_filt2, frac_presence = 0.05)\n",
    "    df_filt4 <- remove_empty_rows(df_filt3)\n",
    "    print(ncol(df_filt4))\n",
    "    RA_df <- otu_to_RA(df_filt4) %>% rownames_to_column(\"npm_research_id\")\n",
    "    \n",
    "    return(RA_df %>% left_join(meta))\n",
    "}"
   ]
  },
  {
   "cell_type": "code",
   "execution_count": 23,
   "id": "b33c0dee",
   "metadata": {},
   "outputs": [
    {
     "name": "stdout",
     "output_type": "stream",
     "text": [
      "1792 / 5199 taxa are present in 0.05 of samples\n",
      "0/8728 samples removed due to having no reads of interest\n",
      "[1] 1793\n"
     ]
    },
    {
     "name": "stderr",
     "output_type": "stream",
     "text": [
      "Joining, by = \"npm_research_id\"\n",
      "\n"
     ]
    },
    {
     "name": "stdout",
     "output_type": "stream",
     "text": [
      "612 / 1492 taxa are present in 0.05 of samples\n",
      "0/8728 samples removed due to having no reads of interest\n",
      "[1] 613\n"
     ]
    },
    {
     "name": "stderr",
     "output_type": "stream",
     "text": [
      "Joining, by = \"npm_research_id\"\n",
      "\n"
     ]
    }
   ],
   "source": [
    "species <- load_parse_RA(9999, \"S\", \"Homo sapiens\")\n",
    "genus <- load_parse_RA(9999, \"G\", \"Homo\")"
   ]
  },
  {
   "cell_type": "code",
   "execution_count": 24,
   "id": "59affb8e",
   "metadata": {},
   "outputs": [
    {
     "data": {
      "text/html": [
       "TRUE"
      ],
      "text/latex": [
       "TRUE"
      ],
      "text/markdown": [
       "TRUE"
      ],
      "text/plain": [
       "[1] TRUE"
      ]
     },
     "metadata": {},
     "output_type": "display_data"
    }
   ],
   "source": [
    "n_samples <- nrow(species_RA)\n",
    "n_samples == nrow(species_RA)\n",
    "fwrite(species, str_glue(\"data/temp_files_9999/07_abundance_matrix/species_RA.n{n_samples}.csv\"))\n",
    "fwrite(genus, str_glue(\"data/temp_files_9999/07_abundance_matrix/genus_RA.n{n_samples}.csv\"))"
   ]
  }
 ],
 "metadata": {
  "kernelspec": {
   "display_name": "R",
   "language": "R",
   "name": "ir"
  },
  "language_info": {
   "codemirror_mode": "r",
   "file_extension": ".r",
   "mimetype": "text/x-r-source",
   "name": "R",
   "pygments_lexer": "r",
   "version": "4.1.0"
  }
 },
 "nbformat": 4,
 "nbformat_minor": 5
}
