{
 "cells": [
  {
   "cell_type": "code",
   "execution_count": 61,
   "id": "5320e4cc",
   "metadata": {
    "scrolled": true
   },
   "outputs": [],
   "source": [
    "setwd(\"/home/projects/14001280/PROJECTS/blood_microbiome/data\")\n",
    "require(tidyverse)\n",
    "require(ggplot2)\n",
    "require(data.table)"
   ]
  },
  {
   "cell_type": "markdown",
   "id": "63fbef82",
   "metadata": {},
   "source": [
    "### Load metadata"
   ]
  },
  {
   "cell_type": "code",
   "execution_count": 62,
   "id": "d66f55ea",
   "metadata": {
    "scrolled": false
   },
   "outputs": [
    {
     "name": "stderr",
     "output_type": "stream",
     "text": [
      "Warning message in fread(\"SG10K_Health_metadata.n10714.16March2021.txt\", na.strings = c(\"\", :\n",
      "“Detected 75 column names but the data has 71 columns. Filling rows automatically. Set fill=TRUE explicitly to avoid this warning.”\n"
     ]
    },
    {
     "data": {
      "text/html": [
       "<table class=\"dataframe\">\n",
       "<caption>A data.table: 6 × 71</caption>\n",
       "<thead>\n",
       "\t<tr><th scope=col>NPM Research ID</th><th scope=col>Multiplex Pool ID</th><th scope=col>Supplier ID</th><th scope=col>GIS Internal Sample ID</th><th scope=col>Site Supplying Sample</th><th scope=col>Year Of Birth</th><th scope=col>Supplied Gender</th><th scope=col>Self Reported Ethnicity</th><th scope=col>Extraction Kit</th><th scope=col>Date Of DNA Extraction</th><th scope=col>⋯</th><th scope=col>Supplied And Computed Gender Match</th><th scope=col>SOP Agreement For Coverage &lt;14/&lt;28 For 15x/30x</th><th scope=col>Sample Life Cycle</th><th scope=col>Current</th><th scope=col>Source Cohort</th><th scope=col>Original_supplier_ID</th><th scope=col>duplicate_info</th><th scope=col>duplicate</th><th scope=col>duplicate_pair</th><th scope=col>removal-requested-by-supplier</th></tr>\n",
       "\t<tr><th scope=col>&lt;chr&gt;</th><th scope=col>&lt;chr&gt;</th><th scope=col>&lt;chr&gt;</th><th scope=col>&lt;chr&gt;</th><th scope=col>&lt;chr&gt;</th><th scope=col>&lt;int&gt;</th><th scope=col>&lt;chr&gt;</th><th scope=col>&lt;chr&gt;</th><th scope=col>&lt;chr&gt;</th><th scope=col>&lt;chr&gt;</th><th scope=col>⋯</th><th scope=col>&lt;chr&gt;</th><th scope=col>&lt;chr&gt;</th><th scope=col>&lt;chr&gt;</th><th scope=col>&lt;chr&gt;</th><th scope=col>&lt;chr&gt;</th><th scope=col>&lt;chr&gt;</th><th scope=col>&lt;chr&gt;</th><th scope=col>&lt;chr&gt;</th><th scope=col>&lt;chr&gt;</th><th scope=col>&lt;chr&gt;</th></tr>\n",
       "</thead>\n",
       "<tbody>\n",
       "\t<tr><td>FAILED00365</td><td>Unknown</td><td>00365</td><td>HELIOS_00365_1</td><td>HELIOS</td><td>1954</td><td>M</td><td>Chinese</td><td>abGENIX Whole Blood Genomic DNA Extraction Kit</td><td>6/6/2019 </td><td>⋯</td><td>Unknown</td><td>Unknown</td><td>HELIOS REG</td><td>N</td><td>HELIOS</td><td>00365</td><td>Unknown</td><td>Unknown</td><td>Unknown</td><td>Unknown</td></tr>\n",
       "\t<tr><td>FAILED01615</td><td>Unknown</td><td>01615</td><td>HELIOS_01615_2</td><td>HELIOS</td><td>1956</td><td>F</td><td>Chinese</td><td>abGENIX Whole Blood Genomic DNA Extraction Kit</td><td>20/1/2019</td><td>⋯</td><td>Unknown</td><td>Unknown</td><td>HELIOS REG</td><td>N</td><td>HELIOS</td><td>01615</td><td>Unknown</td><td>Unknown</td><td>Unknown</td><td>Unknown</td></tr>\n",
       "\t<tr><td>FAILED01688</td><td>Unknown</td><td>01688</td><td>HELIOS_01688_2</td><td>HELIOS</td><td>1952</td><td>F</td><td>Others </td><td>abGENIX Whole Blood Genomic DNA Extraction Kit</td><td>20/1/2019</td><td>⋯</td><td>Unknown</td><td>Unknown</td><td>HELIOS REG</td><td>N</td><td>HELIOS</td><td>01688</td><td>Unknown</td><td>Unknown</td><td>Unknown</td><td>Unknown</td></tr>\n",
       "\t<tr><td>FAILED01750</td><td>Unknown</td><td>01750</td><td>HELIOS_01750_1</td><td>HELIOS</td><td>1957</td><td>F</td><td>Chinese</td><td>abGENIX Whole Blood Genomic DNA Extraction Kit</td><td>13/2/2019</td><td>⋯</td><td>Unknown</td><td>Unknown</td><td>HELIOS REG</td><td>N</td><td>HELIOS</td><td>01750</td><td>Unknown</td><td>Unknown</td><td>Unknown</td><td>Unknown</td></tr>\n",
       "\t<tr><td>FAILED01799</td><td>Unknown</td><td>01799</td><td>HELIOS_01799_1</td><td>HELIOS</td><td>1948</td><td>F</td><td>Chinese</td><td>abGENIX Whole Blood Genomic DNA Extraction Kit</td><td>13/2/2019</td><td>⋯</td><td>Unknown</td><td>Unknown</td><td>HELIOS REG</td><td>N</td><td>HELIOS</td><td>01799</td><td>Unknown</td><td>Unknown</td><td>Unknown</td><td>Unknown</td></tr>\n",
       "\t<tr><td>FAILED02755</td><td>Unknown</td><td>02755</td><td>HELIOS_02755_1</td><td>HELIOS</td><td>1951</td><td>F</td><td>Chinese</td><td>abGENIX Whole Blood Genomic DNA Extraction Kit</td><td>30/5/2019</td><td>⋯</td><td>Unknown</td><td>Unknown</td><td>HELIOS REG</td><td>N</td><td>HELIOS</td><td>02755</td><td>Unknown</td><td>Unknown</td><td>Unknown</td><td>Unknown</td></tr>\n",
       "</tbody>\n",
       "</table>\n"
      ],
      "text/latex": [
       "A data.table: 6 × 71\n",
       "\\begin{tabular}{lllllllllllllllllllll}\n",
       " NPM Research ID & Multiplex Pool ID & Supplier ID & GIS Internal Sample ID & Site Supplying Sample & Year Of Birth & Supplied Gender & Self Reported Ethnicity & Extraction Kit & Date Of DNA Extraction & ⋯ & Supplied And Computed Gender Match & SOP Agreement For Coverage <14/<28 For 15x/30x & Sample Life Cycle & Current & Source Cohort & Original\\_supplier\\_ID & duplicate\\_info & duplicate & duplicate\\_pair & removal-requested-by-supplier\\\\\n",
       " <chr> & <chr> & <chr> & <chr> & <chr> & <int> & <chr> & <chr> & <chr> & <chr> & ⋯ & <chr> & <chr> & <chr> & <chr> & <chr> & <chr> & <chr> & <chr> & <chr> & <chr>\\\\\n",
       "\\hline\n",
       "\t FAILED00365 & Unknown & 00365 & HELIOS\\_00365\\_1 & HELIOS & 1954 & M & Chinese & abGENIX Whole Blood Genomic DNA Extraction Kit & 6/6/2019  & ⋯ & Unknown & Unknown & HELIOS REG & N & HELIOS & 00365 & Unknown & Unknown & Unknown & Unknown\\\\\n",
       "\t FAILED01615 & Unknown & 01615 & HELIOS\\_01615\\_2 & HELIOS & 1956 & F & Chinese & abGENIX Whole Blood Genomic DNA Extraction Kit & 20/1/2019 & ⋯ & Unknown & Unknown & HELIOS REG & N & HELIOS & 01615 & Unknown & Unknown & Unknown & Unknown\\\\\n",
       "\t FAILED01688 & Unknown & 01688 & HELIOS\\_01688\\_2 & HELIOS & 1952 & F & Others  & abGENIX Whole Blood Genomic DNA Extraction Kit & 20/1/2019 & ⋯ & Unknown & Unknown & HELIOS REG & N & HELIOS & 01688 & Unknown & Unknown & Unknown & Unknown\\\\\n",
       "\t FAILED01750 & Unknown & 01750 & HELIOS\\_01750\\_1 & HELIOS & 1957 & F & Chinese & abGENIX Whole Blood Genomic DNA Extraction Kit & 13/2/2019 & ⋯ & Unknown & Unknown & HELIOS REG & N & HELIOS & 01750 & Unknown & Unknown & Unknown & Unknown\\\\\n",
       "\t FAILED01799 & Unknown & 01799 & HELIOS\\_01799\\_1 & HELIOS & 1948 & F & Chinese & abGENIX Whole Blood Genomic DNA Extraction Kit & 13/2/2019 & ⋯ & Unknown & Unknown & HELIOS REG & N & HELIOS & 01799 & Unknown & Unknown & Unknown & Unknown\\\\\n",
       "\t FAILED02755 & Unknown & 02755 & HELIOS\\_02755\\_1 & HELIOS & 1951 & F & Chinese & abGENIX Whole Blood Genomic DNA Extraction Kit & 30/5/2019 & ⋯ & Unknown & Unknown & HELIOS REG & N & HELIOS & 02755 & Unknown & Unknown & Unknown & Unknown\\\\\n",
       "\\end{tabular}\n"
      ],
      "text/markdown": [
       "\n",
       "A data.table: 6 × 71\n",
       "\n",
       "| NPM Research ID &lt;chr&gt; | Multiplex Pool ID &lt;chr&gt; | Supplier ID &lt;chr&gt; | GIS Internal Sample ID &lt;chr&gt; | Site Supplying Sample &lt;chr&gt; | Year Of Birth &lt;int&gt; | Supplied Gender &lt;chr&gt; | Self Reported Ethnicity &lt;chr&gt; | Extraction Kit &lt;chr&gt; | Date Of DNA Extraction &lt;chr&gt; | ⋯ ⋯ | Supplied And Computed Gender Match &lt;chr&gt; | SOP Agreement For Coverage &lt;14/&lt;28 For 15x/30x &lt;chr&gt; | Sample Life Cycle &lt;chr&gt; | Current &lt;chr&gt; | Source Cohort &lt;chr&gt; | Original_supplier_ID &lt;chr&gt; | duplicate_info &lt;chr&gt; | duplicate &lt;chr&gt; | duplicate_pair &lt;chr&gt; | removal-requested-by-supplier &lt;chr&gt; |\n",
       "|---|---|---|---|---|---|---|---|---|---|---|---|---|---|---|---|---|---|---|---|---|\n",
       "| FAILED00365 | Unknown | 00365 | HELIOS_00365_1 | HELIOS | 1954 | M | Chinese | abGENIX Whole Blood Genomic DNA Extraction Kit | 6/6/2019  | ⋯ | Unknown | Unknown | HELIOS REG | N | HELIOS | 00365 | Unknown | Unknown | Unknown | Unknown |\n",
       "| FAILED01615 | Unknown | 01615 | HELIOS_01615_2 | HELIOS | 1956 | F | Chinese | abGENIX Whole Blood Genomic DNA Extraction Kit | 20/1/2019 | ⋯ | Unknown | Unknown | HELIOS REG | N | HELIOS | 01615 | Unknown | Unknown | Unknown | Unknown |\n",
       "| FAILED01688 | Unknown | 01688 | HELIOS_01688_2 | HELIOS | 1952 | F | Others  | abGENIX Whole Blood Genomic DNA Extraction Kit | 20/1/2019 | ⋯ | Unknown | Unknown | HELIOS REG | N | HELIOS | 01688 | Unknown | Unknown | Unknown | Unknown |\n",
       "| FAILED01750 | Unknown | 01750 | HELIOS_01750_1 | HELIOS | 1957 | F | Chinese | abGENIX Whole Blood Genomic DNA Extraction Kit | 13/2/2019 | ⋯ | Unknown | Unknown | HELIOS REG | N | HELIOS | 01750 | Unknown | Unknown | Unknown | Unknown |\n",
       "| FAILED01799 | Unknown | 01799 | HELIOS_01799_1 | HELIOS | 1948 | F | Chinese | abGENIX Whole Blood Genomic DNA Extraction Kit | 13/2/2019 | ⋯ | Unknown | Unknown | HELIOS REG | N | HELIOS | 01799 | Unknown | Unknown | Unknown | Unknown |\n",
       "| FAILED02755 | Unknown | 02755 | HELIOS_02755_1 | HELIOS | 1951 | F | Chinese | abGENIX Whole Blood Genomic DNA Extraction Kit | 30/5/2019 | ⋯ | Unknown | Unknown | HELIOS REG | N | HELIOS | 02755 | Unknown | Unknown | Unknown | Unknown |\n",
       "\n"
      ],
      "text/plain": [
       "  NPM Research ID Multiplex Pool ID Supplier ID GIS Internal Sample ID\n",
       "1 FAILED00365     Unknown           00365       HELIOS_00365_1        \n",
       "2 FAILED01615     Unknown           01615       HELIOS_01615_2        \n",
       "3 FAILED01688     Unknown           01688       HELIOS_01688_2        \n",
       "4 FAILED01750     Unknown           01750       HELIOS_01750_1        \n",
       "5 FAILED01799     Unknown           01799       HELIOS_01799_1        \n",
       "6 FAILED02755     Unknown           02755       HELIOS_02755_1        \n",
       "  Site Supplying Sample Year Of Birth Supplied Gender Self Reported Ethnicity\n",
       "1 HELIOS                1954          M               Chinese                \n",
       "2 HELIOS                1956          F               Chinese                \n",
       "3 HELIOS                1952          F               Others                 \n",
       "4 HELIOS                1957          F               Chinese                \n",
       "5 HELIOS                1948          F               Chinese                \n",
       "6 HELIOS                1951          F               Chinese                \n",
       "  Extraction Kit                                 Date Of DNA Extraction ⋯\n",
       "1 abGENIX Whole Blood Genomic DNA Extraction Kit 6/6/2019               ⋯\n",
       "2 abGENIX Whole Blood Genomic DNA Extraction Kit 20/1/2019              ⋯\n",
       "3 abGENIX Whole Blood Genomic DNA Extraction Kit 20/1/2019              ⋯\n",
       "4 abGENIX Whole Blood Genomic DNA Extraction Kit 13/2/2019              ⋯\n",
       "5 abGENIX Whole Blood Genomic DNA Extraction Kit 13/2/2019              ⋯\n",
       "6 abGENIX Whole Blood Genomic DNA Extraction Kit 30/5/2019              ⋯\n",
       "  Supplied And Computed Gender Match\n",
       "1 Unknown                           \n",
       "2 Unknown                           \n",
       "3 Unknown                           \n",
       "4 Unknown                           \n",
       "5 Unknown                           \n",
       "6 Unknown                           \n",
       "  SOP Agreement For Coverage <14/<28 For 15x/30x Sample Life Cycle Current\n",
       "1 Unknown                                        HELIOS REG        N      \n",
       "2 Unknown                                        HELIOS REG        N      \n",
       "3 Unknown                                        HELIOS REG        N      \n",
       "4 Unknown                                        HELIOS REG        N      \n",
       "5 Unknown                                        HELIOS REG        N      \n",
       "6 Unknown                                        HELIOS REG        N      \n",
       "  Source Cohort Original_supplier_ID duplicate_info duplicate duplicate_pair\n",
       "1 HELIOS        00365                Unknown        Unknown   Unknown       \n",
       "2 HELIOS        01615                Unknown        Unknown   Unknown       \n",
       "3 HELIOS        01688                Unknown        Unknown   Unknown       \n",
       "4 HELIOS        01750                Unknown        Unknown   Unknown       \n",
       "5 HELIOS        01799                Unknown        Unknown   Unknown       \n",
       "6 HELIOS        02755                Unknown        Unknown   Unknown       \n",
       "  removal-requested-by-supplier\n",
       "1 Unknown                      \n",
       "2 Unknown                      \n",
       "3 Unknown                      \n",
       "4 Unknown                      \n",
       "5 Unknown                      \n",
       "6 Unknown                      "
      ]
     },
     "metadata": {},
     "output_type": "display_data"
    },
    {
     "data": {
      "text/html": [
       "<style>\n",
       ".list-inline {list-style: none; margin:0; padding: 0}\n",
       ".list-inline>li {display: inline-block}\n",
       ".list-inline>li:not(:last-child)::after {content: \"\\00b7\"; padding: 0 .5ex}\n",
       "</style>\n",
       "<ol class=list-inline><li>'0115-0043'</li><li>'0115-0044'</li><li>'0116-0004'</li><li>'0116-0006'</li><li>'0116-0022'</li><li>'0116-0032'</li></ol>\n"
      ],
      "text/latex": [
       "\\begin{enumerate*}\n",
       "\\item '0115-0043'\n",
       "\\item '0115-0044'\n",
       "\\item '0116-0004'\n",
       "\\item '0116-0006'\n",
       "\\item '0116-0022'\n",
       "\\item '0116-0032'\n",
       "\\end{enumerate*}\n"
      ],
      "text/markdown": [
       "1. '0115-0043'\n",
       "2. '0115-0044'\n",
       "3. '0116-0004'\n",
       "4. '0116-0006'\n",
       "5. '0116-0022'\n",
       "6. '0116-0032'\n",
       "\n",
       "\n"
      ],
      "text/plain": [
       "[1] \"0115-0043\" \"0115-0044\" \"0116-0004\" \"0116-0006\" \"0116-0022\" \"0116-0032\""
      ]
     },
     "metadata": {},
     "output_type": "display_data"
    }
   ],
   "source": [
    "# Raw metadata\n",
    "meta <- fread(\"SG10K_Health_metadata.n10714.16March2021.txt\", na.strings=c(\"\", NA)) %>%\n",
    "    select(-\"Supplied And Computed Ethinicity Match\", -\"Cohorts Joint-called Together\", -\"JVCF Size\", -\"Cohort JVCF Data Capacity\") %>%\n",
    "    replace(is.na(.), \"Unknown\")\n",
    "\n",
    "# List of r3 samples\n",
    "meta2 <- fread(\"SG10K_Health_r5.3.n9770.sample_ids.txt\", header = F)$V1\n",
    "\n",
    "head(meta)\n",
    "head(meta2)"
   ]
  },
  {
   "cell_type": "markdown",
   "id": "1076790d",
   "metadata": {},
   "source": [
    "### Parse column names"
   ]
  },
  {
   "cell_type": "code",
   "execution_count": 63,
   "id": "16d53df0",
   "metadata": {},
   "outputs": [
    {
     "data": {
      "text/html": [
       "<style>\n",
       ".list-inline {list-style: none; margin:0; padding: 0}\n",
       ".list-inline>li {display: inline-block}\n",
       ".list-inline>li:not(:last-child)::after {content: \"\\00b7\"; padding: 0 .5ex}\n",
       "</style>\n",
       "<ol class=list-inline><li>'npm_research_id'</li><li>'multiplex_pool_id'</li><li>'supplier_id'</li><li>'gis_internal_sample_id'</li><li>'site_supplying_sample'</li><li>'year_of_birth'</li><li>'supplied_gender'</li><li>'self_reported_ethnicity'</li><li>'extraction_kit'</li><li>'date_of_dna_extraction'</li><li>'plate_position'</li><li>'plate_name'</li><li>'version_of_consent_form_signed'</li><li>'sequencing_depth'</li><li>'npm_research_id_created_by_username'</li><li>'npm_research_id_creation_date'</li><li>'comments_entered_when_npm_research_id_created'</li><li>'description_entered_when_npm_research_id_created'</li><li>'elm_project_id'</li><li>'elm_project_title'</li><li>'elm_project_pi'</li><li>'species_of_sample_sequenced'</li><li>'tehcnique_for_sequencing'</li><li>'tissue_type_sequenced'</li><li>'library_found_in_sequencing_run_id'</li><li>'library_found_in_passed_sequencing_run_id'</li><li>'vendor_sequencing_centre'</li><li>'dna_sample_passed_qc'</li><li>'library_prep_kit'</li><li>'run_id'</li><li>'instrument_id'</li><li>'instrument_serial_number'</li><li>'hiseq_xtm_sbs_kit_300_cycles_v2__box_1of_2__lot'</li><li>'hiseq_xtm_sbs_kit_300_cycles_v2__box_2_of_2__lot'</li><li>'hiseq_xtm_pe_cluster_kit_cbottm_v2__box_1_of_2__lot'</li><li>'hiseq_xtm_pe_cluster_kit_cbottm_v2__box_2_of_2__lot'</li><li>'hiseq_xtm_flow_cell_v2_5_lot'</li><li>'hiseq_xtm_flow_cell_v2_5_id'</li><li>'sequence_based_gender'</li><li>'cram_files_location'</li><li>'estimate_of_sequence_coverage'</li><li>'contamination_rate_of_chinese_genome'</li><li>'contamination_rate_of_indian_genome'</li><li>'contamination_rate_of_malaysian_genome'</li><li>'average_coverage_depth'</li><li>'fb_variants'</li><li>'cram_filesize__mb_'</li><li>'error_rate'</li><li>'fb_vcf_filesize__mb_'</li><li>'gvcf_filesize__mb_'</li><li>'insert_size_average'</li><li>'insert_size_standard_deviation'</li><li>'raw_total_sequences'</li><li>'reads_duplicated____'</li><li>'reads_properly_paired____'</li><li>'fastq_file_size'</li><li>'data_timestamp_for_fastq_file'</li><li>'sequencing_analysis_pipeline'</li><li>'library_archived_at_nscc'</li><li>'gvcf_file_available'</li><li>'sequencing_complete'</li><li>'supplied_and_computed_gender_match'</li><li>'sop_agreement_for_coverage__14/_28_for_15x/30x'</li><li>'sample_life_cycle'</li><li>'current'</li><li>'source_cohort'</li><li>'original_supplier_id'</li><li>'duplicate_info'</li><li>'duplicate'</li><li>'duplicate_pair'</li><li>'removal_requested_by_supplier'</li></ol>\n"
      ],
      "text/latex": [
       "\\begin{enumerate*}\n",
       "\\item 'npm\\_research\\_id'\n",
       "\\item 'multiplex\\_pool\\_id'\n",
       "\\item 'supplier\\_id'\n",
       "\\item 'gis\\_internal\\_sample\\_id'\n",
       "\\item 'site\\_supplying\\_sample'\n",
       "\\item 'year\\_of\\_birth'\n",
       "\\item 'supplied\\_gender'\n",
       "\\item 'self\\_reported\\_ethnicity'\n",
       "\\item 'extraction\\_kit'\n",
       "\\item 'date\\_of\\_dna\\_extraction'\n",
       "\\item 'plate\\_position'\n",
       "\\item 'plate\\_name'\n",
       "\\item 'version\\_of\\_consent\\_form\\_signed'\n",
       "\\item 'sequencing\\_depth'\n",
       "\\item 'npm\\_research\\_id\\_created\\_by\\_username'\n",
       "\\item 'npm\\_research\\_id\\_creation\\_date'\n",
       "\\item 'comments\\_entered\\_when\\_npm\\_research\\_id\\_created'\n",
       "\\item 'description\\_entered\\_when\\_npm\\_research\\_id\\_created'\n",
       "\\item 'elm\\_project\\_id'\n",
       "\\item 'elm\\_project\\_title'\n",
       "\\item 'elm\\_project\\_pi'\n",
       "\\item 'species\\_of\\_sample\\_sequenced'\n",
       "\\item 'tehcnique\\_for\\_sequencing'\n",
       "\\item 'tissue\\_type\\_sequenced'\n",
       "\\item 'library\\_found\\_in\\_sequencing\\_run\\_id'\n",
       "\\item 'library\\_found\\_in\\_passed\\_sequencing\\_run\\_id'\n",
       "\\item 'vendor\\_sequencing\\_centre'\n",
       "\\item 'dna\\_sample\\_passed\\_qc'\n",
       "\\item 'library\\_prep\\_kit'\n",
       "\\item 'run\\_id'\n",
       "\\item 'instrument\\_id'\n",
       "\\item 'instrument\\_serial\\_number'\n",
       "\\item 'hiseq\\_xtm\\_sbs\\_kit\\_300\\_cycles\\_v2\\_\\_box\\_1of\\_2\\_\\_lot'\n",
       "\\item 'hiseq\\_xtm\\_sbs\\_kit\\_300\\_cycles\\_v2\\_\\_box\\_2\\_of\\_2\\_\\_lot'\n",
       "\\item 'hiseq\\_xtm\\_pe\\_cluster\\_kit\\_cbottm\\_v2\\_\\_box\\_1\\_of\\_2\\_\\_lot'\n",
       "\\item 'hiseq\\_xtm\\_pe\\_cluster\\_kit\\_cbottm\\_v2\\_\\_box\\_2\\_of\\_2\\_\\_lot'\n",
       "\\item 'hiseq\\_xtm\\_flow\\_cell\\_v2\\_5\\_lot'\n",
       "\\item 'hiseq\\_xtm\\_flow\\_cell\\_v2\\_5\\_id'\n",
       "\\item 'sequence\\_based\\_gender'\n",
       "\\item 'cram\\_files\\_location'\n",
       "\\item 'estimate\\_of\\_sequence\\_coverage'\n",
       "\\item 'contamination\\_rate\\_of\\_chinese\\_genome'\n",
       "\\item 'contamination\\_rate\\_of\\_indian\\_genome'\n",
       "\\item 'contamination\\_rate\\_of\\_malaysian\\_genome'\n",
       "\\item 'average\\_coverage\\_depth'\n",
       "\\item 'fb\\_variants'\n",
       "\\item 'cram\\_filesize\\_\\_mb\\_'\n",
       "\\item 'error\\_rate'\n",
       "\\item 'fb\\_vcf\\_filesize\\_\\_mb\\_'\n",
       "\\item 'gvcf\\_filesize\\_\\_mb\\_'\n",
       "\\item 'insert\\_size\\_average'\n",
       "\\item 'insert\\_size\\_standard\\_deviation'\n",
       "\\item 'raw\\_total\\_sequences'\n",
       "\\item 'reads\\_duplicated\\_\\_\\_\\_'\n",
       "\\item 'reads\\_properly\\_paired\\_\\_\\_\\_'\n",
       "\\item 'fastq\\_file\\_size'\n",
       "\\item 'data\\_timestamp\\_for\\_fastq\\_file'\n",
       "\\item 'sequencing\\_analysis\\_pipeline'\n",
       "\\item 'library\\_archived\\_at\\_nscc'\n",
       "\\item 'gvcf\\_file\\_available'\n",
       "\\item 'sequencing\\_complete'\n",
       "\\item 'supplied\\_and\\_computed\\_gender\\_match'\n",
       "\\item 'sop\\_agreement\\_for\\_coverage\\_\\_14/\\_28\\_for\\_15x/30x'\n",
       "\\item 'sample\\_life\\_cycle'\n",
       "\\item 'current'\n",
       "\\item 'source\\_cohort'\n",
       "\\item 'original\\_supplier\\_id'\n",
       "\\item 'duplicate\\_info'\n",
       "\\item 'duplicate'\n",
       "\\item 'duplicate\\_pair'\n",
       "\\item 'removal\\_requested\\_by\\_supplier'\n",
       "\\end{enumerate*}\n"
      ],
      "text/markdown": [
       "1. 'npm_research_id'\n",
       "2. 'multiplex_pool_id'\n",
       "3. 'supplier_id'\n",
       "4. 'gis_internal_sample_id'\n",
       "5. 'site_supplying_sample'\n",
       "6. 'year_of_birth'\n",
       "7. 'supplied_gender'\n",
       "8. 'self_reported_ethnicity'\n",
       "9. 'extraction_kit'\n",
       "10. 'date_of_dna_extraction'\n",
       "11. 'plate_position'\n",
       "12. 'plate_name'\n",
       "13. 'version_of_consent_form_signed'\n",
       "14. 'sequencing_depth'\n",
       "15. 'npm_research_id_created_by_username'\n",
       "16. 'npm_research_id_creation_date'\n",
       "17. 'comments_entered_when_npm_research_id_created'\n",
       "18. 'description_entered_when_npm_research_id_created'\n",
       "19. 'elm_project_id'\n",
       "20. 'elm_project_title'\n",
       "21. 'elm_project_pi'\n",
       "22. 'species_of_sample_sequenced'\n",
       "23. 'tehcnique_for_sequencing'\n",
       "24. 'tissue_type_sequenced'\n",
       "25. 'library_found_in_sequencing_run_id'\n",
       "26. 'library_found_in_passed_sequencing_run_id'\n",
       "27. 'vendor_sequencing_centre'\n",
       "28. 'dna_sample_passed_qc'\n",
       "29. 'library_prep_kit'\n",
       "30. 'run_id'\n",
       "31. 'instrument_id'\n",
       "32. 'instrument_serial_number'\n",
       "33. 'hiseq_xtm_sbs_kit_300_cycles_v2__box_1of_2__lot'\n",
       "34. 'hiseq_xtm_sbs_kit_300_cycles_v2__box_2_of_2__lot'\n",
       "35. 'hiseq_xtm_pe_cluster_kit_cbottm_v2__box_1_of_2__lot'\n",
       "36. 'hiseq_xtm_pe_cluster_kit_cbottm_v2__box_2_of_2__lot'\n",
       "37. 'hiseq_xtm_flow_cell_v2_5_lot'\n",
       "38. 'hiseq_xtm_flow_cell_v2_5_id'\n",
       "39. 'sequence_based_gender'\n",
       "40. 'cram_files_location'\n",
       "41. 'estimate_of_sequence_coverage'\n",
       "42. 'contamination_rate_of_chinese_genome'\n",
       "43. 'contamination_rate_of_indian_genome'\n",
       "44. 'contamination_rate_of_malaysian_genome'\n",
       "45. 'average_coverage_depth'\n",
       "46. 'fb_variants'\n",
       "47. 'cram_filesize__mb_'\n",
       "48. 'error_rate'\n",
       "49. 'fb_vcf_filesize__mb_'\n",
       "50. 'gvcf_filesize__mb_'\n",
       "51. 'insert_size_average'\n",
       "52. 'insert_size_standard_deviation'\n",
       "53. 'raw_total_sequences'\n",
       "54. 'reads_duplicated____'\n",
       "55. 'reads_properly_paired____'\n",
       "56. 'fastq_file_size'\n",
       "57. 'data_timestamp_for_fastq_file'\n",
       "58. 'sequencing_analysis_pipeline'\n",
       "59. 'library_archived_at_nscc'\n",
       "60. 'gvcf_file_available'\n",
       "61. 'sequencing_complete'\n",
       "62. 'supplied_and_computed_gender_match'\n",
       "63. 'sop_agreement_for_coverage__14/_28_for_15x/30x'\n",
       "64. 'sample_life_cycle'\n",
       "65. 'current'\n",
       "66. 'source_cohort'\n",
       "67. 'original_supplier_id'\n",
       "68. 'duplicate_info'\n",
       "69. 'duplicate'\n",
       "70. 'duplicate_pair'\n",
       "71. 'removal_requested_by_supplier'\n",
       "\n",
       "\n"
      ],
      "text/plain": [
       " [1] \"npm_research_id\"                                    \n",
       " [2] \"multiplex_pool_id\"                                  \n",
       " [3] \"supplier_id\"                                        \n",
       " [4] \"gis_internal_sample_id\"                             \n",
       " [5] \"site_supplying_sample\"                              \n",
       " [6] \"year_of_birth\"                                      \n",
       " [7] \"supplied_gender\"                                    \n",
       " [8] \"self_reported_ethnicity\"                            \n",
       " [9] \"extraction_kit\"                                     \n",
       "[10] \"date_of_dna_extraction\"                             \n",
       "[11] \"plate_position\"                                     \n",
       "[12] \"plate_name\"                                         \n",
       "[13] \"version_of_consent_form_signed\"                     \n",
       "[14] \"sequencing_depth\"                                   \n",
       "[15] \"npm_research_id_created_by_username\"                \n",
       "[16] \"npm_research_id_creation_date\"                      \n",
       "[17] \"comments_entered_when_npm_research_id_created\"      \n",
       "[18] \"description_entered_when_npm_research_id_created\"   \n",
       "[19] \"elm_project_id\"                                     \n",
       "[20] \"elm_project_title\"                                  \n",
       "[21] \"elm_project_pi\"                                     \n",
       "[22] \"species_of_sample_sequenced\"                        \n",
       "[23] \"tehcnique_for_sequencing\"                           \n",
       "[24] \"tissue_type_sequenced\"                              \n",
       "[25] \"library_found_in_sequencing_run_id\"                 \n",
       "[26] \"library_found_in_passed_sequencing_run_id\"          \n",
       "[27] \"vendor_sequencing_centre\"                           \n",
       "[28] \"dna_sample_passed_qc\"                               \n",
       "[29] \"library_prep_kit\"                                   \n",
       "[30] \"run_id\"                                             \n",
       "[31] \"instrument_id\"                                      \n",
       "[32] \"instrument_serial_number\"                           \n",
       "[33] \"hiseq_xtm_sbs_kit_300_cycles_v2__box_1of_2__lot\"    \n",
       "[34] \"hiseq_xtm_sbs_kit_300_cycles_v2__box_2_of_2__lot\"   \n",
       "[35] \"hiseq_xtm_pe_cluster_kit_cbottm_v2__box_1_of_2__lot\"\n",
       "[36] \"hiseq_xtm_pe_cluster_kit_cbottm_v2__box_2_of_2__lot\"\n",
       "[37] \"hiseq_xtm_flow_cell_v2_5_lot\"                       \n",
       "[38] \"hiseq_xtm_flow_cell_v2_5_id\"                        \n",
       "[39] \"sequence_based_gender\"                              \n",
       "[40] \"cram_files_location\"                                \n",
       "[41] \"estimate_of_sequence_coverage\"                      \n",
       "[42] \"contamination_rate_of_chinese_genome\"               \n",
       "[43] \"contamination_rate_of_indian_genome\"                \n",
       "[44] \"contamination_rate_of_malaysian_genome\"             \n",
       "[45] \"average_coverage_depth\"                             \n",
       "[46] \"fb_variants\"                                        \n",
       "[47] \"cram_filesize__mb_\"                                 \n",
       "[48] \"error_rate\"                                         \n",
       "[49] \"fb_vcf_filesize__mb_\"                               \n",
       "[50] \"gvcf_filesize__mb_\"                                 \n",
       "[51] \"insert_size_average\"                                \n",
       "[52] \"insert_size_standard_deviation\"                     \n",
       "[53] \"raw_total_sequences\"                                \n",
       "[54] \"reads_duplicated____\"                               \n",
       "[55] \"reads_properly_paired____\"                          \n",
       "[56] \"fastq_file_size\"                                    \n",
       "[57] \"data_timestamp_for_fastq_file\"                      \n",
       "[58] \"sequencing_analysis_pipeline\"                       \n",
       "[59] \"library_archived_at_nscc\"                           \n",
       "[60] \"gvcf_file_available\"                                \n",
       "[61] \"sequencing_complete\"                                \n",
       "[62] \"supplied_and_computed_gender_match\"                 \n",
       "[63] \"sop_agreement_for_coverage__14/_28_for_15x/30x\"     \n",
       "[64] \"sample_life_cycle\"                                  \n",
       "[65] \"current\"                                            \n",
       "[66] \"source_cohort\"                                      \n",
       "[67] \"original_supplier_id\"                               \n",
       "[68] \"duplicate_info\"                                     \n",
       "[69] \"duplicate\"                                          \n",
       "[70] \"duplicate_pair\"                                     \n",
       "[71] \"removal_requested_by_supplier\"                      "
      ]
     },
     "metadata": {},
     "output_type": "display_data"
    }
   ],
   "source": [
    "n <- gsub(\"[^0-9A-Za-z///' ]\", \" \", colnames(meta))\n",
    "n <- tolower(n)\n",
    "n <- gsub(\" \", \"_\", n)\n",
    "colnames(meta) <- n\n",
    "colnames(meta)"
   ]
  },
  {
   "cell_type": "markdown",
   "id": "71d5ae92",
   "metadata": {},
   "source": [
    "### Rename cohorts"
   ]
  },
  {
   "cell_type": "code",
   "execution_count": 65,
   "id": "44850a93",
   "metadata": {},
   "outputs": [],
   "source": [
    "meta <- meta %>% \n",
    "    mutate(site_supplying_sample = case_when(\n",
    "        site_supplying_sample == \"SEED\" ~ \"SERI\",\n",
    "        site_supplying_sample == \"GUSTO_Kids\" ~ \"GUSTO\",\n",
    "        site_supplying_sample == \"SE ASIAN\" ~ \"SSMP\",\n",
    "        TRUE ~ as.character(site_supplying_sample)))"
   ]
  },
  {
   "cell_type": "markdown",
   "id": "5bd1b3f4",
   "metadata": {},
   "source": [
    "### Recode directory names for SE ASIAN samples\n"
   ]
  },
  {
   "cell_type": "code",
   "execution_count": 66,
   "id": "bf26811f",
   "metadata": {},
   "outputs": [],
   "source": [
    "meta <- meta %>%\n",
    "    mutate(multiplex_pool_id = case_when(\n",
    "        grepl(\"SSM00\", npm_research_id) ~ \"SSMP_001_to_009\",\n",
    "        grepl(\"SSM01\", npm_research_id) ~ \"SSMP_010_to_019\",\n",
    "        grepl(\"SSM02\", npm_research_id) ~ \"SSMP_020_to_029\",\n",
    "        grepl(\"SSM03\", npm_research_id) ~ \"SSMP_030_to_039\",\n",
    "        grepl(\"SSM04\", npm_research_id) ~ \"SSMP_040_to_049\",\n",
    "        grepl(\"SSM05\", npm_research_id) ~ \"SSMP_050_to_059\",\n",
    "        grepl(\"SSM06\", npm_research_id) ~ \"SSMP_060_to_069\",\n",
    "        grepl(\"SSM07\", npm_research_id) ~ \"SSMP_070_to_079\",\n",
    "        grepl(\"SSM08\", npm_research_id) ~ \"SSMP_080_to_089\",\n",
    "        grepl(\"SSM09|SSM100\", npm_research_id) ~ \"SSMP_090_to_100\",\n",
    "        TRUE ~ as.character(multiplex_pool_id)))\n",
    "# test %>%\n",
    "#     select(site_supplying_sample, multiplex_pool_id, npm_research_id) %>%\n",
    "#     filter(site_supplying_sample == \"SSMP\")"
   ]
  },
  {
   "cell_type": "markdown",
   "id": "d335fbb4",
   "metadata": {},
   "source": [
    "## Add MUX name for PRISM top-ups"
   ]
  },
  {
   "cell_type": "code",
   "execution_count": 67,
   "id": "4e324a4c",
   "metadata": {},
   "outputs": [],
   "source": [
    "meta <- meta %>%\n",
    "    mutate(multiplex_pool_id = case_when(\n",
    "        grepl(\"\\\\-\", npm_research_id) ~ \"PRISM_topup\",\n",
    "        TRUE ~ as.character(multiplex_pool_id)))"
   ]
  },
  {
   "cell_type": "markdown",
   "id": "4882be7e",
   "metadata": {},
   "source": [
    "### Filter by r5.3 samples and remove duplicate samples"
   ]
  },
  {
   "cell_type": "code",
   "execution_count": 68,
   "id": "9e4d6542",
   "metadata": {},
   "outputs": [],
   "source": [
    "meta_filt <- meta %>% \n",
    "  filter(npm_research_id %in% meta2) %>% # Retain only r5.3 samples\n",
    "  replace(is.na(.), \"\") %>%\n",
    "  filter(duplicate_info != \"TRUE.DUPLICATE\") # Remove 64 duplicates\n",
    "\n",
    "fwrite(meta_filt, \"SG10K_Health_metadata.n10714.16March2021.parsed.csv\", row.names = F, sep = \",\", na = \"Unknown\")"
   ]
  },
  {
   "cell_type": "code",
   "execution_count": 69,
   "id": "dac99524",
   "metadata": {},
   "outputs": [
    {
     "data": {
      "text/html": [
       "<style>\n",
       ".list-inline {list-style: none; margin:0; padding: 0}\n",
       ".list-inline>li {display: inline-block}\n",
       ".list-inline>li:not(:last-child)::after {content: \"\\00b7\"; padding: 0 .5ex}\n",
       "</style>\n",
       "<ol class=list-inline><li>'NG004'</li><li>'NG005'</li><li>'NG002'</li><li>'NG001'</li><li>'NG003'</li><li>'Unknown'</li></ol>\n"
      ],
      "text/latex": [
       "\\begin{enumerate*}\n",
       "\\item 'NG004'\n",
       "\\item 'NG005'\n",
       "\\item 'NG002'\n",
       "\\item 'NG001'\n",
       "\\item 'NG003'\n",
       "\\item 'Unknown'\n",
       "\\end{enumerate*}\n"
      ],
      "text/markdown": [
       "1. 'NG004'\n",
       "2. 'NG005'\n",
       "3. 'NG002'\n",
       "4. 'NG001'\n",
       "5. 'NG003'\n",
       "6. 'Unknown'\n",
       "\n",
       "\n"
      ],
      "text/plain": [
       "[1] \"NG004\"   \"NG005\"   \"NG002\"   \"NG001\"   \"NG003\"   \"Unknown\""
      ]
     },
     "metadata": {},
     "output_type": "display_data"
    }
   ],
   "source": [
    "unique(meta_filt$instrument_id)"
   ]
  },
  {
   "cell_type": "markdown",
   "id": "9a75a838",
   "metadata": {},
   "source": [
    "### Retrieve random n samples per cohort"
   ]
  },
  {
   "cell_type": "code",
   "execution_count": 70,
   "id": "7e843fae",
   "metadata": {},
   "outputs": [],
   "source": [
    "n_subset <- 9999\n",
    "cohorts <- unique(meta_filt$site_supplying_sample)\n",
    "subset_vec <- c()\n",
    "\n",
    "for (i in cohorts) {\n",
    "    ids <- meta_filt$npm_research_id[meta_filt$site_supplying_sample == i]\n",
    "    if (length(ids) > n_subset) {\n",
    "        subset_ids <- sample(ids, n_subset)\n",
    "        subset_vec <- c(subset_vec, subset_ids)\n",
    "    } else {\n",
    "        subset_vec <- c(subset_vec, ids)\n",
    "    }\n",
    "}\n",
    "\n",
    "meta_sub <- meta_filt %>%\n",
    "  filter(npm_research_id %in% subset_vec) %>%\n",
    "  select(site_supplying_sample, multiplex_pool_id, npm_research_id)"
   ]
  },
  {
   "cell_type": "code",
   "execution_count": 71,
   "id": "4666efeb",
   "metadata": {},
   "outputs": [],
   "source": [
    "fwrite(meta_sub, paste0(\"subset_list_\", n_subset, \".csv\"), row.names = F, col.names = F, sep = \",\")"
   ]
  }
 ],
 "metadata": {
  "kernelspec": {
   "display_name": "R",
   "language": "R",
   "name": "ir"
  },
  "language_info": {
   "codemirror_mode": "r",
   "file_extension": ".r",
   "mimetype": "text/x-r-source",
   "name": "R",
   "pygments_lexer": "r",
   "version": "4.1.0"
  }
 },
 "nbformat": 4,
 "nbformat_minor": 5
}
